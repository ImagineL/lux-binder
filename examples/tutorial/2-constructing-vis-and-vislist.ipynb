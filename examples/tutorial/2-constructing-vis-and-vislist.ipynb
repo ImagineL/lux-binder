{
 "cells": [
  {
   "cell_type": "code",
   "execution_count": null,
   "metadata": {},
   "outputs": [],
   "source": [
    "import pandas as pd\n",
    "import lux\n",
    "\n",
    "df = pd.read_csv(\"../../lux/data/olympic.csv\")\n",
    "df[\"Year\"] = pd.to_datetime(df[\"Year\"], format='%Y') # change pandas dtype for the column \"Year\" to datetype"
   ]
  },
  {
   "cell_type": "markdown",
   "metadata": {},
   "source": [
    "# Specifying Visualizations"
   ]
  },
  {
   "cell_type": "markdown",
   "metadata": {},
   "source": [
    "Vis objects represents individual visualizations displayed in Lux. Lists of visualizations are stored as VisList objects. visualizations can either be automatically generated in Lux or defined by the user.\n"
   ]
  },
  {
   "cell_type": "code",
   "execution_count": null,
   "metadata": {},
   "outputs": [],
   "source": [
    "from lux.vis.Vis import Vis\n",
    "intent = [\"Weight\"]\n",
    "vis = Vis(intent,df)"
   ]
  },
  {
   "cell_type": "markdown",
   "metadata": {},
   "source": [
    "To render the visualization, we need to attach the vis to data via the `load` function."
   ]
  },
  {
   "cell_type": "code",
   "execution_count": null,
   "metadata": {},
   "outputs": [],
   "source": [
    "vis"
   ]
  },
  {
   "cell_type": "code",
   "execution_count": null,
   "metadata": {},
   "outputs": [],
   "source": [
    "vis.set_intent([\"\"])"
   ]
  },
  {
   "cell_type": "markdown",
   "metadata": {},
   "source": [
    "The decoupling of the vis and its associated data is useful for making quick comparisons. \n",
    "We can very easily swap out the vis's data without changing the vis definition, which is useful for comparing differences across different datasets with the same schema. For example, we might be interested in the same Weight distribution but plotted only on the subset of data with female athletes."
   ]
  },
  {
   "cell_type": "code",
   "execution_count": null,
   "metadata": {},
   "outputs": [],
   "source": [
    "vis.refresh_source(df[df[\"Sex\"]=='F'])\n",
    "vis"
   ]
  },
  {
   "cell_type": "code",
   "execution_count": null,
   "metadata": {},
   "outputs": [],
   "source": [
    "print(vis.to_Altair())"
   ]
  },
  {
   "cell_type": "code",
   "execution_count": null,
   "metadata": {},
   "outputs": [],
   "source": [
    "import altair as alt\n",
    "visData = pd.DataFrame({'Weight': {0: 34.9, 1: 44.7, 2: 54.5, 3: 64.30000000000001, 4: 74.1, 5: 83.9, 6: 93.70000000000002, 7: 103.5, 8: 113.30000000000001, 9: 123.1}, 'Count of Records': {0: 13.0, 1: 108.0, 2: 475.0, 3: 613.0, 4: 313.0, 5: 59.0, 6: 16.0, 7: 11.0, 8: 2.0, 9: 2.0}})\n",
    "\n",
    "chart = alt.Chart(visData).mark_bar(size=7.957894736842105).encode(\n",
    "    alt.X('Weight', title='Weight (binned)',bin=alt.Bin(binned=True), type='quantitative', axis=alt.Axis(labelOverlap=True), scale=alt.Scale(domain=(30.0, 163.0))),\n",
    "    alt.Y(\"Count of Records\", type=\"quantitative\")\n",
    ")\n",
    "chart = chart.configure_title(fontWeight=500,fontSize=13,font='Helvetica Neue')\n",
    "chart = chart.configure_axis(titleFontWeight=500,titleFontSize=11,titleFont='Helvetica Neue',\n",
    "\t\t\tlabelFontWeight=400,labelFontSize=8,labelFont='Helvetica Neue',labelColor='#505050')\n",
    "chart = chart.configure_legend(titleFontWeight=500,titleFontSize=10,titleFont='Helvetica Neue',\n",
    "\t\t\tlabelFontWeight=400,labelFontSize=8,labelFont='Helvetica Neue')\n",
    "chart = chart.properties(width=160,height=150)\n",
    "chart"
   ]
  },
  {
   "cell_type": "markdown",
   "metadata": {},
   "source": [
    "# Specifying Vis Lists"
   ]
  },
  {
   "cell_type": "markdown",
   "metadata": {},
   "source": [
    "There are two different ways to specify lists of visualization in Lux: 1) via Query or 2) via manual Vis construction.\n",
    "\n",
    "First, we see an example of a vis collection created in a similiar procedure as visualizations through the Query syntax. Here, we create a vis collection of `Weight` with respect to all other attributes."
   ]
  },
  {
   "cell_type": "markdown",
   "metadata": {},
   "source": [
    "Using the Query syntax, we can make use of wildcards:"
   ]
  },
  {
   "cell_type": "code",
   "execution_count": null,
   "metadata": {},
   "outputs": [],
   "source": [
    "from lux.vis.VisList import VisList\n",
    "vc = VisList([\"Weight\",\"?\"],df)\n",
    "vc"
   ]
  },
  {
   "cell_type": "markdown",
   "metadata": {},
   "source": [
    "Or specify desired attributes via a list: "
   ]
  },
  {
   "cell_type": "code",
   "execution_count": null,
   "metadata": {
    "scrolled": false
   },
   "outputs": [],
   "source": [
    "vc = VisList([\"Weight\",['Sport','Year','Height','HostRegion','SportType']],df)\n",
    "vc"
   ]
  },
  {
   "cell_type": "markdown",
   "metadata": {},
   "source": [
    "Alternatively, vis collections can be manually constructed by individually specifying the content of each vis."
   ]
  },
  {
   "cell_type": "code",
   "execution_count": null,
   "metadata": {},
   "outputs": [],
   "source": [
    "from lux.vis.VisList import VisList\n",
    "\n",
    "vcLst = []\n",
    "for attribute in ['Sport','Year','Height','HostRegion','SportType']: \n",
    "    vis = Vis([lux.Clause(\"Weight\"), lux.Clause(attribute)])\n",
    "    vcLst.append(vis)\n",
    "vc = VisList(vcLst,df)"
   ]
  },
  {
   "cell_type": "code",
   "execution_count": null,
   "metadata": {},
   "outputs": [],
   "source": [
    "vc"
   ]
  },
  {
   "cell_type": "code",
   "execution_count": null,
   "metadata": {},
   "outputs": [],
   "source": []
  }
 ],
 "metadata": {
  "history": [
   {
    "time": "2020-07-22T07:57:15.318Z",
    "type": "kernelReady"
   },
   {
    "time": "2020-07-22T08:31:29.656Z",
    "type": "kernelReady"
   },
   {
    "code": "# Specifying visualizations",
    "id": "7beb732dadcc44978ccfc1157a23726f",
    "order_count": 2,
    "time": "2020-07-22T08:31:32.615Z",
    "type": "selectMarkdownCell"
   },
   {
    "code": "# Specifying visualizations",
    "id": "7beb732dadcc44978ccfc1157a23726f",
    "order_count": 2,
    "time": "2020-07-22T08:31:32.803Z",
    "type": "selectMarkdownCell"
   },
   {
    "code": "# Specifying visualizations",
    "id": "7beb732dadcc44978ccfc1157a23726f",
    "order_count": 2,
    "time": "2020-07-22T08:31:33.551Z",
    "type": "editMarkdownCell"
   },
   {
    "code": "# Specifying visualizations",
    "id": "7beb732dadcc44978ccfc1157a23726f",
    "order_count": 2,
    "time": "2020-07-22T08:31:33.959Z",
    "type": "selectMarkdownCell"
   },
   {
    "code": "Vis objects represents individual visualizations displayed in Lux. Lists of visualizations are stored as VisList objects. visualizations can either be automatically generated in Lux or defined by the user.\n",
    "id": "a8353b127475432986a519f31b767e58",
    "order_count": 3,
    "time": "2020-07-22T08:31:38.691Z",
    "type": "selectMarkdownCell"
   },
   {
    "code": "# Specifying Vis Collections",
    "id": "0c6ad49c981e4cdd8e247c60e303a1dd",
    "order_count": 9,
    "time": "2020-07-22T08:31:41.126Z",
    "type": "selectMarkdownCell"
   },
   {
    "code": "# Specifying Vis Collections",
    "id": "0c6ad49c981e4cdd8e247c60e303a1dd",
    "order_count": 9,
    "time": "2020-07-22T08:31:41.276Z",
    "type": "selectMarkdownCell"
   },
   {
    "code": "# Specifying Vis Collections",
    "id": "0c6ad49c981e4cdd8e247c60e303a1dd",
    "order_count": 9,
    "time": "2020-07-22T08:31:41.957Z",
    "type": "editMarkdownCell"
   },
   {
    "code": "# Specifying Vis Collections",
    "id": "0c6ad49c981e4cdd8e247c60e303a1dd",
    "order_count": 9,
    "time": "2020-07-22T08:31:42.495Z",
    "type": "selectMarkdownCell"
   },
   {
    "code": "There are two different ways to specify vis collections in Lux: 1) via Query or 2) via manual Vis construction.\n\nFirst, we see an example of a vis collection created in a similiar procedure as visualizations through the Query syntax. Here, we create a vis collection of `Weight` with respect to all other attributes.",
    "id": "f66167de4c96431fb571baa8f1131a28",
    "order_count": 10,
    "time": "2020-07-22T08:31:47.872Z",
    "type": "selectMarkdownCell"
   },
   {
    "code": "There are two different ways to specify vis collections in Lux: 1) via Query or 2) via manual Vis construction.\n\nFirst, we see an example of a vis collection created in a similiar procedure as visualizations through the Query syntax. Here, we create a vis collection of `Weight` with respect to all other attributes.",
    "id": "f66167de4c96431fb571baa8f1131a28",
    "order_count": 10,
    "time": "2020-07-22T08:31:49.036Z",
    "type": "selectMarkdownCell"
   },
   {
    "code": "There are two different ways to specify vis collections in Lux: 1) via Query or 2) via manual Vis construction.\n\nFirst, we see an example of a vis collection created in a similiar procedure as visualizations through the Query syntax. Here, we create a vis collection of `Weight` with respect to all other attributes.",
    "id": "f66167de4c96431fb571baa8f1131a28",
    "order_count": 10,
    "time": "2020-07-22T08:31:49.205Z",
    "type": "selectMarkdownCell"
   },
   {
    "code": "There are two different ways to specify vis collections in Lux: 1) via Query or 2) via manual Vis construction.\n\nFirst, we see an example of a vis collection created in a similiar procedure as visualizations through the Query syntax. Here, we create a vis collection of `Weight` with respect to all other attributes.",
    "id": "f66167de4c96431fb571baa8f1131a28",
    "order_count": 10,
    "time": "2020-07-22T08:31:50.317Z",
    "type": "editMarkdownCell"
   },
   {
    "code": "There are two different ways to specify vis collections in Lux: 1) via Query or 2) via manual Vis construction.\n\nFirst, we see an example of a vis collection created in a similiar procedure as visualizations through the Query syntax. Here, we create a vis collection of `Weight` with respect to all other attributes.",
    "id": "f66167de4c96431fb571baa8f1131a28",
    "order_count": 10,
    "time": "2020-07-22T08:31:52.048Z",
    "type": "selectMarkdownCell"
   },
   {
    "code": "Using the Query syntax, we can make use of wildcards:",
    "id": "32586c7ef8d14b3982d51df0933e72a8",
    "order_count": 11,
    "time": "2020-07-22T08:32:03.689Z",
    "type": "selectMarkdownCell"
   },
   {
    "time": "2020-07-22T08:32:49.388Z",
    "type": "kernelRestart"
   },
   {
    "time": "2020-07-22T08:32:50.246Z",
    "type": "kernelReady"
   },
   {
    "time": "2020-07-22T08:32:50.258Z",
    "type": "kernelReady"
   }
  ],
  "kernelspec": {
   "display_name": "Python 3",
   "language": "python",
   "name": "python3"
  },
  "language_info": {
   "codemirror_mode": {
    "name": "ipython",
    "version": 3
   },
   "file_extension": ".py",
   "mimetype": "text/x-python",
   "name": "python",
   "nbconvert_exporter": "python",
   "pygments_lexer": "ipython3",
   "version": "3.7.7"
  }
 },
 "nbformat": 4,
 "nbformat_minor": 4
}
