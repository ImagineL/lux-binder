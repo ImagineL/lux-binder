{
 "cells": [
  {
   "cell_type": "code",
   "execution_count": 1,
   "metadata": {},
   "outputs": [
    {
     "name": "stdout",
     "output_type": "stream",
     "text": [
      "/Users/dorislee/Desktop/Research/lux/lux\n"
     ]
    }
   ],
   "source": [
    "cd .."
   ]
  },
  {
   "cell_type": "code",
   "execution_count": 2,
   "metadata": {},
   "outputs": [],
   "source": [
    "import pandas as pd\n",
    "import lux"
   ]
  },
  {
   "cell_type": "markdown",
   "metadata": {},
   "source": [
    "Load in a dataset of 392 different cars from 1970-1982:"
   ]
  },
  {
   "cell_type": "code",
   "execution_count": 3,
   "metadata": {},
   "outputs": [
    {
     "data": {
      "text/html": [
       "<div>\n",
       "<style scoped>\n",
       "    .dataframe tbody tr th:only-of-type {\n",
       "        vertical-align: middle;\n",
       "    }\n",
       "\n",
       "    .dataframe tbody tr th {\n",
       "        vertical-align: top;\n",
       "    }\n",
       "\n",
       "    .dataframe thead th {\n",
       "        text-align: right;\n",
       "    }\n",
       "</style>\n",
       "<table border=\"1\" class=\"dataframe\">\n",
       "  <thead>\n",
       "    <tr style=\"text-align: right;\">\n",
       "      <th></th>\n",
       "      <th>Name</th>\n",
       "      <th>MilesPerGal</th>\n",
       "      <th>Cylinders</th>\n",
       "      <th>Displacement</th>\n",
       "      <th>Horsepower</th>\n",
       "      <th>Weight</th>\n",
       "      <th>Acceleration</th>\n",
       "      <th>Year</th>\n",
       "      <th>Origin</th>\n",
       "    </tr>\n",
       "  </thead>\n",
       "  <tbody>\n",
       "    <tr>\n",
       "      <th>0</th>\n",
       "      <td>chevrolet chevelle malibu</td>\n",
       "      <td>18.0</td>\n",
       "      <td>8</td>\n",
       "      <td>307.0</td>\n",
       "      <td>130</td>\n",
       "      <td>3504</td>\n",
       "      <td>12.0</td>\n",
       "      <td>1970-01-01</td>\n",
       "      <td>USA</td>\n",
       "    </tr>\n",
       "    <tr>\n",
       "      <th>1</th>\n",
       "      <td>buick skylark 320</td>\n",
       "      <td>15.0</td>\n",
       "      <td>8</td>\n",
       "      <td>350.0</td>\n",
       "      <td>165</td>\n",
       "      <td>3693</td>\n",
       "      <td>11.5</td>\n",
       "      <td>1970-01-01</td>\n",
       "      <td>USA</td>\n",
       "    </tr>\n",
       "    <tr>\n",
       "      <th>2</th>\n",
       "      <td>plymouth satellite</td>\n",
       "      <td>18.0</td>\n",
       "      <td>8</td>\n",
       "      <td>318.0</td>\n",
       "      <td>150</td>\n",
       "      <td>3436</td>\n",
       "      <td>11.0</td>\n",
       "      <td>1970-01-01</td>\n",
       "      <td>USA</td>\n",
       "    </tr>\n",
       "    <tr>\n",
       "      <th>3</th>\n",
       "      <td>amc rebel sst</td>\n",
       "      <td>16.0</td>\n",
       "      <td>8</td>\n",
       "      <td>304.0</td>\n",
       "      <td>150</td>\n",
       "      <td>3433</td>\n",
       "      <td>12.0</td>\n",
       "      <td>1970-01-01</td>\n",
       "      <td>USA</td>\n",
       "    </tr>\n",
       "    <tr>\n",
       "      <th>4</th>\n",
       "      <td>ford torino</td>\n",
       "      <td>17.0</td>\n",
       "      <td>8</td>\n",
       "      <td>302.0</td>\n",
       "      <td>140</td>\n",
       "      <td>3449</td>\n",
       "      <td>10.5</td>\n",
       "      <td>1970-01-01</td>\n",
       "      <td>USA</td>\n",
       "    </tr>\n",
       "  </tbody>\n",
       "</table>\n",
       "</div>"
      ],
      "text/plain": [
       "                        Name  MilesPerGal  Cylinders  Displacement  \\\n",
       "0  chevrolet chevelle malibu         18.0          8         307.0   \n",
       "1          buick skylark 320         15.0          8         350.0   \n",
       "2         plymouth satellite         18.0          8         318.0   \n",
       "3              amc rebel sst         16.0          8         304.0   \n",
       "4                ford torino         17.0          8         302.0   \n",
       "\n",
       "   Horsepower  Weight  Acceleration       Year Origin  \n",
       "0         130    3504          12.0 1970-01-01    USA  \n",
       "1         165    3693          11.5 1970-01-01    USA  \n",
       "2         150    3436          11.0 1970-01-01    USA  \n",
       "3         150    3433          12.0 1970-01-01    USA  \n",
       "4         140    3449          10.5 1970-01-01    USA  "
      ]
     },
     "execution_count": 3,
     "metadata": {},
     "output_type": "execute_result"
    }
   ],
   "source": [
    "df = pd.read_csv(\"lux/data/car.csv\")\n",
    "# df.setExecutorType(\"Pandas\")\n",
    "df[\"Year\"] = pd.to_datetime(df[\"Year\"], format='%Y') # change pandas dtype for the column \"Year\" to datetype\n",
    "df.head().toPandas()"
   ]
  },
  {
   "cell_type": "code",
   "execution_count": 4,
   "metadata": {
    "scrolled": false
   },
   "outputs": [
    {
     "data": {
      "application/vnd.jupyter.widget-view+json": {
       "model_id": "1048ea344673441caf33ad90277eedad",
       "version_major": 2,
       "version_minor": 0
      },
      "text/plain": [
       "Button(description='Toggle Pandas/Lux', style=ButtonStyle())"
      ]
     },
     "metadata": {},
     "output_type": "display_data"
    },
    {
     "data": {
      "application/vnd.jupyter.widget-view+json": {
       "model_id": "9f2d493eb5f04783ae391c5f0b3fc8a4",
       "version_major": 2,
       "version_minor": 0
      },
      "text/plain": [
       "Output()"
      ]
     },
     "metadata": {},
     "output_type": "display_data"
    },
    {
     "data": {
      "text/plain": []
     },
     "execution_count": 4,
     "metadata": {},
     "output_type": "execute_result"
    }
   ],
   "source": [
    "df"
   ]
  },
  {
   "cell_type": "code",
   "execution_count": 5,
   "metadata": {},
   "outputs": [
    {
     "data": {
      "application/vnd.jupyter.widget-view+json": {
       "model_id": "08de5178db34494fa934dc05748466c8",
       "version_major": 2,
       "version_minor": 0
      },
      "text/plain": [
       "LuxWidget(recommendations=[{'action': 'View Collection', 'description': 'Shows a view collection defined by th…"
      ]
     },
     "metadata": {},
     "output_type": "display_data"
    },
    {
     "data": {
      "text/plain": [
       "<ViewCollection: [<View: Mark: scatter, Specs: [Spec < description:,channel:x,attribute:Weight,aggregation:,value:>dataModel:measure,dataType:quantitative,binSize:0, Spec < description:,channel:y,attribute:Displacement,aggregation:,value:>dataModel:measure,dataType:quantitative,binSize:0], Score:0.8942168489312856>, <View: Mark: scatter, Specs: [Spec < description:,channel:x,attribute:Displacement,aggregation:,value:>dataModel:measure,dataType:quantitative,binSize:0, Spec < description:,channel:y,attribute:Weight,aggregation:,value:>dataModel:measure,dataType:quantitative,binSize:0], Score:0.8942168489312854>, <View: Mark: scatter, Specs: [Spec < description:,channel:x,attribute:Horsepower,aggregation:,value:>dataModel:measure,dataType:quantitative,binSize:0, Spec < description:,channel:y,attribute:Weight,aggregation:,value:>dataModel:measure,dataType:quantitative,binSize:0], Score:0.7723234066019431>, <View: Mark: scatter, Specs: [Spec < description:,channel:x,attribute:Weight,aggregation:,value:>dataModel:measure,dataType:quantitative,binSize:0, Spec < description:,channel:y,attribute:Horsepower,aggregation:,value:>dataModel:measure,dataType:quantitative,binSize:0], Score:0.7723234066019431>, <View: Mark: scatter, Specs: [Spec < description:,channel:x,attribute:Displacement,aggregation:,value:>dataModel:measure,dataType:quantitative,binSize:0, Spec < description:,channel:y,attribute:Horsepower,aggregation:,value:>dataModel:measure,dataType:quantitative,binSize:0], Score:0.7676752548094311>, <View: Mark: scatter, Specs: [Spec < description:,channel:x,attribute:Horsepower,aggregation:,value:>dataModel:measure,dataType:quantitative,binSize:0, Spec < description:,channel:y,attribute:Displacement,aggregation:,value:>dataModel:measure,dataType:quantitative,binSize:0], Score:0.7676752548094311>, <View: Mark: scatter, Specs: [Spec < description:,channel:x,attribute:MilesPerGal,aggregation:,value:>dataModel:measure,dataType:quantitative,binSize:0, Spec < description:,channel:y,attribute:Weight,aggregation:,value:>dataModel:measure,dataType:quantitative,binSize:0], Score:0.766649302144744>, <View: Mark: scatter, Specs: [Spec < description:,channel:x,attribute:Weight,aggregation:,value:>dataModel:measure,dataType:quantitative,binSize:0, Spec < description:,channel:y,attribute:MilesPerGal,aggregation:,value:>dataModel:measure,dataType:quantitative,binSize:0], Score:0.766649302144744>, <View: Mark: scatter, Specs: [Spec < description:,channel:x,attribute:MilesPerGal,aggregation:,value:>dataModel:measure,dataType:quantitative,binSize:0, Spec < description:,channel:y,attribute:Displacement,aggregation:,value:>dataModel:measure,dataType:quantitative,binSize:0], Score:0.7314244905293269>, <View: Mark: scatter, Specs: [Spec < description:,channel:x,attribute:Displacement,aggregation:,value:>dataModel:measure,dataType:quantitative,binSize:0, Spec < description:,channel:y,attribute:MilesPerGal,aggregation:,value:>dataModel:measure,dataType:quantitative,binSize:0], Score:0.7314244905293267>, <View: Mark: scatter, Specs: [Spec < description:,channel:x,attribute:Horsepower,aggregation:,value:>dataModel:measure,dataType:quantitative,binSize:0, Spec < description:,channel:y,attribute:MilesPerGal,aggregation:,value:>dataModel:measure,dataType:quantitative,binSize:0], Score:0.7286609625238069>, <View: Mark: scatter, Specs: [Spec < description:,channel:x,attribute:MilesPerGal,aggregation:,value:>dataModel:measure,dataType:quantitative,binSize:0, Spec < description:,channel:y,attribute:Horsepower,aggregation:,value:>dataModel:measure,dataType:quantitative,binSize:0], Score:0.7286609625238069>, <View: Mark: scatter, Specs: [Spec < description:,channel:x,attribute:Acceleration,aggregation:,value:>dataModel:measure,dataType:quantitative,binSize:0, Spec < description:,channel:y,attribute:Horsepower,aggregation:,value:>dataModel:measure,dataType:quantitative,binSize:0], Score:0.433151292343172>, <View: Mark: scatter, Specs: [Spec < description:,channel:x,attribute:Horsepower,aggregation:,value:>dataModel:measure,dataType:quantitative,binSize:0, Spec < description:,channel:y,attribute:Acceleration,aggregation:,value:>dataModel:measure,dataType:quantitative,binSize:0], Score:0.433151292343172>, <View: Mark: scatter, Specs: [Spec < description:,channel:x,attribute:Acceleration,aggregation:,value:>dataModel:measure,dataType:quantitative,binSize:0, Spec < description:,channel:y,attribute:Displacement,aggregation:,value:>dataModel:measure,dataType:quantitative,binSize:0], Score:0.24940371173653128>]>"
      ]
     },
     "execution_count": 5,
     "metadata": {},
     "output_type": "execute_result"
    }
   ],
   "source": [
    "df.recommendation[\"Correlation\"]"
   ]
  },
  {
   "cell_type": "code",
   "execution_count": 6,
   "metadata": {},
   "outputs": [],
   "source": [
    "views = df.getExported()"
   ]
  },
  {
   "cell_type": "code",
   "execution_count": 7,
   "metadata": {},
   "outputs": [
    {
     "data": {
      "application/vnd.jupyter.widget-view+json": {
       "model_id": "5d4753c39bee40a88b36fabed593a9e9",
       "version_major": 2,
       "version_minor": 0
      },
      "text/plain": [
       "LuxWidget(recommendations=[{'action': 'View Collection', 'description': 'Shows a view collection defined by th…"
      ]
     },
     "metadata": {},
     "output_type": "display_data"
    },
    {
     "data": {
      "text/plain": [
       "<ViewCollection: [<View: Mark: scatter, Specs: [Spec < description:,channel:x,attribute:Weight,aggregation:,value:>dataModel:measure,dataType:quantitative,binSize:0, Spec < description:,channel:y,attribute:Displacement,aggregation:,value:>dataModel:measure,dataType:quantitative,binSize:0], Score:0.8942168489312856>, <View: Mark: scatter, Specs: [Spec < description:,channel:x,attribute:Horsepower,aggregation:,value:>dataModel:measure,dataType:quantitative,binSize:0, Spec < description:,channel:y,attribute:Weight,aggregation:,value:>dataModel:measure,dataType:quantitative,binSize:0], Score:0.7723234066019431>]>"
      ]
     },
     "execution_count": 7,
     "metadata": {},
     "output_type": "execute_result"
    }
   ],
   "source": [
    "views"
   ]
  },
  {
   "cell_type": "code",
   "execution_count": 6,
   "metadata": {},
   "outputs": [
    {
     "data": {
      "text/plain": [
       "{'Correlation': <ViewCollection: [<View: Mark: scatter, Specs: [Spec < description:,channel:x,attribute:Weight,aggregation:,value:>dataModel:measure,dataType:quantitative,binSize:0, Spec < description:,channel:y,attribute:Displacement,aggregation:,value:>dataModel:measure,dataType:quantitative,binSize:0], Score:0.8942168489312856>, <View: Mark: scatter, Specs: [Spec < description:,channel:x,attribute:Displacement,aggregation:,value:>dataModel:measure,dataType:quantitative,binSize:0, Spec < description:,channel:y,attribute:Weight,aggregation:,value:>dataModel:measure,dataType:quantitative,binSize:0], Score:0.8942168489312854>]>,\n",
       " 'Distribution': <ViewCollection: [<View: Mark: histogram, Specs: [Spec < description:,channel:x,attribute:Weight,aggregation:,value:>dataModel:measure,dataType:quantitative,binSize:10, Spec < description:,channel:y,attribute:Record,aggregation:count,value:>dataModel:measure,dataType:quantitative,binSize:0], Score:0.8059701097156933>]>}"
      ]
     },
     "execution_count": 6,
     "metadata": {},
     "output_type": "execute_result"
    }
   ],
   "source": [
    "views[\"C\"]"
   ]
  },
  {
   "cell_type": "code",
   "execution_count": 5,
   "metadata": {},
   "outputs": [
    {
     "data": {
      "text/plain": [
       "{'Correlation': [0, 2], 'Category': [2, 1]}"
      ]
     },
     "execution_count": 5,
     "metadata": {},
     "output_type": "execute_result"
    }
   ],
   "source": [
    "df.widget.selectedVisLst"
   ]
  },
  {
   "cell_type": "code",
   "execution_count": 8,
   "metadata": {},
   "outputs": [
    {
     "name": "stderr",
     "output_type": "stream",
     "text": [
      "/Users/dorislee/Desktop/Research/lux/lux/lux/luxDataFrame/LuxDataframe.py:96: UserWarning: Pandas doesn't allow columns to be created via a new attribute name - see https://pandas.pydata.org/pandas-docs/stable/indexing.html#attribute-access\n",
      "  self.dataModelLookup = {}\n",
      "/Users/dorislee/Desktop/Research/lux/lux/lux/luxDataFrame/LuxDataframe.py:31: UserWarning: Pandas doesn't allow columns to be created via a new attribute name - see https://pandas.pydata.org/pandas-docs/stable/indexing.html#attribute-access\n",
      "  self.filterSpecs = []\n"
     ]
    },
    {
     "data": {
      "application/vnd.jupyter.widget-view+json": {
       "model_id": "df43494566a04140aae2268b4c7a0f8d",
       "version_major": 2,
       "version_minor": 0
      },
      "text/plain": [
       "LuxWidget(current_view={'config': {'view': {'continuousWidth': 400, 'continuousHeight': 300}, 'mark': {'toolti…"
      ]
     },
     "metadata": {},
     "output_type": "display_data"
    },
    {
     "data": {
      "text/plain": [
       "<View: Mark: scatter, Specs: [Spec < description:,channel:x,attribute:Weight,aggregation:,value:>dataModel:measure,dataType:quantitative,binSize:0, Spec < description:,channel:y,attribute:Displacement,aggregation:,value:>dataModel:measure,dataType:quantitative,binSize:0], Score:0.8942168489312856>"
      ]
     },
     "execution_count": 8,
     "metadata": {},
     "output_type": "execute_result"
    }
   ],
   "source": [
    "df.getExported()[\"Correlation\"][0]"
   ]
  },
  {
   "cell_type": "code",
   "execution_count": 7,
   "metadata": {},
   "outputs": [],
   "source": [
    "from lux.view.ViewCollection import ViewCollection"
   ]
  },
  {
   "cell_type": "code",
   "execution_count": 8,
   "metadata": {},
   "outputs": [
    {
     "name": "stderr",
     "output_type": "stream",
     "text": [
      "/Users/dorislee/.virtualenvs/lux/lib/python3.7/site-packages/ipykernel_launcher.py:2: UserWarning: Pandas doesn't allow columns to be created via a new attribute name - see https://pandas.pydata.org/pandas-docs/stable/indexing.html#attribute-access\n",
      "  \n"
     ]
    }
   ],
   "source": [
    "exportedVisLst = df.widget.selectedVisLst\n",
    "df.exported  = {}\n",
    "for exportAction in exportedVisLst: \n",
    "#     print(exportedVisLst[exportAction])\n",
    "#     print(list(map(df.recommendation[exportAction].__getitem__, exportedVisLst[exportAction])))\n",
    "    df.exported[exportAction] = ViewCollection(list(map(df.recommendation[exportAction].__getitem__, exportedVisLst[exportAction])))"
   ]
  },
  {
   "cell_type": "code",
   "execution_count": 13,
   "metadata": {},
   "outputs": [
    {
     "data": {
      "text/plain": [
       "dict_keys(['Correlation', 'Distribution'])"
      ]
     },
     "execution_count": 13,
     "metadata": {},
     "output_type": "execute_result"
    }
   ],
   "source": [
    "exportedVisLst.keys()[0]"
   ]
  },
  {
   "cell_type": "code",
   "execution_count": 14,
   "metadata": {},
   "outputs": [
    {
     "data": {
      "text/plain": [
       "{'Correlation': <ViewCollection: [<View: Mark: scatter, Specs: [Spec < description:,channel:x,attribute:Weight,aggregation:,value:>dataModel:measure,dataType:quantitative,binSize:0, Spec < description:,channel:y,attribute:Displacement,aggregation:,value:>dataModel:measure,dataType:quantitative,binSize:0], Score:0.8942168489312856>, <View: Mark: scatter, Specs: [Spec < description:,channel:x,attribute:Displacement,aggregation:,value:>dataModel:measure,dataType:quantitative,binSize:0, Spec < description:,channel:y,attribute:Weight,aggregation:,value:>dataModel:measure,dataType:quantitative,binSize:0], Score:0.8942168489312854>, <View: Mark: scatter, Specs: [Spec < description:,channel:x,attribute:Weight,aggregation:,value:>dataModel:measure,dataType:quantitative,binSize:0, Spec < description:,channel:y,attribute:Horsepower,aggregation:,value:>dataModel:measure,dataType:quantitative,binSize:0], Score:0.7723234066019431>, <View: Mark: scatter, Specs: [Spec < description:,channel:x,attribute:Horsepower,aggregation:,value:>dataModel:measure,dataType:quantitative,binSize:0, Spec < description:,channel:y,attribute:Weight,aggregation:,value:>dataModel:measure,dataType:quantitative,binSize:0], Score:0.7723234066019431>, <View: Mark: scatter, Specs: [Spec < description:,channel:x,attribute:Displacement,aggregation:,value:>dataModel:measure,dataType:quantitative,binSize:0, Spec < description:,channel:y,attribute:Horsepower,aggregation:,value:>dataModel:measure,dataType:quantitative,binSize:0], Score:0.7676752548094311>, <View: Mark: scatter, Specs: [Spec < description:,channel:x,attribute:Horsepower,aggregation:,value:>dataModel:measure,dataType:quantitative,binSize:0, Spec < description:,channel:y,attribute:Displacement,aggregation:,value:>dataModel:measure,dataType:quantitative,binSize:0], Score:0.7676752548094311>, <View: Mark: scatter, Specs: [Spec < description:,channel:x,attribute:MilesPerGal,aggregation:,value:>dataModel:measure,dataType:quantitative,binSize:0, Spec < description:,channel:y,attribute:Weight,aggregation:,value:>dataModel:measure,dataType:quantitative,binSize:0], Score:0.766649302144744>, <View: Mark: scatter, Specs: [Spec < description:,channel:x,attribute:Weight,aggregation:,value:>dataModel:measure,dataType:quantitative,binSize:0, Spec < description:,channel:y,attribute:MilesPerGal,aggregation:,value:>dataModel:measure,dataType:quantitative,binSize:0], Score:0.766649302144744>, <View: Mark: scatter, Specs: [Spec < description:,channel:x,attribute:MilesPerGal,aggregation:,value:>dataModel:measure,dataType:quantitative,binSize:0, Spec < description:,channel:y,attribute:Displacement,aggregation:,value:>dataModel:measure,dataType:quantitative,binSize:0], Score:0.7314244905293269>, <View: Mark: scatter, Specs: [Spec < description:,channel:x,attribute:Displacement,aggregation:,value:>dataModel:measure,dataType:quantitative,binSize:0, Spec < description:,channel:y,attribute:MilesPerGal,aggregation:,value:>dataModel:measure,dataType:quantitative,binSize:0], Score:0.7314244905293267>, <View: Mark: scatter, Specs: [Spec < description:,channel:x,attribute:MilesPerGal,aggregation:,value:>dataModel:measure,dataType:quantitative,binSize:0, Spec < description:,channel:y,attribute:Horsepower,aggregation:,value:>dataModel:measure,dataType:quantitative,binSize:0], Score:0.7286609625238069>, <View: Mark: scatter, Specs: [Spec < description:,channel:x,attribute:Horsepower,aggregation:,value:>dataModel:measure,dataType:quantitative,binSize:0, Spec < description:,channel:y,attribute:MilesPerGal,aggregation:,value:>dataModel:measure,dataType:quantitative,binSize:0], Score:0.7286609625238069>, <View: Mark: scatter, Specs: [Spec < description:,channel:x,attribute:Acceleration,aggregation:,value:>dataModel:measure,dataType:quantitative,binSize:0, Spec < description:,channel:y,attribute:Horsepower,aggregation:,value:>dataModel:measure,dataType:quantitative,binSize:0], Score:0.433151292343172>, <View: Mark: scatter, Specs: [Spec < description:,channel:x,attribute:Horsepower,aggregation:,value:>dataModel:measure,dataType:quantitative,binSize:0, Spec < description:,channel:y,attribute:Acceleration,aggregation:,value:>dataModel:measure,dataType:quantitative,binSize:0], Score:0.433151292343172>, <View: Mark: scatter, Specs: [Spec < description:,channel:x,attribute:Displacement,aggregation:,value:>dataModel:measure,dataType:quantitative,binSize:0, Spec < description:,channel:y,attribute:Acceleration,aggregation:,value:>dataModel:measure,dataType:quantitative,binSize:0], Score:0.24940371173653128>]>,\n",
       " 'Distribution': <ViewCollection: [<View: Mark: histogram, Specs: [Spec < description:,channel:x,attribute:Horsepower,aggregation:,value:>dataModel:measure,dataType:quantitative,binSize:10, Spec < description:,channel:y,attribute:Record,aggregation:count,value:>dataModel:measure,dataType:quantitative,binSize:0], Score:1.152416328912255>, <View: Mark: histogram, Specs: [Spec < description:,channel:x,attribute:Displacement,aggregation:,value:>dataModel:measure,dataType:quantitative,binSize:10, Spec < description:,channel:y,attribute:Record,aggregation:count,value:>dataModel:measure,dataType:quantitative,binSize:0], Score:0.8309508030245141>, <View: Mark: histogram, Specs: [Spec < description:,channel:x,attribute:Weight,aggregation:,value:>dataModel:measure,dataType:quantitative,binSize:10, Spec < description:,channel:y,attribute:Record,aggregation:count,value:>dataModel:measure,dataType:quantitative,binSize:0], Score:0.8059701097156933>, <View: Mark: histogram, Specs: [Spec < description:,channel:x,attribute:Acceleration,aggregation:,value:>dataModel:measure,dataType:quantitative,binSize:10, Spec < description:,channel:y,attribute:Record,aggregation:count,value:>dataModel:measure,dataType:quantitative,binSize:0], Score:0.3957879344686073>, <View: Mark: histogram, Specs: [Spec < description:,channel:x,attribute:MilesPerGal,aggregation:,value:>dataModel:measure,dataType:quantitative,binSize:10, Spec < description:,channel:y,attribute:Record,aggregation:count,value:>dataModel:measure,dataType:quantitative,binSize:0], Score:0.021758881543819292>]>,\n",
       " 'Category': <ViewCollection: [<View: Mark: bar, Specs: [Spec < description:,channel:x,attribute:Record,aggregation:count,value:>dataModel:measure,dataType:quantitative,binSize:0, Spec < description:,channel:y,attribute:Origin,aggregation:,value:>dataModel:dimension,dataType:nominal,binSize:0], Score:0.04472098969349432>, <View: Mark: bar, Specs: [Spec < description:,channel:x,attribute:Record,aggregation:count,value:>dataModel:measure,dataType:quantitative,binSize:0, Spec < description:,channel:y,attribute:Cylinders,aggregation:,value:>dataModel:dimension,dataType:nominal,binSize:0], Score:0.012950708363173647>, <View: Mark: bar, Specs: [Spec < description:,channel:x,attribute:Record,aggregation:count,value:>dataModel:measure,dataType:quantitative,binSize:0, Spec < description:,channel:y,attribute:Name,aggregation:,value:>dataModel:dimension,dataType:nominal,binSize:0], Score:1.6221610037945047e-92>]>}"
      ]
     },
     "execution_count": 14,
     "metadata": {},
     "output_type": "execute_result"
    }
   ],
   "source": [
    "df.recommendation"
   ]
  },
  {
   "cell_type": "code",
   "execution_count": 9,
   "metadata": {},
   "outputs": [
    {
     "data": {
      "text/plain": [
       "{'Correlation': <ViewCollection: [<View: Mark: scatter, Specs: [Spec < description:,channel:x,attribute:Weight,aggregation:,value:>dataModel:measure,dataType:quantitative,binSize:0, Spec < description:,channel:y,attribute:Displacement,aggregation:,value:>dataModel:measure,dataType:quantitative,binSize:0], Score:0.8942168489312856>, <View: Mark: scatter, Specs: [Spec < description:,channel:x,attribute:Weight,aggregation:,value:>dataModel:measure,dataType:quantitative,binSize:0, Spec < description:,channel:y,attribute:Horsepower,aggregation:,value:>dataModel:measure,dataType:quantitative,binSize:0], Score:0.7723234066019431>]>,\n",
       " 'Distribution': <ViewCollection: [<View: Mark: histogram, Specs: [Spec < description:,channel:x,attribute:Weight,aggregation:,value:>dataModel:measure,dataType:quantitative,binSize:10, Spec < description:,channel:y,attribute:Record,aggregation:count,value:>dataModel:measure,dataType:quantitative,binSize:0], Score:0.8059701097156933>]>}"
      ]
     },
     "execution_count": 9,
     "metadata": {},
     "output_type": "execute_result"
    }
   ],
   "source": [
    "df.exported"
   ]
  },
  {
   "cell_type": "code",
   "execution_count": 27,
   "metadata": {},
   "outputs": [],
   "source": [
    "if len(exportedVisLst) <= 1 : \n",
    "    df.exported = [] \n",
    "    df.exported = ViewCollection(list(map(df.recommendation[exportAction].__getitem__, exportedVisLst[exportAction])))\n",
    "else: \n",
    "    df.exported  = {}\n",
    "    for exportAction in exportedVisLst: \n",
    "    #     print(exportedVisLst[exportAction])\n",
    "    #     print(list(map(df.recommendation[exportAction].__getitem__, exportedVisLst[exportAction])))\n",
    "        df.exported[exportAction] = ViewCollection(list(map(df.recommendation[exportAction].__getitem__, exportedVisLst[exportAction])))"
   ]
  },
  {
   "cell_type": "code",
   "execution_count": 24,
   "metadata": {},
   "outputs": [
    {
     "data": {
      "text/plain": [
       "{'Correlation': <ViewCollection: [<View: Mark: scatter, Specs: [Spec < description:,channel:x,attribute:Weight,aggregation:,value:>dataModel:measure,dataType:quantitative,binSize:0, Spec < description:,channel:y,attribute:Displacement,aggregation:,value:>dataModel:measure,dataType:quantitative,binSize:0], Score:0.8942168489312856>, <View: Mark: scatter, Specs: [Spec < description:,channel:x,attribute:Weight,aggregation:,value:>dataModel:measure,dataType:quantitative,binSize:0, Spec < description:,channel:y,attribute:Horsepower,aggregation:,value:>dataModel:measure,dataType:quantitative,binSize:0], Score:0.7723234066019431>]>,\n",
       " 'Category': <ViewCollection: [<View: Mark: bar, Specs: [Spec < description:,channel:x,attribute:Record,aggregation:count,value:>dataModel:measure,dataType:quantitative,binSize:0, Spec < description:,channel:y,attribute:Origin,aggregation:,value:>dataModel:dimension,dataType:nominal,binSize:0], Score:0.04472098969349432>]>}"
      ]
     },
     "execution_count": 24,
     "metadata": {},
     "output_type": "execute_result"
    }
   ],
   "source": [
    "df.exported"
   ]
  },
  {
   "cell_type": "code",
   "execution_count": 13,
   "metadata": {},
   "outputs": [
    {
     "data": {
      "text/plain": [
       "[0]"
      ]
     },
     "execution_count": 13,
     "metadata": {},
     "output_type": "execute_result"
    }
   ],
   "source": [
    "exportedVisLst[exportAction]"
   ]
  },
  {
   "cell_type": "code",
   "execution_count": 6,
   "metadata": {
    "scrolled": true
   },
   "outputs": [
    {
     "data": {
      "text/plain": [
       "{'Correlation': <ViewCollection: [<View: Mark: scatter, Specs: [Spec < description:,channel:x,attribute:Weight,aggregation:,value:>dataModel:measure,dataType:quantitative,binSize:0, Spec < description:,channel:y,attribute:Displacement,aggregation:,value:>dataModel:measure,dataType:quantitative,binSize:0], Score:0.8942168489312856>, <View: Mark: scatter, Specs: [Spec < description:,channel:x,attribute:Displacement,aggregation:,value:>dataModel:measure,dataType:quantitative,binSize:0, Spec < description:,channel:y,attribute:Weight,aggregation:,value:>dataModel:measure,dataType:quantitative,binSize:0], Score:0.8942168489312854>, <View: Mark: scatter, Specs: [Spec < description:,channel:x,attribute:Weight,aggregation:,value:>dataModel:measure,dataType:quantitative,binSize:0, Spec < description:,channel:y,attribute:Horsepower,aggregation:,value:>dataModel:measure,dataType:quantitative,binSize:0], Score:0.7723234066019431>, <View: Mark: scatter, Specs: [Spec < description:,channel:x,attribute:Horsepower,aggregation:,value:>dataModel:measure,dataType:quantitative,binSize:0, Spec < description:,channel:y,attribute:Weight,aggregation:,value:>dataModel:measure,dataType:quantitative,binSize:0], Score:0.7723234066019431>, <View: Mark: scatter, Specs: [Spec < description:,channel:x,attribute:Displacement,aggregation:,value:>dataModel:measure,dataType:quantitative,binSize:0, Spec < description:,channel:y,attribute:Horsepower,aggregation:,value:>dataModel:measure,dataType:quantitative,binSize:0], Score:0.7676752548094311>, <View: Mark: scatter, Specs: [Spec < description:,channel:x,attribute:Horsepower,aggregation:,value:>dataModel:measure,dataType:quantitative,binSize:0, Spec < description:,channel:y,attribute:Displacement,aggregation:,value:>dataModel:measure,dataType:quantitative,binSize:0], Score:0.7676752548094311>, <View: Mark: scatter, Specs: [Spec < description:,channel:x,attribute:Weight,aggregation:,value:>dataModel:measure,dataType:quantitative,binSize:0, Spec < description:,channel:y,attribute:MilesPerGal,aggregation:,value:>dataModel:measure,dataType:quantitative,binSize:0], Score:0.766649302144744>, <View: Mark: scatter, Specs: [Spec < description:,channel:x,attribute:MilesPerGal,aggregation:,value:>dataModel:measure,dataType:quantitative,binSize:0, Spec < description:,channel:y,attribute:Weight,aggregation:,value:>dataModel:measure,dataType:quantitative,binSize:0], Score:0.766649302144744>, <View: Mark: scatter, Specs: [Spec < description:,channel:x,attribute:MilesPerGal,aggregation:,value:>dataModel:measure,dataType:quantitative,binSize:0, Spec < description:,channel:y,attribute:Displacement,aggregation:,value:>dataModel:measure,dataType:quantitative,binSize:0], Score:0.7314244905293269>, <View: Mark: scatter, Specs: [Spec < description:,channel:x,attribute:Displacement,aggregation:,value:>dataModel:measure,dataType:quantitative,binSize:0, Spec < description:,channel:y,attribute:MilesPerGal,aggregation:,value:>dataModel:measure,dataType:quantitative,binSize:0], Score:0.7314244905293267>, <View: Mark: scatter, Specs: [Spec < description:,channel:x,attribute:MilesPerGal,aggregation:,value:>dataModel:measure,dataType:quantitative,binSize:0, Spec < description:,channel:y,attribute:Horsepower,aggregation:,value:>dataModel:measure,dataType:quantitative,binSize:0], Score:0.7286609625238069>, <View: Mark: scatter, Specs: [Spec < description:,channel:x,attribute:Horsepower,aggregation:,value:>dataModel:measure,dataType:quantitative,binSize:0, Spec < description:,channel:y,attribute:MilesPerGal,aggregation:,value:>dataModel:measure,dataType:quantitative,binSize:0], Score:0.7286609625238069>, <View: Mark: scatter, Specs: [Spec < description:,channel:x,attribute:Acceleration,aggregation:,value:>dataModel:measure,dataType:quantitative,binSize:0, Spec < description:,channel:y,attribute:Horsepower,aggregation:,value:>dataModel:measure,dataType:quantitative,binSize:0], Score:0.433151292343172>, <View: Mark: scatter, Specs: [Spec < description:,channel:x,attribute:Horsepower,aggregation:,value:>dataModel:measure,dataType:quantitative,binSize:0, Spec < description:,channel:y,attribute:Acceleration,aggregation:,value:>dataModel:measure,dataType:quantitative,binSize:0], Score:0.433151292343172>, <View: Mark: scatter, Specs: [Spec < description:,channel:x,attribute:Acceleration,aggregation:,value:>dataModel:measure,dataType:quantitative,binSize:0, Spec < description:,channel:y,attribute:Displacement,aggregation:,value:>dataModel:measure,dataType:quantitative,binSize:0], Score:0.24940371173653128>]>,\n",
       " 'Distribution': <ViewCollection: [<View: Mark: histogram, Specs: [Spec < description:,channel:x,attribute:Horsepower,aggregation:,value:>dataModel:measure,dataType:quantitative,binSize:10, Spec < description:,channel:y,attribute:Record,aggregation:count,value:>dataModel:measure,dataType:quantitative,binSize:0], Score:1.152416328912255>, <View: Mark: histogram, Specs: [Spec < description:,channel:x,attribute:Displacement,aggregation:,value:>dataModel:measure,dataType:quantitative,binSize:10, Spec < description:,channel:y,attribute:Record,aggregation:count,value:>dataModel:measure,dataType:quantitative,binSize:0], Score:0.8309508030245141>, <View: Mark: histogram, Specs: [Spec < description:,channel:x,attribute:Weight,aggregation:,value:>dataModel:measure,dataType:quantitative,binSize:10, Spec < description:,channel:y,attribute:Record,aggregation:count,value:>dataModel:measure,dataType:quantitative,binSize:0], Score:0.8059701097156933>, <View: Mark: histogram, Specs: [Spec < description:,channel:x,attribute:Acceleration,aggregation:,value:>dataModel:measure,dataType:quantitative,binSize:10, Spec < description:,channel:y,attribute:Record,aggregation:count,value:>dataModel:measure,dataType:quantitative,binSize:0], Score:0.3957879344686073>, <View: Mark: histogram, Specs: [Spec < description:,channel:x,attribute:MilesPerGal,aggregation:,value:>dataModel:measure,dataType:quantitative,binSize:10, Spec < description:,channel:y,attribute:Record,aggregation:count,value:>dataModel:measure,dataType:quantitative,binSize:0], Score:0.021758881543819292>]>,\n",
       " 'Category': <ViewCollection: [<View: Mark: bar, Specs: [Spec < description:,channel:x,attribute:Record,aggregation:count,value:>dataModel:measure,dataType:quantitative,binSize:0, Spec < description:,channel:y,attribute:Origin,aggregation:,value:>dataModel:dimension,dataType:nominal,binSize:0], Score:0.04472098969349432>, <View: Mark: bar, Specs: [Spec < description:,channel:x,attribute:Record,aggregation:count,value:>dataModel:measure,dataType:quantitative,binSize:0, Spec < description:,channel:y,attribute:Cylinders,aggregation:,value:>dataModel:dimension,dataType:nominal,binSize:0], Score:0.012950708363173647>, <View: Mark: bar, Specs: [Spec < description:,channel:x,attribute:Record,aggregation:count,value:>dataModel:measure,dataType:quantitative,binSize:0, Spec < description:,channel:y,attribute:Name,aggregation:,value:>dataModel:dimension,dataType:nominal,binSize:0], Score:1.6221610037945047e-92>]>}"
      ]
     },
     "execution_count": 6,
     "metadata": {},
     "output_type": "execute_result"
    }
   ],
   "source": [
    "df.recommendation"
   ]
  },
  {
   "cell_type": "code",
   "execution_count": 5,
   "metadata": {},
   "outputs": [
    {
     "data": {
      "text/plain": [
       "[{'action': 'Correlation',\n",
       "  'description': 'Show relationships between two quantitative variables.',\n",
       "  'vspec': [{'config': {'view': {'continuousWidth': 400,\n",
       "      'continuousHeight': 300},\n",
       "     'mark': {'tooltip': {'content': 'encoding'}}},\n",
       "    'data': {'name': 'data-940cd5f9c7c70cd1d96509e397297a5f'},\n",
       "    'mark': 'circle',\n",
       "    'encoding': {'x': {'type': 'quantitative',\n",
       "      'field': 'Weight',\n",
       "      'scale': {'zero': False}},\n",
       "     'y': {'type': 'quantitative',\n",
       "      'field': 'Displacement',\n",
       "      'scale': {'zero': False}}},\n",
       "    'selection': {'selector001': {'type': 'interval',\n",
       "      'bind': 'scales',\n",
       "      'encodings': ['x', 'y']}},\n",
       "    '$schema': 'https://vega.github.io/schema/vega-lite/v4.8.1.json',\n",
       "    'datasets': {'data-940cd5f9c7c70cd1d96509e397297a5f': [{'Weight': 3504,\n",
       "       'Displacement': 307},\n",
       "      {'Weight': 3693, 'Displacement': 350},\n",
       "      {'Weight': 3436, 'Displacement': 318},\n",
       "      {'Weight': 3433, 'Displacement': 304},\n",
       "      {'Weight': 3449, 'Displacement': 302},\n",
       "      {'Weight': 4341, 'Displacement': 429},\n",
       "      {'Weight': 4354, 'Displacement': 454},\n",
       "      {'Weight': 4312, 'Displacement': 440},\n",
       "      {'Weight': 4425, 'Displacement': 455},\n",
       "      {'Weight': 3850, 'Displacement': 390},\n",
       "      {'Weight': 3563, 'Displacement': 383},\n",
       "      {'Weight': 3609, 'Displacement': 340},\n",
       "      {'Weight': 3761, 'Displacement': 400},\n",
       "      {'Weight': 3086, 'Displacement': 455},\n",
       "      {'Weight': 2372, 'Displacement': 113},\n",
       "      {'Weight': 2833, 'Displacement': 198},\n",
       "      {'Weight': 2774, 'Displacement': 199},\n",
       "      {'Weight': 2587, 'Displacement': 200},\n",
       "      {'Weight': 2130, 'Displacement': 97},\n",
       "      {'Weight': 1835, 'Displacement': 97},\n",
       "      {'Weight': 2672, 'Displacement': 110},\n",
       "      {'Weight': 2430, 'Displacement': 107},\n",
       "      {'Weight': 2375, 'Displacement': 104},\n",
       "      {'Weight': 2234, 'Displacement': 121},\n",
       "      {'Weight': 2648, 'Displacement': 199},\n",
       "      {'Weight': 4615, 'Displacement': 360},\n",
       "      {'Weight': 4376, 'Displacement': 307},\n",
       "      {'Weight': 4382, 'Displacement': 318},\n",
       "      {'Weight': 4732, 'Displacement': 304},\n",
       "      {'Weight': 2130, 'Displacement': 97},\n",
       "      {'Weight': 2264, 'Displacement': 140},\n",
       "      {'Weight': 2228, 'Displacement': 113},\n",
       "      {'Weight': 2634, 'Displacement': 232},\n",
       "      {'Weight': 3439, 'Displacement': 225},\n",
       "      {'Weight': 3329, 'Displacement': 250},\n",
       "      {'Weight': 3302, 'Displacement': 250},\n",
       "      {'Weight': 3288, 'Displacement': 232},\n",
       "      {'Weight': 4209, 'Displacement': 350},\n",
       "      {'Weight': 4464, 'Displacement': 400},\n",
       "      {'Weight': 4154, 'Displacement': 351},\n",
       "      {'Weight': 4096, 'Displacement': 318},\n",
       "      {'Weight': 4955, 'Displacement': 383},\n",
       "      {'Weight': 4746, 'Displacement': 400},\n",
       "      {'Weight': 5140, 'Displacement': 400},\n",
       "      {'Weight': 2962, 'Displacement': 258},\n",
       "      {'Weight': 2408, 'Displacement': 140},\n",
       "      {'Weight': 3282, 'Displacement': 250},\n",
       "      {'Weight': 3139, 'Displacement': 250},\n",
       "      {'Weight': 2220, 'Displacement': 122},\n",
       "      {'Weight': 2123, 'Displacement': 116},\n",
       "      {'Weight': 2074, 'Displacement': 79},\n",
       "      {'Weight': 2065, 'Displacement': 88},\n",
       "      {'Weight': 1773, 'Displacement': 71},\n",
       "      {'Weight': 1613, 'Displacement': 72},\n",
       "      {'Weight': 1834, 'Displacement': 97},\n",
       "      {'Weight': 1955, 'Displacement': 91},\n",
       "      {'Weight': 2278, 'Displacement': 113},\n",
       "      {'Weight': 2126, 'Displacement': 97.5},\n",
       "      {'Weight': 2254, 'Displacement': 97},\n",
       "      {'Weight': 2408, 'Displacement': 140},\n",
       "      {'Weight': 2226, 'Displacement': 122},\n",
       "      {'Weight': 4274, 'Displacement': 350},\n",
       "      {'Weight': 4385, 'Displacement': 400},\n",
       "      {'Weight': 4135, 'Displacement': 318},\n",
       "      {'Weight': 4129, 'Displacement': 351},\n",
       "      {'Weight': 3672, 'Displacement': 304},\n",
       "      {'Weight': 4633, 'Displacement': 429},\n",
       "      {'Weight': 4502, 'Displacement': 350},\n",
       "      {'Weight': 4456, 'Displacement': 350},\n",
       "      {'Weight': 4422, 'Displacement': 400},\n",
       "      {'Weight': 2330, 'Displacement': 70},\n",
       "      {'Weight': 3892, 'Displacement': 304},\n",
       "      {'Weight': 4098, 'Displacement': 307},\n",
       "      {'Weight': 4294, 'Displacement': 302},\n",
       "      {'Weight': 4077, 'Displacement': 318},\n",
       "      {'Weight': 2933, 'Displacement': 121},\n",
       "      {'Weight': 2511, 'Displacement': 121},\n",
       "      {'Weight': 2979, 'Displacement': 120},\n",
       "      {'Weight': 2189, 'Displacement': 96},\n",
       "      {'Weight': 2395, 'Displacement': 122},\n",
       "      {'Weight': 2288, 'Displacement': 97},\n",
       "      {'Weight': 2506, 'Displacement': 120},\n",
       "      {'Weight': 2164, 'Displacement': 98},\n",
       "      {'Weight': 2100, 'Displacement': 97},\n",
       "      {'Weight': 4100, 'Displacement': 350},\n",
       "      {'Weight': 3672, 'Displacement': 304},\n",
       "      {'Weight': 3988, 'Displacement': 350},\n",
       "      {'Weight': 4042, 'Displacement': 302},\n",
       "      {'Weight': 3777, 'Displacement': 318},\n",
       "      {'Weight': 4952, 'Displacement': 429},\n",
       "      {'Weight': 4464, 'Displacement': 400},\n",
       "      {'Weight': 4363, 'Displacement': 351},\n",
       "      {'Weight': 4237, 'Displacement': 318},\n",
       "      {'Weight': 4735, 'Displacement': 440},\n",
       "      {'Weight': 4951, 'Displacement': 455},\n",
       "      {'Weight': 3821, 'Displacement': 360},\n",
       "      {'Weight': 3121, 'Displacement': 225},\n",
       "      {'Weight': 3278, 'Displacement': 250},\n",
       "      {'Weight': 2945, 'Displacement': 232},\n",
       "      {'Weight': 3021, 'Displacement': 250},\n",
       "      {'Weight': 2904, 'Displacement': 198},\n",
       "      {'Weight': 1950, 'Displacement': 97},\n",
       "      {'Weight': 4997, 'Displacement': 400},\n",
       "      {'Weight': 4906, 'Displacement': 400},\n",
       "      {'Weight': 4654, 'Displacement': 360},\n",
       "      {'Weight': 4499, 'Displacement': 350},\n",
       "      {'Weight': 2789, 'Displacement': 232},\n",
       "      {'Weight': 2279, 'Displacement': 97},\n",
       "      {'Weight': 2401, 'Displacement': 140},\n",
       "      {'Weight': 2379, 'Displacement': 108},\n",
       "      {'Weight': 2124, 'Displacement': 70},\n",
       "      {'Weight': 2310, 'Displacement': 122},\n",
       "      {'Weight': 2472, 'Displacement': 155},\n",
       "      {'Weight': 2265, 'Displacement': 98},\n",
       "      {'Weight': 4082, 'Displacement': 350},\n",
       "      {'Weight': 4278, 'Displacement': 400},\n",
       "      {'Weight': 1867, 'Displacement': 68},\n",
       "      {'Weight': 2158, 'Displacement': 116},\n",
       "      {'Weight': 2582, 'Displacement': 114},\n",
       "      {'Weight': 2868, 'Displacement': 121},\n",
       "      {'Weight': 3399, 'Displacement': 318},\n",
       "      {'Weight': 2660, 'Displacement': 121},\n",
       "      {'Weight': 2807, 'Displacement': 156},\n",
       "      {'Weight': 3664, 'Displacement': 350},\n",
       "      {'Weight': 3102, 'Displacement': 198},\n",
       "      {'Weight': 2901, 'Displacement': 232},\n",
       "      {'Weight': 3336, 'Displacement': 250},\n",
       "      {'Weight': 1950, 'Displacement': 79},\n",
       "      {'Weight': 2451, 'Displacement': 122},\n",
       "      {'Weight': 1836, 'Displacement': 71},\n",
       "      {'Weight': 2542, 'Displacement': 140},\n",
       "      {'Weight': 3781, 'Displacement': 250},\n",
       "      {'Weight': 3632, 'Displacement': 258},\n",
       "      {'Weight': 3613, 'Displacement': 225},\n",
       "      {'Weight': 4141, 'Displacement': 302},\n",
       "      {'Weight': 4699, 'Displacement': 350},\n",
       "      {'Weight': 4457, 'Displacement': 318},\n",
       "      {'Weight': 4638, 'Displacement': 302},\n",
       "      {'Weight': 4257, 'Displacement': 304},\n",
       "      {'Weight': 2219, 'Displacement': 98},\n",
       "      {'Weight': 1963, 'Displacement': 79},\n",
       "      {'Weight': 2300, 'Displacement': 97},\n",
       "      {'Weight': 1649, 'Displacement': 76},\n",
       "      {'Weight': 2003, 'Displacement': 83},\n",
       "      {'Weight': 2125, 'Displacement': 90},\n",
       "      {'Weight': 2108, 'Displacement': 90},\n",
       "      {'Weight': 2246, 'Displacement': 116},\n",
       "      {'Weight': 2489, 'Displacement': 120},\n",
       "      {'Weight': 2391, 'Displacement': 108},\n",
       "      {'Weight': 2000, 'Displacement': 79},\n",
       "      {'Weight': 3264, 'Displacement': 225},\n",
       "      {'Weight': 3459, 'Displacement': 250},\n",
       "      {'Weight': 3432, 'Displacement': 250},\n",
       "      {'Weight': 3158, 'Displacement': 250},\n",
       "      {'Weight': 4668, 'Displacement': 400},\n",
       "      {'Weight': 4440, 'Displacement': 350},\n",
       "      {'Weight': 4498, 'Displacement': 318},\n",
       "      {'Weight': 4657, 'Displacement': 351},\n",
       "      {'Weight': 3907, 'Displacement': 231},\n",
       "      {'Weight': 3897, 'Displacement': 250},\n",
       "      {'Weight': 3730, 'Displacement': 258},\n",
       "      {'Weight': 3785, 'Displacement': 225},\n",
       "      {'Weight': 3039, 'Displacement': 231},\n",
       "      {'Weight': 3221, 'Displacement': 262},\n",
       "      {'Weight': 3169, 'Displacement': 302},\n",
       "      {'Weight': 2171, 'Displacement': 97},\n",
       "      {'Weight': 2639, 'Displacement': 140},\n",
       "      {'Weight': 2914, 'Displacement': 232},\n",
       "      {'Weight': 2592, 'Displacement': 140},\n",
       "      {'Weight': 2702, 'Displacement': 134},\n",
       "      {'Weight': 2223, 'Displacement': 90},\n",
       "      {'Weight': 2545, 'Displacement': 119},\n",
       "      {'Weight': 2984, 'Displacement': 171},\n",
       "      {'Weight': 1937, 'Displacement': 90},\n",
       "      {'Weight': 3211, 'Displacement': 232},\n",
       "      {'Weight': 2694, 'Displacement': 115},\n",
       "      {'Weight': 2957, 'Displacement': 120},\n",
       "      {'Weight': 2945, 'Displacement': 121},\n",
       "      {'Weight': 2671, 'Displacement': 121},\n",
       "      {'Weight': 1795, 'Displacement': 91},\n",
       "      {'Weight': 2464, 'Displacement': 107},\n",
       "      {'Weight': 2220, 'Displacement': 116},\n",
       "      {'Weight': 2572, 'Displacement': 140},\n",
       "      {'Weight': 2255, 'Displacement': 98},\n",
       "      {'Weight': 2202, 'Displacement': 101},\n",
       "      {'Weight': 4215, 'Displacement': 305},\n",
       "      {'Weight': 4190, 'Displacement': 318},\n",
       "      {'Weight': 3962, 'Displacement': 304},\n",
       "      {'Weight': 4215, 'Displacement': 351},\n",
       "      {'Weight': 3233, 'Displacement': 225},\n",
       "      {'Weight': 3353, 'Displacement': 250},\n",
       "      {'Weight': 3012, 'Displacement': 200},\n",
       "      {'Weight': 3085, 'Displacement': 232},\n",
       "      {'Weight': 2035, 'Displacement': 85},\n",
       "      {'Weight': 2164, 'Displacement': 98},\n",
       "      {'Weight': 1937, 'Displacement': 90},\n",
       "      {'Weight': 1795, 'Displacement': 91},\n",
       "      {'Weight': 3651, 'Displacement': 225},\n",
       "      {'Weight': 3574, 'Displacement': 250},\n",
       "      {'Weight': 3645, 'Displacement': 250},\n",
       "      {'Weight': 3193, 'Displacement': 258},\n",
       "      {'Weight': 1825, 'Displacement': 97},\n",
       "      {'Weight': 1990, 'Displacement': 85},\n",
       "      {'Weight': 2155, 'Displacement': 97},\n",
       "      {'Weight': 2565, 'Displacement': 140},\n",
       "      {'Weight': 3150, 'Displacement': 130},\n",
       "      {'Weight': 3940, 'Displacement': 318},\n",
       "      {'Weight': 3270, 'Displacement': 120},\n",
       "      {'Weight': 2930, 'Displacement': 156},\n",
       "      {'Weight': 3820, 'Displacement': 168},\n",
       "      {'Weight': 4380, 'Displacement': 350},\n",
       "      {'Weight': 4055, 'Displacement': 350},\n",
       "      {'Weight': 3870, 'Displacement': 302},\n",
       "      {'Weight': 3755, 'Displacement': 318},\n",
       "      {'Weight': 2045, 'Displacement': 98},\n",
       "      {'Weight': 2155, 'Displacement': 111},\n",
       "      {'Weight': 1825, 'Displacement': 79},\n",
       "      {'Weight': 2300, 'Displacement': 122},\n",
       "      {'Weight': 1945, 'Displacement': 85},\n",
       "      {'Weight': 3880, 'Displacement': 305},\n",
       "      {'Weight': 4060, 'Displacement': 260},\n",
       "      {'Weight': 4140, 'Displacement': 318},\n",
       "      {'Weight': 4295, 'Displacement': 302},\n",
       "      {'Weight': 3520, 'Displacement': 250},\n",
       "      {'Weight': 3425, 'Displacement': 231},\n",
       "      {'Weight': 3630, 'Displacement': 225},\n",
       "      {'Weight': 3525, 'Displacement': 250},\n",
       "      {'Weight': 4220, 'Displacement': 400},\n",
       "      {'Weight': 4165, 'Displacement': 350},\n",
       "      {'Weight': 4325, 'Displacement': 400},\n",
       "      {'Weight': 4335, 'Displacement': 351},\n",
       "      {'Weight': 1940, 'Displacement': 97},\n",
       "      {'Weight': 2740, 'Displacement': 151},\n",
       "      {'Weight': 2265, 'Displacement': 97},\n",
       "      {'Weight': 2755, 'Displacement': 140},\n",
       "      {'Weight': 2051, 'Displacement': 98},\n",
       "      {'Weight': 2075, 'Displacement': 98},\n",
       "      {'Weight': 1985, 'Displacement': 97},\n",
       "      {'Weight': 2190, 'Displacement': 97},\n",
       "      {'Weight': 2815, 'Displacement': 146},\n",
       "      {'Weight': 2600, 'Displacement': 121},\n",
       "      {'Weight': 2720, 'Displacement': 80},\n",
       "      {'Weight': 1985, 'Displacement': 90},\n",
       "      {'Weight': 1800, 'Displacement': 98},\n",
       "      {'Weight': 1985, 'Displacement': 78},\n",
       "      {'Weight': 2070, 'Displacement': 85},\n",
       "      {'Weight': 1800, 'Displacement': 91},\n",
       "      {'Weight': 3365, 'Displacement': 260},\n",
       "      {'Weight': 3735, 'Displacement': 318},\n",
       "      {'Weight': 3570, 'Displacement': 302},\n",
       "      {'Weight': 3535, 'Displacement': 231},\n",
       "      {'Weight': 3155, 'Displacement': 200},\n",
       "      {'Weight': 2965, 'Displacement': 200},\n",
       "      {'Weight': 2720, 'Displacement': 140},\n",
       "      {'Weight': 3430, 'Displacement': 225},\n",
       "      {'Weight': 3210, 'Displacement': 232},\n",
       "      {'Weight': 3380, 'Displacement': 231},\n",
       "      {'Weight': 3070, 'Displacement': 200},\n",
       "      {'Weight': 3620, 'Displacement': 225},\n",
       "      {'Weight': 3410, 'Displacement': 258},\n",
       "      {'Weight': 3425, 'Displacement': 305},\n",
       "      {'Weight': 3445, 'Displacement': 231},\n",
       "      {'Weight': 3205, 'Displacement': 302},\n",
       "      {'Weight': 4080, 'Displacement': 318},\n",
       "      {'Weight': 2155, 'Displacement': 98},\n",
       "      {'Weight': 2560, 'Displacement': 134},\n",
       "      {'Weight': 2300, 'Displacement': 119},\n",
       "      {'Weight': 2230, 'Displacement': 105},\n",
       "      {'Weight': 2515, 'Displacement': 134},\n",
       "      {'Weight': 2745, 'Displacement': 156},\n",
       "      {'Weight': 2855, 'Displacement': 151},\n",
       "      {'Weight': 2405, 'Displacement': 119},\n",
       "      {'Weight': 2830, 'Displacement': 131},\n",
       "      {'Weight': 3140, 'Displacement': 163},\n",
       "      {'Weight': 2795, 'Displacement': 121},\n",
       "      {'Weight': 3410, 'Displacement': 163},\n",
       "      {'Weight': 1990, 'Displacement': 89},\n",
       "      {'Weight': 2135, 'Displacement': 98},\n",
       "      {'Weight': 3245, 'Displacement': 231},\n",
       "      {'Weight': 2990, 'Displacement': 200},\n",
       "      {'Weight': 2890, 'Displacement': 140},\n",
       "      {'Weight': 3265, 'Displacement': 232},\n",
       "      {'Weight': 3360, 'Displacement': 225},\n",
       "      {'Weight': 3840, 'Displacement': 305},\n",
       "      {'Weight': 3725, 'Displacement': 302},\n",
       "      {'Weight': 3955, 'Displacement': 351},\n",
       "      {'Weight': 3830, 'Displacement': 318},\n",
       "      {'Weight': 4360, 'Displacement': 350},\n",
       "      {'Weight': 4054, 'Displacement': 351},\n",
       "      {'Weight': 3605, 'Displacement': 267},\n",
       "      {'Weight': 3940, 'Displacement': 360},\n",
       "      {'Weight': 1925, 'Displacement': 89},\n",
       "      {'Weight': 1975, 'Displacement': 86},\n",
       "      {'Weight': 1915, 'Displacement': 98},\n",
       "      {'Weight': 2670, 'Displacement': 121},\n",
       "      {'Weight': 3530, 'Displacement': 183},\n",
       "      {'Weight': 3900, 'Displacement': 350},\n",
       "      {'Weight': 3190, 'Displacement': 141},\n",
       "      {'Weight': 3420, 'Displacement': 260},\n",
       "      {'Weight': 2200, 'Displacement': 105},\n",
       "      {'Weight': 2150, 'Displacement': 105},\n",
       "      {'Weight': 2020, 'Displacement': 85},\n",
       "      {'Weight': 2130, 'Displacement': 91},\n",
       "      {'Weight': 2670, 'Displacement': 151},\n",
       "      {'Weight': 2595, 'Displacement': 173},\n",
       "      {'Weight': 2700, 'Displacement': 173},\n",
       "      {'Weight': 2556, 'Displacement': 151},\n",
       "      {'Weight': 2144, 'Displacement': 98},\n",
       "      {'Weight': 1968, 'Displacement': 89},\n",
       "      {'Weight': 2120, 'Displacement': 98},\n",
       "      {'Weight': 2019, 'Displacement': 86},\n",
       "      {'Weight': 2678, 'Displacement': 151},\n",
       "      {'Weight': 2870, 'Displacement': 140},\n",
       "      {'Weight': 3003, 'Displacement': 151},\n",
       "      {'Weight': 3381, 'Displacement': 225},\n",
       "      {'Weight': 2188, 'Displacement': 97},\n",
       "      {'Weight': 2711, 'Displacement': 134},\n",
       "      {'Weight': 2542, 'Displacement': 120},\n",
       "      {'Weight': 2434, 'Displacement': 119},\n",
       "      {'Weight': 2265, 'Displacement': 108},\n",
       "      {'Weight': 2110, 'Displacement': 86},\n",
       "      {'Weight': 2800, 'Displacement': 156},\n",
       "      {'Weight': 2110, 'Displacement': 85},\n",
       "      {'Weight': 2085, 'Displacement': 90},\n",
       "      {'Weight': 2335, 'Displacement': 90},\n",
       "      {'Weight': 2950, 'Displacement': 121},\n",
       "      {'Weight': 3250, 'Displacement': 146},\n",
       "      {'Weight': 1850, 'Displacement': 91},\n",
       "      {'Weight': 2145, 'Displacement': 97},\n",
       "      {'Weight': 1845, 'Displacement': 89},\n",
       "      {'Weight': 2910, 'Displacement': 168},\n",
       "      {'Weight': 2420, 'Displacement': 70},\n",
       "      {'Weight': 2500, 'Displacement': 122},\n",
       "      {'Weight': 2290, 'Displacement': 107},\n",
       "      {'Weight': 2490, 'Displacement': 135},\n",
       "      {'Weight': 2635, 'Displacement': 151},\n",
       "      {'Weight': 2620, 'Displacement': 156},\n",
       "      {'Weight': 2725, 'Displacement': 173},\n",
       "      {'Weight': 2385, 'Displacement': 135},\n",
       "      {'Weight': 1755, 'Displacement': 79},\n",
       "      {'Weight': 1875, 'Displacement': 86},\n",
       "      {'Weight': 1760, 'Displacement': 81},\n",
       "      {'Weight': 2065, 'Displacement': 97},\n",
       "      {'Weight': 1975, 'Displacement': 85},\n",
       "      {'Weight': 2050, 'Displacement': 89},\n",
       "      {'Weight': 1985, 'Displacement': 91},\n",
       "      {'Weight': 2215, 'Displacement': 105},\n",
       "      {'Weight': 2045, 'Displacement': 98},\n",
       "      {'Weight': 2380, 'Displacement': 98},\n",
       "      {'Weight': 2190, 'Displacement': 105},\n",
       "      {'Weight': 2210, 'Displacement': 107},\n",
       "      {'Weight': 2350, 'Displacement': 108},\n",
       "      {'Weight': 2615, 'Displacement': 119},\n",
       "      {'Weight': 2635, 'Displacement': 120},\n",
       "      {'Weight': 3230, 'Displacement': 141},\n",
       "      {'Weight': 3160, 'Displacement': 145},\n",
       "      {'Weight': 2900, 'Displacement': 168},\n",
       "      {'Weight': 2930, 'Displacement': 146},\n",
       "      {'Weight': 3415, 'Displacement': 231},\n",
       "      {'Weight': 3725, 'Displacement': 350},\n",
       "      {'Weight': 3060, 'Displacement': 200},\n",
       "      {'Weight': 3465, 'Displacement': 225},\n",
       "      {'Weight': 2605, 'Displacement': 112},\n",
       "      {'Weight': 2640, 'Displacement': 112},\n",
       "      {'Weight': 2395, 'Displacement': 112},\n",
       "      {'Weight': 2575, 'Displacement': 112},\n",
       "      {'Weight': 2525, 'Displacement': 135},\n",
       "      {'Weight': 2735, 'Displacement': 151},\n",
       "      {'Weight': 2865, 'Displacement': 140},\n",
       "      {'Weight': 1980, 'Displacement': 105},\n",
       "      {'Weight': 2025, 'Displacement': 91},\n",
       "      {'Weight': 1970, 'Displacement': 91},\n",
       "      {'Weight': 2125, 'Displacement': 105},\n",
       "      {'Weight': 2125, 'Displacement': 98},\n",
       "      {'Weight': 2160, 'Displacement': 120},\n",
       "      {'Weight': 2205, 'Displacement': 107},\n",
       "      {'Weight': 2245, 'Displacement': 108},\n",
       "      {'Weight': 1965, 'Displacement': 91},\n",
       "      {'Weight': 1965, 'Displacement': 91},\n",
       "      {'Weight': 1995, 'Displacement': 91},\n",
       "      {'Weight': 2945, 'Displacement': 181},\n",
       "      {'Weight': 3015, 'Displacement': 262},\n",
       "      {'Weight': 2585, 'Displacement': 156},\n",
       "      {'Weight': 2835, 'Displacement': 232},\n",
       "      {'Weight': 2665, 'Displacement': 144},\n",
       "      {'Weight': 2370, 'Displacement': 135},\n",
       "      {'Weight': 2950, 'Displacement': 151},\n",
       "      {'Weight': 2790, 'Displacement': 140},\n",
       "      {'Weight': 2130, 'Displacement': 97},\n",
       "      {'Weight': 2295, 'Displacement': 135},\n",
       "      {'Weight': 2625, 'Displacement': 120},\n",
       "      {'Weight': 2720, 'Displacement': 119}]},\n",
       "    'width': 160,\n",
       "    'height': 150,\n",
       "    'code': \"import altair as alt\\n\\nchart = alt.Chart(df).mark_circle().encode(\\n\\tx=alt.X('Weight',scale=alt.Scale(zero=False),type='quantitative'),\\n    y=alt.Y('Displacement',scale=alt.Scale(zero=False),type='quantitative')\\n)\\nchart = chart.configure_mark(tooltip=alt.TooltipContent('encoding')) # Setting tooltip as non-null\\nchart = chart.interactive() # Enable Zooming and Panning\\n\"}]},\n",
       " None,\n",
       " {'action': 'Category',\n",
       "  'description': 'Show bar chart distributions of different attributes in the dataset.',\n",
       "  'vspec': [{'config': {'view': {'continuousWidth': 400,\n",
       "      'continuousHeight': 300},\n",
       "     'mark': {'tooltip': {'content': 'encoding'}}},\n",
       "    'data': {'name': 'data-dce13a4266057e29cb85ebaf810dfe91'},\n",
       "    'mark': 'bar',\n",
       "    'encoding': {'x': {'type': 'quantitative',\n",
       "      'field': 'Record',\n",
       "      'title': 'Count of Record'},\n",
       "     'y': {'type': 'nominal',\n",
       "      'axis': {'labelOverlap': True},\n",
       "      'field': 'Cylinders'}},\n",
       "    '$schema': 'https://vega.github.io/schema/vega-lite/v4.8.1.json',\n",
       "    'datasets': {'data-dce13a4266057e29cb85ebaf810dfe91': [{'Cylinders': 3,\n",
       "       'Record': 4},\n",
       "      {'Cylinders': 4, 'Record': 199},\n",
       "      {'Cylinders': 5, 'Record': 3},\n",
       "      {'Cylinders': 6, 'Record': 83},\n",
       "      {'Cylinders': 8, 'Record': 103}]},\n",
       "    'width': 160,\n",
       "    'height': 150,\n",
       "    'code': '\\n\\t\\timport altair as alt\\n\\t\\t# Altair code placeholder\\n\\t\\t'},\n",
       "   {'config': {'view': {'continuousWidth': 400, 'continuousHeight': 300},\n",
       "     'mark': {'tooltip': {'content': 'encoding'}}},\n",
       "    'data': {'name': 'data-0985ffa20e4510c8d0c036fc2a5cf644'},\n",
       "    'mark': 'bar',\n",
       "    'encoding': {'x': {'type': 'quantitative',\n",
       "      'field': 'Record',\n",
       "      'title': 'Count of Record'},\n",
       "     'y': {'type': 'nominal',\n",
       "      'axis': {'labelOverlap': True},\n",
       "      'field': 'Origin'}},\n",
       "    '$schema': 'https://vega.github.io/schema/vega-lite/v4.8.1.json',\n",
       "    'datasets': {'data-0985ffa20e4510c8d0c036fc2a5cf644': [{'Origin': 'Europe',\n",
       "       'Record': 68},\n",
       "      {'Origin': 'Japan', 'Record': 79},\n",
       "      {'Origin': 'USA', 'Record': 245}]},\n",
       "    'width': 160,\n",
       "    'height': 150,\n",
       "    'code': '\\n\\t\\timport altair as alt\\n\\t\\t# Altair code placeholder\\n\\t\\t'}]}]"
      ]
     },
     "execution_count": 5,
     "metadata": {},
     "output_type": "execute_result"
    }
   ],
   "source": [
    "df.widget.selectedVisLst"
   ]
  },
  {
   "cell_type": "markdown",
   "metadata": {},
   "source": [
    "Intuitively, we expect cars with more horsepower means higher acceleration, but we are actually seeing the opposite of that trend.\n",
    "Let's learn more about whether there are additional factors that is affecting this relationship."
   ]
  },
  {
   "cell_type": "code",
   "execution_count": 5,
   "metadata": {},
   "outputs": [
    {
     "name": "stderr",
     "output_type": "stream",
     "text": [
      "/Users/dorislee/Desktop/Research/lux/lux/lux/compiler/Validator.py:30: FutureWarning: elementwise comparison failed; returning scalar instead, but in the future will perform elementwise comparison\n",
      "  checkValExists = spec.attribute in uniqueVals and spec.value in uniqueVals[spec.attribute]\n"
     ]
    },
    {
     "data": {
      "application/vnd.jupyter.widget-view+json": {
       "model_id": "f9f83c19de1b4fec86faa9bf321fc570",
       "version_major": 2,
       "version_minor": 0
      },
      "text/plain": [
       "LuxWidget(current_view={'config': {'view': {'continuousWidth': 400, 'continuousHeight': 300}, 'mark': {'toolti…"
      ]
     },
     "metadata": {},
     "output_type": "display_data"
    },
    {
     "data": {
      "text/plain": []
     },
     "execution_count": 5,
     "metadata": {},
     "output_type": "execute_result"
    }
   ],
   "source": [
    "df.setContext([lux.Spec(attribute = \"Acceleration\"),lux.Spec(attribute = \"Horsepower\")])\n",
    "df"
   ]
  },
  {
   "cell_type": "markdown",
   "metadata": {},
   "source": [
    "In Enhance, all the added variable (color), except MilesPerGal, shows a trend for the value being higher on the upper-left end, and value decreases towards the bottom-right.\n",
    "Now given these three other variables, let's look at what the Displacement and Weight is like for different Cylinder cars."
   ]
  },
  {
   "cell_type": "code",
   "execution_count": 6,
   "metadata": {},
   "outputs": [
    {
     "data": {
      "application/vnd.jupyter.widget-view+json": {
       "model_id": "9b3be307d8ce45b3b59effe352a65c28",
       "version_major": 2,
       "version_minor": 0
      },
      "text/plain": [
       "LuxWidget(current_view={'config': {'view': {'continuousWidth': 400, 'continuousHeight': 300}, 'mark': {'toolti…"
      ]
     },
     "metadata": {},
     "output_type": "display_data"
    },
    {
     "data": {
      "text/plain": []
     },
     "execution_count": 6,
     "metadata": {},
     "output_type": "execute_result"
    }
   ],
   "source": [
    "# from lux.executor.PandasExecutor import PandasExecutor\n",
    "df.setContext([lux.Spec(attribute = \"Cylinders\"), lux.Spec(attribute = \"MilesPerGal\")])\n",
    "df"
   ]
  },
  {
   "cell_type": "markdown",
   "metadata": {},
   "source": [
    "The Count distribution shows that there is not a lot of cars with 3 and 5 cylinders, so let's clean the data up to remove those."
   ]
  },
  {
   "cell_type": "code",
   "execution_count": 7,
   "metadata": {},
   "outputs": [
    {
     "data": {
      "text/html": [
       "<div>\n",
       "<style scoped>\n",
       "    .dataframe tbody tr th:only-of-type {\n",
       "        vertical-align: middle;\n",
       "    }\n",
       "\n",
       "    .dataframe tbody tr th {\n",
       "        vertical-align: top;\n",
       "    }\n",
       "\n",
       "    .dataframe thead th {\n",
       "        text-align: right;\n",
       "    }\n",
       "</style>\n",
       "<table border=\"1\" class=\"dataframe\">\n",
       "  <thead>\n",
       "    <tr style=\"text-align: right;\">\n",
       "      <th></th>\n",
       "      <th>Name</th>\n",
       "      <th>MilesPerGal</th>\n",
       "      <th>Cylinders</th>\n",
       "      <th>Displacement</th>\n",
       "      <th>Horsepower</th>\n",
       "      <th>Weight</th>\n",
       "      <th>Acceleration</th>\n",
       "      <th>Year</th>\n",
       "      <th>Origin</th>\n",
       "    </tr>\n",
       "  </thead>\n",
       "  <tbody>\n",
       "    <tr>\n",
       "      <th>70</th>\n",
       "      <td>mazda rx2 coupe</td>\n",
       "      <td>19.0</td>\n",
       "      <td>3</td>\n",
       "      <td>70.0</td>\n",
       "      <td>97</td>\n",
       "      <td>2330</td>\n",
       "      <td>13.5</td>\n",
       "      <td>1972-01-01</td>\n",
       "      <td>Japan</td>\n",
       "    </tr>\n",
       "    <tr>\n",
       "      <th>110</th>\n",
       "      <td>maxda rx3</td>\n",
       "      <td>18.0</td>\n",
       "      <td>3</td>\n",
       "      <td>70.0</td>\n",
       "      <td>90</td>\n",
       "      <td>2124</td>\n",
       "      <td>13.5</td>\n",
       "      <td>1973-01-01</td>\n",
       "      <td>Japan</td>\n",
       "    </tr>\n",
       "    <tr>\n",
       "      <th>241</th>\n",
       "      <td>mazda rx-4</td>\n",
       "      <td>21.5</td>\n",
       "      <td>3</td>\n",
       "      <td>80.0</td>\n",
       "      <td>110</td>\n",
       "      <td>2720</td>\n",
       "      <td>13.5</td>\n",
       "      <td>1977-01-01</td>\n",
       "      <td>Japan</td>\n",
       "    </tr>\n",
       "    <tr>\n",
       "      <th>331</th>\n",
       "      <td>mazda rx-7 gs</td>\n",
       "      <td>23.7</td>\n",
       "      <td>3</td>\n",
       "      <td>70.0</td>\n",
       "      <td>100</td>\n",
       "      <td>2420</td>\n",
       "      <td>12.5</td>\n",
       "      <td>1980-01-01</td>\n",
       "      <td>Japan</td>\n",
       "    </tr>\n",
       "  </tbody>\n",
       "</table>\n",
       "</div>"
      ],
      "text/plain": [
       "                Name  MilesPerGal  Cylinders  Displacement  Horsepower  \\\n",
       "70   mazda rx2 coupe         19.0          3          70.0          97   \n",
       "110        maxda rx3         18.0          3          70.0          90   \n",
       "241       mazda rx-4         21.5          3          80.0         110   \n",
       "331    mazda rx-7 gs         23.7          3          70.0         100   \n",
       "\n",
       "     Weight  Acceleration       Year Origin  \n",
       "70     2330          13.5 1972-01-01  Japan  \n",
       "110    2124          13.5 1973-01-01  Japan  \n",
       "241    2720          13.5 1977-01-01  Japan  \n",
       "331    2420          12.5 1980-01-01  Japan  "
      ]
     },
     "execution_count": 7,
     "metadata": {},
     "output_type": "execute_result"
    }
   ],
   "source": [
    "df[df[\"Cylinders\"]==3].toPandas()"
   ]
  },
  {
   "cell_type": "code",
   "execution_count": 8,
   "metadata": {},
   "outputs": [
    {
     "data": {
      "text/html": [
       "<div>\n",
       "<style scoped>\n",
       "    .dataframe tbody tr th:only-of-type {\n",
       "        vertical-align: middle;\n",
       "    }\n",
       "\n",
       "    .dataframe tbody tr th {\n",
       "        vertical-align: top;\n",
       "    }\n",
       "\n",
       "    .dataframe thead th {\n",
       "        text-align: right;\n",
       "    }\n",
       "</style>\n",
       "<table border=\"1\" class=\"dataframe\">\n",
       "  <thead>\n",
       "    <tr style=\"text-align: right;\">\n",
       "      <th></th>\n",
       "      <th>Name</th>\n",
       "      <th>MilesPerGal</th>\n",
       "      <th>Cylinders</th>\n",
       "      <th>Displacement</th>\n",
       "      <th>Horsepower</th>\n",
       "      <th>Weight</th>\n",
       "      <th>Acceleration</th>\n",
       "      <th>Year</th>\n",
       "      <th>Origin</th>\n",
       "    </tr>\n",
       "  </thead>\n",
       "  <tbody>\n",
       "    <tr>\n",
       "      <th>272</th>\n",
       "      <td>audi 5000</td>\n",
       "      <td>20.3</td>\n",
       "      <td>5</td>\n",
       "      <td>131.0</td>\n",
       "      <td>103</td>\n",
       "      <td>2830</td>\n",
       "      <td>15.9</td>\n",
       "      <td>1978-01-01</td>\n",
       "      <td>Europe</td>\n",
       "    </tr>\n",
       "    <tr>\n",
       "      <th>295</th>\n",
       "      <td>mercedes benz 300d</td>\n",
       "      <td>25.4</td>\n",
       "      <td>5</td>\n",
       "      <td>183.0</td>\n",
       "      <td>77</td>\n",
       "      <td>3530</td>\n",
       "      <td>20.1</td>\n",
       "      <td>1979-01-01</td>\n",
       "      <td>Europe</td>\n",
       "    </tr>\n",
       "    <tr>\n",
       "      <th>325</th>\n",
       "      <td>audi 5000s (diesel)</td>\n",
       "      <td>36.4</td>\n",
       "      <td>5</td>\n",
       "      <td>121.0</td>\n",
       "      <td>67</td>\n",
       "      <td>2950</td>\n",
       "      <td>19.9</td>\n",
       "      <td>1980-01-01</td>\n",
       "      <td>Europe</td>\n",
       "    </tr>\n",
       "  </tbody>\n",
       "</table>\n",
       "</div>"
      ],
      "text/plain": [
       "                    Name  MilesPerGal  Cylinders  Displacement  Horsepower  \\\n",
       "272            audi 5000         20.3          5         131.0         103   \n",
       "295   mercedes benz 300d         25.4          5         183.0          77   \n",
       "325  audi 5000s (diesel)         36.4          5         121.0          67   \n",
       "\n",
       "     Weight  Acceleration       Year  Origin  \n",
       "272    2830          15.9 1978-01-01  Europe  \n",
       "295    3530          20.1 1979-01-01  Europe  \n",
       "325    2950          19.9 1980-01-01  Europe  "
      ]
     },
     "execution_count": 8,
     "metadata": {},
     "output_type": "execute_result"
    }
   ],
   "source": [
    "df[df[\"Cylinders\"]==5].toPandas()\n"
   ]
  },
  {
   "cell_type": "code",
   "execution_count": 9,
   "metadata": {},
   "outputs": [
    {
     "data": {
      "application/vnd.jupyter.widget-view+json": {
       "model_id": "335fc599bddc420d8a7edc5318af422f",
       "version_major": 2,
       "version_minor": 0
      },
      "text/plain": [
       "LuxWidget(current_view={'config': {'view': {'continuousWidth': 400, 'continuousHeight': 300}, 'mark': {'toolti…"
      ]
     },
     "metadata": {},
     "output_type": "display_data"
    },
    {
     "data": {
      "text/plain": []
     },
     "execution_count": 9,
     "metadata": {},
     "output_type": "execute_result"
    }
   ],
   "source": [
    "newdf = df[(df[\"Cylinders\"]!=3) & (df[\"Cylinders\"]!=5)]\n",
    "newdf"
   ]
  },
  {
   "cell_type": "code",
   "execution_count": 8,
   "metadata": {},
   "outputs": [
    {
     "data": {
      "text/plain": [
       "[{'action': 'Correlation',\n",
       "  'description': 'Show relationships between two quantitative variables.',\n",
       "  'collection': <ViewCollection: [<View: Mark: scatter, Specs: [Spec < description:,channel:x,attribute:Weight,aggregation:,value:>dataModel:measure,dataType:quantitative,binSize:0, Spec < description:,channel:y,attribute:Displacement,aggregation:,value:>dataModel:measure,dataType:quantitative,binSize:0], Score:0.8942168489312856>, <View: Mark: scatter, Specs: [Spec < description:,channel:x,attribute:Displacement,aggregation:,value:>dataModel:measure,dataType:quantitative,binSize:0, Spec < description:,channel:y,attribute:Weight,aggregation:,value:>dataModel:measure,dataType:quantitative,binSize:0], Score:0.8942168489312854>, <View: Mark: scatter, Specs: [Spec < description:,channel:x,attribute:Weight,aggregation:,value:>dataModel:measure,dataType:quantitative,binSize:0, Spec < description:,channel:y,attribute:Horsepower,aggregation:,value:>dataModel:measure,dataType:quantitative,binSize:0], Score:0.7723234066019431>, <View: Mark: scatter, Specs: [Spec < description:,channel:x,attribute:Horsepower,aggregation:,value:>dataModel:measure,dataType:quantitative,binSize:0, Spec < description:,channel:y,attribute:Weight,aggregation:,value:>dataModel:measure,dataType:quantitative,binSize:0], Score:0.7723234066019431>, <View: Mark: scatter, Specs: [Spec < description:,channel:x,attribute:Displacement,aggregation:,value:>dataModel:measure,dataType:quantitative,binSize:0, Spec < description:,channel:y,attribute:Horsepower,aggregation:,value:>dataModel:measure,dataType:quantitative,binSize:0], Score:0.7676752548094311>, <View: Mark: scatter, Specs: [Spec < description:,channel:x,attribute:Horsepower,aggregation:,value:>dataModel:measure,dataType:quantitative,binSize:0, Spec < description:,channel:y,attribute:Displacement,aggregation:,value:>dataModel:measure,dataType:quantitative,binSize:0], Score:0.7676752548094311>, <View: Mark: scatter, Specs: [Spec < description:,channel:x,attribute:MilesPerGal,aggregation:,value:>dataModel:measure,dataType:quantitative,binSize:0, Spec < description:,channel:y,attribute:Weight,aggregation:,value:>dataModel:measure,dataType:quantitative,binSize:0], Score:0.766649302144744>, <View: Mark: scatter, Specs: [Spec < description:,channel:x,attribute:Weight,aggregation:,value:>dataModel:measure,dataType:quantitative,binSize:0, Spec < description:,channel:y,attribute:MilesPerGal,aggregation:,value:>dataModel:measure,dataType:quantitative,binSize:0], Score:0.766649302144744>, <View: Mark: scatter, Specs: [Spec < description:,channel:x,attribute:MilesPerGal,aggregation:,value:>dataModel:measure,dataType:quantitative,binSize:0, Spec < description:,channel:y,attribute:Displacement,aggregation:,value:>dataModel:measure,dataType:quantitative,binSize:0], Score:0.7314244905293269>, <View: Mark: scatter, Specs: [Spec < description:,channel:x,attribute:Displacement,aggregation:,value:>dataModel:measure,dataType:quantitative,binSize:0, Spec < description:,channel:y,attribute:MilesPerGal,aggregation:,value:>dataModel:measure,dataType:quantitative,binSize:0], Score:0.7314244905293267>, <View: Mark: scatter, Specs: [Spec < description:,channel:x,attribute:MilesPerGal,aggregation:,value:>dataModel:measure,dataType:quantitative,binSize:0, Spec < description:,channel:y,attribute:Horsepower,aggregation:,value:>dataModel:measure,dataType:quantitative,binSize:0], Score:0.7286609625238069>, <View: Mark: scatter, Specs: [Spec < description:,channel:x,attribute:Horsepower,aggregation:,value:>dataModel:measure,dataType:quantitative,binSize:0, Spec < description:,channel:y,attribute:MilesPerGal,aggregation:,value:>dataModel:measure,dataType:quantitative,binSize:0], Score:0.7286609625238069>, <View: Mark: scatter, Specs: [Spec < description:,channel:x,attribute:Acceleration,aggregation:,value:>dataModel:measure,dataType:quantitative,binSize:0, Spec < description:,channel:y,attribute:Horsepower,aggregation:,value:>dataModel:measure,dataType:quantitative,binSize:0], Score:0.433151292343172>, <View: Mark: scatter, Specs: [Spec < description:,channel:x,attribute:Horsepower,aggregation:,value:>dataModel:measure,dataType:quantitative,binSize:0, Spec < description:,channel:y,attribute:Acceleration,aggregation:,value:>dataModel:measure,dataType:quantitative,binSize:0], Score:0.433151292343172>, <View: Mark: scatter, Specs: [Spec < description:,channel:x,attribute:Acceleration,aggregation:,value:>dataModel:measure,dataType:quantitative,binSize:0, Spec < description:,channel:y,attribute:Displacement,aggregation:,value:>dataModel:measure,dataType:quantitative,binSize:0], Score:0.24940371173653128>]>},\n",
       " {'action': 'Distribution',\n",
       "  'description': 'Show univariate count distributions of different attributes in the dataset.',\n",
       "  'collection': <ViewCollection: [<View: Mark: histogram, Specs: [Spec < description:,channel:x,attribute:Horsepower,aggregation:,value:>dataModel:measure,dataType:quantitative,binSize:10, Spec < description:,channel:y,attribute:Record,aggregation:count,value:>dataModel:measure,dataType:quantitative,binSize:0], Score:1.152416328912255>, <View: Mark: histogram, Specs: [Spec < description:,channel:x,attribute:Displacement,aggregation:,value:>dataModel:measure,dataType:quantitative,binSize:10, Spec < description:,channel:y,attribute:Record,aggregation:count,value:>dataModel:measure,dataType:quantitative,binSize:0], Score:0.8309508030245141>, <View: Mark: histogram, Specs: [Spec < description:,channel:x,attribute:Weight,aggregation:,value:>dataModel:measure,dataType:quantitative,binSize:10, Spec < description:,channel:y,attribute:Record,aggregation:count,value:>dataModel:measure,dataType:quantitative,binSize:0], Score:0.8059701097156933>, <View: Mark: histogram, Specs: [Spec < description:,channel:x,attribute:Acceleration,aggregation:,value:>dataModel:measure,dataType:quantitative,binSize:10, Spec < description:,channel:y,attribute:Record,aggregation:count,value:>dataModel:measure,dataType:quantitative,binSize:0], Score:0.3957879344686073>, <View: Mark: histogram, Specs: [Spec < description:,channel:x,attribute:MilesPerGal,aggregation:,value:>dataModel:measure,dataType:quantitative,binSize:10, Spec < description:,channel:y,attribute:Record,aggregation:count,value:>dataModel:measure,dataType:quantitative,binSize:0], Score:0.021758881543819292>]>},\n",
       " {'action': 'Category',\n",
       "  'description': 'Show bar chart distributions of different attributes in the dataset.',\n",
       "  'collection': <ViewCollection: [<View: Mark: bar, Specs: [Spec < description:,channel:x,attribute:Record,aggregation:count,value:>dataModel:measure,dataType:quantitative,binSize:0, Spec < description:,channel:y,attribute:Origin,aggregation:,value:>dataModel:dimension,dataType:nominal,binSize:0], Score:0.04472098969349432>, <View: Mark: bar, Specs: [Spec < description:,channel:x,attribute:Record,aggregation:count,value:>dataModel:measure,dataType:quantitative,binSize:0, Spec < description:,channel:y,attribute:Cylinders,aggregation:,value:>dataModel:dimension,dataType:nominal,binSize:0], Score:0.012950708363173647>, <View: Mark: bar, Specs: [Spec < description:,channel:x,attribute:Record,aggregation:count,value:>dataModel:measure,dataType:quantitative,binSize:0, Spec < description:,channel:y,attribute:Name,aggregation:,value:>dataModel:dimension,dataType:nominal,binSize:0], Score:1.6221610037945047e-92>]>}]"
      ]
     },
     "execution_count": 8,
     "metadata": {},
     "output_type": "execute_result"
    }
   ],
   "source": [
    "df.recommendation"
   ]
  },
  {
   "cell_type": "code",
   "execution_count": null,
   "metadata": {},
   "outputs": [],
   "source": []
  }
 ],
 "metadata": {
  "kernelspec": {
   "display_name": "Python 3",
   "language": "python",
   "name": "python3"
  },
  "language_info": {
   "codemirror_mode": {
    "name": "ipython",
    "version": 3
   },
   "file_extension": ".py",
   "mimetype": "text/x-python",
   "name": "python",
   "nbconvert_exporter": "python",
   "pygments_lexer": "ipython3",
   "version": "3.7.7"
  }
 },
 "nbformat": 4,
 "nbformat_minor": 4
}
