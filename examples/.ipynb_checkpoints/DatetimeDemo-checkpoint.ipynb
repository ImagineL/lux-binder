{
 "cells": [
  {
   "cell_type": "markdown",
   "metadata": {},
   "source": [
    "# Datetime Tutorial\n",
    "This is a tutorial on how to prepare temporal data for use with Lux. To display temporal fields appropriately in Lux, the column must be converted into Pandas's [`datetime`](https://docs.python.org/3/library/datetime.html) objects. "
   ]
  },
  {
   "cell_type": "code",
   "execution_count": null,
   "metadata": {
    "scrolled": true
   },
   "outputs": [],
   "source": [
    "cd .."
   ]
  },
  {
   "cell_type": "code",
   "execution_count": null,
   "metadata": {},
   "outputs": [],
   "source": [
    "import pandas as pd\n",
    "import lux"
   ]
  },
  {
   "cell_type": "markdown",
   "metadata": {},
   "source": [
    "## Converting Strings to Datetime objects\n",
    "To convert column referencing dates/times into [`datetime`](https://docs.python.org/3/library/datetime.html) objects, we use [`pd.to_datetime`](https://pandas.pydata.org/pandas-docs/stable/reference/api/pandas.to_datetime.html).\n",
    "\n",
    "### Summary: \n",
    "\n",
    "```\n",
    "pd.to_datetime(['2020-01-01', '2020-01-15', '2020-02-01'],format=\"%Y-%m-%d\")\n",
    "```"
   ]
  },
  {
   "cell_type": "markdown",
   "metadata": {},
   "source": [
    "### Example:\n",
    "\n",
    "As an example, a dataframe might contain a `date` attribute as strings of dates:"
   ]
  },
  {
   "cell_type": "code",
   "execution_count": null,
   "metadata": {},
   "outputs": [],
   "source": [
    "df = pd.DataFrame({'date': ['2020-02-01', '2020-03-01', '2020-04-01', '2020-05-01','2020-06-01',],\n",
    "                   'value': [10.5,15.2,20.3,25.2, 14.2]})\n",
    "df"
   ]
  },
  {
   "cell_type": "markdown",
   "metadata": {},
   "source": [
    "This is the types detected in Pandas's data type [`dtype`](https://pandas.pydata.org/pandas-docs/stable/reference/api/pandas.DataFrame.dtypes.html):"
   ]
  },
  {
   "cell_type": "code",
   "execution_count": null,
   "metadata": {},
   "outputs": [],
   "source": [
    "df.dtypes"
   ]
  },
  {
   "cell_type": "markdown",
   "metadata": {},
   "source": [
    "Since `date` is detected as an object type in Pandas, in Lux the `date` field is recognized as a `nominal` field, instead of a `temporal` field:"
   ]
  },
  {
   "cell_type": "code",
   "execution_count": null,
   "metadata": {},
   "outputs": [],
   "source": [
    "df.data_type"
   ]
  },
  {
   "cell_type": "markdown",
   "metadata": {},
   "source": [
    "The typing has implications on the generated viss, since nominal chart types are displayed as bar charts, whereas temporal fields are plotted as time series line charts."
   ]
  },
  {
   "cell_type": "code",
   "execution_count": null,
   "metadata": {},
   "outputs": [],
   "source": [
    "from lux.vis.Vis import Vis\n",
    "vis = Vis([\"date\",\"value\"],df)\n",
    "vis"
   ]
  },
  {
   "cell_type": "markdown",
   "metadata": {},
   "source": [
    "To fix this, we can convert the `date` column into a datetime object by doing:"
   ]
  },
  {
   "cell_type": "code",
   "execution_count": null,
   "metadata": {},
   "outputs": [],
   "source": [
    "df['date'] = pd.to_datetime(df['date'],format=\"%Y-%m-%d\")\n",
    "df['date']"
   ]
  },
  {
   "cell_type": "markdown",
   "metadata": {},
   "source": [
    "After changing the Pandas data type to datetime, we see that date field is recognized as temporal fields in Lux."
   ]
  },
  {
   "cell_type": "code",
   "execution_count": null,
   "metadata": {},
   "outputs": [],
   "source": [
    "df.data_type"
   ]
  },
  {
   "cell_type": "code",
   "execution_count": null,
   "metadata": {},
   "outputs": [],
   "source": [
    "vis.refresh_source(df)\n",
    "vis"
   ]
  },
  {
   "cell_type": "markdown",
   "metadata": {},
   "source": [
    "## Advanced Date Manipulation\n",
    "You might notice earlier that all the dates in our example dataset are the first of the month. In this case, there may be situations where we only want to list the year and month, instead of the full date. Here, we look at how to handle these cases.\n",
    "\n",
    "Below we look at an example stocks dataset that also have `date` field with each row representing data for the first of each month."
   ]
  },
  {
   "cell_type": "code",
   "execution_count": null,
   "metadata": {},
   "outputs": [],
   "source": [
    "df = pd.read_csv(\"lux/data/stocks.csv\")\n",
    "\n",
    "df.dtypes"
   ]
  },
  {
   "cell_type": "code",
   "execution_count": null,
   "metadata": {},
   "outputs": [],
   "source": [
    "vis = Vis([\"date\",\"price\"],df)\n",
    "vis"
   ]
  },
  {
   "cell_type": "markdown",
   "metadata": {},
   "source": [
    "If we only want Lux to output the month and the year, we can convert the columnn to a [`PeriodIndex`](https://pandas.pydata.org/pandas-docs/stable/reference/api/pandas.PeriodIndex.html) using [`to_period`](https://pandas.pydata.org/pandas-docs/stable/reference/api/pandas.DatetimeIndex.to_period.html). The `freq` argument specifies the granularity of the output. In this case, we are using 'M' for monthly. You can find more about how to specify time periods [here](https://pandas.pydata.org/pandas-docs/stable/user_guide/timeseries.html#dateoffset-objects)."
   ]
  },
  {
   "cell_type": "code",
   "execution_count": null,
   "metadata": {},
   "outputs": [],
   "source": [
    "df[\"date\"] = pd.DatetimeIndex(df[\"date\"]).to_period(freq='M')"
   ]
  },
  {
   "cell_type": "code",
   "execution_count": null,
   "metadata": {},
   "outputs": [],
   "source": [
    "vis.refresh_source(df)\n",
    "vis"
   ]
  },
  {
   "cell_type": "code",
   "execution_count": null,
   "metadata": {},
   "outputs": [],
   "source": [
    "df['date']"
   ]
  },
  {
   "cell_type": "markdown",
   "metadata": {},
   "source": [
    "## Querying With Datetime Fields\n",
    "The string representation seen in the Dataframe can be used to filter out certain dates. \n",
    "For example, in the above `stocks` dataset, we converted the date column to a `PeriodIndex`. Now the string representation only shows the granularity we want to see. \n",
    "\n",
    "We can use that string representation to filter the dataframe in Pandas:"
   ]
  },
  {
   "cell_type": "code",
   "execution_count": null,
   "metadata": {},
   "outputs": [],
   "source": [
    "df[df['date'] == '2008-11']"
   ]
  },
  {
   "cell_type": "markdown",
   "metadata": {},
   "source": [
    "We can also use the same string representation for specifying a query in Lux."
   ]
  },
  {
   "cell_type": "code",
   "execution_count": null,
   "metadata": {},
   "outputs": [],
   "source": [
    "vis = Vis([\"date=2008-11\",\"price\",\"symbol\"],df)\n",
    "vis"
   ]
  }
 ],
 "metadata": {
  "history": [
   {
    "time": "2020-07-21T22:47:31.154Z",
    "type": "kernelReady"
   },
   {
    "code": "cd ..",
    "id": "8260cfe52e7b4c3cb5a03cdcf2d973e0",
    "order_count": 1,
    "time": "2020-07-21T22:47:31.334Z",
    "type": "selectCodeCell"
   },
   {
    "code": "cd ..",
    "id": "8260cfe52e7b4c3cb5a03cdcf2d973e0",
    "order_count": 1,
    "time": "2020-07-21T22:47:31.341Z",
    "type": "editCodeCell"
   },
   {
    "code": "cd ..",
    "id": "8260cfe52e7b4c3cb5a03cdcf2d973e0",
    "order_count": 1,
    "time": "2020-07-21T22:47:32.023Z",
    "type": "executeCodeCell"
   },
   {
    "code": "import pandas as pd\nimport lux",
    "id": "ae033f85fc294437bccdb71558e9dbc3",
    "order_count": 2,
    "time": "2020-07-21T22:47:32.054Z",
    "type": "selectCodeCell"
   },
   {
    "code": "cd ..",
    "id": "8260cfe52e7b4c3cb5a03cdcf2d973e0",
    "isPrintLuxDf": false,
    "isPrintPandasDf": false,
    "isPrintVis": false,
    "isPrintVisCollection": false,
    "order_count": 1,
    "time": "2020-07-21T22:47:32.064Z",
    "type": "completeCodeCell"
   },
   {
    "code": "import pandas as pd\nimport lux",
    "id": "ae033f85fc294437bccdb71558e9dbc3",
    "order_count": 2,
    "time": "2020-07-21T22:47:32.246Z",
    "type": "executeCodeCell"
   },
   {
    "code": "## Converting Strings to Datetime objects\nTo convert column referencing dates/times into [`datetime`](https://docs.python.org/3/library/datetime.html) objects, we use [`pd.to_datetime`](https://pandas.pydata.org/pandas-docs/stable/reference/api/pandas.to_datetime.html).\n\n### Summary: \n\n```\npd.to_datetime(['2020-01-01', '2020-01-15', '2020-02-01'],format=\"%Y-%m-%d\")\n```",
    "id": "3a5d12ecaddc4ccfa90cda68a1f353d2",
    "order_count": 3,
    "time": "2020-07-21T22:47:32.255Z",
    "type": "selectMarkdownCell"
   },
   {
    "code": "### Example:\n\nAs an example, a dataframe might contain a `date` attribute as strings of dates:",
    "id": "0c5f9c71366044928114227a865e6297",
    "order_count": 4,
    "time": "2020-07-21T22:47:32.454Z",
    "type": "selectMarkdownCell"
   },
   {
    "code": "import pandas as pd\nimport lux",
    "id": "ae033f85fc294437bccdb71558e9dbc3",
    "isPrintLuxDf": false,
    "isPrintPandasDf": false,
    "isPrintVis": false,
    "isPrintVisCollection": false,
    "order_count": 2,
    "time": "2020-07-21T22:47:32.770Z",
    "type": "completeCodeCell"
   },
   {
    "code": "df = pd.DataFrame({'date': ['2020-02-01', '2020-03-01', '2020-04-01', '2020-05-01','2020-06-01',],\n                   'value': [10.5,15.2,20.3,25.2, 14.2]})\ndf",
    "id": "4e485db9f8bb4269966381b47627630e",
    "order_count": 5,
    "time": "2020-07-21T22:47:32.923Z",
    "type": "selectCodeCell"
   },
   {
    "code": "df = pd.DataFrame({'date': ['2020-02-01', '2020-03-01', '2020-04-01', '2020-05-01','2020-06-01',],\n                   'value': [10.5,15.2,20.3,25.2, 14.2]})\ndf",
    "id": "4e485db9f8bb4269966381b47627630e",
    "order_count": 5,
    "time": "2020-07-21T22:47:33.412Z",
    "type": "executeCodeCell"
   },
   {
    "code": "This is the types detected in Pandas's data type [`dtype`](https://pandas.pydata.org/pandas-docs/stable/reference/api/pandas.DataFrame.dtypes.html):",
    "id": "d51fcfa5f60a40789be03b4f924fe093",
    "order_count": 6,
    "time": "2020-07-21T22:47:33.421Z",
    "type": "selectMarkdownCell"
   },
   {
    "code": "df = pd.DataFrame({'date': ['2020-02-01', '2020-03-01', '2020-04-01', '2020-05-01','2020-06-01',],\n                   'value': [10.5,15.2,20.3,25.2, 14.2]})\ndf",
    "id": "4e485db9f8bb4269966381b47627630e",
    "isPrintLuxDf": false,
    "isPrintPandasDf": true,
    "isPrintVis": false,
    "isPrintVisCollection": false,
    "order_count": 5,
    "time": "2020-07-21T22:47:33.989Z",
    "type": "completeCodeCell"
   },
   {
    "code": "df.dtypes",
    "id": "a554f55a7f21436ba280896fe9579b7e",
    "order_count": 7,
    "time": "2020-07-21T22:47:34.252Z",
    "type": "selectCodeCell"
   },
   {
    "code": "df.dtypes",
    "id": "a554f55a7f21436ba280896fe9579b7e",
    "order_count": 7,
    "time": "2020-07-21T22:47:34.933Z",
    "type": "executeCodeCell"
   },
   {
    "code": "Since `date` is detected as an object type in Pandas, in Lux the `date` field is recognized as a `nominal` field, instead of a `temporal` field:",
    "id": "b23214bd812c4c62881d2f9d58094f58",
    "order_count": 8,
    "time": "2020-07-21T22:47:34.942Z",
    "type": "selectMarkdownCell"
   },
   {
    "code": "df.dtypes",
    "id": "a554f55a7f21436ba280896fe9579b7e",
    "isPrintLuxDf": false,
    "isPrintPandasDf": false,
    "isPrintVis": false,
    "isPrintVisCollection": false,
    "order_count": 7,
    "time": "2020-07-21T22:47:34.951Z",
    "type": "completeCodeCell"
   },
   {
    "code": "df.data_type",
    "id": "6a4fe8a8fc124aaa8b9cc5b9640e4a6f",
    "order_count": 9,
    "time": "2020-07-21T22:47:35.945Z",
    "type": "selectCodeCell"
   },
   {
    "code": "df.data_type",
    "id": "6a4fe8a8fc124aaa8b9cc5b9640e4a6f",
    "order_count": 9,
    "time": "2020-07-21T22:47:36.285Z",
    "type": "executeCodeCell"
   },
   {
    "code": "The typing has implications on the generated viss, since nominal chart types are displayed as bar charts, whereas temporal fields are plotted as time series line charts.",
    "id": "2bd326f1580441669b8a9da5beda67e4",
    "order_count": 10,
    "time": "2020-07-21T22:47:36.293Z",
    "type": "selectMarkdownCell"
   },
   {
    "code": "df.data_type",
    "id": "6a4fe8a8fc124aaa8b9cc5b9640e4a6f",
    "isPrintLuxDf": false,
    "isPrintPandasDf": false,
    "isPrintVis": false,
    "isPrintVisCollection": false,
    "order_count": 9,
    "time": "2020-07-21T22:47:36.301Z",
    "type": "completeCodeCell"
   },
   {
    "code": "from lux.vis.Vis import Vis\nvis = Vis([\"date\",\"value\"],df)\nvis",
    "id": "f9db704bdefe46328d72ac716984e314",
    "order_count": 11,
    "time": "2020-07-21T22:47:36.883Z",
    "type": "selectCodeCell"
   },
   {
    "code": "from lux.vis.Vis import Vis\nvis = Vis([\"date\",\"value\"],df)\nvis",
    "id": "f9db704bdefe46328d72ac716984e314",
    "order_count": 11,
    "time": "2020-07-21T22:47:37.205Z",
    "type": "executeCodeCell"
   },
   {
    "code": "To fix this, we can convert the `date` column into a datetime object by doing:",
    "id": "04823f7aa9364ca1980974f94246539e",
    "order_count": 12,
    "time": "2020-07-21T22:47:37.213Z",
    "type": "selectMarkdownCell"
   },
   {
    "code": "from lux.vis.Vis import Vis\nvis = Vis([\"date\",\"value\"],df)\nvis",
    "id": "f9db704bdefe46328d72ac716984e314",
    "isPrintLuxDf": false,
    "isPrintPandasDf": false,
    "isPrintVis": true,
    "isPrintVisCollection": false,
    "order_count": 11,
    "time": "2020-07-21T22:47:37.254Z",
    "type": "completeCodeCell"
   },
   {
    "param": "",
    "time": "2020-07-21T22:47:37.274Z",
    "type": "initWidget"
   },
   {
    "code": "df['date'] = pd.to_datetime(df['date'],format=\"%Y-%m-%d\")\ndf['date']",
    "id": "fd53c725796843f78d6a703c956853ed",
    "order_count": 13,
    "time": "2020-07-21T22:47:38.612Z",
    "type": "selectCodeCell"
   },
   {
    "code": "df['date'] = pd.to_datetime(df['date'],format=\"%Y-%m-%d\")\ndf['date']",
    "id": "fd53c725796843f78d6a703c956853ed",
    "order_count": 13,
    "time": "2020-07-21T22:47:39.750Z",
    "type": "executeCodeCell"
   },
   {
    "code": "After changing the Pandas data type to datetime, we see that date field is recognized as temporal fields in Lux.",
    "id": "91842c4a4ea343a885e597d7095070f5",
    "order_count": 14,
    "time": "2020-07-21T22:47:39.758Z",
    "type": "selectMarkdownCell"
   },
   {
    "code": "df['date'] = pd.to_datetime(df['date'],format=\"%Y-%m-%d\")\ndf['date']",
    "id": "fd53c725796843f78d6a703c956853ed",
    "isPrintLuxDf": false,
    "isPrintPandasDf": false,
    "isPrintVis": false,
    "isPrintVisCollection": false,
    "order_count": 13,
    "time": "2020-07-21T22:47:39.766Z",
    "type": "completeCodeCell"
   },
   {
    "code": "df.data_type",
    "id": "49fc01bea61b49ed82fddc7254320961",
    "order_count": 15,
    "time": "2020-07-21T22:47:41.398Z",
    "type": "selectCodeCell"
   },
   {
    "code": "df.data_type",
    "id": "49fc01bea61b49ed82fddc7254320961",
    "order_count": 15,
    "time": "2020-07-21T22:47:42.088Z",
    "type": "executeCodeCell"
   },
   {
    "code": "vis.refresh_source(df)\nvis",
    "id": "91287f966e0b491f8489eb645cb29638",
    "order_count": 16,
    "time": "2020-07-21T22:47:42.103Z",
    "type": "selectCodeCell"
   },
   {
    "code": "df.data_type",
    "id": "49fc01bea61b49ed82fddc7254320961",
    "isPrintLuxDf": false,
    "isPrintPandasDf": false,
    "isPrintVis": false,
    "isPrintVisCollection": false,
    "order_count": 15,
    "time": "2020-07-21T22:47:42.110Z",
    "type": "completeCodeCell"
   },
   {
    "code": "vis.refresh_source(df)\nvis",
    "id": "91287f966e0b491f8489eb645cb29638",
    "order_count": 16,
    "time": "2020-07-21T22:47:44.245Z",
    "type": "executeCodeCell"
   },
   {
    "code": "## Advanced Date Manipulation\nYou might notice earlier that all the dates in our example dataset are the first of the month. In this case, there may be situations where we only want to list the year and month, instead of the full date. Here, we look at how to handle these cases.\n\nBelow we look at an example stocks dataset that also have `date` field with each row representing data for the first of each month.",
    "id": "e2dd49125e5e49868e7dc8957819ae7f",
    "order_count": 17,
    "time": "2020-07-21T22:47:44.253Z",
    "type": "selectMarkdownCell"
   },
   {
    "code": "vis.refresh_source(df)\nvis",
    "id": "91287f966e0b491f8489eb645cb29638",
    "isPrintLuxDf": false,
    "isPrintPandasDf": false,
    "isPrintVis": true,
    "isPrintVisCollection": false,
    "order_count": 16,
    "time": "2020-07-21T22:47:44.297Z",
    "type": "completeCodeCell"
   },
   {
    "param": "",
    "time": "2020-07-21T22:47:44.309Z",
    "type": "initWidget"
   },
   {
    "code": "df = pd.read_csv(\"lux/data/stocks.csv\")\n\ndf.dtypes",
    "id": "20e4a3f742d842f09d98be366d25f434",
    "order_count": 18,
    "time": "2020-07-21T22:47:46.011Z",
    "type": "selectCodeCell"
   },
   {
    "code": "df = pd.read_csv(\"lux/data/stocks.csv\")\n\ndf.dtypes",
    "id": "20e4a3f742d842f09d98be366d25f434",
    "order_count": 18,
    "time": "2020-07-21T22:47:46.782Z",
    "type": "executeCodeCell"
   },
   {
    "code": "vis = Vis([\"date\",\"price\"],df)\nvis",
    "id": "a6255929f84e4ac8b4cac41914d56c4c",
    "order_count": 19,
    "time": "2020-07-21T22:47:46.797Z",
    "type": "selectCodeCell"
   },
   {
    "code": "df = pd.read_csv(\"lux/data/stocks.csv\")\n\ndf.dtypes",
    "id": "20e4a3f742d842f09d98be366d25f434",
    "isPrintLuxDf": false,
    "isPrintPandasDf": false,
    "isPrintVis": false,
    "isPrintVisCollection": false,
    "order_count": 18,
    "time": "2020-07-21T22:47:46.803Z",
    "type": "completeCodeCell"
   },
   {
    "code": "vis = Vis([\"date\",\"price\"],df)\nvis",
    "id": "a6255929f84e4ac8b4cac41914d56c4c",
    "order_count": 19,
    "time": "2020-07-21T22:47:47.606Z",
    "type": "executeCodeCell"
   },
   {
    "code": "If we only want Lux to output the month and the year, we can convert the columnn to a [`PeriodIndex`](https://pandas.pydata.org/pandas-docs/stable/reference/api/pandas.PeriodIndex.html) using [`to_period`](https://pandas.pydata.org/pandas-docs/stable/reference/api/pandas.DatetimeIndex.to_period.html). The `freq` argument specifies the granularity of the output. In this case, we are using 'M' for monthly. You can find more about how to specify time periods [here](https://pandas.pydata.org/pandas-docs/stable/user_guide/timeseries.html#dateoffset-objects).",
    "id": "bdd98518b2d0429baab8f13f93c1e19b",
    "order_count": 20,
    "time": "2020-07-21T22:47:47.614Z",
    "type": "selectMarkdownCell"
   },
   {
    "code": "vis = Vis([\"date\",\"price\"],df)\nvis",
    "id": "a6255929f84e4ac8b4cac41914d56c4c",
    "isPrintLuxDf": false,
    "isPrintPandasDf": false,
    "isPrintVis": true,
    "isPrintVisCollection": false,
    "order_count": 19,
    "time": "2020-07-21T22:47:47.659Z",
    "type": "completeCodeCell"
   },
   {
    "param": "",
    "time": "2020-07-21T22:47:47.671Z",
    "type": "initWidget"
   },
   {
    "code": "df[\"date\"] = pd.DatetimeIndex(df[\"date\"]).to_period(freq='M')\ndf",
    "id": "1edfe9b1555c44488a93a2ad014c33bc",
    "order_count": 21,
    "time": "2020-07-21T22:47:48.699Z",
    "type": "selectCodeCell"
   },
   {
    "code": "df[\"date\"] = pd.DatetimeIndex(df[\"date\"]).to_period(freq='M')\ndf",
    "id": "1edfe9b1555c44488a93a2ad014c33bc",
    "order_count": 21,
    "time": "2020-07-21T22:47:49.301Z",
    "type": "executeCodeCell"
   },
   {
    "code": "vis.refresh_source(df)\nvis",
    "id": "b495a2e98acd44f4a2b427fe4d4330d4",
    "order_count": 22,
    "time": "2020-07-21T22:47:49.316Z",
    "type": "selectCodeCell"
   },
   {
    "code": "df[\"date\"] = pd.DatetimeIndex(df[\"date\"]).to_period(freq='M')\ndf",
    "id": "1edfe9b1555c44488a93a2ad014c33bc",
    "isPrintLuxDf": false,
    "isPrintPandasDf": true,
    "isPrintVis": false,
    "isPrintVisCollection": false,
    "order_count": 21,
    "time": "2020-07-21T22:47:49.443Z",
    "type": "completeCodeCell"
   },
   {
    "code": "df[\"date\"] = pd.DatetimeIndex(df[\"date\"]).to_period(freq='M')\ndf",
    "id": "1edfe9b1555c44488a93a2ad014c33bc",
    "order_count": 21,
    "time": "2020-07-21T22:47:52.239Z",
    "type": "selectCodeCell"
   },
   {
    "param": "",
    "time": "2020-07-21T22:47:52.272Z",
    "type": "initWidget"
   },
   {
    "param": "",
    "time": "2020-07-21T22:47:52.336Z",
    "type": "initWidget"
   },
   {
    "code": "df[\"date\"] = pd.DatetimeIndex(df[\"date\"]).to_period(freq='M')\ndf",
    "id": "1edfe9b1555c44488a93a2ad014c33bc",
    "order_count": 21,
    "time": "2020-07-21T22:47:53.828Z",
    "type": "selectCodeCell"
   },
   {
    "param": "Category",
    "time": "2020-07-21T22:47:53.830Z",
    "type": "switchTab"
   },
   {
    "code": "df[\"date\"] = pd.DatetimeIndex(df[\"date\"]).to_period(freq='M')\ndf",
    "id": "1edfe9b1555c44488a93a2ad014c33bc",
    "order_count": 21,
    "time": "2020-07-21T22:47:58.724Z",
    "type": "selectCodeCell"
   },
   {
    "param": "Temporal",
    "time": "2020-07-21T22:47:58.731Z",
    "type": "switchTab"
   },
   {
    "code": "df[\"date\"] = pd.DatetimeIndex(df[\"date\"]).to_period(freq='M')\ndf",
    "id": "1edfe9b1555c44488a93a2ad014c33bc",
    "order_count": 21,
    "time": "2020-07-21T22:48:00.859Z",
    "type": "selectCodeCell"
   },
   {
    "param": {
     "index": 0,
     "tabTitle": "Temporal",
     "vis": {
      "$schema": "https://vega.github.io/schema/vega-lite/v4.8.1.json",
      "config": {
       "view": {
        "continuousHeight": 300,
        "continuousWidth": 400
       }
      },
      "data": {
       "name": "data-64577f8ec3b822cae54b4793e8fe8a3d"
      },
      "datasets": {
       "data-64577f8ec3b822cae54b4793e8fe8a3d": [
        {
         "Record": 4,
         "date": "2000-01-01T00:00:00"
        },
        {
         "Record": 4,
         "date": "2000-02-01T00:00:00"
        },
        {
         "Record": 4,
         "date": "2000-03-01T00:00:00"
        },
        {
         "Record": 4,
         "date": "2000-04-01T00:00:00"
        },
        {
         "Record": 4,
         "date": "2000-05-01T00:00:00"
        },
        {
         "Record": 4,
         "date": "2000-06-01T00:00:00"
        },
        {
         "Record": 4,
         "date": "2000-07-01T00:00:00"
        },
        {
         "Record": 4,
         "date": "2000-08-01T00:00:00"
        },
        {
         "Record": 4,
         "date": "2000-09-01T00:00:00"
        },
        {
         "Record": 4,
         "date": "2000-10-01T00:00:00"
        },
        {
         "Record": 4,
         "date": "2000-11-01T00:00:00"
        },
        {
         "Record": 4,
         "date": "2000-12-01T00:00:00"
        },
        {
         "Record": 4,
         "date": "2001-01-01T00:00:00"
        },
        {
         "Record": 4,
         "date": "2001-02-01T00:00:00"
        },
        {
         "Record": 4,
         "date": "2001-03-01T00:00:00"
        },
        {
         "Record": 4,
         "date": "2001-04-01T00:00:00"
        },
        {
         "Record": 4,
         "date": "2001-05-01T00:00:00"
        },
        {
         "Record": 4,
         "date": "2001-06-01T00:00:00"
        },
        {
         "Record": 4,
         "date": "2001-07-01T00:00:00"
        },
        {
         "Record": 4,
         "date": "2001-08-01T00:00:00"
        },
        {
         "Record": 4,
         "date": "2001-09-01T00:00:00"
        },
        {
         "Record": 4,
         "date": "2001-10-01T00:00:00"
        },
        {
         "Record": 4,
         "date": "2001-11-01T00:00:00"
        },
        {
         "Record": 4,
         "date": "2001-12-01T00:00:00"
        },
        {
         "Record": 4,
         "date": "2002-01-01T00:00:00"
        },
        {
         "Record": 4,
         "date": "2002-02-01T00:00:00"
        },
        {
         "Record": 4,
         "date": "2002-03-01T00:00:00"
        },
        {
         "Record": 4,
         "date": "2002-04-01T00:00:00"
        },
        {
         "Record": 4,
         "date": "2002-05-01T00:00:00"
        },
        {
         "Record": 4,
         "date": "2002-06-01T00:00:00"
        },
        {
         "Record": 4,
         "date": "2002-07-01T00:00:00"
        },
        {
         "Record": 4,
         "date": "2002-08-01T00:00:00"
        },
        {
         "Record": 4,
         "date": "2002-09-01T00:00:00"
        },
        {
         "Record": 4,
         "date": "2002-10-01T00:00:00"
        },
        {
         "Record": 4,
         "date": "2002-11-01T00:00:00"
        },
        {
         "Record": 4,
         "date": "2002-12-01T00:00:00"
        },
        {
         "Record": 4,
         "date": "2003-01-01T00:00:00"
        },
        {
         "Record": 4,
         "date": "2003-02-01T00:00:00"
        },
        {
         "Record": 4,
         "date": "2003-03-01T00:00:00"
        },
        {
         "Record": 4,
         "date": "2003-04-01T00:00:00"
        },
        {
         "Record": 4,
         "date": "2003-05-01T00:00:00"
        },
        {
         "Record": 4,
         "date": "2003-06-01T00:00:00"
        },
        {
         "Record": 4,
         "date": "2003-07-01T00:00:00"
        },
        {
         "Record": 4,
         "date": "2003-08-01T00:00:00"
        },
        {
         "Record": 4,
         "date": "2003-09-01T00:00:00"
        },
        {
         "Record": 4,
         "date": "2003-10-01T00:00:00"
        },
        {
         "Record": 4,
         "date": "2003-11-01T00:00:00"
        },
        {
         "Record": 4,
         "date": "2003-12-01T00:00:00"
        },
        {
         "Record": 4,
         "date": "2004-01-01T00:00:00"
        },
        {
         "Record": 4,
         "date": "2004-02-01T00:00:00"
        },
        {
         "Record": 4,
         "date": "2004-03-01T00:00:00"
        },
        {
         "Record": 4,
         "date": "2004-04-01T00:00:00"
        },
        {
         "Record": 4,
         "date": "2004-05-01T00:00:00"
        },
        {
         "Record": 4,
         "date": "2004-06-01T00:00:00"
        },
        {
         "Record": 4,
         "date": "2004-07-01T00:00:00"
        },
        {
         "Record": 5,
         "date": "2004-08-01T00:00:00"
        },
        {
         "Record": 5,
         "date": "2004-09-01T00:00:00"
        },
        {
         "Record": 5,
         "date": "2004-10-01T00:00:00"
        },
        {
         "Record": 5,
         "date": "2004-11-01T00:00:00"
        },
        {
         "Record": 5,
         "date": "2004-12-01T00:00:00"
        },
        {
         "Record": 5,
         "date": "2005-01-01T00:00:00"
        },
        {
         "Record": 5,
         "date": "2005-02-01T00:00:00"
        },
        {
         "Record": 5,
         "date": "2005-03-01T00:00:00"
        },
        {
         "Record": 5,
         "date": "2005-04-01T00:00:00"
        },
        {
         "Record": 5,
         "date": "2005-05-01T00:00:00"
        },
        {
         "Record": 5,
         "date": "2005-06-01T00:00:00"
        },
        {
         "Record": 5,
         "date": "2005-07-01T00:00:00"
        },
        {
         "Record": 5,
         "date": "2005-08-01T00:00:00"
        },
        {
         "Record": 5,
         "date": "2005-09-01T00:00:00"
        },
        {
         "Record": 5,
         "date": "2005-10-01T00:00:00"
        },
        {
         "Record": 5,
         "date": "2005-11-01T00:00:00"
        },
        {
         "Record": 5,
         "date": "2005-12-01T00:00:00"
        },
        {
         "Record": 5,
         "date": "2006-01-01T00:00:00"
        },
        {
         "Record": 5,
         "date": "2006-02-01T00:00:00"
        },
        {
         "Record": 5,
         "date": "2006-03-01T00:00:00"
        },
        {
         "Record": 5,
         "date": "2006-04-01T00:00:00"
        },
        {
         "Record": 5,
         "date": "2006-05-01T00:00:00"
        },
        {
         "Record": 5,
         "date": "2006-06-01T00:00:00"
        },
        {
         "Record": 5,
         "date": "2006-07-01T00:00:00"
        },
        {
         "Record": 5,
         "date": "2006-08-01T00:00:00"
        },
        {
         "Record": 5,
         "date": "2006-09-01T00:00:00"
        },
        {
         "Record": 5,
         "date": "2006-10-01T00:00:00"
        },
        {
         "Record": 5,
         "date": "2006-11-01T00:00:00"
        },
        {
         "Record": 5,
         "date": "2006-12-01T00:00:00"
        },
        {
         "Record": 5,
         "date": "2007-01-01T00:00:00"
        },
        {
         "Record": 5,
         "date": "2007-02-01T00:00:00"
        },
        {
         "Record": 5,
         "date": "2007-03-01T00:00:00"
        },
        {
         "Record": 5,
         "date": "2007-04-01T00:00:00"
        },
        {
         "Record": 5,
         "date": "2007-05-01T00:00:00"
        },
        {
         "Record": 5,
         "date": "2007-06-01T00:00:00"
        },
        {
         "Record": 5,
         "date": "2007-07-01T00:00:00"
        },
        {
         "Record": 5,
         "date": "2007-08-01T00:00:00"
        },
        {
         "Record": 5,
         "date": "2007-09-01T00:00:00"
        },
        {
         "Record": 5,
         "date": "2007-10-01T00:00:00"
        },
        {
         "Record": 5,
         "date": "2007-11-01T00:00:00"
        },
        {
         "Record": 5,
         "date": "2007-12-01T00:00:00"
        },
        {
         "Record": 5,
         "date": "2008-01-01T00:00:00"
        },
        {
         "Record": 5,
         "date": "2008-02-01T00:00:00"
        },
        {
         "Record": 5,
         "date": "2008-03-01T00:00:00"
        },
        {
         "Record": 5,
         "date": "2008-04-01T00:00:00"
        },
        {
         "Record": 5,
         "date": "2008-05-01T00:00:00"
        },
        {
         "Record": 5,
         "date": "2008-06-01T00:00:00"
        },
        {
         "Record": 5,
         "date": "2008-07-01T00:00:00"
        },
        {
         "Record": 5,
         "date": "2008-08-01T00:00:00"
        },
        {
         "Record": 5,
         "date": "2008-09-01T00:00:00"
        },
        {
         "Record": 5,
         "date": "2008-10-01T00:00:00"
        },
        {
         "Record": 5,
         "date": "2008-11-01T00:00:00"
        },
        {
         "Record": 5,
         "date": "2008-12-01T00:00:00"
        },
        {
         "Record": 5,
         "date": "2009-01-01T00:00:00"
        },
        {
         "Record": 5,
         "date": "2009-02-01T00:00:00"
        },
        {
         "Record": 5,
         "date": "2009-03-01T00:00:00"
        },
        {
         "Record": 5,
         "date": "2009-04-01T00:00:00"
        },
        {
         "Record": 5,
         "date": "2009-05-01T00:00:00"
        },
        {
         "Record": 5,
         "date": "2009-06-01T00:00:00"
        },
        {
         "Record": 5,
         "date": "2009-07-01T00:00:00"
        },
        {
         "Record": 5,
         "date": "2009-08-01T00:00:00"
        },
        {
         "Record": 5,
         "date": "2009-09-01T00:00:00"
        },
        {
         "Record": 5,
         "date": "2009-10-01T00:00:00"
        },
        {
         "Record": 5,
         "date": "2009-11-01T00:00:00"
        },
        {
         "Record": 5,
         "date": "2009-12-01T00:00:00"
        },
        {
         "Record": 5,
         "date": "2010-01-01T00:00:00"
        },
        {
         "Record": 5,
         "date": "2010-02-01T00:00:00"
        },
        {
         "Record": 5,
         "date": "2010-03-01T00:00:00"
        }
       ]
      },
      "encoding": {
       "x": {
        "field": "date",
        "type": "temporal"
       },
       "y": {
        "field": "Record",
        "title": "Count of Record",
        "type": "quantitative"
       }
      },
      "height": 150,
      "mark": "line",
      "selection": {
       "selector002": {
        "bind": "scales",
        "encodings": [
         "x",
         "y"
        ],
        "type": "interval"
       }
      },
      "width": 160
     }
    },
    "time": "2020-07-21T22:48:00.862Z",
    "type": "clickVis"
   },
   {
    "code": "df[\"date\"] = pd.DatetimeIndex(df[\"date\"]).to_period(freq='M')\ndf",
    "id": "1edfe9b1555c44488a93a2ad014c33bc",
    "order_count": 21,
    "time": "2020-07-21T22:48:02.010Z",
    "type": "selectCodeCell"
   },
   {
    "param": {
     "index": 0,
     "tabTitle": "Temporal",
     "vis": {
      "$schema": "https://vega.github.io/schema/vega-lite/v4.8.1.json",
      "config": {
       "view": {
        "continuousHeight": 300,
        "continuousWidth": 400
       }
      },
      "data": {
       "name": "data-64577f8ec3b822cae54b4793e8fe8a3d"
      },
      "datasets": {
       "data-64577f8ec3b822cae54b4793e8fe8a3d": [
        {
         "Record": 4,
         "date": "2000-01-01T00:00:00"
        },
        {
         "Record": 4,
         "date": "2000-02-01T00:00:00"
        },
        {
         "Record": 4,
         "date": "2000-03-01T00:00:00"
        },
        {
         "Record": 4,
         "date": "2000-04-01T00:00:00"
        },
        {
         "Record": 4,
         "date": "2000-05-01T00:00:00"
        },
        {
         "Record": 4,
         "date": "2000-06-01T00:00:00"
        },
        {
         "Record": 4,
         "date": "2000-07-01T00:00:00"
        },
        {
         "Record": 4,
         "date": "2000-08-01T00:00:00"
        },
        {
         "Record": 4,
         "date": "2000-09-01T00:00:00"
        },
        {
         "Record": 4,
         "date": "2000-10-01T00:00:00"
        },
        {
         "Record": 4,
         "date": "2000-11-01T00:00:00"
        },
        {
         "Record": 4,
         "date": "2000-12-01T00:00:00"
        },
        {
         "Record": 4,
         "date": "2001-01-01T00:00:00"
        },
        {
         "Record": 4,
         "date": "2001-02-01T00:00:00"
        },
        {
         "Record": 4,
         "date": "2001-03-01T00:00:00"
        },
        {
         "Record": 4,
         "date": "2001-04-01T00:00:00"
        },
        {
         "Record": 4,
         "date": "2001-05-01T00:00:00"
        },
        {
         "Record": 4,
         "date": "2001-06-01T00:00:00"
        },
        {
         "Record": 4,
         "date": "2001-07-01T00:00:00"
        },
        {
         "Record": 4,
         "date": "2001-08-01T00:00:00"
        },
        {
         "Record": 4,
         "date": "2001-09-01T00:00:00"
        },
        {
         "Record": 4,
         "date": "2001-10-01T00:00:00"
        },
        {
         "Record": 4,
         "date": "2001-11-01T00:00:00"
        },
        {
         "Record": 4,
         "date": "2001-12-01T00:00:00"
        },
        {
         "Record": 4,
         "date": "2002-01-01T00:00:00"
        },
        {
         "Record": 4,
         "date": "2002-02-01T00:00:00"
        },
        {
         "Record": 4,
         "date": "2002-03-01T00:00:00"
        },
        {
         "Record": 4,
         "date": "2002-04-01T00:00:00"
        },
        {
         "Record": 4,
         "date": "2002-05-01T00:00:00"
        },
        {
         "Record": 4,
         "date": "2002-06-01T00:00:00"
        },
        {
         "Record": 4,
         "date": "2002-07-01T00:00:00"
        },
        {
         "Record": 4,
         "date": "2002-08-01T00:00:00"
        },
        {
         "Record": 4,
         "date": "2002-09-01T00:00:00"
        },
        {
         "Record": 4,
         "date": "2002-10-01T00:00:00"
        },
        {
         "Record": 4,
         "date": "2002-11-01T00:00:00"
        },
        {
         "Record": 4,
         "date": "2002-12-01T00:00:00"
        },
        {
         "Record": 4,
         "date": "2003-01-01T00:00:00"
        },
        {
         "Record": 4,
         "date": "2003-02-01T00:00:00"
        },
        {
         "Record": 4,
         "date": "2003-03-01T00:00:00"
        },
        {
         "Record": 4,
         "date": "2003-04-01T00:00:00"
        },
        {
         "Record": 4,
         "date": "2003-05-01T00:00:00"
        },
        {
         "Record": 4,
         "date": "2003-06-01T00:00:00"
        },
        {
         "Record": 4,
         "date": "2003-07-01T00:00:00"
        },
        {
         "Record": 4,
         "date": "2003-08-01T00:00:00"
        },
        {
         "Record": 4,
         "date": "2003-09-01T00:00:00"
        },
        {
         "Record": 4,
         "date": "2003-10-01T00:00:00"
        },
        {
         "Record": 4,
         "date": "2003-11-01T00:00:00"
        },
        {
         "Record": 4,
         "date": "2003-12-01T00:00:00"
        },
        {
         "Record": 4,
         "date": "2004-01-01T00:00:00"
        },
        {
         "Record": 4,
         "date": "2004-02-01T00:00:00"
        },
        {
         "Record": 4,
         "date": "2004-03-01T00:00:00"
        },
        {
         "Record": 4,
         "date": "2004-04-01T00:00:00"
        },
        {
         "Record": 4,
         "date": "2004-05-01T00:00:00"
        },
        {
         "Record": 4,
         "date": "2004-06-01T00:00:00"
        },
        {
         "Record": 4,
         "date": "2004-07-01T00:00:00"
        },
        {
         "Record": 5,
         "date": "2004-08-01T00:00:00"
        },
        {
         "Record": 5,
         "date": "2004-09-01T00:00:00"
        },
        {
         "Record": 5,
         "date": "2004-10-01T00:00:00"
        },
        {
         "Record": 5,
         "date": "2004-11-01T00:00:00"
        },
        {
         "Record": 5,
         "date": "2004-12-01T00:00:00"
        },
        {
         "Record": 5,
         "date": "2005-01-01T00:00:00"
        },
        {
         "Record": 5,
         "date": "2005-02-01T00:00:00"
        },
        {
         "Record": 5,
         "date": "2005-03-01T00:00:00"
        },
        {
         "Record": 5,
         "date": "2005-04-01T00:00:00"
        },
        {
         "Record": 5,
         "date": "2005-05-01T00:00:00"
        },
        {
         "Record": 5,
         "date": "2005-06-01T00:00:00"
        },
        {
         "Record": 5,
         "date": "2005-07-01T00:00:00"
        },
        {
         "Record": 5,
         "date": "2005-08-01T00:00:00"
        },
        {
         "Record": 5,
         "date": "2005-09-01T00:00:00"
        },
        {
         "Record": 5,
         "date": "2005-10-01T00:00:00"
        },
        {
         "Record": 5,
         "date": "2005-11-01T00:00:00"
        },
        {
         "Record": 5,
         "date": "2005-12-01T00:00:00"
        },
        {
         "Record": 5,
         "date": "2006-01-01T00:00:00"
        },
        {
         "Record": 5,
         "date": "2006-02-01T00:00:00"
        },
        {
         "Record": 5,
         "date": "2006-03-01T00:00:00"
        },
        {
         "Record": 5,
         "date": "2006-04-01T00:00:00"
        },
        {
         "Record": 5,
         "date": "2006-05-01T00:00:00"
        },
        {
         "Record": 5,
         "date": "2006-06-01T00:00:00"
        },
        {
         "Record": 5,
         "date": "2006-07-01T00:00:00"
        },
        {
         "Record": 5,
         "date": "2006-08-01T00:00:00"
        },
        {
         "Record": 5,
         "date": "2006-09-01T00:00:00"
        },
        {
         "Record": 5,
         "date": "2006-10-01T00:00:00"
        },
        {
         "Record": 5,
         "date": "2006-11-01T00:00:00"
        },
        {
         "Record": 5,
         "date": "2006-12-01T00:00:00"
        },
        {
         "Record": 5,
         "date": "2007-01-01T00:00:00"
        },
        {
         "Record": 5,
         "date": "2007-02-01T00:00:00"
        },
        {
         "Record": 5,
         "date": "2007-03-01T00:00:00"
        },
        {
         "Record": 5,
         "date": "2007-04-01T00:00:00"
        },
        {
         "Record": 5,
         "date": "2007-05-01T00:00:00"
        },
        {
         "Record": 5,
         "date": "2007-06-01T00:00:00"
        },
        {
         "Record": 5,
         "date": "2007-07-01T00:00:00"
        },
        {
         "Record": 5,
         "date": "2007-08-01T00:00:00"
        },
        {
         "Record": 5,
         "date": "2007-09-01T00:00:00"
        },
        {
         "Record": 5,
         "date": "2007-10-01T00:00:00"
        },
        {
         "Record": 5,
         "date": "2007-11-01T00:00:00"
        },
        {
         "Record": 5,
         "date": "2007-12-01T00:00:00"
        },
        {
         "Record": 5,
         "date": "2008-01-01T00:00:00"
        },
        {
         "Record": 5,
         "date": "2008-02-01T00:00:00"
        },
        {
         "Record": 5,
         "date": "2008-03-01T00:00:00"
        },
        {
         "Record": 5,
         "date": "2008-04-01T00:00:00"
        },
        {
         "Record": 5,
         "date": "2008-05-01T00:00:00"
        },
        {
         "Record": 5,
         "date": "2008-06-01T00:00:00"
        },
        {
         "Record": 5,
         "date": "2008-07-01T00:00:00"
        },
        {
         "Record": 5,
         "date": "2008-08-01T00:00:00"
        },
        {
         "Record": 5,
         "date": "2008-09-01T00:00:00"
        },
        {
         "Record": 5,
         "date": "2008-10-01T00:00:00"
        },
        {
         "Record": 5,
         "date": "2008-11-01T00:00:00"
        },
        {
         "Record": 5,
         "date": "2008-12-01T00:00:00"
        },
        {
         "Record": 5,
         "date": "2009-01-01T00:00:00"
        },
        {
         "Record": 5,
         "date": "2009-02-01T00:00:00"
        },
        {
         "Record": 5,
         "date": "2009-03-01T00:00:00"
        },
        {
         "Record": 5,
         "date": "2009-04-01T00:00:00"
        },
        {
         "Record": 5,
         "date": "2009-05-01T00:00:00"
        },
        {
         "Record": 5,
         "date": "2009-06-01T00:00:00"
        },
        {
         "Record": 5,
         "date": "2009-07-01T00:00:00"
        },
        {
         "Record": 5,
         "date": "2009-08-01T00:00:00"
        },
        {
         "Record": 5,
         "date": "2009-09-01T00:00:00"
        },
        {
         "Record": 5,
         "date": "2009-10-01T00:00:00"
        },
        {
         "Record": 5,
         "date": "2009-11-01T00:00:00"
        },
        {
         "Record": 5,
         "date": "2009-12-01T00:00:00"
        },
        {
         "Record": 5,
         "date": "2010-01-01T00:00:00"
        },
        {
         "Record": 5,
         "date": "2010-02-01T00:00:00"
        },
        {
         "Record": 5,
         "date": "2010-03-01T00:00:00"
        }
       ]
      },
      "encoding": {
       "x": {
        "field": "date",
        "type": "temporal"
       },
       "y": {
        "field": "Record",
        "title": "Count of Record",
        "type": "quantitative"
       }
      },
      "height": 150,
      "mark": "line",
      "selection": {
       "selector002": {
        "bind": "scales",
        "encodings": [
         "x",
         "y"
        ],
        "type": "interval"
       }
      },
      "width": 160
     }
    },
    "time": "2020-07-21T22:48:02.012Z",
    "type": "unclickVis"
   },
   {
    "code": "df[\"date\"] = pd.DatetimeIndex(df[\"date\"]).to_period(freq='M')\ndf",
    "id": "1edfe9b1555c44488a93a2ad014c33bc",
    "order_count": 21,
    "time": "2020-07-21T22:48:03.835Z",
    "type": "selectCodeCell"
   },
   {
    "param": {
     "index": 0,
     "tabTitle": "Temporal",
     "vis": {
      "$schema": "https://vega.github.io/schema/vega-lite/v4.8.1.json",
      "config": {
       "view": {
        "continuousHeight": 300,
        "continuousWidth": 400
       }
      },
      "data": {
       "name": "data-64577f8ec3b822cae54b4793e8fe8a3d"
      },
      "datasets": {
       "data-64577f8ec3b822cae54b4793e8fe8a3d": [
        {
         "Record": 4,
         "date": "2000-01-01T00:00:00"
        },
        {
         "Record": 4,
         "date": "2000-02-01T00:00:00"
        },
        {
         "Record": 4,
         "date": "2000-03-01T00:00:00"
        },
        {
         "Record": 4,
         "date": "2000-04-01T00:00:00"
        },
        {
         "Record": 4,
         "date": "2000-05-01T00:00:00"
        },
        {
         "Record": 4,
         "date": "2000-06-01T00:00:00"
        },
        {
         "Record": 4,
         "date": "2000-07-01T00:00:00"
        },
        {
         "Record": 4,
         "date": "2000-08-01T00:00:00"
        },
        {
         "Record": 4,
         "date": "2000-09-01T00:00:00"
        },
        {
         "Record": 4,
         "date": "2000-10-01T00:00:00"
        },
        {
         "Record": 4,
         "date": "2000-11-01T00:00:00"
        },
        {
         "Record": 4,
         "date": "2000-12-01T00:00:00"
        },
        {
         "Record": 4,
         "date": "2001-01-01T00:00:00"
        },
        {
         "Record": 4,
         "date": "2001-02-01T00:00:00"
        },
        {
         "Record": 4,
         "date": "2001-03-01T00:00:00"
        },
        {
         "Record": 4,
         "date": "2001-04-01T00:00:00"
        },
        {
         "Record": 4,
         "date": "2001-05-01T00:00:00"
        },
        {
         "Record": 4,
         "date": "2001-06-01T00:00:00"
        },
        {
         "Record": 4,
         "date": "2001-07-01T00:00:00"
        },
        {
         "Record": 4,
         "date": "2001-08-01T00:00:00"
        },
        {
         "Record": 4,
         "date": "2001-09-01T00:00:00"
        },
        {
         "Record": 4,
         "date": "2001-10-01T00:00:00"
        },
        {
         "Record": 4,
         "date": "2001-11-01T00:00:00"
        },
        {
         "Record": 4,
         "date": "2001-12-01T00:00:00"
        },
        {
         "Record": 4,
         "date": "2002-01-01T00:00:00"
        },
        {
         "Record": 4,
         "date": "2002-02-01T00:00:00"
        },
        {
         "Record": 4,
         "date": "2002-03-01T00:00:00"
        },
        {
         "Record": 4,
         "date": "2002-04-01T00:00:00"
        },
        {
         "Record": 4,
         "date": "2002-05-01T00:00:00"
        },
        {
         "Record": 4,
         "date": "2002-06-01T00:00:00"
        },
        {
         "Record": 4,
         "date": "2002-07-01T00:00:00"
        },
        {
         "Record": 4,
         "date": "2002-08-01T00:00:00"
        },
        {
         "Record": 4,
         "date": "2002-09-01T00:00:00"
        },
        {
         "Record": 4,
         "date": "2002-10-01T00:00:00"
        },
        {
         "Record": 4,
         "date": "2002-11-01T00:00:00"
        },
        {
         "Record": 4,
         "date": "2002-12-01T00:00:00"
        },
        {
         "Record": 4,
         "date": "2003-01-01T00:00:00"
        },
        {
         "Record": 4,
         "date": "2003-02-01T00:00:00"
        },
        {
         "Record": 4,
         "date": "2003-03-01T00:00:00"
        },
        {
         "Record": 4,
         "date": "2003-04-01T00:00:00"
        },
        {
         "Record": 4,
         "date": "2003-05-01T00:00:00"
        },
        {
         "Record": 4,
         "date": "2003-06-01T00:00:00"
        },
        {
         "Record": 4,
         "date": "2003-07-01T00:00:00"
        },
        {
         "Record": 4,
         "date": "2003-08-01T00:00:00"
        },
        {
         "Record": 4,
         "date": "2003-09-01T00:00:00"
        },
        {
         "Record": 4,
         "date": "2003-10-01T00:00:00"
        },
        {
         "Record": 4,
         "date": "2003-11-01T00:00:00"
        },
        {
         "Record": 4,
         "date": "2003-12-01T00:00:00"
        },
        {
         "Record": 4,
         "date": "2004-01-01T00:00:00"
        },
        {
         "Record": 4,
         "date": "2004-02-01T00:00:00"
        },
        {
         "Record": 4,
         "date": "2004-03-01T00:00:00"
        },
        {
         "Record": 4,
         "date": "2004-04-01T00:00:00"
        },
        {
         "Record": 4,
         "date": "2004-05-01T00:00:00"
        },
        {
         "Record": 4,
         "date": "2004-06-01T00:00:00"
        },
        {
         "Record": 4,
         "date": "2004-07-01T00:00:00"
        },
        {
         "Record": 5,
         "date": "2004-08-01T00:00:00"
        },
        {
         "Record": 5,
         "date": "2004-09-01T00:00:00"
        },
        {
         "Record": 5,
         "date": "2004-10-01T00:00:00"
        },
        {
         "Record": 5,
         "date": "2004-11-01T00:00:00"
        },
        {
         "Record": 5,
         "date": "2004-12-01T00:00:00"
        },
        {
         "Record": 5,
         "date": "2005-01-01T00:00:00"
        },
        {
         "Record": 5,
         "date": "2005-02-01T00:00:00"
        },
        {
         "Record": 5,
         "date": "2005-03-01T00:00:00"
        },
        {
         "Record": 5,
         "date": "2005-04-01T00:00:00"
        },
        {
         "Record": 5,
         "date": "2005-05-01T00:00:00"
        },
        {
         "Record": 5,
         "date": "2005-06-01T00:00:00"
        },
        {
         "Record": 5,
         "date": "2005-07-01T00:00:00"
        },
        {
         "Record": 5,
         "date": "2005-08-01T00:00:00"
        },
        {
         "Record": 5,
         "date": "2005-09-01T00:00:00"
        },
        {
         "Record": 5,
         "date": "2005-10-01T00:00:00"
        },
        {
         "Record": 5,
         "date": "2005-11-01T00:00:00"
        },
        {
         "Record": 5,
         "date": "2005-12-01T00:00:00"
        },
        {
         "Record": 5,
         "date": "2006-01-01T00:00:00"
        },
        {
         "Record": 5,
         "date": "2006-02-01T00:00:00"
        },
        {
         "Record": 5,
         "date": "2006-03-01T00:00:00"
        },
        {
         "Record": 5,
         "date": "2006-04-01T00:00:00"
        },
        {
         "Record": 5,
         "date": "2006-05-01T00:00:00"
        },
        {
         "Record": 5,
         "date": "2006-06-01T00:00:00"
        },
        {
         "Record": 5,
         "date": "2006-07-01T00:00:00"
        },
        {
         "Record": 5,
         "date": "2006-08-01T00:00:00"
        },
        {
         "Record": 5,
         "date": "2006-09-01T00:00:00"
        },
        {
         "Record": 5,
         "date": "2006-10-01T00:00:00"
        },
        {
         "Record": 5,
         "date": "2006-11-01T00:00:00"
        },
        {
         "Record": 5,
         "date": "2006-12-01T00:00:00"
        },
        {
         "Record": 5,
         "date": "2007-01-01T00:00:00"
        },
        {
         "Record": 5,
         "date": "2007-02-01T00:00:00"
        },
        {
         "Record": 5,
         "date": "2007-03-01T00:00:00"
        },
        {
         "Record": 5,
         "date": "2007-04-01T00:00:00"
        },
        {
         "Record": 5,
         "date": "2007-05-01T00:00:00"
        },
        {
         "Record": 5,
         "date": "2007-06-01T00:00:00"
        },
        {
         "Record": 5,
         "date": "2007-07-01T00:00:00"
        },
        {
         "Record": 5,
         "date": "2007-08-01T00:00:00"
        },
        {
         "Record": 5,
         "date": "2007-09-01T00:00:00"
        },
        {
         "Record": 5,
         "date": "2007-10-01T00:00:00"
        },
        {
         "Record": 5,
         "date": "2007-11-01T00:00:00"
        },
        {
         "Record": 5,
         "date": "2007-12-01T00:00:00"
        },
        {
         "Record": 5,
         "date": "2008-01-01T00:00:00"
        },
        {
         "Record": 5,
         "date": "2008-02-01T00:00:00"
        },
        {
         "Record": 5,
         "date": "2008-03-01T00:00:00"
        },
        {
         "Record": 5,
         "date": "2008-04-01T00:00:00"
        },
        {
         "Record": 5,
         "date": "2008-05-01T00:00:00"
        },
        {
         "Record": 5,
         "date": "2008-06-01T00:00:00"
        },
        {
         "Record": 5,
         "date": "2008-07-01T00:00:00"
        },
        {
         "Record": 5,
         "date": "2008-08-01T00:00:00"
        },
        {
         "Record": 5,
         "date": "2008-09-01T00:00:00"
        },
        {
         "Record": 5,
         "date": "2008-10-01T00:00:00"
        },
        {
         "Record": 5,
         "date": "2008-11-01T00:00:00"
        },
        {
         "Record": 5,
         "date": "2008-12-01T00:00:00"
        },
        {
         "Record": 5,
         "date": "2009-01-01T00:00:00"
        },
        {
         "Record": 5,
         "date": "2009-02-01T00:00:00"
        },
        {
         "Record": 5,
         "date": "2009-03-01T00:00:00"
        },
        {
         "Record": 5,
         "date": "2009-04-01T00:00:00"
        },
        {
         "Record": 5,
         "date": "2009-05-01T00:00:00"
        },
        {
         "Record": 5,
         "date": "2009-06-01T00:00:00"
        },
        {
         "Record": 5,
         "date": "2009-07-01T00:00:00"
        },
        {
         "Record": 5,
         "date": "2009-08-01T00:00:00"
        },
        {
         "Record": 5,
         "date": "2009-09-01T00:00:00"
        },
        {
         "Record": 5,
         "date": "2009-10-01T00:00:00"
        },
        {
         "Record": 5,
         "date": "2009-11-01T00:00:00"
        },
        {
         "Record": 5,
         "date": "2009-12-01T00:00:00"
        },
        {
         "Record": 5,
         "date": "2010-01-01T00:00:00"
        },
        {
         "Record": 5,
         "date": "2010-02-01T00:00:00"
        },
        {
         "Record": 5,
         "date": "2010-03-01T00:00:00"
        }
       ]
      },
      "encoding": {
       "x": {
        "field": "date",
        "type": "temporal"
       },
       "y": {
        "field": "Record",
        "title": "Count of Record",
        "type": "quantitative"
       }
      },
      "height": 150,
      "mark": "line",
      "selection": {
       "selector002": {
        "bind": "scales",
        "encodings": [
         "x",
         "y"
        ],
        "type": "interval"
       }
      },
      "width": 160
     }
    },
    "time": "2020-07-21T22:48:03.837Z",
    "type": "clickVis"
   },
   {
    "code": "df[\"date\"] = pd.DatetimeIndex(df[\"date\"]).to_period(freq='M')\ndf",
    "id": "1edfe9b1555c44488a93a2ad014c33bc",
    "order_count": 21,
    "time": "2020-07-21T22:48:10.473Z",
    "type": "selectCodeCell"
   },
   {
    "code": "vis.refresh_source(df)\nvis",
    "id": "b495a2e98acd44f4a2b427fe4d4330d4",
    "order_count": 22,
    "time": "2020-07-21T22:48:11.750Z",
    "type": "selectCodeCell"
   },
   {
    "code": "vis.refresh_source(df)\nvis",
    "id": "b495a2e98acd44f4a2b427fe4d4330d4",
    "order_count": 22,
    "time": "2020-07-21T22:48:11.756Z",
    "type": "editCodeCell"
   },
   {
    "code": "vis.refresh_source(df)\nvis",
    "id": "b495a2e98acd44f4a2b427fe4d4330d4",
    "order_count": 22,
    "time": "2020-07-21T22:48:13.349Z",
    "type": "executeCodeCell"
   },
   {
    "code": "df['date']",
    "id": "65be1fd99f8d4e218991186ae28b6f70",
    "order_count": 23,
    "time": "2020-07-21T22:48:13.378Z",
    "type": "selectCodeCell"
   },
   {
    "code": "vis.refresh_source(df)\nvis",
    "id": "b495a2e98acd44f4a2b427fe4d4330d4",
    "isPrintLuxDf": false,
    "isPrintPandasDf": false,
    "isPrintVis": true,
    "isPrintVisCollection": false,
    "order_count": 22,
    "time": "2020-07-21T22:48:13.418Z",
    "type": "completeCodeCell"
   },
   {
    "param": "",
    "time": "2020-07-21T22:48:13.428Z",
    "type": "initWidget"
   },
   {
    "code": "vis.refresh_source(df)\nvis",
    "id": "b495a2e98acd44f4a2b427fe4d4330d4",
    "order_count": 22,
    "time": "2020-07-21T22:48:15.571Z",
    "type": "selectCodeCell"
   },
   {
    "code": "df[\"date\"] = pd.DatetimeIndex(df[\"date\"]).to_period(freq='M')\ndf",
    "id": "1edfe9b1555c44488a93a2ad014c33bc",
    "order_count": 21,
    "time": "2020-07-21T22:48:15.779Z",
    "type": "selectCodeCell"
   },
   {
    "code": "If we only want Lux to output the month and the year, we can convert the columnn to a [`PeriodIndex`](https://pandas.pydata.org/pandas-docs/stable/reference/api/pandas.PeriodIndex.html) using [`to_period`](https://pandas.pydata.org/pandas-docs/stable/reference/api/pandas.DatetimeIndex.to_period.html). The `freq` argument specifies the granularity of the output. In this case, we are using 'M' for monthly. You can find more about how to specify time periods [here](https://pandas.pydata.org/pandas-docs/stable/user_guide/timeseries.html#dateoffset-objects).",
    "id": "bdd98518b2d0429baab8f13f93c1e19b",
    "order_count": 20,
    "time": "2020-07-21T22:48:15.948Z",
    "type": "selectMarkdownCell"
   },
   {
    "code": "df[\"date\"] = pd.DatetimeIndex(df[\"date\"]).to_period(freq='M')\ndf",
    "id": "1edfe9b1555c44488a93a2ad014c33bc",
    "order_count": 21,
    "time": "2020-07-21T22:48:16.404Z",
    "type": "selectCodeCell"
   },
   {
    "code": "df[\"date\"] = pd.DatetimeIndex(df[\"date\"]).to_period(freq='M')\ndf",
    "id": "1edfe9b1555c44488a93a2ad014c33bc",
    "order_count": 21,
    "time": "2020-07-21T22:48:16.792Z",
    "type": "editCodeCell"
   },
   {
    "code": "df[\"date\"] = pd.DatetimeIndex(df[\"date\"]).to_period(freq='M')",
    "id": "1edfe9b1555c44488a93a2ad014c33bc",
    "order_count": 21,
    "time": "2020-07-21T22:48:18.773Z",
    "type": "executeCodeCell"
   },
   {
    "code": "vis.refresh_source(df)\nvis",
    "id": "b495a2e98acd44f4a2b427fe4d4330d4",
    "order_count": 22,
    "time": "2020-07-21T22:48:18.801Z",
    "type": "selectCodeCell"
   },
   {
    "code": "df[\"date\"] = pd.DatetimeIndex(df[\"date\"]).to_period(freq='M')",
    "id": "1edfe9b1555c44488a93a2ad014c33bc",
    "isPrintLuxDf": false,
    "isPrintPandasDf": false,
    "isPrintVis": false,
    "isPrintVisCollection": false,
    "order_count": 21,
    "time": "2020-07-21T22:48:18.926Z",
    "type": "completeCodeCell"
   },
   {
    "code": "df[\"date\"] = pd.DatetimeIndex(df[\"date\"]).to_period(freq='M')",
    "id": "1edfe9b1555c44488a93a2ad014c33bc",
    "order_count": 21,
    "time": "2020-07-21T22:48:19.922Z",
    "type": "selectCodeCell"
   },
   {
    "code": "df[\"date\"] = pd.DatetimeIndex(df[\"date\"]).to_period(freq='M')",
    "id": "1edfe9b1555c44488a93a2ad014c33bc",
    "order_count": 21,
    "time": "2020-07-21T22:48:20.758Z",
    "type": "executeCodeCell"
   },
   {
    "code": "vis.refresh_source(df)\nvis",
    "id": "b495a2e98acd44f4a2b427fe4d4330d4",
    "order_count": 22,
    "time": "2020-07-21T22:48:20.773Z",
    "type": "selectCodeCell"
   },
   {
    "code": "df[\"date\"] = pd.DatetimeIndex(df[\"date\"]).to_period(freq='M')",
    "id": "1edfe9b1555c44488a93a2ad014c33bc",
    "isPrintLuxDf": false,
    "isPrintPandasDf": false,
    "isPrintVis": false,
    "isPrintVisCollection": false,
    "order_count": 21,
    "time": "2020-07-21T22:48:20.784Z",
    "type": "completeCodeCell"
   },
   {
    "code": "vis = Vis([\"date\",\"price\"],df)\nvis",
    "id": "a6255929f84e4ac8b4cac41914d56c4c",
    "order_count": 19,
    "time": "2020-07-21T22:48:28.355Z",
    "type": "selectCodeCell"
   },
   {
    "code": "df = pd.read_csv(\"lux/data/stocks.csv\")\n\ndf.dtypes",
    "id": "20e4a3f742d842f09d98be366d25f434",
    "order_count": 18,
    "time": "2020-07-21T22:48:29.795Z",
    "type": "selectCodeCell"
   },
   {
    "code": "df = pd.read_csv(\"lux/data/stocks.csv\")\n\ndf.dtypes",
    "id": "20e4a3f742d842f09d98be366d25f434",
    "order_count": 18,
    "time": "2020-07-21T22:48:30.494Z",
    "type": "executeCodeCell"
   },
   {
    "code": "vis = Vis([\"date\",\"price\"],df)\nvis",
    "id": "a6255929f84e4ac8b4cac41914d56c4c",
    "order_count": 19,
    "time": "2020-07-21T22:48:30.510Z",
    "type": "selectCodeCell"
   },
   {
    "code": "df = pd.read_csv(\"lux/data/stocks.csv\")\n\ndf.dtypes",
    "id": "20e4a3f742d842f09d98be366d25f434",
    "isPrintLuxDf": false,
    "isPrintPandasDf": false,
    "isPrintVis": false,
    "isPrintVisCollection": false,
    "order_count": 18,
    "time": "2020-07-21T22:48:30.520Z",
    "type": "completeCodeCell"
   },
   {
    "code": "vis = Vis([\"date\",\"price\"],df)\nvis",
    "id": "a6255929f84e4ac8b4cac41914d56c4c",
    "order_count": 19,
    "time": "2020-07-21T22:48:30.670Z",
    "type": "executeCodeCell"
   },
   {
    "code": "If we only want Lux to output the month and the year, we can convert the columnn to a [`PeriodIndex`](https://pandas.pydata.org/pandas-docs/stable/reference/api/pandas.PeriodIndex.html) using [`to_period`](https://pandas.pydata.org/pandas-docs/stable/reference/api/pandas.DatetimeIndex.to_period.html). The `freq` argument specifies the granularity of the output. In this case, we are using 'M' for monthly. You can find more about how to specify time periods [here](https://pandas.pydata.org/pandas-docs/stable/user_guide/timeseries.html#dateoffset-objects).",
    "id": "bdd98518b2d0429baab8f13f93c1e19b",
    "order_count": 20,
    "time": "2020-07-21T22:48:30.678Z",
    "type": "selectMarkdownCell"
   },
   {
    "code": "vis = Vis([\"date\",\"price\"],df)\nvis",
    "id": "a6255929f84e4ac8b4cac41914d56c4c",
    "isPrintLuxDf": false,
    "isPrintPandasDf": false,
    "isPrintVis": true,
    "isPrintVisCollection": false,
    "order_count": 19,
    "time": "2020-07-21T22:48:30.752Z",
    "type": "completeCodeCell"
   },
   {
    "param": "",
    "time": "2020-07-21T22:48:30.767Z",
    "type": "initWidget"
   },
   {
    "code": "df[\"date\"] = pd.DatetimeIndex(df[\"date\"]).to_period(freq='M')",
    "id": "1edfe9b1555c44488a93a2ad014c33bc",
    "order_count": 21,
    "time": "2020-07-21T22:48:30.858Z",
    "type": "selectCodeCell"
   },
   {
    "code": "df[\"date\"] = pd.DatetimeIndex(df[\"date\"]).to_period(freq='M')",
    "id": "1edfe9b1555c44488a93a2ad014c33bc",
    "order_count": 21,
    "time": "2020-07-21T22:48:31.013Z",
    "type": "executeCodeCell"
   },
   {
    "code": "vis.refresh_source(df)\nvis",
    "id": "b495a2e98acd44f4a2b427fe4d4330d4",
    "order_count": 22,
    "time": "2020-07-21T22:48:31.028Z",
    "type": "selectCodeCell"
   },
   {
    "code": "df[\"date\"] = pd.DatetimeIndex(df[\"date\"]).to_period(freq='M')",
    "id": "1edfe9b1555c44488a93a2ad014c33bc",
    "isPrintLuxDf": false,
    "isPrintPandasDf": false,
    "isPrintVis": false,
    "isPrintVisCollection": false,
    "order_count": 21,
    "time": "2020-07-21T22:48:31.037Z",
    "type": "completeCodeCell"
   },
   {
    "code": "vis.refresh_source(df)\nvis",
    "id": "b495a2e98acd44f4a2b427fe4d4330d4",
    "order_count": 22,
    "time": "2020-07-21T22:48:31.590Z",
    "type": "executeCodeCell"
   },
   {
    "code": "df['date']",
    "id": "65be1fd99f8d4e218991186ae28b6f70",
    "order_count": 23,
    "time": "2020-07-21T22:48:31.608Z",
    "type": "selectCodeCell"
   },
   {
    "code": "vis.refresh_source(df)\nvis",
    "id": "b495a2e98acd44f4a2b427fe4d4330d4",
    "isPrintLuxDf": false,
    "isPrintPandasDf": false,
    "isPrintVis": true,
    "isPrintVisCollection": false,
    "order_count": 22,
    "time": "2020-07-21T22:48:31.687Z",
    "type": "completeCodeCell"
   },
   {
    "param": "",
    "time": "2020-07-21T22:48:31.695Z",
    "type": "initWidget"
   },
   {
    "code": "df['date']",
    "id": "65be1fd99f8d4e218991186ae28b6f70",
    "order_count": 23,
    "time": "2020-07-21T22:48:32.814Z",
    "type": "executeCodeCell"
   },
   {
    "code": "## Querying With Datetime Fields\nThe string representation seen in the Dataframe can be used to filter out certain dates. \nFor example, in the above `stocks` dataset, we converted the date column to a `PeriodIndex`. Now the string representation only shows the granularity we want to see. \n\nWe can use that string representation to filter the dataframe in Pandas:",
    "id": "d7c0f26126ee48848eeac7d173b6911d",
    "order_count": 24,
    "time": "2020-07-21T22:48:32.822Z",
    "type": "selectMarkdownCell"
   },
   {
    "code": "df['date']",
    "id": "65be1fd99f8d4e218991186ae28b6f70",
    "isPrintLuxDf": false,
    "isPrintPandasDf": false,
    "isPrintVis": false,
    "isPrintVisCollection": false,
    "order_count": 23,
    "time": "2020-07-21T22:48:32.832Z",
    "type": "completeCodeCell"
   },
   {
    "code": "df[df['date'] == '2008-11']",
    "id": "365a52bb077d437d858bfa00c7baf099",
    "order_count": 25,
    "time": "2020-07-21T22:48:34.662Z",
    "type": "selectCodeCell"
   },
   {
    "code": "df[df['date'] == '2008-11']",
    "id": "365a52bb077d437d858bfa00c7baf099",
    "order_count": 25,
    "time": "2020-07-21T22:48:35.501Z",
    "type": "executeCodeCell"
   },
   {
    "code": "We can also use the same string representation for specifying a query in Lux.",
    "id": "2da16a70fa29434a822a31252d4cae17",
    "order_count": 26,
    "time": "2020-07-21T22:48:35.509Z",
    "type": "selectMarkdownCell"
   },
   {
    "code": "df[df['date'] == '2008-11']",
    "id": "365a52bb077d437d858bfa00c7baf099",
    "isPrintLuxDf": false,
    "isPrintPandasDf": true,
    "isPrintVis": false,
    "isPrintVisCollection": false,
    "order_count": 25,
    "time": "2020-07-21T22:48:35.683Z",
    "type": "completeCodeCell"
   },
   {
    "code": "vis = Vis([\"date=2008-11\",\"price\",\"symbol\"],df)\nvis",
    "id": "a824e7e56ec549a88cd64678b85ae4a3",
    "order_count": 27,
    "time": "2020-07-21T22:48:36.414Z",
    "type": "selectCodeCell"
   },
   {
    "code": "df[df['date'] == '2008-11']",
    "id": "365a52bb077d437d858bfa00c7baf099",
    "order_count": 25,
    "time": "2020-07-21T22:48:38.756Z",
    "type": "selectCodeCell"
   },
   {
    "param": "",
    "time": "2020-07-21T22:48:38.779Z",
    "type": "initWidget"
   },
   {
    "param": "",
    "time": "2020-07-21T22:48:38.865Z",
    "type": "initWidget"
   },
   {
    "code": "df[df['date'] == '2008-11']",
    "id": "365a52bb077d437d858bfa00c7baf099",
    "order_count": 25,
    "time": "2020-07-21T22:48:45.234Z",
    "type": "selectCodeCell"
   },
   {
    "param": "Distribution",
    "time": "2020-07-21T22:48:45.241Z",
    "type": "switchTab"
   },
   {
    "code": "df[df['date'] == '2008-11']",
    "id": "365a52bb077d437d858bfa00c7baf099",
    "order_count": 25,
    "time": "2020-07-21T22:48:45.996Z",
    "type": "selectCodeCell"
   },
   {
    "param": "Category",
    "time": "2020-07-21T22:48:45.998Z",
    "type": "switchTab"
   },
   {
    "code": "df[df['date'] == '2008-11']",
    "id": "365a52bb077d437d858bfa00c7baf099",
    "order_count": 25,
    "time": "2020-07-21T22:48:46.859Z",
    "type": "selectCodeCell"
   },
   {
    "param": "Index-Group",
    "time": "2020-07-21T22:48:46.861Z",
    "type": "switchTab"
   },
   {
    "code": "df[df['date'] == '2008-11']",
    "id": "365a52bb077d437d858bfa00c7baf099",
    "order_count": 25,
    "time": "2020-07-21T22:48:47.508Z",
    "type": "selectCodeCell"
   },
   {
    "param": "Temporal",
    "time": "2020-07-21T22:48:47.509Z",
    "type": "switchTab"
   },
   {
    "code": "df[df['date'] == '2008-11']",
    "id": "365a52bb077d437d858bfa00c7baf099",
    "order_count": 25,
    "time": "2020-07-21T22:48:48.827Z",
    "type": "selectCodeCell"
   },
   {
    "param": "Index-Group",
    "time": "2020-07-21T22:48:48.828Z",
    "type": "switchTab"
   },
   {
    "code": "df[df['date'] == '2008-11']",
    "id": "365a52bb077d437d858bfa00c7baf099",
    "order_count": 25,
    "time": "2020-07-21T22:48:49.307Z",
    "type": "selectCodeCell"
   },
   {
    "code": "## Querying With Datetime Fields\nThe string representation seen in the Dataframe can be used to filter out certain dates. \nFor example, in the above `stocks` dataset, we converted the date column to a `PeriodIndex`. Now the string representation only shows the granularity we want to see. \n\nWe can use that string representation to filter the dataframe in Pandas:",
    "id": "d7c0f26126ee48848eeac7d173b6911d",
    "order_count": 24,
    "time": "2020-07-21T22:48:50.613Z",
    "type": "selectMarkdownCell"
   },
   {
    "code": "df[df['date'] == '2008-11']",
    "id": "365a52bb077d437d858bfa00c7baf099",
    "order_count": 25,
    "time": "2020-07-21T22:48:51.291Z",
    "type": "selectCodeCell"
   },
   {
    "param": "pandas",
    "time": "2020-07-21T22:48:52.616Z",
    "type": "toggleBtnClick"
   },
   {
    "param": "lux",
    "time": "2020-07-21T22:48:54.827Z",
    "type": "toggleBtnClick"
   },
   {
    "param": "",
    "time": "2020-07-21T22:48:54.853Z",
    "type": "initWidget"
   },
   {
    "param": "",
    "time": "2020-07-21T22:48:54.907Z",
    "type": "initWidget"
   },
   {
    "param": "pandas",
    "time": "2020-07-21T22:48:57.244Z",
    "type": "toggleBtnClick"
   },
   {
    "param": "lux",
    "time": "2020-07-21T22:48:57.883Z",
    "type": "toggleBtnClick"
   },
   {
    "param": "",
    "time": "2020-07-21T22:48:57.900Z",
    "type": "initWidget"
   },
   {
    "param": "",
    "time": "2020-07-21T22:48:57.953Z",
    "type": "initWidget"
   },
   {
    "code": "df[df['date'] == '2008-11']",
    "id": "365a52bb077d437d858bfa00c7baf099",
    "order_count": 25,
    "time": "2020-07-21T22:49:00.644Z",
    "type": "selectCodeCell"
   },
   {
    "param": "Distribution",
    "time": "2020-07-21T22:49:00.646Z",
    "type": "switchTab"
   },
   {
    "code": "df[df['date'] == '2008-11']",
    "id": "365a52bb077d437d858bfa00c7baf099",
    "order_count": 25,
    "time": "2020-07-21T22:49:01.227Z",
    "type": "selectCodeCell"
   },
   {
    "param": "Category",
    "time": "2020-07-21T22:49:01.229Z",
    "type": "switchTab"
   },
   {
    "code": "df[df['date'] == '2008-11']",
    "id": "365a52bb077d437d858bfa00c7baf099",
    "order_count": 25,
    "time": "2020-07-21T22:49:01.716Z",
    "type": "selectCodeCell"
   },
   {
    "param": "Temporal",
    "time": "2020-07-21T22:49:01.717Z",
    "type": "switchTab"
   },
   {
    "code": "df[df['date'] == '2008-11']",
    "id": "365a52bb077d437d858bfa00c7baf099",
    "order_count": 25,
    "time": "2020-07-21T22:49:02.563Z",
    "type": "selectCodeCell"
   },
   {
    "param": "Index-Group",
    "time": "2020-07-21T22:49:02.565Z",
    "type": "switchTab"
   },
   {
    "code": "df[df['date'] == '2008-11']",
    "id": "365a52bb077d437d858bfa00c7baf099",
    "order_count": 25,
    "time": "2020-07-21T22:49:03.691Z",
    "type": "selectCodeCell"
   },
   {
    "param": "Temporal",
    "time": "2020-07-21T22:49:03.693Z",
    "type": "switchTab"
   },
   {
    "time": "2020-07-21T22:54:08.655Z",
    "type": "kernelReady"
   },
   {
    "time": "2020-07-21T22:55:17.608Z",
    "type": "kernelReady"
   },
   {
    "time": "2020-07-21T23:59:11.887Z",
    "type": "kernelReady"
   },
   {
    "code": "df[df['date'] == '2008-11']",
    "id": "365a52bb077d437d858bfa00c7baf099",
    "order_count": 25,
    "time": "2020-07-22T02:25:58.143Z",
    "type": "editCodeCell"
   },
   {
    "time": "2020-07-22T02:25:59.466Z",
    "type": "pageClose"
   },
   {
    "time": "2020-07-22T02:26:00.849Z",
    "type": "kernelReady"
   },
   {
    "param": "",
    "time": "2020-07-22T02:26:01.183Z",
    "type": "initWidget"
   },
   {
    "param": "",
    "time": "2020-07-22T02:26:01.294Z",
    "type": "initWidget"
   },
   {
    "param": "",
    "time": "2020-07-22T02:26:01.394Z",
    "type": "initWidget"
   },
   {
    "param": "",
    "time": "2020-07-22T02:26:01.404Z",
    "type": "initWidget"
   },
   {
    "param": "",
    "time": "2020-07-22T02:26:01.443Z",
    "type": "initWidget"
   },
   {
    "param": "",
    "time": "2020-07-22T02:26:01.488Z",
    "type": "initWidget"
   },
   {
    "param": "",
    "time": "2020-07-22T02:26:01.517Z",
    "type": "initWidget"
   },
   {
    "code": "df[df['date'] == '2008-11']",
    "id": "045de606aaf445808f0105328f30c64e",
    "order_count": 25,
    "time": "2020-07-22T02:26:02.478Z",
    "type": "selectCodeCell"
   },
   {
    "code": "We can also use the same string representation for specifying a query in Lux.",
    "id": "9c44d6a14b5c46a5a79189bc013051be",
    "order_count": 26,
    "time": "2020-07-22T02:26:05.001Z",
    "type": "selectMarkdownCell"
   },
   {
    "code": "vis = Vis([\"date=2008-11\",\"price\",\"symbol\"],df)\nvis",
    "id": "e34e7b23ccc740638c0fcaca86c811c4",
    "order_count": 27,
    "time": "2020-07-22T02:26:05.587Z",
    "type": "selectCodeCell"
   },
   {
    "code": "vis = Vis([\"date=2008-11\",\"price\",\"symbol\"],df)\nvis",
    "id": "e34e7b23ccc740638c0fcaca86c811c4",
    "order_count": 27,
    "time": "2020-07-22T02:26:05.898Z",
    "type": "executeCodeCell"
   },
   {
    "code": "",
    "id": "1098d638932a41398f770fa7be09fa8f",
    "order_count": 28,
    "time": "2020-07-22T02:26:05.912Z",
    "type": "selectCodeCell"
   },
   {
    "code": "vis = Vis([\"date=2008-11\",\"price\",\"symbol\"],df)\nvis",
    "id": "e34e7b23ccc740638c0fcaca86c811c4",
    "isPrintLuxDf": false,
    "isPrintPandasDf": false,
    "isPrintVis": true,
    "isPrintVisCollection": false,
    "order_count": 27,
    "time": "2020-07-22T02:26:05.956Z",
    "type": "completeCodeCell"
   },
   {
    "param": "",
    "time": "2020-07-22T02:26:05.964Z",
    "type": "initWidget"
   },
   {
    "code": "df[df['date'] == '2008-11']",
    "id": "045de606aaf445808f0105328f30c64e",
    "order_count": 25,
    "time": "2020-07-22T02:27:10.999Z",
    "type": "selectCodeCell"
   },
   {
    "code": "df[df['date'] == '2008-11']",
    "id": "045de606aaf445808f0105328f30c64e",
    "order_count": 25,
    "time": "2020-07-22T02:27:11.011Z",
    "type": "editCodeCell"
   },
   {
    "code": "df[df['date'] == '2008-11']",
    "id": "045de606aaf445808f0105328f30c64e",
    "order_count": 25,
    "time": "2020-07-22T02:27:11.123Z",
    "type": "selectCodeCell"
   },
   {
    "code": "df[df['date'] == '2008-11']",
    "id": "045de606aaf445808f0105328f30c64e",
    "order_count": 25,
    "time": "2020-07-22T02:27:11.876Z",
    "type": "selectCodeCell"
   },
   {
    "param": "Distribution",
    "time": "2020-07-22T02:27:11.878Z",
    "type": "switchTab"
   },
   {
    "code": "df[df['date'] == '2008-11']",
    "id": "045de606aaf445808f0105328f30c64e",
    "order_count": 25,
    "time": "2020-07-22T02:27:12.672Z",
    "type": "selectCodeCell"
   },
   {
    "param": "Category",
    "time": "2020-07-22T02:27:12.674Z",
    "type": "switchTab"
   },
   {
    "code": "df[df['date'] == '2008-11']",
    "id": "045de606aaf445808f0105328f30c64e",
    "order_count": 25,
    "time": "2020-07-22T02:27:13.166Z",
    "type": "selectCodeCell"
   },
   {
    "code": "df[df['date'] == '2008-11']",
    "id": "045de606aaf445808f0105328f30c64e",
    "order_count": 25,
    "time": "2020-07-22T02:27:13.731Z",
    "type": "selectCodeCell"
   },
   {
    "param": "Temporal",
    "time": "2020-07-22T02:27:13.733Z",
    "type": "switchTab"
   },
   {
    "time": "2020-07-22T02:30:50.473Z",
    "type": "kernelReady"
   },
   {
    "time": "2020-07-22T02:31:28.727Z",
    "type": "kernelReady"
   },
   {
    "code": "df[df['date'] == '2008-11']",
    "id": "045de606aaf445808f0105328f30c64e",
    "order_count": 25,
    "time": "2020-07-22T03:02:33.511Z",
    "type": "selectCodeCell"
   },
   {
    "code": "df[df['date'] == '2008-11']",
    "id": "045de606aaf445808f0105328f30c64e",
    "order_count": 25,
    "time": "2020-07-22T03:02:34.629Z",
    "type": "selectCodeCell"
   },
   {
    "code": "df[df['date'] == '2008-11']",
    "id": "045de606aaf445808f0105328f30c64e",
    "order_count": 25,
    "time": "2020-07-22T03:03:06.487Z",
    "type": "selectCodeCell"
   },
   {
    "param": {
     "index": 0,
     "tabTitle": "Temporal",
     "vis": {
      "$schema": "https://vega.github.io/schema/vega-lite/v4.8.1.json",
      "config": {
       "view": {
        "continuousHeight": 300,
        "continuousWidth": 400
       }
      },
      "data": {
       "name": "data-ffa78bca00ded514260ac66045d82e4f"
      },
      "datasets": {
       "data-ffa78bca00ded514260ac66045d82e4f": [
        {
         "Record": 5,
         "date": "2008-11-01T00:00:00"
        }
       ]
      },
      "encoding": {
       "x": {
        "field": "date",
        "type": "temporal"
       },
       "y": {
        "field": "Record",
        "title": "Count of Record",
        "type": "quantitative"
       }
      },
      "height": 150,
      "mark": "line",
      "selection": {
       "selector006": {
        "bind": "scales",
        "encodings": [
         "x",
         "y"
        ],
        "type": "interval"
       }
      },
      "width": 160
     }
    },
    "time": "2020-07-22T03:03:06.490Z",
    "type": "clickVis"
   },
   {
    "code": "df[df['date'] == '2008-11']",
    "id": "045de606aaf445808f0105328f30c64e",
    "order_count": 25,
    "time": "2020-07-22T03:03:09.655Z",
    "type": "selectCodeCell"
   },
   {
    "param": {
     "index": 0,
     "tabTitle": "Temporal",
     "vis": {
      "$schema": "https://vega.github.io/schema/vega-lite/v4.8.1.json",
      "config": {
       "view": {
        "continuousHeight": 300,
        "continuousWidth": 400
       }
      },
      "data": {
       "name": "data-ffa78bca00ded514260ac66045d82e4f"
      },
      "datasets": {
       "data-ffa78bca00ded514260ac66045d82e4f": [
        {
         "Record": 5,
         "date": "2008-11-01T00:00:00"
        }
       ]
      },
      "encoding": {
       "x": {
        "field": "date",
        "type": "temporal"
       },
       "y": {
        "field": "Record",
        "title": "Count of Record",
        "type": "quantitative"
       }
      },
      "height": 150,
      "mark": "line",
      "selection": {
       "selector006": {
        "bind": "scales",
        "encodings": [
         "x",
         "y"
        ],
        "type": "interval"
       }
      },
      "width": 160
     }
    },
    "time": "2020-07-22T03:03:09.657Z",
    "type": "unclickVis"
   },
   {
    "param": "pandas",
    "time": "2020-07-22T03:03:36.754Z",
    "type": "toggleBtnClick"
   },
   {
    "param": "lux",
    "time": "2020-07-22T03:06:25.515Z",
    "type": "toggleBtnClick"
   },
   {
    "param": "",
    "time": "2020-07-22T03:06:25.551Z",
    "type": "initWidget"
   },
   {
    "param": "",
    "time": "2020-07-22T03:06:25.611Z",
    "type": "initWidget"
   },
   {
    "code": "df[df['date'] == '2008-11']",
    "id": "045de606aaf445808f0105328f30c64e",
    "order_count": 25,
    "time": "2020-07-22T03:06:27.963Z",
    "type": "selectCodeCell"
   },
   {
    "param": "Distribution",
    "time": "2020-07-22T03:06:27.965Z",
    "type": "switchTab"
   },
   {
    "code": "df[df['date'] == '2008-11']",
    "id": "045de606aaf445808f0105328f30c64e",
    "order_count": 25,
    "time": "2020-07-22T03:06:29.058Z",
    "type": "selectCodeCell"
   },
   {
    "param": "Category",
    "time": "2020-07-22T03:06:29.060Z",
    "type": "switchTab"
   },
   {
    "param": "pandas",
    "time": "2020-07-22T03:06:35.594Z",
    "type": "toggleBtnClick"
   },
   {
    "param": "lux",
    "time": "2020-07-22T03:06:37.339Z",
    "type": "toggleBtnClick"
   },
   {
    "param": "",
    "time": "2020-07-22T03:06:37.366Z",
    "type": "initWidget"
   },
   {
    "param": "",
    "time": "2020-07-22T03:06:37.431Z",
    "type": "initWidget"
   },
   {
    "code": "df[df['date'] == '2008-11']",
    "id": "045de606aaf445808f0105328f30c64e",
    "order_count": 25,
    "time": "2020-07-22T03:06:38.779Z",
    "type": "selectCodeCell"
   },
   {
    "param": "Category",
    "time": "2020-07-22T03:06:38.781Z",
    "type": "switchTab"
   },
   {
    "param": "pandas",
    "time": "2020-07-22T03:06:46.074Z",
    "type": "toggleBtnClick"
   },
   {
    "param": "lux",
    "time": "2020-07-22T03:06:51.194Z",
    "type": "toggleBtnClick"
   },
   {
    "param": "",
    "time": "2020-07-22T03:06:51.213Z",
    "type": "initWidget"
   },
   {
    "param": "",
    "time": "2020-07-22T03:06:51.276Z",
    "type": "initWidget"
   },
   {
    "code": "df[df['date'] == '2008-11']",
    "id": "045de606aaf445808f0105328f30c64e",
    "order_count": 25,
    "time": "2020-07-22T03:06:53.756Z",
    "type": "editCodeCell"
   },
   {
    "code": "df[df['date'] == '2008-11']",
    "id": "045de606aaf445808f0105328f30c64e",
    "order_count": 25,
    "time": "2020-07-22T03:06:59.192Z",
    "type": "selectCodeCell"
   },
   {
    "param": "Temporal",
    "time": "2020-07-22T03:06:59.194Z",
    "type": "switchTab"
   },
   {
    "code": "df[df['date'] == '2008-11']",
    "id": "045de606aaf445808f0105328f30c64e",
    "order_count": 25,
    "time": "2020-07-22T03:07:01.795Z",
    "type": "selectCodeCell"
   },
   {
    "param": "Category",
    "time": "2020-07-22T03:07:01.798Z",
    "type": "switchTab"
   },
   {
    "param": "pandas",
    "time": "2020-07-22T03:07:02.723Z",
    "type": "toggleBtnClick"
   },
   {
    "param": "lux",
    "time": "2020-07-22T03:07:04.081Z",
    "type": "toggleBtnClick"
   },
   {
    "param": "",
    "time": "2020-07-22T03:07:04.097Z",
    "type": "initWidget"
   },
   {
    "param": "",
    "time": "2020-07-22T03:07:04.156Z",
    "type": "initWidget"
   },
   {
    "code": "df[df['date'] == '2008-11']",
    "id": "045de606aaf445808f0105328f30c64e",
    "order_count": 25,
    "time": "2020-07-22T03:07:05.363Z",
    "type": "selectCodeCell"
   },
   {
    "param": "Category",
    "time": "2020-07-22T03:07:05.365Z",
    "type": "switchTab"
   },
   {
    "code": "df[df['date'] == '2008-11']",
    "id": "045de606aaf445808f0105328f30c64e",
    "order_count": 25,
    "time": "2020-07-22T03:09:45.765Z",
    "type": "selectCodeCell"
   },
   {
    "code": "df[df['date'] == '2008-11']",
    "id": "045de606aaf445808f0105328f30c64e",
    "order_count": 25,
    "time": "2020-07-22T03:09:51.242Z",
    "type": "editCodeCell"
   },
   {
    "code": "df[df['date'] == '2008-11']",
    "id": "045de606aaf445808f0105328f30c64e",
    "order_count": 25,
    "time": "2020-07-22T03:09:51.324Z",
    "type": "selectCodeCell"
   },
   {
    "code": "rdf = df[df['date'] == '2008-11']\nrdf ",
    "id": "045de606aaf445808f0105328f30c64e",
    "order_count": 25,
    "time": "2020-07-22T03:10:01.798Z",
    "type": "executeCodeCell"
   },
   {
    "code": "We can also use the same string representation for specifying a query in Lux.",
    "id": "9c44d6a14b5c46a5a79189bc013051be",
    "order_count": 26,
    "time": "2020-07-22T03:10:01.823Z",
    "type": "selectMarkdownCell"
   },
   {
    "code": "rdf = df[df['date'] == '2008-11']\nrdf ",
    "id": "045de606aaf445808f0105328f30c64e",
    "isPrintLuxDf": false,
    "isPrintPandasDf": true,
    "isPrintVis": false,
    "isPrintVisCollection": false,
    "order_count": 25,
    "time": "2020-07-22T03:10:01.992Z",
    "type": "completeCodeCell"
   },
   {
    "code": "",
    "id": "0e1e7379820c4cabbdd0b0b7e003b066",
    "order_count": 26,
    "time": "2020-07-22T03:10:03.082Z",
    "type": "selectCodeCell"
   },
   {
    "code": "",
    "id": "0e1e7379820c4cabbdd0b0b7e003b066",
    "order_count": 26,
    "time": "2020-07-22T03:10:03.359Z",
    "type": "editCodeCell"
   },
   {
    "code": "rdf",
    "id": "0e1e7379820c4cabbdd0b0b7e003b066",
    "order_count": 26,
    "time": "2020-07-22T03:10:04.881Z",
    "type": "executeCodeCell"
   },
   {
    "code": "We can also use the same string representation for specifying a query in Lux.",
    "id": "9c44d6a14b5c46a5a79189bc013051be",
    "order_count": 27,
    "time": "2020-07-22T03:10:04.905Z",
    "type": "selectMarkdownCell"
   },
   {
    "code": "rdf",
    "id": "0e1e7379820c4cabbdd0b0b7e003b066",
    "isPrintLuxDf": false,
    "isPrintPandasDf": true,
    "isPrintVis": false,
    "isPrintVisCollection": false,
    "order_count": 26,
    "time": "2020-07-22T03:10:05.060Z",
    "type": "completeCodeCell"
   },
   {
    "code": "rdf",
    "id": "0e1e7379820c4cabbdd0b0b7e003b066",
    "order_count": 26,
    "time": "2020-07-22T03:10:06.743Z",
    "type": "selectCodeCell"
   },
   {
    "code": "rdf",
    "id": "0e1e7379820c4cabbdd0b0b7e003b066",
    "order_count": 26,
    "time": "2020-07-22T03:10:06.749Z",
    "type": "editCodeCell"
   },
   {
    "code": "rdf.data_type",
    "id": "0e1e7379820c4cabbdd0b0b7e003b066",
    "order_count": 26,
    "time": "2020-07-22T03:10:10.248Z",
    "type": "executeCodeCell"
   },
   {
    "code": "We can also use the same string representation for specifying a query in Lux.",
    "id": "9c44d6a14b5c46a5a79189bc013051be",
    "order_count": 27,
    "time": "2020-07-22T03:10:10.271Z",
    "type": "selectMarkdownCell"
   },
   {
    "code": "rdf.data_type",
    "id": "0e1e7379820c4cabbdd0b0b7e003b066",
    "isPrintLuxDf": false,
    "isPrintPandasDf": false,
    "isPrintVis": false,
    "isPrintVisCollection": false,
    "order_count": 26,
    "time": "2020-07-22T03:10:10.293Z",
    "type": "completeCodeCell"
   },
   {
    "code": "rdf.data_type",
    "id": "0e1e7379820c4cabbdd0b0b7e003b066",
    "order_count": 26,
    "time": "2020-07-22T03:10:12.333Z",
    "type": "selectCodeCell"
   },
   {
    "code": "rdf.data_type",
    "id": "0e1e7379820c4cabbdd0b0b7e003b066",
    "order_count": 26,
    "time": "2020-07-22T03:10:12.524Z",
    "type": "selectCodeCell"
   },
   {
    "code": "rdf.data_type",
    "id": "0e1e7379820c4cabbdd0b0b7e003b066",
    "order_count": 26,
    "time": "2020-07-22T03:10:19.465Z",
    "type": "selectCodeCell"
   },
   {
    "code": "rdf.data_type",
    "id": "0e1e7379820c4cabbdd0b0b7e003b066",
    "order_count": 26,
    "time": "2020-07-22T03:10:19.735Z",
    "type": "editCodeCell"
   },
   {
    "code": "rdf.data_type",
    "id": "0e1e7379820c4cabbdd0b0b7e003b066",
    "order_count": 26,
    "time": "2020-07-22T03:10:26.941Z",
    "type": "selectCodeCell"
   },
   {
    "code": "rdf.data_type",
    "id": "0e1e7379820c4cabbdd0b0b7e003b066",
    "order_count": 26,
    "time": "2020-07-22T03:10:27.163Z",
    "type": "selectCodeCell"
   },
   {
    "code": "rdf.data_type",
    "id": "0e1e7379820c4cabbdd0b0b7e003b066",
    "order_count": 26,
    "time": "2020-07-22T03:10:28.980Z",
    "type": "selectCodeCell"
   },
   {
    "code": "rdf.data_type",
    "id": "0e1e7379820c4cabbdd0b0b7e003b066",
    "order_count": 26,
    "time": "2020-07-22T03:10:29.228Z",
    "type": "selectCodeCell"
   },
   {
    "code": "rdf.data_type",
    "id": "0e1e7379820c4cabbdd0b0b7e003b066",
    "order_count": 26,
    "time": "2020-07-22T03:10:29.965Z",
    "type": "selectCodeCell"
   },
   {
    "code": "rdf.data_type",
    "id": "0e1e7379820c4cabbdd0b0b7e003b066",
    "order_count": 26,
    "time": "2020-07-22T03:10:30.213Z",
    "type": "selectCodeCell"
   },
   {
    "code": "rdf.data_type",
    "id": "0e1e7379820c4cabbdd0b0b7e003b066",
    "order_count": 26,
    "time": "2020-07-22T03:10:37.126Z",
    "type": "editCodeCell"
   },
   {
    "code": "rdf.data_type_lookup",
    "id": "0e1e7379820c4cabbdd0b0b7e003b066",
    "order_count": 26,
    "time": "2020-07-22T03:10:39.889Z",
    "type": "executeCodeCell"
   },
   {
    "code": "We can also use the same string representation for specifying a query in Lux.",
    "id": "9c44d6a14b5c46a5a79189bc013051be",
    "order_count": 27,
    "time": "2020-07-22T03:10:39.913Z",
    "type": "selectMarkdownCell"
   },
   {
    "code": "rdf.data_type_lookup",
    "id": "0e1e7379820c4cabbdd0b0b7e003b066",
    "isPrintLuxDf": false,
    "isPrintPandasDf": false,
    "isPrintVis": false,
    "isPrintVisCollection": false,
    "order_count": 26,
    "time": "2020-07-22T03:10:39.927Z",
    "type": "completeCodeCell"
   },
   {
    "code": "rdf.data_type_lookup",
    "id": "0e1e7379820c4cabbdd0b0b7e003b066",
    "order_count": 26,
    "time": "2020-07-22T03:10:42.894Z",
    "type": "selectCodeCell"
   },
   {
    "code": "rdf.data_type_lookup",
    "id": "0e1e7379820c4cabbdd0b0b7e003b066",
    "order_count": 26,
    "time": "2020-07-22T03:10:42.900Z",
    "type": "editCodeCell"
   },
   {
    "code": "rdf.data_type_lookup",
    "id": "0e1e7379820c4cabbdd0b0b7e003b066",
    "order_count": 26,
    "time": "2020-07-22T03:11:42.073Z",
    "type": "editCodeCell"
   },
   {
    "code": "rdf.data_type_lookup",
    "id": "0e1e7379820c4cabbdd0b0b7e003b066",
    "order_count": 26,
    "time": "2020-07-22T03:11:42.494Z",
    "type": "selectCodeCell"
   },
   {
    "code": "rdf.data_type_lookup",
    "id": "0e1e7379820c4cabbdd0b0b7e003b066",
    "order_count": 26,
    "time": "2020-07-22T03:11:43.127Z",
    "type": "selectCodeCell"
   },
   {
    "code": "",
    "id": "67710d9b4b5d4bdd9b672aefe43b2850",
    "order_count": 26,
    "time": "2020-07-22T03:11:43.400Z",
    "type": "selectCodeCell"
   },
   {
    "code": "",
    "id": "67710d9b4b5d4bdd9b672aefe43b2850",
    "order_count": 26,
    "time": "2020-07-22T03:11:43.672Z",
    "type": "editCodeCell"
   },
   {
    "code": "rdf.index",
    "id": "67710d9b4b5d4bdd9b672aefe43b2850",
    "order_count": 26,
    "time": "2020-07-22T03:11:45.992Z",
    "type": "executeCodeCell"
   },
   {
    "code": "rdf.data_type_lookup",
    "id": "0e1e7379820c4cabbdd0b0b7e003b066",
    "order_count": 27,
    "time": "2020-07-22T03:11:46.024Z",
    "type": "selectCodeCell"
   },
   {
    "code": "rdf.index",
    "id": "67710d9b4b5d4bdd9b672aefe43b2850",
    "isPrintLuxDf": false,
    "isPrintPandasDf": false,
    "isPrintVis": false,
    "isPrintVisCollection": false,
    "order_count": 26,
    "time": "2020-07-22T03:11:46.033Z",
    "type": "completeCodeCell"
   },
   {
    "code": "rdf.index",
    "id": "67710d9b4b5d4bdd9b672aefe43b2850",
    "order_count": 26,
    "time": "2020-07-22T03:11:46.901Z",
    "type": "selectCodeCell"
   },
   {
    "code": "rdf.index",
    "id": "67710d9b4b5d4bdd9b672aefe43b2850",
    "order_count": 26,
    "time": "2020-07-22T03:11:47.136Z",
    "type": "editCodeCell"
   },
   {
    "code": "rdf.index.dtype",
    "id": "67710d9b4b5d4bdd9b672aefe43b2850",
    "order_count": 26,
    "time": "2020-07-22T03:12:14.290Z",
    "type": "executeCodeCell"
   },
   {
    "code": "rdf.data_type_lookup",
    "id": "0e1e7379820c4cabbdd0b0b7e003b066",
    "order_count": 27,
    "time": "2020-07-22T03:12:14.323Z",
    "type": "selectCodeCell"
   },
   {
    "code": "rdf.index.dtype",
    "id": "67710d9b4b5d4bdd9b672aefe43b2850",
    "isPrintLuxDf": false,
    "isPrintPandasDf": false,
    "isPrintVis": false,
    "isPrintVisCollection": false,
    "order_count": 26,
    "time": "2020-07-22T03:12:14.334Z",
    "type": "completeCodeCell"
   },
   {
    "code": "rdf.index.dtype",
    "id": "67710d9b4b5d4bdd9b672aefe43b2850",
    "order_count": 26,
    "time": "2020-07-22T03:12:15.640Z",
    "type": "selectCodeCell"
   },
   {
    "code": "rdf.index.dtype",
    "id": "67710d9b4b5d4bdd9b672aefe43b2850",
    "order_count": 26,
    "time": "2020-07-22T03:12:15.646Z",
    "type": "editCodeCell"
   },
   {
    "code": "rdf.index",
    "id": "67710d9b4b5d4bdd9b672aefe43b2850",
    "order_count": 26,
    "time": "2020-07-22T03:12:19.789Z",
    "type": "executeCodeCell"
   },
   {
    "code": "rdf.data_type_lookup",
    "id": "0e1e7379820c4cabbdd0b0b7e003b066",
    "order_count": 27,
    "time": "2020-07-22T03:12:19.822Z",
    "type": "selectCodeCell"
   },
   {
    "code": "rdf.index",
    "id": "67710d9b4b5d4bdd9b672aefe43b2850",
    "isPrintLuxDf": false,
    "isPrintPandasDf": false,
    "isPrintVis": false,
    "isPrintVisCollection": false,
    "order_count": 26,
    "time": "2020-07-22T03:12:19.835Z",
    "type": "completeCodeCell"
   },
   {
    "code": "rdf.index",
    "id": "67710d9b4b5d4bdd9b672aefe43b2850",
    "order_count": 26,
    "time": "2020-07-22T03:12:21.160Z",
    "type": "selectCodeCell"
   },
   {
    "code": "rdf.index",
    "id": "67710d9b4b5d4bdd9b672aefe43b2850",
    "order_count": 26,
    "time": "2020-07-22T03:12:21.166Z",
    "type": "editCodeCell"
   },
   {
    "code": "rdf.index",
    "id": "67710d9b4b5d4bdd9b672aefe43b2850",
    "order_count": 26,
    "time": "2020-07-22T03:12:21.268Z",
    "type": "selectCodeCell"
   },
   {
    "code": "rdf.index",
    "id": "67710d9b4b5d4bdd9b672aefe43b2850",
    "order_count": 26,
    "time": "2020-07-22T03:12:29.916Z",
    "type": "editCodeCell"
   },
   {
    "code": "rdf.index",
    "id": "67710d9b4b5d4bdd9b672aefe43b2850",
    "order_count": 26,
    "time": "2020-07-22T03:12:32.436Z",
    "type": "selectCodeCell"
   },
   {
    "code": "df.index",
    "id": "67710d9b4b5d4bdd9b672aefe43b2850",
    "order_count": 26,
    "time": "2020-07-22T03:12:35.099Z",
    "type": "executeCodeCell"
   },
   {
    "code": "rdf.data_type_lookup",
    "id": "0e1e7379820c4cabbdd0b0b7e003b066",
    "order_count": 27,
    "time": "2020-07-22T03:12:35.131Z",
    "type": "selectCodeCell"
   },
   {
    "code": "df.index",
    "id": "67710d9b4b5d4bdd9b672aefe43b2850",
    "isPrintLuxDf": false,
    "isPrintPandasDf": false,
    "isPrintVis": false,
    "isPrintVisCollection": false,
    "order_count": 26,
    "time": "2020-07-22T03:12:35.141Z",
    "type": "completeCodeCell"
   },
   {
    "code": "df.index",
    "id": "67710d9b4b5d4bdd9b672aefe43b2850",
    "order_count": 26,
    "time": "2020-07-22T03:12:36.030Z",
    "type": "selectCodeCell"
   },
   {
    "code": "df.index",
    "id": "67710d9b4b5d4bdd9b672aefe43b2850",
    "order_count": 26,
    "time": "2020-07-22T03:12:36.336Z",
    "type": "editCodeCell"
   },
   {
    "code": "rdf.index",
    "id": "67710d9b4b5d4bdd9b672aefe43b2850",
    "order_count": 26,
    "time": "2020-07-22T03:12:39.707Z",
    "type": "executeCodeCell"
   },
   {
    "code": "rdf.data_type_lookup",
    "id": "0e1e7379820c4cabbdd0b0b7e003b066",
    "order_count": 27,
    "time": "2020-07-22T03:12:39.738Z",
    "type": "selectCodeCell"
   },
   {
    "code": "rdf.index",
    "id": "67710d9b4b5d4bdd9b672aefe43b2850",
    "isPrintLuxDf": false,
    "isPrintPandasDf": false,
    "isPrintVis": false,
    "isPrintVisCollection": false,
    "order_count": 26,
    "time": "2020-07-22T03:12:39.748Z",
    "type": "completeCodeCell"
   },
   {
    "code": "rdf.index",
    "id": "67710d9b4b5d4bdd9b672aefe43b2850",
    "order_count": 26,
    "time": "2020-07-22T03:12:47.184Z",
    "type": "selectCodeCell"
   },
   {
    "code": "rdf.index",
    "id": "67710d9b4b5d4bdd9b672aefe43b2850",
    "order_count": 26,
    "time": "2020-07-22T03:12:47.194Z",
    "type": "editCodeCell"
   },
   {
    "code": "rdf.index",
    "id": "67710d9b4b5d4bdd9b672aefe43b2850",
    "order_count": 26,
    "time": "2020-07-22T03:12:47.251Z",
    "type": "selectCodeCell"
   },
   {
    "code": "df.index.type",
    "id": "67710d9b4b5d4bdd9b672aefe43b2850",
    "order_count": 26,
    "time": "2020-07-22T03:12:50.602Z",
    "type": "executeCodeCell"
   },
   {
    "code": "rdf.data_type_lookup",
    "id": "0e1e7379820c4cabbdd0b0b7e003b066",
    "order_count": 27,
    "time": "2020-07-22T03:12:50.635Z",
    "type": "selectCodeCell"
   },
   {
    "code": "df.index.type",
    "id": "67710d9b4b5d4bdd9b672aefe43b2850",
    "isPrintLuxDf": false,
    "isPrintPandasDf": false,
    "isPrintVis": false,
    "isPrintVisCollection": false,
    "order_count": 26,
    "time": "2020-07-22T03:12:50.646Z",
    "type": "completeCodeCell"
   },
   {
    "code": "df.index.type",
    "id": "67710d9b4b5d4bdd9b672aefe43b2850",
    "order_count": 26,
    "time": "2020-07-22T03:12:52.479Z",
    "type": "selectCodeCell"
   },
   {
    "code": "df.index.type",
    "id": "67710d9b4b5d4bdd9b672aefe43b2850",
    "order_count": 26,
    "time": "2020-07-22T03:12:52.485Z",
    "type": "editCodeCell"
   },
   {
    "code": "df.index.dtype",
    "id": "67710d9b4b5d4bdd9b672aefe43b2850",
    "order_count": 26,
    "time": "2020-07-22T03:12:54.011Z",
    "type": "executeCodeCell"
   },
   {
    "code": "rdf.data_type_lookup",
    "id": "0e1e7379820c4cabbdd0b0b7e003b066",
    "order_count": 27,
    "time": "2020-07-22T03:12:54.042Z",
    "type": "selectCodeCell"
   },
   {
    "code": "df.index.dtype",
    "id": "67710d9b4b5d4bdd9b672aefe43b2850",
    "isPrintLuxDf": false,
    "isPrintPandasDf": false,
    "isPrintVis": false,
    "isPrintVisCollection": false,
    "order_count": 26,
    "time": "2020-07-22T03:12:54.053Z",
    "type": "completeCodeCell"
   },
   {
    "code": "df.index.dtype",
    "id": "67710d9b4b5d4bdd9b672aefe43b2850",
    "order_count": 26,
    "time": "2020-07-22T03:12:56.119Z",
    "type": "selectCodeCell"
   },
   {
    "code": "df.index.dtype",
    "id": "67710d9b4b5d4bdd9b672aefe43b2850",
    "order_count": 26,
    "time": "2020-07-22T03:12:56.125Z",
    "type": "editCodeCell"
   },
   {
    "code": "df.index.dtype",
    "id": "67710d9b4b5d4bdd9b672aefe43b2850",
    "order_count": 26,
    "time": "2020-07-22T03:12:56.709Z",
    "type": "selectCodeCell"
   },
   {
    "code": "df.index.dtype",
    "id": "67710d9b4b5d4bdd9b672aefe43b2850",
    "order_count": 26,
    "time": "2020-07-22T03:12:58.223Z",
    "type": "selectCodeCell"
   },
   {
    "code": "df.index.dtype",
    "id": "67710d9b4b5d4bdd9b672aefe43b2850",
    "order_count": 26,
    "time": "2020-07-22T03:13:12.562Z",
    "type": "editCodeCell"
   },
   {
    "code": "df.index.dtype",
    "id": "67710d9b4b5d4bdd9b672aefe43b2850",
    "order_count": 26,
    "time": "2020-07-22T03:13:12.975Z",
    "type": "selectCodeCell"
   },
   {
    "code": "df.index.dtype =='int64'",
    "id": "67710d9b4b5d4bdd9b672aefe43b2850",
    "order_count": 26,
    "time": "2020-07-22T03:13:15.944Z",
    "type": "executeCodeCell"
   },
   {
    "code": "rdf.data_type_lookup",
    "id": "0e1e7379820c4cabbdd0b0b7e003b066",
    "order_count": 27,
    "time": "2020-07-22T03:13:15.973Z",
    "type": "selectCodeCell"
   },
   {
    "code": "df.index.dtype =='int64'",
    "id": "67710d9b4b5d4bdd9b672aefe43b2850",
    "isPrintLuxDf": false,
    "isPrintPandasDf": false,
    "isPrintVis": false,
    "isPrintVisCollection": false,
    "order_count": 26,
    "time": "2020-07-22T03:13:15.981Z",
    "type": "completeCodeCell"
   },
   {
    "code": "df.index.dtype =='int64'",
    "id": "67710d9b4b5d4bdd9b672aefe43b2850",
    "order_count": 26,
    "time": "2020-07-22T03:13:16.665Z",
    "type": "selectCodeCell"
   },
   {
    "code": "df.index.dtype =='int64'",
    "id": "67710d9b4b5d4bdd9b672aefe43b2850",
    "order_count": 26,
    "time": "2020-07-22T03:13:16.960Z",
    "type": "editCodeCell"
   },
   {
    "code": "df.index.dtype",
    "id": "67710d9b4b5d4bdd9b672aefe43b2850",
    "order_count": 26,
    "time": "2020-07-22T03:18:03.277Z",
    "type": "editCodeCell"
   },
   {
    "code": "rdf = df[df['date'] == '2008-11']\nrdf ",
    "id": "045de606aaf445808f0105328f30c64e",
    "order_count": 25,
    "time": "2020-07-22T03:18:03.637Z",
    "type": "selectCodeCell"
   },
   {
    "time": "2020-07-22T03:18:04.996Z",
    "type": "kernelRestart"
   },
   {
    "time": "2020-07-22T03:18:05.171Z",
    "type": "kernelRestart"
   },
   {
    "code": "## Querying With Datetime Fields\nThe string representation seen in the Dataframe can be used to filter out certain dates. \nFor example, in the above `stocks` dataset, we converted the date column to a `PeriodIndex`. Now the string representation only shows the granularity we want to see. \n\nWe can use that string representation to filter the dataframe in Pandas:",
    "id": "95b8609d2f34485c880c9a931e952bbf",
    "order_count": 24,
    "time": "2020-07-22T03:18:05.483Z",
    "type": "selectMarkdownCell"
   },
   {
    "code": "df['date']",
    "id": "13290d9f3abe41479715269db140bef3",
    "order_count": 23,
    "time": "2020-07-22T03:18:05.639Z",
    "type": "selectCodeCell"
   },
   {
    "code": "vis.refresh_source(df)\nvis",
    "id": "1a72cb8910824ede9ecec41633e8fe85",
    "order_count": 22,
    "time": "2020-07-22T03:18:05.777Z",
    "type": "selectCodeCell"
   },
   {
    "code": "df[\"date\"] = pd.DatetimeIndex(df[\"date\"]).to_period(freq='M')",
    "id": "7233028925854dd286169564055ccfbd",
    "order_count": 21,
    "time": "2020-07-22T03:18:05.910Z",
    "type": "selectCodeCell"
   },
   {
    "code": "If we only want Lux to output the month and the year, we can convert the columnn to a [`PeriodIndex`](https://pandas.pydata.org/pandas-docs/stable/reference/api/pandas.PeriodIndex.html) using [`to_period`](https://pandas.pydata.org/pandas-docs/stable/reference/api/pandas.DatetimeIndex.to_period.html). The `freq` argument specifies the granularity of the output. In this case, we are using 'M' for monthly. You can find more about how to specify time periods [here](https://pandas.pydata.org/pandas-docs/stable/user_guide/timeseries.html#dateoffset-objects).",
    "id": "7adeb78f74a149af9787f3b5f20b7ca2",
    "order_count": 20,
    "time": "2020-07-22T03:18:06.027Z",
    "type": "selectMarkdownCell"
   },
   {
    "code": "vis = Vis([\"date\",\"price\"],df)\nvis",
    "id": "5d2b5a08a17045a283edf915c5ff7f73",
    "order_count": 19,
    "time": "2020-07-22T03:18:06.162Z",
    "type": "selectCodeCell"
   },
   {
    "code": "df = pd.read_csv(\"lux/data/stocks.csv\")\n\ndf.dtypes",
    "id": "660e772ed66648dba0001802649f2e53",
    "order_count": 18,
    "time": "2020-07-22T03:18:06.306Z",
    "type": "selectCodeCell"
   },
   {
    "code": "## Advanced Date Manipulation\nYou might notice earlier that all the dates in our example dataset are the first of the month. In this case, there may be situations where we only want to list the year and month, instead of the full date. Here, we look at how to handle these cases.\n\nBelow we look at an example stocks dataset that also have `date` field with each row representing data for the first of each month.",
    "id": "2ff0daa85898446088e2abc26eaeb4b8",
    "order_count": 17,
    "time": "2020-07-22T03:18:06.400Z",
    "type": "selectMarkdownCell"
   },
   {
    "code": "vis.refresh_source(df)\nvis",
    "id": "db8018345d114e0d926c9f273ebbd799",
    "order_count": 16,
    "time": "2020-07-22T03:18:06.558Z",
    "type": "selectCodeCell"
   },
   {
    "code": "df.data_type",
    "id": "74eb3159d0b34723945348993fa9e8e1",
    "order_count": 15,
    "time": "2020-07-22T03:18:06.686Z",
    "type": "selectCodeCell"
   },
   {
    "time": "2020-07-22T03:18:06.737Z",
    "type": "kernelReady"
   },
   {
    "time": "2020-07-22T03:18:06.744Z",
    "type": "kernelReady"
   },
   {
    "code": "After changing the Pandas data type to datetime, we see that date field is recognized as temporal fields in Lux.",
    "id": "c226301622c8479e8d5218011f3d6ad9",
    "order_count": 14,
    "time": "2020-07-22T03:18:06.820Z",
    "type": "selectMarkdownCell"
   },
   {
    "code": "df['date'] = pd.to_datetime(df['date'],format=\"%Y-%m-%d\")\ndf['date']",
    "id": "c9059805d6104a329aff30bee0df619f",
    "order_count": 13,
    "time": "2020-07-22T03:18:06.955Z",
    "type": "selectCodeCell"
   },
   {
    "code": "To fix this, we can convert the `date` column into a datetime object by doing:",
    "id": "0ba893fc6bba4eaf8e3662875732565e",
    "order_count": 12,
    "time": "2020-07-22T03:18:07.116Z",
    "type": "selectMarkdownCell"
   },
   {
    "code": "from lux.vis.Vis import Vis\nvis = Vis([\"date\",\"value\"],df)\nvis",
    "id": "0c6a45ae9fa34381818f5a5c689618b8",
    "order_count": 11,
    "time": "2020-07-22T03:18:07.260Z",
    "type": "selectCodeCell"
   },
   {
    "code": "The typing has implications on the generated viss, since nominal chart types are displayed as bar charts, whereas temporal fields are plotted as time series line charts.",
    "id": "4b7138e3c7e8430ca9c679ea2ab48d20",
    "order_count": 10,
    "time": "2020-07-22T03:18:07.395Z",
    "type": "selectMarkdownCell"
   },
   {
    "code": "df.data_type",
    "id": "013050b890ed4e94a255ad649616fac9",
    "order_count": 9,
    "time": "2020-07-22T03:18:07.538Z",
    "type": "selectCodeCell"
   },
   {
    "code": "Since `date` is detected as an object type in Pandas, in Lux the `date` field is recognized as a `nominal` field, instead of a `temporal` field:",
    "id": "63ee1e0a7426406780b88b20ce857553",
    "order_count": 8,
    "time": "2020-07-22T03:18:07.666Z",
    "type": "selectMarkdownCell"
   },
   {
    "code": "df.dtypes",
    "id": "963f7d84d45f44c18eaccddf6da30038",
    "order_count": 7,
    "time": "2020-07-22T03:18:07.826Z",
    "type": "selectCodeCell"
   },
   {
    "code": "This is the types detected in Pandas's data type [`dtype`](https://pandas.pydata.org/pandas-docs/stable/reference/api/pandas.DataFrame.dtypes.html):",
    "id": "b9da7a733208495e949577ded41b35a9",
    "order_count": 6,
    "time": "2020-07-22T03:18:07.956Z",
    "type": "selectMarkdownCell"
   },
   {
    "code": "df = pd.DataFrame({'date': ['2020-02-01', '2020-03-01', '2020-04-01', '2020-05-01','2020-06-01',],\n                   'value': [10.5,15.2,20.3,25.2, 14.2]})\ndf",
    "id": "26206a60aa1a4c74a40eee54b13fc60f",
    "order_count": 5,
    "time": "2020-07-22T03:18:08.101Z",
    "type": "selectCodeCell"
   },
   {
    "code": "### Example:\n\nAs an example, a dataframe might contain a `date` attribute as strings of dates:",
    "id": "a1f72ab4dd6343be8669b84736ccaba8",
    "order_count": 4,
    "time": "2020-07-22T03:18:08.229Z",
    "type": "selectMarkdownCell"
   },
   {
    "code": "## Converting Strings to Datetime objects\nTo convert column referencing dates/times into [`datetime`](https://docs.python.org/3/library/datetime.html) objects, we use [`pd.to_datetime`](https://pandas.pydata.org/pandas-docs/stable/reference/api/pandas.to_datetime.html).\n\n### Summary: \n\n```\npd.to_datetime(['2020-01-01', '2020-01-15', '2020-02-01'],format=\"%Y-%m-%d\")\n```",
    "id": "7f9babde8d2740f28304e4d51258d434",
    "order_count": 3,
    "time": "2020-07-22T03:18:08.729Z",
    "type": "selectMarkdownCell"
   },
   {
    "code": "import pandas as pd\nimport lux",
    "id": "866632a5a3e44af98a6157e5225e002d",
    "order_count": 2,
    "time": "2020-07-22T03:18:08.819Z",
    "type": "selectCodeCell"
   },
   {
    "code": "cd ..",
    "id": "7ad26935cb0a443b815145d99d228f47",
    "order_count": 1,
    "time": "2020-07-22T03:18:08.902Z",
    "type": "selectCodeCell"
   },
   {
    "code": "# Datetime Tutorial\nThis is a tutorial on how to prepare temporal data for use with Lux. To display temporal fields appropriately in Lux, the column must be converted into Pandas's [`datetime`](https://docs.python.org/3/library/datetime.html) objects. ",
    "id": "930a33f9a7cd43e1842e90c0bc2dde05",
    "order_count": 0,
    "time": "2020-07-22T03:18:08.980Z",
    "type": "selectMarkdownCell"
   },
   {
    "code": "cd ..",
    "id": "7ad26935cb0a443b815145d99d228f47",
    "order_count": 1,
    "time": "2020-07-22T03:18:09.564Z",
    "type": "selectCodeCell"
   },
   {
    "code": "cd ..",
    "id": "7ad26935cb0a443b815145d99d228f47",
    "order_count": 1,
    "time": "2020-07-22T03:18:10.052Z",
    "type": "executeCodeCell"
   },
   {
    "code": "import pandas as pd\nimport lux",
    "id": "866632a5a3e44af98a6157e5225e002d",
    "order_count": 2,
    "time": "2020-07-22T03:18:10.067Z",
    "type": "selectCodeCell"
   },
   {
    "code": "cd ..",
    "id": "7ad26935cb0a443b815145d99d228f47",
    "isPrintLuxDf": false,
    "isPrintPandasDf": false,
    "isPrintVis": false,
    "isPrintVisCollection": false,
    "order_count": 1,
    "time": "2020-07-22T03:18:10.080Z",
    "type": "completeCodeCell"
   },
   {
    "code": "import pandas as pd\nimport lux",
    "id": "866632a5a3e44af98a6157e5225e002d",
    "order_count": 2,
    "time": "2020-07-22T03:18:10.132Z",
    "type": "executeCodeCell"
   },
   {
    "code": "## Converting Strings to Datetime objects\nTo convert column referencing dates/times into [`datetime`](https://docs.python.org/3/library/datetime.html) objects, we use [`pd.to_datetime`](https://pandas.pydata.org/pandas-docs/stable/reference/api/pandas.to_datetime.html).\n\n### Summary: \n\n```\npd.to_datetime(['2020-01-01', '2020-01-15', '2020-02-01'],format=\"%Y-%m-%d\")\n```",
    "id": "7f9babde8d2740f28304e4d51258d434",
    "order_count": 3,
    "time": "2020-07-22T03:18:10.139Z",
    "type": "selectMarkdownCell"
   },
   {
    "code": "### Example:\n\nAs an example, a dataframe might contain a `date` attribute as strings of dates:",
    "id": "a1f72ab4dd6343be8669b84736ccaba8",
    "order_count": 4,
    "time": "2020-07-22T03:18:10.219Z",
    "type": "selectMarkdownCell"
   },
   {
    "code": "df = pd.DataFrame({'date': ['2020-02-01', '2020-03-01', '2020-04-01', '2020-05-01','2020-06-01',],\n                   'value': [10.5,15.2,20.3,25.2, 14.2]})\ndf",
    "id": "26206a60aa1a4c74a40eee54b13fc60f",
    "order_count": 5,
    "time": "2020-07-22T03:18:10.310Z",
    "type": "selectCodeCell"
   },
   {
    "code": "df = pd.DataFrame({'date': ['2020-02-01', '2020-03-01', '2020-04-01', '2020-05-01','2020-06-01',],\n                   'value': [10.5,15.2,20.3,25.2, 14.2]})\ndf",
    "id": "26206a60aa1a4c74a40eee54b13fc60f",
    "order_count": 5,
    "time": "2020-07-22T03:18:10.386Z",
    "type": "executeCodeCell"
   },
   {
    "code": "This is the types detected in Pandas's data type [`dtype`](https://pandas.pydata.org/pandas-docs/stable/reference/api/pandas.DataFrame.dtypes.html):",
    "id": "b9da7a733208495e949577ded41b35a9",
    "order_count": 6,
    "time": "2020-07-22T03:18:10.395Z",
    "type": "selectMarkdownCell"
   },
   {
    "code": "df.dtypes",
    "id": "963f7d84d45f44c18eaccddf6da30038",
    "order_count": 7,
    "time": "2020-07-22T03:18:10.476Z",
    "type": "selectCodeCell"
   },
   {
    "code": "df.dtypes",
    "id": "963f7d84d45f44c18eaccddf6da30038",
    "order_count": 7,
    "time": "2020-07-22T03:18:10.548Z",
    "type": "executeCodeCell"
   },
   {
    "code": "Since `date` is detected as an object type in Pandas, in Lux the `date` field is recognized as a `nominal` field, instead of a `temporal` field:",
    "id": "63ee1e0a7426406780b88b20ce857553",
    "order_count": 8,
    "time": "2020-07-22T03:18:10.555Z",
    "type": "selectMarkdownCell"
   },
   {
    "code": "df.data_type",
    "id": "013050b890ed4e94a255ad649616fac9",
    "order_count": 9,
    "time": "2020-07-22T03:18:10.642Z",
    "type": "selectCodeCell"
   },
   {
    "code": "import pandas as pd\nimport lux",
    "id": "866632a5a3e44af98a6157e5225e002d",
    "isPrintLuxDf": false,
    "isPrintPandasDf": false,
    "isPrintVis": false,
    "isPrintVisCollection": false,
    "order_count": 2,
    "time": "2020-07-22T03:18:10.651Z",
    "type": "completeCodeCell"
   },
   {
    "code": "df.data_type",
    "id": "013050b890ed4e94a255ad649616fac9",
    "order_count": 9,
    "time": "2020-07-22T03:18:10.715Z",
    "type": "executeCodeCell"
   },
   {
    "code": "The typing has implications on the generated viss, since nominal chart types are displayed as bar charts, whereas temporal fields are plotted as time series line charts.",
    "id": "4b7138e3c7e8430ca9c679ea2ab48d20",
    "order_count": 10,
    "time": "2020-07-22T03:18:10.722Z",
    "type": "selectMarkdownCell"
   },
   {
    "code": "from lux.vis.Vis import Vis\nvis = Vis([\"date\",\"value\"],df)\nvis",
    "id": "0c6a45ae9fa34381818f5a5c689618b8",
    "order_count": 11,
    "time": "2020-07-22T03:18:10.808Z",
    "type": "selectCodeCell"
   },
   {
    "code": "from lux.vis.Vis import Vis\nvis = Vis([\"date\",\"value\"],df)\nvis",
    "id": "0c6a45ae9fa34381818f5a5c689618b8",
    "order_count": 11,
    "time": "2020-07-22T03:18:10.882Z",
    "type": "executeCodeCell"
   },
   {
    "code": "To fix this, we can convert the `date` column into a datetime object by doing:",
    "id": "0ba893fc6bba4eaf8e3662875732565e",
    "order_count": 12,
    "time": "2020-07-22T03:18:10.888Z",
    "type": "selectMarkdownCell"
   },
   {
    "code": "df['date'] = pd.to_datetime(df['date'],format=\"%Y-%m-%d\")\ndf['date']",
    "id": "c9059805d6104a329aff30bee0df619f",
    "order_count": 13,
    "time": "2020-07-22T03:18:10.975Z",
    "type": "selectCodeCell"
   },
   {
    "code": "df['date'] = pd.to_datetime(df['date'],format=\"%Y-%m-%d\")\ndf['date']",
    "id": "c9059805d6104a329aff30bee0df619f",
    "order_count": 13,
    "time": "2020-07-22T03:18:11.050Z",
    "type": "executeCodeCell"
   },
   {
    "code": "After changing the Pandas data type to datetime, we see that date field is recognized as temporal fields in Lux.",
    "id": "c226301622c8479e8d5218011f3d6ad9",
    "order_count": 14,
    "time": "2020-07-22T03:18:11.057Z",
    "type": "selectMarkdownCell"
   },
   {
    "code": "df = pd.DataFrame({'date': ['2020-02-01', '2020-03-01', '2020-04-01', '2020-05-01','2020-06-01',],\n                   'value': [10.5,15.2,20.3,25.2, 14.2]})\ndf",
    "id": "26206a60aa1a4c74a40eee54b13fc60f",
    "isPrintLuxDf": false,
    "isPrintPandasDf": true,
    "isPrintVis": false,
    "isPrintVisCollection": false,
    "order_count": 5,
    "time": "2020-07-22T03:18:11.129Z",
    "type": "completeCodeCell"
   },
   {
    "code": "df.dtypes",
    "id": "963f7d84d45f44c18eaccddf6da30038",
    "isPrintLuxDf": false,
    "isPrintPandasDf": false,
    "isPrintVis": false,
    "isPrintVisCollection": false,
    "order_count": 7,
    "time": "2020-07-22T03:18:11.134Z",
    "type": "completeCodeCell"
   },
   {
    "code": "df.data_type",
    "id": "013050b890ed4e94a255ad649616fac9",
    "isPrintLuxDf": false,
    "isPrintPandasDf": false,
    "isPrintVis": false,
    "isPrintVisCollection": false,
    "order_count": 9,
    "time": "2020-07-22T03:18:11.149Z",
    "type": "completeCodeCell"
   },
   {
    "code": "from lux.vis.Vis import Vis\nvis = Vis([\"date\",\"value\"],df)\nvis",
    "id": "0c6a45ae9fa34381818f5a5c689618b8",
    "isPrintLuxDf": false,
    "isPrintPandasDf": false,
    "isPrintVis": true,
    "isPrintVisCollection": false,
    "order_count": 11,
    "time": "2020-07-22T03:18:11.166Z",
    "type": "completeCodeCell"
   },
   {
    "code": "df['date'] = pd.to_datetime(df['date'],format=\"%Y-%m-%d\")\ndf['date']",
    "id": "c9059805d6104a329aff30bee0df619f",
    "isPrintLuxDf": false,
    "isPrintPandasDf": false,
    "isPrintVis": false,
    "isPrintVisCollection": false,
    "order_count": 13,
    "time": "2020-07-22T03:18:11.177Z",
    "type": "completeCodeCell"
   },
   {
    "param": "",
    "time": "2020-07-22T03:18:11.185Z",
    "type": "initWidget"
   },
   {
    "code": "df.data_type",
    "id": "74eb3159d0b34723945348993fa9e8e1",
    "order_count": 15,
    "time": "2020-07-22T03:18:11.621Z",
    "type": "selectCodeCell"
   },
   {
    "code": "df.data_type",
    "id": "74eb3159d0b34723945348993fa9e8e1",
    "order_count": 15,
    "time": "2020-07-22T03:18:12.107Z",
    "type": "executeCodeCell"
   },
   {
    "code": "vis.refresh_source(df)\nvis",
    "id": "db8018345d114e0d926c9f273ebbd799",
    "order_count": 16,
    "time": "2020-07-22T03:18:12.122Z",
    "type": "selectCodeCell"
   },
   {
    "code": "df.data_type",
    "id": "74eb3159d0b34723945348993fa9e8e1",
    "isPrintLuxDf": false,
    "isPrintPandasDf": false,
    "isPrintVis": false,
    "isPrintVisCollection": false,
    "order_count": 15,
    "time": "2020-07-22T03:18:12.133Z",
    "type": "completeCodeCell"
   },
   {
    "code": "vis.refresh_source(df)\nvis",
    "id": "db8018345d114e0d926c9f273ebbd799",
    "order_count": 16,
    "time": "2020-07-22T03:18:12.422Z",
    "type": "executeCodeCell"
   },
   {
    "code": "## Advanced Date Manipulation\nYou might notice earlier that all the dates in our example dataset are the first of the month. In this case, there may be situations where we only want to list the year and month, instead of the full date. Here, we look at how to handle these cases.\n\nBelow we look at an example stocks dataset that also have `date` field with each row representing data for the first of each month.",
    "id": "2ff0daa85898446088e2abc26eaeb4b8",
    "order_count": 17,
    "time": "2020-07-22T03:18:12.430Z",
    "type": "selectMarkdownCell"
   },
   {
    "code": "vis.refresh_source(df)\nvis",
    "id": "db8018345d114e0d926c9f273ebbd799",
    "isPrintLuxDf": false,
    "isPrintPandasDf": false,
    "isPrintVis": true,
    "isPrintVisCollection": false,
    "order_count": 16,
    "time": "2020-07-22T03:18:12.473Z",
    "type": "completeCodeCell"
   },
   {
    "param": "",
    "time": "2020-07-22T03:18:12.482Z",
    "type": "initWidget"
   },
   {
    "code": "df = pd.read_csv(\"lux/data/stocks.csv\")\n\ndf.dtypes",
    "id": "660e772ed66648dba0001802649f2e53",
    "order_count": 18,
    "time": "2020-07-22T03:18:12.883Z",
    "type": "selectCodeCell"
   },
   {
    "code": "df = pd.read_csv(\"lux/data/stocks.csv\")\n\ndf.dtypes",
    "id": "660e772ed66648dba0001802649f2e53",
    "order_count": 18,
    "time": "2020-07-22T03:18:13.366Z",
    "type": "executeCodeCell"
   },
   {
    "code": "vis = Vis([\"date\",\"price\"],df)\nvis",
    "id": "5d2b5a08a17045a283edf915c5ff7f73",
    "order_count": 19,
    "time": "2020-07-22T03:18:13.382Z",
    "type": "selectCodeCell"
   },
   {
    "code": "df = pd.read_csv(\"lux/data/stocks.csv\")\n\ndf.dtypes",
    "id": "660e772ed66648dba0001802649f2e53",
    "isPrintLuxDf": false,
    "isPrintPandasDf": false,
    "isPrintVis": false,
    "isPrintVisCollection": false,
    "order_count": 18,
    "time": "2020-07-22T03:18:13.394Z",
    "type": "completeCodeCell"
   },
   {
    "code": "vis = Vis([\"date\",\"price\"],df)\nvis",
    "id": "5d2b5a08a17045a283edf915c5ff7f73",
    "order_count": 19,
    "time": "2020-07-22T03:18:13.766Z",
    "type": "executeCodeCell"
   },
   {
    "code": "If we only want Lux to output the month and the year, we can convert the columnn to a [`PeriodIndex`](https://pandas.pydata.org/pandas-docs/stable/reference/api/pandas.PeriodIndex.html) using [`to_period`](https://pandas.pydata.org/pandas-docs/stable/reference/api/pandas.DatetimeIndex.to_period.html). The `freq` argument specifies the granularity of the output. In this case, we are using 'M' for monthly. You can find more about how to specify time periods [here](https://pandas.pydata.org/pandas-docs/stable/user_guide/timeseries.html#dateoffset-objects).",
    "id": "7adeb78f74a149af9787f3b5f20b7ca2",
    "order_count": 20,
    "time": "2020-07-22T03:18:13.773Z",
    "type": "selectMarkdownCell"
   },
   {
    "code": "vis = Vis([\"date\",\"price\"],df)\nvis",
    "id": "5d2b5a08a17045a283edf915c5ff7f73",
    "isPrintLuxDf": false,
    "isPrintPandasDf": false,
    "isPrintVis": true,
    "isPrintVisCollection": false,
    "order_count": 19,
    "time": "2020-07-22T03:18:13.819Z",
    "type": "completeCodeCell"
   },
   {
    "param": "",
    "time": "2020-07-22T03:18:13.829Z",
    "type": "initWidget"
   },
   {
    "code": "df[\"date\"] = pd.DatetimeIndex(df[\"date\"]).to_period(freq='M')",
    "id": "7233028925854dd286169564055ccfbd",
    "order_count": 21,
    "time": "2020-07-22T03:18:14.029Z",
    "type": "selectCodeCell"
   },
   {
    "code": "df[\"date\"] = pd.DatetimeIndex(df[\"date\"]).to_period(freq='M')",
    "id": "7233028925854dd286169564055ccfbd",
    "order_count": 21,
    "time": "2020-07-22T03:18:14.637Z",
    "type": "executeCodeCell"
   },
   {
    "code": "vis.refresh_source(df)\nvis",
    "id": "1a72cb8910824ede9ecec41633e8fe85",
    "order_count": 22,
    "time": "2020-07-22T03:18:14.653Z",
    "type": "selectCodeCell"
   },
   {
    "code": "df[\"date\"] = pd.DatetimeIndex(df[\"date\"]).to_period(freq='M')",
    "id": "7233028925854dd286169564055ccfbd",
    "isPrintLuxDf": false,
    "isPrintPandasDf": false,
    "isPrintVis": false,
    "isPrintVisCollection": false,
    "order_count": 21,
    "time": "2020-07-22T03:18:14.659Z",
    "type": "completeCodeCell"
   },
   {
    "code": "vis.refresh_source(df)\nvis",
    "id": "1a72cb8910824ede9ecec41633e8fe85",
    "order_count": 22,
    "time": "2020-07-22T03:18:15.149Z",
    "type": "executeCodeCell"
   },
   {
    "code": "df['date']",
    "id": "13290d9f3abe41479715269db140bef3",
    "order_count": 23,
    "time": "2020-07-22T03:18:15.163Z",
    "type": "selectCodeCell"
   },
   {
    "code": "vis.refresh_source(df)\nvis",
    "id": "1a72cb8910824ede9ecec41633e8fe85",
    "isPrintLuxDf": false,
    "isPrintPandasDf": false,
    "isPrintVis": true,
    "isPrintVisCollection": false,
    "order_count": 22,
    "time": "2020-07-22T03:18:15.212Z",
    "type": "completeCodeCell"
   },
   {
    "param": "",
    "time": "2020-07-22T03:18:15.215Z",
    "type": "initWidget"
   },
   {
    "code": "df['date']",
    "id": "13290d9f3abe41479715269db140bef3",
    "order_count": 23,
    "time": "2020-07-22T03:18:16.102Z",
    "type": "executeCodeCell"
   },
   {
    "code": "## Querying With Datetime Fields\nThe string representation seen in the Dataframe can be used to filter out certain dates. \nFor example, in the above `stocks` dataset, we converted the date column to a `PeriodIndex`. Now the string representation only shows the granularity we want to see. \n\nWe can use that string representation to filter the dataframe in Pandas:",
    "id": "95b8609d2f34485c880c9a931e952bbf",
    "order_count": 24,
    "time": "2020-07-22T03:18:16.110Z",
    "type": "selectMarkdownCell"
   },
   {
    "code": "df['date']",
    "id": "13290d9f3abe41479715269db140bef3",
    "isPrintLuxDf": false,
    "isPrintPandasDf": false,
    "isPrintVis": false,
    "isPrintVisCollection": false,
    "order_count": 23,
    "time": "2020-07-22T03:18:16.122Z",
    "type": "completeCodeCell"
   },
   {
    "code": "rdf = df[df['date'] == '2008-11']\nrdf ",
    "id": "045de606aaf445808f0105328f30c64e",
    "order_count": 25,
    "time": "2020-07-22T03:18:17.062Z",
    "type": "selectCodeCell"
   },
   {
    "code": "rdf = df[df['date'] == '2008-11']\nrdf ",
    "id": "045de606aaf445808f0105328f30c64e",
    "order_count": 25,
    "time": "2020-07-22T03:18:17.558Z",
    "type": "executeCodeCell"
   },
   {
    "code": "df.index.dtype",
    "id": "67710d9b4b5d4bdd9b672aefe43b2850",
    "order_count": 26,
    "time": "2020-07-22T03:18:17.573Z",
    "type": "selectCodeCell"
   },
   {
    "code": "rdf = df[df['date'] == '2008-11']\nrdf ",
    "id": "045de606aaf445808f0105328f30c64e",
    "isPrintLuxDf": false,
    "isPrintPandasDf": true,
    "isPrintVis": false,
    "isPrintVisCollection": false,
    "order_count": 25,
    "time": "2020-07-22T03:18:17.779Z",
    "type": "completeCodeCell"
   },
   {
    "code": "rdf = df[df['date'] == '2008-11']\nrdf ",
    "id": "045de606aaf445808f0105328f30c64e",
    "order_count": 25,
    "time": "2020-07-22T03:18:20.240Z",
    "type": "selectCodeCell"
   },
   {
    "param": "",
    "time": "2020-07-22T03:18:20.260Z",
    "type": "initWidget"
   },
   {
    "param": "",
    "time": "2020-07-22T03:18:20.330Z",
    "type": "initWidget"
   },
   {
    "code": "df.index.dtype",
    "id": "67710d9b4b5d4bdd9b672aefe43b2850",
    "order_count": 26,
    "time": "2020-07-22T03:18:23.583Z",
    "type": "selectCodeCell"
   },
   {
    "code": "df.index.dtype",
    "id": "67710d9b4b5d4bdd9b672aefe43b2850",
    "order_count": 26,
    "time": "2020-07-22T03:18:23.589Z",
    "type": "editCodeCell"
   },
   {
    "code": "df.index.dtype",
    "id": "67710d9b4b5d4bdd9b672aefe43b2850",
    "order_count": null,
    "time": "2020-07-22T03:18:25.013Z",
    "type": "deleteCodeCell"
   },
   {
    "code": "rdf.data_type_lookup",
    "id": "0e1e7379820c4cabbdd0b0b7e003b066",
    "order_count": 26,
    "time": "2020-07-22T03:18:25.414Z",
    "type": "executeCodeCell"
   },
   {
    "code": "We can also use the same string representation for specifying a query in Lux.",
    "id": "9c44d6a14b5c46a5a79189bc013051be",
    "order_count": 27,
    "time": "2020-07-22T03:18:25.422Z",
    "type": "selectMarkdownCell"
   },
   {
    "code": "rdf.data_type_lookup",
    "id": "0e1e7379820c4cabbdd0b0b7e003b066",
    "isPrintLuxDf": false,
    "isPrintPandasDf": false,
    "isPrintVis": false,
    "isPrintVisCollection": false,
    "order_count": 26,
    "time": "2020-07-22T03:18:25.434Z",
    "type": "completeCodeCell"
   },
   {
    "code": "rdf.data_type_lookup",
    "id": "0e1e7379820c4cabbdd0b0b7e003b066",
    "order_count": 26,
    "time": "2020-07-22T03:18:27.266Z",
    "type": "selectCodeCell"
   },
   {
    "code": "rdf.data_type_lookup",
    "id": "0e1e7379820c4cabbdd0b0b7e003b066",
    "order_count": 26,
    "time": "2020-07-22T03:18:27.725Z",
    "type": "executeCodeCell"
   },
   {
    "code": "We can also use the same string representation for specifying a query in Lux.",
    "id": "9c44d6a14b5c46a5a79189bc013051be",
    "order_count": 27,
    "time": "2020-07-22T03:18:27.733Z",
    "type": "selectMarkdownCell"
   },
   {
    "code": "rdf.data_type_lookup",
    "id": "0e1e7379820c4cabbdd0b0b7e003b066",
    "isPrintLuxDf": false,
    "isPrintPandasDf": false,
    "isPrintVis": false,
    "isPrintVisCollection": false,
    "order_count": 26,
    "time": "2020-07-22T03:18:27.745Z",
    "type": "completeCodeCell"
   },
   {
    "code": "rdf = df[df['date'] == '2008-11']\nrdf ",
    "id": "045de606aaf445808f0105328f30c64e",
    "order_count": 25,
    "time": "2020-07-22T03:19:37.026Z",
    "type": "selectCodeCell"
   },
   {
    "time": "2020-07-22T03:19:38.502Z",
    "type": "kernelRestart"
   },
   {
    "time": "2020-07-22T03:19:38.644Z",
    "type": "kernelRestart"
   },
   {
    "time": "2020-07-22T03:19:38.796Z",
    "type": "kernelRestart"
   },
   {
    "code": "## Querying With Datetime Fields\nThe string representation seen in the Dataframe can be used to filter out certain dates. \nFor example, in the above `stocks` dataset, we converted the date column to a `PeriodIndex`. Now the string representation only shows the granularity we want to see. \n\nWe can use that string representation to filter the dataframe in Pandas:",
    "id": "95b8609d2f34485c880c9a931e952bbf",
    "order_count": 24,
    "time": "2020-07-22T03:19:39.276Z",
    "type": "selectMarkdownCell"
   },
   {
    "code": "df['date']",
    "id": "13290d9f3abe41479715269db140bef3",
    "order_count": 23,
    "time": "2020-07-22T03:19:39.783Z",
    "type": "selectCodeCell"
   },
   {
    "code": "vis.refresh_source(df)\nvis",
    "id": "1a72cb8910824ede9ecec41633e8fe85",
    "order_count": 22,
    "time": "2020-07-22T03:19:39.863Z",
    "type": "selectCodeCell"
   },
   {
    "code": "df[\"date\"] = pd.DatetimeIndex(df[\"date\"]).to_period(freq='M')",
    "id": "7233028925854dd286169564055ccfbd",
    "order_count": 21,
    "time": "2020-07-22T03:19:39.947Z",
    "type": "selectCodeCell"
   },
   {
    "code": "If we only want Lux to output the month and the year, we can convert the columnn to a [`PeriodIndex`](https://pandas.pydata.org/pandas-docs/stable/reference/api/pandas.PeriodIndex.html) using [`to_period`](https://pandas.pydata.org/pandas-docs/stable/reference/api/pandas.DatetimeIndex.to_period.html). The `freq` argument specifies the granularity of the output. In this case, we are using 'M' for monthly. You can find more about how to specify time periods [here](https://pandas.pydata.org/pandas-docs/stable/user_guide/timeseries.html#dateoffset-objects).",
    "id": "7adeb78f74a149af9787f3b5f20b7ca2",
    "order_count": 20,
    "time": "2020-07-22T03:19:40.026Z",
    "type": "selectMarkdownCell"
   },
   {
    "code": "vis = Vis([\"date\",\"price\"],df)\nvis",
    "id": "5d2b5a08a17045a283edf915c5ff7f73",
    "order_count": 19,
    "time": "2020-07-22T03:19:40.115Z",
    "type": "selectCodeCell"
   },
   {
    "code": "df = pd.read_csv(\"lux/data/stocks.csv\")\n\ndf.dtypes",
    "id": "660e772ed66648dba0001802649f2e53",
    "order_count": 18,
    "time": "2020-07-22T03:19:40.200Z",
    "type": "selectCodeCell"
   },
   {
    "code": "## Advanced Date Manipulation\nYou might notice earlier that all the dates in our example dataset are the first of the month. In this case, there may be situations where we only want to list the year and month, instead of the full date. Here, we look at how to handle these cases.\n\nBelow we look at an example stocks dataset that also have `date` field with each row representing data for the first of each month.",
    "id": "2ff0daa85898446088e2abc26eaeb4b8",
    "order_count": 17,
    "time": "2020-07-22T03:19:40.278Z",
    "type": "selectMarkdownCell"
   },
   {
    "code": "vis.refresh_source(df)\nvis",
    "id": "db8018345d114e0d926c9f273ebbd799",
    "order_count": 16,
    "time": "2020-07-22T03:19:40.365Z",
    "type": "selectCodeCell"
   },
   {
    "code": "df.data_type",
    "id": "74eb3159d0b34723945348993fa9e8e1",
    "order_count": 15,
    "time": "2020-07-22T03:19:40.448Z",
    "type": "selectCodeCell"
   },
   {
    "code": "After changing the Pandas data type to datetime, we see that date field is recognized as temporal fields in Lux.",
    "id": "c226301622c8479e8d5218011f3d6ad9",
    "order_count": 14,
    "time": "2020-07-22T03:19:40.527Z",
    "type": "selectMarkdownCell"
   },
   {
    "time": "2020-07-22T03:19:40.586Z",
    "type": "kernelReady"
   },
   {
    "time": "2020-07-22T03:19:40.589Z",
    "type": "kernelReady"
   },
   {
    "time": "2020-07-22T03:19:40.592Z",
    "type": "kernelReady"
   },
   {
    "time": "2020-07-22T03:19:40.595Z",
    "type": "kernelReady"
   },
   {
    "code": "df['date'] = pd.to_datetime(df['date'],format=\"%Y-%m-%d\")\ndf['date']",
    "id": "c9059805d6104a329aff30bee0df619f",
    "order_count": 13,
    "time": "2020-07-22T03:19:40.616Z",
    "type": "selectCodeCell"
   },
   {
    "code": "To fix this, we can convert the `date` column into a datetime object by doing:",
    "id": "0ba893fc6bba4eaf8e3662875732565e",
    "order_count": 12,
    "time": "2020-07-22T03:19:40.693Z",
    "type": "selectMarkdownCell"
   },
   {
    "code": "from lux.vis.Vis import Vis\nvis = Vis([\"date\",\"value\"],df)\nvis",
    "id": "0c6a45ae9fa34381818f5a5c689618b8",
    "order_count": 11,
    "time": "2020-07-22T03:19:40.784Z",
    "type": "selectCodeCell"
   },
   {
    "code": "The typing has implications on the generated viss, since nominal chart types are displayed as bar charts, whereas temporal fields are plotted as time series line charts.",
    "id": "4b7138e3c7e8430ca9c679ea2ab48d20",
    "order_count": 10,
    "time": "2020-07-22T03:19:40.862Z",
    "type": "selectMarkdownCell"
   },
   {
    "code": "df.data_type",
    "id": "013050b890ed4e94a255ad649616fac9",
    "order_count": 9,
    "time": "2020-07-22T03:19:40.952Z",
    "type": "selectCodeCell"
   },
   {
    "code": "Since `date` is detected as an object type in Pandas, in Lux the `date` field is recognized as a `nominal` field, instead of a `temporal` field:",
    "id": "63ee1e0a7426406780b88b20ce857553",
    "order_count": 8,
    "time": "2020-07-22T03:19:41.026Z",
    "type": "selectMarkdownCell"
   },
   {
    "code": "df.dtypes",
    "id": "963f7d84d45f44c18eaccddf6da30038",
    "order_count": 7,
    "time": "2020-07-22T03:19:41.115Z",
    "type": "selectCodeCell"
   },
   {
    "code": "This is the types detected in Pandas's data type [`dtype`](https://pandas.pydata.org/pandas-docs/stable/reference/api/pandas.DataFrame.dtypes.html):",
    "id": "b9da7a733208495e949577ded41b35a9",
    "order_count": 6,
    "time": "2020-07-22T03:19:41.194Z",
    "type": "selectMarkdownCell"
   },
   {
    "code": "df = pd.DataFrame({'date': ['2020-02-01', '2020-03-01', '2020-04-01', '2020-05-01','2020-06-01',],\n                   'value': [10.5,15.2,20.3,25.2, 14.2]})\ndf",
    "id": "26206a60aa1a4c74a40eee54b13fc60f",
    "order_count": 5,
    "time": "2020-07-22T03:19:41.283Z",
    "type": "selectCodeCell"
   },
   {
    "code": "### Example:\n\nAs an example, a dataframe might contain a `date` attribute as strings of dates:",
    "id": "a1f72ab4dd6343be8669b84736ccaba8",
    "order_count": 4,
    "time": "2020-07-22T03:19:41.361Z",
    "type": "selectMarkdownCell"
   },
   {
    "code": "## Converting Strings to Datetime objects\nTo convert column referencing dates/times into [`datetime`](https://docs.python.org/3/library/datetime.html) objects, we use [`pd.to_datetime`](https://pandas.pydata.org/pandas-docs/stable/reference/api/pandas.to_datetime.html).\n\n### Summary: \n\n```\npd.to_datetime(['2020-01-01', '2020-01-15', '2020-02-01'],format=\"%Y-%m-%d\")\n```",
    "id": "7f9babde8d2740f28304e4d51258d434",
    "order_count": 3,
    "time": "2020-07-22T03:19:41.443Z",
    "type": "selectMarkdownCell"
   },
   {
    "code": "import pandas as pd\nimport lux",
    "id": "866632a5a3e44af98a6157e5225e002d",
    "order_count": 2,
    "time": "2020-07-22T03:19:41.532Z",
    "type": "selectCodeCell"
   },
   {
    "code": "cd ..",
    "id": "7ad26935cb0a443b815145d99d228f47",
    "order_count": 1,
    "time": "2020-07-22T03:19:41.618Z",
    "type": "selectCodeCell"
   },
   {
    "code": "# Datetime Tutorial\nThis is a tutorial on how to prepare temporal data for use with Lux. To display temporal fields appropriately in Lux, the column must be converted into Pandas's [`datetime`](https://docs.python.org/3/library/datetime.html) objects. ",
    "id": "930a33f9a7cd43e1842e90c0bc2dde05",
    "order_count": 0,
    "time": "2020-07-22T03:19:41.697Z",
    "type": "selectMarkdownCell"
   },
   {
    "code": "# Datetime Tutorial\nThis is a tutorial on how to prepare temporal data for use with Lux. To display temporal fields appropriately in Lux, the column must be converted into Pandas's [`datetime`](https://docs.python.org/3/library/datetime.html) objects. ",
    "id": "930a33f9a7cd43e1842e90c0bc2dde05",
    "order_count": 0,
    "time": "2020-07-22T03:19:50.790Z",
    "type": "selectMarkdownCell"
   },
   {
    "code": "cd ..",
    "id": "7ad26935cb0a443b815145d99d228f47",
    "order_count": 1,
    "time": "2020-07-22T03:19:51.719Z",
    "type": "selectCodeCell"
   },
   {
    "code": "cd ..",
    "id": "7ad26935cb0a443b815145d99d228f47",
    "order_count": 1,
    "time": "2020-07-22T03:19:51.942Z",
    "type": "executeCodeCell"
   },
   {
    "code": "import pandas as pd\nimport lux",
    "id": "866632a5a3e44af98a6157e5225e002d",
    "order_count": 2,
    "time": "2020-07-22T03:19:51.958Z",
    "type": "selectCodeCell"
   },
   {
    "code": "cd ..",
    "id": "7ad26935cb0a443b815145d99d228f47",
    "isPrintLuxDf": false,
    "isPrintPandasDf": false,
    "isPrintVis": false,
    "isPrintVisCollection": false,
    "order_count": 1,
    "time": "2020-07-22T03:19:51.969Z",
    "type": "completeCodeCell"
   },
   {
    "code": "import pandas as pd\nimport lux",
    "id": "866632a5a3e44af98a6157e5225e002d",
    "order_count": 2,
    "time": "2020-07-22T03:19:52.117Z",
    "type": "executeCodeCell"
   },
   {
    "code": "## Converting Strings to Datetime objects\nTo convert column referencing dates/times into [`datetime`](https://docs.python.org/3/library/datetime.html) objects, we use [`pd.to_datetime`](https://pandas.pydata.org/pandas-docs/stable/reference/api/pandas.to_datetime.html).\n\n### Summary: \n\n```\npd.to_datetime(['2020-01-01', '2020-01-15', '2020-02-01'],format=\"%Y-%m-%d\")\n```",
    "id": "7f9babde8d2740f28304e4d51258d434",
    "order_count": 3,
    "time": "2020-07-22T03:19:52.123Z",
    "type": "selectMarkdownCell"
   },
   {
    "code": "### Example:\n\nAs an example, a dataframe might contain a `date` attribute as strings of dates:",
    "id": "a1f72ab4dd6343be8669b84736ccaba8",
    "order_count": 4,
    "time": "2020-07-22T03:19:52.298Z",
    "type": "selectMarkdownCell"
   },
   {
    "code": "df = pd.DataFrame({'date': ['2020-02-01', '2020-03-01', '2020-04-01', '2020-05-01','2020-06-01',],\n                   'value': [10.5,15.2,20.3,25.2, 14.2]})\ndf",
    "id": "26206a60aa1a4c74a40eee54b13fc60f",
    "order_count": 5,
    "time": "2020-07-22T03:19:52.468Z",
    "type": "selectCodeCell"
   },
   {
    "code": "import pandas as pd\nimport lux",
    "id": "866632a5a3e44af98a6157e5225e002d",
    "isPrintLuxDf": false,
    "isPrintPandasDf": false,
    "isPrintVis": false,
    "isPrintVisCollection": false,
    "order_count": 2,
    "time": "2020-07-22T03:19:52.488Z",
    "type": "completeCodeCell"
   },
   {
    "code": "df = pd.DataFrame({'date': ['2020-02-01', '2020-03-01', '2020-04-01', '2020-05-01','2020-06-01',],\n                   'value': [10.5,15.2,20.3,25.2, 14.2]})\ndf",
    "id": "26206a60aa1a4c74a40eee54b13fc60f",
    "order_count": 5,
    "time": "2020-07-22T03:19:52.613Z",
    "type": "executeCodeCell"
   },
   {
    "code": "This is the types detected in Pandas's data type [`dtype`](https://pandas.pydata.org/pandas-docs/stable/reference/api/pandas.DataFrame.dtypes.html):",
    "id": "b9da7a733208495e949577ded41b35a9",
    "order_count": 6,
    "time": "2020-07-22T03:19:52.621Z",
    "type": "selectMarkdownCell"
   },
   {
    "code": "df = pd.DataFrame({'date': ['2020-02-01', '2020-03-01', '2020-04-01', '2020-05-01','2020-06-01',],\n                   'value': [10.5,15.2,20.3,25.2, 14.2]})\ndf",
    "id": "26206a60aa1a4c74a40eee54b13fc60f",
    "isPrintLuxDf": false,
    "isPrintPandasDf": true,
    "isPrintVis": false,
    "isPrintVisCollection": false,
    "order_count": 5,
    "time": "2020-07-22T03:19:52.973Z",
    "type": "completeCodeCell"
   },
   {
    "code": "df.dtypes",
    "id": "963f7d84d45f44c18eaccddf6da30038",
    "order_count": 7,
    "time": "2020-07-22T03:19:53.128Z",
    "type": "selectCodeCell"
   },
   {
    "code": "df.dtypes",
    "id": "963f7d84d45f44c18eaccddf6da30038",
    "order_count": 7,
    "time": "2020-07-22T03:19:53.198Z",
    "type": "executeCodeCell"
   },
   {
    "code": "Since `date` is detected as an object type in Pandas, in Lux the `date` field is recognized as a `nominal` field, instead of a `temporal` field:",
    "id": "63ee1e0a7426406780b88b20ce857553",
    "order_count": 8,
    "time": "2020-07-22T03:19:53.207Z",
    "type": "selectMarkdownCell"
   },
   {
    "code": "df.dtypes",
    "id": "963f7d84d45f44c18eaccddf6da30038",
    "isPrintLuxDf": false,
    "isPrintPandasDf": false,
    "isPrintVis": false,
    "isPrintVisCollection": false,
    "order_count": 7,
    "time": "2020-07-22T03:19:53.222Z",
    "type": "completeCodeCell"
   },
   {
    "code": "df.data_type",
    "id": "013050b890ed4e94a255ad649616fac9",
    "order_count": 9,
    "time": "2020-07-22T03:19:53.293Z",
    "type": "selectCodeCell"
   },
   {
    "code": "df.data_type",
    "id": "013050b890ed4e94a255ad649616fac9",
    "order_count": 9,
    "time": "2020-07-22T03:19:53.622Z",
    "type": "executeCodeCell"
   },
   {
    "code": "The typing has implications on the generated viss, since nominal chart types are displayed as bar charts, whereas temporal fields are plotted as time series line charts.",
    "id": "4b7138e3c7e8430ca9c679ea2ab48d20",
    "order_count": 10,
    "time": "2020-07-22T03:19:53.631Z",
    "type": "selectMarkdownCell"
   },
   {
    "code": "df.data_type",
    "id": "013050b890ed4e94a255ad649616fac9",
    "isPrintLuxDf": false,
    "isPrintPandasDf": false,
    "isPrintVis": false,
    "isPrintVisCollection": false,
    "order_count": 9,
    "time": "2020-07-22T03:19:53.645Z",
    "type": "completeCodeCell"
   },
   {
    "code": "from lux.vis.Vis import Vis\nvis = Vis([\"date\",\"value\"],df)\nvis",
    "id": "0c6a45ae9fa34381818f5a5c689618b8",
    "order_count": 11,
    "time": "2020-07-22T03:19:53.831Z",
    "type": "selectCodeCell"
   },
   {
    "code": "from lux.vis.Vis import Vis\nvis = Vis([\"date\",\"value\"],df)\nvis",
    "id": "0c6a45ae9fa34381818f5a5c689618b8",
    "order_count": 11,
    "time": "2020-07-22T03:19:54.006Z",
    "type": "executeCodeCell"
   },
   {
    "code": "To fix this, we can convert the `date` column into a datetime object by doing:",
    "id": "0ba893fc6bba4eaf8e3662875732565e",
    "order_count": 12,
    "time": "2020-07-22T03:19:54.015Z",
    "type": "selectMarkdownCell"
   },
   {
    "code": "from lux.vis.Vis import Vis\nvis = Vis([\"date\",\"value\"],df)\nvis",
    "id": "0c6a45ae9fa34381818f5a5c689618b8",
    "isPrintLuxDf": false,
    "isPrintPandasDf": false,
    "isPrintVis": true,
    "isPrintVisCollection": false,
    "order_count": 11,
    "time": "2020-07-22T03:19:54.056Z",
    "type": "completeCodeCell"
   },
   {
    "param": "",
    "time": "2020-07-22T03:19:54.065Z",
    "type": "initWidget"
   },
   {
    "code": "df['date'] = pd.to_datetime(df['date'],format=\"%Y-%m-%d\")\ndf['date']",
    "id": "c9059805d6104a329aff30bee0df619f",
    "order_count": 13,
    "time": "2020-07-22T03:19:54.194Z",
    "type": "selectCodeCell"
   },
   {
    "code": "df['date'] = pd.to_datetime(df['date'],format=\"%Y-%m-%d\")\ndf['date']",
    "id": "c9059805d6104a329aff30bee0df619f",
    "order_count": 13,
    "time": "2020-07-22T03:19:54.382Z",
    "type": "executeCodeCell"
   },
   {
    "code": "After changing the Pandas data type to datetime, we see that date field is recognized as temporal fields in Lux.",
    "id": "c226301622c8479e8d5218011f3d6ad9",
    "order_count": 14,
    "time": "2020-07-22T03:19:54.389Z",
    "type": "selectMarkdownCell"
   },
   {
    "code": "df['date'] = pd.to_datetime(df['date'],format=\"%Y-%m-%d\")\ndf['date']",
    "id": "c9059805d6104a329aff30bee0df619f",
    "isPrintLuxDf": false,
    "isPrintPandasDf": false,
    "isPrintVis": false,
    "isPrintVisCollection": false,
    "order_count": 13,
    "time": "2020-07-22T03:19:54.401Z",
    "type": "completeCodeCell"
   },
   {
    "code": "df.data_type",
    "id": "74eb3159d0b34723945348993fa9e8e1",
    "order_count": 15,
    "time": "2020-07-22T03:19:54.650Z",
    "type": "selectCodeCell"
   },
   {
    "code": "df.data_type",
    "id": "74eb3159d0b34723945348993fa9e8e1",
    "order_count": 15,
    "time": "2020-07-22T03:19:54.837Z",
    "type": "executeCodeCell"
   },
   {
    "code": "vis.refresh_source(df)\nvis",
    "id": "db8018345d114e0d926c9f273ebbd799",
    "order_count": 16,
    "time": "2020-07-22T03:19:54.850Z",
    "type": "selectCodeCell"
   },
   {
    "code": "df.data_type",
    "id": "74eb3159d0b34723945348993fa9e8e1",
    "isPrintLuxDf": false,
    "isPrintPandasDf": false,
    "isPrintVis": false,
    "isPrintVisCollection": false,
    "order_count": 15,
    "time": "2020-07-22T03:19:54.859Z",
    "type": "completeCodeCell"
   },
   {
    "code": "vis.refresh_source(df)\nvis",
    "id": "db8018345d114e0d926c9f273ebbd799",
    "order_count": 16,
    "time": "2020-07-22T03:19:55.054Z",
    "type": "executeCodeCell"
   },
   {
    "code": "## Advanced Date Manipulation\nYou might notice earlier that all the dates in our example dataset are the first of the month. In this case, there may be situations where we only want to list the year and month, instead of the full date. Here, we look at how to handle these cases.\n\nBelow we look at an example stocks dataset that also have `date` field with each row representing data for the first of each month.",
    "id": "2ff0daa85898446088e2abc26eaeb4b8",
    "order_count": 17,
    "time": "2020-07-22T03:19:55.061Z",
    "type": "selectMarkdownCell"
   },
   {
    "code": "vis.refresh_source(df)\nvis",
    "id": "db8018345d114e0d926c9f273ebbd799",
    "isPrintLuxDf": false,
    "isPrintPandasDf": false,
    "isPrintVis": true,
    "isPrintVisCollection": false,
    "order_count": 16,
    "time": "2020-07-22T03:19:55.099Z",
    "type": "completeCodeCell"
   },
   {
    "param": "",
    "time": "2020-07-22T03:19:55.109Z",
    "type": "initWidget"
   },
   {
    "code": "df = pd.read_csv(\"lux/data/stocks.csv\")\n\ndf.dtypes",
    "id": "660e772ed66648dba0001802649f2e53",
    "order_count": 18,
    "time": "2020-07-22T03:19:55.254Z",
    "type": "selectCodeCell"
   },
   {
    "code": "df = pd.read_csv(\"lux/data/stocks.csv\")\n\ndf.dtypes",
    "id": "660e772ed66648dba0001802649f2e53",
    "order_count": 18,
    "time": "2020-07-22T03:19:55.814Z",
    "type": "executeCodeCell"
   },
   {
    "code": "vis = Vis([\"date\",\"price\"],df)\nvis",
    "id": "5d2b5a08a17045a283edf915c5ff7f73",
    "order_count": 19,
    "time": "2020-07-22T03:19:55.829Z",
    "type": "selectCodeCell"
   },
   {
    "code": "df = pd.read_csv(\"lux/data/stocks.csv\")\n\ndf.dtypes",
    "id": "660e772ed66648dba0001802649f2e53",
    "isPrintLuxDf": false,
    "isPrintPandasDf": false,
    "isPrintVis": false,
    "isPrintVisCollection": false,
    "order_count": 18,
    "time": "2020-07-22T03:19:55.838Z",
    "type": "completeCodeCell"
   },
   {
    "code": "vis = Vis([\"date\",\"price\"],df)\nvis",
    "id": "5d2b5a08a17045a283edf915c5ff7f73",
    "order_count": 19,
    "time": "2020-07-22T03:19:56.135Z",
    "type": "executeCodeCell"
   },
   {
    "code": "If we only want Lux to output the month and the year, we can convert the columnn to a [`PeriodIndex`](https://pandas.pydata.org/pandas-docs/stable/reference/api/pandas.PeriodIndex.html) using [`to_period`](https://pandas.pydata.org/pandas-docs/stable/reference/api/pandas.DatetimeIndex.to_period.html). The `freq` argument specifies the granularity of the output. In this case, we are using 'M' for monthly. You can find more about how to specify time periods [here](https://pandas.pydata.org/pandas-docs/stable/user_guide/timeseries.html#dateoffset-objects).",
    "id": "7adeb78f74a149af9787f3b5f20b7ca2",
    "order_count": 20,
    "time": "2020-07-22T03:19:56.142Z",
    "type": "selectMarkdownCell"
   },
   {
    "code": "vis = Vis([\"date\",\"price\"],df)\nvis",
    "id": "5d2b5a08a17045a283edf915c5ff7f73",
    "isPrintLuxDf": false,
    "isPrintPandasDf": false,
    "isPrintVis": true,
    "isPrintVisCollection": false,
    "order_count": 19,
    "time": "2020-07-22T03:19:56.183Z",
    "type": "completeCodeCell"
   },
   {
    "param": "",
    "time": "2020-07-22T03:19:56.192Z",
    "type": "initWidget"
   },
   {
    "code": "df[\"date\"] = pd.DatetimeIndex(df[\"date\"]).to_period(freq='M')",
    "id": "7233028925854dd286169564055ccfbd",
    "order_count": 21,
    "time": "2020-07-22T03:19:56.423Z",
    "type": "selectCodeCell"
   },
   {
    "code": "df[\"date\"] = pd.DatetimeIndex(df[\"date\"]).to_period(freq='M')",
    "id": "7233028925854dd286169564055ccfbd",
    "order_count": 21,
    "time": "2020-07-22T03:19:56.919Z",
    "type": "executeCodeCell"
   },
   {
    "code": "vis.refresh_source(df)\nvis",
    "id": "1a72cb8910824ede9ecec41633e8fe85",
    "order_count": 22,
    "time": "2020-07-22T03:19:56.932Z",
    "type": "selectCodeCell"
   },
   {
    "code": "df[\"date\"] = pd.DatetimeIndex(df[\"date\"]).to_period(freq='M')",
    "id": "7233028925854dd286169564055ccfbd",
    "isPrintLuxDf": false,
    "isPrintPandasDf": false,
    "isPrintVis": false,
    "isPrintVisCollection": false,
    "order_count": 21,
    "time": "2020-07-22T03:19:56.938Z",
    "type": "completeCodeCell"
   },
   {
    "code": "vis.refresh_source(df)\nvis",
    "id": "1a72cb8910824ede9ecec41633e8fe85",
    "order_count": 22,
    "time": "2020-07-22T03:19:57.167Z",
    "type": "executeCodeCell"
   },
   {
    "code": "df['date']",
    "id": "13290d9f3abe41479715269db140bef3",
    "order_count": 23,
    "time": "2020-07-22T03:19:57.184Z",
    "type": "selectCodeCell"
   },
   {
    "code": "vis.refresh_source(df)\nvis",
    "id": "1a72cb8910824ede9ecec41633e8fe85",
    "isPrintLuxDf": false,
    "isPrintPandasDf": false,
    "isPrintVis": true,
    "isPrintVisCollection": false,
    "order_count": 22,
    "time": "2020-07-22T03:19:57.236Z",
    "type": "completeCodeCell"
   },
   {
    "param": "",
    "time": "2020-07-22T03:19:57.240Z",
    "type": "initWidget"
   },
   {
    "code": "df['date']",
    "id": "13290d9f3abe41479715269db140bef3",
    "order_count": 23,
    "time": "2020-07-22T03:19:57.622Z",
    "type": "executeCodeCell"
   },
   {
    "code": "## Querying With Datetime Fields\nThe string representation seen in the Dataframe can be used to filter out certain dates. \nFor example, in the above `stocks` dataset, we converted the date column to a `PeriodIndex`. Now the string representation only shows the granularity we want to see. \n\nWe can use that string representation to filter the dataframe in Pandas:",
    "id": "95b8609d2f34485c880c9a931e952bbf",
    "order_count": 24,
    "time": "2020-07-22T03:19:57.630Z",
    "type": "selectMarkdownCell"
   },
   {
    "code": "df['date']",
    "id": "13290d9f3abe41479715269db140bef3",
    "isPrintLuxDf": false,
    "isPrintPandasDf": false,
    "isPrintVis": false,
    "isPrintVisCollection": false,
    "order_count": 23,
    "time": "2020-07-22T03:19:57.641Z",
    "type": "completeCodeCell"
   },
   {
    "code": "rdf = df[df['date'] == '2008-11']\nrdf ",
    "id": "045de606aaf445808f0105328f30c64e",
    "order_count": 25,
    "time": "2020-07-22T03:19:58.296Z",
    "type": "selectCodeCell"
   },
   {
    "code": "rdf = df[df['date'] == '2008-11']\nrdf ",
    "id": "045de606aaf445808f0105328f30c64e",
    "order_count": 25,
    "time": "2020-07-22T03:19:59.041Z",
    "type": "executeCodeCell"
   },
   {
    "code": "rdf.data_type_lookup",
    "id": "0e1e7379820c4cabbdd0b0b7e003b066",
    "order_count": 26,
    "time": "2020-07-22T03:19:59.056Z",
    "type": "selectCodeCell"
   },
   {
    "code": "rdf = df[df['date'] == '2008-11']\nrdf ",
    "id": "045de606aaf445808f0105328f30c64e",
    "isPrintLuxDf": false,
    "isPrintPandasDf": true,
    "isPrintVis": false,
    "isPrintVisCollection": false,
    "order_count": 25,
    "time": "2020-07-22T03:19:59.258Z",
    "type": "completeCodeCell"
   },
   {
    "code": "rdf.data_type_lookup",
    "id": "0e1e7379820c4cabbdd0b0b7e003b066",
    "order_count": 26,
    "time": "2020-07-22T03:20:01.642Z",
    "type": "selectCodeCell"
   },
   {
    "code": "rdf.data_type_lookup",
    "id": "0e1e7379820c4cabbdd0b0b7e003b066",
    "order_count": 26,
    "time": "2020-07-22T03:20:02.176Z",
    "type": "executeCodeCell"
   },
   {
    "code": "We can also use the same string representation for specifying a query in Lux.",
    "id": "9c44d6a14b5c46a5a79189bc013051be",
    "order_count": 27,
    "time": "2020-07-22T03:20:02.184Z",
    "type": "selectMarkdownCell"
   },
   {
    "code": "rdf.data_type_lookup",
    "id": "0e1e7379820c4cabbdd0b0b7e003b066",
    "isPrintLuxDf": false,
    "isPrintPandasDf": false,
    "isPrintVis": false,
    "isPrintVisCollection": false,
    "order_count": 26,
    "time": "2020-07-22T03:20:02.196Z",
    "type": "completeCodeCell"
   },
   {
    "code": "rdf.data_type_lookup",
    "id": "0e1e7379820c4cabbdd0b0b7e003b066",
    "order_count": 26,
    "time": "2020-07-22T03:20:03.543Z",
    "type": "selectCodeCell"
   },
   {
    "code": "rdf.data_type_lookup",
    "id": "0e1e7379820c4cabbdd0b0b7e003b066",
    "order_count": 26,
    "time": "2020-07-22T03:20:03.550Z",
    "type": "editCodeCell"
   },
   {
    "code": "rdf.data_type_lookup",
    "id": "0e1e7379820c4cabbdd0b0b7e003b066",
    "order_count": 26,
    "time": "2020-07-22T03:20:03.626Z",
    "type": "selectCodeCell"
   },
   {
    "code": "rdf.data_type_lookup",
    "id": "0e1e7379820c4cabbdd0b0b7e003b066",
    "order_count": 26,
    "time": "2020-07-22T03:20:05.228Z",
    "type": "selectCodeCell"
   },
   {
    "code": "rdf.data_type",
    "id": "0e1e7379820c4cabbdd0b0b7e003b066",
    "order_count": 26,
    "time": "2020-07-22T03:20:06.056Z",
    "type": "executeCodeCell"
   },
   {
    "code": "We can also use the same string representation for specifying a query in Lux.",
    "id": "9c44d6a14b5c46a5a79189bc013051be",
    "order_count": 27,
    "time": "2020-07-22T03:20:06.078Z",
    "type": "selectMarkdownCell"
   },
   {
    "code": "rdf.data_type",
    "id": "0e1e7379820c4cabbdd0b0b7e003b066",
    "isPrintLuxDf": false,
    "isPrintPandasDf": false,
    "isPrintVis": false,
    "isPrintVisCollection": false,
    "order_count": 26,
    "time": "2020-07-22T03:20:06.091Z",
    "type": "completeCodeCell"
   },
   {
    "code": "rdf = df[df['date'] == '2008-11']\nrdf ",
    "id": "045de606aaf445808f0105328f30c64e",
    "order_count": 25,
    "time": "2020-07-22T03:20:10.350Z",
    "type": "selectCodeCell"
   },
   {
    "param": "",
    "time": "2020-07-22T03:20:10.380Z",
    "type": "initWidget"
   },
   {
    "param": "",
    "time": "2020-07-22T03:20:10.435Z",
    "type": "initWidget"
   },
   {
    "code": "rdf = df[df['date'] == '2008-11']\nrdf ",
    "id": "045de606aaf445808f0105328f30c64e",
    "order_count": 25,
    "time": "2020-07-22T03:20:11.560Z",
    "type": "selectCodeCell"
   },
   {
    "param": "Distribution",
    "time": "2020-07-22T03:20:11.562Z",
    "type": "switchTab"
   },
   {
    "code": "rdf = df[df['date'] == '2008-11']\nrdf ",
    "id": "045de606aaf445808f0105328f30c64e",
    "order_count": 25,
    "time": "2020-07-22T03:20:12.182Z",
    "type": "selectCodeCell"
   },
   {
    "param": "Category",
    "time": "2020-07-22T03:20:12.184Z",
    "type": "switchTab"
   },
   {
    "code": "rdf = df[df['date'] == '2008-11']\nrdf ",
    "id": "045de606aaf445808f0105328f30c64e",
    "order_count": 25,
    "time": "2020-07-22T03:20:13.182Z",
    "type": "selectCodeCell"
   },
   {
    "param": "Temporal",
    "time": "2020-07-22T03:20:13.184Z",
    "type": "switchTab"
   },
   {
    "code": "rdf = df[df['date'] == '2008-11']\nrdf ",
    "id": "045de606aaf445808f0105328f30c64e",
    "order_count": 25,
    "time": "2020-07-22T03:20:14.431Z",
    "type": "selectCodeCell"
   },
   {
    "param": "Index-Group",
    "time": "2020-07-22T03:20:14.432Z",
    "type": "switchTab"
   },
   {
    "code": "rdf = df[df['date'] == '2008-11']\nrdf ",
    "id": "045de606aaf445808f0105328f30c64e",
    "order_count": 25,
    "time": "2020-07-22T03:20:15.005Z",
    "type": "selectCodeCell"
   },
   {
    "param": "Category",
    "time": "2020-07-22T03:20:15.007Z",
    "type": "switchTab"
   },
   {
    "code": "rdf = df[df['date'] == '2008-11']\nrdf ",
    "id": "045de606aaf445808f0105328f30c64e",
    "order_count": 25,
    "time": "2020-07-22T03:21:49.061Z",
    "type": "selectCodeCell"
   },
   {
    "param": "Temporal",
    "time": "2020-07-22T03:21:49.064Z",
    "type": "switchTab"
   },
   {
    "code": "rdf = df[df['date'] == '2008-11']\nrdf ",
    "id": "045de606aaf445808f0105328f30c64e",
    "order_count": 25,
    "time": "2020-07-22T03:21:49.821Z",
    "type": "selectCodeCell"
   },
   {
    "param": "Category",
    "time": "2020-07-22T03:21:49.822Z",
    "type": "switchTab"
   },
   {
    "code": "rdf = df[df['date'] == '2008-11']\nrdf ",
    "id": "045de606aaf445808f0105328f30c64e",
    "order_count": 25,
    "time": "2020-07-22T03:21:50.540Z",
    "type": "selectCodeCell"
   },
   {
    "param": {
     "index": 0,
     "tabTitle": "Category",
     "vis": {
      "$schema": "https://vega.github.io/schema/vega-lite/v4.8.1.json",
      "config": {
       "mark": {
        "tooltip": {
         "content": "encoding"
        }
       },
       "view": {
        "continuousHeight": 300,
        "continuousWidth": 400
       }
      },
      "data": {
       "name": "data-dc1dd41e819a2d90e0d69b884ee603ae"
      },
      "datasets": {
       "data-dc1dd41e819a2d90e0d69b884ee603ae": [
        {
         "Record": 1,
         "symbol": "AAPL"
        },
        {
         "Record": 1,
         "symbol": "AMZN"
        },
        {
         "Record": 1,
         "symbol": "GOOG"
        },
        {
         "Record": 1,
         "symbol": "IBM"
        },
        {
         "Record": 1,
         "symbol": "MSFT"
        }
       ]
      },
      "encoding": {
       "x": {
        "field": "Record",
        "title": "Count of Record",
        "type": "quantitative"
       },
       "y": {
        "axis": {
         "labelOverlap": true
        },
        "field": "symbol",
        "type": "nominal"
       }
      },
      "height": 150,
      "mark": "bar",
      "width": 160
     }
    },
    "time": "2020-07-22T03:21:50.542Z",
    "type": "clickVis"
   },
   {
    "code": "rdf = df[df['date'] == '2008-11']\nrdf ",
    "id": "045de606aaf445808f0105328f30c64e",
    "order_count": 25,
    "time": "2020-07-22T03:21:57.527Z",
    "type": "selectCodeCell"
   },
   {
    "param": "Temporal",
    "time": "2020-07-22T03:21:57.533Z",
    "type": "switchTab"
   },
   {
    "param": "Category",
    "time": "2020-07-22T03:34:20.887Z",
    "type": "switchTab"
   },
   {
    "code": "rdf = df[df['date'] == '2008-11']\nrdf ",
    "id": "045de606aaf445808f0105328f30c64e",
    "order_count": 25,
    "time": "2020-07-22T03:34:23.592Z",
    "type": "selectCodeCell"
   },
   {
    "code": "rdf = df[df['date'] == '2008-11']\nrdf ",
    "id": "045de606aaf445808f0105328f30c64e",
    "order_count": 25,
    "time": "2020-07-22T03:34:23.831Z",
    "type": "selectCodeCell"
   },
   {
    "time": "2020-07-22T03:34:25.216Z",
    "type": "kernelRestart"
   },
   {
    "time": "2020-07-22T03:34:25.368Z",
    "type": "kernelRestart"
   },
   {
    "code": "## Querying With Datetime Fields\nThe string representation seen in the Dataframe can be used to filter out certain dates. \nFor example, in the above `stocks` dataset, we converted the date column to a `PeriodIndex`. Now the string representation only shows the granularity we want to see. \n\nWe can use that string representation to filter the dataframe in Pandas:",
    "id": "95b8609d2f34485c880c9a931e952bbf",
    "order_count": 24,
    "time": "2020-07-22T03:34:25.720Z",
    "type": "selectMarkdownCell"
   },
   {
    "code": "df['date']",
    "id": "13290d9f3abe41479715269db140bef3",
    "order_count": 23,
    "time": "2020-07-22T03:34:26.223Z",
    "type": "selectCodeCell"
   },
   {
    "code": "vis.refresh_source(df)\nvis",
    "id": "1a72cb8910824ede9ecec41633e8fe85",
    "order_count": 22,
    "time": "2020-07-22T03:34:26.308Z",
    "type": "selectCodeCell"
   },
   {
    "code": "df[\"date\"] = pd.DatetimeIndex(df[\"date\"]).to_period(freq='M')",
    "id": "7233028925854dd286169564055ccfbd",
    "order_count": 21,
    "time": "2020-07-22T03:34:26.390Z",
    "type": "selectCodeCell"
   },
   {
    "code": "If we only want Lux to output the month and the year, we can convert the columnn to a [`PeriodIndex`](https://pandas.pydata.org/pandas-docs/stable/reference/api/pandas.PeriodIndex.html) using [`to_period`](https://pandas.pydata.org/pandas-docs/stable/reference/api/pandas.DatetimeIndex.to_period.html). The `freq` argument specifies the granularity of the output. In this case, we are using 'M' for monthly. You can find more about how to specify time periods [here](https://pandas.pydata.org/pandas-docs/stable/user_guide/timeseries.html#dateoffset-objects).",
    "id": "7adeb78f74a149af9787f3b5f20b7ca2",
    "order_count": 20,
    "time": "2020-07-22T03:34:26.469Z",
    "type": "selectMarkdownCell"
   },
   {
    "code": "vis = Vis([\"date\",\"price\"],df)\nvis",
    "id": "5d2b5a08a17045a283edf915c5ff7f73",
    "order_count": 19,
    "time": "2020-07-22T03:34:26.560Z",
    "type": "selectCodeCell"
   },
   {
    "code": "df = pd.read_csv(\"lux/data/stocks.csv\")\n\ndf.dtypes",
    "id": "660e772ed66648dba0001802649f2e53",
    "order_count": 18,
    "time": "2020-07-22T03:34:26.643Z",
    "type": "selectCodeCell"
   },
   {
    "time": "2020-07-22T03:34:26.680Z",
    "type": "kernelReady"
   },
   {
    "time": "2020-07-22T03:34:26.685Z",
    "type": "kernelReady"
   },
   {
    "time": "2020-07-22T03:34:26.713Z",
    "type": "kernelReady"
   },
   {
    "code": "## Advanced Date Manipulation\nYou might notice earlier that all the dates in our example dataset are the first of the month. In this case, there may be situations where we only want to list the year and month, instead of the full date. Here, we look at how to handle these cases.\n\nBelow we look at an example stocks dataset that also have `date` field with each row representing data for the first of each month.",
    "id": "2ff0daa85898446088e2abc26eaeb4b8",
    "order_count": 17,
    "time": "2020-07-22T03:34:26.721Z",
    "type": "selectMarkdownCell"
   },
   {
    "code": "vis.refresh_source(df)\nvis",
    "id": "db8018345d114e0d926c9f273ebbd799",
    "order_count": 16,
    "time": "2020-07-22T03:34:26.809Z",
    "type": "selectCodeCell"
   },
   {
    "code": "df.data_type",
    "id": "74eb3159d0b34723945348993fa9e8e1",
    "order_count": 15,
    "time": "2020-07-22T03:34:26.890Z",
    "type": "selectCodeCell"
   },
   {
    "code": "After changing the Pandas data type to datetime, we see that date field is recognized as temporal fields in Lux.",
    "id": "c226301622c8479e8d5218011f3d6ad9",
    "order_count": 14,
    "time": "2020-07-22T03:34:26.972Z",
    "type": "selectMarkdownCell"
   },
   {
    "code": "df['date'] = pd.to_datetime(df['date'],format=\"%Y-%m-%d\")\ndf['date']",
    "id": "c9059805d6104a329aff30bee0df619f",
    "order_count": 13,
    "time": "2020-07-22T03:34:27.059Z",
    "type": "selectCodeCell"
   },
   {
    "code": "To fix this, we can convert the `date` column into a datetime object by doing:",
    "id": "0ba893fc6bba4eaf8e3662875732565e",
    "order_count": 12,
    "time": "2020-07-22T03:34:27.137Z",
    "type": "selectMarkdownCell"
   },
   {
    "code": "from lux.vis.Vis import Vis\nvis = Vis([\"date\",\"value\"],df)\nvis",
    "id": "0c6a45ae9fa34381818f5a5c689618b8",
    "order_count": 11,
    "time": "2020-07-22T03:34:27.229Z",
    "type": "selectCodeCell"
   },
   {
    "code": "The typing has implications on the generated viss, since nominal chart types are displayed as bar charts, whereas temporal fields are plotted as time series line charts.",
    "id": "4b7138e3c7e8430ca9c679ea2ab48d20",
    "order_count": 10,
    "time": "2020-07-22T03:34:27.305Z",
    "type": "selectMarkdownCell"
   },
   {
    "code": "df.data_type",
    "id": "013050b890ed4e94a255ad649616fac9",
    "order_count": 9,
    "time": "2020-07-22T03:34:27.391Z",
    "type": "selectCodeCell"
   },
   {
    "code": "Since `date` is detected as an object type in Pandas, in Lux the `date` field is recognized as a `nominal` field, instead of a `temporal` field:",
    "id": "63ee1e0a7426406780b88b20ce857553",
    "order_count": 8,
    "time": "2020-07-22T03:34:27.471Z",
    "type": "selectMarkdownCell"
   },
   {
    "code": "df.dtypes",
    "id": "963f7d84d45f44c18eaccddf6da30038",
    "order_count": 7,
    "time": "2020-07-22T03:34:27.560Z",
    "type": "selectCodeCell"
   },
   {
    "code": "This is the types detected in Pandas's data type [`dtype`](https://pandas.pydata.org/pandas-docs/stable/reference/api/pandas.DataFrame.dtypes.html):",
    "id": "b9da7a733208495e949577ded41b35a9",
    "order_count": 6,
    "time": "2020-07-22T03:34:27.639Z",
    "type": "selectMarkdownCell"
   },
   {
    "code": "df = pd.DataFrame({'date': ['2020-02-01', '2020-03-01', '2020-04-01', '2020-05-01','2020-06-01',],\n                   'value': [10.5,15.2,20.3,25.2, 14.2]})\ndf",
    "id": "26206a60aa1a4c74a40eee54b13fc60f",
    "order_count": 5,
    "time": "2020-07-22T03:34:27.730Z",
    "type": "selectCodeCell"
   },
   {
    "code": "### Example:\n\nAs an example, a dataframe might contain a `date` attribute as strings of dates:",
    "id": "a1f72ab4dd6343be8669b84736ccaba8",
    "order_count": 4,
    "time": "2020-07-22T03:34:27.807Z",
    "type": "selectMarkdownCell"
   },
   {
    "code": "## Converting Strings to Datetime objects\nTo convert column referencing dates/times into [`datetime`](https://docs.python.org/3/library/datetime.html) objects, we use [`pd.to_datetime`](https://pandas.pydata.org/pandas-docs/stable/reference/api/pandas.to_datetime.html).\n\n### Summary: \n\n```\npd.to_datetime(['2020-01-01', '2020-01-15', '2020-02-01'],format=\"%Y-%m-%d\")\n```",
    "id": "7f9babde8d2740f28304e4d51258d434",
    "order_count": 3,
    "time": "2020-07-22T03:34:27.888Z",
    "type": "selectMarkdownCell"
   },
   {
    "code": "import pandas as pd\nimport lux",
    "id": "866632a5a3e44af98a6157e5225e002d",
    "order_count": 2,
    "time": "2020-07-22T03:34:27.980Z",
    "type": "selectCodeCell"
   },
   {
    "code": "cd ..",
    "id": "7ad26935cb0a443b815145d99d228f47",
    "order_count": 1,
    "time": "2020-07-22T03:34:28.064Z",
    "type": "selectCodeCell"
   },
   {
    "code": "# Datetime Tutorial\nThis is a tutorial on how to prepare temporal data for use with Lux. To display temporal fields appropriately in Lux, the column must be converted into Pandas's [`datetime`](https://docs.python.org/3/library/datetime.html) objects. ",
    "id": "930a33f9a7cd43e1842e90c0bc2dde05",
    "order_count": 0,
    "time": "2020-07-22T03:34:28.141Z",
    "type": "selectMarkdownCell"
   },
   {
    "code": "cd ..",
    "id": "7ad26935cb0a443b815145d99d228f47",
    "order_count": 1,
    "time": "2020-07-22T03:34:28.793Z",
    "type": "selectCodeCell"
   },
   {
    "code": "cd ..",
    "id": "7ad26935cb0a443b815145d99d228f47",
    "order_count": 1,
    "time": "2020-07-22T03:34:29.290Z",
    "type": "executeCodeCell"
   },
   {
    "code": "import pandas as pd\nimport lux",
    "id": "866632a5a3e44af98a6157e5225e002d",
    "order_count": 2,
    "time": "2020-07-22T03:34:29.307Z",
    "type": "selectCodeCell"
   },
   {
    "code": "cd ..",
    "id": "7ad26935cb0a443b815145d99d228f47",
    "isPrintLuxDf": false,
    "isPrintPandasDf": false,
    "isPrintVis": false,
    "isPrintVisCollection": false,
    "order_count": 1,
    "time": "2020-07-22T03:34:29.319Z",
    "type": "completeCodeCell"
   },
   {
    "code": "import pandas as pd\nimport lux",
    "id": "866632a5a3e44af98a6157e5225e002d",
    "order_count": 2,
    "time": "2020-07-22T03:34:29.369Z",
    "type": "executeCodeCell"
   },
   {
    "code": "## Converting Strings to Datetime objects\nTo convert column referencing dates/times into [`datetime`](https://docs.python.org/3/library/datetime.html) objects, we use [`pd.to_datetime`](https://pandas.pydata.org/pandas-docs/stable/reference/api/pandas.to_datetime.html).\n\n### Summary: \n\n```\npd.to_datetime(['2020-01-01', '2020-01-15', '2020-02-01'],format=\"%Y-%m-%d\")\n```",
    "id": "7f9babde8d2740f28304e4d51258d434",
    "order_count": 3,
    "time": "2020-07-22T03:34:29.375Z",
    "type": "selectMarkdownCell"
   },
   {
    "code": "### Example:\n\nAs an example, a dataframe might contain a `date` attribute as strings of dates:",
    "id": "a1f72ab4dd6343be8669b84736ccaba8",
    "order_count": 4,
    "time": "2020-07-22T03:34:29.456Z",
    "type": "selectMarkdownCell"
   },
   {
    "code": "df = pd.DataFrame({'date': ['2020-02-01', '2020-03-01', '2020-04-01', '2020-05-01','2020-06-01',],\n                   'value': [10.5,15.2,20.3,25.2, 14.2]})\ndf",
    "id": "26206a60aa1a4c74a40eee54b13fc60f",
    "order_count": 5,
    "time": "2020-07-22T03:34:29.550Z",
    "type": "selectCodeCell"
   },
   {
    "code": "df = pd.DataFrame({'date': ['2020-02-01', '2020-03-01', '2020-04-01', '2020-05-01','2020-06-01',],\n                   'value': [10.5,15.2,20.3,25.2, 14.2]})\ndf",
    "id": "26206a60aa1a4c74a40eee54b13fc60f",
    "order_count": 5,
    "time": "2020-07-22T03:34:29.622Z",
    "type": "executeCodeCell"
   },
   {
    "code": "This is the types detected in Pandas's data type [`dtype`](https://pandas.pydata.org/pandas-docs/stable/reference/api/pandas.DataFrame.dtypes.html):",
    "id": "b9da7a733208495e949577ded41b35a9",
    "order_count": 6,
    "time": "2020-07-22T03:34:29.630Z",
    "type": "selectMarkdownCell"
   },
   {
    "code": "df.dtypes",
    "id": "963f7d84d45f44c18eaccddf6da30038",
    "order_count": 7,
    "time": "2020-07-22T03:34:29.714Z",
    "type": "selectCodeCell"
   },
   {
    "code": "import pandas as pd\nimport lux",
    "id": "866632a5a3e44af98a6157e5225e002d",
    "isPrintLuxDf": false,
    "isPrintPandasDf": false,
    "isPrintVis": false,
    "isPrintVisCollection": false,
    "order_count": 2,
    "time": "2020-07-22T03:34:29.723Z",
    "type": "completeCodeCell"
   },
   {
    "code": "df.dtypes",
    "id": "963f7d84d45f44c18eaccddf6da30038",
    "order_count": 7,
    "time": "2020-07-22T03:34:29.788Z",
    "type": "executeCodeCell"
   },
   {
    "code": "Since `date` is detected as an object type in Pandas, in Lux the `date` field is recognized as a `nominal` field, instead of a `temporal` field:",
    "id": "63ee1e0a7426406780b88b20ce857553",
    "order_count": 8,
    "time": "2020-07-22T03:34:29.794Z",
    "type": "selectMarkdownCell"
   },
   {
    "code": "df.data_type",
    "id": "013050b890ed4e94a255ad649616fac9",
    "order_count": 9,
    "time": "2020-07-22T03:34:29.884Z",
    "type": "selectCodeCell"
   },
   {
    "code": "df.data_type",
    "id": "013050b890ed4e94a255ad649616fac9",
    "order_count": 9,
    "time": "2020-07-22T03:34:29.957Z",
    "type": "executeCodeCell"
   },
   {
    "code": "The typing has implications on the generated viss, since nominal chart types are displayed as bar charts, whereas temporal fields are plotted as time series line charts.",
    "id": "4b7138e3c7e8430ca9c679ea2ab48d20",
    "order_count": 10,
    "time": "2020-07-22T03:34:29.963Z",
    "type": "selectMarkdownCell"
   },
   {
    "code": "from lux.vis.Vis import Vis\nvis = Vis([\"date\",\"value\"],df)\nvis",
    "id": "0c6a45ae9fa34381818f5a5c689618b8",
    "order_count": 11,
    "time": "2020-07-22T03:34:30.051Z",
    "type": "selectCodeCell"
   },
   {
    "code": "df = pd.DataFrame({'date': ['2020-02-01', '2020-03-01', '2020-04-01', '2020-05-01','2020-06-01',],\n                   'value': [10.5,15.2,20.3,25.2, 14.2]})\ndf",
    "id": "26206a60aa1a4c74a40eee54b13fc60f",
    "isPrintLuxDf": false,
    "isPrintPandasDf": true,
    "isPrintVis": false,
    "isPrintVisCollection": false,
    "order_count": 5,
    "time": "2020-07-22T03:34:30.113Z",
    "type": "completeCodeCell"
   },
   {
    "code": "df.dtypes",
    "id": "963f7d84d45f44c18eaccddf6da30038",
    "isPrintLuxDf": false,
    "isPrintPandasDf": false,
    "isPrintVis": false,
    "isPrintVisCollection": false,
    "order_count": 7,
    "time": "2020-07-22T03:34:30.117Z",
    "type": "completeCodeCell"
   },
   {
    "code": "df.data_type",
    "id": "013050b890ed4e94a255ad649616fac9",
    "isPrintLuxDf": false,
    "isPrintPandasDf": false,
    "isPrintVis": false,
    "isPrintVisCollection": false,
    "order_count": 9,
    "time": "2020-07-22T03:34:30.120Z",
    "type": "completeCodeCell"
   },
   {
    "code": "from lux.vis.Vis import Vis\nvis = Vis([\"date\",\"value\"],df)\nvis",
    "id": "0c6a45ae9fa34381818f5a5c689618b8",
    "order_count": 11,
    "time": "2020-07-22T03:34:30.123Z",
    "type": "executeCodeCell"
   },
   {
    "code": "To fix this, we can convert the `date` column into a datetime object by doing:",
    "id": "0ba893fc6bba4eaf8e3662875732565e",
    "order_count": 12,
    "time": "2020-07-22T03:34:30.130Z",
    "type": "selectMarkdownCell"
   },
   {
    "code": "from lux.vis.Vis import Vis\nvis = Vis([\"date\",\"value\"],df)\nvis",
    "id": "0c6a45ae9fa34381818f5a5c689618b8",
    "isPrintLuxDf": false,
    "isPrintPandasDf": false,
    "isPrintVis": true,
    "isPrintVisCollection": false,
    "order_count": 11,
    "time": "2020-07-22T03:34:30.165Z",
    "type": "completeCodeCell"
   },
   {
    "param": "",
    "time": "2020-07-22T03:34:30.176Z",
    "type": "initWidget"
   },
   {
    "code": "df['date'] = pd.to_datetime(df['date'],format=\"%Y-%m-%d\")\ndf['date']",
    "id": "c9059805d6104a329aff30bee0df619f",
    "order_count": 13,
    "time": "2020-07-22T03:34:30.219Z",
    "type": "selectCodeCell"
   },
   {
    "code": "df['date'] = pd.to_datetime(df['date'],format=\"%Y-%m-%d\")\ndf['date']",
    "id": "c9059805d6104a329aff30bee0df619f",
    "order_count": 13,
    "time": "2020-07-22T03:34:30.292Z",
    "type": "executeCodeCell"
   },
   {
    "code": "After changing the Pandas data type to datetime, we see that date field is recognized as temporal fields in Lux.",
    "id": "c226301622c8479e8d5218011f3d6ad9",
    "order_count": 14,
    "time": "2020-07-22T03:34:30.299Z",
    "type": "selectMarkdownCell"
   },
   {
    "code": "df['date'] = pd.to_datetime(df['date'],format=\"%Y-%m-%d\")\ndf['date']",
    "id": "c9059805d6104a329aff30bee0df619f",
    "isPrintLuxDf": false,
    "isPrintPandasDf": false,
    "isPrintVis": false,
    "isPrintVisCollection": false,
    "order_count": 13,
    "time": "2020-07-22T03:34:30.313Z",
    "type": "completeCodeCell"
   },
   {
    "code": "df.data_type",
    "id": "74eb3159d0b34723945348993fa9e8e1",
    "order_count": 15,
    "time": "2020-07-22T03:34:30.386Z",
    "type": "selectCodeCell"
   },
   {
    "code": "df.data_type",
    "id": "74eb3159d0b34723945348993fa9e8e1",
    "order_count": 15,
    "time": "2020-07-22T03:34:30.459Z",
    "type": "executeCodeCell"
   },
   {
    "code": "vis.refresh_source(df)\nvis",
    "id": "db8018345d114e0d926c9f273ebbd799",
    "order_count": 16,
    "time": "2020-07-22T03:34:30.473Z",
    "type": "selectCodeCell"
   },
   {
    "code": "df.data_type",
    "id": "74eb3159d0b34723945348993fa9e8e1",
    "isPrintLuxDf": false,
    "isPrintPandasDf": false,
    "isPrintVis": false,
    "isPrintVisCollection": false,
    "order_count": 15,
    "time": "2020-07-22T03:34:30.482Z",
    "type": "completeCodeCell"
   },
   {
    "code": "vis.refresh_source(df)\nvis",
    "id": "db8018345d114e0d926c9f273ebbd799",
    "order_count": 16,
    "time": "2020-07-22T03:34:30.542Z",
    "type": "executeCodeCell"
   },
   {
    "code": "## Advanced Date Manipulation\nYou might notice earlier that all the dates in our example dataset are the first of the month. In this case, there may be situations where we only want to list the year and month, instead of the full date. Here, we look at how to handle these cases.\n\nBelow we look at an example stocks dataset that also have `date` field with each row representing data for the first of each month.",
    "id": "2ff0daa85898446088e2abc26eaeb4b8",
    "order_count": 17,
    "time": "2020-07-22T03:34:30.548Z",
    "type": "selectMarkdownCell"
   },
   {
    "code": "vis.refresh_source(df)\nvis",
    "id": "db8018345d114e0d926c9f273ebbd799",
    "isPrintLuxDf": false,
    "isPrintPandasDf": false,
    "isPrintVis": true,
    "isPrintVisCollection": false,
    "order_count": 16,
    "time": "2020-07-22T03:34:30.586Z",
    "type": "completeCodeCell"
   },
   {
    "param": "",
    "time": "2020-07-22T03:34:30.589Z",
    "type": "initWidget"
   },
   {
    "code": "df = pd.read_csv(\"lux/data/stocks.csv\")\n\ndf.dtypes",
    "id": "660e772ed66648dba0001802649f2e53",
    "order_count": 18,
    "time": "2020-07-22T03:34:30.637Z",
    "type": "selectCodeCell"
   },
   {
    "code": "df = pd.read_csv(\"lux/data/stocks.csv\")\n\ndf.dtypes",
    "id": "660e772ed66648dba0001802649f2e53",
    "order_count": 18,
    "time": "2020-07-22T03:34:30.710Z",
    "type": "executeCodeCell"
   },
   {
    "code": "vis = Vis([\"date\",\"price\"],df)\nvis",
    "id": "5d2b5a08a17045a283edf915c5ff7f73",
    "order_count": 19,
    "time": "2020-07-22T03:34:30.722Z",
    "type": "selectCodeCell"
   },
   {
    "code": "df = pd.read_csv(\"lux/data/stocks.csv\")\n\ndf.dtypes",
    "id": "660e772ed66648dba0001802649f2e53",
    "isPrintLuxDf": false,
    "isPrintPandasDf": false,
    "isPrintVis": false,
    "isPrintVisCollection": false,
    "order_count": 18,
    "time": "2020-07-22T03:34:30.732Z",
    "type": "completeCodeCell"
   },
   {
    "code": "vis = Vis([\"date\",\"price\"],df)\nvis",
    "id": "5d2b5a08a17045a283edf915c5ff7f73",
    "order_count": 19,
    "time": "2020-07-22T03:34:30.794Z",
    "type": "executeCodeCell"
   },
   {
    "code": "If we only want Lux to output the month and the year, we can convert the columnn to a [`PeriodIndex`](https://pandas.pydata.org/pandas-docs/stable/reference/api/pandas.PeriodIndex.html) using [`to_period`](https://pandas.pydata.org/pandas-docs/stable/reference/api/pandas.DatetimeIndex.to_period.html). The `freq` argument specifies the granularity of the output. In this case, we are using 'M' for monthly. You can find more about how to specify time periods [here](https://pandas.pydata.org/pandas-docs/stable/user_guide/timeseries.html#dateoffset-objects).",
    "id": "7adeb78f74a149af9787f3b5f20b7ca2",
    "order_count": 20,
    "time": "2020-07-22T03:34:30.803Z",
    "type": "selectMarkdownCell"
   },
   {
    "code": "vis = Vis([\"date\",\"price\"],df)\nvis",
    "id": "5d2b5a08a17045a283edf915c5ff7f73",
    "isPrintLuxDf": false,
    "isPrintPandasDf": false,
    "isPrintVis": true,
    "isPrintVisCollection": false,
    "order_count": 19,
    "time": "2020-07-22T03:34:30.842Z",
    "type": "completeCodeCell"
   },
   {
    "param": "",
    "time": "2020-07-22T03:34:30.845Z",
    "type": "initWidget"
   },
   {
    "code": "df[\"date\"] = pd.DatetimeIndex(df[\"date\"]).to_period(freq='M')",
    "id": "7233028925854dd286169564055ccfbd",
    "order_count": 21,
    "time": "2020-07-22T03:34:30.893Z",
    "type": "selectCodeCell"
   },
   {
    "code": "df[\"date\"] = pd.DatetimeIndex(df[\"date\"]).to_period(freq='M')",
    "id": "7233028925854dd286169564055ccfbd",
    "order_count": 21,
    "time": "2020-07-22T03:34:31.234Z",
    "type": "executeCodeCell"
   },
   {
    "code": "vis.refresh_source(df)\nvis",
    "id": "1a72cb8910824ede9ecec41633e8fe85",
    "order_count": 22,
    "time": "2020-07-22T03:34:31.249Z",
    "type": "selectCodeCell"
   },
   {
    "code": "df[\"date\"] = pd.DatetimeIndex(df[\"date\"]).to_period(freq='M')",
    "id": "7233028925854dd286169564055ccfbd",
    "isPrintLuxDf": false,
    "isPrintPandasDf": false,
    "isPrintVis": false,
    "isPrintVisCollection": false,
    "order_count": 21,
    "time": "2020-07-22T03:34:31.256Z",
    "type": "completeCodeCell"
   },
   {
    "code": "vis.refresh_source(df)\nvis",
    "id": "1a72cb8910824ede9ecec41633e8fe85",
    "order_count": 22,
    "time": "2020-07-22T03:34:31.467Z",
    "type": "executeCodeCell"
   },
   {
    "code": "df['date']",
    "id": "13290d9f3abe41479715269db140bef3",
    "order_count": 23,
    "time": "2020-07-22T03:34:31.478Z",
    "type": "selectCodeCell"
   },
   {
    "code": "vis.refresh_source(df)\nvis",
    "id": "1a72cb8910824ede9ecec41633e8fe85",
    "isPrintLuxDf": false,
    "isPrintPandasDf": false,
    "isPrintVis": true,
    "isPrintVisCollection": false,
    "order_count": 22,
    "time": "2020-07-22T03:34:31.528Z",
    "type": "completeCodeCell"
   },
   {
    "param": "",
    "time": "2020-07-22T03:34:31.537Z",
    "type": "initWidget"
   },
   {
    "code": "df['date']",
    "id": "13290d9f3abe41479715269db140bef3",
    "order_count": 23,
    "time": "2020-07-22T03:34:31.625Z",
    "type": "executeCodeCell"
   },
   {
    "code": "## Querying With Datetime Fields\nThe string representation seen in the Dataframe can be used to filter out certain dates. \nFor example, in the above `stocks` dataset, we converted the date column to a `PeriodIndex`. Now the string representation only shows the granularity we want to see. \n\nWe can use that string representation to filter the dataframe in Pandas:",
    "id": "95b8609d2f34485c880c9a931e952bbf",
    "order_count": 24,
    "time": "2020-07-22T03:34:31.630Z",
    "type": "selectMarkdownCell"
   },
   {
    "code": "df['date']",
    "id": "13290d9f3abe41479715269db140bef3",
    "isPrintLuxDf": false,
    "isPrintPandasDf": false,
    "isPrintVis": false,
    "isPrintVisCollection": false,
    "order_count": 23,
    "time": "2020-07-22T03:34:31.642Z",
    "type": "completeCodeCell"
   },
   {
    "code": "rdf = df[df['date'] == '2008-11']\nrdf ",
    "id": "045de606aaf445808f0105328f30c64e",
    "order_count": 25,
    "time": "2020-07-22T03:34:32.037Z",
    "type": "selectCodeCell"
   },
   {
    "code": "rdf = df[df['date'] == '2008-11']\nrdf ",
    "id": "045de606aaf445808f0105328f30c64e",
    "order_count": 25,
    "time": "2020-07-22T03:34:32.226Z",
    "type": "executeCodeCell"
   },
   {
    "code": "rdf.data_type",
    "id": "0e1e7379820c4cabbdd0b0b7e003b066",
    "order_count": 26,
    "time": "2020-07-22T03:34:32.239Z",
    "type": "selectCodeCell"
   },
   {
    "code": "rdf.data_type",
    "id": "0e1e7379820c4cabbdd0b0b7e003b066",
    "order_count": 26,
    "time": "2020-07-22T03:34:32.433Z",
    "type": "executeCodeCell"
   },
   {
    "code": "We can also use the same string representation for specifying a query in Lux.",
    "id": "9c44d6a14b5c46a5a79189bc013051be",
    "order_count": 27,
    "time": "2020-07-22T03:34:32.441Z",
    "type": "selectMarkdownCell"
   },
   {
    "code": "rdf = df[df['date'] == '2008-11']\nrdf ",
    "id": "045de606aaf445808f0105328f30c64e",
    "isPrintLuxDf": false,
    "isPrintPandasDf": true,
    "isPrintVis": false,
    "isPrintVisCollection": false,
    "order_count": 25,
    "time": "2020-07-22T03:34:32.443Z",
    "type": "completeCodeCell"
   },
   {
    "code": "rdf.data_type",
    "id": "0e1e7379820c4cabbdd0b0b7e003b066",
    "isPrintLuxDf": false,
    "isPrintPandasDf": false,
    "isPrintVis": false,
    "isPrintVisCollection": false,
    "order_count": 26,
    "time": "2020-07-22T03:34:32.457Z",
    "type": "completeCodeCell"
   },
   {
    "code": "rdf = df[df['date'] == '2008-11']\nrdf ",
    "id": "045de606aaf445808f0105328f30c64e",
    "order_count": 25,
    "time": "2020-07-22T03:34:35.982Z",
    "type": "selectCodeCell"
   },
   {
    "code": "rdf = df[df['date'] == '2008-11']\nrdf ",
    "id": "045de606aaf445808f0105328f30c64e",
    "order_count": 25,
    "time": "2020-07-22T03:34:36.301Z",
    "type": "selectCodeCell"
   },
   {
    "code": "rdf = df[df['date'] == '2008-11']\nrdf ",
    "id": "045de606aaf445808f0105328f30c64e",
    "order_count": 25,
    "time": "2020-07-22T03:34:36.782Z",
    "type": "selectCodeCell"
   },
   {
    "param": "",
    "time": "2020-07-22T03:34:36.801Z",
    "type": "initWidget"
   },
   {
    "param": "",
    "time": "2020-07-22T03:34:36.862Z",
    "type": "initWidget"
   },
   {
    "code": "rdf = df[df['date'] == '2008-11']\nrdf ",
    "id": "045de606aaf445808f0105328f30c64e",
    "order_count": 25,
    "time": "2020-07-22T03:34:37.697Z",
    "type": "selectCodeCell"
   },
   {
    "param": "Temporal",
    "time": "2020-07-22T03:34:37.699Z",
    "type": "switchTab"
   },
   {
    "code": "rdf = df[df['date'] == '2008-11']\nrdf ",
    "id": "045de606aaf445808f0105328f30c64e",
    "order_count": 25,
    "time": "2020-07-22T03:35:08.698Z",
    "type": "selectCodeCell"
   },
   {
    "code": "",
    "id": "4acd1d399f2f4582a819093f08ab64b9",
    "order_count": 26,
    "time": "2020-07-22T03:35:09.386Z",
    "type": "selectCodeCell"
   },
   {
    "code": "",
    "id": "4acd1d399f2f4582a819093f08ab64b9",
    "order_count": 26,
    "time": "2020-07-22T03:35:09.596Z",
    "type": "editCodeCell"
   },
   {
    "code": "rdf.recommendation",
    "id": "4acd1d399f2f4582a819093f08ab64b9",
    "order_count": 26,
    "time": "2020-07-22T03:35:16.537Z",
    "type": "executeCodeCell"
   },
   {
    "code": "rdf.data_type",
    "id": "0e1e7379820c4cabbdd0b0b7e003b066",
    "order_count": 27,
    "time": "2020-07-22T03:35:16.568Z",
    "type": "selectCodeCell"
   },
   {
    "code": "rdf.recommendation",
    "id": "4acd1d399f2f4582a819093f08ab64b9",
    "isPrintLuxDf": false,
    "isPrintPandasDf": false,
    "isPrintVis": false,
    "isPrintVisCollection": true,
    "order_count": 26,
    "time": "2020-07-22T03:35:16.576Z",
    "type": "completeCodeCell"
   },
   {
    "code": "rdf.recommendation",
    "id": "4acd1d399f2f4582a819093f08ab64b9",
    "order_count": 26,
    "time": "2020-07-22T03:35:17.159Z",
    "type": "selectCodeCell"
   },
   {
    "code": "rdf.recommendation",
    "id": "4acd1d399f2f4582a819093f08ab64b9",
    "order_count": 26,
    "time": "2020-07-22T03:35:17.444Z",
    "type": "editCodeCell"
   },
   {
    "code": "rdf.data_type",
    "id": "0e1e7379820c4cabbdd0b0b7e003b066",
    "order_count": 27,
    "time": "2020-07-22T03:36:36.955Z",
    "type": "editCodeCell"
   },
   {
    "code": "rdf.data_type",
    "id": "0e1e7379820c4cabbdd0b0b7e003b066",
    "order_count": 27,
    "time": "2020-07-22T03:52:42.099Z",
    "type": "editCodeCell"
   },
   {
    "code": "rdf.data_type",
    "id": "0e1e7379820c4cabbdd0b0b7e003b066",
    "order_count": 27,
    "time": "2020-07-22T03:56:49.407Z",
    "type": "editCodeCell"
   },
   {
    "code": "rdf.recommendation0",
    "id": "4acd1d399f2f4582a819093f08ab64b9",
    "order_count": 26,
    "time": "2020-07-22T03:56:49.798Z",
    "type": "selectCodeCell"
   },
   {
    "code": "rdf.recommendation0",
    "id": "4acd1d399f2f4582a819093f08ab64b9",
    "order_count": 26,
    "time": "2020-07-22T03:56:56.768Z",
    "type": "editCodeCell"
   },
   {
    "time": "2020-07-22T03:56:58.762Z",
    "type": "kernelRestart"
   },
   {
    "time": "2020-07-22T03:56:58.897Z",
    "type": "kernelRestart"
   },
   {
    "time": "2020-07-22T03:56:59.049Z",
    "type": "kernelRestart"
   },
   {
    "code": "rdf = df[df['date'] == '2008-11']\nrdf ",
    "id": "045de606aaf445808f0105328f30c64e",
    "order_count": 25,
    "time": "2020-07-22T03:56:59.360Z",
    "type": "selectCodeCell"
   },
   {
    "code": "## Querying With Datetime Fields\nThe string representation seen in the Dataframe can be used to filter out certain dates. \nFor example, in the above `stocks` dataset, we converted the date column to a `PeriodIndex`. Now the string representation only shows the granularity we want to see. \n\nWe can use that string representation to filter the dataframe in Pandas:",
    "id": "95b8609d2f34485c880c9a931e952bbf",
    "order_count": 24,
    "time": "2020-07-22T03:56:59.845Z",
    "type": "selectMarkdownCell"
   },
   {
    "code": "df['date']",
    "id": "13290d9f3abe41479715269db140bef3",
    "order_count": 23,
    "time": "2020-07-22T03:56:59.935Z",
    "type": "selectCodeCell"
   },
   {
    "code": "vis.refresh_source(df)\nvis",
    "id": "1a72cb8910824ede9ecec41633e8fe85",
    "order_count": 22,
    "time": "2020-07-22T03:57:00.021Z",
    "type": "selectCodeCell"
   },
   {
    "code": "df[\"date\"] = pd.DatetimeIndex(df[\"date\"]).to_period(freq='M')",
    "id": "7233028925854dd286169564055ccfbd",
    "order_count": 21,
    "time": "2020-07-22T03:57:00.099Z",
    "type": "selectCodeCell"
   },
   {
    "code": "If we only want Lux to output the month and the year, we can convert the columnn to a [`PeriodIndex`](https://pandas.pydata.org/pandas-docs/stable/reference/api/pandas.PeriodIndex.html) using [`to_period`](https://pandas.pydata.org/pandas-docs/stable/reference/api/pandas.DatetimeIndex.to_period.html). The `freq` argument specifies the granularity of the output. In this case, we are using 'M' for monthly. You can find more about how to specify time periods [here](https://pandas.pydata.org/pandas-docs/stable/user_guide/timeseries.html#dateoffset-objects).",
    "id": "7adeb78f74a149af9787f3b5f20b7ca2",
    "order_count": 20,
    "time": "2020-07-22T03:57:00.178Z",
    "type": "selectMarkdownCell"
   },
   {
    "code": "vis = Vis([\"date\",\"price\"],df)\nvis",
    "id": "5d2b5a08a17045a283edf915c5ff7f73",
    "order_count": 19,
    "time": "2020-07-22T03:57:00.270Z",
    "type": "selectCodeCell"
   },
   {
    "code": "df = pd.read_csv(\"lux/data/stocks.csv\")\n\ndf.dtypes",
    "id": "660e772ed66648dba0001802649f2e53",
    "order_count": 18,
    "time": "2020-07-22T03:57:00.355Z",
    "type": "selectCodeCell"
   },
   {
    "code": "## Advanced Date Manipulation\nYou might notice earlier that all the dates in our example dataset are the first of the month. In this case, there may be situations where we only want to list the year and month, instead of the full date. Here, we look at how to handle these cases.\n\nBelow we look at an example stocks dataset that also have `date` field with each row representing data for the first of each month.",
    "id": "2ff0daa85898446088e2abc26eaeb4b8",
    "order_count": 17,
    "time": "2020-07-22T03:57:00.429Z",
    "type": "selectMarkdownCell"
   },
   {
    "code": "vis.refresh_source(df)\nvis",
    "id": "db8018345d114e0d926c9f273ebbd799",
    "order_count": 16,
    "time": "2020-07-22T03:57:00.516Z",
    "type": "selectCodeCell"
   },
   {
    "code": "df.data_type",
    "id": "74eb3159d0b34723945348993fa9e8e1",
    "order_count": 15,
    "time": "2020-07-22T03:57:00.599Z",
    "type": "selectCodeCell"
   },
   {
    "code": "After changing the Pandas data type to datetime, we see that date field is recognized as temporal fields in Lux.",
    "id": "c226301622c8479e8d5218011f3d6ad9",
    "order_count": 14,
    "time": "2020-07-22T03:57:00.677Z",
    "type": "selectMarkdownCell"
   },
   {
    "code": "df['date'] = pd.to_datetime(df['date'],format=\"%Y-%m-%d\")\ndf['date']",
    "id": "c9059805d6104a329aff30bee0df619f",
    "order_count": 13,
    "time": "2020-07-22T03:57:00.766Z",
    "type": "selectCodeCell"
   },
   {
    "code": "To fix this, we can convert the `date` column into a datetime object by doing:",
    "id": "0ba893fc6bba4eaf8e3662875732565e",
    "order_count": 12,
    "time": "2020-07-22T03:57:00.849Z",
    "type": "selectMarkdownCell"
   },
   {
    "code": "from lux.vis.Vis import Vis\nvis = Vis([\"date\",\"value\"],df)\nvis",
    "id": "0c6a45ae9fa34381818f5a5c689618b8",
    "order_count": 11,
    "time": "2020-07-22T03:57:00.934Z",
    "type": "selectCodeCell"
   },
   {
    "code": "The typing has implications on the generated viss, since nominal chart types are displayed as bar charts, whereas temporal fields are plotted as time series line charts.",
    "id": "4b7138e3c7e8430ca9c679ea2ab48d20",
    "order_count": 10,
    "time": "2020-07-22T03:57:01.011Z",
    "type": "selectMarkdownCell"
   },
   {
    "code": "df.data_type",
    "id": "013050b890ed4e94a255ad649616fac9",
    "order_count": 9,
    "time": "2020-07-22T03:57:01.103Z",
    "type": "selectCodeCell"
   },
   {
    "code": "Since `date` is detected as an object type in Pandas, in Lux the `date` field is recognized as a `nominal` field, instead of a `temporal` field:",
    "id": "63ee1e0a7426406780b88b20ce857553",
    "order_count": 8,
    "time": "2020-07-22T03:57:01.179Z",
    "type": "selectMarkdownCell"
   },
   {
    "code": "df.dtypes",
    "id": "963f7d84d45f44c18eaccddf6da30038",
    "order_count": 7,
    "time": "2020-07-22T03:57:01.267Z",
    "type": "selectCodeCell"
   },
   {
    "code": "This is the types detected in Pandas's data type [`dtype`](https://pandas.pydata.org/pandas-docs/stable/reference/api/pandas.DataFrame.dtypes.html):",
    "id": "b9da7a733208495e949577ded41b35a9",
    "order_count": 6,
    "time": "2020-07-22T03:57:01.345Z",
    "type": "selectMarkdownCell"
   },
   {
    "code": "df = pd.DataFrame({'date': ['2020-02-01', '2020-03-01', '2020-04-01', '2020-05-01','2020-06-01',],\n                   'value': [10.5,15.2,20.3,25.2, 14.2]})\ndf",
    "id": "26206a60aa1a4c74a40eee54b13fc60f",
    "order_count": 5,
    "time": "2020-07-22T03:57:01.435Z",
    "type": "selectCodeCell"
   },
   {
    "time": "2020-07-22T03:57:01.467Z",
    "type": "kernelReady"
   },
   {
    "time": "2020-07-22T03:57:01.471Z",
    "type": "kernelReady"
   },
   {
    "code": "### Example:\n\nAs an example, a dataframe might contain a `date` attribute as strings of dates:",
    "id": "a1f72ab4dd6343be8669b84736ccaba8",
    "order_count": 4,
    "time": "2020-07-22T03:57:01.513Z",
    "type": "selectMarkdownCell"
   },
   {
    "code": "## Converting Strings to Datetime objects\nTo convert column referencing dates/times into [`datetime`](https://docs.python.org/3/library/datetime.html) objects, we use [`pd.to_datetime`](https://pandas.pydata.org/pandas-docs/stable/reference/api/pandas.to_datetime.html).\n\n### Summary: \n\n```\npd.to_datetime(['2020-01-01', '2020-01-15', '2020-02-01'],format=\"%Y-%m-%d\")\n```",
    "id": "7f9babde8d2740f28304e4d51258d434",
    "order_count": 3,
    "time": "2020-07-22T03:57:01.595Z",
    "type": "selectMarkdownCell"
   },
   {
    "code": "import pandas as pd\nimport lux",
    "id": "866632a5a3e44af98a6157e5225e002d",
    "order_count": 2,
    "time": "2020-07-22T03:57:01.688Z",
    "type": "selectCodeCell"
   },
   {
    "code": "cd ..",
    "id": "7ad26935cb0a443b815145d99d228f47",
    "order_count": 1,
    "time": "2020-07-22T03:57:01.769Z",
    "type": "selectCodeCell"
   },
   {
    "code": "# Datetime Tutorial\nThis is a tutorial on how to prepare temporal data for use with Lux. To display temporal fields appropriately in Lux, the column must be converted into Pandas's [`datetime`](https://docs.python.org/3/library/datetime.html) objects. ",
    "id": "930a33f9a7cd43e1842e90c0bc2dde05",
    "order_count": 0,
    "time": "2020-07-22T03:57:01.847Z",
    "type": "selectMarkdownCell"
   },
   {
    "code": "cd ..",
    "id": "7ad26935cb0a443b815145d99d228f47",
    "order_count": 1,
    "time": "2020-07-22T03:57:02.441Z",
    "type": "selectCodeCell"
   },
   {
    "code": "cd ..",
    "id": "7ad26935cb0a443b815145d99d228f47",
    "order_count": 1,
    "time": "2020-07-22T03:57:02.613Z",
    "type": "executeCodeCell"
   },
   {
    "code": "import pandas as pd\nimport lux",
    "id": "866632a5a3e44af98a6157e5225e002d",
    "order_count": 2,
    "time": "2020-07-22T03:57:02.628Z",
    "type": "selectCodeCell"
   },
   {
    "code": "cd ..",
    "id": "7ad26935cb0a443b815145d99d228f47",
    "isPrintLuxDf": false,
    "isPrintPandasDf": false,
    "isPrintVis": false,
    "isPrintVisCollection": false,
    "order_count": 1,
    "time": "2020-07-22T03:57:02.642Z",
    "type": "completeCodeCell"
   },
   {
    "code": "import pandas as pd\nimport lux",
    "id": "866632a5a3e44af98a6157e5225e002d",
    "order_count": 2,
    "time": "2020-07-22T03:57:02.764Z",
    "type": "executeCodeCell"
   },
   {
    "code": "## Converting Strings to Datetime objects\nTo convert column referencing dates/times into [`datetime`](https://docs.python.org/3/library/datetime.html) objects, we use [`pd.to_datetime`](https://pandas.pydata.org/pandas-docs/stable/reference/api/pandas.to_datetime.html).\n\n### Summary: \n\n```\npd.to_datetime(['2020-01-01', '2020-01-15', '2020-02-01'],format=\"%Y-%m-%d\")\n```",
    "id": "7f9babde8d2740f28304e4d51258d434",
    "order_count": 3,
    "time": "2020-07-22T03:57:02.772Z",
    "type": "selectMarkdownCell"
   },
   {
    "code": "### Example:\n\nAs an example, a dataframe might contain a `date` attribute as strings of dates:",
    "id": "a1f72ab4dd6343be8669b84736ccaba8",
    "order_count": 4,
    "time": "2020-07-22T03:57:02.901Z",
    "type": "selectMarkdownCell"
   },
   {
    "code": "df = pd.DataFrame({'date': ['2020-02-01', '2020-03-01', '2020-04-01', '2020-05-01','2020-06-01',],\n                   'value': [10.5,15.2,20.3,25.2, 14.2]})\ndf",
    "id": "26206a60aa1a4c74a40eee54b13fc60f",
    "order_count": 5,
    "time": "2020-07-22T03:57:03.071Z",
    "type": "selectCodeCell"
   },
   {
    "code": "df = pd.DataFrame({'date': ['2020-02-01', '2020-03-01', '2020-04-01', '2020-05-01','2020-06-01',],\n                   'value': [10.5,15.2,20.3,25.2, 14.2]})\ndf",
    "id": "26206a60aa1a4c74a40eee54b13fc60f",
    "order_count": 5,
    "time": "2020-07-22T03:57:03.188Z",
    "type": "executeCodeCell"
   },
   {
    "code": "This is the types detected in Pandas's data type [`dtype`](https://pandas.pydata.org/pandas-docs/stable/reference/api/pandas.DataFrame.dtypes.html):",
    "id": "b9da7a733208495e949577ded41b35a9",
    "order_count": 6,
    "time": "2020-07-22T03:57:03.197Z",
    "type": "selectMarkdownCell"
   },
   {
    "code": "import pandas as pd\nimport lux",
    "id": "866632a5a3e44af98a6157e5225e002d",
    "isPrintLuxDf": false,
    "isPrintPandasDf": false,
    "isPrintVis": false,
    "isPrintVisCollection": false,
    "order_count": 2,
    "time": "2020-07-22T03:57:03.278Z",
    "type": "completeCodeCell"
   },
   {
    "code": "df.dtypes",
    "id": "963f7d84d45f44c18eaccddf6da30038",
    "order_count": 7,
    "time": "2020-07-22T03:57:03.356Z",
    "type": "selectCodeCell"
   },
   {
    "code": "df.dtypes",
    "id": "963f7d84d45f44c18eaccddf6da30038",
    "order_count": 7,
    "time": "2020-07-22T03:57:03.492Z",
    "type": "executeCodeCell"
   },
   {
    "code": "Since `date` is detected as an object type in Pandas, in Lux the `date` field is recognized as a `nominal` field, instead of a `temporal` field:",
    "id": "63ee1e0a7426406780b88b20ce857553",
    "order_count": 8,
    "time": "2020-07-22T03:57:03.498Z",
    "type": "selectMarkdownCell"
   },
   {
    "code": "df.data_type",
    "id": "013050b890ed4e94a255ad649616fac9",
    "order_count": 9,
    "time": "2020-07-22T03:57:03.636Z",
    "type": "selectCodeCell"
   },
   {
    "code": "df = pd.DataFrame({'date': ['2020-02-01', '2020-03-01', '2020-04-01', '2020-05-01','2020-06-01',],\n                   'value': [10.5,15.2,20.3,25.2, 14.2]})\ndf",
    "id": "26206a60aa1a4c74a40eee54b13fc60f",
    "isPrintLuxDf": false,
    "isPrintPandasDf": true,
    "isPrintVis": false,
    "isPrintVisCollection": false,
    "order_count": 5,
    "time": "2020-07-22T03:57:03.759Z",
    "type": "completeCodeCell"
   },
   {
    "code": "df.dtypes",
    "id": "963f7d84d45f44c18eaccddf6da30038",
    "isPrintLuxDf": false,
    "isPrintPandasDf": false,
    "isPrintVis": false,
    "isPrintVisCollection": false,
    "order_count": 7,
    "time": "2020-07-22T03:57:03.762Z",
    "type": "completeCodeCell"
   },
   {
    "code": "df.data_type",
    "id": "013050b890ed4e94a255ad649616fac9",
    "order_count": 9,
    "time": "2020-07-22T03:57:03.802Z",
    "type": "executeCodeCell"
   },
   {
    "code": "The typing has implications on the generated viss, since nominal chart types are displayed as bar charts, whereas temporal fields are plotted as time series line charts.",
    "id": "4b7138e3c7e8430ca9c679ea2ab48d20",
    "order_count": 10,
    "time": "2020-07-22T03:57:03.809Z",
    "type": "selectMarkdownCell"
   },
   {
    "code": "df.data_type",
    "id": "013050b890ed4e94a255ad649616fac9",
    "isPrintLuxDf": false,
    "isPrintPandasDf": false,
    "isPrintVis": false,
    "isPrintVisCollection": false,
    "order_count": 9,
    "time": "2020-07-22T03:57:03.823Z",
    "type": "completeCodeCell"
   },
   {
    "code": "from lux.vis.Vis import Vis\nvis = Vis([\"date\",\"value\"],df)\nvis",
    "id": "0c6a45ae9fa34381818f5a5c689618b8",
    "order_count": 11,
    "time": "2020-07-22T03:57:03.939Z",
    "type": "selectCodeCell"
   },
   {
    "code": "from lux.vis.Vis import Vis\nvis = Vis([\"date\",\"value\"],df)\nvis",
    "id": "0c6a45ae9fa34381818f5a5c689618b8",
    "order_count": 11,
    "time": "2020-07-22T03:57:04.069Z",
    "type": "executeCodeCell"
   },
   {
    "code": "To fix this, we can convert the `date` column into a datetime object by doing:",
    "id": "0ba893fc6bba4eaf8e3662875732565e",
    "order_count": 12,
    "time": "2020-07-22T03:57:04.076Z",
    "type": "selectMarkdownCell"
   },
   {
    "code": "from lux.vis.Vis import Vis\nvis = Vis([\"date\",\"value\"],df)\nvis",
    "id": "0c6a45ae9fa34381818f5a5c689618b8",
    "isPrintLuxDf": false,
    "isPrintPandasDf": false,
    "isPrintVis": true,
    "isPrintVisCollection": false,
    "order_count": 11,
    "time": "2020-07-22T03:57:04.114Z",
    "type": "completeCodeCell"
   },
   {
    "param": "",
    "time": "2020-07-22T03:57:04.120Z",
    "type": "initWidget"
   },
   {
    "code": "df['date'] = pd.to_datetime(df['date'],format=\"%Y-%m-%d\")\ndf['date']",
    "id": "c9059805d6104a329aff30bee0df619f",
    "order_count": 13,
    "time": "2020-07-22T03:57:04.216Z",
    "type": "selectCodeCell"
   },
   {
    "code": "df['date'] = pd.to_datetime(df['date'],format=\"%Y-%m-%d\")\ndf['date']",
    "id": "c9059805d6104a329aff30bee0df619f",
    "order_count": 13,
    "time": "2020-07-22T03:57:04.365Z",
    "type": "executeCodeCell"
   },
   {
    "code": "After changing the Pandas data type to datetime, we see that date field is recognized as temporal fields in Lux.",
    "id": "c226301622c8479e8d5218011f3d6ad9",
    "order_count": 14,
    "time": "2020-07-22T03:57:04.373Z",
    "type": "selectMarkdownCell"
   },
   {
    "code": "df['date'] = pd.to_datetime(df['date'],format=\"%Y-%m-%d\")\ndf['date']",
    "id": "c9059805d6104a329aff30bee0df619f",
    "isPrintLuxDf": false,
    "isPrintPandasDf": false,
    "isPrintVis": false,
    "isPrintVisCollection": false,
    "order_count": 13,
    "time": "2020-07-22T03:57:04.386Z",
    "type": "completeCodeCell"
   },
   {
    "code": "df.data_type",
    "id": "74eb3159d0b34723945348993fa9e8e1",
    "order_count": 15,
    "time": "2020-07-22T03:57:04.528Z",
    "type": "selectCodeCell"
   },
   {
    "code": "df.data_type",
    "id": "74eb3159d0b34723945348993fa9e8e1",
    "order_count": 15,
    "time": "2020-07-22T03:57:04.667Z",
    "type": "executeCodeCell"
   },
   {
    "code": "vis.refresh_source(df)\nvis",
    "id": "db8018345d114e0d926c9f273ebbd799",
    "order_count": 16,
    "time": "2020-07-22T03:57:04.681Z",
    "type": "selectCodeCell"
   },
   {
    "code": "df.data_type",
    "id": "74eb3159d0b34723945348993fa9e8e1",
    "isPrintLuxDf": false,
    "isPrintPandasDf": false,
    "isPrintVis": false,
    "isPrintVisCollection": false,
    "order_count": 15,
    "time": "2020-07-22T03:57:04.693Z",
    "type": "completeCodeCell"
   },
   {
    "code": "vis.refresh_source(df)\nvis",
    "id": "db8018345d114e0d926c9f273ebbd799",
    "order_count": 16,
    "time": "2020-07-22T03:57:04.821Z",
    "type": "executeCodeCell"
   },
   {
    "code": "## Advanced Date Manipulation\nYou might notice earlier that all the dates in our example dataset are the first of the month. In this case, there may be situations where we only want to list the year and month, instead of the full date. Here, we look at how to handle these cases.\n\nBelow we look at an example stocks dataset that also have `date` field with each row representing data for the first of each month.",
    "id": "2ff0daa85898446088e2abc26eaeb4b8",
    "order_count": 17,
    "time": "2020-07-22T03:57:04.829Z",
    "type": "selectMarkdownCell"
   },
   {
    "code": "vis.refresh_source(df)\nvis",
    "id": "db8018345d114e0d926c9f273ebbd799",
    "isPrintLuxDf": false,
    "isPrintPandasDf": false,
    "isPrintVis": true,
    "isPrintVisCollection": false,
    "order_count": 16,
    "time": "2020-07-22T03:57:04.870Z",
    "type": "completeCodeCell"
   },
   {
    "param": "",
    "time": "2020-07-22T03:57:04.880Z",
    "type": "initWidget"
   },
   {
    "code": "df = pd.read_csv(\"lux/data/stocks.csv\")\n\ndf.dtypes",
    "id": "660e772ed66648dba0001802649f2e53",
    "order_count": 18,
    "time": "2020-07-22T03:57:04.977Z",
    "type": "selectCodeCell"
   },
   {
    "code": "df = pd.read_csv(\"lux/data/stocks.csv\")\n\ndf.dtypes",
    "id": "660e772ed66648dba0001802649f2e53",
    "order_count": 18,
    "time": "2020-07-22T03:57:05.092Z",
    "type": "executeCodeCell"
   },
   {
    "code": "vis = Vis([\"date\",\"price\"],df)\nvis",
    "id": "5d2b5a08a17045a283edf915c5ff7f73",
    "order_count": 19,
    "time": "2020-07-22T03:57:05.107Z",
    "type": "selectCodeCell"
   },
   {
    "code": "df = pd.read_csv(\"lux/data/stocks.csv\")\n\ndf.dtypes",
    "id": "660e772ed66648dba0001802649f2e53",
    "isPrintLuxDf": false,
    "isPrintPandasDf": false,
    "isPrintVis": false,
    "isPrintVisCollection": false,
    "order_count": 18,
    "time": "2020-07-22T03:57:05.118Z",
    "type": "completeCodeCell"
   },
   {
    "code": "vis = Vis([\"date\",\"price\"],df)\nvis",
    "id": "5d2b5a08a17045a283edf915c5ff7f73",
    "order_count": 19,
    "time": "2020-07-22T03:57:05.261Z",
    "type": "executeCodeCell"
   },
   {
    "code": "If we only want Lux to output the month and the year, we can convert the columnn to a [`PeriodIndex`](https://pandas.pydata.org/pandas-docs/stable/reference/api/pandas.PeriodIndex.html) using [`to_period`](https://pandas.pydata.org/pandas-docs/stable/reference/api/pandas.DatetimeIndex.to_period.html). The `freq` argument specifies the granularity of the output. In this case, we are using 'M' for monthly. You can find more about how to specify time periods [here](https://pandas.pydata.org/pandas-docs/stable/user_guide/timeseries.html#dateoffset-objects).",
    "id": "7adeb78f74a149af9787f3b5f20b7ca2",
    "order_count": 20,
    "time": "2020-07-22T03:57:05.268Z",
    "type": "selectMarkdownCell"
   },
   {
    "code": "vis = Vis([\"date\",\"price\"],df)\nvis",
    "id": "5d2b5a08a17045a283edf915c5ff7f73",
    "isPrintLuxDf": false,
    "isPrintPandasDf": false,
    "isPrintVis": true,
    "isPrintVisCollection": false,
    "order_count": 19,
    "time": "2020-07-22T03:57:05.311Z",
    "type": "completeCodeCell"
   },
   {
    "param": "",
    "time": "2020-07-22T03:57:05.314Z",
    "type": "initWidget"
   },
   {
    "code": "df[\"date\"] = pd.DatetimeIndex(df[\"date\"]).to_period(freq='M')",
    "id": "7233028925854dd286169564055ccfbd",
    "order_count": 21,
    "time": "2020-07-22T03:57:05.459Z",
    "type": "selectCodeCell"
   },
   {
    "code": "df[\"date\"] = pd.DatetimeIndex(df[\"date\"]).to_period(freq='M')",
    "id": "7233028925854dd286169564055ccfbd",
    "order_count": 21,
    "time": "2020-07-22T03:57:05.772Z",
    "type": "executeCodeCell"
   },
   {
    "code": "vis.refresh_source(df)\nvis",
    "id": "1a72cb8910824ede9ecec41633e8fe85",
    "order_count": 22,
    "time": "2020-07-22T03:57:05.787Z",
    "type": "selectCodeCell"
   },
   {
    "code": "df[\"date\"] = pd.DatetimeIndex(df[\"date\"]).to_period(freq='M')",
    "id": "7233028925854dd286169564055ccfbd",
    "isPrintLuxDf": false,
    "isPrintPandasDf": false,
    "isPrintVis": false,
    "isPrintVisCollection": false,
    "order_count": 21,
    "time": "2020-07-22T03:57:05.793Z",
    "type": "completeCodeCell"
   },
   {
    "code": "vis.refresh_source(df)\nvis",
    "id": "1a72cb8910824ede9ecec41633e8fe85",
    "order_count": 22,
    "time": "2020-07-22T03:57:06.046Z",
    "type": "executeCodeCell"
   },
   {
    "code": "df['date']",
    "id": "13290d9f3abe41479715269db140bef3",
    "order_count": 23,
    "time": "2020-07-22T03:57:06.060Z",
    "type": "selectCodeCell"
   },
   {
    "code": "vis.refresh_source(df)\nvis",
    "id": "1a72cb8910824ede9ecec41633e8fe85",
    "isPrintLuxDf": false,
    "isPrintPandasDf": false,
    "isPrintVis": true,
    "isPrintVisCollection": false,
    "order_count": 22,
    "time": "2020-07-22T03:57:06.107Z",
    "type": "completeCodeCell"
   },
   {
    "param": "",
    "time": "2020-07-22T03:57:06.110Z",
    "type": "initWidget"
   },
   {
    "code": "df['date']",
    "id": "13290d9f3abe41479715269db140bef3",
    "order_count": 23,
    "time": "2020-07-22T03:57:06.354Z",
    "type": "executeCodeCell"
   },
   {
    "code": "## Querying With Datetime Fields\nThe string representation seen in the Dataframe can be used to filter out certain dates. \nFor example, in the above `stocks` dataset, we converted the date column to a `PeriodIndex`. Now the string representation only shows the granularity we want to see. \n\nWe can use that string representation to filter the dataframe in Pandas:",
    "id": "95b8609d2f34485c880c9a931e952bbf",
    "order_count": 24,
    "time": "2020-07-22T03:57:06.361Z",
    "type": "selectMarkdownCell"
   },
   {
    "code": "df['date']",
    "id": "13290d9f3abe41479715269db140bef3",
    "isPrintLuxDf": false,
    "isPrintPandasDf": false,
    "isPrintVis": false,
    "isPrintVisCollection": false,
    "order_count": 23,
    "time": "2020-07-22T03:57:06.372Z",
    "type": "completeCodeCell"
   },
   {
    "code": "rdf = df[df['date'] == '2008-11']\nrdf ",
    "id": "045de606aaf445808f0105328f30c64e",
    "order_count": 25,
    "time": "2020-07-22T03:57:06.661Z",
    "type": "selectCodeCell"
   },
   {
    "code": "rdf = df[df['date'] == '2008-11']\nrdf ",
    "id": "045de606aaf445808f0105328f30c64e",
    "order_count": 25,
    "time": "2020-07-22T03:57:07.741Z",
    "type": "executeCodeCell"
   },
   {
    "code": "rdf.recommendation0",
    "id": "4acd1d399f2f4582a819093f08ab64b9",
    "order_count": 26,
    "time": "2020-07-22T03:57:07.755Z",
    "type": "selectCodeCell"
   },
   {
    "code": "rdf = df[df['date'] == '2008-11']\nrdf ",
    "id": "045de606aaf445808f0105328f30c64e",
    "isPrintLuxDf": false,
    "isPrintPandasDf": true,
    "isPrintVis": false,
    "isPrintVisCollection": false,
    "order_count": 25,
    "time": "2020-07-22T03:57:07.957Z",
    "type": "completeCodeCell"
   },
   {
    "code": "rdf = df[df['date'] == '2008-11']\nrdf ",
    "id": "045de606aaf445808f0105328f30c64e",
    "order_count": 25,
    "time": "2020-07-22T03:58:09.880Z",
    "type": "selectCodeCell"
   },
   {
    "time": "2020-07-22T03:58:11.244Z",
    "type": "kernelRestart"
   },
   {
    "time": "2020-07-22T03:58:11.419Z",
    "type": "kernelRestart"
   },
   {
    "code": "## Querying With Datetime Fields\nThe string representation seen in the Dataframe can be used to filter out certain dates. \nFor example, in the above `stocks` dataset, we converted the date column to a `PeriodIndex`. Now the string representation only shows the granularity we want to see. \n\nWe can use that string representation to filter the dataframe in Pandas:",
    "id": "95b8609d2f34485c880c9a931e952bbf",
    "order_count": 24,
    "time": "2020-07-22T03:58:11.851Z",
    "type": "selectMarkdownCell"
   },
   {
    "code": "df['date']",
    "id": "13290d9f3abe41479715269db140bef3",
    "order_count": 23,
    "time": "2020-07-22T03:58:12.029Z",
    "type": "selectCodeCell"
   },
   {
    "code": "vis.refresh_source(df)\nvis",
    "id": "1a72cb8910824ede9ecec41633e8fe85",
    "order_count": 22,
    "time": "2020-07-22T03:58:12.176Z",
    "type": "selectCodeCell"
   },
   {
    "code": "df[\"date\"] = pd.DatetimeIndex(df[\"date\"]).to_period(freq='M')",
    "id": "7233028925854dd286169564055ccfbd",
    "order_count": 21,
    "time": "2020-07-22T03:58:12.326Z",
    "type": "selectCodeCell"
   },
   {
    "code": "If we only want Lux to output the month and the year, we can convert the columnn to a [`PeriodIndex`](https://pandas.pydata.org/pandas-docs/stable/reference/api/pandas.PeriodIndex.html) using [`to_period`](https://pandas.pydata.org/pandas-docs/stable/reference/api/pandas.DatetimeIndex.to_period.html). The `freq` argument specifies the granularity of the output. In this case, we are using 'M' for monthly. You can find more about how to specify time periods [here](https://pandas.pydata.org/pandas-docs/stable/user_guide/timeseries.html#dateoffset-objects).",
    "id": "7adeb78f74a149af9787f3b5f20b7ca2",
    "order_count": 20,
    "time": "2020-07-22T03:58:12.474Z",
    "type": "selectMarkdownCell"
   },
   {
    "time": "2020-07-22T03:58:12.765Z",
    "type": "kernelReady"
   },
   {
    "time": "2020-07-22T03:58:12.782Z",
    "type": "kernelReady"
   },
   {
    "code": "vis = Vis([\"date\",\"price\"],df)\nvis",
    "id": "5d2b5a08a17045a283edf915c5ff7f73",
    "order_count": 19,
    "time": "2020-07-22T03:58:12.982Z",
    "type": "selectCodeCell"
   },
   {
    "code": "df = pd.read_csv(\"lux/data/stocks.csv\")\n\ndf.dtypes",
    "id": "660e772ed66648dba0001802649f2e53",
    "order_count": 18,
    "time": "2020-07-22T03:58:13.063Z",
    "type": "selectCodeCell"
   },
   {
    "code": "## Advanced Date Manipulation\nYou might notice earlier that all the dates in our example dataset are the first of the month. In this case, there may be situations where we only want to list the year and month, instead of the full date. Here, we look at how to handle these cases.\n\nBelow we look at an example stocks dataset that also have `date` field with each row representing data for the first of each month.",
    "id": "2ff0daa85898446088e2abc26eaeb4b8",
    "order_count": 17,
    "time": "2020-07-22T03:58:13.139Z",
    "type": "selectMarkdownCell"
   },
   {
    "code": "vis.refresh_source(df)\nvis",
    "id": "db8018345d114e0d926c9f273ebbd799",
    "order_count": 16,
    "time": "2020-07-22T03:58:13.228Z",
    "type": "selectCodeCell"
   },
   {
    "code": "df.data_type",
    "id": "74eb3159d0b34723945348993fa9e8e1",
    "order_count": 15,
    "time": "2020-07-22T03:58:13.313Z",
    "type": "selectCodeCell"
   },
   {
    "code": "After changing the Pandas data type to datetime, we see that date field is recognized as temporal fields in Lux.",
    "id": "c226301622c8479e8d5218011f3d6ad9",
    "order_count": 14,
    "time": "2020-07-22T03:58:13.393Z",
    "type": "selectMarkdownCell"
   },
   {
    "code": "df['date'] = pd.to_datetime(df['date'],format=\"%Y-%m-%d\")\ndf['date']",
    "id": "c9059805d6104a329aff30bee0df619f",
    "order_count": 13,
    "time": "2020-07-22T03:58:13.482Z",
    "type": "selectCodeCell"
   },
   {
    "code": "To fix this, we can convert the `date` column into a datetime object by doing:",
    "id": "0ba893fc6bba4eaf8e3662875732565e",
    "order_count": 12,
    "time": "2020-07-22T03:58:13.563Z",
    "type": "selectMarkdownCell"
   },
   {
    "code": "from lux.vis.Vis import Vis\nvis = Vis([\"date\",\"value\"],df)\nvis",
    "id": "0c6a45ae9fa34381818f5a5c689618b8",
    "order_count": 11,
    "time": "2020-07-22T03:58:13.655Z",
    "type": "selectCodeCell"
   },
   {
    "code": "The typing has implications on the generated viss, since nominal chart types are displayed as bar charts, whereas temporal fields are plotted as time series line charts.",
    "id": "4b7138e3c7e8430ca9c679ea2ab48d20",
    "order_count": 10,
    "time": "2020-07-22T03:58:13.729Z",
    "type": "selectMarkdownCell"
   },
   {
    "code": "df.data_type",
    "id": "013050b890ed4e94a255ad649616fac9",
    "order_count": 9,
    "time": "2020-07-22T03:58:13.816Z",
    "type": "selectCodeCell"
   },
   {
    "code": "Since `date` is detected as an object type in Pandas, in Lux the `date` field is recognized as a `nominal` field, instead of a `temporal` field:",
    "id": "63ee1e0a7426406780b88b20ce857553",
    "order_count": 8,
    "time": "2020-07-22T03:58:13.894Z",
    "type": "selectMarkdownCell"
   },
   {
    "code": "df.dtypes",
    "id": "963f7d84d45f44c18eaccddf6da30038",
    "order_count": 7,
    "time": "2020-07-22T03:58:13.983Z",
    "type": "selectCodeCell"
   },
   {
    "code": "This is the types detected in Pandas's data type [`dtype`](https://pandas.pydata.org/pandas-docs/stable/reference/api/pandas.DataFrame.dtypes.html):",
    "id": "b9da7a733208495e949577ded41b35a9",
    "order_count": 6,
    "time": "2020-07-22T03:58:14.063Z",
    "type": "selectMarkdownCell"
   },
   {
    "code": "df = pd.DataFrame({'date': ['2020-02-01', '2020-03-01', '2020-04-01', '2020-05-01','2020-06-01',],\n                   'value': [10.5,15.2,20.3,25.2, 14.2]})\ndf",
    "id": "26206a60aa1a4c74a40eee54b13fc60f",
    "order_count": 5,
    "time": "2020-07-22T03:58:14.157Z",
    "type": "selectCodeCell"
   },
   {
    "code": "### Example:\n\nAs an example, a dataframe might contain a `date` attribute as strings of dates:",
    "id": "a1f72ab4dd6343be8669b84736ccaba8",
    "order_count": 4,
    "time": "2020-07-22T03:58:14.231Z",
    "type": "selectMarkdownCell"
   },
   {
    "code": "## Converting Strings to Datetime objects\nTo convert column referencing dates/times into [`datetime`](https://docs.python.org/3/library/datetime.html) objects, we use [`pd.to_datetime`](https://pandas.pydata.org/pandas-docs/stable/reference/api/pandas.to_datetime.html).\n\n### Summary: \n\n```\npd.to_datetime(['2020-01-01', '2020-01-15', '2020-02-01'],format=\"%Y-%m-%d\")\n```",
    "id": "7f9babde8d2740f28304e4d51258d434",
    "order_count": 3,
    "time": "2020-07-22T03:58:14.312Z",
    "type": "selectMarkdownCell"
   },
   {
    "code": "import pandas as pd\nimport lux",
    "id": "866632a5a3e44af98a6157e5225e002d",
    "order_count": 2,
    "time": "2020-07-22T03:58:14.403Z",
    "type": "selectCodeCell"
   },
   {
    "code": "cd ..",
    "id": "7ad26935cb0a443b815145d99d228f47",
    "order_count": 1,
    "time": "2020-07-22T03:58:14.486Z",
    "type": "selectCodeCell"
   },
   {
    "code": "# Datetime Tutorial\nThis is a tutorial on how to prepare temporal data for use with Lux. To display temporal fields appropriately in Lux, the column must be converted into Pandas's [`datetime`](https://docs.python.org/3/library/datetime.html) objects. ",
    "id": "930a33f9a7cd43e1842e90c0bc2dde05",
    "order_count": 0,
    "time": "2020-07-22T03:58:14.563Z",
    "type": "selectMarkdownCell"
   },
   {
    "code": "cd ..",
    "id": "7ad26935cb0a443b815145d99d228f47",
    "order_count": 1,
    "time": "2020-07-22T03:58:15.306Z",
    "type": "selectCodeCell"
   },
   {
    "code": "cd ..",
    "id": "7ad26935cb0a443b815145d99d228f47",
    "order_count": 1,
    "time": "2020-07-22T03:58:15.796Z",
    "type": "executeCodeCell"
   },
   {
    "code": "import pandas as pd\nimport lux",
    "id": "866632a5a3e44af98a6157e5225e002d",
    "order_count": 2,
    "time": "2020-07-22T03:58:15.811Z",
    "type": "selectCodeCell"
   },
   {
    "code": "cd ..",
    "id": "7ad26935cb0a443b815145d99d228f47",
    "isPrintLuxDf": false,
    "isPrintPandasDf": false,
    "isPrintVis": false,
    "isPrintVisCollection": false,
    "order_count": 1,
    "time": "2020-07-22T03:58:15.823Z",
    "type": "completeCodeCell"
   },
   {
    "code": "import pandas as pd\nimport lux",
    "id": "866632a5a3e44af98a6157e5225e002d",
    "order_count": 2,
    "time": "2020-07-22T03:58:15.877Z",
    "type": "executeCodeCell"
   },
   {
    "code": "## Converting Strings to Datetime objects\nTo convert column referencing dates/times into [`datetime`](https://docs.python.org/3/library/datetime.html) objects, we use [`pd.to_datetime`](https://pandas.pydata.org/pandas-docs/stable/reference/api/pandas.to_datetime.html).\n\n### Summary: \n\n```\npd.to_datetime(['2020-01-01', '2020-01-15', '2020-02-01'],format=\"%Y-%m-%d\")\n```",
    "id": "7f9babde8d2740f28304e4d51258d434",
    "order_count": 3,
    "time": "2020-07-22T03:58:15.884Z",
    "type": "selectMarkdownCell"
   },
   {
    "code": "### Example:\n\nAs an example, a dataframe might contain a `date` attribute as strings of dates:",
    "id": "a1f72ab4dd6343be8669b84736ccaba8",
    "order_count": 4,
    "time": "2020-07-22T03:58:15.963Z",
    "type": "selectMarkdownCell"
   },
   {
    "code": "df = pd.DataFrame({'date': ['2020-02-01', '2020-03-01', '2020-04-01', '2020-05-01','2020-06-01',],\n                   'value': [10.5,15.2,20.3,25.2, 14.2]})\ndf",
    "id": "26206a60aa1a4c74a40eee54b13fc60f",
    "order_count": 5,
    "time": "2020-07-22T03:58:16.056Z",
    "type": "selectCodeCell"
   },
   {
    "code": "df = pd.DataFrame({'date': ['2020-02-01', '2020-03-01', '2020-04-01', '2020-05-01','2020-06-01',],\n                   'value': [10.5,15.2,20.3,25.2, 14.2]})\ndf",
    "id": "26206a60aa1a4c74a40eee54b13fc60f",
    "order_count": 5,
    "time": "2020-07-22T03:58:16.128Z",
    "type": "executeCodeCell"
   },
   {
    "code": "This is the types detected in Pandas's data type [`dtype`](https://pandas.pydata.org/pandas-docs/stable/reference/api/pandas.DataFrame.dtypes.html):",
    "id": "b9da7a733208495e949577ded41b35a9",
    "order_count": 6,
    "time": "2020-07-22T03:58:16.136Z",
    "type": "selectMarkdownCell"
   },
   {
    "code": "df.dtypes",
    "id": "963f7d84d45f44c18eaccddf6da30038",
    "order_count": 7,
    "time": "2020-07-22T03:58:16.222Z",
    "type": "selectCodeCell"
   },
   {
    "code": "import pandas as pd\nimport lux",
    "id": "866632a5a3e44af98a6157e5225e002d",
    "isPrintLuxDf": false,
    "isPrintPandasDf": false,
    "isPrintVis": false,
    "isPrintVisCollection": false,
    "order_count": 2,
    "time": "2020-07-22T03:58:16.225Z",
    "type": "completeCodeCell"
   },
   {
    "code": "df.dtypes",
    "id": "963f7d84d45f44c18eaccddf6da30038",
    "order_count": 7,
    "time": "2020-07-22T03:58:16.295Z",
    "type": "executeCodeCell"
   },
   {
    "code": "Since `date` is detected as an object type in Pandas, in Lux the `date` field is recognized as a `nominal` field, instead of a `temporal` field:",
    "id": "63ee1e0a7426406780b88b20ce857553",
    "order_count": 8,
    "time": "2020-07-22T03:58:16.300Z",
    "type": "selectMarkdownCell"
   },
   {
    "code": "df.data_type",
    "id": "013050b890ed4e94a255ad649616fac9",
    "order_count": 9,
    "time": "2020-07-22T03:58:16.388Z",
    "type": "selectCodeCell"
   },
   {
    "code": "df.data_type",
    "id": "013050b890ed4e94a255ad649616fac9",
    "order_count": 9,
    "time": "2020-07-22T03:58:16.462Z",
    "type": "executeCodeCell"
   },
   {
    "code": "The typing has implications on the generated viss, since nominal chart types are displayed as bar charts, whereas temporal fields are plotted as time series line charts.",
    "id": "4b7138e3c7e8430ca9c679ea2ab48d20",
    "order_count": 10,
    "time": "2020-07-22T03:58:16.467Z",
    "type": "selectMarkdownCell"
   },
   {
    "code": "from lux.vis.Vis import Vis\nvis = Vis([\"date\",\"value\"],df)\nvis",
    "id": "0c6a45ae9fa34381818f5a5c689618b8",
    "order_count": 11,
    "time": "2020-07-22T03:58:16.559Z",
    "type": "selectCodeCell"
   },
   {
    "code": "df = pd.DataFrame({'date': ['2020-02-01', '2020-03-01', '2020-04-01', '2020-05-01','2020-06-01',],\n                   'value': [10.5,15.2,20.3,25.2, 14.2]})\ndf",
    "id": "26206a60aa1a4c74a40eee54b13fc60f",
    "isPrintLuxDf": false,
    "isPrintPandasDf": true,
    "isPrintVis": false,
    "isPrintVisCollection": false,
    "order_count": 5,
    "time": "2020-07-22T03:58:16.582Z",
    "type": "completeCodeCell"
   },
   {
    "code": "df.dtypes",
    "id": "963f7d84d45f44c18eaccddf6da30038",
    "isPrintLuxDf": false,
    "isPrintPandasDf": false,
    "isPrintVis": false,
    "isPrintVisCollection": false,
    "order_count": 7,
    "time": "2020-07-22T03:58:16.587Z",
    "type": "completeCodeCell"
   },
   {
    "code": "df.data_type",
    "id": "013050b890ed4e94a255ad649616fac9",
    "isPrintLuxDf": false,
    "isPrintPandasDf": false,
    "isPrintVis": false,
    "isPrintVisCollection": false,
    "order_count": 9,
    "time": "2020-07-22T03:58:16.590Z",
    "type": "completeCodeCell"
   },
   {
    "code": "from lux.vis.Vis import Vis\nvis = Vis([\"date\",\"value\"],df)\nvis",
    "id": "0c6a45ae9fa34381818f5a5c689618b8",
    "order_count": 11,
    "time": "2020-07-22T03:58:16.630Z",
    "type": "executeCodeCell"
   },
   {
    "code": "To fix this, we can convert the `date` column into a datetime object by doing:",
    "id": "0ba893fc6bba4eaf8e3662875732565e",
    "order_count": 12,
    "time": "2020-07-22T03:58:16.637Z",
    "type": "selectMarkdownCell"
   },
   {
    "code": "from lux.vis.Vis import Vis\nvis = Vis([\"date\",\"value\"],df)\nvis",
    "id": "0c6a45ae9fa34381818f5a5c689618b8",
    "isPrintLuxDf": false,
    "isPrintPandasDf": false,
    "isPrintVis": true,
    "isPrintVisCollection": false,
    "order_count": 11,
    "time": "2020-07-22T03:58:16.672Z",
    "type": "completeCodeCell"
   },
   {
    "param": "",
    "time": "2020-07-22T03:58:16.687Z",
    "type": "initWidget"
   },
   {
    "code": "df['date'] = pd.to_datetime(df['date'],format=\"%Y-%m-%d\")\ndf['date']",
    "id": "c9059805d6104a329aff30bee0df619f",
    "order_count": 13,
    "time": "2020-07-22T03:58:16.724Z",
    "type": "selectCodeCell"
   },
   {
    "code": "df['date'] = pd.to_datetime(df['date'],format=\"%Y-%m-%d\")\ndf['date']",
    "id": "c9059805d6104a329aff30bee0df619f",
    "order_count": 13,
    "time": "2020-07-22T03:58:17.021Z",
    "type": "executeCodeCell"
   },
   {
    "code": "After changing the Pandas data type to datetime, we see that date field is recognized as temporal fields in Lux.",
    "id": "c226301622c8479e8d5218011f3d6ad9",
    "order_count": 14,
    "time": "2020-07-22T03:58:17.029Z",
    "type": "selectMarkdownCell"
   },
   {
    "code": "df['date'] = pd.to_datetime(df['date'],format=\"%Y-%m-%d\")\ndf['date']",
    "id": "c9059805d6104a329aff30bee0df619f",
    "isPrintLuxDf": false,
    "isPrintPandasDf": false,
    "isPrintVis": false,
    "isPrintVisCollection": false,
    "order_count": 13,
    "time": "2020-07-22T03:58:17.043Z",
    "type": "completeCodeCell"
   },
   {
    "code": "df.data_type",
    "id": "74eb3159d0b34723945348993fa9e8e1",
    "order_count": 15,
    "time": "2020-07-22T03:58:17.535Z",
    "type": "selectCodeCell"
   },
   {
    "code": "df.data_type",
    "id": "74eb3159d0b34723945348993fa9e8e1",
    "order_count": 15,
    "time": "2020-07-22T03:58:17.606Z",
    "type": "executeCodeCell"
   },
   {
    "code": "vis.refresh_source(df)\nvis",
    "id": "db8018345d114e0d926c9f273ebbd799",
    "order_count": 16,
    "time": "2020-07-22T03:58:17.622Z",
    "type": "selectCodeCell"
   },
   {
    "code": "df.data_type",
    "id": "74eb3159d0b34723945348993fa9e8e1",
    "isPrintLuxDf": false,
    "isPrintPandasDf": false,
    "isPrintVis": false,
    "isPrintVisCollection": false,
    "order_count": 15,
    "time": "2020-07-22T03:58:17.633Z",
    "type": "completeCodeCell"
   },
   {
    "code": "vis.refresh_source(df)\nvis",
    "id": "db8018345d114e0d926c9f273ebbd799",
    "order_count": 16,
    "time": "2020-07-22T03:58:17.919Z",
    "type": "executeCodeCell"
   },
   {
    "code": "## Advanced Date Manipulation\nYou might notice earlier that all the dates in our example dataset are the first of the month. In this case, there may be situations where we only want to list the year and month, instead of the full date. Here, we look at how to handle these cases.\n\nBelow we look at an example stocks dataset that also have `date` field with each row representing data for the first of each month.",
    "id": "2ff0daa85898446088e2abc26eaeb4b8",
    "order_count": 17,
    "time": "2020-07-22T03:58:17.927Z",
    "type": "selectMarkdownCell"
   },
   {
    "code": "vis.refresh_source(df)\nvis",
    "id": "db8018345d114e0d926c9f273ebbd799",
    "isPrintLuxDf": false,
    "isPrintPandasDf": false,
    "isPrintVis": true,
    "isPrintVisCollection": false,
    "order_count": 16,
    "time": "2020-07-22T03:58:17.968Z",
    "type": "completeCodeCell"
   },
   {
    "param": "",
    "time": "2020-07-22T03:58:17.978Z",
    "type": "initWidget"
   },
   {
    "code": "df = pd.read_csv(\"lux/data/stocks.csv\")\n\ndf.dtypes",
    "id": "660e772ed66648dba0001802649f2e53",
    "order_count": 18,
    "time": "2020-07-22T03:58:18.158Z",
    "type": "selectCodeCell"
   },
   {
    "code": "df = pd.read_csv(\"lux/data/stocks.csv\")\n\ndf.dtypes",
    "id": "660e772ed66648dba0001802649f2e53",
    "order_count": 18,
    "time": "2020-07-22T03:58:18.309Z",
    "type": "executeCodeCell"
   },
   {
    "code": "vis = Vis([\"date\",\"price\"],df)\nvis",
    "id": "5d2b5a08a17045a283edf915c5ff7f73",
    "order_count": 19,
    "time": "2020-07-22T03:58:18.325Z",
    "type": "selectCodeCell"
   },
   {
    "code": "df = pd.read_csv(\"lux/data/stocks.csv\")\n\ndf.dtypes",
    "id": "660e772ed66648dba0001802649f2e53",
    "isPrintLuxDf": false,
    "isPrintPandasDf": false,
    "isPrintVis": false,
    "isPrintVisCollection": false,
    "order_count": 18,
    "time": "2020-07-22T03:58:18.337Z",
    "type": "completeCodeCell"
   },
   {
    "code": "vis = Vis([\"date\",\"price\"],df)\nvis",
    "id": "5d2b5a08a17045a283edf915c5ff7f73",
    "order_count": 19,
    "time": "2020-07-22T03:58:18.774Z",
    "type": "executeCodeCell"
   },
   {
    "code": "If we only want Lux to output the month and the year, we can convert the columnn to a [`PeriodIndex`](https://pandas.pydata.org/pandas-docs/stable/reference/api/pandas.PeriodIndex.html) using [`to_period`](https://pandas.pydata.org/pandas-docs/stable/reference/api/pandas.DatetimeIndex.to_period.html). The `freq` argument specifies the granularity of the output. In this case, we are using 'M' for monthly. You can find more about how to specify time periods [here](https://pandas.pydata.org/pandas-docs/stable/user_guide/timeseries.html#dateoffset-objects).",
    "id": "7adeb78f74a149af9787f3b5f20b7ca2",
    "order_count": 20,
    "time": "2020-07-22T03:58:18.781Z",
    "type": "selectMarkdownCell"
   },
   {
    "code": "vis = Vis([\"date\",\"price\"],df)\nvis",
    "id": "5d2b5a08a17045a283edf915c5ff7f73",
    "isPrintLuxDf": false,
    "isPrintPandasDf": false,
    "isPrintVis": true,
    "isPrintVisCollection": false,
    "order_count": 19,
    "time": "2020-07-22T03:58:18.824Z",
    "type": "completeCodeCell"
   },
   {
    "param": "",
    "time": "2020-07-22T03:58:18.834Z",
    "type": "initWidget"
   },
   {
    "code": "df[\"date\"] = pd.DatetimeIndex(df[\"date\"]).to_period(freq='M')",
    "id": "7233028925854dd286169564055ccfbd",
    "order_count": 21,
    "time": "2020-07-22T03:58:19.138Z",
    "type": "selectCodeCell"
   },
   {
    "code": "df[\"date\"] = pd.DatetimeIndex(df[\"date\"]).to_period(freq='M')",
    "id": "7233028925854dd286169564055ccfbd",
    "order_count": 21,
    "time": "2020-07-22T03:58:19.399Z",
    "type": "executeCodeCell"
   },
   {
    "code": "vis.refresh_source(df)\nvis",
    "id": "1a72cb8910824ede9ecec41633e8fe85",
    "order_count": 22,
    "time": "2020-07-22T03:58:19.415Z",
    "type": "selectCodeCell"
   },
   {
    "code": "df[\"date\"] = pd.DatetimeIndex(df[\"date\"]).to_period(freq='M')",
    "id": "7233028925854dd286169564055ccfbd",
    "isPrintLuxDf": false,
    "isPrintPandasDf": false,
    "isPrintVis": false,
    "isPrintVisCollection": false,
    "order_count": 21,
    "time": "2020-07-22T03:58:19.421Z",
    "type": "completeCodeCell"
   },
   {
    "code": "vis.refresh_source(df)\nvis",
    "id": "1a72cb8910824ede9ecec41633e8fe85",
    "order_count": 22,
    "time": "2020-07-22T03:58:19.862Z",
    "type": "executeCodeCell"
   },
   {
    "code": "df['date']",
    "id": "13290d9f3abe41479715269db140bef3",
    "order_count": 23,
    "time": "2020-07-22T03:58:19.875Z",
    "type": "selectCodeCell"
   },
   {
    "code": "vis.refresh_source(df)\nvis",
    "id": "1a72cb8910824ede9ecec41633e8fe85",
    "isPrintLuxDf": false,
    "isPrintPandasDf": false,
    "isPrintVis": true,
    "isPrintVisCollection": false,
    "order_count": 22,
    "time": "2020-07-22T03:58:19.923Z",
    "type": "completeCodeCell"
   },
   {
    "param": "",
    "time": "2020-07-22T03:58:19.927Z",
    "type": "initWidget"
   },
   {
    "code": "df['date']",
    "id": "13290d9f3abe41479715269db140bef3",
    "order_count": 23,
    "time": "2020-07-22T03:58:20.125Z",
    "type": "executeCodeCell"
   },
   {
    "code": "## Querying With Datetime Fields\nThe string representation seen in the Dataframe can be used to filter out certain dates. \nFor example, in the above `stocks` dataset, we converted the date column to a `PeriodIndex`. Now the string representation only shows the granularity we want to see. \n\nWe can use that string representation to filter the dataframe in Pandas:",
    "id": "95b8609d2f34485c880c9a931e952bbf",
    "order_count": 24,
    "time": "2020-07-22T03:58:20.133Z",
    "type": "selectMarkdownCell"
   },
   {
    "code": "df['date']",
    "id": "13290d9f3abe41479715269db140bef3",
    "isPrintLuxDf": false,
    "isPrintPandasDf": false,
    "isPrintVis": false,
    "isPrintVisCollection": false,
    "order_count": 23,
    "time": "2020-07-22T03:58:20.147Z",
    "type": "completeCodeCell"
   },
   {
    "code": "rdf = df[df['date'] == '2008-11']\nrdf ",
    "id": "045de606aaf445808f0105328f30c64e",
    "order_count": 25,
    "time": "2020-07-22T03:58:20.668Z",
    "type": "selectCodeCell"
   },
   {
    "code": "rdf = df[df['date'] == '2008-11']\nrdf ",
    "id": "045de606aaf445808f0105328f30c64e",
    "order_count": 25,
    "time": "2020-07-22T03:58:20.943Z",
    "type": "executeCodeCell"
   },
   {
    "code": "rdf.recommendation0",
    "id": "4acd1d399f2f4582a819093f08ab64b9",
    "order_count": 26,
    "time": "2020-07-22T03:58:20.959Z",
    "type": "selectCodeCell"
   },
   {
    "code": "rdf = df[df['date'] == '2008-11']\nrdf ",
    "id": "045de606aaf445808f0105328f30c64e",
    "isPrintLuxDf": false,
    "isPrintPandasDf": true,
    "isPrintVis": false,
    "isPrintVisCollection": false,
    "order_count": 25,
    "time": "2020-07-22T03:58:21.169Z",
    "type": "completeCodeCell"
   },
   {
    "code": "rdf = df[df['date'] == '2008-11']\nrdf ",
    "id": "045de606aaf445808f0105328f30c64e",
    "order_count": 25,
    "time": "2020-07-22T03:58:23.569Z",
    "type": "selectCodeCell"
   },
   {
    "param": "",
    "time": "2020-07-22T03:58:23.592Z",
    "type": "initWidget"
   },
   {
    "param": "",
    "time": "2020-07-22T03:58:23.661Z",
    "type": "initWidget"
   },
   {
    "code": "rdf = df[df['date'] == '2008-11']\nrdf ",
    "id": "045de606aaf445808f0105328f30c64e",
    "order_count": 25,
    "time": "2020-07-22T03:58:24.877Z",
    "type": "selectCodeCell"
   },
   {
    "param": "Temporal",
    "time": "2020-07-22T03:58:24.879Z",
    "type": "switchTab"
   },
   {
    "code": "rdf.recommendation0",
    "id": "4acd1d399f2f4582a819093f08ab64b9",
    "order_count": 26,
    "time": "2020-07-22T03:58:34.484Z",
    "type": "selectCodeCell"
   },
   {
    "code": "rdf.recommendation0",
    "id": "4acd1d399f2f4582a819093f08ab64b9",
    "order_count": 26,
    "time": "2020-07-22T03:58:34.490Z",
    "type": "editCodeCell"
   },
   {
    "code": "rdf.recommendation0",
    "id": "4acd1d399f2f4582a819093f08ab64b9",
    "order_count": 26,
    "time": "2020-07-22T03:58:34.570Z",
    "type": "selectCodeCell"
   },
   {
    "code": "rdf.recommendation",
    "id": "4acd1d399f2f4582a819093f08ab64b9",
    "order_count": 26,
    "time": "2020-07-22T03:58:35.736Z",
    "type": "executeCodeCell"
   },
   {
    "code": "rdf.data_type",
    "id": "0e1e7379820c4cabbdd0b0b7e003b066",
    "order_count": 27,
    "time": "2020-07-22T03:58:35.767Z",
    "type": "selectCodeCell"
   },
   {
    "code": "rdf.recommendation",
    "id": "4acd1d399f2f4582a819093f08ab64b9",
    "isPrintLuxDf": false,
    "isPrintPandasDf": false,
    "isPrintVis": false,
    "isPrintVisCollection": true,
    "order_count": 26,
    "time": "2020-07-22T03:58:35.777Z",
    "type": "completeCodeCell"
   },
   {
    "code": "rdf = df[df['date'] == '2008-11']\nrdf ",
    "id": "045de606aaf445808f0105328f30c64e",
    "order_count": 25,
    "time": "2020-07-22T04:00:19.900Z",
    "type": "selectCodeCell"
   },
   {
    "time": "2020-07-22T04:00:21.573Z",
    "type": "kernelRestart"
   },
   {
    "code": "## Querying With Datetime Fields\nThe string representation seen in the Dataframe can be used to filter out certain dates. \nFor example, in the above `stocks` dataset, we converted the date column to a `PeriodIndex`. Now the string representation only shows the granularity we want to see. \n\nWe can use that string representation to filter the dataframe in Pandas:",
    "id": "95b8609d2f34485c880c9a931e952bbf",
    "order_count": 24,
    "time": "2020-07-22T04:00:22.100Z",
    "type": "selectMarkdownCell"
   },
   {
    "code": "df['date']",
    "id": "13290d9f3abe41479715269db140bef3",
    "order_count": 23,
    "time": "2020-07-22T04:00:22.274Z",
    "type": "selectCodeCell"
   },
   {
    "time": "2020-07-22T04:00:22.338Z",
    "type": "kernelReady"
   },
   {
    "code": "vis.refresh_source(df)\nvis",
    "id": "1a72cb8910824ede9ecec41633e8fe85",
    "order_count": 22,
    "time": "2020-07-22T04:00:22.435Z",
    "type": "selectCodeCell"
   },
   {
    "code": "df[\"date\"] = pd.DatetimeIndex(df[\"date\"]).to_period(freq='M')",
    "id": "7233028925854dd286169564055ccfbd",
    "order_count": 21,
    "time": "2020-07-22T04:00:22.568Z",
    "type": "selectCodeCell"
   },
   {
    "code": "If we only want Lux to output the month and the year, we can convert the columnn to a [`PeriodIndex`](https://pandas.pydata.org/pandas-docs/stable/reference/api/pandas.PeriodIndex.html) using [`to_period`](https://pandas.pydata.org/pandas-docs/stable/reference/api/pandas.DatetimeIndex.to_period.html). The `freq` argument specifies the granularity of the output. In this case, we are using 'M' for monthly. You can find more about how to specify time periods [here](https://pandas.pydata.org/pandas-docs/stable/user_guide/timeseries.html#dateoffset-objects).",
    "id": "7adeb78f74a149af9787f3b5f20b7ca2",
    "order_count": 20,
    "time": "2020-07-22T04:00:23.065Z",
    "type": "selectMarkdownCell"
   },
   {
    "code": "vis = Vis([\"date\",\"price\"],df)\nvis",
    "id": "5d2b5a08a17045a283edf915c5ff7f73",
    "order_count": 19,
    "time": "2020-07-22T04:00:23.157Z",
    "type": "selectCodeCell"
   },
   {
    "code": "df = pd.read_csv(\"lux/data/stocks.csv\")\n\ndf.dtypes",
    "id": "660e772ed66648dba0001802649f2e53",
    "order_count": 18,
    "time": "2020-07-22T04:00:23.243Z",
    "type": "selectCodeCell"
   },
   {
    "code": "## Advanced Date Manipulation\nYou might notice earlier that all the dates in our example dataset are the first of the month. In this case, there may be situations where we only want to list the year and month, instead of the full date. Here, we look at how to handle these cases.\n\nBelow we look at an example stocks dataset that also have `date` field with each row representing data for the first of each month.",
    "id": "2ff0daa85898446088e2abc26eaeb4b8",
    "order_count": 17,
    "time": "2020-07-22T04:00:23.318Z",
    "type": "selectMarkdownCell"
   },
   {
    "code": "vis.refresh_source(df)\nvis",
    "id": "db8018345d114e0d926c9f273ebbd799",
    "order_count": 16,
    "time": "2020-07-22T04:00:23.409Z",
    "type": "selectCodeCell"
   },
   {
    "code": "df.data_type",
    "id": "74eb3159d0b34723945348993fa9e8e1",
    "order_count": 15,
    "time": "2020-07-22T04:00:23.492Z",
    "type": "selectCodeCell"
   },
   {
    "code": "After changing the Pandas data type to datetime, we see that date field is recognized as temporal fields in Lux.",
    "id": "c226301622c8479e8d5218011f3d6ad9",
    "order_count": 14,
    "time": "2020-07-22T04:00:23.568Z",
    "type": "selectMarkdownCell"
   },
   {
    "code": "df['date'] = pd.to_datetime(df['date'],format=\"%Y-%m-%d\")\ndf['date']",
    "id": "c9059805d6104a329aff30bee0df619f",
    "order_count": 13,
    "time": "2020-07-22T04:00:23.660Z",
    "type": "selectCodeCell"
   },
   {
    "code": "To fix this, we can convert the `date` column into a datetime object by doing:",
    "id": "0ba893fc6bba4eaf8e3662875732565e",
    "order_count": 12,
    "time": "2020-07-22T04:00:23.737Z",
    "type": "selectMarkdownCell"
   },
   {
    "code": "from lux.vis.Vis import Vis\nvis = Vis([\"date\",\"value\"],df)\nvis",
    "id": "0c6a45ae9fa34381818f5a5c689618b8",
    "order_count": 11,
    "time": "2020-07-22T04:00:23.829Z",
    "type": "selectCodeCell"
   },
   {
    "code": "The typing has implications on the generated viss, since nominal chart types are displayed as bar charts, whereas temporal fields are plotted as time series line charts.",
    "id": "4b7138e3c7e8430ca9c679ea2ab48d20",
    "order_count": 10,
    "time": "2020-07-22T04:00:23.904Z",
    "type": "selectMarkdownCell"
   },
   {
    "code": "df.data_type",
    "id": "013050b890ed4e94a255ad649616fac9",
    "order_count": 9,
    "time": "2020-07-22T04:00:23.992Z",
    "type": "selectCodeCell"
   },
   {
    "code": "Since `date` is detected as an object type in Pandas, in Lux the `date` field is recognized as a `nominal` field, instead of a `temporal` field:",
    "id": "63ee1e0a7426406780b88b20ce857553",
    "order_count": 8,
    "time": "2020-07-22T04:00:24.070Z",
    "type": "selectMarkdownCell"
   },
   {
    "code": "df.dtypes",
    "id": "963f7d84d45f44c18eaccddf6da30038",
    "order_count": 7,
    "time": "2020-07-22T04:00:24.159Z",
    "type": "selectCodeCell"
   },
   {
    "code": "This is the types detected in Pandas's data type [`dtype`](https://pandas.pydata.org/pandas-docs/stable/reference/api/pandas.DataFrame.dtypes.html):",
    "id": "b9da7a733208495e949577ded41b35a9",
    "order_count": 6,
    "time": "2020-07-22T04:00:24.237Z",
    "type": "selectMarkdownCell"
   },
   {
    "code": "df = pd.DataFrame({'date': ['2020-02-01', '2020-03-01', '2020-04-01', '2020-05-01','2020-06-01',],\n                   'value': [10.5,15.2,20.3,25.2, 14.2]})\ndf",
    "id": "26206a60aa1a4c74a40eee54b13fc60f",
    "order_count": 5,
    "time": "2020-07-22T04:00:24.329Z",
    "type": "selectCodeCell"
   },
   {
    "code": "### Example:\n\nAs an example, a dataframe might contain a `date` attribute as strings of dates:",
    "id": "a1f72ab4dd6343be8669b84736ccaba8",
    "order_count": 4,
    "time": "2020-07-22T04:00:24.407Z",
    "type": "selectMarkdownCell"
   },
   {
    "code": "## Converting Strings to Datetime objects\nTo convert column referencing dates/times into [`datetime`](https://docs.python.org/3/library/datetime.html) objects, we use [`pd.to_datetime`](https://pandas.pydata.org/pandas-docs/stable/reference/api/pandas.to_datetime.html).\n\n### Summary: \n\n```\npd.to_datetime(['2020-01-01', '2020-01-15', '2020-02-01'],format=\"%Y-%m-%d\")\n```",
    "id": "7f9babde8d2740f28304e4d51258d434",
    "order_count": 3,
    "time": "2020-07-22T04:00:24.486Z",
    "type": "selectMarkdownCell"
   },
   {
    "code": "import pandas as pd\nimport lux",
    "id": "866632a5a3e44af98a6157e5225e002d",
    "order_count": 2,
    "time": "2020-07-22T04:00:24.578Z",
    "type": "selectCodeCell"
   },
   {
    "code": "cd ..",
    "id": "7ad26935cb0a443b815145d99d228f47",
    "order_count": 1,
    "time": "2020-07-22T04:00:24.660Z",
    "type": "selectCodeCell"
   },
   {
    "code": "# Datetime Tutorial\nThis is a tutorial on how to prepare temporal data for use with Lux. To display temporal fields appropriately in Lux, the column must be converted into Pandas's [`datetime`](https://docs.python.org/3/library/datetime.html) objects. ",
    "id": "930a33f9a7cd43e1842e90c0bc2dde05",
    "order_count": 0,
    "time": "2020-07-22T04:00:24.737Z",
    "type": "selectMarkdownCell"
   },
   {
    "code": "cd ..",
    "id": "7ad26935cb0a443b815145d99d228f47",
    "order_count": 1,
    "time": "2020-07-22T04:00:25.380Z",
    "type": "selectCodeCell"
   },
   {
    "code": "cd ..",
    "id": "7ad26935cb0a443b815145d99d228f47",
    "order_count": 1,
    "time": "2020-07-22T04:00:25.868Z",
    "type": "executeCodeCell"
   },
   {
    "code": "import pandas as pd\nimport lux",
    "id": "866632a5a3e44af98a6157e5225e002d",
    "order_count": 2,
    "time": "2020-07-22T04:00:25.883Z",
    "type": "selectCodeCell"
   },
   {
    "code": "cd ..",
    "id": "7ad26935cb0a443b815145d99d228f47",
    "isPrintLuxDf": false,
    "isPrintPandasDf": false,
    "isPrintVis": false,
    "isPrintVisCollection": false,
    "order_count": 1,
    "time": "2020-07-22T04:00:25.896Z",
    "type": "completeCodeCell"
   },
   {
    "code": "import pandas as pd\nimport lux",
    "id": "866632a5a3e44af98a6157e5225e002d",
    "order_count": 2,
    "time": "2020-07-22T04:00:25.951Z",
    "type": "executeCodeCell"
   },
   {
    "code": "## Converting Strings to Datetime objects\nTo convert column referencing dates/times into [`datetime`](https://docs.python.org/3/library/datetime.html) objects, we use [`pd.to_datetime`](https://pandas.pydata.org/pandas-docs/stable/reference/api/pandas.to_datetime.html).\n\n### Summary: \n\n```\npd.to_datetime(['2020-01-01', '2020-01-15', '2020-02-01'],format=\"%Y-%m-%d\")\n```",
    "id": "7f9babde8d2740f28304e4d51258d434",
    "order_count": 3,
    "time": "2020-07-22T04:00:25.957Z",
    "type": "selectMarkdownCell"
   },
   {
    "code": "### Example:\n\nAs an example, a dataframe might contain a `date` attribute as strings of dates:",
    "id": "a1f72ab4dd6343be8669b84736ccaba8",
    "order_count": 4,
    "time": "2020-07-22T04:00:26.038Z",
    "type": "selectMarkdownCell"
   },
   {
    "code": "df = pd.DataFrame({'date': ['2020-02-01', '2020-03-01', '2020-04-01', '2020-05-01','2020-06-01',],\n                   'value': [10.5,15.2,20.3,25.2, 14.2]})\ndf",
    "id": "26206a60aa1a4c74a40eee54b13fc60f",
    "order_count": 5,
    "time": "2020-07-22T04:00:26.132Z",
    "type": "selectCodeCell"
   },
   {
    "code": "df = pd.DataFrame({'date': ['2020-02-01', '2020-03-01', '2020-04-01', '2020-05-01','2020-06-01',],\n                   'value': [10.5,15.2,20.3,25.2, 14.2]})\ndf",
    "id": "26206a60aa1a4c74a40eee54b13fc60f",
    "order_count": 5,
    "time": "2020-07-22T04:00:26.204Z",
    "type": "executeCodeCell"
   },
   {
    "code": "This is the types detected in Pandas's data type [`dtype`](https://pandas.pydata.org/pandas-docs/stable/reference/api/pandas.DataFrame.dtypes.html):",
    "id": "b9da7a733208495e949577ded41b35a9",
    "order_count": 6,
    "time": "2020-07-22T04:00:26.212Z",
    "type": "selectMarkdownCell"
   },
   {
    "code": "df.dtypes",
    "id": "963f7d84d45f44c18eaccddf6da30038",
    "order_count": 7,
    "time": "2020-07-22T04:00:26.298Z",
    "type": "selectCodeCell"
   },
   {
    "code": "import pandas as pd\nimport lux",
    "id": "866632a5a3e44af98a6157e5225e002d",
    "isPrintLuxDf": false,
    "isPrintPandasDf": false,
    "isPrintVis": false,
    "isPrintVisCollection": false,
    "order_count": 2,
    "time": "2020-07-22T04:00:26.305Z",
    "type": "completeCodeCell"
   },
   {
    "code": "df.dtypes",
    "id": "963f7d84d45f44c18eaccddf6da30038",
    "order_count": 7,
    "time": "2020-07-22T04:00:26.370Z",
    "type": "executeCodeCell"
   },
   {
    "code": "Since `date` is detected as an object type in Pandas, in Lux the `date` field is recognized as a `nominal` field, instead of a `temporal` field:",
    "id": "63ee1e0a7426406780b88b20ce857553",
    "order_count": 8,
    "time": "2020-07-22T04:00:26.376Z",
    "type": "selectMarkdownCell"
   },
   {
    "code": "df.data_type",
    "id": "013050b890ed4e94a255ad649616fac9",
    "order_count": 9,
    "time": "2020-07-22T04:00:26.464Z",
    "type": "selectCodeCell"
   },
   {
    "code": "df.data_type",
    "id": "013050b890ed4e94a255ad649616fac9",
    "order_count": 9,
    "time": "2020-07-22T04:00:26.538Z",
    "type": "executeCodeCell"
   },
   {
    "code": "The typing has implications on the generated viss, since nominal chart types are displayed as bar charts, whereas temporal fields are plotted as time series line charts.",
    "id": "4b7138e3c7e8430ca9c679ea2ab48d20",
    "order_count": 10,
    "time": "2020-07-22T04:00:26.544Z",
    "type": "selectMarkdownCell"
   },
   {
    "code": "from lux.vis.Vis import Vis\nvis = Vis([\"date\",\"value\"],df)\nvis",
    "id": "0c6a45ae9fa34381818f5a5c689618b8",
    "order_count": 11,
    "time": "2020-07-22T04:00:26.630Z",
    "type": "selectCodeCell"
   },
   {
    "code": "df = pd.DataFrame({'date': ['2020-02-01', '2020-03-01', '2020-04-01', '2020-05-01','2020-06-01',],\n                   'value': [10.5,15.2,20.3,25.2, 14.2]})\ndf",
    "id": "26206a60aa1a4c74a40eee54b13fc60f",
    "isPrintLuxDf": false,
    "isPrintPandasDf": true,
    "isPrintVis": false,
    "isPrintVisCollection": false,
    "order_count": 5,
    "time": "2020-07-22T04:00:26.656Z",
    "type": "completeCodeCell"
   },
   {
    "code": "df.dtypes",
    "id": "963f7d84d45f44c18eaccddf6da30038",
    "isPrintLuxDf": false,
    "isPrintPandasDf": false,
    "isPrintVis": false,
    "isPrintVisCollection": false,
    "order_count": 7,
    "time": "2020-07-22T04:00:26.669Z",
    "type": "completeCodeCell"
   },
   {
    "code": "df.data_type",
    "id": "013050b890ed4e94a255ad649616fac9",
    "isPrintLuxDf": false,
    "isPrintPandasDf": false,
    "isPrintVis": false,
    "isPrintVisCollection": false,
    "order_count": 9,
    "time": "2020-07-22T04:00:26.673Z",
    "type": "completeCodeCell"
   },
   {
    "code": "from lux.vis.Vis import Vis\nvis = Vis([\"date\",\"value\"],df)\nvis",
    "id": "0c6a45ae9fa34381818f5a5c689618b8",
    "order_count": 11,
    "time": "2020-07-22T04:00:26.705Z",
    "type": "executeCodeCell"
   },
   {
    "code": "To fix this, we can convert the `date` column into a datetime object by doing:",
    "id": "0ba893fc6bba4eaf8e3662875732565e",
    "order_count": 12,
    "time": "2020-07-22T04:00:26.713Z",
    "type": "selectMarkdownCell"
   },
   {
    "code": "from lux.vis.Vis import Vis\nvis = Vis([\"date\",\"value\"],df)\nvis",
    "id": "0c6a45ae9fa34381818f5a5c689618b8",
    "isPrintLuxDf": false,
    "isPrintPandasDf": false,
    "isPrintVis": true,
    "isPrintVisCollection": false,
    "order_count": 11,
    "time": "2020-07-22T04:00:26.748Z",
    "type": "completeCodeCell"
   },
   {
    "param": "",
    "time": "2020-07-22T04:00:26.755Z",
    "type": "initWidget"
   },
   {
    "code": "df['date'] = pd.to_datetime(df['date'],format=\"%Y-%m-%d\")\ndf['date']",
    "id": "c9059805d6104a329aff30bee0df619f",
    "order_count": 13,
    "time": "2020-07-22T04:00:26.797Z",
    "type": "selectCodeCell"
   },
   {
    "code": "df['date'] = pd.to_datetime(df['date'],format=\"%Y-%m-%d\")\ndf['date']",
    "id": "c9059805d6104a329aff30bee0df619f",
    "order_count": 13,
    "time": "2020-07-22T04:00:26.872Z",
    "type": "executeCodeCell"
   },
   {
    "code": "After changing the Pandas data type to datetime, we see that date field is recognized as temporal fields in Lux.",
    "id": "c226301622c8479e8d5218011f3d6ad9",
    "order_count": 14,
    "time": "2020-07-22T04:00:26.880Z",
    "type": "selectMarkdownCell"
   },
   {
    "code": "df['date'] = pd.to_datetime(df['date'],format=\"%Y-%m-%d\")\ndf['date']",
    "id": "c9059805d6104a329aff30bee0df619f",
    "isPrintLuxDf": false,
    "isPrintPandasDf": false,
    "isPrintVis": false,
    "isPrintVisCollection": false,
    "order_count": 13,
    "time": "2020-07-22T04:00:26.894Z",
    "type": "completeCodeCell"
   },
   {
    "code": "df.data_type",
    "id": "74eb3159d0b34723945348993fa9e8e1",
    "order_count": 15,
    "time": "2020-07-22T04:00:26.967Z",
    "type": "selectCodeCell"
   },
   {
    "code": "df.data_type",
    "id": "74eb3159d0b34723945348993fa9e8e1",
    "order_count": 15,
    "time": "2020-07-22T04:00:27.041Z",
    "type": "executeCodeCell"
   },
   {
    "code": "vis.refresh_source(df)\nvis",
    "id": "db8018345d114e0d926c9f273ebbd799",
    "order_count": 16,
    "time": "2020-07-22T04:00:27.056Z",
    "type": "selectCodeCell"
   },
   {
    "code": "df.data_type",
    "id": "74eb3159d0b34723945348993fa9e8e1",
    "isPrintLuxDf": false,
    "isPrintPandasDf": false,
    "isPrintVis": false,
    "isPrintVisCollection": false,
    "order_count": 15,
    "time": "2020-07-22T04:00:27.068Z",
    "type": "completeCodeCell"
   },
   {
    "code": "vis.refresh_source(df)\nvis",
    "id": "db8018345d114e0d926c9f273ebbd799",
    "order_count": 16,
    "time": "2020-07-22T04:00:27.128Z",
    "type": "executeCodeCell"
   },
   {
    "code": "## Advanced Date Manipulation\nYou might notice earlier that all the dates in our example dataset are the first of the month. In this case, there may be situations where we only want to list the year and month, instead of the full date. Here, we look at how to handle these cases.\n\nBelow we look at an example stocks dataset that also have `date` field with each row representing data for the first of each month.",
    "id": "2ff0daa85898446088e2abc26eaeb4b8",
    "order_count": 17,
    "time": "2020-07-22T04:00:27.135Z",
    "type": "selectMarkdownCell"
   },
   {
    "code": "vis.refresh_source(df)\nvis",
    "id": "db8018345d114e0d926c9f273ebbd799",
    "isPrintLuxDf": false,
    "isPrintPandasDf": false,
    "isPrintVis": true,
    "isPrintVisCollection": false,
    "order_count": 16,
    "time": "2020-07-22T04:00:27.173Z",
    "type": "completeCodeCell"
   },
   {
    "param": "",
    "time": "2020-07-22T04:00:27.182Z",
    "type": "initWidget"
   },
   {
    "code": "df = pd.read_csv(\"lux/data/stocks.csv\")\n\ndf.dtypes",
    "id": "660e772ed66648dba0001802649f2e53",
    "order_count": 18,
    "time": "2020-07-22T04:00:27.219Z",
    "type": "selectCodeCell"
   },
   {
    "code": "df = pd.read_csv(\"lux/data/stocks.csv\")\n\ndf.dtypes",
    "id": "660e772ed66648dba0001802649f2e53",
    "order_count": 18,
    "time": "2020-07-22T04:00:27.552Z",
    "type": "executeCodeCell"
   },
   {
    "code": "vis = Vis([\"date\",\"price\"],df)\nvis",
    "id": "5d2b5a08a17045a283edf915c5ff7f73",
    "order_count": 19,
    "time": "2020-07-22T04:00:27.569Z",
    "type": "selectCodeCell"
   },
   {
    "code": "df = pd.read_csv(\"lux/data/stocks.csv\")\n\ndf.dtypes",
    "id": "660e772ed66648dba0001802649f2e53",
    "isPrintLuxDf": false,
    "isPrintPandasDf": false,
    "isPrintVis": false,
    "isPrintVisCollection": false,
    "order_count": 18,
    "time": "2020-07-22T04:00:27.579Z",
    "type": "completeCodeCell"
   },
   {
    "code": "vis = Vis([\"date\",\"price\"],df)\nvis",
    "id": "5d2b5a08a17045a283edf915c5ff7f73",
    "order_count": 19,
    "time": "2020-07-22T04:00:27.752Z",
    "type": "executeCodeCell"
   },
   {
    "code": "If we only want Lux to output the month and the year, we can convert the columnn to a [`PeriodIndex`](https://pandas.pydata.org/pandas-docs/stable/reference/api/pandas.PeriodIndex.html) using [`to_period`](https://pandas.pydata.org/pandas-docs/stable/reference/api/pandas.DatetimeIndex.to_period.html). The `freq` argument specifies the granularity of the output. In this case, we are using 'M' for monthly. You can find more about how to specify time periods [here](https://pandas.pydata.org/pandas-docs/stable/user_guide/timeseries.html#dateoffset-objects).",
    "id": "7adeb78f74a149af9787f3b5f20b7ca2",
    "order_count": 20,
    "time": "2020-07-22T04:00:27.759Z",
    "type": "selectMarkdownCell"
   },
   {
    "code": "vis = Vis([\"date\",\"price\"],df)\nvis",
    "id": "5d2b5a08a17045a283edf915c5ff7f73",
    "isPrintLuxDf": false,
    "isPrintPandasDf": false,
    "isPrintVis": true,
    "isPrintVisCollection": false,
    "order_count": 19,
    "time": "2020-07-22T04:00:27.802Z",
    "type": "completeCodeCell"
   },
   {
    "param": "",
    "time": "2020-07-22T04:00:27.812Z",
    "type": "initWidget"
   },
   {
    "code": "df[\"date\"] = pd.DatetimeIndex(df[\"date\"]).to_period(freq='M')",
    "id": "7233028925854dd286169564055ccfbd",
    "order_count": 21,
    "time": "2020-07-22T04:00:27.924Z",
    "type": "selectCodeCell"
   },
   {
    "code": "df[\"date\"] = pd.DatetimeIndex(df[\"date\"]).to_period(freq='M')",
    "id": "7233028925854dd286169564055ccfbd",
    "order_count": 21,
    "time": "2020-07-22T04:00:28.288Z",
    "type": "executeCodeCell"
   },
   {
    "code": "vis.refresh_source(df)\nvis",
    "id": "1a72cb8910824ede9ecec41633e8fe85",
    "order_count": 22,
    "time": "2020-07-22T04:00:28.303Z",
    "type": "selectCodeCell"
   },
   {
    "code": "df[\"date\"] = pd.DatetimeIndex(df[\"date\"]).to_period(freq='M')",
    "id": "7233028925854dd286169564055ccfbd",
    "isPrintLuxDf": false,
    "isPrintPandasDf": false,
    "isPrintVis": false,
    "isPrintVisCollection": false,
    "order_count": 21,
    "time": "2020-07-22T04:00:28.309Z",
    "type": "completeCodeCell"
   },
   {
    "code": "vis.refresh_source(df)\nvis",
    "id": "1a72cb8910824ede9ecec41633e8fe85",
    "order_count": 22,
    "time": "2020-07-22T04:00:28.569Z",
    "type": "executeCodeCell"
   },
   {
    "code": "df['date']",
    "id": "13290d9f3abe41479715269db140bef3",
    "order_count": 23,
    "time": "2020-07-22T04:00:28.584Z",
    "type": "selectCodeCell"
   },
   {
    "code": "vis.refresh_source(df)\nvis",
    "id": "1a72cb8910824ede9ecec41633e8fe85",
    "isPrintLuxDf": false,
    "isPrintPandasDf": false,
    "isPrintVis": true,
    "isPrintVisCollection": false,
    "order_count": 22,
    "time": "2020-07-22T04:00:28.632Z",
    "type": "completeCodeCell"
   },
   {
    "param": "",
    "time": "2020-07-22T04:00:28.641Z",
    "type": "initWidget"
   },
   {
    "code": "df['date']",
    "id": "13290d9f3abe41479715269db140bef3",
    "order_count": 23,
    "time": "2020-07-22T04:00:28.953Z",
    "type": "executeCodeCell"
   },
   {
    "code": "## Querying With Datetime Fields\nThe string representation seen in the Dataframe can be used to filter out certain dates. \nFor example, in the above `stocks` dataset, we converted the date column to a `PeriodIndex`. Now the string representation only shows the granularity we want to see. \n\nWe can use that string representation to filter the dataframe in Pandas:",
    "id": "95b8609d2f34485c880c9a931e952bbf",
    "order_count": 24,
    "time": "2020-07-22T04:00:28.961Z",
    "type": "selectMarkdownCell"
   },
   {
    "code": "df['date']",
    "id": "13290d9f3abe41479715269db140bef3",
    "isPrintLuxDf": false,
    "isPrintPandasDf": false,
    "isPrintVis": false,
    "isPrintVisCollection": false,
    "order_count": 23,
    "time": "2020-07-22T04:00:28.966Z",
    "type": "completeCodeCell"
   },
   {
    "code": "rdf = df[df['date'] == '2008-11']\nrdf ",
    "id": "045de606aaf445808f0105328f30c64e",
    "order_count": 25,
    "time": "2020-07-22T04:00:29.344Z",
    "type": "selectCodeCell"
   },
   {
    "code": "rdf = df[df['date'] == '2008-11']\nrdf ",
    "id": "045de606aaf445808f0105328f30c64e",
    "order_count": 25,
    "time": "2020-07-22T04:00:29.609Z",
    "type": "executeCodeCell"
   },
   {
    "code": "rdf.recommendation",
    "id": "4acd1d399f2f4582a819093f08ab64b9",
    "order_count": 26,
    "time": "2020-07-22T04:00:29.622Z",
    "type": "selectCodeCell"
   },
   {
    "code": "rdf = df[df['date'] == '2008-11']\nrdf ",
    "id": "045de606aaf445808f0105328f30c64e",
    "isPrintLuxDf": false,
    "isPrintPandasDf": true,
    "isPrintVis": false,
    "isPrintVisCollection": false,
    "order_count": 25,
    "time": "2020-07-22T04:00:29.834Z",
    "type": "completeCodeCell"
   },
   {
    "code": "rdf = df[df['date'] == '2008-11']\nrdf ",
    "id": "045de606aaf445808f0105328f30c64e",
    "order_count": 25,
    "time": "2020-07-22T04:00:59.718Z",
    "type": "selectCodeCell"
   },
   {
    "code": "rdf = df[df['date'] == '2008-11']\nrdf ",
    "id": "045de606aaf445808f0105328f30c64e",
    "order_count": 25,
    "time": "2020-07-22T04:00:59.724Z",
    "type": "editCodeCell"
   },
   {
    "time": "2020-07-22T04:01:01.166Z",
    "type": "kernelRestart"
   },
   {
    "code": "rdf = df[df['date'] == '2008-11']\nrdf ",
    "id": "045de606aaf445808f0105328f30c64e",
    "order_count": 25,
    "time": "2020-07-22T04:01:01.683Z",
    "type": "editCodeCell"
   },
   {
    "time": "2020-07-22T04:01:01.996Z",
    "type": "kernelReady"
   },
   {
    "code": "## Querying With Datetime Fields\nThe string representation seen in the Dataframe can be used to filter out certain dates. \nFor example, in the above `stocks` dataset, we converted the date column to a `PeriodIndex`. Now the string representation only shows the granularity we want to see. \n\nWe can use that string representation to filter the dataframe in Pandas:",
    "id": "95b8609d2f34485c880c9a931e952bbf",
    "order_count": 24,
    "time": "2020-07-22T04:01:04.141Z",
    "type": "selectMarkdownCell"
   },
   {
    "code": "df['date']",
    "id": "13290d9f3abe41479715269db140bef3",
    "order_count": 23,
    "time": "2020-07-22T04:01:04.652Z",
    "type": "selectCodeCell"
   },
   {
    "code": "vis.refresh_source(df)\nvis",
    "id": "1a72cb8910824ede9ecec41633e8fe85",
    "order_count": 22,
    "time": "2020-07-22T04:01:04.735Z",
    "type": "selectCodeCell"
   },
   {
    "code": "df[\"date\"] = pd.DatetimeIndex(df[\"date\"]).to_period(freq='M')",
    "id": "7233028925854dd286169564055ccfbd",
    "order_count": 21,
    "time": "2020-07-22T04:01:04.818Z",
    "type": "selectCodeCell"
   },
   {
    "code": "If we only want Lux to output the month and the year, we can convert the columnn to a [`PeriodIndex`](https://pandas.pydata.org/pandas-docs/stable/reference/api/pandas.PeriodIndex.html) using [`to_period`](https://pandas.pydata.org/pandas-docs/stable/reference/api/pandas.DatetimeIndex.to_period.html). The `freq` argument specifies the granularity of the output. In this case, we are using 'M' for monthly. You can find more about how to specify time periods [here](https://pandas.pydata.org/pandas-docs/stable/user_guide/timeseries.html#dateoffset-objects).",
    "id": "7adeb78f74a149af9787f3b5f20b7ca2",
    "order_count": 20,
    "time": "2020-07-22T04:01:04.893Z",
    "type": "selectMarkdownCell"
   },
   {
    "code": "vis = Vis([\"date\",\"price\"],df)\nvis",
    "id": "5d2b5a08a17045a283edf915c5ff7f73",
    "order_count": 19,
    "time": "2020-07-22T04:01:04.985Z",
    "type": "selectCodeCell"
   },
   {
    "code": "df = pd.read_csv(\"lux/data/stocks.csv\")\n\ndf.dtypes",
    "id": "660e772ed66648dba0001802649f2e53",
    "order_count": 18,
    "time": "2020-07-22T04:01:05.068Z",
    "type": "selectCodeCell"
   },
   {
    "code": "## Advanced Date Manipulation\nYou might notice earlier that all the dates in our example dataset are the first of the month. In this case, there may be situations where we only want to list the year and month, instead of the full date. Here, we look at how to handle these cases.\n\nBelow we look at an example stocks dataset that also have `date` field with each row representing data for the first of each month.",
    "id": "2ff0daa85898446088e2abc26eaeb4b8",
    "order_count": 17,
    "time": "2020-07-22T04:01:05.143Z",
    "type": "selectMarkdownCell"
   },
   {
    "code": "vis.refresh_source(df)\nvis",
    "id": "db8018345d114e0d926c9f273ebbd799",
    "order_count": 16,
    "time": "2020-07-22T04:01:05.235Z",
    "type": "selectCodeCell"
   },
   {
    "code": "df.data_type",
    "id": "74eb3159d0b34723945348993fa9e8e1",
    "order_count": 15,
    "time": "2020-07-22T04:01:05.317Z",
    "type": "selectCodeCell"
   },
   {
    "code": "After changing the Pandas data type to datetime, we see that date field is recognized as temporal fields in Lux.",
    "id": "c226301622c8479e8d5218011f3d6ad9",
    "order_count": 14,
    "time": "2020-07-22T04:01:05.397Z",
    "type": "selectMarkdownCell"
   },
   {
    "code": "df['date'] = pd.to_datetime(df['date'],format=\"%Y-%m-%d\")\ndf['date']",
    "id": "c9059805d6104a329aff30bee0df619f",
    "order_count": 13,
    "time": "2020-07-22T04:01:05.489Z",
    "type": "selectCodeCell"
   },
   {
    "code": "To fix this, we can convert the `date` column into a datetime object by doing:",
    "id": "0ba893fc6bba4eaf8e3662875732565e",
    "order_count": 12,
    "time": "2020-07-22T04:01:05.562Z",
    "type": "selectMarkdownCell"
   },
   {
    "code": "from lux.vis.Vis import Vis\nvis = Vis([\"date\",\"value\"],df)\nvis",
    "id": "0c6a45ae9fa34381818f5a5c689618b8",
    "order_count": 11,
    "time": "2020-07-22T04:01:05.654Z",
    "type": "selectCodeCell"
   },
   {
    "code": "The typing has implications on the generated viss, since nominal chart types are displayed as bar charts, whereas temporal fields are plotted as time series line charts.",
    "id": "4b7138e3c7e8430ca9c679ea2ab48d20",
    "order_count": 10,
    "time": "2020-07-22T04:01:05.732Z",
    "type": "selectMarkdownCell"
   },
   {
    "code": "df.data_type",
    "id": "013050b890ed4e94a255ad649616fac9",
    "order_count": 9,
    "time": "2020-07-22T04:01:05.822Z",
    "type": "selectCodeCell"
   },
   {
    "code": "Since `date` is detected as an object type in Pandas, in Lux the `date` field is recognized as a `nominal` field, instead of a `temporal` field:",
    "id": "63ee1e0a7426406780b88b20ce857553",
    "order_count": 8,
    "time": "2020-07-22T04:01:05.899Z",
    "type": "selectMarkdownCell"
   },
   {
    "code": "df.dtypes",
    "id": "963f7d84d45f44c18eaccddf6da30038",
    "order_count": 7,
    "time": "2020-07-22T04:01:05.988Z",
    "type": "selectCodeCell"
   },
   {
    "code": "This is the types detected in Pandas's data type [`dtype`](https://pandas.pydata.org/pandas-docs/stable/reference/api/pandas.DataFrame.dtypes.html):",
    "id": "b9da7a733208495e949577ded41b35a9",
    "order_count": 6,
    "time": "2020-07-22T04:01:06.063Z",
    "type": "selectMarkdownCell"
   },
   {
    "code": "df = pd.DataFrame({'date': ['2020-02-01', '2020-03-01', '2020-04-01', '2020-05-01','2020-06-01',],\n                   'value': [10.5,15.2,20.3,25.2, 14.2]})\ndf",
    "id": "26206a60aa1a4c74a40eee54b13fc60f",
    "order_count": 5,
    "time": "2020-07-22T04:01:06.159Z",
    "type": "selectCodeCell"
   },
   {
    "code": "df = pd.DataFrame({'date': ['2020-02-01', '2020-03-01', '2020-04-01', '2020-05-01','2020-06-01',],\n                   'value': [10.5,15.2,20.3,25.2, 14.2]})\ndf",
    "id": "26206a60aa1a4c74a40eee54b13fc60f",
    "order_count": 5,
    "time": "2020-07-22T04:01:06.417Z",
    "type": "executeCodeCell"
   },
   {
    "code": "This is the types detected in Pandas's data type [`dtype`](https://pandas.pydata.org/pandas-docs/stable/reference/api/pandas.DataFrame.dtypes.html):",
    "id": "b9da7a733208495e949577ded41b35a9",
    "order_count": 6,
    "time": "2020-07-22T04:01:06.427Z",
    "type": "selectMarkdownCell"
   },
   {
    "code": "df = pd.DataFrame({'date': ['2020-02-01', '2020-03-01', '2020-04-01', '2020-05-01','2020-06-01',],\n                   'value': [10.5,15.2,20.3,25.2, 14.2]})\ndf",
    "id": "26206a60aa1a4c74a40eee54b13fc60f",
    "isPrintLuxDf": false,
    "isPrintPandasDf": false,
    "isPrintVis": false,
    "isPrintVisCollection": false,
    "order_count": 5,
    "time": "2020-07-22T04:01:06.516Z",
    "type": "completeCodeCell"
   },
   {
    "code": "df = pd.DataFrame({'date': ['2020-02-01', '2020-03-01', '2020-04-01', '2020-05-01','2020-06-01',],\n                   'value': [10.5,15.2,20.3,25.2, 14.2]})\ndf",
    "id": "26206a60aa1a4c74a40eee54b13fc60f",
    "order_count": 5,
    "time": "2020-07-22T04:01:06.975Z",
    "type": "selectCodeCell"
   },
   {
    "code": "### Example:\n\nAs an example, a dataframe might contain a `date` attribute as strings of dates:",
    "id": "a1f72ab4dd6343be8669b84736ccaba8",
    "order_count": 4,
    "time": "2020-07-22T04:01:07.175Z",
    "type": "selectMarkdownCell"
   },
   {
    "code": "## Converting Strings to Datetime objects\nTo convert column referencing dates/times into [`datetime`](https://docs.python.org/3/library/datetime.html) objects, we use [`pd.to_datetime`](https://pandas.pydata.org/pandas-docs/stable/reference/api/pandas.to_datetime.html).\n\n### Summary: \n\n```\npd.to_datetime(['2020-01-01', '2020-01-15', '2020-02-01'],format=\"%Y-%m-%d\")\n```",
    "id": "7f9babde8d2740f28304e4d51258d434",
    "order_count": 3,
    "time": "2020-07-22T04:01:07.325Z",
    "type": "selectMarkdownCell"
   },
   {
    "code": "import pandas as pd\nimport lux",
    "id": "866632a5a3e44af98a6157e5225e002d",
    "order_count": 2,
    "time": "2020-07-22T04:01:07.509Z",
    "type": "selectCodeCell"
   },
   {
    "code": "cd ..",
    "id": "7ad26935cb0a443b815145d99d228f47",
    "order_count": 1,
    "time": "2020-07-22T04:01:07.662Z",
    "type": "selectCodeCell"
   },
   {
    "code": "# Datetime Tutorial\nThis is a tutorial on how to prepare temporal data for use with Lux. To display temporal fields appropriately in Lux, the column must be converted into Pandas's [`datetime`](https://docs.python.org/3/library/datetime.html) objects. ",
    "id": "930a33f9a7cd43e1842e90c0bc2dde05",
    "order_count": 0,
    "time": "2020-07-22T04:01:07.800Z",
    "type": "selectMarkdownCell"
   },
   {
    "code": "cd ..",
    "id": "7ad26935cb0a443b815145d99d228f47",
    "order_count": 1,
    "time": "2020-07-22T04:01:08.159Z",
    "type": "selectCodeCell"
   },
   {
    "code": "cd ..",
    "id": "7ad26935cb0a443b815145d99d228f47",
    "order_count": 1,
    "time": "2020-07-22T04:01:08.648Z",
    "type": "executeCodeCell"
   },
   {
    "code": "import pandas as pd\nimport lux",
    "id": "866632a5a3e44af98a6157e5225e002d",
    "order_count": 2,
    "time": "2020-07-22T04:01:08.662Z",
    "type": "selectCodeCell"
   },
   {
    "code": "cd ..",
    "id": "7ad26935cb0a443b815145d99d228f47",
    "isPrintLuxDf": false,
    "isPrintPandasDf": false,
    "isPrintVis": false,
    "isPrintVisCollection": false,
    "order_count": 1,
    "time": "2020-07-22T04:01:08.674Z",
    "type": "completeCodeCell"
   },
   {
    "code": "import pandas as pd\nimport lux",
    "id": "866632a5a3e44af98a6157e5225e002d",
    "order_count": 2,
    "time": "2020-07-22T04:01:08.728Z",
    "type": "executeCodeCell"
   },
   {
    "code": "## Converting Strings to Datetime objects\nTo convert column referencing dates/times into [`datetime`](https://docs.python.org/3/library/datetime.html) objects, we use [`pd.to_datetime`](https://pandas.pydata.org/pandas-docs/stable/reference/api/pandas.to_datetime.html).\n\n### Summary: \n\n```\npd.to_datetime(['2020-01-01', '2020-01-15', '2020-02-01'],format=\"%Y-%m-%d\")\n```",
    "id": "7f9babde8d2740f28304e4d51258d434",
    "order_count": 3,
    "time": "2020-07-22T04:01:08.734Z",
    "type": "selectMarkdownCell"
   },
   {
    "code": "### Example:\n\nAs an example, a dataframe might contain a `date` attribute as strings of dates:",
    "id": "a1f72ab4dd6343be8669b84736ccaba8",
    "order_count": 4,
    "time": "2020-07-22T04:01:08.815Z",
    "type": "selectMarkdownCell"
   },
   {
    "code": "df = pd.DataFrame({'date': ['2020-02-01', '2020-03-01', '2020-04-01', '2020-05-01','2020-06-01',],\n                   'value': [10.5,15.2,20.3,25.2, 14.2]})\ndf",
    "id": "26206a60aa1a4c74a40eee54b13fc60f",
    "order_count": 5,
    "time": "2020-07-22T04:01:08.908Z",
    "type": "selectCodeCell"
   },
   {
    "code": "df = pd.DataFrame({'date': ['2020-02-01', '2020-03-01', '2020-04-01', '2020-05-01','2020-06-01',],\n                   'value': [10.5,15.2,20.3,25.2, 14.2]})\ndf",
    "id": "26206a60aa1a4c74a40eee54b13fc60f",
    "order_count": 5,
    "time": "2020-07-22T04:01:08.979Z",
    "type": "executeCodeCell"
   },
   {
    "code": "This is the types detected in Pandas's data type [`dtype`](https://pandas.pydata.org/pandas-docs/stable/reference/api/pandas.DataFrame.dtypes.html):",
    "id": "b9da7a733208495e949577ded41b35a9",
    "order_count": 6,
    "time": "2020-07-22T04:01:08.985Z",
    "type": "selectMarkdownCell"
   },
   {
    "code": "df.dtypes",
    "id": "963f7d84d45f44c18eaccddf6da30038",
    "order_count": 7,
    "time": "2020-07-22T04:01:09.073Z",
    "type": "selectCodeCell"
   },
   {
    "code": "import pandas as pd\nimport lux",
    "id": "866632a5a3e44af98a6157e5225e002d",
    "isPrintLuxDf": false,
    "isPrintPandasDf": false,
    "isPrintVis": false,
    "isPrintVisCollection": false,
    "order_count": 2,
    "time": "2020-07-22T04:01:09.080Z",
    "type": "completeCodeCell"
   },
   {
    "code": "df.dtypes",
    "id": "963f7d84d45f44c18eaccddf6da30038",
    "order_count": 7,
    "time": "2020-07-22T04:01:09.147Z",
    "type": "executeCodeCell"
   },
   {
    "code": "Since `date` is detected as an object type in Pandas, in Lux the `date` field is recognized as a `nominal` field, instead of a `temporal` field:",
    "id": "63ee1e0a7426406780b88b20ce857553",
    "order_count": 8,
    "time": "2020-07-22T04:01:09.153Z",
    "type": "selectMarkdownCell"
   },
   {
    "code": "df.data_type",
    "id": "013050b890ed4e94a255ad649616fac9",
    "order_count": 9,
    "time": "2020-07-22T04:01:09.241Z",
    "type": "selectCodeCell"
   },
   {
    "code": "df.data_type",
    "id": "013050b890ed4e94a255ad649616fac9",
    "order_count": 9,
    "time": "2020-07-22T04:01:09.317Z",
    "type": "executeCodeCell"
   },
   {
    "code": "The typing has implications on the generated viss, since nominal chart types are displayed as bar charts, whereas temporal fields are plotted as time series line charts.",
    "id": "4b7138e3c7e8430ca9c679ea2ab48d20",
    "order_count": 10,
    "time": "2020-07-22T04:01:09.323Z",
    "type": "selectMarkdownCell"
   },
   {
    "code": "from lux.vis.Vis import Vis\nvis = Vis([\"date\",\"value\"],df)\nvis",
    "id": "0c6a45ae9fa34381818f5a5c689618b8",
    "order_count": 11,
    "time": "2020-07-22T04:01:09.409Z",
    "type": "selectCodeCell"
   },
   {
    "code": "df = pd.DataFrame({'date': ['2020-02-01', '2020-03-01', '2020-04-01', '2020-05-01','2020-06-01',],\n                   'value': [10.5,15.2,20.3,25.2, 14.2]})\ndf",
    "id": "26206a60aa1a4c74a40eee54b13fc60f",
    "isPrintLuxDf": false,
    "isPrintPandasDf": true,
    "isPrintVis": false,
    "isPrintVisCollection": false,
    "order_count": 5,
    "time": "2020-07-22T04:01:09.443Z",
    "type": "completeCodeCell"
   },
   {
    "code": "df.dtypes",
    "id": "963f7d84d45f44c18eaccddf6da30038",
    "isPrintLuxDf": false,
    "isPrintPandasDf": false,
    "isPrintVis": false,
    "isPrintVisCollection": false,
    "order_count": 7,
    "time": "2020-07-22T04:01:09.448Z",
    "type": "completeCodeCell"
   },
   {
    "code": "df.data_type",
    "id": "013050b890ed4e94a255ad649616fac9",
    "isPrintLuxDf": false,
    "isPrintPandasDf": false,
    "isPrintVis": false,
    "isPrintVisCollection": false,
    "order_count": 9,
    "time": "2020-07-22T04:01:09.460Z",
    "type": "completeCodeCell"
   },
   {
    "code": "from lux.vis.Vis import Vis\nvis = Vis([\"date\",\"value\"],df)\nvis",
    "id": "0c6a45ae9fa34381818f5a5c689618b8",
    "order_count": 11,
    "time": "2020-07-22T04:01:09.481Z",
    "type": "executeCodeCell"
   },
   {
    "code": "To fix this, we can convert the `date` column into a datetime object by doing:",
    "id": "0ba893fc6bba4eaf8e3662875732565e",
    "order_count": 12,
    "time": "2020-07-22T04:01:09.488Z",
    "type": "selectMarkdownCell"
   },
   {
    "code": "from lux.vis.Vis import Vis\nvis = Vis([\"date\",\"value\"],df)\nvis",
    "id": "0c6a45ae9fa34381818f5a5c689618b8",
    "isPrintLuxDf": false,
    "isPrintPandasDf": false,
    "isPrintVis": true,
    "isPrintVisCollection": false,
    "order_count": 11,
    "time": "2020-07-22T04:01:09.521Z",
    "type": "completeCodeCell"
   },
   {
    "param": "",
    "time": "2020-07-22T04:01:09.537Z",
    "type": "initWidget"
   },
   {
    "code": "df['date'] = pd.to_datetime(df['date'],format=\"%Y-%m-%d\")\ndf['date']",
    "id": "c9059805d6104a329aff30bee0df619f",
    "order_count": 13,
    "time": "2020-07-22T04:01:09.577Z",
    "type": "selectCodeCell"
   },
   {
    "code": "df['date'] = pd.to_datetime(df['date'],format=\"%Y-%m-%d\")\ndf['date']",
    "id": "c9059805d6104a329aff30bee0df619f",
    "order_count": 13,
    "time": "2020-07-22T04:01:09.652Z",
    "type": "executeCodeCell"
   },
   {
    "code": "After changing the Pandas data type to datetime, we see that date field is recognized as temporal fields in Lux.",
    "id": "c226301622c8479e8d5218011f3d6ad9",
    "order_count": 14,
    "time": "2020-07-22T04:01:09.659Z",
    "type": "selectMarkdownCell"
   },
   {
    "code": "df['date'] = pd.to_datetime(df['date'],format=\"%Y-%m-%d\")\ndf['date']",
    "id": "c9059805d6104a329aff30bee0df619f",
    "isPrintLuxDf": false,
    "isPrintPandasDf": false,
    "isPrintVis": false,
    "isPrintVisCollection": false,
    "order_count": 13,
    "time": "2020-07-22T04:01:09.674Z",
    "type": "completeCodeCell"
   },
   {
    "code": "df.data_type",
    "id": "74eb3159d0b34723945348993fa9e8e1",
    "order_count": 15,
    "time": "2020-07-22T04:01:09.746Z",
    "type": "selectCodeCell"
   },
   {
    "code": "df.data_type",
    "id": "74eb3159d0b34723945348993fa9e8e1",
    "order_count": 15,
    "time": "2020-07-22T04:01:09.819Z",
    "type": "executeCodeCell"
   },
   {
    "code": "vis.refresh_source(df)\nvis",
    "id": "db8018345d114e0d926c9f273ebbd799",
    "order_count": 16,
    "time": "2020-07-22T04:01:09.834Z",
    "type": "selectCodeCell"
   },
   {
    "code": "df.data_type",
    "id": "74eb3159d0b34723945348993fa9e8e1",
    "isPrintLuxDf": false,
    "isPrintPandasDf": false,
    "isPrintVis": false,
    "isPrintVisCollection": false,
    "order_count": 15,
    "time": "2020-07-22T04:01:09.845Z",
    "type": "completeCodeCell"
   },
   {
    "code": "vis.refresh_source(df)\nvis",
    "id": "db8018345d114e0d926c9f273ebbd799",
    "order_count": 16,
    "time": "2020-07-22T04:01:09.900Z",
    "type": "executeCodeCell"
   },
   {
    "code": "## Advanced Date Manipulation\nYou might notice earlier that all the dates in our example dataset are the first of the month. In this case, there may be situations where we only want to list the year and month, instead of the full date. Here, we look at how to handle these cases.\n\nBelow we look at an example stocks dataset that also have `date` field with each row representing data for the first of each month.",
    "id": "2ff0daa85898446088e2abc26eaeb4b8",
    "order_count": 17,
    "time": "2020-07-22T04:01:09.907Z",
    "type": "selectMarkdownCell"
   },
   {
    "code": "vis.refresh_source(df)\nvis",
    "id": "db8018345d114e0d926c9f273ebbd799",
    "isPrintLuxDf": false,
    "isPrintPandasDf": false,
    "isPrintVis": true,
    "isPrintVisCollection": false,
    "order_count": 16,
    "time": "2020-07-22T04:01:09.943Z",
    "type": "completeCodeCell"
   },
   {
    "param": "",
    "time": "2020-07-22T04:01:09.953Z",
    "type": "initWidget"
   },
   {
    "code": "df = pd.read_csv(\"lux/data/stocks.csv\")\n\ndf.dtypes",
    "id": "660e772ed66648dba0001802649f2e53",
    "order_count": 18,
    "time": "2020-07-22T04:01:09.996Z",
    "type": "selectCodeCell"
   },
   {
    "code": "df = pd.read_csv(\"lux/data/stocks.csv\")\n\ndf.dtypes",
    "id": "660e772ed66648dba0001802649f2e53",
    "order_count": 18,
    "time": "2020-07-22T04:01:10.069Z",
    "type": "executeCodeCell"
   },
   {
    "code": "vis = Vis([\"date\",\"price\"],df)\nvis",
    "id": "5d2b5a08a17045a283edf915c5ff7f73",
    "order_count": 19,
    "time": "2020-07-22T04:01:10.085Z",
    "type": "selectCodeCell"
   },
   {
    "code": "df = pd.read_csv(\"lux/data/stocks.csv\")\n\ndf.dtypes",
    "id": "660e772ed66648dba0001802649f2e53",
    "isPrintLuxDf": false,
    "isPrintPandasDf": false,
    "isPrintVis": false,
    "isPrintVisCollection": false,
    "order_count": 18,
    "time": "2020-07-22T04:01:10.097Z",
    "type": "completeCodeCell"
   },
   {
    "code": "vis = Vis([\"date\",\"price\"],df)\nvis",
    "id": "5d2b5a08a17045a283edf915c5ff7f73",
    "order_count": 19,
    "time": "2020-07-22T04:01:10.152Z",
    "type": "executeCodeCell"
   },
   {
    "code": "If we only want Lux to output the month and the year, we can convert the columnn to a [`PeriodIndex`](https://pandas.pydata.org/pandas-docs/stable/reference/api/pandas.PeriodIndex.html) using [`to_period`](https://pandas.pydata.org/pandas-docs/stable/reference/api/pandas.DatetimeIndex.to_period.html). The `freq` argument specifies the granularity of the output. In this case, we are using 'M' for monthly. You can find more about how to specify time periods [here](https://pandas.pydata.org/pandas-docs/stable/user_guide/timeseries.html#dateoffset-objects).",
    "id": "7adeb78f74a149af9787f3b5f20b7ca2",
    "order_count": 20,
    "time": "2020-07-22T04:01:10.159Z",
    "type": "selectMarkdownCell"
   },
   {
    "code": "vis = Vis([\"date\",\"price\"],df)\nvis",
    "id": "5d2b5a08a17045a283edf915c5ff7f73",
    "isPrintLuxDf": false,
    "isPrintPandasDf": false,
    "isPrintVis": true,
    "isPrintVisCollection": false,
    "order_count": 19,
    "time": "2020-07-22T04:01:10.207Z",
    "type": "completeCodeCell"
   },
   {
    "param": "",
    "time": "2020-07-22T04:01:10.216Z",
    "type": "initWidget"
   },
   {
    "code": "df[\"date\"] = pd.DatetimeIndex(df[\"date\"]).to_period(freq='M')",
    "id": "7233028925854dd286169564055ccfbd",
    "order_count": 21,
    "time": "2020-07-22T04:01:10.253Z",
    "type": "selectCodeCell"
   },
   {
    "code": "df[\"date\"] = pd.DatetimeIndex(df[\"date\"]).to_period(freq='M')",
    "id": "7233028925854dd286169564055ccfbd",
    "order_count": 21,
    "time": "2020-07-22T04:01:10.491Z",
    "type": "executeCodeCell"
   },
   {
    "code": "vis.refresh_source(df)\nvis",
    "id": "1a72cb8910824ede9ecec41633e8fe85",
    "order_count": 22,
    "time": "2020-07-22T04:01:10.507Z",
    "type": "selectCodeCell"
   },
   {
    "code": "df[\"date\"] = pd.DatetimeIndex(df[\"date\"]).to_period(freq='M')",
    "id": "7233028925854dd286169564055ccfbd",
    "isPrintLuxDf": false,
    "isPrintPandasDf": false,
    "isPrintVis": false,
    "isPrintVisCollection": false,
    "order_count": 21,
    "time": "2020-07-22T04:01:10.513Z",
    "type": "completeCodeCell"
   },
   {
    "code": "vis.refresh_source(df)\nvis",
    "id": "1a72cb8910824ede9ecec41633e8fe85",
    "order_count": 22,
    "time": "2020-07-22T04:01:10.706Z",
    "type": "executeCodeCell"
   },
   {
    "code": "df['date']",
    "id": "13290d9f3abe41479715269db140bef3",
    "order_count": 23,
    "time": "2020-07-22T04:01:10.720Z",
    "type": "selectCodeCell"
   },
   {
    "code": "vis.refresh_source(df)\nvis",
    "id": "1a72cb8910824ede9ecec41633e8fe85",
    "isPrintLuxDf": false,
    "isPrintPandasDf": false,
    "isPrintVis": true,
    "isPrintVisCollection": false,
    "order_count": 22,
    "time": "2020-07-22T04:01:10.769Z",
    "type": "completeCodeCell"
   },
   {
    "param": "",
    "time": "2020-07-22T04:01:10.778Z",
    "type": "initWidget"
   },
   {
    "code": "df['date']",
    "id": "13290d9f3abe41479715269db140bef3",
    "order_count": 23,
    "time": "2020-07-22T04:01:10.874Z",
    "type": "executeCodeCell"
   },
   {
    "code": "## Querying With Datetime Fields\nThe string representation seen in the Dataframe can be used to filter out certain dates. \nFor example, in the above `stocks` dataset, we converted the date column to a `PeriodIndex`. Now the string representation only shows the granularity we want to see. \n\nWe can use that string representation to filter the dataframe in Pandas:",
    "id": "95b8609d2f34485c880c9a931e952bbf",
    "order_count": 24,
    "time": "2020-07-22T04:01:10.882Z",
    "type": "selectMarkdownCell"
   },
   {
    "code": "df['date']",
    "id": "13290d9f3abe41479715269db140bef3",
    "isPrintLuxDf": false,
    "isPrintPandasDf": false,
    "isPrintVis": false,
    "isPrintVisCollection": false,
    "order_count": 23,
    "time": "2020-07-22T04:01:10.895Z",
    "type": "completeCodeCell"
   },
   {
    "code": "rdf = df[df['date'] == '2008-11']\nrdf ",
    "id": "045de606aaf445808f0105328f30c64e",
    "order_count": 25,
    "time": "2020-07-22T04:01:11.042Z",
    "type": "selectCodeCell"
   },
   {
    "code": "rdf = df[df['date'] == '2008-11']\nrdf ",
    "id": "045de606aaf445808f0105328f30c64e",
    "order_count": 25,
    "time": "2020-07-22T04:01:11.257Z",
    "type": "executeCodeCell"
   },
   {
    "code": "rdf.recommendation",
    "id": "4acd1d399f2f4582a819093f08ab64b9",
    "order_count": 26,
    "time": "2020-07-22T04:01:11.274Z",
    "type": "selectCodeCell"
   },
   {
    "code": "rdf = df[df['date'] == '2008-11']\nrdf ",
    "id": "045de606aaf445808f0105328f30c64e",
    "isPrintLuxDf": false,
    "isPrintPandasDf": true,
    "isPrintVis": false,
    "isPrintVisCollection": false,
    "order_count": 25,
    "time": "2020-07-22T04:01:11.472Z",
    "type": "completeCodeCell"
   },
   {
    "code": "rdf = df[df['date'] == '2008-11']\nrdf ",
    "id": "045de606aaf445808f0105328f30c64e",
    "order_count": 25,
    "time": "2020-07-22T04:03:39.025Z",
    "type": "selectCodeCell"
   },
   {
    "code": "rdf = df[df['date'] == '2008-11']\nrdf ",
    "id": "045de606aaf445808f0105328f30c64e",
    "order_count": 25,
    "time": "2020-07-22T04:03:39.032Z",
    "type": "editCodeCell"
   },
   {
    "time": "2020-07-22T04:03:40.629Z",
    "type": "kernelRestart"
   },
   {
    "code": "## Querying With Datetime Fields\nThe string representation seen in the Dataframe can be used to filter out certain dates. \nFor example, in the above `stocks` dataset, we converted the date column to a `PeriodIndex`. Now the string representation only shows the granularity we want to see. \n\nWe can use that string representation to filter the dataframe in Pandas:",
    "id": "95b8609d2f34485c880c9a931e952bbf",
    "order_count": 24,
    "time": "2020-07-22T04:03:41.259Z",
    "type": "selectMarkdownCell"
   },
   {
    "time": "2020-07-22T04:03:41.516Z",
    "type": "kernelReady"
   },
   {
    "time": "2020-07-22T04:03:41.521Z",
    "type": "kernelReady"
   },
   {
    "code": "df['date']",
    "id": "13290d9f3abe41479715269db140bef3",
    "order_count": 23,
    "time": "2020-07-22T04:03:41.762Z",
    "type": "selectCodeCell"
   },
   {
    "code": "vis.refresh_source(df)\nvis",
    "id": "1a72cb8910824ede9ecec41633e8fe85",
    "order_count": 22,
    "time": "2020-07-22T04:03:41.845Z",
    "type": "selectCodeCell"
   },
   {
    "code": "df[\"date\"] = pd.DatetimeIndex(df[\"date\"]).to_period(freq='M')",
    "id": "7233028925854dd286169564055ccfbd",
    "order_count": 21,
    "time": "2020-07-22T04:03:41.927Z",
    "type": "selectCodeCell"
   },
   {
    "code": "If we only want Lux to output the month and the year, we can convert the columnn to a [`PeriodIndex`](https://pandas.pydata.org/pandas-docs/stable/reference/api/pandas.PeriodIndex.html) using [`to_period`](https://pandas.pydata.org/pandas-docs/stable/reference/api/pandas.DatetimeIndex.to_period.html). The `freq` argument specifies the granularity of the output. In this case, we are using 'M' for monthly. You can find more about how to specify time periods [here](https://pandas.pydata.org/pandas-docs/stable/user_guide/timeseries.html#dateoffset-objects).",
    "id": "7adeb78f74a149af9787f3b5f20b7ca2",
    "order_count": 20,
    "time": "2020-07-22T04:03:42.006Z",
    "type": "selectMarkdownCell"
   },
   {
    "code": "vis = Vis([\"date\",\"price\"],df)\nvis",
    "id": "5d2b5a08a17045a283edf915c5ff7f73",
    "order_count": 19,
    "time": "2020-07-22T04:03:42.099Z",
    "type": "selectCodeCell"
   },
   {
    "code": "df = pd.read_csv(\"lux/data/stocks.csv\")\n\ndf.dtypes",
    "id": "660e772ed66648dba0001802649f2e53",
    "order_count": 18,
    "time": "2020-07-22T04:03:42.182Z",
    "type": "selectCodeCell"
   },
   {
    "code": "## Advanced Date Manipulation\nYou might notice earlier that all the dates in our example dataset are the first of the month. In this case, there may be situations where we only want to list the year and month, instead of the full date. Here, we look at how to handle these cases.\n\nBelow we look at an example stocks dataset that also have `date` field with each row representing data for the first of each month.",
    "id": "2ff0daa85898446088e2abc26eaeb4b8",
    "order_count": 17,
    "time": "2020-07-22T04:03:42.258Z",
    "type": "selectMarkdownCell"
   },
   {
    "code": "vis.refresh_source(df)\nvis",
    "id": "db8018345d114e0d926c9f273ebbd799",
    "order_count": 16,
    "time": "2020-07-22T04:03:42.352Z",
    "type": "selectCodeCell"
   },
   {
    "code": "df.data_type",
    "id": "74eb3159d0b34723945348993fa9e8e1",
    "order_count": 15,
    "time": "2020-07-22T04:03:42.439Z",
    "type": "selectCodeCell"
   },
   {
    "code": "After changing the Pandas data type to datetime, we see that date field is recognized as temporal fields in Lux.",
    "id": "c226301622c8479e8d5218011f3d6ad9",
    "order_count": 14,
    "time": "2020-07-22T04:03:42.509Z",
    "type": "selectMarkdownCell"
   },
   {
    "code": "df['date'] = pd.to_datetime(df['date'],format=\"%Y-%m-%d\")\ndf['date']",
    "id": "c9059805d6104a329aff30bee0df619f",
    "order_count": 13,
    "time": "2020-07-22T04:03:42.599Z",
    "type": "selectCodeCell"
   },
   {
    "code": "To fix this, we can convert the `date` column into a datetime object by doing:",
    "id": "0ba893fc6bba4eaf8e3662875732565e",
    "order_count": 12,
    "time": "2020-07-22T04:03:42.677Z",
    "type": "selectMarkdownCell"
   },
   {
    "code": "from lux.vis.Vis import Vis\nvis = Vis([\"date\",\"value\"],df)\nvis",
    "id": "0c6a45ae9fa34381818f5a5c689618b8",
    "order_count": 11,
    "time": "2020-07-22T04:03:42.774Z",
    "type": "selectCodeCell"
   },
   {
    "code": "The typing has implications on the generated viss, since nominal chart types are displayed as bar charts, whereas temporal fields are plotted as time series line charts.",
    "id": "4b7138e3c7e8430ca9c679ea2ab48d20",
    "order_count": 10,
    "time": "2020-07-22T04:03:42.848Z",
    "type": "selectMarkdownCell"
   },
   {
    "code": "df.data_type",
    "id": "013050b890ed4e94a255ad649616fac9",
    "order_count": 9,
    "time": "2020-07-22T04:03:42.941Z",
    "type": "selectCodeCell"
   },
   {
    "code": "Since `date` is detected as an object type in Pandas, in Lux the `date` field is recognized as a `nominal` field, instead of a `temporal` field:",
    "id": "63ee1e0a7426406780b88b20ce857553",
    "order_count": 8,
    "time": "2020-07-22T04:03:43.015Z",
    "type": "selectMarkdownCell"
   },
   {
    "code": "df.dtypes",
    "id": "963f7d84d45f44c18eaccddf6da30038",
    "order_count": 7,
    "time": "2020-07-22T04:03:43.107Z",
    "type": "selectCodeCell"
   },
   {
    "code": "This is the types detected in Pandas's data type [`dtype`](https://pandas.pydata.org/pandas-docs/stable/reference/api/pandas.DataFrame.dtypes.html):",
    "id": "b9da7a733208495e949577ded41b35a9",
    "order_count": 6,
    "time": "2020-07-22T04:03:43.183Z",
    "type": "selectMarkdownCell"
   },
   {
    "code": "df = pd.DataFrame({'date': ['2020-02-01', '2020-03-01', '2020-04-01', '2020-05-01','2020-06-01',],\n                   'value': [10.5,15.2,20.3,25.2, 14.2]})\ndf",
    "id": "26206a60aa1a4c74a40eee54b13fc60f",
    "order_count": 5,
    "time": "2020-07-22T04:03:43.281Z",
    "type": "selectCodeCell"
   },
   {
    "code": "### Example:\n\nAs an example, a dataframe might contain a `date` attribute as strings of dates:",
    "id": "a1f72ab4dd6343be8669b84736ccaba8",
    "order_count": 4,
    "time": "2020-07-22T04:03:43.353Z",
    "type": "selectMarkdownCell"
   },
   {
    "code": "## Converting Strings to Datetime objects\nTo convert column referencing dates/times into [`datetime`](https://docs.python.org/3/library/datetime.html) objects, we use [`pd.to_datetime`](https://pandas.pydata.org/pandas-docs/stable/reference/api/pandas.to_datetime.html).\n\n### Summary: \n\n```\npd.to_datetime(['2020-01-01', '2020-01-15', '2020-02-01'],format=\"%Y-%m-%d\")\n```",
    "id": "7f9babde8d2740f28304e4d51258d434",
    "order_count": 3,
    "time": "2020-07-22T04:03:43.433Z",
    "type": "selectMarkdownCell"
   },
   {
    "code": "import pandas as pd\nimport lux",
    "id": "866632a5a3e44af98a6157e5225e002d",
    "order_count": 2,
    "time": "2020-07-22T04:03:43.524Z",
    "type": "selectCodeCell"
   },
   {
    "code": "cd ..",
    "id": "7ad26935cb0a443b815145d99d228f47",
    "order_count": 1,
    "time": "2020-07-22T04:03:43.606Z",
    "type": "selectCodeCell"
   },
   {
    "code": "# Datetime Tutorial\nThis is a tutorial on how to prepare temporal data for use with Lux. To display temporal fields appropriately in Lux, the column must be converted into Pandas's [`datetime`](https://docs.python.org/3/library/datetime.html) objects. ",
    "id": "930a33f9a7cd43e1842e90c0bc2dde05",
    "order_count": 0,
    "time": "2020-07-22T04:03:43.685Z",
    "type": "selectMarkdownCell"
   },
   {
    "code": "cd ..",
    "id": "7ad26935cb0a443b815145d99d228f47",
    "order_count": 1,
    "time": "2020-07-22T04:03:44.280Z",
    "type": "selectCodeCell"
   },
   {
    "code": "cd ..",
    "id": "7ad26935cb0a443b815145d99d228f47",
    "order_count": 1,
    "time": "2020-07-22T04:03:44.768Z",
    "type": "executeCodeCell"
   },
   {
    "code": "import pandas as pd\nimport lux",
    "id": "866632a5a3e44af98a6157e5225e002d",
    "order_count": 2,
    "time": "2020-07-22T04:03:44.783Z",
    "type": "selectCodeCell"
   },
   {
    "code": "cd ..",
    "id": "7ad26935cb0a443b815145d99d228f47",
    "isPrintLuxDf": false,
    "isPrintPandasDf": false,
    "isPrintVis": false,
    "isPrintVisCollection": false,
    "order_count": 1,
    "time": "2020-07-22T04:03:44.796Z",
    "type": "completeCodeCell"
   },
   {
    "code": "import pandas as pd\nimport lux",
    "id": "866632a5a3e44af98a6157e5225e002d",
    "order_count": 2,
    "time": "2020-07-22T04:03:44.851Z",
    "type": "executeCodeCell"
   },
   {
    "code": "## Converting Strings to Datetime objects\nTo convert column referencing dates/times into [`datetime`](https://docs.python.org/3/library/datetime.html) objects, we use [`pd.to_datetime`](https://pandas.pydata.org/pandas-docs/stable/reference/api/pandas.to_datetime.html).\n\n### Summary: \n\n```\npd.to_datetime(['2020-01-01', '2020-01-15', '2020-02-01'],format=\"%Y-%m-%d\")\n```",
    "id": "7f9babde8d2740f28304e4d51258d434",
    "order_count": 3,
    "time": "2020-07-22T04:03:44.857Z",
    "type": "selectMarkdownCell"
   },
   {
    "code": "### Example:\n\nAs an example, a dataframe might contain a `date` attribute as strings of dates:",
    "id": "a1f72ab4dd6343be8669b84736ccaba8",
    "order_count": 4,
    "time": "2020-07-22T04:03:44.938Z",
    "type": "selectMarkdownCell"
   },
   {
    "code": "df = pd.DataFrame({'date': ['2020-02-01', '2020-03-01', '2020-04-01', '2020-05-01','2020-06-01',],\n                   'value': [10.5,15.2,20.3,25.2, 14.2]})\ndf",
    "id": "26206a60aa1a4c74a40eee54b13fc60f",
    "order_count": 5,
    "time": "2020-07-22T04:03:45.033Z",
    "type": "selectCodeCell"
   },
   {
    "code": "df = pd.DataFrame({'date': ['2020-02-01', '2020-03-01', '2020-04-01', '2020-05-01','2020-06-01',],\n                   'value': [10.5,15.2,20.3,25.2, 14.2]})\ndf",
    "id": "26206a60aa1a4c74a40eee54b13fc60f",
    "order_count": 5,
    "time": "2020-07-22T04:03:45.103Z",
    "type": "executeCodeCell"
   },
   {
    "code": "This is the types detected in Pandas's data type [`dtype`](https://pandas.pydata.org/pandas-docs/stable/reference/api/pandas.DataFrame.dtypes.html):",
    "id": "b9da7a733208495e949577ded41b35a9",
    "order_count": 6,
    "time": "2020-07-22T04:03:45.112Z",
    "type": "selectMarkdownCell"
   },
   {
    "code": "df.dtypes",
    "id": "963f7d84d45f44c18eaccddf6da30038",
    "order_count": 7,
    "time": "2020-07-22T04:03:45.196Z",
    "type": "selectCodeCell"
   },
   {
    "code": "import pandas as pd\nimport lux",
    "id": "866632a5a3e44af98a6157e5225e002d",
    "isPrintLuxDf": false,
    "isPrintPandasDf": false,
    "isPrintVis": false,
    "isPrintVisCollection": false,
    "order_count": 2,
    "time": "2020-07-22T04:03:45.203Z",
    "type": "completeCodeCell"
   },
   {
    "code": "df.dtypes",
    "id": "963f7d84d45f44c18eaccddf6da30038",
    "order_count": 7,
    "time": "2020-07-22T04:03:45.269Z",
    "type": "executeCodeCell"
   },
   {
    "code": "Since `date` is detected as an object type in Pandas, in Lux the `date` field is recognized as a `nominal` field, instead of a `temporal` field:",
    "id": "63ee1e0a7426406780b88b20ce857553",
    "order_count": 8,
    "time": "2020-07-22T04:03:45.275Z",
    "type": "selectMarkdownCell"
   },
   {
    "code": "df.data_type",
    "id": "013050b890ed4e94a255ad649616fac9",
    "order_count": 9,
    "time": "2020-07-22T04:03:45.362Z",
    "type": "selectCodeCell"
   },
   {
    "code": "df.data_type",
    "id": "013050b890ed4e94a255ad649616fac9",
    "order_count": 9,
    "time": "2020-07-22T04:03:45.438Z",
    "type": "executeCodeCell"
   },
   {
    "code": "The typing has implications on the generated viss, since nominal chart types are displayed as bar charts, whereas temporal fields are plotted as time series line charts.",
    "id": "4b7138e3c7e8430ca9c679ea2ab48d20",
    "order_count": 10,
    "time": "2020-07-22T04:03:45.446Z",
    "type": "selectMarkdownCell"
   },
   {
    "code": "from lux.vis.Vis import Vis\nvis = Vis([\"date\",\"value\"],df)\nvis",
    "id": "0c6a45ae9fa34381818f5a5c689618b8",
    "order_count": 11,
    "time": "2020-07-22T04:03:45.534Z",
    "type": "selectCodeCell"
   },
   {
    "code": "df = pd.DataFrame({'date': ['2020-02-01', '2020-03-01', '2020-04-01', '2020-05-01','2020-06-01',],\n                   'value': [10.5,15.2,20.3,25.2, 14.2]})\ndf",
    "id": "26206a60aa1a4c74a40eee54b13fc60f",
    "isPrintLuxDf": false,
    "isPrintPandasDf": true,
    "isPrintVis": false,
    "isPrintVisCollection": false,
    "order_count": 5,
    "time": "2020-07-22T04:03:45.554Z",
    "type": "completeCodeCell"
   },
   {
    "code": "df.dtypes",
    "id": "963f7d84d45f44c18eaccddf6da30038",
    "isPrintLuxDf": false,
    "isPrintPandasDf": false,
    "isPrintVis": false,
    "isPrintVisCollection": false,
    "order_count": 7,
    "time": "2020-07-22T04:03:45.559Z",
    "type": "completeCodeCell"
   },
   {
    "code": "df.data_type",
    "id": "013050b890ed4e94a255ad649616fac9",
    "isPrintLuxDf": false,
    "isPrintPandasDf": false,
    "isPrintVis": false,
    "isPrintVisCollection": false,
    "order_count": 9,
    "time": "2020-07-22T04:03:45.571Z",
    "type": "completeCodeCell"
   },
   {
    "code": "from lux.vis.Vis import Vis\nvis = Vis([\"date\",\"value\"],df)\nvis",
    "id": "0c6a45ae9fa34381818f5a5c689618b8",
    "order_count": 11,
    "time": "2020-07-22T04:03:45.605Z",
    "type": "executeCodeCell"
   },
   {
    "code": "To fix this, we can convert the `date` column into a datetime object by doing:",
    "id": "0ba893fc6bba4eaf8e3662875732565e",
    "order_count": 12,
    "time": "2020-07-22T04:03:45.613Z",
    "type": "selectMarkdownCell"
   },
   {
    "code": "from lux.vis.Vis import Vis\nvis = Vis([\"date\",\"value\"],df)\nvis",
    "id": "0c6a45ae9fa34381818f5a5c689618b8",
    "isPrintLuxDf": false,
    "isPrintPandasDf": false,
    "isPrintVis": true,
    "isPrintVisCollection": false,
    "order_count": 11,
    "time": "2020-07-22T04:03:45.646Z",
    "type": "completeCodeCell"
   },
   {
    "param": "",
    "time": "2020-07-22T04:03:45.654Z",
    "type": "initWidget"
   },
   {
    "code": "df['date'] = pd.to_datetime(df['date'],format=\"%Y-%m-%d\")\ndf['date']",
    "id": "c9059805d6104a329aff30bee0df619f",
    "order_count": 13,
    "time": "2020-07-22T04:03:45.702Z",
    "type": "selectCodeCell"
   },
   {
    "code": "df['date'] = pd.to_datetime(df['date'],format=\"%Y-%m-%d\")\ndf['date']",
    "id": "c9059805d6104a329aff30bee0df619f",
    "order_count": 13,
    "time": "2020-07-22T04:03:45.775Z",
    "type": "executeCodeCell"
   },
   {
    "code": "After changing the Pandas data type to datetime, we see that date field is recognized as temporal fields in Lux.",
    "id": "c226301622c8479e8d5218011f3d6ad9",
    "order_count": 14,
    "time": "2020-07-22T04:03:45.783Z",
    "type": "selectMarkdownCell"
   },
   {
    "code": "df['date'] = pd.to_datetime(df['date'],format=\"%Y-%m-%d\")\ndf['date']",
    "id": "c9059805d6104a329aff30bee0df619f",
    "isPrintLuxDf": false,
    "isPrintPandasDf": false,
    "isPrintVis": false,
    "isPrintVisCollection": false,
    "order_count": 13,
    "time": "2020-07-22T04:03:45.800Z",
    "type": "completeCodeCell"
   },
   {
    "code": "df.data_type",
    "id": "74eb3159d0b34723945348993fa9e8e1",
    "order_count": 15,
    "time": "2020-07-22T04:03:45.867Z",
    "type": "selectCodeCell"
   },
   {
    "code": "df.data_type",
    "id": "74eb3159d0b34723945348993fa9e8e1",
    "order_count": 15,
    "time": "2020-07-22T04:03:45.942Z",
    "type": "executeCodeCell"
   },
   {
    "code": "vis.refresh_source(df)\nvis",
    "id": "db8018345d114e0d926c9f273ebbd799",
    "order_count": 16,
    "time": "2020-07-22T04:03:45.956Z",
    "type": "selectCodeCell"
   },
   {
    "code": "df.data_type",
    "id": "74eb3159d0b34723945348993fa9e8e1",
    "isPrintLuxDf": false,
    "isPrintPandasDf": false,
    "isPrintVis": false,
    "isPrintVisCollection": false,
    "order_count": 15,
    "time": "2020-07-22T04:03:45.967Z",
    "type": "completeCodeCell"
   },
   {
    "code": "vis.refresh_source(df)\nvis",
    "id": "db8018345d114e0d926c9f273ebbd799",
    "order_count": 16,
    "time": "2020-07-22T04:03:46.026Z",
    "type": "executeCodeCell"
   },
   {
    "code": "## Advanced Date Manipulation\nYou might notice earlier that all the dates in our example dataset are the first of the month. In this case, there may be situations where we only want to list the year and month, instead of the full date. Here, we look at how to handle these cases.\n\nBelow we look at an example stocks dataset that also have `date` field with each row representing data for the first of each month.",
    "id": "2ff0daa85898446088e2abc26eaeb4b8",
    "order_count": 17,
    "time": "2020-07-22T04:03:46.032Z",
    "type": "selectMarkdownCell"
   },
   {
    "code": "vis.refresh_source(df)\nvis",
    "id": "db8018345d114e0d926c9f273ebbd799",
    "isPrintLuxDf": false,
    "isPrintPandasDf": false,
    "isPrintVis": true,
    "isPrintVisCollection": false,
    "order_count": 16,
    "time": "2020-07-22T04:03:46.070Z",
    "type": "completeCodeCell"
   },
   {
    "param": "",
    "time": "2020-07-22T04:03:46.074Z",
    "type": "initWidget"
   },
   {
    "code": "df = pd.read_csv(\"lux/data/stocks.csv\")\n\ndf.dtypes",
    "id": "660e772ed66648dba0001802649f2e53",
    "order_count": 18,
    "time": "2020-07-22T04:03:46.339Z",
    "type": "selectCodeCell"
   },
   {
    "code": "df = pd.read_csv(\"lux/data/stocks.csv\")\n\ndf.dtypes",
    "id": "660e772ed66648dba0001802649f2e53",
    "order_count": 18,
    "time": "2020-07-22T04:03:46.523Z",
    "type": "executeCodeCell"
   },
   {
    "code": "vis = Vis([\"date\",\"price\"],df)\nvis",
    "id": "5d2b5a08a17045a283edf915c5ff7f73",
    "order_count": 19,
    "time": "2020-07-22T04:03:46.537Z",
    "type": "selectCodeCell"
   },
   {
    "code": "df = pd.read_csv(\"lux/data/stocks.csv\")\n\ndf.dtypes",
    "id": "660e772ed66648dba0001802649f2e53",
    "isPrintLuxDf": false,
    "isPrintPandasDf": false,
    "isPrintVis": false,
    "isPrintVisCollection": false,
    "order_count": 18,
    "time": "2020-07-22T04:03:46.546Z",
    "type": "completeCodeCell"
   },
   {
    "code": "vis = Vis([\"date\",\"price\"],df)\nvis",
    "id": "5d2b5a08a17045a283edf915c5ff7f73",
    "order_count": 19,
    "time": "2020-07-22T04:03:46.709Z",
    "type": "executeCodeCell"
   },
   {
    "code": "If we only want Lux to output the month and the year, we can convert the columnn to a [`PeriodIndex`](https://pandas.pydata.org/pandas-docs/stable/reference/api/pandas.PeriodIndex.html) using [`to_period`](https://pandas.pydata.org/pandas-docs/stable/reference/api/pandas.DatetimeIndex.to_period.html). The `freq` argument specifies the granularity of the output. In this case, we are using 'M' for monthly. You can find more about how to specify time periods [here](https://pandas.pydata.org/pandas-docs/stable/user_guide/timeseries.html#dateoffset-objects).",
    "id": "7adeb78f74a149af9787f3b5f20b7ca2",
    "order_count": 20,
    "time": "2020-07-22T04:03:46.718Z",
    "type": "selectMarkdownCell"
   },
   {
    "code": "vis = Vis([\"date\",\"price\"],df)\nvis",
    "id": "5d2b5a08a17045a283edf915c5ff7f73",
    "isPrintLuxDf": false,
    "isPrintPandasDf": false,
    "isPrintVis": true,
    "isPrintVisCollection": false,
    "order_count": 19,
    "time": "2020-07-22T04:03:46.768Z",
    "type": "completeCodeCell"
   },
   {
    "param": "",
    "time": "2020-07-22T04:03:46.769Z",
    "type": "initWidget"
   },
   {
    "code": "df[\"date\"] = pd.DatetimeIndex(df[\"date\"]).to_period(freq='M')",
    "id": "7233028925854dd286169564055ccfbd",
    "order_count": 21,
    "time": "2020-07-22T04:03:47.123Z",
    "type": "selectCodeCell"
   },
   {
    "code": "df[\"date\"] = pd.DatetimeIndex(df[\"date\"]).to_period(freq='M')",
    "id": "7233028925854dd286169564055ccfbd",
    "order_count": 21,
    "time": "2020-07-22T04:03:47.469Z",
    "type": "executeCodeCell"
   },
   {
    "code": "vis.refresh_source(df)\nvis",
    "id": "1a72cb8910824ede9ecec41633e8fe85",
    "order_count": 22,
    "time": "2020-07-22T04:03:47.483Z",
    "type": "selectCodeCell"
   },
   {
    "code": "df[\"date\"] = pd.DatetimeIndex(df[\"date\"]).to_period(freq='M')",
    "id": "7233028925854dd286169564055ccfbd",
    "isPrintLuxDf": false,
    "isPrintPandasDf": false,
    "isPrintVis": false,
    "isPrintVisCollection": false,
    "order_count": 21,
    "time": "2020-07-22T04:03:47.490Z",
    "type": "completeCodeCell"
   },
   {
    "code": "vis.refresh_source(df)\nvis",
    "id": "1a72cb8910824ede9ecec41633e8fe85",
    "order_count": 22,
    "time": "2020-07-22T04:03:47.757Z",
    "type": "executeCodeCell"
   },
   {
    "code": "df['date']",
    "id": "13290d9f3abe41479715269db140bef3",
    "order_count": 23,
    "time": "2020-07-22T04:03:47.771Z",
    "type": "selectCodeCell"
   },
   {
    "code": "vis.refresh_source(df)\nvis",
    "id": "1a72cb8910824ede9ecec41633e8fe85",
    "isPrintLuxDf": false,
    "isPrintPandasDf": false,
    "isPrintVis": true,
    "isPrintVisCollection": false,
    "order_count": 22,
    "time": "2020-07-22T04:03:47.820Z",
    "type": "completeCodeCell"
   },
   {
    "param": "",
    "time": "2020-07-22T04:03:47.828Z",
    "type": "initWidget"
   },
   {
    "code": "df['date']",
    "id": "13290d9f3abe41479715269db140bef3",
    "order_count": 23,
    "time": "2020-07-22T04:03:47.942Z",
    "type": "executeCodeCell"
   },
   {
    "code": "## Querying With Datetime Fields\nThe string representation seen in the Dataframe can be used to filter out certain dates. \nFor example, in the above `stocks` dataset, we converted the date column to a `PeriodIndex`. Now the string representation only shows the granularity we want to see. \n\nWe can use that string representation to filter the dataframe in Pandas:",
    "id": "95b8609d2f34485c880c9a931e952bbf",
    "order_count": 24,
    "time": "2020-07-22T04:03:47.950Z",
    "type": "selectMarkdownCell"
   },
   {
    "code": "df['date']",
    "id": "13290d9f3abe41479715269db140bef3",
    "isPrintLuxDf": false,
    "isPrintPandasDf": false,
    "isPrintVis": false,
    "isPrintVisCollection": false,
    "order_count": 23,
    "time": "2020-07-22T04:03:47.963Z",
    "type": "completeCodeCell"
   },
   {
    "code": "rdf = df[df['date'] == '2008-11']\nrdf ",
    "id": "045de606aaf445808f0105328f30c64e",
    "order_count": 25,
    "time": "2020-07-22T04:03:48.220Z",
    "type": "selectCodeCell"
   },
   {
    "code": "rdf = df[df['date'] == '2008-11']\nrdf ",
    "id": "045de606aaf445808f0105328f30c64e",
    "order_count": 25,
    "time": "2020-07-22T04:03:48.584Z",
    "type": "executeCodeCell"
   },
   {
    "code": "rdf.recommendation",
    "id": "4acd1d399f2f4582a819093f08ab64b9",
    "order_count": 26,
    "time": "2020-07-22T04:03:48.601Z",
    "type": "selectCodeCell"
   },
   {
    "code": "rdf = df[df['date'] == '2008-11']\nrdf ",
    "id": "045de606aaf445808f0105328f30c64e",
    "isPrintLuxDf": false,
    "isPrintPandasDf": true,
    "isPrintVis": false,
    "isPrintVisCollection": false,
    "order_count": 25,
    "time": "2020-07-22T04:03:48.756Z",
    "type": "completeCodeCell"
   },
   {
    "code": "rdf = df[df['date'] == '2008-11']\nrdf ",
    "id": "045de606aaf445808f0105328f30c64e",
    "order_count": 25,
    "time": "2020-07-22T04:03:50.959Z",
    "type": "selectCodeCell"
   },
   {
    "param": "",
    "time": "2020-07-22T04:03:50.982Z",
    "type": "initWidget"
   },
   {
    "param": "",
    "time": "2020-07-22T04:03:51.035Z",
    "type": "initWidget"
   },
   {
    "code": "rdf = df[df['date'] == '2008-11']\nrdf ",
    "id": "045de606aaf445808f0105328f30c64e",
    "order_count": 25,
    "time": "2020-07-22T04:04:53.299Z",
    "type": "selectCodeCell"
   },
   {
    "time": "2020-07-22T04:04:54.621Z",
    "type": "kernelRestart"
   },
   {
    "time": "2020-07-22T04:04:54.748Z",
    "type": "kernelRestart"
   },
   {
    "code": "## Querying With Datetime Fields\nThe string representation seen in the Dataframe can be used to filter out certain dates. \nFor example, in the above `stocks` dataset, we converted the date column to a `PeriodIndex`. Now the string representation only shows the granularity we want to see. \n\nWe can use that string representation to filter the dataframe in Pandas:",
    "id": "95b8609d2f34485c880c9a931e952bbf",
    "order_count": 24,
    "time": "2020-07-22T04:04:55.512Z",
    "type": "selectMarkdownCell"
   },
   {
    "code": "df['date']",
    "id": "13290d9f3abe41479715269db140bef3",
    "order_count": 23,
    "time": "2020-07-22T04:04:55.598Z",
    "type": "selectCodeCell"
   },
   {
    "code": "vis.refresh_source(df)\nvis",
    "id": "1a72cb8910824ede9ecec41633e8fe85",
    "order_count": 22,
    "time": "2020-07-22T04:04:55.683Z",
    "type": "selectCodeCell"
   },
   {
    "code": "df[\"date\"] = pd.DatetimeIndex(df[\"date\"]).to_period(freq='M')",
    "id": "7233028925854dd286169564055ccfbd",
    "order_count": 21,
    "time": "2020-07-22T04:04:55.769Z",
    "type": "selectCodeCell"
   },
   {
    "code": "If we only want Lux to output the month and the year, we can convert the columnn to a [`PeriodIndex`](https://pandas.pydata.org/pandas-docs/stable/reference/api/pandas.PeriodIndex.html) using [`to_period`](https://pandas.pydata.org/pandas-docs/stable/reference/api/pandas.DatetimeIndex.to_period.html). The `freq` argument specifies the granularity of the output. In this case, we are using 'M' for monthly. You can find more about how to specify time periods [here](https://pandas.pydata.org/pandas-docs/stable/user_guide/timeseries.html#dateoffset-objects).",
    "id": "7adeb78f74a149af9787f3b5f20b7ca2",
    "order_count": 20,
    "time": "2020-07-22T04:04:55.846Z",
    "type": "selectMarkdownCell"
   },
   {
    "code": "vis = Vis([\"date\",\"price\"],df)\nvis",
    "id": "5d2b5a08a17045a283edf915c5ff7f73",
    "order_count": 19,
    "time": "2020-07-22T04:04:55.934Z",
    "type": "selectCodeCell"
   },
   {
    "code": "df = pd.read_csv(\"lux/data/stocks.csv\")\n\ndf.dtypes",
    "id": "660e772ed66648dba0001802649f2e53",
    "order_count": 18,
    "time": "2020-07-22T04:04:56.017Z",
    "type": "selectCodeCell"
   },
   {
    "code": "## Advanced Date Manipulation\nYou might notice earlier that all the dates in our example dataset are the first of the month. In this case, there may be situations where we only want to list the year and month, instead of the full date. Here, we look at how to handle these cases.\n\nBelow we look at an example stocks dataset that also have `date` field with each row representing data for the first of each month.",
    "id": "2ff0daa85898446088e2abc26eaeb4b8",
    "order_count": 17,
    "time": "2020-07-22T04:04:56.095Z",
    "type": "selectMarkdownCell"
   },
   {
    "time": "2020-07-22T04:04:56.108Z",
    "type": "kernelReady"
   },
   {
    "time": "2020-07-22T04:04:56.111Z",
    "type": "kernelReady"
   },
   {
    "time": "2020-07-22T04:04:56.113Z",
    "type": "kernelReady"
   },
   {
    "code": "vis.refresh_source(df)\nvis",
    "id": "db8018345d114e0d926c9f273ebbd799",
    "order_count": 16,
    "time": "2020-07-22T04:04:56.185Z",
    "type": "selectCodeCell"
   },
   {
    "code": "df.data_type",
    "id": "74eb3159d0b34723945348993fa9e8e1",
    "order_count": 15,
    "time": "2020-07-22T04:04:56.271Z",
    "type": "selectCodeCell"
   },
   {
    "code": "After changing the Pandas data type to datetime, we see that date field is recognized as temporal fields in Lux.",
    "id": "c226301622c8479e8d5218011f3d6ad9",
    "order_count": 14,
    "time": "2020-07-22T04:04:56.348Z",
    "type": "selectMarkdownCell"
   },
   {
    "code": "df['date'] = pd.to_datetime(df['date'],format=\"%Y-%m-%d\")\ndf['date']",
    "id": "c9059805d6104a329aff30bee0df619f",
    "order_count": 13,
    "time": "2020-07-22T04:04:56.437Z",
    "type": "selectCodeCell"
   },
   {
    "code": "To fix this, we can convert the `date` column into a datetime object by doing:",
    "id": "0ba893fc6bba4eaf8e3662875732565e",
    "order_count": 12,
    "time": "2020-07-22T04:04:56.515Z",
    "type": "selectMarkdownCell"
   },
   {
    "code": "from lux.vis.Vis import Vis\nvis = Vis([\"date\",\"value\"],df)\nvis",
    "id": "0c6a45ae9fa34381818f5a5c689618b8",
    "order_count": 11,
    "time": "2020-07-22T04:04:56.605Z",
    "type": "selectCodeCell"
   },
   {
    "code": "The typing has implications on the generated viss, since nominal chart types are displayed as bar charts, whereas temporal fields are plotted as time series line charts.",
    "id": "4b7138e3c7e8430ca9c679ea2ab48d20",
    "order_count": 10,
    "time": "2020-07-22T04:04:56.682Z",
    "type": "selectMarkdownCell"
   },
   {
    "code": "df.data_type",
    "id": "013050b890ed4e94a255ad649616fac9",
    "order_count": 9,
    "time": "2020-07-22T04:04:56.770Z",
    "type": "selectCodeCell"
   },
   {
    "code": "Since `date` is detected as an object type in Pandas, in Lux the `date` field is recognized as a `nominal` field, instead of a `temporal` field:",
    "id": "63ee1e0a7426406780b88b20ce857553",
    "order_count": 8,
    "time": "2020-07-22T04:04:56.848Z",
    "type": "selectMarkdownCell"
   },
   {
    "code": "df.dtypes",
    "id": "963f7d84d45f44c18eaccddf6da30038",
    "order_count": 7,
    "time": "2020-07-22T04:04:56.942Z",
    "type": "selectCodeCell"
   },
   {
    "code": "This is the types detected in Pandas's data type [`dtype`](https://pandas.pydata.org/pandas-docs/stable/reference/api/pandas.DataFrame.dtypes.html):",
    "id": "b9da7a733208495e949577ded41b35a9",
    "order_count": 6,
    "time": "2020-07-22T04:04:57.019Z",
    "type": "selectMarkdownCell"
   },
   {
    "code": "df = pd.DataFrame({'date': ['2020-02-01', '2020-03-01', '2020-04-01', '2020-05-01','2020-06-01',],\n                   'value': [10.5,15.2,20.3,25.2, 14.2]})\ndf",
    "id": "26206a60aa1a4c74a40eee54b13fc60f",
    "order_count": 5,
    "time": "2020-07-22T04:04:57.111Z",
    "type": "selectCodeCell"
   },
   {
    "code": "### Example:\n\nAs an example, a dataframe might contain a `date` attribute as strings of dates:",
    "id": "a1f72ab4dd6343be8669b84736ccaba8",
    "order_count": 4,
    "time": "2020-07-22T04:04:57.186Z",
    "type": "selectMarkdownCell"
   },
   {
    "code": "## Converting Strings to Datetime objects\nTo convert column referencing dates/times into [`datetime`](https://docs.python.org/3/library/datetime.html) objects, we use [`pd.to_datetime`](https://pandas.pydata.org/pandas-docs/stable/reference/api/pandas.to_datetime.html).\n\n### Summary: \n\n```\npd.to_datetime(['2020-01-01', '2020-01-15', '2020-02-01'],format=\"%Y-%m-%d\")\n```",
    "id": "7f9babde8d2740f28304e4d51258d434",
    "order_count": 3,
    "time": "2020-07-22T04:04:57.268Z",
    "type": "selectMarkdownCell"
   },
   {
    "code": "import pandas as pd\nimport lux",
    "id": "866632a5a3e44af98a6157e5225e002d",
    "order_count": 2,
    "time": "2020-07-22T04:04:57.359Z",
    "type": "selectCodeCell"
   },
   {
    "code": "cd ..",
    "id": "7ad26935cb0a443b815145d99d228f47",
    "order_count": 1,
    "time": "2020-07-22T04:04:57.442Z",
    "type": "selectCodeCell"
   },
   {
    "code": "# Datetime Tutorial\nThis is a tutorial on how to prepare temporal data for use with Lux. To display temporal fields appropriately in Lux, the column must be converted into Pandas's [`datetime`](https://docs.python.org/3/library/datetime.html) objects. ",
    "id": "930a33f9a7cd43e1842e90c0bc2dde05",
    "order_count": 0,
    "time": "2020-07-22T04:04:57.520Z",
    "type": "selectMarkdownCell"
   },
   {
    "code": "cd ..",
    "id": "7ad26935cb0a443b815145d99d228f47",
    "order_count": 1,
    "time": "2020-07-22T04:04:58.254Z",
    "type": "selectCodeCell"
   },
   {
    "code": "cd ..",
    "id": "7ad26935cb0a443b815145d99d228f47",
    "order_count": 1,
    "time": "2020-07-22T04:04:58.746Z",
    "type": "executeCodeCell"
   },
   {
    "code": "import pandas as pd\nimport lux",
    "id": "866632a5a3e44af98a6157e5225e002d",
    "order_count": 2,
    "time": "2020-07-22T04:04:58.762Z",
    "type": "selectCodeCell"
   },
   {
    "code": "cd ..",
    "id": "7ad26935cb0a443b815145d99d228f47",
    "isPrintLuxDf": false,
    "isPrintPandasDf": false,
    "isPrintVis": false,
    "isPrintVisCollection": false,
    "order_count": 1,
    "time": "2020-07-22T04:04:58.772Z",
    "type": "completeCodeCell"
   },
   {
    "code": "import pandas as pd\nimport lux",
    "id": "866632a5a3e44af98a6157e5225e002d",
    "order_count": 2,
    "time": "2020-07-22T04:04:58.829Z",
    "type": "executeCodeCell"
   },
   {
    "code": "## Converting Strings to Datetime objects\nTo convert column referencing dates/times into [`datetime`](https://docs.python.org/3/library/datetime.html) objects, we use [`pd.to_datetime`](https://pandas.pydata.org/pandas-docs/stable/reference/api/pandas.to_datetime.html).\n\n### Summary: \n\n```\npd.to_datetime(['2020-01-01', '2020-01-15', '2020-02-01'],format=\"%Y-%m-%d\")\n```",
    "id": "7f9babde8d2740f28304e4d51258d434",
    "order_count": 3,
    "time": "2020-07-22T04:04:58.837Z",
    "type": "selectMarkdownCell"
   },
   {
    "code": "### Example:\n\nAs an example, a dataframe might contain a `date` attribute as strings of dates:",
    "id": "a1f72ab4dd6343be8669b84736ccaba8",
    "order_count": 4,
    "time": "2020-07-22T04:04:58.917Z",
    "type": "selectMarkdownCell"
   },
   {
    "code": "df = pd.DataFrame({'date': ['2020-02-01', '2020-03-01', '2020-04-01', '2020-05-01','2020-06-01',],\n                   'value': [10.5,15.2,20.3,25.2, 14.2]})\ndf",
    "id": "26206a60aa1a4c74a40eee54b13fc60f",
    "order_count": 5,
    "time": "2020-07-22T04:04:59.010Z",
    "type": "selectCodeCell"
   },
   {
    "code": "df = pd.DataFrame({'date': ['2020-02-01', '2020-03-01', '2020-04-01', '2020-05-01','2020-06-01',],\n                   'value': [10.5,15.2,20.3,25.2, 14.2]})\ndf",
    "id": "26206a60aa1a4c74a40eee54b13fc60f",
    "order_count": 5,
    "time": "2020-07-22T04:04:59.081Z",
    "type": "executeCodeCell"
   },
   {
    "code": "This is the types detected in Pandas's data type [`dtype`](https://pandas.pydata.org/pandas-docs/stable/reference/api/pandas.DataFrame.dtypes.html):",
    "id": "b9da7a733208495e949577ded41b35a9",
    "order_count": 6,
    "time": "2020-07-22T04:04:59.088Z",
    "type": "selectMarkdownCell"
   },
   {
    "code": "df.dtypes",
    "id": "963f7d84d45f44c18eaccddf6da30038",
    "order_count": 7,
    "time": "2020-07-22T04:04:59.174Z",
    "type": "selectCodeCell"
   },
   {
    "code": "import pandas as pd\nimport lux",
    "id": "866632a5a3e44af98a6157e5225e002d",
    "isPrintLuxDf": false,
    "isPrintPandasDf": false,
    "isPrintVis": false,
    "isPrintVisCollection": false,
    "order_count": 2,
    "time": "2020-07-22T04:04:59.180Z",
    "type": "completeCodeCell"
   },
   {
    "code": "df.dtypes",
    "id": "963f7d84d45f44c18eaccddf6da30038",
    "order_count": 7,
    "time": "2020-07-22T04:04:59.248Z",
    "type": "executeCodeCell"
   },
   {
    "code": "Since `date` is detected as an object type in Pandas, in Lux the `date` field is recognized as a `nominal` field, instead of a `temporal` field:",
    "id": "63ee1e0a7426406780b88b20ce857553",
    "order_count": 8,
    "time": "2020-07-22T04:04:59.254Z",
    "type": "selectMarkdownCell"
   },
   {
    "code": "df.data_type",
    "id": "013050b890ed4e94a255ad649616fac9",
    "order_count": 9,
    "time": "2020-07-22T04:04:59.341Z",
    "type": "selectCodeCell"
   },
   {
    "code": "df.data_type",
    "id": "013050b890ed4e94a255ad649616fac9",
    "order_count": 9,
    "time": "2020-07-22T04:04:59.416Z",
    "type": "executeCodeCell"
   },
   {
    "code": "The typing has implications on the generated viss, since nominal chart types are displayed as bar charts, whereas temporal fields are plotted as time series line charts.",
    "id": "4b7138e3c7e8430ca9c679ea2ab48d20",
    "order_count": 10,
    "time": "2020-07-22T04:04:59.422Z",
    "type": "selectMarkdownCell"
   },
   {
    "code": "from lux.vis.Vis import Vis\nvis = Vis([\"date\",\"value\"],df)\nvis",
    "id": "0c6a45ae9fa34381818f5a5c689618b8",
    "order_count": 11,
    "time": "2020-07-22T04:04:59.515Z",
    "type": "selectCodeCell"
   },
   {
    "code": "from lux.vis.Vis import Vis\nvis = Vis([\"date\",\"value\"],df)\nvis",
    "id": "0c6a45ae9fa34381818f5a5c689618b8",
    "order_count": 11,
    "time": "2020-07-22T04:04:59.584Z",
    "type": "executeCodeCell"
   },
   {
    "code": "To fix this, we can convert the `date` column into a datetime object by doing:",
    "id": "0ba893fc6bba4eaf8e3662875732565e",
    "order_count": 12,
    "time": "2020-07-22T04:04:59.591Z",
    "type": "selectMarkdownCell"
   },
   {
    "code": "df = pd.DataFrame({'date': ['2020-02-01', '2020-03-01', '2020-04-01', '2020-05-01','2020-06-01',],\n                   'value': [10.5,15.2,20.3,25.2, 14.2]})\ndf",
    "id": "26206a60aa1a4c74a40eee54b13fc60f",
    "isPrintLuxDf": false,
    "isPrintPandasDf": true,
    "isPrintVis": false,
    "isPrintVisCollection": false,
    "order_count": 5,
    "time": "2020-07-22T04:04:59.630Z",
    "type": "completeCodeCell"
   },
   {
    "code": "df.dtypes",
    "id": "963f7d84d45f44c18eaccddf6da30038",
    "isPrintLuxDf": false,
    "isPrintPandasDf": false,
    "isPrintVis": false,
    "isPrintVisCollection": false,
    "order_count": 7,
    "time": "2020-07-22T04:04:59.634Z",
    "type": "completeCodeCell"
   },
   {
    "code": "df.data_type",
    "id": "013050b890ed4e94a255ad649616fac9",
    "isPrintLuxDf": false,
    "isPrintPandasDf": false,
    "isPrintVis": false,
    "isPrintVisCollection": false,
    "order_count": 9,
    "time": "2020-07-22T04:04:59.637Z",
    "type": "completeCodeCell"
   },
   {
    "code": "from lux.vis.Vis import Vis\nvis = Vis([\"date\",\"value\"],df)\nvis",
    "id": "0c6a45ae9fa34381818f5a5c689618b8",
    "isPrintLuxDf": false,
    "isPrintPandasDf": false,
    "isPrintVis": true,
    "isPrintVisCollection": false,
    "order_count": 11,
    "time": "2020-07-22T04:04:59.655Z",
    "type": "completeCodeCell"
   },
   {
    "param": "",
    "time": "2020-07-22T04:04:59.663Z",
    "type": "initWidget"
   },
   {
    "code": "df['date'] = pd.to_datetime(df['date'],format=\"%Y-%m-%d\")\ndf['date']",
    "id": "c9059805d6104a329aff30bee0df619f",
    "order_count": 13,
    "time": "2020-07-22T04:04:59.686Z",
    "type": "selectCodeCell"
   },
   {
    "code": "df['date'] = pd.to_datetime(df['date'],format=\"%Y-%m-%d\")\ndf['date']",
    "id": "c9059805d6104a329aff30bee0df619f",
    "order_count": 13,
    "time": "2020-07-22T04:04:59.750Z",
    "type": "executeCodeCell"
   },
   {
    "code": "After changing the Pandas data type to datetime, we see that date field is recognized as temporal fields in Lux.",
    "id": "c226301622c8479e8d5218011f3d6ad9",
    "order_count": 14,
    "time": "2020-07-22T04:04:59.756Z",
    "type": "selectMarkdownCell"
   },
   {
    "code": "df['date'] = pd.to_datetime(df['date'],format=\"%Y-%m-%d\")\ndf['date']",
    "id": "c9059805d6104a329aff30bee0df619f",
    "isPrintLuxDf": false,
    "isPrintPandasDf": false,
    "isPrintVis": false,
    "isPrintVisCollection": false,
    "order_count": 13,
    "time": "2020-07-22T04:04:59.769Z",
    "type": "completeCodeCell"
   },
   {
    "code": "df.data_type",
    "id": "74eb3159d0b34723945348993fa9e8e1",
    "order_count": 15,
    "time": "2020-07-22T04:04:59.844Z",
    "type": "selectCodeCell"
   },
   {
    "code": "df.data_type",
    "id": "74eb3159d0b34723945348993fa9e8e1",
    "order_count": 15,
    "time": "2020-07-22T04:04:59.919Z",
    "type": "executeCodeCell"
   },
   {
    "code": "vis.refresh_source(df)\nvis",
    "id": "db8018345d114e0d926c9f273ebbd799",
    "order_count": 16,
    "time": "2020-07-22T04:04:59.931Z",
    "type": "selectCodeCell"
   },
   {
    "code": "df.data_type",
    "id": "74eb3159d0b34723945348993fa9e8e1",
    "isPrintLuxDf": false,
    "isPrintPandasDf": false,
    "isPrintVis": false,
    "isPrintVisCollection": false,
    "order_count": 15,
    "time": "2020-07-22T04:04:59.942Z",
    "type": "completeCodeCell"
   },
   {
    "code": "vis.refresh_source(df)\nvis",
    "id": "db8018345d114e0d926c9f273ebbd799",
    "order_count": 16,
    "time": "2020-07-22T04:05:00.001Z",
    "type": "executeCodeCell"
   },
   {
    "code": "## Advanced Date Manipulation\nYou might notice earlier that all the dates in our example dataset are the first of the month. In this case, there may be situations where we only want to list the year and month, instead of the full date. Here, we look at how to handle these cases.\n\nBelow we look at an example stocks dataset that also have `date` field with each row representing data for the first of each month.",
    "id": "2ff0daa85898446088e2abc26eaeb4b8",
    "order_count": 17,
    "time": "2020-07-22T04:05:00.007Z",
    "type": "selectMarkdownCell"
   },
   {
    "code": "vis.refresh_source(df)\nvis",
    "id": "db8018345d114e0d926c9f273ebbd799",
    "isPrintLuxDf": false,
    "isPrintPandasDf": false,
    "isPrintVis": true,
    "isPrintVisCollection": false,
    "order_count": 16,
    "time": "2020-07-22T04:05:00.045Z",
    "type": "completeCodeCell"
   },
   {
    "param": "",
    "time": "2020-07-22T04:05:00.049Z",
    "type": "initWidget"
   },
   {
    "code": "df = pd.read_csv(\"lux/data/stocks.csv\")\n\ndf.dtypes",
    "id": "660e772ed66648dba0001802649f2e53",
    "order_count": 18,
    "time": "2020-07-22T04:05:00.095Z",
    "type": "selectCodeCell"
   },
   {
    "code": "df = pd.read_csv(\"lux/data/stocks.csv\")\n\ndf.dtypes",
    "id": "660e772ed66648dba0001802649f2e53",
    "order_count": 18,
    "time": "2020-07-22T04:05:00.167Z",
    "type": "executeCodeCell"
   },
   {
    "code": "vis = Vis([\"date\",\"price\"],df)\nvis",
    "id": "5d2b5a08a17045a283edf915c5ff7f73",
    "order_count": 19,
    "time": "2020-07-22T04:05:00.180Z",
    "type": "selectCodeCell"
   },
   {
    "code": "df = pd.read_csv(\"lux/data/stocks.csv\")\n\ndf.dtypes",
    "id": "660e772ed66648dba0001802649f2e53",
    "isPrintLuxDf": false,
    "isPrintPandasDf": false,
    "isPrintVis": false,
    "isPrintVisCollection": false,
    "order_count": 18,
    "time": "2020-07-22T04:05:00.190Z",
    "type": "completeCodeCell"
   },
   {
    "code": "vis = Vis([\"date\",\"price\"],df)\nvis",
    "id": "5d2b5a08a17045a283edf915c5ff7f73",
    "order_count": 19,
    "time": "2020-07-22T04:05:00.258Z",
    "type": "executeCodeCell"
   },
   {
    "code": "If we only want Lux to output the month and the year, we can convert the columnn to a [`PeriodIndex`](https://pandas.pydata.org/pandas-docs/stable/reference/api/pandas.PeriodIndex.html) using [`to_period`](https://pandas.pydata.org/pandas-docs/stable/reference/api/pandas.DatetimeIndex.to_period.html). The `freq` argument specifies the granularity of the output. In this case, we are using 'M' for monthly. You can find more about how to specify time periods [here](https://pandas.pydata.org/pandas-docs/stable/user_guide/timeseries.html#dateoffset-objects).",
    "id": "7adeb78f74a149af9787f3b5f20b7ca2",
    "order_count": 20,
    "time": "2020-07-22T04:05:00.264Z",
    "type": "selectMarkdownCell"
   },
   {
    "code": "vis = Vis([\"date\",\"price\"],df)\nvis",
    "id": "5d2b5a08a17045a283edf915c5ff7f73",
    "isPrintLuxDf": false,
    "isPrintPandasDf": false,
    "isPrintVis": true,
    "isPrintVisCollection": false,
    "order_count": 19,
    "time": "2020-07-22T04:05:00.303Z",
    "type": "completeCodeCell"
   },
   {
    "param": "",
    "time": "2020-07-22T04:05:00.306Z",
    "type": "initWidget"
   },
   {
    "code": "df[\"date\"] = pd.DatetimeIndex(df[\"date\"]).to_period(freq='M')",
    "id": "7233028925854dd286169564055ccfbd",
    "order_count": 21,
    "time": "2020-07-22T04:05:00.502Z",
    "type": "selectCodeCell"
   },
   {
    "code": "df[\"date\"] = pd.DatetimeIndex(df[\"date\"]).to_period(freq='M')",
    "id": "7233028925854dd286169564055ccfbd",
    "order_count": 21,
    "time": "2020-07-22T04:05:00.662Z",
    "type": "executeCodeCell"
   },
   {
    "code": "vis.refresh_source(df)\nvis",
    "id": "1a72cb8910824ede9ecec41633e8fe85",
    "order_count": 22,
    "time": "2020-07-22T04:05:00.681Z",
    "type": "selectCodeCell"
   },
   {
    "code": "df[\"date\"] = pd.DatetimeIndex(df[\"date\"]).to_period(freq='M')",
    "id": "7233028925854dd286169564055ccfbd",
    "isPrintLuxDf": false,
    "isPrintPandasDf": false,
    "isPrintVis": false,
    "isPrintVisCollection": false,
    "order_count": 21,
    "time": "2020-07-22T04:05:00.688Z",
    "type": "completeCodeCell"
   },
   {
    "code": "vis.refresh_source(df)\nvis",
    "id": "1a72cb8910824ede9ecec41633e8fe85",
    "order_count": 22,
    "time": "2020-07-22T04:05:00.822Z",
    "type": "executeCodeCell"
   },
   {
    "code": "df['date']",
    "id": "13290d9f3abe41479715269db140bef3",
    "order_count": 23,
    "time": "2020-07-22T04:05:00.837Z",
    "type": "selectCodeCell"
   },
   {
    "code": "vis.refresh_source(df)\nvis",
    "id": "1a72cb8910824ede9ecec41633e8fe85",
    "isPrintLuxDf": false,
    "isPrintPandasDf": false,
    "isPrintVis": true,
    "isPrintVisCollection": false,
    "order_count": 22,
    "time": "2020-07-22T04:05:00.891Z",
    "type": "completeCodeCell"
   },
   {
    "param": "",
    "time": "2020-07-22T04:05:00.894Z",
    "type": "initWidget"
   },
   {
    "code": "df['date']",
    "id": "13290d9f3abe41479715269db140bef3",
    "order_count": 23,
    "time": "2020-07-22T04:05:00.974Z",
    "type": "executeCodeCell"
   },
   {
    "code": "## Querying With Datetime Fields\nThe string representation seen in the Dataframe can be used to filter out certain dates. \nFor example, in the above `stocks` dataset, we converted the date column to a `PeriodIndex`. Now the string representation only shows the granularity we want to see. \n\nWe can use that string representation to filter the dataframe in Pandas:",
    "id": "95b8609d2f34485c880c9a931e952bbf",
    "order_count": 24,
    "time": "2020-07-22T04:05:00.982Z",
    "type": "selectMarkdownCell"
   },
   {
    "code": "df['date']",
    "id": "13290d9f3abe41479715269db140bef3",
    "isPrintLuxDf": false,
    "isPrintPandasDf": false,
    "isPrintVis": false,
    "isPrintVisCollection": false,
    "order_count": 23,
    "time": "2020-07-22T04:05:00.997Z",
    "type": "completeCodeCell"
   },
   {
    "code": "rdf = df[df['date'] == '2008-11']\nrdf ",
    "id": "045de606aaf445808f0105328f30c64e",
    "order_count": 25,
    "time": "2020-07-22T04:05:01.152Z",
    "type": "selectCodeCell"
   },
   {
    "code": "rdf = df[df['date'] == '2008-11']\nrdf ",
    "id": "045de606aaf445808f0105328f30c64e",
    "order_count": 25,
    "time": "2020-07-22T04:05:01.399Z",
    "type": "executeCodeCell"
   },
   {
    "code": "rdf.recommendation",
    "id": "4acd1d399f2f4582a819093f08ab64b9",
    "order_count": 26,
    "time": "2020-07-22T04:05:01.412Z",
    "type": "selectCodeCell"
   },
   {
    "code": "rdf = df[df['date'] == '2008-11']\nrdf ",
    "id": "045de606aaf445808f0105328f30c64e",
    "isPrintLuxDf": false,
    "isPrintPandasDf": true,
    "isPrintVis": false,
    "isPrintVisCollection": false,
    "order_count": 25,
    "time": "2020-07-22T04:05:01.579Z",
    "type": "completeCodeCell"
   },
   {
    "code": "rdf = df[df['date'] == '2008-11']\nrdf ",
    "id": "045de606aaf445808f0105328f30c64e",
    "order_count": 25,
    "time": "2020-07-22T04:05:03.366Z",
    "type": "selectCodeCell"
   },
   {
    "param": "",
    "time": "2020-07-22T04:05:03.381Z",
    "type": "initWidget"
   },
   {
    "param": "",
    "time": "2020-07-22T04:05:03.433Z",
    "type": "initWidget"
   },
   {
    "code": "rdf = df[df['date'] == '2008-11']\nrdf ",
    "id": "045de606aaf445808f0105328f30c64e",
    "order_count": 25,
    "time": "2020-07-22T04:05:08.123Z",
    "type": "editCodeCell"
   },
   {
    "code": "",
    "id": "63c5723a068146dab78ec43582db9765",
    "order_count": 26,
    "time": "2020-07-22T04:05:09.681Z",
    "type": "selectCodeCell"
   },
   {
    "code": "",
    "id": "63c5723a068146dab78ec43582db9765",
    "order_count": 26,
    "time": "2020-07-22T04:05:09.877Z",
    "type": "editCodeCell"
   },
   {
    "code": "rdf.pre_aggregated",
    "id": "63c5723a068146dab78ec43582db9765",
    "order_count": 26,
    "time": "2020-07-22T04:05:17.423Z",
    "type": "executeCodeCell"
   },
   {
    "code": "rdf.recommendation",
    "id": "4acd1d399f2f4582a819093f08ab64b9",
    "order_count": 27,
    "time": "2020-07-22T04:05:17.455Z",
    "type": "selectCodeCell"
   },
   {
    "code": "rdf.pre_aggregated",
    "id": "63c5723a068146dab78ec43582db9765",
    "isPrintLuxDf": false,
    "isPrintPandasDf": false,
    "isPrintVis": false,
    "isPrintVisCollection": false,
    "order_count": 26,
    "time": "2020-07-22T04:05:17.465Z",
    "type": "completeCodeCell"
   },
   {
    "code": "rdf = df[df['date'] == '2008-11']\nrdf ",
    "id": "045de606aaf445808f0105328f30c64e",
    "order_count": 25,
    "time": "2020-07-22T04:09:39.625Z",
    "type": "selectCodeCell"
   },
   {
    "code": "rdf.pre_aggregated",
    "id": "63c5723a068146dab78ec43582db9765",
    "order_count": 26,
    "time": "2020-07-22T04:10:44.988Z",
    "type": "selectCodeCell"
   },
   {
    "code": "rdf.pre_aggregated",
    "id": "63c5723a068146dab78ec43582db9765",
    "order_count": 26,
    "time": "2020-07-22T04:10:44.998Z",
    "type": "editCodeCell"
   },
   {
    "code": "rdf.pre_aggregated",
    "id": "63c5723a068146dab78ec43582db9765",
    "order_count": 26,
    "time": "2020-07-22T04:10:45.799Z",
    "type": "selectCodeCell"
   },
   {
    "code": "rdf.pre_aggregated",
    "id": "63c5723a068146dab78ec43582db9765",
    "order_count": 26,
    "time": "2020-07-22T04:10:46.738Z",
    "type": "selectCodeCell"
   },
   {
    "code": "rdf.index.dtype",
    "id": "63c5723a068146dab78ec43582db9765",
    "order_count": 26,
    "time": "2020-07-22T04:10:49.540Z",
    "type": "executeCodeCell"
   },
   {
    "code": "rdf.recommendation",
    "id": "4acd1d399f2f4582a819093f08ab64b9",
    "order_count": 27,
    "time": "2020-07-22T04:10:49.573Z",
    "type": "selectCodeCell"
   },
   {
    "code": "rdf.index.dtype",
    "id": "63c5723a068146dab78ec43582db9765",
    "isPrintLuxDf": false,
    "isPrintPandasDf": false,
    "isPrintVis": false,
    "isPrintVisCollection": false,
    "order_count": 26,
    "time": "2020-07-22T04:10:49.593Z",
    "type": "completeCodeCell"
   },
   {
    "code": "rdf.index.dtype",
    "id": "63c5723a068146dab78ec43582db9765",
    "order_count": 26,
    "time": "2020-07-22T04:10:50.190Z",
    "type": "selectCodeCell"
   },
   {
    "code": "rdf.index.dtype",
    "id": "63c5723a068146dab78ec43582db9765",
    "order_count": 26,
    "time": "2020-07-22T04:10:50.649Z",
    "type": "editCodeCell"
   },
   {
    "code": "rdf.index.dtype!='int64'",
    "id": "63c5723a068146dab78ec43582db9765",
    "order_count": 26,
    "time": "2020-07-22T04:10:55.644Z",
    "type": "executeCodeCell"
   },
   {
    "code": "rdf.recommendation",
    "id": "4acd1d399f2f4582a819093f08ab64b9",
    "order_count": 27,
    "time": "2020-07-22T04:10:55.675Z",
    "type": "selectCodeCell"
   },
   {
    "code": "rdf.index.dtype!='int64'",
    "id": "63c5723a068146dab78ec43582db9765",
    "isPrintLuxDf": false,
    "isPrintPandasDf": false,
    "isPrintVis": false,
    "isPrintVisCollection": false,
    "order_count": 26,
    "time": "2020-07-22T04:10:55.687Z",
    "type": "completeCodeCell"
   },
   {
    "code": "rdf.index.dtype!='int64'",
    "id": "63c5723a068146dab78ec43582db9765",
    "order_count": 26,
    "time": "2020-07-22T04:10:56.367Z",
    "type": "selectCodeCell"
   },
   {
    "code": "rdf.index.dtype!='int64'",
    "id": "63c5723a068146dab78ec43582db9765",
    "order_count": 26,
    "time": "2020-07-22T04:11:02.747Z",
    "type": "editCodeCell"
   },
   {
    "code": "rdf.index.dtype!='int64'",
    "id": "63c5723a068146dab78ec43582db9765",
    "order_count": 26,
    "time": "2020-07-22T04:11:53.342Z",
    "type": "editCodeCell"
   },
   {
    "code": "",
    "id": "c4156663e2da488a944d8388ed3feacc",
    "order_count": 26,
    "time": "2020-07-22T04:11:57.203Z",
    "type": "selectCodeCell"
   },
   {
    "code": "",
    "id": "c4156663e2da488a944d8388ed3feacc",
    "order_count": 26,
    "time": "2020-07-22T04:11:57.306Z",
    "type": "editCodeCell"
   },
   {
    "code": "rdf.index.nlevels",
    "id": "c4156663e2da488a944d8388ed3feacc",
    "order_count": 26,
    "time": "2020-07-22T04:12:02.439Z",
    "type": "executeCodeCell"
   },
   {
    "code": "\nrdf.index.dtype!='int64'",
    "id": "63c5723a068146dab78ec43582db9765",
    "order_count": 27,
    "time": "2020-07-22T04:12:02.472Z",
    "type": "selectCodeCell"
   },
   {
    "code": "rdf.index.nlevels",
    "id": "c4156663e2da488a944d8388ed3feacc",
    "isPrintLuxDf": false,
    "isPrintPandasDf": false,
    "isPrintVis": false,
    "isPrintVisCollection": false,
    "order_count": 26,
    "time": "2020-07-22T04:12:02.479Z",
    "type": "completeCodeCell"
   },
   {
    "code": "rdf = df[df['date'] == '2008-11']\nrdf ",
    "id": "045de606aaf445808f0105328f30c64e",
    "order_count": 25,
    "time": "2020-07-22T04:12:12.764Z",
    "type": "selectCodeCell"
   },
   {
    "time": "2020-07-22T04:12:14.107Z",
    "type": "kernelRestart"
   },
   {
    "time": "2020-07-22T04:12:14.282Z",
    "type": "kernelRestart"
   },
   {
    "code": "## Querying With Datetime Fields\nThe string representation seen in the Dataframe can be used to filter out certain dates. \nFor example, in the above `stocks` dataset, we converted the date column to a `PeriodIndex`. Now the string representation only shows the granularity we want to see. \n\nWe can use that string representation to filter the dataframe in Pandas:",
    "id": "95b8609d2f34485c880c9a931e952bbf",
    "order_count": 24,
    "time": "2020-07-22T04:12:14.740Z",
    "type": "selectMarkdownCell"
   },
   {
    "code": "df['date']",
    "id": "13290d9f3abe41479715269db140bef3",
    "order_count": 23,
    "time": "2020-07-22T04:12:15.243Z",
    "type": "selectCodeCell"
   },
   {
    "code": "vis.refresh_source(df)\nvis",
    "id": "1a72cb8910824ede9ecec41633e8fe85",
    "order_count": 22,
    "time": "2020-07-22T04:12:15.327Z",
    "type": "selectCodeCell"
   },
   {
    "code": "df[\"date\"] = pd.DatetimeIndex(df[\"date\"]).to_period(freq='M')",
    "id": "7233028925854dd286169564055ccfbd",
    "order_count": 21,
    "time": "2020-07-22T04:12:15.409Z",
    "type": "selectCodeCell"
   },
   {
    "code": "If we only want Lux to output the month and the year, we can convert the columnn to a [`PeriodIndex`](https://pandas.pydata.org/pandas-docs/stable/reference/api/pandas.PeriodIndex.html) using [`to_period`](https://pandas.pydata.org/pandas-docs/stable/reference/api/pandas.DatetimeIndex.to_period.html). The `freq` argument specifies the granularity of the output. In this case, we are using 'M' for monthly. You can find more about how to specify time periods [here](https://pandas.pydata.org/pandas-docs/stable/user_guide/timeseries.html#dateoffset-objects).",
    "id": "7adeb78f74a149af9787f3b5f20b7ca2",
    "order_count": 20,
    "time": "2020-07-22T04:12:15.486Z",
    "type": "selectMarkdownCell"
   },
   {
    "code": "vis = Vis([\"date\",\"price\"],df)\nvis",
    "id": "5d2b5a08a17045a283edf915c5ff7f73",
    "order_count": 19,
    "time": "2020-07-22T04:12:15.581Z",
    "type": "selectCodeCell"
   },
   {
    "code": "df = pd.read_csv(\"lux/data/stocks.csv\")\n\ndf.dtypes",
    "id": "660e772ed66648dba0001802649f2e53",
    "order_count": 18,
    "time": "2020-07-22T04:12:15.666Z",
    "type": "selectCodeCell"
   },
   {
    "code": "## Advanced Date Manipulation\nYou might notice earlier that all the dates in our example dataset are the first of the month. In this case, there may be situations where we only want to list the year and month, instead of the full date. Here, we look at how to handle these cases.\n\nBelow we look at an example stocks dataset that also have `date` field with each row representing data for the first of each month.",
    "id": "2ff0daa85898446088e2abc26eaeb4b8",
    "order_count": 17,
    "time": "2020-07-22T04:12:15.738Z",
    "type": "selectMarkdownCell"
   },
   {
    "code": "vis.refresh_source(df)\nvis",
    "id": "db8018345d114e0d926c9f273ebbd799",
    "order_count": 16,
    "time": "2020-07-22T04:12:15.827Z",
    "type": "selectCodeCell"
   },
   {
    "code": "df.data_type",
    "id": "74eb3159d0b34723945348993fa9e8e1",
    "order_count": 15,
    "time": "2020-07-22T04:12:15.912Z",
    "type": "selectCodeCell"
   },
   {
    "code": "After changing the Pandas data type to datetime, we see that date field is recognized as temporal fields in Lux.",
    "id": "c226301622c8479e8d5218011f3d6ad9",
    "order_count": 14,
    "time": "2020-07-22T04:12:15.989Z",
    "type": "selectMarkdownCell"
   },
   {
    "code": "df['date'] = pd.to_datetime(df['date'],format=\"%Y-%m-%d\")\ndf['date']",
    "id": "c9059805d6104a329aff30bee0df619f",
    "order_count": 13,
    "time": "2020-07-22T04:12:16.078Z",
    "type": "selectCodeCell"
   },
   {
    "time": "2020-07-22T04:12:16.114Z",
    "type": "kernelReady"
   },
   {
    "time": "2020-07-22T04:12:16.150Z",
    "type": "kernelReady"
   },
   {
    "code": "To fix this, we can convert the `date` column into a datetime object by doing:",
    "id": "0ba893fc6bba4eaf8e3662875732565e",
    "order_count": 12,
    "time": "2020-07-22T04:12:16.158Z",
    "type": "selectMarkdownCell"
   },
   {
    "code": "from lux.vis.Vis import Vis\nvis = Vis([\"date\",\"value\"],df)\nvis",
    "id": "0c6a45ae9fa34381818f5a5c689618b8",
    "order_count": 11,
    "time": "2020-07-22T04:12:16.244Z",
    "type": "selectCodeCell"
   },
   {
    "code": "The typing has implications on the generated viss, since nominal chart types are displayed as bar charts, whereas temporal fields are plotted as time series line charts.",
    "id": "4b7138e3c7e8430ca9c679ea2ab48d20",
    "order_count": 10,
    "time": "2020-07-22T04:12:16.322Z",
    "type": "selectMarkdownCell"
   },
   {
    "code": "df.data_type",
    "id": "013050b890ed4e94a255ad649616fac9",
    "order_count": 9,
    "time": "2020-07-22T04:12:16.410Z",
    "type": "selectCodeCell"
   },
   {
    "code": "Since `date` is detected as an object type in Pandas, in Lux the `date` field is recognized as a `nominal` field, instead of a `temporal` field:",
    "id": "63ee1e0a7426406780b88b20ce857553",
    "order_count": 8,
    "time": "2020-07-22T04:12:16.489Z",
    "type": "selectMarkdownCell"
   },
   {
    "code": "df.dtypes",
    "id": "963f7d84d45f44c18eaccddf6da30038",
    "order_count": 7,
    "time": "2020-07-22T04:12:16.578Z",
    "type": "selectCodeCell"
   },
   {
    "code": "This is the types detected in Pandas's data type [`dtype`](https://pandas.pydata.org/pandas-docs/stable/reference/api/pandas.DataFrame.dtypes.html):",
    "id": "b9da7a733208495e949577ded41b35a9",
    "order_count": 6,
    "time": "2020-07-22T04:12:16.657Z",
    "type": "selectMarkdownCell"
   },
   {
    "code": "df = pd.DataFrame({'date': ['2020-02-01', '2020-03-01', '2020-04-01', '2020-05-01','2020-06-01',],\n                   'value': [10.5,15.2,20.3,25.2, 14.2]})\ndf",
    "id": "26206a60aa1a4c74a40eee54b13fc60f",
    "order_count": 5,
    "time": "2020-07-22T04:12:16.749Z",
    "type": "selectCodeCell"
   },
   {
    "code": "### Example:\n\nAs an example, a dataframe might contain a `date` attribute as strings of dates:",
    "id": "a1f72ab4dd6343be8669b84736ccaba8",
    "order_count": 4,
    "time": "2020-07-22T04:12:16.824Z",
    "type": "selectMarkdownCell"
   },
   {
    "code": "## Converting Strings to Datetime objects\nTo convert column referencing dates/times into [`datetime`](https://docs.python.org/3/library/datetime.html) objects, we use [`pd.to_datetime`](https://pandas.pydata.org/pandas-docs/stable/reference/api/pandas.to_datetime.html).\n\n### Summary: \n\n```\npd.to_datetime(['2020-01-01', '2020-01-15', '2020-02-01'],format=\"%Y-%m-%d\")\n```",
    "id": "7f9babde8d2740f28304e4d51258d434",
    "order_count": 3,
    "time": "2020-07-22T04:12:16.907Z",
    "type": "selectMarkdownCell"
   },
   {
    "code": "import pandas as pd\nimport lux",
    "id": "866632a5a3e44af98a6157e5225e002d",
    "order_count": 2,
    "time": "2020-07-22T04:12:16.995Z",
    "type": "selectCodeCell"
   },
   {
    "code": "cd ..",
    "id": "7ad26935cb0a443b815145d99d228f47",
    "order_count": 1,
    "time": "2020-07-22T04:12:17.079Z",
    "type": "selectCodeCell"
   },
   {
    "code": "# Datetime Tutorial\nThis is a tutorial on how to prepare temporal data for use with Lux. To display temporal fields appropriately in Lux, the column must be converted into Pandas's [`datetime`](https://docs.python.org/3/library/datetime.html) objects. ",
    "id": "930a33f9a7cd43e1842e90c0bc2dde05",
    "order_count": 0,
    "time": "2020-07-22T04:12:17.157Z",
    "type": "selectMarkdownCell"
   },
   {
    "code": "cd ..",
    "id": "7ad26935cb0a443b815145d99d228f47",
    "order_count": 1,
    "time": "2020-07-22T04:12:17.894Z",
    "type": "selectCodeCell"
   },
   {
    "code": "cd ..",
    "id": "7ad26935cb0a443b815145d99d228f47",
    "order_count": 1,
    "time": "2020-07-22T04:12:18.387Z",
    "type": "executeCodeCell"
   },
   {
    "code": "import pandas as pd\nimport lux",
    "id": "866632a5a3e44af98a6157e5225e002d",
    "order_count": 2,
    "time": "2020-07-22T04:12:18.404Z",
    "type": "selectCodeCell"
   },
   {
    "code": "cd ..",
    "id": "7ad26935cb0a443b815145d99d228f47",
    "isPrintLuxDf": false,
    "isPrintPandasDf": false,
    "isPrintVis": false,
    "isPrintVisCollection": false,
    "order_count": 1,
    "time": "2020-07-22T04:12:18.420Z",
    "type": "completeCodeCell"
   },
   {
    "code": "import pandas as pd\nimport lux",
    "id": "866632a5a3e44af98a6157e5225e002d",
    "order_count": 2,
    "time": "2020-07-22T04:12:18.471Z",
    "type": "executeCodeCell"
   },
   {
    "code": "## Converting Strings to Datetime objects\nTo convert column referencing dates/times into [`datetime`](https://docs.python.org/3/library/datetime.html) objects, we use [`pd.to_datetime`](https://pandas.pydata.org/pandas-docs/stable/reference/api/pandas.to_datetime.html).\n\n### Summary: \n\n```\npd.to_datetime(['2020-01-01', '2020-01-15', '2020-02-01'],format=\"%Y-%m-%d\")\n```",
    "id": "7f9babde8d2740f28304e4d51258d434",
    "order_count": 3,
    "time": "2020-07-22T04:12:18.480Z",
    "type": "selectMarkdownCell"
   },
   {
    "code": "### Example:\n\nAs an example, a dataframe might contain a `date` attribute as strings of dates:",
    "id": "a1f72ab4dd6343be8669b84736ccaba8",
    "order_count": 4,
    "time": "2020-07-22T04:12:18.555Z",
    "type": "selectMarkdownCell"
   },
   {
    "code": "df = pd.DataFrame({'date': ['2020-02-01', '2020-03-01', '2020-04-01', '2020-05-01','2020-06-01',],\n                   'value': [10.5,15.2,20.3,25.2, 14.2]})\ndf",
    "id": "26206a60aa1a4c74a40eee54b13fc60f",
    "order_count": 5,
    "time": "2020-07-22T04:12:18.652Z",
    "type": "selectCodeCell"
   },
   {
    "code": "df = pd.DataFrame({'date': ['2020-02-01', '2020-03-01', '2020-04-01', '2020-05-01','2020-06-01',],\n                   'value': [10.5,15.2,20.3,25.2, 14.2]})\ndf",
    "id": "26206a60aa1a4c74a40eee54b13fc60f",
    "order_count": 5,
    "time": "2020-07-22T04:12:18.721Z",
    "type": "executeCodeCell"
   },
   {
    "code": "This is the types detected in Pandas's data type [`dtype`](https://pandas.pydata.org/pandas-docs/stable/reference/api/pandas.DataFrame.dtypes.html):",
    "id": "b9da7a733208495e949577ded41b35a9",
    "order_count": 6,
    "time": "2020-07-22T04:12:18.732Z",
    "type": "selectMarkdownCell"
   },
   {
    "code": "df.dtypes",
    "id": "963f7d84d45f44c18eaccddf6da30038",
    "order_count": 7,
    "time": "2020-07-22T04:12:18.814Z",
    "type": "selectCodeCell"
   },
   {
    "code": "df.dtypes",
    "id": "963f7d84d45f44c18eaccddf6da30038",
    "order_count": 7,
    "time": "2020-07-22T04:12:18.885Z",
    "type": "executeCodeCell"
   },
   {
    "code": "Since `date` is detected as an object type in Pandas, in Lux the `date` field is recognized as a `nominal` field, instead of a `temporal` field:",
    "id": "63ee1e0a7426406780b88b20ce857553",
    "order_count": 8,
    "time": "2020-07-22T04:12:18.893Z",
    "type": "selectMarkdownCell"
   },
   {
    "code": "df.data_type",
    "id": "013050b890ed4e94a255ad649616fac9",
    "order_count": 9,
    "time": "2020-07-22T04:12:18.981Z",
    "type": "selectCodeCell"
   },
   {
    "code": "import pandas as pd\nimport lux",
    "id": "866632a5a3e44af98a6157e5225e002d",
    "isPrintLuxDf": false,
    "isPrintPandasDf": false,
    "isPrintVis": false,
    "isPrintVisCollection": false,
    "order_count": 2,
    "time": "2020-07-22T04:12:19.049Z",
    "type": "completeCodeCell"
   },
   {
    "code": "df.data_type",
    "id": "013050b890ed4e94a255ad649616fac9",
    "order_count": 9,
    "time": "2020-07-22T04:12:19.052Z",
    "type": "executeCodeCell"
   },
   {
    "code": "The typing has implications on the generated viss, since nominal chart types are displayed as bar charts, whereas temporal fields are plotted as time series line charts.",
    "id": "4b7138e3c7e8430ca9c679ea2ab48d20",
    "order_count": 10,
    "time": "2020-07-22T04:12:19.062Z",
    "type": "selectMarkdownCell"
   },
   {
    "code": "from lux.vis.Vis import Vis\nvis = Vis([\"date\",\"value\"],df)\nvis",
    "id": "0c6a45ae9fa34381818f5a5c689618b8",
    "order_count": 11,
    "time": "2020-07-22T04:12:19.148Z",
    "type": "selectCodeCell"
   },
   {
    "code": "from lux.vis.Vis import Vis\nvis = Vis([\"date\",\"value\"],df)\nvis",
    "id": "0c6a45ae9fa34381818f5a5c689618b8",
    "order_count": 11,
    "time": "2020-07-22T04:12:19.218Z",
    "type": "executeCodeCell"
   },
   {
    "code": "To fix this, we can convert the `date` column into a datetime object by doing:",
    "id": "0ba893fc6bba4eaf8e3662875732565e",
    "order_count": 12,
    "time": "2020-07-22T04:12:19.224Z",
    "type": "selectMarkdownCell"
   },
   {
    "code": "df['date'] = pd.to_datetime(df['date'],format=\"%Y-%m-%d\")\ndf['date']",
    "id": "c9059805d6104a329aff30bee0df619f",
    "order_count": 13,
    "time": "2020-07-22T04:12:19.311Z",
    "type": "selectCodeCell"
   },
   {
    "code": "df['date'] = pd.to_datetime(df['date'],format=\"%Y-%m-%d\")\ndf['date']",
    "id": "c9059805d6104a329aff30bee0df619f",
    "order_count": 13,
    "time": "2020-07-22T04:12:19.386Z",
    "type": "executeCodeCell"
   },
   {
    "code": "After changing the Pandas data type to datetime, we see that date field is recognized as temporal fields in Lux.",
    "id": "c226301622c8479e8d5218011f3d6ad9",
    "order_count": 14,
    "time": "2020-07-22T04:12:19.394Z",
    "type": "selectMarkdownCell"
   },
   {
    "code": "df = pd.DataFrame({'date': ['2020-02-01', '2020-03-01', '2020-04-01', '2020-05-01','2020-06-01',],\n                   'value': [10.5,15.2,20.3,25.2, 14.2]})\ndf",
    "id": "26206a60aa1a4c74a40eee54b13fc60f",
    "isPrintLuxDf": false,
    "isPrintPandasDf": true,
    "isPrintVis": false,
    "isPrintVisCollection": false,
    "order_count": 5,
    "time": "2020-07-22T04:12:19.503Z",
    "type": "completeCodeCell"
   },
   {
    "code": "df.dtypes",
    "id": "963f7d84d45f44c18eaccddf6da30038",
    "isPrintLuxDf": false,
    "isPrintPandasDf": false,
    "isPrintVis": false,
    "isPrintVisCollection": false,
    "order_count": 7,
    "time": "2020-07-22T04:12:19.518Z",
    "type": "completeCodeCell"
   },
   {
    "code": "df.data_type",
    "id": "013050b890ed4e94a255ad649616fac9",
    "isPrintLuxDf": false,
    "isPrintPandasDf": false,
    "isPrintVis": false,
    "isPrintVisCollection": false,
    "order_count": 9,
    "time": "2020-07-22T04:12:19.520Z",
    "type": "completeCodeCell"
   },
   {
    "code": "from lux.vis.Vis import Vis\nvis = Vis([\"date\",\"value\"],df)\nvis",
    "id": "0c6a45ae9fa34381818f5a5c689618b8",
    "isPrintLuxDf": false,
    "isPrintPandasDf": false,
    "isPrintVis": true,
    "isPrintVisCollection": false,
    "order_count": 11,
    "time": "2020-07-22T04:12:19.540Z",
    "type": "completeCodeCell"
   },
   {
    "code": "df['date'] = pd.to_datetime(df['date'],format=\"%Y-%m-%d\")\ndf['date']",
    "id": "c9059805d6104a329aff30bee0df619f",
    "isPrintLuxDf": false,
    "isPrintPandasDf": false,
    "isPrintVis": false,
    "isPrintVisCollection": false,
    "order_count": 13,
    "time": "2020-07-22T04:12:19.543Z",
    "type": "completeCodeCell"
   },
   {
    "param": "",
    "time": "2020-07-22T04:12:19.551Z",
    "type": "initWidget"
   },
   {
    "code": "df.data_type",
    "id": "74eb3159d0b34723945348993fa9e8e1",
    "order_count": 15,
    "time": "2020-07-22T04:12:19.731Z",
    "type": "selectCodeCell"
   },
   {
    "code": "df.data_type",
    "id": "74eb3159d0b34723945348993fa9e8e1",
    "order_count": 15,
    "time": "2020-07-22T04:12:20.023Z",
    "type": "executeCodeCell"
   },
   {
    "code": "vis.refresh_source(df)\nvis",
    "id": "db8018345d114e0d926c9f273ebbd799",
    "order_count": 16,
    "time": "2020-07-22T04:12:20.038Z",
    "type": "selectCodeCell"
   },
   {
    "code": "df.data_type",
    "id": "74eb3159d0b34723945348993fa9e8e1",
    "isPrintLuxDf": false,
    "isPrintPandasDf": false,
    "isPrintVis": false,
    "isPrintVisCollection": false,
    "order_count": 15,
    "time": "2020-07-22T04:12:20.051Z",
    "type": "completeCodeCell"
   },
   {
    "code": "vis.refresh_source(df)\nvis",
    "id": "db8018345d114e0d926c9f273ebbd799",
    "order_count": 16,
    "time": "2020-07-22T04:12:20.326Z",
    "type": "executeCodeCell"
   },
   {
    "code": "## Advanced Date Manipulation\nYou might notice earlier that all the dates in our example dataset are the first of the month. In this case, there may be situations where we only want to list the year and month, instead of the full date. Here, we look at how to handle these cases.\n\nBelow we look at an example stocks dataset that also have `date` field with each row representing data for the first of each month.",
    "id": "2ff0daa85898446088e2abc26eaeb4b8",
    "order_count": 17,
    "time": "2020-07-22T04:12:20.334Z",
    "type": "selectMarkdownCell"
   },
   {
    "code": "vis.refresh_source(df)\nvis",
    "id": "db8018345d114e0d926c9f273ebbd799",
    "isPrintLuxDf": false,
    "isPrintPandasDf": false,
    "isPrintVis": true,
    "isPrintVisCollection": false,
    "order_count": 16,
    "time": "2020-07-22T04:12:20.373Z",
    "type": "completeCodeCell"
   },
   {
    "param": "",
    "time": "2020-07-22T04:12:20.383Z",
    "type": "initWidget"
   },
   {
    "code": "df = pd.read_csv(\"lux/data/stocks.csv\")\n\ndf.dtypes",
    "id": "660e772ed66648dba0001802649f2e53",
    "order_count": 18,
    "time": "2020-07-22T04:12:20.621Z",
    "type": "selectCodeCell"
   },
   {
    "code": "df = pd.read_csv(\"lux/data/stocks.csv\")\n\ndf.dtypes",
    "id": "660e772ed66648dba0001802649f2e53",
    "order_count": 18,
    "time": "2020-07-22T04:12:20.903Z",
    "type": "executeCodeCell"
   },
   {
    "code": "vis = Vis([\"date\",\"price\"],df)\nvis",
    "id": "5d2b5a08a17045a283edf915c5ff7f73",
    "order_count": 19,
    "time": "2020-07-22T04:12:20.919Z",
    "type": "selectCodeCell"
   },
   {
    "code": "df = pd.read_csv(\"lux/data/stocks.csv\")\n\ndf.dtypes",
    "id": "660e772ed66648dba0001802649f2e53",
    "isPrintLuxDf": false,
    "isPrintPandasDf": false,
    "isPrintVis": false,
    "isPrintVisCollection": false,
    "order_count": 18,
    "time": "2020-07-22T04:12:20.931Z",
    "type": "completeCodeCell"
   },
   {
    "code": "vis = Vis([\"date\",\"price\"],df)\nvis",
    "id": "5d2b5a08a17045a283edf915c5ff7f73",
    "order_count": 19,
    "time": "2020-07-22T04:12:21.311Z",
    "type": "executeCodeCell"
   },
   {
    "code": "If we only want Lux to output the month and the year, we can convert the columnn to a [`PeriodIndex`](https://pandas.pydata.org/pandas-docs/stable/reference/api/pandas.PeriodIndex.html) using [`to_period`](https://pandas.pydata.org/pandas-docs/stable/reference/api/pandas.DatetimeIndex.to_period.html). The `freq` argument specifies the granularity of the output. In this case, we are using 'M' for monthly. You can find more about how to specify time periods [here](https://pandas.pydata.org/pandas-docs/stable/user_guide/timeseries.html#dateoffset-objects).",
    "id": "7adeb78f74a149af9787f3b5f20b7ca2",
    "order_count": 20,
    "time": "2020-07-22T04:12:21.319Z",
    "type": "selectMarkdownCell"
   },
   {
    "code": "vis = Vis([\"date\",\"price\"],df)\nvis",
    "id": "5d2b5a08a17045a283edf915c5ff7f73",
    "isPrintLuxDf": false,
    "isPrintPandasDf": false,
    "isPrintVis": true,
    "isPrintVisCollection": false,
    "order_count": 19,
    "time": "2020-07-22T04:12:21.361Z",
    "type": "completeCodeCell"
   },
   {
    "param": "",
    "time": "2020-07-22T04:12:21.371Z",
    "type": "initWidget"
   },
   {
    "code": "df[\"date\"] = pd.DatetimeIndex(df[\"date\"]).to_period(freq='M')",
    "id": "7233028925854dd286169564055ccfbd",
    "order_count": 21,
    "time": "2020-07-22T04:12:21.598Z",
    "type": "selectCodeCell"
   },
   {
    "code": "df[\"date\"] = pd.DatetimeIndex(df[\"date\"]).to_period(freq='M')",
    "id": "7233028925854dd286169564055ccfbd",
    "order_count": 21,
    "time": "2020-07-22T04:12:22.021Z",
    "type": "executeCodeCell"
   },
   {
    "code": "vis.refresh_source(df)\nvis",
    "id": "1a72cb8910824ede9ecec41633e8fe85",
    "order_count": 22,
    "time": "2020-07-22T04:12:22.037Z",
    "type": "selectCodeCell"
   },
   {
    "code": "df[\"date\"] = pd.DatetimeIndex(df[\"date\"]).to_period(freq='M')",
    "id": "7233028925854dd286169564055ccfbd",
    "isPrintLuxDf": false,
    "isPrintPandasDf": false,
    "isPrintVis": false,
    "isPrintVisCollection": false,
    "order_count": 21,
    "time": "2020-07-22T04:12:22.043Z",
    "type": "completeCodeCell"
   },
   {
    "code": "vis.refresh_source(df)\nvis",
    "id": "1a72cb8910824ede9ecec41633e8fe85",
    "order_count": 22,
    "time": "2020-07-22T04:12:22.800Z",
    "type": "executeCodeCell"
   },
   {
    "code": "df['date']",
    "id": "13290d9f3abe41479715269db140bef3",
    "order_count": 23,
    "time": "2020-07-22T04:12:22.814Z",
    "type": "selectCodeCell"
   },
   {
    "code": "vis.refresh_source(df)\nvis",
    "id": "1a72cb8910824ede9ecec41633e8fe85",
    "isPrintLuxDf": false,
    "isPrintPandasDf": false,
    "isPrintVis": true,
    "isPrintVisCollection": false,
    "order_count": 22,
    "time": "2020-07-22T04:12:22.861Z",
    "type": "completeCodeCell"
   },
   {
    "param": "",
    "time": "2020-07-22T04:12:22.865Z",
    "type": "initWidget"
   },
   {
    "code": "df['date']",
    "id": "13290d9f3abe41479715269db140bef3",
    "order_count": 23,
    "time": "2020-07-22T04:12:23.430Z",
    "type": "executeCodeCell"
   },
   {
    "code": "## Querying With Datetime Fields\nThe string representation seen in the Dataframe can be used to filter out certain dates. \nFor example, in the above `stocks` dataset, we converted the date column to a `PeriodIndex`. Now the string representation only shows the granularity we want to see. \n\nWe can use that string representation to filter the dataframe in Pandas:",
    "id": "95b8609d2f34485c880c9a931e952bbf",
    "order_count": 24,
    "time": "2020-07-22T04:12:23.438Z",
    "type": "selectMarkdownCell"
   },
   {
    "code": "df['date']",
    "id": "13290d9f3abe41479715269db140bef3",
    "isPrintLuxDf": false,
    "isPrintPandasDf": false,
    "isPrintVis": false,
    "isPrintVisCollection": false,
    "order_count": 23,
    "time": "2020-07-22T04:12:23.452Z",
    "type": "completeCodeCell"
   },
   {
    "code": "rdf = df[df['date'] == '2008-11']\nrdf ",
    "id": "045de606aaf445808f0105328f30c64e",
    "order_count": 25,
    "time": "2020-07-22T04:12:24.205Z",
    "type": "selectCodeCell"
   },
   {
    "code": "rdf = df[df['date'] == '2008-11']\nrdf ",
    "id": "045de606aaf445808f0105328f30c64e",
    "order_count": 25,
    "time": "2020-07-22T04:12:24.520Z",
    "type": "executeCodeCell"
   },
   {
    "code": "rdf.index.nlevels",
    "id": "c4156663e2da488a944d8388ed3feacc",
    "order_count": 26,
    "time": "2020-07-22T04:12:24.534Z",
    "type": "selectCodeCell"
   },
   {
    "code": "rdf = df[df['date'] == '2008-11']\nrdf ",
    "id": "045de606aaf445808f0105328f30c64e",
    "isPrintLuxDf": false,
    "isPrintPandasDf": true,
    "isPrintVis": false,
    "isPrintVisCollection": false,
    "order_count": 25,
    "time": "2020-07-22T04:12:24.652Z",
    "type": "completeCodeCell"
   },
   {
    "code": "rdf = df[df['date'] == '2008-11']\nrdf ",
    "id": "045de606aaf445808f0105328f30c64e",
    "order_count": 25,
    "time": "2020-07-22T04:12:26.604Z",
    "type": "selectCodeCell"
   },
   {
    "code": "rdf = df[df['date'] == '2008-11']\nrdf ",
    "id": "045de606aaf445808f0105328f30c64e",
    "order_count": 25,
    "time": "2020-07-22T04:12:26.908Z",
    "type": "selectCodeCell"
   },
   {
    "param": "",
    "time": "2020-07-22T04:12:26.929Z",
    "type": "initWidget"
   },
   {
    "param": "",
    "time": "2020-07-22T04:12:26.954Z",
    "type": "initWidget"
   },
   {
    "code": "rdf = df[df['date'] == '2008-11']\nrdf ",
    "id": "045de606aaf445808f0105328f30c64e",
    "order_count": 25,
    "time": "2020-07-22T04:12:28.677Z",
    "type": "selectCodeCell"
   },
   {
    "param": "Category",
    "time": "2020-07-22T04:12:28.679Z",
    "type": "switchTab"
   },
   {
    "code": "rdf = df[df['date'] == '2008-11']\nrdf ",
    "id": "045de606aaf445808f0105328f30c64e",
    "order_count": 25,
    "time": "2020-07-22T04:12:29.371Z",
    "type": "selectCodeCell"
   },
   {
    "code": "rdf = df[df['date'] == '2008-11']\nrdf ",
    "id": "045de606aaf445808f0105328f30c64e",
    "order_count": 25,
    "time": "2020-07-22T04:12:32.522Z",
    "type": "editCodeCell"
   },
   {
    "code": "df[df['date'] == '2008-11']",
    "id": "045de606aaf445808f0105328f30c64e",
    "order_count": 25,
    "time": "2020-07-22T04:12:36.721Z",
    "type": "executeCodeCell"
   },
   {
    "code": "rdf.index.nlevels",
    "id": "c4156663e2da488a944d8388ed3feacc",
    "order_count": 26,
    "time": "2020-07-22T04:12:36.752Z",
    "type": "selectCodeCell"
   },
   {
    "code": "df[df['date'] == '2008-11']",
    "id": "045de606aaf445808f0105328f30c64e",
    "isPrintLuxDf": false,
    "isPrintPandasDf": true,
    "isPrintVis": false,
    "isPrintVisCollection": false,
    "order_count": 25,
    "time": "2020-07-22T04:12:36.850Z",
    "type": "completeCodeCell"
   },
   {
    "code": "rdf.index.nlevels",
    "id": "c4156663e2da488a944d8388ed3feacc",
    "order_count": 26,
    "time": "2020-07-22T04:13:40.852Z",
    "type": "selectCodeCell"
   },
   {
    "code": "rdf.index.nlevels",
    "id": "c4156663e2da488a944d8388ed3feacc",
    "order_count": null,
    "time": "2020-07-22T04:13:42.226Z",
    "type": "deleteCodeCell"
   },
   {
    "code": "\nrdf.index.dtype!='int64'",
    "id": "63c5723a068146dab78ec43582db9765",
    "order_count": null,
    "time": "2020-07-22T04:13:44.272Z",
    "type": "deleteCodeCell"
   },
   {
    "code": "df[df['date'] == '2008-11']",
    "id": "045de606aaf445808f0105328f30c64e",
    "order_count": 25,
    "time": "2020-07-22T04:13:46.487Z",
    "type": "selectCodeCell"
   },
   {
    "code": "rdf.recommendation",
    "id": "4acd1d399f2f4582a819093f08ab64b9",
    "order_count": 26,
    "time": "2020-07-22T04:13:47.533Z",
    "type": "selectCodeCell"
   },
   {
    "code": "rdf.recommendation",
    "id": "4acd1d399f2f4582a819093f08ab64b9",
    "order_count": 26,
    "time": "2020-07-22T04:13:52.277Z",
    "type": "editCodeCell"
   },
   {
    "code": "rdf.recommendation",
    "id": "4acd1d399f2f4582a819093f08ab64b9",
    "order_count": 26,
    "time": "2020-07-22T04:13:55.055Z",
    "type": "selectCodeCell"
   },
   {
    "code": "rdf.recommendation",
    "id": "4acd1d399f2f4582a819093f08ab64b9",
    "order_count": null,
    "time": "2020-07-22T04:13:55.536Z",
    "type": "deleteCodeCell"
   },
   {
    "code": "rdf.data_type",
    "id": "0e1e7379820c4cabbdd0b0b7e003b066",
    "order_count": null,
    "time": "2020-07-22T04:13:56.249Z",
    "type": "deleteCodeCell"
   },
   {
    "code": "cd ..",
    "id": "7ad26935cb0a443b815145d99d228f47",
    "order_count": 1,
    "time": "2020-07-22T04:13:59.468Z",
    "type": "selectCodeCell"
   },
   {
    "time": "2020-07-22T04:14:01.088Z",
    "type": "kernelRestart"
   },
   {
    "time": "2020-07-22T04:14:01.190Z",
    "type": "kernelRestart"
   },
   {
    "code": "cd ..",
    "id": "7ad26935cb0a443b815145d99d228f47",
    "order_count": 1,
    "time": "2020-07-22T04:14:01.902Z",
    "type": "executeCodeCell"
   },
   {
    "code": "import pandas as pd\nimport lux",
    "id": "866632a5a3e44af98a6157e5225e002d",
    "order_count": 2,
    "time": "2020-07-22T04:14:01.915Z",
    "type": "selectCodeCell"
   },
   {
    "code": "import pandas as pd\nimport lux",
    "id": "866632a5a3e44af98a6157e5225e002d",
    "order_count": 2,
    "time": "2020-07-22T04:14:02.161Z",
    "type": "executeCodeCell"
   },
   {
    "code": "## Converting Strings to Datetime objects\nTo convert column referencing dates/times into [`datetime`](https://docs.python.org/3/library/datetime.html) objects, we use [`pd.to_datetime`](https://pandas.pydata.org/pandas-docs/stable/reference/api/pandas.to_datetime.html).\n\n### Summary: \n\n```\npd.to_datetime(['2020-01-01', '2020-01-15', '2020-02-01'],format=\"%Y-%m-%d\")\n```",
    "id": "7f9babde8d2740f28304e4d51258d434",
    "order_count": 3,
    "time": "2020-07-22T04:14:02.169Z",
    "type": "selectMarkdownCell"
   },
   {
    "code": "### Example:\n\nAs an example, a dataframe might contain a `date` attribute as strings of dates:",
    "id": "a1f72ab4dd6343be8669b84736ccaba8",
    "order_count": 4,
    "time": "2020-07-22T04:14:02.379Z",
    "type": "selectMarkdownCell"
   },
   {
    "code": "df = pd.DataFrame({'date': ['2020-02-01', '2020-03-01', '2020-04-01', '2020-05-01','2020-06-01',],\n                   'value': [10.5,15.2,20.3,25.2, 14.2]})\ndf",
    "id": "26206a60aa1a4c74a40eee54b13fc60f",
    "order_count": 5,
    "time": "2020-07-22T04:14:02.572Z",
    "type": "selectCodeCell"
   },
   {
    "code": "df = pd.DataFrame({'date': ['2020-02-01', '2020-03-01', '2020-04-01', '2020-05-01','2020-06-01',],\n                   'value': [10.5,15.2,20.3,25.2, 14.2]})\ndf",
    "id": "26206a60aa1a4c74a40eee54b13fc60f",
    "order_count": 5,
    "time": "2020-07-22T04:14:02.743Z",
    "type": "executeCodeCell"
   },
   {
    "code": "This is the types detected in Pandas's data type [`dtype`](https://pandas.pydata.org/pandas-docs/stable/reference/api/pandas.DataFrame.dtypes.html):",
    "id": "b9da7a733208495e949577ded41b35a9",
    "order_count": 6,
    "time": "2020-07-22T04:14:02.750Z",
    "type": "selectMarkdownCell"
   },
   {
    "code": "cd ..",
    "id": "7ad26935cb0a443b815145d99d228f47",
    "isPrintLuxDf": false,
    "isPrintPandasDf": false,
    "isPrintVis": false,
    "isPrintVisCollection": false,
    "order_count": 1,
    "time": "2020-07-22T04:14:02.797Z",
    "type": "completeCodeCell"
   },
   {
    "code": "import pandas as pd\nimport lux",
    "id": "866632a5a3e44af98a6157e5225e002d",
    "isPrintLuxDf": false,
    "isPrintPandasDf": false,
    "isPrintVis": false,
    "isPrintVisCollection": false,
    "order_count": 2,
    "time": "2020-07-22T04:14:03.303Z",
    "type": "completeCodeCell"
   },
   {
    "time": "2020-07-22T04:14:03.306Z",
    "type": "kernelReady"
   },
   {
    "time": "2020-07-22T04:14:03.308Z",
    "type": "kernelReady"
   },
   {
    "code": "df.dtypes",
    "id": "963f7d84d45f44c18eaccddf6da30038",
    "order_count": 7,
    "time": "2020-07-22T04:14:03.410Z",
    "type": "selectCodeCell"
   },
   {
    "code": "df.dtypes",
    "id": "963f7d84d45f44c18eaccddf6da30038",
    "order_count": 7,
    "time": "2020-07-22T04:14:03.622Z",
    "type": "executeCodeCell"
   },
   {
    "code": "Since `date` is detected as an object type in Pandas, in Lux the `date` field is recognized as a `nominal` field, instead of a `temporal` field:",
    "id": "63ee1e0a7426406780b88b20ce857553",
    "order_count": 8,
    "time": "2020-07-22T04:14:03.629Z",
    "type": "selectMarkdownCell"
   },
   {
    "time": "2020-07-22T04:14:03.733Z",
    "type": "kernelReady"
   },
   {
    "code": "df = pd.DataFrame({'date': ['2020-02-01', '2020-03-01', '2020-04-01', '2020-05-01','2020-06-01',],\n                   'value': [10.5,15.2,20.3,25.2, 14.2]})\ndf",
    "id": "26206a60aa1a4c74a40eee54b13fc60f",
    "isPrintLuxDf": false,
    "isPrintPandasDf": true,
    "isPrintVis": false,
    "isPrintVisCollection": false,
    "order_count": 5,
    "time": "2020-07-22T04:14:03.735Z",
    "type": "completeCodeCell"
   },
   {
    "code": "df.dtypes",
    "id": "963f7d84d45f44c18eaccddf6da30038",
    "isPrintLuxDf": false,
    "isPrintPandasDf": false,
    "isPrintVis": false,
    "isPrintVisCollection": false,
    "order_count": 7,
    "time": "2020-07-22T04:14:03.748Z",
    "type": "completeCodeCell"
   },
   {
    "code": "df.data_type",
    "id": "013050b890ed4e94a255ad649616fac9",
    "order_count": 9,
    "time": "2020-07-22T04:14:03.901Z",
    "type": "selectCodeCell"
   },
   {
    "code": "df.data_type",
    "id": "013050b890ed4e94a255ad649616fac9",
    "order_count": 9,
    "time": "2020-07-22T04:14:04.624Z",
    "type": "executeCodeCell"
   },
   {
    "code": "The typing has implications on the generated viss, since nominal chart types are displayed as bar charts, whereas temporal fields are plotted as time series line charts.",
    "id": "4b7138e3c7e8430ca9c679ea2ab48d20",
    "order_count": 10,
    "time": "2020-07-22T04:14:04.631Z",
    "type": "selectMarkdownCell"
   },
   {
    "code": "df.data_type",
    "id": "013050b890ed4e94a255ad649616fac9",
    "isPrintLuxDf": false,
    "isPrintPandasDf": false,
    "isPrintVis": false,
    "isPrintVisCollection": false,
    "order_count": 9,
    "time": "2020-07-22T04:14:04.644Z",
    "type": "completeCodeCell"
   },
   {
    "code": "from lux.vis.Vis import Vis\nvis = Vis([\"date\",\"value\"],df)\nvis",
    "id": "0c6a45ae9fa34381818f5a5c689618b8",
    "order_count": 11,
    "time": "2020-07-22T04:14:05.135Z",
    "type": "selectCodeCell"
   },
   {
    "code": "from lux.vis.Vis import Vis\nvis = Vis([\"date\",\"value\"],df)\nvis",
    "id": "0c6a45ae9fa34381818f5a5c689618b8",
    "order_count": 11,
    "time": "2020-07-22T04:14:05.417Z",
    "type": "executeCodeCell"
   },
   {
    "code": "To fix this, we can convert the `date` column into a datetime object by doing:",
    "id": "0ba893fc6bba4eaf8e3662875732565e",
    "order_count": 12,
    "time": "2020-07-22T04:14:05.425Z",
    "type": "selectMarkdownCell"
   },
   {
    "code": "from lux.vis.Vis import Vis\nvis = Vis([\"date\",\"value\"],df)\nvis",
    "id": "0c6a45ae9fa34381818f5a5c689618b8",
    "isPrintLuxDf": false,
    "isPrintPandasDf": false,
    "isPrintVis": true,
    "isPrintVisCollection": false,
    "order_count": 11,
    "time": "2020-07-22T04:14:05.462Z",
    "type": "completeCodeCell"
   },
   {
    "param": "",
    "time": "2020-07-22T04:14:05.470Z",
    "type": "initWidget"
   },
   {
    "code": "df['date'] = pd.to_datetime(df['date'],format=\"%Y-%m-%d\")\ndf['date']",
    "id": "c9059805d6104a329aff30bee0df619f",
    "order_count": 13,
    "time": "2020-07-22T04:14:05.711Z",
    "type": "selectCodeCell"
   },
   {
    "code": "df['date'] = pd.to_datetime(df['date'],format=\"%Y-%m-%d\")\ndf['date']",
    "id": "c9059805d6104a329aff30bee0df619f",
    "order_count": 13,
    "time": "2020-07-22T04:14:06.074Z",
    "type": "executeCodeCell"
   },
   {
    "code": "After changing the Pandas data type to datetime, we see that date field is recognized as temporal fields in Lux.",
    "id": "c226301622c8479e8d5218011f3d6ad9",
    "order_count": 14,
    "time": "2020-07-22T04:14:06.081Z",
    "type": "selectMarkdownCell"
   },
   {
    "code": "df['date'] = pd.to_datetime(df['date'],format=\"%Y-%m-%d\")\ndf['date']",
    "id": "c9059805d6104a329aff30bee0df619f",
    "isPrintLuxDf": false,
    "isPrintPandasDf": false,
    "isPrintVis": false,
    "isPrintVisCollection": false,
    "order_count": 13,
    "time": "2020-07-22T04:14:06.095Z",
    "type": "completeCodeCell"
   },
   {
    "code": "df.data_type",
    "id": "74eb3159d0b34723945348993fa9e8e1",
    "order_count": 15,
    "time": "2020-07-22T04:14:06.396Z",
    "type": "selectCodeCell"
   },
   {
    "code": "df.data_type",
    "id": "74eb3159d0b34723945348993fa9e8e1",
    "order_count": 15,
    "time": "2020-07-22T04:14:06.728Z",
    "type": "executeCodeCell"
   },
   {
    "code": "vis.refresh_source(df)\nvis",
    "id": "db8018345d114e0d926c9f273ebbd799",
    "order_count": 16,
    "time": "2020-07-22T04:14:06.742Z",
    "type": "selectCodeCell"
   },
   {
    "code": "df.data_type",
    "id": "74eb3159d0b34723945348993fa9e8e1",
    "isPrintLuxDf": false,
    "isPrintPandasDf": false,
    "isPrintVis": false,
    "isPrintVisCollection": false,
    "order_count": 15,
    "time": "2020-07-22T04:14:06.752Z",
    "type": "completeCodeCell"
   },
   {
    "code": "vis.refresh_source(df)\nvis",
    "id": "db8018345d114e0d926c9f273ebbd799",
    "order_count": 16,
    "time": "2020-07-22T04:14:06.993Z",
    "type": "executeCodeCell"
   },
   {
    "code": "## Advanced Date Manipulation\nYou might notice earlier that all the dates in our example dataset are the first of the month. In this case, there may be situations where we only want to list the year and month, instead of the full date. Here, we look at how to handle these cases.\n\nBelow we look at an example stocks dataset that also have `date` field with each row representing data for the first of each month.",
    "id": "2ff0daa85898446088e2abc26eaeb4b8",
    "order_count": 17,
    "time": "2020-07-22T04:14:07.001Z",
    "type": "selectMarkdownCell"
   },
   {
    "code": "vis.refresh_source(df)\nvis",
    "id": "db8018345d114e0d926c9f273ebbd799",
    "isPrintLuxDf": false,
    "isPrintPandasDf": false,
    "isPrintVis": true,
    "isPrintVisCollection": false,
    "order_count": 16,
    "time": "2020-07-22T04:14:07.042Z",
    "type": "completeCodeCell"
   },
   {
    "param": "",
    "time": "2020-07-22T04:14:07.051Z",
    "type": "initWidget"
   },
   {
    "code": "df = pd.read_csv(\"lux/data/stocks.csv\")\n\ndf.dtypes",
    "id": "660e772ed66648dba0001802649f2e53",
    "order_count": 18,
    "time": "2020-07-22T04:14:07.672Z",
    "type": "selectCodeCell"
   },
   {
    "code": "df = pd.read_csv(\"lux/data/stocks.csv\")\n\ndf.dtypes",
    "id": "660e772ed66648dba0001802649f2e53",
    "order_count": 18,
    "time": "2020-07-22T04:14:07.968Z",
    "type": "executeCodeCell"
   },
   {
    "code": "vis = Vis([\"date\",\"price\"],df)\nvis",
    "id": "5d2b5a08a17045a283edf915c5ff7f73",
    "order_count": 19,
    "time": "2020-07-22T04:14:07.983Z",
    "type": "selectCodeCell"
   },
   {
    "code": "df = pd.read_csv(\"lux/data/stocks.csv\")\n\ndf.dtypes",
    "id": "660e772ed66648dba0001802649f2e53",
    "isPrintLuxDf": false,
    "isPrintPandasDf": false,
    "isPrintVis": false,
    "isPrintVisCollection": false,
    "order_count": 18,
    "time": "2020-07-22T04:14:07.994Z",
    "type": "completeCodeCell"
   },
   {
    "code": "vis = Vis([\"date\",\"price\"],df)\nvis",
    "id": "5d2b5a08a17045a283edf915c5ff7f73",
    "order_count": 19,
    "time": "2020-07-22T04:14:08.402Z",
    "type": "executeCodeCell"
   },
   {
    "code": "If we only want Lux to output the month and the year, we can convert the columnn to a [`PeriodIndex`](https://pandas.pydata.org/pandas-docs/stable/reference/api/pandas.PeriodIndex.html) using [`to_period`](https://pandas.pydata.org/pandas-docs/stable/reference/api/pandas.DatetimeIndex.to_period.html). The `freq` argument specifies the granularity of the output. In this case, we are using 'M' for monthly. You can find more about how to specify time periods [here](https://pandas.pydata.org/pandas-docs/stable/user_guide/timeseries.html#dateoffset-objects).",
    "id": "7adeb78f74a149af9787f3b5f20b7ca2",
    "order_count": 20,
    "time": "2020-07-22T04:14:08.409Z",
    "type": "selectMarkdownCell"
   },
   {
    "code": "vis = Vis([\"date\",\"price\"],df)\nvis",
    "id": "5d2b5a08a17045a283edf915c5ff7f73",
    "isPrintLuxDf": false,
    "isPrintPandasDf": false,
    "isPrintVis": true,
    "isPrintVisCollection": false,
    "order_count": 19,
    "time": "2020-07-22T04:14:08.454Z",
    "type": "completeCodeCell"
   },
   {
    "param": "",
    "time": "2020-07-22T04:14:08.462Z",
    "type": "initWidget"
   },
   {
    "code": "df[\"date\"] = pd.DatetimeIndex(df[\"date\"]).to_period(freq='M')",
    "id": "7233028925854dd286169564055ccfbd",
    "order_count": 21,
    "time": "2020-07-22T04:14:09.109Z",
    "type": "selectCodeCell"
   },
   {
    "code": "df[\"date\"] = pd.DatetimeIndex(df[\"date\"]).to_period(freq='M')",
    "id": "7233028925854dd286169564055ccfbd",
    "order_count": 21,
    "time": "2020-07-22T04:14:09.616Z",
    "type": "executeCodeCell"
   },
   {
    "code": "vis.refresh_source(df)\nvis",
    "id": "1a72cb8910824ede9ecec41633e8fe85",
    "order_count": 22,
    "time": "2020-07-22T04:14:09.631Z",
    "type": "selectCodeCell"
   },
   {
    "code": "df[\"date\"] = pd.DatetimeIndex(df[\"date\"]).to_period(freq='M')",
    "id": "7233028925854dd286169564055ccfbd",
    "isPrintLuxDf": false,
    "isPrintPandasDf": false,
    "isPrintVis": false,
    "isPrintVisCollection": false,
    "order_count": 21,
    "time": "2020-07-22T04:14:09.637Z",
    "type": "completeCodeCell"
   },
   {
    "code": "vis.refresh_source(df)\nvis",
    "id": "1a72cb8910824ede9ecec41633e8fe85",
    "order_count": 22,
    "time": "2020-07-22T04:14:09.994Z",
    "type": "executeCodeCell"
   },
   {
    "code": "df['date']",
    "id": "13290d9f3abe41479715269db140bef3",
    "order_count": 23,
    "time": "2020-07-22T04:14:10.008Z",
    "type": "selectCodeCell"
   },
   {
    "code": "vis.refresh_source(df)\nvis",
    "id": "1a72cb8910824ede9ecec41633e8fe85",
    "isPrintLuxDf": false,
    "isPrintPandasDf": false,
    "isPrintVis": true,
    "isPrintVisCollection": false,
    "order_count": 22,
    "time": "2020-07-22T04:14:10.056Z",
    "type": "completeCodeCell"
   },
   {
    "param": "",
    "time": "2020-07-22T04:14:10.064Z",
    "type": "initWidget"
   },
   {
    "code": "df['date']",
    "id": "13290d9f3abe41479715269db140bef3",
    "order_count": 23,
    "time": "2020-07-22T04:14:10.280Z",
    "type": "executeCodeCell"
   },
   {
    "code": "## Querying With Datetime Fields\nThe string representation seen in the Dataframe can be used to filter out certain dates. \nFor example, in the above `stocks` dataset, we converted the date column to a `PeriodIndex`. Now the string representation only shows the granularity we want to see. \n\nWe can use that string representation to filter the dataframe in Pandas:",
    "id": "95b8609d2f34485c880c9a931e952bbf",
    "order_count": 24,
    "time": "2020-07-22T04:14:10.288Z",
    "type": "selectMarkdownCell"
   },
   {
    "code": "df['date']",
    "id": "13290d9f3abe41479715269db140bef3",
    "isPrintLuxDf": false,
    "isPrintPandasDf": false,
    "isPrintVis": false,
    "isPrintVisCollection": false,
    "order_count": 23,
    "time": "2020-07-22T04:14:10.301Z",
    "type": "completeCodeCell"
   },
   {
    "code": "df[df['date'] == '2008-11']",
    "id": "045de606aaf445808f0105328f30c64e",
    "order_count": 25,
    "time": "2020-07-22T04:14:11.138Z",
    "type": "selectCodeCell"
   },
   {
    "code": "df[df['date'] == '2008-11']",
    "id": "045de606aaf445808f0105328f30c64e",
    "order_count": 25,
    "time": "2020-07-22T04:14:11.852Z",
    "type": "executeCodeCell"
   },
   {
    "code": "We can also use the same string representation for specifying a query in Lux.",
    "id": "9c44d6a14b5c46a5a79189bc013051be",
    "order_count": 26,
    "time": "2020-07-22T04:14:11.862Z",
    "type": "selectMarkdownCell"
   },
   {
    "code": "df[df['date'] == '2008-11']",
    "id": "045de606aaf445808f0105328f30c64e",
    "isPrintLuxDf": false,
    "isPrintPandasDf": true,
    "isPrintVis": false,
    "isPrintVisCollection": false,
    "order_count": 25,
    "time": "2020-07-22T04:14:11.976Z",
    "type": "completeCodeCell"
   },
   {
    "code": "df[df['date'] == '2008-11']",
    "id": "045de606aaf445808f0105328f30c64e",
    "order_count": 25,
    "time": "2020-07-22T04:14:14.543Z",
    "type": "selectCodeCell"
   },
   {
    "param": "",
    "time": "2020-07-22T04:14:14.566Z",
    "type": "initWidget"
   },
   {
    "param": "",
    "time": "2020-07-22T04:14:14.594Z",
    "type": "initWidget"
   },
   {
    "code": "df[df['date'] == '2008-11']",
    "id": "045de606aaf445808f0105328f30c64e",
    "order_count": 25,
    "time": "2020-07-22T04:14:20.759Z",
    "type": "selectCodeCell"
   },
   {
    "param": "Category",
    "time": "2020-07-22T04:14:20.761Z",
    "type": "switchTab"
   },
   {
    "code": "We can also use the same string representation for specifying a query in Lux.",
    "id": "9c44d6a14b5c46a5a79189bc013051be",
    "order_count": 26,
    "time": "2020-07-22T04:14:23.058Z",
    "type": "selectMarkdownCell"
   },
   {
    "code": "vis = Vis([\"date=2008-11\",\"price\",\"symbol\"],df)\nvis",
    "id": "e34e7b23ccc740638c0fcaca86c811c4",
    "order_count": 27,
    "time": "2020-07-22T04:14:24.976Z",
    "type": "selectCodeCell"
   },
   {
    "code": "vis = Vis([\"date=2008-11\",\"price\",\"symbol\"],df)\nvis",
    "id": "e34e7b23ccc740638c0fcaca86c811c4",
    "order_count": 27,
    "time": "2020-07-22T04:14:25.897Z",
    "type": "executeCodeCell"
   },
   {
    "code": "",
    "id": "1098d638932a41398f770fa7be09fa8f",
    "order_count": 28,
    "time": "2020-07-22T04:14:25.911Z",
    "type": "selectCodeCell"
   },
   {
    "code": "vis = Vis([\"date=2008-11\",\"price\",\"symbol\"],df)\nvis",
    "id": "e34e7b23ccc740638c0fcaca86c811c4",
    "isPrintLuxDf": false,
    "isPrintPandasDf": false,
    "isPrintVis": true,
    "isPrintVisCollection": false,
    "order_count": 27,
    "time": "2020-07-22T04:14:25.954Z",
    "type": "completeCodeCell"
   },
   {
    "param": "",
    "time": "2020-07-22T04:14:25.962Z",
    "type": "initWidget"
   },
   {
    "code": "",
    "id": "1098d638932a41398f770fa7be09fa8f",
    "order_count": null,
    "time": "2020-07-22T04:14:32.476Z",
    "type": "deleteCodeCell"
   },
   {
    "code": "df[df['date'] == '2008-11']",
    "id": "045de606aaf445808f0105328f30c64e",
    "order_count": 25,
    "time": "2020-07-22T04:15:06.243Z",
    "type": "selectCodeCell"
   },
   {
    "code": "df[df['date'] == '2008-11']",
    "id": "045de606aaf445808f0105328f30c64e",
    "order_count": 25,
    "time": "2020-07-22T04:15:06.251Z",
    "type": "editCodeCell"
   },
   {
    "code": "df[df['date'] == '2008-11']",
    "id": "045de606aaf445808f0105328f30c64e",
    "order_count": 25,
    "time": "2020-07-22T04:15:06.365Z",
    "type": "selectCodeCell"
   },
   {
    "param": "pandas",
    "time": "2020-07-22T04:15:09.590Z",
    "type": "toggleBtnClick"
   },
   {
    "time": "2020-07-22T04:15:15.538Z",
    "type": "kernelRestart"
   },
   {
    "time": "2020-07-22T04:15:16.337Z",
    "type": "kernelReady"
   },
   {
    "code": "## Querying With Datetime Fields\nThe string representation seen in the Dataframe can be used to filter out certain dates. \nFor example, in the above `stocks` dataset, we converted the date column to a `PeriodIndex`. Now the string representation only shows the granularity we want to see. \n\nWe can use that string representation to filter the dataframe in Pandas:",
    "id": "95b8609d2f34485c880c9a931e952bbf",
    "order_count": 24,
    "time": "2020-07-22T04:15:17.373Z",
    "type": "selectMarkdownCell"
   }
  ],
  "kernelspec": {
   "display_name": "Python 3",
   "language": "python",
   "name": "python3"
  },
  "language_info": {
   "codemirror_mode": {
    "name": "ipython",
    "version": 3
   },
   "file_extension": ".py",
   "mimetype": "text/x-python",
   "name": "python",
   "nbconvert_exporter": "python",
   "pygments_lexer": "ipython3",
   "version": "3.7.7"
  }
 },
 "nbformat": 4,
 "nbformat_minor": 4
}
