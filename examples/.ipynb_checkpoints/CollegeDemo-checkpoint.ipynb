{
 "cells": [
  {
   "cell_type": "code",
   "execution_count": null,
   "metadata": {},
   "outputs": [
    {
     "name": "stdout",
     "output_type": "stream",
     "text": [
      "/Users/dorislee/Desktop/Research/lux/lux\n"
     ]
    }
   ],
   "source": [
    "cd ../"
   ]
  },
  {
   "cell_type": "markdown",
   "metadata": {},
   "source": [
    "This dataset contains a total of 1295 records of American colleges and their properties, collected by the [US Department of Education](https://collegescorecard.ed.gov/data/documentation/)."
   ]
  },
  {
   "cell_type": "code",
   "execution_count": null,
   "metadata": {},
   "outputs": [],
   "source": [
    "import pandas as pd\n",
    "%load_ext autoreload\n",
    "%autoreload 2\n",
    "import lux"
   ]
  },
  {
   "cell_type": "code",
   "execution_count": null,
   "metadata": {},
   "outputs": [],
   "source": [
    "df = pd.read_csv(\"lux/data/college.csv\")"
   ]
  },
  {
   "cell_type": "code",
   "execution_count": null,
   "metadata": {},
   "outputs": [],
   "source": [
    "groupbyResult = df.groupby(\"Region\").sum()"
   ]
  },
  {
   "cell_type": "code",
   "execution_count": null,
   "metadata": {},
   "outputs": [],
   "source": [
    "self = groupbyResult\n",
    "if (type(self.index) != pd.core.indexes.range.RangeIndex):# if multi-index, then default to pandas output\n",
    "    print (\"test\")\n",
    "    index_column_name = self.index.name"
   ]
  },
  {
   "cell_type": "code",
   "execution_count": null,
   "metadata": {},
   "outputs": [],
   "source": [
    "from lux.vis.Vis import Vis\n",
    "from lux.vis.VisList import VisList\n"
   ]
  },
  {
   "cell_type": "code",
   "execution_count": null,
   "metadata": {
    "scrolled": false
   },
   "outputs": [],
   "source": [
    "collection = []\n",
    "for attribute in self.columns:\n",
    "    vis = Vis([index_column_name,lux.Clause(attribute,aggregation=None)],self[attribute].reset_index())\n",
    "    collection.append(vis)\n",
    "vlst = VisList(collection)"
   ]
  },
  {
   "cell_type": "code",
   "execution_count": null,
   "metadata": {},
   "outputs": [],
   "source": [
    "vlst"
   ]
  },
  {
   "cell_type": "code",
   "execution_count": 12,
   "metadata": {},
   "outputs": [],
   "source": [
    "ldf = self[attribute].reset_index()"
   ]
  },
  {
   "cell_type": "code",
   "execution_count": 13,
   "metadata": {},
   "outputs": [
    {
     "data": {
      "text/plain": [
       "{'quantitative': [],\n",
       " 'ordinal': [],\n",
       " 'nominal': ['MedianEarnings', 'Region'],\n",
       " 'temporal': []}"
      ]
     },
     "execution_count": 13,
     "metadata": {},
     "output_type": "execute_result"
    }
   ],
   "source": [
    "ldf.data_type"
   ]
  },
  {
   "cell_type": "code",
   "execution_count": 11,
   "metadata": {},
   "outputs": [
    {
     "data": {
      "text/plain": [
       "[<Clause  channel: x,\n",
       "          attribute: Record,\n",
       "          aggregation: count,\n",
       "          data_model: measure,\n",
       "          data_type: quantitative,\n",
       "          bin_size: 0 >,\n",
       " <Clause  channel: y,\n",
       "          attribute: Region,\n",
       "          data_model: dimension,\n",
       "          data_type: nominal,\n",
       "          bin_size: 0 >,\n",
       " <Clause  channel: color,\n",
       "          attribute: MedianEarnings,\n",
       "          data_model: dimension,\n",
       "          data_type: nominal,\n",
       "          bin_size: 0 >]"
      ]
     },
     "execution_count": 11,
     "metadata": {},
     "output_type": "execute_result"
    }
   ],
   "source": [
    "vis._inferred_query"
   ]
  },
  {
   "cell_type": "code",
   "execution_count": 28,
   "metadata": {},
   "outputs": [
    {
     "data": {
      "text/plain": [
       "[<Clause    channel: x,\n",
       "          attribute: Record,\n",
       "          aggregation: count,\n",
       "          data_model: measure,\n",
       "          data_type: quantitative,\n",
       "          bin_size: 0 >,\n",
       " <Clause    channel: y,\n",
       "          attribute: Region,\n",
       "          data_model: dimension,\n",
       "          data_type: nominal,\n",
       "          bin_size: 0 >,\n",
       " <Clause    channel: color,\n",
       "          attribute: MedianEarnings,\n",
       "          data_model: dimension,\n",
       "          data_type: nominal,\n",
       "          bin_size: 0 >]"
      ]
     },
     "execution_count": 28,
     "metadata": {},
     "output_type": "execute_result"
    }
   ],
   "source": [
    "vis._inferred_query"
   ]
  },
  {
   "cell_type": "code",
   "execution_count": 19,
   "metadata": {},
   "outputs": [],
   "source": [
    "vis = Vis([index_column_name,attribute],df)"
   ]
  },
  {
   "cell_type": "code",
   "execution_count": 22,
   "metadata": {},
   "outputs": [
    {
     "data": {
      "text/plain": [
       "[<Clause    channel: x,\n",
       "          attribute: MedianEarnings,\n",
       "          aggregation: mean,\n",
       "          data_model: measure,\n",
       "          data_type: quantitative,\n",
       "          bin_size: 0 >,\n",
       " <Clause    channel: y,\n",
       "          attribute: Region,\n",
       "          data_model: dimension,\n",
       "          data_type: nominal,\n",
       "          bin_size: 0 >]"
      ]
     },
     "execution_count": 22,
     "metadata": {},
     "output_type": "execute_result"
    }
   ],
   "source": [
    "vis._inferred_query"
   ]
  },
  {
   "cell_type": "code",
   "execution_count": null,
   "metadata": {},
   "outputs": [],
   "source": [
    "df"
   ]
  },
  {
   "cell_type": "code",
   "execution_count": 15,
   "metadata": {},
   "outputs": [],
   "source": [
    "vis._inferred_query = [lux.Clause(attribute=index_column_name,channel=\"y\")]"
   ]
  },
  {
   "cell_type": "code",
   "execution_count": 36,
   "metadata": {},
   "outputs": [
    {
     "ename": "TraitError",
     "evalue": "The 'current_vis' trait of a LuxWidget instance must be a dict, but a value of class 'NoneType' (i.e. None) was specified.",
     "output_type": "error",
     "traceback": [
      "\u001b[0;31m---------------------------------------------------------------------------\u001b[0m",
      "\u001b[0;31mTraitError\u001b[0m                                Traceback (most recent call last)",
      "\u001b[0;32m~/.virtualenvs/lux/lib/python3.7/site-packages/IPython/core/formatters.py\u001b[0m in \u001b[0;36m__call__\u001b[0;34m(self, obj)\u001b[0m\n\u001b[1;32m    343\u001b[0m             \u001b[0mmethod\u001b[0m \u001b[0;34m=\u001b[0m \u001b[0mget_real_method\u001b[0m\u001b[0;34m(\u001b[0m\u001b[0mobj\u001b[0m\u001b[0;34m,\u001b[0m \u001b[0mself\u001b[0m\u001b[0;34m.\u001b[0m\u001b[0mprint_method\u001b[0m\u001b[0;34m)\u001b[0m\u001b[0;34m\u001b[0m\u001b[0;34m\u001b[0m\u001b[0m\n\u001b[1;32m    344\u001b[0m             \u001b[0;32mif\u001b[0m \u001b[0mmethod\u001b[0m \u001b[0;32mis\u001b[0m \u001b[0;32mnot\u001b[0m \u001b[0;32mNone\u001b[0m\u001b[0;34m:\u001b[0m\u001b[0;34m\u001b[0m\u001b[0;34m\u001b[0m\u001b[0m\n\u001b[0;32m--> 345\u001b[0;31m                 \u001b[0;32mreturn\u001b[0m \u001b[0mmethod\u001b[0m\u001b[0;34m(\u001b[0m\u001b[0;34m)\u001b[0m\u001b[0;34m\u001b[0m\u001b[0;34m\u001b[0m\u001b[0m\n\u001b[0m\u001b[1;32m    346\u001b[0m             \u001b[0;32mreturn\u001b[0m \u001b[0;32mNone\u001b[0m\u001b[0;34m\u001b[0m\u001b[0;34m\u001b[0m\u001b[0m\n\u001b[1;32m    347\u001b[0m         \u001b[0;32melse\u001b[0m\u001b[0;34m:\u001b[0m\u001b[0;34m\u001b[0m\u001b[0;34m\u001b[0m\u001b[0m\n",
      "\u001b[0;32m~/Desktop/Research/lux/lux/lux/vis/Vis.py\u001b[0m in \u001b[0;36m_repr_html_\u001b[0;34m(self)\u001b[0m\n\u001b[1;32m     90\u001b[0m                                         \u001b[0mcurrentVis\u001b[0m\u001b[0;34m=\u001b[0m \u001b[0mLuxDataFrame\u001b[0m\u001b[0;34m.\u001b[0m\u001b[0mcurrent_view_to_JSON\u001b[0m\u001b[0;34m(\u001b[0m\u001b[0;34m[\u001b[0m\u001b[0mself\u001b[0m\u001b[0;34m]\u001b[0m\u001b[0;34m)\u001b[0m\u001b[0;34m,\u001b[0m\u001b[0;34m\u001b[0m\u001b[0;34m\u001b[0m\u001b[0m\n\u001b[1;32m     91\u001b[0m                                         \u001b[0mrecommendations\u001b[0m\u001b[0;34m=\u001b[0m\u001b[0;34m[\u001b[0m\u001b[0;34m]\u001b[0m\u001b[0;34m,\u001b[0m\u001b[0;34m\u001b[0m\u001b[0;34m\u001b[0m\u001b[0m\n\u001b[0;32m---> 92\u001b[0;31m                                         \u001b[0mcontext\u001b[0m\u001b[0;34m=\u001b[0m\u001b[0;34m{\u001b[0m\u001b[0;34m}\u001b[0m\u001b[0;34m\u001b[0m\u001b[0;34m\u001b[0m\u001b[0m\n\u001b[0m\u001b[1;32m     93\u001b[0m \t\t\t\t)\n\u001b[1;32m     94\u001b[0m                         \u001b[0mdisplay\u001b[0m\u001b[0;34m(\u001b[0m\u001b[0mwidget\u001b[0m\u001b[0;34m)\u001b[0m\u001b[0;34m\u001b[0m\u001b[0;34m\u001b[0m\u001b[0m\n",
      "\u001b[0;32m~/.virtualenvs/lux/lib/python3.7/site-packages/luxWidget/widget.py\u001b[0m in \u001b[0;36m__init__\u001b[0;34m(self, currentVis, recommendations, context, **kwargs)\u001b[0m\n\u001b[1;32m     21\u001b[0m     \u001b[0;32mdef\u001b[0m \u001b[0m__init__\u001b[0m\u001b[0;34m(\u001b[0m\u001b[0mself\u001b[0m\u001b[0;34m,\u001b[0m \u001b[0mcurrentVis\u001b[0m\u001b[0;34m=\u001b[0m\u001b[0;32mNone\u001b[0m\u001b[0;34m,\u001b[0m \u001b[0mrecommendations\u001b[0m\u001b[0;34m=\u001b[0m\u001b[0;32mNone\u001b[0m\u001b[0;34m,\u001b[0m \u001b[0mcontext\u001b[0m\u001b[0;34m=\u001b[0m\u001b[0;32mNone\u001b[0m\u001b[0;34m,\u001b[0m \u001b[0;34m**\u001b[0m\u001b[0mkwargs\u001b[0m\u001b[0;34m)\u001b[0m\u001b[0;34m:\u001b[0m\u001b[0;34m\u001b[0m\u001b[0;34m\u001b[0m\u001b[0m\n\u001b[1;32m     22\u001b[0m         \u001b[0msuper\u001b[0m\u001b[0;34m(\u001b[0m\u001b[0;34m)\u001b[0m\u001b[0;34m.\u001b[0m\u001b[0m__init__\u001b[0m\u001b[0;34m(\u001b[0m\u001b[0;34m**\u001b[0m\u001b[0mkwargs\u001b[0m\u001b[0;34m)\u001b[0m\u001b[0;34m\u001b[0m\u001b[0;34m\u001b[0m\u001b[0m\n\u001b[0;32m---> 23\u001b[0;31m         \u001b[0mself\u001b[0m\u001b[0;34m.\u001b[0m\u001b[0mcurrent_vis\u001b[0m \u001b[0;34m=\u001b[0m \u001b[0mcurrentVis\u001b[0m\u001b[0;34m\u001b[0m\u001b[0;34m\u001b[0m\u001b[0m\n\u001b[0m\u001b[1;32m     24\u001b[0m         \u001b[0mself\u001b[0m\u001b[0;34m.\u001b[0m\u001b[0mrecommendations\u001b[0m \u001b[0;34m=\u001b[0m \u001b[0mrecommendations\u001b[0m\u001b[0;34m\u001b[0m\u001b[0;34m\u001b[0m\u001b[0m\n\u001b[1;32m     25\u001b[0m         \u001b[0mself\u001b[0m\u001b[0;34m.\u001b[0m\u001b[0mcontext\u001b[0m \u001b[0;34m=\u001b[0m \u001b[0mcontext\u001b[0m\u001b[0;34m\u001b[0m\u001b[0;34m\u001b[0m\u001b[0m\n",
      "\u001b[0;32m~/.virtualenvs/lux/lib/python3.7/site-packages/traitlets/traitlets.py\u001b[0m in \u001b[0;36m__set__\u001b[0;34m(self, obj, value)\u001b[0m\n\u001b[1;32m    583\u001b[0m             \u001b[0;32mraise\u001b[0m \u001b[0mTraitError\u001b[0m\u001b[0;34m(\u001b[0m\u001b[0;34m'The \"%s\" trait is read-only.'\u001b[0m \u001b[0;34m%\u001b[0m \u001b[0mself\u001b[0m\u001b[0;34m.\u001b[0m\u001b[0mname\u001b[0m\u001b[0;34m)\u001b[0m\u001b[0;34m\u001b[0m\u001b[0;34m\u001b[0m\u001b[0m\n\u001b[1;32m    584\u001b[0m         \u001b[0;32melse\u001b[0m\u001b[0;34m:\u001b[0m\u001b[0;34m\u001b[0m\u001b[0;34m\u001b[0m\u001b[0m\n\u001b[0;32m--> 585\u001b[0;31m             \u001b[0mself\u001b[0m\u001b[0;34m.\u001b[0m\u001b[0mset\u001b[0m\u001b[0;34m(\u001b[0m\u001b[0mobj\u001b[0m\u001b[0;34m,\u001b[0m \u001b[0mvalue\u001b[0m\u001b[0;34m)\u001b[0m\u001b[0;34m\u001b[0m\u001b[0;34m\u001b[0m\u001b[0m\n\u001b[0m\u001b[1;32m    586\u001b[0m \u001b[0;34m\u001b[0m\u001b[0m\n\u001b[1;32m    587\u001b[0m     \u001b[0;32mdef\u001b[0m \u001b[0m_validate\u001b[0m\u001b[0;34m(\u001b[0m\u001b[0mself\u001b[0m\u001b[0;34m,\u001b[0m \u001b[0mobj\u001b[0m\u001b[0;34m,\u001b[0m \u001b[0mvalue\u001b[0m\u001b[0;34m)\u001b[0m\u001b[0;34m:\u001b[0m\u001b[0;34m\u001b[0m\u001b[0;34m\u001b[0m\u001b[0m\n",
      "\u001b[0;32m~/.virtualenvs/lux/lib/python3.7/site-packages/traitlets/traitlets.py\u001b[0m in \u001b[0;36mset\u001b[0;34m(self, obj, value)\u001b[0m\n\u001b[1;32m    557\u001b[0m \u001b[0;34m\u001b[0m\u001b[0m\n\u001b[1;32m    558\u001b[0m     \u001b[0;32mdef\u001b[0m \u001b[0mset\u001b[0m\u001b[0;34m(\u001b[0m\u001b[0mself\u001b[0m\u001b[0;34m,\u001b[0m \u001b[0mobj\u001b[0m\u001b[0;34m,\u001b[0m \u001b[0mvalue\u001b[0m\u001b[0;34m)\u001b[0m\u001b[0;34m:\u001b[0m\u001b[0;34m\u001b[0m\u001b[0;34m\u001b[0m\u001b[0m\n\u001b[0;32m--> 559\u001b[0;31m         \u001b[0mnew_value\u001b[0m \u001b[0;34m=\u001b[0m \u001b[0mself\u001b[0m\u001b[0;34m.\u001b[0m\u001b[0m_validate\u001b[0m\u001b[0;34m(\u001b[0m\u001b[0mobj\u001b[0m\u001b[0;34m,\u001b[0m \u001b[0mvalue\u001b[0m\u001b[0;34m)\u001b[0m\u001b[0;34m\u001b[0m\u001b[0;34m\u001b[0m\u001b[0m\n\u001b[0m\u001b[1;32m    560\u001b[0m         \u001b[0;32mtry\u001b[0m\u001b[0;34m:\u001b[0m\u001b[0;34m\u001b[0m\u001b[0;34m\u001b[0m\u001b[0m\n\u001b[1;32m    561\u001b[0m             \u001b[0mold_value\u001b[0m \u001b[0;34m=\u001b[0m \u001b[0mobj\u001b[0m\u001b[0;34m.\u001b[0m\u001b[0m_trait_values\u001b[0m\u001b[0;34m[\u001b[0m\u001b[0mself\u001b[0m\u001b[0;34m.\u001b[0m\u001b[0mname\u001b[0m\u001b[0;34m]\u001b[0m\u001b[0;34m\u001b[0m\u001b[0;34m\u001b[0m\u001b[0m\n",
      "\u001b[0;32m~/.virtualenvs/lux/lib/python3.7/site-packages/traitlets/traitlets.py\u001b[0m in \u001b[0;36m_validate\u001b[0;34m(self, obj, value)\u001b[0m\n\u001b[1;32m    589\u001b[0m             \u001b[0;32mreturn\u001b[0m \u001b[0mvalue\u001b[0m\u001b[0;34m\u001b[0m\u001b[0;34m\u001b[0m\u001b[0m\n\u001b[1;32m    590\u001b[0m         \u001b[0;32mif\u001b[0m \u001b[0mhasattr\u001b[0m\u001b[0;34m(\u001b[0m\u001b[0mself\u001b[0m\u001b[0;34m,\u001b[0m \u001b[0;34m'validate'\u001b[0m\u001b[0;34m)\u001b[0m\u001b[0;34m:\u001b[0m\u001b[0;34m\u001b[0m\u001b[0;34m\u001b[0m\u001b[0m\n\u001b[0;32m--> 591\u001b[0;31m             \u001b[0mvalue\u001b[0m \u001b[0;34m=\u001b[0m \u001b[0mself\u001b[0m\u001b[0;34m.\u001b[0m\u001b[0mvalidate\u001b[0m\u001b[0;34m(\u001b[0m\u001b[0mobj\u001b[0m\u001b[0;34m,\u001b[0m \u001b[0mvalue\u001b[0m\u001b[0;34m)\u001b[0m\u001b[0;34m\u001b[0m\u001b[0;34m\u001b[0m\u001b[0m\n\u001b[0m\u001b[1;32m    592\u001b[0m         \u001b[0;32mif\u001b[0m \u001b[0mobj\u001b[0m\u001b[0;34m.\u001b[0m\u001b[0m_cross_validation_lock\u001b[0m \u001b[0;32mis\u001b[0m \u001b[0;32mFalse\u001b[0m\u001b[0;34m:\u001b[0m\u001b[0;34m\u001b[0m\u001b[0;34m\u001b[0m\u001b[0m\n\u001b[1;32m    593\u001b[0m             \u001b[0mvalue\u001b[0m \u001b[0;34m=\u001b[0m \u001b[0mself\u001b[0m\u001b[0;34m.\u001b[0m\u001b[0m_cross_validate\u001b[0m\u001b[0;34m(\u001b[0m\u001b[0mobj\u001b[0m\u001b[0;34m,\u001b[0m \u001b[0mvalue\u001b[0m\u001b[0;34m)\u001b[0m\u001b[0;34m\u001b[0m\u001b[0;34m\u001b[0m\u001b[0m\n",
      "\u001b[0;32m~/.virtualenvs/lux/lib/python3.7/site-packages/traitlets/traitlets.py\u001b[0m in \u001b[0;36mvalidate\u001b[0;34m(self, obj, value)\u001b[0m\n\u001b[1;32m   2527\u001b[0m \u001b[0;34m\u001b[0m\u001b[0m\n\u001b[1;32m   2528\u001b[0m     \u001b[0;32mdef\u001b[0m \u001b[0mvalidate\u001b[0m\u001b[0;34m(\u001b[0m\u001b[0mself\u001b[0m\u001b[0;34m,\u001b[0m \u001b[0mobj\u001b[0m\u001b[0;34m,\u001b[0m \u001b[0mvalue\u001b[0m\u001b[0;34m)\u001b[0m\u001b[0;34m:\u001b[0m\u001b[0;34m\u001b[0m\u001b[0;34m\u001b[0m\u001b[0m\n\u001b[0;32m-> 2529\u001b[0;31m         \u001b[0mvalue\u001b[0m \u001b[0;34m=\u001b[0m \u001b[0msuper\u001b[0m\u001b[0;34m(\u001b[0m\u001b[0mDict\u001b[0m\u001b[0;34m,\u001b[0m \u001b[0mself\u001b[0m\u001b[0;34m)\u001b[0m\u001b[0;34m.\u001b[0m\u001b[0mvalidate\u001b[0m\u001b[0;34m(\u001b[0m\u001b[0mobj\u001b[0m\u001b[0;34m,\u001b[0m \u001b[0mvalue\u001b[0m\u001b[0;34m)\u001b[0m\u001b[0;34m\u001b[0m\u001b[0;34m\u001b[0m\u001b[0m\n\u001b[0m\u001b[1;32m   2530\u001b[0m         \u001b[0;32mif\u001b[0m \u001b[0mvalue\u001b[0m \u001b[0;32mis\u001b[0m \u001b[0;32mNone\u001b[0m\u001b[0;34m:\u001b[0m\u001b[0;34m\u001b[0m\u001b[0;34m\u001b[0m\u001b[0m\n\u001b[1;32m   2531\u001b[0m             \u001b[0;32mreturn\u001b[0m \u001b[0mvalue\u001b[0m\u001b[0;34m\u001b[0m\u001b[0;34m\u001b[0m\u001b[0m\n",
      "\u001b[0;32m~/.virtualenvs/lux/lib/python3.7/site-packages/traitlets/traitlets.py\u001b[0m in \u001b[0;36mvalidate\u001b[0;34m(self, obj, value)\u001b[0m\n\u001b[1;32m   1675\u001b[0m             \u001b[0;32mreturn\u001b[0m \u001b[0mvalue\u001b[0m\u001b[0;34m\u001b[0m\u001b[0;34m\u001b[0m\u001b[0m\n\u001b[1;32m   1676\u001b[0m         \u001b[0;32melse\u001b[0m\u001b[0;34m:\u001b[0m\u001b[0;34m\u001b[0m\u001b[0;34m\u001b[0m\u001b[0m\n\u001b[0;32m-> 1677\u001b[0;31m             \u001b[0mself\u001b[0m\u001b[0;34m.\u001b[0m\u001b[0merror\u001b[0m\u001b[0;34m(\u001b[0m\u001b[0mobj\u001b[0m\u001b[0;34m,\u001b[0m \u001b[0mvalue\u001b[0m\u001b[0;34m)\u001b[0m\u001b[0;34m\u001b[0m\u001b[0;34m\u001b[0m\u001b[0m\n\u001b[0m\u001b[1;32m   1678\u001b[0m \u001b[0;34m\u001b[0m\u001b[0m\n\u001b[1;32m   1679\u001b[0m     \u001b[0;32mdef\u001b[0m \u001b[0minfo\u001b[0m\u001b[0;34m(\u001b[0m\u001b[0mself\u001b[0m\u001b[0;34m)\u001b[0m\u001b[0;34m:\u001b[0m\u001b[0;34m\u001b[0m\u001b[0;34m\u001b[0m\u001b[0m\n",
      "\u001b[0;32m~/.virtualenvs/lux/lib/python3.7/site-packages/traitlets/traitlets.py\u001b[0m in \u001b[0;36merror\u001b[0;34m(self, obj, value)\u001b[0m\n\u001b[1;32m   1522\u001b[0m                 \u001b[0;34m%\u001b[0m \u001b[0;34m(\u001b[0m\u001b[0mself\u001b[0m\u001b[0;34m.\u001b[0m\u001b[0mname\u001b[0m\u001b[0;34m,\u001b[0m \u001b[0mself\u001b[0m\u001b[0;34m.\u001b[0m\u001b[0minfo\u001b[0m\u001b[0;34m(\u001b[0m\u001b[0;34m)\u001b[0m\u001b[0;34m,\u001b[0m \u001b[0mmsg\u001b[0m\u001b[0;34m)\u001b[0m\u001b[0;34m\u001b[0m\u001b[0;34m\u001b[0m\u001b[0m\n\u001b[1;32m   1523\u001b[0m \u001b[0;34m\u001b[0m\u001b[0m\n\u001b[0;32m-> 1524\u001b[0;31m         \u001b[0;32mraise\u001b[0m \u001b[0mTraitError\u001b[0m\u001b[0;34m(\u001b[0m\u001b[0me\u001b[0m\u001b[0;34m)\u001b[0m\u001b[0;34m\u001b[0m\u001b[0;34m\u001b[0m\u001b[0m\n\u001b[0m\u001b[1;32m   1525\u001b[0m \u001b[0;34m\u001b[0m\u001b[0m\n\u001b[1;32m   1526\u001b[0m \u001b[0;34m\u001b[0m\u001b[0m\n",
      "\u001b[0;31mTraitError\u001b[0m: The 'current_vis' trait of a LuxWidget instance must be a dict, but a value of class 'NoneType' (i.e. None) was specified."
     ]
    },
    {
     "data": {
      "text/plain": [
       "<Vis  (['Region', 'MedianEarnings']) mark: , score: 0.0 >"
      ]
     },
     "execution_count": 36,
     "metadata": {},
     "output_type": "execute_result"
    }
   ],
   "source": [
    "vis"
   ]
  },
  {
   "cell_type": "markdown",
   "metadata": {},
   "source": [
    "We see that the information about ACTMedian and SATAverage has a very strong correlation. This means that we could probably just keep one of the columns and still get about the same information. So let's drop the ACTMedian column."
   ]
  },
  {
   "cell_type": "code",
   "execution_count": 5,
   "metadata": {},
   "outputs": [
    {
     "data": {
      "application/vnd.jupyter.widget-view+json": {
       "model_id": "c3effb7e5dac4353b218cd9e3758a4c6",
       "version_major": 2,
       "version_minor": 0
      },
      "text/plain": [
       "LuxWidget(recommendations=[{'action': 'Correlation', 'description': 'Show relationships between two quantitati…"
      ]
     },
     "metadata": {},
     "output_type": "display_data"
    },
    {
     "data": {
      "text/plain": []
     },
     "execution_count": 5,
     "metadata": {},
     "output_type": "execute_result"
    }
   ],
   "source": [
    "df = df.drop(columns=[\"ACTMedian\"])\n",
    "df"
   ]
  },
  {
   "cell_type": "markdown",
   "metadata": {},
   "source": [
    "From the Category tab, we see that there is very few records for Predominant Degree as Certificate. In addition, there are not a lot of colleges with a Private For-Profit funding model."
   ]
  },
  {
   "cell_type": "code",
   "execution_count": 6,
   "metadata": {},
   "outputs": [
    {
     "data": {
      "text/html": [
       "<div>\n",
       "<style scoped>\n",
       "    .dataframe tbody tr th:only-of-type {\n",
       "        vertical-align: middle;\n",
       "    }\n",
       "\n",
       "    .dataframe tbody tr th {\n",
       "        vertical-align: top;\n",
       "    }\n",
       "\n",
       "    .dataframe thead th {\n",
       "        text-align: right;\n",
       "    }\n",
       "</style>\n",
       "<table border=\"1\" class=\"dataframe\">\n",
       "  <thead>\n",
       "    <tr style=\"text-align: right;\">\n",
       "      <th></th>\n",
       "      <th>Name</th>\n",
       "      <th>PredominantDegree</th>\n",
       "      <th>HighestDegree</th>\n",
       "      <th>FundingModel</th>\n",
       "      <th>Region</th>\n",
       "      <th>Geography</th>\n",
       "      <th>AdmissionRate</th>\n",
       "      <th>SATAverage</th>\n",
       "      <th>AverageCost</th>\n",
       "      <th>Expenditure</th>\n",
       "      <th>AverageFacultySalary</th>\n",
       "      <th>MedianDebt</th>\n",
       "      <th>AverageAgeofEntry</th>\n",
       "      <th>MedianFamilyIncome</th>\n",
       "      <th>MedianEarnings</th>\n",
       "    </tr>\n",
       "  </thead>\n",
       "  <tbody>\n",
       "    <tr>\n",
       "      <th>1061</th>\n",
       "      <td>Cleveland State Community College</td>\n",
       "      <td>Certificate</td>\n",
       "      <td>Associate</td>\n",
       "      <td>Public</td>\n",
       "      <td>Southeast</td>\n",
       "      <td>Small City</td>\n",
       "      <td>1.0</td>\n",
       "      <td>910</td>\n",
       "      <td>10764</td>\n",
       "      <td>5111</td>\n",
       "      <td>5424</td>\n",
       "      <td>6859.5</td>\n",
       "      <td>25.6</td>\n",
       "      <td>24530.5</td>\n",
       "      <td>26000</td>\n",
       "    </tr>\n",
       "  </tbody>\n",
       "</table>\n",
       "</div>"
      ],
      "text/plain": [
       "                                   Name PredominantDegree HighestDegree  \\\n",
       "1061  Cleveland State Community College       Certificate     Associate   \n",
       "\n",
       "     FundingModel     Region   Geography  AdmissionRate  SATAverage  \\\n",
       "1061       Public  Southeast  Small City            1.0         910   \n",
       "\n",
       "      AverageCost  Expenditure  AverageFacultySalary  MedianDebt  \\\n",
       "1061        10764         5111                  5424      6859.5   \n",
       "\n",
       "      AverageAgeofEntry  MedianFamilyIncome  MedianEarnings  \n",
       "1061               25.6             24530.5           26000  "
      ]
     },
     "execution_count": 6,
     "metadata": {},
     "output_type": "execute_result"
    }
   ],
   "source": [
    "df[df[\"PredominantDegree\"]==\"Certificate\"].to_pandas()"
   ]
  },
  {
   "cell_type": "markdown",
   "metadata": {},
   "source": [
    "There is only a single record for Certificate, we look at the [webpage for programs offered at Cleveland State Community College](http://catalog.clevelandstatecc.edu/content.php?catoid=2&navoid=90) and it looks like there is a large number of associate as well as certificate degrees offered. So we decide that this is more appropriately labelled as \"Associate\" for the `PredominantDegree` field."
   ]
  },
  {
   "cell_type": "code",
   "execution_count": 7,
   "metadata": {},
   "outputs": [],
   "source": [
    "df.loc[df[\"PredominantDegree\"]==\"Certificate\",\"PredominantDegree\"] = \"Associate\""
   ]
  },
  {
   "cell_type": "markdown",
   "metadata": {},
   "source": [
    "Taking a look at the subset of 9 colleges that are Private For-Profit, there isn't really any commonalities across them, so we can just leave the data as is for now."
   ]
  },
  {
   "cell_type": "code",
   "execution_count": 8,
   "metadata": {},
   "outputs": [
    {
     "data": {
      "application/vnd.jupyter.widget-view+json": {
       "model_id": "279ff8160cbd48d68de94271655e5b6c",
       "version_major": 2,
       "version_minor": 0
      },
      "text/plain": [
       "LuxWidget(recommendations=[{'action': 'Correlation', 'description': 'Show relationships between two quantitati…"
      ]
     },
     "metadata": {},
     "output_type": "display_data"
    },
    {
     "data": {
      "text/plain": []
     },
     "execution_count": 8,
     "metadata": {},
     "output_type": "execute_result"
    }
   ],
   "source": [
    "df[df[\"FundingModel\"]==\"Private For-Profit\"]"
   ]
  },
  {
   "cell_type": "markdown",
   "metadata": {},
   "source": [
    "Back to looking at the entire dataset:"
   ]
  },
  {
   "cell_type": "code",
   "execution_count": 9,
   "metadata": {},
   "outputs": [
    {
     "data": {
      "application/vnd.jupyter.widget-view+json": {
       "model_id": "f05302faf9a94bfc8f74d3903565b8da",
       "version_major": 2,
       "version_minor": 0
      },
      "text/plain": [
       "LuxWidget(recommendations=[{'action': 'Correlation', 'description': 'Show relationships between two quantitati…"
      ]
     },
     "metadata": {},
     "output_type": "display_data"
    },
    {
     "data": {
      "text/plain": []
     },
     "execution_count": 9,
     "metadata": {},
     "output_type": "execute_result"
    }
   ],
   "source": [
    "df"
   ]
  },
  {
   "cell_type": "markdown",
   "metadata": {},
   "source": [
    "You are interested in picking a college to attend and want to understand the `AverageCost` of attending different colleges and how that relates to other information in the dataset."
   ]
  },
  {
   "cell_type": "code",
   "execution_count": 10,
   "metadata": {},
   "outputs": [
    {
     "name": "stderr",
     "output_type": "stream",
     "text": [
      "/Users/dorislee/Desktop/Research/lux/lux/lux/compiler/Validator.py:50: FutureWarning: elementwise comparison failed; returning scalar instead, but in the future will perform elementwise comparison\n",
      "  checkValExists = spec.attribute in unique_vals and spec.value in unique_vals[spec.attribute]\n"
     ]
    }
   ],
   "source": [
    "df.set_context([\"AverageCost\"])"
   ]
  },
  {
   "cell_type": "code",
   "execution_count": 11,
   "metadata": {},
   "outputs": [
    {
     "data": {
      "application/vnd.jupyter.widget-view+json": {
       "model_id": "a009a6740373431592516e253e42a3c5",
       "version_major": 2,
       "version_minor": 0
      },
      "text/plain": [
       "LuxWidget(currentVis={'config': {'view': {'continuousWidth': 400, 'continuousHeight': 300}}, 'data': {'name'…"
      ]
     },
     "metadata": {},
     "output_type": "display_data"
    },
    {
     "data": {
      "text/plain": []
     },
     "execution_count": 11,
     "metadata": {},
     "output_type": "execute_result"
    }
   ],
   "source": [
    "df"
   ]
  },
  {
   "cell_type": "markdown",
   "metadata": {},
   "source": [
    "We see that there are a large number of collegs that cost around 20000 per year. We also see that Bachelor degree colleges and colleges in New England and large cities tend to have a higher `AverageCost` than its counterparts."
   ]
  },
  {
   "cell_type": "markdown",
   "metadata": {},
   "source": [
    "We are interested in the trend of `AverageCost` v.s. `SATAverage` since there is a rough upwards relationship above `AverageCost` of $30000, but below that the trend is less clear."
   ]
  },
  {
   "cell_type": "code",
   "execution_count": 14,
   "metadata": {},
   "outputs": [],
   "source": [
    "df.set_context([\"AverageCost\",\"SATAverage\"])"
   ]
  },
  {
   "cell_type": "code",
   "execution_count": 15,
   "metadata": {},
   "outputs": [
    {
     "data": {
      "application/vnd.jupyter.widget-view+json": {
       "model_id": "1f67758a64aa429f93d54b484f751970",
       "version_major": 2,
       "version_minor": 0
      },
      "text/plain": [
       "LuxWidget(currentVis={'config': {'view': {'continuousWidth': 400, 'continuousHeight': 300}, 'mark': {'toolti…"
      ]
     },
     "metadata": {},
     "output_type": "display_data"
    },
    {
     "data": {
      "text/plain": []
     },
     "execution_count": 15,
     "metadata": {},
     "output_type": "execute_result"
    }
   ],
   "source": [
    "df"
   ]
  },
  {
   "cell_type": "markdown",
   "metadata": {},
   "source": [
    "By adding the `FundingModel`, we see that the cluster of points on the left can clearly be attributed to public colleges, whereas private colleges more or less follow a trend that shows that colleges with higher `SATAverage` tends to have higher `AverageCost`."
   ]
  },
  {
   "cell_type": "code",
   "execution_count": null,
   "metadata": {},
   "outputs": [],
   "source": []
  }
 ],
 "metadata": {
  "history": [
   {
    "time": "2020-07-21T06:57:25.547Z",
    "type": "kernelReady"
   },
   {
    "code": "cd ../",
    "id": "e8ee2019be7a47428996a99aea42b2b3",
    "order_count": 0,
    "time": "2020-07-21T06:57:26.892Z",
    "type": "executeCodeCell"
   },
   {
    "code": "This dataset contains a total of 1295 records of American colleges and their properties, collected by the [US Department of Education](https://collegescorecard.ed.gov/data/documentation/).",
    "id": "2071bd345a6e48208e1547c0f27413ad",
    "order_count": 1,
    "time": "2020-07-21T06:57:26.900Z",
    "type": "selectMarkdownCell"
   },
   {
    "code": "cd ../",
    "id": "e8ee2019be7a47428996a99aea42b2b3",
    "isPrintLuxDf": false,
    "isPrintPandasDf": false,
    "isPrintVis": false,
    "isPrintVisCollection": false,
    "order_count": 0,
    "time": "2020-07-21T06:57:27.032Z",
    "type": "completeCodeCell"
   },
   {
    "code": "import pandas as pd\n%load_ext autoreload\n%autoreload 2\nimport lux",
    "id": "4f448a336b6a494fb3531f792e608f19",
    "order_count": 2,
    "time": "2020-07-21T06:57:27.162Z",
    "type": "selectCodeCell"
   },
   {
    "param": "",
    "time": "2020-07-21T06:57:27.189Z",
    "type": "initWidget"
   },
   {
    "code": "import pandas as pd\n%load_ext autoreload\n%autoreload 2\nimport lux",
    "id": "4f448a336b6a494fb3531f792e608f19",
    "order_count": 2,
    "time": "2020-07-21T06:57:27.926Z",
    "type": "executeCodeCell"
   },
   {
    "code": "df = pd.read_csv(\"lux/data/college.csv\")",
    "id": "e157e25b4971474b81c42c94e42dba02",
    "order_count": 3,
    "time": "2020-07-21T06:57:27.947Z",
    "type": "selectCodeCell"
   },
   {
    "param": "",
    "time": "2020-07-21T06:57:27.956Z",
    "type": "initWidget"
   },
   {
    "code": "import pandas as pd\n%load_ext autoreload\n%autoreload 2\nimport lux",
    "id": "4f448a336b6a494fb3531f792e608f19",
    "isPrintLuxDf": false,
    "isPrintPandasDf": false,
    "isPrintVis": false,
    "isPrintVisCollection": false,
    "order_count": 2,
    "time": "2020-07-21T06:57:28.627Z",
    "type": "completeCodeCell"
   },
   {
    "time": "2020-07-21T06:57:29.574Z",
    "type": "kernelRestart"
   },
   {
    "time": "2020-07-21T06:57:29.750Z",
    "type": "kernelRestart"
   },
   {
    "code": "df",
    "id": "c025d8d60a844b6f81a0d4536895c1e1",
    "order_count": 4,
    "time": "2020-07-21T06:57:30.116Z",
    "type": "selectCodeCell"
   },
   {
    "code": "We see that the information about ACTMedian and SATAverage has a very strong correlation. This means that we could probably just keep one of the columns and still get about the same information. So let's drop the ACTMedian column.",
    "id": "1c6c91b3905e4e7b992365e675c7eb0d",
    "order_count": 5,
    "time": "2020-07-21T06:57:30.300Z",
    "type": "selectMarkdownCell"
   },
   {
    "code": "df = df.drop(columns=[\"ACTMedian\"])\ndf",
    "id": "e10368223048461fa4eced0e0c15c68c",
    "order_count": 6,
    "time": "2020-07-21T06:57:30.466Z",
    "type": "selectCodeCell"
   },
   {
    "code": "We see that the information about ACTMedian and SATAverage has a very strong correlation. This means that we could probably just keep one of the columns and still get about the same information. So let's drop the ACTMedian column.",
    "id": "1c6c91b3905e4e7b992365e675c7eb0d",
    "order_count": 5,
    "time": "2020-07-21T06:57:30.637Z",
    "type": "selectMarkdownCell"
   },
   {
    "code": "df",
    "id": "c025d8d60a844b6f81a0d4536895c1e1",
    "order_count": 4,
    "time": "2020-07-21T06:57:30.809Z",
    "type": "selectCodeCell"
   },
   {
    "code": "df = pd.read_csv(\"lux/data/college.csv\")",
    "id": "e157e25b4971474b81c42c94e42dba02",
    "order_count": 3,
    "time": "2020-07-21T06:57:30.975Z",
    "type": "selectCodeCell"
   },
   {
    "code": "import pandas as pd\n%load_ext autoreload\n%autoreload 2\nimport lux",
    "id": "4f448a336b6a494fb3531f792e608f19",
    "order_count": 2,
    "time": "2020-07-21T06:57:31.114Z",
    "type": "selectCodeCell"
   },
   {
    "code": "This dataset contains a total of 1295 records of American colleges and their properties, collected by the [US Department of Education](https://collegescorecard.ed.gov/data/documentation/).",
    "id": "2071bd345a6e48208e1547c0f27413ad",
    "order_count": 1,
    "time": "2020-07-21T06:57:31.245Z",
    "type": "selectMarkdownCell"
   },
   {
    "code": "cd ../",
    "id": "e8ee2019be7a47428996a99aea42b2b3",
    "order_count": 0,
    "time": "2020-07-21T06:57:31.405Z",
    "type": "selectCodeCell"
   },
   {
    "time": "2020-07-21T06:57:31.424Z",
    "type": "kernelReady"
   },
   {
    "code": "cd ../",
    "id": "e8ee2019be7a47428996a99aea42b2b3",
    "order_count": 0,
    "time": "2020-07-21T06:57:31.713Z",
    "type": "executeCodeCell"
   },
   {
    "code": "This dataset contains a total of 1295 records of American colleges and their properties, collected by the [US Department of Education](https://collegescorecard.ed.gov/data/documentation/).",
    "id": "2071bd345a6e48208e1547c0f27413ad",
    "order_count": 1,
    "time": "2020-07-21T06:57:31.720Z",
    "type": "selectMarkdownCell"
   },
   {
    "code": "cd ../",
    "id": "e8ee2019be7a47428996a99aea42b2b3",
    "isPrintLuxDf": false,
    "isPrintPandasDf": false,
    "isPrintVis": false,
    "isPrintVisCollection": false,
    "order_count": 0,
    "time": "2020-07-21T06:57:31.732Z",
    "type": "completeCodeCell"
   },
   {
    "code": "import pandas as pd\n%load_ext autoreload\n%autoreload 2\nimport lux",
    "id": "4f448a336b6a494fb3531f792e608f19",
    "order_count": 2,
    "time": "2020-07-21T06:57:31.885Z",
    "type": "selectCodeCell"
   },
   {
    "code": "import pandas as pd\n%load_ext autoreload\n%autoreload 2\nimport lux",
    "id": "4f448a336b6a494fb3531f792e608f19",
    "order_count": 2,
    "time": "2020-07-21T06:57:32.051Z",
    "type": "executeCodeCell"
   },
   {
    "code": "df = pd.read_csv(\"lux/data/college.csv\")",
    "id": "e157e25b4971474b81c42c94e42dba02",
    "order_count": 3,
    "time": "2020-07-21T06:57:32.065Z",
    "type": "selectCodeCell"
   },
   {
    "code": "df = pd.read_csv(\"lux/data/college.csv\")",
    "id": "e157e25b4971474b81c42c94e42dba02",
    "order_count": 3,
    "time": "2020-07-21T06:57:32.197Z",
    "type": "executeCodeCell"
   },
   {
    "code": "df",
    "id": "c025d8d60a844b6f81a0d4536895c1e1",
    "order_count": 4,
    "time": "2020-07-21T06:57:32.206Z",
    "type": "selectCodeCell"
   },
   {
    "code": "import pandas as pd\n%load_ext autoreload\n%autoreload 2\nimport lux",
    "id": "4f448a336b6a494fb3531f792e608f19",
    "isPrintLuxDf": false,
    "isPrintPandasDf": false,
    "isPrintVis": false,
    "isPrintVisCollection": false,
    "order_count": 2,
    "time": "2020-07-21T06:57:32.606Z",
    "type": "completeCodeCell"
   },
   {
    "code": "df = pd.read_csv(\"lux/data/college.csv\")",
    "id": "e157e25b4971474b81c42c94e42dba02",
    "isPrintLuxDf": false,
    "isPrintPandasDf": false,
    "isPrintVis": false,
    "isPrintVisCollection": false,
    "order_count": 3,
    "time": "2020-07-21T06:57:32.640Z",
    "type": "completeCodeCell"
   },
   {
    "code": "",
    "id": "d3c63bb7194145078bfd5de47bf84b94",
    "order_count": 4,
    "time": "2020-07-21T06:57:33.188Z",
    "type": "selectCodeCell"
   },
   {
    "code": "",
    "id": "d3c63bb7194145078bfd5de47bf84b94",
    "order_count": 4,
    "time": "2020-07-21T06:57:33.232Z",
    "type": "editCodeCell"
   },
   {
    "code": "df.groupby(\"Region\")",
    "id": "d3c63bb7194145078bfd5de47bf84b94",
    "order_count": 4,
    "time": "2020-07-21T06:57:43.067Z",
    "type": "executeCodeCell"
   },
   {
    "code": "df",
    "id": "c025d8d60a844b6f81a0d4536895c1e1",
    "order_count": 5,
    "time": "2020-07-21T06:57:43.094Z",
    "type": "selectCodeCell"
   },
   {
    "code": "df.groupby(\"Region\")",
    "id": "d3c63bb7194145078bfd5de47bf84b94",
    "isPrintLuxDf": false,
    "isPrintPandasDf": false,
    "isPrintVis": false,
    "isPrintVisCollection": false,
    "order_count": 4,
    "time": "2020-07-21T06:57:43.100Z",
    "type": "completeCodeCell"
   },
   {
    "code": "We see that the information about ACTMedian and SATAverage has a very strong correlation. This means that we could probably just keep one of the columns and still get about the same information. So let's drop the ACTMedian column.",
    "id": "1c6c91b3905e4e7b992365e675c7eb0d",
    "order_count": 6,
    "time": "2020-07-21T06:57:43.615Z",
    "type": "selectMarkdownCell"
   },
   {
    "code": "df",
    "id": "c025d8d60a844b6f81a0d4536895c1e1",
    "order_count": 5,
    "time": "2020-07-21T06:57:44.140Z",
    "type": "selectCodeCell"
   },
   {
    "code": "df.groupby(\"Region\")",
    "id": "d3c63bb7194145078bfd5de47bf84b94",
    "order_count": 4,
    "time": "2020-07-21T06:57:44.346Z",
    "type": "selectCodeCell"
   },
   {
    "code": "df.groupby(\"Region\")",
    "id": "d3c63bb7194145078bfd5de47bf84b94",
    "order_count": 4,
    "time": "2020-07-21T06:57:44.812Z",
    "type": "editCodeCell"
   },
   {
    "code": "df.groupby(\"Region\").sum()",
    "id": "d3c63bb7194145078bfd5de47bf84b94",
    "order_count": 4,
    "time": "2020-07-21T06:57:49.782Z",
    "type": "executeCodeCell"
   },
   {
    "code": "df",
    "id": "c025d8d60a844b6f81a0d4536895c1e1",
    "order_count": 5,
    "time": "2020-07-21T06:57:49.806Z",
    "type": "selectCodeCell"
   },
   {
    "code": "df.groupby(\"Region\").sum()",
    "id": "d3c63bb7194145078bfd5de47bf84b94",
    "isPrintLuxDf": false,
    "isPrintPandasDf": true,
    "isPrintVis": false,
    "isPrintVisCollection": false,
    "order_count": 4,
    "time": "2020-07-21T06:57:49.890Z",
    "type": "completeCodeCell"
   },
   {
    "code": "df.groupby(\"Region\").sum()",
    "id": "d3c63bb7194145078bfd5de47bf84b94",
    "order_count": 4,
    "time": "2020-07-21T06:57:54.602Z",
    "type": "selectCodeCell"
   },
   {
    "code": "df.groupby(\"Region\").sum()",
    "id": "d3c63bb7194145078bfd5de47bf84b94",
    "order_count": 4,
    "time": "2020-07-21T06:57:54.609Z",
    "type": "editCodeCell"
   },
   {
    "code": "df.groupby(\"Region\").sum()",
    "id": "d3c63bb7194145078bfd5de47bf84b94",
    "order_count": 4,
    "time": "2020-07-21T06:57:54.718Z",
    "type": "selectCodeCell"
   },
   {
    "code": "df.groupby(\"Region\").sum()",
    "id": "d3c63bb7194145078bfd5de47bf84b94",
    "order_count": 4,
    "time": "2020-07-21T06:57:55.415Z",
    "type": "selectCodeCell"
   },
   {
    "code": "",
    "id": "0f22d61819d74cf79176633582f26010",
    "order_count": 4,
    "time": "2020-07-21T06:57:55.771Z",
    "type": "selectCodeCell"
   },
   {
    "code": "",
    "id": "0f22d61819d74cf79176633582f26010",
    "order_count": 4,
    "time": "2020-07-21T06:57:55.902Z",
    "type": "editCodeCell"
   },
   {
    "code": "df.index",
    "id": "0f22d61819d74cf79176633582f26010",
    "order_count": 4,
    "time": "2020-07-21T06:57:59.219Z",
    "type": "executeCodeCell"
   },
   {
    "code": "df.groupby(\"Region\").sum()",
    "id": "d3c63bb7194145078bfd5de47bf84b94",
    "order_count": 5,
    "time": "2020-07-21T06:57:59.248Z",
    "type": "selectCodeCell"
   },
   {
    "code": "df.index",
    "id": "0f22d61819d74cf79176633582f26010",
    "isPrintLuxDf": false,
    "isPrintPandasDf": false,
    "isPrintVis": false,
    "isPrintVisCollection": false,
    "order_count": 4,
    "time": "2020-07-21T06:57:59.255Z",
    "type": "completeCodeCell"
   },
   {
    "code": "df.index",
    "id": "0f22d61819d74cf79176633582f26010",
    "order_count": 4,
    "time": "2020-07-21T06:58:00.775Z",
    "type": "selectCodeCell"
   },
   {
    "code": "df.index",
    "id": "0f22d61819d74cf79176633582f26010",
    "order_count": 4,
    "time": "2020-07-21T06:58:00.781Z",
    "type": "editCodeCell"
   },
   {
    "code": "df.index",
    "id": "0f22d61819d74cf79176633582f26010",
    "order_count": 4,
    "time": "2020-07-21T06:58:00.915Z",
    "type": "selectCodeCell"
   },
   {
    "code": "df.index",
    "id": "0f22d61819d74cf79176633582f26010",
    "order_count": 4,
    "time": "2020-07-21T06:58:01.417Z",
    "type": "selectCodeCell"
   },
   {
    "code": "df.index",
    "id": "0f22d61819d74cf79176633582f26010",
    "order_count": 4,
    "time": "2020-07-21T06:58:07.824Z",
    "type": "executeCodeCell"
   },
   {
    "code": "df.groupby(\"Region\").sum()",
    "id": "d3c63bb7194145078bfd5de47bf84b94",
    "order_count": 5,
    "time": "2020-07-21T06:58:07.855Z",
    "type": "selectCodeCell"
   },
   {
    "code": "df.index",
    "id": "0f22d61819d74cf79176633582f26010",
    "isPrintLuxDf": false,
    "isPrintPandasDf": false,
    "isPrintVis": false,
    "isPrintVisCollection": false,
    "order_count": 4,
    "time": "2020-07-21T06:58:07.867Z",
    "type": "completeCodeCell"
   },
   {
    "code": "df.groupby(\"Region\").sum()",
    "id": "d3c63bb7194145078bfd5de47bf84b94",
    "order_count": 5,
    "time": "2020-07-21T06:58:09.205Z",
    "type": "editCodeCell"
   },
   {
    "code": "groupbyResult = df.groupby(\"Region\").sum()",
    "id": "d3c63bb7194145078bfd5de47bf84b94",
    "order_count": 5,
    "time": "2020-07-21T06:58:14.945Z",
    "type": "executeCodeCell"
   },
   {
    "code": "df",
    "id": "c025d8d60a844b6f81a0d4536895c1e1",
    "order_count": 6,
    "time": "2020-07-21T06:58:14.967Z",
    "type": "selectCodeCell"
   },
   {
    "code": "groupbyResult = df.groupby(\"Region\").sum()",
    "id": "d3c63bb7194145078bfd5de47bf84b94",
    "isPrintLuxDf": false,
    "isPrintPandasDf": false,
    "isPrintVis": false,
    "isPrintVisCollection": false,
    "order_count": 5,
    "time": "2020-07-21T06:58:14.981Z",
    "type": "completeCodeCell"
   },
   {
    "code": "",
    "id": "bcde848cff2c4cd8bd0747c10ce08bf7",
    "order_count": 6,
    "time": "2020-07-21T06:58:15.341Z",
    "type": "selectCodeCell"
   },
   {
    "code": "",
    "id": "bcde848cff2c4cd8bd0747c10ce08bf7",
    "order_count": 6,
    "time": "2020-07-21T06:58:15.510Z",
    "type": "editCodeCell"
   },
   {
    "code": "groupbyResult",
    "id": "bcde848cff2c4cd8bd0747c10ce08bf7",
    "order_count": 6,
    "time": "2020-07-21T06:58:17.952Z",
    "type": "executeCodeCell"
   },
   {
    "code": "df",
    "id": "c025d8d60a844b6f81a0d4536895c1e1",
    "order_count": 7,
    "time": "2020-07-21T06:58:17.979Z",
    "type": "selectCodeCell"
   },
   {
    "code": "groupbyResult",
    "id": "bcde848cff2c4cd8bd0747c10ce08bf7",
    "isPrintLuxDf": false,
    "isPrintPandasDf": true,
    "isPrintVis": false,
    "isPrintVisCollection": false,
    "order_count": 6,
    "time": "2020-07-21T06:58:17.990Z",
    "type": "completeCodeCell"
   },
   {
    "code": "df.index",
    "id": "0f22d61819d74cf79176633582f26010",
    "order_count": 4,
    "time": "2020-07-21T06:58:18.947Z",
    "type": "selectCodeCell"
   },
   {
    "code": "df.index",
    "id": "0f22d61819d74cf79176633582f26010",
    "order_count": null,
    "time": "2020-07-21T06:58:19.412Z",
    "type": "deleteCodeCell"
   },
   {
    "code": "groupbyResult",
    "id": "bcde848cff2c4cd8bd0747c10ce08bf7",
    "order_count": 5,
    "time": "2020-07-21T06:58:20.000Z",
    "type": "selectCodeCell"
   },
   {
    "code": "groupbyResult",
    "id": "bcde848cff2c4cd8bd0747c10ce08bf7",
    "order_count": 5,
    "time": "2020-07-21T06:58:20.006Z",
    "type": "editCodeCell"
   },
   {
    "code": "groupbyResult.index",
    "id": "bcde848cff2c4cd8bd0747c10ce08bf7",
    "order_count": 5,
    "time": "2020-07-21T06:58:21.521Z",
    "type": "executeCodeCell"
   },
   {
    "code": "df",
    "id": "c025d8d60a844b6f81a0d4536895c1e1",
    "order_count": 6,
    "time": "2020-07-21T06:58:21.546Z",
    "type": "selectCodeCell"
   },
   {
    "code": "groupbyResult.index",
    "id": "bcde848cff2c4cd8bd0747c10ce08bf7",
    "isPrintLuxDf": false,
    "isPrintPandasDf": false,
    "isPrintVis": false,
    "isPrintVisCollection": false,
    "order_count": 5,
    "time": "2020-07-21T06:58:21.556Z",
    "type": "completeCodeCell"
   },
   {
    "code": "groupbyResult.index",
    "id": "bcde848cff2c4cd8bd0747c10ce08bf7",
    "order_count": 5,
    "time": "2020-07-21T06:58:22.834Z",
    "type": "selectCodeCell"
   },
   {
    "code": "groupbyResult.index",
    "id": "bcde848cff2c4cd8bd0747c10ce08bf7",
    "order_count": 5,
    "time": "2020-07-21T06:58:22.839Z",
    "type": "editCodeCell"
   },
   {
    "code": "",
    "id": "151d5ed073e6454ba2dec71db0046fcb",
    "order_count": 5,
    "time": "2020-07-21T06:58:27.434Z",
    "type": "selectCodeCell"
   },
   {
    "code": "",
    "id": "151d5ed073e6454ba2dec71db0046fcb",
    "order_count": 5,
    "time": "2020-07-21T06:58:27.550Z",
    "type": "editCodeCell"
   },
   {
    "code": "groupbyResult.columns",
    "id": "151d5ed073e6454ba2dec71db0046fcb",
    "order_count": 5,
    "time": "2020-07-21T06:58:30.720Z",
    "type": "executeCodeCell"
   },
   {
    "code": "groupbyResult.index",
    "id": "bcde848cff2c4cd8bd0747c10ce08bf7",
    "order_count": 6,
    "time": "2020-07-21T06:58:30.745Z",
    "type": "selectCodeCell"
   },
   {
    "code": "groupbyResult.columns",
    "id": "151d5ed073e6454ba2dec71db0046fcb",
    "isPrintLuxDf": false,
    "isPrintPandasDf": false,
    "isPrintVis": false,
    "isPrintVisCollection": false,
    "order_count": 5,
    "time": "2020-07-21T06:58:30.752Z",
    "type": "completeCodeCell"
   },
   {
    "code": "groupbyResult.index",
    "id": "bcde848cff2c4cd8bd0747c10ce08bf7",
    "order_count": 6,
    "time": "2020-07-21T06:58:32.449Z",
    "type": "editCodeCell"
   },
   {
    "time": "2020-07-21T06:58:53.578Z",
    "type": "kernelReady"
   },
   {
    "code": "groupbyResult.index",
    "id": "bcde848cff2c4cd8bd0747c10ce08bf7",
    "order_count": 6,
    "time": "2020-07-21T07:10:55.956Z",
    "type": "editCodeCell"
   },
   {
    "code": "groupbyResult.index",
    "id": "bcde848cff2c4cd8bd0747c10ce08bf7",
    "order_count": 6,
    "time": "2020-07-21T07:10:58.507Z",
    "type": "executeCodeCell"
   },
   {
    "code": "df",
    "id": "c025d8d60a844b6f81a0d4536895c1e1",
    "order_count": 7,
    "time": "2020-07-21T07:10:58.529Z",
    "type": "selectCodeCell"
   },
   {
    "code": "groupbyResult.index",
    "id": "bcde848cff2c4cd8bd0747c10ce08bf7",
    "isPrintLuxDf": false,
    "isPrintPandasDf": false,
    "isPrintVis": false,
    "isPrintVisCollection": false,
    "order_count": 6,
    "time": "2020-07-21T07:10:58.538Z",
    "type": "completeCodeCell"
   },
   {
    "code": "df",
    "id": "c025d8d60a844b6f81a0d4536895c1e1",
    "order_count": 7,
    "time": "2020-07-21T07:11:00.234Z",
    "type": "editCodeCell"
   },
   {
    "code": "df",
    "id": "c025d8d60a844b6f81a0d4536895c1e1",
    "order_count": 7,
    "time": "2020-07-21T07:11:00.421Z",
    "type": "selectCodeCell"
   },
   {
    "code": "df",
    "id": "c025d8d60a844b6f81a0d4536895c1e1",
    "order_count": 7,
    "time": "2020-07-21T07:11:06.164Z",
    "type": "editCodeCell"
   },
   {
    "code": "df",
    "id": "c025d8d60a844b6f81a0d4536895c1e1",
    "order_count": 7,
    "time": "2020-07-21T07:11:09.709Z",
    "type": "editCodeCell"
   },
   {
    "code": "df",
    "id": "c025d8d60a844b6f81a0d4536895c1e1",
    "order_count": 7,
    "time": "2020-07-21T07:11:11.074Z",
    "type": "selectCodeCell"
   },
   {
    "code": "",
    "id": "6df9a680daf7489d9a010515a2870520",
    "order_count": 8,
    "time": "2020-07-21T07:11:11.790Z",
    "type": "selectCodeCell"
   },
   {
    "code": "",
    "id": "6df9a680daf7489d9a010515a2870520",
    "order_count": 8,
    "time": "2020-07-21T07:11:12.027Z",
    "type": "editCodeCell"
   },
   {
    "code": "groupbyResult",
    "id": "6df9a680daf7489d9a010515a2870520",
    "order_count": 8,
    "time": "2020-07-21T07:11:13.431Z",
    "type": "executeCodeCell"
   },
   {
    "code": "We see that the information about ACTMedian and SATAverage has a very strong correlation. This means that we could probably just keep one of the columns and still get about the same information. So let's drop the ACTMedian column.",
    "id": "1c6c91b3905e4e7b992365e675c7eb0d",
    "order_count": 9,
    "time": "2020-07-21T07:11:13.447Z",
    "type": "selectMarkdownCell"
   },
   {
    "code": "groupbyResult",
    "id": "6df9a680daf7489d9a010515a2870520",
    "isPrintLuxDf": false,
    "isPrintPandasDf": true,
    "isPrintVis": false,
    "isPrintVisCollection": false,
    "order_count": 8,
    "time": "2020-07-21T07:11:13.470Z",
    "type": "completeCodeCell"
   },
   {
    "code": "groupbyResult",
    "id": "6df9a680daf7489d9a010515a2870520",
    "order_count": 8,
    "time": "2020-07-21T07:11:18.340Z",
    "type": "selectCodeCell"
   },
   {
    "code": "df",
    "id": "c025d8d60a844b6f81a0d4536895c1e1",
    "order_count": 7,
    "time": "2020-07-21T07:11:39.491Z",
    "type": "selectCodeCell"
   },
   {
    "code": "",
    "id": "a641c7a2ddd0462999db8a44ce296905",
    "order_count": 8,
    "time": "2020-07-21T07:11:40.100Z",
    "type": "selectCodeCell"
   },
   {
    "code": "",
    "id": "a641c7a2ddd0462999db8a44ce296905",
    "order_count": 8,
    "time": "2020-07-21T07:11:40.304Z",
    "type": "editCodeCell"
   },
   {
    "code": "if (type(self.index) != pd.core.indexes.range.RangeIndex):# if multi-index, then default to pandas output\n    print (\"test\")",
    "id": "a641c7a2ddd0462999db8a44ce296905",
    "order_count": 8,
    "time": "2020-07-21T07:12:42.631Z",
    "type": "executeCodeCell"
   },
   {
    "code": "groupbyResult",
    "id": "6df9a680daf7489d9a010515a2870520",
    "order_count": 9,
    "time": "2020-07-21T07:12:42.663Z",
    "type": "selectCodeCell"
   },
   {
    "code": "if (type(self.index) != pd.core.indexes.range.RangeIndex):# if multi-index, then default to pandas output\n    print (\"test\")",
    "id": "a641c7a2ddd0462999db8a44ce296905",
    "isPrintLuxDf": false,
    "isPrintPandasDf": false,
    "isPrintVis": false,
    "isPrintVisCollection": false,
    "order_count": 8,
    "time": "2020-07-21T07:12:42.755Z",
    "type": "completeCodeCell"
   },
   {
    "code": "if (type(self.index) != pd.core.indexes.range.RangeIndex):# if multi-index, then default to pandas output\n    print (\"test\")",
    "id": "a641c7a2ddd0462999db8a44ce296905",
    "order_count": 8,
    "time": "2020-07-21T07:12:44.016Z",
    "type": "selectCodeCell"
   },
   {
    "code": "if (type(self.index) != pd.core.indexes.range.RangeIndex):# if multi-index, then default to pandas output\n    print (\"test\")",
    "id": "a641c7a2ddd0462999db8a44ce296905",
    "order_count": 8,
    "time": "2020-07-21T07:12:44.023Z",
    "type": "editCodeCell"
   },
   {
    "code": "self = groupbyResult\nif (type(self.index) != pd.core.indexes.range.RangeIndex):# if multi-index, then default to pandas output\n    print (\"test\")",
    "id": "a641c7a2ddd0462999db8a44ce296905",
    "order_count": 8,
    "time": "2020-07-21T07:12:51.406Z",
    "type": "executeCodeCell"
   },
   {
    "code": "groupbyResult",
    "id": "6df9a680daf7489d9a010515a2870520",
    "order_count": 9,
    "time": "2020-07-21T07:12:51.437Z",
    "type": "selectCodeCell"
   },
   {
    "code": "self = groupbyResult\nif (type(self.index) != pd.core.indexes.range.RangeIndex):# if multi-index, then default to pandas output\n    print (\"test\")",
    "id": "a641c7a2ddd0462999db8a44ce296905",
    "isPrintLuxDf": false,
    "isPrintPandasDf": false,
    "isPrintVis": false,
    "isPrintVisCollection": false,
    "order_count": 8,
    "time": "2020-07-21T07:12:51.447Z",
    "type": "completeCodeCell"
   },
   {
    "code": "self = groupbyResult\nif (type(self.index) != pd.core.indexes.range.RangeIndex):# if multi-index, then default to pandas output\n    print (\"test\")",
    "id": "a641c7a2ddd0462999db8a44ce296905",
    "order_count": 8,
    "time": "2020-07-21T07:12:53.320Z",
    "type": "selectCodeCell"
   },
   {
    "code": "self = groupbyResult\nif (type(self.index) != pd.core.indexes.range.RangeIndex):# if multi-index, then default to pandas output\n    print (\"test\")",
    "id": "a641c7a2ddd0462999db8a44ce296905",
    "order_count": 8,
    "time": "2020-07-21T07:12:53.327Z",
    "type": "editCodeCell"
   },
   {
    "code": "self = groupbyResult\nif (type(self.index) != pd.core.indexes.range.RangeIndex):# if multi-index, then default to pandas output\n    print (\"test\")",
    "id": "a641c7a2ddd0462999db8a44ce296905",
    "order_count": 8,
    "time": "2020-07-21T07:12:55.774Z",
    "type": "selectCodeCell"
   },
   {
    "code": "groupbyResult",
    "id": "6df9a680daf7489d9a010515a2870520",
    "order_count": 9,
    "time": "2020-07-21T07:12:56.117Z",
    "type": "selectCodeCell"
   },
   {
    "code": "groupbyResult",
    "id": "6df9a680daf7489d9a010515a2870520",
    "order_count": 9,
    "time": "2020-07-21T07:12:56.125Z",
    "type": "editCodeCell"
   },
   {
    "code": "groupbyResult",
    "id": "6df9a680daf7489d9a010515a2870520",
    "order_count": 9,
    "time": "2020-07-21T07:12:58.159Z",
    "type": "selectCodeCell"
   },
   {
    "code": "groupbyResult.index",
    "id": "6df9a680daf7489d9a010515a2870520",
    "order_count": 9,
    "time": "2020-07-21T07:13:00.010Z",
    "type": "executeCodeCell"
   },
   {
    "code": "We see that the information about ACTMedian and SATAverage has a very strong correlation. This means that we could probably just keep one of the columns and still get about the same information. So let's drop the ACTMedian column.",
    "id": "1c6c91b3905e4e7b992365e675c7eb0d",
    "order_count": 10,
    "time": "2020-07-21T07:13:00.028Z",
    "type": "selectMarkdownCell"
   },
   {
    "code": "groupbyResult.index",
    "id": "6df9a680daf7489d9a010515a2870520",
    "isPrintLuxDf": false,
    "isPrintPandasDf": false,
    "isPrintVis": false,
    "isPrintVisCollection": false,
    "order_count": 9,
    "time": "2020-07-21T07:13:00.042Z",
    "type": "completeCodeCell"
   },
   {
    "code": "groupbyResult.index",
    "id": "6df9a680daf7489d9a010515a2870520",
    "order_count": 9,
    "time": "2020-07-21T07:13:01.009Z",
    "type": "selectCodeCell"
   },
   {
    "code": "groupbyResult.index",
    "id": "6df9a680daf7489d9a010515a2870520",
    "order_count": 9,
    "time": "2020-07-21T07:13:01.014Z",
    "type": "editCodeCell"
   },
   {
    "code": "groupbyResult.index",
    "id": "6df9a680daf7489d9a010515a2870520",
    "order_count": 9,
    "time": "2020-07-21T07:13:01.145Z",
    "type": "selectCodeCell"
   },
   {
    "code": "groupbyResult.index",
    "id": "6df9a680daf7489d9a010515a2870520",
    "order_count": 9,
    "time": "2020-07-21T07:13:01.622Z",
    "type": "selectCodeCell"
   },
   {
    "code": "groupbyResult.index.name",
    "id": "6df9a680daf7489d9a010515a2870520",
    "order_count": 9,
    "time": "2020-07-21T07:13:05.747Z",
    "type": "executeCodeCell"
   },
   {
    "code": "We see that the information about ACTMedian and SATAverage has a very strong correlation. This means that we could probably just keep one of the columns and still get about the same information. So let's drop the ACTMedian column.",
    "id": "1c6c91b3905e4e7b992365e675c7eb0d",
    "order_count": 10,
    "time": "2020-07-21T07:13:05.769Z",
    "type": "selectMarkdownCell"
   },
   {
    "code": "groupbyResult.index.name",
    "id": "6df9a680daf7489d9a010515a2870520",
    "isPrintLuxDf": false,
    "isPrintPandasDf": false,
    "isPrintVis": false,
    "isPrintVisCollection": false,
    "order_count": 9,
    "time": "2020-07-21T07:13:05.782Z",
    "type": "completeCodeCell"
   },
   {
    "code": "groupbyResult.index.name",
    "id": "6df9a680daf7489d9a010515a2870520",
    "order_count": 9,
    "time": "2020-07-21T07:13:06.225Z",
    "type": "selectCodeCell"
   },
   {
    "code": "self = groupbyResult\nif (type(self.index) != pd.core.indexes.range.RangeIndex):# if multi-index, then default to pandas output\n    print (\"test\")",
    "id": "a641c7a2ddd0462999db8a44ce296905",
    "order_count": 8,
    "time": "2020-07-21T07:13:06.375Z",
    "type": "selectCodeCell"
   },
   {
    "code": "groupbyResult.index.name",
    "id": "6df9a680daf7489d9a010515a2870520",
    "order_count": 9,
    "time": "2020-07-21T07:13:06.852Z",
    "type": "selectCodeCell"
   },
   {
    "code": "groupbyResult.index.name",
    "id": "6df9a680daf7489d9a010515a2870520",
    "order_count": 9,
    "time": "2020-07-21T07:13:07.359Z",
    "type": "editCodeCell"
   },
   {
    "code": "index_column_name = self.index.name",
    "id": "6df9a680daf7489d9a010515a2870520",
    "order_count": 9,
    "time": "2020-07-21T07:13:20.882Z",
    "type": "executeCodeCell"
   },
   {
    "code": "We see that the information about ACTMedian and SATAverage has a very strong correlation. This means that we could probably just keep one of the columns and still get about the same information. So let's drop the ACTMedian column.",
    "id": "1c6c91b3905e4e7b992365e675c7eb0d",
    "order_count": 10,
    "time": "2020-07-21T07:13:20.903Z",
    "type": "selectMarkdownCell"
   },
   {
    "code": "index_column_name = self.index.name",
    "id": "6df9a680daf7489d9a010515a2870520",
    "isPrintLuxDf": false,
    "isPrintPandasDf": false,
    "isPrintVis": false,
    "isPrintVisCollection": false,
    "order_count": 9,
    "time": "2020-07-21T07:13:20.916Z",
    "type": "completeCodeCell"
   },
   {
    "code": "",
    "id": "84471ddcaab8456585ae94a94791722a",
    "order_count": 10,
    "time": "2020-07-21T07:13:21.587Z",
    "type": "selectCodeCell"
   },
   {
    "code": "",
    "id": "84471ddcaab8456585ae94a94791722a",
    "order_count": 10,
    "time": "2020-07-21T07:13:21.643Z",
    "type": "editCodeCell"
   },
   {
    "code": "index_column_name",
    "id": "84471ddcaab8456585ae94a94791722a",
    "order_count": 10,
    "time": "2020-07-21T07:13:23.753Z",
    "type": "executeCodeCell"
   },
   {
    "code": "We see that the information about ACTMedian and SATAverage has a very strong correlation. This means that we could probably just keep one of the columns and still get about the same information. So let's drop the ACTMedian column.",
    "id": "1c6c91b3905e4e7b992365e675c7eb0d",
    "order_count": 11,
    "time": "2020-07-21T07:13:23.773Z",
    "type": "selectMarkdownCell"
   },
   {
    "code": "index_column_name",
    "id": "84471ddcaab8456585ae94a94791722a",
    "isPrintLuxDf": false,
    "isPrintPandasDf": false,
    "isPrintVis": false,
    "isPrintVisCollection": false,
    "order_count": 10,
    "time": "2020-07-21T07:13:23.781Z",
    "type": "completeCodeCell"
   },
   {
    "code": "index_column_name",
    "id": "84471ddcaab8456585ae94a94791722a",
    "order_count": 10,
    "time": "2020-07-21T07:13:25.183Z",
    "type": "selectCodeCell"
   },
   {
    "code": "index_column_name",
    "id": "84471ddcaab8456585ae94a94791722a",
    "order_count": 10,
    "time": "2020-07-21T07:13:38.354Z",
    "type": "editCodeCell"
   },
   {
    "code": "index_column_name",
    "id": "84471ddcaab8456585ae94a94791722a",
    "order_count": 10,
    "time": "2020-07-21T07:13:38.489Z",
    "type": "selectCodeCell"
   },
   {
    "code": "index_column_name",
    "id": "84471ddcaab8456585ae94a94791722a",
    "order_count": 10,
    "time": "2020-07-21T07:13:39.038Z",
    "type": "selectCodeCell"
   },
   {
    "code": "",
    "id": "3ae10909bf0243d4ac3bda4d6fef0b0c",
    "order_count": 11,
    "time": "2020-07-21T07:13:42.796Z",
    "type": "selectCodeCell"
   },
   {
    "code": "",
    "id": "3ae10909bf0243d4ac3bda4d6fef0b0c",
    "order_count": 11,
    "time": "2020-07-21T07:13:43.108Z",
    "type": "editCodeCell"
   },
   {
    "code": "self",
    "id": "3ae10909bf0243d4ac3bda4d6fef0b0c",
    "order_count": 11,
    "time": "2020-07-21T07:13:49.688Z",
    "type": "executeCodeCell"
   },
   {
    "code": "We see that the information about ACTMedian and SATAverage has a very strong correlation. This means that we could probably just keep one of the columns and still get about the same information. So let's drop the ACTMedian column.",
    "id": "1c6c91b3905e4e7b992365e675c7eb0d",
    "order_count": 12,
    "time": "2020-07-21T07:13:49.705Z",
    "type": "selectMarkdownCell"
   },
   {
    "code": "self",
    "id": "3ae10909bf0243d4ac3bda4d6fef0b0c",
    "isPrintLuxDf": false,
    "isPrintPandasDf": true,
    "isPrintVis": false,
    "isPrintVisCollection": false,
    "order_count": 11,
    "time": "2020-07-21T07:13:49.719Z",
    "type": "completeCodeCell"
   },
   {
    "code": "self",
    "id": "3ae10909bf0243d4ac3bda4d6fef0b0c",
    "order_count": 11,
    "time": "2020-07-21T07:13:51.256Z",
    "type": "selectCodeCell"
   },
   {
    "code": "self",
    "id": "3ae10909bf0243d4ac3bda4d6fef0b0c",
    "order_count": 11,
    "time": "2020-07-21T07:13:51.262Z",
    "type": "editCodeCell"
   },
   {
    "code": "self",
    "id": "3ae10909bf0243d4ac3bda4d6fef0b0c",
    "order_count": 11,
    "time": "2020-07-21T07:13:51.399Z",
    "type": "selectCodeCell"
   },
   {
    "code": "index_column_name",
    "id": "84471ddcaab8456585ae94a94791722a",
    "order_count": 10,
    "time": "2020-07-21T07:13:53.915Z",
    "type": "selectCodeCell"
   },
   {
    "code": "index_column_name",
    "id": "84471ddcaab8456585ae94a94791722a",
    "order_count": 10,
    "time": "2020-07-21T07:13:53.922Z",
    "type": "editCodeCell"
   },
   {
    "code": "index_column_name",
    "id": "84471ddcaab8456585ae94a94791722a",
    "order_count": 10,
    "time": "2020-07-21T07:13:55.544Z",
    "type": "selectCodeCell"
   },
   {
    "time": "2020-07-21T07:15:12.251Z",
    "type": "kernelReady"
   },
   {
    "code": "index_column_name",
    "id": "84471ddcaab8456585ae94a94791722a",
    "order_count": 10,
    "time": "2020-07-21T07:47:54.379Z",
    "type": "editCodeCell"
   },
   {
    "code": "index_column_name",
    "id": "84471ddcaab8456585ae94a94791722a",
    "order_count": 10,
    "time": "2020-07-21T07:47:54.489Z",
    "type": "selectCodeCell"
   },
   {
    "code": "self",
    "id": "3ae10909bf0243d4ac3bda4d6fef0b0c",
    "order_count": 11,
    "time": "2020-07-21T07:47:55.045Z",
    "type": "selectCodeCell"
   },
   {
    "code": "self",
    "id": "3ae10909bf0243d4ac3bda4d6fef0b0c",
    "order_count": 11,
    "time": "2020-07-21T07:47:55.289Z",
    "type": "editCodeCell"
   },
   {
    "code": "self",
    "id": "3ae10909bf0243d4ac3bda4d6fef0b0c",
    "order_count": 11,
    "time": "2020-07-21T07:47:55.398Z",
    "type": "selectCodeCell"
   },
   {
    "code": "self",
    "id": "3ae10909bf0243d4ac3bda4d6fef0b0c",
    "order_count": 11,
    "time": "2020-07-21T07:48:06.580Z",
    "type": "editCodeCell"
   },
   {
    "time": "2020-07-21T07:57:10.115Z",
    "type": "kernelReady"
   },
   {
    "time": "2020-07-21T07:57:24.290Z",
    "type": "kernelReady"
   },
   {
    "code": "self",
    "id": "3ae10909bf0243d4ac3bda4d6fef0b0c",
    "order_count": 11,
    "time": "2020-07-21T08:06:57.497Z",
    "type": "editCodeCell"
   },
   {
    "code": "self",
    "id": "3ae10909bf0243d4ac3bda4d6fef0b0c",
    "order_count": 11,
    "time": "2020-07-21T08:07:04.677Z",
    "type": "editCodeCell"
   },
   {
    "code": "self",
    "id": "3ae10909bf0243d4ac3bda4d6fef0b0c",
    "order_count": 11,
    "time": "2020-07-21T08:08:27.008Z",
    "type": "editCodeCell"
   },
   {
    "code": "self",
    "id": "3ae10909bf0243d4ac3bda4d6fef0b0c",
    "order_count": 11,
    "time": "2020-07-21T08:08:31.223Z",
    "type": "executeCodeCell"
   },
   {
    "code": "We see that the information about ACTMedian and SATAverage has a very strong correlation. This means that we could probably just keep one of the columns and still get about the same information. So let's drop the ACTMedian column.",
    "id": "1c6c91b3905e4e7b992365e675c7eb0d",
    "order_count": 12,
    "time": "2020-07-21T08:08:31.244Z",
    "type": "selectMarkdownCell"
   },
   {
    "code": "self",
    "id": "3ae10909bf0243d4ac3bda4d6fef0b0c",
    "isPrintLuxDf": false,
    "isPrintPandasDf": true,
    "isPrintVis": false,
    "isPrintVisCollection": false,
    "order_count": 11,
    "time": "2020-07-21T08:08:31.262Z",
    "type": "completeCodeCell"
   },
   {
    "code": "self",
    "id": "3ae10909bf0243d4ac3bda4d6fef0b0c",
    "order_count": 11,
    "time": "2020-07-21T08:08:31.744Z",
    "type": "selectCodeCell"
   },
   {
    "code": "self",
    "id": "3ae10909bf0243d4ac3bda4d6fef0b0c",
    "order_count": 11,
    "time": "2020-07-21T08:08:32.130Z",
    "type": "editCodeCell"
   },
   {
    "code": "self = groupbyResult\nif (type(self.index) != pd.core.indexes.range.RangeIndex):# if multi-index, then default to pandas output\n    print (\"test\")",
    "id": "a641c7a2ddd0462999db8a44ce296905",
    "order_count": 8,
    "time": "2020-07-21T08:10:18.674Z",
    "type": "selectCodeCell"
   },
   {
    "code": "self = groupbyResult\nif (type(self.index) != pd.core.indexes.range.RangeIndex):# if multi-index, then default to pandas output\n    print (\"test\")",
    "id": "a641c7a2ddd0462999db8a44ce296905",
    "order_count": 8,
    "time": "2020-07-21T08:10:18.682Z",
    "type": "editCodeCell"
   },
   {
    "code": "index_column_name = self.index.name",
    "id": "6df9a680daf7489d9a010515a2870520",
    "order_count": 9,
    "time": "2020-07-21T08:10:23.552Z",
    "type": "selectCodeCell"
   },
   {
    "code": "index_column_name = self.index.name",
    "id": "6df9a680daf7489d9a010515a2870520",
    "order_count": 9,
    "time": "2020-07-21T08:10:23.558Z",
    "type": "editCodeCell"
   },
   {
    "code": "self = groupbyResult\nif (type(self.index) != pd.core.indexes.range.RangeIndex):# if multi-index, then default to pandas output\n    print (\"test\")",
    "id": "a641c7a2ddd0462999db8a44ce296905",
    "order_count": 8,
    "time": "2020-07-21T08:10:25.346Z",
    "type": "selectCodeCell"
   },
   {
    "code": "self = groupbyResult\nif (type(self.index) != pd.core.indexes.range.RangeIndex):# if multi-index, then default to pandas output\n    print (\"test\")",
    "id": "a641c7a2ddd0462999db8a44ce296905",
    "order_count": 8,
    "time": "2020-07-21T08:10:25.352Z",
    "type": "editCodeCell"
   },
   {
    "code": "self = groupbyResult\nif (type(self.index) != pd.core.indexes.range.RangeIndex):# if multi-index, then default to pandas output\n    print (\"test\")\n    index_column_name = self.index.name",
    "id": "a641c7a2ddd0462999db8a44ce296905",
    "order_count": 8,
    "time": "2020-07-21T08:10:26.476Z",
    "type": "executeCodeCell"
   },
   {
    "code": "",
    "id": "6df9a680daf7489d9a010515a2870520",
    "order_count": 9,
    "time": "2020-07-21T08:10:26.507Z",
    "type": "selectCodeCell"
   },
   {
    "code": "self = groupbyResult\nif (type(self.index) != pd.core.indexes.range.RangeIndex):# if multi-index, then default to pandas output\n    print (\"test\")\n    index_column_name = self.index.name",
    "id": "a641c7a2ddd0462999db8a44ce296905",
    "isPrintLuxDf": false,
    "isPrintPandasDf": false,
    "isPrintVis": false,
    "isPrintVisCollection": false,
    "order_count": 8,
    "time": "2020-07-21T08:10:26.518Z",
    "type": "completeCodeCell"
   },
   {
    "code": "",
    "id": "6df9a680daf7489d9a010515a2870520",
    "order_count": 9,
    "time": "2020-07-21T08:10:27.264Z",
    "type": "editCodeCell"
   },
   {
    "code": "i",
    "id": "6df9a680daf7489d9a010515a2870520",
    "order_count": null,
    "time": "2020-07-21T08:10:29.508Z",
    "type": "deleteCodeCell"
   },
   {
    "code": "index_column_name",
    "id": "84471ddcaab8456585ae94a94791722a",
    "order_count": 9,
    "time": "2020-07-21T08:10:30.091Z",
    "type": "executeCodeCell"
   },
   {
    "code": "self",
    "id": "3ae10909bf0243d4ac3bda4d6fef0b0c",
    "order_count": 10,
    "time": "2020-07-21T08:10:30.109Z",
    "type": "selectCodeCell"
   },
   {
    "code": "index_column_name",
    "id": "84471ddcaab8456585ae94a94791722a",
    "isPrintLuxDf": false,
    "isPrintPandasDf": false,
    "isPrintVis": false,
    "isPrintVisCollection": false,
    "order_count": 9,
    "time": "2020-07-21T08:10:30.119Z",
    "type": "completeCodeCell"
   },
   {
    "code": "index_column_name",
    "id": "84471ddcaab8456585ae94a94791722a",
    "order_count": 9,
    "time": "2020-07-21T08:10:46.959Z",
    "type": "selectCodeCell"
   },
   {
    "code": "index_column_name",
    "id": "84471ddcaab8456585ae94a94791722a",
    "order_count": 9,
    "time": "2020-07-21T08:10:46.965Z",
    "type": "editCodeCell"
   },
   {
    "code": "index_column_name",
    "id": "84471ddcaab8456585ae94a94791722a",
    "order_count": 9,
    "time": "2020-07-21T08:10:54.847Z",
    "type": "executeCodeCell"
   },
   {
    "code": "self",
    "id": "3ae10909bf0243d4ac3bda4d6fef0b0c",
    "order_count": 10,
    "time": "2020-07-21T08:10:54.879Z",
    "type": "selectCodeCell"
   },
   {
    "code": "index_column_name",
    "id": "84471ddcaab8456585ae94a94791722a",
    "isPrintLuxDf": false,
    "isPrintPandasDf": false,
    "isPrintVis": false,
    "isPrintVisCollection": false,
    "order_count": 9,
    "time": "2020-07-21T08:10:54.891Z",
    "type": "completeCodeCell"
   },
   {
    "code": "index_column_name",
    "id": "84471ddcaab8456585ae94a94791722a",
    "order_count": 9,
    "time": "2020-07-21T08:10:56.432Z",
    "type": "selectCodeCell"
   },
   {
    "code": "self",
    "id": "3ae10909bf0243d4ac3bda4d6fef0b0c",
    "order_count": 10,
    "time": "2020-07-21T08:10:57.484Z",
    "type": "selectCodeCell"
   },
   {
    "code": "self",
    "id": "3ae10909bf0243d4ac3bda4d6fef0b0c",
    "order_count": 10,
    "time": "2020-07-21T08:10:58.466Z",
    "type": "editCodeCell"
   },
   {
    "code": "self[index_column_name]",
    "id": "3ae10909bf0243d4ac3bda4d6fef0b0c",
    "order_count": 10,
    "time": "2020-07-21T08:11:41.671Z",
    "type": "executeCodeCell"
   },
   {
    "code": "We see that the information about ACTMedian and SATAverage has a very strong correlation. This means that we could probably just keep one of the columns and still get about the same information. So let's drop the ACTMedian column.",
    "id": "1c6c91b3905e4e7b992365e675c7eb0d",
    "order_count": 11,
    "time": "2020-07-21T08:11:41.695Z",
    "type": "selectMarkdownCell"
   },
   {
    "code": "self[index_column_name]",
    "id": "3ae10909bf0243d4ac3bda4d6fef0b0c",
    "isPrintLuxDf": false,
    "isPrintPandasDf": false,
    "isPrintVis": false,
    "isPrintVisCollection": false,
    "order_count": 10,
    "time": "2020-07-21T08:11:41.776Z",
    "type": "completeCodeCell"
   },
   {
    "code": "self[index_column_name]",
    "id": "3ae10909bf0243d4ac3bda4d6fef0b0c",
    "order_count": 10,
    "time": "2020-07-21T08:11:42.548Z",
    "type": "selectCodeCell"
   },
   {
    "code": "self[index_column_name]",
    "id": "3ae10909bf0243d4ac3bda4d6fef0b0c",
    "order_count": 10,
    "time": "2020-07-21T08:11:42.891Z",
    "type": "editCodeCell"
   },
   {
    "code": "self",
    "id": "3ae10909bf0243d4ac3bda4d6fef0b0c",
    "order_count": 10,
    "time": "2020-07-21T08:11:46.417Z",
    "type": "executeCodeCell"
   },
   {
    "code": "We see that the information about ACTMedian and SATAverage has a very strong correlation. This means that we could probably just keep one of the columns and still get about the same information. So let's drop the ACTMedian column.",
    "id": "1c6c91b3905e4e7b992365e675c7eb0d",
    "order_count": 11,
    "time": "2020-07-21T08:11:46.437Z",
    "type": "selectMarkdownCell"
   },
   {
    "code": "self",
    "id": "3ae10909bf0243d4ac3bda4d6fef0b0c",
    "isPrintLuxDf": false,
    "isPrintPandasDf": true,
    "isPrintVis": false,
    "isPrintVisCollection": false,
    "order_count": 10,
    "time": "2020-07-21T08:11:46.463Z",
    "type": "completeCodeCell"
   },
   {
    "code": "self",
    "id": "3ae10909bf0243d4ac3bda4d6fef0b0c",
    "order_count": 10,
    "time": "2020-07-21T08:11:48.559Z",
    "type": "selectCodeCell"
   },
   {
    "code": "self",
    "id": "3ae10909bf0243d4ac3bda4d6fef0b0c",
    "order_count": 10,
    "time": "2020-07-21T08:11:48.567Z",
    "type": "editCodeCell"
   },
   {
    "code": "self",
    "id": "3ae10909bf0243d4ac3bda4d6fef0b0c",
    "order_count": 10,
    "time": "2020-07-21T08:17:36.868Z",
    "type": "editCodeCell"
   },
   {
    "code": "self",
    "id": "3ae10909bf0243d4ac3bda4d6fef0b0c",
    "order_count": 10,
    "time": "2020-07-21T08:19:23.630Z",
    "type": "editCodeCell"
   },
   {
    "time": "2020-07-21T08:27:59.151Z",
    "type": "kernelReady"
   },
   {
    "time": "2020-07-21T08:42:33.288Z",
    "type": "kernelReady"
   },
   {
    "time": "2020-07-21T08:58:12.463Z",
    "type": "kernelReady"
   },
   {
    "time": "2020-07-21T09:10:20.705Z",
    "type": "kernelReady"
   },
   {
    "code": "groupbyResult.columns",
    "id": "afcb0ab6b2c94ce1b4a2c0e72043f681",
    "order_count": 5,
    "time": "2020-07-21T09:10:21.952Z",
    "type": "selectCodeCell"
   },
   {
    "code": "groupbyResult.columns",
    "id": "afcb0ab6b2c94ce1b4a2c0e72043f681",
    "order_count": 5,
    "time": "2020-07-21T09:10:21.960Z",
    "type": "editCodeCell"
   },
   {
    "code": "groupbyResult.columns",
    "id": "afcb0ab6b2c94ce1b4a2c0e72043f681",
    "order_count": 5,
    "time": "2020-07-21T09:10:22.593Z",
    "type": "selectCodeCell"
   },
   {
    "code": "groupbyResult.columns",
    "id": "afcb0ab6b2c94ce1b4a2c0e72043f681",
    "order_count": 5,
    "time": "2020-07-21T09:10:23.112Z",
    "type": "selectCodeCell"
   },
   {
    "code": "df",
    "id": "4491fd772ce14fb185abad29b418acbd",
    "order_count": 7,
    "time": "2020-07-21T09:10:45.772Z",
    "type": "selectCodeCell"
   },
   {
    "code": "self",
    "id": "762f6d5851e3459d91c603308c48e0d0",
    "order_count": 10,
    "time": "2020-07-21T09:12:06.472Z",
    "type": "selectCodeCell"
   },
   {
    "code": "self",
    "id": "762f6d5851e3459d91c603308c48e0d0",
    "order_count": 10,
    "time": "2020-07-21T09:12:06.482Z",
    "type": "editCodeCell"
   },
   {
    "code": "self[\"Region\"]",
    "id": "762f6d5851e3459d91c603308c48e0d0",
    "order_count": 10,
    "time": "2020-07-21T09:12:09.011Z",
    "type": "executeCodeCell"
   },
   {
    "code": "We see that the information about ACTMedian and SATAverage has a very strong correlation. This means that we could probably just keep one of the columns and still get about the same information. So let's drop the ACTMedian column.",
    "id": "5f331b05ac8648718d4db081db5e7363",
    "order_count": 11,
    "time": "2020-07-21T09:12:09.035Z",
    "type": "selectMarkdownCell"
   },
   {
    "code": "self[\"Region\"]",
    "id": "762f6d5851e3459d91c603308c48e0d0",
    "isPrintLuxDf": false,
    "isPrintPandasDf": false,
    "isPrintVis": false,
    "isPrintVisCollection": false,
    "order_count": 10,
    "time": "2020-07-21T09:12:09.064Z",
    "type": "completeCodeCell"
   },
   {
    "code": "self[\"Region\"]",
    "id": "762f6d5851e3459d91c603308c48e0d0",
    "order_count": 10,
    "time": "2020-07-21T09:12:11.271Z",
    "type": "selectCodeCell"
   },
   {
    "code": "self[\"Region\"]",
    "id": "762f6d5851e3459d91c603308c48e0d0",
    "order_count": 10,
    "time": "2020-07-21T09:12:11.278Z",
    "type": "editCodeCell"
   },
   {
    "code": "self",
    "id": "762f6d5851e3459d91c603308c48e0d0",
    "order_count": 10,
    "time": "2020-07-21T09:12:12.495Z",
    "type": "executeCodeCell"
   },
   {
    "code": "We see that the information about ACTMedian and SATAverage has a very strong correlation. This means that we could probably just keep one of the columns and still get about the same information. So let's drop the ACTMedian column.",
    "id": "5f331b05ac8648718d4db081db5e7363",
    "order_count": 11,
    "time": "2020-07-21T09:12:12.518Z",
    "type": "selectMarkdownCell"
   },
   {
    "code": "self",
    "id": "762f6d5851e3459d91c603308c48e0d0",
    "isPrintLuxDf": false,
    "isPrintPandasDf": true,
    "isPrintVis": false,
    "isPrintVisCollection": false,
    "order_count": 10,
    "time": "2020-07-21T09:12:12.537Z",
    "type": "completeCodeCell"
   },
   {
    "code": "self",
    "id": "762f6d5851e3459d91c603308c48e0d0",
    "order_count": 10,
    "time": "2020-07-21T09:12:16.972Z",
    "type": "selectCodeCell"
   },
   {
    "code": "self",
    "id": "762f6d5851e3459d91c603308c48e0d0",
    "order_count": 10,
    "time": "2020-07-21T09:12:16.978Z",
    "type": "editCodeCell"
   },
   {
    "code": "self[\"AdmissionRate\"]",
    "id": "762f6d5851e3459d91c603308c48e0d0",
    "order_count": 10,
    "time": "2020-07-21T09:12:22.009Z",
    "type": "executeCodeCell"
   },
   {
    "code": "We see that the information about ACTMedian and SATAverage has a very strong correlation. This means that we could probably just keep one of the columns and still get about the same information. So let's drop the ACTMedian column.",
    "id": "5f331b05ac8648718d4db081db5e7363",
    "order_count": 11,
    "time": "2020-07-21T09:12:22.032Z",
    "type": "selectMarkdownCell"
   },
   {
    "code": "self[\"AdmissionRate\"]",
    "id": "762f6d5851e3459d91c603308c48e0d0",
    "isPrintLuxDf": false,
    "isPrintPandasDf": false,
    "isPrintVis": false,
    "isPrintVisCollection": false,
    "order_count": 10,
    "time": "2020-07-21T09:12:22.047Z",
    "type": "completeCodeCell"
   },
   {
    "code": "self[\"AdmissionRate\"]",
    "id": "762f6d5851e3459d91c603308c48e0d0",
    "order_count": 10,
    "time": "2020-07-21T09:12:24.317Z",
    "type": "selectCodeCell"
   },
   {
    "code": "self[\"AdmissionRate\"]",
    "id": "762f6d5851e3459d91c603308c48e0d0",
    "order_count": 10,
    "time": "2020-07-21T09:12:24.324Z",
    "type": "editCodeCell"
   },
   {
    "code": "self[\"AdmissionRate\"]",
    "id": "762f6d5851e3459d91c603308c48e0d0",
    "order_count": 10,
    "time": "2020-07-21T09:12:33.092Z",
    "type": "editCodeCell"
   },
   {
    "code": "self[\"AdmissionRate\"].reset_index()",
    "id": "762f6d5851e3459d91c603308c48e0d0",
    "order_count": 10,
    "time": "2020-07-21T09:12:38.233Z",
    "type": "executeCodeCell"
   },
   {
    "code": "We see that the information about ACTMedian and SATAverage has a very strong correlation. This means that we could probably just keep one of the columns and still get about the same information. So let's drop the ACTMedian column.",
    "id": "5f331b05ac8648718d4db081db5e7363",
    "order_count": 11,
    "time": "2020-07-21T09:12:38.253Z",
    "type": "selectMarkdownCell"
   },
   {
    "code": "self[\"AdmissionRate\"].reset_index()",
    "id": "762f6d5851e3459d91c603308c48e0d0",
    "isPrintLuxDf": false,
    "isPrintPandasDf": true,
    "isPrintVis": false,
    "isPrintVisCollection": false,
    "order_count": 10,
    "time": "2020-07-21T09:12:38.738Z",
    "type": "completeCodeCell"
   },
   {
    "code": "self[\"AdmissionRate\"].reset_index()",
    "id": "762f6d5851e3459d91c603308c48e0d0",
    "order_count": 10,
    "time": "2020-07-21T09:12:40.671Z",
    "type": "selectCodeCell"
   },
   {
    "code": "self[\"AdmissionRate\"].reset_index()",
    "id": "762f6d5851e3459d91c603308c48e0d0",
    "order_count": 10,
    "time": "2020-07-21T09:12:40.678Z",
    "type": "editCodeCell"
   },
   {
    "code": "self[\"AdmissionRate\"].reset_index()",
    "id": "762f6d5851e3459d91c603308c48e0d0",
    "order_count": 10,
    "time": "2020-07-21T09:13:26.179Z",
    "type": "selectCodeCell"
   },
   {
    "code": "",
    "id": "ca07cdd3856841c082c7831ab613eb72",
    "order_count": 10,
    "time": "2020-07-21T09:13:28.618Z",
    "type": "selectCodeCell"
   },
   {
    "code": "",
    "id": "ca07cdd3856841c082c7831ab613eb72",
    "order_count": 10,
    "time": "2020-07-21T09:13:28.751Z",
    "type": "editCodeCell"
   },
   {
    "code": "from lux.vis.Vis import Vis",
    "id": "ca07cdd3856841c082c7831ab613eb72",
    "order_count": 10,
    "time": "2020-07-21T09:13:36.314Z",
    "type": "executeCodeCell"
   },
   {
    "code": "self[\"AdmissionRate\"].reset_index()",
    "id": "762f6d5851e3459d91c603308c48e0d0",
    "order_count": 11,
    "time": "2020-07-21T09:13:36.343Z",
    "type": "selectCodeCell"
   },
   {
    "code": "from lux.vis.Vis import Vis",
    "id": "ca07cdd3856841c082c7831ab613eb72",
    "isPrintLuxDf": false,
    "isPrintPandasDf": false,
    "isPrintVis": false,
    "isPrintVisCollection": false,
    "order_count": 10,
    "time": "2020-07-21T09:13:36.350Z",
    "type": "completeCodeCell"
   },
   {
    "code": "",
    "id": "5f54f55b856742dc8bddf0782da7c89c",
    "order_count": 11,
    "time": "2020-07-21T09:13:36.685Z",
    "type": "selectCodeCell"
   },
   {
    "code": "",
    "id": "5f54f55b856742dc8bddf0782da7c89c",
    "order_count": 11,
    "time": "2020-07-21T09:13:36.754Z",
    "type": "editCodeCell"
   },
   {
    "code": "Vis",
    "id": "5f54f55b856742dc8bddf0782da7c89c",
    "order_count": 11,
    "time": "2020-07-21T09:13:38.299Z",
    "type": "executeCodeCell"
   },
   {
    "code": "self[\"AdmissionRate\"].reset_index()",
    "id": "762f6d5851e3459d91c603308c48e0d0",
    "order_count": 12,
    "time": "2020-07-21T09:13:38.330Z",
    "type": "selectCodeCell"
   },
   {
    "code": "Vis",
    "id": "5f54f55b856742dc8bddf0782da7c89c",
    "isPrintLuxDf": false,
    "isPrintPandasDf": false,
    "isPrintVis": false,
    "isPrintVisCollection": false,
    "order_count": 11,
    "time": "2020-07-21T09:13:38.338Z",
    "type": "completeCodeCell"
   },
   {
    "code": "Vis",
    "id": "5f54f55b856742dc8bddf0782da7c89c",
    "order_count": 11,
    "time": "2020-07-21T09:13:41.261Z",
    "type": "selectCodeCell"
   },
   {
    "code": "Vis",
    "id": "5f54f55b856742dc8bddf0782da7c89c",
    "order_count": 11,
    "time": "2020-07-21T09:13:41.913Z",
    "type": "selectCodeCell"
   },
   {
    "code": "Vis",
    "id": "5f54f55b856742dc8bddf0782da7c89c",
    "order_count": 11,
    "time": "2020-07-21T09:13:42.245Z",
    "type": "editCodeCell"
   },
   {
    "code": "Vis",
    "id": "5f54f55b856742dc8bddf0782da7c89c",
    "order_count": 11,
    "time": "2020-07-21T09:13:42.332Z",
    "type": "selectCodeCell"
   },
   {
    "code": "Vis",
    "id": "5f54f55b856742dc8bddf0782da7c89c",
    "order_count": 11,
    "time": "2020-07-21T09:13:51.603Z",
    "type": "selectCodeCell"
   },
   {
    "code": "Vis",
    "id": "5f54f55b856742dc8bddf0782da7c89c",
    "order_count": 11,
    "time": "2020-07-21T09:13:51.734Z",
    "type": "editCodeCell"
   },
   {
    "code": "Vis",
    "id": "5f54f55b856742dc8bddf0782da7c89c",
    "order_count": 11,
    "time": "2020-07-21T09:13:52.540Z",
    "type": "selectCodeCell"
   },
   {
    "code": "Vis",
    "id": "5f54f55b856742dc8bddf0782da7c89c",
    "order_count": 11,
    "time": "2020-07-21T09:13:52.844Z",
    "type": "selectCodeCell"
   },
   {
    "code": "Vis",
    "id": "5f54f55b856742dc8bddf0782da7c89c",
    "order_count": 11,
    "time": "2020-07-21T09:13:57.459Z",
    "type": "selectCodeCell"
   },
   {
    "code": "Vis([index_column_name,])",
    "id": "5f54f55b856742dc8bddf0782da7c89c",
    "order_count": 11,
    "time": "2020-07-21T09:14:39.075Z",
    "type": "selectCodeCell"
   },
   {
    "code": "",
    "id": "45662f2027aa4d05a6c890d450896daa",
    "order_count": 11,
    "time": "2020-07-21T09:14:39.440Z",
    "type": "selectCodeCell"
   },
   {
    "code": "",
    "id": "45662f2027aa4d05a6c890d450896daa",
    "order_count": 11,
    "time": "2020-07-21T09:14:39.718Z",
    "type": "editCodeCell"
   },
   {
    "code": "self.columns",
    "id": "45662f2027aa4d05a6c890d450896daa",
    "order_count": 11,
    "time": "2020-07-21T09:14:42.466Z",
    "type": "executeCodeCell"
   },
   {
    "code": "Vis([index_column_name,])",
    "id": "5f54f55b856742dc8bddf0782da7c89c",
    "order_count": 12,
    "time": "2020-07-21T09:14:42.494Z",
    "type": "selectCodeCell"
   },
   {
    "code": "self.columns",
    "id": "45662f2027aa4d05a6c890d450896daa",
    "isPrintLuxDf": false,
    "isPrintPandasDf": false,
    "isPrintVis": false,
    "isPrintVisCollection": false,
    "order_count": 11,
    "time": "2020-07-21T09:14:42.506Z",
    "type": "completeCodeCell"
   },
   {
    "code": "self.columns",
    "id": "45662f2027aa4d05a6c890d450896daa",
    "order_count": 11,
    "time": "2020-07-21T09:14:43.325Z",
    "type": "selectCodeCell"
   },
   {
    "code": "self.columns",
    "id": "45662f2027aa4d05a6c890d450896daa",
    "order_count": 11,
    "time": "2020-07-21T09:14:43.598Z",
    "type": "editCodeCell"
   },
   {
    "code": "Vis([index_column_name,])",
    "id": "5f54f55b856742dc8bddf0782da7c89c",
    "order_count": 12,
    "time": "2020-07-21T09:14:55.140Z",
    "type": "selectCodeCell"
   },
   {
    "code": "for attribute in self.columns:",
    "id": "b056381571314184a59414f60e7beaf0",
    "order_count": 11,
    "time": "2020-07-21T09:14:56.262Z",
    "type": "selectMarkdownCell"
   },
   {
    "code": "for attribute in self.columns:",
    "id": "b056381571314184a59414f60e7beaf0",
    "order_count": 11,
    "time": "2020-07-21T09:14:56.566Z",
    "type": "editMarkdownCell"
   },
   {
    "code": "",
    "id": "b056381571314184a59414f60e7beaf0",
    "order_count": null,
    "time": "2020-07-21T09:14:58.543Z",
    "type": "deleteMarkdownCell"
   },
   {
    "code": "Vis([index_column_name,])",
    "id": "5f54f55b856742dc8bddf0782da7c89c",
    "order_count": 11,
    "time": "2020-07-21T09:14:58.895Z",
    "type": "editCodeCell"
   },
   {
    "code": "for attribute in self.columns:\n    vis = Vis([index_column_name,attribute])",
    "id": "5f54f55b856742dc8bddf0782da7c89c",
    "order_count": 11,
    "time": "2020-07-21T09:16:33.004Z",
    "type": "executeCodeCell"
   },
   {
    "code": "self[\"AdmissionRate\"].reset_index()",
    "id": "762f6d5851e3459d91c603308c48e0d0",
    "order_count": 12,
    "time": "2020-07-21T09:16:33.038Z",
    "type": "selectCodeCell"
   },
   {
    "code": "for attribute in self.columns:\n    vis = Vis([index_column_name,attribute])",
    "id": "5f54f55b856742dc8bddf0782da7c89c",
    "isPrintLuxDf": false,
    "isPrintPandasDf": false,
    "isPrintVis": false,
    "isPrintVisCollection": false,
    "order_count": 11,
    "time": "2020-07-21T09:16:33.050Z",
    "type": "completeCodeCell"
   },
   {
    "code": "for attribute in self.columns:\n    vis = Vis([index_column_name,attribute])",
    "id": "5f54f55b856742dc8bddf0782da7c89c",
    "order_count": 11,
    "time": "2020-07-21T09:16:42.658Z",
    "type": "selectCodeCell"
   },
   {
    "code": "for attribute in self.columns:\n    vis = Vis([index_column_name,attribute])",
    "id": "5f54f55b856742dc8bddf0782da7c89c",
    "order_count": 11,
    "time": "2020-07-21T09:16:42.665Z",
    "type": "editCodeCell"
   },
   {
    "code": "self[\"AdmissionRate\"].reset_index()",
    "id": "762f6d5851e3459d91c603308c48e0d0",
    "order_count": 12,
    "time": "2020-07-21T09:16:44.929Z",
    "type": "selectCodeCell"
   },
   {
    "code": "self[\"AdmissionRate\"].reset_index()",
    "id": "762f6d5851e3459d91c603308c48e0d0",
    "order_count": 12,
    "time": "2020-07-21T09:16:44.936Z",
    "type": "editCodeCell"
   },
   {
    "code": "for attribute in self.columns:\n    vis = Vis([index_column_name,attribute])",
    "id": "5f54f55b856742dc8bddf0782da7c89c",
    "order_count": 11,
    "time": "2020-07-21T09:17:31.711Z",
    "type": "selectCodeCell"
   },
   {
    "code": "for attribute in self.columns:\n    vis = Vis([index_column_name,attribute])",
    "id": "5f54f55b856742dc8bddf0782da7c89c",
    "order_count": 11,
    "time": "2020-07-21T09:17:31.718Z",
    "type": "editCodeCell"
   },
   {
    "code": "self[\"AdmissionRate\"].reset_index()",
    "id": "762f6d5851e3459d91c603308c48e0d0",
    "order_count": 12,
    "time": "2020-07-21T09:17:34.003Z",
    "type": "selectCodeCell"
   },
   {
    "code": "self[\"AdmissionRate\"].reset_index()",
    "id": "762f6d5851e3459d91c603308c48e0d0",
    "order_count": 12,
    "time": "2020-07-21T09:17:34.011Z",
    "type": "editCodeCell"
   },
   {
    "code": "We see that the information about ACTMedian and SATAverage has a very strong correlation. This means that we could probably just keep one of the columns and still get about the same information. So let's drop the ACTMedian column.",
    "id": "5f331b05ac8648718d4db081db5e7363",
    "order_count": null,
    "time": "2020-07-21T09:17:45.715Z",
    "type": "deleteMarkdownCell"
   },
   {
    "code": "vis.data = self[attribute].reset_index()\n\nWe see that the information about ACTMedian and SATAverage has a very strong correlation. This means that we could probably just keep one of the columns and still get about the same information. So let's drop the ACTMedian column.",
    "id": "762f6d5851e3459d91c603308c48e0d0",
    "order_count": 12,
    "time": "2020-07-21T09:17:47.017Z",
    "type": "editCodeCell"
   },
   {
    "code": "df = df.drop(columns=[\"ACTMedian\"])\ndf",
    "id": "cb171d4d41f84122b007f4ec1d52653b",
    "order_count": 13,
    "time": "2020-07-21T09:17:51.627Z",
    "type": "selectCodeCell"
   },
   {
    "code": "We see that the information about ACTMedian and SATAverage has a very strong correlation. This means that we could probably just keep one of the columns and still get about the same information. So let's drop the ACTMedian column.",
    "id": "f04dcbd8f74d49b78444b74fa9b91035",
    "order_count": 12,
    "time": "2020-07-21T09:17:52.369Z",
    "type": "selectMarkdownCell"
   },
   {
    "code": "",
    "id": "e77a99b8eee048fcbeecc78b618400e6",
    "order_count": 12,
    "time": "2020-07-21T09:17:52.577Z",
    "type": "selectCodeCell"
   },
   {
    "code": "",
    "id": "e77a99b8eee048fcbeecc78b618400e6",
    "order_count": 12,
    "time": "2020-07-21T09:17:52.793Z",
    "type": "editCodeCell"
   },
   {
    "code": "for attribute in self.columns:\n    vis = Vis([index_column_name,attribute])",
    "id": "5f54f55b856742dc8bddf0782da7c89c",
    "order_count": 11,
    "time": "2020-07-21T09:17:54.154Z",
    "type": "editCodeCell"
   },
   {
    "code": "vis.data = self[attribute].reset_index()\n",
    "id": "e77a99b8eee048fcbeecc78b618400e6",
    "order_count": null,
    "time": "2020-07-21T09:17:55.065Z",
    "type": "deleteCodeCell"
   },
   {
    "code": "for attribute in self.columns:\n    vis = Vis([index_column_name,attribute])\n\nvis.data = self[attribute].reset_index()\n",
    "id": "5f54f55b856742dc8bddf0782da7c89c",
    "order_count": 11,
    "time": "2020-07-21T09:17:55.300Z",
    "type": "editCodeCell"
   },
   {
    "code": "for attribute in self.columns:\n    vis = Vis([index_column_name,attribute])\n    vis.data = self[attribute].reset_index()\n",
    "id": "5f54f55b856742dc8bddf0782da7c89c",
    "order_count": 11,
    "time": "2020-07-21T09:17:59.619Z",
    "type": "executeCodeCell"
   },
   {
    "code": "We see that the information about ACTMedian and SATAverage has a very strong correlation. This means that we could probably just keep one of the columns and still get about the same information. So let's drop the ACTMedian column.",
    "id": "f04dcbd8f74d49b78444b74fa9b91035",
    "order_count": 12,
    "time": "2020-07-21T09:17:59.641Z",
    "type": "selectMarkdownCell"
   },
   {
    "code": "for attribute in self.columns:\n    vis = Vis([index_column_name,attribute])\n    vis.data = self[attribute].reset_index()\n",
    "id": "5f54f55b856742dc8bddf0782da7c89c",
    "isPrintLuxDf": false,
    "isPrintPandasDf": false,
    "isPrintVis": false,
    "isPrintVisCollection": false,
    "order_count": 11,
    "time": "2020-07-21T09:17:59.670Z",
    "type": "completeCodeCell"
   },
   {
    "code": "",
    "id": "bf11bad7ff0f4fa88ce6d28229225f6e",
    "order_count": 12,
    "time": "2020-07-21T09:18:00.860Z",
    "type": "selectCodeCell"
   },
   {
    "code": "",
    "id": "bf11bad7ff0f4fa88ce6d28229225f6e",
    "order_count": 12,
    "time": "2020-07-21T09:18:00.944Z",
    "type": "editCodeCell"
   },
   {
    "code": "vis",
    "id": "bf11bad7ff0f4fa88ce6d28229225f6e",
    "order_count": 12,
    "time": "2020-07-21T09:18:02.005Z",
    "type": "executeCodeCell"
   },
   {
    "code": "We see that the information about ACTMedian and SATAverage has a very strong correlation. This means that we could probably just keep one of the columns and still get about the same information. So let's drop the ACTMedian column.",
    "id": "f04dcbd8f74d49b78444b74fa9b91035",
    "order_count": 13,
    "time": "2020-07-21T09:18:02.028Z",
    "type": "selectMarkdownCell"
   },
   {
    "code": "vis",
    "id": "bf11bad7ff0f4fa88ce6d28229225f6e",
    "isPrintLuxDf": false,
    "isPrintPandasDf": false,
    "isPrintVis": true,
    "isPrintVisCollection": false,
    "order_count": 12,
    "time": "2020-07-21T09:18:02.057Z",
    "type": "completeCodeCell"
   },
   {
    "code": "vis",
    "id": "bf11bad7ff0f4fa88ce6d28229225f6e",
    "order_count": 12,
    "time": "2020-07-21T09:18:09.252Z",
    "type": "selectCodeCell"
   },
   {
    "code": "vis",
    "id": "bf11bad7ff0f4fa88ce6d28229225f6e",
    "order_count": 12,
    "time": "2020-07-21T09:18:09.260Z",
    "type": "editCodeCell"
   },
   {
    "code": "vis",
    "id": "bf11bad7ff0f4fa88ce6d28229225f6e",
    "order_count": 12,
    "time": "2020-07-21T09:18:31.312Z",
    "type": "editCodeCell"
   },
   {
    "code": "vis",
    "id": "bf11bad7ff0f4fa88ce6d28229225f6e",
    "order_count": 12,
    "time": "2020-07-21T09:18:31.769Z",
    "type": "selectCodeCell"
   },
   {
    "code": "vis",
    "id": "bf11bad7ff0f4fa88ce6d28229225f6e",
    "order_count": 12,
    "time": "2020-07-21T09:18:32.176Z",
    "type": "selectCodeCell"
   },
   {
    "code": "for attribute in self.columns:\n    vis = Vis([index_column_name,attribute])\n    vis.data = self[attribute].reset_index()\n",
    "id": "5f54f55b856742dc8bddf0782da7c89c",
    "order_count": 11,
    "time": "2020-07-21T09:18:33.499Z",
    "type": "selectCodeCell"
   },
   {
    "code": "",
    "id": "964d80c9243d49bd827d4f36a20f7916",
    "order_count": 11,
    "time": "2020-07-21T09:18:33.701Z",
    "type": "selectCodeCell"
   },
   {
    "code": "",
    "id": "964d80c9243d49bd827d4f36a20f7916",
    "order_count": 11,
    "time": "2020-07-21T09:18:34.072Z",
    "type": "editCodeCell"
   },
   {
    "code": "self",
    "id": "964d80c9243d49bd827d4f36a20f7916",
    "order_count": 11,
    "time": "2020-07-21T09:18:35.515Z",
    "type": "executeCodeCell"
   },
   {
    "code": "for attribute in self.columns:\n    vis = Vis([index_column_name,attribute])\n    vis.data = self[attribute].reset_index()\n",
    "id": "5f54f55b856742dc8bddf0782da7c89c",
    "order_count": 12,
    "time": "2020-07-21T09:18:35.551Z",
    "type": "selectCodeCell"
   },
   {
    "code": "self",
    "id": "964d80c9243d49bd827d4f36a20f7916",
    "isPrintLuxDf": false,
    "isPrintPandasDf": true,
    "isPrintVis": false,
    "isPrintVisCollection": false,
    "order_count": 11,
    "time": "2020-07-21T09:18:35.563Z",
    "type": "completeCodeCell"
   },
   {
    "code": "self",
    "id": "964d80c9243d49bd827d4f36a20f7916",
    "order_count": 11,
    "time": "2020-07-21T09:18:36.250Z",
    "type": "selectCodeCell"
   },
   {
    "code": "self",
    "id": "964d80c9243d49bd827d4f36a20f7916",
    "order_count": 11,
    "time": "2020-07-21T09:18:36.605Z",
    "type": "editCodeCell"
   },
   {
    "code": "type(self)",
    "id": "964d80c9243d49bd827d4f36a20f7916",
    "order_count": 11,
    "time": "2020-07-21T09:18:39.510Z",
    "type": "executeCodeCell"
   },
   {
    "code": "for attribute in self.columns:\n    vis = Vis([index_column_name,attribute])\n    vis.data = self[attribute].reset_index()\n",
    "id": "5f54f55b856742dc8bddf0782da7c89c",
    "order_count": 12,
    "time": "2020-07-21T09:18:39.544Z",
    "type": "selectCodeCell"
   },
   {
    "code": "type(self)",
    "id": "964d80c9243d49bd827d4f36a20f7916",
    "isPrintLuxDf": false,
    "isPrintPandasDf": false,
    "isPrintVis": false,
    "isPrintVisCollection": false,
    "order_count": 11,
    "time": "2020-07-21T09:18:39.557Z",
    "type": "completeCodeCell"
   },
   {
    "code": "type(self)",
    "id": "964d80c9243d49bd827d4f36a20f7916",
    "order_count": 11,
    "time": "2020-07-21T09:18:40.097Z",
    "type": "selectCodeCell"
   },
   {
    "code": "type(self)",
    "id": "964d80c9243d49bd827d4f36a20f7916",
    "order_count": 11,
    "time": "2020-07-21T09:18:40.337Z",
    "type": "editCodeCell"
   },
   {
    "code": "self.cardinality",
    "id": "964d80c9243d49bd827d4f36a20f7916",
    "order_count": 11,
    "time": "2020-07-21T09:18:45.612Z",
    "type": "executeCodeCell"
   },
   {
    "code": "for attribute in self.columns:\n    vis = Vis([index_column_name,attribute])\n    vis.data = self[attribute].reset_index()\n",
    "id": "5f54f55b856742dc8bddf0782da7c89c",
    "order_count": 12,
    "time": "2020-07-21T09:18:45.645Z",
    "type": "selectCodeCell"
   },
   {
    "code": "self.cardinality",
    "id": "964d80c9243d49bd827d4f36a20f7916",
    "isPrintLuxDf": false,
    "isPrintPandasDf": false,
    "isPrintVis": false,
    "isPrintVisCollection": false,
    "order_count": 11,
    "time": "2020-07-21T09:18:45.656Z",
    "type": "completeCodeCell"
   },
   {
    "code": "self.cardinality",
    "id": "964d80c9243d49bd827d4f36a20f7916",
    "order_count": 11,
    "time": "2020-07-21T09:18:46.606Z",
    "type": "selectCodeCell"
   },
   {
    "code": "self.cardinality",
    "id": "964d80c9243d49bd827d4f36a20f7916",
    "order_count": 11,
    "time": "2020-07-21T09:18:46.914Z",
    "type": "editCodeCell"
   },
   {
    "code": "self",
    "id": "964d80c9243d49bd827d4f36a20f7916",
    "order_count": 11,
    "time": "2020-07-21T09:18:48.781Z",
    "type": "executeCodeCell"
   },
   {
    "code": "for attribute in self.columns:\n    vis = Vis([index_column_name,attribute])\n    vis.data = self[attribute].reset_index()\n",
    "id": "5f54f55b856742dc8bddf0782da7c89c",
    "order_count": 12,
    "time": "2020-07-21T09:18:48.813Z",
    "type": "selectCodeCell"
   },
   {
    "code": "self",
    "id": "964d80c9243d49bd827d4f36a20f7916",
    "isPrintLuxDf": false,
    "isPrintPandasDf": true,
    "isPrintVis": false,
    "isPrintVisCollection": false,
    "order_count": 11,
    "time": "2020-07-21T09:18:48.824Z",
    "type": "completeCodeCell"
   },
   {
    "code": "self",
    "id": "964d80c9243d49bd827d4f36a20f7916",
    "order_count": 11,
    "time": "2020-07-21T09:18:49.579Z",
    "type": "selectCodeCell"
   },
   {
    "code": "self",
    "id": "964d80c9243d49bd827d4f36a20f7916",
    "order_count": 11,
    "time": "2020-07-21T09:18:49.918Z",
    "type": "editCodeCell"
   },
   {
    "code": "self.data_tpe",
    "id": "964d80c9243d49bd827d4f36a20f7916",
    "order_count": 11,
    "time": "2020-07-21T09:18:55.390Z",
    "type": "executeCodeCell"
   },
   {
    "code": "for attribute in self.columns:\n    vis = Vis([index_column_name,attribute])\n    vis.data = self[attribute].reset_index()\n",
    "id": "5f54f55b856742dc8bddf0782da7c89c",
    "order_count": 12,
    "time": "2020-07-21T09:18:55.425Z",
    "type": "selectCodeCell"
   },
   {
    "code": "self.data_tpe",
    "id": "964d80c9243d49bd827d4f36a20f7916",
    "isPrintLuxDf": false,
    "isPrintPandasDf": false,
    "isPrintVis": false,
    "isPrintVisCollection": false,
    "order_count": 11,
    "time": "2020-07-21T09:18:55.449Z",
    "type": "completeCodeCell"
   },
   {
    "code": "self.data_tpe",
    "id": "964d80c9243d49bd827d4f36a20f7916",
    "order_count": 11,
    "time": "2020-07-21T09:18:56.209Z",
    "type": "selectCodeCell"
   },
   {
    "code": "self.data_tpe",
    "id": "964d80c9243d49bd827d4f36a20f7916",
    "order_count": 11,
    "time": "2020-07-21T09:18:57.026Z",
    "type": "editCodeCell"
   },
   {
    "code": "self.data_type",
    "id": "964d80c9243d49bd827d4f36a20f7916",
    "order_count": 11,
    "time": "2020-07-21T09:19:00.229Z",
    "type": "executeCodeCell"
   },
   {
    "code": "for attribute in self.columns:\n    vis = Vis([index_column_name,attribute])\n    vis.data = self[attribute].reset_index()\n",
    "id": "5f54f55b856742dc8bddf0782da7c89c",
    "order_count": 12,
    "time": "2020-07-21T09:19:00.262Z",
    "type": "selectCodeCell"
   },
   {
    "code": "self.data_type",
    "id": "964d80c9243d49bd827d4f36a20f7916",
    "isPrintLuxDf": false,
    "isPrintPandasDf": false,
    "isPrintVis": false,
    "isPrintVisCollection": false,
    "order_count": 11,
    "time": "2020-07-21T09:19:00.273Z",
    "type": "completeCodeCell"
   },
   {
    "code": "self.data_type",
    "id": "964d80c9243d49bd827d4f36a20f7916",
    "order_count": 11,
    "time": "2020-07-21T09:19:02.118Z",
    "type": "selectCodeCell"
   },
   {
    "code": "self.data_type",
    "id": "964d80c9243d49bd827d4f36a20f7916",
    "order_count": null,
    "time": "2020-07-21T09:19:03.396Z",
    "type": "deleteCodeCell"
   },
   {
    "code": "vis",
    "id": "bf11bad7ff0f4fa88ce6d28229225f6e",
    "order_count": 12,
    "time": "2020-07-21T09:19:04.066Z",
    "type": "selectCodeCell"
   },
   {
    "code": "for attribute in self.columns:\n    vis = Vis([index_column_name,attribute])\n    vis.data = self[attribute].reset_index()\n",
    "id": "5f54f55b856742dc8bddf0782da7c89c",
    "order_count": 11,
    "time": "2020-07-21T09:19:04.399Z",
    "type": "selectCodeCell"
   },
   {
    "code": "for attribute in self.columns:\n    vis = Vis([index_column_name,attribute])\n    vis.data = self[attribute].reset_index()\n",
    "id": "5f54f55b856742dc8bddf0782da7c89c",
    "order_count": 11,
    "time": "2020-07-21T09:19:04.406Z",
    "type": "editCodeCell"
   },
   {
    "code": "for attribute in self.columns:\n    vis = Vis([index_column_name,attribute])\n    vis.data = self[attribute].reset_index()\n",
    "id": "5f54f55b856742dc8bddf0782da7c89c",
    "order_count": 11,
    "time": "2020-07-21T09:19:14.844Z",
    "type": "selectCodeCell"
   },
   {
    "code": "for attribute in self.columns:\n    vis = Vis([index_column_name,attribute])\n    vis.data = self[attribute].reset_index()\n",
    "id": "5f54f55b856742dc8bddf0782da7c89c",
    "order_count": 11,
    "time": "2020-07-21T09:19:15.562Z",
    "type": "selectCodeCell"
   },
   {
    "code": "for attribute in self.columns:\n    vis = Vis([index_column_name,attribute])\n    vis.data = self[attribute].reset_index()\n",
    "id": "5f54f55b856742dc8bddf0782da7c89c",
    "order_count": 11,
    "time": "2020-07-21T09:19:15.796Z",
    "type": "selectCodeCell"
   },
   {
    "code": "for attribute in self.columns:\n    vis = Vis([index_column_name,attribute])\n    vis.data = self[attribute].reset_index()\n",
    "id": "5f54f55b856742dc8bddf0782da7c89c",
    "order_count": 11,
    "time": "2020-07-21T09:19:37.654Z",
    "type": "editCodeCell"
   },
   {
    "code": "for attribute in self.columns:\n    vis = Vis([index_column_name,attribute])\n    vis.data = self[attribute].reset_index()\n",
    "id": "5f54f55b856742dc8bddf0782da7c89c",
    "order_count": 11,
    "time": "2020-07-21T09:19:38.128Z",
    "type": "selectCodeCell"
   },
   {
    "code": "index_column_name",
    "id": "635986bd5dba4b92915672975a9641d8",
    "order_count": 9,
    "time": "2020-07-21T09:19:39.868Z",
    "type": "selectCodeCell"
   },
   {
    "code": "index_column_name",
    "id": "635986bd5dba4b92915672975a9641d8",
    "order_count": 9,
    "time": "2020-07-21T09:19:39.874Z",
    "type": "editCodeCell"
   },
   {
    "code": "index_column_name",
    "id": "635986bd5dba4b92915672975a9641d8",
    "order_count": 9,
    "time": "2020-07-21T09:19:40.784Z",
    "type": "selectCodeCell"
   },
   {
    "code": "index_column_name",
    "id": "635986bd5dba4b92915672975a9641d8",
    "order_count": 9,
    "time": "2020-07-21T09:19:41.352Z",
    "type": "selectCodeCell"
   },
   {
    "code": "for attribute in self.columns:\n    vis = Vis([index_column_name,attribute])\n    vis.data = self[attribute].reset_index()\n",
    "id": "5f54f55b856742dc8bddf0782da7c89c",
    "order_count": 11,
    "time": "2020-07-21T09:19:42.650Z",
    "type": "selectCodeCell"
   },
   {
    "code": "from lux.vis.Vis import Vis",
    "id": "ca07cdd3856841c082c7831ab613eb72",
    "order_count": 10,
    "time": "2020-07-21T09:19:45.274Z",
    "type": "selectCodeCell"
   },
   {
    "code": "",
    "id": "dc65928dcab74a518ec6aeee3d2abc9f",
    "order_count": 10,
    "time": "2020-07-21T09:19:45.639Z",
    "type": "selectCodeCell"
   },
   {
    "code": "",
    "id": "dc65928dcab74a518ec6aeee3d2abc9f",
    "order_count": 10,
    "time": "2020-07-21T09:19:46.058Z",
    "type": "editCodeCell"
   },
   {
    "code": "self",
    "id": "dc65928dcab74a518ec6aeee3d2abc9f",
    "order_count": 10,
    "time": "2020-07-21T09:19:49.430Z",
    "type": "executeCodeCell"
   },
   {
    "code": "from lux.vis.Vis import Vis",
    "id": "ca07cdd3856841c082c7831ab613eb72",
    "order_count": 11,
    "time": "2020-07-21T09:19:49.460Z",
    "type": "selectCodeCell"
   },
   {
    "code": "self",
    "id": "dc65928dcab74a518ec6aeee3d2abc9f",
    "isPrintLuxDf": false,
    "isPrintPandasDf": true,
    "isPrintVis": false,
    "isPrintVisCollection": false,
    "order_count": 10,
    "time": "2020-07-21T09:19:49.472Z",
    "type": "completeCodeCell"
   },
   {
    "code": "self",
    "id": "dc65928dcab74a518ec6aeee3d2abc9f",
    "order_count": 10,
    "time": "2020-07-21T09:20:41.381Z",
    "type": "selectCodeCell"
   },
   {
    "code": "self",
    "id": "dc65928dcab74a518ec6aeee3d2abc9f",
    "order_count": 10,
    "time": "2020-07-21T09:20:41.390Z",
    "type": "editCodeCell"
   },
   {
    "code": "self.reset_index()",
    "id": "dc65928dcab74a518ec6aeee3d2abc9f",
    "order_count": 10,
    "time": "2020-07-21T09:20:44.887Z",
    "type": "executeCodeCell"
   },
   {
    "code": "from lux.vis.Vis import Vis",
    "id": "ca07cdd3856841c082c7831ab613eb72",
    "order_count": 11,
    "time": "2020-07-21T09:20:44.920Z",
    "type": "selectCodeCell"
   },
   {
    "code": "self.reset_index()",
    "id": "dc65928dcab74a518ec6aeee3d2abc9f",
    "isPrintLuxDf": false,
    "isPrintPandasDf": true,
    "isPrintVis": false,
    "isPrintVisCollection": false,
    "order_count": 10,
    "time": "2020-07-21T09:20:45.305Z",
    "type": "completeCodeCell"
   },
   {
    "code": "self.reset_index()",
    "id": "dc65928dcab74a518ec6aeee3d2abc9f",
    "order_count": 10,
    "time": "2020-07-21T09:20:46.381Z",
    "type": "selectCodeCell"
   },
   {
    "param": "",
    "time": "2020-07-21T09:20:46.417Z",
    "type": "initWidget"
   },
   {
    "param": "",
    "time": "2020-07-21T09:20:46.698Z",
    "type": "initWidget"
   },
   {
    "code": "self.reset_index()",
    "id": "dc65928dcab74a518ec6aeee3d2abc9f",
    "order_count": 10,
    "time": "2020-07-21T09:20:56.632Z",
    "type": "selectCodeCell"
   },
   {
    "param": "Distribution",
    "time": "2020-07-21T09:20:56.636Z",
    "type": "switchTab"
   },
   {
    "code": "self.reset_index()",
    "id": "dc65928dcab74a518ec6aeee3d2abc9f",
    "order_count": 10,
    "time": "2020-07-21T09:20:57.901Z",
    "type": "selectCodeCell"
   },
   {
    "param": "Category",
    "time": "2020-07-21T09:20:57.903Z",
    "type": "switchTab"
   },
   {
    "code": "self.reset_index()",
    "id": "dc65928dcab74a518ec6aeee3d2abc9f",
    "order_count": 10,
    "time": "2020-07-21T09:21:03.644Z",
    "type": "selectCodeCell"
   },
   {
    "param": "Category",
    "time": "2020-07-21T09:21:03.888Z",
    "type": "startScroll"
   },
   {
    "param": "Category",
    "time": "2020-07-21T09:21:04.131Z",
    "type": "stopScroll"
   },
   {
    "param": "Category",
    "time": "2020-07-21T09:21:04.220Z",
    "type": "startScroll"
   },
   {
    "param": "Category",
    "time": "2020-07-21T09:21:04.999Z",
    "type": "stopScroll"
   },
   {
    "param": "Category",
    "time": "2020-07-21T09:21:05.487Z",
    "type": "startScroll"
   },
   {
    "param": "Category",
    "time": "2020-07-21T09:21:05.799Z",
    "type": "stopScroll"
   },
   {
    "param": "Category",
    "time": "2020-07-21T09:21:06.120Z",
    "type": "startScroll"
   },
   {
    "param": "Category",
    "time": "2020-07-21T09:21:06.648Z",
    "type": "stopScroll"
   },
   {
    "code": "self.reset_index()",
    "id": "dc65928dcab74a518ec6aeee3d2abc9f",
    "order_count": 10,
    "time": "2020-07-21T09:21:07.724Z",
    "type": "selectCodeCell"
   },
   {
    "code": "self.reset_index()",
    "id": "dc65928dcab74a518ec6aeee3d2abc9f",
    "order_count": 10,
    "time": "2020-07-21T09:21:09.107Z",
    "type": "selectCodeCell"
   },
   {
    "param": "Correlation",
    "time": "2020-07-21T09:21:09.108Z",
    "type": "switchTab"
   },
   {
    "code": "self.reset_index()",
    "id": "dc65928dcab74a518ec6aeee3d2abc9f",
    "order_count": 10,
    "time": "2020-07-21T09:21:12.115Z",
    "type": "selectCodeCell"
   },
   {
    "code": "self.reset_index()",
    "id": "dc65928dcab74a518ec6aeee3d2abc9f",
    "order_count": 10,
    "time": "2020-07-21T09:21:20.068Z",
    "type": "selectCodeCell"
   },
   {
    "code": "self.reset_index()",
    "id": "dc65928dcab74a518ec6aeee3d2abc9f",
    "order_count": 10,
    "time": "2020-07-21T09:21:20.362Z",
    "type": "editCodeCell"
   },
   {
    "code": "# self.reset_index()",
    "id": "dc65928dcab74a518ec6aeee3d2abc9f",
    "order_count": 10,
    "time": "2020-07-21T09:21:22.243Z",
    "type": "executeCodeCell"
   },
   {
    "code": "from lux.vis.Vis import Vis",
    "id": "ca07cdd3856841c082c7831ab613eb72",
    "order_count": 11,
    "time": "2020-07-21T09:21:22.273Z",
    "type": "selectCodeCell"
   },
   {
    "code": "# self.reset_index()",
    "id": "dc65928dcab74a518ec6aeee3d2abc9f",
    "isPrintLuxDf": false,
    "isPrintPandasDf": false,
    "isPrintVis": false,
    "isPrintVisCollection": false,
    "order_count": 10,
    "time": "2020-07-21T09:21:22.286Z",
    "type": "completeCodeCell"
   },
   {
    "code": "vis",
    "id": "bf11bad7ff0f4fa88ce6d28229225f6e",
    "order_count": 13,
    "time": "2020-07-21T09:21:23.861Z",
    "type": "selectCodeCell"
   },
   {
    "code": "vis",
    "id": "bf11bad7ff0f4fa88ce6d28229225f6e",
    "order_count": 13,
    "time": "2020-07-21T09:21:23.870Z",
    "type": "editCodeCell"
   },
   {
    "code": "for attribute in self.columns:\n    vis = Vis([index_column_name,attribute])\n    vis.data = self[attribute].reset_index()\n",
    "id": "5f54f55b856742dc8bddf0782da7c89c",
    "order_count": 12,
    "time": "2020-07-21T09:21:36.795Z",
    "type": "selectCodeCell"
   },
   {
    "code": "for attribute in self.columns:\n    vis = Vis([index_column_name,attribute])\n    vis.data = self[attribute].reset_index()\n",
    "id": "5f54f55b856742dc8bddf0782da7c89c",
    "order_count": 12,
    "time": "2020-07-21T09:21:36.800Z",
    "type": "editCodeCell"
   },
   {
    "code": "for attribute in self.columns:\n    vis = Vis([index_column_name,attribute])\n    vis.data = self[attribute].reset_index()\n",
    "id": "5f54f55b856742dc8bddf0782da7c89c",
    "order_count": 12,
    "time": "2020-07-21T09:21:43.203Z",
    "type": "selectCodeCell"
   },
   {
    "code": "for attribute in self.columns:\n    vis = Vis([index_column_name,attribute])\n    vis.data = self[attribute].reset_index()\n",
    "id": "5f54f55b856742dc8bddf0782da7c89c",
    "order_count": 12,
    "time": "2020-07-21T09:21:58.275Z",
    "type": "selectCodeCell"
   },
   {
    "code": "for attribute in self.columns:\n    vis = Vis([index_column_name,attribute])\n    vis.data = self[attribute].reset_index()\n",
    "id": "5f54f55b856742dc8bddf0782da7c89c",
    "order_count": 12,
    "time": "2020-07-21T09:22:14.913Z",
    "type": "editCodeCell"
   },
   {
    "code": "vis",
    "id": "bf11bad7ff0f4fa88ce6d28229225f6e",
    "order_count": 13,
    "time": "2020-07-21T09:22:15.432Z",
    "type": "selectCodeCell"
   },
   {
    "code": "vis",
    "id": "bf11bad7ff0f4fa88ce6d28229225f6e",
    "order_count": 13,
    "time": "2020-07-21T09:22:15.440Z",
    "type": "editCodeCell"
   },
   {
    "code": "vis",
    "id": "bf11bad7ff0f4fa88ce6d28229225f6e",
    "order_count": 13,
    "time": "2020-07-21T09:22:15.515Z",
    "type": "selectCodeCell"
   },
   {
    "code": "vis",
    "id": "bf11bad7ff0f4fa88ce6d28229225f6e",
    "order_count": 13,
    "time": "2020-07-21T09:22:16.411Z",
    "type": "selectCodeCell"
   },
   {
    "code": "for attribute in self.columns:\n    vis = Vis([index_column_name,attribute])\n    vis.data = self[attribute].reset_index()\n",
    "id": "5f54f55b856742dc8bddf0782da7c89c",
    "order_count": 12,
    "time": "2020-07-21T09:22:24.753Z",
    "type": "selectCodeCell"
   },
   {
    "code": "for attribute in self.columns:\n    vis = Vis([index_column_name,attribute])\n    vis.data = self[attribute].reset_index()\n",
    "id": "5f54f55b856742dc8bddf0782da7c89c",
    "order_count": 12,
    "time": "2020-07-21T09:22:24.760Z",
    "type": "editCodeCell"
   },
   {
    "code": "vis",
    "id": "bf11bad7ff0f4fa88ce6d28229225f6e",
    "order_count": 13,
    "time": "2020-07-21T09:22:25.722Z",
    "type": "selectCodeCell"
   },
   {
    "code": "vis",
    "id": "bf11bad7ff0f4fa88ce6d28229225f6e",
    "order_count": 13,
    "time": "2020-07-21T09:22:25.729Z",
    "type": "editCodeCell"
   },
   {
    "code": "vis",
    "id": "bf11bad7ff0f4fa88ce6d28229225f6e",
    "order_count": 13,
    "time": "2020-07-21T09:22:26.113Z",
    "type": "selectCodeCell"
   },
   {
    "code": "",
    "id": "299593bf5efa4855a1e80b92332025e2",
    "order_count": 13,
    "time": "2020-07-21T09:22:27.178Z",
    "type": "selectCodeCell"
   },
   {
    "code": "",
    "id": "299593bf5efa4855a1e80b92332025e2",
    "order_count": 13,
    "time": "2020-07-21T09:22:27.316Z",
    "type": "editCodeCell"
   },
   {
    "code": "vis.",
    "id": "299593bf5efa4855a1e80b92332025e2",
    "order_count": 13,
    "time": "2020-07-21T09:22:34.353Z",
    "type": "selectCodeCell"
   },
   {
    "code": "vis.",
    "id": "299593bf5efa4855a1e80b92332025e2",
    "order_count": null,
    "time": "2020-07-21T09:22:34.864Z",
    "type": "deleteCodeCell"
   },
   {
    "code": "",
    "id": "64b2aeae74224155832a8450b8dad9aa",
    "order_count": 13,
    "time": "2020-07-21T09:22:37.291Z",
    "type": "selectCodeCell"
   },
   {
    "code": "",
    "id": "64b2aeae74224155832a8450b8dad9aa",
    "order_count": 13,
    "time": "2020-07-21T09:22:38.893Z",
    "type": "editCodeCell"
   },
   {
    "code": "for attribute in self.columns:\n    vis = Vis([index_column_name,attribute])\n    vis.data = self[attribute].reset_index()\n",
    "id": "5f54f55b856742dc8bddf0782da7c89c",
    "order_count": 12,
    "time": "2020-07-21T09:22:54.788Z",
    "type": "selectCodeCell"
   },
   {
    "code": "for attribute in self.columns:\n    vis = Vis([index_column_name,attribute])\n    vis.data = self[attribute].reset_index()\n",
    "id": "5f54f55b856742dc8bddf0782da7c89c",
    "order_count": 12,
    "time": "2020-07-21T09:22:56.614Z",
    "type": "editCodeCell"
   },
   {
    "code": "for attribute in self.columns:\n    vis = Vis([index_column_name,attribute])\n    vis.data = self[attribute].reset_index()\n",
    "id": "5f54f55b856742dc8bddf0782da7c89c",
    "order_count": 12,
    "time": "2020-07-21T09:22:58.061Z",
    "type": "selectCodeCell"
   },
   {
    "code": "",
    "id": "1913b932507a4f4080754c81bbb55969",
    "order_count": 12,
    "time": "2020-07-21T09:22:58.211Z",
    "type": "selectCodeCell"
   },
   {
    "code": "",
    "id": "1913b932507a4f4080754c81bbb55969",
    "order_count": 12,
    "time": "2020-07-21T09:22:58.574Z",
    "type": "editCodeCell"
   },
   {
    "code": "vis = Vis([index_column_name,attribute],df)\nvis",
    "id": "1913b932507a4f4080754c81bbb55969",
    "order_count": 12,
    "time": "2020-07-21T09:23:04.161Z",
    "type": "executeCodeCell"
   },
   {
    "code": "for attribute in self.columns:\n    vis = Vis([index_column_name,attribute])\n    vis.data = self[attribute].reset_index()\n",
    "id": "5f54f55b856742dc8bddf0782da7c89c",
    "order_count": 13,
    "time": "2020-07-21T09:23:04.199Z",
    "type": "selectCodeCell"
   },
   {
    "code": "vis = Vis([index_column_name,attribute],df)\nvis",
    "id": "1913b932507a4f4080754c81bbb55969",
    "isPrintLuxDf": false,
    "isPrintPandasDf": false,
    "isPrintVis": true,
    "isPrintVisCollection": false,
    "order_count": 12,
    "time": "2020-07-21T09:23:04.250Z",
    "type": "completeCodeCell"
   },
   {
    "param": "",
    "time": "2020-07-21T09:23:04.263Z",
    "type": "initWidget"
   },
   {
    "code": "vis = Vis([index_column_name,attribute],df)\nvis",
    "id": "1913b932507a4f4080754c81bbb55969",
    "order_count": 12,
    "time": "2020-07-21T09:23:09.616Z",
    "type": "selectCodeCell"
   },
   {
    "code": "vis = Vis([index_column_name,attribute],df)\nvis",
    "id": "1913b932507a4f4080754c81bbb55969",
    "order_count": 12,
    "time": "2020-07-21T09:23:09.624Z",
    "type": "editCodeCell"
   },
   {
    "code": "vis = Vis([index_column_name,attribute],df)\nvis._inferred_query",
    "id": "1913b932507a4f4080754c81bbb55969",
    "order_count": 12,
    "time": "2020-07-21T09:23:20.002Z",
    "type": "executeCodeCell"
   },
   {
    "code": "for attribute in self.columns:\n    vis = Vis([index_column_name,attribute])\n    vis.data = self[attribute].reset_index()\n",
    "id": "5f54f55b856742dc8bddf0782da7c89c",
    "order_count": 13,
    "time": "2020-07-21T09:23:20.036Z",
    "type": "selectCodeCell"
   },
   {
    "code": "vis = Vis([index_column_name,attribute],df)\nvis._inferred_query",
    "id": "1913b932507a4f4080754c81bbb55969",
    "isPrintLuxDf": false,
    "isPrintPandasDf": false,
    "isPrintVis": false,
    "isPrintVisCollection": false,
    "order_count": 12,
    "time": "2020-07-21T09:23:20.061Z",
    "type": "completeCodeCell"
   },
   {
    "code": "vis._inferred_query = [lux.Clause()]",
    "id": "64b2aeae74224155832a8450b8dad9aa",
    "order_count": 14,
    "time": "2020-07-21T09:23:22.640Z",
    "type": "selectCodeCell"
   },
   {
    "code": "vis._inferred_query = [lux.Clause()]",
    "id": "64b2aeae74224155832a8450b8dad9aa",
    "order_count": 14,
    "time": "2020-07-21T09:23:22.647Z",
    "type": "editCodeCell"
   },
   {
    "code": "vis._inferred_query = [lux.Clause()]",
    "id": "64b2aeae74224155832a8450b8dad9aa",
    "order_count": 14,
    "time": "2020-07-21T09:23:47.041Z",
    "type": "editCodeCell"
   },
   {
    "code": "for attribute in self.columns:\n    vis = Vis([index_column_name,attribute])\n    vis.data = self[attribute].reset_index()\n",
    "id": "5f54f55b856742dc8bddf0782da7c89c",
    "order_count": 13,
    "time": "2020-07-21T09:23:47.370Z",
    "type": "selectCodeCell"
   },
   {
    "code": "for attribute in self.columns:\n    vis = Vis([index_column_name,attribute])\n    vis.data = self[attribute].reset_index()\n",
    "id": "5f54f55b856742dc8bddf0782da7c89c",
    "order_count": 13,
    "time": "2020-07-21T09:23:47.375Z",
    "type": "editCodeCell"
   },
   {
    "code": "for attribute in self.columns:\n    vis = Vis([index_column_name,attribute])\n    self._inferred_query = Parser.parse(self.query)\n    Validator.validate_spec(self._inferred_query,ldf)\n    vc = Compiler.compile(ldf,self._inferred_query,[self],enumerate_collection=False)\n    vis.data = self[attribute].reset_index()\n",
    "id": "5f54f55b856742dc8bddf0782da7c89c",
    "order_count": 13,
    "time": "2020-07-21T09:24:02.579Z",
    "type": "editCodeCell"
   },
   {
    "code": "for attribute in self.columns:\n    vis = Vis([index_column_name,attribute])\n    self._inferred_query = Parser.parse(self.query)\n    Validator.validate_spec(self._inferred_query,ldf)\n    vc = Compiler.compile(ldf,self._inferred_query,[self],enumerate_collection=False)\n    vis.data = self[attribute].reset_index()\n",
    "id": "5f54f55b856742dc8bddf0782da7c89c",
    "order_count": 13,
    "time": "2020-07-21T09:24:05.856Z",
    "type": "editCodeCell"
   },
   {
    "code": "for attribute in self.columns:\n    vis = Vis([index_column_name,attribute])\n    self._inferred_query = Parser.parse(self.query)\n    Validator.validate_spec(self._inferred_query,ldf)\n    vc = Compiler.compile(ldf,self._inferred_query,[self],enumerate_collection=False)\n    vis.data = self[attribute].reset_index()\n",
    "id": "5f54f55b856742dc8bddf0782da7c89c",
    "order_count": 13,
    "time": "2020-07-21T09:24:08.895Z",
    "type": "selectCodeCell"
   },
   {
    "code": "for attribute in self.columns:\n    vis = Vis([index_column_name,attribute])\n    vis._inferred_query = Parser.parse(vis.query)\n    Validator.validate_spec(vis._inferred_query,ldf)\n    vc = Compiler.compile(ldf,self._inferred_query,[self],enumerate_collection=False)\n    vis.data = self[attribute].reset_index()\n",
    "id": "5f54f55b856742dc8bddf0782da7c89c",
    "order_count": 13,
    "time": "2020-07-21T09:24:24.454Z",
    "type": "selectCodeCell"
   },
   {
    "code": "for attribute in self.columns:\n    vis = Vis([index_column_name,attribute])\n    vis._inferred_query = Parser.parse(vis.query)\n    Validator.validate_spec(vis._inferred_query,ldf)\n    vc = Compiler.compile(ldf,vis._inferred_query,[vis],enumerate_collection=False)\n    vis.data = self[attribute].reset_index()\n",
    "id": "5f54f55b856742dc8bddf0782da7c89c",
    "order_count": 13,
    "time": "2020-07-21T09:24:29.056Z",
    "type": "selectCodeCell"
   },
   {
    "code": "for attribute in self.columns:\n    vis = Vis([index_column_name,attribute])\n    vis._inferred_query = Parser.parse(vis.query)\n    Validator.validate_spec(vis._inferred_query,ldf)\n    vc = Compiler.compile(ldf,vis._inferred_query,[vis],enumerate_collection=False)\n    vis.data = self[attribute].reset_index()\n",
    "id": "5f54f55b856742dc8bddf0782da7c89c",
    "order_count": 13,
    "time": "2020-07-21T09:24:35.506Z",
    "type": "executeCodeCell"
   },
   {
    "code": "vis._inferred_query = [lux.Clause()]",
    "id": "64b2aeae74224155832a8450b8dad9aa",
    "order_count": 14,
    "time": "2020-07-21T09:24:35.544Z",
    "type": "selectCodeCell"
   },
   {
    "code": "for attribute in self.columns:\n    vis = Vis([index_column_name,attribute])\n    vis._inferred_query = Parser.parse(vis.query)\n    Validator.validate_spec(vis._inferred_query,ldf)\n    vc = Compiler.compile(ldf,vis._inferred_query,[vis],enumerate_collection=False)\n    vis.data = self[attribute].reset_index()\n",
    "id": "5f54f55b856742dc8bddf0782da7c89c",
    "isPrintLuxDf": false,
    "isPrintPandasDf": false,
    "isPrintVis": false,
    "isPrintVisCollection": false,
    "order_count": 13,
    "time": "2020-07-21T09:24:35.561Z",
    "type": "completeCodeCell"
   },
   {
    "code": "for attribute in self.columns:\n    vis = Vis([index_column_name,attribute])\n    vis._inferred_query = Parser.parse(vis.query)\n    Validator.validate_spec(vis._inferred_query,ldf)\n    vc = Compiler.compile(ldf,vis._inferred_query,[vis],enumerate_collection=False)\n    vis.data = self[attribute].reset_index()\n",
    "id": "5f54f55b856742dc8bddf0782da7c89c",
    "order_count": 13,
    "time": "2020-07-21T09:24:36.402Z",
    "type": "selectCodeCell"
   },
   {
    "code": "for attribute in self.columns:\n    vis = Vis([index_column_name,attribute])\n    vis._inferred_query = Parser.parse(vis.query)\n    Validator.validate_spec(vis._inferred_query,ldf)\n    vc = Compiler.compile(ldf,vis._inferred_query,[vis],enumerate_collection=False)\n    vis.data = self[attribute].reset_index()\n",
    "id": "5f54f55b856742dc8bddf0782da7c89c",
    "order_count": 13,
    "time": "2020-07-21T09:24:36.797Z",
    "type": "editCodeCell"
   },
   {
    "code": "for attribute in self.columns:\n    vis = Vis([index_column_name,attribute])\n    vis._inferred_query = Parser.parse(vis.query)\n    Validator.validate_spec(vis._inferred_query,ldf)\n    vc = Compiler.compile(ldf,vis._inferred_query,[vis],enumerate_collection=False)\n    vis.data = self[attribute].reset_index()\n",
    "id": "5f54f55b856742dc8bddf0782da7c89c",
    "order_count": 13,
    "time": "2020-07-21T09:24:43.291Z",
    "type": "editCodeCell"
   },
   {
    "code": "for attribute in self.columns:\n    vis = Vis([index_column_name,attribute])\n    vis._inferred_query = Parser.parse(vis.query)\n    Validator.validate_spec(vis._inferred_query,ldf)\n    vc = Compiler.compile(ldf,vis._inferred_query,[vis],enumerate_collection=False)\n    vis.data = self[attribute].reset_index()\n",
    "id": "5f54f55b856742dc8bddf0782da7c89c",
    "order_count": 13,
    "time": "2020-07-21T09:24:43.670Z",
    "type": "selectCodeCell"
   },
   {
    "code": "",
    "id": "8e597bd78171441cad69ab5c08751967",
    "order_count": 13,
    "time": "2020-07-21T09:24:45.488Z",
    "type": "selectCodeCell"
   },
   {
    "code": "",
    "id": "8e597bd78171441cad69ab5c08751967",
    "order_count": 13,
    "time": "2020-07-21T09:24:45.727Z",
    "type": "editCodeCell"
   },
   {
    "code": "from lux.compiler.Parser import Parser\nfrom lux.compiler.Validator import Validator\nfrom lux.compiler.Compiler import Compiler\n",
    "id": "8e597bd78171441cad69ab5c08751967",
    "order_count": 13,
    "time": "2020-07-21T09:24:49.986Z",
    "type": "executeCodeCell"
   },
   {
    "code": "for attribute in self.columns:\n    vis = Vis([index_column_name,attribute])\n    vis._inferred_query = Parser.parse(vis.query)\n    Validator.validate_spec(vis._inferred_query,ldf)\n    vc = Compiler.compile(ldf,vis._inferred_query,[vis],enumerate_collection=False)\n    vis.data = self[attribute].reset_index()\n",
    "id": "5f54f55b856742dc8bddf0782da7c89c",
    "order_count": 14,
    "time": "2020-07-21T09:24:50.029Z",
    "type": "selectCodeCell"
   },
   {
    "code": "from lux.compiler.Parser import Parser\nfrom lux.compiler.Validator import Validator\nfrom lux.compiler.Compiler import Compiler\n",
    "id": "8e597bd78171441cad69ab5c08751967",
    "isPrintLuxDf": false,
    "isPrintPandasDf": false,
    "isPrintVis": false,
    "isPrintVisCollection": false,
    "order_count": 13,
    "time": "2020-07-21T09:24:50.037Z",
    "type": "completeCodeCell"
   },
   {
    "code": "for attribute in self.columns:\n    vis = Vis([index_column_name,attribute])\n    vis._inferred_query = Parser.parse(vis.query)\n    Validator.validate_spec(vis._inferred_query,ldf)\n    vc = Compiler.compile(ldf,vis._inferred_query,[vis],enumerate_collection=False)\n    vis.data = self[attribute].reset_index()\n",
    "id": "5f54f55b856742dc8bddf0782da7c89c",
    "order_count": 14,
    "time": "2020-07-21T09:24:50.601Z",
    "type": "executeCodeCell"
   },
   {
    "code": "vis._inferred_query = [lux.Clause()]",
    "id": "64b2aeae74224155832a8450b8dad9aa",
    "order_count": 15,
    "time": "2020-07-21T09:24:50.618Z",
    "type": "selectCodeCell"
   },
   {
    "code": "for attribute in self.columns:\n    vis = Vis([index_column_name,attribute])\n    vis._inferred_query = Parser.parse(vis.query)\n    Validator.validate_spec(vis._inferred_query,ldf)\n    vc = Compiler.compile(ldf,vis._inferred_query,[vis],enumerate_collection=False)\n    vis.data = self[attribute].reset_index()\n",
    "id": "5f54f55b856742dc8bddf0782da7c89c",
    "isPrintLuxDf": false,
    "isPrintPandasDf": false,
    "isPrintVis": false,
    "isPrintVisCollection": false,
    "order_count": 14,
    "time": "2020-07-21T09:24:50.645Z",
    "type": "completeCodeCell"
   },
   {
    "code": "for attribute in self.columns:\n    vis = Vis([index_column_name,attribute])\n    vis._inferred_query = Parser.parse(vis.query)\n    Validator.validate_spec(vis._inferred_query,ldf)\n    vc = Compiler.compile(ldf,vis._inferred_query,[vis],enumerate_collection=False)\n    vis.data = self[attribute].reset_index()\n",
    "id": "5f54f55b856742dc8bddf0782da7c89c",
    "order_count": 14,
    "time": "2020-07-21T09:24:52.027Z",
    "type": "selectCodeCell"
   },
   {
    "code": "for attribute in self.columns:\n    vis = Vis([index_column_name,attribute])\n    vis._inferred_query = Parser.parse(vis.query)\n    Validator.validate_spec(vis._inferred_query,ldf)\n    vc = Compiler.compile(ldf,vis._inferred_query,[vis],enumerate_collection=False)\n    vis.data = self[attribute].reset_index()\n",
    "id": "5f54f55b856742dc8bddf0782da7c89c",
    "order_count": 14,
    "time": "2020-07-21T09:24:52.036Z",
    "type": "editCodeCell"
   },
   {
    "code": "for attribute in self.columns:\n    vis = Vis([index_column_name,attribute])\n    vis._inferred_query = Parser.parse(vis.query)\n    Validator.validate_spec(vis._inferred_query,ldf)\n    vc = Compiler.compile(ldf,vis._inferred_query,[vis],enumerate_collection=False)\n    vis.data = self[attribute].reset_index()\n",
    "id": "5f54f55b856742dc8bddf0782da7c89c",
    "order_count": 14,
    "time": "2020-07-21T09:24:52.664Z",
    "type": "selectCodeCell"
   },
   {
    "code": "for attribute in self.columns:\n    vis = Vis([index_column_name,attribute])\n    vis._inferred_query = Parser.parse(vis.query)\n    Validator.validate_spec(vis._inferred_query,ldf)\n    vc = Compiler.compile(ldf,vis._inferred_query,[vis],enumerate_collection=False)\n    vis.data = self[attribute].reset_index()\n",
    "id": "5f54f55b856742dc8bddf0782da7c89c",
    "order_count": 14,
    "time": "2020-07-21T09:25:27.536Z",
    "type": "editCodeCell"
   },
   {
    "code": "for attribute in self.columns:\n    vis = Vis([index_column_name,attribute])\n    vis._inferred_query = Parser.parse(vis.query)\n    Validator.validate_spec(vis._inferred_query,ldf)\n    vc = Compiler.compile(ldf,vis._inferred_query,[vis],enumerate_collection=False)\n    vis.data = self[attribute].reset_index()\n",
    "id": "5f54f55b856742dc8bddf0782da7c89c",
    "order_count": 14,
    "time": "2020-07-21T09:25:41.827Z",
    "type": "editCodeCell"
   },
   {
    "code": "import pandas as pd\n%load_ext autoreload\n%autoreload 2\nimport lux",
    "id": "7428a8a53da0452880d1e6c1d21e8324",
    "order_count": 2,
    "time": "2020-07-21T09:25:42.156Z",
    "type": "selectCodeCell"
   },
   {
    "code": "This dataset contains a total of 1295 records of American colleges and their properties, collected by the [US Department of Education](https://collegescorecard.ed.gov/data/documentation/).",
    "id": "d71c5c8d5ca64ce888dbd78140f7092b",
    "order_count": 1,
    "time": "2020-07-21T09:25:42.501Z",
    "type": "selectMarkdownCell"
   },
   {
    "time": "2020-07-21T09:25:44.014Z",
    "type": "kernelRestart"
   },
   {
    "time": "2020-07-21T09:25:44.229Z",
    "type": "kernelRestart"
   },
   {
    "code": "cd ../",
    "id": "a7da79e1a13643cab773017189810627",
    "order_count": 0,
    "time": "2020-07-21T09:25:44.774Z",
    "type": "selectCodeCell"
   },
   {
    "code": "cd ../",
    "id": "a7da79e1a13643cab773017189810627",
    "order_count": 0,
    "time": "2020-07-21T09:25:45.367Z",
    "type": "executeCodeCell"
   },
   {
    "code": "This dataset contains a total of 1295 records of American colleges and their properties, collected by the [US Department of Education](https://collegescorecard.ed.gov/data/documentation/).",
    "id": "d71c5c8d5ca64ce888dbd78140f7092b",
    "order_count": 1,
    "time": "2020-07-21T09:25:45.375Z",
    "type": "selectMarkdownCell"
   },
   {
    "code": "import pandas as pd\n%load_ext autoreload\n%autoreload 2\nimport lux",
    "id": "7428a8a53da0452880d1e6c1d21e8324",
    "order_count": 2,
    "time": "2020-07-21T09:25:45.682Z",
    "type": "selectCodeCell"
   },
   {
    "code": "import pandas as pd\n%load_ext autoreload\n%autoreload 2\nimport lux",
    "id": "7428a8a53da0452880d1e6c1d21e8324",
    "order_count": 2,
    "time": "2020-07-21T09:25:46.064Z",
    "type": "executeCodeCell"
   },
   {
    "code": "df = pd.read_csv(\"lux/data/college.csv\")",
    "id": "78a539bb361149808b28db83c04c6cab",
    "order_count": 3,
    "time": "2020-07-21T09:25:46.084Z",
    "type": "selectCodeCell"
   },
   {
    "code": "df = pd.read_csv(\"lux/data/college.csv\")",
    "id": "78a539bb361149808b28db83c04c6cab",
    "order_count": 3,
    "time": "2020-07-21T09:25:46.584Z",
    "type": "executeCodeCell"
   },
   {
    "code": "groupbyResult = df.groupby(\"Region\").sum()",
    "id": "63be682cd1e444e08c0c4d37f3406a4d",
    "order_count": 4,
    "time": "2020-07-21T09:25:46.596Z",
    "type": "selectCodeCell"
   },
   {
    "code": "cd ../",
    "id": "a7da79e1a13643cab773017189810627",
    "isPrintLuxDf": false,
    "isPrintPandasDf": false,
    "isPrintVis": false,
    "isPrintVisCollection": false,
    "order_count": 0,
    "time": "2020-07-21T09:25:46.642Z",
    "type": "completeCodeCell"
   },
   {
    "code": "groupbyResult = df.groupby(\"Region\").sum()",
    "id": "63be682cd1e444e08c0c4d37f3406a4d",
    "order_count": 4,
    "time": "2020-07-21T09:25:47.079Z",
    "type": "executeCodeCell"
   },
   {
    "code": "groupbyResult.columns",
    "id": "afcb0ab6b2c94ce1b4a2c0e72043f681",
    "order_count": 5,
    "time": "2020-07-21T09:25:47.092Z",
    "type": "selectCodeCell"
   },
   {
    "code": "import pandas as pd\n%load_ext autoreload\n%autoreload 2\nimport lux",
    "id": "7428a8a53da0452880d1e6c1d21e8324",
    "isPrintLuxDf": false,
    "isPrintPandasDf": false,
    "isPrintVis": false,
    "isPrintVisCollection": false,
    "order_count": 2,
    "time": "2020-07-21T09:25:47.177Z",
    "type": "completeCodeCell"
   },
   {
    "time": "2020-07-21T09:25:47.182Z",
    "type": "kernelReady"
   },
   {
    "code": "df = pd.read_csv(\"lux/data/college.csv\")",
    "id": "78a539bb361149808b28db83c04c6cab",
    "isPrintLuxDf": false,
    "isPrintPandasDf": false,
    "isPrintVis": false,
    "isPrintVisCollection": false,
    "order_count": 3,
    "time": "2020-07-21T09:25:47.214Z",
    "type": "completeCodeCell"
   },
   {
    "time": "2020-07-21T09:25:47.221Z",
    "type": "kernelReady"
   },
   {
    "code": "groupbyResult = df.groupby(\"Region\").sum()",
    "id": "63be682cd1e444e08c0c4d37f3406a4d",
    "isPrintLuxDf": false,
    "isPrintPandasDf": false,
    "isPrintVis": false,
    "isPrintVisCollection": false,
    "order_count": 4,
    "time": "2020-07-21T09:25:47.251Z",
    "type": "completeCodeCell"
   },
   {
    "time": "2020-07-21T09:25:47.254Z",
    "type": "kernelReady"
   },
   {
    "code": "groupbyResult.columns",
    "id": "afcb0ab6b2c94ce1b4a2c0e72043f681",
    "order_count": 5,
    "time": "2020-07-21T09:25:48.011Z",
    "type": "executeCodeCell"
   },
   {
    "code": "groupbyResult.index",
    "id": "5fc6580b41064c40895b7446c9722e07",
    "order_count": 6,
    "time": "2020-07-21T09:25:48.029Z",
    "type": "selectCodeCell"
   },
   {
    "code": "groupbyResult.columns",
    "id": "afcb0ab6b2c94ce1b4a2c0e72043f681",
    "isPrintLuxDf": false,
    "isPrintPandasDf": false,
    "isPrintVis": false,
    "isPrintVisCollection": false,
    "order_count": 5,
    "time": "2020-07-21T09:25:48.045Z",
    "type": "completeCodeCell"
   },
   {
    "code": "groupbyResult.index",
    "id": "5fc6580b41064c40895b7446c9722e07",
    "order_count": 6,
    "time": "2020-07-21T09:25:53.018Z",
    "type": "executeCodeCell"
   },
   {
    "code": "df",
    "id": "4491fd772ce14fb185abad29b418acbd",
    "order_count": 7,
    "time": "2020-07-21T09:25:53.034Z",
    "type": "selectCodeCell"
   },
   {
    "code": "groupbyResult.index",
    "id": "5fc6580b41064c40895b7446c9722e07",
    "isPrintLuxDf": false,
    "isPrintPandasDf": false,
    "isPrintVis": false,
    "isPrintVisCollection": false,
    "order_count": 6,
    "time": "2020-07-21T09:25:53.049Z",
    "type": "completeCodeCell"
   },
   {
    "code": "df",
    "id": "4491fd772ce14fb185abad29b418acbd",
    "order_count": 7,
    "time": "2020-07-21T09:25:53.600Z",
    "type": "executeCodeCell"
   },
   {
    "code": "self = groupbyResult\nif (type(self.index) != pd.core.indexes.range.RangeIndex):# if multi-index, then default to pandas output\n    print (\"test\")\n    index_column_name = self.index.name",
    "id": "5e39c1e5c8e740e181980e5d80cfeb44",
    "order_count": 8,
    "time": "2020-07-21T09:25:53.619Z",
    "type": "selectCodeCell"
   },
   {
    "code": "df",
    "id": "4491fd772ce14fb185abad29b418acbd",
    "isPrintLuxDf": false,
    "isPrintPandasDf": true,
    "isPrintVis": false,
    "isPrintVisCollection": false,
    "order_count": 7,
    "time": "2020-07-21T09:25:54.958Z",
    "type": "completeCodeCell"
   },
   {
    "code": "df",
    "id": "4491fd772ce14fb185abad29b418acbd",
    "order_count": 7,
    "time": "2020-07-21T09:25:57.978Z",
    "type": "selectCodeCell"
   },
   {
    "param": "",
    "time": "2020-07-21T09:25:58.027Z",
    "type": "initWidget"
   },
   {
    "param": "",
    "time": "2020-07-21T09:25:58.757Z",
    "type": "initWidget"
   },
   {
    "code": "df",
    "id": "4491fd772ce14fb185abad29b418acbd",
    "order_count": 7,
    "time": "2020-07-21T09:26:01.177Z",
    "type": "selectCodeCell"
   },
   {
    "code": "df",
    "id": "4491fd772ce14fb185abad29b418acbd",
    "order_count": null,
    "time": "2020-07-21T09:26:01.619Z",
    "type": "deleteCodeCell"
   },
   {
    "code": "",
    "id": "d18c6814a7074d78a60f4d05ecaefe30",
    "order_count": 7,
    "time": "2020-07-21T09:26:04.578Z",
    "type": "selectCodeCell"
   },
   {
    "code": "",
    "id": "d18c6814a7074d78a60f4d05ecaefe30",
    "order_count": 7,
    "time": "2020-07-21T09:26:04.802Z",
    "type": "editCodeCell"
   },
   {
    "code": "groupbyResult",
    "id": "d18c6814a7074d78a60f4d05ecaefe30",
    "order_count": 7,
    "time": "2020-07-21T09:26:08.832Z",
    "type": "executeCodeCell"
   },
   {
    "code": "self = groupbyResult\nif (type(self.index) != pd.core.indexes.range.RangeIndex):# if multi-index, then default to pandas output\n    print (\"test\")\n    index_column_name = self.index.name",
    "id": "5e39c1e5c8e740e181980e5d80cfeb44",
    "order_count": 8,
    "time": "2020-07-21T09:26:08.867Z",
    "type": "selectCodeCell"
   },
   {
    "code": "groupbyResult",
    "id": "d18c6814a7074d78a60f4d05ecaefe30",
    "isPrintLuxDf": false,
    "isPrintPandasDf": true,
    "isPrintVis": false,
    "isPrintVisCollection": false,
    "order_count": 7,
    "time": "2020-07-21T09:26:08.929Z",
    "type": "completeCodeCell"
   },
   {
    "code": "groupbyResult",
    "id": "d18c6814a7074d78a60f4d05ecaefe30",
    "order_count": 7,
    "time": "2020-07-21T09:26:10.097Z",
    "type": "selectCodeCell"
   },
   {
    "code": "groupbyResult",
    "id": "d18c6814a7074d78a60f4d05ecaefe30",
    "order_count": 7,
    "time": "2020-07-21T09:26:12.309Z",
    "type": "selectCodeCell"
   },
   {
    "code": "groupbyResult",
    "id": "d18c6814a7074d78a60f4d05ecaefe30",
    "order_count": 7,
    "time": "2020-07-21T09:26:14.303Z",
    "type": "editCodeCell"
   },
   {
    "code": "groupbyResult.unique_values",
    "id": "d18c6814a7074d78a60f4d05ecaefe30",
    "order_count": 7,
    "time": "2020-07-21T09:26:20.913Z",
    "type": "executeCodeCell"
   },
   {
    "code": "self = groupbyResult\nif (type(self.index) != pd.core.indexes.range.RangeIndex):# if multi-index, then default to pandas output\n    print (\"test\")\n    index_column_name = self.index.name",
    "id": "5e39c1e5c8e740e181980e5d80cfeb44",
    "order_count": 8,
    "time": "2020-07-21T09:26:20.947Z",
    "type": "selectCodeCell"
   },
   {
    "code": "groupbyResult.unique_values",
    "id": "d18c6814a7074d78a60f4d05ecaefe30",
    "isPrintLuxDf": false,
    "isPrintPandasDf": false,
    "isPrintVis": false,
    "isPrintVisCollection": false,
    "order_count": 7,
    "time": "2020-07-21T09:26:20.960Z",
    "type": "completeCodeCell"
   },
   {
    "code": "groupbyResult.unique_values",
    "id": "d18c6814a7074d78a60f4d05ecaefe30",
    "order_count": 7,
    "time": "2020-07-21T09:26:21.711Z",
    "type": "selectCodeCell"
   },
   {
    "code": "groupbyResult.unique_values",
    "id": "d18c6814a7074d78a60f4d05ecaefe30",
    "order_count": 7,
    "time": "2020-07-21T09:26:22.871Z",
    "type": "selectCodeCell"
   },
   {
    "code": "groupbyResult.unique_values",
    "id": "d18c6814a7074d78a60f4d05ecaefe30",
    "order_count": null,
    "time": "2020-07-21T09:26:23.224Z",
    "type": "deleteCodeCell"
   },
   {
    "code": "self = groupbyResult\nif (type(self.index) != pd.core.indexes.range.RangeIndex):# if multi-index, then default to pandas output\n    print (\"test\")\n    index_column_name = self.index.name",
    "id": "5e39c1e5c8e740e181980e5d80cfeb44",
    "order_count": 7,
    "time": "2020-07-21T09:26:25.225Z",
    "type": "editCodeCell"
   },
   {
    "code": "self = groupbyResult\nif (type(self.index) != pd.core.indexes.range.RangeIndex):# if multi-index, then default to pandas output\n    print (\"test\")\n    index_column_name = self.index.name",
    "id": "5e39c1e5c8e740e181980e5d80cfeb44",
    "order_count": 7,
    "time": "2020-07-21T09:26:25.342Z",
    "type": "selectCodeCell"
   },
   {
    "code": "self = groupbyResult\nif (type(self.index) != pd.core.indexes.range.RangeIndex):# if multi-index, then default to pandas output\n    print (\"test\")\n    index_column_name = self.index.name",
    "id": "5e39c1e5c8e740e181980e5d80cfeb44",
    "order_count": 7,
    "time": "2020-07-21T09:26:26.236Z",
    "type": "executeCodeCell"
   },
   {
    "code": "index_column_name",
    "id": "635986bd5dba4b92915672975a9641d8",
    "order_count": 8,
    "time": "2020-07-21T09:26:26.272Z",
    "type": "selectCodeCell"
   },
   {
    "code": "self = groupbyResult\nif (type(self.index) != pd.core.indexes.range.RangeIndex):# if multi-index, then default to pandas output\n    print (\"test\")\n    index_column_name = self.index.name",
    "id": "5e39c1e5c8e740e181980e5d80cfeb44",
    "isPrintLuxDf": false,
    "isPrintPandasDf": false,
    "isPrintVis": false,
    "isPrintVisCollection": false,
    "order_count": 7,
    "time": "2020-07-21T09:26:26.286Z",
    "type": "completeCodeCell"
   },
   {
    "code": "from lux.vis.Vis import Vis",
    "id": "ca07cdd3856841c082c7831ab613eb72",
    "order_count": 10,
    "time": "2020-07-21T09:26:29.079Z",
    "type": "selectCodeCell"
   },
   {
    "code": "from lux.vis.Vis import Vis",
    "id": "ca07cdd3856841c082c7831ab613eb72",
    "order_count": 10,
    "time": "2020-07-21T09:26:30.395Z",
    "type": "executeCodeCell"
   },
   {
    "code": "vis = Vis([index_column_name,attribute],df)\nvis._inferred_query",
    "id": "1913b932507a4f4080754c81bbb55969",
    "order_count": 11,
    "time": "2020-07-21T09:26:30.414Z",
    "type": "selectCodeCell"
   },
   {
    "code": "from lux.vis.Vis import Vis",
    "id": "ca07cdd3856841c082c7831ab613eb72",
    "isPrintLuxDf": false,
    "isPrintPandasDf": false,
    "isPrintVis": false,
    "isPrintVisCollection": false,
    "order_count": 10,
    "time": "2020-07-21T09:26:30.421Z",
    "type": "completeCodeCell"
   },
   {
    "code": "vis = Vis([index_column_name,attribute],df)\nvis._inferred_query",
    "id": "1913b932507a4f4080754c81bbb55969",
    "order_count": 11,
    "time": "2020-07-21T09:26:30.720Z",
    "type": "executeCodeCell"
   },
   {
    "code": "from lux.compiler.Parser import Parser\nfrom lux.compiler.Validator import Validator\nfrom lux.compiler.Compiler import Compiler\n",
    "id": "8e597bd78171441cad69ab5c08751967",
    "order_count": 12,
    "time": "2020-07-21T09:26:30.739Z",
    "type": "selectCodeCell"
   },
   {
    "code": "vis = Vis([index_column_name,attribute],df)\nvis._inferred_query",
    "id": "1913b932507a4f4080754c81bbb55969",
    "isPrintLuxDf": false,
    "isPrintPandasDf": false,
    "isPrintVis": false,
    "isPrintVisCollection": false,
    "order_count": 11,
    "time": "2020-07-21T09:26:30.873Z",
    "type": "completeCodeCell"
   },
   {
    "code": "vis = Vis([index_column_name,attribute],df)\nvis._inferred_query",
    "id": "1913b932507a4f4080754c81bbb55969",
    "order_count": 11,
    "time": "2020-07-21T09:26:32.640Z",
    "type": "selectCodeCell"
   },
   {
    "code": "vis = Vis([index_column_name,attribute],df)\nvis._inferred_query",
    "id": "1913b932507a4f4080754c81bbb55969",
    "order_count": null,
    "time": "2020-07-21T09:26:33.729Z",
    "type": "deleteCodeCell"
   },
   {
    "code": "from lux.compiler.Parser import Parser\nfrom lux.compiler.Validator import Validator\nfrom lux.compiler.Compiler import Compiler\n",
    "id": "8e597bd78171441cad69ab5c08751967",
    "order_count": 11,
    "time": "2020-07-21T09:26:34.273Z",
    "type": "editCodeCell"
   },
   {
    "code": "from lux.compiler.Parser import Parser\nfrom lux.compiler.Validator import Validator\nfrom lux.compiler.Compiler import Compiler\n",
    "id": "8e597bd78171441cad69ab5c08751967",
    "order_count": 11,
    "time": "2020-07-21T09:26:35.369Z",
    "type": "executeCodeCell"
   },
   {
    "code": "for attribute in self.columns:\n    vis = Vis([index_column_name,attribute])\n    vis._inferred_query = Parser.parse(vis.query)\n    Validator.validate_spec(vis._inferred_query,ldf)\n    vc = Compiler.compile(ldf,vis._inferred_query,[vis],enumerate_collection=False)\n    vis.data = self[attribute].reset_index()\n",
    "id": "5f54f55b856742dc8bddf0782da7c89c",
    "order_count": 12,
    "time": "2020-07-21T09:26:35.418Z",
    "type": "selectCodeCell"
   },
   {
    "code": "from lux.compiler.Parser import Parser\nfrom lux.compiler.Validator import Validator\nfrom lux.compiler.Compiler import Compiler\n",
    "id": "8e597bd78171441cad69ab5c08751967",
    "isPrintLuxDf": false,
    "isPrintPandasDf": false,
    "isPrintVis": false,
    "isPrintVisCollection": false,
    "order_count": 11,
    "time": "2020-07-21T09:26:35.425Z",
    "type": "completeCodeCell"
   },
   {
    "code": "for attribute in self.columns:\n    vis = Vis([index_column_name,attribute])\n    vis._inferred_query = Parser.parse(vis.query)\n    Validator.validate_spec(vis._inferred_query,ldf)\n    vc = Compiler.compile(ldf,vis._inferred_query,[vis],enumerate_collection=False)\n    vis.data = self[attribute].reset_index()\n",
    "id": "5f54f55b856742dc8bddf0782da7c89c",
    "order_count": 12,
    "time": "2020-07-21T09:26:36.266Z",
    "type": "executeCodeCell"
   },
   {
    "code": "vis._inferred_query = [lux.Clause()]",
    "id": "64b2aeae74224155832a8450b8dad9aa",
    "order_count": 13,
    "time": "2020-07-21T09:26:36.282Z",
    "type": "selectCodeCell"
   },
   {
    "code": "for attribute in self.columns:\n    vis = Vis([index_column_name,attribute])\n    vis._inferred_query = Parser.parse(vis.query)\n    Validator.validate_spec(vis._inferred_query,ldf)\n    vc = Compiler.compile(ldf,vis._inferred_query,[vis],enumerate_collection=False)\n    vis.data = self[attribute].reset_index()\n",
    "id": "5f54f55b856742dc8bddf0782da7c89c",
    "isPrintLuxDf": false,
    "isPrintPandasDf": false,
    "isPrintVis": false,
    "isPrintVisCollection": false,
    "order_count": 12,
    "time": "2020-07-21T09:26:36.295Z",
    "type": "completeCodeCell"
   },
   {
    "code": "vis._inferred_query = [lux.Clause()]",
    "id": "64b2aeae74224155832a8450b8dad9aa",
    "order_count": 13,
    "time": "2020-07-21T09:26:37.426Z",
    "type": "executeCodeCell"
   },
   {
    "code": "vis",
    "id": "bf11bad7ff0f4fa88ce6d28229225f6e",
    "order_count": 14,
    "time": "2020-07-21T09:26:37.444Z",
    "type": "selectCodeCell"
   },
   {
    "code": "vis._inferred_query = [lux.Clause()]",
    "id": "64b2aeae74224155832a8450b8dad9aa",
    "isPrintLuxDf": false,
    "isPrintPandasDf": false,
    "isPrintVis": false,
    "isPrintVisCollection": false,
    "order_count": 13,
    "time": "2020-07-21T09:26:37.449Z",
    "type": "completeCodeCell"
   },
   {
    "code": "for attribute in self.columns:\n    vis = Vis([index_column_name,attribute])\n    vis._inferred_query = Parser.parse(vis.query)\n    Validator.validate_spec(vis._inferred_query,ldf)\n    vc = Compiler.compile(ldf,vis._inferred_query,[vis],enumerate_collection=False)\n    vis.data = self[attribute].reset_index()\n",
    "id": "5f54f55b856742dc8bddf0782da7c89c",
    "order_count": 12,
    "time": "2020-07-21T09:26:41.232Z",
    "type": "selectCodeCell"
   },
   {
    "code": "for attribute in self.columns:\n    vis = Vis([index_column_name,attribute])\n    vis._inferred_query = Parser.parse(vis.query)\n    Validator.validate_spec(vis._inferred_query,ldf)\n    vc = Compiler.compile(ldf,vis._inferred_query,[vis],enumerate_collection=False)\n    vis.data = self[attribute].reset_index()\n",
    "id": "5f54f55b856742dc8bddf0782da7c89c",
    "order_count": 12,
    "time": "2020-07-21T09:26:41.241Z",
    "type": "editCodeCell"
   },
   {
    "code": "for attribute in self.columns:\n    vis = Vis([index_column_name,attribute])\n    vis._inferred_query = Parser.parse(vis.query)\n    Validator.validate_spec(vis._inferred_query,self)\n    vc = Compiler.compile(ldf,vis._inferred_query,[vis],enumerate_collection=False)\n    vis.data = self[attribute].reset_index()\n",
    "id": "5f54f55b856742dc8bddf0782da7c89c",
    "order_count": 12,
    "time": "2020-07-21T09:26:55.483Z",
    "type": "selectCodeCell"
   },
   {
    "code": "for attribute in self.columns:\n    vis = Vis([index_column_name,attribute])\n    vis._inferred_query = Parser.parse(vis.query)\n    Validator.validate_spec(vis._inferred_query,self)\n    vc = Compiler.compile(self,vis._inferred_query,[vis],enumerate_collection=False)\n    vis.data = self[attribute].reset_index()\n",
    "id": "5f54f55b856742dc8bddf0782da7c89c",
    "order_count": 12,
    "time": "2020-07-21T09:26:56.332Z",
    "type": "executeCodeCell"
   },
   {
    "code": "vis._inferred_query = [lux.Clause()]",
    "id": "64b2aeae74224155832a8450b8dad9aa",
    "order_count": 13,
    "time": "2020-07-21T09:26:56.367Z",
    "type": "selectCodeCell"
   },
   {
    "code": "for attribute in self.columns:\n    vis = Vis([index_column_name,attribute])\n    vis._inferred_query = Parser.parse(vis.query)\n    Validator.validate_spec(vis._inferred_query,self)\n    vc = Compiler.compile(self,vis._inferred_query,[vis],enumerate_collection=False)\n    vis.data = self[attribute].reset_index()\n",
    "id": "5f54f55b856742dc8bddf0782da7c89c",
    "isPrintLuxDf": false,
    "isPrintPandasDf": false,
    "isPrintVis": false,
    "isPrintVisCollection": false,
    "order_count": 12,
    "time": "2020-07-21T09:26:56.380Z",
    "type": "completeCodeCell"
   },
   {
    "code": "for attribute in self.columns:\n    vis = Vis([index_column_name,attribute])\n    vis._inferred_query = Parser.parse(vis.query)\n    Validator.validate_spec(vis._inferred_query,self)\n    vc = Compiler.compile(self,vis._inferred_query,[vis],enumerate_collection=False)\n    vis.data = self[attribute].reset_index()\n",
    "id": "5f54f55b856742dc8bddf0782da7c89c",
    "order_count": 12,
    "time": "2020-07-21T09:27:17.637Z",
    "type": "selectCodeCell"
   },
   {
    "code": "for attribute in self.columns:\n    vis = Vis([index_column_name,attribute])\n    vis._inferred_query = Parser.parse(vis.query)\n    Validator.validate_spec(vis._inferred_query,self)\n    vc = Compiler.compile(self,vis._inferred_query,[vis],enumerate_collection=False)\n    vis.data = self[attribute].reset_index()\n",
    "id": "5f54f55b856742dc8bddf0782da7c89c",
    "order_count": 12,
    "time": "2020-07-21T09:27:17.646Z",
    "type": "editCodeCell"
   },
   {
    "code": "for attribute in self.columns:\n    vis = Vis([index_column_name,attribute])\n    vis._inferred_query = Parser.parse(vis.query)\n    Validator.validate_spec(vis._inferred_query,self)\n    vc = Compiler.compile(self,vis._inferred_query,[vis],enumerate_collection=False)\n    vis.data = self[attribute].reset_index()\n",
    "id": "5f54f55b856742dc8bddf0782da7c89c",
    "order_count": 12,
    "time": "2020-07-21T09:27:21.425Z",
    "type": "selectCodeCell"
   },
   {
    "code": "",
    "id": "755bf39fce904098a3adafb5c9db533b",
    "order_count": 12,
    "time": "2020-07-21T09:27:22.358Z",
    "type": "selectCodeCell"
   },
   {
    "code": "",
    "id": "755bf39fce904098a3adafb5c9db533b",
    "order_count": 12,
    "time": "2020-07-21T09:27:22.529Z",
    "type": "editCodeCell"
   },
   {
    "code": "self[index_column_name]",
    "id": "755bf39fce904098a3adafb5c9db533b",
    "order_count": 12,
    "time": "2020-07-21T09:27:35.708Z",
    "type": "executeCodeCell"
   },
   {
    "code": "for attribute in self.columns:\n    vis = Vis([index_column_name,attribute])\n    vis._inferred_query = Parser.parse(vis.query)\n    Validator.validate_spec(vis._inferred_query,self)\n    vc = Compiler.compile(self,vis._inferred_query,[vis],enumerate_collection=False)\n    vis.data = self[attribute].reset_index()\n",
    "id": "5f54f55b856742dc8bddf0782da7c89c",
    "order_count": 13,
    "time": "2020-07-21T09:27:35.752Z",
    "type": "selectCodeCell"
   },
   {
    "code": "self[index_column_name]",
    "id": "755bf39fce904098a3adafb5c9db533b",
    "isPrintLuxDf": false,
    "isPrintPandasDf": false,
    "isPrintVis": false,
    "isPrintVisCollection": false,
    "order_count": 12,
    "time": "2020-07-21T09:27:35.781Z",
    "type": "completeCodeCell"
   },
   {
    "code": "self[index_column_name]",
    "id": "755bf39fce904098a3adafb5c9db533b",
    "order_count": 12,
    "time": "2020-07-21T09:27:36.240Z",
    "type": "selectCodeCell"
   },
   {
    "code": "self[index_column_name]",
    "id": "755bf39fce904098a3adafb5c9db533b",
    "order_count": 12,
    "time": "2020-07-21T09:27:36.678Z",
    "type": "editCodeCell"
   },
   {
    "code": "self.data",
    "id": "755bf39fce904098a3adafb5c9db533b",
    "order_count": 12,
    "time": "2020-07-21T09:27:54.480Z",
    "type": "selectCodeCell"
   },
   {
    "code": "self.data",
    "id": "755bf39fce904098a3adafb5c9db533b",
    "order_count": null,
    "time": "2020-07-21T09:27:54.820Z",
    "type": "deleteCodeCell"
   },
   {
    "code": "for attribute in self.columns:\n    vis = Vis([index_column_name,attribute])\n    vis._inferred_query = Parser.parse(vis.query)\n    Validator.validate_spec(vis._inferred_query,self)\n    vc = Compiler.compile(self,vis._inferred_query,[vis],enumerate_collection=False)\n    vis.data = self[attribute].reset_index()\n",
    "id": "5f54f55b856742dc8bddf0782da7c89c",
    "order_count": 12,
    "time": "2020-07-21T09:27:59.142Z",
    "type": "editCodeCell"
   },
   {
    "code": "for attribute in self.columns:\n    vis = Vis([index_column_name,attribute])\n    vis._inferred_query = Parser.parse(vis.query)\n    Validator.validate_spec(vis._inferred_query,self)\n    vc = Compiler.compile(self,vis._inferred_query,[vis],enumerate_collection=False)\n    vis.data = self[attribute].reset_index()\n",
    "id": "5f54f55b856742dc8bddf0782da7c89c",
    "order_count": 12,
    "time": "2020-07-21T09:28:43.287Z",
    "type": "editCodeCell"
   },
   {
    "code": "for attribute in self.columns:\n    vis = Vis([index_column_name,attribute])\n    vis._inferred_query = Parser.parse(vis.query)\n    Validator.validate_spec(vis._inferred_query,self)\n    vc = Compiler.compile(self,vis._inferred_query,[vis],enumerate_collection=False)\n    vis.data = self[attribute].reset_index()\n",
    "id": "5f54f55b856742dc8bddf0782da7c89c",
    "order_count": 12,
    "time": "2020-07-21T09:28:43.670Z",
    "type": "selectCodeCell"
   },
   {
    "code": "",
    "id": "2d11ac06a5504d59b55463095873b369",
    "order_count": 12,
    "time": "2020-07-21T09:28:43.916Z",
    "type": "selectCodeCell"
   },
   {
    "code": "",
    "id": "2d11ac06a5504d59b55463095873b369",
    "order_count": 12,
    "time": "2020-07-21T09:28:44.243Z",
    "type": "editCodeCell"
   },
   {
    "code": "df.index",
    "id": "2d11ac06a5504d59b55463095873b369",
    "order_count": 12,
    "time": "2020-07-21T09:28:46.116Z",
    "type": "executeCodeCell"
   },
   {
    "code": "for attribute in self.columns:\n    vis = Vis([index_column_name,attribute])\n    vis._inferred_query = Parser.parse(vis.query)\n    Validator.validate_spec(vis._inferred_query,self)\n    vc = Compiler.compile(self,vis._inferred_query,[vis],enumerate_collection=False)\n    vis.data = self[attribute].reset_index()\n",
    "id": "5f54f55b856742dc8bddf0782da7c89c",
    "order_count": 13,
    "time": "2020-07-21T09:28:46.155Z",
    "type": "selectCodeCell"
   },
   {
    "code": "df.index",
    "id": "2d11ac06a5504d59b55463095873b369",
    "isPrintLuxDf": false,
    "isPrintPandasDf": false,
    "isPrintVis": false,
    "isPrintVisCollection": false,
    "order_count": 12,
    "time": "2020-07-21T09:28:46.163Z",
    "type": "completeCodeCell"
   },
   {
    "code": "df.index",
    "id": "2d11ac06a5504d59b55463095873b369",
    "order_count": 12,
    "time": "2020-07-21T09:28:46.850Z",
    "type": "selectCodeCell"
   },
   {
    "code": "df.index",
    "id": "2d11ac06a5504d59b55463095873b369",
    "order_count": 12,
    "time": "2020-07-21T09:28:47.138Z",
    "type": "editCodeCell"
   },
   {
    "code": "self.index",
    "id": "2d11ac06a5504d59b55463095873b369",
    "order_count": 12,
    "time": "2020-07-21T09:28:50.601Z",
    "type": "executeCodeCell"
   },
   {
    "code": "for attribute in self.columns:\n    vis = Vis([index_column_name,attribute])\n    vis._inferred_query = Parser.parse(vis.query)\n    Validator.validate_spec(vis._inferred_query,self)\n    vc = Compiler.compile(self,vis._inferred_query,[vis],enumerate_collection=False)\n    vis.data = self[attribute].reset_index()\n",
    "id": "5f54f55b856742dc8bddf0782da7c89c",
    "order_count": 13,
    "time": "2020-07-21T09:28:50.634Z",
    "type": "selectCodeCell"
   },
   {
    "code": "self.index",
    "id": "2d11ac06a5504d59b55463095873b369",
    "isPrintLuxDf": false,
    "isPrintPandasDf": false,
    "isPrintVis": false,
    "isPrintVisCollection": false,
    "order_count": 12,
    "time": "2020-07-21T09:28:50.646Z",
    "type": "completeCodeCell"
   },
   {
    "code": "self.index",
    "id": "2d11ac06a5504d59b55463095873b369",
    "order_count": 12,
    "time": "2020-07-21T09:28:51.237Z",
    "type": "selectCodeCell"
   },
   {
    "code": "self.index",
    "id": "2d11ac06a5504d59b55463095873b369",
    "order_count": 12,
    "time": "2020-07-21T09:28:51.491Z",
    "type": "editCodeCell"
   },
   {
    "code": "len(self.index)",
    "id": "2d11ac06a5504d59b55463095873b369",
    "order_count": 12,
    "time": "2020-07-21T09:29:27.301Z",
    "type": "editCodeCell"
   },
   {
    "code": "len(self.index)",
    "id": "2d11ac06a5504d59b55463095873b369",
    "order_count": 12,
    "time": "2020-07-21T09:29:27.718Z",
    "type": "selectCodeCell"
   },
   {
    "code": "",
    "id": "4d39a5a778f84200b06038aa00faad71",
    "order_count": 12,
    "time": "2020-07-21T09:29:28.731Z",
    "type": "selectCodeCell"
   },
   {
    "code": "",
    "id": "4d39a5a778f84200b06038aa00faad71",
    "order_count": 12,
    "time": "2020-07-21T09:29:28.953Z",
    "type": "editCodeCell"
   },
   {
    "code": "self = groupbyResult\nif (type(self.index) != pd.core.indexes.range.RangeIndex):# if multi-index, then default to pandas output\n    print (\"test\")\n    index_column_name = self.index.name",
    "id": "5e39c1e5c8e740e181980e5d80cfeb44",
    "order_count": 7,
    "time": "2020-07-21T09:29:34.577Z",
    "type": "selectCodeCell"
   },
   {
    "code": "self = groupbyResult\nif (type(self.index) != pd.core.indexes.range.RangeIndex):# if multi-index, then default to pandas output\n    print (\"test\")\n    index_column_name = self.index.name",
    "id": "5e39c1e5c8e740e181980e5d80cfeb44",
    "order_count": 7,
    "time": "2020-07-21T09:29:34.583Z",
    "type": "editCodeCell"
   },
   {
    "code": "self = groupbyResult\nif (type(self.index) != pd.core.indexes.range.RangeIndex):# if multi-index, then default to pandas output\n    print (\"test\")\n    index_column_name = self.index.name",
    "id": "5e39c1e5c8e740e181980e5d80cfeb44",
    "order_count": 7,
    "time": "2020-07-21T09:29:49.057Z",
    "type": "editCodeCell"
   },
   {
    "code": "self = groupbyResult\nif (type(self.index) != pd.core.indexes.range.RangeIndex):# if multi-index, then default to pandas output\n    print (\"test\")\n    index_column_name = self.index.name",
    "id": "5e39c1e5c8e740e181980e5d80cfeb44",
    "order_count": 7,
    "time": "2020-07-21T09:29:51.428Z",
    "type": "selectCodeCell"
   },
   {
    "code": "self = groupbyResult\nif (type(self.index) != pd.core.indexes.range.RangeIndex):# if multi-index, then default to pandas output\n    print (\"test\")\n    index_column_name = self.index.name",
    "id": "5e39c1e5c8e740e181980e5d80cfeb44",
    "order_count": 7,
    "time": "2020-07-21T09:30:17.345Z",
    "type": "editCodeCell"
   },
   {
    "code": "import pandas as pd\n%load_ext autoreload\n%autoreload 2\nimport lux",
    "id": "7428a8a53da0452880d1e6c1d21e8324",
    "order_count": 2,
    "time": "2020-07-21T09:30:18.330Z",
    "type": "selectCodeCell"
   },
   {
    "code": "import pandas as pd\n%load_ext autoreload\n%autoreload 2\nimport lux",
    "id": "7428a8a53da0452880d1e6c1d21e8324",
    "order_count": 2,
    "time": "2020-07-21T09:30:18.337Z",
    "type": "editCodeCell"
   },
   {
    "time": "2020-07-21T09:30:19.793Z",
    "type": "kernelRestart"
   },
   {
    "code": "This dataset contains a total of 1295 records of American colleges and their properties, collected by the [US Department of Education](https://collegescorecard.ed.gov/data/documentation/).",
    "id": "d71c5c8d5ca64ce888dbd78140f7092b",
    "order_count": 1,
    "time": "2020-07-21T09:30:20.308Z",
    "type": "selectMarkdownCell"
   },
   {
    "code": "cd ../",
    "id": "a7da79e1a13643cab773017189810627",
    "order_count": 0,
    "time": "2020-07-21T09:30:20.472Z",
    "type": "selectCodeCell"
   },
   {
    "code": "cd ../",
    "id": "a7da79e1a13643cab773017189810627",
    "order_count": 0,
    "time": "2020-07-21T09:30:21.099Z",
    "type": "executeCodeCell"
   },
   {
    "code": "This dataset contains a total of 1295 records of American colleges and their properties, collected by the [US Department of Education](https://collegescorecard.ed.gov/data/documentation/).",
    "id": "d71c5c8d5ca64ce888dbd78140f7092b",
    "order_count": 1,
    "time": "2020-07-21T09:30:21.107Z",
    "type": "selectMarkdownCell"
   },
   {
    "code": "import pandas as pd\n%load_ext autoreload\n%autoreload 2\nimport lux",
    "id": "7428a8a53da0452880d1e6c1d21e8324",
    "order_count": 2,
    "time": "2020-07-21T09:30:21.253Z",
    "type": "selectCodeCell"
   },
   {
    "code": "import pandas as pd\n%load_ext autoreload\n%autoreload 2\nimport lux",
    "id": "7428a8a53da0452880d1e6c1d21e8324",
    "order_count": 2,
    "time": "2020-07-21T09:30:21.419Z",
    "type": "executeCodeCell"
   },
   {
    "code": "df = pd.read_csv(\"lux/data/college.csv\")",
    "id": "78a539bb361149808b28db83c04c6cab",
    "order_count": 3,
    "time": "2020-07-21T09:30:21.431Z",
    "type": "selectCodeCell"
   },
   {
    "code": "cd ../",
    "id": "a7da79e1a13643cab773017189810627",
    "isPrintLuxDf": false,
    "isPrintPandasDf": false,
    "isPrintVis": false,
    "isPrintVisCollection": false,
    "order_count": 0,
    "time": "2020-07-21T09:30:21.555Z",
    "type": "completeCodeCell"
   },
   {
    "code": "df = pd.read_csv(\"lux/data/college.csv\")",
    "id": "78a539bb361149808b28db83c04c6cab",
    "order_count": 3,
    "time": "2020-07-21T09:30:21.602Z",
    "type": "executeCodeCell"
   },
   {
    "code": "groupbyResult = df.groupby(\"Region\").sum()",
    "id": "63be682cd1e444e08c0c4d37f3406a4d",
    "order_count": 4,
    "time": "2020-07-21T09:30:21.615Z",
    "type": "selectCodeCell"
   },
   {
    "code": "import pandas as pd\n%load_ext autoreload\n%autoreload 2\nimport lux",
    "id": "7428a8a53da0452880d1e6c1d21e8324",
    "isPrintLuxDf": false,
    "isPrintPandasDf": false,
    "isPrintVis": false,
    "isPrintVisCollection": false,
    "order_count": 2,
    "time": "2020-07-21T09:30:21.883Z",
    "type": "completeCodeCell"
   },
   {
    "time": "2020-07-21T09:30:21.889Z",
    "type": "kernelReady"
   },
   {
    "code": "df = pd.read_csv(\"lux/data/college.csv\")",
    "id": "78a539bb361149808b28db83c04c6cab",
    "isPrintLuxDf": false,
    "isPrintPandasDf": false,
    "isPrintVis": false,
    "isPrintVisCollection": false,
    "order_count": 3,
    "time": "2020-07-21T09:30:21.920Z",
    "type": "completeCodeCell"
   },
   {
    "code": "groupbyResult = df.groupby(\"Region\").sum()",
    "id": "63be682cd1e444e08c0c4d37f3406a4d",
    "order_count": 4,
    "time": "2020-07-21T09:30:21.978Z",
    "type": "executeCodeCell"
   },
   {
    "code": "groupbyResult.columns",
    "id": "afcb0ab6b2c94ce1b4a2c0e72043f681",
    "order_count": 5,
    "time": "2020-07-21T09:30:21.990Z",
    "type": "selectCodeCell"
   },
   {
    "code": "groupbyResult = df.groupby(\"Region\").sum()",
    "id": "63be682cd1e444e08c0c4d37f3406a4d",
    "isPrintLuxDf": false,
    "isPrintPandasDf": false,
    "isPrintVis": false,
    "isPrintVisCollection": false,
    "order_count": 4,
    "time": "2020-07-21T09:30:22.172Z",
    "type": "completeCodeCell"
   },
   {
    "code": "groupbyResult.columns",
    "id": "afcb0ab6b2c94ce1b4a2c0e72043f681",
    "order_count": 5,
    "time": "2020-07-21T09:30:22.298Z",
    "type": "executeCodeCell"
   },
   {
    "code": "groupbyResult.index",
    "id": "5fc6580b41064c40895b7446c9722e07",
    "order_count": 6,
    "time": "2020-07-21T09:30:22.311Z",
    "type": "selectCodeCell"
   },
   {
    "code": "groupbyResult.columns",
    "id": "afcb0ab6b2c94ce1b4a2c0e72043f681",
    "isPrintLuxDf": false,
    "isPrintPandasDf": false,
    "isPrintVis": false,
    "isPrintVisCollection": false,
    "order_count": 5,
    "time": "2020-07-21T09:30:22.324Z",
    "type": "completeCodeCell"
   },
   {
    "code": "groupbyResult.columns",
    "id": "afcb0ab6b2c94ce1b4a2c0e72043f681",
    "order_count": 5,
    "time": "2020-07-21T09:30:23.244Z",
    "type": "selectCodeCell"
   },
   {
    "code": "groupbyResult = df.groupby(\"Region\").sum()",
    "id": "63be682cd1e444e08c0c4d37f3406a4d",
    "order_count": 4,
    "time": "2020-07-21T09:30:23.510Z",
    "type": "selectCodeCell"
   },
   {
    "code": "df = pd.read_csv(\"lux/data/college.csv\")",
    "id": "78a539bb361149808b28db83c04c6cab",
    "order_count": 3,
    "time": "2020-07-21T09:30:23.709Z",
    "type": "selectCodeCell"
   },
   {
    "code": "groupbyResult = df.groupby(\"Region\").sum()",
    "id": "63be682cd1e444e08c0c4d37f3406a4d",
    "order_count": 4,
    "time": "2020-07-21T09:30:59.999Z",
    "type": "selectCodeCell"
   },
   {
    "time": "2020-07-21T09:31:01.364Z",
    "type": "kernelRestart"
   },
   {
    "time": "2020-07-21T09:31:01.517Z",
    "type": "kernelRestart"
   },
   {
    "code": "df = pd.read_csv(\"lux/data/college.csv\")",
    "id": "78a539bb361149808b28db83c04c6cab",
    "order_count": 3,
    "time": "2020-07-21T09:31:02.171Z",
    "type": "selectCodeCell"
   },
   {
    "code": "import pandas as pd\n%load_ext autoreload\n%autoreload 2\nimport lux",
    "id": "7428a8a53da0452880d1e6c1d21e8324",
    "order_count": 2,
    "time": "2020-07-21T09:31:02.354Z",
    "type": "selectCodeCell"
   },
   {
    "code": "This dataset contains a total of 1295 records of American colleges and their properties, collected by the [US Department of Education](https://collegescorecard.ed.gov/data/documentation/).",
    "id": "d71c5c8d5ca64ce888dbd78140f7092b",
    "order_count": 1,
    "time": "2020-07-21T09:31:02.515Z",
    "type": "selectMarkdownCell"
   },
   {
    "code": "cd ../",
    "id": "a7da79e1a13643cab773017189810627",
    "order_count": 0,
    "time": "2020-07-21T09:31:02.663Z",
    "type": "selectCodeCell"
   },
   {
    "time": "2020-07-21T09:31:02.744Z",
    "type": "kernelReady"
   },
   {
    "time": "2020-07-21T09:31:02.777Z",
    "type": "kernelReady"
   },
   {
    "code": "cd ../",
    "id": "a7da79e1a13643cab773017189810627",
    "order_count": 0,
    "time": "2020-07-21T09:31:03.030Z",
    "type": "executeCodeCell"
   },
   {
    "code": "This dataset contains a total of 1295 records of American colleges and their properties, collected by the [US Department of Education](https://collegescorecard.ed.gov/data/documentation/).",
    "id": "d71c5c8d5ca64ce888dbd78140f7092b",
    "order_count": 1,
    "time": "2020-07-21T09:31:03.040Z",
    "type": "selectMarkdownCell"
   },
   {
    "code": "cd ../",
    "id": "a7da79e1a13643cab773017189810627",
    "isPrintLuxDf": false,
    "isPrintPandasDf": false,
    "isPrintVis": false,
    "isPrintVisCollection": false,
    "order_count": 0,
    "time": "2020-07-21T09:31:03.059Z",
    "type": "completeCodeCell"
   },
   {
    "code": "import pandas as pd\n%load_ext autoreload\n%autoreload 2\nimport lux",
    "id": "7428a8a53da0452880d1e6c1d21e8324",
    "order_count": 2,
    "time": "2020-07-21T09:31:03.208Z",
    "type": "selectCodeCell"
   },
   {
    "code": "import pandas as pd\n%load_ext autoreload\n%autoreload 2\nimport lux",
    "id": "7428a8a53da0452880d1e6c1d21e8324",
    "order_count": 2,
    "time": "2020-07-21T09:31:03.327Z",
    "type": "executeCodeCell"
   },
   {
    "code": "df = pd.read_csv(\"lux/data/college.csv\")",
    "id": "78a539bb361149808b28db83c04c6cab",
    "order_count": 3,
    "time": "2020-07-21T09:31:03.340Z",
    "type": "selectCodeCell"
   },
   {
    "code": "df = pd.read_csv(\"lux/data/college.csv\")",
    "id": "78a539bb361149808b28db83c04c6cab",
    "order_count": 3,
    "time": "2020-07-21T09:31:03.445Z",
    "type": "executeCodeCell"
   },
   {
    "code": "groupbyResult = df.groupby(\"Region\").sum()",
    "id": "63be682cd1e444e08c0c4d37f3406a4d",
    "order_count": 4,
    "time": "2020-07-21T09:31:03.464Z",
    "type": "selectCodeCell"
   },
   {
    "code": "groupbyResult = df.groupby(\"Region\").sum()",
    "id": "63be682cd1e444e08c0c4d37f3406a4d",
    "order_count": 4,
    "time": "2020-07-21T09:31:03.711Z",
    "type": "executeCodeCell"
   },
   {
    "code": "groupbyResult.columns",
    "id": "afcb0ab6b2c94ce1b4a2c0e72043f681",
    "order_count": 5,
    "time": "2020-07-21T09:31:03.723Z",
    "type": "selectCodeCell"
   },
   {
    "code": "import pandas as pd\n%load_ext autoreload\n%autoreload 2\nimport lux",
    "id": "7428a8a53da0452880d1e6c1d21e8324",
    "isPrintLuxDf": false,
    "isPrintPandasDf": false,
    "isPrintVis": false,
    "isPrintVisCollection": false,
    "order_count": 2,
    "time": "2020-07-21T09:31:03.733Z",
    "type": "completeCodeCell"
   },
   {
    "code": "df = pd.read_csv(\"lux/data/college.csv\")",
    "id": "78a539bb361149808b28db83c04c6cab",
    "isPrintLuxDf": false,
    "isPrintPandasDf": false,
    "isPrintVis": false,
    "isPrintVisCollection": false,
    "order_count": 3,
    "time": "2020-07-21T09:31:03.741Z",
    "type": "completeCodeCell"
   },
   {
    "code": "groupbyResult = df.groupby(\"Region\").sum()",
    "id": "63be682cd1e444e08c0c4d37f3406a4d",
    "isPrintLuxDf": false,
    "isPrintPandasDf": false,
    "isPrintVis": false,
    "isPrintVisCollection": false,
    "order_count": 4,
    "time": "2020-07-21T09:31:03.773Z",
    "type": "completeCodeCell"
   },
   {
    "code": "groupbyResult.columns",
    "id": "afcb0ab6b2c94ce1b4a2c0e72043f681",
    "order_count": 5,
    "time": "2020-07-21T09:31:04.951Z",
    "type": "executeCodeCell"
   },
   {
    "code": "groupbyResult.index",
    "id": "5fc6580b41064c40895b7446c9722e07",
    "order_count": 6,
    "time": "2020-07-21T09:31:04.963Z",
    "type": "selectCodeCell"
   },
   {
    "code": "groupbyResult.columns",
    "id": "afcb0ab6b2c94ce1b4a2c0e72043f681",
    "isPrintLuxDf": false,
    "isPrintPandasDf": false,
    "isPrintVis": false,
    "isPrintVisCollection": false,
    "order_count": 5,
    "time": "2020-07-21T09:31:04.977Z",
    "type": "completeCodeCell"
   },
   {
    "code": "groupbyResult.index",
    "id": "5fc6580b41064c40895b7446c9722e07",
    "order_count": 6,
    "time": "2020-07-21T09:31:06.015Z",
    "type": "executeCodeCell"
   },
   {
    "code": "self = groupbyResult\nif (type(self.index) != pd.core.indexes.range.RangeIndex):# if multi-index, then default to pandas output\n    print (\"test\")\n    index_column_name = self.index.name",
    "id": "5e39c1e5c8e740e181980e5d80cfeb44",
    "order_count": 7,
    "time": "2020-07-21T09:31:06.038Z",
    "type": "selectCodeCell"
   },
   {
    "code": "groupbyResult.index",
    "id": "5fc6580b41064c40895b7446c9722e07",
    "isPrintLuxDf": false,
    "isPrintPandasDf": false,
    "isPrintVis": false,
    "isPrintVisCollection": false,
    "order_count": 6,
    "time": "2020-07-21T09:31:06.053Z",
    "type": "completeCodeCell"
   },
   {
    "code": "self = groupbyResult\nif (type(self.index) != pd.core.indexes.range.RangeIndex):# if multi-index, then default to pandas output\n    print (\"test\")\n    index_column_name = self.index.name",
    "id": "5e39c1e5c8e740e181980e5d80cfeb44",
    "order_count": 7,
    "time": "2020-07-21T09:31:06.911Z",
    "type": "executeCodeCell"
   },
   {
    "code": "index_column_name",
    "id": "635986bd5dba4b92915672975a9641d8",
    "order_count": 8,
    "time": "2020-07-21T09:31:06.928Z",
    "type": "selectCodeCell"
   },
   {
    "code": "self = groupbyResult\nif (type(self.index) != pd.core.indexes.range.RangeIndex):# if multi-index, then default to pandas output\n    print (\"test\")\n    index_column_name = self.index.name",
    "id": "5e39c1e5c8e740e181980e5d80cfeb44",
    "isPrintLuxDf": false,
    "isPrintPandasDf": false,
    "isPrintVis": false,
    "isPrintVisCollection": false,
    "order_count": 7,
    "time": "2020-07-21T09:31:06.944Z",
    "type": "completeCodeCell"
   },
   {
    "code": "index_column_name",
    "id": "635986bd5dba4b92915672975a9641d8",
    "order_count": 8,
    "time": "2020-07-21T09:31:08.728Z",
    "type": "executeCodeCell"
   },
   {
    "code": "# self.reset_index()",
    "id": "dc65928dcab74a518ec6aeee3d2abc9f",
    "order_count": 9,
    "time": "2020-07-21T09:31:08.744Z",
    "type": "selectCodeCell"
   },
   {
    "code": "index_column_name",
    "id": "635986bd5dba4b92915672975a9641d8",
    "isPrintLuxDf": false,
    "isPrintPandasDf": false,
    "isPrintVis": false,
    "isPrintVisCollection": false,
    "order_count": 8,
    "time": "2020-07-21T09:31:08.757Z",
    "type": "completeCodeCell"
   },
   {
    "code": "",
    "id": "bfee35d92d7e4f288f7cc1b9bcd3df5b",
    "order_count": 9,
    "time": "2020-07-21T09:31:09.335Z",
    "type": "selectCodeCell"
   },
   {
    "code": "",
    "id": "bfee35d92d7e4f288f7cc1b9bcd3df5b",
    "order_count": 9,
    "time": "2020-07-21T09:31:09.413Z",
    "type": "editCodeCell"
   },
   {
    "code": "d",
    "id": "bfee35d92d7e4f288f7cc1b9bcd3df5b",
    "order_count": null,
    "time": "2020-07-21T09:31:11.713Z",
    "type": "deleteCodeCell"
   },
   {
    "code": "# self.reset_index()",
    "id": "dc65928dcab74a518ec6aeee3d2abc9f",
    "order_count": 9,
    "time": "2020-07-21T09:31:12.336Z",
    "type": "executeCodeCell"
   },
   {
    "code": "from lux.vis.Vis import Vis",
    "id": "ca07cdd3856841c082c7831ab613eb72",
    "order_count": 10,
    "time": "2020-07-21T09:31:12.352Z",
    "type": "selectCodeCell"
   },
   {
    "code": "# self.reset_index()",
    "id": "dc65928dcab74a518ec6aeee3d2abc9f",
    "isPrintLuxDf": false,
    "isPrintPandasDf": false,
    "isPrintVis": false,
    "isPrintVisCollection": false,
    "order_count": 9,
    "time": "2020-07-21T09:31:12.359Z",
    "type": "completeCodeCell"
   },
   {
    "code": "from lux.vis.Vis import Vis",
    "id": "ca07cdd3856841c082c7831ab613eb72",
    "order_count": 10,
    "time": "2020-07-21T09:31:12.518Z",
    "type": "executeCodeCell"
   },
   {
    "code": "from lux.compiler.Parser import Parser\nfrom lux.compiler.Validator import Validator\nfrom lux.compiler.Compiler import Compiler\n",
    "id": "8e597bd78171441cad69ab5c08751967",
    "order_count": 11,
    "time": "2020-07-21T09:31:12.535Z",
    "type": "selectCodeCell"
   },
   {
    "code": "from lux.vis.Vis import Vis",
    "id": "ca07cdd3856841c082c7831ab613eb72",
    "isPrintLuxDf": false,
    "isPrintPandasDf": false,
    "isPrintVis": false,
    "isPrintVisCollection": false,
    "order_count": 10,
    "time": "2020-07-21T09:31:12.540Z",
    "type": "completeCodeCell"
   },
   {
    "code": "from lux.compiler.Parser import Parser\nfrom lux.compiler.Validator import Validator\nfrom lux.compiler.Compiler import Compiler\n",
    "id": "8e597bd78171441cad69ab5c08751967",
    "order_count": 11,
    "time": "2020-07-21T09:31:12.684Z",
    "type": "executeCodeCell"
   },
   {
    "code": "",
    "id": "4d39a5a778f84200b06038aa00faad71",
    "order_count": 12,
    "time": "2020-07-21T09:31:12.699Z",
    "type": "selectCodeCell"
   },
   {
    "code": "from lux.compiler.Parser import Parser\nfrom lux.compiler.Validator import Validator\nfrom lux.compiler.Compiler import Compiler\n",
    "id": "8e597bd78171441cad69ab5c08751967",
    "isPrintLuxDf": false,
    "isPrintPandasDf": false,
    "isPrintVis": false,
    "isPrintVisCollection": false,
    "order_count": 11,
    "time": "2020-07-21T09:31:12.706Z",
    "type": "completeCodeCell"
   },
   {
    "code": "len(self.index)",
    "id": "2d11ac06a5504d59b55463095873b369",
    "order_count": 13,
    "time": "2020-07-21T09:31:13.162Z",
    "type": "selectCodeCell"
   },
   {
    "code": "",
    "id": "4d39a5a778f84200b06038aa00faad71",
    "order_count": 12,
    "time": "2020-07-21T09:31:14.526Z",
    "type": "selectCodeCell"
   },
   {
    "code": "",
    "id": "4d39a5a778f84200b06038aa00faad71",
    "order_count": null,
    "time": "2020-07-21T09:31:15.138Z",
    "type": "deleteCodeCell"
   },
   {
    "code": "len(self.index)",
    "id": "2d11ac06a5504d59b55463095873b369",
    "order_count": null,
    "time": "2020-07-21T09:31:15.576Z",
    "type": "deleteCodeCell"
   },
   {
    "code": "for attribute in self.columns:\n    vis = Vis([index_column_name,attribute])\n    vis._inferred_query = Parser.parse(vis.query)\n    Validator.validate_spec(vis._inferred_query,self)\n    vc = Compiler.compile(self,vis._inferred_query,[vis],enumerate_collection=False)\n    vis.data = self[attribute].reset_index()\n",
    "id": "5f54f55b856742dc8bddf0782da7c89c",
    "order_count": 12,
    "time": "2020-07-21T09:31:16.217Z",
    "type": "executeCodeCell"
   },
   {
    "code": "vis._inferred_query = [lux.Clause()]",
    "id": "64b2aeae74224155832a8450b8dad9aa",
    "order_count": 13,
    "time": "2020-07-21T09:31:16.233Z",
    "type": "selectCodeCell"
   },
   {
    "code": "for attribute in self.columns:\n    vis = Vis([index_column_name,attribute])\n    vis._inferred_query = Parser.parse(vis.query)\n    Validator.validate_spec(vis._inferred_query,self)\n    vc = Compiler.compile(self,vis._inferred_query,[vis],enumerate_collection=False)\n    vis.data = self[attribute].reset_index()\n",
    "id": "5f54f55b856742dc8bddf0782da7c89c",
    "isPrintLuxDf": false,
    "isPrintPandasDf": false,
    "isPrintVis": false,
    "isPrintVisCollection": false,
    "order_count": 12,
    "time": "2020-07-21T09:31:16.351Z",
    "type": "completeCodeCell"
   },
   {
    "code": "for attribute in self.columns:\n    vis = Vis([index_column_name,attribute])\n    vis._inferred_query = Parser.parse(vis.query)\n    Validator.validate_spec(vis._inferred_query,self)\n    vc = Compiler.compile(self,vis._inferred_query,[vis],enumerate_collection=False)\n    vis.data = self[attribute].reset_index()\n",
    "id": "5f54f55b856742dc8bddf0782da7c89c",
    "order_count": 12,
    "time": "2020-07-21T09:31:28.212Z",
    "type": "selectCodeCell"
   },
   {
    "code": "for attribute in self.columns:\n    vis = Vis([index_column_name,attribute])\n    vis._inferred_query = Parser.parse(vis.query)\n    Validator.validate_spec(vis._inferred_query,self)\n    vc = Compiler.compile(self,vis._inferred_query,[vis],enumerate_collection=False)\n    vis.data = self[attribute].reset_index()\n",
    "id": "5f54f55b856742dc8bddf0782da7c89c",
    "order_count": 12,
    "time": "2020-07-21T09:31:46.597Z",
    "type": "editCodeCell"
   },
   {
    "code": "for attribute in self.columns:\n    vis = Vis([index_column_name,attribute])\n    vis._inferred_query = Parser.parse(vis.query)\n    vc = Compiler.compile(self,vis._inferred_query,[vis],enumerate_collection=False)\n    vis.data = self[attribute].reset_index()\n",
    "id": "5f54f55b856742dc8bddf0782da7c89c",
    "order_count": 12,
    "time": "2020-07-21T09:31:51.069Z",
    "type": "executeCodeCell"
   },
   {
    "code": "vis._inferred_query = [lux.Clause()]",
    "id": "64b2aeae74224155832a8450b8dad9aa",
    "order_count": 13,
    "time": "2020-07-21T09:31:51.103Z",
    "type": "selectCodeCell"
   },
   {
    "code": "for attribute in self.columns:\n    vis = Vis([index_column_name,attribute])\n    vis._inferred_query = Parser.parse(vis.query)\n    vc = Compiler.compile(self,vis._inferred_query,[vis],enumerate_collection=False)\n    vis.data = self[attribute].reset_index()\n",
    "id": "5f54f55b856742dc8bddf0782da7c89c",
    "isPrintLuxDf": false,
    "isPrintPandasDf": false,
    "isPrintVis": false,
    "isPrintVisCollection": false,
    "order_count": 12,
    "time": "2020-07-21T09:31:51.118Z",
    "type": "completeCodeCell"
   },
   {
    "code": "for attribute in self.columns:\n    vis = Vis([index_column_name,attribute])\n    vis._inferred_query = Parser.parse(vis.query)\n    vc = Compiler.compile(self,vis._inferred_query,[vis],enumerate_collection=False)\n    vis.data = self[attribute].reset_index()\n",
    "id": "5f54f55b856742dc8bddf0782da7c89c",
    "order_count": 12,
    "time": "2020-07-21T09:31:53.294Z",
    "type": "selectCodeCell"
   },
   {
    "code": "for attribute in self.columns:\n    vis = Vis([index_column_name,attribute])\n    vis._inferred_query = Parser.parse(vis.query)\n    vc = Compiler.compile(self,vis._inferred_query,[vis],enumerate_collection=False)\n    vis.data = self[attribute].reset_index()\n",
    "id": "5f54f55b856742dc8bddf0782da7c89c",
    "order_count": 12,
    "time": "2020-07-21T09:31:53.303Z",
    "type": "editCodeCell"
   },
   {
    "code": "for attribute in self.columns:\n    vis = Vis([index_column_name,attribute])\n    vis._inferred_query = Parser.parse(vis.query)\n    vc = Compiler.compile(self,vis._inferred_query,[vis],enumerate_collection=False)\n    vis.data = self[attribute].reset_index()\n",
    "id": "5f54f55b856742dc8bddf0782da7c89c",
    "order_count": 12,
    "time": "2020-07-21T09:32:14.962Z",
    "type": "selectCodeCell"
   },
   {
    "code": "",
    "id": "5d8ba5d37b9542538726810ef82b1b45",
    "order_count": 12,
    "time": "2020-07-21T09:32:15.962Z",
    "type": "selectCodeCell"
   },
   {
    "code": "",
    "id": "5d8ba5d37b9542538726810ef82b1b45",
    "order_count": 12,
    "time": "2020-07-21T09:32:16.073Z",
    "type": "editCodeCell"
   },
   {
    "code": "self.data_type_lookup",
    "id": "5d8ba5d37b9542538726810ef82b1b45",
    "order_count": 12,
    "time": "2020-07-21T09:32:21.925Z",
    "type": "executeCodeCell"
   },
   {
    "code": "for attribute in self.columns:\n    vis = Vis([index_column_name,attribute])\n    vis._inferred_query = Parser.parse(vis.query)\n    vc = Compiler.compile(self,vis._inferred_query,[vis],enumerate_collection=False)\n    vis.data = self[attribute].reset_index()\n",
    "id": "5f54f55b856742dc8bddf0782da7c89c",
    "order_count": 13,
    "time": "2020-07-21T09:32:21.967Z",
    "type": "selectCodeCell"
   },
   {
    "code": "self.data_type_lookup",
    "id": "5d8ba5d37b9542538726810ef82b1b45",
    "isPrintLuxDf": false,
    "isPrintPandasDf": false,
    "isPrintVis": false,
    "isPrintVisCollection": false,
    "order_count": 12,
    "time": "2020-07-21T09:32:21.974Z",
    "type": "completeCodeCell"
   },
   {
    "code": "self.data_type_lookup",
    "id": "5d8ba5d37b9542538726810ef82b1b45",
    "order_count": 12,
    "time": "2020-07-21T09:32:25.556Z",
    "type": "selectCodeCell"
   },
   {
    "code": "self.data_type_lookup",
    "id": "5d8ba5d37b9542538726810ef82b1b45",
    "order_count": 12,
    "time": "2020-07-21T09:32:25.562Z",
    "type": "editCodeCell"
   },
   {
    "code": "self.data_type",
    "id": "5d8ba5d37b9542538726810ef82b1b45",
    "order_count": 12,
    "time": "2020-07-21T09:32:28.851Z",
    "type": "executeCodeCell"
   },
   {
    "code": "for attribute in self.columns:\n    vis = Vis([index_column_name,attribute])\n    vis._inferred_query = Parser.parse(vis.query)\n    vc = Compiler.compile(self,vis._inferred_query,[vis],enumerate_collection=False)\n    vis.data = self[attribute].reset_index()\n",
    "id": "5f54f55b856742dc8bddf0782da7c89c",
    "order_count": 13,
    "time": "2020-07-21T09:32:28.892Z",
    "type": "selectCodeCell"
   },
   {
    "code": "self.data_type",
    "id": "5d8ba5d37b9542538726810ef82b1b45",
    "isPrintLuxDf": false,
    "isPrintPandasDf": false,
    "isPrintVis": false,
    "isPrintVisCollection": false,
    "order_count": 12,
    "time": "2020-07-21T09:32:28.898Z",
    "type": "completeCodeCell"
   },
   {
    "code": "self.data_type",
    "id": "5d8ba5d37b9542538726810ef82b1b45",
    "order_count": 12,
    "time": "2020-07-21T09:32:30.564Z",
    "type": "selectCodeCell"
   },
   {
    "code": "self.data_type",
    "id": "5d8ba5d37b9542538726810ef82b1b45",
    "order_count": 12,
    "time": "2020-07-21T09:32:30.570Z",
    "type": "editCodeCell"
   },
   {
    "code": "self.unique_value",
    "id": "5d8ba5d37b9542538726810ef82b1b45",
    "order_count": 12,
    "time": "2020-07-21T09:32:33.502Z",
    "type": "executeCodeCell"
   },
   {
    "code": "for attribute in self.columns:\n    vis = Vis([index_column_name,attribute])\n    vis._inferred_query = Parser.parse(vis.query)\n    vc = Compiler.compile(self,vis._inferred_query,[vis],enumerate_collection=False)\n    vis.data = self[attribute].reset_index()\n",
    "id": "5f54f55b856742dc8bddf0782da7c89c",
    "order_count": 13,
    "time": "2020-07-21T09:32:33.540Z",
    "type": "selectCodeCell"
   },
   {
    "code": "self.unique_value",
    "id": "5d8ba5d37b9542538726810ef82b1b45",
    "isPrintLuxDf": false,
    "isPrintPandasDf": false,
    "isPrintVis": false,
    "isPrintVisCollection": false,
    "order_count": 12,
    "time": "2020-07-21T09:32:33.548Z",
    "type": "completeCodeCell"
   },
   {
    "code": "self.unique_value",
    "id": "5d8ba5d37b9542538726810ef82b1b45",
    "order_count": 12,
    "time": "2020-07-21T09:32:34.693Z",
    "type": "selectCodeCell"
   },
   {
    "code": "self.unique_value",
    "id": "5d8ba5d37b9542538726810ef82b1b45",
    "order_count": 12,
    "time": "2020-07-21T09:32:34.699Z",
    "type": "editCodeCell"
   },
   {
    "code": "self.unique_values",
    "id": "5d8ba5d37b9542538726810ef82b1b45",
    "order_count": 12,
    "time": "2020-07-21T09:32:35.238Z",
    "type": "executeCodeCell"
   },
   {
    "code": "for attribute in self.columns:\n    vis = Vis([index_column_name,attribute])\n    vis._inferred_query = Parser.parse(vis.query)\n    vc = Compiler.compile(self,vis._inferred_query,[vis],enumerate_collection=False)\n    vis.data = self[attribute].reset_index()\n",
    "id": "5f54f55b856742dc8bddf0782da7c89c",
    "order_count": 13,
    "time": "2020-07-21T09:32:35.279Z",
    "type": "selectCodeCell"
   },
   {
    "code": "self.unique_values",
    "id": "5d8ba5d37b9542538726810ef82b1b45",
    "isPrintLuxDf": false,
    "isPrintPandasDf": false,
    "isPrintVis": false,
    "isPrintVisCollection": false,
    "order_count": 12,
    "time": "2020-07-21T09:32:35.297Z",
    "type": "completeCodeCell"
   },
   {
    "code": "self.unique_values",
    "id": "5d8ba5d37b9542538726810ef82b1b45",
    "order_count": 12,
    "time": "2020-07-21T09:32:36.405Z",
    "type": "selectCodeCell"
   },
   {
    "code": "self.unique_values",
    "id": "5d8ba5d37b9542538726810ef82b1b45",
    "order_count": 12,
    "time": "2020-07-21T09:32:36.411Z",
    "type": "editCodeCell"
   },
   {
    "code": "self.cardinality",
    "id": "5d8ba5d37b9542538726810ef82b1b45",
    "order_count": 12,
    "time": "2020-07-21T09:32:40.005Z",
    "type": "executeCodeCell"
   },
   {
    "code": "for attribute in self.columns:\n    vis = Vis([index_column_name,attribute])\n    vis._inferred_query = Parser.parse(vis.query)\n    vc = Compiler.compile(self,vis._inferred_query,[vis],enumerate_collection=False)\n    vis.data = self[attribute].reset_index()\n",
    "id": "5f54f55b856742dc8bddf0782da7c89c",
    "order_count": 13,
    "time": "2020-07-21T09:32:40.047Z",
    "type": "selectCodeCell"
   },
   {
    "code": "self.cardinality",
    "id": "5d8ba5d37b9542538726810ef82b1b45",
    "isPrintLuxDf": false,
    "isPrintPandasDf": false,
    "isPrintVis": false,
    "isPrintVisCollection": false,
    "order_count": 12,
    "time": "2020-07-21T09:32:40.053Z",
    "type": "completeCodeCell"
   },
   {
    "code": "self.cardinality",
    "id": "5d8ba5d37b9542538726810ef82b1b45",
    "order_count": 12,
    "time": "2020-07-21T09:32:45.276Z",
    "type": "selectCodeCell"
   },
   {
    "code": "df = pd.read_csv(\"lux/data/college.csv\")",
    "id": "78a539bb361149808b28db83c04c6cab",
    "order_count": 3,
    "time": "2020-07-21T09:32:49.660Z",
    "type": "selectCodeCell"
   },
   {
    "code": "df = pd.read_csv(\"lux/data/college.csv\")",
    "id": "78a539bb361149808b28db83c04c6cab",
    "order_count": 3,
    "time": "2020-07-21T09:32:49.666Z",
    "type": "editCodeCell"
   },
   {
    "code": "groupbyResult = df.groupby(\"Region\").sum()",
    "id": "63be682cd1e444e08c0c4d37f3406a4d",
    "order_count": 4,
    "time": "2020-07-21T09:32:50.127Z",
    "type": "selectCodeCell"
   },
   {
    "code": "groupbyResult = df.groupby(\"Region\").sum()",
    "id": "63be682cd1e444e08c0c4d37f3406a4d",
    "order_count": 4,
    "time": "2020-07-21T09:32:50.134Z",
    "type": "editCodeCell"
   },
   {
    "code": "groupbyResult = df.groupby(\"Region\").sum()",
    "id": "63be682cd1e444e08c0c4d37f3406a4d",
    "order_count": 4,
    "time": "2020-07-21T09:32:51.224Z",
    "type": "executeCodeCell"
   },
   {
    "code": "groupbyResult.columns",
    "id": "afcb0ab6b2c94ce1b4a2c0e72043f681",
    "order_count": 5,
    "time": "2020-07-21T09:32:51.260Z",
    "type": "selectCodeCell"
   },
   {
    "code": "groupbyResult = df.groupby(\"Region\").sum()",
    "id": "63be682cd1e444e08c0c4d37f3406a4d",
    "isPrintLuxDf": false,
    "isPrintPandasDf": false,
    "isPrintVis": false,
    "isPrintVisCollection": false,
    "order_count": 4,
    "time": "2020-07-21T09:32:51.266Z",
    "type": "completeCodeCell"
   },
   {
    "code": "groupbyResult.columns",
    "id": "afcb0ab6b2c94ce1b4a2c0e72043f681",
    "order_count": 5,
    "time": "2020-07-21T09:32:53.011Z",
    "type": "editCodeCell"
   },
   {
    "code": "groupbyResult.cardinality",
    "id": "afcb0ab6b2c94ce1b4a2c0e72043f681",
    "order_count": 5,
    "time": "2020-07-21T09:33:02.086Z",
    "type": "executeCodeCell"
   },
   {
    "code": "groupbyResult.index",
    "id": "5fc6580b41064c40895b7446c9722e07",
    "order_count": 6,
    "time": "2020-07-21T09:33:02.121Z",
    "type": "selectCodeCell"
   },
   {
    "code": "groupbyResult.cardinality",
    "id": "afcb0ab6b2c94ce1b4a2c0e72043f681",
    "isPrintLuxDf": false,
    "isPrintPandasDf": false,
    "isPrintVis": false,
    "isPrintVisCollection": false,
    "order_count": 5,
    "time": "2020-07-21T09:33:02.135Z",
    "type": "completeCodeCell"
   },
   {
    "code": "groupbyResult.cardinality",
    "id": "afcb0ab6b2c94ce1b4a2c0e72043f681",
    "order_count": 5,
    "time": "2020-07-21T09:33:07.277Z",
    "type": "selectCodeCell"
   },
   {
    "code": "groupbyResult.cardinality",
    "id": "afcb0ab6b2c94ce1b4a2c0e72043f681",
    "order_count": 5,
    "time": "2020-07-21T09:33:07.283Z",
    "type": "editCodeCell"
   },
   {
    "code": "type(groupbyResult)",
    "id": "afcb0ab6b2c94ce1b4a2c0e72043f681",
    "order_count": 5,
    "time": "2020-07-21T09:33:12.158Z",
    "type": "executeCodeCell"
   },
   {
    "code": "groupbyResult.index",
    "id": "5fc6580b41064c40895b7446c9722e07",
    "order_count": 6,
    "time": "2020-07-21T09:33:12.195Z",
    "type": "selectCodeCell"
   },
   {
    "code": "type(groupbyResult)",
    "id": "afcb0ab6b2c94ce1b4a2c0e72043f681",
    "isPrintLuxDf": false,
    "isPrintPandasDf": false,
    "isPrintVis": false,
    "isPrintVisCollection": false,
    "order_count": 5,
    "time": "2020-07-21T09:33:12.203Z",
    "type": "completeCodeCell"
   },
   {
    "code": "groupbyResult.index",
    "id": "5fc6580b41064c40895b7446c9722e07",
    "order_count": null,
    "time": "2020-07-21T09:33:13.716Z",
    "type": "deleteCodeCell"
   },
   {
    "code": "type(groupbyResult)",
    "id": "afcb0ab6b2c94ce1b4a2c0e72043f681",
    "order_count": 5,
    "time": "2020-07-21T09:33:14.161Z",
    "type": "selectCodeCell"
   },
   {
    "code": "type(groupbyResult)",
    "id": "afcb0ab6b2c94ce1b4a2c0e72043f681",
    "order_count": 5,
    "time": "2020-07-21T09:33:14.428Z",
    "type": "editCodeCell"
   },
   {
    "code": "type(groupbyResult)",
    "id": "afcb0ab6b2c94ce1b4a2c0e72043f681",
    "order_count": 5,
    "time": "2020-07-21T09:33:18.242Z",
    "type": "editCodeCell"
   },
   {
    "code": "groupbyResult.unique_values",
    "id": "afcb0ab6b2c94ce1b4a2c0e72043f681",
    "order_count": 5,
    "time": "2020-07-21T09:33:24.215Z",
    "type": "executeCodeCell"
   },
   {
    "code": "self = groupbyResult\nif (type(self.index) != pd.core.indexes.range.RangeIndex):# if multi-index, then default to pandas output\n    print (\"test\")\n    index_column_name = self.index.name",
    "id": "5e39c1e5c8e740e181980e5d80cfeb44",
    "order_count": 6,
    "time": "2020-07-21T09:33:24.254Z",
    "type": "selectCodeCell"
   },
   {
    "code": "groupbyResult.unique_values",
    "id": "afcb0ab6b2c94ce1b4a2c0e72043f681",
    "isPrintLuxDf": false,
    "isPrintPandasDf": false,
    "isPrintVis": false,
    "isPrintVisCollection": false,
    "order_count": 5,
    "time": "2020-07-21T09:33:24.267Z",
    "type": "completeCodeCell"
   },
   {
    "code": "groupbyResult.unique_values",
    "id": "afcb0ab6b2c94ce1b4a2c0e72043f681",
    "order_count": 5,
    "time": "2020-07-21T09:33:25.667Z",
    "type": "selectCodeCell"
   },
   {
    "code": "groupbyResult.unique_values",
    "id": "afcb0ab6b2c94ce1b4a2c0e72043f681",
    "order_count": 5,
    "time": "2020-07-21T09:33:25.673Z",
    "type": "editCodeCell"
   },
   {
    "code": "self = groupbyResult\nif (type(self.index) != pd.core.indexes.range.RangeIndex):# if multi-index, then default to pandas output\n    print (\"test\")\n    index_column_name = self.index.name",
    "id": "5e39c1e5c8e740e181980e5d80cfeb44",
    "order_count": 6,
    "time": "2020-07-21T09:33:40.973Z",
    "type": "selectCodeCell"
   },
   {
    "code": "groupbyResult = df.groupby(\"Region\").sum()",
    "id": "63be682cd1e444e08c0c4d37f3406a4d",
    "order_count": 4,
    "time": "2020-07-21T09:34:20.695Z",
    "type": "selectCodeCell"
   },
   {
    "code": "groupbyResult = df.groupby(\"Region\").sum()",
    "id": "63be682cd1e444e08c0c4d37f3406a4d",
    "order_count": 4,
    "time": "2020-07-21T09:34:20.704Z",
    "type": "editCodeCell"
   },
   {
    "code": "groupbyResult = df.groupby(\"Region\").sum()",
    "id": "63be682cd1e444e08c0c4d37f3406a4d",
    "order_count": 4,
    "time": "2020-07-21T09:34:20.768Z",
    "type": "selectCodeCell"
   },
   {
    "code": "groupbyResult.unique_values",
    "id": "afcb0ab6b2c94ce1b4a2c0e72043f681",
    "order_count": 5,
    "time": "2020-07-21T09:34:23.864Z",
    "type": "selectCodeCell"
   },
   {
    "code": "groupbyResult.unique_values",
    "id": "afcb0ab6b2c94ce1b4a2c0e72043f681",
    "order_count": 5,
    "time": "2020-07-21T09:34:23.870Z",
    "type": "editCodeCell"
   },
   {
    "code": "df.unique_values",
    "id": "afcb0ab6b2c94ce1b4a2c0e72043f681",
    "order_count": 5,
    "time": "2020-07-21T09:34:25.159Z",
    "type": "executeCodeCell"
   },
   {
    "code": "self = groupbyResult\nif (type(self.index) != pd.core.indexes.range.RangeIndex):# if multi-index, then default to pandas output\n    print (\"test\")\n    index_column_name = self.index.name",
    "id": "5e39c1e5c8e740e181980e5d80cfeb44",
    "order_count": 6,
    "time": "2020-07-21T09:34:25.197Z",
    "type": "selectCodeCell"
   },
   {
    "code": "df.unique_values",
    "id": "afcb0ab6b2c94ce1b4a2c0e72043f681",
    "isPrintLuxDf": false,
    "isPrintPandasDf": false,
    "isPrintVis": true,
    "isPrintVisCollection": false,
    "order_count": 5,
    "time": "2020-07-21T09:34:25.398Z",
    "type": "completeCodeCell"
   },
   {
    "code": "df.unique_values",
    "id": "afcb0ab6b2c94ce1b4a2c0e72043f681",
    "order_count": 5,
    "time": "2020-07-21T09:34:25.828Z",
    "type": "selectCodeCell"
   },
   {
    "code": "df.unique_values",
    "id": "afcb0ab6b2c94ce1b4a2c0e72043f681",
    "order_count": null,
    "time": "2020-07-21T09:34:26.431Z",
    "type": "deleteCodeCell"
   },
   {
    "code": "groupbyResult = df.groupby(\"Region\").sum()",
    "id": "63be682cd1e444e08c0c4d37f3406a4d",
    "order_count": 4,
    "time": "2020-07-21T09:34:26.762Z",
    "type": "selectCodeCell"
   },
   {
    "code": "df = pd.read_csv(\"lux/data/college.csv\")",
    "id": "78a539bb361149808b28db83c04c6cab",
    "order_count": 3,
    "time": "2020-07-21T09:34:28.403Z",
    "type": "selectCodeCell"
   },
   {
    "code": "df = pd.read_csv(\"lux/data/college.csv\")",
    "id": "78a539bb361149808b28db83c04c6cab",
    "order_count": 3,
    "time": "2020-07-21T09:34:28.966Z",
    "type": "executeCodeCell"
   },
   {
    "code": "groupbyResult = df.groupby(\"Region\").sum()",
    "id": "63be682cd1e444e08c0c4d37f3406a4d",
    "order_count": 4,
    "time": "2020-07-21T09:34:28.981Z",
    "type": "selectCodeCell"
   },
   {
    "code": "df = pd.read_csv(\"lux/data/college.csv\")",
    "id": "78a539bb361149808b28db83c04c6cab",
    "isPrintLuxDf": false,
    "isPrintPandasDf": false,
    "isPrintVis": false,
    "isPrintVisCollection": false,
    "order_count": 3,
    "time": "2020-07-21T09:34:29.004Z",
    "type": "completeCodeCell"
   },
   {
    "code": "groupbyResult = df.groupby(\"Region\").sum()",
    "id": "63be682cd1e444e08c0c4d37f3406a4d",
    "order_count": 4,
    "time": "2020-07-21T09:34:29.358Z",
    "type": "executeCodeCell"
   },
   {
    "code": "self = groupbyResult\nif (type(self.index) != pd.core.indexes.range.RangeIndex):# if multi-index, then default to pandas output\n    print (\"test\")\n    index_column_name = self.index.name",
    "id": "5e39c1e5c8e740e181980e5d80cfeb44",
    "order_count": 5,
    "time": "2020-07-21T09:34:29.376Z",
    "type": "selectCodeCell"
   },
   {
    "code": "groupbyResult = df.groupby(\"Region\").sum()",
    "id": "63be682cd1e444e08c0c4d37f3406a4d",
    "isPrintLuxDf": false,
    "isPrintPandasDf": false,
    "isPrintVis": false,
    "isPrintVisCollection": false,
    "order_count": 4,
    "time": "2020-07-21T09:34:29.401Z",
    "type": "completeCodeCell"
   },
   {
    "code": "self = groupbyResult\nif (type(self.index) != pd.core.indexes.range.RangeIndex):# if multi-index, then default to pandas output\n    print (\"test\")\n    index_column_name = self.index.name",
    "id": "5e39c1e5c8e740e181980e5d80cfeb44",
    "order_count": 6,
    "time": "2020-07-21T09:34:31.866Z",
    "type": "editCodeCell"
   },
   {
    "code": "df.unique_values",
    "id": "970aa84aff504ab5852b93fe3b073b2e",
    "order_count": 5,
    "time": "2020-07-21T09:34:35.618Z",
    "type": "selectCodeCell"
   },
   {
    "code": "df.unique_values",
    "id": "970aa84aff504ab5852b93fe3b073b2e",
    "order_count": 5,
    "time": "2020-07-21T09:34:36.175Z",
    "type": "editCodeCell"
   },
   {
    "code": "groupbyResult.unique_values",
    "id": "970aa84aff504ab5852b93fe3b073b2e",
    "order_count": 5,
    "time": "2020-07-21T09:34:40.408Z",
    "type": "executeCodeCell"
   },
   {
    "code": "self = groupbyResult\nif (type(self.index) != pd.core.indexes.range.RangeIndex):# if multi-index, then default to pandas output\n    print (\"test\")\n    index_column_name = self.index.name",
    "id": "5e39c1e5c8e740e181980e5d80cfeb44",
    "order_count": 6,
    "time": "2020-07-21T09:34:40.446Z",
    "type": "selectCodeCell"
   },
   {
    "code": "groupbyResult.unique_values",
    "id": "970aa84aff504ab5852b93fe3b073b2e",
    "isPrintLuxDf": false,
    "isPrintPandasDf": false,
    "isPrintVis": false,
    "isPrintVisCollection": false,
    "order_count": 5,
    "time": "2020-07-21T09:34:40.459Z",
    "type": "completeCodeCell"
   },
   {
    "code": "groupbyResult.unique_values",
    "id": "970aa84aff504ab5852b93fe3b073b2e",
    "order_count": 5,
    "time": "2020-07-21T09:34:41.044Z",
    "type": "selectCodeCell"
   },
   {
    "code": "groupbyResult.unique_values",
    "id": "970aa84aff504ab5852b93fe3b073b2e",
    "order_count": null,
    "time": "2020-07-21T09:34:41.711Z",
    "type": "deleteCodeCell"
   },
   {
    "code": "self = groupbyResult\nif (type(self.index) != pd.core.indexes.range.RangeIndex):# if multi-index, then default to pandas output\n    print (\"test\")\n    index_column_name = self.index.name",
    "id": "5e39c1e5c8e740e181980e5d80cfeb44",
    "order_count": 5,
    "time": "2020-07-21T09:34:42.376Z",
    "type": "executeCodeCell"
   },
   {
    "code": "index_column_name",
    "id": "635986bd5dba4b92915672975a9641d8",
    "order_count": 6,
    "time": "2020-07-21T09:34:42.390Z",
    "type": "selectCodeCell"
   },
   {
    "code": "self = groupbyResult\nif (type(self.index) != pd.core.indexes.range.RangeIndex):# if multi-index, then default to pandas output\n    print (\"test\")\n    index_column_name = self.index.name",
    "id": "5e39c1e5c8e740e181980e5d80cfeb44",
    "isPrintLuxDf": false,
    "isPrintPandasDf": false,
    "isPrintVis": false,
    "isPrintVisCollection": false,
    "order_count": 5,
    "time": "2020-07-21T09:34:42.403Z",
    "type": "completeCodeCell"
   },
   {
    "code": "index_column_name",
    "id": "635986bd5dba4b92915672975a9641d8",
    "order_count": 6,
    "time": "2020-07-21T09:34:44.877Z",
    "type": "editCodeCell"
   },
   {
    "code": "index_column_name",
    "id": "635986bd5dba4b92915672975a9641d8",
    "order_count": 6,
    "time": "2020-07-21T09:34:45.937Z",
    "type": "executeCodeCell"
   },
   {
    "code": "# self.reset_index()",
    "id": "dc65928dcab74a518ec6aeee3d2abc9f",
    "order_count": 7,
    "time": "2020-07-21T09:34:45.971Z",
    "type": "selectCodeCell"
   },
   {
    "code": "index_column_name",
    "id": "635986bd5dba4b92915672975a9641d8",
    "isPrintLuxDf": false,
    "isPrintPandasDf": false,
    "isPrintVis": false,
    "isPrintVisCollection": false,
    "order_count": 6,
    "time": "2020-07-21T09:34:45.983Z",
    "type": "completeCodeCell"
   },
   {
    "code": "from lux.vis.Vis import Vis",
    "id": "ca07cdd3856841c082c7831ab613eb72",
    "order_count": 8,
    "time": "2020-07-21T09:34:50.685Z",
    "type": "selectCodeCell"
   },
   {
    "code": "from lux.vis.Vis import Vis",
    "id": "ca07cdd3856841c082c7831ab613eb72",
    "order_count": 8,
    "time": "2020-07-21T09:34:50.692Z",
    "type": "editCodeCell"
   },
   {
    "code": "from lux.compiler.Parser import Parser\nfrom lux.compiler.Validator import Validator\nfrom lux.compiler.Compiler import Compiler\n",
    "id": "8e597bd78171441cad69ab5c08751967",
    "order_count": null,
    "time": "2020-07-21T09:34:52.078Z",
    "type": "deleteCodeCell"
   },
   {
    "code": "from lux.vis.Vis import Vis\n\nfrom lux.compiler.Parser import Parser\nfrom lux.compiler.Validator import Validator\nfrom lux.compiler.Compiler import Compiler\n",
    "id": "ca07cdd3856841c082c7831ab613eb72",
    "order_count": 8,
    "time": "2020-07-21T09:34:52.498Z",
    "type": "editCodeCell"
   },
   {
    "code": "from lux.vis.Vis import Vis\nfrom lux.compiler.Parser import Parser\nfrom lux.compiler.Validator import Validator\nfrom lux.compiler.Compiler import Compiler\n",
    "id": "ca07cdd3856841c082c7831ab613eb72",
    "order_count": 8,
    "time": "2020-07-21T09:34:53.704Z",
    "type": "executeCodeCell"
   },
   {
    "code": "self.cardinality",
    "id": "5d8ba5d37b9542538726810ef82b1b45",
    "order_count": 9,
    "time": "2020-07-21T09:34:53.739Z",
    "type": "selectCodeCell"
   },
   {
    "code": "from lux.vis.Vis import Vis\nfrom lux.compiler.Parser import Parser\nfrom lux.compiler.Validator import Validator\nfrom lux.compiler.Compiler import Compiler\n",
    "id": "ca07cdd3856841c082c7831ab613eb72",
    "isPrintLuxDf": false,
    "isPrintPandasDf": false,
    "isPrintVis": false,
    "isPrintVisCollection": false,
    "order_count": 8,
    "time": "2020-07-21T09:34:53.745Z",
    "type": "completeCodeCell"
   },
   {
    "code": "self.cardinality",
    "id": "5d8ba5d37b9542538726810ef82b1b45",
    "order_count": 9,
    "time": "2020-07-21T09:34:55.591Z",
    "type": "executeCodeCell"
   },
   {
    "code": "for attribute in self.columns:\n    vis = Vis([index_column_name,attribute])\n    vis._inferred_query = Parser.parse(vis.query)\n    vc = Compiler.compile(self,vis._inferred_query,[vis],enumerate_collection=False)\n    vis.data = self[attribute].reset_index()\n",
    "id": "5f54f55b856742dc8bddf0782da7c89c",
    "order_count": 10,
    "time": "2020-07-21T09:34:55.612Z",
    "type": "selectCodeCell"
   },
   {
    "code": "self.cardinality",
    "id": "5d8ba5d37b9542538726810ef82b1b45",
    "isPrintLuxDf": false,
    "isPrintPandasDf": false,
    "isPrintVis": false,
    "isPrintVisCollection": false,
    "order_count": 9,
    "time": "2020-07-21T09:34:55.620Z",
    "type": "completeCodeCell"
   },
   {
    "code": "for attribute in self.columns:\n    vis = Vis([index_column_name,attribute])\n    vis._inferred_query = Parser.parse(vis.query)\n    vc = Compiler.compile(self,vis._inferred_query,[vis],enumerate_collection=False)\n    vis.data = self[attribute].reset_index()\n",
    "id": "5f54f55b856742dc8bddf0782da7c89c",
    "order_count": 10,
    "time": "2020-07-21T09:34:56.504Z",
    "type": "executeCodeCell"
   },
   {
    "code": "vis._inferred_query = [lux.Clause()]",
    "id": "64b2aeae74224155832a8450b8dad9aa",
    "order_count": 11,
    "time": "2020-07-21T09:34:56.520Z",
    "type": "selectCodeCell"
   },
   {
    "code": "for attribute in self.columns:\n    vis = Vis([index_column_name,attribute])\n    vis._inferred_query = Parser.parse(vis.query)\n    vc = Compiler.compile(self,vis._inferred_query,[vis],enumerate_collection=False)\n    vis.data = self[attribute].reset_index()\n",
    "id": "5f54f55b856742dc8bddf0782da7c89c",
    "isPrintLuxDf": false,
    "isPrintPandasDf": false,
    "isPrintVis": false,
    "isPrintVisCollection": false,
    "order_count": 10,
    "time": "2020-07-21T09:34:56.549Z",
    "type": "completeCodeCell"
   },
   {
    "code": "self = groupbyResult\nif (type(self.index) != pd.core.indexes.range.RangeIndex):# if multi-index, then default to pandas output\n    print (\"test\")\n    index_column_name = self.index.name",
    "id": "5e39c1e5c8e740e181980e5d80cfeb44",
    "order_count": 5,
    "time": "2020-07-21T09:35:22.804Z",
    "type": "selectCodeCell"
   },
   {
    "code": "self = groupbyResult\nif (type(self.index) != pd.core.indexes.range.RangeIndex):# if multi-index, then default to pandas output\n    print (\"test\")\n    index_column_name = self.index.name",
    "id": "5e39c1e5c8e740e181980e5d80cfeb44",
    "order_count": 5,
    "time": "2020-07-21T09:35:22.812Z",
    "type": "editCodeCell"
   },
   {
    "time": "2020-07-21T09:35:24.373Z",
    "type": "kernelRestart"
   },
   {
    "time": "2020-07-21T09:35:24.565Z",
    "type": "kernelRestart"
   },
   {
    "code": "groupbyResult = df.groupby(\"Region\").sum()",
    "id": "63be682cd1e444e08c0c4d37f3406a4d",
    "order_count": 4,
    "time": "2020-07-21T09:35:24.998Z",
    "type": "selectCodeCell"
   },
   {
    "code": "df = pd.read_csv(\"lux/data/college.csv\")",
    "id": "78a539bb361149808b28db83c04c6cab",
    "order_count": 3,
    "time": "2020-07-21T09:35:25.166Z",
    "type": "selectCodeCell"
   },
   {
    "code": "import pandas as pd\n%load_ext autoreload\n%autoreload 2\nimport lux",
    "id": "7428a8a53da0452880d1e6c1d21e8324",
    "order_count": 2,
    "time": "2020-07-21T09:35:25.333Z",
    "type": "selectCodeCell"
   },
   {
    "code": "This dataset contains a total of 1295 records of American colleges and their properties, collected by the [US Department of Education](https://collegescorecard.ed.gov/data/documentation/).",
    "id": "d71c5c8d5ca64ce888dbd78140f7092b",
    "order_count": 1,
    "time": "2020-07-21T09:35:25.476Z",
    "type": "selectMarkdownCell"
   },
   {
    "code": "cd ../",
    "id": "a7da79e1a13643cab773017189810627",
    "order_count": 0,
    "time": "2020-07-21T09:35:25.643Z",
    "type": "selectCodeCell"
   },
   {
    "code": "cd ../",
    "id": "a7da79e1a13643cab773017189810627",
    "order_count": 0,
    "time": "2020-07-21T09:35:26.022Z",
    "type": "executeCodeCell"
   },
   {
    "code": "This dataset contains a total of 1295 records of American colleges and their properties, collected by the [US Department of Education](https://collegescorecard.ed.gov/data/documentation/).",
    "id": "d71c5c8d5ca64ce888dbd78140f7092b",
    "order_count": 1,
    "time": "2020-07-21T09:35:26.028Z",
    "type": "selectMarkdownCell"
   },
   {
    "code": "import pandas as pd\n%load_ext autoreload\n%autoreload 2\nimport lux",
    "id": "7428a8a53da0452880d1e6c1d21e8324",
    "order_count": 2,
    "time": "2020-07-21T09:35:26.199Z",
    "type": "selectCodeCell"
   },
   {
    "code": "import pandas as pd\n%load_ext autoreload\n%autoreload 2\nimport lux",
    "id": "7428a8a53da0452880d1e6c1d21e8324",
    "order_count": 2,
    "time": "2020-07-21T09:35:26.325Z",
    "type": "executeCodeCell"
   },
   {
    "code": "df = pd.read_csv(\"lux/data/college.csv\")",
    "id": "78a539bb361149808b28db83c04c6cab",
    "order_count": 3,
    "time": "2020-07-21T09:35:26.339Z",
    "type": "selectCodeCell"
   },
   {
    "code": "df = pd.read_csv(\"lux/data/college.csv\")",
    "id": "78a539bb361149808b28db83c04c6cab",
    "order_count": 3,
    "time": "2020-07-21T09:35:26.494Z",
    "type": "executeCodeCell"
   },
   {
    "code": "groupbyResult = df.groupby(\"Region\").sum()",
    "id": "63be682cd1e444e08c0c4d37f3406a4d",
    "order_count": 4,
    "time": "2020-07-21T09:35:26.506Z",
    "type": "selectCodeCell"
   },
   {
    "code": "cd ../",
    "id": "a7da79e1a13643cab773017189810627",
    "isPrintLuxDf": false,
    "isPrintPandasDf": false,
    "isPrintVis": false,
    "isPrintVisCollection": false,
    "order_count": 0,
    "time": "2020-07-21T09:35:26.909Z",
    "type": "completeCodeCell"
   },
   {
    "code": "import pandas as pd\n%load_ext autoreload\n%autoreload 2\nimport lux",
    "id": "7428a8a53da0452880d1e6c1d21e8324",
    "isPrintLuxDf": false,
    "isPrintPandasDf": false,
    "isPrintVis": false,
    "isPrintVisCollection": false,
    "order_count": 2,
    "time": "2020-07-21T09:35:27.251Z",
    "type": "completeCodeCell"
   },
   {
    "time": "2020-07-21T09:35:27.259Z",
    "type": "kernelReady"
   },
   {
    "code": "df = pd.read_csv(\"lux/data/college.csv\")",
    "id": "78a539bb361149808b28db83c04c6cab",
    "isPrintLuxDf": false,
    "isPrintPandasDf": false,
    "isPrintVis": false,
    "isPrintVisCollection": false,
    "order_count": 3,
    "time": "2020-07-21T09:35:27.285Z",
    "type": "completeCodeCell"
   },
   {
    "time": "2020-07-21T09:35:27.302Z",
    "type": "kernelReady"
   },
   {
    "time": "2020-07-21T09:35:27.306Z",
    "type": "kernelReady"
   },
   {
    "code": "groupbyResult = df.groupby(\"Region\").sum()",
    "id": "63be682cd1e444e08c0c4d37f3406a4d",
    "order_count": 4,
    "time": "2020-07-21T09:35:27.879Z",
    "type": "executeCodeCell"
   },
   {
    "code": "self = groupbyResult\nif (type(self.index) != pd.core.indexes.range.RangeIndex):# if multi-index, then default to pandas output\n    print (\"test\")\n    index_column_name = self.index.name",
    "id": "5e39c1e5c8e740e181980e5d80cfeb44",
    "order_count": 5,
    "time": "2020-07-21T09:35:27.893Z",
    "type": "selectCodeCell"
   },
   {
    "code": "groupbyResult = df.groupby(\"Region\").sum()",
    "id": "63be682cd1e444e08c0c4d37f3406a4d",
    "isPrintLuxDf": false,
    "isPrintPandasDf": false,
    "isPrintVis": false,
    "isPrintVisCollection": false,
    "order_count": 4,
    "time": "2020-07-21T09:35:27.916Z",
    "type": "completeCodeCell"
   },
   {
    "code": "cd ../",
    "id": "a7da79e1a13643cab773017189810627",
    "order_count": 0,
    "time": "2020-07-21T09:43:38.074Z",
    "type": "selectCodeCell"
   },
   {
    "code": "for attribute in self.columns:\n    vis = Vis([index_column_name,attribute])\n    vis._inferred_query = Parser.parse(vis.query)\n    vc = Compiler.compile(self,vis._inferred_query,[vis],enumerate_collection=False)\n    vis.data = self[attribute].reset_index()\n",
    "id": "5f54f55b856742dc8bddf0782da7c89c",
    "order_count": 10,
    "time": "2020-07-21T09:43:42.978Z",
    "type": "selectCodeCell"
   },
   {
    "code": "for attribute in self.columns:\n    vis = Vis([index_column_name,attribute])\n    vis._inferred_query = Parser.parse(vis.query)\n    vc = Compiler.compile(self,vis._inferred_query,[vis],enumerate_collection=False)\n    vis.data = self[attribute].reset_index()\n",
    "id": "5f54f55b856742dc8bddf0782da7c89c",
    "order_count": 10,
    "time": "2020-07-21T09:43:42.986Z",
    "type": "editCodeCell"
   },
   {
    "code": "for attribute in self.columns:\n    vis = Vis([index_column_name,attribute])\n    vis._inferred_query = Parser.parse(vis.query)\n    vc = Compiler.compile(self,vis._inferred_query,[vis],enumerate_collection=False)\n    vis.data = self[attribute].reset_index()\n",
    "id": "5f54f55b856742dc8bddf0782da7c89c",
    "order_count": 10,
    "time": "2020-07-21T09:43:44.052Z",
    "type": "executeCodeCell"
   },
   {
    "code": "vis._inferred_query = [lux.Clause()]",
    "id": "64b2aeae74224155832a8450b8dad9aa",
    "order_count": 11,
    "time": "2020-07-21T09:43:44.085Z",
    "type": "selectCodeCell"
   },
   {
    "code": "for attribute in self.columns:\n    vis = Vis([index_column_name,attribute])\n    vis._inferred_query = Parser.parse(vis.query)\n    vc = Compiler.compile(self,vis._inferred_query,[vis],enumerate_collection=False)\n    vis.data = self[attribute].reset_index()\n",
    "id": "5f54f55b856742dc8bddf0782da7c89c",
    "isPrintLuxDf": false,
    "isPrintPandasDf": false,
    "isPrintVis": false,
    "isPrintVisCollection": false,
    "order_count": 10,
    "time": "2020-07-21T09:43:44.186Z",
    "type": "completeCodeCell"
   },
   {
    "code": "for attribute in self.columns:\n    vis = Vis([index_column_name,attribute])\n    vis._inferred_query = Parser.parse(vis.query)\n    vc = Compiler.compile(self,vis._inferred_query,[vis],enumerate_collection=False)\n    vis.data = self[attribute].reset_index()\n",
    "id": "5f54f55b856742dc8bddf0782da7c89c",
    "order_count": 10,
    "time": "2020-07-21T09:43:49.795Z",
    "type": "selectCodeCell"
   },
   {
    "code": "for attribute in self.columns:\n    vis = Vis([index_column_name,attribute])\n    vis._inferred_query = Parser.parse(vis.query)\n    vc = Compiler.compile(self,vis._inferred_query,[vis],enumerate_collection=False)\n    vis.data = self[attribute].reset_index()\n",
    "id": "5f54f55b856742dc8bddf0782da7c89c",
    "order_count": 10,
    "time": "2020-07-21T09:43:50.010Z",
    "type": "selectCodeCell"
   },
   {
    "code": "self = groupbyResult\nif (type(self.index) != pd.core.indexes.range.RangeIndex):# if multi-index, then default to pandas output\n    print (\"test\")\n    index_column_name = self.index.name",
    "id": "5e39c1e5c8e740e181980e5d80cfeb44",
    "order_count": 5,
    "time": "2020-07-21T09:43:56.204Z",
    "type": "selectCodeCell"
   },
   {
    "code": "self = groupbyResult\nif (type(self.index) != pd.core.indexes.range.RangeIndex):# if multi-index, then default to pandas output\n    print (\"test\")\n    index_column_name = self.index.name",
    "id": "5e39c1e5c8e740e181980e5d80cfeb44",
    "order_count": 5,
    "time": "2020-07-21T09:43:56.212Z",
    "type": "editCodeCell"
   },
   {
    "code": "self = groupbyResult\nif (type(self.index) != pd.core.indexes.range.RangeIndex):# if multi-index, then default to pandas output\n    print (\"test\")\n    index_column_name = self.index.name",
    "id": "5e39c1e5c8e740e181980e5d80cfeb44",
    "order_count": 5,
    "time": "2020-07-21T09:43:57.214Z",
    "type": "executeCodeCell"
   },
   {
    "code": "index_column_name",
    "id": "635986bd5dba4b92915672975a9641d8",
    "order_count": 6,
    "time": "2020-07-21T09:43:57.247Z",
    "type": "selectCodeCell"
   },
   {
    "code": "self = groupbyResult\nif (type(self.index) != pd.core.indexes.range.RangeIndex):# if multi-index, then default to pandas output\n    print (\"test\")\n    index_column_name = self.index.name",
    "id": "5e39c1e5c8e740e181980e5d80cfeb44",
    "isPrintLuxDf": false,
    "isPrintPandasDf": false,
    "isPrintVis": false,
    "isPrintVisCollection": false,
    "order_count": 5,
    "time": "2020-07-21T09:43:57.260Z",
    "type": "completeCodeCell"
   },
   {
    "code": "index_column_name",
    "id": "635986bd5dba4b92915672975a9641d8",
    "order_count": 6,
    "time": "2020-07-21T09:43:57.921Z",
    "type": "executeCodeCell"
   },
   {
    "code": "# self.reset_index()",
    "id": "dc65928dcab74a518ec6aeee3d2abc9f",
    "order_count": 7,
    "time": "2020-07-21T09:43:57.934Z",
    "type": "selectCodeCell"
   },
   {
    "code": "index_column_name",
    "id": "635986bd5dba4b92915672975a9641d8",
    "isPrintLuxDf": false,
    "isPrintPandasDf": false,
    "isPrintVis": false,
    "isPrintVisCollection": false,
    "order_count": 6,
    "time": "2020-07-21T09:43:57.946Z",
    "type": "completeCodeCell"
   },
   {
    "code": "# self.reset_index()",
    "id": "dc65928dcab74a518ec6aeee3d2abc9f",
    "order_count": 7,
    "time": "2020-07-21T09:43:58.163Z",
    "type": "executeCodeCell"
   },
   {
    "code": "from lux.vis.Vis import Vis\nfrom lux.compiler.Parser import Parser\nfrom lux.compiler.Validator import Validator\nfrom lux.compiler.Compiler import Compiler\n",
    "id": "ca07cdd3856841c082c7831ab613eb72",
    "order_count": 8,
    "time": "2020-07-21T09:43:58.181Z",
    "type": "selectCodeCell"
   },
   {
    "code": "# self.reset_index()",
    "id": "dc65928dcab74a518ec6aeee3d2abc9f",
    "isPrintLuxDf": false,
    "isPrintPandasDf": false,
    "isPrintVis": false,
    "isPrintVisCollection": false,
    "order_count": 7,
    "time": "2020-07-21T09:43:58.187Z",
    "type": "completeCodeCell"
   },
   {
    "code": "from lux.vis.Vis import Vis\nfrom lux.compiler.Parser import Parser\nfrom lux.compiler.Validator import Validator\nfrom lux.compiler.Compiler import Compiler\n",
    "id": "ca07cdd3856841c082c7831ab613eb72",
    "order_count": 8,
    "time": "2020-07-21T09:43:58.380Z",
    "type": "executeCodeCell"
   },
   {
    "code": "self.cardinality",
    "id": "5d8ba5d37b9542538726810ef82b1b45",
    "order_count": 9,
    "time": "2020-07-21T09:43:58.394Z",
    "type": "selectCodeCell"
   },
   {
    "code": "from lux.vis.Vis import Vis\nfrom lux.compiler.Parser import Parser\nfrom lux.compiler.Validator import Validator\nfrom lux.compiler.Compiler import Compiler\n",
    "id": "ca07cdd3856841c082c7831ab613eb72",
    "isPrintLuxDf": false,
    "isPrintPandasDf": false,
    "isPrintVis": false,
    "isPrintVisCollection": false,
    "order_count": 8,
    "time": "2020-07-21T09:43:58.400Z",
    "type": "completeCodeCell"
   },
   {
    "code": "self.cardinality",
    "id": "5d8ba5d37b9542538726810ef82b1b45",
    "order_count": 9,
    "time": "2020-07-21T09:43:58.620Z",
    "type": "executeCodeCell"
   },
   {
    "code": "for attribute in self.columns:\n    vis = Vis([index_column_name,attribute])\n    vis._inferred_query = Parser.parse(vis.query)\n    vc = Compiler.compile(self,vis._inferred_query,[vis],enumerate_collection=False)\n    vis.data = self[attribute].reset_index()\n",
    "id": "5f54f55b856742dc8bddf0782da7c89c",
    "order_count": 10,
    "time": "2020-07-21T09:43:58.640Z",
    "type": "selectCodeCell"
   },
   {
    "code": "self.cardinality",
    "id": "5d8ba5d37b9542538726810ef82b1b45",
    "isPrintLuxDf": false,
    "isPrintPandasDf": false,
    "isPrintVis": false,
    "isPrintVisCollection": false,
    "order_count": 9,
    "time": "2020-07-21T09:43:58.647Z",
    "type": "completeCodeCell"
   },
   {
    "code": "for attribute in self.columns:\n    vis = Vis([index_column_name,attribute])\n    vis._inferred_query = Parser.parse(vis.query)\n    vc = Compiler.compile(self,vis._inferred_query,[vis],enumerate_collection=False)\n    vis.data = self[attribute].reset_index()\n",
    "id": "5f54f55b856742dc8bddf0782da7c89c",
    "order_count": 10,
    "time": "2020-07-21T09:43:58.876Z",
    "type": "executeCodeCell"
   },
   {
    "code": "vis._inferred_query = [lux.Clause()]",
    "id": "64b2aeae74224155832a8450b8dad9aa",
    "order_count": 11,
    "time": "2020-07-21T09:43:58.891Z",
    "type": "selectCodeCell"
   },
   {
    "code": "for attribute in self.columns:\n    vis = Vis([index_column_name,attribute])\n    vis._inferred_query = Parser.parse(vis.query)\n    vc = Compiler.compile(self,vis._inferred_query,[vis],enumerate_collection=False)\n    vis.data = self[attribute].reset_index()\n",
    "id": "5f54f55b856742dc8bddf0782da7c89c",
    "isPrintLuxDf": false,
    "isPrintPandasDf": false,
    "isPrintVis": false,
    "isPrintVisCollection": false,
    "order_count": 10,
    "time": "2020-07-21T09:43:58.913Z",
    "type": "completeCodeCell"
   },
   {
    "code": "df = pd.read_csv(\"lux/data/college.csv\")",
    "id": "78a539bb361149808b28db83c04c6cab",
    "order_count": 3,
    "time": "2020-07-21T09:44:06.507Z",
    "type": "selectCodeCell"
   },
   {
    "code": "df = pd.read_csv(\"lux/data/college.csv\")",
    "id": "78a539bb361149808b28db83c04c6cab",
    "order_count": 3,
    "time": "2020-07-21T09:44:06.513Z",
    "type": "editCodeCell"
   },
   {
    "code": "df = pd.read_csv(\"lux/data/college.csv\")",
    "id": "78a539bb361149808b28db83c04c6cab",
    "order_count": 3,
    "time": "2020-07-21T09:44:07.654Z",
    "type": "executeCodeCell"
   },
   {
    "code": "groupbyResult = df.groupby(\"Region\").sum()",
    "id": "63be682cd1e444e08c0c4d37f3406a4d",
    "order_count": 4,
    "time": "2020-07-21T09:44:07.688Z",
    "type": "selectCodeCell"
   },
   {
    "code": "df = pd.read_csv(\"lux/data/college.csv\")",
    "id": "78a539bb361149808b28db83c04c6cab",
    "isPrintLuxDf": false,
    "isPrintPandasDf": false,
    "isPrintVis": false,
    "isPrintVisCollection": false,
    "order_count": 3,
    "time": "2020-07-21T09:44:07.702Z",
    "type": "completeCodeCell"
   },
   {
    "code": "groupbyResult = df.groupby(\"Region\").sum()",
    "id": "63be682cd1e444e08c0c4d37f3406a4d",
    "order_count": 4,
    "time": "2020-07-21T09:44:11.588Z",
    "type": "executeCodeCell"
   },
   {
    "code": "self = groupbyResult\nif (type(self.index) != pd.core.indexes.range.RangeIndex):# if multi-index, then default to pandas output\n    print (\"test\")\n    index_column_name = self.index.name",
    "id": "5e39c1e5c8e740e181980e5d80cfeb44",
    "order_count": 5,
    "time": "2020-07-21T09:44:11.605Z",
    "type": "selectCodeCell"
   },
   {
    "code": "groupbyResult = df.groupby(\"Region\").sum()",
    "id": "63be682cd1e444e08c0c4d37f3406a4d",
    "isPrintLuxDf": false,
    "isPrintPandasDf": false,
    "isPrintVis": false,
    "isPrintVisCollection": false,
    "order_count": 4,
    "time": "2020-07-21T09:44:11.630Z",
    "type": "completeCodeCell"
   },
   {
    "code": "df = pd.read_csv(\"lux/data/college.csv\")",
    "id": "78a539bb361149808b28db83c04c6cab",
    "order_count": 3,
    "time": "2020-07-21T09:45:17.796Z",
    "type": "selectCodeCell"
   },
   {
    "code": "",
    "id": "d244b550acc941c5abbd87eb5baacd39",
    "order_count": 4,
    "time": "2020-07-21T09:45:18.591Z",
    "type": "selectCodeCell"
   },
   {
    "code": "",
    "id": "d244b550acc941c5abbd87eb5baacd39",
    "order_count": 4,
    "time": "2020-07-21T09:45:18.820Z",
    "type": "editCodeCell"
   },
   {
    "code": "df.dtypes",
    "id": "d244b550acc941c5abbd87eb5baacd39",
    "order_count": 4,
    "time": "2020-07-21T09:45:20.480Z",
    "type": "executeCodeCell"
   },
   {
    "code": "groupbyResult = df.groupby(\"Region\").sum()",
    "id": "63be682cd1e444e08c0c4d37f3406a4d",
    "order_count": 5,
    "time": "2020-07-21T09:45:20.515Z",
    "type": "selectCodeCell"
   },
   {
    "code": "df.dtypes",
    "id": "d244b550acc941c5abbd87eb5baacd39",
    "isPrintLuxDf": false,
    "isPrintPandasDf": false,
    "isPrintVis": false,
    "isPrintVisCollection": false,
    "order_count": 4,
    "time": "2020-07-21T09:45:20.522Z",
    "type": "completeCodeCell"
   },
   {
    "code": "df.dtypes",
    "id": "d244b550acc941c5abbd87eb5baacd39",
    "order_count": 4,
    "time": "2020-07-21T09:45:21.480Z",
    "type": "selectCodeCell"
   },
   {
    "code": "df.dtypes",
    "id": "d244b550acc941c5abbd87eb5baacd39",
    "order_count": 4,
    "time": "2020-07-21T09:46:02.978Z",
    "type": "editCodeCell"
   },
   {
    "code": "df.indexx",
    "id": "d244b550acc941c5abbd87eb5baacd39",
    "order_count": 4,
    "time": "2020-07-21T09:46:06.632Z",
    "type": "executeCodeCell"
   },
   {
    "code": "groupbyResult = df.groupby(\"Region\").sum()",
    "id": "63be682cd1e444e08c0c4d37f3406a4d",
    "order_count": 5,
    "time": "2020-07-21T09:46:06.667Z",
    "type": "selectCodeCell"
   },
   {
    "code": "df.indexx",
    "id": "d244b550acc941c5abbd87eb5baacd39",
    "isPrintLuxDf": false,
    "isPrintPandasDf": false,
    "isPrintVis": false,
    "isPrintVisCollection": false,
    "order_count": 4,
    "time": "2020-07-21T09:46:06.682Z",
    "type": "completeCodeCell"
   },
   {
    "code": "df.indexx",
    "id": "d244b550acc941c5abbd87eb5baacd39",
    "order_count": 4,
    "time": "2020-07-21T09:46:07.427Z",
    "type": "selectCodeCell"
   },
   {
    "code": "df.indexx",
    "id": "d244b550acc941c5abbd87eb5baacd39",
    "order_count": 4,
    "time": "2020-07-21T09:46:07.679Z",
    "type": "editCodeCell"
   },
   {
    "code": "df.index",
    "id": "d244b550acc941c5abbd87eb5baacd39",
    "order_count": 4,
    "time": "2020-07-21T09:46:08.304Z",
    "type": "executeCodeCell"
   },
   {
    "code": "groupbyResult = df.groupby(\"Region\").sum()",
    "id": "63be682cd1e444e08c0c4d37f3406a4d",
    "order_count": 5,
    "time": "2020-07-21T09:46:08.338Z",
    "type": "selectCodeCell"
   },
   {
    "code": "df.index",
    "id": "d244b550acc941c5abbd87eb5baacd39",
    "isPrintLuxDf": false,
    "isPrintPandasDf": false,
    "isPrintVis": false,
    "isPrintVisCollection": false,
    "order_count": 4,
    "time": "2020-07-21T09:46:08.351Z",
    "type": "completeCodeCell"
   },
   {
    "code": "df.index",
    "id": "d244b550acc941c5abbd87eb5baacd39",
    "order_count": 4,
    "time": "2020-07-21T09:46:09.073Z",
    "type": "selectCodeCell"
   },
   {
    "code": "df.index",
    "id": "d244b550acc941c5abbd87eb5baacd39",
    "order_count": 4,
    "time": "2020-07-21T09:46:09.365Z",
    "type": "editCodeCell"
   },
   {
    "code": "df.index",
    "id": "d244b550acc941c5abbd87eb5baacd39",
    "order_count": null,
    "time": "2020-07-21T09:46:11.150Z",
    "type": "deleteCodeCell"
   },
   {
    "code": "groupbyResult = df.groupby(\"Region\").sum()",
    "id": "63be682cd1e444e08c0c4d37f3406a4d",
    "order_count": 4,
    "time": "2020-07-21T09:46:11.813Z",
    "type": "editCodeCell"
   },
   {
    "code": "groupbyResult = df.groupby(\"Region\").sum()",
    "id": "63be682cd1e444e08c0c4d37f3406a4d",
    "order_count": 4,
    "time": "2020-07-21T09:46:12.160Z",
    "type": "executeCodeCell"
   },
   {
    "code": "self = groupbyResult\nif (type(self.index) != pd.core.indexes.range.RangeIndex):# if multi-index, then default to pandas output\n    print (\"test\")\n    index_column_name = self.index.name",
    "id": "5e39c1e5c8e740e181980e5d80cfeb44",
    "order_count": 5,
    "time": "2020-07-21T09:46:12.197Z",
    "type": "selectCodeCell"
   },
   {
    "code": "groupbyResult = df.groupby(\"Region\").sum()",
    "id": "63be682cd1e444e08c0c4d37f3406a4d",
    "isPrintLuxDf": false,
    "isPrintPandasDf": false,
    "isPrintVis": false,
    "isPrintVisCollection": false,
    "order_count": 4,
    "time": "2020-07-21T09:46:12.210Z",
    "type": "completeCodeCell"
   },
   {
    "code": "",
    "id": "f67df2afa3824cf98c142ab3b125383e",
    "order_count": 5,
    "time": "2020-07-21T09:46:12.755Z",
    "type": "selectCodeCell"
   },
   {
    "code": "",
    "id": "f67df2afa3824cf98c142ab3b125383e",
    "order_count": 5,
    "time": "2020-07-21T09:46:12.875Z",
    "type": "editCodeCell"
   },
   {
    "code": "groupbyResult.dtypes",
    "id": "f67df2afa3824cf98c142ab3b125383e",
    "order_count": 5,
    "time": "2020-07-21T09:46:17.823Z",
    "type": "executeCodeCell"
   },
   {
    "code": "self = groupbyResult\nif (type(self.index) != pd.core.indexes.range.RangeIndex):# if multi-index, then default to pandas output\n    print (\"test\")\n    index_column_name = self.index.name",
    "id": "5e39c1e5c8e740e181980e5d80cfeb44",
    "order_count": 6,
    "time": "2020-07-21T09:46:17.861Z",
    "type": "selectCodeCell"
   },
   {
    "code": "groupbyResult.dtypes",
    "id": "f67df2afa3824cf98c142ab3b125383e",
    "isPrintLuxDf": false,
    "isPrintPandasDf": false,
    "isPrintVis": false,
    "isPrintVisCollection": false,
    "order_count": 5,
    "time": "2020-07-21T09:46:17.871Z",
    "type": "completeCodeCell"
   },
   {
    "code": "groupbyResult.dtypes",
    "id": "f67df2afa3824cf98c142ab3b125383e",
    "order_count": 5,
    "time": "2020-07-21T09:46:18.603Z",
    "type": "selectCodeCell"
   },
   {
    "code": "",
    "id": "4e8926159dca4b29bd09508818b50ed8",
    "order_count": 5,
    "time": "2020-07-21T09:46:18.955Z",
    "type": "selectCodeCell"
   },
   {
    "code": "",
    "id": "4e8926159dca4b29bd09508818b50ed8",
    "order_count": 5,
    "time": "2020-07-21T09:46:19.084Z",
    "type": "editCodeCell"
   },
   {
    "code": "groupbyResult.index.dtype",
    "id": "4e8926159dca4b29bd09508818b50ed8",
    "order_count": 5,
    "time": "2020-07-21T09:46:24.839Z",
    "type": "executeCodeCell"
   },
   {
    "code": "groupbyResult.dtypes",
    "id": "f67df2afa3824cf98c142ab3b125383e",
    "order_count": 6,
    "time": "2020-07-21T09:46:24.873Z",
    "type": "selectCodeCell"
   },
   {
    "code": "groupbyResult.index.dtype",
    "id": "4e8926159dca4b29bd09508818b50ed8",
    "isPrintLuxDf": false,
    "isPrintPandasDf": false,
    "isPrintVis": false,
    "isPrintVisCollection": false,
    "order_count": 5,
    "time": "2020-07-21T09:46:24.881Z",
    "type": "completeCodeCell"
   },
   {
    "code": "groupbyResult.index.dtype",
    "id": "4e8926159dca4b29bd09508818b50ed8",
    "order_count": 5,
    "time": "2020-07-21T09:46:25.501Z",
    "type": "selectCodeCell"
   },
   {
    "code": "groupbyResult.index.dtype",
    "id": "4e8926159dca4b29bd09508818b50ed8",
    "order_count": 5,
    "time": "2020-07-21T09:46:25.774Z",
    "type": "editCodeCell"
   },
   {
    "code": "groupbyResult.index.dtype",
    "id": "4e8926159dca4b29bd09508818b50ed8",
    "order_count": 5,
    "time": "2020-07-21T09:46:30.613Z",
    "type": "selectCodeCell"
   },
   {
    "code": "groupbyResult.index.dtype",
    "id": "4e8926159dca4b29bd09508818b50ed8",
    "order_count": 5,
    "time": "2020-07-21T09:46:31.004Z",
    "type": "selectCodeCell"
   },
   {
    "code": "groupbyResult.index.dtype",
    "id": "4e8926159dca4b29bd09508818b50ed8",
    "order_count": 5,
    "time": "2020-07-21T09:46:32.332Z",
    "type": "selectCodeCell"
   },
   {
    "code": "",
    "id": "83ebdf13b37f4d3e81ef200b12dd7848",
    "order_count": 5,
    "time": "2020-07-21T09:46:32.764Z",
    "type": "selectCodeCell"
   },
   {
    "code": "",
    "id": "83ebdf13b37f4d3e81ef200b12dd7848",
    "order_count": 5,
    "time": "2020-07-21T09:46:33.004Z",
    "type": "editCodeCell"
   },
   {
    "code": "groupbyResult.index",
    "id": "83ebdf13b37f4d3e81ef200b12dd7848",
    "order_count": 5,
    "time": "2020-07-21T09:46:34.744Z",
    "type": "executeCodeCell"
   },
   {
    "code": "groupbyResult.index.dtype",
    "id": "4e8926159dca4b29bd09508818b50ed8",
    "order_count": 6,
    "time": "2020-07-21T09:46:34.779Z",
    "type": "selectCodeCell"
   },
   {
    "code": "groupbyResult.index",
    "id": "83ebdf13b37f4d3e81ef200b12dd7848",
    "isPrintLuxDf": false,
    "isPrintPandasDf": false,
    "isPrintVis": false,
    "isPrintVisCollection": false,
    "order_count": 5,
    "time": "2020-07-21T09:46:34.785Z",
    "type": "completeCodeCell"
   },
   {
    "code": "groupbyResult.index",
    "id": "83ebdf13b37f4d3e81ef200b12dd7848",
    "order_count": 5,
    "time": "2020-07-21T09:48:21.626Z",
    "type": "selectCodeCell"
   },
   {
    "code": "groupbyResult.index.dtype",
    "id": "4e8926159dca4b29bd09508818b50ed8",
    "order_count": 6,
    "time": "2020-07-21T09:48:22.287Z",
    "type": "selectCodeCell"
   },
   {
    "code": "groupbyResult.index.dtype",
    "id": "4e8926159dca4b29bd09508818b50ed8",
    "order_count": 6,
    "time": "2020-07-21T09:48:22.293Z",
    "type": "editCodeCell"
   },
   {
    "code": "groupbyResult.index.dtype",
    "id": "4e8926159dca4b29bd09508818b50ed8",
    "order_count": 6,
    "time": "2020-07-21T09:48:22.978Z",
    "type": "selectCodeCell"
   },
   {
    "code": "groupbyResult.index.dtype",
    "id": "4e8926159dca4b29bd09508818b50ed8",
    "order_count": 6,
    "time": "2020-07-21T09:48:23.334Z",
    "type": "selectCodeCell"
   },
   {
    "code": "groupbyResult.index.dtype",
    "id": "4e8926159dca4b29bd09508818b50ed8",
    "order_count": 6,
    "time": "2020-07-21T09:48:23.882Z",
    "type": "selectCodeCell"
   },
   {
    "time": "2020-07-21T09:48:26.840Z",
    "type": "kernelRestart"
   },
   {
    "code": "groupbyResult.index",
    "id": "83ebdf13b37f4d3e81ef200b12dd7848",
    "order_count": 5,
    "time": "2020-07-21T09:48:27.360Z",
    "type": "selectCodeCell"
   },
   {
    "code": "groupbyResult = df.groupby(\"Region\").sum()",
    "id": "63be682cd1e444e08c0c4d37f3406a4d",
    "order_count": 4,
    "time": "2020-07-21T09:48:27.536Z",
    "type": "selectCodeCell"
   },
   {
    "code": "df = pd.read_csv(\"lux/data/college.csv\")",
    "id": "78a539bb361149808b28db83c04c6cab",
    "order_count": 3,
    "time": "2020-07-21T09:48:27.697Z",
    "type": "selectCodeCell"
   },
   {
    "code": "import pandas as pd\n%load_ext autoreload\n%autoreload 2\nimport lux",
    "id": "7428a8a53da0452880d1e6c1d21e8324",
    "order_count": 2,
    "time": "2020-07-21T09:48:27.862Z",
    "type": "selectCodeCell"
   },
   {
    "code": "This dataset contains a total of 1295 records of American colleges and their properties, collected by the [US Department of Education](https://collegescorecard.ed.gov/data/documentation/).",
    "id": "d71c5c8d5ca64ce888dbd78140f7092b",
    "order_count": 1,
    "time": "2020-07-21T09:48:28.009Z",
    "type": "selectMarkdownCell"
   },
   {
    "code": "cd ../",
    "id": "a7da79e1a13643cab773017189810627",
    "order_count": 0,
    "time": "2020-07-21T09:48:28.173Z",
    "type": "selectCodeCell"
   },
   {
    "time": "2020-07-21T09:48:28.579Z",
    "type": "kernelReady"
   },
   {
    "code": "cd ../",
    "id": "a7da79e1a13643cab773017189810627",
    "order_count": 0,
    "time": "2020-07-21T09:48:28.642Z",
    "type": "executeCodeCell"
   },
   {
    "code": "This dataset contains a total of 1295 records of American colleges and their properties, collected by the [US Department of Education](https://collegescorecard.ed.gov/data/documentation/).",
    "id": "d71c5c8d5ca64ce888dbd78140f7092b",
    "order_count": 1,
    "time": "2020-07-21T09:48:28.651Z",
    "type": "selectMarkdownCell"
   },
   {
    "code": "cd ../",
    "id": "a7da79e1a13643cab773017189810627",
    "isPrintLuxDf": false,
    "isPrintPandasDf": false,
    "isPrintVis": false,
    "isPrintVisCollection": false,
    "order_count": 0,
    "time": "2020-07-21T09:48:28.670Z",
    "type": "completeCodeCell"
   },
   {
    "code": "import pandas as pd\n%load_ext autoreload\n%autoreload 2\nimport lux",
    "id": "7428a8a53da0452880d1e6c1d21e8324",
    "order_count": 2,
    "time": "2020-07-21T09:48:28.841Z",
    "type": "selectCodeCell"
   },
   {
    "code": "import pandas as pd\n%load_ext autoreload\n%autoreload 2\nimport lux",
    "id": "7428a8a53da0452880d1e6c1d21e8324",
    "order_count": 2,
    "time": "2020-07-21T09:48:29.009Z",
    "type": "executeCodeCell"
   },
   {
    "code": "df = pd.read_csv(\"lux/data/college.csv\")",
    "id": "78a539bb361149808b28db83c04c6cab",
    "order_count": 3,
    "time": "2020-07-21T09:48:29.024Z",
    "type": "selectCodeCell"
   },
   {
    "code": "df = pd.read_csv(\"lux/data/college.csv\")",
    "id": "78a539bb361149808b28db83c04c6cab",
    "order_count": 3,
    "time": "2020-07-21T09:48:29.167Z",
    "type": "executeCodeCell"
   },
   {
    "code": "groupbyResult = df.groupby(\"Region\").sum()",
    "id": "63be682cd1e444e08c0c4d37f3406a4d",
    "order_count": 4,
    "time": "2020-07-21T09:48:29.180Z",
    "type": "selectCodeCell"
   },
   {
    "code": "groupbyResult = df.groupby(\"Region\").sum()",
    "id": "63be682cd1e444e08c0c4d37f3406a4d",
    "order_count": 4,
    "time": "2020-07-21T09:48:29.327Z",
    "type": "executeCodeCell"
   },
   {
    "code": "groupbyResult.index",
    "id": "83ebdf13b37f4d3e81ef200b12dd7848",
    "order_count": 5,
    "time": "2020-07-21T09:48:29.339Z",
    "type": "selectCodeCell"
   },
   {
    "code": "import pandas as pd\n%load_ext autoreload\n%autoreload 2\nimport lux",
    "id": "7428a8a53da0452880d1e6c1d21e8324",
    "isPrintLuxDf": false,
    "isPrintPandasDf": false,
    "isPrintVis": false,
    "isPrintVisCollection": false,
    "order_count": 2,
    "time": "2020-07-21T09:48:29.379Z",
    "type": "completeCodeCell"
   },
   {
    "code": "df = pd.read_csv(\"lux/data/college.csv\")",
    "id": "78a539bb361149808b28db83c04c6cab",
    "isPrintLuxDf": false,
    "isPrintPandasDf": false,
    "isPrintVis": false,
    "isPrintVisCollection": false,
    "order_count": 3,
    "time": "2020-07-21T09:48:29.425Z",
    "type": "completeCodeCell"
   },
   {
    "code": "groupbyResult = df.groupby(\"Region\").sum()",
    "id": "63be682cd1e444e08c0c4d37f3406a4d",
    "isPrintLuxDf": false,
    "isPrintPandasDf": false,
    "isPrintVis": false,
    "isPrintVisCollection": false,
    "order_count": 4,
    "time": "2020-07-21T09:48:29.460Z",
    "type": "completeCodeCell"
   },
   {
    "code": "groupbyResult.index",
    "id": "83ebdf13b37f4d3e81ef200b12dd7848",
    "order_count": 5,
    "time": "2020-07-21T09:48:29.496Z",
    "type": "executeCodeCell"
   },
   {
    "code": "groupbyResult.index.dtype",
    "id": "4e8926159dca4b29bd09508818b50ed8",
    "order_count": 6,
    "time": "2020-07-21T09:48:29.508Z",
    "type": "selectCodeCell"
   },
   {
    "code": "groupbyResult.index",
    "id": "83ebdf13b37f4d3e81ef200b12dd7848",
    "isPrintLuxDf": false,
    "isPrintPandasDf": false,
    "isPrintVis": false,
    "isPrintVisCollection": false,
    "order_count": 5,
    "time": "2020-07-21T09:48:29.524Z",
    "type": "completeCodeCell"
   },
   {
    "code": "groupbyResult.index.dtype",
    "id": "4e8926159dca4b29bd09508818b50ed8",
    "order_count": 6,
    "time": "2020-07-21T09:48:29.673Z",
    "type": "executeCodeCell"
   },
   {
    "code": "groupbyResult.dtypes",
    "id": "f67df2afa3824cf98c142ab3b125383e",
    "order_count": 7,
    "time": "2020-07-21T09:48:29.688Z",
    "type": "selectCodeCell"
   },
   {
    "code": "groupbyResult.index.dtype",
    "id": "4e8926159dca4b29bd09508818b50ed8",
    "isPrintLuxDf": false,
    "isPrintPandasDf": false,
    "isPrintVis": false,
    "isPrintVisCollection": false,
    "order_count": 6,
    "time": "2020-07-21T09:48:29.704Z",
    "type": "completeCodeCell"
   },
   {
    "code": "groupbyResult.dtypes",
    "id": "f67df2afa3824cf98c142ab3b125383e",
    "order_count": 7,
    "time": "2020-07-21T09:48:29.872Z",
    "type": "executeCodeCell"
   },
   {
    "code": "self = groupbyResult\nif (type(self.index) != pd.core.indexes.range.RangeIndex):# if multi-index, then default to pandas output\n    print (\"test\")\n    index_column_name = self.index.name",
    "id": "5e39c1e5c8e740e181980e5d80cfeb44",
    "order_count": 8,
    "time": "2020-07-21T09:48:29.889Z",
    "type": "selectCodeCell"
   },
   {
    "code": "groupbyResult.dtypes",
    "id": "f67df2afa3824cf98c142ab3b125383e",
    "isPrintLuxDf": false,
    "isPrintPandasDf": false,
    "isPrintVis": false,
    "isPrintVisCollection": false,
    "order_count": 7,
    "time": "2020-07-21T09:48:29.901Z",
    "type": "completeCodeCell"
   },
   {
    "code": "self = groupbyResult\nif (type(self.index) != pd.core.indexes.range.RangeIndex):# if multi-index, then default to pandas output\n    print (\"test\")\n    index_column_name = self.index.name",
    "id": "5e39c1e5c8e740e181980e5d80cfeb44",
    "order_count": 8,
    "time": "2020-07-21T09:48:30.282Z",
    "type": "executeCodeCell"
   },
   {
    "code": "index_column_name",
    "id": "635986bd5dba4b92915672975a9641d8",
    "order_count": 9,
    "time": "2020-07-21T09:48:30.297Z",
    "type": "selectCodeCell"
   },
   {
    "code": "self = groupbyResult\nif (type(self.index) != pd.core.indexes.range.RangeIndex):# if multi-index, then default to pandas output\n    print (\"test\")\n    index_column_name = self.index.name",
    "id": "5e39c1e5c8e740e181980e5d80cfeb44",
    "isPrintLuxDf": false,
    "isPrintPandasDf": false,
    "isPrintVis": false,
    "isPrintVisCollection": false,
    "order_count": 8,
    "time": "2020-07-21T09:48:30.312Z",
    "type": "completeCodeCell"
   },
   {
    "code": "index_column_name",
    "id": "635986bd5dba4b92915672975a9641d8",
    "order_count": 9,
    "time": "2020-07-21T09:48:30.530Z",
    "type": "executeCodeCell"
   },
   {
    "code": "# self.reset_index()",
    "id": "dc65928dcab74a518ec6aeee3d2abc9f",
    "order_count": 10,
    "time": "2020-07-21T09:48:30.546Z",
    "type": "selectCodeCell"
   },
   {
    "code": "index_column_name",
    "id": "635986bd5dba4b92915672975a9641d8",
    "isPrintLuxDf": false,
    "isPrintPandasDf": false,
    "isPrintVis": false,
    "isPrintVisCollection": false,
    "order_count": 9,
    "time": "2020-07-21T09:48:30.560Z",
    "type": "completeCodeCell"
   },
   {
    "code": "# self.reset_index()",
    "id": "dc65928dcab74a518ec6aeee3d2abc9f",
    "order_count": 10,
    "time": "2020-07-21T09:48:30.761Z",
    "type": "executeCodeCell"
   },
   {
    "code": "from lux.vis.Vis import Vis\nfrom lux.compiler.Parser import Parser\nfrom lux.compiler.Validator import Validator\nfrom lux.compiler.Compiler import Compiler\n",
    "id": "ca07cdd3856841c082c7831ab613eb72",
    "order_count": 11,
    "time": "2020-07-21T09:48:30.779Z",
    "type": "selectCodeCell"
   },
   {
    "code": "# self.reset_index()",
    "id": "dc65928dcab74a518ec6aeee3d2abc9f",
    "isPrintLuxDf": false,
    "isPrintPandasDf": false,
    "isPrintVis": false,
    "isPrintVisCollection": false,
    "order_count": 10,
    "time": "2020-07-21T09:48:30.785Z",
    "type": "completeCodeCell"
   },
   {
    "code": "from lux.vis.Vis import Vis\nfrom lux.compiler.Parser import Parser\nfrom lux.compiler.Validator import Validator\nfrom lux.compiler.Compiler import Compiler\n",
    "id": "ca07cdd3856841c082c7831ab613eb72",
    "order_count": 11,
    "time": "2020-07-21T09:48:31.161Z",
    "type": "executeCodeCell"
   },
   {
    "code": "self.cardinality",
    "id": "5d8ba5d37b9542538726810ef82b1b45",
    "order_count": 12,
    "time": "2020-07-21T09:48:31.176Z",
    "type": "selectCodeCell"
   },
   {
    "code": "from lux.vis.Vis import Vis\nfrom lux.compiler.Parser import Parser\nfrom lux.compiler.Validator import Validator\nfrom lux.compiler.Compiler import Compiler\n",
    "id": "ca07cdd3856841c082c7831ab613eb72",
    "isPrintLuxDf": false,
    "isPrintPandasDf": false,
    "isPrintVis": false,
    "isPrintVisCollection": false,
    "order_count": 11,
    "time": "2020-07-21T09:48:31.182Z",
    "type": "completeCodeCell"
   },
   {
    "code": "self.cardinality",
    "id": "5d8ba5d37b9542538726810ef82b1b45",
    "order_count": 12,
    "time": "2020-07-21T09:48:31.458Z",
    "type": "executeCodeCell"
   },
   {
    "code": "for attribute in self.columns:\n    vis = Vis([index_column_name,attribute])\n    vis._inferred_query = Parser.parse(vis.query)\n    vc = Compiler.compile(self,vis._inferred_query,[vis],enumerate_collection=False)\n    vis.data = self[attribute].reset_index()\n",
    "id": "5f54f55b856742dc8bddf0782da7c89c",
    "order_count": 13,
    "time": "2020-07-21T09:48:31.479Z",
    "type": "selectCodeCell"
   },
   {
    "code": "self.cardinality",
    "id": "5d8ba5d37b9542538726810ef82b1b45",
    "isPrintLuxDf": false,
    "isPrintPandasDf": false,
    "isPrintVis": false,
    "isPrintVisCollection": false,
    "order_count": 12,
    "time": "2020-07-21T09:48:31.487Z",
    "type": "completeCodeCell"
   },
   {
    "code": "for attribute in self.columns:\n    vis = Vis([index_column_name,attribute])\n    vis._inferred_query = Parser.parse(vis.query)\n    vc = Compiler.compile(self,vis._inferred_query,[vis],enumerate_collection=False)\n    vis.data = self[attribute].reset_index()\n",
    "id": "5f54f55b856742dc8bddf0782da7c89c",
    "order_count": 13,
    "time": "2020-07-21T09:48:31.867Z",
    "type": "executeCodeCell"
   },
   {
    "code": "vis._inferred_query = [lux.Clause()]",
    "id": "64b2aeae74224155832a8450b8dad9aa",
    "order_count": 14,
    "time": "2020-07-21T09:48:31.883Z",
    "type": "selectCodeCell"
   },
   {
    "code": "for attribute in self.columns:\n    vis = Vis([index_column_name,attribute])\n    vis._inferred_query = Parser.parse(vis.query)\n    vc = Compiler.compile(self,vis._inferred_query,[vis],enumerate_collection=False)\n    vis.data = self[attribute].reset_index()\n",
    "id": "5f54f55b856742dc8bddf0782da7c89c",
    "isPrintLuxDf": false,
    "isPrintPandasDf": false,
    "isPrintVis": false,
    "isPrintVisCollection": false,
    "order_count": 13,
    "time": "2020-07-21T09:48:31.997Z",
    "type": "completeCodeCell"
   },
   {
    "code": "for attribute in self.columns:\n    vis = Vis([index_column_name,attribute])\n    vis._inferred_query = Parser.parse(vis.query)\n    vc = Compiler.compile(self,vis._inferred_query,[vis],enumerate_collection=False)\n    vis.data = self[attribute].reset_index()\n",
    "id": "5f54f55b856742dc8bddf0782da7c89c",
    "order_count": 13,
    "time": "2020-07-21T09:48:33.308Z",
    "type": "selectCodeCell"
   },
   {
    "code": "self.cardinality",
    "id": "5d8ba5d37b9542538726810ef82b1b45",
    "order_count": 12,
    "time": "2020-07-21T09:48:35.096Z",
    "type": "selectCodeCell"
   },
   {
    "code": "self.cardinality",
    "id": "5d8ba5d37b9542538726810ef82b1b45",
    "order_count": 12,
    "time": "2020-07-21T09:48:35.936Z",
    "type": "editCodeCell"
   },
   {
    "code": "self.data_type",
    "id": "5d8ba5d37b9542538726810ef82b1b45",
    "order_count": 12,
    "time": "2020-07-21T09:48:43.324Z",
    "type": "executeCodeCell"
   },
   {
    "code": "for attribute in self.columns:\n    vis = Vis([index_column_name,attribute])\n    vis._inferred_query = Parser.parse(vis.query)\n    vc = Compiler.compile(self,vis._inferred_query,[vis],enumerate_collection=False)\n    vis.data = self[attribute].reset_index()\n",
    "id": "5f54f55b856742dc8bddf0782da7c89c",
    "order_count": 13,
    "time": "2020-07-21T09:48:43.368Z",
    "type": "selectCodeCell"
   },
   {
    "code": "self.data_type",
    "id": "5d8ba5d37b9542538726810ef82b1b45",
    "isPrintLuxDf": false,
    "isPrintPandasDf": false,
    "isPrintVis": false,
    "isPrintVisCollection": false,
    "order_count": 12,
    "time": "2020-07-21T09:48:43.374Z",
    "type": "completeCodeCell"
   },
   {
    "time": "2020-07-21T09:48:49.571Z",
    "type": "kernelReady"
   },
   {
    "time": "2020-07-21T10:23:42.314Z",
    "type": "kernelReady"
   },
   {
    "time": "2020-07-21T10:59:28.167Z",
    "type": "kernelReady"
   },
   {
    "time": "2020-07-21T11:00:08.880Z",
    "type": "kernelReady"
   },
   {
    "code": "for attribute in self.columns:\n    vis = Vis([index_column_name,attribute])\n    vis._inferred_query = Parser.parse(vis.query)\n    vc = Compiler.compile(self,vis._inferred_query,[vis],enumerate_collection=False)\n    vis.data = self[attribute].reset_index()\n",
    "id": "5f54f55b856742dc8bddf0782da7c89c",
    "order_count": 13,
    "time": "2020-07-21T11:21:13.888Z",
    "type": "editCodeCell"
   },
   {
    "code": "for attribute in self.columns:\n    vis = Vis([index_column_name,attribute])\n    vis._inferred_query = Parser.parse(vis.query)\n    vc = Compiler.compile(self,vis._inferred_query,[vis],enumerate_collection=False)\n    vis.data = self[attribute].reset_index()\n",
    "id": "5f54f55b856742dc8bddf0782da7c89c",
    "order_count": 13,
    "time": "2020-07-21T11:21:56.106Z",
    "type": "editCodeCell"
   },
   {
    "code": "for attribute in self.columns:\n    vis = Vis([index_column_name,attribute])\n    vis._inferred_query = Parser.parse(vis.query)\n    vc = Compiler.compile(self,vis._inferred_query,[vis],enumerate_collection=False)\n    vis.data = self[attribute].reset_index()\n",
    "id": "5f54f55b856742dc8bddf0782da7c89c",
    "order_count": 13,
    "time": "2020-07-21T11:23:25.276Z",
    "type": "editCodeCell"
   },
   {
    "code": "for attribute in self.columns:\n    vis = Vis([index_column_name,attribute])\n    vis._inferred_query = Parser.parse(vis.query)\n    vc = Compiler.compile(self,vis._inferred_query,[vis],enumerate_collection=False)\n    vis.data = self[attribute].reset_index()\n",
    "id": "5f54f55b856742dc8bddf0782da7c89c",
    "order_count": 13,
    "time": "2020-07-21T11:23:26.128Z",
    "type": "selectCodeCell"
   },
   {
    "code": "for attribute in self.columns:\n    vis = Vis([index_column_name,attribute])\n    vis._inferred_query = Parser.parse(vis.query)\n    vc = Compiler.compile(self,vis._inferred_query,[vis],enumerate_collection=False)\n    vis.data = self[attribute].reset_index()\n",
    "id": "5f54f55b856742dc8bddf0782da7c89c",
    "order_count": 13,
    "time": "2020-07-21T11:25:18.395Z",
    "type": "editCodeCell"
   },
   {
    "code": "for attribute in self.columns:\n    vis = Vis([index_column_name,attribute])\n    vis._inferred_query = Parser.parse(vis.query)\n    vc = Compiler.compile(self,vis._inferred_query,[vis],enumerate_collection=False)\n    vis.data = self[attribute].reset_index()\n",
    "id": "5f54f55b856742dc8bddf0782da7c89c",
    "order_count": 13,
    "time": "2020-07-21T11:25:18.861Z",
    "type": "selectCodeCell"
   },
   {
    "code": "for attribute in self.columns:\n    vis = Vis([index_column_name,attribute])\n    vis._inferred_query = Parser.parse(vis.query)\n    vc = Compiler.compile(self,vis._inferred_query,[vis],enumerate_collection=False)\n    vis.data = self[attribute].reset_index()\n",
    "id": "5f54f55b856742dc8bddf0782da7c89c",
    "order_count": 13,
    "time": "2020-07-21T11:25:58.517Z",
    "type": "editCodeCell"
   },
   {
    "code": "cd ../",
    "id": "a7da79e1a13643cab773017189810627",
    "order_count": 0,
    "time": "2020-07-21T11:26:04.780Z",
    "type": "selectCodeCell"
   },
   {
    "code": "cd ../",
    "id": "a7da79e1a13643cab773017189810627",
    "order_count": 0,
    "time": "2020-07-21T11:26:05.516Z",
    "type": "executeCodeCell"
   },
   {
    "code": "This dataset contains a total of 1295 records of American colleges and their properties, collected by the [US Department of Education](https://collegescorecard.ed.gov/data/documentation/).",
    "id": "d71c5c8d5ca64ce888dbd78140f7092b",
    "order_count": 1,
    "time": "2020-07-21T11:26:05.525Z",
    "type": "selectMarkdownCell"
   },
   {
    "code": "cd ../",
    "id": "a7da79e1a13643cab773017189810627",
    "isPrintLuxDf": false,
    "isPrintPandasDf": false,
    "isPrintVis": false,
    "isPrintVisCollection": false,
    "order_count": 0,
    "time": "2020-07-21T11:26:05.565Z",
    "type": "completeCodeCell"
   },
   {
    "code": "import pandas as pd\n%load_ext autoreload\n%autoreload 2\nimport lux",
    "id": "7428a8a53da0452880d1e6c1d21e8324",
    "order_count": 2,
    "time": "2020-07-21T11:26:05.721Z",
    "type": "selectCodeCell"
   },
   {
    "code": "import pandas as pd\n%load_ext autoreload\n%autoreload 2\nimport lux",
    "id": "7428a8a53da0452880d1e6c1d21e8324",
    "order_count": 2,
    "time": "2020-07-21T11:26:05.804Z",
    "type": "executeCodeCell"
   },
   {
    "code": "df = pd.read_csv(\"lux/data/college.csv\")",
    "id": "78a539bb361149808b28db83c04c6cab",
    "order_count": 3,
    "time": "2020-07-21T11:26:05.821Z",
    "type": "selectCodeCell"
   },
   {
    "code": "import pandas as pd\n%load_ext autoreload\n%autoreload 2\nimport lux",
    "id": "7428a8a53da0452880d1e6c1d21e8324",
    "isPrintLuxDf": false,
    "isPrintPandasDf": false,
    "isPrintVis": false,
    "isPrintVisCollection": false,
    "order_count": 2,
    "time": "2020-07-21T11:26:05.828Z",
    "type": "completeCodeCell"
   },
   {
    "code": "df = pd.read_csv(\"lux/data/college.csv\")",
    "id": "78a539bb361149808b28db83c04c6cab",
    "order_count": 3,
    "time": "2020-07-21T11:26:05.948Z",
    "type": "executeCodeCell"
   },
   {
    "code": "groupbyResult = df.groupby(\"Region\").sum()",
    "id": "63be682cd1e444e08c0c4d37f3406a4d",
    "order_count": 4,
    "time": "2020-07-21T11:26:05.964Z",
    "type": "selectCodeCell"
   },
   {
    "code": "df = pd.read_csv(\"lux/data/college.csv\")",
    "id": "78a539bb361149808b28db83c04c6cab",
    "isPrintLuxDf": false,
    "isPrintPandasDf": false,
    "isPrintVis": false,
    "isPrintVisCollection": false,
    "order_count": 3,
    "time": "2020-07-21T11:26:05.986Z",
    "type": "completeCodeCell"
   },
   {
    "code": "groupbyResult = df.groupby(\"Region\").sum()",
    "id": "63be682cd1e444e08c0c4d37f3406a4d",
    "order_count": 4,
    "time": "2020-07-21T11:26:06.076Z",
    "type": "executeCodeCell"
   },
   {
    "code": "groupbyResult.index",
    "id": "83ebdf13b37f4d3e81ef200b12dd7848",
    "order_count": 5,
    "time": "2020-07-21T11:26:06.094Z",
    "type": "selectCodeCell"
   },
   {
    "code": "groupbyResult.index",
    "id": "83ebdf13b37f4d3e81ef200b12dd7848",
    "order_count": 5,
    "time": "2020-07-21T11:26:06.204Z",
    "type": "executeCodeCell"
   },
   {
    "code": "groupbyResult.index.dtype",
    "id": "4e8926159dca4b29bd09508818b50ed8",
    "order_count": 6,
    "time": "2020-07-21T11:26:06.221Z",
    "type": "selectCodeCell"
   },
   {
    "code": "groupbyResult = df.groupby(\"Region\").sum()",
    "id": "63be682cd1e444e08c0c4d37f3406a4d",
    "isPrintLuxDf": false,
    "isPrintPandasDf": false,
    "isPrintVis": false,
    "isPrintVisCollection": false,
    "order_count": 4,
    "time": "2020-07-21T11:26:06.339Z",
    "type": "completeCodeCell"
   },
   {
    "code": "groupbyResult.index",
    "id": "83ebdf13b37f4d3e81ef200b12dd7848",
    "isPrintLuxDf": false,
    "isPrintPandasDf": false,
    "isPrintVis": false,
    "isPrintVisCollection": false,
    "order_count": 5,
    "time": "2020-07-21T11:26:06.340Z",
    "type": "completeCodeCell"
   },
   {
    "time": "2020-07-21T11:26:08.189Z",
    "type": "kernelRestart"
   },
   {
    "time": "2020-07-21T11:26:08.291Z",
    "type": "kernelRestart"
   },
   {
    "code": "groupbyResult.index",
    "id": "83ebdf13b37f4d3e81ef200b12dd7848",
    "order_count": 5,
    "time": "2020-07-21T11:26:08.714Z",
    "type": "selectCodeCell"
   },
   {
    "code": "groupbyResult = df.groupby(\"Region\").sum()",
    "id": "63be682cd1e444e08c0c4d37f3406a4d",
    "order_count": 4,
    "time": "2020-07-21T11:26:08.865Z",
    "type": "selectCodeCell"
   },
   {
    "code": "df = pd.read_csv(\"lux/data/college.csv\")",
    "id": "78a539bb361149808b28db83c04c6cab",
    "order_count": 3,
    "time": "2020-07-21T11:26:08.994Z",
    "type": "selectCodeCell"
   },
   {
    "code": "import pandas as pd\n%load_ext autoreload\n%autoreload 2\nimport lux",
    "id": "7428a8a53da0452880d1e6c1d21e8324",
    "order_count": 2,
    "time": "2020-07-21T11:26:09.112Z",
    "type": "selectCodeCell"
   },
   {
    "code": "This dataset contains a total of 1295 records of American colleges and their properties, collected by the [US Department of Education](https://collegescorecard.ed.gov/data/documentation/).",
    "id": "d71c5c8d5ca64ce888dbd78140f7092b",
    "order_count": 1,
    "time": "2020-07-21T11:26:09.249Z",
    "type": "selectMarkdownCell"
   },
   {
    "code": "cd ../",
    "id": "a7da79e1a13643cab773017189810627",
    "order_count": 0,
    "time": "2020-07-21T11:26:09.390Z",
    "type": "selectCodeCell"
   },
   {
    "code": "cd ../",
    "id": "a7da79e1a13643cab773017189810627",
    "order_count": 0,
    "time": "2020-07-21T11:26:09.867Z",
    "type": "executeCodeCell"
   },
   {
    "code": "This dataset contains a total of 1295 records of American colleges and their properties, collected by the [US Department of Education](https://collegescorecard.ed.gov/data/documentation/).",
    "id": "d71c5c8d5ca64ce888dbd78140f7092b",
    "order_count": 1,
    "time": "2020-07-21T11:26:09.873Z",
    "type": "selectMarkdownCell"
   },
   {
    "code": "import pandas as pd\n%load_ext autoreload\n%autoreload 2\nimport lux",
    "id": "7428a8a53da0452880d1e6c1d21e8324",
    "order_count": 2,
    "time": "2020-07-21T11:26:10.008Z",
    "type": "selectCodeCell"
   },
   {
    "code": "import pandas as pd\n%load_ext autoreload\n%autoreload 2\nimport lux",
    "id": "7428a8a53da0452880d1e6c1d21e8324",
    "order_count": 2,
    "time": "2020-07-21T11:26:10.115Z",
    "type": "executeCodeCell"
   },
   {
    "code": "df = pd.read_csv(\"lux/data/college.csv\")",
    "id": "78a539bb361149808b28db83c04c6cab",
    "order_count": 3,
    "time": "2020-07-21T11:26:10.130Z",
    "type": "selectCodeCell"
   },
   {
    "time": "2020-07-21T11:26:10.152Z",
    "type": "kernelReady"
   },
   {
    "code": "cd ../",
    "id": "a7da79e1a13643cab773017189810627",
    "isPrintLuxDf": false,
    "isPrintPandasDf": false,
    "isPrintVis": false,
    "isPrintVisCollection": false,
    "order_count": 0,
    "time": "2020-07-21T11:26:10.154Z",
    "type": "completeCodeCell"
   },
   {
    "code": "df = pd.read_csv(\"lux/data/college.csv\")",
    "id": "78a539bb361149808b28db83c04c6cab",
    "order_count": 3,
    "time": "2020-07-21T11:26:10.267Z",
    "type": "executeCodeCell"
   },
   {
    "code": "groupbyResult = df.groupby(\"Region\").sum()",
    "id": "63be682cd1e444e08c0c4d37f3406a4d",
    "order_count": 4,
    "time": "2020-07-21T11:26:10.283Z",
    "type": "selectCodeCell"
   },
   {
    "code": "groupbyResult = df.groupby(\"Region\").sum()",
    "id": "63be682cd1e444e08c0c4d37f3406a4d",
    "order_count": 4,
    "time": "2020-07-21T11:26:10.396Z",
    "type": "executeCodeCell"
   },
   {
    "code": "groupbyResult.index",
    "id": "83ebdf13b37f4d3e81ef200b12dd7848",
    "order_count": 5,
    "time": "2020-07-21T11:26:10.409Z",
    "type": "selectCodeCell"
   },
   {
    "code": "import pandas as pd\n%load_ext autoreload\n%autoreload 2\nimport lux",
    "id": "7428a8a53da0452880d1e6c1d21e8324",
    "isPrintLuxDf": false,
    "isPrintPandasDf": false,
    "isPrintVis": false,
    "isPrintVisCollection": false,
    "order_count": 2,
    "time": "2020-07-21T11:26:10.548Z",
    "type": "completeCodeCell"
   },
   {
    "time": "2020-07-21T11:26:10.557Z",
    "type": "kernelReady"
   },
   {
    "code": "df = pd.read_csv(\"lux/data/college.csv\")",
    "id": "78a539bb361149808b28db83c04c6cab",
    "isPrintLuxDf": false,
    "isPrintPandasDf": false,
    "isPrintVis": false,
    "isPrintVisCollection": false,
    "order_count": 3,
    "time": "2020-07-21T11:26:10.588Z",
    "type": "completeCodeCell"
   },
   {
    "code": "groupbyResult = df.groupby(\"Region\").sum()",
    "id": "63be682cd1e444e08c0c4d37f3406a4d",
    "isPrintLuxDf": false,
    "isPrintPandasDf": false,
    "isPrintVis": false,
    "isPrintVisCollection": false,
    "order_count": 4,
    "time": "2020-07-21T11:26:10.633Z",
    "type": "completeCodeCell"
   },
   {
    "time": "2020-07-21T11:26:10.636Z",
    "type": "kernelReady"
   },
   {
    "code": "",
    "id": "11e73c6f69bd49298a3f5407bf8d4840",
    "order_count": 5,
    "time": "2020-07-21T11:26:12.452Z",
    "type": "selectCodeCell"
   },
   {
    "code": "",
    "id": "11e73c6f69bd49298a3f5407bf8d4840",
    "order_count": 5,
    "time": "2020-07-21T11:26:12.572Z",
    "type": "editCodeCell"
   },
   {
    "code": "groupbyResult.data_type",
    "id": "11e73c6f69bd49298a3f5407bf8d4840",
    "order_count": 5,
    "time": "2020-07-21T11:26:20.960Z",
    "type": "executeCodeCell"
   },
   {
    "code": "groupbyResult.index",
    "id": "83ebdf13b37f4d3e81ef200b12dd7848",
    "order_count": 6,
    "time": "2020-07-21T11:26:20.998Z",
    "type": "selectCodeCell"
   },
   {
    "code": "groupbyResult.data_type",
    "id": "11e73c6f69bd49298a3f5407bf8d4840",
    "isPrintLuxDf": false,
    "isPrintPandasDf": false,
    "isPrintVis": false,
    "isPrintVisCollection": false,
    "order_count": 5,
    "time": "2020-07-21T11:26:21.010Z",
    "type": "completeCodeCell"
   },
   {
    "code": "groupbyResult.data_type",
    "id": "11e73c6f69bd49298a3f5407bf8d4840",
    "order_count": 5,
    "time": "2020-07-21T11:26:21.611Z",
    "type": "selectCodeCell"
   },
   {
    "code": "groupbyResult.data_type",
    "id": "11e73c6f69bd49298a3f5407bf8d4840",
    "order_count": 5,
    "time": "2020-07-21T11:26:21.885Z",
    "type": "editCodeCell"
   },
   {
    "code": "groupbyResult.data_type",
    "id": "11e73c6f69bd49298a3f5407bf8d4840",
    "order_count": 5,
    "time": "2020-07-21T11:26:33.403Z",
    "type": "editCodeCell"
   },
   {
    "code": "groupbyResult.data_type",
    "id": "11e73c6f69bd49298a3f5407bf8d4840",
    "order_count": 5,
    "time": "2020-07-21T11:26:33.711Z",
    "type": "selectCodeCell"
   },
   {
    "time": "2020-07-21T11:26:35.059Z",
    "type": "kernelRestart"
   },
   {
    "time": "2020-07-21T11:26:35.195Z",
    "type": "kernelRestart"
   },
   {
    "code": "groupbyResult = df.groupby(\"Region\").sum()",
    "id": "63be682cd1e444e08c0c4d37f3406a4d",
    "order_count": 4,
    "time": "2020-07-21T11:26:35.633Z",
    "type": "selectCodeCell"
   },
   {
    "code": "df = pd.read_csv(\"lux/data/college.csv\")",
    "id": "78a539bb361149808b28db83c04c6cab",
    "order_count": 3,
    "time": "2020-07-21T11:26:35.780Z",
    "type": "selectCodeCell"
   },
   {
    "code": "import pandas as pd\n%load_ext autoreload\n%autoreload 2\nimport lux",
    "id": "7428a8a53da0452880d1e6c1d21e8324",
    "order_count": 2,
    "time": "2020-07-21T11:26:35.902Z",
    "type": "selectCodeCell"
   },
   {
    "code": "This dataset contains a total of 1295 records of American colleges and their properties, collected by the [US Department of Education](https://collegescorecard.ed.gov/data/documentation/).",
    "id": "d71c5c8d5ca64ce888dbd78140f7092b",
    "order_count": 1,
    "time": "2020-07-21T11:26:36.034Z",
    "type": "selectMarkdownCell"
   },
   {
    "code": "cd ../",
    "id": "a7da79e1a13643cab773017189810627",
    "order_count": 0,
    "time": "2020-07-21T11:26:36.166Z",
    "type": "selectCodeCell"
   },
   {
    "code": "cd ../",
    "id": "a7da79e1a13643cab773017189810627",
    "order_count": 0,
    "time": "2020-07-21T11:26:36.613Z",
    "type": "executeCodeCell"
   },
   {
    "code": "This dataset contains a total of 1295 records of American colleges and their properties, collected by the [US Department of Education](https://collegescorecard.ed.gov/data/documentation/).",
    "id": "d71c5c8d5ca64ce888dbd78140f7092b",
    "order_count": 1,
    "time": "2020-07-21T11:26:36.620Z",
    "type": "selectMarkdownCell"
   },
   {
    "code": "import pandas as pd\n%load_ext autoreload\n%autoreload 2\nimport lux",
    "id": "7428a8a53da0452880d1e6c1d21e8324",
    "order_count": 2,
    "time": "2020-07-21T11:26:36.786Z",
    "type": "selectCodeCell"
   },
   {
    "time": "2020-07-21T11:26:36.853Z",
    "type": "kernelReady"
   },
   {
    "code": "import pandas as pd\n%load_ext autoreload\n%autoreload 2\nimport lux",
    "id": "7428a8a53da0452880d1e6c1d21e8324",
    "order_count": 2,
    "time": "2020-07-21T11:26:36.908Z",
    "type": "executeCodeCell"
   },
   {
    "code": "df = pd.read_csv(\"lux/data/college.csv\")",
    "id": "78a539bb361149808b28db83c04c6cab",
    "order_count": 3,
    "time": "2020-07-21T11:26:36.921Z",
    "type": "selectCodeCell"
   },
   {
    "code": "df = pd.read_csv(\"lux/data/college.csv\")",
    "id": "78a539bb361149808b28db83c04c6cab",
    "order_count": 3,
    "time": "2020-07-21T11:26:37.028Z",
    "type": "executeCodeCell"
   },
   {
    "code": "groupbyResult = df.groupby(\"Region\").sum()",
    "id": "63be682cd1e444e08c0c4d37f3406a4d",
    "order_count": 4,
    "time": "2020-07-21T11:26:37.040Z",
    "type": "selectCodeCell"
   },
   {
    "code": "import pandas as pd\n%load_ext autoreload\n%autoreload 2\nimport lux",
    "id": "7428a8a53da0452880d1e6c1d21e8324",
    "isPrintLuxDf": false,
    "isPrintPandasDf": false,
    "isPrintVis": false,
    "isPrintVisCollection": false,
    "order_count": 2,
    "time": "2020-07-21T11:26:37.257Z",
    "type": "completeCodeCell"
   },
   {
    "code": "df = pd.read_csv(\"lux/data/college.csv\")",
    "id": "78a539bb361149808b28db83c04c6cab",
    "isPrintLuxDf": false,
    "isPrintPandasDf": false,
    "isPrintVis": false,
    "isPrintVisCollection": false,
    "order_count": 3,
    "time": "2020-07-21T11:26:37.304Z",
    "type": "completeCodeCell"
   },
   {
    "code": "groupbyResult = df.groupby(\"Region\").sum()",
    "id": "63be682cd1e444e08c0c4d37f3406a4d",
    "order_count": 4,
    "time": "2020-07-21T11:26:37.404Z",
    "type": "executeCodeCell"
   },
   {
    "code": "groupbyResult.data_type",
    "id": "11e73c6f69bd49298a3f5407bf8d4840",
    "order_count": 5,
    "time": "2020-07-21T11:26:37.420Z",
    "type": "selectCodeCell"
   },
   {
    "code": "groupbyResult = df.groupby(\"Region\").sum()",
    "id": "63be682cd1e444e08c0c4d37f3406a4d",
    "isPrintLuxDf": false,
    "isPrintPandasDf": false,
    "isPrintVis": false,
    "isPrintVisCollection": false,
    "order_count": 4,
    "time": "2020-07-21T11:26:37.444Z",
    "type": "completeCodeCell"
   },
   {
    "code": "groupbyResult.data_type",
    "id": "11e73c6f69bd49298a3f5407bf8d4840",
    "order_count": 5,
    "time": "2020-07-21T11:26:44.637Z",
    "type": "selectCodeCell"
   },
   {
    "code": "groupbyResult.data_type",
    "id": "11e73c6f69bd49298a3f5407bf8d4840",
    "order_count": 5,
    "time": "2020-07-21T11:26:44.990Z",
    "type": "editCodeCell"
   },
   {
    "code": "groupbyResult.data_type",
    "id": "11e73c6f69bd49298a3f5407bf8d4840",
    "order_count": 5,
    "time": "2020-07-21T11:26:45.066Z",
    "type": "selectCodeCell"
   },
   {
    "code": "groupbyResult.data_type",
    "id": "11e73c6f69bd49298a3f5407bf8d4840",
    "order_count": 5,
    "time": "2020-07-21T11:26:45.479Z",
    "type": "executeCodeCell"
   },
   {
    "code": "groupbyResult.index",
    "id": "83ebdf13b37f4d3e81ef200b12dd7848",
    "order_count": 6,
    "time": "2020-07-21T11:26:45.516Z",
    "type": "selectCodeCell"
   },
   {
    "code": "groupbyResult.data_type",
    "id": "11e73c6f69bd49298a3f5407bf8d4840",
    "isPrintLuxDf": false,
    "isPrintPandasDf": false,
    "isPrintVis": false,
    "isPrintVisCollection": false,
    "order_count": 5,
    "time": "2020-07-21T11:26:45.523Z",
    "type": "completeCodeCell"
   },
   {
    "code": "groupbyResult.data_type",
    "id": "11e73c6f69bd49298a3f5407bf8d4840",
    "order_count": 5,
    "time": "2020-07-21T11:26:56.178Z",
    "type": "selectCodeCell"
   },
   {
    "time": "2020-07-21T11:26:57.842Z",
    "type": "kernelRestart"
   },
   {
    "time": "2020-07-21T11:26:57.963Z",
    "type": "kernelRestart"
   },
   {
    "code": "groupbyResult = df.groupby(\"Region\").sum()",
    "id": "63be682cd1e444e08c0c4d37f3406a4d",
    "order_count": 4,
    "time": "2020-07-21T11:26:58.487Z",
    "type": "selectCodeCell"
   },
   {
    "code": "df = pd.read_csv(\"lux/data/college.csv\")",
    "id": "78a539bb361149808b28db83c04c6cab",
    "order_count": 3,
    "time": "2020-07-21T11:26:58.630Z",
    "type": "selectCodeCell"
   },
   {
    "code": "import pandas as pd\n%load_ext autoreload\n%autoreload 2\nimport lux",
    "id": "7428a8a53da0452880d1e6c1d21e8324",
    "order_count": 2,
    "time": "2020-07-21T11:26:58.779Z",
    "type": "selectCodeCell"
   },
   {
    "code": "This dataset contains a total of 1295 records of American colleges and their properties, collected by the [US Department of Education](https://collegescorecard.ed.gov/data/documentation/).",
    "id": "d71c5c8d5ca64ce888dbd78140f7092b",
    "order_count": 1,
    "time": "2020-07-21T11:26:58.889Z",
    "type": "selectMarkdownCell"
   },
   {
    "code": "cd ../",
    "id": "a7da79e1a13643cab773017189810627",
    "order_count": 0,
    "time": "2020-07-21T11:26:59.046Z",
    "type": "selectCodeCell"
   },
   {
    "time": "2020-07-21T11:26:59.207Z",
    "type": "kernelReady"
   },
   {
    "time": "2020-07-21T11:26:59.230Z",
    "type": "kernelReady"
   },
   {
    "code": "cd ../",
    "id": "a7da79e1a13643cab773017189810627",
    "order_count": 0,
    "time": "2020-07-21T11:26:59.341Z",
    "type": "executeCodeCell"
   },
   {
    "code": "This dataset contains a total of 1295 records of American colleges and their properties, collected by the [US Department of Education](https://collegescorecard.ed.gov/data/documentation/).",
    "id": "d71c5c8d5ca64ce888dbd78140f7092b",
    "order_count": 1,
    "time": "2020-07-21T11:26:59.349Z",
    "type": "selectMarkdownCell"
   },
   {
    "code": "cd ../",
    "id": "a7da79e1a13643cab773017189810627",
    "isPrintLuxDf": false,
    "isPrintPandasDf": false,
    "isPrintVis": false,
    "isPrintVisCollection": false,
    "order_count": 0,
    "time": "2020-07-21T11:26:59.358Z",
    "type": "completeCodeCell"
   },
   {
    "code": "cd ../",
    "id": "a7da79e1a13643cab773017189810627",
    "isPrintLuxDf": false,
    "isPrintPandasDf": false,
    "isPrintVis": false,
    "isPrintVisCollection": false,
    "order_count": 0,
    "time": "2020-07-21T11:26:59.358Z",
    "type": "completeCodeCell"
   },
   {
    "code": "import pandas as pd\n%load_ext autoreload\n%autoreload 2\nimport lux",
    "id": "7428a8a53da0452880d1e6c1d21e8324",
    "order_count": 2,
    "time": "2020-07-21T11:26:59.495Z",
    "type": "selectCodeCell"
   },
   {
    "code": "import pandas as pd\n%load_ext autoreload\n%autoreload 2\nimport lux",
    "id": "7428a8a53da0452880d1e6c1d21e8324",
    "order_count": 2,
    "time": "2020-07-21T11:26:59.613Z",
    "type": "executeCodeCell"
   },
   {
    "code": "df = pd.read_csv(\"lux/data/college.csv\")",
    "id": "78a539bb361149808b28db83c04c6cab",
    "order_count": 3,
    "time": "2020-07-21T11:26:59.627Z",
    "type": "selectCodeCell"
   },
   {
    "code": "df = pd.read_csv(\"lux/data/college.csv\")",
    "id": "78a539bb361149808b28db83c04c6cab",
    "order_count": 3,
    "time": "2020-07-21T11:26:59.732Z",
    "type": "executeCodeCell"
   },
   {
    "code": "groupbyResult = df.groupby(\"Region\").sum()",
    "id": "63be682cd1e444e08c0c4d37f3406a4d",
    "order_count": 4,
    "time": "2020-07-21T11:26:59.746Z",
    "type": "selectCodeCell"
   },
   {
    "code": "groupbyResult = df.groupby(\"Region\").sum()",
    "id": "63be682cd1e444e08c0c4d37f3406a4d",
    "order_count": 4,
    "time": "2020-07-21T11:26:59.918Z",
    "type": "executeCodeCell"
   },
   {
    "code": "groupbyResult.data_type",
    "id": "11e73c6f69bd49298a3f5407bf8d4840",
    "order_count": 5,
    "time": "2020-07-21T11:26:59.931Z",
    "type": "selectCodeCell"
   },
   {
    "code": "import pandas as pd\n%load_ext autoreload\n%autoreload 2\nimport lux",
    "id": "7428a8a53da0452880d1e6c1d21e8324",
    "isPrintLuxDf": false,
    "isPrintPandasDf": false,
    "isPrintVis": false,
    "isPrintVisCollection": false,
    "order_count": 2,
    "time": "2020-07-21T11:27:00.006Z",
    "type": "completeCodeCell"
   },
   {
    "code": "df = pd.read_csv(\"lux/data/college.csv\")",
    "id": "78a539bb361149808b28db83c04c6cab",
    "isPrintLuxDf": false,
    "isPrintPandasDf": false,
    "isPrintVis": false,
    "isPrintVisCollection": false,
    "order_count": 3,
    "time": "2020-07-21T11:27:00.050Z",
    "type": "completeCodeCell"
   },
   {
    "code": "groupbyResult = df.groupby(\"Region\").sum()",
    "id": "63be682cd1e444e08c0c4d37f3406a4d",
    "isPrintLuxDf": false,
    "isPrintPandasDf": false,
    "isPrintVis": false,
    "isPrintVisCollection": false,
    "order_count": 4,
    "time": "2020-07-21T11:27:00.075Z",
    "type": "completeCodeCell"
   },
   {
    "code": "groupbyResult.data_type",
    "id": "11e73c6f69bd49298a3f5407bf8d4840",
    "order_count": 5,
    "time": "2020-07-21T11:27:03.718Z",
    "type": "executeCodeCell"
   },
   {
    "code": "groupbyResult.index",
    "id": "83ebdf13b37f4d3e81ef200b12dd7848",
    "order_count": 6,
    "time": "2020-07-21T11:27:03.733Z",
    "type": "selectCodeCell"
   },
   {
    "code": "groupbyResult.data_type",
    "id": "11e73c6f69bd49298a3f5407bf8d4840",
    "isPrintLuxDf": false,
    "isPrintPandasDf": false,
    "isPrintVis": false,
    "isPrintVisCollection": false,
    "order_count": 5,
    "time": "2020-07-21T11:27:03.740Z",
    "type": "completeCodeCell"
   },
   {
    "code": "groupbyResult.data_type",
    "id": "11e73c6f69bd49298a3f5407bf8d4840",
    "order_count": 5,
    "time": "2020-07-21T11:27:31.495Z",
    "type": "selectCodeCell"
   },
   {
    "code": "groupbyResult.data_type",
    "id": "11e73c6f69bd49298a3f5407bf8d4840",
    "order_count": 5,
    "time": "2020-07-21T11:27:31.504Z",
    "type": "editCodeCell"
   },
   {
    "code": "groupbyResult.data_type",
    "id": "11e73c6f69bd49298a3f5407bf8d4840",
    "order_count": 5,
    "time": "2020-07-21T11:27:32.034Z",
    "type": "selectCodeCell"
   },
   {
    "code": "groupbyResult = df.groupby(\"Region\").sum()",
    "id": "63be682cd1e444e08c0c4d37f3406a4d",
    "order_count": 4,
    "time": "2020-07-21T11:27:33.540Z",
    "type": "selectCodeCell"
   },
   {
    "code": "",
    "id": "d246aa33c8b34b788126cea7264e67e4",
    "order_count": 5,
    "time": "2020-07-21T11:27:34.830Z",
    "type": "selectCodeCell"
   },
   {
    "code": "groupbyResult = df.groupby(\"Region\").sum()",
    "id": "63be682cd1e444e08c0c4d37f3406a4d",
    "order_count": 4,
    "time": "2020-07-21T11:27:46.833Z",
    "type": "selectCodeCell"
   },
   {
    "time": "2020-07-21T11:27:48.237Z",
    "type": "kernelRestart"
   },
   {
    "code": "df = pd.read_csv(\"lux/data/college.csv\")",
    "id": "78a539bb361149808b28db83c04c6cab",
    "order_count": 3,
    "time": "2020-07-21T11:27:48.799Z",
    "type": "selectCodeCell"
   },
   {
    "code": "import pandas as pd\n%load_ext autoreload\n%autoreload 2\nimport lux",
    "id": "7428a8a53da0452880d1e6c1d21e8324",
    "order_count": 2,
    "time": "2020-07-21T11:27:48.954Z",
    "type": "selectCodeCell"
   },
   {
    "time": "2020-07-21T11:27:49.054Z",
    "type": "kernelReady"
   },
   {
    "code": "This dataset contains a total of 1295 records of American colleges and their properties, collected by the [US Department of Education](https://collegescorecard.ed.gov/data/documentation/).",
    "id": "d71c5c8d5ca64ce888dbd78140f7092b",
    "order_count": 1,
    "time": "2020-07-21T11:27:49.075Z",
    "type": "selectMarkdownCell"
   },
   {
    "code": "cd ../",
    "id": "a7da79e1a13643cab773017189810627",
    "order_count": 0,
    "time": "2020-07-21T11:27:49.742Z",
    "type": "selectCodeCell"
   },
   {
    "code": "cd ../",
    "id": "a7da79e1a13643cab773017189810627",
    "order_count": 0,
    "time": "2020-07-21T11:27:50.237Z",
    "type": "executeCodeCell"
   },
   {
    "code": "This dataset contains a total of 1295 records of American colleges and their properties, collected by the [US Department of Education](https://collegescorecard.ed.gov/data/documentation/).",
    "id": "d71c5c8d5ca64ce888dbd78140f7092b",
    "order_count": 1,
    "time": "2020-07-21T11:27:50.247Z",
    "type": "selectMarkdownCell"
   },
   {
    "code": "cd ../",
    "id": "a7da79e1a13643cab773017189810627",
    "isPrintLuxDf": false,
    "isPrintPandasDf": false,
    "isPrintVis": false,
    "isPrintVisCollection": false,
    "order_count": 0,
    "time": "2020-07-21T11:27:50.264Z",
    "type": "completeCodeCell"
   },
   {
    "code": "import pandas as pd\n%load_ext autoreload\n%autoreload 2\nimport lux",
    "id": "7428a8a53da0452880d1e6c1d21e8324",
    "order_count": 2,
    "time": "2020-07-21T11:27:50.435Z",
    "type": "selectCodeCell"
   },
   {
    "code": "import pandas as pd\n%load_ext autoreload\n%autoreload 2\nimport lux",
    "id": "7428a8a53da0452880d1e6c1d21e8324",
    "order_count": 2,
    "time": "2020-07-21T11:27:50.590Z",
    "type": "executeCodeCell"
   },
   {
    "code": "df = pd.read_csv(\"lux/data/college.csv\")",
    "id": "78a539bb361149808b28db83c04c6cab",
    "order_count": 3,
    "time": "2020-07-21T11:27:50.611Z",
    "type": "selectCodeCell"
   },
   {
    "code": "df = pd.read_csv(\"lux/data/college.csv\")",
    "id": "78a539bb361149808b28db83c04c6cab",
    "order_count": 3,
    "time": "2020-07-21T11:27:50.853Z",
    "type": "executeCodeCell"
   },
   {
    "code": "groupbyResult = df.groupby(\"Region\").sum()",
    "id": "63be682cd1e444e08c0c4d37f3406a4d",
    "order_count": 4,
    "time": "2020-07-21T11:27:50.866Z",
    "type": "selectCodeCell"
   },
   {
    "code": "import pandas as pd\n%load_ext autoreload\n%autoreload 2\nimport lux",
    "id": "7428a8a53da0452880d1e6c1d21e8324",
    "isPrintLuxDf": false,
    "isPrintPandasDf": false,
    "isPrintVis": false,
    "isPrintVisCollection": false,
    "order_count": 2,
    "time": "2020-07-21T11:27:50.940Z",
    "type": "completeCodeCell"
   },
   {
    "code": "df = pd.read_csv(\"lux/data/college.csv\")",
    "id": "78a539bb361149808b28db83c04c6cab",
    "isPrintLuxDf": false,
    "isPrintPandasDf": false,
    "isPrintVis": false,
    "isPrintVisCollection": false,
    "order_count": 3,
    "time": "2020-07-21T11:27:51.039Z",
    "type": "completeCodeCell"
   },
   {
    "code": "groupbyResult = df.groupby(\"Region\").sum()",
    "id": "63be682cd1e444e08c0c4d37f3406a4d",
    "order_count": 4,
    "time": "2020-07-21T11:27:51.854Z",
    "type": "executeCodeCell"
   },
   {
    "code": "",
    "id": "d246aa33c8b34b788126cea7264e67e4",
    "order_count": 5,
    "time": "2020-07-21T11:27:51.870Z",
    "type": "selectCodeCell"
   },
   {
    "code": "groupbyResult = df.groupby(\"Region\").sum()",
    "id": "63be682cd1e444e08c0c4d37f3406a4d",
    "isPrintLuxDf": false,
    "isPrintPandasDf": false,
    "isPrintVis": false,
    "isPrintVisCollection": false,
    "order_count": 4,
    "time": "2020-07-21T11:27:51.987Z",
    "type": "completeCodeCell"
   },
   {
    "code": "groupbyResult = df.groupby(\"Region\").sum()",
    "id": "63be682cd1e444e08c0c4d37f3406a4d",
    "order_count": 4,
    "time": "2020-07-21T11:28:34.878Z",
    "type": "selectCodeCell"
   },
   {
    "code": "groupbyResult = df.groupby(\"Region\").sum()",
    "id": "63be682cd1e444e08c0c4d37f3406a4d",
    "order_count": 4,
    "time": "2020-07-21T11:28:35.100Z",
    "type": "selectCodeCell"
   },
   {
    "code": "groupbyResult = df.groupby(\"Region\").sum()",
    "id": "63be682cd1e444e08c0c4d37f3406a4d",
    "order_count": 4,
    "time": "2020-07-21T11:28:35.667Z",
    "type": "selectCodeCell"
   },
   {
    "code": "groupbyResult = df.groupby(\"Region\").sum()",
    "id": "63be682cd1e444e08c0c4d37f3406a4d",
    "order_count": 4,
    "time": "2020-07-21T11:28:37.470Z",
    "type": "selectCodeCell"
   },
   {
    "code": "groupbyResult = df.groupby(\"Region\").sum()",
    "id": "63be682cd1e444e08c0c4d37f3406a4d",
    "order_count": 4,
    "time": "2020-07-21T11:28:38.133Z",
    "type": "selectCodeCell"
   },
   {
    "code": "groupbyResult = df.groupby(\"Region\").sum()",
    "id": "63be682cd1e444e08c0c4d37f3406a4d",
    "order_count": 4,
    "time": "2020-07-21T11:28:38.390Z",
    "type": "selectCodeCell"
   },
   {
    "code": "groupbyResult = df.groupby(\"Region\").sum()",
    "id": "63be682cd1e444e08c0c4d37f3406a4d",
    "order_count": 4,
    "time": "2020-07-21T11:28:39.061Z",
    "type": "selectCodeCell"
   },
   {
    "code": "groupbyResult = df.groupby(\"Region\").sum()",
    "id": "63be682cd1e444e08c0c4d37f3406a4d",
    "order_count": 4,
    "time": "2020-07-21T11:28:39.309Z",
    "type": "selectCodeCell"
   },
   {
    "code": "groupbyResult = df.groupby(\"Region\").sum()",
    "id": "63be682cd1e444e08c0c4d37f3406a4d",
    "order_count": 4,
    "time": "2020-07-21T11:28:39.925Z",
    "type": "selectCodeCell"
   },
   {
    "code": "groupbyResult = df.groupby(\"Region\").sum()",
    "id": "63be682cd1e444e08c0c4d37f3406a4d",
    "order_count": 4,
    "time": "2020-07-21T11:28:40.197Z",
    "type": "selectCodeCell"
   },
   {
    "code": "groupbyResult = df.groupby(\"Region\").sum()",
    "id": "63be682cd1e444e08c0c4d37f3406a4d",
    "order_count": 4,
    "time": "2020-07-21T11:29:05.269Z",
    "type": "selectCodeCell"
   },
   {
    "code": "",
    "id": "d246aa33c8b34b788126cea7264e67e4",
    "order_count": 5,
    "time": "2020-07-21T11:29:05.782Z",
    "type": "selectCodeCell"
   },
   {
    "code": "",
    "id": "d246aa33c8b34b788126cea7264e67e4",
    "order_count": 5,
    "time": "2020-07-21T11:29:06.205Z",
    "type": "selectCodeCell"
   },
   {
    "code": "",
    "id": "d246aa33c8b34b788126cea7264e67e4",
    "order_count": 5,
    "time": "2020-07-21T11:29:06.534Z",
    "type": "editCodeCell"
   },
   {
    "code": "",
    "id": "d246aa33c8b34b788126cea7264e67e4",
    "order_count": 5,
    "time": "2020-07-21T11:29:06.628Z",
    "type": "selectCodeCell"
   },
   {
    "code": "",
    "id": "d246aa33c8b34b788126cea7264e67e4",
    "order_count": 5,
    "time": "2020-07-21T11:29:14.524Z",
    "type": "editCodeCell"
   },
   {
    "code": "groupbyResult = df.groupby(\"Region\").sum()",
    "id": "63be682cd1e444e08c0c4d37f3406a4d",
    "order_count": 4,
    "time": "2020-07-21T11:29:14.814Z",
    "type": "selectCodeCell"
   },
   {
    "code": "groupbyResult = df.groupby(\"Region\").sum()",
    "id": "63be682cd1e444e08c0c4d37f3406a4d",
    "order_count": 4,
    "time": "2020-07-21T11:29:14.819Z",
    "type": "editCodeCell"
   },
   {
    "code": "groupbyResult = df.groupby(\"Region\").sum()",
    "id": "63be682cd1e444e08c0c4d37f3406a4d",
    "order_count": 4,
    "time": "2020-07-21T11:29:14.874Z",
    "type": "selectCodeCell"
   },
   {
    "time": "2020-07-21T11:29:16.181Z",
    "type": "kernelRestart"
   },
   {
    "time": "2020-07-21T11:29:16.301Z",
    "type": "kernelRestart"
   },
   {
    "code": "df = pd.read_csv(\"lux/data/college.csv\")",
    "id": "78a539bb361149808b28db83c04c6cab",
    "order_count": 3,
    "time": "2020-07-21T11:29:16.849Z",
    "type": "selectCodeCell"
   },
   {
    "code": "import pandas as pd\n%load_ext autoreload\n%autoreload 2\nimport lux",
    "id": "7428a8a53da0452880d1e6c1d21e8324",
    "order_count": 2,
    "time": "2020-07-21T11:29:17.087Z",
    "type": "selectCodeCell"
   },
   {
    "code": "This dataset contains a total of 1295 records of American colleges and their properties, collected by the [US Department of Education](https://collegescorecard.ed.gov/data/documentation/).",
    "id": "d71c5c8d5ca64ce888dbd78140f7092b",
    "order_count": 1,
    "time": "2020-07-21T11:29:17.251Z",
    "type": "selectMarkdownCell"
   },
   {
    "code": "cd ../",
    "id": "a7da79e1a13643cab773017189810627",
    "order_count": 0,
    "time": "2020-07-21T11:29:17.417Z",
    "type": "selectCodeCell"
   },
   {
    "time": "2020-07-21T11:29:17.644Z",
    "type": "kernelReady"
   },
   {
    "time": "2020-07-21T11:29:17.710Z",
    "type": "kernelReady"
   },
   {
    "code": "cd ../",
    "id": "a7da79e1a13643cab773017189810627",
    "order_count": 0,
    "time": "2020-07-21T11:29:17.871Z",
    "type": "executeCodeCell"
   },
   {
    "code": "This dataset contains a total of 1295 records of American colleges and their properties, collected by the [US Department of Education](https://collegescorecard.ed.gov/data/documentation/).",
    "id": "d71c5c8d5ca64ce888dbd78140f7092b",
    "order_count": 1,
    "time": "2020-07-21T11:29:17.881Z",
    "type": "selectMarkdownCell"
   },
   {
    "code": "cd ../",
    "id": "a7da79e1a13643cab773017189810627",
    "isPrintLuxDf": false,
    "isPrintPandasDf": false,
    "isPrintVis": false,
    "isPrintVisCollection": false,
    "order_count": 0,
    "time": "2020-07-21T11:29:17.897Z",
    "type": "completeCodeCell"
   },
   {
    "code": "import pandas as pd\n%load_ext autoreload\n%autoreload 2\nimport lux",
    "id": "7428a8a53da0452880d1e6c1d21e8324",
    "order_count": 2,
    "time": "2020-07-21T11:29:18.075Z",
    "type": "selectCodeCell"
   },
   {
    "code": "import pandas as pd\n%load_ext autoreload\n%autoreload 2\nimport lux",
    "id": "7428a8a53da0452880d1e6c1d21e8324",
    "order_count": 2,
    "time": "2020-07-21T11:29:18.191Z",
    "type": "executeCodeCell"
   },
   {
    "code": "df = pd.read_csv(\"lux/data/college.csv\")",
    "id": "78a539bb361149808b28db83c04c6cab",
    "order_count": 3,
    "time": "2020-07-21T11:29:18.204Z",
    "type": "selectCodeCell"
   },
   {
    "code": "df = pd.read_csv(\"lux/data/college.csv\")",
    "id": "78a539bb361149808b28db83c04c6cab",
    "order_count": 3,
    "time": "2020-07-21T11:29:18.335Z",
    "type": "executeCodeCell"
   },
   {
    "code": "groupbyResult = df.groupby(\"Region\").sum()",
    "id": "63be682cd1e444e08c0c4d37f3406a4d",
    "order_count": 4,
    "time": "2020-07-21T11:29:18.348Z",
    "type": "selectCodeCell"
   },
   {
    "code": "import pandas as pd\n%load_ext autoreload\n%autoreload 2\nimport lux",
    "id": "7428a8a53da0452880d1e6c1d21e8324",
    "isPrintLuxDf": false,
    "isPrintPandasDf": false,
    "isPrintVis": false,
    "isPrintVisCollection": false,
    "order_count": 2,
    "time": "2020-07-21T11:29:18.550Z",
    "type": "completeCodeCell"
   },
   {
    "code": "groupbyResult = df.groupby(\"Region\").sum()",
    "id": "63be682cd1e444e08c0c4d37f3406a4d",
    "order_count": 4,
    "time": "2020-07-21T11:29:18.615Z",
    "type": "executeCodeCell"
   },
   {
    "code": "",
    "id": "d246aa33c8b34b788126cea7264e67e4",
    "order_count": 5,
    "time": "2020-07-21T11:29:18.631Z",
    "type": "selectCodeCell"
   },
   {
    "code": "df = pd.read_csv(\"lux/data/college.csv\")",
    "id": "78a539bb361149808b28db83c04c6cab",
    "isPrintLuxDf": false,
    "isPrintPandasDf": false,
    "isPrintVis": false,
    "isPrintVisCollection": false,
    "order_count": 3,
    "time": "2020-07-21T11:29:18.673Z",
    "type": "completeCodeCell"
   },
   {
    "code": "groupbyResult = df.groupby(\"Region\").sum()",
    "id": "63be682cd1e444e08c0c4d37f3406a4d",
    "isPrintLuxDf": false,
    "isPrintPandasDf": false,
    "isPrintVis": false,
    "isPrintVisCollection": false,
    "order_count": 4,
    "time": "2020-07-21T11:29:18.774Z",
    "type": "completeCodeCell"
   },
   {
    "code": "",
    "id": "d246aa33c8b34b788126cea7264e67e4",
    "order_count": 5,
    "time": "2020-07-21T11:29:44.236Z",
    "type": "editCodeCell"
   },
   {
    "code": "",
    "id": "d246aa33c8b34b788126cea7264e67e4",
    "order_count": 5,
    "time": "2020-07-21T11:29:47.230Z",
    "type": "selectCodeCell"
   },
   {
    "code": "df.data_type",
    "id": "d246aa33c8b34b788126cea7264e67e4",
    "order_count": 5,
    "time": "2020-07-21T11:29:49.787Z",
    "type": "executeCodeCell"
   },
   {
    "code": "groupbyResult.data_type",
    "id": "11e73c6f69bd49298a3f5407bf8d4840",
    "order_count": 6,
    "time": "2020-07-21T11:29:49.826Z",
    "type": "selectCodeCell"
   },
   {
    "code": "df.data_type",
    "id": "d246aa33c8b34b788126cea7264e67e4",
    "isPrintLuxDf": false,
    "isPrintPandasDf": false,
    "isPrintVis": false,
    "isPrintVisCollection": false,
    "order_count": 5,
    "time": "2020-07-21T11:29:49.843Z",
    "type": "completeCodeCell"
   },
   {
    "code": "df.data_type",
    "id": "d246aa33c8b34b788126cea7264e67e4",
    "order_count": 5,
    "time": "2020-07-21T11:29:55.095Z",
    "type": "selectCodeCell"
   },
   {
    "code": "groupbyResult = df.groupby(\"Region\").sum()",
    "id": "63be682cd1e444e08c0c4d37f3406a4d",
    "order_count": 4,
    "time": "2020-07-21T11:30:09.514Z",
    "type": "selectCodeCell"
   },
   {
    "code": "groupbyResult = df.groupby(\"Region\").sum()",
    "id": "63be682cd1e444e08c0c4d37f3406a4d",
    "order_count": 4,
    "time": "2020-07-21T11:30:09.521Z",
    "type": "editCodeCell"
   },
   {
    "code": "groupbyResult = df.groupby(\"Region\").sum()",
    "id": "63be682cd1e444e08c0c4d37f3406a4d",
    "order_count": 4,
    "time": "2020-07-21T11:30:09.735Z",
    "type": "selectCodeCell"
   },
   {
    "code": "groupbyResult = df.groupby(\"Region\").sum()",
    "id": "63be682cd1e444e08c0c4d37f3406a4d",
    "order_count": 4,
    "time": "2020-07-21T11:30:10.023Z",
    "type": "selectCodeCell"
   },
   {
    "code": "groupbyResult = df.groupby(\"Region\").sum()",
    "id": "63be682cd1e444e08c0c4d37f3406a4d",
    "order_count": 4,
    "time": "2020-07-21T11:30:11.200Z",
    "type": "selectCodeCell"
   },
   {
    "code": "df.data_type",
    "id": "d246aa33c8b34b788126cea7264e67e4",
    "order_count": 5,
    "time": "2020-07-21T11:30:12.447Z",
    "type": "selectCodeCell"
   },
   {
    "code": "",
    "id": "5a90b6bf50a94a01b6bf6bdff12ced93",
    "order_count": 5,
    "time": "2020-07-21T11:30:13.537Z",
    "type": "selectCodeCell"
   },
   {
    "code": "",
    "id": "5a90b6bf50a94a01b6bf6bdff12ced93",
    "order_count": 5,
    "time": "2020-07-21T11:30:15.039Z",
    "type": "editCodeCell"
   },
   {
    "code": "groupbyResult",
    "id": "5a90b6bf50a94a01b6bf6bdff12ced93",
    "order_count": 5,
    "time": "2020-07-21T11:30:17.874Z",
    "type": "executeCodeCell"
   },
   {
    "code": "df.data_type",
    "id": "d246aa33c8b34b788126cea7264e67e4",
    "order_count": 6,
    "time": "2020-07-21T11:30:17.909Z",
    "type": "selectCodeCell"
   },
   {
    "code": "groupbyResult",
    "id": "5a90b6bf50a94a01b6bf6bdff12ced93",
    "isPrintLuxDf": false,
    "isPrintPandasDf": true,
    "isPrintVis": false,
    "isPrintVisCollection": false,
    "order_count": 5,
    "time": "2020-07-21T11:30:18.370Z",
    "type": "completeCodeCell"
   },
   {
    "code": "groupbyResult",
    "id": "5a90b6bf50a94a01b6bf6bdff12ced93",
    "order_count": 5,
    "time": "2020-07-21T11:31:18.113Z",
    "type": "selectCodeCell"
   },
   {
    "code": "groupbyResult",
    "id": "5a90b6bf50a94a01b6bf6bdff12ced93",
    "order_count": 5,
    "time": "2020-07-21T11:31:18.855Z",
    "type": "selectCodeCell"
   },
   {
    "code": "groupbyResult",
    "id": "5a90b6bf50a94a01b6bf6bdff12ced93",
    "order_count": 5,
    "time": "2020-07-21T11:31:19.072Z",
    "type": "selectCodeCell"
   },
   {
    "code": "groupbyResult",
    "id": "5a90b6bf50a94a01b6bf6bdff12ced93",
    "order_count": 5,
    "time": "2020-07-21T11:31:25.124Z",
    "type": "editCodeCell"
   },
   {
    "code": "type(groupbyResult)",
    "id": "5a90b6bf50a94a01b6bf6bdff12ced93",
    "order_count": 5,
    "time": "2020-07-21T11:31:28.198Z",
    "type": "executeCodeCell"
   },
   {
    "code": "df.data_type",
    "id": "d246aa33c8b34b788126cea7264e67e4",
    "order_count": 6,
    "time": "2020-07-21T11:31:28.235Z",
    "type": "selectCodeCell"
   },
   {
    "code": "type(groupbyResult)",
    "id": "5a90b6bf50a94a01b6bf6bdff12ced93",
    "isPrintLuxDf": false,
    "isPrintPandasDf": false,
    "isPrintVis": false,
    "isPrintVisCollection": false,
    "order_count": 5,
    "time": "2020-07-21T11:31:28.253Z",
    "type": "completeCodeCell"
   },
   {
    "code": "type(groupbyResult)",
    "id": "5a90b6bf50a94a01b6bf6bdff12ced93",
    "order_count": 5,
    "time": "2020-07-21T11:31:31.001Z",
    "type": "selectCodeCell"
   },
   {
    "code": "groupbyResult = df.groupby(\"Region\").sum()",
    "id": "63be682cd1e444e08c0c4d37f3406a4d",
    "order_count": 4,
    "time": "2020-07-21T11:31:57.890Z",
    "type": "selectCodeCell"
   },
   {
    "code": "groupbyResult = df.groupby(\"Region\").sum()",
    "id": "63be682cd1e444e08c0c4d37f3406a4d",
    "order_count": 4,
    "time": "2020-07-21T11:31:57.897Z",
    "type": "editCodeCell"
   },
   {
    "code": "groupbyResult = df.groupby(\"Region\").sum()",
    "id": "63be682cd1e444e08c0c4d37f3406a4d",
    "order_count": 4,
    "time": "2020-07-21T11:32:21.394Z",
    "type": "editCodeCell"
   },
   {
    "code": "type(groupbyResult)",
    "id": "5a90b6bf50a94a01b6bf6bdff12ced93",
    "order_count": 5,
    "time": "2020-07-21T11:32:22.372Z",
    "type": "selectCodeCell"
   },
   {
    "code": "type(groupbyResult)",
    "id": "5a90b6bf50a94a01b6bf6bdff12ced93",
    "order_count": 5,
    "time": "2020-07-21T11:32:22.379Z",
    "type": "editCodeCell"
   },
   {
    "code": "groupbyResult",
    "id": "5a90b6bf50a94a01b6bf6bdff12ced93",
    "order_count": 5,
    "time": "2020-07-21T11:32:24.572Z",
    "type": "executeCodeCell"
   },
   {
    "code": "df.data_type",
    "id": "d246aa33c8b34b788126cea7264e67e4",
    "order_count": 6,
    "time": "2020-07-21T11:32:24.607Z",
    "type": "selectCodeCell"
   },
   {
    "code": "groupbyResult",
    "id": "5a90b6bf50a94a01b6bf6bdff12ced93",
    "isPrintLuxDf": false,
    "isPrintPandasDf": true,
    "isPrintVis": false,
    "isPrintVisCollection": false,
    "order_count": 5,
    "time": "2020-07-21T11:32:24.732Z",
    "type": "completeCodeCell"
   },
   {
    "code": "groupbyResult",
    "id": "5a90b6bf50a94a01b6bf6bdff12ced93",
    "order_count": 5,
    "time": "2020-07-21T11:32:26.096Z",
    "type": "selectCodeCell"
   },
   {
    "code": "groupbyResult",
    "id": "5a90b6bf50a94a01b6bf6bdff12ced93",
    "order_count": 5,
    "time": "2020-07-21T11:32:26.102Z",
    "type": "editCodeCell"
   },
   {
    "code": "groupbyResult",
    "id": "5a90b6bf50a94a01b6bf6bdff12ced93",
    "order_count": 5,
    "time": "2020-07-21T11:32:26.182Z",
    "type": "selectCodeCell"
   },
   {
    "code": "groupbyResult",
    "id": "5a90b6bf50a94a01b6bf6bdff12ced93",
    "order_count": 5,
    "time": "2020-07-21T11:32:26.608Z",
    "type": "selectCodeCell"
   },
   {
    "code": "groupbyResult.",
    "id": "5a90b6bf50a94a01b6bf6bdff12ced93",
    "order_count": 5,
    "time": "2020-07-21T11:32:34.921Z",
    "type": "editCodeCell"
   },
   {
    "code": "groupbyResult.",
    "id": "5a90b6bf50a94a01b6bf6bdff12ced93",
    "order_count": 5,
    "time": "2020-07-21T11:32:35.529Z",
    "type": "selectCodeCell"
   },
   {
    "code": "groupbyResult.",
    "id": "5a90b6bf50a94a01b6bf6bdff12ced93",
    "order_count": 5,
    "time": "2020-07-21T11:33:11.601Z",
    "type": "editCodeCell"
   },
   {
    "code": "cd ../",
    "id": "a7da79e1a13643cab773017189810627",
    "order_count": 0,
    "time": "2020-07-21T11:33:13.873Z",
    "type": "selectCodeCell"
   },
   {
    "code": "cd ../",
    "id": "a7da79e1a13643cab773017189810627",
    "order_count": 0,
    "time": "2020-07-21T11:33:17.059Z",
    "type": "executeCodeCell"
   },
   {
    "code": "This dataset contains a total of 1295 records of American colleges and their properties, collected by the [US Department of Education](https://collegescorecard.ed.gov/data/documentation/).",
    "id": "d71c5c8d5ca64ce888dbd78140f7092b",
    "order_count": 1,
    "time": "2020-07-21T11:33:17.067Z",
    "type": "selectMarkdownCell"
   },
   {
    "code": "cd ../",
    "id": "a7da79e1a13643cab773017189810627",
    "isPrintLuxDf": false,
    "isPrintPandasDf": false,
    "isPrintVis": false,
    "isPrintVisCollection": false,
    "order_count": 0,
    "time": "2020-07-21T11:33:17.136Z",
    "type": "completeCodeCell"
   },
   {
    "code": "import pandas as pd\n%load_ext autoreload\n%autoreload 2\nimport lux",
    "id": "7428a8a53da0452880d1e6c1d21e8324",
    "order_count": 2,
    "time": "2020-07-21T11:33:17.435Z",
    "type": "selectCodeCell"
   },
   {
    "time": "2020-07-21T11:33:24.041Z",
    "type": "kernelRestart"
   },
   {
    "code": "cd ../",
    "id": "a7da79e1a13643cab773017189810627",
    "order_count": 0,
    "time": "2020-07-21T11:33:24.747Z",
    "type": "selectCodeCell"
   },
   {
    "code": "cd ../",
    "id": "a7da79e1a13643cab773017189810627",
    "order_count": 0,
    "time": "2020-07-21T11:33:24.755Z",
    "type": "editCodeCell"
   },
   {
    "code": "cd ../",
    "id": "a7da79e1a13643cab773017189810627",
    "order_count": 0,
    "time": "2020-07-21T11:33:24.825Z",
    "type": "selectCodeCell"
   },
   {
    "code": "cd ../",
    "id": "a7da79e1a13643cab773017189810627",
    "order_count": 0,
    "time": "2020-07-21T11:33:25.291Z",
    "type": "executeCodeCell"
   },
   {
    "code": "This dataset contains a total of 1295 records of American colleges and their properties, collected by the [US Department of Education](https://collegescorecard.ed.gov/data/documentation/).",
    "id": "d71c5c8d5ca64ce888dbd78140f7092b",
    "order_count": 1,
    "time": "2020-07-21T11:33:25.320Z",
    "type": "selectMarkdownCell"
   },
   {
    "code": "import pandas as pd\n%load_ext autoreload\n%autoreload 2\nimport lux",
    "id": "7428a8a53da0452880d1e6c1d21e8324",
    "order_count": 2,
    "time": "2020-07-21T11:33:25.496Z",
    "type": "selectCodeCell"
   },
   {
    "code": "import pandas as pd\n%load_ext autoreload\n%autoreload 2\nimport lux",
    "id": "7428a8a53da0452880d1e6c1d21e8324",
    "order_count": 2,
    "time": "2020-07-21T11:33:25.642Z",
    "type": "executeCodeCell"
   },
   {
    "code": "df = pd.read_csv(\"lux/data/college.csv\")",
    "id": "78a539bb361149808b28db83c04c6cab",
    "order_count": 3,
    "time": "2020-07-21T11:33:25.655Z",
    "type": "selectCodeCell"
   },
   {
    "code": "cd ../",
    "id": "a7da79e1a13643cab773017189810627",
    "isPrintLuxDf": false,
    "isPrintPandasDf": false,
    "isPrintVis": false,
    "isPrintVisCollection": false,
    "order_count": 0,
    "time": "2020-07-21T11:33:25.825Z",
    "type": "completeCodeCell"
   },
   {
    "code": "df = pd.read_csv(\"lux/data/college.csv\")",
    "id": "78a539bb361149808b28db83c04c6cab",
    "order_count": 3,
    "time": "2020-07-21T11:33:26.083Z",
    "type": "executeCodeCell"
   },
   {
    "code": "groupbyResult = df.groupby(\"Region\").sum()",
    "id": "63be682cd1e444e08c0c4d37f3406a4d",
    "order_count": 4,
    "time": "2020-07-21T11:33:26.097Z",
    "type": "selectCodeCell"
   },
   {
    "code": "import pandas as pd\n%load_ext autoreload\n%autoreload 2\nimport lux",
    "id": "7428a8a53da0452880d1e6c1d21e8324",
    "isPrintLuxDf": false,
    "isPrintPandasDf": false,
    "isPrintVis": false,
    "isPrintVisCollection": false,
    "order_count": 2,
    "time": "2020-07-21T11:33:26.182Z",
    "type": "completeCodeCell"
   },
   {
    "time": "2020-07-21T11:33:26.185Z",
    "type": "kernelReady"
   },
   {
    "code": "df = pd.read_csv(\"lux/data/college.csv\")",
    "id": "78a539bb361149808b28db83c04c6cab",
    "isPrintLuxDf": false,
    "isPrintPandasDf": false,
    "isPrintVis": false,
    "isPrintVisCollection": false,
    "order_count": 3,
    "time": "2020-07-21T11:33:26.232Z",
    "type": "completeCodeCell"
   },
   {
    "code": "groupbyResult = df.groupby(\"Region\").sum()",
    "id": "63be682cd1e444e08c0c4d37f3406a4d",
    "order_count": 4,
    "time": "2020-07-21T11:33:37.507Z",
    "type": "selectCodeCell"
   },
   {
    "code": "groupbyResult = df.groupby(\"Region\").sum()",
    "id": "63be682cd1e444e08c0c4d37f3406a4d",
    "order_count": 4,
    "time": "2020-07-21T11:33:37.955Z",
    "type": "editCodeCell"
   },
   {
    "code": "groupbyResult = df.groupby(\"Region\").sum()",
    "id": "63be682cd1e444e08c0c4d37f3406a4d",
    "order_count": 4,
    "time": "2020-07-21T11:33:38.436Z",
    "type": "executeCodeCell"
   },
   {
    "code": "groupbyResult.",
    "id": "5a90b6bf50a94a01b6bf6bdff12ced93",
    "order_count": 5,
    "time": "2020-07-21T11:33:38.471Z",
    "type": "selectCodeCell"
   },
   {
    "code": "groupbyResult = df.groupby(\"Region\").sum()",
    "id": "63be682cd1e444e08c0c4d37f3406a4d",
    "isPrintLuxDf": false,
    "isPrintPandasDf": false,
    "isPrintVis": false,
    "isPrintVisCollection": false,
    "order_count": 4,
    "time": "2020-07-21T11:33:38.685Z",
    "type": "completeCodeCell"
   },
   {
    "code": "groupbyResult = df.groupby(\"Region\").sum()",
    "id": "63be682cd1e444e08c0c4d37f3406a4d",
    "order_count": 4,
    "time": "2020-07-21T11:33:39.730Z",
    "type": "selectCodeCell"
   },
   {
    "code": "df = pd.read_csv(\"lux/data/college.csv\")",
    "id": "78a539bb361149808b28db83c04c6cab",
    "order_count": 3,
    "time": "2020-07-21T11:33:39.920Z",
    "type": "selectCodeCell"
   },
   {
    "time": "2020-07-21T11:33:41.401Z",
    "type": "kernelRestart"
   },
   {
    "time": "2020-07-21T11:33:41.562Z",
    "type": "kernelRestart"
   },
   {
    "code": "import pandas as pd\n%load_ext autoreload\n%autoreload 2\nimport lux",
    "id": "7428a8a53da0452880d1e6c1d21e8324",
    "order_count": 2,
    "time": "2020-07-21T11:33:41.906Z",
    "type": "selectCodeCell"
   },
   {
    "code": "This dataset contains a total of 1295 records of American colleges and their properties, collected by the [US Department of Education](https://collegescorecard.ed.gov/data/documentation/).",
    "id": "d71c5c8d5ca64ce888dbd78140f7092b",
    "order_count": 1,
    "time": "2020-07-21T11:33:42.096Z",
    "type": "selectMarkdownCell"
   },
   {
    "code": "cd ../",
    "id": "a7da79e1a13643cab773017189810627",
    "order_count": 0,
    "time": "2020-07-21T11:33:42.261Z",
    "type": "selectCodeCell"
   },
   {
    "time": "2020-07-21T11:33:42.813Z",
    "type": "kernelReady"
   },
   {
    "code": "cd ../",
    "id": "a7da79e1a13643cab773017189810627",
    "order_count": 0,
    "time": "2020-07-21T11:33:42.858Z",
    "type": "executeCodeCell"
   },
   {
    "code": "This dataset contains a total of 1295 records of American colleges and their properties, collected by the [US Department of Education](https://collegescorecard.ed.gov/data/documentation/).",
    "id": "d71c5c8d5ca64ce888dbd78140f7092b",
    "order_count": 1,
    "time": "2020-07-21T11:33:42.866Z",
    "type": "selectMarkdownCell"
   },
   {
    "code": "cd ../",
    "id": "a7da79e1a13643cab773017189810627",
    "isPrintLuxDf": false,
    "isPrintPandasDf": false,
    "isPrintVis": false,
    "isPrintVisCollection": false,
    "order_count": 0,
    "time": "2020-07-21T11:33:42.887Z",
    "type": "completeCodeCell"
   },
   {
    "code": "import pandas as pd\n%load_ext autoreload\n%autoreload 2\nimport lux",
    "id": "7428a8a53da0452880d1e6c1d21e8324",
    "order_count": 2,
    "time": "2020-07-21T11:33:43.007Z",
    "type": "selectCodeCell"
   },
   {
    "code": "import pandas as pd\n%load_ext autoreload\n%autoreload 2\nimport lux",
    "id": "7428a8a53da0452880d1e6c1d21e8324",
    "order_count": 2,
    "time": "2020-07-21T11:33:43.130Z",
    "type": "executeCodeCell"
   },
   {
    "code": "df = pd.read_csv(\"lux/data/college.csv\")",
    "id": "78a539bb361149808b28db83c04c6cab",
    "order_count": 3,
    "time": "2020-07-21T11:33:43.143Z",
    "type": "selectCodeCell"
   },
   {
    "code": "df = pd.read_csv(\"lux/data/college.csv\")",
    "id": "78a539bb361149808b28db83c04c6cab",
    "order_count": 3,
    "time": "2020-07-21T11:33:43.267Z",
    "type": "executeCodeCell"
   },
   {
    "code": "groupbyResult = df.groupby(\"Region\").sum()",
    "id": "63be682cd1e444e08c0c4d37f3406a4d",
    "order_count": 4,
    "time": "2020-07-21T11:33:43.285Z",
    "type": "selectCodeCell"
   },
   {
    "code": "groupbyResult = df.groupby(\"Region\").sum()",
    "id": "63be682cd1e444e08c0c4d37f3406a4d",
    "order_count": 4,
    "time": "2020-07-21T11:33:43.412Z",
    "type": "executeCodeCell"
   },
   {
    "code": "groupbyResult.",
    "id": "5a90b6bf50a94a01b6bf6bdff12ced93",
    "order_count": 5,
    "time": "2020-07-21T11:33:43.431Z",
    "type": "selectCodeCell"
   },
   {
    "code": "import pandas as pd\n%load_ext autoreload\n%autoreload 2\nimport lux",
    "id": "7428a8a53da0452880d1e6c1d21e8324",
    "isPrintLuxDf": false,
    "isPrintPandasDf": false,
    "isPrintVis": false,
    "isPrintVisCollection": false,
    "order_count": 2,
    "time": "2020-07-21T11:33:43.529Z",
    "type": "completeCodeCell"
   },
   {
    "code": "df = pd.read_csv(\"lux/data/college.csv\")",
    "id": "78a539bb361149808b28db83c04c6cab",
    "isPrintLuxDf": false,
    "isPrintPandasDf": false,
    "isPrintVis": false,
    "isPrintVisCollection": false,
    "order_count": 3,
    "time": "2020-07-21T11:33:43.569Z",
    "type": "completeCodeCell"
   },
   {
    "code": "groupbyResult = df.groupby(\"Region\").sum()",
    "id": "63be682cd1e444e08c0c4d37f3406a4d",
    "isPrintLuxDf": false,
    "isPrintPandasDf": false,
    "isPrintVis": false,
    "isPrintVisCollection": false,
    "order_count": 4,
    "time": "2020-07-21T11:33:43.607Z",
    "type": "completeCodeCell"
   },
   {
    "code": "groupbyResult.",
    "id": "5a90b6bf50a94a01b6bf6bdff12ced93",
    "order_count": 5,
    "time": "2020-07-21T11:33:44.262Z",
    "type": "executeCodeCell"
   },
   {
    "code": "df.data_type",
    "id": "d246aa33c8b34b788126cea7264e67e4",
    "order_count": 6,
    "time": "2020-07-21T11:33:44.278Z",
    "type": "selectCodeCell"
   },
   {
    "code": "groupbyResult.",
    "id": "5a90b6bf50a94a01b6bf6bdff12ced93",
    "isPrintLuxDf": false,
    "isPrintPandasDf": false,
    "isPrintVis": false,
    "isPrintVisCollection": false,
    "order_count": 5,
    "time": "2020-07-21T11:33:44.294Z",
    "type": "completeCodeCell"
   },
   {
    "code": "groupbyResult.",
    "id": "5a90b6bf50a94a01b6bf6bdff12ced93",
    "order_count": 5,
    "time": "2020-07-21T11:33:44.874Z",
    "type": "selectCodeCell"
   },
   {
    "code": "groupbyResult.",
    "id": "5a90b6bf50a94a01b6bf6bdff12ced93",
    "order_count": null,
    "time": "2020-07-21T11:33:45.221Z",
    "type": "deleteCodeCell"
   },
   {
    "code": "df.data_type",
    "id": "d246aa33c8b34b788126cea7264e67e4",
    "order_count": 5,
    "time": "2020-07-21T11:33:47.414Z",
    "type": "executeCodeCell"
   },
   {
    "code": "groupbyResult.data_type",
    "id": "11e73c6f69bd49298a3f5407bf8d4840",
    "order_count": 6,
    "time": "2020-07-21T11:33:47.430Z",
    "type": "selectCodeCell"
   },
   {
    "code": "df.data_type",
    "id": "d246aa33c8b34b788126cea7264e67e4",
    "isPrintLuxDf": false,
    "isPrintPandasDf": false,
    "isPrintVis": false,
    "isPrintVisCollection": false,
    "order_count": 5,
    "time": "2020-07-21T11:33:47.448Z",
    "type": "completeCodeCell"
   },
   {
    "code": "df.data_type",
    "id": "d246aa33c8b34b788126cea7264e67e4",
    "order_count": 5,
    "time": "2020-07-21T11:33:48.866Z",
    "type": "selectCodeCell"
   },
   {
    "code": "df.data_type",
    "id": "d246aa33c8b34b788126cea7264e67e4",
    "order_count": 5,
    "time": "2020-07-21T11:33:51.394Z",
    "type": "editCodeCell"
   },
   {
    "code": "groupbyResult.data_type",
    "id": "d246aa33c8b34b788126cea7264e67e4",
    "order_count": 5,
    "time": "2020-07-21T11:34:01.070Z",
    "type": "executeCodeCell"
   },
   {
    "code": "groupbyResult.data_type",
    "id": "11e73c6f69bd49298a3f5407bf8d4840",
    "order_count": 6,
    "time": "2020-07-21T11:34:01.108Z",
    "type": "selectCodeCell"
   },
   {
    "code": "groupbyResult.data_type",
    "id": "d246aa33c8b34b788126cea7264e67e4",
    "isPrintLuxDf": false,
    "isPrintPandasDf": false,
    "isPrintVis": false,
    "isPrintVisCollection": false,
    "order_count": 5,
    "time": "2020-07-21T11:34:01.124Z",
    "type": "completeCodeCell"
   },
   {
    "code": "groupbyResult.data_type",
    "id": "d246aa33c8b34b788126cea7264e67e4",
    "order_count": 5,
    "time": "2020-07-21T11:34:03.124Z",
    "type": "selectCodeCell"
   },
   {
    "code": "groupbyResult.data_type",
    "id": "d246aa33c8b34b788126cea7264e67e4",
    "order_count": null,
    "time": "2020-07-21T11:34:03.453Z",
    "type": "deleteCodeCell"
   },
   {
    "code": "groupbyResult.data_type",
    "id": "11e73c6f69bd49298a3f5407bf8d4840",
    "order_count": null,
    "time": "2020-07-21T11:34:03.924Z",
    "type": "deleteCodeCell"
   },
   {
    "code": "groupbyResult.index",
    "id": "83ebdf13b37f4d3e81ef200b12dd7848",
    "order_count": null,
    "time": "2020-07-21T11:34:05.181Z",
    "type": "deleteCodeCell"
   },
   {
    "code": "groupbyResult.index.dtype",
    "id": "4e8926159dca4b29bd09508818b50ed8",
    "order_count": null,
    "time": "2020-07-21T11:34:05.717Z",
    "type": "deleteCodeCell"
   },
   {
    "code": "groupbyResult.dtypes",
    "id": "f67df2afa3824cf98c142ab3b125383e",
    "order_count": 5,
    "time": "2020-07-21T11:34:10.524Z",
    "type": "selectCodeCell"
   },
   {
    "code": "groupbyResult.dtypes",
    "id": "f67df2afa3824cf98c142ab3b125383e",
    "order_count": 5,
    "time": "2020-07-21T11:34:13.802Z",
    "type": "selectCodeCell"
   },
   {
    "code": "groupbyResult.dtypes",
    "id": "f67df2afa3824cf98c142ab3b125383e",
    "order_count": 5,
    "time": "2020-07-21T11:34:24.651Z",
    "type": "editCodeCell"
   },
   {
    "code": "groupbyResult.dtypes",
    "id": "f67df2afa3824cf98c142ab3b125383e",
    "order_count": 5,
    "time": "2020-07-21T11:34:24.791Z",
    "type": "selectCodeCell"
   },
   {
    "code": "groupbyResult.dtypes",
    "id": "f67df2afa3824cf98c142ab3b125383e",
    "order_count": 5,
    "time": "2020-07-21T11:34:25.559Z",
    "type": "executeCodeCell"
   },
   {
    "code": "self = groupbyResult\nif (type(self.index) != pd.core.indexes.range.RangeIndex):# if multi-index, then default to pandas output\n    print (\"test\")\n    index_column_name = self.index.name",
    "id": "5e39c1e5c8e740e181980e5d80cfeb44",
    "order_count": 6,
    "time": "2020-07-21T11:34:25.595Z",
    "type": "selectCodeCell"
   },
   {
    "code": "groupbyResult.dtypes",
    "id": "f67df2afa3824cf98c142ab3b125383e",
    "isPrintLuxDf": false,
    "isPrintPandasDf": false,
    "isPrintVis": false,
    "isPrintVisCollection": false,
    "order_count": 5,
    "time": "2020-07-21T11:34:25.608Z",
    "type": "completeCodeCell"
   },
   {
    "code": "groupbyResult.dtypes",
    "id": "f67df2afa3824cf98c142ab3b125383e",
    "order_count": 5,
    "time": "2020-07-21T11:34:29.011Z",
    "type": "selectCodeCell"
   },
   {
    "code": "groupbyResult.dtypes",
    "id": "f67df2afa3824cf98c142ab3b125383e",
    "order_count": null,
    "time": "2020-07-21T11:34:30.470Z",
    "type": "deleteCodeCell"
   },
   {
    "code": "for attribute in self.columns:\n    vis = Vis([index_column_name,attribute])\n    vis._inferred_query = Parser.parse(vis.query)\n    vc = Compiler.compile(self,vis._inferred_query,[vis],enumerate_collection=False)\n    vis.data = self[attribute].reset_index()\n",
    "id": "5f54f55b856742dc8bddf0782da7c89c",
    "order_count": 10,
    "time": "2020-07-21T11:35:10.969Z",
    "type": "selectCodeCell"
   },
   {
    "code": "",
    "id": "616db4f724644ce8aaeb253b0852e999",
    "order_count": 10,
    "time": "2020-07-21T11:35:11.400Z",
    "type": "selectCodeCell"
   },
   {
    "code": "",
    "id": "616db4f724644ce8aaeb253b0852e999",
    "order_count": 10,
    "time": "2020-07-21T11:35:11.789Z",
    "type": "editCodeCell"
   },
   {
    "code": "",
    "id": "616db4f724644ce8aaeb253b0852e999",
    "order_count": 10,
    "time": "2020-07-21T11:35:21.890Z",
    "type": "selectCodeCell"
   },
   {
    "code": "",
    "id": "616db4f724644ce8aaeb253b0852e999",
    "order_count": 10,
    "time": "2020-07-21T11:35:29.740Z",
    "type": "selectCodeCell"
   },
   {
    "code": "vis._inferred_query",
    "id": "616db4f724644ce8aaeb253b0852e999",
    "order_count": 10,
    "time": "2020-07-21T11:35:40.664Z",
    "type": "executeCodeCell"
   },
   {
    "code": "for attribute in self.columns:\n    vis = Vis([index_column_name,attribute])\n    vis._inferred_query = Parser.parse(vis.query)\n    vc = Compiler.compile(self,vis._inferred_query,[vis],enumerate_collection=False)\n    vis.data = self[attribute].reset_index()\n",
    "id": "5f54f55b856742dc8bddf0782da7c89c",
    "order_count": 11,
    "time": "2020-07-21T11:35:40.705Z",
    "type": "selectCodeCell"
   },
   {
    "code": "vis._inferred_query",
    "id": "616db4f724644ce8aaeb253b0852e999",
    "isPrintLuxDf": false,
    "isPrintPandasDf": false,
    "isPrintVis": false,
    "isPrintVisCollection": false,
    "order_count": 10,
    "time": "2020-07-21T11:35:40.794Z",
    "type": "completeCodeCell"
   },
   {
    "code": "vis._inferred_query",
    "id": "616db4f724644ce8aaeb253b0852e999",
    "order_count": 10,
    "time": "2020-07-21T11:35:42.516Z",
    "type": "selectCodeCell"
   },
   {
    "code": "vis._inferred_query",
    "id": "616db4f724644ce8aaeb253b0852e999",
    "order_count": null,
    "time": "2020-07-21T11:35:42.814Z",
    "type": "deleteCodeCell"
   },
   {
    "code": "for attribute in self.columns:\n    vis = Vis([index_column_name,attribute])\n    vis._inferred_query = Parser.parse(vis.query)\n    vc = Compiler.compile(self,vis._inferred_query,[vis],enumerate_collection=False)\n    vis.data = self[attribute].reset_index()\n",
    "id": "5f54f55b856742dc8bddf0782da7c89c",
    "order_count": 10,
    "time": "2020-07-21T11:35:45.247Z",
    "type": "editCodeCell"
   },
   {
    "code": "for attribute in self.columns:\n    vis = Vis([index_column_name,attribute])\n    vis._inferred_query = Parser.parse(vis.query)\n    vc = Compiler.compile(self,vis._inferred_query,[vis],enumerate_collection=False)\n    vis.data = self[attribute].reset_index()\n",
    "id": "5f54f55b856742dc8bddf0782da7c89c",
    "order_count": 10,
    "time": "2020-07-21T11:35:49.119Z",
    "type": "selectCodeCell"
   },
   {
    "code": "for attribute in self.columns:\n    vis = Vis([index_column_name,attribute])\n    vis.data = self[attribute].reset_index()\n",
    "id": "5f54f55b856742dc8bddf0782da7c89c",
    "order_count": 10,
    "time": "2020-07-21T11:36:03.031Z",
    "type": "executeCodeCell"
   },
   {
    "code": "vis._inferred_query = [lux.Clause()]",
    "id": "64b2aeae74224155832a8450b8dad9aa",
    "order_count": 11,
    "time": "2020-07-21T11:36:03.064Z",
    "type": "selectCodeCell"
   },
   {
    "code": "for attribute in self.columns:\n    vis = Vis([index_column_name,attribute])\n    vis.data = self[attribute].reset_index()\n",
    "id": "5f54f55b856742dc8bddf0782da7c89c",
    "isPrintLuxDf": false,
    "isPrintPandasDf": false,
    "isPrintVis": false,
    "isPrintVisCollection": false,
    "order_count": 10,
    "time": "2020-07-21T11:36:03.077Z",
    "type": "completeCodeCell"
   },
   {
    "code": "for attribute in self.columns:\n    vis = Vis([index_column_name,attribute])\n    vis.data = self[attribute].reset_index()\n",
    "id": "5f54f55b856742dc8bddf0782da7c89c",
    "order_count": 10,
    "time": "2020-07-21T11:36:05.125Z",
    "type": "selectCodeCell"
   },
   {
    "code": "self.data_type",
    "id": "5d8ba5d37b9542538726810ef82b1b45",
    "order_count": 9,
    "time": "2020-07-21T11:36:05.356Z",
    "type": "selectCodeCell"
   },
   {
    "code": "from lux.vis.Vis import Vis\nfrom lux.compiler.Parser import Parser\nfrom lux.compiler.Validator import Validator\nfrom lux.compiler.Compiler import Compiler\n",
    "id": "ca07cdd3856841c082c7831ab613eb72",
    "order_count": 8,
    "time": "2020-07-21T11:36:05.702Z",
    "type": "selectCodeCell"
   },
   {
    "code": "# self.reset_index()",
    "id": "dc65928dcab74a518ec6aeee3d2abc9f",
    "order_count": 7,
    "time": "2020-07-21T11:36:05.918Z",
    "type": "selectCodeCell"
   },
   {
    "code": "index_column_name",
    "id": "635986bd5dba4b92915672975a9641d8",
    "order_count": 6,
    "time": "2020-07-21T11:36:06.091Z",
    "type": "selectCodeCell"
   },
   {
    "code": "self = groupbyResult\nif (type(self.index) != pd.core.indexes.range.RangeIndex):# if multi-index, then default to pandas output\n    print (\"test\")\n    index_column_name = self.index.name",
    "id": "5e39c1e5c8e740e181980e5d80cfeb44",
    "order_count": 5,
    "time": "2020-07-21T11:36:06.846Z",
    "type": "selectCodeCell"
   },
   {
    "code": "self = groupbyResult\nif (type(self.index) != pd.core.indexes.range.RangeIndex):# if multi-index, then default to pandas output\n    print (\"test\")\n    index_column_name = self.index.name",
    "id": "5e39c1e5c8e740e181980e5d80cfeb44",
    "order_count": 5,
    "time": "2020-07-21T11:36:09.210Z",
    "type": "editCodeCell"
   },
   {
    "code": "self = groupbyResult\nif (type(self.index) != pd.core.indexes.range.RangeIndex):# if multi-index, then default to pandas output\n    print (\"test\")\n    index_column_name = self.index.name",
    "id": "5e39c1e5c8e740e181980e5d80cfeb44",
    "order_count": 5,
    "time": "2020-07-21T11:36:12.353Z",
    "type": "executeCodeCell"
   },
   {
    "code": "index_column_name",
    "id": "635986bd5dba4b92915672975a9641d8",
    "order_count": 6,
    "time": "2020-07-21T11:36:12.385Z",
    "type": "selectCodeCell"
   },
   {
    "code": "self = groupbyResult\nif (type(self.index) != pd.core.indexes.range.RangeIndex):# if multi-index, then default to pandas output\n    print (\"test\")\n    index_column_name = self.index.name",
    "id": "5e39c1e5c8e740e181980e5d80cfeb44",
    "isPrintLuxDf": false,
    "isPrintPandasDf": false,
    "isPrintVis": false,
    "isPrintVisCollection": false,
    "order_count": 5,
    "time": "2020-07-21T11:36:12.398Z",
    "type": "completeCodeCell"
   },
   {
    "code": "index_column_name",
    "id": "635986bd5dba4b92915672975a9641d8",
    "order_count": 6,
    "time": "2020-07-21T11:36:12.606Z",
    "type": "executeCodeCell"
   },
   {
    "code": "# self.reset_index()",
    "id": "dc65928dcab74a518ec6aeee3d2abc9f",
    "order_count": 7,
    "time": "2020-07-21T11:36:12.621Z",
    "type": "selectCodeCell"
   },
   {
    "code": "index_column_name",
    "id": "635986bd5dba4b92915672975a9641d8",
    "isPrintLuxDf": false,
    "isPrintPandasDf": false,
    "isPrintVis": false,
    "isPrintVisCollection": false,
    "order_count": 6,
    "time": "2020-07-21T11:36:12.635Z",
    "type": "completeCodeCell"
   },
   {
    "code": "# self.reset_index()",
    "id": "dc65928dcab74a518ec6aeee3d2abc9f",
    "order_count": 7,
    "time": "2020-07-21T11:36:12.871Z",
    "type": "executeCodeCell"
   },
   {
    "code": "from lux.vis.Vis import Vis\nfrom lux.compiler.Parser import Parser\nfrom lux.compiler.Validator import Validator\nfrom lux.compiler.Compiler import Compiler\n",
    "id": "ca07cdd3856841c082c7831ab613eb72",
    "order_count": 8,
    "time": "2020-07-21T11:36:12.889Z",
    "type": "selectCodeCell"
   },
   {
    "code": "# self.reset_index()",
    "id": "dc65928dcab74a518ec6aeee3d2abc9f",
    "isPrintLuxDf": false,
    "isPrintPandasDf": false,
    "isPrintVis": false,
    "isPrintVisCollection": false,
    "order_count": 7,
    "time": "2020-07-21T11:36:12.894Z",
    "type": "completeCodeCell"
   },
   {
    "code": "from lux.vis.Vis import Vis\nfrom lux.compiler.Parser import Parser\nfrom lux.compiler.Validator import Validator\nfrom lux.compiler.Compiler import Compiler\n",
    "id": "ca07cdd3856841c082c7831ab613eb72",
    "order_count": 8,
    "time": "2020-07-21T11:36:13.104Z",
    "type": "executeCodeCell"
   },
   {
    "code": "self.data_type",
    "id": "5d8ba5d37b9542538726810ef82b1b45",
    "order_count": 9,
    "time": "2020-07-21T11:36:13.118Z",
    "type": "selectCodeCell"
   },
   {
    "code": "from lux.vis.Vis import Vis\nfrom lux.compiler.Parser import Parser\nfrom lux.compiler.Validator import Validator\nfrom lux.compiler.Compiler import Compiler\n",
    "id": "ca07cdd3856841c082c7831ab613eb72",
    "isPrintLuxDf": false,
    "isPrintPandasDf": false,
    "isPrintVis": false,
    "isPrintVisCollection": false,
    "order_count": 8,
    "time": "2020-07-21T11:36:13.126Z",
    "type": "completeCodeCell"
   },
   {
    "code": "self.data_type",
    "id": "5d8ba5d37b9542538726810ef82b1b45",
    "order_count": 9,
    "time": "2020-07-21T11:36:13.527Z",
    "type": "executeCodeCell"
   },
   {
    "code": "for attribute in self.columns:\n    vis = Vis([index_column_name,attribute])\n    vis.data = self[attribute].reset_index()\n",
    "id": "5f54f55b856742dc8bddf0782da7c89c",
    "order_count": 10,
    "time": "2020-07-21T11:36:13.546Z",
    "type": "selectCodeCell"
   },
   {
    "code": "self.data_type",
    "id": "5d8ba5d37b9542538726810ef82b1b45",
    "isPrintLuxDf": false,
    "isPrintPandasDf": false,
    "isPrintVis": false,
    "isPrintVisCollection": false,
    "order_count": 9,
    "time": "2020-07-21T11:36:13.552Z",
    "type": "completeCodeCell"
   },
   {
    "code": "for attribute in self.columns:\n    vis = Vis([index_column_name,attribute])\n    vis.data = self[attribute].reset_index()\n",
    "id": "5f54f55b856742dc8bddf0782da7c89c",
    "order_count": 10,
    "time": "2020-07-21T11:36:13.991Z",
    "type": "executeCodeCell"
   },
   {
    "code": "vis._inferred_query = [lux.Clause()]",
    "id": "64b2aeae74224155832a8450b8dad9aa",
    "order_count": 11,
    "time": "2020-07-21T11:36:14.007Z",
    "type": "selectCodeCell"
   },
   {
    "code": "for attribute in self.columns:\n    vis = Vis([index_column_name,attribute])\n    vis.data = self[attribute].reset_index()\n",
    "id": "5f54f55b856742dc8bddf0782da7c89c",
    "isPrintLuxDf": false,
    "isPrintPandasDf": false,
    "isPrintVis": false,
    "isPrintVisCollection": false,
    "order_count": 10,
    "time": "2020-07-21T11:36:14.039Z",
    "type": "completeCodeCell"
   },
   {
    "code": "",
    "id": "39af507338f645c880c9827ca108f1b4",
    "order_count": 11,
    "time": "2020-07-21T11:36:15.641Z",
    "type": "selectCodeCell"
   },
   {
    "code": "",
    "id": "39af507338f645c880c9827ca108f1b4",
    "order_count": 11,
    "time": "2020-07-21T11:36:16.006Z",
    "type": "editCodeCell"
   },
   {
    "code": "vis",
    "id": "39af507338f645c880c9827ca108f1b4",
    "order_count": 11,
    "time": "2020-07-21T11:36:17.600Z",
    "type": "executeCodeCell"
   },
   {
    "code": "vis._inferred_query = [lux.Clause()]",
    "id": "64b2aeae74224155832a8450b8dad9aa",
    "order_count": 12,
    "time": "2020-07-21T11:36:17.634Z",
    "type": "selectCodeCell"
   },
   {
    "code": "vis",
    "id": "39af507338f645c880c9827ca108f1b4",
    "isPrintLuxDf": false,
    "isPrintPandasDf": false,
    "isPrintVis": true,
    "isPrintVisCollection": false,
    "order_count": 11,
    "time": "2020-07-21T11:36:17.693Z",
    "type": "completeCodeCell"
   },
   {
    "code": "vis",
    "id": "39af507338f645c880c9827ca108f1b4",
    "order_count": 11,
    "time": "2020-07-21T11:36:19.175Z",
    "type": "selectCodeCell"
   },
   {
    "code": "vis",
    "id": "39af507338f645c880c9827ca108f1b4",
    "order_count": 11,
    "time": "2020-07-21T11:36:19.183Z",
    "type": "editCodeCell"
   },
   {
    "code": "vis",
    "id": "39af507338f645c880c9827ca108f1b4",
    "order_count": 11,
    "time": "2020-07-21T11:36:19.293Z",
    "type": "selectCodeCell"
   },
   {
    "code": "vis",
    "id": "39af507338f645c880c9827ca108f1b4",
    "order_count": 11,
    "time": "2020-07-21T11:36:21.582Z",
    "type": "selectCodeCell"
   },
   {
    "code": "vis",
    "id": "39af507338f645c880c9827ca108f1b4",
    "order_count": 11,
    "time": "2020-07-21T11:36:24.125Z",
    "type": "selectCodeCell"
   },
   {
    "code": "for attribute in self.columns:\n    vis = Vis([index_column_name,attribute])\n    vis.data = self[attribute].reset_index()\n",
    "id": "5f54f55b856742dc8bddf0782da7c89c",
    "order_count": 10,
    "time": "2020-07-21T11:36:31.319Z",
    "type": "selectCodeCell"
   },
   {
    "code": "for attribute in self.columns:\n    vis = Vis([index_column_name,attribute])\n    vis.data = self[attribute].reset_index()\n",
    "id": "5f54f55b856742dc8bddf0782da7c89c",
    "order_count": 10,
    "time": "2020-07-21T11:36:31.327Z",
    "type": "editCodeCell"
   },
   {
    "code": "vis",
    "id": "39af507338f645c880c9827ca108f1b4",
    "order_count": 11,
    "time": "2020-07-21T11:36:32.476Z",
    "type": "selectCodeCell"
   },
   {
    "code": "vis",
    "id": "39af507338f645c880c9827ca108f1b4",
    "order_count": 11,
    "time": "2020-07-21T11:36:32.483Z",
    "type": "editCodeCell"
   },
   {
    "code": "vis = Vis([index_column_name,attribute])\nvis.data = self[attribute].reset_index()",
    "id": "39af507338f645c880c9827ca108f1b4",
    "order_count": 11,
    "time": "2020-07-21T11:36:35.017Z",
    "type": "executeCodeCell"
   },
   {
    "code": "vis._inferred_query = [lux.Clause()]",
    "id": "64b2aeae74224155832a8450b8dad9aa",
    "order_count": 12,
    "time": "2020-07-21T11:36:35.052Z",
    "type": "selectCodeCell"
   },
   {
    "code": "vis = Vis([index_column_name,attribute])\nvis.data = self[attribute].reset_index()",
    "id": "39af507338f645c880c9827ca108f1b4",
    "isPrintLuxDf": false,
    "isPrintPandasDf": false,
    "isPrintVis": false,
    "isPrintVisCollection": false,
    "order_count": 11,
    "time": "2020-07-21T11:36:35.061Z",
    "type": "completeCodeCell"
   },
   {
    "code": "vis = Vis([index_column_name,attribute])\nvis.data = self[attribute].reset_index()",
    "id": "39af507338f645c880c9827ca108f1b4",
    "order_count": 11,
    "time": "2020-07-21T11:36:35.651Z",
    "type": "selectCodeCell"
   },
   {
    "code": "vis._inferred_query = [lux.Clause()]",
    "id": "64b2aeae74224155832a8450b8dad9aa",
    "order_count": 12,
    "time": "2020-07-21T11:36:36.813Z",
    "type": "selectCodeCell"
   },
   {
    "code": "",
    "id": "8b259970fcfd4bab8fa6df8e17b6447b",
    "order_count": 12,
    "time": "2020-07-21T11:36:37.250Z",
    "type": "selectCodeCell"
   },
   {
    "code": "",
    "id": "8b259970fcfd4bab8fa6df8e17b6447b",
    "order_count": 12,
    "time": "2020-07-21T11:36:37.407Z",
    "type": "editCodeCell"
   },
   {
    "code": "vis = Vis([index_column_name,attribute])\nvis.data = self[attribute].reset_index()",
    "id": "39af507338f645c880c9827ca108f1b4",
    "order_count": 11,
    "time": "2020-07-21T11:36:40.378Z",
    "type": "selectCodeCell"
   },
   {
    "code": "vis = Vis([index_column_name,attribute])\nvis.data = self[attribute].reset_index()",
    "id": "39af507338f645c880c9827ca108f1b4",
    "order_count": 11,
    "time": "2020-07-21T11:36:40.384Z",
    "type": "editCodeCell"
   },
   {
    "code": "vis = Vis([index_column_name,attribute],df)",
    "id": "39af507338f645c880c9827ca108f1b4",
    "order_count": 11,
    "time": "2020-07-21T11:36:45.689Z",
    "type": "executeCodeCell"
   },
   {
    "code": "",
    "id": "8b259970fcfd4bab8fa6df8e17b6447b",
    "order_count": 12,
    "time": "2020-07-21T11:36:45.724Z",
    "type": "selectCodeCell"
   },
   {
    "code": "vis = Vis([index_column_name,attribute],df)",
    "id": "39af507338f645c880c9827ca108f1b4",
    "isPrintLuxDf": false,
    "isPrintPandasDf": false,
    "isPrintVis": false,
    "isPrintVisCollection": false,
    "order_count": 11,
    "time": "2020-07-21T11:36:45.740Z",
    "type": "completeCodeCell"
   },
   {
    "code": "",
    "id": "8b259970fcfd4bab8fa6df8e17b6447b",
    "order_count": 12,
    "time": "2020-07-21T11:36:46.302Z",
    "type": "editCodeCell"
   },
   {
    "code": "vis",
    "id": "8b259970fcfd4bab8fa6df8e17b6447b",
    "order_count": 12,
    "time": "2020-07-21T11:36:47.152Z",
    "type": "executeCodeCell"
   },
   {
    "code": "vis._inferred_query = [lux.Clause()]",
    "id": "64b2aeae74224155832a8450b8dad9aa",
    "order_count": 13,
    "time": "2020-07-21T11:36:47.186Z",
    "type": "selectCodeCell"
   },
   {
    "code": "vis",
    "id": "8b259970fcfd4bab8fa6df8e17b6447b",
    "isPrintLuxDf": false,
    "isPrintPandasDf": false,
    "isPrintVis": true,
    "isPrintVisCollection": false,
    "order_count": 12,
    "time": "2020-07-21T11:36:47.206Z",
    "type": "completeCodeCell"
   },
   {
    "param": "",
    "time": "2020-07-21T11:36:47.220Z",
    "type": "initWidget"
   },
   {
    "code": "vis",
    "id": "8b259970fcfd4bab8fa6df8e17b6447b",
    "order_count": 12,
    "time": "2020-07-21T11:36:49.790Z",
    "type": "selectCodeCell"
   },
   {
    "code": "vis",
    "id": "8b259970fcfd4bab8fa6df8e17b6447b",
    "order_count": 12,
    "time": "2020-07-21T11:36:49.797Z",
    "type": "editCodeCell"
   },
   {
    "code": "vis.query",
    "id": "8b259970fcfd4bab8fa6df8e17b6447b",
    "order_count": 12,
    "time": "2020-07-21T11:36:53.429Z",
    "type": "executeCodeCell"
   },
   {
    "code": "vis._inferred_query = [lux.Clause()]",
    "id": "64b2aeae74224155832a8450b8dad9aa",
    "order_count": 13,
    "time": "2020-07-21T11:36:53.463Z",
    "type": "selectCodeCell"
   },
   {
    "code": "vis.query",
    "id": "8b259970fcfd4bab8fa6df8e17b6447b",
    "isPrintLuxDf": false,
    "isPrintPandasDf": false,
    "isPrintVis": false,
    "isPrintVisCollection": false,
    "order_count": 12,
    "time": "2020-07-21T11:36:53.478Z",
    "type": "completeCodeCell"
   },
   {
    "code": "vis.query",
    "id": "8b259970fcfd4bab8fa6df8e17b6447b",
    "order_count": 12,
    "time": "2020-07-21T11:36:54.678Z",
    "type": "selectCodeCell"
   },
   {
    "code": "vis.query",
    "id": "8b259970fcfd4bab8fa6df8e17b6447b",
    "order_count": 12,
    "time": "2020-07-21T11:36:54.684Z",
    "type": "editCodeCell"
   },
   {
    "code": "vis.query",
    "id": "8b259970fcfd4bab8fa6df8e17b6447b",
    "order_count": 12,
    "time": "2020-07-21T11:36:56.188Z",
    "type": "selectCodeCell"
   },
   {
    "code": "vis._inferred_query",
    "id": "8b259970fcfd4bab8fa6df8e17b6447b",
    "order_count": 12,
    "time": "2020-07-21T11:36:57.849Z",
    "type": "executeCodeCell"
   },
   {
    "code": "vis._inferred_query = [lux.Clause()]",
    "id": "64b2aeae74224155832a8450b8dad9aa",
    "order_count": 13,
    "time": "2020-07-21T11:36:57.883Z",
    "type": "selectCodeCell"
   },
   {
    "code": "vis._inferred_query",
    "id": "8b259970fcfd4bab8fa6df8e17b6447b",
    "isPrintLuxDf": false,
    "isPrintPandasDf": false,
    "isPrintVis": false,
    "isPrintVisCollection": false,
    "order_count": 12,
    "time": "2020-07-21T11:36:57.895Z",
    "type": "completeCodeCell"
   },
   {
    "code": "vis._inferred_query = [lux.Clause()]",
    "id": "64b2aeae74224155832a8450b8dad9aa",
    "order_count": 13,
    "time": "2020-07-21T11:37:01.024Z",
    "type": "editCodeCell"
   },
   {
    "code": "vis._inferred_query = [lux.Clause(attribute=index_column_name,channel=\"y\")]",
    "id": "64b2aeae74224155832a8450b8dad9aa",
    "order_count": 13,
    "time": "2020-07-21T11:37:28.085Z",
    "type": "selectCodeCell"
   },
   {
    "code": "",
    "id": "bd344d9166f14ab0b8b96d850724f244",
    "order_count": 13,
    "time": "2020-07-21T11:37:28.395Z",
    "type": "selectCodeCell"
   },
   {
    "code": "",
    "id": "bd344d9166f14ab0b8b96d850724f244",
    "order_count": 13,
    "time": "2020-07-21T11:37:28.879Z",
    "type": "editCodeCell"
   },
   {
    "code": "for attribute in self.columns:\n    vis = Vis([index_column_name,attribute])\n    vis.data = self[attribute].reset_index()\n",
    "id": "5f54f55b856742dc8bddf0782da7c89c",
    "order_count": 10,
    "time": "2020-07-21T11:38:00.014Z",
    "type": "selectCodeCell"
   },
   {
    "code": "for attribute in self.columns:\n    vis = Vis([index_column_name,attribute])\n    vis.data = self[attribute].reset_index()\n",
    "id": "5f54f55b856742dc8bddf0782da7c89c",
    "order_count": 10,
    "time": "2020-07-21T11:38:00.023Z",
    "type": "editCodeCell"
   },
   {
    "code": "for attribute in self.columns:\n    vis = Vis([index_column_name,attribute])\n    vis.data = self[attribute].reset_index()\n",
    "id": "5f54f55b856742dc8bddf0782da7c89c",
    "order_count": 10,
    "time": "2020-07-21T11:38:00.078Z",
    "type": "editCodeCell"
   },
   {
    "code": "for attribute in self.columns:\n    vis = Vis([index_column_name,attribute])\n    vis.data = self[attribute].reset_index()\n",
    "id": "5f54f55b856742dc8bddf0782da7c89c",
    "order_count": 10,
    "time": "2020-07-21T11:38:14.039Z",
    "type": "selectCodeCell"
   },
   {
    "code": "for attribute in self.columns:\n    vis = Vis([index_column_name,attribute])\n    vis.data = self[attribute].reset_index()\n",
    "id": "5f54f55b856742dc8bddf0782da7c89c",
    "order_count": 10,
    "time": "2020-07-21T11:38:18.400Z",
    "type": "editCodeCell"
   },
   {
    "code": "for attribute in self.columns:\n    vis = Vis([index_column_name,attribute],self[attribute].reset_index())\n",
    "id": "5f54f55b856742dc8bddf0782da7c89c",
    "order_count": 10,
    "time": "2020-07-21T11:38:30.273Z",
    "type": "executeCodeCell"
   },
   {
    "code": "vis = Vis([index_column_name,attribute],df)",
    "id": "39af507338f645c880c9827ca108f1b4",
    "order_count": 11,
    "time": "2020-07-21T11:38:30.307Z",
    "type": "selectCodeCell"
   },
   {
    "code": "for attribute in self.columns:\n    vis = Vis([index_column_name,attribute],self[attribute].reset_index())\n",
    "id": "5f54f55b856742dc8bddf0782da7c89c",
    "isPrintLuxDf": false,
    "isPrintPandasDf": false,
    "isPrintVis": false,
    "isPrintVisCollection": false,
    "order_count": 10,
    "time": "2020-07-21T11:38:30.495Z",
    "type": "completeCodeCell"
   },
   {
    "code": "",
    "id": "c92ebfcf909f45808476aa44a3f0f5fa",
    "order_count": 11,
    "time": "2020-07-21T11:38:30.989Z",
    "type": "selectCodeCell"
   },
   {
    "code": "",
    "id": "c92ebfcf909f45808476aa44a3f0f5fa",
    "order_count": 11,
    "time": "2020-07-21T11:38:31.144Z",
    "type": "editCodeCell"
   },
   {
    "code": "vis",
    "id": "c92ebfcf909f45808476aa44a3f0f5fa",
    "order_count": 11,
    "time": "2020-07-21T11:38:31.954Z",
    "type": "executeCodeCell"
   },
   {
    "code": "vis = Vis([index_column_name,attribute],df)",
    "id": "39af507338f645c880c9827ca108f1b4",
    "order_count": 12,
    "time": "2020-07-21T11:38:31.990Z",
    "type": "selectCodeCell"
   },
   {
    "code": "vis",
    "id": "c92ebfcf909f45808476aa44a3f0f5fa",
    "isPrintLuxDf": false,
    "isPrintPandasDf": false,
    "isPrintVis": true,
    "isPrintVisCollection": false,
    "order_count": 11,
    "time": "2020-07-21T11:38:32.002Z",
    "type": "completeCodeCell"
   },
   {
    "param": "",
    "time": "2020-07-21T11:38:32.011Z",
    "type": "initWidget"
   },
   {
    "code": "for attribute in self.columns:\n    vis = Vis([index_column_name,attribute],self[attribute].reset_index())\n",
    "id": "5f54f55b856742dc8bddf0782da7c89c",
    "order_count": 10,
    "time": "2020-07-21T11:38:38.483Z",
    "type": "selectCodeCell"
   },
   {
    "code": "for attribute in self.columns:\n    vis = Vis([index_column_name,attribute],self[attribute].reset_index())\n",
    "id": "5f54f55b856742dc8bddf0782da7c89c",
    "order_count": 10,
    "time": "2020-07-21T11:38:38.490Z",
    "type": "editCodeCell"
   },
   {
    "code": "vis",
    "id": "c92ebfcf909f45808476aa44a3f0f5fa",
    "order_count": 11,
    "time": "2020-07-21T11:38:40.348Z",
    "type": "selectCodeCell"
   },
   {
    "code": "vis",
    "id": "c92ebfcf909f45808476aa44a3f0f5fa",
    "order_count": 11,
    "time": "2020-07-21T11:38:40.354Z",
    "type": "editCodeCell"
   },
   {
    "code": "for attribute in self.columns:\n    vis = Vis([index_column_name,attribute],self[attribute].reset_index())\n",
    "id": "5f54f55b856742dc8bddf0782da7c89c",
    "order_count": 10,
    "time": "2020-07-21T11:39:00.469Z",
    "type": "selectCodeCell"
   },
   {
    "code": "for attribute in self.columns:\n    vis = Vis([index_column_name,attribute],self[attribute].reset_index())\n",
    "id": "5f54f55b856742dc8bddf0782da7c89c",
    "order_count": 10,
    "time": "2020-07-21T11:39:00.476Z",
    "type": "editCodeCell"
   },
   {
    "code": "for attribute in self.columns:\n    vis = Vis([index_column_name,attribute],self[attribute].reset_index())",
    "id": "5f54f55b856742dc8bddf0782da7c89c",
    "order_count": 10,
    "time": "2020-07-21T11:39:02.637Z",
    "type": "executeCodeCell"
   },
   {
    "code": "vis",
    "id": "c92ebfcf909f45808476aa44a3f0f5fa",
    "order_count": 11,
    "time": "2020-07-21T11:39:02.670Z",
    "type": "selectCodeCell"
   },
   {
    "code": "for attribute in self.columns:\n    vis = Vis([index_column_name,attribute],self[attribute].reset_index())",
    "id": "5f54f55b856742dc8bddf0782da7c89c",
    "isPrintLuxDf": false,
    "isPrintPandasDf": false,
    "isPrintVis": false,
    "isPrintVisCollection": false,
    "order_count": 10,
    "time": "2020-07-21T11:39:02.860Z",
    "type": "completeCodeCell"
   },
   {
    "code": "vis",
    "id": "c92ebfcf909f45808476aa44a3f0f5fa",
    "order_count": 11,
    "time": "2020-07-21T11:39:03.075Z",
    "type": "executeCodeCell"
   },
   {
    "code": "vis = Vis([index_column_name,attribute],df)",
    "id": "39af507338f645c880c9827ca108f1b4",
    "order_count": 12,
    "time": "2020-07-21T11:39:03.090Z",
    "type": "selectCodeCell"
   },
   {
    "code": "vis",
    "id": "c92ebfcf909f45808476aa44a3f0f5fa",
    "isPrintLuxDf": false,
    "isPrintPandasDf": false,
    "isPrintVis": true,
    "isPrintVisCollection": false,
    "order_count": 11,
    "time": "2020-07-21T11:39:03.118Z",
    "type": "completeCodeCell"
   },
   {
    "param": "",
    "time": "2020-07-21T11:39:03.126Z",
    "type": "initWidget"
   },
   {
    "code": "vis",
    "id": "c92ebfcf909f45808476aa44a3f0f5fa",
    "order_count": 11,
    "time": "2020-07-21T11:39:04.680Z",
    "type": "selectCodeCell"
   },
   {
    "code": "vis",
    "id": "c92ebfcf909f45808476aa44a3f0f5fa",
    "order_count": 11,
    "time": "2020-07-21T11:39:19.504Z",
    "type": "editCodeCell"
   },
   {
    "code": "vis.query",
    "id": "c92ebfcf909f45808476aa44a3f0f5fa",
    "order_count": 11,
    "time": "2020-07-21T11:39:21.576Z",
    "type": "executeCodeCell"
   },
   {
    "code": "vis = Vis([index_column_name,attribute],df)",
    "id": "39af507338f645c880c9827ca108f1b4",
    "order_count": 12,
    "time": "2020-07-21T11:39:21.606Z",
    "type": "selectCodeCell"
   },
   {
    "code": "vis.query",
    "id": "c92ebfcf909f45808476aa44a3f0f5fa",
    "isPrintLuxDf": false,
    "isPrintPandasDf": false,
    "isPrintVis": false,
    "isPrintVisCollection": false,
    "order_count": 11,
    "time": "2020-07-21T11:39:21.619Z",
    "type": "completeCodeCell"
   },
   {
    "code": "vis.query",
    "id": "c92ebfcf909f45808476aa44a3f0f5fa",
    "order_count": 11,
    "time": "2020-07-21T11:39:22.721Z",
    "type": "selectCodeCell"
   },
   {
    "code": "vis.query",
    "id": "c92ebfcf909f45808476aa44a3f0f5fa",
    "order_count": 11,
    "time": "2020-07-21T11:39:22.728Z",
    "type": "editCodeCell"
   },
   {
    "code": "vis.query",
    "id": "c92ebfcf909f45808476aa44a3f0f5fa",
    "order_count": 11,
    "time": "2020-07-21T11:39:22.820Z",
    "type": "selectCodeCell"
   },
   {
    "code": "vis.query",
    "id": "c92ebfcf909f45808476aa44a3f0f5fa",
    "order_count": 11,
    "time": "2020-07-21T11:39:23.384Z",
    "type": "selectCodeCell"
   },
   {
    "code": "vis.query",
    "id": "c92ebfcf909f45808476aa44a3f0f5fa",
    "order_count": 11,
    "time": "2020-07-21T11:39:24.856Z",
    "type": "selectCodeCell"
   },
   {
    "code": "vis._inferred_query",
    "id": "c92ebfcf909f45808476aa44a3f0f5fa",
    "order_count": 11,
    "time": "2020-07-21T11:39:26.875Z",
    "type": "executeCodeCell"
   },
   {
    "code": "vis = Vis([index_column_name,attribute],df)",
    "id": "39af507338f645c880c9827ca108f1b4",
    "order_count": 12,
    "time": "2020-07-21T11:39:26.911Z",
    "type": "selectCodeCell"
   },
   {
    "code": "vis._inferred_query",
    "id": "c92ebfcf909f45808476aa44a3f0f5fa",
    "isPrintLuxDf": false,
    "isPrintPandasDf": false,
    "isPrintVis": false,
    "isPrintVisCollection": false,
    "order_count": 11,
    "time": "2020-07-21T11:39:26.925Z",
    "type": "completeCodeCell"
   },
   {
    "code": "vis._inferred_query",
    "id": "c92ebfcf909f45808476aa44a3f0f5fa",
    "order_count": 11,
    "time": "2020-07-21T11:39:55.472Z",
    "type": "selectCodeCell"
   },
   {
    "code": "vis._inferred_query",
    "id": "c92ebfcf909f45808476aa44a3f0f5fa",
    "order_count": 11,
    "time": "2020-07-21T11:39:55.663Z",
    "type": "selectCodeCell"
   },
   {
    "code": "vis._inferred_query",
    "id": "c92ebfcf909f45808476aa44a3f0f5fa",
    "order_count": 11,
    "time": "2020-07-21T11:39:56.783Z",
    "type": "selectCodeCell"
   },
   {
    "code": "vis._inferred_query",
    "id": "c92ebfcf909f45808476aa44a3f0f5fa",
    "order_count": 11,
    "time": "2020-07-21T11:39:56.942Z",
    "type": "selectCodeCell"
   },
   {
    "code": "vis._inferred_query",
    "id": "c92ebfcf909f45808476aa44a3f0f5fa",
    "order_count": 11,
    "time": "2020-07-21T11:39:57.638Z",
    "type": "selectCodeCell"
   },
   {
    "code": "vis._inferred_query",
    "id": "c92ebfcf909f45808476aa44a3f0f5fa",
    "order_count": 11,
    "time": "2020-07-21T11:39:57.871Z",
    "type": "selectCodeCell"
   },
   {
    "code": "vis._inferred_query",
    "id": "c92ebfcf909f45808476aa44a3f0f5fa",
    "order_count": 11,
    "time": "2020-07-21T11:40:23.807Z",
    "type": "selectCodeCell"
   },
   {
    "code": "vis._inferred_query",
    "id": "c92ebfcf909f45808476aa44a3f0f5fa",
    "order_count": 11,
    "time": "2020-07-21T11:40:30.085Z",
    "type": "selectCodeCell"
   },
   {
    "time": "2020-07-21T11:40:31.640Z",
    "type": "kernelRestart"
   },
   {
    "code": "for attribute in self.columns:\n    vis = Vis([index_column_name,attribute],self[attribute].reset_index())",
    "id": "5f54f55b856742dc8bddf0782da7c89c",
    "order_count": 10,
    "time": "2020-07-21T11:40:32.156Z",
    "type": "selectCodeCell"
   },
   {
    "code": "self.data_type",
    "id": "5d8ba5d37b9542538726810ef82b1b45",
    "order_count": 9,
    "time": "2020-07-21T11:40:32.312Z",
    "type": "selectCodeCell"
   },
   {
    "code": "from lux.vis.Vis import Vis\nfrom lux.compiler.Parser import Parser\nfrom lux.compiler.Validator import Validator\nfrom lux.compiler.Compiler import Compiler\n",
    "id": "ca07cdd3856841c082c7831ab613eb72",
    "order_count": 8,
    "time": "2020-07-21T11:40:32.468Z",
    "type": "selectCodeCell"
   },
   {
    "time": "2020-07-21T11:40:32.486Z",
    "type": "kernelReady"
   },
   {
    "code": "# self.reset_index()",
    "id": "dc65928dcab74a518ec6aeee3d2abc9f",
    "order_count": 7,
    "time": "2020-07-21T11:40:32.601Z",
    "type": "selectCodeCell"
   },
   {
    "code": "index_column_name",
    "id": "635986bd5dba4b92915672975a9641d8",
    "order_count": 6,
    "time": "2020-07-21T11:40:32.729Z",
    "type": "selectCodeCell"
   },
   {
    "code": "self = groupbyResult\nif (type(self.index) != pd.core.indexes.range.RangeIndex):# if multi-index, then default to pandas output\n    print (\"test\")\n    index_column_name = self.index.name",
    "id": "5e39c1e5c8e740e181980e5d80cfeb44",
    "order_count": 5,
    "time": "2020-07-21T11:40:32.851Z",
    "type": "selectCodeCell"
   },
   {
    "code": "groupbyResult = df.groupby(\"Region\").sum()",
    "id": "63be682cd1e444e08c0c4d37f3406a4d",
    "order_count": 4,
    "time": "2020-07-21T11:40:33.006Z",
    "type": "selectCodeCell"
   },
   {
    "code": "df = pd.read_csv(\"lux/data/college.csv\")",
    "id": "78a539bb361149808b28db83c04c6cab",
    "order_count": 3,
    "time": "2020-07-21T11:40:33.155Z",
    "type": "selectCodeCell"
   },
   {
    "code": "import pandas as pd\n%load_ext autoreload\n%autoreload 2\nimport lux",
    "id": "7428a8a53da0452880d1e6c1d21e8324",
    "order_count": 2,
    "time": "2020-07-21T11:40:33.291Z",
    "type": "selectCodeCell"
   },
   {
    "code": "This dataset contains a total of 1295 records of American colleges and their properties, collected by the [US Department of Education](https://collegescorecard.ed.gov/data/documentation/).",
    "id": "d71c5c8d5ca64ce888dbd78140f7092b",
    "order_count": 1,
    "time": "2020-07-21T11:40:33.427Z",
    "type": "selectMarkdownCell"
   },
   {
    "code": "cd ../",
    "id": "a7da79e1a13643cab773017189810627",
    "order_count": 0,
    "time": "2020-07-21T11:40:33.568Z",
    "type": "selectCodeCell"
   },
   {
    "code": "cd ../",
    "id": "a7da79e1a13643cab773017189810627",
    "order_count": 0,
    "time": "2020-07-21T11:40:34.107Z",
    "type": "executeCodeCell"
   },
   {
    "code": "This dataset contains a total of 1295 records of American colleges and their properties, collected by the [US Department of Education](https://collegescorecard.ed.gov/data/documentation/).",
    "id": "d71c5c8d5ca64ce888dbd78140f7092b",
    "order_count": 1,
    "time": "2020-07-21T11:40:34.116Z",
    "type": "selectMarkdownCell"
   },
   {
    "code": "cd ../",
    "id": "a7da79e1a13643cab773017189810627",
    "isPrintLuxDf": false,
    "isPrintPandasDf": false,
    "isPrintVis": false,
    "isPrintVisCollection": false,
    "order_count": 0,
    "time": "2020-07-21T11:40:34.133Z",
    "type": "completeCodeCell"
   },
   {
    "code": "import pandas as pd\n%load_ext autoreload\n%autoreload 2\nimport lux",
    "id": "7428a8a53da0452880d1e6c1d21e8324",
    "order_count": 2,
    "time": "2020-07-21T11:40:34.266Z",
    "type": "selectCodeCell"
   },
   {
    "code": "import pandas as pd\n%load_ext autoreload\n%autoreload 2\nimport lux",
    "id": "7428a8a53da0452880d1e6c1d21e8324",
    "order_count": 2,
    "time": "2020-07-21T11:40:34.411Z",
    "type": "executeCodeCell"
   },
   {
    "code": "df = pd.read_csv(\"lux/data/college.csv\")",
    "id": "78a539bb361149808b28db83c04c6cab",
    "order_count": 3,
    "time": "2020-07-21T11:40:34.427Z",
    "type": "selectCodeCell"
   },
   {
    "code": "df = pd.read_csv(\"lux/data/college.csv\")",
    "id": "78a539bb361149808b28db83c04c6cab",
    "order_count": 3,
    "time": "2020-07-21T11:40:34.569Z",
    "type": "executeCodeCell"
   },
   {
    "code": "groupbyResult = df.groupby(\"Region\").sum()",
    "id": "63be682cd1e444e08c0c4d37f3406a4d",
    "order_count": 4,
    "time": "2020-07-21T11:40:34.580Z",
    "type": "selectCodeCell"
   },
   {
    "code": "groupbyResult = df.groupby(\"Region\").sum()",
    "id": "63be682cd1e444e08c0c4d37f3406a4d",
    "order_count": 4,
    "time": "2020-07-21T11:40:34.705Z",
    "type": "executeCodeCell"
   },
   {
    "code": "self = groupbyResult\nif (type(self.index) != pd.core.indexes.range.RangeIndex):# if multi-index, then default to pandas output\n    print (\"test\")\n    index_column_name = self.index.name",
    "id": "5e39c1e5c8e740e181980e5d80cfeb44",
    "order_count": 5,
    "time": "2020-07-21T11:40:34.721Z",
    "type": "selectCodeCell"
   },
   {
    "code": "import pandas as pd\n%load_ext autoreload\n%autoreload 2\nimport lux",
    "id": "7428a8a53da0452880d1e6c1d21e8324",
    "isPrintLuxDf": false,
    "isPrintPandasDf": false,
    "isPrintVis": false,
    "isPrintVisCollection": false,
    "order_count": 2,
    "time": "2020-07-21T11:40:34.779Z",
    "type": "completeCodeCell"
   },
   {
    "code": "df = pd.read_csv(\"lux/data/college.csv\")",
    "id": "78a539bb361149808b28db83c04c6cab",
    "isPrintLuxDf": false,
    "isPrintPandasDf": false,
    "isPrintVis": false,
    "isPrintVisCollection": false,
    "order_count": 3,
    "time": "2020-07-21T11:40:34.815Z",
    "type": "completeCodeCell"
   },
   {
    "code": "groupbyResult = df.groupby(\"Region\").sum()",
    "id": "63be682cd1e444e08c0c4d37f3406a4d",
    "isPrintLuxDf": false,
    "isPrintPandasDf": false,
    "isPrintVis": false,
    "isPrintVisCollection": false,
    "order_count": 4,
    "time": "2020-07-21T11:40:34.847Z",
    "type": "completeCodeCell"
   },
   {
    "code": "self = groupbyResult\nif (type(self.index) != pd.core.indexes.range.RangeIndex):# if multi-index, then default to pandas output\n    print (\"test\")\n    index_column_name = self.index.name",
    "id": "5e39c1e5c8e740e181980e5d80cfeb44",
    "order_count": 5,
    "time": "2020-07-21T11:40:34.856Z",
    "type": "executeCodeCell"
   },
   {
    "code": "index_column_name",
    "id": "635986bd5dba4b92915672975a9641d8",
    "order_count": 6,
    "time": "2020-07-21T11:40:34.869Z",
    "type": "selectCodeCell"
   },
   {
    "code": "self = groupbyResult\nif (type(self.index) != pd.core.indexes.range.RangeIndex):# if multi-index, then default to pandas output\n    print (\"test\")\n    index_column_name = self.index.name",
    "id": "5e39c1e5c8e740e181980e5d80cfeb44",
    "isPrintLuxDf": false,
    "isPrintPandasDf": false,
    "isPrintVis": false,
    "isPrintVisCollection": false,
    "order_count": 5,
    "time": "2020-07-21T11:40:34.881Z",
    "type": "completeCodeCell"
   },
   {
    "code": "index_column_name",
    "id": "635986bd5dba4b92915672975a9641d8",
    "order_count": 6,
    "time": "2020-07-21T11:40:35.008Z",
    "type": "executeCodeCell"
   },
   {
    "code": "# self.reset_index()",
    "id": "dc65928dcab74a518ec6aeee3d2abc9f",
    "order_count": 7,
    "time": "2020-07-21T11:40:35.021Z",
    "type": "selectCodeCell"
   },
   {
    "code": "index_column_name",
    "id": "635986bd5dba4b92915672975a9641d8",
    "isPrintLuxDf": false,
    "isPrintPandasDf": false,
    "isPrintVis": false,
    "isPrintVisCollection": false,
    "order_count": 6,
    "time": "2020-07-21T11:40:35.034Z",
    "type": "completeCodeCell"
   },
   {
    "code": "# self.reset_index()",
    "id": "dc65928dcab74a518ec6aeee3d2abc9f",
    "order_count": 7,
    "time": "2020-07-21T11:40:35.176Z",
    "type": "executeCodeCell"
   },
   {
    "code": "from lux.vis.Vis import Vis\nfrom lux.compiler.Parser import Parser\nfrom lux.compiler.Validator import Validator\nfrom lux.compiler.Compiler import Compiler\n",
    "id": "ca07cdd3856841c082c7831ab613eb72",
    "order_count": 8,
    "time": "2020-07-21T11:40:35.190Z",
    "type": "selectCodeCell"
   },
   {
    "code": "# self.reset_index()",
    "id": "dc65928dcab74a518ec6aeee3d2abc9f",
    "isPrintLuxDf": false,
    "isPrintPandasDf": false,
    "isPrintVis": false,
    "isPrintVisCollection": false,
    "order_count": 7,
    "time": "2020-07-21T11:40:35.194Z",
    "type": "completeCodeCell"
   },
   {
    "code": "from lux.vis.Vis import Vis\nfrom lux.compiler.Parser import Parser\nfrom lux.compiler.Validator import Validator\nfrom lux.compiler.Compiler import Compiler\n",
    "id": "ca07cdd3856841c082c7831ab613eb72",
    "order_count": 8,
    "time": "2020-07-21T11:40:35.627Z",
    "type": "executeCodeCell"
   },
   {
    "code": "self.data_type",
    "id": "5d8ba5d37b9542538726810ef82b1b45",
    "order_count": 9,
    "time": "2020-07-21T11:40:35.642Z",
    "type": "selectCodeCell"
   },
   {
    "code": "from lux.vis.Vis import Vis\nfrom lux.compiler.Parser import Parser\nfrom lux.compiler.Validator import Validator\nfrom lux.compiler.Compiler import Compiler\n",
    "id": "ca07cdd3856841c082c7831ab613eb72",
    "isPrintLuxDf": false,
    "isPrintPandasDf": false,
    "isPrintVis": false,
    "isPrintVisCollection": false,
    "order_count": 8,
    "time": "2020-07-21T11:40:35.649Z",
    "type": "completeCodeCell"
   },
   {
    "code": "self.data_type",
    "id": "5d8ba5d37b9542538726810ef82b1b45",
    "order_count": 9,
    "time": "2020-07-21T11:40:36.387Z",
    "type": "executeCodeCell"
   },
   {
    "code": "for attribute in self.columns:\n    vis = Vis([index_column_name,attribute],self[attribute].reset_index())",
    "id": "5f54f55b856742dc8bddf0782da7c89c",
    "order_count": 10,
    "time": "2020-07-21T11:40:36.404Z",
    "type": "selectCodeCell"
   },
   {
    "code": "self.data_type",
    "id": "5d8ba5d37b9542538726810ef82b1b45",
    "isPrintLuxDf": false,
    "isPrintPandasDf": false,
    "isPrintVis": false,
    "isPrintVisCollection": false,
    "order_count": 9,
    "time": "2020-07-21T11:40:36.411Z",
    "type": "completeCodeCell"
   },
   {
    "code": "for attribute in self.columns:\n    vis = Vis([index_column_name,attribute],self[attribute].reset_index())",
    "id": "5f54f55b856742dc8bddf0782da7c89c",
    "order_count": 10,
    "time": "2020-07-21T11:40:37.371Z",
    "type": "executeCodeCell"
   },
   {
    "code": "vis._inferred_query",
    "id": "c92ebfcf909f45808476aa44a3f0f5fa",
    "order_count": 11,
    "time": "2020-07-21T11:40:37.386Z",
    "type": "selectCodeCell"
   },
   {
    "code": "for attribute in self.columns:\n    vis = Vis([index_column_name,attribute],self[attribute].reset_index())",
    "id": "5f54f55b856742dc8bddf0782da7c89c",
    "isPrintLuxDf": false,
    "isPrintPandasDf": false,
    "isPrintVis": false,
    "isPrintVisCollection": false,
    "order_count": 10,
    "time": "2020-07-21T11:40:37.579Z",
    "type": "completeCodeCell"
   },
   {
    "code": "vis._inferred_query",
    "id": "c92ebfcf909f45808476aa44a3f0f5fa",
    "order_count": 11,
    "time": "2020-07-21T11:40:38.098Z",
    "type": "editCodeCell"
   },
   {
    "code": "",
    "id": "bb76f5cec2ba41179a81851709874e0e",
    "order_count": 11,
    "time": "2020-07-21T11:40:39.643Z",
    "type": "selectCodeCell"
   },
   {
    "code": "",
    "id": "bb76f5cec2ba41179a81851709874e0e",
    "order_count": 11,
    "time": "2020-07-21T11:40:39.782Z",
    "type": "editCodeCell"
   },
   {
    "code": "vis._inferred_query",
    "id": "bb76f5cec2ba41179a81851709874e0e",
    "order_count": 11,
    "time": "2020-07-21T11:40:40.322Z",
    "type": "executeCodeCell"
   },
   {
    "code": "vis._inferred_query",
    "id": "c92ebfcf909f45808476aa44a3f0f5fa",
    "order_count": 12,
    "time": "2020-07-21T11:40:40.358Z",
    "type": "selectCodeCell"
   },
   {
    "code": "vis._inferred_query",
    "id": "bb76f5cec2ba41179a81851709874e0e",
    "isPrintLuxDf": false,
    "isPrintPandasDf": false,
    "isPrintVis": false,
    "isPrintVisCollection": false,
    "order_count": 11,
    "time": "2020-07-21T11:40:40.365Z",
    "type": "completeCodeCell"
   },
   {
    "code": "vis._inferred_query",
    "id": "bb76f5cec2ba41179a81851709874e0e",
    "order_count": 11,
    "time": "2020-07-21T11:40:52.608Z",
    "type": "selectCodeCell"
   },
   {
    "time": "2020-07-21T11:40:53.946Z",
    "type": "kernelRestart"
   },
   {
    "time": "2020-07-21T11:40:54.120Z",
    "type": "kernelRestart"
   },
   {
    "code": "for attribute in self.columns:\n    vis = Vis([index_column_name,attribute],self[attribute].reset_index())",
    "id": "5f54f55b856742dc8bddf0782da7c89c",
    "order_count": 10,
    "time": "2020-07-21T11:40:54.522Z",
    "type": "selectCodeCell"
   },
   {
    "code": "self.data_type",
    "id": "5d8ba5d37b9542538726810ef82b1b45",
    "order_count": 9,
    "time": "2020-07-21T11:40:54.711Z",
    "type": "selectCodeCell"
   },
   {
    "code": "from lux.vis.Vis import Vis\nfrom lux.compiler.Parser import Parser\nfrom lux.compiler.Validator import Validator\nfrom lux.compiler.Compiler import Compiler\n",
    "id": "ca07cdd3856841c082c7831ab613eb72",
    "order_count": 8,
    "time": "2020-07-21T11:40:54.873Z",
    "type": "selectCodeCell"
   },
   {
    "code": "# self.reset_index()",
    "id": "dc65928dcab74a518ec6aeee3d2abc9f",
    "order_count": 7,
    "time": "2020-07-21T11:40:55.016Z",
    "type": "selectCodeCell"
   },
   {
    "code": "index_column_name",
    "id": "635986bd5dba4b92915672975a9641d8",
    "order_count": 6,
    "time": "2020-07-21T11:40:55.162Z",
    "type": "selectCodeCell"
   },
   {
    "code": "self = groupbyResult\nif (type(self.index) != pd.core.indexes.range.RangeIndex):# if multi-index, then default to pandas output\n    print (\"test\")\n    index_column_name = self.index.name",
    "id": "5e39c1e5c8e740e181980e5d80cfeb44",
    "order_count": 5,
    "time": "2020-07-21T11:40:55.310Z",
    "type": "selectCodeCell"
   },
   {
    "time": "2020-07-21T11:40:55.432Z",
    "type": "kernelReady"
   },
   {
    "time": "2020-07-21T11:40:55.436Z",
    "type": "kernelReady"
   },
   {
    "time": "2020-07-21T11:40:55.452Z",
    "type": "kernelReady"
   },
   {
    "code": "groupbyResult = df.groupby(\"Region\").sum()",
    "id": "63be682cd1e444e08c0c4d37f3406a4d",
    "order_count": 4,
    "time": "2020-07-21T11:40:55.609Z",
    "type": "selectCodeCell"
   },
   {
    "code": "df = pd.read_csv(\"lux/data/college.csv\")",
    "id": "78a539bb361149808b28db83c04c6cab",
    "order_count": 3,
    "time": "2020-07-21T11:40:55.767Z",
    "type": "selectCodeCell"
   },
   {
    "code": "import pandas as pd\n%load_ext autoreload\n%autoreload 2\nimport lux",
    "id": "7428a8a53da0452880d1e6c1d21e8324",
    "order_count": 2,
    "time": "2020-07-21T11:40:55.938Z",
    "type": "selectCodeCell"
   },
   {
    "code": "This dataset contains a total of 1295 records of American colleges and their properties, collected by the [US Department of Education](https://collegescorecard.ed.gov/data/documentation/).",
    "id": "d71c5c8d5ca64ce888dbd78140f7092b",
    "order_count": 1,
    "time": "2020-07-21T11:40:56.073Z",
    "type": "selectMarkdownCell"
   },
   {
    "code": "cd ../",
    "id": "a7da79e1a13643cab773017189810627",
    "order_count": 0,
    "time": "2020-07-21T11:40:56.209Z",
    "type": "selectCodeCell"
   },
   {
    "code": "cd ../",
    "id": "a7da79e1a13643cab773017189810627",
    "order_count": 0,
    "time": "2020-07-21T11:40:56.699Z",
    "type": "executeCodeCell"
   },
   {
    "code": "This dataset contains a total of 1295 records of American colleges and their properties, collected by the [US Department of Education](https://collegescorecard.ed.gov/data/documentation/).",
    "id": "d71c5c8d5ca64ce888dbd78140f7092b",
    "order_count": 1,
    "time": "2020-07-21T11:40:56.707Z",
    "type": "selectMarkdownCell"
   },
   {
    "code": "cd ../",
    "id": "a7da79e1a13643cab773017189810627",
    "isPrintLuxDf": false,
    "isPrintPandasDf": false,
    "isPrintVis": false,
    "isPrintVisCollection": false,
    "order_count": 0,
    "time": "2020-07-21T11:40:56.724Z",
    "type": "completeCodeCell"
   },
   {
    "code": "import pandas as pd\n%load_ext autoreload\n%autoreload 2\nimport lux",
    "id": "7428a8a53da0452880d1e6c1d21e8324",
    "order_count": 2,
    "time": "2020-07-21T11:40:56.876Z",
    "type": "selectCodeCell"
   },
   {
    "code": "import pandas as pd\n%load_ext autoreload\n%autoreload 2\nimport lux",
    "id": "7428a8a53da0452880d1e6c1d21e8324",
    "order_count": 2,
    "time": "2020-07-21T11:40:56.996Z",
    "type": "executeCodeCell"
   },
   {
    "code": "df = pd.read_csv(\"lux/data/college.csv\")",
    "id": "78a539bb361149808b28db83c04c6cab",
    "order_count": 3,
    "time": "2020-07-21T11:40:57.012Z",
    "type": "selectCodeCell"
   },
   {
    "code": "df = pd.read_csv(\"lux/data/college.csv\")",
    "id": "78a539bb361149808b28db83c04c6cab",
    "order_count": 3,
    "time": "2020-07-21T11:40:57.145Z",
    "type": "executeCodeCell"
   },
   {
    "code": "groupbyResult = df.groupby(\"Region\").sum()",
    "id": "63be682cd1e444e08c0c4d37f3406a4d",
    "order_count": 4,
    "time": "2020-07-21T11:40:57.156Z",
    "type": "selectCodeCell"
   },
   {
    "code": "groupbyResult = df.groupby(\"Region\").sum()",
    "id": "63be682cd1e444e08c0c4d37f3406a4d",
    "order_count": 4,
    "time": "2020-07-21T11:40:57.313Z",
    "type": "executeCodeCell"
   },
   {
    "code": "self = groupbyResult\nif (type(self.index) != pd.core.indexes.range.RangeIndex):# if multi-index, then default to pandas output\n    print (\"test\")\n    index_column_name = self.index.name",
    "id": "5e39c1e5c8e740e181980e5d80cfeb44",
    "order_count": 5,
    "time": "2020-07-21T11:40:57.328Z",
    "type": "selectCodeCell"
   },
   {
    "code": "import pandas as pd\n%load_ext autoreload\n%autoreload 2\nimport lux",
    "id": "7428a8a53da0452880d1e6c1d21e8324",
    "isPrintLuxDf": false,
    "isPrintPandasDf": false,
    "isPrintVis": false,
    "isPrintVisCollection": false,
    "order_count": 2,
    "time": "2020-07-21T11:40:57.350Z",
    "type": "completeCodeCell"
   },
   {
    "code": "df = pd.read_csv(\"lux/data/college.csv\")",
    "id": "78a539bb361149808b28db83c04c6cab",
    "isPrintLuxDf": false,
    "isPrintPandasDf": false,
    "isPrintVis": false,
    "isPrintVisCollection": false,
    "order_count": 3,
    "time": "2020-07-21T11:40:57.381Z",
    "type": "completeCodeCell"
   },
   {
    "code": "groupbyResult = df.groupby(\"Region\").sum()",
    "id": "63be682cd1e444e08c0c4d37f3406a4d",
    "isPrintLuxDf": false,
    "isPrintPandasDf": false,
    "isPrintVis": false,
    "isPrintVisCollection": false,
    "order_count": 4,
    "time": "2020-07-21T11:40:57.412Z",
    "type": "completeCodeCell"
   },
   {
    "code": "self = groupbyResult\nif (type(self.index) != pd.core.indexes.range.RangeIndex):# if multi-index, then default to pandas output\n    print (\"test\")\n    index_column_name = self.index.name",
    "id": "5e39c1e5c8e740e181980e5d80cfeb44",
    "order_count": 5,
    "time": "2020-07-21T11:40:57.450Z",
    "type": "executeCodeCell"
   },
   {
    "code": "index_column_name",
    "id": "635986bd5dba4b92915672975a9641d8",
    "order_count": 6,
    "time": "2020-07-21T11:40:57.467Z",
    "type": "selectCodeCell"
   },
   {
    "code": "self = groupbyResult\nif (type(self.index) != pd.core.indexes.range.RangeIndex):# if multi-index, then default to pandas output\n    print (\"test\")\n    index_column_name = self.index.name",
    "id": "5e39c1e5c8e740e181980e5d80cfeb44",
    "isPrintLuxDf": false,
    "isPrintPandasDf": false,
    "isPrintVis": false,
    "isPrintVisCollection": false,
    "order_count": 5,
    "time": "2020-07-21T11:40:57.479Z",
    "type": "completeCodeCell"
   },
   {
    "code": "index_column_name",
    "id": "635986bd5dba4b92915672975a9641d8",
    "order_count": 6,
    "time": "2020-07-21T11:40:57.585Z",
    "type": "executeCodeCell"
   },
   {
    "code": "# self.reset_index()",
    "id": "dc65928dcab74a518ec6aeee3d2abc9f",
    "order_count": 7,
    "time": "2020-07-21T11:40:57.601Z",
    "type": "selectCodeCell"
   },
   {
    "code": "index_column_name",
    "id": "635986bd5dba4b92915672975a9641d8",
    "isPrintLuxDf": false,
    "isPrintPandasDf": false,
    "isPrintVis": false,
    "isPrintVisCollection": false,
    "order_count": 6,
    "time": "2020-07-21T11:40:57.614Z",
    "type": "completeCodeCell"
   },
   {
    "code": "# self.reset_index()",
    "id": "dc65928dcab74a518ec6aeee3d2abc9f",
    "order_count": 7,
    "time": "2020-07-21T11:40:57.731Z",
    "type": "executeCodeCell"
   },
   {
    "code": "from lux.vis.Vis import Vis\nfrom lux.compiler.Parser import Parser\nfrom lux.compiler.Validator import Validator\nfrom lux.compiler.Compiler import Compiler\n",
    "id": "ca07cdd3856841c082c7831ab613eb72",
    "order_count": 8,
    "time": "2020-07-21T11:40:57.749Z",
    "type": "selectCodeCell"
   },
   {
    "code": "# self.reset_index()",
    "id": "dc65928dcab74a518ec6aeee3d2abc9f",
    "isPrintLuxDf": false,
    "isPrintPandasDf": false,
    "isPrintVis": false,
    "isPrintVisCollection": false,
    "order_count": 7,
    "time": "2020-07-21T11:40:57.757Z",
    "type": "completeCodeCell"
   },
   {
    "code": "from lux.vis.Vis import Vis\nfrom lux.compiler.Parser import Parser\nfrom lux.compiler.Validator import Validator\nfrom lux.compiler.Compiler import Compiler\n",
    "id": "ca07cdd3856841c082c7831ab613eb72",
    "order_count": 8,
    "time": "2020-07-21T11:40:57.877Z",
    "type": "executeCodeCell"
   },
   {
    "code": "self.data_type",
    "id": "5d8ba5d37b9542538726810ef82b1b45",
    "order_count": 9,
    "time": "2020-07-21T11:40:57.892Z",
    "type": "selectCodeCell"
   },
   {
    "code": "from lux.vis.Vis import Vis\nfrom lux.compiler.Parser import Parser\nfrom lux.compiler.Validator import Validator\nfrom lux.compiler.Compiler import Compiler\n",
    "id": "ca07cdd3856841c082c7831ab613eb72",
    "isPrintLuxDf": false,
    "isPrintPandasDf": false,
    "isPrintVis": false,
    "isPrintVisCollection": false,
    "order_count": 8,
    "time": "2020-07-21T11:40:57.899Z",
    "type": "completeCodeCell"
   },
   {
    "code": "self.data_type",
    "id": "5d8ba5d37b9542538726810ef82b1b45",
    "order_count": 9,
    "time": "2020-07-21T11:40:58.428Z",
    "type": "executeCodeCell"
   },
   {
    "code": "for attribute in self.columns:\n    vis = Vis([index_column_name,attribute],self[attribute].reset_index())",
    "id": "5f54f55b856742dc8bddf0782da7c89c",
    "order_count": 10,
    "time": "2020-07-21T11:40:58.445Z",
    "type": "selectCodeCell"
   },
   {
    "code": "self.data_type",
    "id": "5d8ba5d37b9542538726810ef82b1b45",
    "isPrintLuxDf": false,
    "isPrintPandasDf": false,
    "isPrintVis": false,
    "isPrintVisCollection": false,
    "order_count": 9,
    "time": "2020-07-21T11:40:58.452Z",
    "type": "completeCodeCell"
   },
   {
    "code": "for attribute in self.columns:\n    vis = Vis([index_column_name,attribute],self[attribute].reset_index())",
    "id": "5f54f55b856742dc8bddf0782da7c89c",
    "order_count": 10,
    "time": "2020-07-21T11:40:58.667Z",
    "type": "executeCodeCell"
   },
   {
    "code": "vis._inferred_query",
    "id": "bb76f5cec2ba41179a81851709874e0e",
    "order_count": 11,
    "time": "2020-07-21T11:40:58.682Z",
    "type": "selectCodeCell"
   },
   {
    "code": "for attribute in self.columns:\n    vis = Vis([index_column_name,attribute],self[attribute].reset_index())",
    "id": "5f54f55b856742dc8bddf0782da7c89c",
    "isPrintLuxDf": false,
    "isPrintPandasDf": false,
    "isPrintVis": false,
    "isPrintVisCollection": false,
    "order_count": 10,
    "time": "2020-07-21T11:40:58.886Z",
    "type": "completeCodeCell"
   },
   {
    "code": "vis._inferred_query",
    "id": "bb76f5cec2ba41179a81851709874e0e",
    "order_count": 11,
    "time": "2020-07-21T11:40:59.011Z",
    "type": "executeCodeCell"
   },
   {
    "code": "vis._inferred_query",
    "id": "c92ebfcf909f45808476aa44a3f0f5fa",
    "order_count": 12,
    "time": "2020-07-21T11:40:59.028Z",
    "type": "selectCodeCell"
   },
   {
    "code": "vis._inferred_query",
    "id": "bb76f5cec2ba41179a81851709874e0e",
    "isPrintLuxDf": false,
    "isPrintPandasDf": false,
    "isPrintVis": false,
    "isPrintVisCollection": false,
    "order_count": 11,
    "time": "2020-07-21T11:40:59.041Z",
    "type": "completeCodeCell"
   },
   {
    "code": "for attribute in self.columns:\n    vis = Vis([index_column_name,attribute],self[attribute].reset_index())",
    "id": "5f54f55b856742dc8bddf0782da7c89c",
    "order_count": 10,
    "time": "2020-07-21T11:41:26.376Z",
    "type": "selectCodeCell"
   },
   {
    "code": "for attribute in self.columns:\n    vis = Vis([index_column_name,attribute],self[attribute].reset_index())",
    "id": "5f54f55b856742dc8bddf0782da7c89c",
    "order_count": 10,
    "time": "2020-07-21T11:41:26.385Z",
    "type": "editCodeCell"
   },
   {
    "code": "",
    "id": "2d369fa13f9f4957aecf26bc5019d061",
    "order_count": 11,
    "time": "2020-07-21T11:41:32.017Z",
    "type": "selectCodeCell"
   },
   {
    "code": "",
    "id": "2d369fa13f9f4957aecf26bc5019d061",
    "order_count": 11,
    "time": "2020-07-21T11:41:32.242Z",
    "type": "editCodeCell"
   },
   {
    "code": "ldf = self[attribute].reset_index()",
    "id": "2d369fa13f9f4957aecf26bc5019d061",
    "order_count": 11,
    "time": "2020-07-21T11:41:34.871Z",
    "type": "executeCodeCell"
   },
   {
    "code": "vis._inferred_query",
    "id": "bb76f5cec2ba41179a81851709874e0e",
    "order_count": 12,
    "time": "2020-07-21T11:41:34.908Z",
    "type": "selectCodeCell"
   },
   {
    "code": "ldf = self[attribute].reset_index()",
    "id": "2d369fa13f9f4957aecf26bc5019d061",
    "isPrintLuxDf": false,
    "isPrintPandasDf": false,
    "isPrintVis": false,
    "isPrintVisCollection": false,
    "order_count": 11,
    "time": "2020-07-21T11:41:34.914Z",
    "type": "completeCodeCell"
   },
   {
    "code": "",
    "id": "19c5609dfdd846358bec6fdb231e3945",
    "order_count": 12,
    "time": "2020-07-21T11:41:35.488Z",
    "type": "selectCodeCell"
   },
   {
    "code": "",
    "id": "19c5609dfdd846358bec6fdb231e3945",
    "order_count": 12,
    "time": "2020-07-21T11:41:35.544Z",
    "type": "editCodeCell"
   },
   {
    "code": "ldf.data_type",
    "id": "19c5609dfdd846358bec6fdb231e3945",
    "order_count": 12,
    "time": "2020-07-21T11:41:41.308Z",
    "type": "executeCodeCell"
   },
   {
    "code": "vis._inferred_query",
    "id": "bb76f5cec2ba41179a81851709874e0e",
    "order_count": 13,
    "time": "2020-07-21T11:41:41.346Z",
    "type": "selectCodeCell"
   },
   {
    "code": "ldf.data_type",
    "id": "19c5609dfdd846358bec6fdb231e3945",
    "isPrintLuxDf": false,
    "isPrintPandasDf": false,
    "isPrintVis": false,
    "isPrintVisCollection": false,
    "order_count": 12,
    "time": "2020-07-21T11:41:41.355Z",
    "type": "completeCodeCell"
   },
   {
    "code": "ldf.data_type",
    "id": "19c5609dfdd846358bec6fdb231e3945",
    "order_count": 12,
    "time": "2020-07-21T11:41:42.048Z",
    "type": "selectCodeCell"
   },
   {
    "code": "ldf.data_type",
    "id": "19c5609dfdd846358bec6fdb231e3945",
    "order_count": 12,
    "time": "2020-07-21T11:41:42.475Z",
    "type": "editCodeCell"
   },
   {
    "code": "ldf.data_type",
    "id": "19c5609dfdd846358bec6fdb231e3945",
    "order_count": 12,
    "time": "2020-07-21T11:42:55.644Z",
    "type": "editCodeCell"
   },
   {
    "code": "ldf.data_type",
    "id": "19c5609dfdd846358bec6fdb231e3945",
    "order_count": 12,
    "time": "2020-07-21T11:42:56.863Z",
    "type": "selectCodeCell"
   },
   {
    "code": "import pandas as pd\n%load_ext autoreload\n%autoreload 2\nimport lux",
    "id": "7428a8a53da0452880d1e6c1d21e8324",
    "order_count": 2,
    "time": "2020-07-21T11:43:03.740Z",
    "type": "selectCodeCell"
   },
   {
    "code": "import pandas as pd\n%load_ext autoreload\n%autoreload 2\nimport lux",
    "id": "7428a8a53da0452880d1e6c1d21e8324",
    "order_count": 2,
    "time": "2020-07-21T11:43:03.747Z",
    "type": "editCodeCell"
   },
   {
    "code": "This dataset contains a total of 1295 records of American colleges and their properties, collected by the [US Department of Education](https://collegescorecard.ed.gov/data/documentation/).",
    "id": "d71c5c8d5ca64ce888dbd78140f7092b",
    "order_count": 1,
    "time": "2020-07-21T11:43:04.119Z",
    "type": "selectMarkdownCell"
   },
   {
    "code": "This dataset contains a total of 1295 records of American colleges and their properties, collected by the [US Department of Education](https://collegescorecard.ed.gov/data/documentation/).",
    "id": "d71c5c8d5ca64ce888dbd78140f7092b",
    "order_count": 1,
    "time": "2020-07-21T11:43:04.638Z",
    "type": "selectMarkdownCell"
   },
   {
    "code": "cd ../",
    "id": "a7da79e1a13643cab773017189810627",
    "order_count": 0,
    "time": "2020-07-21T11:43:05.099Z",
    "type": "selectCodeCell"
   },
   {
    "time": "2020-07-21T11:43:06.721Z",
    "type": "kernelRestart"
   },
   {
    "time": "2020-07-21T11:43:06.859Z",
    "type": "kernelRestart"
   },
   {
    "code": "cd ../",
    "id": "a7da79e1a13643cab773017189810627",
    "order_count": 0,
    "time": "2020-07-21T11:43:07.248Z",
    "type": "executeCodeCell"
   },
   {
    "code": "This dataset contains a total of 1295 records of American colleges and their properties, collected by the [US Department of Education](https://collegescorecard.ed.gov/data/documentation/).",
    "id": "d71c5c8d5ca64ce888dbd78140f7092b",
    "order_count": 1,
    "time": "2020-07-21T11:43:07.255Z",
    "type": "selectMarkdownCell"
   },
   {
    "code": "import pandas as pd\n%load_ext autoreload\n%autoreload 2\nimport lux",
    "id": "7428a8a53da0452880d1e6c1d21e8324",
    "order_count": 2,
    "time": "2020-07-21T11:43:07.639Z",
    "type": "selectCodeCell"
   },
   {
    "code": "import pandas as pd\n%load_ext autoreload\n%autoreload 2\nimport lux",
    "id": "7428a8a53da0452880d1e6c1d21e8324",
    "order_count": 2,
    "time": "2020-07-21T11:43:07.796Z",
    "type": "executeCodeCell"
   },
   {
    "code": "df = pd.read_csv(\"lux/data/college.csv\")",
    "id": "78a539bb361149808b28db83c04c6cab",
    "order_count": 3,
    "time": "2020-07-21T11:43:07.812Z",
    "type": "selectCodeCell"
   },
   {
    "code": "df = pd.read_csv(\"lux/data/college.csv\")",
    "id": "78a539bb361149808b28db83c04c6cab",
    "order_count": 3,
    "time": "2020-07-21T11:43:07.955Z",
    "type": "executeCodeCell"
   },
   {
    "code": "groupbyResult = df.groupby(\"Region\").sum()",
    "id": "63be682cd1e444e08c0c4d37f3406a4d",
    "order_count": 4,
    "time": "2020-07-21T11:43:07.966Z",
    "type": "selectCodeCell"
   },
   {
    "code": "groupbyResult = df.groupby(\"Region\").sum()",
    "id": "63be682cd1e444e08c0c4d37f3406a4d",
    "order_count": 4,
    "time": "2020-07-21T11:43:08.155Z",
    "type": "executeCodeCell"
   },
   {
    "code": "self = groupbyResult\nif (type(self.index) != pd.core.indexes.range.RangeIndex):# if multi-index, then default to pandas output\n    print (\"test\")\n    index_column_name = self.index.name",
    "id": "5e39c1e5c8e740e181980e5d80cfeb44",
    "order_count": 5,
    "time": "2020-07-21T11:43:08.171Z",
    "type": "selectCodeCell"
   },
   {
    "time": "2020-07-21T11:43:08.187Z",
    "type": "kernelReady"
   },
   {
    "code": "self = groupbyResult\nif (type(self.index) != pd.core.indexes.range.RangeIndex):# if multi-index, then default to pandas output\n    print (\"test\")\n    index_column_name = self.index.name",
    "id": "5e39c1e5c8e740e181980e5d80cfeb44",
    "order_count": 5,
    "time": "2020-07-21T11:43:08.387Z",
    "type": "executeCodeCell"
   },
   {
    "code": "index_column_name",
    "id": "635986bd5dba4b92915672975a9641d8",
    "order_count": 6,
    "time": "2020-07-21T11:43:08.402Z",
    "type": "selectCodeCell"
   },
   {
    "code": "import pandas as pd\n%load_ext autoreload\n%autoreload 2\nimport lux",
    "id": "7428a8a53da0452880d1e6c1d21e8324",
    "isPrintLuxDf": false,
    "isPrintPandasDf": false,
    "isPrintVis": false,
    "isPrintVisCollection": false,
    "order_count": 2,
    "time": "2020-07-21T11:43:08.513Z",
    "type": "completeCodeCell"
   },
   {
    "code": "df = pd.read_csv(\"lux/data/college.csv\")",
    "id": "78a539bb361149808b28db83c04c6cab",
    "isPrintLuxDf": false,
    "isPrintPandasDf": false,
    "isPrintVis": false,
    "isPrintVisCollection": false,
    "order_count": 3,
    "time": "2020-07-21T11:43:08.546Z",
    "type": "completeCodeCell"
   },
   {
    "code": "groupbyResult = df.groupby(\"Region\").sum()",
    "id": "63be682cd1e444e08c0c4d37f3406a4d",
    "isPrintLuxDf": false,
    "isPrintPandasDf": false,
    "isPrintVis": false,
    "isPrintVisCollection": false,
    "order_count": 4,
    "time": "2020-07-21T11:43:08.577Z",
    "type": "completeCodeCell"
   },
   {
    "code": "self = groupbyResult\nif (type(self.index) != pd.core.indexes.range.RangeIndex):# if multi-index, then default to pandas output\n    print (\"test\")\n    index_column_name = self.index.name",
    "id": "5e39c1e5c8e740e181980e5d80cfeb44",
    "isPrintLuxDf": false,
    "isPrintPandasDf": false,
    "isPrintVis": false,
    "isPrintVisCollection": false,
    "order_count": 5,
    "time": "2020-07-21T11:43:08.595Z",
    "type": "completeCodeCell"
   },
   {
    "time": "2020-07-21T11:43:08.601Z",
    "type": "kernelReady"
   },
   {
    "code": "index_column_name",
    "id": "635986bd5dba4b92915672975a9641d8",
    "order_count": 6,
    "time": "2020-07-21T11:43:09.110Z",
    "type": "executeCodeCell"
   },
   {
    "code": "# self.reset_index()",
    "id": "dc65928dcab74a518ec6aeee3d2abc9f",
    "order_count": 7,
    "time": "2020-07-21T11:43:09.127Z",
    "type": "selectCodeCell"
   },
   {
    "code": "index_column_name",
    "id": "635986bd5dba4b92915672975a9641d8",
    "isPrintLuxDf": false,
    "isPrintPandasDf": false,
    "isPrintVis": false,
    "isPrintVisCollection": false,
    "order_count": 6,
    "time": "2020-07-21T11:43:09.142Z",
    "type": "completeCodeCell"
   },
   {
    "code": "# self.reset_index()",
    "id": "dc65928dcab74a518ec6aeee3d2abc9f",
    "order_count": 7,
    "time": "2020-07-21T11:43:09.805Z",
    "type": "executeCodeCell"
   },
   {
    "code": "from lux.vis.Vis import Vis\nfrom lux.compiler.Parser import Parser\nfrom lux.compiler.Validator import Validator\nfrom lux.compiler.Compiler import Compiler\n",
    "id": "ca07cdd3856841c082c7831ab613eb72",
    "order_count": 8,
    "time": "2020-07-21T11:43:09.825Z",
    "type": "selectCodeCell"
   },
   {
    "code": "# self.reset_index()",
    "id": "dc65928dcab74a518ec6aeee3d2abc9f",
    "isPrintLuxDf": false,
    "isPrintPandasDf": false,
    "isPrintVis": false,
    "isPrintVisCollection": false,
    "order_count": 7,
    "time": "2020-07-21T11:43:09.833Z",
    "type": "completeCodeCell"
   },
   {
    "code": "from lux.vis.Vis import Vis\nfrom lux.compiler.Parser import Parser\nfrom lux.compiler.Validator import Validator\nfrom lux.compiler.Compiler import Compiler\n",
    "id": "ca07cdd3856841c082c7831ab613eb72",
    "order_count": 8,
    "time": "2020-07-21T11:43:10.175Z",
    "type": "executeCodeCell"
   },
   {
    "code": "self.data_type",
    "id": "5d8ba5d37b9542538726810ef82b1b45",
    "order_count": 9,
    "time": "2020-07-21T11:43:10.193Z",
    "type": "selectCodeCell"
   },
   {
    "code": "from lux.vis.Vis import Vis\nfrom lux.compiler.Parser import Parser\nfrom lux.compiler.Validator import Validator\nfrom lux.compiler.Compiler import Compiler\n",
    "id": "ca07cdd3856841c082c7831ab613eb72",
    "isPrintLuxDf": false,
    "isPrintPandasDf": false,
    "isPrintVis": false,
    "isPrintVisCollection": false,
    "order_count": 8,
    "time": "2020-07-21T11:43:10.200Z",
    "type": "completeCodeCell"
   },
   {
    "code": "self.data_type",
    "id": "5d8ba5d37b9542538726810ef82b1b45",
    "order_count": 9,
    "time": "2020-07-21T11:43:10.580Z",
    "type": "executeCodeCell"
   },
   {
    "code": "for attribute in self.columns:\n    vis = Vis([index_column_name,attribute],self[attribute].reset_index())",
    "id": "5f54f55b856742dc8bddf0782da7c89c",
    "order_count": 10,
    "time": "2020-07-21T11:43:10.599Z",
    "type": "selectCodeCell"
   },
   {
    "code": "self.data_type",
    "id": "5d8ba5d37b9542538726810ef82b1b45",
    "isPrintLuxDf": false,
    "isPrintPandasDf": false,
    "isPrintVis": false,
    "isPrintVisCollection": false,
    "order_count": 9,
    "time": "2020-07-21T11:43:10.607Z",
    "type": "completeCodeCell"
   },
   {
    "code": "for attribute in self.columns:\n    vis = Vis([index_column_name,attribute],self[attribute].reset_index())",
    "id": "5f54f55b856742dc8bddf0782da7c89c",
    "order_count": 10,
    "time": "2020-07-21T11:43:11.462Z",
    "type": "executeCodeCell"
   },
   {
    "code": "ldf = self[attribute].reset_index()",
    "id": "2d369fa13f9f4957aecf26bc5019d061",
    "order_count": 11,
    "time": "2020-07-21T11:43:11.479Z",
    "type": "selectCodeCell"
   },
   {
    "code": "for attribute in self.columns:\n    vis = Vis([index_column_name,attribute],self[attribute].reset_index())",
    "id": "5f54f55b856742dc8bddf0782da7c89c",
    "isPrintLuxDf": false,
    "isPrintPandasDf": false,
    "isPrintVis": false,
    "isPrintVisCollection": false,
    "order_count": 10,
    "time": "2020-07-21T11:43:11.628Z",
    "type": "completeCodeCell"
   },
   {
    "code": "for attribute in self.columns:\n    vis = Vis([index_column_name,attribute],self[attribute].reset_index())",
    "id": "5f54f55b856742dc8bddf0782da7c89c",
    "order_count": 10,
    "time": "2020-07-21T11:43:17.424Z",
    "type": "selectCodeCell"
   },
   {
    "code": "for attribute in self.columns:\n    vis = Vis([index_column_name,attribute],self[attribute].reset_index())",
    "id": "5f54f55b856742dc8bddf0782da7c89c",
    "order_count": 10,
    "time": "2020-07-21T11:43:17.431Z",
    "type": "editCodeCell"
   },
   {
    "code": "for attribute in self.columns:\n    vis = Vis([index_column_name,attribute],self[attribute].reset_index())",
    "id": "5f54f55b856742dc8bddf0782da7c89c",
    "order_count": 10,
    "time": "2020-07-21T11:43:17.505Z",
    "type": "selectCodeCell"
   },
   {
    "code": "for attribute in self.columns:\n    vis = Vis([index_column_name,attribute],self)",
    "id": "5f54f55b856742dc8bddf0782da7c89c",
    "order_count": 10,
    "time": "2020-07-21T11:43:22.542Z",
    "type": "executeCodeCell"
   },
   {
    "code": "ldf = self[attribute].reset_index()",
    "id": "2d369fa13f9f4957aecf26bc5019d061",
    "order_count": 11,
    "time": "2020-07-21T11:43:22.578Z",
    "type": "selectCodeCell"
   },
   {
    "code": "for attribute in self.columns:\n    vis = Vis([index_column_name,attribute],self)",
    "id": "5f54f55b856742dc8bddf0782da7c89c",
    "isPrintLuxDf": false,
    "isPrintPandasDf": false,
    "isPrintVis": false,
    "isPrintVisCollection": false,
    "order_count": 10,
    "time": "2020-07-21T11:43:22.683Z",
    "type": "completeCodeCell"
   },
   {
    "code": "for attribute in self.columns:\n    vis = Vis([index_column_name,attribute],self)",
    "id": "5f54f55b856742dc8bddf0782da7c89c",
    "order_count": 10,
    "time": "2020-07-21T11:43:23.593Z",
    "type": "selectCodeCell"
   },
   {
    "code": "for attribute in self.columns:\n    vis = Vis([index_column_name,attribute],self)",
    "id": "5f54f55b856742dc8bddf0782da7c89c",
    "order_count": 10,
    "time": "2020-07-21T11:43:23.898Z",
    "type": "editCodeCell"
   },
   {
    "code": "for attribute in self.columns:\n    vis = Vis([index_column_name,attribute],self[attribute].reset_index())",
    "id": "5f54f55b856742dc8bddf0782da7c89c",
    "order_count": 10,
    "time": "2020-07-21T11:43:25.025Z",
    "type": "executeCodeCell"
   },
   {
    "code": "ldf = self[attribute].reset_index()",
    "id": "2d369fa13f9f4957aecf26bc5019d061",
    "order_count": 11,
    "time": "2020-07-21T11:43:25.060Z",
    "type": "selectCodeCell"
   },
   {
    "code": "for attribute in self.columns:\n    vis = Vis([index_column_name,attribute],self[attribute].reset_index())",
    "id": "5f54f55b856742dc8bddf0782da7c89c",
    "isPrintLuxDf": false,
    "isPrintPandasDf": false,
    "isPrintVis": false,
    "isPrintVisCollection": false,
    "order_count": 10,
    "time": "2020-07-21T11:43:25.203Z",
    "type": "completeCodeCell"
   },
   {
    "code": "for attribute in self.columns:\n    vis = Vis([index_column_name,attribute],self[attribute].reset_index())",
    "id": "5f54f55b856742dc8bddf0782da7c89c",
    "order_count": 10,
    "time": "2020-07-21T11:43:52.039Z",
    "type": "selectCodeCell"
   },
   {
    "code": "for attribute in self.columns:\n    vis = Vis([index_column_name,attribute],self[attribute].reset_index())",
    "id": "5f54f55b856742dc8bddf0782da7c89c",
    "order_count": 10,
    "time": "2020-07-21T11:43:52.046Z",
    "type": "editCodeCell"
   },
   {
    "code": "for attribute in self.columns:\n    vis = Vis([index_column_name,attribute],self[attribute].reset_index())",
    "id": "5f54f55b856742dc8bddf0782da7c89c",
    "order_count": 10,
    "time": "2020-07-21T11:43:52.098Z",
    "type": "editCodeCell"
   },
   {
    "code": "for attribute in self.columns:\n    vis = Vis([index_column_name,attribute],self[attribute].reset_index())",
    "id": "5f54f55b856742dc8bddf0782da7c89c",
    "order_count": 10,
    "time": "2020-07-21T11:43:53.120Z",
    "type": "executeCodeCell"
   },
   {
    "code": "ldf = self[attribute].reset_index()",
    "id": "2d369fa13f9f4957aecf26bc5019d061",
    "order_count": 11,
    "time": "2020-07-21T11:43:53.158Z",
    "type": "selectCodeCell"
   },
   {
    "code": "for attribute in self.columns:\n    vis = Vis([index_column_name,attribute],self[attribute].reset_index())",
    "id": "5f54f55b856742dc8bddf0782da7c89c",
    "isPrintLuxDf": false,
    "isPrintPandasDf": false,
    "isPrintVis": false,
    "isPrintVisCollection": false,
    "order_count": 10,
    "time": "2020-07-21T11:43:53.298Z",
    "type": "completeCodeCell"
   },
   {
    "code": "",
    "id": "1aadd727d5224d57a0d72ae866d4d9b4",
    "order_count": 11,
    "time": "2020-07-21T11:43:56.485Z",
    "type": "selectCodeCell"
   },
   {
    "code": "",
    "id": "1aadd727d5224d57a0d72ae866d4d9b4",
    "order_count": 11,
    "time": "2020-07-21T11:43:56.607Z",
    "type": "editCodeCell"
   },
   {
    "code": "vis",
    "id": "1aadd727d5224d57a0d72ae866d4d9b4",
    "order_count": 11,
    "time": "2020-07-21T11:43:57.447Z",
    "type": "executeCodeCell"
   },
   {
    "code": "ldf = self[attribute].reset_index()",
    "id": "2d369fa13f9f4957aecf26bc5019d061",
    "order_count": 12,
    "time": "2020-07-21T11:43:57.485Z",
    "type": "selectCodeCell"
   },
   {
    "code": "vis",
    "id": "1aadd727d5224d57a0d72ae866d4d9b4",
    "isPrintLuxDf": false,
    "isPrintPandasDf": false,
    "isPrintVis": true,
    "isPrintVisCollection": false,
    "order_count": 11,
    "time": "2020-07-21T11:43:57.539Z",
    "type": "completeCodeCell"
   },
   {
    "param": "",
    "time": "2020-07-21T11:43:57.558Z",
    "type": "initWidget"
   },
   {
    "code": "for attribute in self.columns:\n    vis = Vis([index_column_name,attribute],self[attribute].reset_index())",
    "id": "5f54f55b856742dc8bddf0782da7c89c",
    "order_count": 10,
    "time": "2020-07-21T11:44:04.970Z",
    "type": "selectCodeCell"
   },
   {
    "code": "for attribute in self.columns:\n    vis = Vis([index_column_name,attribute],self[attribute].reset_index())",
    "id": "5f54f55b856742dc8bddf0782da7c89c",
    "order_count": 10,
    "time": "2020-07-21T11:44:04.978Z",
    "type": "editCodeCell"
   },
   {
    "code": "for attribute in self.columns:\n    vis = Vis([index_column_name,attribute],self[attribute].reset_index())\n    display(vis)",
    "id": "5f54f55b856742dc8bddf0782da7c89c",
    "order_count": 10,
    "time": "2020-07-21T11:44:08.830Z",
    "type": "executeCodeCell"
   },
   {
    "code": "vis",
    "id": "1aadd727d5224d57a0d72ae866d4d9b4",
    "order_count": 11,
    "time": "2020-07-21T11:44:08.869Z",
    "type": "selectCodeCell"
   },
   {
    "param": "",
    "time": "2020-07-21T11:44:08.905Z",
    "type": "initWidget"
   },
   {
    "param": "",
    "time": "2020-07-21T11:44:08.951Z",
    "type": "initWidget"
   },
   {
    "param": "",
    "time": "2020-07-21T11:44:08.983Z",
    "type": "initWidget"
   },
   {
    "param": "",
    "time": "2020-07-21T11:44:09.033Z",
    "type": "initWidget"
   },
   {
    "param": "",
    "time": "2020-07-21T11:44:09.086Z",
    "type": "initWidget"
   },
   {
    "param": "",
    "time": "2020-07-21T11:44:09.118Z",
    "type": "initWidget"
   },
   {
    "param": "",
    "time": "2020-07-21T11:44:09.145Z",
    "type": "initWidget"
   },
   {
    "param": "",
    "time": "2020-07-21T11:44:09.192Z",
    "type": "initWidget"
   },
   {
    "param": "",
    "time": "2020-07-21T11:44:09.230Z",
    "type": "initWidget"
   },
   {
    "code": "for attribute in self.columns:\n    vis = Vis([index_column_name,attribute],self[attribute].reset_index())\n    display(vis)",
    "id": "5f54f55b856742dc8bddf0782da7c89c",
    "isPrintLuxDf": false,
    "isPrintPandasDf": false,
    "isPrintVis": false,
    "isPrintVisCollection": false,
    "order_count": 10,
    "time": "2020-07-21T11:44:09.248Z",
    "type": "completeCodeCell"
   },
   {
    "param": "",
    "time": "2020-07-21T11:44:09.252Z",
    "type": "initWidget"
   },
   {
    "code": "for attribute in self.columns:\n    vis = Vis([index_column_name,attribute],self[attribute].reset_index())\n    display(vis)",
    "id": "5f54f55b856742dc8bddf0782da7c89c",
    "order_count": 10,
    "time": "2020-07-21T11:44:11.363Z",
    "type": "selectCodeCell"
   },
   {
    "code": "for attribute in self.columns:\n    vis = Vis([index_column_name,attribute],self[attribute].reset_index())\n    display(vis)",
    "id": "5f54f55b856742dc8bddf0782da7c89c",
    "order_count": 10,
    "time": "2020-07-21T11:44:18.112Z",
    "type": "editCodeCell"
   },
   {
    "code": "for attribute in self.columns:\n    vis = Vis([index_column_name,attribute],self[attribute].reset_index())\n    display(vis)",
    "id": "5f54f55b856742dc8bddf0782da7c89c",
    "order_count": 10,
    "time": "2020-07-21T11:44:18.605Z",
    "type": "selectCodeCell"
   },
   {
    "code": "for attribute in self.columns:\n    vis = Vis([index_column_name,attribute],self[attribute].reset_index())\n    display(vis)",
    "id": "5f54f55b856742dc8bddf0782da7c89c",
    "order_count": 10,
    "time": "2020-07-21T11:44:21.991Z",
    "type": "selectCodeCell"
   },
   {
    "code": "for attribute in self.columns:\n    vis = Vis([index_column_name,attribute],self[attribute].reset_index())\n    display(vis)",
    "id": "5f54f55b856742dc8bddf0782da7c89c",
    "order_count": 10,
    "time": "2020-07-21T11:44:57.953Z",
    "type": "editCodeCell"
   },
   {
    "code": "for attribute in self.columns:\n    vis = Vis([index_column_name,attribute],self[attribute].reset_index())\n    display(vis)",
    "id": "5f54f55b856742dc8bddf0782da7c89c",
    "order_count": 10,
    "time": "2020-07-21T11:45:57.118Z",
    "type": "editCodeCell"
   },
   {
    "code": "for attribute in self.columns:\n    vis = Vis([index_column_name,attribute],self[attribute].reset_index())\n    display(vis)",
    "id": "5f54f55b856742dc8bddf0782da7c89c",
    "order_count": 10,
    "time": "2020-07-21T11:50:23.897Z",
    "type": "editCodeCell"
   },
   {
    "code": "for attribute in self.columns:\n    vis = Vis([index_column_name,attribute],self[attribute].reset_index())\n    display(vis)",
    "id": "5f54f55b856742dc8bddf0782da7c89c",
    "order_count": 10,
    "time": "2020-07-21T11:50:24.712Z",
    "type": "selectCodeCell"
   },
   {
    "code": "for attribute in self.columns:\n    vis = Vis([index_column_name,attribute],self[attribute].reset_index())\n    display(vis)",
    "id": "5f54f55b856742dc8bddf0782da7c89c",
    "order_count": 10,
    "time": "2020-07-21T11:55:53.566Z",
    "type": "editCodeCell"
   },
   {
    "code": "This dataset contains a total of 1295 records of American colleges and their properties, collected by the [US Department of Education](https://collegescorecard.ed.gov/data/documentation/).",
    "id": "d71c5c8d5ca64ce888dbd78140f7092b",
    "order_count": 1,
    "time": "2020-07-21T11:56:23.249Z",
    "type": "selectMarkdownCell"
   },
   {
    "time": "2020-07-21T11:56:24.882Z",
    "type": "kernelRestart"
   },
   {
    "time": "2020-07-21T11:56:25.014Z",
    "type": "kernelRestart"
   },
   {
    "code": "cd ../",
    "id": "a7da79e1a13643cab773017189810627",
    "order_count": 0,
    "time": "2020-07-21T11:56:25.474Z",
    "type": "selectCodeCell"
   },
   {
    "code": "cd ../",
    "id": "a7da79e1a13643cab773017189810627",
    "order_count": 0,
    "time": "2020-07-21T11:56:25.879Z",
    "type": "executeCodeCell"
   },
   {
    "code": "This dataset contains a total of 1295 records of American colleges and their properties, collected by the [US Department of Education](https://collegescorecard.ed.gov/data/documentation/).",
    "id": "d71c5c8d5ca64ce888dbd78140f7092b",
    "order_count": 1,
    "time": "2020-07-21T11:56:25.887Z",
    "type": "selectMarkdownCell"
   },
   {
    "code": "import pandas as pd\n%load_ext autoreload\n%autoreload 2\nimport lux",
    "id": "7428a8a53da0452880d1e6c1d21e8324",
    "order_count": 2,
    "time": "2020-07-21T11:56:26.043Z",
    "type": "selectCodeCell"
   },
   {
    "code": "import pandas as pd\n%load_ext autoreload\n%autoreload 2\nimport lux",
    "id": "7428a8a53da0452880d1e6c1d21e8324",
    "order_count": 2,
    "time": "2020-07-21T11:56:26.191Z",
    "type": "executeCodeCell"
   },
   {
    "code": "df = pd.read_csv(\"lux/data/college.csv\")",
    "id": "78a539bb361149808b28db83c04c6cab",
    "order_count": 3,
    "time": "2020-07-21T11:56:26.204Z",
    "type": "selectCodeCell"
   },
   {
    "time": "2020-07-21T11:56:26.343Z",
    "type": "kernelReady"
   },
   {
    "code": "cd ../",
    "id": "a7da79e1a13643cab773017189810627",
    "isPrintLuxDf": false,
    "isPrintPandasDf": false,
    "isPrintVis": false,
    "isPrintVisCollection": false,
    "order_count": 0,
    "time": "2020-07-21T11:56:26.441Z",
    "type": "completeCodeCell"
   },
   {
    "code": "cd ../",
    "id": "a7da79e1a13643cab773017189810627",
    "isPrintLuxDf": false,
    "isPrintPandasDf": false,
    "isPrintVis": false,
    "isPrintVisCollection": false,
    "order_count": 0,
    "time": "2020-07-21T11:56:26.442Z",
    "type": "completeCodeCell"
   },
   {
    "code": "df = pd.read_csv(\"lux/data/college.csv\")",
    "id": "78a539bb361149808b28db83c04c6cab",
    "order_count": 3,
    "time": "2020-07-21T11:56:26.711Z",
    "type": "executeCodeCell"
   },
   {
    "code": "groupbyResult = df.groupby(\"Region\").sum()",
    "id": "63be682cd1e444e08c0c4d37f3406a4d",
    "order_count": 4,
    "time": "2020-07-21T11:56:26.725Z",
    "type": "selectCodeCell"
   },
   {
    "code": "import pandas as pd\n%load_ext autoreload\n%autoreload 2\nimport lux",
    "id": "7428a8a53da0452880d1e6c1d21e8324",
    "isPrintLuxDf": false,
    "isPrintPandasDf": false,
    "isPrintVis": false,
    "isPrintVisCollection": false,
    "order_count": 2,
    "time": "2020-07-21T11:56:26.798Z",
    "type": "completeCodeCell"
   },
   {
    "code": "groupbyResult = df.groupby(\"Region\").sum()",
    "id": "63be682cd1e444e08c0c4d37f3406a4d",
    "order_count": 4,
    "time": "2020-07-21T11:56:27.120Z",
    "type": "executeCodeCell"
   },
   {
    "code": "self = groupbyResult\nif (type(self.index) != pd.core.indexes.range.RangeIndex):# if multi-index, then default to pandas output\n    print (\"test\")\n    index_column_name = self.index.name",
    "id": "5e39c1e5c8e740e181980e5d80cfeb44",
    "order_count": 5,
    "time": "2020-07-21T11:56:27.140Z",
    "type": "selectCodeCell"
   },
   {
    "code": "self = groupbyResult\nif (type(self.index) != pd.core.indexes.range.RangeIndex):# if multi-index, then default to pandas output\n    print (\"test\")\n    index_column_name = self.index.name",
    "id": "5e39c1e5c8e740e181980e5d80cfeb44",
    "order_count": 5,
    "time": "2020-07-21T11:56:27.675Z",
    "type": "executeCodeCell"
   },
   {
    "code": "index_column_name",
    "id": "635986bd5dba4b92915672975a9641d8",
    "order_count": 6,
    "time": "2020-07-21T11:56:27.691Z",
    "type": "selectCodeCell"
   },
   {
    "code": "index_column_name",
    "id": "635986bd5dba4b92915672975a9641d8",
    "order_count": 6,
    "time": "2020-07-21T11:56:28.210Z",
    "type": "executeCodeCell"
   },
   {
    "code": "# self.reset_index()",
    "id": "dc65928dcab74a518ec6aeee3d2abc9f",
    "order_count": 7,
    "time": "2020-07-21T11:56:28.228Z",
    "type": "selectCodeCell"
   },
   {
    "code": "# self.reset_index()",
    "id": "dc65928dcab74a518ec6aeee3d2abc9f",
    "order_count": 7,
    "time": "2020-07-21T11:56:28.498Z",
    "type": "executeCodeCell"
   },
   {
    "code": "from lux.vis.Vis import Vis\nfrom lux.compiler.Parser import Parser\nfrom lux.compiler.Validator import Validator\nfrom lux.compiler.Compiler import Compiler\n",
    "id": "ca07cdd3856841c082c7831ab613eb72",
    "order_count": 8,
    "time": "2020-07-21T11:56:28.517Z",
    "type": "selectCodeCell"
   },
   {
    "code": "from lux.vis.Vis import Vis\nfrom lux.compiler.Parser import Parser\nfrom lux.compiler.Validator import Validator\nfrom lux.compiler.Compiler import Compiler\n",
    "id": "ca07cdd3856841c082c7831ab613eb72",
    "order_count": 8,
    "time": "2020-07-21T11:56:28.905Z",
    "type": "executeCodeCell"
   },
   {
    "code": "self.data_type",
    "id": "5d8ba5d37b9542538726810ef82b1b45",
    "order_count": 9,
    "time": "2020-07-21T11:56:28.921Z",
    "type": "selectCodeCell"
   },
   {
    "code": "from lux.vis.Vis import Vis\nfrom lux.compiler.Parser import Parser\nfrom lux.compiler.Validator import Validator\nfrom lux.compiler.Compiler import Compiler\n",
    "id": "ca07cdd3856841c082c7831ab613eb72",
    "order_count": 8,
    "time": "2020-07-21T11:56:29.378Z",
    "type": "selectCodeCell"
   },
   {
    "code": "# self.reset_index()",
    "id": "dc65928dcab74a518ec6aeee3d2abc9f",
    "order_count": 7,
    "time": "2020-07-21T11:56:29.568Z",
    "type": "selectCodeCell"
   },
   {
    "code": "index_column_name",
    "id": "635986bd5dba4b92915672975a9641d8",
    "order_count": 6,
    "time": "2020-07-21T11:56:29.696Z",
    "type": "selectCodeCell"
   },
   {
    "code": "index_column_name",
    "id": "635986bd5dba4b92915672975a9641d8",
    "order_count": null,
    "time": "2020-07-21T11:56:30.195Z",
    "type": "deleteCodeCell"
   },
   {
    "code": "# self.reset_index()",
    "id": "dc65928dcab74a518ec6aeee3d2abc9f",
    "order_count": null,
    "time": "2020-07-21T11:56:30.561Z",
    "type": "deleteCodeCell"
   },
   {
    "code": "from lux.vis.Vis import Vis\nfrom lux.compiler.Parser import Parser\nfrom lux.compiler.Validator import Validator\nfrom lux.compiler.Compiler import Compiler\n",
    "id": "ca07cdd3856841c082c7831ab613eb72",
    "order_count": 6,
    "time": "2020-07-21T11:56:31.275Z",
    "type": "executeCodeCell"
   },
   {
    "code": "self.data_type",
    "id": "5d8ba5d37b9542538726810ef82b1b45",
    "order_count": 7,
    "time": "2020-07-21T11:56:31.290Z",
    "type": "selectCodeCell"
   },
   {
    "code": "self.data_type",
    "id": "5d8ba5d37b9542538726810ef82b1b45",
    "order_count": 7,
    "time": "2020-07-21T11:56:31.921Z",
    "type": "executeCodeCell"
   },
   {
    "code": "for attribute in self.columns:\n    vis = Vis([index_column_name,lux.Clause(attribute,aggregation=None)],self[attribute].reset_index())\n    display(vis)",
    "id": "5f54f55b856742dc8bddf0782da7c89c",
    "order_count": 8,
    "time": "2020-07-21T11:56:31.943Z",
    "type": "selectCodeCell"
   },
   {
    "code": "for attribute in self.columns:\n    vis = Vis([index_column_name,lux.Clause(attribute,aggregation=None)],self[attribute].reset_index())\n    display(vis)",
    "id": "5f54f55b856742dc8bddf0782da7c89c",
    "order_count": 8,
    "time": "2020-07-21T11:56:32.715Z",
    "type": "executeCodeCell"
   },
   {
    "code": "vis",
    "id": "1aadd727d5224d57a0d72ae866d4d9b4",
    "order_count": 9,
    "time": "2020-07-21T11:56:32.730Z",
    "type": "selectCodeCell"
   },
   {
    "code": "cd ../",
    "id": "a7da79e1a13643cab773017189810627",
    "order_count": 0,
    "time": "2020-07-21T11:56:38.593Z",
    "type": "selectCodeCell"
   },
   {
    "code": "cd ../",
    "id": "a7da79e1a13643cab773017189810627",
    "order_count": 0,
    "time": "2020-07-21T11:56:38.600Z",
    "type": "editCodeCell"
   },
   {
    "code": "cd ../",
    "id": "a7da79e1a13643cab773017189810627",
    "order_count": 0,
    "time": "2020-07-21T11:56:38.693Z",
    "type": "selectCodeCell"
   },
   {
    "code": "cd ../",
    "id": "a7da79e1a13643cab773017189810627",
    "order_count": 0,
    "time": "2020-07-21T11:56:41.103Z",
    "type": "selectCodeCell"
   },
   {
    "time": "2020-07-21T11:56:43.524Z",
    "type": "kernelRestart"
   },
   {
    "time": "2020-07-21T11:56:44.259Z",
    "type": "kernelReady"
   },
   {
    "code": "cd ../",
    "id": "a7da79e1a13643cab773017189810627",
    "order_count": 0,
    "time": "2020-07-21T11:56:45.122Z",
    "type": "executeCodeCell"
   },
   {
    "code": "This dataset contains a total of 1295 records of American colleges and their properties, collected by the [US Department of Education](https://collegescorecard.ed.gov/data/documentation/).",
    "id": "d71c5c8d5ca64ce888dbd78140f7092b",
    "order_count": 1,
    "time": "2020-07-21T11:56:45.130Z",
    "type": "selectMarkdownCell"
   },
   {
    "code": "cd ../",
    "id": "a7da79e1a13643cab773017189810627",
    "isPrintLuxDf": false,
    "isPrintPandasDf": false,
    "isPrintVis": false,
    "isPrintVisCollection": false,
    "order_count": 0,
    "time": "2020-07-21T11:56:45.149Z",
    "type": "completeCodeCell"
   },
   {
    "code": "import pandas as pd\n%load_ext autoreload\n%autoreload 2\nimport lux",
    "id": "7428a8a53da0452880d1e6c1d21e8324",
    "order_count": 2,
    "time": "2020-07-21T11:56:45.618Z",
    "type": "selectCodeCell"
   },
   {
    "code": "import pandas as pd\n%load_ext autoreload\n%autoreload 2\nimport lux",
    "id": "7428a8a53da0452880d1e6c1d21e8324",
    "order_count": 2,
    "time": "2020-07-21T11:56:45.866Z",
    "type": "executeCodeCell"
   },
   {
    "code": "df = pd.read_csv(\"lux/data/college.csv\")",
    "id": "78a539bb361149808b28db83c04c6cab",
    "order_count": 3,
    "time": "2020-07-21T11:56:45.882Z",
    "type": "selectCodeCell"
   },
   {
    "code": "df = pd.read_csv(\"lux/data/college.csv\")",
    "id": "78a539bb361149808b28db83c04c6cab",
    "order_count": 3,
    "time": "2020-07-21T11:56:46.127Z",
    "type": "executeCodeCell"
   },
   {
    "code": "groupbyResult = df.groupby(\"Region\").sum()",
    "id": "63be682cd1e444e08c0c4d37f3406a4d",
    "order_count": 4,
    "time": "2020-07-21T11:56:46.140Z",
    "type": "selectCodeCell"
   },
   {
    "code": "import pandas as pd\n%load_ext autoreload\n%autoreload 2\nimport lux",
    "id": "7428a8a53da0452880d1e6c1d21e8324",
    "isPrintLuxDf": false,
    "isPrintPandasDf": false,
    "isPrintVis": false,
    "isPrintVisCollection": false,
    "order_count": 2,
    "time": "2020-07-21T11:56:46.200Z",
    "type": "completeCodeCell"
   },
   {
    "code": "df = pd.read_csv(\"lux/data/college.csv\")",
    "id": "78a539bb361149808b28db83c04c6cab",
    "isPrintLuxDf": false,
    "isPrintPandasDf": false,
    "isPrintVis": false,
    "isPrintVisCollection": false,
    "order_count": 3,
    "time": "2020-07-21T11:56:46.234Z",
    "type": "completeCodeCell"
   },
   {
    "code": "df = pd.read_csv(\"lux/data/college.csv\")",
    "id": "78a539bb361149808b28db83c04c6cab",
    "isPrintLuxDf": false,
    "isPrintPandasDf": false,
    "isPrintVis": false,
    "isPrintVisCollection": false,
    "order_count": 3,
    "time": "2020-07-21T11:56:46.234Z",
    "type": "completeCodeCell"
   },
   {
    "code": "groupbyResult = df.groupby(\"Region\").sum()",
    "id": "63be682cd1e444e08c0c4d37f3406a4d",
    "order_count": 4,
    "time": "2020-07-21T11:56:46.481Z",
    "type": "executeCodeCell"
   },
   {
    "code": "self = groupbyResult\nif (type(self.index) != pd.core.indexes.range.RangeIndex):# if multi-index, then default to pandas output\n    print (\"test\")\n    index_column_name = self.index.name",
    "id": "5e39c1e5c8e740e181980e5d80cfeb44",
    "order_count": 5,
    "time": "2020-07-21T11:56:46.500Z",
    "type": "selectCodeCell"
   },
   {
    "code": "groupbyResult = df.groupby(\"Region\").sum()",
    "id": "63be682cd1e444e08c0c4d37f3406a4d",
    "isPrintLuxDf": false,
    "isPrintPandasDf": false,
    "isPrintVis": false,
    "isPrintVisCollection": false,
    "order_count": 4,
    "time": "2020-07-21T11:56:46.523Z",
    "type": "completeCodeCell"
   },
   {
    "code": "groupbyResult = df.groupby(\"Region\").sum()",
    "id": "63be682cd1e444e08c0c4d37f3406a4d",
    "isPrintLuxDf": false,
    "isPrintPandasDf": false,
    "isPrintVis": false,
    "isPrintVisCollection": false,
    "order_count": 4,
    "time": "2020-07-21T11:56:46.524Z",
    "type": "completeCodeCell"
   },
   {
    "code": "self = groupbyResult\nif (type(self.index) != pd.core.indexes.range.RangeIndex):# if multi-index, then default to pandas output\n    print (\"test\")\n    index_column_name = self.index.name",
    "id": "5e39c1e5c8e740e181980e5d80cfeb44",
    "order_count": 5,
    "time": "2020-07-21T11:56:46.875Z",
    "type": "executeCodeCell"
   },
   {
    "code": "from lux.vis.Vis import Vis\nfrom lux.compiler.Parser import Parser\nfrom lux.compiler.Validator import Validator\nfrom lux.compiler.Compiler import Compiler\n",
    "id": "ca07cdd3856841c082c7831ab613eb72",
    "order_count": 6,
    "time": "2020-07-21T11:56:46.894Z",
    "type": "selectCodeCell"
   },
   {
    "code": "self = groupbyResult\nif (type(self.index) != pd.core.indexes.range.RangeIndex):# if multi-index, then default to pandas output\n    print (\"test\")\n    index_column_name = self.index.name",
    "id": "5e39c1e5c8e740e181980e5d80cfeb44",
    "isPrintLuxDf": false,
    "isPrintPandasDf": false,
    "isPrintVis": false,
    "isPrintVisCollection": false,
    "order_count": 5,
    "time": "2020-07-21T11:56:46.900Z",
    "type": "completeCodeCell"
   },
   {
    "code": "self = groupbyResult\nif (type(self.index) != pd.core.indexes.range.RangeIndex):# if multi-index, then default to pandas output\n    print (\"test\")\n    index_column_name = self.index.name",
    "id": "5e39c1e5c8e740e181980e5d80cfeb44",
    "isPrintLuxDf": false,
    "isPrintPandasDf": false,
    "isPrintVis": false,
    "isPrintVisCollection": false,
    "order_count": 5,
    "time": "2020-07-21T11:56:46.901Z",
    "type": "completeCodeCell"
   },
   {
    "code": "from lux.vis.Vis import Vis\nfrom lux.compiler.Parser import Parser\nfrom lux.compiler.Validator import Validator\nfrom lux.compiler.Compiler import Compiler\n",
    "id": "ca07cdd3856841c082c7831ab613eb72",
    "order_count": 6,
    "time": "2020-07-21T11:56:47.209Z",
    "type": "executeCodeCell"
   },
   {
    "code": "self.data_type",
    "id": "5d8ba5d37b9542538726810ef82b1b45",
    "order_count": 7,
    "time": "2020-07-21T11:56:47.223Z",
    "type": "selectCodeCell"
   },
   {
    "code": "from lux.vis.Vis import Vis\nfrom lux.compiler.Parser import Parser\nfrom lux.compiler.Validator import Validator\nfrom lux.compiler.Compiler import Compiler\n",
    "id": "ca07cdd3856841c082c7831ab613eb72",
    "isPrintLuxDf": false,
    "isPrintPandasDf": false,
    "isPrintVis": false,
    "isPrintVisCollection": false,
    "order_count": 6,
    "time": "2020-07-21T11:56:47.228Z",
    "type": "completeCodeCell"
   },
   {
    "code": "from lux.vis.Vis import Vis\nfrom lux.compiler.Parser import Parser\nfrom lux.compiler.Validator import Validator\nfrom lux.compiler.Compiler import Compiler\n",
    "id": "ca07cdd3856841c082c7831ab613eb72",
    "isPrintLuxDf": false,
    "isPrintPandasDf": false,
    "isPrintVis": false,
    "isPrintVisCollection": false,
    "order_count": 6,
    "time": "2020-07-21T11:56:47.228Z",
    "type": "completeCodeCell"
   },
   {
    "code": "from lux.vis.Vis import Vis\nfrom lux.compiler.Parser import Parser\nfrom lux.compiler.Validator import Validator\nfrom lux.compiler.Compiler import Compiler\n",
    "id": "ca07cdd3856841c082c7831ab613eb72",
    "isPrintLuxDf": false,
    "isPrintPandasDf": false,
    "isPrintVis": false,
    "isPrintVisCollection": false,
    "order_count": 6,
    "time": "2020-07-21T11:56:47.228Z",
    "type": "completeCodeCell"
   },
   {
    "code": "self.data_type",
    "id": "5d8ba5d37b9542538726810ef82b1b45",
    "order_count": 7,
    "time": "2020-07-21T11:56:47.737Z",
    "type": "executeCodeCell"
   },
   {
    "code": "for attribute in self.columns:\n    vis = Vis([index_column_name,lux.Clause(attribute,aggregation=None)],self[attribute].reset_index())\n    display(vis)",
    "id": "5f54f55b856742dc8bddf0782da7c89c",
    "order_count": 8,
    "time": "2020-07-21T11:56:47.755Z",
    "type": "selectCodeCell"
   },
   {
    "code": "self.data_type",
    "id": "5d8ba5d37b9542538726810ef82b1b45",
    "isPrintLuxDf": false,
    "isPrintPandasDf": false,
    "isPrintVis": false,
    "isPrintVisCollection": false,
    "order_count": 7,
    "time": "2020-07-21T11:56:47.762Z",
    "type": "completeCodeCell"
   },
   {
    "code": "self.data_type",
    "id": "5d8ba5d37b9542538726810ef82b1b45",
    "isPrintLuxDf": false,
    "isPrintPandasDf": false,
    "isPrintVis": false,
    "isPrintVisCollection": false,
    "order_count": 7,
    "time": "2020-07-21T11:56:47.763Z",
    "type": "completeCodeCell"
   },
   {
    "code": "for attribute in self.columns:\n    vis = Vis([index_column_name,lux.Clause(attribute,aggregation=None)],self[attribute].reset_index())\n    display(vis)",
    "id": "5f54f55b856742dc8bddf0782da7c89c",
    "order_count": 8,
    "time": "2020-07-21T11:56:48.162Z",
    "type": "executeCodeCell"
   },
   {
    "code": "vis",
    "id": "1aadd727d5224d57a0d72ae866d4d9b4",
    "order_count": 9,
    "time": "2020-07-21T11:56:48.178Z",
    "type": "selectCodeCell"
   },
   {
    "code": "for attribute in self.columns:\n    vis = Vis([index_column_name,lux.Clause(attribute,aggregation=None)],self[attribute].reset_index())\n    display(vis)",
    "id": "5f54f55b856742dc8bddf0782da7c89c",
    "isPrintLuxDf": false,
    "isPrintPandasDf": false,
    "isPrintVis": false,
    "isPrintVisCollection": false,
    "order_count": 8,
    "time": "2020-07-21T11:56:48.306Z",
    "type": "completeCodeCell"
   },
   {
    "code": "for attribute in self.columns:\n    vis = Vis([index_column_name,lux.Clause(attribute,aggregation=None)],self[attribute].reset_index())\n    display(vis)",
    "id": "5f54f55b856742dc8bddf0782da7c89c",
    "isPrintLuxDf": false,
    "isPrintPandasDf": false,
    "isPrintVis": false,
    "isPrintVisCollection": false,
    "order_count": 8,
    "time": "2020-07-21T11:56:48.306Z",
    "type": "completeCodeCell"
   },
   {
    "code": "for attribute in self.columns:\n    vis = Vis([index_column_name,lux.Clause(attribute,aggregation=None)],self[attribute].reset_index())\n    display(vis)",
    "id": "5f54f55b856742dc8bddf0782da7c89c",
    "order_count": 8,
    "time": "2020-07-21T11:57:13.542Z",
    "type": "selectCodeCell"
   },
   {
    "time": "2020-07-21T11:57:14.878Z",
    "type": "kernelRestart"
   },
   {
    "code": "self.data_type",
    "id": "5d8ba5d37b9542538726810ef82b1b45",
    "order_count": 7,
    "time": "2020-07-21T11:57:15.382Z",
    "type": "selectCodeCell"
   },
   {
    "time": "2020-07-21T11:57:15.675Z",
    "type": "kernelReady"
   },
   {
    "code": "from lux.vis.Vis import Vis\nfrom lux.compiler.Parser import Parser\nfrom lux.compiler.Validator import Validator\nfrom lux.compiler.Compiler import Compiler\n",
    "id": "ca07cdd3856841c082c7831ab613eb72",
    "order_count": 6,
    "time": "2020-07-21T11:57:15.880Z",
    "type": "selectCodeCell"
   },
   {
    "code": "self = groupbyResult\nif (type(self.index) != pd.core.indexes.range.RangeIndex):# if multi-index, then default to pandas output\n    print (\"test\")\n    index_column_name = self.index.name",
    "id": "5e39c1e5c8e740e181980e5d80cfeb44",
    "order_count": 5,
    "time": "2020-07-21T11:57:15.969Z",
    "type": "selectCodeCell"
   },
   {
    "code": "groupbyResult = df.groupby(\"Region\").sum()",
    "id": "63be682cd1e444e08c0c4d37f3406a4d",
    "order_count": 4,
    "time": "2020-07-21T11:57:16.052Z",
    "type": "selectCodeCell"
   },
   {
    "code": "df = pd.read_csv(\"lux/data/college.csv\")",
    "id": "78a539bb361149808b28db83c04c6cab",
    "order_count": 3,
    "time": "2020-07-21T11:57:16.132Z",
    "type": "selectCodeCell"
   },
   {
    "code": "import pandas as pd\n%load_ext autoreload\n%autoreload 2\nimport lux",
    "id": "7428a8a53da0452880d1e6c1d21e8324",
    "order_count": 2,
    "time": "2020-07-21T11:57:16.216Z",
    "type": "selectCodeCell"
   },
   {
    "code": "This dataset contains a total of 1295 records of American colleges and their properties, collected by the [US Department of Education](https://collegescorecard.ed.gov/data/documentation/).",
    "id": "d71c5c8d5ca64ce888dbd78140f7092b",
    "order_count": 1,
    "time": "2020-07-21T11:57:16.293Z",
    "type": "selectMarkdownCell"
   },
   {
    "code": "import pandas as pd\n%load_ext autoreload\n%autoreload 2\nimport lux",
    "id": "7428a8a53da0452880d1e6c1d21e8324",
    "order_count": 2,
    "time": "2020-07-21T11:57:16.708Z",
    "type": "selectCodeCell"
   },
   {
    "code": "This dataset contains a total of 1295 records of American colleges and their properties, collected by the [US Department of Education](https://collegescorecard.ed.gov/data/documentation/).",
    "id": "d71c5c8d5ca64ce888dbd78140f7092b",
    "order_count": 1,
    "time": "2020-07-21T11:57:17.136Z",
    "type": "selectMarkdownCell"
   },
   {
    "code": "cd ../",
    "id": "a7da79e1a13643cab773017189810627",
    "order_count": 0,
    "time": "2020-07-21T11:57:17.311Z",
    "type": "selectCodeCell"
   },
   {
    "code": "cd ../",
    "id": "a7da79e1a13643cab773017189810627",
    "order_count": 0,
    "time": "2020-07-21T11:57:17.610Z",
    "type": "executeCodeCell"
   },
   {
    "code": "This dataset contains a total of 1295 records of American colleges and their properties, collected by the [US Department of Education](https://collegescorecard.ed.gov/data/documentation/).",
    "id": "d71c5c8d5ca64ce888dbd78140f7092b",
    "order_count": 1,
    "time": "2020-07-21T11:57:17.619Z",
    "type": "selectMarkdownCell"
   },
   {
    "code": "cd ../",
    "id": "a7da79e1a13643cab773017189810627",
    "isPrintLuxDf": false,
    "isPrintPandasDf": false,
    "isPrintVis": false,
    "isPrintVisCollection": false,
    "order_count": 0,
    "time": "2020-07-21T11:57:17.638Z",
    "type": "completeCodeCell"
   },
   {
    "code": "import pandas as pd\n%load_ext autoreload\n%autoreload 2\nimport lux",
    "id": "7428a8a53da0452880d1e6c1d21e8324",
    "order_count": 2,
    "time": "2020-07-21T11:57:17.906Z",
    "type": "selectCodeCell"
   },
   {
    "code": "import pandas as pd\n%load_ext autoreload\n%autoreload 2\nimport lux",
    "id": "7428a8a53da0452880d1e6c1d21e8324",
    "order_count": 2,
    "time": "2020-07-21T11:57:18.075Z",
    "type": "executeCodeCell"
   },
   {
    "code": "df = pd.read_csv(\"lux/data/college.csv\")",
    "id": "78a539bb361149808b28db83c04c6cab",
    "order_count": 3,
    "time": "2020-07-21T11:57:18.092Z",
    "type": "selectCodeCell"
   },
   {
    "code": "df = pd.read_csv(\"lux/data/college.csv\")",
    "id": "78a539bb361149808b28db83c04c6cab",
    "order_count": 3,
    "time": "2020-07-21T11:57:18.192Z",
    "type": "executeCodeCell"
   },
   {
    "code": "groupbyResult = df.groupby(\"Region\").sum()",
    "id": "63be682cd1e444e08c0c4d37f3406a4d",
    "order_count": 4,
    "time": "2020-07-21T11:57:18.203Z",
    "type": "selectCodeCell"
   },
   {
    "code": "groupbyResult = df.groupby(\"Region\").sum()",
    "id": "63be682cd1e444e08c0c4d37f3406a4d",
    "order_count": 4,
    "time": "2020-07-21T11:57:18.360Z",
    "type": "executeCodeCell"
   },
   {
    "code": "self = groupbyResult\nif (type(self.index) != pd.core.indexes.range.RangeIndex):# if multi-index, then default to pandas output\n    print (\"test\")\n    index_column_name = self.index.name",
    "id": "5e39c1e5c8e740e181980e5d80cfeb44",
    "order_count": 5,
    "time": "2020-07-21T11:57:18.375Z",
    "type": "selectCodeCell"
   },
   {
    "code": "import pandas as pd\n%load_ext autoreload\n%autoreload 2\nimport lux",
    "id": "7428a8a53da0452880d1e6c1d21e8324",
    "isPrintLuxDf": false,
    "isPrintPandasDf": false,
    "isPrintVis": false,
    "isPrintVisCollection": false,
    "order_count": 2,
    "time": "2020-07-21T11:57:18.414Z",
    "type": "completeCodeCell"
   },
   {
    "code": "df = pd.read_csv(\"lux/data/college.csv\")",
    "id": "78a539bb361149808b28db83c04c6cab",
    "isPrintLuxDf": false,
    "isPrintPandasDf": false,
    "isPrintVis": false,
    "isPrintVisCollection": false,
    "order_count": 3,
    "time": "2020-07-21T11:57:18.447Z",
    "type": "completeCodeCell"
   },
   {
    "code": "groupbyResult = df.groupby(\"Region\").sum()",
    "id": "63be682cd1e444e08c0c4d37f3406a4d",
    "isPrintLuxDf": false,
    "isPrintPandasDf": false,
    "isPrintVis": false,
    "isPrintVisCollection": false,
    "order_count": 4,
    "time": "2020-07-21T11:57:18.481Z",
    "type": "completeCodeCell"
   },
   {
    "code": "self = groupbyResult\nif (type(self.index) != pd.core.indexes.range.RangeIndex):# if multi-index, then default to pandas output\n    print (\"test\")\n    index_column_name = self.index.name",
    "id": "5e39c1e5c8e740e181980e5d80cfeb44",
    "order_count": 5,
    "time": "2020-07-21T11:57:18.504Z",
    "type": "executeCodeCell"
   },
   {
    "code": "from lux.vis.Vis import Vis\nfrom lux.compiler.Parser import Parser\nfrom lux.compiler.Validator import Validator\nfrom lux.compiler.Compiler import Compiler\n",
    "id": "ca07cdd3856841c082c7831ab613eb72",
    "order_count": 6,
    "time": "2020-07-21T11:57:18.520Z",
    "type": "selectCodeCell"
   },
   {
    "code": "self = groupbyResult\nif (type(self.index) != pd.core.indexes.range.RangeIndex):# if multi-index, then default to pandas output\n    print (\"test\")\n    index_column_name = self.index.name",
    "id": "5e39c1e5c8e740e181980e5d80cfeb44",
    "isPrintLuxDf": false,
    "isPrintPandasDf": false,
    "isPrintVis": false,
    "isPrintVisCollection": false,
    "order_count": 5,
    "time": "2020-07-21T11:57:18.533Z",
    "type": "completeCodeCell"
   },
   {
    "code": "from lux.vis.Vis import Vis\nfrom lux.compiler.Parser import Parser\nfrom lux.compiler.Validator import Validator\nfrom lux.compiler.Compiler import Compiler\n",
    "id": "ca07cdd3856841c082c7831ab613eb72",
    "order_count": 6,
    "time": "2020-07-21T11:57:18.706Z",
    "type": "executeCodeCell"
   },
   {
    "code": "self.data_type",
    "id": "5d8ba5d37b9542538726810ef82b1b45",
    "order_count": 7,
    "time": "2020-07-21T11:57:18.722Z",
    "type": "selectCodeCell"
   },
   {
    "code": "from lux.vis.Vis import Vis\nfrom lux.compiler.Parser import Parser\nfrom lux.compiler.Validator import Validator\nfrom lux.compiler.Compiler import Compiler\n",
    "id": "ca07cdd3856841c082c7831ab613eb72",
    "isPrintLuxDf": false,
    "isPrintPandasDf": false,
    "isPrintVis": false,
    "isPrintVisCollection": false,
    "order_count": 6,
    "time": "2020-07-21T11:57:18.730Z",
    "type": "completeCodeCell"
   },
   {
    "code": "self.data_type",
    "id": "5d8ba5d37b9542538726810ef82b1b45",
    "order_count": 7,
    "time": "2020-07-21T11:57:18.964Z",
    "type": "executeCodeCell"
   },
   {
    "code": "for attribute in self.columns:\n    vis = Vis([index_column_name,lux.Clause(attribute,aggregation=None)],self[attribute].reset_index())\n    display(vis)",
    "id": "5f54f55b856742dc8bddf0782da7c89c",
    "order_count": 8,
    "time": "2020-07-21T11:57:18.987Z",
    "type": "selectCodeCell"
   },
   {
    "code": "self.data_type",
    "id": "5d8ba5d37b9542538726810ef82b1b45",
    "isPrintLuxDf": false,
    "isPrintPandasDf": false,
    "isPrintVis": false,
    "isPrintVisCollection": false,
    "order_count": 7,
    "time": "2020-07-21T11:57:18.995Z",
    "type": "completeCodeCell"
   },
   {
    "code": "for attribute in self.columns:\n    vis = Vis([index_column_name,lux.Clause(attribute,aggregation=None)],self[attribute].reset_index())\n    display(vis)",
    "id": "5f54f55b856742dc8bddf0782da7c89c",
    "order_count": 8,
    "time": "2020-07-21T11:57:19.372Z",
    "type": "executeCodeCell"
   },
   {
    "code": "vis",
    "id": "1aadd727d5224d57a0d72ae866d4d9b4",
    "order_count": 9,
    "time": "2020-07-21T11:57:19.388Z",
    "type": "selectCodeCell"
   },
   {
    "param": "",
    "time": "2020-07-21T11:57:19.528Z",
    "type": "initWidget"
   },
   {
    "param": "",
    "time": "2020-07-21T11:57:19.591Z",
    "type": "initWidget"
   },
   {
    "param": "",
    "time": "2020-07-21T11:57:19.644Z",
    "type": "initWidget"
   },
   {
    "param": "",
    "time": "2020-07-21T11:57:19.717Z",
    "type": "initWidget"
   },
   {
    "param": "",
    "time": "2020-07-21T11:57:19.767Z",
    "type": "initWidget"
   },
   {
    "code": "for attribute in self.columns:\n    vis = Vis([index_column_name,lux.Clause(attribute,aggregation=None)],self[attribute].reset_index())\n    display(vis)",
    "id": "5f54f55b856742dc8bddf0782da7c89c",
    "isPrintLuxDf": false,
    "isPrintPandasDf": false,
    "isPrintVis": false,
    "isPrintVisCollection": false,
    "order_count": 8,
    "time": "2020-07-21T11:57:19.865Z",
    "type": "completeCodeCell"
   },
   {
    "param": "",
    "time": "2020-07-21T11:57:19.896Z",
    "type": "initWidget"
   },
   {
    "code": "for attribute in self.columns:\n    vis = Vis([index_column_name,lux.Clause(attribute,aggregation=None)],self[attribute].reset_index())\n    display(vis)",
    "id": "5f54f55b856742dc8bddf0782da7c89c",
    "order_count": 8,
    "time": "2020-07-21T11:58:54.668Z",
    "type": "selectCodeCell"
   },
   {
    "time": "2020-07-21T11:58:56.132Z",
    "type": "kernelRestart"
   },
   {
    "code": "self.data_type",
    "id": "5d8ba5d37b9542538726810ef82b1b45",
    "order_count": 7,
    "time": "2020-07-21T11:58:56.742Z",
    "type": "selectCodeCell"
   },
   {
    "code": "from lux.vis.Vis import Vis\nfrom lux.compiler.Parser import Parser\nfrom lux.compiler.Validator import Validator\nfrom lux.compiler.Compiler import Compiler\n",
    "id": "ca07cdd3856841c082c7831ab613eb72",
    "order_count": 6,
    "time": "2020-07-21T11:58:56.880Z",
    "type": "selectCodeCell"
   },
   {
    "time": "2020-07-21T11:58:56.897Z",
    "type": "kernelReady"
   },
   {
    "code": "self = groupbyResult\nif (type(self.index) != pd.core.indexes.range.RangeIndex):# if multi-index, then default to pandas output\n    print (\"test\")\n    index_column_name = self.index.name",
    "id": "5e39c1e5c8e740e181980e5d80cfeb44",
    "order_count": 5,
    "time": "2020-07-21T11:58:57.039Z",
    "type": "selectCodeCell"
   },
   {
    "code": "groupbyResult = df.groupby(\"Region\").sum()",
    "id": "63be682cd1e444e08c0c4d37f3406a4d",
    "order_count": 4,
    "time": "2020-07-21T11:58:57.169Z",
    "type": "selectCodeCell"
   },
   {
    "code": "df = pd.read_csv(\"lux/data/college.csv\")",
    "id": "78a539bb361149808b28db83c04c6cab",
    "order_count": 3,
    "time": "2020-07-21T11:58:57.309Z",
    "type": "selectCodeCell"
   },
   {
    "code": "import pandas as pd\n%load_ext autoreload\n%autoreload 2\nimport lux",
    "id": "7428a8a53da0452880d1e6c1d21e8324",
    "order_count": 2,
    "time": "2020-07-21T11:58:57.460Z",
    "type": "selectCodeCell"
   },
   {
    "code": "This dataset contains a total of 1295 records of American colleges and their properties, collected by the [US Department of Education](https://collegescorecard.ed.gov/data/documentation/).",
    "id": "d71c5c8d5ca64ce888dbd78140f7092b",
    "order_count": 1,
    "time": "2020-07-21T11:58:57.587Z",
    "type": "selectMarkdownCell"
   },
   {
    "code": "cd ../",
    "id": "a7da79e1a13643cab773017189810627",
    "order_count": 0,
    "time": "2020-07-21T11:58:57.745Z",
    "type": "selectCodeCell"
   },
   {
    "code": "cd ../",
    "id": "a7da79e1a13643cab773017189810627",
    "order_count": 0,
    "time": "2020-07-21T11:58:58.221Z",
    "type": "executeCodeCell"
   },
   {
    "code": "This dataset contains a total of 1295 records of American colleges and their properties, collected by the [US Department of Education](https://collegescorecard.ed.gov/data/documentation/).",
    "id": "d71c5c8d5ca64ce888dbd78140f7092b",
    "order_count": 1,
    "time": "2020-07-21T11:58:58.231Z",
    "type": "selectMarkdownCell"
   },
   {
    "code": "cd ../",
    "id": "a7da79e1a13643cab773017189810627",
    "isPrintLuxDf": false,
    "isPrintPandasDf": false,
    "isPrintVis": false,
    "isPrintVisCollection": false,
    "order_count": 0,
    "time": "2020-07-21T11:58:58.256Z",
    "type": "completeCodeCell"
   },
   {
    "code": "import pandas as pd\n%load_ext autoreload\n%autoreload 2\nimport lux",
    "id": "7428a8a53da0452880d1e6c1d21e8324",
    "order_count": 2,
    "time": "2020-07-21T11:58:58.405Z",
    "type": "selectCodeCell"
   },
   {
    "code": "import pandas as pd\n%load_ext autoreload\n%autoreload 2\nimport lux",
    "id": "7428a8a53da0452880d1e6c1d21e8324",
    "order_count": 2,
    "time": "2020-07-21T11:58:58.557Z",
    "type": "executeCodeCell"
   },
   {
    "code": "df = pd.read_csv(\"lux/data/college.csv\")",
    "id": "78a539bb361149808b28db83c04c6cab",
    "order_count": 3,
    "time": "2020-07-21T11:58:58.575Z",
    "type": "selectCodeCell"
   },
   {
    "code": "df = pd.read_csv(\"lux/data/college.csv\")",
    "id": "78a539bb361149808b28db83c04c6cab",
    "order_count": 3,
    "time": "2020-07-21T11:58:58.699Z",
    "type": "executeCodeCell"
   },
   {
    "code": "groupbyResult = df.groupby(\"Region\").sum()",
    "id": "63be682cd1e444e08c0c4d37f3406a4d",
    "order_count": 4,
    "time": "2020-07-21T11:58:58.712Z",
    "type": "selectCodeCell"
   },
   {
    "code": "groupbyResult = df.groupby(\"Region\").sum()",
    "id": "63be682cd1e444e08c0c4d37f3406a4d",
    "order_count": 4,
    "time": "2020-07-21T11:58:58.842Z",
    "type": "executeCodeCell"
   },
   {
    "code": "self = groupbyResult\nif (type(self.index) != pd.core.indexes.range.RangeIndex):# if multi-index, then default to pandas output\n    print (\"test\")\n    index_column_name = self.index.name",
    "id": "5e39c1e5c8e740e181980e5d80cfeb44",
    "order_count": 5,
    "time": "2020-07-21T11:58:58.858Z",
    "type": "selectCodeCell"
   },
   {
    "code": "import pandas as pd\n%load_ext autoreload\n%autoreload 2\nimport lux",
    "id": "7428a8a53da0452880d1e6c1d21e8324",
    "isPrintLuxDf": false,
    "isPrintPandasDf": false,
    "isPrintVis": false,
    "isPrintVisCollection": false,
    "order_count": 2,
    "time": "2020-07-21T11:58:58.919Z",
    "type": "completeCodeCell"
   },
   {
    "code": "df = pd.read_csv(\"lux/data/college.csv\")",
    "id": "78a539bb361149808b28db83c04c6cab",
    "isPrintLuxDf": false,
    "isPrintPandasDf": false,
    "isPrintVis": false,
    "isPrintVisCollection": false,
    "order_count": 3,
    "time": "2020-07-21T11:58:58.955Z",
    "type": "completeCodeCell"
   },
   {
    "code": "self = groupbyResult\nif (type(self.index) != pd.core.indexes.range.RangeIndex):# if multi-index, then default to pandas output\n    print (\"test\")\n    index_column_name = self.index.name",
    "id": "5e39c1e5c8e740e181980e5d80cfeb44",
    "order_count": 5,
    "time": "2020-07-21T11:58:58.986Z",
    "type": "executeCodeCell"
   },
   {
    "code": "from lux.vis.Vis import Vis\nfrom lux.compiler.Parser import Parser\nfrom lux.compiler.Validator import Validator\nfrom lux.compiler.Compiler import Compiler\n",
    "id": "ca07cdd3856841c082c7831ab613eb72",
    "order_count": 6,
    "time": "2020-07-21T11:58:59.001Z",
    "type": "selectCodeCell"
   },
   {
    "code": "groupbyResult = df.groupby(\"Region\").sum()",
    "id": "63be682cd1e444e08c0c4d37f3406a4d",
    "isPrintLuxDf": false,
    "isPrintPandasDf": false,
    "isPrintVis": false,
    "isPrintVisCollection": false,
    "order_count": 4,
    "time": "2020-07-21T11:58:59.019Z",
    "type": "completeCodeCell"
   },
   {
    "code": "self = groupbyResult\nif (type(self.index) != pd.core.indexes.range.RangeIndex):# if multi-index, then default to pandas output\n    print (\"test\")\n    index_column_name = self.index.name",
    "id": "5e39c1e5c8e740e181980e5d80cfeb44",
    "isPrintLuxDf": false,
    "isPrintPandasDf": false,
    "isPrintVis": false,
    "isPrintVisCollection": false,
    "order_count": 5,
    "time": "2020-07-21T11:58:59.021Z",
    "type": "completeCodeCell"
   },
   {
    "code": "from lux.vis.Vis import Vis\nfrom lux.compiler.Parser import Parser\nfrom lux.compiler.Validator import Validator\nfrom lux.compiler.Compiler import Compiler\n",
    "id": "ca07cdd3856841c082c7831ab613eb72",
    "order_count": 6,
    "time": "2020-07-21T11:58:59.149Z",
    "type": "executeCodeCell"
   },
   {
    "code": "self.data_type",
    "id": "5d8ba5d37b9542538726810ef82b1b45",
    "order_count": 7,
    "time": "2020-07-21T11:58:59.166Z",
    "type": "selectCodeCell"
   },
   {
    "code": "from lux.vis.Vis import Vis\nfrom lux.compiler.Parser import Parser\nfrom lux.compiler.Validator import Validator\nfrom lux.compiler.Compiler import Compiler\n",
    "id": "ca07cdd3856841c082c7831ab613eb72",
    "isPrintLuxDf": false,
    "isPrintPandasDf": false,
    "isPrintVis": false,
    "isPrintVisCollection": false,
    "order_count": 6,
    "time": "2020-07-21T11:58:59.171Z",
    "type": "completeCodeCell"
   },
   {
    "code": "self.data_type",
    "id": "5d8ba5d37b9542538726810ef82b1b45",
    "order_count": 7,
    "time": "2020-07-21T11:58:59.286Z",
    "type": "executeCodeCell"
   },
   {
    "code": "for attribute in self.columns:\n    vis = Vis([index_column_name,lux.Clause(attribute,aggregation=None)],self[attribute].reset_index())\n    display(vis)",
    "id": "5f54f55b856742dc8bddf0782da7c89c",
    "order_count": 8,
    "time": "2020-07-21T11:58:59.342Z",
    "type": "selectCodeCell"
   },
   {
    "code": "self.data_type",
    "id": "5d8ba5d37b9542538726810ef82b1b45",
    "isPrintLuxDf": false,
    "isPrintPandasDf": false,
    "isPrintVis": false,
    "isPrintVisCollection": false,
    "order_count": 7,
    "time": "2020-07-21T11:58:59.350Z",
    "type": "completeCodeCell"
   },
   {
    "code": "for attribute in self.columns:\n    vis = Vis([index_column_name,lux.Clause(attribute,aggregation=None)],self[attribute].reset_index())\n    display(vis)",
    "id": "5f54f55b856742dc8bddf0782da7c89c",
    "order_count": 8,
    "time": "2020-07-21T11:58:59.883Z",
    "type": "executeCodeCell"
   },
   {
    "code": "vis",
    "id": "1aadd727d5224d57a0d72ae866d4d9b4",
    "order_count": 9,
    "time": "2020-07-21T11:58:59.899Z",
    "type": "selectCodeCell"
   },
   {
    "param": "",
    "time": "2020-07-21T11:59:00.028Z",
    "type": "initWidget"
   },
   {
    "param": "",
    "time": "2020-07-21T11:59:00.112Z",
    "type": "initWidget"
   },
   {
    "param": "",
    "time": "2020-07-21T11:59:00.156Z",
    "type": "initWidget"
   },
   {
    "param": "",
    "time": "2020-07-21T11:59:00.210Z",
    "type": "initWidget"
   },
   {
    "param": "",
    "time": "2020-07-21T11:59:00.280Z",
    "type": "initWidget"
   },
   {
    "code": "for attribute in self.columns:\n    vis = Vis([index_column_name,lux.Clause(attribute,aggregation=None)],self[attribute].reset_index())\n    display(vis)",
    "id": "5f54f55b856742dc8bddf0782da7c89c",
    "isPrintLuxDf": false,
    "isPrintPandasDf": false,
    "isPrintVis": false,
    "isPrintVisCollection": false,
    "order_count": 8,
    "time": "2020-07-21T11:59:00.371Z",
    "type": "completeCodeCell"
   },
   {
    "param": "",
    "time": "2020-07-21T11:59:00.375Z",
    "type": "initWidget"
   },
   {
    "code": "self.data_type",
    "id": "5d8ba5d37b9542538726810ef82b1b45",
    "order_count": 7,
    "time": "2020-07-21T11:59:04.436Z",
    "type": "selectCodeCell"
   },
   {
    "code": "self.data_type",
    "id": "5d8ba5d37b9542538726810ef82b1b45",
    "order_count": null,
    "time": "2020-07-21T11:59:04.895Z",
    "type": "deleteCodeCell"
   },
   {
    "code": "for attribute in self.columns:\n    vis = Vis([index_column_name,lux.Clause(attribute,aggregation=None)],self[attribute].reset_index())\n    display(vis)",
    "id": "5f54f55b856742dc8bddf0782da7c89c",
    "order_count": 7,
    "time": "2020-07-21T11:59:49.567Z",
    "type": "selectCodeCell"
   },
   {
    "time": "2020-07-21T11:59:50.818Z",
    "type": "kernelRestart"
   },
   {
    "time": "2020-07-21T11:59:50.962Z",
    "type": "kernelRestart"
   },
   {
    "code": "for attribute in self.columns:\n    vis = Vis([index_column_name,lux.Clause(attribute,aggregation=None)],self[attribute].reset_index())\n    display(vis)",
    "id": "5f54f55b856742dc8bddf0782da7c89c",
    "order_count": 7,
    "time": "2020-07-21T11:59:51.407Z",
    "type": "editCodeCell"
   },
   {
    "time": "2020-07-21T11:59:52.240Z",
    "type": "kernelReady"
   },
   {
    "time": "2020-07-21T11:59:52.243Z",
    "type": "kernelReady"
   },
   {
    "time": "2020-07-21T11:59:52.267Z",
    "type": "kernelReady"
   },
   {
    "code": "from lux.vis.Vis import Vis\nfrom lux.compiler.Parser import Parser\nfrom lux.compiler.Validator import Validator\nfrom lux.compiler.Compiler import Compiler\n",
    "id": "ca07cdd3856841c082c7831ab613eb72",
    "order_count": 6,
    "time": "2020-07-21T11:59:52.685Z",
    "type": "editCodeCell"
   },
   {
    "code": "self = groupbyResult\nif (type(self.index) != pd.core.indexes.range.RangeIndex):# if multi-index, then default to pandas output\n    print (\"test\")\n    index_column_name = self.index.name",
    "id": "5e39c1e5c8e740e181980e5d80cfeb44",
    "order_count": 5,
    "time": "2020-07-21T11:59:53.735Z",
    "type": "editCodeCell"
   },
   {
    "code": "groupbyResult = df.groupby(\"Region\").sum()",
    "id": "63be682cd1e444e08c0c4d37f3406a4d",
    "order_count": 4,
    "time": "2020-07-21T11:59:54.067Z",
    "type": "editCodeCell"
   },
   {
    "code": "df = pd.read_csv(\"lux/data/college.csv\")",
    "id": "78a539bb361149808b28db83c04c6cab",
    "order_count": 3,
    "time": "2020-07-21T11:59:54.149Z",
    "type": "editCodeCell"
   },
   {
    "code": "import pandas as pd\n%load_ext autoreload\n%autoreload 2\nimport lux",
    "id": "7428a8a53da0452880d1e6c1d21e8324",
    "order_count": 2,
    "time": "2020-07-21T11:59:54.507Z",
    "type": "editCodeCell"
   },
   {
    "code": "This dataset contains a total of 1295 records of American colleges and their properties, collected by the [US Department of Education](https://collegescorecard.ed.gov/data/documentation/).",
    "id": "d71c5c8d5ca64ce888dbd78140f7092b",
    "order_count": 1,
    "time": "2020-07-21T11:59:55.352Z",
    "type": "editMarkdownCell"
   },
   {
    "code": "cd ../",
    "id": "a7da79e1a13643cab773017189810627",
    "order_count": 0,
    "time": "2020-07-21T11:59:55.508Z",
    "type": "editCodeCell"
   },
   {
    "code": "cd ../",
    "id": "a7da79e1a13643cab773017189810627",
    "order_count": 0,
    "time": "2020-07-21T11:59:56.152Z",
    "type": "executeCodeCell"
   },
   {
    "code": "This dataset contains a total of 1295 records of American colleges and their properties, collected by the [US Department of Education](https://collegescorecard.ed.gov/data/documentation/).",
    "id": "d71c5c8d5ca64ce888dbd78140f7092b",
    "order_count": 1,
    "time": "2020-07-21T11:59:56.199Z",
    "type": "selectMarkdownCell"
   },
   {
    "code": "cd ../",
    "id": "a7da79e1a13643cab773017189810627",
    "isPrintLuxDf": false,
    "isPrintPandasDf": false,
    "isPrintVis": false,
    "isPrintVisCollection": false,
    "order_count": 0,
    "time": "2020-07-21T11:59:56.221Z",
    "type": "completeCodeCell"
   },
   {
    "code": "import pandas as pd\n%load_ext autoreload\n%autoreload 2\nimport lux",
    "id": "7428a8a53da0452880d1e6c1d21e8324",
    "order_count": 2,
    "time": "2020-07-21T11:59:56.379Z",
    "type": "selectCodeCell"
   },
   {
    "code": "import pandas as pd\n%load_ext autoreload\n%autoreload 2\nimport lux",
    "id": "7428a8a53da0452880d1e6c1d21e8324",
    "order_count": 2,
    "time": "2020-07-21T11:59:56.479Z",
    "type": "executeCodeCell"
   },
   {
    "code": "df = pd.read_csv(\"lux/data/college.csv\")",
    "id": "78a539bb361149808b28db83c04c6cab",
    "order_count": 3,
    "time": "2020-07-21T11:59:56.495Z",
    "type": "selectCodeCell"
   },
   {
    "code": "df = pd.read_csv(\"lux/data/college.csv\")",
    "id": "78a539bb361149808b28db83c04c6cab",
    "order_count": 3,
    "time": "2020-07-21T11:59:56.621Z",
    "type": "executeCodeCell"
   },
   {
    "code": "groupbyResult = df.groupby(\"Region\").sum()",
    "id": "63be682cd1e444e08c0c4d37f3406a4d",
    "order_count": 4,
    "time": "2020-07-21T11:59:56.633Z",
    "type": "selectCodeCell"
   },
   {
    "code": "import pandas as pd\n%load_ext autoreload\n%autoreload 2\nimport lux",
    "id": "7428a8a53da0452880d1e6c1d21e8324",
    "isPrintLuxDf": false,
    "isPrintPandasDf": false,
    "isPrintVis": false,
    "isPrintVisCollection": false,
    "order_count": 2,
    "time": "2020-07-21T11:59:56.824Z",
    "type": "completeCodeCell"
   },
   {
    "code": "df = pd.read_csv(\"lux/data/college.csv\")",
    "id": "78a539bb361149808b28db83c04c6cab",
    "isPrintLuxDf": false,
    "isPrintPandasDf": false,
    "isPrintVis": false,
    "isPrintVisCollection": false,
    "order_count": 3,
    "time": "2020-07-21T11:59:56.858Z",
    "type": "completeCodeCell"
   },
   {
    "code": "groupbyResult = df.groupby(\"Region\").sum()",
    "id": "63be682cd1e444e08c0c4d37f3406a4d",
    "order_count": 4,
    "time": "2020-07-21T11:59:57.319Z",
    "type": "executeCodeCell"
   },
   {
    "code": "self = groupbyResult\nif (type(self.index) != pd.core.indexes.range.RangeIndex):# if multi-index, then default to pandas output\n    print (\"test\")\n    index_column_name = self.index.name",
    "id": "5e39c1e5c8e740e181980e5d80cfeb44",
    "order_count": 5,
    "time": "2020-07-21T11:59:57.339Z",
    "type": "selectCodeCell"
   },
   {
    "code": "groupbyResult = df.groupby(\"Region\").sum()",
    "id": "63be682cd1e444e08c0c4d37f3406a4d",
    "isPrintLuxDf": false,
    "isPrintPandasDf": false,
    "isPrintVis": false,
    "isPrintVisCollection": false,
    "order_count": 4,
    "time": "2020-07-21T11:59:57.358Z",
    "type": "completeCodeCell"
   },
   {
    "code": "self = groupbyResult\nif (type(self.index) != pd.core.indexes.range.RangeIndex):# if multi-index, then default to pandas output\n    print (\"test\")\n    index_column_name = self.index.name",
    "id": "5e39c1e5c8e740e181980e5d80cfeb44",
    "order_count": 5,
    "time": "2020-07-21T11:59:57.542Z",
    "type": "executeCodeCell"
   },
   {
    "code": "from lux.vis.Vis import Vis\nfrom lux.compiler.Parser import Parser\nfrom lux.compiler.Validator import Validator\nfrom lux.compiler.Compiler import Compiler\n",
    "id": "ca07cdd3856841c082c7831ab613eb72",
    "order_count": 6,
    "time": "2020-07-21T11:59:57.562Z",
    "type": "selectCodeCell"
   },
   {
    "code": "self = groupbyResult\nif (type(self.index) != pd.core.indexes.range.RangeIndex):# if multi-index, then default to pandas output\n    print (\"test\")\n    index_column_name = self.index.name",
    "id": "5e39c1e5c8e740e181980e5d80cfeb44",
    "isPrintLuxDf": false,
    "isPrintPandasDf": false,
    "isPrintVis": false,
    "isPrintVisCollection": false,
    "order_count": 5,
    "time": "2020-07-21T11:59:57.582Z",
    "type": "completeCodeCell"
   },
   {
    "code": "from lux.vis.Vis import Vis\nfrom lux.compiler.Parser import Parser\nfrom lux.compiler.Validator import Validator\nfrom lux.compiler.Compiler import Compiler\n",
    "id": "ca07cdd3856841c082c7831ab613eb72",
    "order_count": 6,
    "time": "2020-07-21T11:59:57.863Z",
    "type": "executeCodeCell"
   },
   {
    "code": "for attribute in self.columns:\n    vis = Vis([index_column_name,lux.Clause(attribute,aggregation=None)],self[attribute].reset_index())\n    display(vis)",
    "id": "5f54f55b856742dc8bddf0782da7c89c",
    "order_count": 7,
    "time": "2020-07-21T11:59:57.919Z",
    "type": "selectCodeCell"
   },
   {
    "code": "from lux.vis.Vis import Vis\nfrom lux.compiler.Parser import Parser\nfrom lux.compiler.Validator import Validator\nfrom lux.compiler.Compiler import Compiler\n",
    "id": "ca07cdd3856841c082c7831ab613eb72",
    "isPrintLuxDf": false,
    "isPrintPandasDf": false,
    "isPrintVis": false,
    "isPrintVisCollection": false,
    "order_count": 6,
    "time": "2020-07-21T11:59:57.928Z",
    "type": "completeCodeCell"
   },
   {
    "code": "for attribute in self.columns:\n    vis = Vis([index_column_name,lux.Clause(attribute,aggregation=None)],self[attribute].reset_index())\n    display(vis)",
    "id": "5f54f55b856742dc8bddf0782da7c89c",
    "order_count": 7,
    "time": "2020-07-21T11:59:58.418Z",
    "type": "executeCodeCell"
   },
   {
    "code": "vis",
    "id": "1aadd727d5224d57a0d72ae866d4d9b4",
    "order_count": 8,
    "time": "2020-07-21T11:59:58.435Z",
    "type": "selectCodeCell"
   },
   {
    "param": "",
    "time": "2020-07-21T11:59:58.554Z",
    "type": "initWidget"
   },
   {
    "param": "",
    "time": "2020-07-21T11:59:58.604Z",
    "type": "initWidget"
   },
   {
    "param": "",
    "time": "2020-07-21T11:59:58.654Z",
    "type": "initWidget"
   },
   {
    "param": "",
    "time": "2020-07-21T11:59:58.719Z",
    "type": "initWidget"
   },
   {
    "param": "",
    "time": "2020-07-21T11:59:58.753Z",
    "type": "initWidget"
   },
   {
    "code": "for attribute in self.columns:\n    vis = Vis([index_column_name,lux.Clause(attribute,aggregation=None)],self[attribute].reset_index())\n    display(vis)",
    "id": "5f54f55b856742dc8bddf0782da7c89c",
    "isPrintLuxDf": false,
    "isPrintPandasDf": false,
    "isPrintVis": false,
    "isPrintVisCollection": false,
    "order_count": 7,
    "time": "2020-07-21T11:59:58.851Z",
    "type": "completeCodeCell"
   },
   {
    "param": "",
    "time": "2020-07-21T11:59:58.873Z",
    "type": "initWidget"
   },
   {
    "code": "for attribute in self.columns:\n    vis = Vis([index_column_name,lux.Clause(attribute,aggregation=None)],self[attribute].reset_index())\n    display(vis)",
    "id": "5f54f55b856742dc8bddf0782da7c89c",
    "order_count": 7,
    "time": "2020-07-21T12:04:04.774Z",
    "type": "selectCodeCell"
   },
   {
    "time": "2020-07-21T12:04:06.985Z",
    "type": "kernelRestart"
   },
   {
    "time": "2020-07-21T12:04:07.168Z",
    "type": "kernelRestart"
   },
   {
    "code": "from lux.vis.Vis import Vis\nfrom lux.compiler.Parser import Parser\nfrom lux.compiler.Validator import Validator\nfrom lux.compiler.Compiler import Compiler\n",
    "id": "ca07cdd3856841c082c7831ab613eb72",
    "order_count": 6,
    "time": "2020-07-21T12:04:07.530Z",
    "type": "selectCodeCell"
   },
   {
    "code": "self = groupbyResult\nif (type(self.index) != pd.core.indexes.range.RangeIndex):# if multi-index, then default to pandas output\n    print (\"test\")\n    index_column_name = self.index.name",
    "id": "5e39c1e5c8e740e181980e5d80cfeb44",
    "order_count": 5,
    "time": "2020-07-21T12:04:08.024Z",
    "type": "selectCodeCell"
   },
   {
    "code": "groupbyResult = df.groupby(\"Region\").sum()",
    "id": "63be682cd1e444e08c0c4d37f3406a4d",
    "order_count": 4,
    "time": "2020-07-21T12:04:08.102Z",
    "type": "selectCodeCell"
   },
   {
    "code": "df = pd.read_csv(\"lux/data/college.csv\")",
    "id": "78a539bb361149808b28db83c04c6cab",
    "order_count": 3,
    "time": "2020-07-21T12:04:08.183Z",
    "type": "selectCodeCell"
   },
   {
    "code": "import pandas as pd\n%load_ext autoreload\n%autoreload 2\nimport lux",
    "id": "7428a8a53da0452880d1e6c1d21e8324",
    "order_count": 2,
    "time": "2020-07-21T12:04:08.269Z",
    "type": "selectCodeCell"
   },
   {
    "code": "This dataset contains a total of 1295 records of American colleges and their properties, collected by the [US Department of Education](https://collegescorecard.ed.gov/data/documentation/).",
    "id": "d71c5c8d5ca64ce888dbd78140f7092b",
    "order_count": 1,
    "time": "2020-07-21T12:04:08.347Z",
    "type": "selectMarkdownCell"
   },
   {
    "code": "cd ../",
    "id": "a7da79e1a13643cab773017189810627",
    "order_count": 0,
    "time": "2020-07-21T12:04:08.436Z",
    "type": "selectCodeCell"
   },
   {
    "time": "2020-07-21T12:04:08.451Z",
    "type": "kernelReady"
   },
   {
    "time": "2020-07-21T12:04:08.455Z",
    "type": "kernelReady"
   },
   {
    "time": "2020-07-21T12:04:08.512Z",
    "type": "kernelReady"
   },
   {
    "code": "cd ../",
    "id": "a7da79e1a13643cab773017189810627",
    "order_count": 0,
    "time": "2020-07-21T12:04:08.958Z",
    "type": "executeCodeCell"
   },
   {
    "code": "This dataset contains a total of 1295 records of American colleges and their properties, collected by the [US Department of Education](https://collegescorecard.ed.gov/data/documentation/).",
    "id": "d71c5c8d5ca64ce888dbd78140f7092b",
    "order_count": 1,
    "time": "2020-07-21T12:04:08.967Z",
    "type": "selectMarkdownCell"
   },
   {
    "code": "cd ../",
    "id": "a7da79e1a13643cab773017189810627",
    "isPrintLuxDf": false,
    "isPrintPandasDf": false,
    "isPrintVis": false,
    "isPrintVisCollection": false,
    "order_count": 0,
    "time": "2020-07-21T12:04:08.987Z",
    "type": "completeCodeCell"
   },
   {
    "code": "import pandas as pd\n%load_ext autoreload\n%autoreload 2\nimport lux",
    "id": "7428a8a53da0452880d1e6c1d21e8324",
    "order_count": 2,
    "time": "2020-07-21T12:04:09.139Z",
    "type": "selectCodeCell"
   },
   {
    "code": "import pandas as pd\n%load_ext autoreload\n%autoreload 2\nimport lux",
    "id": "7428a8a53da0452880d1e6c1d21e8324",
    "order_count": 2,
    "time": "2020-07-21T12:04:09.276Z",
    "type": "executeCodeCell"
   },
   {
    "code": "df = pd.read_csv(\"lux/data/college.csv\")",
    "id": "78a539bb361149808b28db83c04c6cab",
    "order_count": 3,
    "time": "2020-07-21T12:04:09.293Z",
    "type": "selectCodeCell"
   },
   {
    "code": "df = pd.read_csv(\"lux/data/college.csv\")",
    "id": "78a539bb361149808b28db83c04c6cab",
    "order_count": 3,
    "time": "2020-07-21T12:04:09.418Z",
    "type": "executeCodeCell"
   },
   {
    "code": "groupbyResult = df.groupby(\"Region\").sum()",
    "id": "63be682cd1e444e08c0c4d37f3406a4d",
    "order_count": 4,
    "time": "2020-07-21T12:04:09.432Z",
    "type": "selectCodeCell"
   },
   {
    "code": "groupbyResult = df.groupby(\"Region\").sum()",
    "id": "63be682cd1e444e08c0c4d37f3406a4d",
    "order_count": 4,
    "time": "2020-07-21T12:04:09.545Z",
    "type": "executeCodeCell"
   },
   {
    "code": "self = groupbyResult\nif (type(self.index) != pd.core.indexes.range.RangeIndex):# if multi-index, then default to pandas output\n    print (\"test\")\n    index_column_name = self.index.name",
    "id": "5e39c1e5c8e740e181980e5d80cfeb44",
    "order_count": 5,
    "time": "2020-07-21T12:04:09.560Z",
    "type": "selectCodeCell"
   },
   {
    "code": "import pandas as pd\n%load_ext autoreload\n%autoreload 2\nimport lux",
    "id": "7428a8a53da0452880d1e6c1d21e8324",
    "isPrintLuxDf": false,
    "isPrintPandasDf": false,
    "isPrintVis": false,
    "isPrintVisCollection": false,
    "order_count": 2,
    "time": "2020-07-21T12:04:09.633Z",
    "type": "completeCodeCell"
   },
   {
    "code": "self = groupbyResult\nif (type(self.index) != pd.core.indexes.range.RangeIndex):# if multi-index, then default to pandas output\n    print (\"test\")\n    index_column_name = self.index.name",
    "id": "5e39c1e5c8e740e181980e5d80cfeb44",
    "order_count": 5,
    "time": "2020-07-21T12:04:09.666Z",
    "type": "executeCodeCell"
   },
   {
    "code": "from lux.vis.Vis import Vis\nfrom lux.compiler.Parser import Parser\nfrom lux.compiler.Validator import Validator\nfrom lux.compiler.Compiler import Compiler\n",
    "id": "ca07cdd3856841c082c7831ab613eb72",
    "order_count": 6,
    "time": "2020-07-21T12:04:09.682Z",
    "type": "selectCodeCell"
   },
   {
    "code": "df = pd.read_csv(\"lux/data/college.csv\")",
    "id": "78a539bb361149808b28db83c04c6cab",
    "isPrintLuxDf": false,
    "isPrintPandasDf": false,
    "isPrintVis": false,
    "isPrintVisCollection": false,
    "order_count": 3,
    "time": "2020-07-21T12:04:09.695Z",
    "type": "completeCodeCell"
   },
   {
    "code": "groupbyResult = df.groupby(\"Region\").sum()",
    "id": "63be682cd1e444e08c0c4d37f3406a4d",
    "isPrintLuxDf": false,
    "isPrintPandasDf": false,
    "isPrintVis": false,
    "isPrintVisCollection": false,
    "order_count": 4,
    "time": "2020-07-21T12:04:09.699Z",
    "type": "completeCodeCell"
   },
   {
    "code": "self = groupbyResult\nif (type(self.index) != pd.core.indexes.range.RangeIndex):# if multi-index, then default to pandas output\n    print (\"test\")\n    index_column_name = self.index.name",
    "id": "5e39c1e5c8e740e181980e5d80cfeb44",
    "isPrintLuxDf": false,
    "isPrintPandasDf": false,
    "isPrintVis": false,
    "isPrintVisCollection": false,
    "order_count": 5,
    "time": "2020-07-21T12:04:09.712Z",
    "type": "completeCodeCell"
   },
   {
    "code": "from lux.vis.Vis import Vis\nfrom lux.compiler.Parser import Parser\nfrom lux.compiler.Validator import Validator\nfrom lux.compiler.Compiler import Compiler\n",
    "id": "ca07cdd3856841c082c7831ab613eb72",
    "order_count": 6,
    "time": "2020-07-21T12:04:09.900Z",
    "type": "executeCodeCell"
   },
   {
    "code": "for attribute in self.columns:\n    vis = Vis([index_column_name,lux.Clause(attribute,aggregation=None)],self[attribute].reset_index())\n    display(vis)",
    "id": "5f54f55b856742dc8bddf0782da7c89c",
    "order_count": 7,
    "time": "2020-07-21T12:04:09.941Z",
    "type": "selectCodeCell"
   },
   {
    "code": "from lux.vis.Vis import Vis\nfrom lux.compiler.Parser import Parser\nfrom lux.compiler.Validator import Validator\nfrom lux.compiler.Compiler import Compiler\n",
    "id": "ca07cdd3856841c082c7831ab613eb72",
    "isPrintLuxDf": false,
    "isPrintPandasDf": false,
    "isPrintVis": false,
    "isPrintVisCollection": false,
    "order_count": 6,
    "time": "2020-07-21T12:04:09.950Z",
    "type": "completeCodeCell"
   },
   {
    "code": "for attribute in self.columns:\n    vis = Vis([index_column_name,lux.Clause(attribute,aggregation=None)],self[attribute].reset_index())\n    display(vis)",
    "id": "5f54f55b856742dc8bddf0782da7c89c",
    "order_count": 7,
    "time": "2020-07-21T12:04:10.275Z",
    "type": "executeCodeCell"
   },
   {
    "code": "vis",
    "id": "1aadd727d5224d57a0d72ae866d4d9b4",
    "order_count": 8,
    "time": "2020-07-21T12:04:10.291Z",
    "type": "selectCodeCell"
   },
   {
    "param": "",
    "time": "2020-07-21T12:04:10.368Z",
    "type": "initWidget"
   },
   {
    "param": "",
    "time": "2020-07-21T12:04:10.416Z",
    "type": "initWidget"
   },
   {
    "param": "",
    "time": "2020-07-21T12:04:10.468Z",
    "type": "initWidget"
   },
   {
    "param": "",
    "time": "2020-07-21T12:04:10.532Z",
    "type": "initWidget"
   },
   {
    "param": "",
    "time": "2020-07-21T12:04:10.571Z",
    "type": "initWidget"
   },
   {
    "param": "",
    "time": "2020-07-21T12:04:10.605Z",
    "type": "initWidget"
   },
   {
    "param": "",
    "time": "2020-07-21T12:04:10.657Z",
    "type": "initWidget"
   },
   {
    "param": "",
    "time": "2020-07-21T12:04:10.692Z",
    "type": "initWidget"
   },
   {
    "param": "",
    "time": "2020-07-21T12:04:10.721Z",
    "type": "initWidget"
   },
   {
    "code": "for attribute in self.columns:\n    vis = Vis([index_column_name,lux.Clause(attribute,aggregation=None)],self[attribute].reset_index())\n    display(vis)",
    "id": "5f54f55b856742dc8bddf0782da7c89c",
    "isPrintLuxDf": false,
    "isPrintPandasDf": false,
    "isPrintVis": false,
    "isPrintVisCollection": false,
    "order_count": 7,
    "time": "2020-07-21T12:04:10.744Z",
    "type": "completeCodeCell"
   },
   {
    "param": "",
    "time": "2020-07-21T12:04:10.746Z",
    "type": "initWidget"
   },
   {
    "code": "for attribute in self.columns:\n    vis = Vis([index_column_name,lux.Clause(attribute,aggregation=None)],self[attribute].reset_index())\n    display(vis)",
    "id": "5f54f55b856742dc8bddf0782da7c89c",
    "order_count": 7,
    "time": "2020-07-21T12:06:01.453Z",
    "type": "selectCodeCell"
   },
   {
    "time": "2020-07-21T12:06:03.034Z",
    "type": "kernelRestart"
   },
   {
    "time": "2020-07-21T12:06:03.163Z",
    "type": "kernelRestart"
   },
   {
    "code": "from lux.vis.Vis import Vis\nfrom lux.compiler.Parser import Parser\nfrom lux.compiler.Validator import Validator\nfrom lux.compiler.Compiler import Compiler\n",
    "id": "ca07cdd3856841c082c7831ab613eb72",
    "order_count": 6,
    "time": "2020-07-21T12:06:03.593Z",
    "type": "selectCodeCell"
   },
   {
    "code": "self = groupbyResult\nif (type(self.index) != pd.core.indexes.range.RangeIndex):# if multi-index, then default to pandas output\n    print (\"test\")\n    index_column_name = self.index.name",
    "id": "5e39c1e5c8e740e181980e5d80cfeb44",
    "order_count": 5,
    "time": "2020-07-21T12:06:04.097Z",
    "type": "selectCodeCell"
   },
   {
    "code": "groupbyResult = df.groupby(\"Region\").sum()",
    "id": "63be682cd1e444e08c0c4d37f3406a4d",
    "order_count": 4,
    "time": "2020-07-21T12:06:04.176Z",
    "type": "selectCodeCell"
   },
   {
    "code": "df = pd.read_csv(\"lux/data/college.csv\")",
    "id": "78a539bb361149808b28db83c04c6cab",
    "order_count": 3,
    "time": "2020-07-21T12:06:04.256Z",
    "type": "selectCodeCell"
   },
   {
    "code": "import pandas as pd\n%load_ext autoreload\n%autoreload 2\nimport lux",
    "id": "7428a8a53da0452880d1e6c1d21e8324",
    "order_count": 2,
    "time": "2020-07-21T12:06:04.344Z",
    "type": "selectCodeCell"
   },
   {
    "code": "This dataset contains a total of 1295 records of American colleges and their properties, collected by the [US Department of Education](https://collegescorecard.ed.gov/data/documentation/).",
    "id": "d71c5c8d5ca64ce888dbd78140f7092b",
    "order_count": 1,
    "time": "2020-07-21T12:06:04.419Z",
    "type": "selectMarkdownCell"
   },
   {
    "code": "cd ../",
    "id": "a7da79e1a13643cab773017189810627",
    "order_count": 0,
    "time": "2020-07-21T12:06:04.509Z",
    "type": "selectCodeCell"
   },
   {
    "time": "2020-07-21T12:06:04.584Z",
    "type": "kernelReady"
   },
   {
    "code": "cd ../",
    "id": "a7da79e1a13643cab773017189810627",
    "order_count": 0,
    "time": "2020-07-21T12:06:04.909Z",
    "type": "executeCodeCell"
   },
   {
    "code": "This dataset contains a total of 1295 records of American colleges and their properties, collected by the [US Department of Education](https://collegescorecard.ed.gov/data/documentation/).",
    "id": "d71c5c8d5ca64ce888dbd78140f7092b",
    "order_count": 1,
    "time": "2020-07-21T12:06:04.916Z",
    "type": "selectMarkdownCell"
   },
   {
    "code": "import pandas as pd\n%load_ext autoreload\n%autoreload 2\nimport lux",
    "id": "7428a8a53da0452880d1e6c1d21e8324",
    "order_count": 2,
    "time": "2020-07-21T12:06:05.091Z",
    "type": "selectCodeCell"
   },
   {
    "code": "import pandas as pd\n%load_ext autoreload\n%autoreload 2\nimport lux",
    "id": "7428a8a53da0452880d1e6c1d21e8324",
    "order_count": 2,
    "time": "2020-07-21T12:06:05.195Z",
    "type": "executeCodeCell"
   },
   {
    "code": "df = pd.read_csv(\"lux/data/college.csv\")",
    "id": "78a539bb361149808b28db83c04c6cab",
    "order_count": 3,
    "time": "2020-07-21T12:06:05.209Z",
    "type": "selectCodeCell"
   },
   {
    "code": "df = pd.read_csv(\"lux/data/college.csv\")",
    "id": "78a539bb361149808b28db83c04c6cab",
    "order_count": 3,
    "time": "2020-07-21T12:06:05.363Z",
    "type": "executeCodeCell"
   },
   {
    "code": "groupbyResult = df.groupby(\"Region\").sum()",
    "id": "63be682cd1e444e08c0c4d37f3406a4d",
    "order_count": 4,
    "time": "2020-07-21T12:06:05.374Z",
    "type": "selectCodeCell"
   },
   {
    "code": "groupbyResult = df.groupby(\"Region\").sum()",
    "id": "63be682cd1e444e08c0c4d37f3406a4d",
    "order_count": 4,
    "time": "2020-07-21T12:06:05.500Z",
    "type": "executeCodeCell"
   },
   {
    "code": "self = groupbyResult\nif (type(self.index) != pd.core.indexes.range.RangeIndex):# if multi-index, then default to pandas output\n    print (\"test\")\n    index_column_name = self.index.name",
    "id": "5e39c1e5c8e740e181980e5d80cfeb44",
    "order_count": 5,
    "time": "2020-07-21T12:06:05.512Z",
    "type": "selectCodeCell"
   },
   {
    "code": "self = groupbyResult\nif (type(self.index) != pd.core.indexes.range.RangeIndex):# if multi-index, then default to pandas output\n    print (\"test\")\n    index_column_name = self.index.name",
    "id": "5e39c1e5c8e740e181980e5d80cfeb44",
    "order_count": 5,
    "time": "2020-07-21T12:06:05.636Z",
    "type": "executeCodeCell"
   },
   {
    "code": "from lux.vis.Vis import Vis\nfrom lux.compiler.Parser import Parser\nfrom lux.compiler.Validator import Validator\nfrom lux.compiler.Compiler import Compiler\n",
    "id": "ca07cdd3856841c082c7831ab613eb72",
    "order_count": 6,
    "time": "2020-07-21T12:06:05.656Z",
    "type": "selectCodeCell"
   },
   {
    "code": "from lux.vis.Vis import Vis\nfrom lux.compiler.Parser import Parser\nfrom lux.compiler.Validator import Validator\nfrom lux.compiler.Compiler import Compiler\n",
    "id": "ca07cdd3856841c082c7831ab613eb72",
    "order_count": 6,
    "time": "2020-07-21T12:06:05.771Z",
    "type": "executeCodeCell"
   },
   {
    "code": "for attribute in self.columns:\n    vis = Vis([index_column_name,lux.Clause(attribute,aggregation=None)],self[attribute].reset_index())\n    display(vis)",
    "id": "5f54f55b856742dc8bddf0782da7c89c",
    "order_count": 7,
    "time": "2020-07-21T12:06:05.788Z",
    "type": "selectCodeCell"
   },
   {
    "code": "for attribute in self.columns:\n    vis = Vis([index_column_name,lux.Clause(attribute,aggregation=None)],self[attribute].reset_index())\n    display(vis)",
    "id": "5f54f55b856742dc8bddf0782da7c89c",
    "order_count": 7,
    "time": "2020-07-21T12:06:05.909Z",
    "type": "executeCodeCell"
   },
   {
    "code": "vis",
    "id": "1aadd727d5224d57a0d72ae866d4d9b4",
    "order_count": 8,
    "time": "2020-07-21T12:06:05.920Z",
    "type": "selectCodeCell"
   },
   {
    "code": "vis",
    "id": "1aadd727d5224d57a0d72ae866d4d9b4",
    "order_count": 8,
    "time": "2020-07-21T12:07:13.516Z",
    "type": "selectCodeCell"
   },
   {
    "code": "vis",
    "id": "1aadd727d5224d57a0d72ae866d4d9b4",
    "order_count": 8,
    "time": "2020-07-21T12:07:17.269Z",
    "type": "selectCodeCell"
   },
   {
    "code": "vis",
    "id": "1aadd727d5224d57a0d72ae866d4d9b4",
    "order_count": 8,
    "time": "2020-07-21T12:07:17.589Z",
    "type": "selectCodeCell"
   },
   {
    "code": "for attribute in self.columns:\n    vis = Vis([index_column_name,lux.Clause(attribute,aggregation=None)],self[attribute].reset_index())\n    display(vis)",
    "id": "5f54f55b856742dc8bddf0782da7c89c",
    "order_count": 7,
    "time": "2020-07-21T12:07:18.006Z",
    "type": "selectCodeCell"
   },
   {
    "code": "for attribute in self.columns:\n    vis = Vis([index_column_name,lux.Clause(attribute,aggregation=None)],self[attribute].reset_index())\n    display(vis)",
    "id": "5f54f55b856742dc8bddf0782da7c89c",
    "order_count": 7,
    "time": "2020-07-21T12:07:18.014Z",
    "type": "editCodeCell"
   },
   {
    "time": "2020-07-21T12:07:20.487Z",
    "type": "kernelRestart"
   },
   {
    "time": "2020-07-21T12:07:21.175Z",
    "type": "kernelReady"
   },
   {
    "code": "from lux.vis.Vis import Vis\nfrom lux.compiler.Parser import Parser\nfrom lux.compiler.Validator import Validator\nfrom lux.compiler.Compiler import Compiler\n",
    "id": "ca07cdd3856841c082c7831ab613eb72",
    "order_count": 6,
    "time": "2020-07-21T12:07:21.558Z",
    "type": "selectCodeCell"
   },
   {
    "code": "self = groupbyResult\nif (type(self.index) != pd.core.indexes.range.RangeIndex):# if multi-index, then default to pandas output\n    print (\"test\")\n    index_column_name = self.index.name",
    "id": "5e39c1e5c8e740e181980e5d80cfeb44",
    "order_count": 5,
    "time": "2020-07-21T12:07:22.061Z",
    "type": "selectCodeCell"
   },
   {
    "code": "groupbyResult = df.groupby(\"Region\").sum()",
    "id": "63be682cd1e444e08c0c4d37f3406a4d",
    "order_count": 4,
    "time": "2020-07-21T12:07:22.141Z",
    "type": "selectCodeCell"
   },
   {
    "code": "df = pd.read_csv(\"lux/data/college.csv\")",
    "id": "78a539bb361149808b28db83c04c6cab",
    "order_count": 3,
    "time": "2020-07-21T12:07:22.223Z",
    "type": "selectCodeCell"
   },
   {
    "code": "import pandas as pd\n%load_ext autoreload\n%autoreload 2\nimport lux",
    "id": "7428a8a53da0452880d1e6c1d21e8324",
    "order_count": 2,
    "time": "2020-07-21T12:07:22.310Z",
    "type": "selectCodeCell"
   },
   {
    "code": "This dataset contains a total of 1295 records of American colleges and their properties, collected by the [US Department of Education](https://collegescorecard.ed.gov/data/documentation/).",
    "id": "d71c5c8d5ca64ce888dbd78140f7092b",
    "order_count": 1,
    "time": "2020-07-21T12:07:22.387Z",
    "type": "selectMarkdownCell"
   },
   {
    "code": "cd ../",
    "id": "a7da79e1a13643cab773017189810627",
    "order_count": 0,
    "time": "2020-07-21T12:07:22.471Z",
    "type": "selectCodeCell"
   },
   {
    "code": "cd ../",
    "id": "a7da79e1a13643cab773017189810627",
    "order_count": 0,
    "time": "2020-07-21T12:07:22.944Z",
    "type": "executeCodeCell"
   },
   {
    "code": "This dataset contains a total of 1295 records of American colleges and their properties, collected by the [US Department of Education](https://collegescorecard.ed.gov/data/documentation/).",
    "id": "d71c5c8d5ca64ce888dbd78140f7092b",
    "order_count": 1,
    "time": "2020-07-21T12:07:22.953Z",
    "type": "selectMarkdownCell"
   },
   {
    "code": "cd ../",
    "id": "a7da79e1a13643cab773017189810627",
    "isPrintLuxDf": false,
    "isPrintPandasDf": false,
    "isPrintVis": false,
    "isPrintVisCollection": false,
    "order_count": 0,
    "time": "2020-07-21T12:07:22.962Z",
    "type": "completeCodeCell"
   },
   {
    "code": "cd ../",
    "id": "a7da79e1a13643cab773017189810627",
    "isPrintLuxDf": false,
    "isPrintPandasDf": false,
    "isPrintVis": false,
    "isPrintVisCollection": false,
    "order_count": 0,
    "time": "2020-07-21T12:07:22.962Z",
    "type": "completeCodeCell"
   },
   {
    "code": "import pandas as pd\n%load_ext autoreload\n%autoreload 2\nimport lux",
    "id": "7428a8a53da0452880d1e6c1d21e8324",
    "order_count": 2,
    "time": "2020-07-21T12:07:23.167Z",
    "type": "selectCodeCell"
   },
   {
    "code": "import pandas as pd\n%load_ext autoreload\n%autoreload 2\nimport lux",
    "id": "7428a8a53da0452880d1e6c1d21e8324",
    "order_count": 2,
    "time": "2020-07-21T12:07:23.385Z",
    "type": "executeCodeCell"
   },
   {
    "code": "df = pd.read_csv(\"lux/data/college.csv\")",
    "id": "78a539bb361149808b28db83c04c6cab",
    "order_count": 3,
    "time": "2020-07-21T12:07:23.400Z",
    "type": "selectCodeCell"
   },
   {
    "code": "df = pd.read_csv(\"lux/data/college.csv\")",
    "id": "78a539bb361149808b28db83c04c6cab",
    "order_count": 3,
    "time": "2020-07-21T12:07:23.598Z",
    "type": "executeCodeCell"
   },
   {
    "code": "groupbyResult = df.groupby(\"Region\").sum()",
    "id": "63be682cd1e444e08c0c4d37f3406a4d",
    "order_count": 4,
    "time": "2020-07-21T12:07:23.611Z",
    "type": "selectCodeCell"
   },
   {
    "code": "import pandas as pd\n%load_ext autoreload\n%autoreload 2\nimport lux",
    "id": "7428a8a53da0452880d1e6c1d21e8324",
    "isPrintLuxDf": false,
    "isPrintPandasDf": false,
    "isPrintVis": false,
    "isPrintVisCollection": false,
    "order_count": 2,
    "time": "2020-07-21T12:07:23.769Z",
    "type": "completeCodeCell"
   },
   {
    "code": "import pandas as pd\n%load_ext autoreload\n%autoreload 2\nimport lux",
    "id": "7428a8a53da0452880d1e6c1d21e8324",
    "isPrintLuxDf": false,
    "isPrintPandasDf": false,
    "isPrintVis": false,
    "isPrintVisCollection": false,
    "order_count": 2,
    "time": "2020-07-21T12:07:23.770Z",
    "type": "completeCodeCell"
   },
   {
    "code": "df = pd.read_csv(\"lux/data/college.csv\")",
    "id": "78a539bb361149808b28db83c04c6cab",
    "isPrintLuxDf": false,
    "isPrintPandasDf": false,
    "isPrintVis": false,
    "isPrintVisCollection": false,
    "order_count": 3,
    "time": "2020-07-21T12:07:23.802Z",
    "type": "completeCodeCell"
   },
   {
    "code": "df = pd.read_csv(\"lux/data/college.csv\")",
    "id": "78a539bb361149808b28db83c04c6cab",
    "isPrintLuxDf": false,
    "isPrintPandasDf": false,
    "isPrintVis": false,
    "isPrintVisCollection": false,
    "order_count": 3,
    "time": "2020-07-21T12:07:23.802Z",
    "type": "completeCodeCell"
   },
   {
    "code": "groupbyResult = df.groupby(\"Region\").sum()",
    "id": "63be682cd1e444e08c0c4d37f3406a4d",
    "order_count": 4,
    "time": "2020-07-21T12:07:23.805Z",
    "type": "executeCodeCell"
   },
   {
    "code": "self = groupbyResult\nif (type(self.index) != pd.core.indexes.range.RangeIndex):# if multi-index, then default to pandas output\n    print (\"test\")\n    index_column_name = self.index.name",
    "id": "5e39c1e5c8e740e181980e5d80cfeb44",
    "order_count": 5,
    "time": "2020-07-21T12:07:23.821Z",
    "type": "selectCodeCell"
   },
   {
    "code": "groupbyResult = df.groupby(\"Region\").sum()",
    "id": "63be682cd1e444e08c0c4d37f3406a4d",
    "isPrintLuxDf": false,
    "isPrintPandasDf": false,
    "isPrintVis": false,
    "isPrintVisCollection": false,
    "order_count": 4,
    "time": "2020-07-21T12:07:23.845Z",
    "type": "completeCodeCell"
   },
   {
    "code": "groupbyResult = df.groupby(\"Region\").sum()",
    "id": "63be682cd1e444e08c0c4d37f3406a4d",
    "isPrintLuxDf": false,
    "isPrintPandasDf": false,
    "isPrintVis": false,
    "isPrintVisCollection": false,
    "order_count": 4,
    "time": "2020-07-21T12:07:23.845Z",
    "type": "completeCodeCell"
   },
   {
    "code": "self = groupbyResult\nif (type(self.index) != pd.core.indexes.range.RangeIndex):# if multi-index, then default to pandas output\n    print (\"test\")\n    index_column_name = self.index.name",
    "id": "5e39c1e5c8e740e181980e5d80cfeb44",
    "order_count": 5,
    "time": "2020-07-21T12:07:24.062Z",
    "type": "executeCodeCell"
   },
   {
    "code": "from lux.vis.Vis import Vis\nfrom lux.compiler.Parser import Parser\nfrom lux.compiler.Validator import Validator\nfrom lux.compiler.Compiler import Compiler\n",
    "id": "ca07cdd3856841c082c7831ab613eb72",
    "order_count": 6,
    "time": "2020-07-21T12:07:24.082Z",
    "type": "selectCodeCell"
   },
   {
    "code": "self = groupbyResult\nif (type(self.index) != pd.core.indexes.range.RangeIndex):# if multi-index, then default to pandas output\n    print (\"test\")\n    index_column_name = self.index.name",
    "id": "5e39c1e5c8e740e181980e5d80cfeb44",
    "isPrintLuxDf": false,
    "isPrintPandasDf": false,
    "isPrintVis": false,
    "isPrintVisCollection": false,
    "order_count": 5,
    "time": "2020-07-21T12:07:24.088Z",
    "type": "completeCodeCell"
   },
   {
    "code": "self = groupbyResult\nif (type(self.index) != pd.core.indexes.range.RangeIndex):# if multi-index, then default to pandas output\n    print (\"test\")\n    index_column_name = self.index.name",
    "id": "5e39c1e5c8e740e181980e5d80cfeb44",
    "isPrintLuxDf": false,
    "isPrintPandasDf": false,
    "isPrintVis": false,
    "isPrintVisCollection": false,
    "order_count": 5,
    "time": "2020-07-21T12:07:24.089Z",
    "type": "completeCodeCell"
   },
   {
    "code": "from lux.vis.Vis import Vis\nfrom lux.compiler.Parser import Parser\nfrom lux.compiler.Validator import Validator\nfrom lux.compiler.Compiler import Compiler\n",
    "id": "ca07cdd3856841c082c7831ab613eb72",
    "order_count": 6,
    "time": "2020-07-21T12:07:24.255Z",
    "type": "executeCodeCell"
   },
   {
    "code": "for attribute in self.columns:\n    vis = Vis([index_column_name,lux.Clause(attribute,aggregation=None)],self[attribute].reset_index())\n    display(vis)",
    "id": "5f54f55b856742dc8bddf0782da7c89c",
    "order_count": 7,
    "time": "2020-07-21T12:07:24.272Z",
    "type": "selectCodeCell"
   },
   {
    "code": "from lux.vis.Vis import Vis\nfrom lux.compiler.Parser import Parser\nfrom lux.compiler.Validator import Validator\nfrom lux.compiler.Compiler import Compiler\n",
    "id": "ca07cdd3856841c082c7831ab613eb72",
    "isPrintLuxDf": false,
    "isPrintPandasDf": false,
    "isPrintVis": false,
    "isPrintVisCollection": false,
    "order_count": 6,
    "time": "2020-07-21T12:07:24.278Z",
    "type": "completeCodeCell"
   },
   {
    "code": "from lux.vis.Vis import Vis\nfrom lux.compiler.Parser import Parser\nfrom lux.compiler.Validator import Validator\nfrom lux.compiler.Compiler import Compiler\n",
    "id": "ca07cdd3856841c082c7831ab613eb72",
    "isPrintLuxDf": false,
    "isPrintPandasDf": false,
    "isPrintVis": false,
    "isPrintVisCollection": false,
    "order_count": 6,
    "time": "2020-07-21T12:07:24.279Z",
    "type": "completeCodeCell"
   },
   {
    "code": "for attribute in self.columns:\n    vis = Vis([index_column_name,lux.Clause(attribute,aggregation=None)],self[attribute].reset_index())\n    display(vis)",
    "id": "5f54f55b856742dc8bddf0782da7c89c",
    "order_count": 7,
    "time": "2020-07-21T12:07:24.536Z",
    "type": "executeCodeCell"
   },
   {
    "code": "vis",
    "id": "1aadd727d5224d57a0d72ae866d4d9b4",
    "order_count": 8,
    "time": "2020-07-21T12:07:24.552Z",
    "type": "selectCodeCell"
   },
   {
    "param": "",
    "time": "2020-07-21T12:07:24.649Z",
    "type": "initWidget"
   },
   {
    "param": "",
    "time": "2020-07-21T12:07:24.698Z",
    "type": "initWidget"
   },
   {
    "param": "",
    "time": "2020-07-21T12:07:24.733Z",
    "type": "initWidget"
   },
   {
    "param": "",
    "time": "2020-07-21T12:07:24.761Z",
    "type": "initWidget"
   },
   {
    "param": "",
    "time": "2020-07-21T12:07:24.798Z",
    "type": "initWidget"
   },
   {
    "param": "",
    "time": "2020-07-21T12:07:24.847Z",
    "type": "initWidget"
   },
   {
    "param": "",
    "time": "2020-07-21T12:07:24.872Z",
    "type": "initWidget"
   },
   {
    "param": "",
    "time": "2020-07-21T12:07:24.885Z",
    "type": "initWidget"
   },
   {
    "param": "",
    "time": "2020-07-21T12:07:24.915Z",
    "type": "initWidget"
   },
   {
    "code": "for attribute in self.columns:\n    vis = Vis([index_column_name,lux.Clause(attribute,aggregation=None)],self[attribute].reset_index())\n    display(vis)",
    "id": "5f54f55b856742dc8bddf0782da7c89c",
    "isPrintLuxDf": false,
    "isPrintPandasDf": false,
    "isPrintVis": false,
    "isPrintVisCollection": false,
    "order_count": 7,
    "time": "2020-07-21T12:07:24.934Z",
    "type": "completeCodeCell"
   },
   {
    "code": "for attribute in self.columns:\n    vis = Vis([index_column_name,lux.Clause(attribute,aggregation=None)],self[attribute].reset_index())\n    display(vis)",
    "id": "5f54f55b856742dc8bddf0782da7c89c",
    "isPrintLuxDf": false,
    "isPrintPandasDf": false,
    "isPrintVis": false,
    "isPrintVisCollection": false,
    "order_count": 7,
    "time": "2020-07-21T12:07:24.934Z",
    "type": "completeCodeCell"
   },
   {
    "param": "",
    "time": "2020-07-21T12:07:24.953Z",
    "type": "initWidget"
   },
   {
    "code": "for attribute in self.columns:\n    vis = Vis([index_column_name,lux.Clause(attribute,aggregation=None)],self[attribute].reset_index())\n    display(vis)",
    "id": "5f54f55b856742dc8bddf0782da7c89c",
    "order_count": 7,
    "time": "2020-07-21T12:11:13.875Z",
    "type": "selectCodeCell"
   },
   {
    "code": "for attribute in self.columns:\n    vis = Vis([index_column_name,lux.Clause(attribute,aggregation=None)],self[attribute].reset_index())\n    display(vis)",
    "id": "5f54f55b856742dc8bddf0782da7c89c",
    "order_count": 7,
    "time": "2020-07-21T12:11:13.885Z",
    "type": "editCodeCell"
   },
   {
    "code": "for attribute in self.columns:\n    vis = Vis([index_column_name,lux.Clause(attribute,aggregation=None)],self[attribute].reset_index())\n    display(vis)",
    "id": "5f54f55b856742dc8bddf0782da7c89c",
    "order_count": 7,
    "time": "2020-07-21T12:14:30.306Z",
    "type": "editCodeCell"
   },
   {
    "code": "for attribute in self.columns:\n    vis = Vis([index_column_name,lux.Clause(attribute,aggregation=None)],self[attribute].reset_index())\n    display(vis)",
    "id": "5f54f55b856742dc8bddf0782da7c89c",
    "order_count": 7,
    "time": "2020-07-21T12:14:30.680Z",
    "type": "selectCodeCell"
   },
   {
    "code": "",
    "id": "cd49d1c0cca745eeb073a263cddd396b",
    "order_count": 7,
    "time": "2020-07-21T12:14:31.422Z",
    "type": "selectCodeCell"
   },
   {
    "code": "",
    "id": "cd49d1c0cca745eeb073a263cddd396b",
    "order_count": 7,
    "time": "2020-07-21T12:14:31.649Z",
    "type": "editCodeCell"
   },
   {
    "code": "self",
    "id": "cd49d1c0cca745eeb073a263cddd396b",
    "order_count": 7,
    "time": "2020-07-21T12:14:37.035Z",
    "type": "executeCodeCell"
   },
   {
    "code": "for attribute in self.columns:\n    vis = Vis([index_column_name,lux.Clause(attribute,aggregation=None)],self[attribute].reset_index())\n    display(vis)",
    "id": "5f54f55b856742dc8bddf0782da7c89c",
    "order_count": 8,
    "time": "2020-07-21T12:14:37.079Z",
    "type": "selectCodeCell"
   },
   {
    "code": "self",
    "id": "cd49d1c0cca745eeb073a263cddd396b",
    "isPrintLuxDf": false,
    "isPrintPandasDf": true,
    "isPrintVis": false,
    "isPrintVisCollection": false,
    "order_count": 7,
    "time": "2020-07-21T12:14:37.098Z",
    "type": "completeCodeCell"
   },
   {
    "code": "self",
    "id": "cd49d1c0cca745eeb073a263cddd396b",
    "order_count": 7,
    "time": "2020-07-21T12:14:37.859Z",
    "type": "selectCodeCell"
   },
   {
    "code": "self",
    "id": "cd49d1c0cca745eeb073a263cddd396b",
    "order_count": 7,
    "time": "2020-07-21T12:14:38.804Z",
    "type": "editCodeCell"
   },
   {
    "code": "len(self)",
    "id": "cd49d1c0cca745eeb073a263cddd396b",
    "order_count": 7,
    "time": "2020-07-21T12:14:43.099Z",
    "type": "executeCodeCell"
   },
   {
    "code": "for attribute in self.columns:\n    vis = Vis([index_column_name,lux.Clause(attribute,aggregation=None)],self[attribute].reset_index())\n    display(vis)",
    "id": "5f54f55b856742dc8bddf0782da7c89c",
    "order_count": 8,
    "time": "2020-07-21T12:14:43.141Z",
    "type": "selectCodeCell"
   },
   {
    "code": "len(self)",
    "id": "cd49d1c0cca745eeb073a263cddd396b",
    "isPrintLuxDf": false,
    "isPrintPandasDf": false,
    "isPrintVis": false,
    "isPrintVisCollection": false,
    "order_count": 7,
    "time": "2020-07-21T12:14:43.157Z",
    "type": "completeCodeCell"
   },
   {
    "code": "len(self)",
    "id": "cd49d1c0cca745eeb073a263cddd396b",
    "order_count": 7,
    "time": "2020-07-21T12:14:43.725Z",
    "type": "selectCodeCell"
   },
   {
    "code": "len(self)",
    "id": "cd49d1c0cca745eeb073a263cddd396b",
    "order_count": 7,
    "time": "2020-07-21T12:14:43.962Z",
    "type": "editCodeCell"
   },
   {
    "code": "len(self)<10",
    "id": "cd49d1c0cca745eeb073a263cddd396b",
    "order_count": 7,
    "time": "2020-07-21T12:14:51.977Z",
    "type": "executeCodeCell"
   },
   {
    "code": "for attribute in self.columns:\n    vis = Vis([index_column_name,lux.Clause(attribute,aggregation=None)],self[attribute].reset_index())\n    display(vis)",
    "id": "5f54f55b856742dc8bddf0782da7c89c",
    "order_count": 8,
    "time": "2020-07-21T12:14:52.020Z",
    "type": "selectCodeCell"
   },
   {
    "code": "len(self)<10",
    "id": "cd49d1c0cca745eeb073a263cddd396b",
    "isPrintLuxDf": false,
    "isPrintPandasDf": false,
    "isPrintVis": false,
    "isPrintVisCollection": false,
    "order_count": 7,
    "time": "2020-07-21T12:14:52.035Z",
    "type": "completeCodeCell"
   },
   {
    "code": "len(self)<10",
    "id": "cd49d1c0cca745eeb073a263cddd396b",
    "order_count": 7,
    "time": "2020-07-21T12:14:52.656Z",
    "type": "selectCodeCell"
   },
   {
    "code": "self = groupbyResult\nif (type(self.index) != pd.core.indexes.range.RangeIndex):# if multi-index, then default to pandas output\n    print (\"test\")\n    index_column_name = self.index.name",
    "id": "5e39c1e5c8e740e181980e5d80cfeb44",
    "order_count": 5,
    "time": "2020-07-21T12:14:57.570Z",
    "type": "selectCodeCell"
   },
   {
    "code": "self = groupbyResult\nif (type(self.index) != pd.core.indexes.range.RangeIndex):# if multi-index, then default to pandas output\n    print (\"test\")\n    index_column_name = self.index.name",
    "id": "5e39c1e5c8e740e181980e5d80cfeb44",
    "order_count": 5,
    "time": "2020-07-21T12:14:57.578Z",
    "type": "editCodeCell"
   },
   {
    "code": "len(self)<10",
    "id": "cd49d1c0cca745eeb073a263cddd396b",
    "order_count": 7,
    "time": "2020-07-21T12:15:01.296Z",
    "type": "selectCodeCell"
   },
   {
    "code": "",
    "id": "a4c2e57168e948c98886200a5c7659dd",
    "order_count": 7,
    "time": "2020-07-21T12:15:01.507Z",
    "type": "selectCodeCell"
   },
   {
    "code": "",
    "id": "a4c2e57168e948c98886200a5c7659dd",
    "order_count": 7,
    "time": "2020-07-21T12:15:02.050Z",
    "type": "editCodeCell"
   },
   {
    "code": "type(self.index) != pd.core.indexes.range.RangeIndex",
    "id": "a4c2e57168e948c98886200a5c7659dd",
    "order_count": 7,
    "time": "2020-07-21T12:15:03.756Z",
    "type": "executeCodeCell"
   },
   {
    "code": "len(self)<10",
    "id": "cd49d1c0cca745eeb073a263cddd396b",
    "order_count": 8,
    "time": "2020-07-21T12:15:03.795Z",
    "type": "selectCodeCell"
   },
   {
    "code": "type(self.index) != pd.core.indexes.range.RangeIndex",
    "id": "a4c2e57168e948c98886200a5c7659dd",
    "isPrintLuxDf": false,
    "isPrintPandasDf": false,
    "isPrintVis": false,
    "isPrintVisCollection": false,
    "order_count": 7,
    "time": "2020-07-21T12:15:03.803Z",
    "type": "completeCodeCell"
   },
   {
    "code": "type(self.index) != pd.core.indexes.range.RangeIndex",
    "id": "a4c2e57168e948c98886200a5c7659dd",
    "order_count": 7,
    "time": "2020-07-21T12:15:04.417Z",
    "type": "selectCodeCell"
   },
   {
    "code": "type(self.index) != pd.core.indexes.range.RangeIndex",
    "id": "a4c2e57168e948c98886200a5c7659dd",
    "order_count": 7,
    "time": "2020-07-21T12:15:04.778Z",
    "type": "editCodeCell"
   },
   {
    "code": "len(self)<10",
    "id": "cd49d1c0cca745eeb073a263cddd396b",
    "order_count": null,
    "time": "2020-07-21T12:15:09.345Z",
    "type": "deleteCodeCell"
   },
   {
    "code": "type(self.index) != pd.core.indexes.range.RangeIndex\n\nlen(self)<10",
    "id": "a4c2e57168e948c98886200a5c7659dd",
    "order_count": 7,
    "time": "2020-07-21T12:15:09.708Z",
    "type": "editCodeCell"
   },
   {
    "code": "not_range_index_flag = type(self.index) != pd.core.indexes.range.RangeIndex\nsmall_df_flag = len(self)<10",
    "id": "a4c2e57168e948c98886200a5c7659dd",
    "order_count": 7,
    "time": "2020-07-21T12:15:45.604Z",
    "type": "executeCodeCell"
   },
   {
    "code": "for attribute in self.columns:\n    vis = Vis([index_column_name,lux.Clause(attribute,aggregation=None)],self[attribute].reset_index())\n    display(vis)",
    "id": "5f54f55b856742dc8bddf0782da7c89c",
    "order_count": 8,
    "time": "2020-07-21T12:15:45.649Z",
    "type": "selectCodeCell"
   },
   {
    "code": "not_range_index_flag = type(self.index) != pd.core.indexes.range.RangeIndex\nsmall_df_flag = len(self)<10",
    "id": "a4c2e57168e948c98886200a5c7659dd",
    "isPrintLuxDf": false,
    "isPrintPandasDf": false,
    "isPrintVis": false,
    "isPrintVisCollection": false,
    "order_count": 7,
    "time": "2020-07-21T12:15:45.671Z",
    "type": "completeCodeCell"
   },
   {
    "code": "not_range_index_flag = type(self.index) != pd.core.indexes.range.RangeIndex\nsmall_df_flag = len(self)<10",
    "id": "a4c2e57168e948c98886200a5c7659dd",
    "order_count": 7,
    "time": "2020-07-21T12:15:46.116Z",
    "type": "selectCodeCell"
   },
   {
    "code": "not_range_index_flag = type(self.index) != pd.core.indexes.range.RangeIndex\nsmall_df_flag = len(self)<10",
    "id": "a4c2e57168e948c98886200a5c7659dd",
    "order_count": 7,
    "time": "2020-07-21T12:15:46.341Z",
    "type": "editCodeCell"
   },
   {
    "code": "",
    "id": "a4c2e57168e948c98886200a5c7659dd",
    "order_count": 7,
    "time": "2020-07-21T12:16:42.217Z",
    "type": "editCodeCell"
   },
   {
    "code": "for attribute in self.columns:\n    vis = Vis([index_column_name,lux.Clause(attribute,aggregation=None)],self[attribute].reset_index())\n    display(vis)",
    "id": "5f54f55b856742dc8bddf0782da7c89c",
    "order_count": 8,
    "time": "2020-07-21T12:16:44.719Z",
    "type": "selectCodeCell"
   },
   {
    "code": "",
    "id": "a4c2e57168e948c98886200a5c7659dd",
    "order_count": 7,
    "time": "2020-07-21T12:16:45.547Z",
    "type": "selectCodeCell"
   },
   {
    "code": "",
    "id": "a4c2e57168e948c98886200a5c7659dd",
    "order_count": 7,
    "time": "2020-07-21T12:17:47.054Z",
    "type": "editCodeCell"
   },
   {
    "code": "self.index.nlevel",
    "id": "a4c2e57168e948c98886200a5c7659dd",
    "order_count": 7,
    "time": "2020-07-21T12:17:51.055Z",
    "type": "executeCodeCell"
   },
   {
    "code": "for attribute in self.columns:\n    vis = Vis([index_column_name,lux.Clause(attribute,aggregation=None)],self[attribute].reset_index())\n    display(vis)",
    "id": "5f54f55b856742dc8bddf0782da7c89c",
    "order_count": 8,
    "time": "2020-07-21T12:17:51.100Z",
    "type": "selectCodeCell"
   },
   {
    "code": "self.index.nlevel",
    "id": "a4c2e57168e948c98886200a5c7659dd",
    "isPrintLuxDf": false,
    "isPrintPandasDf": false,
    "isPrintVis": false,
    "isPrintVisCollection": false,
    "order_count": 7,
    "time": "2020-07-21T12:17:51.218Z",
    "type": "completeCodeCell"
   },
   {
    "code": "self.index.nlevel",
    "id": "a4c2e57168e948c98886200a5c7659dd",
    "order_count": 7,
    "time": "2020-07-21T12:17:51.797Z",
    "type": "selectCodeCell"
   },
   {
    "code": "self.index.nlevel",
    "id": "a4c2e57168e948c98886200a5c7659dd",
    "order_count": 7,
    "time": "2020-07-21T12:17:52.118Z",
    "type": "editCodeCell"
   },
   {
    "code": "self.index.nlevel",
    "id": "a4c2e57168e948c98886200a5c7659dd",
    "order_count": 7,
    "time": "2020-07-21T12:17:53.735Z",
    "type": "editCodeCell"
   },
   {
    "code": "self.index.nlevels",
    "id": "a4c2e57168e948c98886200a5c7659dd",
    "order_count": 7,
    "time": "2020-07-21T12:17:54.663Z",
    "type": "executeCodeCell"
   },
   {
    "code": "for attribute in self.columns:\n    vis = Vis([index_column_name,lux.Clause(attribute,aggregation=None)],self[attribute].reset_index())\n    display(vis)",
    "id": "5f54f55b856742dc8bddf0782da7c89c",
    "order_count": 8,
    "time": "2020-07-21T12:17:54.706Z",
    "type": "selectCodeCell"
   },
   {
    "code": "self.index.nlevels",
    "id": "a4c2e57168e948c98886200a5c7659dd",
    "isPrintLuxDf": false,
    "isPrintPandasDf": false,
    "isPrintVis": false,
    "isPrintVisCollection": false,
    "order_count": 7,
    "time": "2020-07-21T12:17:54.721Z",
    "type": "completeCodeCell"
   },
   {
    "code": "self.index.nlevels",
    "id": "a4c2e57168e948c98886200a5c7659dd",
    "order_count": 7,
    "time": "2020-07-21T12:17:55.157Z",
    "type": "selectCodeCell"
   },
   {
    "code": "self.index.nlevels",
    "id": "a4c2e57168e948c98886200a5c7659dd",
    "order_count": 7,
    "time": "2020-07-21T12:17:55.557Z",
    "type": "editCodeCell"
   },
   {
    "code": "self.index.nlevels",
    "id": "a4c2e57168e948c98886200a5c7659dd",
    "order_count": 7,
    "time": "2020-07-21T12:20:17.682Z",
    "type": "editCodeCell"
   },
   {
    "code": "for attribute in self.columns:\n    vis = Vis([index_column_name,lux.Clause(attribute,aggregation=None)],self[attribute].reset_index())\n    display(vis)",
    "id": "5f54f55b856742dc8bddf0782da7c89c",
    "order_count": 8,
    "time": "2020-07-21T12:20:18.744Z",
    "type": "selectCodeCell"
   },
   {
    "code": "self.index.nlevels",
    "id": "a4c2e57168e948c98886200a5c7659dd",
    "order_count": 7,
    "time": "2020-07-21T12:20:22.954Z",
    "type": "selectCodeCell"
   },
   {
    "code": "self.index.nlevels",
    "id": "a4c2e57168e948c98886200a5c7659dd",
    "order_count": 7,
    "time": "2020-07-21T12:20:22.961Z",
    "type": "editCodeCell"
   },
   {
    "code": "self.index.nlevels",
    "id": "a4c2e57168e948c98886200a5c7659dd",
    "order_count": 7,
    "time": "2020-07-21T12:20:24.350Z",
    "type": "selectCodeCell"
   },
   {
    "code": "self.index.nlevels",
    "id": "a4c2e57168e948c98886200a5c7659dd",
    "order_count": 7,
    "time": "2020-07-21T12:20:24.785Z",
    "type": "editCodeCell"
   },
   {
    "code": "",
    "id": "5d957f2dbd0447738b8cea5fdf361bdd",
    "order_count": 7,
    "time": "2020-07-21T12:20:26.385Z",
    "type": "selectCodeCell"
   },
   {
    "code": "",
    "id": "5d957f2dbd0447738b8cea5fdf361bdd",
    "order_count": 7,
    "time": "2020-07-21T12:20:26.537Z",
    "type": "editCodeCell"
   },
   {
    "code": "df.index.nlevels",
    "id": "5d957f2dbd0447738b8cea5fdf361bdd",
    "order_count": 7,
    "time": "2020-07-21T12:20:28.547Z",
    "type": "executeCodeCell"
   },
   {
    "code": "self.index.nlevels",
    "id": "a4c2e57168e948c98886200a5c7659dd",
    "order_count": 8,
    "time": "2020-07-21T12:20:28.588Z",
    "type": "selectCodeCell"
   },
   {
    "code": "df.index.nlevels",
    "id": "5d957f2dbd0447738b8cea5fdf361bdd",
    "isPrintLuxDf": false,
    "isPrintPandasDf": false,
    "isPrintVis": false,
    "isPrintVisCollection": false,
    "order_count": 7,
    "time": "2020-07-21T12:20:28.600Z",
    "type": "completeCodeCell"
   },
   {
    "code": "df.index.nlevels",
    "id": "5d957f2dbd0447738b8cea5fdf361bdd",
    "order_count": 7,
    "time": "2020-07-21T12:20:29.424Z",
    "type": "selectCodeCell"
   },
   {
    "code": "df.index.nlevels",
    "id": "5d957f2dbd0447738b8cea5fdf361bdd",
    "order_count": null,
    "time": "2020-07-21T12:20:29.780Z",
    "type": "deleteCodeCell"
   },
   {
    "code": "self.index.nlevels",
    "id": "a4c2e57168e948c98886200a5c7659dd",
    "order_count": null,
    "time": "2020-07-21T12:20:30.230Z",
    "type": "deleteCodeCell"
   },
   {
    "code": "for attribute in self.columns:\n    vis = Vis([index_column_name,lux.Clause(attribute,aggregation=None)],self[attribute].reset_index())\n    display(vis)",
    "id": "5f54f55b856742dc8bddf0782da7c89c",
    "order_count": 7,
    "time": "2020-07-21T12:20:31.307Z",
    "type": "editCodeCell"
   },
   {
    "code": "for attribute in self.columns:\n    vis = Vis([index_column_name,lux.Clause(attribute,aggregation=None)],self[attribute].reset_index())\n    display(vis)",
    "id": "5f54f55b856742dc8bddf0782da7c89c",
    "order_count": 7,
    "time": "2020-07-21T12:20:31.401Z",
    "type": "selectCodeCell"
   },
   {
    "code": "for attribute in self.columns:\n    vis = Vis([index_column_name,lux.Clause(attribute,aggregation=None)],self[attribute].reset_index())\n    display(vis)",
    "id": "5f54f55b856742dc8bddf0782da7c89c",
    "order_count": 7,
    "time": "2020-07-21T12:32:52.012Z",
    "type": "editCodeCell"
   },
   {
    "code": "for attribute in self.columns:\n    vis = Vis([index_column_name,lux.Clause(attribute,aggregation=None)],self[attribute].reset_index())\n    display(vis)",
    "id": "5f54f55b856742dc8bddf0782da7c89c",
    "order_count": 7,
    "time": "2020-07-21T12:32:52.872Z",
    "type": "selectCodeCell"
   },
   {
    "code": "for attribute in self.columns:\n    vis = Vis([index_column_name,lux.Clause(attribute,aggregation=None)],self[attribute].reset_index())\n    display(vis)",
    "id": "5f54f55b856742dc8bddf0782da7c89c",
    "order_count": 7,
    "time": "2020-07-21T12:48:40.079Z",
    "type": "selectCodeCell"
   },
   {
    "code": "cd ../",
    "id": "a7da79e1a13643cab773017189810627",
    "order_count": 0,
    "time": "2020-07-21T12:48:41.623Z",
    "type": "selectCodeCell"
   },
   {
    "code": "cd ../",
    "id": "a7da79e1a13643cab773017189810627",
    "order_count": 0,
    "time": "2020-07-21T12:48:41.630Z",
    "type": "editCodeCell"
   },
   {
    "time": "2020-07-21T12:48:43.055Z",
    "type": "kernelRestart"
   },
   {
    "time": "2020-07-21T12:48:43.183Z",
    "type": "kernelRestart"
   },
   {
    "code": "cd ../",
    "id": "a7da79e1a13643cab773017189810627",
    "order_count": 0,
    "time": "2020-07-21T12:48:43.736Z",
    "type": "executeCodeCell"
   },
   {
    "code": "This dataset contains a total of 1295 records of American colleges and their properties, collected by the [US Department of Education](https://collegescorecard.ed.gov/data/documentation/).",
    "id": "d71c5c8d5ca64ce888dbd78140f7092b",
    "order_count": 1,
    "time": "2020-07-21T12:48:43.747Z",
    "type": "selectMarkdownCell"
   },
   {
    "code": "import pandas as pd\n%load_ext autoreload\n%autoreload 2\nimport lux",
    "id": "7428a8a53da0452880d1e6c1d21e8324",
    "order_count": 2,
    "time": "2020-07-21T12:48:43.948Z",
    "type": "selectCodeCell"
   },
   {
    "code": "import pandas as pd\n%load_ext autoreload\n%autoreload 2\nimport lux",
    "id": "7428a8a53da0452880d1e6c1d21e8324",
    "order_count": 2,
    "time": "2020-07-21T12:48:44.095Z",
    "type": "executeCodeCell"
   },
   {
    "code": "df = pd.read_csv(\"lux/data/college.csv\")",
    "id": "78a539bb361149808b28db83c04c6cab",
    "order_count": 3,
    "time": "2020-07-21T12:48:44.108Z",
    "type": "selectCodeCell"
   },
   {
    "code": "df = pd.read_csv(\"lux/data/college.csv\")",
    "id": "78a539bb361149808b28db83c04c6cab",
    "order_count": 3,
    "time": "2020-07-21T12:48:44.263Z",
    "type": "executeCodeCell"
   },
   {
    "code": "groupbyResult = df.groupby(\"Region\").sum()",
    "id": "63be682cd1e444e08c0c4d37f3406a4d",
    "order_count": 4,
    "time": "2020-07-21T12:48:44.274Z",
    "type": "selectCodeCell"
   },
   {
    "code": "groupbyResult = df.groupby(\"Region\").sum()",
    "id": "63be682cd1e444e08c0c4d37f3406a4d",
    "order_count": 4,
    "time": "2020-07-21T12:48:44.527Z",
    "type": "executeCodeCell"
   },
   {
    "code": "self = groupbyResult\nif (type(self.index) != pd.core.indexes.range.RangeIndex):# if multi-index, then default to pandas output\n    print (\"test\")\n    index_column_name = self.index.name",
    "id": "5e39c1e5c8e740e181980e5d80cfeb44",
    "order_count": 5,
    "time": "2020-07-21T12:48:44.542Z",
    "type": "selectCodeCell"
   },
   {
    "code": "self = groupbyResult\nif (type(self.index) != pd.core.indexes.range.RangeIndex):# if multi-index, then default to pandas output\n    print (\"test\")\n    index_column_name = self.index.name",
    "id": "5e39c1e5c8e740e181980e5d80cfeb44",
    "order_count": 5,
    "time": "2020-07-21T12:48:44.783Z",
    "type": "executeCodeCell"
   },
   {
    "code": "from lux.vis.Vis import Vis\nfrom lux.compiler.Parser import Parser\nfrom lux.compiler.Validator import Validator\nfrom lux.compiler.Compiler import Compiler\n",
    "id": "ca07cdd3856841c082c7831ab613eb72",
    "order_count": 6,
    "time": "2020-07-21T12:48:44.797Z",
    "type": "selectCodeCell"
   },
   {
    "time": "2020-07-21T12:48:44.856Z",
    "type": "kernelReady"
   },
   {
    "code": "cd ../",
    "id": "a7da79e1a13643cab773017189810627",
    "isPrintLuxDf": false,
    "isPrintPandasDf": false,
    "isPrintVis": false,
    "isPrintVisCollection": false,
    "order_count": 0,
    "time": "2020-07-21T12:48:44.912Z",
    "type": "completeCodeCell"
   },
   {
    "code": "from lux.vis.Vis import Vis\nfrom lux.compiler.Parser import Parser\nfrom lux.compiler.Validator import Validator\nfrom lux.compiler.Compiler import Compiler\n",
    "id": "ca07cdd3856841c082c7831ab613eb72",
    "order_count": 6,
    "time": "2020-07-21T12:48:44.983Z",
    "type": "executeCodeCell"
   },
   {
    "code": "for attribute in self.columns:\n    vis = Vis([index_column_name,lux.Clause(attribute,aggregation=None)],self[attribute].reset_index())\n    display(vis)",
    "id": "5f54f55b856742dc8bddf0782da7c89c",
    "order_count": 7,
    "time": "2020-07-21T12:48:44.999Z",
    "type": "selectCodeCell"
   },
   {
    "code": "for attribute in self.columns:\n    vis = Vis([index_column_name,lux.Clause(attribute,aggregation=None)],self[attribute].reset_index())\n    display(vis)",
    "id": "5f54f55b856742dc8bddf0782da7c89c",
    "order_count": 7,
    "time": "2020-07-21T12:48:45.186Z",
    "type": "executeCodeCell"
   },
   {
    "code": "vis",
    "id": "1aadd727d5224d57a0d72ae866d4d9b4",
    "order_count": 8,
    "time": "2020-07-21T12:48:45.198Z",
    "type": "selectCodeCell"
   },
   {
    "code": "import pandas as pd\n%load_ext autoreload\n%autoreload 2\nimport lux",
    "id": "7428a8a53da0452880d1e6c1d21e8324",
    "isPrintLuxDf": false,
    "isPrintPandasDf": false,
    "isPrintVis": false,
    "isPrintVisCollection": false,
    "order_count": 2,
    "time": "2020-07-21T12:48:45.283Z",
    "type": "completeCodeCell"
   },
   {
    "code": "df = pd.read_csv(\"lux/data/college.csv\")",
    "id": "78a539bb361149808b28db83c04c6cab",
    "isPrintLuxDf": false,
    "isPrintPandasDf": false,
    "isPrintVis": false,
    "isPrintVisCollection": false,
    "order_count": 3,
    "time": "2020-07-21T12:48:45.318Z",
    "type": "completeCodeCell"
   },
   {
    "code": "groupbyResult = df.groupby(\"Region\").sum()",
    "id": "63be682cd1e444e08c0c4d37f3406a4d",
    "isPrintLuxDf": false,
    "isPrintPandasDf": false,
    "isPrintVis": false,
    "isPrintVisCollection": false,
    "order_count": 4,
    "time": "2020-07-21T12:48:45.349Z",
    "type": "completeCodeCell"
   },
   {
    "code": "self = groupbyResult\nif (type(self.index) != pd.core.indexes.range.RangeIndex):# if multi-index, then default to pandas output\n    print (\"test\")\n    index_column_name = self.index.name",
    "id": "5e39c1e5c8e740e181980e5d80cfeb44",
    "isPrintLuxDf": false,
    "isPrintPandasDf": false,
    "isPrintVis": false,
    "isPrintVisCollection": false,
    "order_count": 5,
    "time": "2020-07-21T12:48:45.363Z",
    "type": "completeCodeCell"
   },
   {
    "code": "self = groupbyResult\nif (type(self.index) != pd.core.indexes.range.RangeIndex):# if multi-index, then default to pandas output\n    print (\"test\")\n    index_column_name = self.index.name",
    "id": "5e39c1e5c8e740e181980e5d80cfeb44",
    "order_count": 5,
    "time": "2020-07-21T12:48:49.413Z",
    "type": "selectCodeCell"
   },
   {
    "time": "2020-07-21T12:48:51.136Z",
    "type": "kernelRestart"
   },
   {
    "time": "2020-07-21T12:48:51.366Z",
    "type": "kernelRestart"
   },
   {
    "time": "2020-07-21T12:48:52.577Z",
    "type": "kernelReady"
   },
   {
    "time": "2020-07-21T12:48:52.580Z",
    "type": "kernelReady"
   },
   {
    "time": "2020-07-21T12:48:52.701Z",
    "type": "kernelReady"
   },
   {
    "code": "groupbyResult = df.groupby(\"Region\").sum()",
    "id": "63be682cd1e444e08c0c4d37f3406a4d",
    "order_count": 4,
    "time": "2020-07-21T12:48:52.718Z",
    "type": "selectCodeCell"
   },
   {
    "code": "df = pd.read_csv(\"lux/data/college.csv\")",
    "id": "78a539bb361149808b28db83c04c6cab",
    "order_count": 3,
    "time": "2020-07-21T12:48:52.902Z",
    "type": "selectCodeCell"
   },
   {
    "code": "import pandas as pd\n%load_ext autoreload\n%autoreload 2\nimport lux",
    "id": "7428a8a53da0452880d1e6c1d21e8324",
    "order_count": 2,
    "time": "2020-07-21T12:48:53.048Z",
    "type": "selectCodeCell"
   },
   {
    "code": "This dataset contains a total of 1295 records of American colleges and their properties, collected by the [US Department of Education](https://collegescorecard.ed.gov/data/documentation/).",
    "id": "d71c5c8d5ca64ce888dbd78140f7092b",
    "order_count": 1,
    "time": "2020-07-21T12:48:53.185Z",
    "type": "selectMarkdownCell"
   },
   {
    "code": "cd ../",
    "id": "a7da79e1a13643cab773017189810627",
    "order_count": 0,
    "time": "2020-07-21T12:48:53.326Z",
    "type": "selectCodeCell"
   },
   {
    "code": "cd ../",
    "id": "a7da79e1a13643cab773017189810627",
    "order_count": 0,
    "time": "2020-07-21T12:48:53.816Z",
    "type": "executeCodeCell"
   },
   {
    "code": "This dataset contains a total of 1295 records of American colleges and their properties, collected by the [US Department of Education](https://collegescorecard.ed.gov/data/documentation/).",
    "id": "d71c5c8d5ca64ce888dbd78140f7092b",
    "order_count": 1,
    "time": "2020-07-21T12:48:53.823Z",
    "type": "selectMarkdownCell"
   },
   {
    "code": "cd ../",
    "id": "a7da79e1a13643cab773017189810627",
    "isPrintLuxDf": false,
    "isPrintPandasDf": false,
    "isPrintVis": false,
    "isPrintVisCollection": false,
    "order_count": 0,
    "time": "2020-07-21T12:48:53.839Z",
    "type": "completeCodeCell"
   },
   {
    "code": "import pandas as pd\n%load_ext autoreload\n%autoreload 2\nimport lux",
    "id": "7428a8a53da0452880d1e6c1d21e8324",
    "order_count": 2,
    "time": "2020-07-21T12:48:54.033Z",
    "type": "selectCodeCell"
   },
   {
    "code": "import pandas as pd\n%load_ext autoreload\n%autoreload 2\nimport lux",
    "id": "7428a8a53da0452880d1e6c1d21e8324",
    "order_count": 2,
    "time": "2020-07-21T12:48:54.227Z",
    "type": "executeCodeCell"
   },
   {
    "code": "df = pd.read_csv(\"lux/data/college.csv\")",
    "id": "78a539bb361149808b28db83c04c6cab",
    "order_count": 3,
    "time": "2020-07-21T12:48:54.244Z",
    "type": "selectCodeCell"
   },
   {
    "code": "df = pd.read_csv(\"lux/data/college.csv\")",
    "id": "78a539bb361149808b28db83c04c6cab",
    "order_count": 3,
    "time": "2020-07-21T12:48:54.400Z",
    "type": "executeCodeCell"
   },
   {
    "code": "groupbyResult = df.groupby(\"Region\").sum()",
    "id": "63be682cd1e444e08c0c4d37f3406a4d",
    "order_count": 4,
    "time": "2020-07-21T12:48:54.411Z",
    "type": "selectCodeCell"
   },
   {
    "code": "import pandas as pd\n%load_ext autoreload\n%autoreload 2\nimport lux",
    "id": "7428a8a53da0452880d1e6c1d21e8324",
    "isPrintLuxDf": false,
    "isPrintPandasDf": false,
    "isPrintVis": false,
    "isPrintVisCollection": false,
    "order_count": 2,
    "time": "2020-07-21T12:48:54.570Z",
    "type": "completeCodeCell"
   },
   {
    "code": "df = pd.read_csv(\"lux/data/college.csv\")",
    "id": "78a539bb361149808b28db83c04c6cab",
    "isPrintLuxDf": false,
    "isPrintPandasDf": false,
    "isPrintVis": false,
    "isPrintVisCollection": false,
    "order_count": 3,
    "time": "2020-07-21T12:48:54.604Z",
    "type": "completeCodeCell"
   },
   {
    "code": "groupbyResult = df.groupby(\"Region\").sum()",
    "id": "63be682cd1e444e08c0c4d37f3406a4d",
    "order_count": 4,
    "time": "2020-07-21T12:48:54.634Z",
    "type": "executeCodeCell"
   },
   {
    "code": "self = groupbyResult\nif (type(self.index) != pd.core.indexes.range.RangeIndex):# if multi-index, then default to pandas output\n    print (\"test\")\n    index_column_name = self.index.name",
    "id": "5e39c1e5c8e740e181980e5d80cfeb44",
    "order_count": 5,
    "time": "2020-07-21T12:48:54.653Z",
    "type": "selectCodeCell"
   },
   {
    "code": "groupbyResult = df.groupby(\"Region\").sum()",
    "id": "63be682cd1e444e08c0c4d37f3406a4d",
    "isPrintLuxDf": false,
    "isPrintPandasDf": false,
    "isPrintVis": false,
    "isPrintVisCollection": false,
    "order_count": 4,
    "time": "2020-07-21T12:48:54.672Z",
    "type": "completeCodeCell"
   },
   {
    "code": "self = groupbyResult\nif (type(self.index) != pd.core.indexes.range.RangeIndex):# if multi-index, then default to pandas output\n    print (\"test\")\n    index_column_name = self.index.name",
    "id": "5e39c1e5c8e740e181980e5d80cfeb44",
    "order_count": 5,
    "time": "2020-07-21T12:48:54.838Z",
    "type": "executeCodeCell"
   },
   {
    "code": "from lux.vis.Vis import Vis\nfrom lux.compiler.Parser import Parser\nfrom lux.compiler.Validator import Validator\nfrom lux.compiler.Compiler import Compiler\n",
    "id": "ca07cdd3856841c082c7831ab613eb72",
    "order_count": 6,
    "time": "2020-07-21T12:48:54.857Z",
    "type": "selectCodeCell"
   },
   {
    "code": "self = groupbyResult\nif (type(self.index) != pd.core.indexes.range.RangeIndex):# if multi-index, then default to pandas output\n    print (\"test\")\n    index_column_name = self.index.name",
    "id": "5e39c1e5c8e740e181980e5d80cfeb44",
    "isPrintLuxDf": false,
    "isPrintPandasDf": false,
    "isPrintVis": false,
    "isPrintVisCollection": false,
    "order_count": 5,
    "time": "2020-07-21T12:48:54.872Z",
    "type": "completeCodeCell"
   },
   {
    "code": "from lux.vis.Vis import Vis\nfrom lux.compiler.Parser import Parser\nfrom lux.compiler.Validator import Validator\nfrom lux.compiler.Compiler import Compiler\n",
    "id": "ca07cdd3856841c082c7831ab613eb72",
    "order_count": 6,
    "time": "2020-07-21T12:48:55.034Z",
    "type": "executeCodeCell"
   },
   {
    "code": "for attribute in self.columns:\n    vis = Vis([index_column_name,lux.Clause(attribute,aggregation=None)],self[attribute].reset_index())\n    display(vis)",
    "id": "5f54f55b856742dc8bddf0782da7c89c",
    "order_count": 7,
    "time": "2020-07-21T12:48:55.053Z",
    "type": "selectCodeCell"
   },
   {
    "code": "from lux.vis.Vis import Vis\nfrom lux.compiler.Parser import Parser\nfrom lux.compiler.Validator import Validator\nfrom lux.compiler.Compiler import Compiler\n",
    "id": "ca07cdd3856841c082c7831ab613eb72",
    "isPrintLuxDf": false,
    "isPrintPandasDf": false,
    "isPrintVis": false,
    "isPrintVisCollection": false,
    "order_count": 6,
    "time": "2020-07-21T12:48:55.059Z",
    "type": "completeCodeCell"
   },
   {
    "code": "from lux.vis.Vis import Vis\nfrom lux.compiler.Parser import Parser\nfrom lux.compiler.Validator import Validator\nfrom lux.compiler.Compiler import Compiler\n",
    "id": "ca07cdd3856841c082c7831ab613eb72",
    "isPrintLuxDf": false,
    "isPrintPandasDf": false,
    "isPrintVis": false,
    "isPrintVisCollection": false,
    "order_count": 6,
    "time": "2020-07-21T12:48:55.059Z",
    "type": "completeCodeCell"
   },
   {
    "code": "for attribute in self.columns:\n    vis = Vis([index_column_name,lux.Clause(attribute,aggregation=None)],self[attribute].reset_index())\n    display(vis)",
    "id": "5f54f55b856742dc8bddf0782da7c89c",
    "order_count": 7,
    "time": "2020-07-21T12:48:55.467Z",
    "type": "executeCodeCell"
   },
   {
    "code": "vis",
    "id": "1aadd727d5224d57a0d72ae866d4d9b4",
    "order_count": 8,
    "time": "2020-07-21T12:48:55.483Z",
    "type": "selectCodeCell"
   },
   {
    "param": "",
    "time": "2020-07-21T12:48:55.589Z",
    "type": "initWidget"
   },
   {
    "param": "",
    "time": "2020-07-21T12:48:55.654Z",
    "type": "initWidget"
   },
   {
    "param": "",
    "time": "2020-07-21T12:48:55.688Z",
    "type": "initWidget"
   },
   {
    "param": "",
    "time": "2020-07-21T12:48:55.724Z",
    "type": "initWidget"
   },
   {
    "param": "",
    "time": "2020-07-21T12:48:55.763Z",
    "type": "initWidget"
   },
   {
    "param": "",
    "time": "2020-07-21T12:48:55.791Z",
    "type": "initWidget"
   },
   {
    "param": "",
    "time": "2020-07-21T12:48:55.806Z",
    "type": "initWidget"
   },
   {
    "param": "",
    "time": "2020-07-21T12:48:55.837Z",
    "type": "initWidget"
   },
   {
    "param": "",
    "time": "2020-07-21T12:48:55.870Z",
    "type": "initWidget"
   },
   {
    "code": "for attribute in self.columns:\n    vis = Vis([index_column_name,lux.Clause(attribute,aggregation=None)],self[attribute].reset_index())\n    display(vis)",
    "id": "5f54f55b856742dc8bddf0782da7c89c",
    "isPrintLuxDf": false,
    "isPrintPandasDf": false,
    "isPrintVis": false,
    "isPrintVisCollection": false,
    "order_count": 7,
    "time": "2020-07-21T12:48:55.888Z",
    "type": "completeCodeCell"
   },
   {
    "code": "for attribute in self.columns:\n    vis = Vis([index_column_name,lux.Clause(attribute,aggregation=None)],self[attribute].reset_index())\n    display(vis)",
    "id": "5f54f55b856742dc8bddf0782da7c89c",
    "isPrintLuxDf": false,
    "isPrintPandasDf": false,
    "isPrintVis": false,
    "isPrintVisCollection": false,
    "order_count": 7,
    "time": "2020-07-21T12:48:55.888Z",
    "type": "completeCodeCell"
   },
   {
    "param": "",
    "time": "2020-07-21T12:48:55.911Z",
    "type": "initWidget"
   },
   {
    "code": "vis",
    "id": "1aadd727d5224d57a0d72ae866d4d9b4",
    "order_count": 8,
    "time": "2020-07-21T12:48:56.028Z",
    "type": "executeCodeCell"
   },
   {
    "code": "ldf = self[attribute].reset_index()",
    "id": "2d369fa13f9f4957aecf26bc5019d061",
    "order_count": 9,
    "time": "2020-07-21T12:48:56.045Z",
    "type": "selectCodeCell"
   },
   {
    "code": "vis",
    "id": "1aadd727d5224d57a0d72ae866d4d9b4",
    "isPrintLuxDf": false,
    "isPrintPandasDf": false,
    "isPrintVis": true,
    "isPrintVisCollection": false,
    "order_count": 8,
    "time": "2020-07-21T12:48:56.070Z",
    "type": "completeCodeCell"
   },
   {
    "param": "",
    "time": "2020-07-21T12:48:56.084Z",
    "type": "initWidget"
   },
   {
    "code": "vis",
    "id": "1aadd727d5224d57a0d72ae866d4d9b4",
    "order_count": 8,
    "time": "2020-07-21T12:48:59.488Z",
    "type": "selectCodeCell"
   },
   {
    "code": "vis",
    "id": "1aadd727d5224d57a0d72ae866d4d9b4",
    "order_count": null,
    "time": "2020-07-21T12:49:00.163Z",
    "type": "deleteCodeCell"
   },
   {
    "code": "for attribute in self.columns:\n    vis = Vis([index_column_name,lux.Clause(attribute,aggregation=None)],self[attribute].reset_index())\n    display(vis)",
    "id": "5f54f55b856742dc8bddf0782da7c89c",
    "order_count": 7,
    "time": "2020-07-21T12:49:01.201Z",
    "type": "selectCodeCell"
   },
   {
    "code": "for attribute in self.columns:\n    vis = Vis([index_column_name,lux.Clause(attribute,aggregation=None)],self[attribute].reset_index())\n    display(vis)",
    "id": "5f54f55b856742dc8bddf0782da7c89c",
    "order_count": 7,
    "time": "2020-07-21T12:49:04.234Z",
    "type": "selectCodeCell"
   },
   {
    "time": "2020-07-21T12:49:14.964Z",
    "type": "kernelReady"
   },
   {
    "code": "from lux.vis.Vis import Vis\nfrom lux.compiler.Parser import Parser\nfrom lux.compiler.Validator import Validator\nfrom lux.compiler.Compiler import Compiler\n",
    "id": "ca07cdd3856841c082c7831ab613eb72",
    "order_count": 6,
    "time": "2020-07-21T12:51:14.523Z",
    "type": "selectCodeCell"
   },
   {
    "code": "from lux.vis.Vis import Vis\nfrom lux.compiler.Parser import Parser\nfrom lux.compiler.Validator import Validator\nfrom lux.compiler.Compiler import Compiler\n",
    "id": "ca07cdd3856841c082c7831ab613eb72",
    "order_count": 6,
    "time": "2020-07-21T12:51:14.533Z",
    "type": "editCodeCell"
   },
   {
    "code": "from lux.vis.Vis import Vis\nfrom lux.compiler.Parser import Parser\nfrom lux.compiler.Validator import Validator\nfrom lux.compiler.Compiler import Compiler\n",
    "id": "ca07cdd3856841c082c7831ab613eb72",
    "order_count": 6,
    "time": "2020-07-21T12:51:15.419Z",
    "type": "selectCodeCell"
   },
   {
    "code": "df = pd.read_csv(\"lux/data/college.csv\")",
    "id": "78a539bb361149808b28db83c04c6cab",
    "order_count": 3,
    "time": "2020-07-21T12:51:24.260Z",
    "type": "selectCodeCell"
   },
   {
    "code": "df = pd.read_csv(\"lux/data/college.csv\")",
    "id": "78a539bb361149808b28db83c04c6cab",
    "order_count": 3,
    "time": "2020-07-21T12:51:24.265Z",
    "type": "editCodeCell"
   },
   {
    "code": "for attribute in self.columns:\n    vis = Vis([index_column_name,lux.Clause(attribute,aggregation=None)],self[attribute].reset_index())\n    display(vis)",
    "id": "5f54f55b856742dc8bddf0782da7c89c",
    "order_count": 7,
    "time": "2020-07-21T12:51:27.495Z",
    "type": "selectCodeCell"
   },
   {
    "code": "for attribute in self.columns:\n    vis = Vis([index_column_name,lux.Clause(attribute,aggregation=None)],self[attribute].reset_index())\n    display(vis)",
    "id": "5f54f55b856742dc8bddf0782da7c89c",
    "order_count": 7,
    "time": "2020-07-21T12:51:27.503Z",
    "type": "editCodeCell"
   },
   {
    "code": "for attribute in self.columns:\n    vis = Vis([index_column_name,lux.Clause(attribute,aggregation=None)],self[attribute].reset_index())\n    display(vis)",
    "id": "5f54f55b856742dc8bddf0782da7c89c",
    "order_count": 7,
    "time": "2020-07-21T12:51:28.853Z",
    "type": "executeCodeCell"
   },
   {
    "code": "ldf = self[attribute].reset_index()",
    "id": "2d369fa13f9f4957aecf26bc5019d061",
    "order_count": 8,
    "time": "2020-07-21T12:51:28.889Z",
    "type": "selectCodeCell"
   },
   {
    "param": "",
    "time": "2020-07-21T12:51:28.927Z",
    "type": "initWidget"
   },
   {
    "param": "",
    "time": "2020-07-21T12:51:28.974Z",
    "type": "initWidget"
   },
   {
    "param": "",
    "time": "2020-07-21T12:51:29.012Z",
    "type": "initWidget"
   },
   {
    "param": "",
    "time": "2020-07-21T12:51:29.043Z",
    "type": "initWidget"
   },
   {
    "param": "",
    "time": "2020-07-21T12:51:29.067Z",
    "type": "initWidget"
   },
   {
    "param": "",
    "time": "2020-07-21T12:51:29.097Z",
    "type": "initWidget"
   },
   {
    "param": "",
    "time": "2020-07-21T12:51:29.132Z",
    "type": "initWidget"
   },
   {
    "param": "",
    "time": "2020-07-21T12:51:29.168Z",
    "type": "initWidget"
   },
   {
    "param": "",
    "time": "2020-07-21T12:51:29.192Z",
    "type": "initWidget"
   },
   {
    "code": "for attribute in self.columns:\n    vis = Vis([index_column_name,lux.Clause(attribute,aggregation=None)],self[attribute].reset_index())\n    display(vis)",
    "id": "5f54f55b856742dc8bddf0782da7c89c",
    "isPrintLuxDf": false,
    "isPrintPandasDf": false,
    "isPrintVis": false,
    "isPrintVisCollection": false,
    "order_count": 7,
    "time": "2020-07-21T12:51:29.203Z",
    "type": "completeCodeCell"
   },
   {
    "param": "",
    "time": "2020-07-21T12:51:29.219Z",
    "type": "initWidget"
   },
   {
    "code": "for attribute in self.columns:\n    vis = Vis([index_column_name,lux.Clause(attribute,aggregation=None)],self[attribute].reset_index())\n    display(vis)",
    "id": "5f54f55b856742dc8bddf0782da7c89c",
    "order_count": 7,
    "time": "2020-07-21T12:51:39.385Z",
    "type": "selectCodeCell"
   },
   {
    "code": "for attribute in self.columns:\n    vis = Vis([index_column_name,lux.Clause(attribute,aggregation=None)],self[attribute].reset_index())\n    display(vis)",
    "id": "5f54f55b856742dc8bddf0782da7c89c",
    "order_count": 7,
    "time": "2020-07-21T12:59:27.609Z",
    "type": "editCodeCell"
   },
   {
    "code": "for attribute in self.columns:\n    vis = Vis([index_column_name,lux.Clause(attribute,aggregation=None)],self[attribute].reset_index())\n    display(vis)",
    "id": "5f54f55b856742dc8bddf0782da7c89c",
    "order_count": 7,
    "time": "2020-07-21T12:59:28.314Z",
    "type": "selectCodeCell"
   },
   {
    "code": "from lux.vis.Vis import Vis\n",
    "id": "ca07cdd3856841c082c7831ab613eb72",
    "order_count": 6,
    "time": "2020-07-21T12:59:29.167Z",
    "type": "selectCodeCell"
   },
   {
    "code": "from lux.vis.Vis import Vis\n",
    "id": "ca07cdd3856841c082c7831ab613eb72",
    "order_count": 6,
    "time": "2020-07-21T12:59:29.415Z",
    "type": "editCodeCell"
   },
   {
    "code": "from lux.vis.Vis import Vis\nfrom lux.vis.VisList import VisList\n",
    "id": "ca07cdd3856841c082c7831ab613eb72",
    "order_count": 6,
    "time": "2020-07-21T12:59:38.408Z",
    "type": "executeCodeCell"
   },
   {
    "code": "for attribute in self.columns:\n    vis = Vis([index_column_name,lux.Clause(attribute,aggregation=None)],self[attribute].reset_index())\n    display(vis)",
    "id": "5f54f55b856742dc8bddf0782da7c89c",
    "order_count": 7,
    "time": "2020-07-21T12:59:38.451Z",
    "type": "selectCodeCell"
   },
   {
    "code": "from lux.vis.Vis import Vis\nfrom lux.vis.VisList import VisList\n",
    "id": "ca07cdd3856841c082c7831ab613eb72",
    "isPrintLuxDf": false,
    "isPrintPandasDf": false,
    "isPrintVis": false,
    "isPrintVisCollection": false,
    "order_count": 6,
    "time": "2020-07-21T12:59:38.458Z",
    "type": "completeCodeCell"
   },
   {
    "code": "for attribute in self.columns:\n    vis = Vis([index_column_name,lux.Clause(attribute,aggregation=None)],self[attribute].reset_index())\n    display(vis)",
    "id": "5f54f55b856742dc8bddf0782da7c89c",
    "order_count": 7,
    "time": "2020-07-21T12:59:40.054Z",
    "type": "editCodeCell"
   },
   {
    "code": "for attribute in self.columns:\n    vis = Vis([index_column_name,lux.Clause(attribute,aggregation=None)],self[attribute].reset_index())",
    "id": "5f54f55b856742dc8bddf0782da7c89c",
    "order_count": 7,
    "time": "2020-07-21T12:59:42.465Z",
    "type": "executeCodeCell"
   },
   {
    "code": "ldf = self[attribute].reset_index()",
    "id": "2d369fa13f9f4957aecf26bc5019d061",
    "order_count": 8,
    "time": "2020-07-21T12:59:42.499Z",
    "type": "selectCodeCell"
   },
   {
    "code": "for attribute in self.columns:\n    vis = Vis([index_column_name,lux.Clause(attribute,aggregation=None)],self[attribute].reset_index())",
    "id": "5f54f55b856742dc8bddf0782da7c89c",
    "isPrintLuxDf": false,
    "isPrintPandasDf": false,
    "isPrintVis": false,
    "isPrintVisCollection": false,
    "order_count": 7,
    "time": "2020-07-21T12:59:42.553Z",
    "type": "completeCodeCell"
   },
   {
    "code": "",
    "id": "917a610a3dd7498b93e0a5620f734d67",
    "order_count": 8,
    "time": "2020-07-21T12:59:43.345Z",
    "type": "selectCodeCell"
   },
   {
    "code": "",
    "id": "917a610a3dd7498b93e0a5620f734d67",
    "order_count": 8,
    "time": "2020-07-21T12:59:43.527Z",
    "type": "editCodeCell"
   },
   {
    "code": "for attribute in self.columns:\n    vis = Vis([index_column_name,lux.Clause(attribute,aggregation=None)],self[attribute].reset_index())",
    "id": "5f54f55b856742dc8bddf0782da7c89c",
    "order_count": 7,
    "time": "2020-07-21T12:59:49.060Z",
    "type": "editCodeCell"
   },
   {
    "code": "collection = []\nfor attribute in self.columns:\n    vis = Vis([index_column_name,lux.Clause(attribute,aggregation=None)],self[attribute].reset_index())\n    collection.append(vis)\nvlst = VisList(collection)",
    "id": "5f54f55b856742dc8bddf0782da7c89c",
    "order_count": 7,
    "time": "2020-07-21T13:00:20.376Z",
    "type": "executeCodeCell"
   },
   {
    "code": "    display(vis)",
    "id": "917a610a3dd7498b93e0a5620f734d67",
    "order_count": 8,
    "time": "2020-07-21T13:00:20.413Z",
    "type": "selectCodeCell"
   },
   {
    "code": "collection = []\nfor attribute in self.columns:\n    vis = Vis([index_column_name,lux.Clause(attribute,aggregation=None)],self[attribute].reset_index())\n    collection.append(vis)\nvlst = VisList(collection)",
    "id": "5f54f55b856742dc8bddf0782da7c89c",
    "isPrintLuxDf": false,
    "isPrintPandasDf": false,
    "isPrintVis": false,
    "isPrintVisCollection": false,
    "order_count": 7,
    "time": "2020-07-21T13:00:20.465Z",
    "type": "completeCodeCell"
   },
   {
    "code": "    display(vis)",
    "id": "917a610a3dd7498b93e0a5620f734d67",
    "order_count": 8,
    "time": "2020-07-21T13:00:21.415Z",
    "type": "editCodeCell"
   },
   {
    "code": "lst",
    "id": "917a610a3dd7498b93e0a5620f734d67",
    "order_count": 8,
    "time": "2020-07-21T13:00:22.938Z",
    "type": "executeCodeCell"
   },
   {
    "code": "ldf = self[attribute].reset_index()",
    "id": "2d369fa13f9f4957aecf26bc5019d061",
    "order_count": 9,
    "time": "2020-07-21T13:00:22.976Z",
    "type": "selectCodeCell"
   },
   {
    "code": "lst",
    "id": "917a610a3dd7498b93e0a5620f734d67",
    "isPrintLuxDf": false,
    "isPrintPandasDf": false,
    "isPrintVis": false,
    "isPrintVisCollection": false,
    "order_count": 8,
    "time": "2020-07-21T13:00:23.077Z",
    "type": "completeCodeCell"
   },
   {
    "code": "lst",
    "id": "917a610a3dd7498b93e0a5620f734d67",
    "order_count": 8,
    "time": "2020-07-21T13:00:23.957Z",
    "type": "selectCodeCell"
   },
   {
    "code": "lst",
    "id": "917a610a3dd7498b93e0a5620f734d67",
    "order_count": 8,
    "time": "2020-07-21T13:00:24.208Z",
    "type": "editCodeCell"
   },
   {
    "code": "vlst",
    "id": "917a610a3dd7498b93e0a5620f734d67",
    "order_count": 8,
    "time": "2020-07-21T13:00:26.186Z",
    "type": "executeCodeCell"
   },
   {
    "code": "ldf = self[attribute].reset_index()",
    "id": "2d369fa13f9f4957aecf26bc5019d061",
    "order_count": 9,
    "time": "2020-07-21T13:00:26.221Z",
    "type": "selectCodeCell"
   },
   {
    "code": "vlst",
    "id": "917a610a3dd7498b93e0a5620f734d67",
    "isPrintLuxDf": false,
    "isPrintPandasDf": false,
    "isPrintVis": false,
    "isPrintVisCollection": false,
    "order_count": 8,
    "time": "2020-07-21T13:00:26.361Z",
    "type": "completeCodeCell"
   },
   {
    "param": "",
    "time": "2020-07-21T13:00:26.381Z",
    "type": "initWidget"
   },
   {
    "param": "Vis List",
    "time": "2020-07-21T13:00:36.215Z",
    "type": "startScroll"
   },
   {
    "param": "Vis List",
    "time": "2020-07-21T13:00:37.104Z",
    "type": "stopScroll"
   },
   {
    "param": "Vis List",
    "time": "2020-07-21T13:00:37.177Z",
    "type": "startScroll"
   },
   {
    "param": "Vis List",
    "time": "2020-07-21T13:00:37.238Z",
    "type": "stopScroll"
   },
   {
    "param": "Vis List",
    "time": "2020-07-21T13:00:38.764Z",
    "type": "startScroll"
   },
   {
    "param": "Vis List",
    "time": "2020-07-21T13:00:39.689Z",
    "type": "stopScroll"
   },
   {
    "param": "Vis List",
    "time": "2020-07-21T13:00:40.447Z",
    "type": "startScroll"
   },
   {
    "param": "Vis List",
    "time": "2020-07-21T13:00:40.889Z",
    "type": "stopScroll"
   },
   {
    "code": "vlst",
    "id": "917a610a3dd7498b93e0a5620f734d67",
    "order_count": 8,
    "time": "2020-07-21T13:01:13.958Z",
    "type": "selectCodeCell"
   },
   {
    "time": "2020-07-21T13:01:15.375Z",
    "type": "kernelRestart"
   },
   {
    "time": "2020-07-21T13:01:15.510Z",
    "type": "kernelRestart"
   },
   {
    "code": "collection = []\nfor attribute in self.columns:\n    vis = Vis([index_column_name,lux.Clause(attribute,aggregation=None)],self[attribute].reset_index())\n    collection.append(vis)\nvlst = VisList(collection)",
    "id": "5f54f55b856742dc8bddf0782da7c89c",
    "order_count": 7,
    "time": "2020-07-21T13:01:15.934Z",
    "type": "selectCodeCell"
   },
   {
    "code": "from lux.vis.Vis import Vis\nfrom lux.vis.VisList import VisList\n",
    "id": "ca07cdd3856841c082c7831ab613eb72",
    "order_count": 6,
    "time": "2020-07-21T13:01:16.148Z",
    "type": "selectCodeCell"
   },
   {
    "code": "self = groupbyResult\nif (type(self.index) != pd.core.indexes.range.RangeIndex):# if multi-index, then default to pandas output\n    print (\"test\")\n    index_column_name = self.index.name",
    "id": "5e39c1e5c8e740e181980e5d80cfeb44",
    "order_count": 5,
    "time": "2020-07-21T13:01:16.303Z",
    "type": "selectCodeCell"
   },
   {
    "code": "groupbyResult = df.groupby(\"Region\").sum()",
    "id": "63be682cd1e444e08c0c4d37f3406a4d",
    "order_count": 4,
    "time": "2020-07-21T13:01:16.456Z",
    "type": "selectCodeCell"
   },
   {
    "code": "df = pd.read_csv(\"lux/data/college.csv\")",
    "id": "78a539bb361149808b28db83c04c6cab",
    "order_count": 3,
    "time": "2020-07-21T13:01:16.594Z",
    "type": "selectCodeCell"
   },
   {
    "code": "import pandas as pd\n%load_ext autoreload\n%autoreload 2\nimport lux",
    "id": "7428a8a53da0452880d1e6c1d21e8324",
    "order_count": 2,
    "time": "2020-07-21T13:01:16.739Z",
    "type": "selectCodeCell"
   },
   {
    "code": "This dataset contains a total of 1295 records of American colleges and their properties, collected by the [US Department of Education](https://collegescorecard.ed.gov/data/documentation/).",
    "id": "d71c5c8d5ca64ce888dbd78140f7092b",
    "order_count": 1,
    "time": "2020-07-21T13:01:16.861Z",
    "type": "selectMarkdownCell"
   },
   {
    "code": "cd ../",
    "id": "a7da79e1a13643cab773017189810627",
    "order_count": 0,
    "time": "2020-07-21T13:01:17.012Z",
    "type": "selectCodeCell"
   },
   {
    "time": "2020-07-21T13:01:17.040Z",
    "type": "kernelReady"
   },
   {
    "code": "cd ../",
    "id": "a7da79e1a13643cab773017189810627",
    "order_count": 0,
    "time": "2020-07-21T13:01:17.835Z",
    "type": "executeCodeCell"
   },
   {
    "code": "This dataset contains a total of 1295 records of American colleges and their properties, collected by the [US Department of Education](https://collegescorecard.ed.gov/data/documentation/).",
    "id": "d71c5c8d5ca64ce888dbd78140f7092b",
    "order_count": 1,
    "time": "2020-07-21T13:01:17.844Z",
    "type": "selectMarkdownCell"
   },
   {
    "code": "import pandas as pd\n%load_ext autoreload\n%autoreload 2\nimport lux",
    "id": "7428a8a53da0452880d1e6c1d21e8324",
    "order_count": 2,
    "time": "2020-07-21T13:01:17.985Z",
    "type": "selectCodeCell"
   },
   {
    "code": "import pandas as pd\n%load_ext autoreload\n%autoreload 2\nimport lux",
    "id": "7428a8a53da0452880d1e6c1d21e8324",
    "order_count": 2,
    "time": "2020-07-21T13:01:18.099Z",
    "type": "executeCodeCell"
   },
   {
    "code": "df = pd.read_csv(\"lux/data/college.csv\")",
    "id": "78a539bb361149808b28db83c04c6cab",
    "order_count": 3,
    "time": "2020-07-21T13:01:18.115Z",
    "type": "selectCodeCell"
   },
   {
    "code": "df = pd.read_csv(\"lux/data/college.csv\")",
    "id": "78a539bb361149808b28db83c04c6cab",
    "order_count": 3,
    "time": "2020-07-21T13:01:18.241Z",
    "type": "executeCodeCell"
   },
   {
    "code": "groupbyResult = df.groupby(\"Region\").sum()",
    "id": "63be682cd1e444e08c0c4d37f3406a4d",
    "order_count": 4,
    "time": "2020-07-21T13:01:18.257Z",
    "type": "selectCodeCell"
   },
   {
    "code": "groupbyResult = df.groupby(\"Region\").sum()",
    "id": "63be682cd1e444e08c0c4d37f3406a4d",
    "order_count": 4,
    "time": "2020-07-21T13:01:18.386Z",
    "type": "executeCodeCell"
   },
   {
    "code": "self = groupbyResult\nif (type(self.index) != pd.core.indexes.range.RangeIndex):# if multi-index, then default to pandas output\n    print (\"test\")\n    index_column_name = self.index.name",
    "id": "5e39c1e5c8e740e181980e5d80cfeb44",
    "order_count": 5,
    "time": "2020-07-21T13:01:18.406Z",
    "type": "selectCodeCell"
   },
   {
    "code": "self = groupbyResult\nif (type(self.index) != pd.core.indexes.range.RangeIndex):# if multi-index, then default to pandas output\n    print (\"test\")\n    index_column_name = self.index.name",
    "id": "5e39c1e5c8e740e181980e5d80cfeb44",
    "order_count": 5,
    "time": "2020-07-21T13:01:18.523Z",
    "type": "executeCodeCell"
   },
   {
    "code": "from lux.vis.Vis import Vis\nfrom lux.vis.VisList import VisList\n",
    "id": "ca07cdd3856841c082c7831ab613eb72",
    "order_count": 6,
    "time": "2020-07-21T13:01:18.540Z",
    "type": "selectCodeCell"
   },
   {
    "code": "from lux.vis.Vis import Vis\nfrom lux.vis.VisList import VisList\n",
    "id": "ca07cdd3856841c082c7831ab613eb72",
    "order_count": 6,
    "time": "2020-07-21T13:01:18.657Z",
    "type": "executeCodeCell"
   },
   {
    "code": "collection = []\nfor attribute in self.columns:\n    vis = Vis([index_column_name,lux.Clause(attribute,aggregation=None)],self[attribute].reset_index())\n    collection.append(vis)\nvlst = VisList(collection)",
    "id": "5f54f55b856742dc8bddf0782da7c89c",
    "order_count": 7,
    "time": "2020-07-21T13:01:18.676Z",
    "type": "selectCodeCell"
   },
   {
    "code": "collection = []\nfor attribute in self.columns:\n    vis = Vis([index_column_name,lux.Clause(attribute,aggregation=None)],self[attribute].reset_index())\n    collection.append(vis)\nvlst = VisList(collection)",
    "id": "5f54f55b856742dc8bddf0782da7c89c",
    "order_count": 7,
    "time": "2020-07-21T13:01:19.113Z",
    "type": "executeCodeCell"
   },
   {
    "code": "vlst",
    "id": "917a610a3dd7498b93e0a5620f734d67",
    "order_count": 8,
    "time": "2020-07-21T13:01:19.135Z",
    "type": "selectCodeCell"
   },
   {
    "code": "vlst",
    "id": "917a610a3dd7498b93e0a5620f734d67",
    "order_count": 8,
    "time": "2020-07-21T13:01:19.452Z",
    "type": "executeCodeCell"
   },
   {
    "code": "ldf = self[attribute].reset_index()",
    "id": "2d369fa13f9f4957aecf26bc5019d061",
    "order_count": 9,
    "time": "2020-07-21T13:01:19.467Z",
    "type": "selectCodeCell"
   },
   {
    "code": "import pandas as pd\n%load_ext autoreload\n%autoreload 2\nimport lux",
    "id": "7428a8a53da0452880d1e6c1d21e8324",
    "order_count": 2,
    "time": "2020-07-21T13:01:25.875Z",
    "type": "selectCodeCell"
   },
   {
    "code": "import pandas as pd\n%load_ext autoreload\n%autoreload 2\nimport lux",
    "id": "7428a8a53da0452880d1e6c1d21e8324",
    "order_count": 2,
    "time": "2020-07-21T13:01:25.883Z",
    "type": "editCodeCell"
   },
   {
    "time": "2020-07-21T13:01:27.515Z",
    "type": "kernelRestart"
   },
   {
    "time": "2020-07-21T13:01:27.648Z",
    "type": "kernelRestart"
   },
   {
    "code": "This dataset contains a total of 1295 records of American colleges and their properties, collected by the [US Department of Education](https://collegescorecard.ed.gov/data/documentation/).",
    "id": "d71c5c8d5ca64ce888dbd78140f7092b",
    "order_count": 1,
    "time": "2020-07-21T13:01:28.092Z",
    "type": "selectMarkdownCell"
   },
   {
    "code": "cd ../",
    "id": "a7da79e1a13643cab773017189810627",
    "order_count": 0,
    "time": "2020-07-21T13:01:28.248Z",
    "type": "selectCodeCell"
   },
   {
    "code": "cd ../",
    "id": "a7da79e1a13643cab773017189810627",
    "order_count": 0,
    "time": "2020-07-21T13:01:28.511Z",
    "type": "executeCodeCell"
   },
   {
    "code": "This dataset contains a total of 1295 records of American colleges and their properties, collected by the [US Department of Education](https://collegescorecard.ed.gov/data/documentation/).",
    "id": "d71c5c8d5ca64ce888dbd78140f7092b",
    "order_count": 1,
    "time": "2020-07-21T13:01:28.517Z",
    "type": "selectMarkdownCell"
   },
   {
    "code": "import pandas as pd\n%load_ext autoreload\n%autoreload 2\nimport lux",
    "id": "7428a8a53da0452880d1e6c1d21e8324",
    "order_count": 2,
    "time": "2020-07-21T13:01:28.676Z",
    "type": "selectCodeCell"
   },
   {
    "time": "2020-07-21T13:01:28.785Z",
    "type": "kernelReady"
   },
   {
    "code": "import pandas as pd\n%load_ext autoreload\n%autoreload 2\nimport lux",
    "id": "7428a8a53da0452880d1e6c1d21e8324",
    "order_count": 2,
    "time": "2020-07-21T13:01:28.809Z",
    "type": "executeCodeCell"
   },
   {
    "code": "df = pd.read_csv(\"lux/data/college.csv\")",
    "id": "78a539bb361149808b28db83c04c6cab",
    "order_count": 3,
    "time": "2020-07-21T13:01:28.825Z",
    "type": "selectCodeCell"
   },
   {
    "code": "df = pd.read_csv(\"lux/data/college.csv\")",
    "id": "78a539bb361149808b28db83c04c6cab",
    "order_count": 3,
    "time": "2020-07-21T13:01:28.943Z",
    "type": "executeCodeCell"
   },
   {
    "code": "groupbyResult = df.groupby(\"Region\").sum()",
    "id": "63be682cd1e444e08c0c4d37f3406a4d",
    "order_count": 4,
    "time": "2020-07-21T13:01:28.955Z",
    "type": "selectCodeCell"
   },
   {
    "code": "import pandas as pd\n%load_ext autoreload\n%autoreload 2\nimport lux",
    "id": "7428a8a53da0452880d1e6c1d21e8324",
    "isPrintLuxDf": false,
    "isPrintPandasDf": false,
    "isPrintVis": false,
    "isPrintVisCollection": false,
    "order_count": 2,
    "time": "2020-07-21T13:01:29.357Z",
    "type": "completeCodeCell"
   },
   {
    "code": "import pandas as pd\n%load_ext autoreload\n%autoreload 2\nimport lux",
    "id": "7428a8a53da0452880d1e6c1d21e8324",
    "isPrintLuxDf": false,
    "isPrintPandasDf": false,
    "isPrintVis": false,
    "isPrintVisCollection": false,
    "order_count": 2,
    "time": "2020-07-21T13:01:29.357Z",
    "type": "completeCodeCell"
   },
   {
    "code": "df = pd.read_csv(\"lux/data/college.csv\")",
    "id": "78a539bb361149808b28db83c04c6cab",
    "isPrintLuxDf": false,
    "isPrintPandasDf": false,
    "isPrintVis": false,
    "isPrintVisCollection": false,
    "order_count": 3,
    "time": "2020-07-21T13:01:29.392Z",
    "type": "completeCodeCell"
   },
   {
    "code": "df = pd.read_csv(\"lux/data/college.csv\")",
    "id": "78a539bb361149808b28db83c04c6cab",
    "isPrintLuxDf": false,
    "isPrintPandasDf": false,
    "isPrintVis": false,
    "isPrintVisCollection": false,
    "order_count": 3,
    "time": "2020-07-21T13:01:29.393Z",
    "type": "completeCodeCell"
   },
   {
    "code": "groupbyResult = df.groupby(\"Region\").sum()",
    "id": "63be682cd1e444e08c0c4d37f3406a4d",
    "order_count": 4,
    "time": "2020-07-21T13:01:30.067Z",
    "type": "executeCodeCell"
   },
   {
    "code": "self = groupbyResult\nif (type(self.index) != pd.core.indexes.range.RangeIndex):# if multi-index, then default to pandas output\n    print (\"test\")\n    index_column_name = self.index.name",
    "id": "5e39c1e5c8e740e181980e5d80cfeb44",
    "order_count": 5,
    "time": "2020-07-21T13:01:30.086Z",
    "type": "selectCodeCell"
   },
   {
    "code": "groupbyResult = df.groupby(\"Region\").sum()",
    "id": "63be682cd1e444e08c0c4d37f3406a4d",
    "isPrintLuxDf": false,
    "isPrintPandasDf": false,
    "isPrintVis": false,
    "isPrintVisCollection": false,
    "order_count": 4,
    "time": "2020-07-21T13:01:30.110Z",
    "type": "completeCodeCell"
   },
   {
    "code": "groupbyResult = df.groupby(\"Region\").sum()",
    "id": "63be682cd1e444e08c0c4d37f3406a4d",
    "isPrintLuxDf": false,
    "isPrintPandasDf": false,
    "isPrintVis": false,
    "isPrintVisCollection": false,
    "order_count": 4,
    "time": "2020-07-21T13:01:30.110Z",
    "type": "completeCodeCell"
   },
   {
    "code": "self = groupbyResult\nif (type(self.index) != pd.core.indexes.range.RangeIndex):# if multi-index, then default to pandas output\n    print (\"test\")\n    index_column_name = self.index.name",
    "id": "5e39c1e5c8e740e181980e5d80cfeb44",
    "order_count": 5,
    "time": "2020-07-21T13:01:30.218Z",
    "type": "executeCodeCell"
   },
   {
    "code": "from lux.vis.Vis import Vis\nfrom lux.vis.VisList import VisList\n",
    "id": "ca07cdd3856841c082c7831ab613eb72",
    "order_count": 6,
    "time": "2020-07-21T13:01:30.234Z",
    "type": "selectCodeCell"
   },
   {
    "code": "self = groupbyResult\nif (type(self.index) != pd.core.indexes.range.RangeIndex):# if multi-index, then default to pandas output\n    print (\"test\")\n    index_column_name = self.index.name",
    "id": "5e39c1e5c8e740e181980e5d80cfeb44",
    "isPrintLuxDf": false,
    "isPrintPandasDf": false,
    "isPrintVis": false,
    "isPrintVisCollection": false,
    "order_count": 5,
    "time": "2020-07-21T13:01:30.242Z",
    "type": "completeCodeCell"
   },
   {
    "code": "self = groupbyResult\nif (type(self.index) != pd.core.indexes.range.RangeIndex):# if multi-index, then default to pandas output\n    print (\"test\")\n    index_column_name = self.index.name",
    "id": "5e39c1e5c8e740e181980e5d80cfeb44",
    "isPrintLuxDf": false,
    "isPrintPandasDf": false,
    "isPrintVis": false,
    "isPrintVisCollection": false,
    "order_count": 5,
    "time": "2020-07-21T13:01:30.243Z",
    "type": "completeCodeCell"
   },
   {
    "code": "from lux.vis.Vis import Vis\nfrom lux.vis.VisList import VisList\n",
    "id": "ca07cdd3856841c082c7831ab613eb72",
    "order_count": 6,
    "time": "2020-07-21T13:01:30.362Z",
    "type": "executeCodeCell"
   },
   {
    "code": "collection = []\nfor attribute in self.columns:\n    vis = Vis([index_column_name,lux.Clause(attribute,aggregation=None)],self[attribute].reset_index())\n    collection.append(vis)\nvlst = VisList(collection)",
    "id": "5f54f55b856742dc8bddf0782da7c89c",
    "order_count": 7,
    "time": "2020-07-21T13:01:30.381Z",
    "type": "selectCodeCell"
   },
   {
    "code": "from lux.vis.Vis import Vis\nfrom lux.vis.VisList import VisList\n",
    "id": "ca07cdd3856841c082c7831ab613eb72",
    "isPrintLuxDf": false,
    "isPrintPandasDf": false,
    "isPrintVis": false,
    "isPrintVisCollection": false,
    "order_count": 6,
    "time": "2020-07-21T13:01:30.387Z",
    "type": "completeCodeCell"
   },
   {
    "code": "from lux.vis.Vis import Vis\nfrom lux.vis.VisList import VisList\n",
    "id": "ca07cdd3856841c082c7831ab613eb72",
    "isPrintLuxDf": false,
    "isPrintPandasDf": false,
    "isPrintVis": false,
    "isPrintVisCollection": false,
    "order_count": 6,
    "time": "2020-07-21T13:01:30.388Z",
    "type": "completeCodeCell"
   },
   {
    "code": "collection = []\nfor attribute in self.columns:\n    vis = Vis([index_column_name,lux.Clause(attribute,aggregation=None)],self[attribute].reset_index())\n    collection.append(vis)\nvlst = VisList(collection)",
    "id": "5f54f55b856742dc8bddf0782da7c89c",
    "order_count": 7,
    "time": "2020-07-21T13:01:30.738Z",
    "type": "executeCodeCell"
   },
   {
    "code": "vlst",
    "id": "917a610a3dd7498b93e0a5620f734d67",
    "order_count": 8,
    "time": "2020-07-21T13:01:30.755Z",
    "type": "selectCodeCell"
   },
   {
    "code": "collection = []\nfor attribute in self.columns:\n    vis = Vis([index_column_name,lux.Clause(attribute,aggregation=None)],self[attribute].reset_index())\n    collection.append(vis)\nvlst = VisList(collection)",
    "id": "5f54f55b856742dc8bddf0782da7c89c",
    "isPrintLuxDf": false,
    "isPrintPandasDf": false,
    "isPrintVis": false,
    "isPrintVisCollection": false,
    "order_count": 7,
    "time": "2020-07-21T13:01:30.837Z",
    "type": "completeCodeCell"
   },
   {
    "code": "collection = []\nfor attribute in self.columns:\n    vis = Vis([index_column_name,lux.Clause(attribute,aggregation=None)],self[attribute].reset_index())\n    collection.append(vis)\nvlst = VisList(collection)",
    "id": "5f54f55b856742dc8bddf0782da7c89c",
    "isPrintLuxDf": false,
    "isPrintPandasDf": false,
    "isPrintVis": false,
    "isPrintVisCollection": false,
    "order_count": 7,
    "time": "2020-07-21T13:01:30.838Z",
    "type": "completeCodeCell"
   },
   {
    "code": "vlst",
    "id": "917a610a3dd7498b93e0a5620f734d67",
    "order_count": 8,
    "time": "2020-07-21T13:01:31.073Z",
    "type": "executeCodeCell"
   },
   {
    "code": "ldf = self[attribute].reset_index()",
    "id": "2d369fa13f9f4957aecf26bc5019d061",
    "order_count": 9,
    "time": "2020-07-21T13:01:31.090Z",
    "type": "selectCodeCell"
   },
   {
    "code": "vlst",
    "id": "917a610a3dd7498b93e0a5620f734d67",
    "isPrintLuxDf": false,
    "isPrintPandasDf": false,
    "isPrintVis": false,
    "isPrintVisCollection": false,
    "order_count": 8,
    "time": "2020-07-21T13:01:31.286Z",
    "type": "completeCodeCell"
   },
   {
    "code": "vlst",
    "id": "917a610a3dd7498b93e0a5620f734d67",
    "isPrintLuxDf": false,
    "isPrintPandasDf": false,
    "isPrintVis": false,
    "isPrintVisCollection": false,
    "order_count": 8,
    "time": "2020-07-21T13:01:31.286Z",
    "type": "completeCodeCell"
   },
   {
    "param": "",
    "time": "2020-07-21T13:01:31.294Z",
    "type": "initWidget"
   },
   {
    "code": "vlst",
    "id": "917a610a3dd7498b93e0a5620f734d67",
    "order_count": 8,
    "time": "2020-07-21T13:01:32.510Z",
    "type": "selectCodeCell"
   },
   {
    "code": "vlst",
    "id": "917a610a3dd7498b93e0a5620f734d67",
    "order_count": 8,
    "time": "2020-07-21T13:01:43.527Z",
    "type": "selectCodeCell"
   },
   {
    "time": "2020-07-21T13:01:45.209Z",
    "type": "kernelRestart"
   },
   {
    "time": "2020-07-21T13:01:45.351Z",
    "type": "kernelRestart"
   },
   {
    "code": "collection = []\nfor attribute in self.columns:\n    vis = Vis([index_column_name,lux.Clause(attribute,aggregation=None)],self[attribute].reset_index())\n    collection.append(vis)\nvlst = VisList(collection)",
    "id": "5f54f55b856742dc8bddf0782da7c89c",
    "order_count": 7,
    "time": "2020-07-21T13:01:45.796Z",
    "type": "selectCodeCell"
   },
   {
    "code": "from lux.vis.Vis import Vis\nfrom lux.vis.VisList import VisList\n",
    "id": "ca07cdd3856841c082c7831ab613eb72",
    "order_count": 6,
    "time": "2020-07-21T13:01:45.934Z",
    "type": "selectCodeCell"
   },
   {
    "code": "self = groupbyResult\nif (type(self.index) != pd.core.indexes.range.RangeIndex):# if multi-index, then default to pandas output\n    print (\"test\")\n    index_column_name = self.index.name",
    "id": "5e39c1e5c8e740e181980e5d80cfeb44",
    "order_count": 5,
    "time": "2020-07-21T13:01:46.070Z",
    "type": "selectCodeCell"
   },
   {
    "code": "groupbyResult = df.groupby(\"Region\").sum()",
    "id": "63be682cd1e444e08c0c4d37f3406a4d",
    "order_count": 4,
    "time": "2020-07-21T13:01:46.187Z",
    "type": "selectCodeCell"
   },
   {
    "code": "df = pd.read_csv(\"lux/data/college.csv\")",
    "id": "78a539bb361149808b28db83c04c6cab",
    "order_count": 3,
    "time": "2020-07-21T13:01:46.338Z",
    "type": "selectCodeCell"
   },
   {
    "code": "import pandas as pd\n%load_ext autoreload\n%autoreload 2\nimport lux",
    "id": "7428a8a53da0452880d1e6c1d21e8324",
    "order_count": 2,
    "time": "2020-07-21T13:01:46.494Z",
    "type": "selectCodeCell"
   },
   {
    "time": "2020-07-21T13:01:46.578Z",
    "type": "kernelReady"
   },
   {
    "code": "This dataset contains a total of 1295 records of American colleges and their properties, collected by the [US Department of Education](https://collegescorecard.ed.gov/data/documentation/).",
    "id": "d71c5c8d5ca64ce888dbd78140f7092b",
    "order_count": 1,
    "time": "2020-07-21T13:01:46.607Z",
    "type": "selectMarkdownCell"
   },
   {
    "code": "cd ../",
    "id": "a7da79e1a13643cab773017189810627",
    "order_count": 0,
    "time": "2020-07-21T13:01:47.221Z",
    "type": "selectCodeCell"
   },
   {
    "code": "cd ../",
    "id": "a7da79e1a13643cab773017189810627",
    "order_count": 0,
    "time": "2020-07-21T13:01:47.451Z",
    "type": "executeCodeCell"
   },
   {
    "code": "This dataset contains a total of 1295 records of American colleges and their properties, collected by the [US Department of Education](https://collegescorecard.ed.gov/data/documentation/).",
    "id": "d71c5c8d5ca64ce888dbd78140f7092b",
    "order_count": 1,
    "time": "2020-07-21T13:01:47.459Z",
    "type": "selectMarkdownCell"
   },
   {
    "code": "import pandas as pd\n%load_ext autoreload\n%autoreload 2\nimport lux",
    "id": "7428a8a53da0452880d1e6c1d21e8324",
    "order_count": 2,
    "time": "2020-07-21T13:01:47.611Z",
    "type": "selectCodeCell"
   },
   {
    "code": "import pandas as pd\n%load_ext autoreload\n%autoreload 2\nimport lux",
    "id": "7428a8a53da0452880d1e6c1d21e8324",
    "order_count": 2,
    "time": "2020-07-21T13:01:47.722Z",
    "type": "executeCodeCell"
   },
   {
    "code": "df = pd.read_csv(\"lux/data/college.csv\")",
    "id": "78a539bb361149808b28db83c04c6cab",
    "order_count": 3,
    "time": "2020-07-21T13:01:47.738Z",
    "type": "selectCodeCell"
   },
   {
    "code": "df = pd.read_csv(\"lux/data/college.csv\")",
    "id": "78a539bb361149808b28db83c04c6cab",
    "order_count": 3,
    "time": "2020-07-21T13:01:47.858Z",
    "type": "executeCodeCell"
   },
   {
    "code": "groupbyResult = df.groupby(\"Region\").sum()",
    "id": "63be682cd1e444e08c0c4d37f3406a4d",
    "order_count": 4,
    "time": "2020-07-21T13:01:47.874Z",
    "type": "selectCodeCell"
   },
   {
    "code": "groupbyResult = df.groupby(\"Region\").sum()",
    "id": "63be682cd1e444e08c0c4d37f3406a4d",
    "order_count": 4,
    "time": "2020-07-21T13:01:47.995Z",
    "type": "executeCodeCell"
   },
   {
    "code": "self = groupbyResult\nif (type(self.index) != pd.core.indexes.range.RangeIndex):# if multi-index, then default to pandas output\n    print (\"test\")\n    index_column_name = self.index.name",
    "id": "5e39c1e5c8e740e181980e5d80cfeb44",
    "order_count": 5,
    "time": "2020-07-21T13:01:48.014Z",
    "type": "selectCodeCell"
   },
   {
    "code": "self = groupbyResult\nif (type(self.index) != pd.core.indexes.range.RangeIndex):# if multi-index, then default to pandas output\n    print (\"test\")\n    index_column_name = self.index.name",
    "id": "5e39c1e5c8e740e181980e5d80cfeb44",
    "order_count": 5,
    "time": "2020-07-21T13:01:48.707Z",
    "type": "executeCodeCell"
   },
   {
    "code": "from lux.vis.Vis import Vis\nfrom lux.vis.VisList import VisList\n",
    "id": "ca07cdd3856841c082c7831ab613eb72",
    "order_count": 6,
    "time": "2020-07-21T13:01:48.724Z",
    "type": "selectCodeCell"
   },
   {
    "code": "from lux.vis.Vis import Vis\nfrom lux.vis.VisList import VisList\n",
    "id": "ca07cdd3856841c082c7831ab613eb72",
    "order_count": 6,
    "time": "2020-07-21T13:01:49.131Z",
    "type": "executeCodeCell"
   },
   {
    "code": "collection = []\nfor attribute in self.columns:\n    vis = Vis([index_column_name,lux.Clause(attribute,aggregation=None)],self[attribute].reset_index())\n    collection.append(vis)\nvlst = VisList(collection)",
    "id": "5f54f55b856742dc8bddf0782da7c89c",
    "order_count": 7,
    "time": "2020-07-21T13:01:49.151Z",
    "type": "selectCodeCell"
   },
   {
    "code": "collection = []\nfor attribute in self.columns:\n    vis = Vis([index_column_name,lux.Clause(attribute,aggregation=None)],self[attribute].reset_index())\n    collection.append(vis)\nvlst = VisList(collection)",
    "id": "5f54f55b856742dc8bddf0782da7c89c",
    "order_count": 7,
    "time": "2020-07-21T13:01:50.178Z",
    "type": "executeCodeCell"
   },
   {
    "code": "vlst",
    "id": "917a610a3dd7498b93e0a5620f734d67",
    "order_count": 8,
    "time": "2020-07-21T13:01:50.199Z",
    "type": "selectCodeCell"
   },
   {
    "code": "vlst",
    "id": "917a610a3dd7498b93e0a5620f734d67",
    "order_count": 8,
    "time": "2020-07-21T13:01:50.403Z",
    "type": "executeCodeCell"
   },
   {
    "code": "ldf = self[attribute].reset_index()",
    "id": "2d369fa13f9f4957aecf26bc5019d061",
    "order_count": 9,
    "time": "2020-07-21T13:01:50.418Z",
    "type": "selectCodeCell"
   },
   {
    "code": "vlst",
    "id": "917a610a3dd7498b93e0a5620f734d67",
    "order_count": 8,
    "time": "2020-07-21T13:01:51.432Z",
    "type": "selectCodeCell"
   },
   {
    "code": "import pandas as pd\n%load_ext autoreload\n%autoreload 2\nimport lux",
    "id": "7428a8a53da0452880d1e6c1d21e8324",
    "order_count": 2,
    "time": "2020-07-21T13:01:54.580Z",
    "type": "selectCodeCell"
   },
   {
    "code": "import pandas as pd\n%load_ext autoreload\n%autoreload 2\nimport lux",
    "id": "7428a8a53da0452880d1e6c1d21e8324",
    "order_count": 2,
    "time": "2020-07-21T13:01:54.588Z",
    "type": "editCodeCell"
   },
   {
    "code": "import pandas as pd\n%load_ext autoreload\n%autoreload 2\nimport lux",
    "id": "7428a8a53da0452880d1e6c1d21e8324",
    "order_count": 2,
    "time": "2020-07-21T13:01:54.620Z",
    "type": "selectCodeCell"
   },
   {
    "time": "2020-07-21T13:02:01.355Z",
    "type": "kernelRestart"
   },
   {
    "time": "2020-07-21T13:02:01.536Z",
    "type": "kernelRestart"
   },
   {
    "code": "This dataset contains a total of 1295 records of American colleges and their properties, collected by the [US Department of Education](https://collegescorecard.ed.gov/data/documentation/).",
    "id": "d71c5c8d5ca64ce888dbd78140f7092b",
    "order_count": 1,
    "time": "2020-07-21T13:02:02.175Z",
    "type": "selectMarkdownCell"
   },
   {
    "code": "cd ../",
    "id": "a7da79e1a13643cab773017189810627",
    "order_count": 0,
    "time": "2020-07-21T13:02:02.335Z",
    "type": "selectCodeCell"
   },
   {
    "code": "cd ../",
    "id": "a7da79e1a13643cab773017189810627",
    "order_count": 0,
    "time": "2020-07-21T13:02:02.640Z",
    "type": "executeCodeCell"
   },
   {
    "code": "This dataset contains a total of 1295 records of American colleges and their properties, collected by the [US Department of Education](https://collegescorecard.ed.gov/data/documentation/).",
    "id": "d71c5c8d5ca64ce888dbd78140f7092b",
    "order_count": 1,
    "time": "2020-07-21T13:02:02.648Z",
    "type": "selectMarkdownCell"
   },
   {
    "time": "2020-07-21T13:02:02.745Z",
    "type": "kernelReady"
   },
   {
    "code": "cd ../",
    "id": "a7da79e1a13643cab773017189810627",
    "isPrintLuxDf": false,
    "isPrintPandasDf": false,
    "isPrintVis": false,
    "isPrintVisCollection": false,
    "order_count": 0,
    "time": "2020-07-21T13:02:02.800Z",
    "type": "completeCodeCell"
   },
   {
    "code": "cd ../",
    "id": "a7da79e1a13643cab773017189810627",
    "isPrintLuxDf": false,
    "isPrintPandasDf": false,
    "isPrintVis": false,
    "isPrintVisCollection": false,
    "order_count": 0,
    "time": "2020-07-21T13:02:02.800Z",
    "type": "completeCodeCell"
   },
   {
    "code": "cd ../",
    "id": "a7da79e1a13643cab773017189810627",
    "isPrintLuxDf": false,
    "isPrintPandasDf": false,
    "isPrintVis": false,
    "isPrintVisCollection": false,
    "order_count": 0,
    "time": "2020-07-21T13:02:02.800Z",
    "type": "completeCodeCell"
   },
   {
    "code": "cd ../",
    "id": "a7da79e1a13643cab773017189810627",
    "isPrintLuxDf": false,
    "isPrintPandasDf": false,
    "isPrintVis": false,
    "isPrintVisCollection": false,
    "order_count": 0,
    "time": "2020-07-21T13:02:02.801Z",
    "type": "completeCodeCell"
   },
   {
    "code": "import pandas as pd\n%load_ext autoreload\n%autoreload 2\nimport lux",
    "id": "7428a8a53da0452880d1e6c1d21e8324",
    "order_count": 2,
    "time": "2020-07-21T13:02:03.888Z",
    "type": "selectCodeCell"
   },
   {
    "code": "cd ../",
    "id": "a7da79e1a13643cab773017189810627",
    "order_count": 0,
    "time": "2020-07-21T13:02:40.316Z",
    "type": "selectCodeCell"
   },
   {
    "code": "cd ../",
    "id": "a7da79e1a13643cab773017189810627",
    "order_count": 0,
    "time": "2020-07-21T13:02:40.323Z",
    "type": "editCodeCell"
   },
   {
    "code": "cd ../",
    "id": "a7da79e1a13643cab773017189810627",
    "order_count": 0,
    "time": "2020-07-21T13:02:40.353Z",
    "type": "selectCodeCell"
   },
   {
    "code": "cd ../",
    "id": "a7da79e1a13643cab773017189810627",
    "order_count": 0,
    "time": "2020-07-21T13:02:40.375Z",
    "type": "selectCodeCell"
   },
   {
    "time": "2020-07-21T13:02:41.866Z",
    "type": "kernelRestart"
   },
   {
    "time": "2020-07-21T13:02:42.616Z",
    "type": "kernelReady"
   },
   {
    "code": "cd ../",
    "id": "a7da79e1a13643cab773017189810627",
    "order_count": 0,
    "time": "2020-07-21T13:02:42.970Z",
    "type": "editCodeCell"
   },
   {
    "code": "cd ../",
    "id": "a7da79e1a13643cab773017189810627",
    "order_count": 0,
    "time": "2020-07-21T13:02:43.030Z",
    "type": "selectCodeCell"
   }
  ],
  "kernelspec": {
   "display_name": "Python 3",
   "language": "python",
   "name": "python3"
  },
  "language_info": {
   "codemirror_mode": {
    "name": "ipython",
    "version": 3
   },
   "file_extension": ".py",
   "mimetype": "text/x-python",
   "name": "python",
   "nbconvert_exporter": "python",
   "pygments_lexer": "ipython3",
   "version": "3.7.7"
  }
 },
 "nbformat": 4,
 "nbformat_minor": 4
}
