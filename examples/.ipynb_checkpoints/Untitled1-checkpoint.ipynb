{
 "cells": [
  {
   "cell_type": "code",
   "execution_count": 1,
   "metadata": {},
   "outputs": [
    {
     "name": "stdout",
     "output_type": "stream",
     "text": [
      "/Users/dorislee/Desktop/Research/lux/lux\n"
     ]
    }
   ],
   "source": [
    "cd .."
   ]
  },
  {
   "cell_type": "code",
   "execution_count": 2,
   "metadata": {},
   "outputs": [],
   "source": [
    "import pandas as pd\n",
    "import lux"
   ]
  },
  {
   "cell_type": "code",
   "execution_count": 3,
   "metadata": {},
   "outputs": [],
   "source": [
    "df = pd.read_csv(\"lux/data/olympic.csv\")\n",
    "from lux.vis.Vis import Vis\n",
    "vis = Vis([\"Height\",\"SportType=Ball\"],df)"
   ]
  },
  {
   "cell_type": "code",
   "execution_count": 4,
   "metadata": {},
   "outputs": [
    {
     "data": {
      "application/vnd.jupyter.widget-view+json": {
       "model_id": "d537c252cf97464eb4ed55d26bf7668f",
       "version_major": 2,
       "version_minor": 0
      },
      "text/plain": [
       "LuxWidget(current_view={'config': {'view': {'continuousWidth': 400, 'continuousHeight': 300}}, 'data': {'name'…"
      ]
     },
     "metadata": {},
     "output_type": "display_data"
    },
    {
     "data": {
      "text/plain": [
       "<Vis  (x: BIN(Height), y: COUNT(Record) -- [SportType=Ball]) mark: histogram, score: 0.0 >"
      ]
     },
     "execution_count": 4,
     "metadata": {},
     "output_type": "execute_result"
    }
   ],
   "source": [
    "vis"
   ]
  },
  {
   "cell_type": "code",
   "execution_count": 5,
   "metadata": {},
   "outputs": [],
   "source": [
    "vis.set_specs([\"Height\",\"SportType=Ice\"])"
   ]
  },
  {
   "cell_type": "code",
   "execution_count": 6,
   "metadata": {},
   "outputs": [
    {
     "data": {
      "application/vnd.jupyter.widget-view+json": {
       "model_id": "edcd4e7cca92470ab05e7e97c83539b4",
       "version_major": 2,
       "version_minor": 0
      },
      "text/plain": [
       "LuxWidget(current_view={'config': {'view': {'continuousWidth': 400, 'continuousHeight': 300}}, 'data': {'name'…"
      ]
     },
     "metadata": {},
     "output_type": "display_data"
    },
    {
     "data": {
      "text/plain": [
       "<Vis  (x: BIN(Height), y: COUNT(Record) -- [SportType=Ice]) mark: histogram, score: 0.0 >"
      ]
     },
     "execution_count": 6,
     "metadata": {},
     "output_type": "execute_result"
    }
   ],
   "source": [
    "vis"
   ]
  },
  {
   "cell_type": "code",
   "execution_count": 7,
   "metadata": {},
   "outputs": [
    {
     "data": {
      "application/vnd.jupyter.widget-view+json": {
       "model_id": "08de9a4e854c4949ac8a3f7e0ba53fd5",
       "version_major": 2,
       "version_minor": 0
      },
      "text/plain": [
       "LuxWidget(current_view={'config': {'view': {'continuousWidth': 400, 'continuousHeight': 300}}, 'data': {'name'…"
      ]
     },
     "metadata": {},
     "output_type": "display_data"
    },
    {
     "data": {
      "text/plain": [
       "<Vis  (x: BIN(Height), y: COUNT(Record) -- [SportType=Ice]) mark: histogram, score: 0.0 >"
      ]
     },
     "execution_count": 7,
     "metadata": {},
     "output_type": "execute_result"
    }
   ],
   "source": [
    "vis.refresh_source(df[df[\"Sex\"]==\"F\"])\n",
    "vis"
   ]
  },
  {
   "cell_type": "code",
   "execution_count": 8,
   "metadata": {},
   "outputs": [],
   "source": [
    "df = pd.read_csv(\"lux/data/olympic.csv\")\n",
    "from lux.vis.VisCollection import VisCollection\n",
    "vc = VisCollection([\"Height\",\"SportType=Ball\",\"?\"],df)\n",
    "vis_with_year = list(filter(lambda x: x.get_attr_by_attr_name(\"Year\")!=[],vc))[0]\n",
    "assert vis_with_year.get_attr_by_channel(\"x\")[0].attribute==\"Year\"\n",
    "assert len(vc) == len(df.columns) -1 -1 #remove 1 for vis with same filter attribute and remove 1 vis with for same attribute\n",
    "vc = VisCollection([\"Height\",\"?\"],df)\n",
    "assert len(vc) == len(df.columns) -1 #remove 1 for vis with for same attribute\n"
   ]
  },
  {
   "cell_type": "code",
   "execution_count": 12,
   "metadata": {},
   "outputs": [
    {
     "data": {
      "application/vnd.jupyter.widget-view+json": {
       "model_id": "dc35a6469a9f425f97e3ea188af61894",
       "version_major": 2,
       "version_minor": 0
      },
      "text/plain": [
       "Button(description='Toggle Pandas/Lux', layout=Layout(top='5px', width='140px'), style=ButtonStyle())"
      ]
     },
     "metadata": {},
     "output_type": "display_data"
    },
    {
     "data": {
      "application/vnd.jupyter.widget-view+json": {
       "model_id": "c480a093a787467c90d6645e0d0352bf",
       "version_major": 2,
       "version_minor": 0
      },
      "text/plain": [
       "Output()"
      ]
     },
     "metadata": {},
     "output_type": "display_data"
    },
    {
     "data": {
      "text/plain": []
     },
     "execution_count": 12,
     "metadata": {},
     "output_type": "execute_result"
    }
   ],
   "source": [
    "vc[3].source\n",
    "vc[3].data"
   ]
  },
  {
   "cell_type": "code",
   "execution_count": 40,
   "metadata": {},
   "outputs": [],
   "source": [
    "assert vis.get_attr_by_attr_name(\"SportType\")[0].value ==\"Ice\""
   ]
  },
  {
   "cell_type": "code",
   "execution_count": 26,
   "metadata": {},
   "outputs": [
    {
     "data": {
      "text/plain": [
       "'count'"
      ]
     },
     "execution_count": 26,
     "metadata": {},
     "output_type": "execute_result"
    }
   ],
   "source": []
  }
 ],
 "metadata": {
  "history": [
   {
    "time": "2020-07-14T08:22:49.975Z",
    "type": "kernelReady"
   },
   {
    "code": "",
    "id": "74670b4a7a794ba7b739c97ec71945a8",
    "order_count": 0,
    "time": "2020-07-14T08:22:50.306Z",
    "type": "selectCodeCell"
   },
   {
    "code": "",
    "id": "53ac2deab3234be785d747df05424b1d",
    "order_count": 0,
    "time": "2020-07-14T08:22:54.560Z",
    "type": "selectCodeCell"
   },
   {
    "code": "",
    "id": "53ac2deab3234be785d747df05424b1d",
    "order_count": 0,
    "time": "2020-07-14T08:22:54.694Z",
    "type": "editCodeCell"
   },
   {
    "code": "import pandas as pd\nimport lux",
    "id": "53ac2deab3234be785d747df05424b1d",
    "order_count": 0,
    "time": "2020-07-14T08:22:59.198Z",
    "type": "executeCodeCell"
   },
   {
    "code": "df = pd.read_csv(\"lux/data/olympic.csv\")\nfrom lux.vis.VisCollection import VisCollection\nvc = VisCollection([\"Height\",\"SportType=Ball\",\"?\"],df)\nview_with_year = list(filter(lambda x: x.get_attr_by_attr_name(\"Year\")!=[],vc))[0]\nassert view_with_year.get_attr_by_channel(\"x\")[0].attribute==\"Year\"\nassert len(vc) == len(df.columns) -1 -1 #remove 1 for view with same filter attribute and remove 1 view with for same attribute\nvc = VisCollection([\"Height\",\"?\"],df)\nassert len(vc) == len(df.columns) -1 #remove 1 f",
    "id": "74670b4a7a794ba7b739c97ec71945a8",
    "order_count": 1,
    "time": "2020-07-14T08:22:59.220Z",
    "type": "selectCodeCell"
   },
   {
    "code": "import pandas as pd\nimport lux",
    "id": "53ac2deab3234be785d747df05424b1d",
    "isPrintLuxDf": false,
    "isPrintPandasDf": false,
    "isPrintView": false,
    "isPrintViewCollection": false,
    "order_count": 0,
    "time": "2020-07-14T08:22:59.538Z",
    "type": "completeCodeCell"
   },
   {
    "code": "df = pd.read_csv(\"lux/data/olympic.csv\")\nfrom lux.vis.VisCollection import VisCollection\nvc = VisCollection([\"Height\",\"SportType=Ball\",\"?\"],df)\nview_with_year = list(filter(lambda x: x.get_attr_by_attr_name(\"Year\")!=[],vc))[0]\nassert view_with_year.get_attr_by_channel(\"x\")[0].attribute==\"Year\"\nassert len(vc) == len(df.columns) -1 -1 #remove 1 for view with same filter attribute and remove 1 view with for same attribute\nvc = VisCollection([\"Height\",\"?\"],df)\nassert len(vc) == len(df.columns) -1 #remove 1 f",
    "id": "74670b4a7a794ba7b739c97ec71945a8",
    "order_count": 1,
    "time": "2020-07-14T08:22:59.903Z",
    "type": "executeCodeCell"
   },
   {
    "code": "",
    "id": "c19ee71d29b04f509f7aeaf48d8accf8",
    "order_count": 2,
    "time": "2020-07-14T08:22:59.928Z",
    "type": "editCodeCell"
   },
   {
    "code": "df = pd.read_csv(\"lux/data/olympic.csv\")\nfrom lux.vis.VisCollection import VisCollection\nvc = VisCollection([\"Height\",\"SportType=Ball\",\"?\"],df)\nview_with_year = list(filter(lambda x: x.get_attr_by_attr_name(\"Year\")!=[],vc))[0]\nassert view_with_year.get_attr_by_channel(\"x\")[0].attribute==\"Year\"\nassert len(vc) == len(df.columns) -1 -1 #remove 1 for view with same filter attribute and remove 1 view with for same attribute\nvc = VisCollection([\"Height\",\"?\"],df)\nassert len(vc) == len(df.columns) -1 #remove 1 f",
    "id": "74670b4a7a794ba7b739c97ec71945a8",
    "isPrintLuxDf": false,
    "isPrintPandasDf": false,
    "isPrintView": false,
    "isPrintViewCollection": false,
    "order_count": 1,
    "time": "2020-07-14T08:23:00.040Z",
    "type": "completeCodeCell"
   },
   {
    "code": "df = pd.read_csv(\"lux/data/olympic.csv\")\nfrom lux.vis.VisCollection import VisCollection\nvc = VisCollection([\"Height\",\"SportType=Ball\",\"?\"],df)\nview_with_year = list(filter(lambda x: x.get_attr_by_attr_name(\"Year\")!=[],vc))[0]\nassert view_with_year.get_attr_by_channel(\"x\")[0].attribute==\"Year\"\nassert len(vc) == len(df.columns) -1 -1 #remove 1 for view with same filter attribute and remove 1 view with for same attribute\nvc = VisCollection([\"Height\",\"?\"],df)\nassert len(vc) == len(df.columns) -1 #remove 1 f",
    "id": "74670b4a7a794ba7b739c97ec71945a8",
    "order_count": 1,
    "time": "2020-07-14T08:23:02.386Z",
    "type": "selectCodeCell"
   },
   {
    "code": "df = pd.read_csv(\"lux/data/olympic.csv\")\nfrom lux.vis.VisCollection import VisCollection\nvc = VisCollection([\"Height\",\"SportType=Ball\",\"?\"],df)\nview_with_year = list(filter(lambda x: x.get_attr_by_attr_name(\"Year\")!=[],vc))[0]\nassert view_with_year.get_attr_by_channel(\"x\")[0].attribute==\"Year\"\nassert len(vc) == len(df.columns) -1 -1 #remove 1 for view with same filter attribute and remove 1 view with for same attribute\nvc = VisCollection([\"Height\",\"?\"],df)\nassert len(vc) == len(df.columns) -1 #remove 1 f",
    "id": "74670b4a7a794ba7b739c97ec71945a8",
    "order_count": 1,
    "time": "2020-07-14T08:23:03.192Z",
    "type": "editCodeCell"
   },
   {
    "code": "df = pd.read_csv(\"../lux/data/olympic.csv\")\nfrom lux.vis.VisCollection import VisCollection\nvc = VisCollection([\"Height\",\"SportType=Ball\",\"?\"],df)\nview_with_year = list(filter(lambda x: x.get_attr_by_attr_name(\"Year\")!=[],vc))[0]\nassert view_with_year.get_attr_by_channel(\"x\")[0].attribute==\"Year\"\nassert len(vc) == len(df.columns) -1 -1 #remove 1 for view with same filter attribute and remove 1 view with for same attribute\nvc = VisCollection([\"Height\",\"?\"],df)\nassert len(vc) == len(df.columns) -1 #remove 1 f",
    "id": "74670b4a7a794ba7b739c97ec71945a8",
    "order_count": 1,
    "time": "2020-07-14T08:23:05.144Z",
    "type": "executeCodeCell"
   },
   {
    "code": "",
    "id": "c19ee71d29b04f509f7aeaf48d8accf8",
    "order_count": 2,
    "time": "2020-07-14T08:23:05.160Z",
    "type": "selectCodeCell"
   },
   {
    "code": "df = pd.read_csv(\"../lux/data/olympic.csv\")\nfrom lux.vis.VisCollection import VisCollection\nvc = VisCollection([\"Height\",\"SportType=Ball\",\"?\"],df)\nview_with_year = list(filter(lambda x: x.get_attr_by_attr_name(\"Year\")!=[],vc))[0]\nassert view_with_year.get_attr_by_channel(\"x\")[0].attribute==\"Year\"\nassert len(vc) == len(df.columns) -1 -1 #remove 1 for view with same filter attribute and remove 1 view with for same attribute\nvc = VisCollection([\"Height\",\"?\"],df)\nassert len(vc) == len(df.columns) -1 #remove 1 f",
    "id": "74670b4a7a794ba7b739c97ec71945a8",
    "isPrintLuxDf": false,
    "isPrintPandasDf": false,
    "isPrintView": false,
    "isPrintViewCollection": false,
    "order_count": 1,
    "time": "2020-07-14T08:23:05.189Z",
    "type": "completeCodeCell"
   },
   {
    "code": "df = pd.read_csv(\"../lux/data/olympic.csv\")\nfrom lux.vis.VisCollection import VisCollection\nvc = VisCollection([\"Height\",\"SportType=Ball\",\"?\"],df)\nview_with_year = list(filter(lambda x: x.get_attr_by_attr_name(\"Year\")!=[],vc))[0]\nassert view_with_year.get_attr_by_channel(\"x\")[0].attribute==\"Year\"\nassert len(vc) == len(df.columns) -1 -1 #remove 1 for view with same filter attribute and remove 1 view with for same attribute\nvc = VisCollection([\"Height\",\"?\"],df)\nassert len(vc) == len(df.columns) -1 #remove 1 f",
    "id": "74670b4a7a794ba7b739c97ec71945a8",
    "order_count": 1,
    "time": "2020-07-14T08:23:05.864Z",
    "type": "selectCodeCell"
   },
   {
    "code": "df = pd.read_csv(\"../lux/data/olympic.csv\")\nfrom lux.vis.VisCollection import VisCollection\nvc = VisCollection([\"Height\",\"SportType=Ball\",\"?\"],df)\nview_with_year = list(filter(lambda x: x.get_attr_by_attr_name(\"Year\")!=[],vc))[0]\nassert view_with_year.get_attr_by_channel(\"x\")[0].attribute==\"Year\"\nassert len(vc) == len(df.columns) -1 -1 #remove 1 for view with same filter attribute and remove 1 view with for same attribute\nvc = VisCollection([\"Height\",\"?\"],df)\nassert len(vc) == len(df.columns) -1 #remove 1 f",
    "id": "74670b4a7a794ba7b739c97ec71945a8",
    "order_count": 1,
    "time": "2020-07-14T08:23:06.075Z",
    "type": "editCodeCell"
   },
   {
    "code": "",
    "id": "03cb8afcf347496f82e47f207e86b1e4",
    "order_count": 1,
    "time": "2020-07-14T08:23:07.481Z",
    "type": "selectCodeCell"
   },
   {
    "code": "",
    "id": "03cb8afcf347496f82e47f207e86b1e4",
    "order_count": 1,
    "time": "2020-07-14T08:23:07.601Z",
    "type": "editCodeCell"
   },
   {
    "time": "2020-07-14T08:23:10.925Z",
    "type": "kernelRestart"
   },
   {
    "time": "2020-07-14T08:23:11.744Z",
    "type": "kernelReady"
   },
   {
    "code": "cd ..",
    "id": "03cb8afcf347496f82e47f207e86b1e4",
    "order_count": 0,
    "time": "2020-07-14T08:23:12.592Z",
    "type": "selectCodeCell"
   },
   {
    "code": "cd ..",
    "id": "03cb8afcf347496f82e47f207e86b1e4",
    "order_count": 0,
    "time": "2020-07-14T08:23:13.211Z",
    "type": "editCodeCell"
   },
   {
    "code": "cd ..",
    "id": "03cb8afcf347496f82e47f207e86b1e4",
    "order_count": 0,
    "time": "2020-07-14T08:23:13.321Z",
    "type": "selectCodeCell"
   },
   {
    "code": "cd ..",
    "id": "03cb8afcf347496f82e47f207e86b1e4",
    "order_count": 0,
    "time": "2020-07-14T08:23:14.054Z",
    "type": "executeCodeCell"
   },
   {
    "code": "import pandas as pd\nimport lux",
    "id": "53ac2deab3234be785d747df05424b1d",
    "order_count": 1,
    "time": "2020-07-14T08:23:14.070Z",
    "type": "selectCodeCell"
   },
   {
    "code": "cd ..",
    "id": "03cb8afcf347496f82e47f207e86b1e4",
    "isPrintLuxDf": false,
    "isPrintPandasDf": false,
    "isPrintView": false,
    "isPrintViewCollection": false,
    "order_count": 0,
    "time": "2020-07-14T08:23:14.074Z",
    "type": "completeCodeCell"
   },
   {
    "code": "import pandas as pd\nimport lux",
    "id": "53ac2deab3234be785d747df05424b1d",
    "order_count": 1,
    "time": "2020-07-14T08:23:14.911Z",
    "type": "executeCodeCell"
   },
   {
    "code": "df = pd.read_csv(\"lux/data/olympic.csv\")\nfrom lux.vis.VisCollection import VisCollection\nvc = VisCollection([\"Height\",\"SportType=Ball\",\"?\"],df)\nview_with_year = list(filter(lambda x: x.get_attr_by_attr_name(\"Year\")!=[],vc))[0]\nassert view_with_year.get_attr_by_channel(\"x\")[0].attribute==\"Year\"\nassert len(vc) == len(df.columns) -1 -1 #remove 1 for view with same filter attribute and remove 1 view with for same attribute\nvc = VisCollection([\"Height\",\"?\"],df)\nassert len(vc) == len(df.columns) -1 #remove 1 f",
    "id": "74670b4a7a794ba7b739c97ec71945a8",
    "order_count": 2,
    "time": "2020-07-14T08:23:14.930Z",
    "type": "selectCodeCell"
   },
   {
    "code": "import pandas as pd\nimport lux",
    "id": "53ac2deab3234be785d747df05424b1d",
    "isPrintLuxDf": false,
    "isPrintPandasDf": false,
    "isPrintView": false,
    "isPrintViewCollection": false,
    "order_count": 1,
    "time": "2020-07-14T08:23:15.227Z",
    "type": "completeCodeCell"
   },
   {
    "code": "df = pd.read_csv(\"lux/data/olympic.csv\")\nfrom lux.vis.VisCollection import VisCollection\nvc = VisCollection([\"Height\",\"SportType=Ball\",\"?\"],df)\nview_with_year = list(filter(lambda x: x.get_attr_by_attr_name(\"Year\")!=[],vc))[0]\nassert view_with_year.get_attr_by_channel(\"x\")[0].attribute==\"Year\"\nassert len(vc) == len(df.columns) -1 -1 #remove 1 for view with same filter attribute and remove 1 view with for same attribute\nvc = VisCollection([\"Height\",\"?\"],df)\nassert len(vc) == len(df.columns) -1 #remove 1 f",
    "id": "74670b4a7a794ba7b739c97ec71945a8",
    "order_count": 2,
    "time": "2020-07-14T08:23:15.590Z",
    "type": "executeCodeCell"
   },
   {
    "code": "",
    "id": "c19ee71d29b04f509f7aeaf48d8accf8",
    "order_count": 3,
    "time": "2020-07-14T08:23:15.599Z",
    "type": "selectCodeCell"
   },
   {
    "code": "df = pd.read_csv(\"lux/data/olympic.csv\")\nfrom lux.vis.VisCollection import VisCollection\nvc = VisCollection([\"Height\",\"SportType=Ball\",\"?\"],df)\nview_with_year = list(filter(lambda x: x.get_attr_by_attr_name(\"Year\")!=[],vc))[0]\nassert view_with_year.get_attr_by_channel(\"x\")[0].attribute==\"Year\"\nassert len(vc) == len(df.columns) -1 -1 #remove 1 for view with same filter attribute and remove 1 view with for same attribute\nvc = VisCollection([\"Height\",\"?\"],df)\nassert len(vc) == len(df.columns) -1 #remove 1 f",
    "id": "74670b4a7a794ba7b739c97ec71945a8",
    "isPrintLuxDf": false,
    "isPrintPandasDf": false,
    "isPrintView": false,
    "isPrintViewCollection": false,
    "order_count": 2,
    "time": "2020-07-14T08:23:16.195Z",
    "type": "completeCodeCell"
   },
   {
    "code": "df = pd.read_csv(\"lux/data/olympic.csv\")\nfrom lux.vis.VisCollection import VisCollection\nvc = VisCollection([\"Height\",\"SportType=Ball\",\"?\"],df)\nview_with_year = list(filter(lambda x: x.get_attr_by_attr_name(\"Year\")!=[],vc))[0]\nassert view_with_year.get_attr_by_channel(\"x\")[0].attribute==\"Year\"\nassert len(vc) == len(df.columns) -1 -1 #remove 1 for view with same filter attribute and remove 1 view with for same attribute\nvc = VisCollection([\"Height\",\"?\"],df)\nassert len(vc) == len(df.columns) -1 #remove 1 f",
    "id": "74670b4a7a794ba7b739c97ec71945a8",
    "order_count": 2,
    "time": "2020-07-14T08:23:18.023Z",
    "type": "selectCodeCell"
   },
   {
    "code": "df = pd.read_csv(\"lux/data/olympic.csv\")\nfrom lux.vis.VisCollection import VisCollection\nvc = VisCollection([\"Height\",\"SportType=Ball\",\"?\"],df)\nview_with_year = list(filter(lambda x: x.get_attr_by_attr_name(\"Year\")!=[],vc))[0]\nassert view_with_year.get_attr_by_channel(\"x\")[0].attribute==\"Year\"\nassert len(vc) == len(df.columns) -1 -1 #remove 1 for view with same filter attribute and remove 1 view with for same attribute\nvc = VisCollection([\"Height\",\"?\"],df)\nassert len(vc) == len(df.columns) -1 #remove 1 f",
    "id": "74670b4a7a794ba7b739c97ec71945a8",
    "order_count": 2,
    "time": "2020-07-14T08:23:18.031Z",
    "type": "editCodeCell"
   },
   {
    "code": "df = pd.read_csv(\"data/olympic.csv\")\nfrom lux.vis.VisCollection import VisCollection\nvc = VisCollection([\"Height\",\"SportType=Ball\",\"?\"],df)\nview_with_year = list(filter(lambda x: x.get_attr_by_attr_name(\"Year\")!=[],vc))[0]\nassert view_with_year.get_attr_by_channel(\"x\")[0].attribute==\"Year\"\nassert len(vc) == len(df.columns) -1 -1 #remove 1 for view with same filter attribute and remove 1 view with for same attribute\nvc = VisCollection([\"Height\",\"?\"],df)\nassert len(vc) == len(df.columns) -1 #remove 1 f",
    "id": "74670b4a7a794ba7b739c97ec71945a8",
    "order_count": 2,
    "time": "2020-07-14T08:23:19.975Z",
    "type": "executeCodeCell"
   },
   {
    "code": "",
    "id": "c19ee71d29b04f509f7aeaf48d8accf8",
    "order_count": 3,
    "time": "2020-07-14T08:23:19.990Z",
    "type": "selectCodeCell"
   },
   {
    "code": "df = pd.read_csv(\"data/olympic.csv\")\nfrom lux.vis.VisCollection import VisCollection\nvc = VisCollection([\"Height\",\"SportType=Ball\",\"?\"],df)\nview_with_year = list(filter(lambda x: x.get_attr_by_attr_name(\"Year\")!=[],vc))[0]\nassert view_with_year.get_attr_by_channel(\"x\")[0].attribute==\"Year\"\nassert len(vc) == len(df.columns) -1 -1 #remove 1 for view with same filter attribute and remove 1 view with for same attribute\nvc = VisCollection([\"Height\",\"?\"],df)\nassert len(vc) == len(df.columns) -1 #remove 1 f",
    "id": "74670b4a7a794ba7b739c97ec71945a8",
    "isPrintLuxDf": false,
    "isPrintPandasDf": false,
    "isPrintView": false,
    "isPrintViewCollection": false,
    "order_count": 2,
    "time": "2020-07-14T08:23:20.007Z",
    "type": "completeCodeCell"
   },
   {
    "code": "df = pd.read_csv(\"data/olympic.csv\")\nfrom lux.vis.VisCollection import VisCollection\nvc = VisCollection([\"Height\",\"SportType=Ball\",\"?\"],df)\nview_with_year = list(filter(lambda x: x.get_attr_by_attr_name(\"Year\")!=[],vc))[0]\nassert view_with_year.get_attr_by_channel(\"x\")[0].attribute==\"Year\"\nassert len(vc) == len(df.columns) -1 -1 #remove 1 for view with same filter attribute and remove 1 view with for same attribute\nvc = VisCollection([\"Height\",\"?\"],df)\nassert len(vc) == len(df.columns) -1 #remove 1 f",
    "id": "74670b4a7a794ba7b739c97ec71945a8",
    "order_count": 2,
    "time": "2020-07-14T08:23:21.664Z",
    "type": "selectCodeCell"
   },
   {
    "code": "df = pd.read_csv(\"data/olympic.csv\")\nfrom lux.vis.VisCollection import VisCollection\nvc = VisCollection([\"Height\",\"SportType=Ball\",\"?\"],df)\nview_with_year = list(filter(lambda x: x.get_attr_by_attr_name(\"Year\")!=[],vc))[0]\nassert view_with_year.get_attr_by_channel(\"x\")[0].attribute==\"Year\"\nassert len(vc) == len(df.columns) -1 -1 #remove 1 for view with same filter attribute and remove 1 view with for same attribute\nvc = VisCollection([\"Height\",\"?\"],df)\nassert len(vc) == len(df.columns) -1 #remove 1 f",
    "id": "74670b4a7a794ba7b739c97ec71945a8",
    "order_count": 2,
    "time": "2020-07-14T08:23:21.673Z",
    "type": "editCodeCell"
   },
   {
    "code": "import pandas as pd\nimport lux",
    "id": "53ac2deab3234be785d747df05424b1d",
    "order_count": 1,
    "time": "2020-07-14T08:23:26.004Z",
    "type": "selectCodeCell"
   },
   {
    "code": "import pandas as pd\nimport lux",
    "id": "53ac2deab3234be785d747df05424b1d",
    "order_count": 1,
    "time": "2020-07-14T08:23:26.008Z",
    "type": "editCodeCell"
   },
   {
    "code": "",
    "id": "dcfb4ac8b2544113bea7f7ed8984fdcb",
    "order_count": 2,
    "time": "2020-07-14T08:23:26.818Z",
    "type": "selectCodeCell"
   },
   {
    "code": "",
    "id": "dcfb4ac8b2544113bea7f7ed8984fdcb",
    "order_count": 2,
    "time": "2020-07-14T08:23:27.026Z",
    "type": "editCodeCell"
   },
   {
    "code": "ls",
    "id": "dcfb4ac8b2544113bea7f7ed8984fdcb",
    "order_count": 2,
    "time": "2020-07-14T08:23:27.552Z",
    "type": "executeCodeCell"
   },
   {
    "code": "df = pd.read_csv(\"data/olympic.csv\")\nfrom lux.vis.VisCollection import VisCollection\nvc = VisCollection([\"Height\",\"SportType=Ball\",\"?\"],df)\nview_with_year = list(filter(lambda x: x.get_attr_by_attr_name(\"Year\")!=[],vc))[0]\nassert view_with_year.get_attr_by_channel(\"x\")[0].attribute==\"Year\"\nassert len(vc) == len(df.columns) -1 -1 #remove 1 for view with same filter attribute and remove 1 view with for same attribute\nvc = VisCollection([\"Height\",\"?\"],df)\nassert len(vc) == len(df.columns) -1 #remove 1 f",
    "id": "74670b4a7a794ba7b739c97ec71945a8",
    "order_count": 3,
    "time": "2020-07-14T08:23:27.580Z",
    "type": "selectCodeCell"
   },
   {
    "code": "ls",
    "id": "dcfb4ac8b2544113bea7f7ed8984fdcb",
    "isPrintLuxDf": false,
    "isPrintPandasDf": false,
    "isPrintView": false,
    "isPrintViewCollection": false,
    "order_count": 2,
    "time": "2020-07-14T08:23:27.690Z",
    "type": "completeCodeCell"
   },
   {
    "code": "ls",
    "id": "dcfb4ac8b2544113bea7f7ed8984fdcb",
    "order_count": 2,
    "time": "2020-07-14T08:23:28.212Z",
    "type": "selectCodeCell"
   },
   {
    "code": "import pandas as pd\nimport lux",
    "id": "53ac2deab3234be785d747df05424b1d",
    "order_count": 1,
    "time": "2020-07-14T08:23:33.809Z",
    "type": "selectCodeCell"
   },
   {
    "code": "cd ..",
    "id": "03cb8afcf347496f82e47f207e86b1e4",
    "order_count": 0,
    "time": "2020-07-14T08:23:34.159Z",
    "type": "selectCodeCell"
   },
   {
    "time": "2020-07-14T08:23:36.359Z",
    "type": "kernelRestart"
   },
   {
    "time": "2020-07-14T08:23:37.071Z",
    "type": "kernelReady"
   },
   {
    "time": "2020-07-14T08:23:37.074Z",
    "type": "kernelReady"
   },
   {
    "code": "import pandas as pd\nimport lux",
    "id": "53ac2deab3234be785d747df05424b1d",
    "order_count": 1,
    "time": "2020-07-14T08:23:37.472Z",
    "type": "selectCodeCell"
   },
   {
    "code": "ls",
    "id": "dcfb4ac8b2544113bea7f7ed8984fdcb",
    "order_count": 2,
    "time": "2020-07-14T08:23:37.854Z",
    "type": "selectCodeCell"
   },
   {
    "code": "ls",
    "id": "dcfb4ac8b2544113bea7f7ed8984fdcb",
    "order_count": 2,
    "time": "2020-07-14T08:23:38.224Z",
    "type": "executeCodeCell"
   },
   {
    "code": "df = pd.read_csv(\"data/olympic.csv\")\nfrom lux.vis.VisCollection import VisCollection\nvc = VisCollection([\"Height\",\"SportType=Ball\",\"?\"],df)\nview_with_year = list(filter(lambda x: x.get_attr_by_attr_name(\"Year\")!=[],vc))[0]\nassert view_with_year.get_attr_by_channel(\"x\")[0].attribute==\"Year\"\nassert len(vc) == len(df.columns) -1 -1 #remove 1 for view with same filter attribute and remove 1 view with for same attribute\nvc = VisCollection([\"Height\",\"?\"],df)\nassert len(vc) == len(df.columns) -1 #remove 1 f",
    "id": "74670b4a7a794ba7b739c97ec71945a8",
    "order_count": 3,
    "time": "2020-07-14T08:23:38.243Z",
    "type": "selectCodeCell"
   },
   {
    "code": "ls",
    "id": "dcfb4ac8b2544113bea7f7ed8984fdcb",
    "isPrintLuxDf": false,
    "isPrintPandasDf": false,
    "isPrintView": false,
    "isPrintViewCollection": false,
    "order_count": 2,
    "time": "2020-07-14T08:23:38.354Z",
    "type": "completeCodeCell"
   },
   {
    "code": "ls",
    "id": "dcfb4ac8b2544113bea7f7ed8984fdcb",
    "order_count": 2,
    "time": "2020-07-14T08:23:38.739Z",
    "type": "selectCodeCell"
   },
   {
    "code": "import pandas as pd\nimport lux",
    "id": "53ac2deab3234be785d747df05424b1d",
    "order_count": 1,
    "time": "2020-07-14T08:23:40.102Z",
    "type": "selectCodeCell"
   },
   {
    "code": "cd ..",
    "id": "03cb8afcf347496f82e47f207e86b1e4",
    "order_count": 0,
    "time": "2020-07-14T08:23:41.008Z",
    "type": "selectCodeCell"
   },
   {
    "code": "cd ..",
    "id": "03cb8afcf347496f82e47f207e86b1e4",
    "order_count": 0,
    "time": "2020-07-14T08:23:41.391Z",
    "type": "executeCodeCell"
   },
   {
    "code": "import pandas as pd\nimport lux",
    "id": "53ac2deab3234be785d747df05424b1d",
    "order_count": 1,
    "time": "2020-07-14T08:23:41.402Z",
    "type": "selectCodeCell"
   },
   {
    "code": "cd ..",
    "id": "03cb8afcf347496f82e47f207e86b1e4",
    "isPrintLuxDf": false,
    "isPrintPandasDf": false,
    "isPrintView": false,
    "isPrintViewCollection": false,
    "order_count": 0,
    "time": "2020-07-14T08:23:41.408Z",
    "type": "completeCodeCell"
   },
   {
    "code": "import pandas as pd\nimport lux",
    "id": "53ac2deab3234be785d747df05424b1d",
    "order_count": 1,
    "time": "2020-07-14T08:23:42.280Z",
    "type": "executeCodeCell"
   },
   {
    "code": "ls",
    "id": "dcfb4ac8b2544113bea7f7ed8984fdcb",
    "order_count": 2,
    "time": "2020-07-14T08:23:42.290Z",
    "type": "selectCodeCell"
   },
   {
    "code": "import pandas as pd\nimport lux",
    "id": "53ac2deab3234be785d747df05424b1d",
    "isPrintLuxDf": false,
    "isPrintPandasDf": false,
    "isPrintView": false,
    "isPrintViewCollection": false,
    "order_count": 1,
    "time": "2020-07-14T08:23:42.592Z",
    "type": "completeCodeCell"
   },
   {
    "code": "ls",
    "id": "dcfb4ac8b2544113bea7f7ed8984fdcb",
    "order_count": 2,
    "time": "2020-07-14T08:23:44.103Z",
    "type": "executeCodeCell"
   },
   {
    "code": "df = pd.read_csv(\"data/olympic.csv\")\nfrom lux.vis.VisCollection import VisCollection\nvc = VisCollection([\"Height\",\"SportType=Ball\",\"?\"],df)\nview_with_year = list(filter(lambda x: x.get_attr_by_attr_name(\"Year\")!=[],vc))[0]\nassert view_with_year.get_attr_by_channel(\"x\")[0].attribute==\"Year\"\nassert len(vc) == len(df.columns) -1 -1 #remove 1 for view with same filter attribute and remove 1 view with for same attribute\nvc = VisCollection([\"Height\",\"?\"],df)\nassert len(vc) == len(df.columns) -1 #remove 1 f",
    "id": "74670b4a7a794ba7b739c97ec71945a8",
    "order_count": 3,
    "time": "2020-07-14T08:23:44.124Z",
    "type": "selectCodeCell"
   },
   {
    "code": "ls",
    "id": "dcfb4ac8b2544113bea7f7ed8984fdcb",
    "isPrintLuxDf": false,
    "isPrintPandasDf": false,
    "isPrintView": false,
    "isPrintViewCollection": false,
    "order_count": 2,
    "time": "2020-07-14T08:23:44.230Z",
    "type": "completeCodeCell"
   },
   {
    "code": "ls",
    "id": "dcfb4ac8b2544113bea7f7ed8984fdcb",
    "order_count": 2,
    "time": "2020-07-14T08:23:44.586Z",
    "type": "selectCodeCell"
   },
   {
    "code": "ls",
    "id": "dcfb4ac8b2544113bea7f7ed8984fdcb",
    "order_count": null,
    "time": "2020-07-14T08:23:47.001Z",
    "type": "deleteCodeCell"
   },
   {
    "code": "df = pd.read_csv(\"data/olympic.csv\")\nfrom lux.vis.VisCollection import VisCollection\nvc = VisCollection([\"Height\",\"SportType=Ball\",\"?\"],df)\nview_with_year = list(filter(lambda x: x.get_attr_by_attr_name(\"Year\")!=[],vc))[0]\nassert view_with_year.get_attr_by_channel(\"x\")[0].attribute==\"Year\"\nassert len(vc) == len(df.columns) -1 -1 #remove 1 for view with same filter attribute and remove 1 view with for same attribute\nvc = VisCollection([\"Height\",\"?\"],df)\nassert len(vc) == len(df.columns) -1 #remove 1 f",
    "id": "74670b4a7a794ba7b739c97ec71945a8",
    "order_count": 2,
    "time": "2020-07-14T08:23:47.608Z",
    "type": "executeCodeCell"
   },
   {
    "code": "",
    "id": "c19ee71d29b04f509f7aeaf48d8accf8",
    "order_count": 3,
    "time": "2020-07-14T08:23:47.617Z",
    "type": "selectCodeCell"
   },
   {
    "code": "df = pd.read_csv(\"data/olympic.csv\")\nfrom lux.vis.VisCollection import VisCollection\nvc = VisCollection([\"Height\",\"SportType=Ball\",\"?\"],df)\nview_with_year = list(filter(lambda x: x.get_attr_by_attr_name(\"Year\")!=[],vc))[0]\nassert view_with_year.get_attr_by_channel(\"x\")[0].attribute==\"Year\"\nassert len(vc) == len(df.columns) -1 -1 #remove 1 for view with same filter attribute and remove 1 view with for same attribute\nvc = VisCollection([\"Height\",\"?\"],df)\nassert len(vc) == len(df.columns) -1 #remove 1 f",
    "id": "74670b4a7a794ba7b739c97ec71945a8",
    "isPrintLuxDf": false,
    "isPrintPandasDf": false,
    "isPrintView": false,
    "isPrintViewCollection": false,
    "order_count": 2,
    "time": "2020-07-14T08:23:47.739Z",
    "type": "completeCodeCell"
   },
   {
    "code": "df = pd.read_csv(\"data/olympic.csv\")\nfrom lux.vis.VisCollection import VisCollection\nvc = VisCollection([\"Height\",\"SportType=Ball\",\"?\"],df)\nview_with_year = list(filter(lambda x: x.get_attr_by_attr_name(\"Year\")!=[],vc))[0]\nassert view_with_year.get_attr_by_channel(\"x\")[0].attribute==\"Year\"\nassert len(vc) == len(df.columns) -1 -1 #remove 1 for view with same filter attribute and remove 1 view with for same attribute\nvc = VisCollection([\"Height\",\"?\"],df)\nassert len(vc) == len(df.columns) -1 #remove 1 f",
    "id": "74670b4a7a794ba7b739c97ec71945a8",
    "order_count": 2,
    "time": "2020-07-14T08:23:48.289Z",
    "type": "selectCodeCell"
   },
   {
    "code": "df = pd.read_csv(\"data/olympic.csv\")\nfrom lux.vis.VisCollection import VisCollection\nvc = VisCollection([\"Height\",\"SportType=Ball\",\"?\"],df)\nview_with_year = list(filter(lambda x: x.get_attr_by_attr_name(\"Year\")!=[],vc))[0]\nassert view_with_year.get_attr_by_channel(\"x\")[0].attribute==\"Year\"\nassert len(vc) == len(df.columns) -1 -1 #remove 1 for view with same filter attribute and remove 1 view with for same attribute\nvc = VisCollection([\"Height\",\"?\"],df)\nassert len(vc) == len(df.columns) -1 #remove 1 f",
    "id": "74670b4a7a794ba7b739c97ec71945a8",
    "order_count": 2,
    "time": "2020-07-14T08:23:48.542Z",
    "type": "editCodeCell"
   },
   {
    "code": "df = pd.read_csv(\"lux/data/olympic.csv\")\nfrom lux.vis.VisCollection import VisCollection\nvc = VisCollection([\"Height\",\"SportType=Ball\",\"?\"],df)\nview_with_year = list(filter(lambda x: x.get_attr_by_attr_name(\"Year\")!=[],vc))[0]\nassert view_with_year.get_attr_by_channel(\"x\")[0].attribute==\"Year\"\nassert len(vc) == len(df.columns) -1 -1 #remove 1 for view with same filter attribute and remove 1 view with for same attribute\nvc = VisCollection([\"Height\",\"?\"],df)\nassert len(vc) == len(df.columns) -1 #remove 1 f",
    "id": "74670b4a7a794ba7b739c97ec71945a8",
    "order_count": 2,
    "time": "2020-07-14T08:23:50.322Z",
    "type": "executeCodeCell"
   },
   {
    "code": "",
    "id": "c19ee71d29b04f509f7aeaf48d8accf8",
    "order_count": 3,
    "time": "2020-07-14T08:23:50.339Z",
    "type": "selectCodeCell"
   },
   {
    "code": "df = pd.read_csv(\"lux/data/olympic.csv\")\nfrom lux.vis.VisCollection import VisCollection\nvc = VisCollection([\"Height\",\"SportType=Ball\",\"?\"],df)\nview_with_year = list(filter(lambda x: x.get_attr_by_attr_name(\"Year\")!=[],vc))[0]\nassert view_with_year.get_attr_by_channel(\"x\")[0].attribute==\"Year\"\nassert len(vc) == len(df.columns) -1 -1 #remove 1 for view with same filter attribute and remove 1 view with for same attribute\nvc = VisCollection([\"Height\",\"?\"],df)\nassert len(vc) == len(df.columns) -1 #remove 1 f",
    "id": "74670b4a7a794ba7b739c97ec71945a8",
    "isPrintLuxDf": false,
    "isPrintPandasDf": false,
    "isPrintView": false,
    "isPrintViewCollection": false,
    "order_count": 2,
    "time": "2020-07-14T08:23:50.900Z",
    "type": "completeCodeCell"
   },
   {
    "code": "df = pd.read_csv(\"lux/data/olympic.csv\")\nfrom lux.vis.VisCollection import VisCollection\nvc = VisCollection([\"Height\",\"SportType=Ball\",\"?\"],df)\nview_with_year = list(filter(lambda x: x.get_attr_by_attr_name(\"Year\")!=[],vc))[0]\nassert view_with_year.get_attr_by_channel(\"x\")[0].attribute==\"Year\"\nassert len(vc) == len(df.columns) -1 -1 #remove 1 for view with same filter attribute and remove 1 view with for same attribute\nvc = VisCollection([\"Height\",\"?\"],df)\nassert len(vc) == len(df.columns) -1 #remove 1 f",
    "id": "74670b4a7a794ba7b739c97ec71945a8",
    "order_count": 2,
    "time": "2020-07-14T08:23:53.392Z",
    "type": "selectCodeCell"
   },
   {
    "code": "df = pd.read_csv(\"lux/data/olympic.csv\")\nfrom lux.vis.VisCollection import VisCollection\nvc = VisCollection([\"Height\",\"SportType=Ball\",\"?\"],df)\nview_with_year = list(filter(lambda x: x.get_attr_by_attr_name(\"Year\")!=[],vc))[0]\nassert view_with_year.get_attr_by_channel(\"x\")[0].attribute==\"Year\"\nassert len(vc) == len(df.columns) -1 -1 #remove 1 for view with same filter attribute and remove 1 view with for same attribute\nvc = VisCollection([\"Height\",\"?\"],df)\nassert len(vc) == len(df.columns) -1 #remove 1 f",
    "id": "74670b4a7a794ba7b739c97ec71945a8",
    "order_count": 2,
    "time": "2020-07-14T08:23:53.400Z",
    "type": "editCodeCell"
   },
   {
    "code": "df = pd.read_csv(\"lux/data/olympic.csv\")\nfrom lux.vis.VisCollection import VisCollection\nvc = VisCollection([\"Height\",\"SportType=Ball\",\"?\"],df)\n# view_with_year = list(filter(lambda x: x.get_attr_by_attr_name(\"Year\")!=[],vc))[0]\n# assert view_with_year.get_attr_by_channel(\"x\")[0].attribute==\"Year\"\n# assert len(vc) == len(df.columns) -1 -1 #remove 1 for view with same filter attribute and remove 1 view with for same attribute\n# vc = VisCollection([\"Height\",\"?\"],df)\n# assert len(vc) == len(df.columns) -1 #remove 1 f",
    "id": "74670b4a7a794ba7b739c97ec71945a8",
    "order_count": 2,
    "time": "2020-07-14T08:23:55.378Z",
    "type": "executeCodeCell"
   },
   {
    "code": "",
    "id": "c19ee71d29b04f509f7aeaf48d8accf8",
    "order_count": 3,
    "time": "2020-07-14T08:23:55.394Z",
    "type": "selectCodeCell"
   },
   {
    "code": "",
    "id": "c19ee71d29b04f509f7aeaf48d8accf8",
    "order_count": 3,
    "time": "2020-07-14T08:23:55.910Z",
    "type": "editCodeCell"
   },
   {
    "code": "df = pd.read_csv(\"lux/data/olympic.csv\")\nfrom lux.vis.VisCollection import VisCollection\nvc = VisCollection([\"Height\",\"SportType=Ball\",\"?\"],df)\n# view_with_year = list(filter(lambda x: x.get_attr_by_attr_name(\"Year\")!=[],vc))[0]\n# assert view_with_year.get_attr_by_channel(\"x\")[0].attribute==\"Year\"\n# assert len(vc) == len(df.columns) -1 -1 #remove 1 for view with same filter attribute and remove 1 view with for same attribute\n# vc = VisCollection([\"Height\",\"?\"],df)\n# assert len(vc) == len(df.columns) -1 #remove 1 f",
    "id": "74670b4a7a794ba7b739c97ec71945a8",
    "isPrintLuxDf": false,
    "isPrintPandasDf": false,
    "isPrintView": false,
    "isPrintViewCollection": false,
    "order_count": 2,
    "time": "2020-07-14T08:23:55.921Z",
    "type": "completeCodeCell"
   },
   {
    "code": "vc",
    "id": "c19ee71d29b04f509f7aeaf48d8accf8",
    "order_count": 3,
    "time": "2020-07-14T08:24:00.151Z",
    "type": "executeCodeCell"
   },
   {
    "code": "",
    "id": "177adfc594944adebb1944908b928fef",
    "order_count": 4,
    "time": "2020-07-14T08:24:00.173Z",
    "type": "editCodeCell"
   },
   {
    "code": "vc",
    "id": "c19ee71d29b04f509f7aeaf48d8accf8",
    "isPrintLuxDf": false,
    "isPrintPandasDf": false,
    "isPrintView": false,
    "isPrintViewCollection": false,
    "order_count": 3,
    "time": "2020-07-14T08:24:00.310Z",
    "type": "completeCodeCell"
   },
   {
    "param": "",
    "time": "2020-07-14T08:24:00.328Z",
    "type": "initWidget"
   },
   {
    "code": "vc",
    "id": "c19ee71d29b04f509f7aeaf48d8accf8",
    "order_count": 3,
    "time": "2020-07-14T08:24:02.258Z",
    "type": "selectCodeCell"
   },
   {
    "code": "df = pd.read_csv(\"lux/data/olympic.csv\")\nfrom lux.vis.VisCollection import VisCollection\nvc = VisCollection([\"Height\",\"SportType=Ball\",\"?\"],df)\n# view_with_year = list(filter(lambda x: x.get_attr_by_attr_name(\"Year\")!=[],vc))[0]\n# assert view_with_year.get_attr_by_channel(\"x\")[0].attribute==\"Year\"\n# assert len(vc) == len(df.columns) -1 -1 #remove 1 for view with same filter attribute and remove 1 view with for same attribute\n# vc = VisCollection([\"Height\",\"?\"],df)\n# assert len(vc) == len(df.columns) -1 #remove 1 f",
    "id": "74670b4a7a794ba7b739c97ec71945a8",
    "order_count": 2,
    "time": "2020-07-14T08:25:19.598Z",
    "type": "selectCodeCell"
   },
   {
    "code": "df = pd.read_csv(\"lux/data/olympic.csv\")\nfrom lux.vis.VisCollection import VisCollection\nvc = VisCollection([\"Height\",\"SportType=Ball\",\"?\"],df)\n# view_with_year = list(filter(lambda x: x.get_attr_by_attr_name(\"Year\")!=[],vc))[0]\n# assert view_with_year.get_attr_by_channel(\"x\")[0].attribute==\"Year\"\n# assert len(vc) == len(df.columns) -1 -1 #remove 1 for view with same filter attribute and remove 1 view with for same attribute\n# vc = VisCollection([\"Height\",\"?\"],df)\n# assert len(vc) == len(df.columns) -1 #remove 1 f",
    "id": "74670b4a7a794ba7b739c97ec71945a8",
    "order_count": 2,
    "time": "2020-07-14T08:25:19.605Z",
    "type": "editCodeCell"
   },
   {
    "code": "df = pd.read_csv(\"lux/data/olympic.csv\")\nfrom lux.vis.VisCollection import VisCollection\nvc = VisCollection([\"Height\",\"SportType=Ball\",\"?\"],df)\n# view_with_year = list(filter(lambda x: x.get_attr_by_attr_name(\"Year\")!=[],vc))[0]\n# assert view_with_year.get_attr_by_channel(\"x\")[0].attribute==\"Year\"\n# assert len(vc) == len(df.columns) -1 -1 #remove 1 for view with same filter attribute and remove 1 view with for same attribute\n# vc = VisCollection([\"Height\",\"?\"],df)\n# assert len(vc) == len(df.columns) -1 #remove 1 f",
    "id": "74670b4a7a794ba7b739c97ec71945a8",
    "order_count": 2,
    "time": "2020-07-14T08:25:19.629Z",
    "type": "editCodeCell"
   },
   {
    "time": "2020-07-14T08:25:21.014Z",
    "type": "kernelRestart"
   },
   {
    "time": "2020-07-14T08:25:21.109Z",
    "type": "kernelRestart"
   },
   {
    "code": "import pandas as pd\nimport lux",
    "id": "53ac2deab3234be785d747df05424b1d",
    "order_count": 1,
    "time": "2020-07-14T08:25:21.710Z",
    "type": "selectCodeCell"
   },
   {
    "code": "cd ..",
    "id": "03cb8afcf347496f82e47f207e86b1e4",
    "order_count": 0,
    "time": "2020-07-14T08:25:21.909Z",
    "type": "selectCodeCell"
   },
   {
    "code": "cd ..",
    "id": "03cb8afcf347496f82e47f207e86b1e4",
    "order_count": 0,
    "time": "2020-07-14T08:25:22.351Z",
    "type": "executeCodeCell"
   },
   {
    "code": "import pandas as pd\nimport lux",
    "id": "53ac2deab3234be785d747df05424b1d",
    "order_count": 1,
    "time": "2020-07-14T08:25:22.361Z",
    "type": "selectCodeCell"
   },
   {
    "code": "import pandas as pd\nimport lux",
    "id": "53ac2deab3234be785d747df05424b1d",
    "order_count": 1,
    "time": "2020-07-14T08:25:22.495Z",
    "type": "executeCodeCell"
   },
   {
    "code": "df = pd.read_csv(\"lux/data/olympic.csv\")\nfrom lux.vis.VisCollection import VisCollection\nvc = VisCollection([\"Height\",\"SportType=Ball\",\"?\"],df)\n# view_with_year = list(filter(lambda x: x.get_attr_by_attr_name(\"Year\")!=[],vc))[0]\n# assert view_with_year.get_attr_by_channel(\"x\")[0].attribute==\"Year\"\n# assert len(vc) == len(df.columns) -1 -1 #remove 1 for view with same filter attribute and remove 1 view with for same attribute\n# vc = VisCollection([\"Height\",\"?\"],df)\n# assert len(vc) == len(df.columns) -1 #remove 1 f",
    "id": "74670b4a7a794ba7b739c97ec71945a8",
    "order_count": 2,
    "time": "2020-07-14T08:25:22.509Z",
    "type": "selectCodeCell"
   },
   {
    "time": "2020-07-14T08:25:22.517Z",
    "type": "kernelReady"
   },
   {
    "code": "df = pd.read_csv(\"lux/data/olympic.csv\")\nfrom lux.vis.VisCollection import VisCollection\nvc = VisCollection([\"Height\",\"SportType=Ball\",\"?\"],df)\n# view_with_year = list(filter(lambda x: x.get_attr_by_attr_name(\"Year\")!=[],vc))[0]\n# assert view_with_year.get_attr_by_channel(\"x\")[0].attribute==\"Year\"\n# assert len(vc) == len(df.columns) -1 -1 #remove 1 for view with same filter attribute and remove 1 view with for same attribute\n# vc = VisCollection([\"Height\",\"?\"],df)\n# assert len(vc) == len(df.columns) -1 #remove 1 f",
    "id": "74670b4a7a794ba7b739c97ec71945a8",
    "order_count": 2,
    "time": "2020-07-14T08:25:22.798Z",
    "type": "executeCodeCell"
   },
   {
    "code": "vc",
    "id": "c19ee71d29b04f509f7aeaf48d8accf8",
    "order_count": 3,
    "time": "2020-07-14T08:25:22.806Z",
    "type": "selectCodeCell"
   },
   {
    "code": "import pandas as pd\nimport lux",
    "id": "53ac2deab3234be785d747df05424b1d",
    "isPrintLuxDf": false,
    "isPrintPandasDf": false,
    "isPrintView": false,
    "isPrintViewCollection": false,
    "order_count": 1,
    "time": "2020-07-14T08:25:22.859Z",
    "type": "completeCodeCell"
   },
   {
    "code": "df = pd.read_csv(\"lux/data/olympic.csv\")\nfrom lux.vis.VisCollection import VisCollection\nvc = VisCollection([\"Height\",\"SportType=Ball\",\"?\"],df)\n# view_with_year = list(filter(lambda x: x.get_attr_by_attr_name(\"Year\")!=[],vc))[0]\n# assert view_with_year.get_attr_by_channel(\"x\")[0].attribute==\"Year\"\n# assert len(vc) == len(df.columns) -1 -1 #remove 1 for view with same filter attribute and remove 1 view with for same attribute\n# vc = VisCollection([\"Height\",\"?\"],df)\n# assert len(vc) == len(df.columns) -1 #remove 1 f",
    "id": "74670b4a7a794ba7b739c97ec71945a8",
    "isPrintLuxDf": false,
    "isPrintPandasDf": false,
    "isPrintView": false,
    "isPrintViewCollection": false,
    "order_count": 2,
    "time": "2020-07-14T08:25:23.367Z",
    "type": "completeCodeCell"
   },
   {
    "time": "2020-07-14T08:25:23.373Z",
    "type": "kernelReady"
   },
   {
    "code": "vc",
    "id": "c19ee71d29b04f509f7aeaf48d8accf8",
    "order_count": 3,
    "time": "2020-07-14T08:25:23.900Z",
    "type": "executeCodeCell"
   },
   {
    "code": "",
    "id": "177adfc594944adebb1944908b928fef",
    "order_count": 4,
    "time": "2020-07-14T08:25:23.909Z",
    "type": "selectCodeCell"
   },
   {
    "code": "vc",
    "id": "c19ee71d29b04f509f7aeaf48d8accf8",
    "isPrintLuxDf": false,
    "isPrintPandasDf": false,
    "isPrintView": false,
    "isPrintViewCollection": false,
    "order_count": 3,
    "time": "2020-07-14T08:25:23.961Z",
    "type": "completeCodeCell"
   },
   {
    "param": "",
    "time": "2020-07-14T08:25:23.969Z",
    "type": "initWidget"
   },
   {
    "time": "2020-07-14T08:25:39.752Z",
    "type": "kernelRestart"
   },
   {
    "time": "2020-07-14T08:25:39.879Z",
    "type": "kernelRestart"
   },
   {
    "code": "vc",
    "id": "c19ee71d29b04f509f7aeaf48d8accf8",
    "order_count": 3,
    "time": "2020-07-14T08:25:40.292Z",
    "type": "selectCodeCell"
   },
   {
    "code": "df = pd.read_csv(\"lux/data/olympic.csv\")\nfrom lux.vis.VisCollection import VisCollection\nvc = VisCollection([\"Height\",\"SportType=Ball\",\"?\"],df)\n# view_with_year = list(filter(lambda x: x.get_attr_by_attr_name(\"Year\")!=[],vc))[0]\n# assert view_with_year.get_attr_by_channel(\"x\")[0].attribute==\"Year\"\n# assert len(vc) == len(df.columns) -1 -1 #remove 1 for view with same filter attribute and remove 1 view with for same attribute\n# vc = VisCollection([\"Height\",\"?\"],df)\n# assert len(vc) == len(df.columns) -1 #remove 1 f",
    "id": "74670b4a7a794ba7b739c97ec71945a8",
    "order_count": 2,
    "time": "2020-07-14T08:25:40.466Z",
    "type": "selectCodeCell"
   },
   {
    "code": "import pandas as pd\nimport lux",
    "id": "53ac2deab3234be785d747df05424b1d",
    "order_count": 1,
    "time": "2020-07-14T08:25:40.584Z",
    "type": "selectCodeCell"
   },
   {
    "code": "cd ..",
    "id": "03cb8afcf347496f82e47f207e86b1e4",
    "order_count": 0,
    "time": "2020-07-14T08:25:40.732Z",
    "type": "selectCodeCell"
   },
   {
    "code": "cd ..",
    "id": "03cb8afcf347496f82e47f207e86b1e4",
    "order_count": 0,
    "time": "2020-07-14T08:25:41.088Z",
    "type": "executeCodeCell"
   },
   {
    "code": "import pandas as pd\nimport lux",
    "id": "53ac2deab3234be785d747df05424b1d",
    "order_count": 1,
    "time": "2020-07-14T08:25:41.095Z",
    "type": "selectCodeCell"
   },
   {
    "code": "import pandas as pd\nimport lux",
    "id": "53ac2deab3234be785d747df05424b1d",
    "order_count": 1,
    "time": "2020-07-14T08:25:41.222Z",
    "type": "executeCodeCell"
   },
   {
    "code": "df = pd.read_csv(\"lux/data/olympic.csv\")\nfrom lux.vis.VisCollection import VisCollection\nvc = VisCollection([\"Height\",\"SportType=Ball\",\"?\"],df)\n# view_with_year = list(filter(lambda x: x.get_attr_by_attr_name(\"Year\")!=[],vc))[0]\n# assert view_with_year.get_attr_by_channel(\"x\")[0].attribute==\"Year\"\n# assert len(vc) == len(df.columns) -1 -1 #remove 1 for view with same filter attribute and remove 1 view with for same attribute\n# vc = VisCollection([\"Height\",\"?\"],df)\n# assert len(vc) == len(df.columns) -1 #remove 1 f",
    "id": "74670b4a7a794ba7b739c97ec71945a8",
    "order_count": 2,
    "time": "2020-07-14T08:25:41.236Z",
    "type": "selectCodeCell"
   },
   {
    "time": "2020-07-14T08:25:41.397Z",
    "type": "kernelReady"
   },
   {
    "code": "cd ..",
    "id": "03cb8afcf347496f82e47f207e86b1e4",
    "isPrintLuxDf": false,
    "isPrintPandasDf": false,
    "isPrintView": false,
    "isPrintViewCollection": false,
    "order_count": 0,
    "time": "2020-07-14T08:25:41.399Z",
    "type": "completeCodeCell"
   },
   {
    "code": "cd ..",
    "id": "03cb8afcf347496f82e47f207e86b1e4",
    "isPrintLuxDf": false,
    "isPrintPandasDf": false,
    "isPrintView": false,
    "isPrintViewCollection": false,
    "order_count": 0,
    "time": "2020-07-14T08:25:41.400Z",
    "type": "completeCodeCell"
   },
   {
    "code": "df = pd.read_csv(\"lux/data/olympic.csv\")\nfrom lux.vis.VisCollection import VisCollection\nvc = VisCollection([\"Height\",\"SportType=Ball\",\"?\"],df)\n# view_with_year = list(filter(lambda x: x.get_attr_by_attr_name(\"Year\")!=[],vc))[0]\n# assert view_with_year.get_attr_by_channel(\"x\")[0].attribute==\"Year\"\n# assert len(vc) == len(df.columns) -1 -1 #remove 1 for view with same filter attribute and remove 1 view with for same attribute\n# vc = VisCollection([\"Height\",\"?\"],df)\n# assert len(vc) == len(df.columns) -1 #remove 1 f",
    "id": "74670b4a7a794ba7b739c97ec71945a8",
    "order_count": 2,
    "time": "2020-07-14T08:25:41.446Z",
    "type": "executeCodeCell"
   },
   {
    "code": "vc",
    "id": "c19ee71d29b04f509f7aeaf48d8accf8",
    "order_count": 3,
    "time": "2020-07-14T08:25:41.455Z",
    "type": "selectCodeCell"
   },
   {
    "code": "import pandas as pd\nimport lux",
    "id": "53ac2deab3234be785d747df05424b1d",
    "isPrintLuxDf": false,
    "isPrintPandasDf": false,
    "isPrintView": false,
    "isPrintViewCollection": false,
    "order_count": 1,
    "time": "2020-07-14T08:25:41.760Z",
    "type": "completeCodeCell"
   },
   {
    "time": "2020-07-14T08:25:41.766Z",
    "type": "kernelReady"
   },
   {
    "time": "2020-07-14T08:25:41.771Z",
    "type": "kernelReady"
   },
   {
    "code": "df = pd.read_csv(\"lux/data/olympic.csv\")\nfrom lux.vis.VisCollection import VisCollection\nvc = VisCollection([\"Height\",\"SportType=Ball\",\"?\"],df)\n# view_with_year = list(filter(lambda x: x.get_attr_by_attr_name(\"Year\")!=[],vc))[0]\n# assert view_with_year.get_attr_by_channel(\"x\")[0].attribute==\"Year\"\n# assert len(vc) == len(df.columns) -1 -1 #remove 1 for view with same filter attribute and remove 1 view with for same attribute\n# vc = VisCollection([\"Height\",\"?\"],df)\n# assert len(vc) == len(df.columns) -1 #remove 1 f",
    "id": "74670b4a7a794ba7b739c97ec71945a8",
    "isPrintLuxDf": false,
    "isPrintPandasDf": false,
    "isPrintView": false,
    "isPrintViewCollection": false,
    "order_count": 2,
    "time": "2020-07-14T08:25:42.422Z",
    "type": "completeCodeCell"
   },
   {
    "code": "vc",
    "id": "c19ee71d29b04f509f7aeaf48d8accf8",
    "order_count": 3,
    "time": "2020-07-14T08:25:44.927Z",
    "type": "executeCodeCell"
   },
   {
    "code": "",
    "id": "177adfc594944adebb1944908b928fef",
    "order_count": 4,
    "time": "2020-07-14T08:25:44.937Z",
    "type": "selectCodeCell"
   },
   {
    "code": "vc",
    "id": "c19ee71d29b04f509f7aeaf48d8accf8",
    "isPrintLuxDf": false,
    "isPrintPandasDf": false,
    "isPrintView": false,
    "isPrintViewCollection": false,
    "order_count": 3,
    "time": "2020-07-14T08:25:44.988Z",
    "type": "completeCodeCell"
   },
   {
    "param": "",
    "time": "2020-07-14T08:25:44.996Z",
    "type": "initWidget"
   },
   {
    "code": "vc",
    "id": "c19ee71d29b04f509f7aeaf48d8accf8",
    "order_count": 3,
    "time": "2020-07-14T08:25:49.308Z",
    "type": "selectCodeCell"
   },
   {
    "code": "vc",
    "id": "c19ee71d29b04f509f7aeaf48d8accf8",
    "order_count": 3,
    "time": "2020-07-14T08:25:49.566Z",
    "type": "editCodeCell"
   },
   {
    "code": "vc",
    "id": "c19ee71d29b04f509f7aeaf48d8accf8",
    "order_count": 3,
    "time": "2020-07-14T08:25:49.652Z",
    "type": "selectCodeCell"
   },
   {
    "code": "vc.spec_lst",
    "id": "c19ee71d29b04f509f7aeaf48d8accf8",
    "order_count": 3,
    "time": "2020-07-14T08:26:00.072Z",
    "type": "executeCodeCell"
   },
   {
    "code": "",
    "id": "177adfc594944adebb1944908b928fef",
    "order_count": 4,
    "time": "2020-07-14T08:26:00.085Z",
    "type": "selectCodeCell"
   },
   {
    "code": "vc.spec_lst",
    "id": "c19ee71d29b04f509f7aeaf48d8accf8",
    "isPrintLuxDf": false,
    "isPrintPandasDf": false,
    "isPrintView": false,
    "isPrintViewCollection": false,
    "order_count": 3,
    "time": "2020-07-14T08:26:00.090Z",
    "type": "completeCodeCell"
   },
   {
    "code": "vc.spec_lst",
    "id": "c19ee71d29b04f509f7aeaf48d8accf8",
    "order_count": 3,
    "time": "2020-07-14T08:26:02.168Z",
    "type": "selectCodeCell"
   },
   {
    "code": "",
    "id": "177adfc594944adebb1944908b928fef",
    "order_count": 4,
    "time": "2020-07-14T08:26:02.766Z",
    "type": "selectCodeCell"
   },
   {
    "code": "",
    "id": "177adfc594944adebb1944908b928fef",
    "order_count": 4,
    "time": "2020-07-14T08:26:03.066Z",
    "type": "editCodeCell"
   },
   {
    "code": "vc.collection",
    "id": "177adfc594944adebb1944908b928fef",
    "order_count": 4,
    "time": "2020-07-14T08:26:07.392Z",
    "type": "executeCodeCell"
   },
   {
    "code": "",
    "id": "f94b70c54a994d999357267e8cce3ec8",
    "order_count": 5,
    "time": "2020-07-14T08:26:07.422Z",
    "type": "editCodeCell"
   },
   {
    "code": "vc.collection",
    "id": "177adfc594944adebb1944908b928fef",
    "isPrintLuxDf": false,
    "isPrintPandasDf": false,
    "isPrintView": false,
    "isPrintViewCollection": false,
    "order_count": 4,
    "time": "2020-07-14T08:26:07.434Z",
    "type": "completeCodeCell"
   },
   {
    "code": "",
    "id": "f94b70c54a994d999357267e8cce3ec8",
    "order_count": 5,
    "time": "2020-07-14T08:26:58.073Z",
    "type": "editCodeCell"
   },
   {
    "code": "vc.spec_lst",
    "id": "c19ee71d29b04f509f7aeaf48d8accf8",
    "order_count": 3,
    "time": "2020-07-14T08:26:58.328Z",
    "type": "selectCodeCell"
   },
   {
    "code": "vc.spec_lst",
    "id": "c19ee71d29b04f509f7aeaf48d8accf8",
    "order_count": 3,
    "time": "2020-07-14T08:26:58.331Z",
    "type": "editCodeCell"
   },
   {
    "code": "vc.spec_lst",
    "id": "c19ee71d29b04f509f7aeaf48d8accf8",
    "order_count": 3,
    "time": "2020-07-14T08:26:58.409Z",
    "type": "selectCodeCell"
   },
   {
    "time": "2020-07-14T08:26:59.853Z",
    "type": "kernelRestart"
   },
   {
    "time": "2020-07-14T08:27:00.055Z",
    "type": "kernelRestart"
   },
   {
    "code": "df = pd.read_csv(\"lux/data/olympic.csv\")\nfrom lux.vis.VisCollection import VisCollection\nvc = VisCollection([\"Height\",\"SportType=Ball\",\"?\"],df)\n# view_with_year = list(filter(lambda x: x.get_attr_by_attr_name(\"Year\")!=[],vc))[0]\n# assert view_with_year.get_attr_by_channel(\"x\")[0].attribute==\"Year\"\n# assert len(vc) == len(df.columns) -1 -1 #remove 1 for view with same filter attribute and remove 1 view with for same attribute\n# vc = VisCollection([\"Height\",\"?\"],df)\n# assert len(vc) == len(df.columns) -1 #remove 1 f",
    "id": "74670b4a7a794ba7b739c97ec71945a8",
    "order_count": 2,
    "time": "2020-07-14T08:27:00.472Z",
    "type": "selectCodeCell"
   },
   {
    "code": "import pandas as pd\nimport lux",
    "id": "53ac2deab3234be785d747df05424b1d",
    "order_count": 1,
    "time": "2020-07-14T08:27:00.661Z",
    "type": "selectCodeCell"
   },
   {
    "code": "cd ..",
    "id": "03cb8afcf347496f82e47f207e86b1e4",
    "order_count": 0,
    "time": "2020-07-14T08:27:00.814Z",
    "type": "selectCodeCell"
   },
   {
    "time": "2020-07-14T08:27:01.338Z",
    "type": "kernelReady"
   },
   {
    "time": "2020-07-14T08:27:01.342Z",
    "type": "kernelReady"
   },
   {
    "time": "2020-07-14T08:27:01.370Z",
    "type": "kernelReady"
   },
   {
    "code": "cd ..",
    "id": "03cb8afcf347496f82e47f207e86b1e4",
    "order_count": 0,
    "time": "2020-07-14T08:27:01.785Z",
    "type": "executeCodeCell"
   },
   {
    "code": "import pandas as pd\nimport lux",
    "id": "53ac2deab3234be785d747df05424b1d",
    "order_count": 1,
    "time": "2020-07-14T08:27:01.796Z",
    "type": "selectCodeCell"
   },
   {
    "code": "cd ..",
    "id": "03cb8afcf347496f82e47f207e86b1e4",
    "isPrintLuxDf": false,
    "isPrintPandasDf": false,
    "isPrintView": false,
    "isPrintViewCollection": false,
    "order_count": 0,
    "time": "2020-07-14T08:27:01.804Z",
    "type": "completeCodeCell"
   },
   {
    "code": "import pandas as pd\nimport lux",
    "id": "53ac2deab3234be785d747df05424b1d",
    "order_count": 1,
    "time": "2020-07-14T08:27:02.151Z",
    "type": "executeCodeCell"
   },
   {
    "code": "df = pd.read_csv(\"lux/data/olympic.csv\")\nfrom lux.vis.VisCollection import VisCollection\nvc = VisCollection([\"Height\",\"SportType=Ball\",\"?\"],df)\n# view_with_year = list(filter(lambda x: x.get_attr_by_attr_name(\"Year\")!=[],vc))[0]\n# assert view_with_year.get_attr_by_channel(\"x\")[0].attribute==\"Year\"\n# assert len(vc) == len(df.columns) -1 -1 #remove 1 for view with same filter attribute and remove 1 view with for same attribute\n# vc = VisCollection([\"Height\",\"?\"],df)\n# assert len(vc) == len(df.columns) -1 #remove 1 f",
    "id": "74670b4a7a794ba7b739c97ec71945a8",
    "order_count": 2,
    "time": "2020-07-14T08:27:02.162Z",
    "type": "selectCodeCell"
   },
   {
    "code": "import pandas as pd\nimport lux",
    "id": "53ac2deab3234be785d747df05424b1d",
    "isPrintLuxDf": false,
    "isPrintPandasDf": false,
    "isPrintView": false,
    "isPrintViewCollection": false,
    "order_count": 1,
    "time": "2020-07-14T08:27:02.468Z",
    "type": "completeCodeCell"
   },
   {
    "code": "df = pd.read_csv(\"lux/data/olympic.csv\")\nfrom lux.vis.VisCollection import VisCollection\nvc = VisCollection([\"Height\",\"SportType=Ball\",\"?\"],df)\n# view_with_year = list(filter(lambda x: x.get_attr_by_attr_name(\"Year\")!=[],vc))[0]\n# assert view_with_year.get_attr_by_channel(\"x\")[0].attribute==\"Year\"\n# assert len(vc) == len(df.columns) -1 -1 #remove 1 for view with same filter attribute and remove 1 view with for same attribute\n# vc = VisCollection([\"Height\",\"?\"],df)\n# assert len(vc) == len(df.columns) -1 #remove 1 f",
    "id": "74670b4a7a794ba7b739c97ec71945a8",
    "order_count": 2,
    "time": "2020-07-14T08:27:02.487Z",
    "type": "executeCodeCell"
   },
   {
    "code": "vc.spec_lst",
    "id": "c19ee71d29b04f509f7aeaf48d8accf8",
    "order_count": 3,
    "time": "2020-07-14T08:27:02.494Z",
    "type": "selectCodeCell"
   },
   {
    "code": "vc.spec_lst",
    "id": "c19ee71d29b04f509f7aeaf48d8accf8",
    "order_count": 3,
    "time": "2020-07-14T08:27:02.863Z",
    "type": "executeCodeCell"
   },
   {
    "code": "vc.collection",
    "id": "177adfc594944adebb1944908b928fef",
    "order_count": 4,
    "time": "2020-07-14T08:27:02.870Z",
    "type": "selectCodeCell"
   },
   {
    "code": "df = pd.read_csv(\"lux/data/olympic.csv\")\nfrom lux.vis.VisCollection import VisCollection\nvc = VisCollection([\"Height\",\"SportType=Ball\",\"?\"],df)\n# view_with_year = list(filter(lambda x: x.get_attr_by_attr_name(\"Year\")!=[],vc))[0]\n# assert view_with_year.get_attr_by_channel(\"x\")[0].attribute==\"Year\"\n# assert len(vc) == len(df.columns) -1 -1 #remove 1 for view with same filter attribute and remove 1 view with for same attribute\n# vc = VisCollection([\"Height\",\"?\"],df)\n# assert len(vc) == len(df.columns) -1 #remove 1 f",
    "id": "74670b4a7a794ba7b739c97ec71945a8",
    "isPrintLuxDf": false,
    "isPrintPandasDf": false,
    "isPrintView": false,
    "isPrintViewCollection": false,
    "order_count": 2,
    "time": "2020-07-14T08:27:03.018Z",
    "type": "completeCodeCell"
   },
   {
    "code": "vc.spec_lst",
    "id": "c19ee71d29b04f509f7aeaf48d8accf8",
    "isPrintLuxDf": false,
    "isPrintPandasDf": false,
    "isPrintView": false,
    "isPrintViewCollection": false,
    "order_count": 3,
    "time": "2020-07-14T08:27:03.022Z",
    "type": "completeCodeCell"
   },
   {
    "code": "vc.collection",
    "id": "177adfc594944adebb1944908b928fef",
    "order_count": 4,
    "time": "2020-07-14T08:27:04.343Z",
    "type": "executeCodeCell"
   },
   {
    "code": "",
    "id": "f94b70c54a994d999357267e8cce3ec8",
    "order_count": 5,
    "time": "2020-07-14T08:27:04.350Z",
    "type": "selectCodeCell"
   },
   {
    "code": "vc.collection",
    "id": "177adfc594944adebb1944908b928fef",
    "isPrintLuxDf": false,
    "isPrintPandasDf": false,
    "isPrintView": false,
    "isPrintViewCollection": false,
    "order_count": 4,
    "time": "2020-07-14T08:27:04.571Z",
    "type": "completeCodeCell"
   },
   {
    "param": "",
    "time": "2020-07-14T08:27:04.584Z",
    "type": "initWidget"
   },
   {
    "code": "vc.collection",
    "id": "177adfc594944adebb1944908b928fef",
    "order_count": 4,
    "time": "2020-07-14T08:27:08.358Z",
    "type": "selectCodeCell"
   },
   {
    "code": "vc.collection",
    "id": "177adfc594944adebb1944908b928fef",
    "order_count": 4,
    "time": "2020-07-14T08:27:08.362Z",
    "type": "editCodeCell"
   },
   {
    "code": "vc",
    "id": "177adfc594944adebb1944908b928fef",
    "order_count": 4,
    "time": "2020-07-14T08:27:09.953Z",
    "type": "executeCodeCell"
   },
   {
    "code": "",
    "id": "f94b70c54a994d999357267e8cce3ec8",
    "order_count": 5,
    "time": "2020-07-14T08:27:09.964Z",
    "type": "selectCodeCell"
   },
   {
    "code": "vc",
    "id": "177adfc594944adebb1944908b928fef",
    "isPrintLuxDf": false,
    "isPrintPandasDf": false,
    "isPrintView": false,
    "isPrintViewCollection": false,
    "order_count": 4,
    "time": "2020-07-14T08:27:10.117Z",
    "type": "completeCodeCell"
   },
   {
    "code": "vc",
    "id": "177adfc594944adebb1944908b928fef",
    "order_count": 4,
    "time": "2020-07-14T08:27:11.548Z",
    "type": "selectCodeCell"
   },
   {
    "code": "vc",
    "id": "177adfc594944adebb1944908b928fef",
    "order_count": 4,
    "time": "2020-07-14T08:27:11.561Z",
    "type": "editCodeCell"
   },
   {
    "code": "vc",
    "id": "177adfc594944adebb1944908b928fef",
    "order_count": 4,
    "time": "2020-07-14T08:27:11.684Z",
    "type": "selectCodeCell"
   },
   {
    "code": "vc",
    "id": "177adfc594944adebb1944908b928fef",
    "order_count": 4,
    "time": "2020-07-14T08:27:23.545Z",
    "type": "editCodeCell"
   },
   {
    "code": "vc.spec_lst",
    "id": "c19ee71d29b04f509f7aeaf48d8accf8",
    "order_count": 3,
    "time": "2020-07-14T08:27:23.919Z",
    "type": "selectCodeCell"
   },
   {
    "time": "2020-07-14T08:27:25.167Z",
    "type": "kernelRestart"
   },
   {
    "time": "2020-07-14T08:27:25.288Z",
    "type": "kernelRestart"
   },
   {
    "code": "df = pd.read_csv(\"lux/data/olympic.csv\")\nfrom lux.vis.VisCollection import VisCollection\nvc = VisCollection([\"Height\",\"SportType=Ball\",\"?\"],df)\n# view_with_year = list(filter(lambda x: x.get_attr_by_attr_name(\"Year\")!=[],vc))[0]\n# assert view_with_year.get_attr_by_channel(\"x\")[0].attribute==\"Year\"\n# assert len(vc) == len(df.columns) -1 -1 #remove 1 for view with same filter attribute and remove 1 view with for same attribute\n# vc = VisCollection([\"Height\",\"?\"],df)\n# assert len(vc) == len(df.columns) -1 #remove 1 f",
    "id": "74670b4a7a794ba7b739c97ec71945a8",
    "order_count": 2,
    "time": "2020-07-14T08:27:25.804Z",
    "type": "selectCodeCell"
   },
   {
    "code": "import pandas as pd\nimport lux",
    "id": "53ac2deab3234be785d747df05424b1d",
    "order_count": 1,
    "time": "2020-07-14T08:27:25.942Z",
    "type": "selectCodeCell"
   },
   {
    "code": "cd ..",
    "id": "03cb8afcf347496f82e47f207e86b1e4",
    "order_count": 0,
    "time": "2020-07-14T08:27:26.078Z",
    "type": "selectCodeCell"
   },
   {
    "code": "cd ..",
    "id": "03cb8afcf347496f82e47f207e86b1e4",
    "order_count": 0,
    "time": "2020-07-14T08:27:26.544Z",
    "type": "executeCodeCell"
   },
   {
    "code": "import pandas as pd\nimport lux",
    "id": "53ac2deab3234be785d747df05424b1d",
    "order_count": 1,
    "time": "2020-07-14T08:27:26.551Z",
    "type": "selectCodeCell"
   },
   {
    "code": "import pandas as pd\nimport lux",
    "id": "53ac2deab3234be785d747df05424b1d",
    "order_count": 1,
    "time": "2020-07-14T08:27:26.687Z",
    "type": "executeCodeCell"
   },
   {
    "code": "df = pd.read_csv(\"lux/data/olympic.csv\")\nfrom lux.vis.VisCollection import VisCollection\nvc = VisCollection([\"Height\",\"SportType=Ball\",\"?\"],df)\n# view_with_year = list(filter(lambda x: x.get_attr_by_attr_name(\"Year\")!=[],vc))[0]\n# assert view_with_year.get_attr_by_channel(\"x\")[0].attribute==\"Year\"\n# assert len(vc) == len(df.columns) -1 -1 #remove 1 for view with same filter attribute and remove 1 view with for same attribute\n# vc = VisCollection([\"Height\",\"?\"],df)\n# assert len(vc) == len(df.columns) -1 #remove 1 f",
    "id": "74670b4a7a794ba7b739c97ec71945a8",
    "order_count": 2,
    "time": "2020-07-14T08:27:26.698Z",
    "type": "selectCodeCell"
   },
   {
    "time": "2020-07-14T08:27:26.761Z",
    "type": "kernelReady"
   },
   {
    "code": "df = pd.read_csv(\"lux/data/olympic.csv\")\nfrom lux.vis.VisCollection import VisCollection\nvc = VisCollection([\"Height\",\"SportType=Ball\",\"?\"],df)\n# view_with_year = list(filter(lambda x: x.get_attr_by_attr_name(\"Year\")!=[],vc))[0]\n# assert view_with_year.get_attr_by_channel(\"x\")[0].attribute==\"Year\"\n# assert len(vc) == len(df.columns) -1 -1 #remove 1 for view with same filter attribute and remove 1 view with for same attribute\n# vc = VisCollection([\"Height\",\"?\"],df)\n# assert len(vc) == len(df.columns) -1 #remove 1 f",
    "id": "74670b4a7a794ba7b739c97ec71945a8",
    "order_count": 2,
    "time": "2020-07-14T08:27:26.832Z",
    "type": "executeCodeCell"
   },
   {
    "code": "vc.spec_lst",
    "id": "c19ee71d29b04f509f7aeaf48d8accf8",
    "order_count": 3,
    "time": "2020-07-14T08:27:26.839Z",
    "type": "selectCodeCell"
   },
   {
    "code": "vc.spec_lst",
    "id": "c19ee71d29b04f509f7aeaf48d8accf8",
    "order_count": 3,
    "time": "2020-07-14T08:27:26.976Z",
    "type": "executeCodeCell"
   },
   {
    "code": "vc",
    "id": "177adfc594944adebb1944908b928fef",
    "order_count": 4,
    "time": "2020-07-14T08:27:27.008Z",
    "type": "selectCodeCell"
   },
   {
    "code": "import pandas as pd\nimport lux",
    "id": "53ac2deab3234be785d747df05424b1d",
    "isPrintLuxDf": false,
    "isPrintPandasDf": false,
    "isPrintView": false,
    "isPrintViewCollection": false,
    "order_count": 1,
    "time": "2020-07-14T08:27:27.101Z",
    "type": "completeCodeCell"
   },
   {
    "time": "2020-07-14T08:27:27.105Z",
    "type": "kernelReady"
   },
   {
    "code": "vc",
    "id": "177adfc594944adebb1944908b928fef",
    "order_count": 4,
    "time": "2020-07-14T08:27:27.604Z",
    "type": "executeCodeCell"
   },
   {
    "code": "",
    "id": "f94b70c54a994d999357267e8cce3ec8",
    "order_count": 5,
    "time": "2020-07-14T08:27:27.611Z",
    "type": "selectCodeCell"
   },
   {
    "code": "df = pd.read_csv(\"lux/data/olympic.csv\")\nfrom lux.vis.VisCollection import VisCollection\nvc = VisCollection([\"Height\",\"SportType=Ball\",\"?\"],df)\n# view_with_year = list(filter(lambda x: x.get_attr_by_attr_name(\"Year\")!=[],vc))[0]\n# assert view_with_year.get_attr_by_channel(\"x\")[0].attribute==\"Year\"\n# assert len(vc) == len(df.columns) -1 -1 #remove 1 for view with same filter attribute and remove 1 view with for same attribute\n# vc = VisCollection([\"Height\",\"?\"],df)\n# assert len(vc) == len(df.columns) -1 #remove 1 f",
    "id": "74670b4a7a794ba7b739c97ec71945a8",
    "isPrintLuxDf": false,
    "isPrintPandasDf": false,
    "isPrintView": false,
    "isPrintViewCollection": false,
    "order_count": 2,
    "time": "2020-07-14T08:27:27.671Z",
    "type": "completeCodeCell"
   },
   {
    "code": "vc.spec_lst",
    "id": "c19ee71d29b04f509f7aeaf48d8accf8",
    "isPrintLuxDf": false,
    "isPrintPandasDf": false,
    "isPrintView": false,
    "isPrintViewCollection": false,
    "order_count": 3,
    "time": "2020-07-14T08:27:27.675Z",
    "type": "completeCodeCell"
   },
   {
    "code": "vc",
    "id": "177adfc594944adebb1944908b928fef",
    "isPrintLuxDf": false,
    "isPrintPandasDf": false,
    "isPrintView": false,
    "isPrintViewCollection": false,
    "order_count": 4,
    "time": "2020-07-14T08:27:27.720Z",
    "type": "completeCodeCell"
   },
   {
    "param": "",
    "time": "2020-07-14T08:27:27.731Z",
    "type": "initWidget"
   },
   {
    "code": "vc",
    "id": "177adfc594944adebb1944908b928fef",
    "order_count": 4,
    "time": "2020-07-14T08:27:56.835Z",
    "type": "selectCodeCell"
   },
   {
    "time": "2020-07-14T08:27:58.230Z",
    "type": "kernelRestart"
   },
   {
    "code": "vc.spec_lst",
    "id": "c19ee71d29b04f509f7aeaf48d8accf8",
    "order_count": 3,
    "time": "2020-07-14T08:27:58.697Z",
    "type": "selectCodeCell"
   },
   {
    "code": "df = pd.read_csv(\"lux/data/olympic.csv\")\nfrom lux.vis.VisCollection import VisCollection\nvc = VisCollection([\"Height\",\"SportType=Ball\",\"?\"],df)\n# view_with_year = list(filter(lambda x: x.get_attr_by_attr_name(\"Year\")!=[],vc))[0]\n# assert view_with_year.get_attr_by_channel(\"x\")[0].attribute==\"Year\"\n# assert len(vc) == len(df.columns) -1 -1 #remove 1 for view with same filter attribute and remove 1 view with for same attribute\n# vc = VisCollection([\"Height\",\"?\"],df)\n# assert len(vc) == len(df.columns) -1 #remove 1 f",
    "id": "74670b4a7a794ba7b739c97ec71945a8",
    "order_count": 2,
    "time": "2020-07-14T08:27:58.858Z",
    "type": "selectCodeCell"
   },
   {
    "code": "import pandas as pd\nimport lux",
    "id": "53ac2deab3234be785d747df05424b1d",
    "order_count": 1,
    "time": "2020-07-14T08:27:59.008Z",
    "type": "selectCodeCell"
   },
   {
    "time": "2020-07-14T08:27:59.078Z",
    "type": "kernelReady"
   },
   {
    "code": "cd ..",
    "id": "03cb8afcf347496f82e47f207e86b1e4",
    "order_count": 0,
    "time": "2020-07-14T08:27:59.171Z",
    "type": "selectCodeCell"
   },
   {
    "code": "cd ..",
    "id": "03cb8afcf347496f82e47f207e86b1e4",
    "order_count": 0,
    "time": "2020-07-14T08:27:59.872Z",
    "type": "executeCodeCell"
   },
   {
    "code": "import pandas as pd\nimport lux",
    "id": "53ac2deab3234be785d747df05424b1d",
    "order_count": 1,
    "time": "2020-07-14T08:27:59.882Z",
    "type": "selectCodeCell"
   },
   {
    "code": "cd ..",
    "id": "03cb8afcf347496f82e47f207e86b1e4",
    "isPrintLuxDf": false,
    "isPrintPandasDf": false,
    "isPrintView": false,
    "isPrintViewCollection": false,
    "order_count": 0,
    "time": "2020-07-14T08:27:59.885Z",
    "type": "completeCodeCell"
   },
   {
    "code": "cd ..",
    "id": "03cb8afcf347496f82e47f207e86b1e4",
    "isPrintLuxDf": false,
    "isPrintPandasDf": false,
    "isPrintView": false,
    "isPrintViewCollection": false,
    "order_count": 0,
    "time": "2020-07-14T08:27:59.885Z",
    "type": "completeCodeCell"
   },
   {
    "code": "import pandas as pd\nimport lux",
    "id": "53ac2deab3234be785d747df05424b1d",
    "order_count": 1,
    "time": "2020-07-14T08:27:59.984Z",
    "type": "executeCodeCell"
   },
   {
    "code": "df = pd.read_csv(\"lux/data/olympic.csv\")\nfrom lux.vis.VisCollection import VisCollection\nvc = VisCollection([\"Height\",\"SportType=Ball\",\"?\"],df)\n# view_with_year = list(filter(lambda x: x.get_attr_by_attr_name(\"Year\")!=[],vc))[0]\n# assert view_with_year.get_attr_by_channel(\"x\")[0].attribute==\"Year\"\n# assert len(vc) == len(df.columns) -1 -1 #remove 1 for view with same filter attribute and remove 1 view with for same attribute\n# vc = VisCollection([\"Height\",\"?\"],df)\n# assert len(vc) == len(df.columns) -1 #remove 1 f",
    "id": "74670b4a7a794ba7b739c97ec71945a8",
    "order_count": 2,
    "time": "2020-07-14T08:27:59.995Z",
    "type": "selectCodeCell"
   },
   {
    "code": "df = pd.read_csv(\"lux/data/olympic.csv\")\nfrom lux.vis.VisCollection import VisCollection\nvc = VisCollection([\"Height\",\"SportType=Ball\",\"?\"],df)\n# view_with_year = list(filter(lambda x: x.get_attr_by_attr_name(\"Year\")!=[],vc))[0]\n# assert view_with_year.get_attr_by_channel(\"x\")[0].attribute==\"Year\"\n# assert len(vc) == len(df.columns) -1 -1 #remove 1 for view with same filter attribute and remove 1 view with for same attribute\n# vc = VisCollection([\"Height\",\"?\"],df)\n# assert len(vc) == len(df.columns) -1 #remove 1 f",
    "id": "74670b4a7a794ba7b739c97ec71945a8",
    "order_count": 2,
    "time": "2020-07-14T08:28:00.256Z",
    "type": "executeCodeCell"
   },
   {
    "code": "vc.spec_lst",
    "id": "c19ee71d29b04f509f7aeaf48d8accf8",
    "order_count": 3,
    "time": "2020-07-14T08:28:00.264Z",
    "type": "selectCodeCell"
   },
   {
    "code": "import pandas as pd\nimport lux",
    "id": "53ac2deab3234be785d747df05424b1d",
    "isPrintLuxDf": false,
    "isPrintPandasDf": false,
    "isPrintView": false,
    "isPrintViewCollection": false,
    "order_count": 1,
    "time": "2020-07-14T08:28:00.301Z",
    "type": "completeCodeCell"
   },
   {
    "code": "df = pd.read_csv(\"lux/data/olympic.csv\")\nfrom lux.vis.VisCollection import VisCollection\nvc = VisCollection([\"Height\",\"SportType=Ball\",\"?\"],df)\n# view_with_year = list(filter(lambda x: x.get_attr_by_attr_name(\"Year\")!=[],vc))[0]\n# assert view_with_year.get_attr_by_channel(\"x\")[0].attribute==\"Year\"\n# assert len(vc) == len(df.columns) -1 -1 #remove 1 for view with same filter attribute and remove 1 view with for same attribute\n# vc = VisCollection([\"Height\",\"?\"],df)\n# assert len(vc) == len(df.columns) -1 #remove 1 f",
    "id": "74670b4a7a794ba7b739c97ec71945a8",
    "isPrintLuxDf": false,
    "isPrintPandasDf": false,
    "isPrintView": false,
    "isPrintViewCollection": false,
    "order_count": 2,
    "time": "2020-07-14T08:28:00.847Z",
    "type": "completeCodeCell"
   },
   {
    "code": "vc.spec_lst",
    "id": "c19ee71d29b04f509f7aeaf48d8accf8",
    "order_count": 3,
    "time": "2020-07-14T08:28:00.856Z",
    "type": "executeCodeCell"
   },
   {
    "code": "vc",
    "id": "177adfc594944adebb1944908b928fef",
    "order_count": 4,
    "time": "2020-07-14T08:28:00.863Z",
    "type": "selectCodeCell"
   },
   {
    "code": "vc.spec_lst",
    "id": "c19ee71d29b04f509f7aeaf48d8accf8",
    "isPrintLuxDf": false,
    "isPrintPandasDf": false,
    "isPrintView": false,
    "isPrintViewCollection": false,
    "order_count": 3,
    "time": "2020-07-14T08:28:00.867Z",
    "type": "completeCodeCell"
   },
   {
    "code": "vc",
    "id": "177adfc594944adebb1944908b928fef",
    "order_count": 4,
    "time": "2020-07-14T08:28:01.643Z",
    "type": "executeCodeCell"
   },
   {
    "code": "",
    "id": "f94b70c54a994d999357267e8cce3ec8",
    "order_count": 5,
    "time": "2020-07-14T08:28:01.654Z",
    "type": "selectCodeCell"
   },
   {
    "code": "vc",
    "id": "177adfc594944adebb1944908b928fef",
    "isPrintLuxDf": false,
    "isPrintPandasDf": false,
    "isPrintView": false,
    "isPrintViewCollection": false,
    "order_count": 4,
    "time": "2020-07-14T08:28:01.700Z",
    "type": "completeCodeCell"
   },
   {
    "param": "",
    "time": "2020-07-14T08:28:01.709Z",
    "type": "initWidget"
   },
   {
    "code": "vc",
    "id": "177adfc594944adebb1944908b928fef",
    "order_count": 4,
    "time": "2020-07-14T08:28:02.362Z",
    "type": "selectCodeCell"
   },
   {
    "code": "vc",
    "id": "177adfc594944adebb1944908b928fef",
    "order_count": 4,
    "time": "2020-07-14T08:28:02.885Z",
    "type": "editCodeCell"
   },
   {
    "code": "vc.collection",
    "id": "177adfc594944adebb1944908b928fef",
    "order_count": 4,
    "time": "2020-07-14T08:28:05.877Z",
    "type": "executeCodeCell"
   },
   {
    "code": "",
    "id": "f94b70c54a994d999357267e8cce3ec8",
    "order_count": 5,
    "time": "2020-07-14T08:28:05.892Z",
    "type": "selectCodeCell"
   },
   {
    "code": "vc.collection",
    "id": "177adfc594944adebb1944908b928fef",
    "isPrintLuxDf": false,
    "isPrintPandasDf": false,
    "isPrintView": false,
    "isPrintViewCollection": false,
    "order_count": 4,
    "time": "2020-07-14T08:28:05.898Z",
    "type": "completeCodeCell"
   },
   {
    "code": "vc.collection",
    "id": "177adfc594944adebb1944908b928fef",
    "order_count": 4,
    "time": "2020-07-14T08:28:07.266Z",
    "type": "selectCodeCell"
   },
   {
    "code": "vc.spec_lst",
    "id": "c19ee71d29b04f509f7aeaf48d8accf8",
    "order_count": 3,
    "time": "2020-07-14T08:28:34.323Z",
    "type": "selectCodeCell"
   },
   {
    "time": "2020-07-14T08:28:35.794Z",
    "type": "kernelRestart"
   },
   {
    "code": "df = pd.read_csv(\"lux/data/olympic.csv\")\nfrom lux.vis.VisCollection import VisCollection\nvc = VisCollection([\"Height\",\"SportType=Ball\",\"?\"],df)\n# view_with_year = list(filter(lambda x: x.get_attr_by_attr_name(\"Year\")!=[],vc))[0]\n# assert view_with_year.get_attr_by_channel(\"x\")[0].attribute==\"Year\"\n# assert len(vc) == len(df.columns) -1 -1 #remove 1 for view with same filter attribute and remove 1 view with for same attribute\n# vc = VisCollection([\"Height\",\"?\"],df)\n# assert len(vc) == len(df.columns) -1 #remove 1 f",
    "id": "74670b4a7a794ba7b739c97ec71945a8",
    "order_count": 2,
    "time": "2020-07-14T08:28:36.443Z",
    "type": "selectCodeCell"
   },
   {
    "code": "import pandas as pd\nimport lux",
    "id": "53ac2deab3234be785d747df05424b1d",
    "order_count": 1,
    "time": "2020-07-14T08:28:36.592Z",
    "type": "selectCodeCell"
   },
   {
    "time": "2020-07-14T08:28:36.713Z",
    "type": "kernelReady"
   },
   {
    "time": "2020-07-14T08:28:36.717Z",
    "type": "kernelReady"
   },
   {
    "code": "cd ..",
    "id": "03cb8afcf347496f82e47f207e86b1e4",
    "order_count": 0,
    "time": "2020-07-14T08:28:36.752Z",
    "type": "selectCodeCell"
   },
   {
    "code": "cd ..",
    "id": "03cb8afcf347496f82e47f207e86b1e4",
    "order_count": 0,
    "time": "2020-07-14T08:28:37.476Z",
    "type": "executeCodeCell"
   },
   {
    "code": "import pandas as pd\nimport lux",
    "id": "53ac2deab3234be785d747df05424b1d",
    "order_count": 1,
    "time": "2020-07-14T08:28:37.486Z",
    "type": "selectCodeCell"
   },
   {
    "code": "cd ..",
    "id": "03cb8afcf347496f82e47f207e86b1e4",
    "isPrintLuxDf": false,
    "isPrintPandasDf": false,
    "isPrintView": false,
    "isPrintViewCollection": false,
    "order_count": 0,
    "time": "2020-07-14T08:28:37.492Z",
    "type": "completeCodeCell"
   },
   {
    "code": "import pandas as pd\nimport lux",
    "id": "53ac2deab3234be785d747df05424b1d",
    "order_count": 1,
    "time": "2020-07-14T08:28:37.668Z",
    "type": "executeCodeCell"
   },
   {
    "code": "df = pd.read_csv(\"lux/data/olympic.csv\")\nfrom lux.vis.VisCollection import VisCollection\nvc = VisCollection([\"Height\",\"SportType=Ball\",\"?\"],df)\n# view_with_year = list(filter(lambda x: x.get_attr_by_attr_name(\"Year\")!=[],vc))[0]\n# assert view_with_year.get_attr_by_channel(\"x\")[0].attribute==\"Year\"\n# assert len(vc) == len(df.columns) -1 -1 #remove 1 for view with same filter attribute and remove 1 view with for same attribute\n# vc = VisCollection([\"Height\",\"?\"],df)\n# assert len(vc) == len(df.columns) -1 #remove 1 f",
    "id": "74670b4a7a794ba7b739c97ec71945a8",
    "order_count": 2,
    "time": "2020-07-14T08:28:37.682Z",
    "type": "selectCodeCell"
   },
   {
    "code": "import pandas as pd\nimport lux",
    "id": "53ac2deab3234be785d747df05424b1d",
    "isPrintLuxDf": false,
    "isPrintPandasDf": false,
    "isPrintView": false,
    "isPrintViewCollection": false,
    "order_count": 1,
    "time": "2020-07-14T08:28:37.983Z",
    "type": "completeCodeCell"
   },
   {
    "code": "df = pd.read_csv(\"lux/data/olympic.csv\")\nfrom lux.vis.VisCollection import VisCollection\nvc = VisCollection([\"Height\",\"SportType=Ball\",\"?\"],df)\n# view_with_year = list(filter(lambda x: x.get_attr_by_attr_name(\"Year\")!=[],vc))[0]\n# assert view_with_year.get_attr_by_channel(\"x\")[0].attribute==\"Year\"\n# assert len(vc) == len(df.columns) -1 -1 #remove 1 for view with same filter attribute and remove 1 view with for same attribute\n# vc = VisCollection([\"Height\",\"?\"],df)\n# assert len(vc) == len(df.columns) -1 #remove 1 f",
    "id": "74670b4a7a794ba7b739c97ec71945a8",
    "order_count": 2,
    "time": "2020-07-14T08:28:38.051Z",
    "type": "executeCodeCell"
   },
   {
    "code": "vc.spec_lst",
    "id": "c19ee71d29b04f509f7aeaf48d8accf8",
    "order_count": 3,
    "time": "2020-07-14T08:28:38.061Z",
    "type": "selectCodeCell"
   },
   {
    "code": "vc.spec_lst",
    "id": "c19ee71d29b04f509f7aeaf48d8accf8",
    "order_count": 3,
    "time": "2020-07-14T08:28:38.483Z",
    "type": "executeCodeCell"
   },
   {
    "code": "vc.collection",
    "id": "177adfc594944adebb1944908b928fef",
    "order_count": 4,
    "time": "2020-07-14T08:28:38.490Z",
    "type": "selectCodeCell"
   },
   {
    "code": "df = pd.read_csv(\"lux/data/olympic.csv\")\nfrom lux.vis.VisCollection import VisCollection\nvc = VisCollection([\"Height\",\"SportType=Ball\",\"?\"],df)\n# view_with_year = list(filter(lambda x: x.get_attr_by_attr_name(\"Year\")!=[],vc))[0]\n# assert view_with_year.get_attr_by_channel(\"x\")[0].attribute==\"Year\"\n# assert len(vc) == len(df.columns) -1 -1 #remove 1 for view with same filter attribute and remove 1 view with for same attribute\n# vc = VisCollection([\"Height\",\"?\"],df)\n# assert len(vc) == len(df.columns) -1 #remove 1 f",
    "id": "74670b4a7a794ba7b739c97ec71945a8",
    "isPrintLuxDf": false,
    "isPrintPandasDf": false,
    "isPrintView": false,
    "isPrintViewCollection": false,
    "order_count": 2,
    "time": "2020-07-14T08:28:38.587Z",
    "type": "completeCodeCell"
   },
   {
    "code": "vc.spec_lst",
    "id": "c19ee71d29b04f509f7aeaf48d8accf8",
    "isPrintLuxDf": false,
    "isPrintPandasDf": false,
    "isPrintView": false,
    "isPrintViewCollection": false,
    "order_count": 3,
    "time": "2020-07-14T08:28:38.594Z",
    "type": "completeCodeCell"
   },
   {
    "code": "vc.collection",
    "id": "177adfc594944adebb1944908b928fef",
    "order_count": 4,
    "time": "2020-07-14T08:28:39.316Z",
    "type": "executeCodeCell"
   },
   {
    "code": "",
    "id": "f94b70c54a994d999357267e8cce3ec8",
    "order_count": 5,
    "time": "2020-07-14T08:28:39.327Z",
    "type": "selectCodeCell"
   },
   {
    "code": "vc.collection",
    "id": "177adfc594944adebb1944908b928fef",
    "isPrintLuxDf": false,
    "isPrintPandasDf": false,
    "isPrintView": false,
    "isPrintViewCollection": false,
    "order_count": 4,
    "time": "2020-07-14T08:28:39.570Z",
    "type": "completeCodeCell"
   },
   {
    "param": "",
    "time": "2020-07-14T08:28:39.580Z",
    "type": "initWidget"
   },
   {
    "code": "vc.collection",
    "id": "177adfc594944adebb1944908b928fef",
    "order_count": 4,
    "time": "2020-07-14T08:28:42.876Z",
    "type": "selectCodeCell"
   },
   {
    "code": "vc.collection",
    "id": "177adfc594944adebb1944908b928fef",
    "order_count": 4,
    "time": "2020-07-14T08:28:42.882Z",
    "type": "editCodeCell"
   },
   {
    "code": "vc.collection",
    "id": "177adfc594944adebb1944908b928fef",
    "order_count": 4,
    "time": "2020-07-14T08:28:43.913Z",
    "type": "selectCodeCell"
   },
   {
    "code": "vc",
    "id": "177adfc594944adebb1944908b928fef",
    "order_count": 4,
    "time": "2020-07-14T08:28:45.246Z",
    "type": "executeCodeCell"
   },
   {
    "code": "",
    "id": "f94b70c54a994d999357267e8cce3ec8",
    "order_count": 5,
    "time": "2020-07-14T08:28:45.262Z",
    "type": "selectCodeCell"
   },
   {
    "code": "vc",
    "id": "177adfc594944adebb1944908b928fef",
    "isPrintLuxDf": false,
    "isPrintPandasDf": false,
    "isPrintView": false,
    "isPrintViewCollection": false,
    "order_count": 4,
    "time": "2020-07-14T08:28:45.409Z",
    "type": "completeCodeCell"
   },
   {
    "code": "vc",
    "id": "177adfc594944adebb1944908b928fef",
    "order_count": 4,
    "time": "2020-07-14T08:28:45.918Z",
    "type": "selectCodeCell"
   },
   {
    "code": "vc",
    "id": "177adfc594944adebb1944908b928fef",
    "order_count": 4,
    "time": "2020-07-14T08:29:04.327Z",
    "type": "editCodeCell"
   },
   {
    "code": "vc",
    "id": "177adfc594944adebb1944908b928fef",
    "order_count": 4,
    "time": "2020-07-14T08:29:04.440Z",
    "type": "selectCodeCell"
   },
   {
    "code": "vc",
    "id": "177adfc594944adebb1944908b928fef",
    "order_count": 4,
    "time": "2020-07-14T08:29:05.166Z",
    "type": "selectCodeCell"
   },
   {
    "code": "vc",
    "id": "177adfc594944adebb1944908b928fef",
    "order_count": 4,
    "time": "2020-07-14T08:29:24.503Z",
    "type": "editCodeCell"
   },
   {
    "code": "vc",
    "id": "177adfc594944adebb1944908b928fef",
    "order_count": 4,
    "time": "2020-07-14T08:29:24.831Z",
    "type": "selectCodeCell"
   },
   {
    "time": "2020-07-14T08:29:26.257Z",
    "type": "kernelRestart"
   },
   {
    "time": "2020-07-14T08:29:26.387Z",
    "type": "kernelRestart"
   },
   {
    "code": "vc.spec_lst",
    "id": "c19ee71d29b04f509f7aeaf48d8accf8",
    "order_count": 3,
    "time": "2020-07-14T08:29:26.797Z",
    "type": "selectCodeCell"
   },
   {
    "code": "df = pd.read_csv(\"lux/data/olympic.csv\")\nfrom lux.vis.VisCollection import VisCollection\nvc = VisCollection([\"Height\",\"SportType=Ball\",\"?\"],df)\n# view_with_year = list(filter(lambda x: x.get_attr_by_attr_name(\"Year\")!=[],vc))[0]\n# assert view_with_year.get_attr_by_channel(\"x\")[0].attribute==\"Year\"\n# assert len(vc) == len(df.columns) -1 -1 #remove 1 for view with same filter attribute and remove 1 view with for same attribute\n# vc = VisCollection([\"Height\",\"?\"],df)\n# assert len(vc) == len(df.columns) -1 #remove 1 f",
    "id": "74670b4a7a794ba7b739c97ec71945a8",
    "order_count": 2,
    "time": "2020-07-14T08:29:26.939Z",
    "type": "selectCodeCell"
   },
   {
    "code": "import pandas as pd\nimport lux",
    "id": "53ac2deab3234be785d747df05424b1d",
    "order_count": 1,
    "time": "2020-07-14T08:29:27.080Z",
    "type": "selectCodeCell"
   },
   {
    "code": "cd ..",
    "id": "03cb8afcf347496f82e47f207e86b1e4",
    "order_count": 0,
    "time": "2020-07-14T08:29:27.216Z",
    "type": "selectCodeCell"
   },
   {
    "time": "2020-07-14T08:29:27.627Z",
    "type": "kernelReady"
   },
   {
    "code": "cd ..",
    "id": "03cb8afcf347496f82e47f207e86b1e4",
    "order_count": 0,
    "time": "2020-07-14T08:29:27.691Z",
    "type": "executeCodeCell"
   },
   {
    "code": "import pandas as pd\nimport lux",
    "id": "53ac2deab3234be785d747df05424b1d",
    "order_count": 1,
    "time": "2020-07-14T08:29:27.703Z",
    "type": "selectCodeCell"
   },
   {
    "code": "cd ..",
    "id": "03cb8afcf347496f82e47f207e86b1e4",
    "isPrintLuxDf": false,
    "isPrintPandasDf": false,
    "isPrintView": false,
    "isPrintViewCollection": false,
    "order_count": 0,
    "time": "2020-07-14T08:29:27.725Z",
    "type": "completeCodeCell"
   },
   {
    "time": "2020-07-14T08:29:27.731Z",
    "type": "kernelReady"
   },
   {
    "code": "import pandas as pd\nimport lux",
    "id": "53ac2deab3234be785d747df05424b1d",
    "order_count": 1,
    "time": "2020-07-14T08:29:27.844Z",
    "type": "executeCodeCell"
   },
   {
    "code": "df = pd.read_csv(\"lux/data/olympic.csv\")\nfrom lux.vis.VisCollection import VisCollection\nvc = VisCollection([\"Height\",\"SportType=Ball\",\"?\"],df)\n# view_with_year = list(filter(lambda x: x.get_attr_by_attr_name(\"Year\")!=[],vc))[0]\n# assert view_with_year.get_attr_by_channel(\"x\")[0].attribute==\"Year\"\n# assert len(vc) == len(df.columns) -1 -1 #remove 1 for view with same filter attribute and remove 1 view with for same attribute\n# vc = VisCollection([\"Height\",\"?\"],df)\n# assert len(vc) == len(df.columns) -1 #remove 1 f",
    "id": "74670b4a7a794ba7b739c97ec71945a8",
    "order_count": 2,
    "time": "2020-07-14T08:29:27.859Z",
    "type": "selectCodeCell"
   },
   {
    "code": "df = pd.read_csv(\"lux/data/olympic.csv\")\nfrom lux.vis.VisCollection import VisCollection\nvc = VisCollection([\"Height\",\"SportType=Ball\",\"?\"],df)\n# view_with_year = list(filter(lambda x: x.get_attr_by_attr_name(\"Year\")!=[],vc))[0]\n# assert view_with_year.get_attr_by_channel(\"x\")[0].attribute==\"Year\"\n# assert len(vc) == len(df.columns) -1 -1 #remove 1 for view with same filter attribute and remove 1 view with for same attribute\n# vc = VisCollection([\"Height\",\"?\"],df)\n# assert len(vc) == len(df.columns) -1 #remove 1 f",
    "id": "74670b4a7a794ba7b739c97ec71945a8",
    "order_count": 2,
    "time": "2020-07-14T08:29:28.002Z",
    "type": "executeCodeCell"
   },
   {
    "code": "vc.spec_lst",
    "id": "c19ee71d29b04f509f7aeaf48d8accf8",
    "order_count": 3,
    "time": "2020-07-14T08:29:28.010Z",
    "type": "selectCodeCell"
   },
   {
    "code": "import pandas as pd\nimport lux",
    "id": "53ac2deab3234be785d747df05424b1d",
    "isPrintLuxDf": false,
    "isPrintPandasDf": false,
    "isPrintView": false,
    "isPrintViewCollection": false,
    "order_count": 1,
    "time": "2020-07-14T08:29:28.172Z",
    "type": "completeCodeCell"
   },
   {
    "code": "vc.spec_lst",
    "id": "c19ee71d29b04f509f7aeaf48d8accf8",
    "order_count": 3,
    "time": "2020-07-14T08:29:28.385Z",
    "type": "executeCodeCell"
   },
   {
    "code": "vc",
    "id": "177adfc594944adebb1944908b928fef",
    "order_count": 4,
    "time": "2020-07-14T08:29:28.414Z",
    "type": "selectCodeCell"
   },
   {
    "code": "df = pd.read_csv(\"lux/data/olympic.csv\")\nfrom lux.vis.VisCollection import VisCollection\nvc = VisCollection([\"Height\",\"SportType=Ball\",\"?\"],df)\n# view_with_year = list(filter(lambda x: x.get_attr_by_attr_name(\"Year\")!=[],vc))[0]\n# assert view_with_year.get_attr_by_channel(\"x\")[0].attribute==\"Year\"\n# assert len(vc) == len(df.columns) -1 -1 #remove 1 for view with same filter attribute and remove 1 view with for same attribute\n# vc = VisCollection([\"Height\",\"?\"],df)\n# assert len(vc) == len(df.columns) -1 #remove 1 f",
    "id": "74670b4a7a794ba7b739c97ec71945a8",
    "isPrintLuxDf": false,
    "isPrintPandasDf": false,
    "isPrintView": false,
    "isPrintViewCollection": false,
    "order_count": 2,
    "time": "2020-07-14T08:29:28.693Z",
    "type": "completeCodeCell"
   },
   {
    "code": "vc.spec_lst",
    "id": "c19ee71d29b04f509f7aeaf48d8accf8",
    "isPrintLuxDf": false,
    "isPrintPandasDf": false,
    "isPrintView": false,
    "isPrintViewCollection": false,
    "order_count": 3,
    "time": "2020-07-14T08:29:28.707Z",
    "type": "completeCodeCell"
   },
   {
    "code": "vc",
    "id": "177adfc594944adebb1944908b928fef",
    "order_count": 4,
    "time": "2020-07-14T08:29:29.274Z",
    "type": "executeCodeCell"
   },
   {
    "code": "",
    "id": "f94b70c54a994d999357267e8cce3ec8",
    "order_count": 5,
    "time": "2020-07-14T08:29:29.284Z",
    "type": "selectCodeCell"
   },
   {
    "code": "vc",
    "id": "177adfc594944adebb1944908b928fef",
    "isPrintLuxDf": false,
    "isPrintPandasDf": false,
    "isPrintView": false,
    "isPrintViewCollection": false,
    "order_count": 4,
    "time": "2020-07-14T08:29:29.507Z",
    "type": "completeCodeCell"
   },
   {
    "param": "",
    "time": "2020-07-14T08:29:29.515Z",
    "type": "initWidget"
   },
   {
    "code": "df = pd.read_csv(\"lux/data/olympic.csv\")\nfrom lux.vis.VisCollection import VisCollection\nvc = VisCollection([\"Height\",\"SportType=Ball\",\"?\"],df)\n# view_with_year = list(filter(lambda x: x.get_attr_by_attr_name(\"Year\")!=[],vc))[0]\n# assert view_with_year.get_attr_by_channel(\"x\")[0].attribute==\"Year\"\n# assert len(vc) == len(df.columns) -1 -1 #remove 1 for view with same filter attribute and remove 1 view with for same attribute\n# vc = VisCollection([\"Height\",\"?\"],df)\n# assert len(vc) == len(df.columns) -1 #remove 1 f",
    "id": "74670b4a7a794ba7b739c97ec71945a8",
    "order_count": 2,
    "time": "2020-07-14T08:29:39.450Z",
    "type": "selectCodeCell"
   },
   {
    "code": "df = pd.read_csv(\"lux/data/olympic.csv\")\nfrom lux.vis.VisCollection import VisCollection\nvc = VisCollection([\"Height\",\"SportType=Ball\",\"?\"],df)\n# view_with_year = list(filter(lambda x: x.get_attr_by_attr_name(\"Year\")!=[],vc))[0]\n# assert view_with_year.get_attr_by_channel(\"x\")[0].attribute==\"Year\"\n# assert len(vc) == len(df.columns) -1 -1 #remove 1 for view with same filter attribute and remove 1 view with for same attribute\n# vc = VisCollection([\"Height\",\"?\"],df)\n# assert len(vc) == len(df.columns) -1 #remove 1 f",
    "id": "74670b4a7a794ba7b739c97ec71945a8",
    "order_count": 2,
    "time": "2020-07-14T08:29:39.457Z",
    "type": "editCodeCell"
   },
   {
    "code": "df = pd.read_csv(\"lux/data/olympic.csv\")\nfrom lux.vis.VisCollection import VisCollection\nvc = VisCollection([\"Height\",\"SportType=Ball\",\"?\"],df)\n# view_with_year = list(filter(lambda x: x.get_attr_by_attr_name(\"Year\")!=[],vc))[0]\n# assert view_with_year.get_attr_by_channel(\"x\")[0].attribute==\"Year\"\n# assert len(vc) == len(df.columns) -1 -1 #remove 1 for view with same filter attribute and remove 1 view with for same attribute\n# vc = VisCollection([\"Height\",\"?\"],df)\n# assert len(vc) == len(df.columns) -1 #remove 1 f",
    "id": "74670b4a7a794ba7b739c97ec71945a8",
    "order_count": 2,
    "time": "2020-07-14T08:29:47.070Z",
    "type": "editCodeCell"
   },
   {
    "code": "df = pd.read_csv(\"lux/data/olympic.csv\")\nfrom lux.vis.VisCollection import VisCollection\nvc = VisCollection([\"Height\",\"SportType=Ball\",\"?\"],df)\nview_with_year = list(filter(lambda x: x.get_attr_by_attr_name(\"Year\")!=[],vc))[0]\n# assert view_with_year.get_attr_by_channel(\"x\")[0].attribute==\"Year\"\n# assert len(vc) == len(df.columns) -1 -1 #remove 1 for view with same filter attribute and remove 1 view with for same attribute\n# vc = VisCollection([\"Height\",\"?\"],df)\n# assert len(vc) == len(df.columns) -1 #remove 1 f",
    "id": "74670b4a7a794ba7b739c97ec71945a8",
    "order_count": 2,
    "time": "2020-07-14T08:29:49.122Z",
    "type": "executeCodeCell"
   },
   {
    "code": "vc.spec_lst",
    "id": "c19ee71d29b04f509f7aeaf48d8accf8",
    "order_count": 3,
    "time": "2020-07-14T08:29:49.140Z",
    "type": "selectCodeCell"
   },
   {
    "code": "df = pd.read_csv(\"lux/data/olympic.csv\")\nfrom lux.vis.VisCollection import VisCollection\nvc = VisCollection([\"Height\",\"SportType=Ball\",\"?\"],df)\nview_with_year = list(filter(lambda x: x.get_attr_by_attr_name(\"Year\")!=[],vc))[0]\n# assert view_with_year.get_attr_by_channel(\"x\")[0].attribute==\"Year\"\n# assert len(vc) == len(df.columns) -1 -1 #remove 1 for view with same filter attribute and remove 1 view with for same attribute\n# vc = VisCollection([\"Height\",\"?\"],df)\n# assert len(vc) == len(df.columns) -1 #remove 1 f",
    "id": "74670b4a7a794ba7b739c97ec71945a8",
    "isPrintLuxDf": false,
    "isPrintPandasDf": false,
    "isPrintView": false,
    "isPrintViewCollection": false,
    "order_count": 2,
    "time": "2020-07-14T08:29:49.643Z",
    "type": "completeCodeCell"
   },
   {
    "code": "vc.spec_lst",
    "id": "c19ee71d29b04f509f7aeaf48d8accf8",
    "order_count": 3,
    "time": "2020-07-14T08:29:51.884Z",
    "type": "executeCodeCell"
   },
   {
    "code": "vc",
    "id": "177adfc594944adebb1944908b928fef",
    "order_count": 4,
    "time": "2020-07-14T08:29:51.898Z",
    "type": "selectCodeCell"
   },
   {
    "code": "vc.spec_lst",
    "id": "c19ee71d29b04f509f7aeaf48d8accf8",
    "isPrintLuxDf": false,
    "isPrintPandasDf": false,
    "isPrintView": false,
    "isPrintViewCollection": false,
    "order_count": 3,
    "time": "2020-07-14T08:29:51.906Z",
    "type": "completeCodeCell"
   },
   {
    "code": "vc.spec_lst",
    "id": "c19ee71d29b04f509f7aeaf48d8accf8",
    "order_count": 3,
    "time": "2020-07-14T08:29:53.183Z",
    "type": "selectCodeCell"
   },
   {
    "code": "df = pd.read_csv(\"lux/data/olympic.csv\")\nfrom lux.vis.VisCollection import VisCollection\nvc = VisCollection([\"Height\",\"SportType=Ball\",\"?\"],df)\nview_with_year = list(filter(lambda x: x.get_attr_by_attr_name(\"Year\")!=[],vc))[0]\n# assert view_with_year.get_attr_by_channel(\"x\")[0].attribute==\"Year\"\n# assert len(vc) == len(df.columns) -1 -1 #remove 1 for view with same filter attribute and remove 1 view with for same attribute\n# vc = VisCollection([\"Height\",\"?\"],df)\n# assert len(vc) == len(df.columns) -1 #remove 1 f",
    "id": "74670b4a7a794ba7b739c97ec71945a8",
    "order_count": 2,
    "time": "2020-07-14T08:29:53.682Z",
    "type": "selectCodeCell"
   },
   {
    "code": "df = pd.read_csv(\"lux/data/olympic.csv\")\nfrom lux.vis.VisCollection import VisCollection\nvc = VisCollection([\"Height\",\"SportType=Ball\",\"?\"],df)\nview_with_year = list(filter(lambda x: x.get_attr_by_attr_name(\"Year\")!=[],vc))[0]\n# assert view_with_year.get_attr_by_channel(\"x\")[0].attribute==\"Year\"\n# assert len(vc) == len(df.columns) -1 -1 #remove 1 for view with same filter attribute and remove 1 view with for same attribute\n# vc = VisCollection([\"Height\",\"?\"],df)\n# assert len(vc) == len(df.columns) -1 #remove 1 f",
    "id": "74670b4a7a794ba7b739c97ec71945a8",
    "order_count": 2,
    "time": "2020-07-14T08:29:54.024Z",
    "type": "editCodeCell"
   },
   {
    "code": "df = pd.read_csv(\"lux/data/olympic.csv\")\nfrom lux.vis.VisCollection import VisCollection\nvc = VisCollection([\"Height\",\"SportType=Ball\",\"?\"],df)\nview_with_year = list(filter(lambda x: x.get_attr_by_attr_name(\"Year\")!=[],vc))[0]\nassert view_with_year.get_attr_by_channel(\"x\")[0].attribute==\"Year\"\nassert len(vc) == len(df.columns) -1 -1 #remove 1 for view with same filter attribute and remove 1 view with for same attribute\nvc = VisCollection([\"Height\",\"?\"],df)\nassert len(vc) == len(df.columns) -1 #remove 1 f",
    "id": "74670b4a7a794ba7b739c97ec71945a8",
    "order_count": 2,
    "time": "2020-07-14T08:29:57.725Z",
    "type": "executeCodeCell"
   },
   {
    "code": "vc.spec_lst",
    "id": "c19ee71d29b04f509f7aeaf48d8accf8",
    "order_count": 3,
    "time": "2020-07-14T08:29:57.743Z",
    "type": "selectCodeCell"
   },
   {
    "code": "df = pd.read_csv(\"lux/data/olympic.csv\")\nfrom lux.vis.VisCollection import VisCollection\nvc = VisCollection([\"Height\",\"SportType=Ball\",\"?\"],df)\nview_with_year = list(filter(lambda x: x.get_attr_by_attr_name(\"Year\")!=[],vc))[0]\nassert view_with_year.get_attr_by_channel(\"x\")[0].attribute==\"Year\"\nassert len(vc) == len(df.columns) -1 -1 #remove 1 for view with same filter attribute and remove 1 view with for same attribute\nvc = VisCollection([\"Height\",\"?\"],df)\nassert len(vc) == len(df.columns) -1 #remove 1 f",
    "id": "74670b4a7a794ba7b739c97ec71945a8",
    "isPrintLuxDf": false,
    "isPrintPandasDf": false,
    "isPrintView": false,
    "isPrintViewCollection": false,
    "order_count": 2,
    "time": "2020-07-14T08:29:58.349Z",
    "type": "completeCodeCell"
   },
   {
    "code": "df = pd.read_csv(\"lux/data/olympic.csv\")\nfrom lux.vis.VisCollection import VisCollection\nvc = VisCollection([\"Height\",\"SportType=Ball\",\"?\"],df)\nview_with_year = list(filter(lambda x: x.get_attr_by_attr_name(\"Year\")!=[],vc))[0]\nassert view_with_year.get_attr_by_channel(\"x\")[0].attribute==\"Year\"\nassert len(vc) == len(df.columns) -1 -1 #remove 1 for view with same filter attribute and remove 1 view with for same attribute\nvc = VisCollection([\"Height\",\"?\"],df)\nassert len(vc) == len(df.columns) -1 #remove 1 f",
    "id": "74670b4a7a794ba7b739c97ec71945a8",
    "order_count": 2,
    "time": "2020-07-14T08:29:59.918Z",
    "type": "selectCodeCell"
   },
   {
    "code": "df = pd.read_csv(\"lux/data/olympic.csv\")\nfrom lux.vis.VisCollection import VisCollection\nvc = VisCollection([\"Height\",\"SportType=Ball\",\"?\"],df)\nview_with_year = list(filter(lambda x: x.get_attr_by_attr_name(\"Year\")!=[],vc))[0]\nassert view_with_year.get_attr_by_channel(\"x\")[0].attribute==\"Year\"\nassert len(vc) == len(df.columns) -1 -1 #remove 1 for view with same filter attribute and remove 1 view with for same attribute\nvc = VisCollection([\"Height\",\"?\"],df)\nassert len(vc) == len(df.columns) -1 #remove 1 f",
    "id": "74670b4a7a794ba7b739c97ec71945a8",
    "order_count": 2,
    "time": "2020-07-14T08:30:00.594Z",
    "type": "editCodeCell"
   },
   {
    "code": "df = pd.read_csv(\"lux/data/olympic.csv\")\nfrom lux.vis.VisCollection import VisCollection\nvc = VisCollection([\"Height\",\"SportType=Ball\",\"?\"],df)\nview_with_year = list(filter(lambda x: x.get_attr_by_attr_name(\"Year\")!=[],vc))[0]\nassert view_with_year.get_attr_by_channel(\"x\")[0].attribute==\"Year\"\nassert len(vc) == len(df.columns) -1 -1 #remove 1 for view with same filter attribute and remove 1 view with for same attribute\nvc = VisCollection([\"Height\",\"?\"],df)\nassert len(vc) == len(df.columns) -1 #remove 1 f",
    "id": "74670b4a7a794ba7b739c97ec71945a8",
    "order_count": 2,
    "time": "2020-07-14T08:37:50.918Z",
    "type": "editCodeCell"
   },
   {
    "code": "vc.spec_lst",
    "id": "c19ee71d29b04f509f7aeaf48d8accf8",
    "order_count": 3,
    "time": "2020-07-14T08:37:51.708Z",
    "type": "selectCodeCell"
   },
   {
    "code": "",
    "id": "f94b70c54a994d999357267e8cce3ec8",
    "order_count": 5,
    "time": "2020-07-14T08:37:53.226Z",
    "type": "selectCodeCell"
   },
   {
    "code": "",
    "id": "f94b70c54a994d999357267e8cce3ec8",
    "order_count": 5,
    "time": "2020-07-14T08:37:53.231Z",
    "type": "editCodeCell"
   },
   {
    "code": "df = pd.read_csv(\"lux/data/olympic.csv\")\nfrom lux.vis.VisCollection import VisCollection\nvc = VisCollection([\"Height\",\"SportType=Ball\",\"?\"],df)\nview_with_year = list(filter(lambda x: x.get_attr_by_attr_name(\"Year\")!=[],vc))[0]\nassert view_with_year.get_attr_by_channel(\"x\")[0].attribute==\"Year\"\nassert len(vc) == len(df.columns) -1 -1 #remove 1 for view with same filter attribute and remove 1 view with for same attribute\nvc = VisCollection([\"Height\",\"?\"],df)\nassert len(vc) == len(df.columns) -1 #remove 1 f",
    "id": "74670b4a7a794ba7b739c97ec71945a8",
    "order_count": 2,
    "time": "2020-07-14T08:37:56.231Z",
    "type": "selectCodeCell"
   },
   {
    "code": "df = pd.read_csv(\"lux/data/olympic.csv\")\nfrom lux.vis.VisCollection import VisCollection\nvc = VisCollection([\"Height\",\"SportType=Ball\",\"?\"],df)\nview_with_year = list(filter(lambda x: x.get_attr_by_attr_name(\"Year\")!=[],vc))[0]\nassert view_with_year.get_attr_by_channel(\"x\")[0].attribute==\"Year\"\nassert len(vc) == len(df.columns) -1 -1 #remove 1 for view with same filter attribute and remove 1 view with for same attribute\nvc = VisCollection([\"Height\",\"?\"],df)\nassert len(vc) == len(df.columns) -1 #remove 1 f",
    "id": "74670b4a7a794ba7b739c97ec71945a8",
    "order_count": 2,
    "time": "2020-07-14T08:37:56.238Z",
    "type": "editCodeCell"
   },
   {
    "code": "df = pd.read_csv(\"lux/data/olympic.csv\")\nfrom lux.vis.VisCollection import VisCollection\nvc = VisCollection([\"Height\",\"SportType=Ball\",\"?\"],df)\nview_with_year = list(filter(lambda x: x.get_attr_by_attr_name(\"Year\")!=[],vc))[0]\nassert view_with_year.get_attr_by_channel(\"x\")[0].attribute==\"Year\"\nassert len(vc) == len(df.columns) -1 -1 #remove 1 for view with same filter attribute and remove 1 view with for same attribute\nvc = VisCollection([\"Height\",\"?\"],df)\nassert len(vc) == len(df.columns) -1 #remove 1 f",
    "id": "74670b4a7a794ba7b739c97ec71945a8",
    "order_count": 2,
    "time": "2020-07-14T08:37:56.877Z",
    "type": "selectCodeCell"
   },
   {
    "code": "",
    "id": "f94b70c54a994d999357267e8cce3ec8",
    "order_count": 5,
    "time": "2020-07-14T08:37:59.989Z",
    "type": "selectCodeCell"
   },
   {
    "code": "",
    "id": "f94b70c54a994d999357267e8cce3ec8",
    "order_count": 5,
    "time": "2020-07-14T08:37:59.993Z",
    "type": "editCodeCell"
   },
   {
    "code": "",
    "id": "f94b70c54a994d999357267e8cce3ec8",
    "order_count": 5,
    "time": "2020-07-14T08:38:00.046Z",
    "type": "selectCodeCell"
   },
   {
    "code": "vc = VisCollection([\"Height\",\"SportType=Ball\",\"?\"],df)\nvc.set_query",
    "id": "f94b70c54a994d999357267e8cce3ec8",
    "order_count": 5,
    "time": "2020-07-14T08:38:16.465Z",
    "type": "executeCodeCell"
   },
   {
    "code": "",
    "id": "7adef8c2b6124923a0f97655c6bc7c76",
    "order_count": 6,
    "time": "2020-07-14T08:38:16.500Z",
    "type": "editCodeCell"
   },
   {
    "code": "vc = VisCollection([\"Height\",\"SportType=Ball\",\"?\"],df)\nvc.set_query",
    "id": "f94b70c54a994d999357267e8cce3ec8",
    "isPrintLuxDf": false,
    "isPrintPandasDf": false,
    "isPrintView": false,
    "isPrintViewCollection": false,
    "order_count": 5,
    "time": "2020-07-14T08:38:16.993Z",
    "type": "completeCodeCell"
   },
   {
    "code": "vc = VisCollection([\"Height\",\"SportType=Ball\",\"?\"],df)\nvc.set_query",
    "id": "f94b70c54a994d999357267e8cce3ec8",
    "order_count": 5,
    "time": "2020-07-14T08:38:17.339Z",
    "type": "editCodeCell"
   },
   {
    "code": "vc = VisCollection([\"Height\",\"SportType=Ball\",\"?\"],df)\n\nvc.set_query",
    "id": "f94b70c54a994d999357267e8cce3ec8",
    "order_count": 5,
    "time": "2020-07-14T08:38:23.035Z",
    "type": "selectCodeCell"
   },
   {
    "code": "vc.set_query([\"Height\",\"SportType=Swimming\",\"?\"])",
    "id": "f94b70c54a994d999357267e8cce3ec8",
    "order_count": 5,
    "time": "2020-07-14T08:38:33.313Z",
    "type": "executeCodeCell"
   },
   {
    "code": "",
    "id": "7adef8c2b6124923a0f97655c6bc7c76",
    "order_count": 6,
    "time": "2020-07-14T08:38:33.333Z",
    "type": "selectCodeCell"
   },
   {
    "code": "vc.set_query([\"Height\",\"SportType=Swimming\",\"?\"])",
    "id": "f94b70c54a994d999357267e8cce3ec8",
    "isPrintLuxDf": false,
    "isPrintPandasDf": false,
    "isPrintView": false,
    "isPrintViewCollection": false,
    "order_count": 5,
    "time": "2020-07-14T08:38:33.472Z",
    "type": "completeCodeCell"
   },
   {
    "code": "vc.set_query([\"Height\",\"SportType=Swimming\",\"?\"])",
    "id": "f94b70c54a994d999357267e8cce3ec8",
    "order_count": 5,
    "time": "2020-07-14T08:38:41.710Z",
    "type": "selectCodeCell"
   },
   {
    "code": "vc.set_query([\"Height\",\"SportType=Swimming\",\"?\"])",
    "id": "f94b70c54a994d999357267e8cce3ec8",
    "order_count": 5,
    "time": "2020-07-14T08:38:41.719Z",
    "type": "editCodeCell"
   },
   {
    "code": "vc = VisCollection([\"Height\",\"SportType=Ball\",\"?\"],df)\n\nvc.set_query([\"Height\",\"SportType=Swimming\",\"?\"])",
    "id": "f94b70c54a994d999357267e8cce3ec8",
    "order_count": 5,
    "time": "2020-07-14T08:38:45.880Z",
    "type": "selectCodeCell"
   },
   {
    "code": "vc = VisCollection([\"Height\",\"SportType=Ball\",\"?\"],df)\n\nvc.set_query([\"Height\",\"SportType=Swimming\",\"?\"])",
    "id": "f94b70c54a994d999357267e8cce3ec8",
    "order_count": 5,
    "time": "2020-07-14T08:38:49.304Z",
    "type": "selectCodeCell"
   },
   {
    "code": "vc = VisCollection([\"Height\",\"SportType=Swimming\",\"?\"],df)\n\nvc.set_query([\"Height\",\"SportType=Swimming\",\"?\"])",
    "id": "f94b70c54a994d999357267e8cce3ec8",
    "order_count": 5,
    "time": "2020-07-14T08:38:50.945Z",
    "type": "executeCodeCell"
   },
   {
    "code": "",
    "id": "7adef8c2b6124923a0f97655c6bc7c76",
    "order_count": 6,
    "time": "2020-07-14T08:38:50.966Z",
    "type": "selectCodeCell"
   },
   {
    "code": "vc = VisCollection([\"Height\",\"SportType=Swimming\",\"?\"],df)\n\nvc.set_query([\"Height\",\"SportType=Swimming\",\"?\"])",
    "id": "f94b70c54a994d999357267e8cce3ec8",
    "isPrintLuxDf": false,
    "isPrintPandasDf": false,
    "isPrintView": false,
    "isPrintViewCollection": false,
    "order_count": 5,
    "time": "2020-07-14T08:38:51.001Z",
    "type": "completeCodeCell"
   },
   {
    "code": "vc = VisCollection([\"Height\",\"SportType=Swimming\",\"?\"],df)\n\nvc.set_query([\"Height\",\"SportType=Swimming\",\"?\"])",
    "id": "f94b70c54a994d999357267e8cce3ec8",
    "order_count": 5,
    "time": "2020-07-14T08:38:51.815Z",
    "type": "selectCodeCell"
   },
   {
    "code": "vc = VisCollection([\"Height\",\"SportType=Swimming\",\"?\"],df)\n\nvc.set_query([\"Height\",\"SportType=Swimming\",\"?\"])",
    "id": "f94b70c54a994d999357267e8cce3ec8",
    "order_count": 5,
    "time": "2020-07-14T08:38:52.173Z",
    "type": "editCodeCell"
   },
   {
    "code": "vc = VisCollection([\"Height\",\"SportType=Swimming\",\"?\"],df)\n\nvc.set_query([\"Height\",\"SportType=Swimming\",\"?\"])",
    "id": "f94b70c54a994d999357267e8cce3ec8",
    "order_count": 5,
    "time": "2020-07-14T08:38:56.319Z",
    "type": "selectCodeCell"
   },
   {
    "code": "",
    "id": "b77e6773e499447c944bf950682153e3",
    "order_count": 5,
    "time": "2020-07-14T08:38:57.589Z",
    "type": "selectCodeCell"
   },
   {
    "code": "",
    "id": "b77e6773e499447c944bf950682153e3",
    "order_count": 5,
    "time": "2020-07-14T08:38:57.731Z",
    "type": "editCodeCell"
   },
   {
    "code": "df[df[\"SportType\"]==\"Swimming\"]",
    "id": "b77e6773e499447c944bf950682153e3",
    "order_count": 5,
    "time": "2020-07-14T08:39:22.649Z",
    "type": "executeCodeCell"
   },
   {
    "code": "vc = VisCollection([\"Height\",\"SportType=Swimming\",\"?\"],df)\n\nvc.set_query([\"Height\",\"SportType=Swimming\",\"?\"])",
    "id": "f94b70c54a994d999357267e8cce3ec8",
    "order_count": 6,
    "time": "2020-07-14T08:39:22.680Z",
    "type": "selectCodeCell"
   },
   {
    "code": "df[df[\"SportType\"]==\"Swimming\"]",
    "id": "b77e6773e499447c944bf950682153e3",
    "isPrintLuxDf": false,
    "isPrintPandasDf": false,
    "isPrintView": false,
    "isPrintViewCollection": false,
    "order_count": 5,
    "time": "2020-07-14T08:39:22.699Z",
    "type": "completeCodeCell"
   },
   {
    "code": "df[df[\"SportType\"]==\"Swimming\"]",
    "id": "b77e6773e499447c944bf950682153e3",
    "order_count": 5,
    "time": "2020-07-14T08:39:23.218Z",
    "type": "selectCodeCell"
   },
   {
    "code": "df[df[\"SportType\"]==\"Swimming\"]",
    "id": "b77e6773e499447c944bf950682153e3",
    "order_count": 5,
    "time": "2020-07-14T08:39:23.650Z",
    "type": "editCodeCell"
   },
   {
    "code": "df[df[\"SportType\"]==\"Swimming\"]",
    "id": "b77e6773e499447c944bf950682153e3",
    "order_count": 5,
    "time": "2020-07-14T08:39:38.417Z",
    "type": "editCodeCell"
   },
   {
    "code": "df[df[\"SportType\"]==\"Swimming\"]",
    "id": "b77e6773e499447c944bf950682153e3",
    "order_count": 5,
    "time": "2020-07-14T08:39:39.342Z",
    "type": "selectCodeCell"
   },
   {
    "code": "df[df[\"SportType\"]==\"Swimming\"]",
    "id": "b77e6773e499447c944bf950682153e3",
    "order_count": 5,
    "time": "2020-07-14T08:39:39.841Z",
    "type": "editCodeCell"
   },
   {
    "code": "df[df[\"SportType\"]==\"Swimming\"]",
    "id": "b77e6773e499447c944bf950682153e3",
    "order_count": 5,
    "time": "2020-07-14T08:39:39.879Z",
    "type": "editCodeCell"
   },
   {
    "code": "df",
    "id": "b77e6773e499447c944bf950682153e3",
    "order_count": 5,
    "time": "2020-07-14T08:39:41.500Z",
    "type": "executeCodeCell"
   },
   {
    "code": "vc = VisCollection([\"Height\",\"SportType=Swimming\",\"?\"],df)\n\nvc.set_query([\"Height\",\"SportType=Swimming\",\"?\"])",
    "id": "f94b70c54a994d999357267e8cce3ec8",
    "order_count": 6,
    "time": "2020-07-14T08:39:41.531Z",
    "type": "selectCodeCell"
   },
   {
    "code": "df",
    "id": "b77e6773e499447c944bf950682153e3",
    "isPrintLuxDf": false,
    "isPrintPandasDf": true,
    "isPrintView": false,
    "isPrintViewCollection": false,
    "order_count": 5,
    "time": "2020-07-14T08:39:42.396Z",
    "type": "completeCodeCell"
   },
   {
    "code": "df",
    "id": "b77e6773e499447c944bf950682153e3",
    "order_count": 5,
    "time": "2020-07-14T08:39:47.350Z",
    "type": "selectCodeCell"
   },
   {
    "code": "df",
    "id": "b77e6773e499447c944bf950682153e3",
    "order_count": 5,
    "time": "2020-07-14T08:39:47.356Z",
    "type": "editCodeCell"
   },
   {
    "code": "df[df[\"SportType\"]==\"Swimming\"]",
    "id": "b77e6773e499447c944bf950682153e3",
    "order_count": 5,
    "time": "2020-07-14T08:39:49.305Z",
    "type": "selectCodeCell"
   },
   {
    "code": "df[df[\"SportType\"]==\"Swimming\"]",
    "id": "b77e6773e499447c944bf950682153e3",
    "order_count": 5,
    "time": "2020-07-14T08:39:50.487Z",
    "type": "selectCodeCell"
   },
   {
    "code": "df[df[\"SportType\"]==\"Boat\"]",
    "id": "b77e6773e499447c944bf950682153e3",
    "order_count": 5,
    "time": "2020-07-14T08:39:52.233Z",
    "type": "executeCodeCell"
   },
   {
    "code": "vc = VisCollection([\"Height\",\"SportType=Swimming\",\"?\"],df)\n\nvc.set_query([\"Height\",\"SportType=Swimming\",\"?\"])",
    "id": "f94b70c54a994d999357267e8cce3ec8",
    "order_count": 6,
    "time": "2020-07-14T08:39:52.265Z",
    "type": "selectCodeCell"
   },
   {
    "code": "df[df[\"SportType\"]==\"Boat\"]",
    "id": "b77e6773e499447c944bf950682153e3",
    "isPrintLuxDf": false,
    "isPrintPandasDf": true,
    "isPrintView": false,
    "isPrintViewCollection": false,
    "order_count": 5,
    "time": "2020-07-14T08:39:52.738Z",
    "type": "completeCodeCell"
   },
   {
    "code": "df[df[\"SportType\"]==\"Boat\"]",
    "id": "b77e6773e499447c944bf950682153e3",
    "order_count": 5,
    "time": "2020-07-14T08:39:54.228Z",
    "type": "selectCodeCell"
   },
   {
    "param": "",
    "time": "2020-07-14T08:39:54.261Z",
    "type": "initWidget"
   },
   {
    "param": "",
    "time": "2020-07-14T08:39:54.508Z",
    "type": "initWidget"
   },
   {
    "code": "df[df[\"SportType\"]==\"Boat\"]",
    "id": "b77e6773e499447c944bf950682153e3",
    "order_count": 5,
    "time": "2020-07-14T08:39:55.323Z",
    "type": "selectCodeCell"
   },
   {
    "code": "df[df[\"SportType\"]==\"Boat\"]",
    "id": "b77e6773e499447c944bf950682153e3",
    "order_count": null,
    "time": "2020-07-14T08:39:55.730Z",
    "type": "deleteCodeCell"
   },
   {
    "code": "vc = VisCollection([\"Height\",\"SportType=Swimming\",\"?\"],df)\n\nvc.set_query([\"Height\",\"SportType=Swimming\",\"?\"])",
    "id": "f94b70c54a994d999357267e8cce3ec8",
    "order_count": 5,
    "time": "2020-07-14T08:39:57.392Z",
    "type": "editCodeCell"
   },
   {
    "code": "vc = VisCollection([\"Height\",\"SportType=Boat\",\"?\"],df)\n\nvc.set_query([\"Height\",\"SportType=Swimming\",\"?\"])",
    "id": "f94b70c54a994d999357267e8cce3ec8",
    "order_count": 5,
    "time": "2020-07-14T08:40:01.672Z",
    "type": "selectCodeCell"
   },
   {
    "code": "vc = VisCollection([\"Height\",\"SportType=Boat\",\"?\"],df)\n\nvc.set_query([\"Height\",\"SportType=Boat\",\"?\"])",
    "id": "f94b70c54a994d999357267e8cce3ec8",
    "order_count": 5,
    "time": "2020-07-14T08:40:12.207Z",
    "type": "executeCodeCell"
   },
   {
    "code": "",
    "id": "7adef8c2b6124923a0f97655c6bc7c76",
    "order_count": 6,
    "time": "2020-07-14T08:40:12.226Z",
    "type": "selectCodeCell"
   },
   {
    "code": "vc = VisCollection([\"Height\",\"SportType=Boat\",\"?\"],df)\n\nvc.set_query([\"Height\",\"SportType=Boat\",\"?\"])",
    "id": "f94b70c54a994d999357267e8cce3ec8",
    "isPrintLuxDf": false,
    "isPrintPandasDf": false,
    "isPrintView": false,
    "isPrintViewCollection": false,
    "order_count": 5,
    "time": "2020-07-14T08:40:13.308Z",
    "type": "completeCodeCell"
   },
   {
    "code": "vc = VisCollection([\"Height\",\"SportType=Boat\",\"?\"],df)\n\nvc.set_query([\"Height\",\"SportType=Boat\",\"?\"])",
    "id": "f94b70c54a994d999357267e8cce3ec8",
    "order_count": 5,
    "time": "2020-07-14T08:40:15.992Z",
    "type": "selectCodeCell"
   },
   {
    "code": "vc = VisCollection([\"Height\",\"SportType=Boat\",\"?\"],df)\n\nvc.set_query([\"Height\",\"SportType=Boat\",\"?\"])",
    "id": "f94b70c54a994d999357267e8cce3ec8",
    "order_count": 5,
    "time": "2020-07-14T08:40:16.776Z",
    "type": "editCodeCell"
   },
   {
    "code": "vc = VisCollection([\"Height\",\"SportType=Boat\",\"?\"],df)\n\nvc.set_query([\"Height\",\"SportType=Boat\",\"?\"])",
    "id": "f94b70c54a994d999357267e8cce3ec8",
    "order_count": 5,
    "time": "2020-07-14T08:40:20.603Z",
    "type": "selectCodeCell"
   },
   {
    "code": "vc = VisCollection([\"Height\",\"SportType=Boat\",\"?\"],df)\n\nvc.set_query([\"Height\",\"SportType=Boat\",\"?\"])",
    "id": "f94b70c54a994d999357267e8cce3ec8",
    "order_count": 5,
    "time": "2020-07-14T08:40:31.059Z",
    "type": "selectCodeCell"
   },
   {
    "code": "vc = VisCollection([\"Height\",\"SportType=Boat\",\"?\"],df)\n\nvc.set_query([\"Height\",\"SportType=Boat\",\"?\"])",
    "id": "f94b70c54a994d999357267e8cce3ec8",
    "order_count": 5,
    "time": "2020-07-14T08:40:34.523Z",
    "type": "editCodeCell"
   },
   {
    "code": "vc = VisCollection([\"Height\",\"SportType=Boat\",\"?\"],df)\n\nvc.set_query([\"Height\",\"SportType=Boat\",\"?\"])",
    "id": "f94b70c54a994d999357267e8cce3ec8",
    "order_count": 5,
    "time": "2020-07-14T08:40:39.818Z",
    "type": "editCodeCell"
   },
   {
    "code": "df = pd.read_csv(\"lux/data/olympic.csv\")\nfrom lux.vis.VisCollection import VisCollection\nvc = VisCollection([\"Height\",\"SportType=Ball\",\"?\"],df)\nview_with_year = list(filter(lambda x: x.get_attr_by_attr_name(\"Year\")!=[],vc))[0]\nassert view_with_year.get_attr_by_channel(\"x\")[0].attribute==\"Year\"\nassert len(vc) == len(df.columns) -1 -1 #remove 1 for view with same filter attribute and remove 1 view with for same attribute\nvc = VisCollection([\"Height\",\"?\"],df)\nassert len(vc) == len(df.columns) -1 #remove 1 f",
    "id": "74670b4a7a794ba7b739c97ec71945a8",
    "order_count": 2,
    "time": "2020-07-14T08:40:43.124Z",
    "type": "selectCodeCell"
   },
   {
    "code": "df = pd.read_csv(\"lux/data/olympic.csv\")\nfrom lux.vis.VisCollection import VisCollection\nvc = VisCollection([\"Height\",\"SportType=Ball\",\"?\"],df)\nview_with_year = list(filter(lambda x: x.get_attr_by_attr_name(\"Year\")!=[],vc))[0]\nassert view_with_year.get_attr_by_channel(\"x\")[0].attribute==\"Year\"\nassert len(vc) == len(df.columns) -1 -1 #remove 1 for view with same filter attribute and remove 1 view with for same attribute\nvc = VisCollection([\"Height\",\"?\"],df)\nassert len(vc) == len(df.columns) -1 #remove 1 f",
    "id": "74670b4a7a794ba7b739c97ec71945a8",
    "order_count": 2,
    "time": "2020-07-14T08:40:43.131Z",
    "type": "editCodeCell"
   },
   {
    "code": "df = pd.read_csv(\"lux/data/olympic.csv\")\nfrom lux.vis.VisCollection import VisCollection\nvc = VisCollection([\"Height\",\"SportType=Ball\",\"?\"],df)\nview_with_year = list(filter(lambda x: x.get_attr_by_attr_name(\"Year\")!=[],vc))[0]\nassert view_with_year.get_attr_by_channel(\"x\")[0].attribute==\"Year\"\nassert len(vc) == len(df.columns) -1 -1 #remove 1 for view with same filter attribute and remove 1 view with for same attribute\nvc = VisCollection([\"Height\",\"?\"],df)\nassert len(vc) == len(df.columns) -1 #remove 1 f",
    "id": "74670b4a7a794ba7b739c97ec71945a8",
    "order_count": 2,
    "time": "2020-07-14T08:40:47.482Z",
    "type": "selectCodeCell"
   },
   {
    "code": "df = pd.read_csv(\"lux/data/olympic.csv\")\nfrom lux.vis.VisCollection import VisCollection\nvc = VisCollection([\"Height\",\"SportType=Ball\",\"?\"],df)\nview_with_year = list(filter(lambda x: x.get_attr_by_attr_name(\"Year\")!=[],vc))[0]\nassert view_with_year.get_attr_by_channel(\"x\")[0].attribute==\"Year\"\nassert len(vc) == len(df.columns) -1 -1 #remove 1 for view with same filter attribute and remove 1 view with for same attribute\nvc = VisCollection([\"Height\",\"?\"],df)\nassert len(vc) == len(df.columns) -1 #remove 1 f",
    "id": "74670b4a7a794ba7b739c97ec71945a8",
    "order_count": 2,
    "time": "2020-07-14T08:40:52.877Z",
    "type": "editCodeCell"
   },
   {
    "code": "vc = VisCollection([\"Height\",\"SportType=Boat\",\"?\"],df)\n\nvc.set_query([\"Height\",\"SportType=Boat\",\"?\"])",
    "id": "f94b70c54a994d999357267e8cce3ec8",
    "order_count": 5,
    "time": "2020-07-14T08:41:01.778Z",
    "type": "selectCodeCell"
   },
   {
    "code": "vc = VisCollection([\"Height\",\"SportType=Boat\",\"?\"],df)\n\nvc.set_query([\"Height\",\"SportType=Boat\",\"?\"])",
    "id": "f94b70c54a994d999357267e8cce3ec8",
    "order_count": 5,
    "time": "2020-07-14T08:41:01.783Z",
    "type": "editCodeCell"
   },
   {
    "code": "vc = VisCollection([\"Height\",\"SportType=Boat\",\"?\"],df)\n\nvc.set_query([\"Height\",\"SportType=Boat\",\"?\"])",
    "id": "f94b70c54a994d999357267e8cce3ec8",
    "order_count": 5,
    "time": "2020-07-14T08:44:45.198Z",
    "type": "selectCodeCell"
   },
   {
    "code": "vc = VisCollection([\"Height\",\"SportType=Boat\",\"?\"],df)\n\nvc.set_query([\"Height\",\"SportType=Boat\",\"?\"])",
    "id": "f94b70c54a994d999357267e8cce3ec8",
    "order_count": 5,
    "time": "2020-07-14T08:44:45.763Z",
    "type": "selectCodeCell"
   },
   {
    "code": "vc = VisCollection([\"Height\",\"SportType=Boat\",\"?\"],df)\n\nvc.set_query([\"Height\",\"SportType=Boat\",\"?\"])",
    "id": "f94b70c54a994d999357267e8cce3ec8",
    "order_count": 5,
    "time": "2020-07-14T08:44:46.287Z",
    "type": "editCodeCell"
   },
   {
    "code": "vc = VisCollection([\"Height\",\"SportType=Boat\",\"?\"],df)\n\nvc.set_query([\"Height\",\"SportType=Boat\",\"?\"])",
    "id": "f94b70c54a994d999357267e8cce3ec8",
    "order_count": 5,
    "time": "2020-07-14T08:45:02.723Z",
    "type": "editCodeCell"
   },
   {
    "code": "vc = VisCollection([\"Height\",\"SportType=Boat\",\"?\"],df)\n\nvc.set_query([\"Height\",\"SportType=Boat\",\"?\"])",
    "id": "f94b70c54a994d999357267e8cce3ec8",
    "order_count": 5,
    "time": "2020-07-14T08:45:35.177Z",
    "type": "editCodeCell"
   },
   {
    "code": "df = pd.read_csv(\"lux/data/olympic.csv\")\nfrom lux.vis.VisCollection import VisCollection\nvc = VisCollection([\"Height\",\"SportType=Ball\",\"?\"],df)\nview_with_year = list(filter(lambda x: x.get_attr_by_attr_name(\"Year\")!=[],vc))[0]\nassert view_with_year.get_attr_by_channel(\"x\")[0].attribute==\"Year\"\nassert len(vc) == len(df.columns) -1 -1 #remove 1 for view with same filter attribute and remove 1 view with for same attribute\nvc = VisCollection([\"Height\",\"?\"],df)\nassert len(vc) == len(df.columns) -1 #remove 1 f",
    "id": "74670b4a7a794ba7b739c97ec71945a8",
    "order_count": 2,
    "time": "2020-07-14T08:45:37.529Z",
    "type": "selectCodeCell"
   },
   {
    "code": "df = pd.read_csv(\"lux/data/olympic.csv\")\nfrom lux.vis.VisCollection import VisCollection\nvc = VisCollection([\"Height\",\"SportType=Ball\",\"?\"],df)\nview_with_year = list(filter(lambda x: x.get_attr_by_attr_name(\"Year\")!=[],vc))[0]\nassert view_with_year.get_attr_by_channel(\"x\")[0].attribute==\"Year\"\nassert len(vc) == len(df.columns) -1 -1 #remove 1 for view with same filter attribute and remove 1 view with for same attribute\nvc = VisCollection([\"Height\",\"?\"],df)\nassert len(vc) == len(df.columns) -1 #remove 1 f",
    "id": "74670b4a7a794ba7b739c97ec71945a8",
    "order_count": 2,
    "time": "2020-07-14T08:45:37.536Z",
    "type": "editCodeCell"
   },
   {
    "code": "vc.spec_lst",
    "id": "c19ee71d29b04f509f7aeaf48d8accf8",
    "order_count": 3,
    "time": "2020-07-14T08:45:39.513Z",
    "type": "selectCodeCell"
   },
   {
    "code": "df = pd.read_csv(\"lux/data/olympic.csv\")\nfrom lux.vis.VisCollection import VisCollection\nvc = VisCollection([\"Height\",\"SportType=Ball\",\"?\"],df)\nview_with_year = list(filter(lambda x: x.get_attr_by_attr_name(\"Year\")!=[],vc))[0]\nassert view_with_year.get_attr_by_channel(\"x\")[0].attribute==\"Year\"\nassert len(vc) == len(df.columns) -1 -1 #remove 1 for view with same filter attribute and remove 1 view with for same attribute\nvc = VisCollection([\"Height\",\"?\"],df)\nassert len(vc) == len(df.columns) -1 #remove 1 f",
    "id": "74670b4a7a794ba7b739c97ec71945a8",
    "order_count": 2,
    "time": "2020-07-14T08:45:39.891Z",
    "type": "selectCodeCell"
   },
   {
    "code": "",
    "id": "c09e69c469644ba18a73db50ff265bef",
    "order_count": 2,
    "time": "2020-07-14T08:45:40.124Z",
    "type": "selectCodeCell"
   },
   {
    "code": "",
    "id": "c09e69c469644ba18a73db50ff265bef",
    "order_count": 2,
    "time": "2020-07-14T08:45:40.551Z",
    "type": "editCodeCell"
   },
   {
    "code": "df = pd.read_csv(\"lux/data/olympic.csv\")\nfrom lux.vis.VisCollection import VisCollection\nvc = VisCollection([\"Height\",\"SportType=Swimming\",\"?\"],df)",
    "id": "c09e69c469644ba18a73db50ff265bef",
    "order_count": 2,
    "time": "2020-07-14T08:45:47.814Z",
    "type": "executeCodeCell"
   },
   {
    "code": "df = pd.read_csv(\"lux/data/olympic.csv\")\nfrom lux.vis.VisCollection import VisCollection\nvc = VisCollection([\"Height\",\"SportType=Ball\",\"?\"],df)\nview_with_year = list(filter(lambda x: x.get_attr_by_attr_name(\"Year\")!=[],vc))[0]\nassert view_with_year.get_attr_by_channel(\"x\")[0].attribute==\"Year\"\nassert len(vc) == len(df.columns) -1 -1 #remove 1 for view with same filter attribute and remove 1 view with for same attribute\nvc = VisCollection([\"Height\",\"?\"],df)\nassert len(vc) == len(df.columns) -1 #remove 1 f",
    "id": "74670b4a7a794ba7b739c97ec71945a8",
    "order_count": 3,
    "time": "2020-07-14T08:45:47.843Z",
    "type": "selectCodeCell"
   },
   {
    "code": "df = pd.read_csv(\"lux/data/olympic.csv\")\nfrom lux.vis.VisCollection import VisCollection\nvc = VisCollection([\"Height\",\"SportType=Swimming\",\"?\"],df)",
    "id": "c09e69c469644ba18a73db50ff265bef",
    "isPrintLuxDf": false,
    "isPrintPandasDf": false,
    "isPrintView": false,
    "isPrintViewCollection": false,
    "order_count": 2,
    "time": "2020-07-14T08:45:47.939Z",
    "type": "completeCodeCell"
   },
   {
    "code": "df = pd.read_csv(\"lux/data/olympic.csv\")\nfrom lux.vis.VisCollection import VisCollection\nvc = VisCollection([\"Height\",\"SportType=Swimming\",\"?\"],df)",
    "id": "c09e69c469644ba18a73db50ff265bef",
    "order_count": 2,
    "time": "2020-07-14T08:45:48.552Z",
    "type": "selectCodeCell"
   },
   {
    "code": "df = pd.read_csv(\"lux/data/olympic.csv\")\nfrom lux.vis.VisCollection import VisCollection\nvc = VisCollection([\"Height\",\"SportType=Swimming\",\"?\"],df)",
    "id": "c09e69c469644ba18a73db50ff265bef",
    "order_count": 2,
    "time": "2020-07-14T08:45:48.997Z",
    "type": "editCodeCell"
   },
   {
    "code": "df = pd.read_csv(\"lux/data/olympic.csv\")\nfrom lux.vis.VisCollection import VisCollection\nvc = VisCollection([\"Height\",\"SportType=Swimming\",\"?\"],df)",
    "id": "c09e69c469644ba18a73db50ff265bef",
    "order_count": 2,
    "time": "2020-07-14T08:48:01.061Z",
    "type": "editCodeCell"
   },
   {
    "code": "df = pd.read_csv(\"lux/data/olympic.csv\")\nfrom lux.vis.VisCollection import VisCollection\nvc = VisCollection([\"Height\",\"SportType=Swimming\",\"?\"],df)",
    "id": "c09e69c469644ba18a73db50ff265bef",
    "order_count": 2,
    "time": "2020-07-14T08:48:01.550Z",
    "type": "selectCodeCell"
   },
   {
    "code": "df = pd.read_csv(\"lux/data/olympic.csv\")\nfrom lux.vis.VisCollection import VisCollection\nvc = VisCollection([\"Height\",\"SportType=Swimming\",\"?\"],df)",
    "id": "c09e69c469644ba18a73db50ff265bef",
    "order_count": 2,
    "time": "2020-07-14T08:48:02.128Z",
    "type": "selectCodeCell"
   },
   {
    "code": "df = pd.read_csv(\"lux/data/olympic.csv\")\nfrom lux.vis.VisCollection import VisCollection\nvc = VisCollection([\"Height\",\"SportType=Swimming\",\"?\"],df)",
    "id": "c09e69c469644ba18a73db50ff265bef",
    "order_count": 2,
    "time": "2020-07-14T08:48:02.315Z",
    "type": "editCodeCell"
   },
   {
    "code": "df = pd.read_csv(\"lux/data/olympic.csv\")\nfrom lux.vis.VisCollection import VisCollection\nvc = VisCollection([\"Height\",\"SportType=Swimming\",\"?\"],df)",
    "id": "c09e69c469644ba18a73db50ff265bef",
    "order_count": 2,
    "time": "2020-07-14T08:49:09.076Z",
    "type": "editCodeCell"
   },
   {
    "code": "vc = VisCollection([\"Height\",\"SportType=Boat\",\"?\"],df)\n\nvc.set_query([\"Height\",\"SportType=Boat\",\"?\"])",
    "id": "f94b70c54a994d999357267e8cce3ec8",
    "order_count": 6,
    "time": "2020-07-14T08:49:12.104Z",
    "type": "selectCodeCell"
   },
   {
    "code": "vc = VisCollection([\"Height\",\"SportType=Boat\",\"?\"],df)\n\nvc.set_query([\"Height\",\"SportType=Boat\",\"?\"])",
    "id": "f94b70c54a994d999357267e8cce3ec8",
    "order_count": 6,
    "time": "2020-07-14T08:49:12.108Z",
    "type": "editCodeCell"
   },
   {
    "code": "df = pd.read_csv(\"lux/data/olympic.csv\")\nfrom lux.vis.VisCollection import VisCollection\nvc = VisCollection([\"Height\",\"SportType=Swimming\",\"?\"],df)",
    "id": "c09e69c469644ba18a73db50ff265bef",
    "order_count": 2,
    "time": "2020-07-14T08:49:22.168Z",
    "type": "selectCodeCell"
   },
   {
    "code": "df = pd.read_csv(\"lux/data/olympic.csv\")\nfrom lux.vis.VisCollection import VisCollection\nvc = VisCollection([\"Height\",\"SportType=Swimming\",\"?\"],df)",
    "id": "c09e69c469644ba18a73db50ff265bef",
    "order_count": 2,
    "time": "2020-07-14T08:49:22.175Z",
    "type": "editCodeCell"
   },
   {
    "code": "df = pd.read_csv(\"lux/data/olympic.csv\")\nfrom lux.vis.VisCollection import VisCollection\nvc = VisCollection([\"Height\",\"SportType=Swimming\",\"?\"],df)",
    "id": "c09e69c469644ba18a73db50ff265bef",
    "order_count": 2,
    "time": "2020-07-14T08:49:24.162Z",
    "type": "selectCodeCell"
   },
   {
    "code": "df = pd.read_csv(\"lux/data/olympic.csv\")\nfrom lux.vis.VisCollection import VisCollection\nvc = VisCollection([\"Height\",\"SportType=Swimming\",\"?\"],df)",
    "id": "c09e69c469644ba18a73db50ff265bef",
    "order_count": 2,
    "time": "2020-07-14T08:49:24.594Z",
    "type": "selectCodeCell"
   },
   {
    "code": "df = pd.read_csv(\"lux/data/olympic.csv\")\nfrom lux.vis.VisCollection import VisCollection\nvc = VisCollection([\"Height\",\"SportType=Swimming\",\"?\"],df)",
    "id": "c09e69c469644ba18a73db50ff265bef",
    "order_count": null,
    "time": "2020-07-14T08:49:24.869Z",
    "type": "deleteCodeCell"
   },
   {
    "code": "df = pd.read_csv(\"lux/data/olympic.csv\")\nfrom lux.vis.VisCollection import VisCollection\nvc = VisCollection([\"Height\",\"SportType=Ball\",\"?\"],df)\nview_with_year = list(filter(lambda x: x.get_attr_by_attr_name(\"Year\")!=[],vc))[0]\nassert view_with_year.get_attr_by_channel(\"x\")[0].attribute==\"Year\"\nassert len(vc) == len(df.columns) -1 -1 #remove 1 for view with same filter attribute and remove 1 view with for same attribute\nvc = VisCollection([\"Height\",\"?\"],df)\nassert len(vc) == len(df.columns) -1 #remove 1 f",
    "id": "74670b4a7a794ba7b739c97ec71945a8",
    "order_count": 2,
    "time": "2020-07-14T08:49:25.794Z",
    "type": "editCodeCell"
   },
   {
    "code": "df = pd.read_csv(\"lux/data/olympic.csv\")\nfrom lux.vis.VisCollection import VisCollection\nvc = VisCollection([\"Height\",\"SportType=Ball\",\"?\"],df)\nview_with_year = list(filter(lambda x: x.get_attr_by_attr_name(\"Year\")!=[],vc))[0]\nassert view_with_year.get_attr_by_channel(\"x\")[0].attribute==\"Year\"\nassert len(vc) == len(df.columns) -1 -1 #remove 1 for view with same filter attribute and remove 1 view with for same attribute\nvc = VisCollection([\"Height\",\"?\"],df)\nassert len(vc) == len(df.columns) -1 #remove 1 f",
    "id": "74670b4a7a794ba7b739c97ec71945a8",
    "order_count": 2,
    "time": "2020-07-14T08:49:25.825Z",
    "type": "editCodeCell"
   },
   {
    "code": "vc = VisCollection([\"Height\",\"SportType=Boat\",\"?\"],df)\nvc.set_query([\"Height\",\"SportType=Boat\",\"?\"])",
    "id": "f94b70c54a994d999357267e8cce3ec8",
    "order_count": 5,
    "time": "2020-07-14T08:49:28.594Z",
    "type": "selectCodeCell"
   },
   {
    "code": "vc = VisCollection([\"Height\",\"SportType=Boat\",\"?\"],df)\nvc.set_query([\"Height\",\"SportType=Boat\",\"?\"])",
    "id": "f94b70c54a994d999357267e8cce3ec8",
    "order_count": 5,
    "time": "2020-07-14T08:49:28.598Z",
    "type": "editCodeCell"
   },
   {
    "code": "vc = VisCollection([\"Height\",\"SportType=Ball\",\"?\"],df)\nvc.set_query([\"Height\",\"SportType=Boat\",\"?\"])\nvc",
    "id": "f94b70c54a994d999357267e8cce3ec8",
    "order_count": 5,
    "time": "2020-07-14T08:49:31.981Z",
    "type": "executeCodeCell"
   },
   {
    "code": "",
    "id": "7adef8c2b6124923a0f97655c6bc7c76",
    "order_count": 6,
    "time": "2020-07-14T08:49:32.001Z",
    "type": "selectCodeCell"
   },
   {
    "code": "vc = VisCollection([\"Height\",\"SportType=Ball\",\"?\"],df)\nvc.set_query([\"Height\",\"SportType=Boat\",\"?\"])\nvc",
    "id": "f94b70c54a994d999357267e8cce3ec8",
    "isPrintLuxDf": false,
    "isPrintPandasDf": false,
    "isPrintView": false,
    "isPrintViewCollection": false,
    "order_count": 5,
    "time": "2020-07-14T08:49:33.204Z",
    "type": "completeCodeCell"
   },
   {
    "param": "",
    "time": "2020-07-14T08:49:33.219Z",
    "type": "initWidget"
   },
   {
    "param": "Vis Collection",
    "time": "2020-07-14T08:49:37.483Z",
    "type": "startScroll"
   },
   {
    "param": "Vis Collection",
    "time": "2020-07-14T08:49:37.688Z",
    "type": "stopScroll"
   },
   {
    "param": "Vis Collection",
    "time": "2020-07-14T08:49:37.958Z",
    "type": "startScroll"
   },
   {
    "param": "Vis Collection",
    "time": "2020-07-14T08:49:38.136Z",
    "type": "stopScroll"
   },
   {
    "code": "vc = VisCollection([\"Height\",\"SportType=Ball\",\"?\"],df)\nvc.set_query([\"Height\",\"SportType=Boat\",\"?\"])\nvc",
    "id": "f94b70c54a994d999357267e8cce3ec8",
    "order_count": 5,
    "time": "2020-07-14T08:49:55.310Z",
    "type": "selectCodeCell"
   },
   {
    "code": "vc = VisCollection([\"Height\",\"SportType=Ball\",\"?\"],df)\nvc.set_query([\"Height\",\"SportType=Boat\",\"?\"])\nvc",
    "id": "f94b70c54a994d999357267e8cce3ec8",
    "order_count": 5,
    "time": "2020-07-14T08:49:55.318Z",
    "type": "editCodeCell"
   },
   {
    "code": "vc = VisCollection([\"Height\",\"SportType=Ball\",\"?\"],df)\nvc.set_query([\"Height\",\"SportType=Boat\",\"?\"])\nvc",
    "id": "f94b70c54a994d999357267e8cce3ec8",
    "order_count": 5,
    "time": "2020-07-14T08:49:55.401Z",
    "type": "selectCodeCell"
   },
   {
    "code": "vc = VisCollection([\"Height\",\"SportType=Ball\",\"?\"],df)\nvc.set_query([\"Height\",\"SportType=Boat\",\"?\"])\nvc.collection",
    "id": "f94b70c54a994d999357267e8cce3ec8",
    "order_count": 5,
    "time": "2020-07-14T08:49:59.908Z",
    "type": "executeCodeCell"
   },
   {
    "code": "",
    "id": "7adef8c2b6124923a0f97655c6bc7c76",
    "order_count": 6,
    "time": "2020-07-14T08:49:59.928Z",
    "type": "selectCodeCell"
   },
   {
    "code": "vc = VisCollection([\"Height\",\"SportType=Ball\",\"?\"],df)\nvc.set_query([\"Height\",\"SportType=Boat\",\"?\"])\nvc.collection",
    "id": "f94b70c54a994d999357267e8cce3ec8",
    "order_count": 5,
    "time": "2020-07-14T08:50:01.002Z",
    "type": "selectCodeCell"
   },
   {
    "code": "vc = VisCollection([\"Height\",\"SportType=Ball\",\"?\"],df)\nvc.set_query([\"Height\",\"SportType=Boat\",\"?\"])\nvc.collection",
    "id": "f94b70c54a994d999357267e8cce3ec8",
    "isPrintLuxDf": false,
    "isPrintPandasDf": false,
    "isPrintView": false,
    "isPrintViewCollection": false,
    "order_count": 5,
    "time": "2020-07-14T08:50:01.165Z",
    "type": "completeCodeCell"
   },
   {
    "param": "",
    "time": "2020-07-14T08:50:01.177Z",
    "type": "initWidget"
   },
   {
    "code": "vc = VisCollection([\"Height\",\"SportType=Ball\",\"?\"],df)\nvc.set_query([\"Height\",\"SportType=Boat\",\"?\"])\nvc.collection",
    "id": "f94b70c54a994d999357267e8cce3ec8",
    "order_count": 5,
    "time": "2020-07-14T08:50:01.857Z",
    "type": "editCodeCell"
   },
   {
    "code": "vc = VisCollection([\"Height\",\"SportType=Ball\",\"?\"],df)\nvc.set_query([\"Height\",\"SportType=Boat\",\"?\"])\n# for v in vc.collection: v.ge",
    "id": "f94b70c54a994d999357267e8cce3ec8",
    "order_count": 5,
    "time": "2020-07-14T08:50:16.696Z",
    "type": "executeCodeCell"
   },
   {
    "code": "",
    "id": "7adef8c2b6124923a0f97655c6bc7c76",
    "order_count": 6,
    "time": "2020-07-14T08:50:16.719Z",
    "type": "selectCodeCell"
   },
   {
    "code": "vc = VisCollection([\"Height\",\"SportType=Ball\",\"?\"],df)\nvc.set_query([\"Height\",\"SportType=Boat\",\"?\"])\n# for v in vc.collection: v.ge",
    "id": "f94b70c54a994d999357267e8cce3ec8",
    "isPrintLuxDf": false,
    "isPrintPandasDf": false,
    "isPrintView": false,
    "isPrintViewCollection": false,
    "order_count": 5,
    "time": "2020-07-14T08:50:17.797Z",
    "type": "completeCodeCell"
   },
   {
    "code": "",
    "id": "8ec6b9930f8a4a66817a903d295746c2",
    "order_count": 6,
    "time": "2020-07-14T08:50:18.470Z",
    "type": "selectCodeCell"
   },
   {
    "code": "",
    "id": "8ec6b9930f8a4a66817a903d295746c2",
    "order_count": 6,
    "time": "2020-07-14T08:50:18.703Z",
    "type": "editCodeCell"
   },
   {
    "code": "v = vc[0]",
    "id": "8ec6b9930f8a4a66817a903d295746c2",
    "order_count": 6,
    "time": "2020-07-14T08:50:23.022Z",
    "type": "executeCodeCell"
   },
   {
    "code": "",
    "id": "7adef8c2b6124923a0f97655c6bc7c76",
    "order_count": 7,
    "time": "2020-07-14T08:50:23.042Z",
    "type": "selectCodeCell"
   },
   {
    "code": "v = vc[0]",
    "id": "8ec6b9930f8a4a66817a903d295746c2",
    "isPrintLuxDf": false,
    "isPrintPandasDf": false,
    "isPrintView": false,
    "isPrintViewCollection": false,
    "order_count": 6,
    "time": "2020-07-14T08:50:23.047Z",
    "type": "completeCodeCell"
   },
   {
    "code": "",
    "id": "7adef8c2b6124923a0f97655c6bc7c76",
    "order_count": 7,
    "time": "2020-07-14T08:50:23.678Z",
    "type": "editCodeCell"
   },
   {
    "code": "v",
    "id": "7adef8c2b6124923a0f97655c6bc7c76",
    "order_count": 7,
    "time": "2020-07-14T08:50:24.311Z",
    "type": "executeCodeCell"
   },
   {
    "code": "",
    "id": "0f11cd01e85c46429bc1a754dfa666d0",
    "order_count": 8,
    "time": "2020-07-14T08:50:24.351Z",
    "type": "editCodeCell"
   },
   {
    "code": "v",
    "id": "7adef8c2b6124923a0f97655c6bc7c76",
    "isPrintLuxDf": false,
    "isPrintPandasDf": false,
    "isPrintView": false,
    "isPrintViewCollection": false,
    "order_count": 7,
    "time": "2020-07-14T08:50:24.376Z",
    "type": "completeCodeCell"
   },
   {
    "param": "",
    "time": "2020-07-14T08:50:24.388Z",
    "type": "initWidget"
   },
   {
    "code": "v = vc[0]",
    "id": "8ec6b9930f8a4a66817a903d295746c2",
    "order_count": 6,
    "time": "2020-07-14T08:50:26.069Z",
    "type": "selectCodeCell"
   },
   {
    "code": "v = vc[0]",
    "id": "8ec6b9930f8a4a66817a903d295746c2",
    "order_count": 6,
    "time": "2020-07-14T08:50:26.073Z",
    "type": "editCodeCell"
   },
   {
    "code": "v",
    "id": "7adef8c2b6124923a0f97655c6bc7c76",
    "order_count": 7,
    "time": "2020-07-14T08:50:26.478Z",
    "type": "selectCodeCell"
   },
   {
    "code": "v",
    "id": "7adef8c2b6124923a0f97655c6bc7c76",
    "order_count": 7,
    "time": "2020-07-14T08:50:26.482Z",
    "type": "editCodeCell"
   },
   {
    "code": "v",
    "id": "7adef8c2b6124923a0f97655c6bc7c76",
    "order_count": 7,
    "time": "2020-07-14T08:50:35.953Z",
    "type": "executeCodeCell"
   },
   {
    "code": "",
    "id": "0f11cd01e85c46429bc1a754dfa666d0",
    "order_count": 8,
    "time": "2020-07-14T08:50:35.974Z",
    "type": "selectCodeCell"
   },
   {
    "code": "v",
    "id": "7adef8c2b6124923a0f97655c6bc7c76",
    "isPrintLuxDf": false,
    "isPrintPandasDf": false,
    "isPrintView": false,
    "isPrintViewCollection": false,
    "order_count": 7,
    "time": "2020-07-14T08:50:35.989Z",
    "type": "completeCodeCell"
   },
   {
    "param": "",
    "time": "2020-07-14T08:50:36.002Z",
    "type": "initWidget"
   },
   {
    "code": "v",
    "id": "7adef8c2b6124923a0f97655c6bc7c76",
    "order_count": 7,
    "time": "2020-07-14T08:50:36.591Z",
    "type": "selectCodeCell"
   },
   {
    "code": "v",
    "id": "7adef8c2b6124923a0f97655c6bc7c76",
    "order_count": 7,
    "time": "2020-07-14T08:50:36.905Z",
    "type": "editCodeCell"
   },
   {
    "code": "v.spec_lst",
    "id": "7adef8c2b6124923a0f97655c6bc7c76",
    "order_count": 7,
    "time": "2020-07-14T08:50:45.279Z",
    "type": "executeCodeCell"
   },
   {
    "code": "",
    "id": "0f11cd01e85c46429bc1a754dfa666d0",
    "order_count": 8,
    "time": "2020-07-14T08:50:45.299Z",
    "type": "selectCodeCell"
   },
   {
    "code": "v.spec_lst",
    "id": "7adef8c2b6124923a0f97655c6bc7c76",
    "isPrintLuxDf": false,
    "isPrintPandasDf": false,
    "isPrintView": false,
    "isPrintViewCollection": false,
    "order_count": 7,
    "time": "2020-07-14T08:50:45.308Z",
    "type": "completeCodeCell"
   },
   {
    "code": "v.spec_lst",
    "id": "7adef8c2b6124923a0f97655c6bc7c76",
    "order_count": 7,
    "time": "2020-07-14T08:50:45.742Z",
    "type": "selectCodeCell"
   },
   {
    "code": "v.spec_lst",
    "id": "7adef8c2b6124923a0f97655c6bc7c76",
    "order_count": 7,
    "time": "2020-07-14T08:50:46.145Z",
    "type": "editCodeCell"
   },
   {
    "code": "v.spec_lst",
    "id": "7adef8c2b6124923a0f97655c6bc7c76",
    "order_count": 7,
    "time": "2020-07-14T08:51:20.203Z",
    "type": "selectCodeCell"
   },
   {
    "code": "filter(lambda x: v.spec_lst.channel",
    "id": "7adef8c2b6124923a0f97655c6bc7c76",
    "order_count": 7,
    "time": "2020-07-14T08:51:39.107Z",
    "type": "selectCodeCell"
   },
   {
    "code": "filter(lambda x: x.channel",
    "id": "7adef8c2b6124923a0f97655c6bc7c76",
    "order_count": 7,
    "time": "2020-07-14T08:51:40.172Z",
    "type": "selectCodeCell"
   },
   {
    "code": "filter(lambda x: x.channel==\"\",v.spec_lst)",
    "id": "7adef8c2b6124923a0f97655c6bc7c76",
    "order_count": 7,
    "time": "2020-07-14T08:51:47.470Z",
    "type": "executeCodeCell"
   },
   {
    "code": "",
    "id": "0f11cd01e85c46429bc1a754dfa666d0",
    "order_count": 8,
    "time": "2020-07-14T08:51:47.491Z",
    "type": "selectCodeCell"
   },
   {
    "code": "filter(lambda x: x.channel==\"\",v.spec_lst)",
    "id": "7adef8c2b6124923a0f97655c6bc7c76",
    "isPrintLuxDf": false,
    "isPrintPandasDf": false,
    "isPrintView": false,
    "isPrintViewCollection": false,
    "order_count": 7,
    "time": "2020-07-14T08:51:47.500Z",
    "type": "completeCodeCell"
   },
   {
    "code": "filter(lambda x: x.channel==\"\",v.spec_lst)",
    "id": "7adef8c2b6124923a0f97655c6bc7c76",
    "order_count": 7,
    "time": "2020-07-14T08:51:48.201Z",
    "type": "selectCodeCell"
   },
   {
    "code": "filter(lambda x: x.channel==\"\",v.spec_lst)",
    "id": "7adef8c2b6124923a0f97655c6bc7c76",
    "order_count": 7,
    "time": "2020-07-14T08:51:48.460Z",
    "type": "editCodeCell"
   },
   {
    "code": "list(filter(lambda x: x.channel==\"\",v.spec_lst))",
    "id": "7adef8c2b6124923a0f97655c6bc7c76",
    "order_count": 7,
    "time": "2020-07-14T08:51:51.209Z",
    "type": "executeCodeCell"
   },
   {
    "code": "",
    "id": "0f11cd01e85c46429bc1a754dfa666d0",
    "order_count": 8,
    "time": "2020-07-14T08:51:51.230Z",
    "type": "selectCodeCell"
   },
   {
    "code": "list(filter(lambda x: x.channel==\"\",v.spec_lst))",
    "id": "7adef8c2b6124923a0f97655c6bc7c76",
    "isPrintLuxDf": false,
    "isPrintPandasDf": false,
    "isPrintView": false,
    "isPrintViewCollection": false,
    "order_count": 7,
    "time": "2020-07-14T08:51:51.239Z",
    "type": "completeCodeCell"
   },
   {
    "code": "list(filter(lambda x: x.channel==\"\",v.spec_lst))",
    "id": "7adef8c2b6124923a0f97655c6bc7c76",
    "order_count": 7,
    "time": "2020-07-14T08:51:51.634Z",
    "type": "selectCodeCell"
   },
   {
    "code": "list(filter(lambda x: x.channel==\"\",v.spec_lst))",
    "id": "7adef8c2b6124923a0f97655c6bc7c76",
    "order_count": 7,
    "time": "2020-07-14T08:51:51.876Z",
    "type": "editCodeCell"
   },
   {
    "code": "filter_value = list(filter(lambda x: x.channel==\"\",v.spec_lst))[0]",
    "id": "7adef8c2b6124923a0f97655c6bc7c76",
    "order_count": 7,
    "time": "2020-07-14T08:52:01.660Z",
    "type": "selectCodeCell"
   },
   {
    "code": "filter_vspec = list(filter(lambda x: x.channel==\"\",v.spec_lst))[0]",
    "id": "7adef8c2b6124923a0f97655c6bc7c76",
    "order_count": 7,
    "time": "2020-07-14T08:52:08.523Z",
    "type": "selectCodeCell"
   },
   {
    "code": "filter_vspec = list(filter(lambda x: x.channel==\"\",v.spec_lst))[0]",
    "id": "7adef8c2b6124923a0f97655c6bc7c76",
    "order_count": 7,
    "time": "2020-07-14T08:52:08.742Z",
    "type": "selectCodeCell"
   },
   {
    "code": "filter_vspec = list(filter(lambda x: x.channel==\"\",v.spec_lst))[0]",
    "id": "7adef8c2b6124923a0f97655c6bc7c76",
    "order_count": 7,
    "time": "2020-07-14T08:52:12.652Z",
    "type": "selectCodeCell"
   },
   {
    "code": "filter_vspec = list(filter(lambda x: x.channel==\"\",v.spec_lst))[0]",
    "id": "7adef8c2b6124923a0f97655c6bc7c76",
    "order_count": 7,
    "time": "2020-07-14T08:52:13.489Z",
    "type": "executeCodeCell"
   },
   {
    "code": "",
    "id": "0f11cd01e85c46429bc1a754dfa666d0",
    "order_count": 8,
    "time": "2020-07-14T08:52:13.510Z",
    "type": "selectCodeCell"
   },
   {
    "code": "filter_vspec = list(filter(lambda x: x.channel==\"\",v.spec_lst))[0]",
    "id": "7adef8c2b6124923a0f97655c6bc7c76",
    "isPrintLuxDf": false,
    "isPrintPandasDf": false,
    "isPrintView": false,
    "isPrintViewCollection": false,
    "order_count": 7,
    "time": "2020-07-14T08:52:13.516Z",
    "type": "completeCodeCell"
   },
   {
    "code": "",
    "id": "0f11cd01e85c46429bc1a754dfa666d0",
    "order_count": 8,
    "time": "2020-07-14T08:52:14.723Z",
    "type": "editCodeCell"
   },
   {
    "code": "filter_vspec",
    "id": "0f11cd01e85c46429bc1a754dfa666d0",
    "order_count": 8,
    "time": "2020-07-14T08:52:17.529Z",
    "type": "executeCodeCell"
   },
   {
    "code": "",
    "id": "a546375b0fc34e88998facca31b5953f",
    "order_count": 9,
    "time": "2020-07-14T08:52:17.563Z",
    "type": "editCodeCell"
   },
   {
    "code": "filter_vspec",
    "id": "0f11cd01e85c46429bc1a754dfa666d0",
    "isPrintLuxDf": false,
    "isPrintPandasDf": false,
    "isPrintView": false,
    "isPrintViewCollection": false,
    "order_count": 8,
    "time": "2020-07-14T08:52:17.579Z",
    "type": "completeCodeCell"
   },
   {
    "code": "filter_vspec = list(filter(lambda x: x.channel==\"\",v.spec_lst))[0]",
    "id": "7adef8c2b6124923a0f97655c6bc7c76",
    "order_count": 7,
    "time": "2020-07-14T08:52:18.752Z",
    "type": "selectCodeCell"
   },
   {
    "code": "filter_vspec = list(filter(lambda x: x.channel==\"\",v.spec_lst))[0]",
    "id": "7adef8c2b6124923a0f97655c6bc7c76",
    "order_count": 7,
    "time": "2020-07-14T08:52:18.757Z",
    "type": "editCodeCell"
   },
   {
    "code": "filter_vspec",
    "id": "0f11cd01e85c46429bc1a754dfa666d0",
    "order_count": null,
    "time": "2020-07-14T08:52:19.877Z",
    "type": "deleteCodeCell"
   },
   {
    "code": "filter_vspec = list(filter(lambda x: x.channel==\"\",v.spec_lst))[0]\n\nfilter_vspec",
    "id": "7adef8c2b6124923a0f97655c6bc7c76",
    "order_count": 7,
    "time": "2020-07-14T08:52:20.125Z",
    "type": "editCodeCell"
   },
   {
    "code": "vc = VisCollection([\"Height\",\"SportType=Ball\",\"?\"],df)\nvc.set_query([\"Height\",\"SportType=Boat\",\"?\"])\n# for v in vc.collection: v.ge",
    "id": "f94b70c54a994d999357267e8cce3ec8",
    "order_count": 5,
    "time": "2020-07-14T08:52:22.560Z",
    "type": "selectCodeCell"
   },
   {
    "code": "vc = VisCollection([\"Height\",\"SportType=Ball\",\"?\"],df)\nvc.set_query([\"Height\",\"SportType=Boat\",\"?\"])\n# for v in vc.collection: v.ge",
    "id": "f94b70c54a994d999357267e8cce3ec8",
    "order_count": 5,
    "time": "2020-07-14T08:52:22.567Z",
    "type": "editCodeCell"
   },
   {
    "code": "vc = VisCollection([\"Height\",\"SportType=Ball\",\"?\"],df)\nvc.set_query([\"Height\",\"SportType=Boat\",\"?\"])\nfor v in vc.collection: \n    filter_vspec = list(filter(lambda x: x.channel==\"\",v.spec_lst))[0]\n    assert filter_vspec.value ==\"Boat\"",
    "id": "f94b70c54a994d999357267e8cce3ec8",
    "order_count": 5,
    "time": "2020-07-14T08:52:40.960Z",
    "type": "executeCodeCell"
   },
   {
    "code": "v = vc[0]",
    "id": "8ec6b9930f8a4a66817a903d295746c2",
    "order_count": 6,
    "time": "2020-07-14T08:52:40.981Z",
    "type": "selectCodeCell"
   },
   {
    "code": "vc = VisCollection([\"Height\",\"SportType=Ball\",\"?\"],df)\nvc.set_query([\"Height\",\"SportType=Boat\",\"?\"])\nfor v in vc.collection: \n    filter_vspec = list(filter(lambda x: x.channel==\"\",v.spec_lst))[0]\n    assert filter_vspec.value ==\"Boat\"",
    "id": "f94b70c54a994d999357267e8cce3ec8",
    "isPrintLuxDf": false,
    "isPrintPandasDf": false,
    "isPrintView": false,
    "isPrintViewCollection": false,
    "order_count": 5,
    "time": "2020-07-14T08:52:41.989Z",
    "type": "completeCodeCell"
   },
   {
    "code": "vc = VisCollection([\"Height\",\"SportType=Ball\",\"?\"],df)\nvc.set_query([\"Height\",\"SportType=Boat\",\"?\"])\nfor v in vc.collection: \n    filter_vspec = list(filter(lambda x: x.channel==\"\",v.spec_lst))[0]\n    assert filter_vspec.value ==\"Boat\"",
    "id": "f94b70c54a994d999357267e8cce3ec8",
    "order_count": 5,
    "time": "2020-07-14T08:52:42.076Z",
    "type": "selectCodeCell"
   },
   {
    "code": "vc = VisCollection([\"Height\",\"SportType=Ball\",\"?\"],df)\nvc.set_query([\"Height\",\"SportType=Boat\",\"?\"])\nfor v in vc.collection: \n    filter_vspec = list(filter(lambda x: x.channel==\"\",v.spec_lst))[0]\n    assert filter_vspec.value ==\"Boat\"",
    "id": "f94b70c54a994d999357267e8cce3ec8",
    "order_count": 5,
    "time": "2020-07-14T08:52:42.563Z",
    "type": "editCodeCell"
   },
   {
    "code": "vc = VisCollection([\"Height\",\"SportType=Ball\",\"?\"],df)\nvc.set_query([\"Height\",\"SportType=Boat\",\"?\"])\nfor v in vc.collection: \n    filter_vspec = list(filter(lambda x: x.channel==\"\",v.spec_lst))[0]\n    assert filter_vspec.value ==\"Boat\"",
    "id": "f94b70c54a994d999357267e8cce3ec8",
    "order_count": 5,
    "time": "2020-07-14T08:53:13.890Z",
    "type": "editCodeCell"
   },
   {
    "code": "vc = VisCollection([\"Height\",\"SportType=Ball\",\"?\"],df)\nvc.set_query([\"Height\",\"SportType=Boat\",\"?\"])\nfor v in vc.collection: \n    filter_vspec = list(filter(lambda x: x.channel==\"\",v.spec_lst))[0]\n    assert filter_vspec.value ==\"Boat\"",
    "id": "f94b70c54a994d999357267e8cce3ec8",
    "order_count": 5,
    "time": "2020-07-14T08:53:14.352Z",
    "type": "selectCodeCell"
   },
   {
    "code": "vc = VisCollection([\"Height\",\"SportType=Ball\",\"?\"],df)\nvc.set_query([\"Height\",\"SportType=Boat\",\"?\"])\nfor v in vc.collection: \n    filter_vspec = list(filter(lambda x: x.channel==\"\",v.spec_lst))[0]\n    assert filter_vspec.value ==\"Boat\"",
    "id": "f94b70c54a994d999357267e8cce3ec8",
    "order_count": 5,
    "time": "2020-07-14T08:53:33.148Z",
    "type": "editCodeCell"
   },
   {
    "code": "vc = VisCollection([\"Height\",\"SportType=Ball\",\"?\"],df)\nvc.set_query([\"Height\",\"SportType=Boat\",\"?\"])\nfor v in vc.collection: \n    filter_vspec = list(filter(lambda x: x.channel==\"\",v.spec_lst))[0]\n    assert filter_vspec.value ==\"Boat\"",
    "id": "f94b70c54a994d999357267e8cce3ec8",
    "order_count": 5,
    "time": "2020-07-14T08:53:37.496Z",
    "type": "selectCodeCell"
   },
   {
    "code": "vc = VisCollection([\"Height\",\"SportType=Ball\",\"?\"],df)\nvc.set_query([\"Height\",\"SportType=Boat\",\"?\"])\nfor v in vc.collection: \n    filter_vspec = list(filter(lambda x: x.channel==\"\",v.spec_lst))[0]\n    assert filter_vspec.value ==\"Boat\"",
    "id": "f94b70c54a994d999357267e8cce3ec8",
    "order_count": 5,
    "time": "2020-07-14T08:53:41.064Z",
    "type": "selectCodeCell"
   },
   {
    "code": "",
    "id": "9bcecbf3ff1a493895791c1bd4fa86c6",
    "order_count": 5,
    "time": "2020-07-14T08:53:41.283Z",
    "type": "selectCodeCell"
   },
   {
    "code": "",
    "id": "9bcecbf3ff1a493895791c1bd4fa86c6",
    "order_count": 5,
    "time": "2020-07-14T08:53:41.693Z",
    "type": "editCodeCell"
   },
   {
    "code": "vc = VisCollection([\"Height\",\"SportType=Ball\",\"?\"],df)\nvc.set_query([\"Height\",\"SportType=Boat\",\"?\"])\nfor v in vc.collection: \n    filter_vspec = list(filter(lambda x: x.channel==\"\",v.spec_lst))[0]\n    assert filter_vspec.value ==\"Boat\"",
    "id": "f94b70c54a994d999357267e8cce3ec8",
    "order_count": 6,
    "time": "2020-07-14T08:53:46.973Z",
    "type": "selectCodeCell"
   },
   {
    "code": "vc = VisCollection([\"Height\",\"SportType=Ball\",\"?\"],df)\nvc.set_query([\"Height\",\"SportType=Boat\",\"?\"])\nfor v in vc.collection: \n    filter_vspec = list(filter(lambda x: x.channel==\"\",v.spec_lst))[0]\n    assert filter_vspec.value ==\"Boat\"",
    "id": "f94b70c54a994d999357267e8cce3ec8",
    "order_count": 6,
    "time": "2020-07-14T08:53:46.979Z",
    "type": "editCodeCell"
   },
   {
    "code": "df.set_context",
    "id": "9bcecbf3ff1a493895791c1bd4fa86c6",
    "order_count": 5,
    "time": "2020-07-14T08:53:48.858Z",
    "type": "selectCodeCell"
   },
   {
    "code": "df.set_context",
    "id": "9bcecbf3ff1a493895791c1bd4fa86c6",
    "order_count": 5,
    "time": "2020-07-14T08:53:48.862Z",
    "type": "editCodeCell"
   },
   {
    "code": "df.set_context([\"Height\",\"SportType=Ball\",\"?\"])",
    "id": "9bcecbf3ff1a493895791c1bd4fa86c6",
    "order_count": 5,
    "time": "2020-07-14T08:53:50.516Z",
    "type": "executeCodeCell"
   },
   {
    "code": "vc = VisCollection([\"Height\",\"SportType=Ball\",\"?\"],df)\nvc.set_query([\"Height\",\"SportType=Boat\",\"?\"])\nfor v in vc.collection: \n    filter_vspec = list(filter(lambda x: x.channel==\"\",v.spec_lst))[0]\n    assert filter_vspec.value ==\"Boat\"",
    "id": "f94b70c54a994d999357267e8cce3ec8",
    "order_count": 6,
    "time": "2020-07-14T08:53:50.543Z",
    "type": "selectCodeCell"
   },
   {
    "code": "df.set_context([\"Height\",\"SportType=Ball\",\"?\"])",
    "id": "9bcecbf3ff1a493895791c1bd4fa86c6",
    "isPrintLuxDf": false,
    "isPrintPandasDf": false,
    "isPrintView": false,
    "isPrintViewCollection": false,
    "order_count": 5,
    "time": "2020-07-14T08:53:50.549Z",
    "type": "completeCodeCell"
   },
   {
    "code": "df.set_context([\"Height\",\"SportType=Ball\",\"?\"])",
    "id": "9bcecbf3ff1a493895791c1bd4fa86c6",
    "order_count": 5,
    "time": "2020-07-14T08:53:51.106Z",
    "type": "selectCodeCell"
   },
   {
    "code": "df.set_context([\"Height\",\"SportType=Ball\",\"?\"])",
    "id": "9bcecbf3ff1a493895791c1bd4fa86c6",
    "order_count": 5,
    "time": "2020-07-14T08:53:51.303Z",
    "type": "editCodeCell"
   },
   {
    "code": "df.set_context([\"Height\",\"SportType=Ball\",\"?\"])\ndf",
    "id": "9bcecbf3ff1a493895791c1bd4fa86c6",
    "order_count": 5,
    "time": "2020-07-14T08:53:52.212Z",
    "type": "executeCodeCell"
   },
   {
    "code": "vc = VisCollection([\"Height\",\"SportType=Ball\",\"?\"],df)\nvc.set_query([\"Height\",\"SportType=Boat\",\"?\"])\nfor v in vc.collection: \n    filter_vspec = list(filter(lambda x: x.channel==\"\",v.spec_lst))[0]\n    assert filter_vspec.value ==\"Boat\"",
    "id": "f94b70c54a994d999357267e8cce3ec8",
    "order_count": 6,
    "time": "2020-07-14T08:53:52.239Z",
    "type": "selectCodeCell"
   },
   {
    "code": "df.set_context([\"Height\",\"SportType=Ball\",\"?\"])\ndf",
    "id": "9bcecbf3ff1a493895791c1bd4fa86c6",
    "isPrintLuxDf": false,
    "isPrintPandasDf": true,
    "isPrintView": false,
    "isPrintViewCollection": false,
    "order_count": 5,
    "time": "2020-07-14T08:53:53.634Z",
    "type": "completeCodeCell"
   },
   {
    "code": "df.set_context([\"Height\",\"SportType=Ball\",\"?\"])\ndf",
    "id": "9bcecbf3ff1a493895791c1bd4fa86c6",
    "order_count": 5,
    "time": "2020-07-14T08:53:56.291Z",
    "type": "selectCodeCell"
   },
   {
    "param": "",
    "time": "2020-07-14T08:53:56.311Z",
    "type": "initWidget"
   },
   {
    "param": "",
    "time": "2020-07-14T08:53:56.477Z",
    "type": "initWidget"
   },
   {
    "code": "df.set_context([\"Height\",\"SportType=Ball\",\"?\"])\ndf",
    "id": "9bcecbf3ff1a493895791c1bd4fa86c6",
    "order_count": 5,
    "time": "2020-07-14T08:54:00.095Z",
    "type": "editCodeCell"
   },
   {
    "code": "df.set_context([\"Height\",\"SportType=Ball\",\"?\"])\ndf",
    "id": "9bcecbf3ff1a493895791c1bd4fa86c6",
    "order_count": 5,
    "time": "2020-07-14T08:54:00.190Z",
    "type": "selectCodeCell"
   },
   {
    "code": "df.set_context([\"Height\",\"SportType=Ball\"])\ndf",
    "id": "9bcecbf3ff1a493895791c1bd4fa86c6",
    "order_count": 5,
    "time": "2020-07-14T08:54:05.163Z",
    "type": "executeCodeCell"
   },
   {
    "code": "vc = VisCollection([\"Height\",\"SportType=Ball\",\"?\"],df)\nvc.set_query([\"Height\",\"SportType=Boat\",\"?\"])\nfor v in vc.collection: \n    filter_vspec = list(filter(lambda x: x.channel==\"\",v.spec_lst))[0]\n    assert filter_vspec.value ==\"Boat\"",
    "id": "f94b70c54a994d999357267e8cce3ec8",
    "order_count": 6,
    "time": "2020-07-14T08:54:05.187Z",
    "type": "selectCodeCell"
   },
   {
    "code": "df.set_context([\"Height\",\"SportType=Ball\"])\ndf",
    "id": "9bcecbf3ff1a493895791c1bd4fa86c6",
    "isPrintLuxDf": false,
    "isPrintPandasDf": true,
    "isPrintView": false,
    "isPrintViewCollection": false,
    "order_count": 5,
    "time": "2020-07-14T08:54:06.428Z",
    "type": "completeCodeCell"
   },
   {
    "code": "df.set_context([\"Height\",\"SportType=Ball\"])\ndf",
    "id": "9bcecbf3ff1a493895791c1bd4fa86c6",
    "order_count": 5,
    "time": "2020-07-14T08:54:08.131Z",
    "type": "selectCodeCell"
   },
   {
    "param": "",
    "time": "2020-07-14T08:54:08.157Z",
    "type": "initWidget"
   },
   {
    "param": "",
    "time": "2020-07-14T08:54:08.390Z",
    "type": "initWidget"
   },
   {
    "code": "df.set_context([\"Height\",\"SportType=Ball\"])\ndf",
    "id": "9bcecbf3ff1a493895791c1bd4fa86c6",
    "order_count": 5,
    "time": "2020-07-14T08:54:10.363Z",
    "type": "selectCodeCell"
   },
   {
    "param": "Filter",
    "time": "2020-07-14T08:54:10.365Z",
    "type": "switchTab"
   },
   {
    "code": "df.set_context([\"Height\",\"SportType=Ball\"])\ndf",
    "id": "9bcecbf3ff1a493895791c1bd4fa86c6",
    "order_count": 5,
    "time": "2020-07-14T08:59:54.367Z",
    "type": "selectCodeCell"
   },
   {
    "time": "2020-07-14T09:04:59.866Z",
    "type": "kernelReady"
   },
   {
    "code": "vc = VisCollection([\"Height\",\"SportType=Ball\",\"?\"],df)\nvc.set_query([\"Height\",\"SportType=Boat\",\"?\"])\nfor v in vc.collection: \n    filter_vspec = list(filter(lambda x: x.channel==\"\",v.spec_lst))[0]\n    assert filter_vspec.value ==\"Boat\"",
    "id": "f94b70c54a994d999357267e8cce3ec8",
    "order_count": 6,
    "time": "2020-07-14T09:27:50.068Z",
    "type": "selectCodeCell"
   },
   {
    "code": "",
    "id": "7adef8c2b6124923a0f97655c6bc7c76",
    "order_count": 8,
    "time": "2020-07-14T09:28:11.728Z",
    "type": "selectCodeCell"
   },
   {
    "code": "",
    "id": "7adef8c2b6124923a0f97655c6bc7c76",
    "order_count": 8,
    "time": "2020-07-14T09:28:11.913Z",
    "type": "editCodeCell"
   },
   {
    "code": "def test_view_collection():\n    df = pd.read_csv(\"lux/data/olympic.csv\")\n    from lux.vis.VisCollection import VisCollection\n    vc = VisCollection([\"Height\",\"SportType=Ball\",\"?\"],df)\n    view_with_year = list(filter(lambda x: x.get_attr_by_attr_name(\"Year\")!=[],vc))[0]\n    assert view_with_year.get_attr_by_channel(\"x\")[0].attribute==\"Year\"\n    assert len(vc) == len(df.columns) -1 -1 #remove 1 for view with same filter attribute and remove 1 view with for same attribute\n    vc = VisCollection([\"Height\",\"?\"],df)\n    assert len(vc) == len(df.columns) -1 #remove 1 for view with for same attribute\n\ndef test_view_collection_set_query():\n    df = pd.read_csv(\"lux/data/olympic.csv\")\n    from lux.vis.VisCollection import VisCollection\n    vc = VisCollection([\"Height\",\"SportType=Ice\",\"?\"],df)\n    vc.set_query([\"Height\",\"SportType=Boat\",\"?\"])\n    for v in vc.collection: \n        filter_vspec = list(filter(lambda x: x.channel==\"\",v.spec_lst))[0]\n        assert filter_vspec.value ==\"Boat\"",
    "id": "7adef8c2b6124923a0f97655c6bc7c76",
    "order_count": 8,
    "time": "2020-07-14T09:28:16.738Z",
    "type": "selectCodeCell"
   },
   {
    "code": "def test_view():\n    df = pd.read_csv(\"lux/data/olympic.csv\")\n    from lux.vis.VisCollection import VisCollection\n    vc = VisCollection([\"Height\",\"SportType=Ball\",\"?\"],df)\n    view_with_year = list(filter(lambda x: x.get_attr_by_attr_name(\"Year\")!=[],vc))[0]\n    assert view_with_year.get_attr_by_channel(\"x\")[0].attribute==\"Year\"\n    assert len(vc) == len(df.columns) -1 -1 #remove 1 for view with same filter attribute and remove 1 view with for same attribute\n    vc = VisCollection([\"Height\",\"?\"],df)\n    assert len(vc) == len(df.columns) -1 #remove 1 for view with for same attribute\n\ndef test_view_collection_set_query():\n    df = pd.read_csv(\"lux/data/olympic.csv\")\n    from lux.vis.VisCollection import VisCollection\n    vc = VisCollection([\"Height\",\"SportType=Ice\",\"?\"],df)\n    vc.set_query([\"Height\",\"SportType=Boat\",\"?\"])\n    for v in vc.collection: \n        filter_vspec = list(filter(lambda x: x.channel==\"\",v.spec_lst))[0]\n        assert filter_vspec.value ==\"Boat\"",
    "id": "7adef8c2b6124923a0f97655c6bc7c76",
    "order_count": 8,
    "time": "2020-07-14T09:28:25.990Z",
    "type": "selectCodeCell"
   },
   {
    "code": "def test_view():\n    df = pd.read_csv(\"lux/data/olympic.csv\")\n    from lux.vis.Vis import VisCollection\n    vc = VisCollection([\"Height\",\"SportType=Ball\",\"?\"],df)\n    view_with_year = list(filter(lambda x: x.get_attr_by_attr_name(\"Year\")!=[],vc))[0]\n    assert view_with_year.get_attr_by_channel(\"x\")[0].attribute==\"Year\"\n    assert len(vc) == len(df.columns) -1 -1 #remove 1 for view with same filter attribute and remove 1 view with for same attribute\n    vc = VisCollection([\"Height\",\"?\"],df)\n    assert len(vc) == len(df.columns) -1 #remove 1 for view with for same attribute\n\ndef test_view_collection_set_query():\n    df = pd.read_csv(\"lux/data/olympic.csv\")\n    from lux.vis.VisCollection import VisCollection\n    vc = VisCollection([\"Height\",\"SportType=Ice\",\"?\"],df)\n    vc.set_query([\"Height\",\"SportType=Boat\",\"?\"])\n    for v in vc.collection: \n        filter_vspec = list(filter(lambda x: x.channel==\"\",v.spec_lst))[0]\n        assert filter_vspec.value ==\"Boat\"",
    "id": "7adef8c2b6124923a0f97655c6bc7c76",
    "order_count": 8,
    "time": "2020-07-14T09:28:29.324Z",
    "type": "selectCodeCell"
   },
   {
    "code": "def test_view():\n    df = pd.read_csv(\"lux/data/olympic.csv\")\n    from lux.vis.Vis import Vis\n    vc = Vis([\"Height\",\"SportType=Ball\"],df)\n    view_with_year = list(filter(lambda x: x.get_attr_by_attr_name(\"Year\")!=[],vc))[0]\n    assert view_with_year.get_attr_by_channel(\"x\")[0].attribute==\"Year\"\n\ndef test_view_collection_set_query():\n    df = pd.read_csv(\"lux/data/olympic.csv\")\n    from lux.vis.VisCollection import VisCollection\n    vc = VisCollection([\"Height\",\"SportType=Ice\",\"?\"],df)\n    vc.set_query([\"Height\",\"SportType=Boat\",\"?\"])\n    for v in vc.collection: \n        filter_vspec = list(filter(lambda x: x.channel==\"\",v.spec_lst))[0]\n        assert filter_vspec.value ==\"Boat\"",
    "id": "7adef8c2b6124923a0f97655c6bc7c76",
    "order_count": 8,
    "time": "2020-07-14T09:29:09.298Z",
    "type": "executeCodeCell"
   },
   {
    "code": "",
    "id": "a546375b0fc34e88998facca31b5953f",
    "order_count": 9,
    "time": "2020-07-14T09:29:09.325Z",
    "type": "selectCodeCell"
   },
   {
    "code": "def test_view():\n    df = pd.read_csv(\"lux/data/olympic.csv\")\n    from lux.vis.Vis import Vis\n    vc = Vis([\"Height\",\"SportType=Ball\"],df)\n    view_with_year = list(filter(lambda x: x.get_attr_by_attr_name(\"Year\")!=[],vc))[0]\n    assert view_with_year.get_attr_by_channel(\"x\")[0].attribute==\"Year\"\n\ndef test_view_collection_set_query():\n    df = pd.read_csv(\"lux/data/olympic.csv\")\n    from lux.vis.VisCollection import VisCollection\n    vc = VisCollection([\"Height\",\"SportType=Ice\",\"?\"],df)\n    vc.set_query([\"Height\",\"SportType=Boat\",\"?\"])\n    for v in vc.collection: \n        filter_vspec = list(filter(lambda x: x.channel==\"\",v.spec_lst))[0]\n        assert filter_vspec.value ==\"Boat\"",
    "id": "7adef8c2b6124923a0f97655c6bc7c76",
    "isPrintLuxDf": false,
    "isPrintPandasDf": false,
    "isPrintView": false,
    "isPrintViewCollection": false,
    "order_count": 8,
    "time": "2020-07-14T09:29:09.333Z",
    "type": "completeCodeCell"
   },
   {
    "code": "",
    "id": "a546375b0fc34e88998facca31b5953f",
    "order_count": 9,
    "time": "2020-07-14T09:29:10.751Z",
    "type": "editCodeCell"
   },
   {
    "code": "test_view()",
    "id": "a546375b0fc34e88998facca31b5953f",
    "order_count": 9,
    "time": "2020-07-14T09:29:13.469Z",
    "type": "executeCodeCell"
   },
   {
    "code": "",
    "id": "c6585cc168fd43a48ef7230843eebcee",
    "order_count": 10,
    "time": "2020-07-14T09:29:13.510Z",
    "type": "editCodeCell"
   },
   {
    "code": "test_view()",
    "id": "a546375b0fc34e88998facca31b5953f",
    "isPrintLuxDf": false,
    "isPrintPandasDf": false,
    "isPrintView": false,
    "isPrintViewCollection": false,
    "order_count": 9,
    "time": "2020-07-14T09:29:13.536Z",
    "type": "completeCodeCell"
   },
   {
    "code": "def test_view():\n    df = pd.read_csv(\"lux/data/olympic.csv\")\n    from lux.vis.Vis import Vis\n    vc = Vis([\"Height\",\"SportType=Ball\"],df)\n    view_with_year = list(filter(lambda x: x.get_attr_by_attr_name(\"Year\")!=[],vc))[0]\n    assert view_with_year.get_attr_by_channel(\"x\")[0].attribute==\"Year\"\n\ndef test_view_collection_set_query():\n    df = pd.read_csv(\"lux/data/olympic.csv\")\n    from lux.vis.VisCollection import VisCollection\n    vc = VisCollection([\"Height\",\"SportType=Ice\",\"?\"],df)\n    vc.set_query([\"Height\",\"SportType=Boat\",\"?\"])\n    for v in vc.collection: \n        filter_vspec = list(filter(lambda x: x.channel==\"\",v.spec_lst))[0]\n        assert filter_vspec.value ==\"Boat\"",
    "id": "7adef8c2b6124923a0f97655c6bc7c76",
    "order_count": 8,
    "time": "2020-07-14T09:29:18.814Z",
    "type": "selectCodeCell"
   },
   {
    "code": "def test_view():\n    df = pd.read_csv(\"lux/data/olympic.csv\")\n    from lux.vis.Vis import Vis\n    vc = Vis([\"Height\",\"SportType=Ball\"],df)\n    view_with_year = list(filter(lambda x: x.get_attr_by_attr_name(\"Year\")!=[],vc))[0]\n    assert view_with_year.get_attr_by_channel(\"x\")[0].attribute==\"Year\"\n\ndef test_view_collection_set_query():\n    df = pd.read_csv(\"lux/data/olympic.csv\")\n    from lux.vis.VisCollection import VisCollection\n    vc = VisCollection([\"Height\",\"SportType=Ice\",\"?\"],df)\n    vc.set_query([\"Height\",\"SportType=Boat\",\"?\"])\n    for v in vc.collection: \n        filter_vspec = list(filter(lambda x: x.channel==\"\",v.spec_lst))[0]\n        assert filter_vspec.value ==\"Boat\"",
    "id": "7adef8c2b6124923a0f97655c6bc7c76",
    "order_count": 8,
    "time": "2020-07-14T09:29:18.823Z",
    "type": "editCodeCell"
   },
   {
    "code": "def test_view():\n    df = pd.read_csv(\"lux/data/olympic.csv\")\n    from lux.vis.Vis import Vis\n    vc = Vis([\"Height\",\"SportType=Ball\"],df)\n    view_with_year = list(filter(lambda x: x.get_attr_by_attr_name(\"Year\")!=[],vc))[0]\n    assert view_with_year[0].attribute==\"Year\"\n\ndef test_view_collection_set_query():\n    df = pd.read_csv(\"lux/data/olympic.csv\")\n    from lux.vis.VisCollection import VisCollection\n    vc = VisCollection([\"Height\",\"SportType=Ice\",\"?\"],df)\n    vc.set_query([\"Height\",\"SportType=Boat\",\"?\"])\n    for v in vc.collection: \n        filter_vspec = list(filter(lambda x: x.channel==\"\",v.spec_lst))[0]\n        assert filter_vspec.value ==\"Boat\"",
    "id": "7adef8c2b6124923a0f97655c6bc7c76",
    "order_count": 8,
    "time": "2020-07-14T09:29:22.045Z",
    "type": "executeCodeCell"
   },
   {
    "code": "test_view()",
    "id": "a546375b0fc34e88998facca31b5953f",
    "order_count": 9,
    "time": "2020-07-14T09:29:22.074Z",
    "type": "selectCodeCell"
   },
   {
    "code": "def test_view():\n    df = pd.read_csv(\"lux/data/olympic.csv\")\n    from lux.vis.Vis import Vis\n    vc = Vis([\"Height\",\"SportType=Ball\"],df)\n    view_with_year = list(filter(lambda x: x.get_attr_by_attr_name(\"Year\")!=[],vc))[0]\n    assert view_with_year[0].attribute==\"Year\"\n\ndef test_view_collection_set_query():\n    df = pd.read_csv(\"lux/data/olympic.csv\")\n    from lux.vis.VisCollection import VisCollection\n    vc = VisCollection([\"Height\",\"SportType=Ice\",\"?\"],df)\n    vc.set_query([\"Height\",\"SportType=Boat\",\"?\"])\n    for v in vc.collection: \n        filter_vspec = list(filter(lambda x: x.channel==\"\",v.spec_lst))[0]\n        assert filter_vspec.value ==\"Boat\"",
    "id": "7adef8c2b6124923a0f97655c6bc7c76",
    "isPrintLuxDf": false,
    "isPrintPandasDf": false,
    "isPrintView": false,
    "isPrintViewCollection": false,
    "order_count": 8,
    "time": "2020-07-14T09:29:22.081Z",
    "type": "completeCodeCell"
   },
   {
    "code": "test_view()",
    "id": "a546375b0fc34e88998facca31b5953f",
    "order_count": 9,
    "time": "2020-07-14T09:29:22.638Z",
    "type": "executeCodeCell"
   },
   {
    "code": "",
    "id": "c6585cc168fd43a48ef7230843eebcee",
    "order_count": 10,
    "time": "2020-07-14T09:29:22.649Z",
    "type": "selectCodeCell"
   },
   {
    "code": "test_view()",
    "id": "a546375b0fc34e88998facca31b5953f",
    "isPrintLuxDf": false,
    "isPrintPandasDf": false,
    "isPrintView": false,
    "isPrintViewCollection": false,
    "order_count": 9,
    "time": "2020-07-14T09:29:22.712Z",
    "type": "completeCodeCell"
   },
   {
    "code": "def test_view():\n    df = pd.read_csv(\"lux/data/olympic.csv\")\n    from lux.vis.Vis import Vis\n    vc = Vis([\"Height\",\"SportType=Ball\"],df)\n    view_with_year = list(filter(lambda x: x.get_attr_by_attr_name(\"Year\")!=[],vc))[0]\n    assert view_with_year[0].attribute==\"Year\"\n\ndef test_view_collection_set_query():\n    df = pd.read_csv(\"lux/data/olympic.csv\")\n    from lux.vis.VisCollection import VisCollection\n    vc = VisCollection([\"Height\",\"SportType=Ice\",\"?\"],df)\n    vc.set_query([\"Height\",\"SportType=Boat\",\"?\"])\n    for v in vc.collection: \n        filter_vspec = list(filter(lambda x: x.channel==\"\",v.spec_lst))[0]\n        assert filter_vspec.value ==\"Boat\"",
    "id": "7adef8c2b6124923a0f97655c6bc7c76",
    "order_count": 8,
    "time": "2020-07-14T09:29:28.066Z",
    "type": "selectCodeCell"
   },
   {
    "code": "def test_view():\n    df = pd.read_csv(\"lux/data/olympic.csv\")\n    from lux.vis.Vis import Vis\n    vc = Vis([\"Height\",\"SportType=Ball\"],df)\n    view_with_year = list(filter(lambda x: x.get_attr_by_attr_name(\"Year\")!=[],vc))[0]\n    assert view_with_year[0].attribute==\"Year\"\n\ndef test_view_collection_set_query():\n    df = pd.read_csv(\"lux/data/olympic.csv\")\n    from lux.vis.VisCollection import VisCollection\n    vc = VisCollection([\"Height\",\"SportType=Ice\",\"?\"],df)\n    vc.set_query([\"Height\",\"SportType=Boat\",\"?\"])\n    for v in vc.collection: \n        filter_vspec = list(filter(lambda x: x.channel==\"\",v.spec_lst))[0]\n        assert filter_vspec.value ==\"Boat\"",
    "id": "7adef8c2b6124923a0f97655c6bc7c76",
    "order_count": 8,
    "time": "2020-07-14T09:29:28.077Z",
    "type": "editCodeCell"
   },
   {
    "code": "def test_view():\n    df = pd.read_csv(\"lux/data/olympic.csv\")\n    from lux.vis.Vis import Vis\n    vc = Vis([\"Height\",\"SportType=Ball\"],df)\n    view_with_year = list(filter(lambda x: x.get_attr_by_attr_name(\"Year\")!=[],vc))[0]\n    assert view_with_year[0].attribute==\"Year\"\n\ndef test_view_collection_set_query():\n    df = pd.read_csv(\"lux/data/olympic.csv\")\n    from lux.vis.VisCollection import VisCollection\n    vc = VisCollection([\"Height\",\"SportType=Ice\",\"?\"],df)\n    vc.set_query([\"Height\",\"SportType=Boat\",\"?\"])\n    for v in vc.collection: \n        filter_vspec = list(filter(lambda x: x.channel==\"\",v.spec_lst))[0]\n        assert filter_vspec.value ==\"Boat\"",
    "id": "7adef8c2b6124923a0f97655c6bc7c76",
    "order_count": 8,
    "time": "2020-07-14T09:29:33.253Z",
    "type": "selectCodeCell"
   },
   {
    "code": "def test_view():\n    df = pd.read_csv(\"lux/data/olympic.csv\")\n    from lux.vis.Vis import Vis\n    vc = Vis([\"Height\",\"SportType=Ball\"],df)\n    view_with_year = list(filter(lambda x: x.get_attr_by_attr_name(\"Year\")!=[],vc))[0]\n    assert view_with_year[0].attribute==\"Year\"\n\ndef test_view_collection_set_query():\n    df = pd.read_csv(\"lux/data/olympic.csv\")\n    from lux.vis.VisCollection import VisCollection\n    vc = VisCollection([\"Height\",\"SportType=Ice\",\"?\"],df)\n    vc.set_query([\"Height\",\"SportType=Boat\",\"?\"])\n    for v in vc.collection: \n        filter_vspec = list(filter(lambda x: x.channel==\"\",v.spec_lst))[0]\n        assert filter_vspec.value ==\"Boat\"",
    "id": "7adef8c2b6124923a0f97655c6bc7c76",
    "order_count": 8,
    "time": "2020-07-14T09:29:34.510Z",
    "type": "selectCodeCell"
   },
   {
    "code": "def test_view():\n    df = pd.read_csv(\"lux/data/olympic.csv\")\n    from lux.vis.Vis import Vis\n    vc = Vis([\"Height\",\"SportType=Ball\"],df)\n    view_with_year = list(filter(lambda x: x.get_attr_by_attr_name(\"Year\")!=[],vc))[0]\n    assert view_with_year[0].attribute==\"Year\"\n\ndef test_view_collection_set_query():\n    df = pd.read_csv(\"lux/data/olympic.csv\")\n    from lux.vis.VisCollection import VisCollection\n    vc = VisCollection([\"Height\",\"SportType=Ice\",\"?\"],df)\n    vc.set_query([\"Height\",\"SportType=Boat\",\"?\"])\n    for v in vc.collection: \n        filter_vspec = list(filter(lambda x: x.channel==\"\",v.spec_lst))[0]\n        assert filter_vspec.value ==\"Boat\"",
    "id": "7adef8c2b6124923a0f97655c6bc7c76",
    "order_count": 8,
    "time": "2020-07-14T09:29:35.483Z",
    "type": "selectCodeCell"
   },
   {
    "code": "def test_view():\n    df = pd.read_csv(\"lux/data/olympic.csv\")\n    from lux.vis.Vis import Vis\n    view_with_year = Vis([\"Height\",\"SportType=Ball\"],df)\n    assert view_with_year[0].attribute==\"Year\"\n\ndef test_view_collection_set_query():\n    df = pd.read_csv(\"lux/data/olympic.csv\")\n    from lux.vis.VisCollection import VisCollection\n    vc = VisCollection([\"Height\",\"SportType=Ice\",\"?\"],df)\n    vc.set_query([\"Height\",\"SportType=Boat\",\"?\"])\n    for v in vc.collection: \n        filter_vspec = list(filter(lambda x: x.channel==\"\",v.spec_lst))[0]\n        assert filter_vspec.value ==\"Boat\"",
    "id": "7adef8c2b6124923a0f97655c6bc7c76",
    "order_count": 8,
    "time": "2020-07-14T09:29:39.966Z",
    "type": "executeCodeCell"
   },
   {
    "code": "test_view()",
    "id": "a546375b0fc34e88998facca31b5953f",
    "order_count": 9,
    "time": "2020-07-14T09:29:39.994Z",
    "type": "selectCodeCell"
   },
   {
    "code": "def test_view():\n    df = pd.read_csv(\"lux/data/olympic.csv\")\n    from lux.vis.Vis import Vis\n    view_with_year = Vis([\"Height\",\"SportType=Ball\"],df)\n    assert view_with_year[0].attribute==\"Year\"\n\ndef test_view_collection_set_query():\n    df = pd.read_csv(\"lux/data/olympic.csv\")\n    from lux.vis.VisCollection import VisCollection\n    vc = VisCollection([\"Height\",\"SportType=Ice\",\"?\"],df)\n    vc.set_query([\"Height\",\"SportType=Boat\",\"?\"])\n    for v in vc.collection: \n        filter_vspec = list(filter(lambda x: x.channel==\"\",v.spec_lst))[0]\n        assert filter_vspec.value ==\"Boat\"",
    "id": "7adef8c2b6124923a0f97655c6bc7c76",
    "isPrintLuxDf": false,
    "isPrintPandasDf": false,
    "isPrintView": false,
    "isPrintViewCollection": false,
    "order_count": 8,
    "time": "2020-07-14T09:29:39.999Z",
    "type": "completeCodeCell"
   },
   {
    "code": "test_view()",
    "id": "a546375b0fc34e88998facca31b5953f",
    "order_count": 9,
    "time": "2020-07-14T09:29:40.693Z",
    "type": "executeCodeCell"
   },
   {
    "code": "",
    "id": "c6585cc168fd43a48ef7230843eebcee",
    "order_count": 10,
    "time": "2020-07-14T09:29:40.704Z",
    "type": "selectCodeCell"
   },
   {
    "code": "test_view()",
    "id": "a546375b0fc34e88998facca31b5953f",
    "isPrintLuxDf": false,
    "isPrintPandasDf": false,
    "isPrintView": false,
    "isPrintViewCollection": false,
    "order_count": 9,
    "time": "2020-07-14T09:29:40.758Z",
    "type": "completeCodeCell"
   },
   {
    "code": "def test_view():\n    df = pd.read_csv(\"lux/data/olympic.csv\")\n    from lux.vis.Vis import Vis\n    view_with_year = Vis([\"Height\",\"SportType=Ball\"],df)\n    assert view_with_year[0].attribute==\"Year\"\n\ndef test_view_collection_set_query():\n    df = pd.read_csv(\"lux/data/olympic.csv\")\n    from lux.vis.VisCollection import VisCollection\n    vc = VisCollection([\"Height\",\"SportType=Ice\",\"?\"],df)\n    vc.set_query([\"Height\",\"SportType=Boat\",\"?\"])\n    for v in vc.collection: \n        filter_vspec = list(filter(lambda x: x.channel==\"\",v.spec_lst))[0]\n        assert filter_vspec.value ==\"Boat\"",
    "id": "7adef8c2b6124923a0f97655c6bc7c76",
    "order_count": 8,
    "time": "2020-07-14T09:29:43.369Z",
    "type": "selectCodeCell"
   },
   {
    "code": "def test_view():\n    df = pd.read_csv(\"lux/data/olympic.csv\")\n    from lux.vis.Vis import Vis\n    view_with_year = Vis([\"Height\",\"SportType=Ball\"],df)\n    assert view_with_year[0].attribute==\"Year\"\n\ndef test_view_collection_set_query():\n    df = pd.read_csv(\"lux/data/olympic.csv\")\n    from lux.vis.VisCollection import VisCollection\n    vc = VisCollection([\"Height\",\"SportType=Ice\",\"?\"],df)\n    vc.set_query([\"Height\",\"SportType=Boat\",\"?\"])\n    for v in vc.collection: \n        filter_vspec = list(filter(lambda x: x.channel==\"\",v.spec_lst))[0]\n        assert filter_vspec.value ==\"Boat\"",
    "id": "7adef8c2b6124923a0f97655c6bc7c76",
    "order_count": 8,
    "time": "2020-07-14T09:29:43.377Z",
    "type": "editCodeCell"
   },
   {
    "code": "",
    "id": "e93fcd571bf6419a8a7d39cbdd999c30",
    "order_count": 8,
    "time": "2020-07-14T09:30:02.062Z",
    "type": "selectCodeCell"
   },
   {
    "code": "",
    "id": "e93fcd571bf6419a8a7d39cbdd999c30",
    "order_count": 8,
    "time": "2020-07-14T09:30:02.168Z",
    "type": "editCodeCell"
   },
   {
    "code": "df = pd.read_csv(\"lux/data/olympic.csv\")\nfrom lux.vis.Vis import Vis\nview_with_year = Vis([\"Height\",\"SportType=Ball\"],df)\nview_with_year.get_specs()",
    "id": "e93fcd571bf6419a8a7d39cbdd999c30",
    "order_count": 8,
    "time": "2020-07-14T09:30:05.939Z",
    "type": "executeCodeCell"
   },
   {
    "code": "def test_view():\n    df = pd.read_csv(\"lux/data/olympic.csv\")\n    from lux.vis.Vis import Vis\n    view_with_year = Vis([\"Height\",\"SportType=Ball\"],df)\n    assert view_with_year.get_specs().attribute==\"Year\"\n\ndef test_view_collection_set_query():\n    df = pd.read_csv(\"lux/data/olympic.csv\")\n    from lux.vis.VisCollection import VisCollection\n    vc = VisCollection([\"Height\",\"SportType=Ice\",\"?\"],df)\n    vc.set_query([\"Height\",\"SportType=Boat\",\"?\"])\n    for v in vc.collection: \n        filter_vspec = list(filter(lambda x: x.channel==\"\",v.spec_lst))[0]\n        assert filter_vspec.value ==\"Boat\"",
    "id": "7adef8c2b6124923a0f97655c6bc7c76",
    "order_count": 9,
    "time": "2020-07-14T09:30:05.973Z",
    "type": "selectCodeCell"
   },
   {
    "code": "df = pd.read_csv(\"lux/data/olympic.csv\")\nfrom lux.vis.Vis import Vis\nview_with_year = Vis([\"Height\",\"SportType=Ball\"],df)\nview_with_year.get_specs()",
    "id": "e93fcd571bf6419a8a7d39cbdd999c30",
    "isPrintLuxDf": false,
    "isPrintPandasDf": false,
    "isPrintView": false,
    "isPrintViewCollection": false,
    "order_count": 8,
    "time": "2020-07-14T09:30:05.999Z",
    "type": "completeCodeCell"
   },
   {
    "code": "df = pd.read_csv(\"lux/data/olympic.csv\")\nfrom lux.vis.Vis import Vis\nview_with_year = Vis([\"Height\",\"SportType=Ball\"],df)\nview_with_year.get_specs()",
    "id": "e93fcd571bf6419a8a7d39cbdd999c30",
    "order_count": 8,
    "time": "2020-07-14T09:30:06.572Z",
    "type": "selectCodeCell"
   },
   {
    "code": "df = pd.read_csv(\"lux/data/olympic.csv\")\nfrom lux.vis.Vis import Vis\nview_with_year = Vis([\"Height\",\"SportType=Ball\"],df)\nview_with_year.get_specs()",
    "id": "e93fcd571bf6419a8a7d39cbdd999c30",
    "order_count": 8,
    "time": "2020-07-14T09:30:06.846Z",
    "type": "editCodeCell"
   },
   {
    "code": "df = pd.read_csv(\"lux/data/olympic.csv\")\nfrom lux.vis.Vis import Vis\nview_with_year = Vis([\"Height\",\"SportType=Ball\"],df)\nview_with_year.get_specs()",
    "id": "e93fcd571bf6419a8a7d39cbdd999c30",
    "order_count": 8,
    "time": "2020-07-14T09:30:12.997Z",
    "type": "editCodeCell"
   },
   {
    "code": "df = pd.read_csv(\"lux/data/olympic.csv\")\nfrom lux.vis.Vis import Vis\nview_with_year = Vis([\"Height\",\"SportType=Ball\"],df)\nview_with_year.get_specs()",
    "id": "e93fcd571bf6419a8a7d39cbdd999c30",
    "order_count": 8,
    "time": "2020-07-14T09:30:13.466Z",
    "type": "selectCodeCell"
   },
   {
    "time": "2020-07-14T09:30:15.085Z",
    "type": "kernelRestart"
   },
   {
    "code": "v = vc[0]",
    "id": "8ec6b9930f8a4a66817a903d295746c2",
    "order_count": 7,
    "time": "2020-07-14T09:30:15.584Z",
    "type": "selectCodeCell"
   },
   {
    "code": "vc = VisCollection([\"Height\",\"SportType=Ball\",\"?\"],df)\nvc.set_query([\"Height\",\"SportType=Boat\",\"?\"])\nfor v in vc.collection: \n    filter_vspec = list(filter(lambda x: x.channel==\"\",v.spec_lst))[0]\n    assert filter_vspec.value ==\"Boat\"",
    "id": "f94b70c54a994d999357267e8cce3ec8",
    "order_count": 6,
    "time": "2020-07-14T09:30:15.750Z",
    "type": "selectCodeCell"
   },
   {
    "code": "df.set_context([\"Height\",\"SportType=Ball\"])\ndf",
    "id": "9bcecbf3ff1a493895791c1bd4fa86c6",
    "order_count": 5,
    "time": "2020-07-14T09:30:15.895Z",
    "type": "selectCodeCell"
   },
   {
    "code": "vc",
    "id": "177adfc594944adebb1944908b928fef",
    "order_count": 4,
    "time": "2020-07-14T09:30:16.028Z",
    "type": "selectCodeCell"
   },
   {
    "code": "vc.spec_lst",
    "id": "c19ee71d29b04f509f7aeaf48d8accf8",
    "order_count": 3,
    "time": "2020-07-14T09:30:16.156Z",
    "type": "selectCodeCell"
   },
   {
    "code": "df = pd.read_csv(\"lux/data/olympic.csv\")\nfrom lux.vis.VisCollection import VisCollection\nvc = VisCollection([\"Height\",\"SportType=Ball\",\"?\"],df)\nview_with_year = list(filter(lambda x: x.get_attr_by_attr_name(\"Year\")!=[],vc))[0]\nassert view_with_year.get_attr_by_channel(\"x\")[0].attribute==\"Year\"\nassert len(vc) == len(df.columns) -1 -1 #remove 1 for view with same filter attribute and remove 1 view with for same attribute\nvc = VisCollection([\"Height\",\"?\"],df)\nassert len(vc) == len(df.columns) -1 #remove 1 f",
    "id": "74670b4a7a794ba7b739c97ec71945a8",
    "order_count": 2,
    "time": "2020-07-14T09:30:16.305Z",
    "type": "selectCodeCell"
   },
   {
    "code": "import pandas as pd\nimport lux",
    "id": "53ac2deab3234be785d747df05424b1d",
    "order_count": 1,
    "time": "2020-07-14T09:30:16.491Z",
    "type": "selectCodeCell"
   },
   {
    "code": "cd ..",
    "id": "03cb8afcf347496f82e47f207e86b1e4",
    "order_count": 0,
    "time": "2020-07-14T09:30:16.666Z",
    "type": "selectCodeCell"
   },
   {
    "time": "2020-07-14T09:30:16.706Z",
    "type": "kernelReady"
   },
   {
    "code": "cd ..",
    "id": "03cb8afcf347496f82e47f207e86b1e4",
    "order_count": 0,
    "time": "2020-07-14T09:30:17.171Z",
    "type": "executeCodeCell"
   },
   {
    "code": "import pandas as pd\nimport lux",
    "id": "53ac2deab3234be785d747df05424b1d",
    "order_count": 1,
    "time": "2020-07-14T09:30:17.183Z",
    "type": "selectCodeCell"
   },
   {
    "code": "cd ..",
    "id": "03cb8afcf347496f82e47f207e86b1e4",
    "isPrintLuxDf": false,
    "isPrintPandasDf": false,
    "isPrintView": false,
    "isPrintViewCollection": false,
    "order_count": 0,
    "time": "2020-07-14T09:30:17.196Z",
    "type": "completeCodeCell"
   },
   {
    "code": "import pandas as pd\nimport lux",
    "id": "53ac2deab3234be785d747df05424b1d",
    "order_count": 1,
    "time": "2020-07-14T09:30:17.302Z",
    "type": "executeCodeCell"
   },
   {
    "code": "df = pd.read_csv(\"lux/data/olympic.csv\")\nfrom lux.vis.VisCollection import VisCollection\nvc = VisCollection([\"Height\",\"SportType=Ball\",\"?\"],df)\nview_with_year = list(filter(lambda x: x.get_attr_by_attr_name(\"Year\")!=[],vc))[0]\nassert view_with_year.get_attr_by_channel(\"x\")[0].attribute==\"Year\"\nassert len(vc) == len(df.columns) -1 -1 #remove 1 for view with same filter attribute and remove 1 view with for same attribute\nvc = VisCollection([\"Height\",\"?\"],df)\nassert len(vc) == len(df.columns) -1 #remove 1 f",
    "id": "74670b4a7a794ba7b739c97ec71945a8",
    "order_count": 2,
    "time": "2020-07-14T09:30:17.321Z",
    "type": "selectCodeCell"
   },
   {
    "code": "import pandas as pd\nimport lux",
    "id": "53ac2deab3234be785d747df05424b1d",
    "isPrintLuxDf": false,
    "isPrintPandasDf": false,
    "isPrintView": false,
    "isPrintViewCollection": false,
    "order_count": 1,
    "time": "2020-07-14T09:30:17.873Z",
    "type": "completeCodeCell"
   },
   {
    "code": "df = pd.read_csv(\"lux/data/olympic.csv\")\nfrom lux.vis.VisCollection import VisCollection\nvc = VisCollection([\"Height\",\"SportType=Ball\",\"?\"],df)\nview_with_year = list(filter(lambda x: x.get_attr_by_attr_name(\"Year\")!=[],vc))[0]\nassert view_with_year.get_attr_by_channel(\"x\")[0].attribute==\"Year\"\nassert len(vc) == len(df.columns) -1 -1 #remove 1 for view with same filter attribute and remove 1 view with for same attribute\nvc = VisCollection([\"Height\",\"?\"],df)\nassert len(vc) == len(df.columns) -1 #remove 1 f",
    "id": "74670b4a7a794ba7b739c97ec71945a8",
    "order_count": null,
    "time": "2020-07-14T09:30:18.822Z",
    "type": "deleteCodeCell"
   },
   {
    "code": "vc.spec_lst",
    "id": "c19ee71d29b04f509f7aeaf48d8accf8",
    "order_count": null,
    "time": "2020-07-14T09:30:19.634Z",
    "type": "deleteCodeCell"
   },
   {
    "code": "vc",
    "id": "177adfc594944adebb1944908b928fef",
    "order_count": null,
    "time": "2020-07-14T09:30:20.067Z",
    "type": "deleteCodeCell"
   },
   {
    "code": "df.set_context([\"Height\",\"SportType=Ball\"])\ndf",
    "id": "9bcecbf3ff1a493895791c1bd4fa86c6",
    "order_count": null,
    "time": "2020-07-14T09:30:20.755Z",
    "type": "deleteCodeCell"
   },
   {
    "code": "vc = VisCollection([\"Height\",\"SportType=Ball\",\"?\"],df)\nvc.set_query([\"Height\",\"SportType=Boat\",\"?\"])\nfor v in vc.collection: \n    filter_vspec = list(filter(lambda x: x.channel==\"\",v.spec_lst))[0]\n    assert filter_vspec.value ==\"Boat\"",
    "id": "f94b70c54a994d999357267e8cce3ec8",
    "order_count": null,
    "time": "2020-07-14T09:30:21.706Z",
    "type": "deleteCodeCell"
   },
   {
    "code": "v = vc[0]",
    "id": "8ec6b9930f8a4a66817a903d295746c2",
    "order_count": null,
    "time": "2020-07-14T09:30:22.346Z",
    "type": "deleteCodeCell"
   },
   {
    "code": "df = pd.read_csv(\"lux/data/olympic.csv\")\nfrom lux.vis.Vis import Vis\nview_with_year = Vis([\"Height\",\"SportType=Ball\"],df)\nview_with_year.get_specs()",
    "id": "e93fcd571bf6419a8a7d39cbdd999c30",
    "order_count": 2,
    "time": "2020-07-14T09:30:22.997Z",
    "type": "executeCodeCell"
   },
   {
    "code": "def test_view():\n    df = pd.read_csv(\"lux/data/olympic.csv\")\n    from lux.vis.Vis import Vis\n    view_with_year = Vis([\"Height\",\"SportType=Ball\"],df)\n    assert view_with_year.get_specs().attribute==\"Year\"\n\ndef test_view_collection_set_query():\n    df = pd.read_csv(\"lux/data/olympic.csv\")\n    from lux.vis.VisCollection import VisCollection\n    vc = VisCollection([\"Height\",\"SportType=Ice\",\"?\"],df)\n    vc.set_query([\"Height\",\"SportType=Boat\",\"?\"])\n    for v in vc.collection: \n        filter_vspec = list(filter(lambda x: x.channel==\"\",v.spec_lst))[0]\n        assert filter_vspec.value ==\"Boat\"",
    "id": "7adef8c2b6124923a0f97655c6bc7c76",
    "order_count": 3,
    "time": "2020-07-14T09:30:23.018Z",
    "type": "selectCodeCell"
   },
   {
    "code": "df = pd.read_csv(\"lux/data/olympic.csv\")\nfrom lux.vis.Vis import Vis\nview_with_year = Vis([\"Height\",\"SportType=Ball\"],df)\nview_with_year.get_specs()",
    "id": "e93fcd571bf6419a8a7d39cbdd999c30",
    "isPrintLuxDf": false,
    "isPrintPandasDf": false,
    "isPrintView": false,
    "isPrintViewCollection": false,
    "order_count": 2,
    "time": "2020-07-14T09:30:23.080Z",
    "type": "completeCodeCell"
   },
   {
    "code": "df = pd.read_csv(\"lux/data/olympic.csv\")\nfrom lux.vis.Vis import Vis\nview_with_year = Vis([\"Height\",\"SportType=Ball\"],df)\nview_with_year.get_specs()",
    "id": "e93fcd571bf6419a8a7d39cbdd999c30",
    "order_count": 2,
    "time": "2020-07-14T09:30:29.179Z",
    "type": "selectCodeCell"
   },
   {
    "code": "df = pd.read_csv(\"lux/data/olympic.csv\")\nfrom lux.vis.Vis import Vis\nview_with_year = Vis([\"Height\",\"SportType=Ball\"],df)\nview_with_year.get_specs()",
    "id": "e93fcd571bf6419a8a7d39cbdd999c30",
    "order_count": 2,
    "time": "2020-07-14T09:30:29.184Z",
    "type": "editCodeCell"
   },
   {
    "code": "df = pd.read_csv(\"lux/data/olympic.csv\")\nfrom lux.vis.Vis import Vis\nview_with_year = Vis([\"Height\",\"SportType=Ball\"],df)\nview_with_year.get_specs()",
    "id": "e93fcd571bf6419a8a7d39cbdd999c30",
    "order_count": 2,
    "time": "2020-07-14T09:30:35.034Z",
    "type": "selectCodeCell"
   },
   {
    "code": "df = pd.read_csv(\"lux/data/olympic.csv\")\nfrom lux.vis.Vis import Vis\nview_with_year = Vis([\"Height\",\"SportType=Ball\"],df)\nview_with_year.get_specs()",
    "id": "e93fcd571bf6419a8a7d39cbdd999c30",
    "order_count": 2,
    "time": "2020-07-14T09:30:36.122Z",
    "type": "selectCodeCell"
   },
   {
    "code": "",
    "id": "658356472256432a8fcc2f7d6e28183a",
    "order_count": 3,
    "time": "2020-07-14T09:31:14.136Z",
    "type": "selectCodeCell"
   },
   {
    "code": "",
    "id": "658356472256432a8fcc2f7d6e28183a",
    "order_count": 3,
    "time": "2020-07-14T09:31:14.351Z",
    "type": "editCodeCell"
   },
   {
    "code": "view_with_year",
    "id": "658356472256432a8fcc2f7d6e28183a",
    "order_count": 3,
    "time": "2020-07-14T09:31:18.165Z",
    "type": "executeCodeCell"
   },
   {
    "code": "def test_view():\n    df = pd.read_csv(\"lux/data/olympic.csv\")\n    from lux.vis.Vis import Vis\n    view_with_year = Vis([\"Height\",\"SportType=Ball\"],df)\n    assert view_with_year.get_specs().attribute==\"Year\"\n\ndef test_view_collection_set_query():\n    df = pd.read_csv(\"lux/data/olympic.csv\")\n    from lux.vis.VisCollection import VisCollection\n    vc = VisCollection([\"Height\",\"SportType=Ice\",\"?\"],df)\n    vc.set_query([\"Height\",\"SportType=Boat\",\"?\"])\n    for v in vc.collection: \n        filter_vspec = list(filter(lambda x: x.channel==\"\",v.spec_lst))[0]\n        assert filter_vspec.value ==\"Boat\"",
    "id": "7adef8c2b6124923a0f97655c6bc7c76",
    "order_count": 4,
    "time": "2020-07-14T09:31:18.193Z",
    "type": "selectCodeCell"
   },
   {
    "code": "view_with_year",
    "id": "658356472256432a8fcc2f7d6e28183a",
    "isPrintLuxDf": false,
    "isPrintPandasDf": false,
    "isPrintView": false,
    "isPrintViewCollection": false,
    "order_count": 3,
    "time": "2020-07-14T09:31:18.254Z",
    "type": "completeCodeCell"
   },
   {
    "code": "view_with_year",
    "id": "658356472256432a8fcc2f7d6e28183a",
    "order_count": 3,
    "time": "2020-07-14T09:31:18.676Z",
    "type": "selectCodeCell"
   },
   {
    "code": "view_with_year",
    "id": "658356472256432a8fcc2f7d6e28183a",
    "order_count": 3,
    "time": "2020-07-14T09:31:19.039Z",
    "type": "editCodeCell"
   },
   {
    "code": "view_with_year",
    "id": "658356472256432a8fcc2f7d6e28183a",
    "order_count": 3,
    "time": "2020-07-14T09:31:59.367Z",
    "type": "editCodeCell"
   },
   {
    "code": "view_with_year",
    "id": "658356472256432a8fcc2f7d6e28183a",
    "order_count": 3,
    "time": "2020-07-14T09:32:02.021Z",
    "type": "selectCodeCell"
   },
   {
    "code": "df = pd.read_csv(\"lux/data/olympic.csv\")\nfrom lux.vis.Vis import Vis\nview_with_year = Vis([\"Height\",\"SportType=Ball\"],df)\nview_with_year.get_specs()",
    "id": "e93fcd571bf6419a8a7d39cbdd999c30",
    "order_count": 2,
    "time": "2020-07-14T09:32:04.451Z",
    "type": "selectCodeCell"
   },
   {
    "code": "df = pd.read_csv(\"lux/data/olympic.csv\")\nfrom lux.vis.Vis import Vis\nview_with_year = Vis([\"Height\",\"SportType=Ball\"],df)\nview_with_year.get_specs()",
    "id": "e93fcd571bf6419a8a7d39cbdd999c30",
    "order_count": 2,
    "time": "2020-07-14T09:32:04.456Z",
    "type": "editCodeCell"
   },
   {
    "code": "df = pd.read_csv(\"lux/data/olympic.csv\")\nfrom lux.vis.Vis import Vis\nview_with_year = Vis([\"Height\",\"SportType=Ball\"],df)\nview_with_year.get_specs()",
    "id": "e93fcd571bf6419a8a7d39cbdd999c30",
    "order_count": 2,
    "time": "2020-07-14T09:32:07.613Z",
    "type": "selectCodeCell"
   },
   {
    "code": "df = pd.read_csv(\"lux/data/olympic.csv\")\nfrom lux.vis.Vis import Vis\nview = Vis([\"Height\",\"SportType=Ball\"],df)\nview.get_specs()",
    "id": "e93fcd571bf6419a8a7d39cbdd999c30",
    "order_count": 2,
    "time": "2020-07-14T09:32:12.369Z",
    "type": "executeCodeCell"
   },
   {
    "code": "view_with_year",
    "id": "658356472256432a8fcc2f7d6e28183a",
    "order_count": 3,
    "time": "2020-07-14T09:32:12.394Z",
    "type": "selectCodeCell"
   },
   {
    "code": "df = pd.read_csv(\"lux/data/olympic.csv\")\nfrom lux.vis.Vis import Vis\nview = Vis([\"Height\",\"SportType=Ball\"],df)\nview.get_specs()",
    "id": "e93fcd571bf6419a8a7d39cbdd999c30",
    "isPrintLuxDf": false,
    "isPrintPandasDf": false,
    "isPrintView": false,
    "isPrintViewCollection": false,
    "order_count": 2,
    "time": "2020-07-14T09:32:12.429Z",
    "type": "completeCodeCell"
   },
   {
    "code": "view_with_year",
    "id": "658356472256432a8fcc2f7d6e28183a",
    "order_count": 3,
    "time": "2020-07-14T09:32:13.197Z",
    "type": "editCodeCell"
   },
   {
    "code": "view",
    "id": "658356472256432a8fcc2f7d6e28183a",
    "order_count": 3,
    "time": "2020-07-14T09:32:15.130Z",
    "type": "executeCodeCell"
   },
   {
    "code": "def test_view():\n    df = pd.read_csv(\"lux/data/olympic.csv\")\n    from lux.vis.Vis import Vis\n    view_with_year = Vis([\"Height\",\"SportType=Ball\"],df)\n    assert view_with_year.get_specs().attribute==\"Year\"\n\ndef test_view_collection_set_query():\n    df = pd.read_csv(\"lux/data/olympic.csv\")\n    from lux.vis.VisCollection import VisCollection\n    vc = VisCollection([\"Height\",\"SportType=Ice\",\"?\"],df)\n    vc.set_query([\"Height\",\"SportType=Boat\",\"?\"])\n    for v in vc.collection: \n        filter_vspec = list(filter(lambda x: x.channel==\"\",v.spec_lst))[0]\n        assert filter_vspec.value ==\"Boat\"",
    "id": "7adef8c2b6124923a0f97655c6bc7c76",
    "order_count": 4,
    "time": "2020-07-14T09:32:15.161Z",
    "type": "selectCodeCell"
   },
   {
    "code": "view",
    "id": "658356472256432a8fcc2f7d6e28183a",
    "isPrintLuxDf": false,
    "isPrintPandasDf": false,
    "isPrintView": false,
    "isPrintViewCollection": false,
    "order_count": 3,
    "time": "2020-07-14T09:32:15.187Z",
    "type": "completeCodeCell"
   },
   {
    "code": "df = pd.read_csv(\"lux/data/olympic.csv\")\nfrom lux.vis.Vis import Vis\nview = Vis([\"Height\",\"SportType=Ball\"],df)\nview.get_specs()",
    "id": "e93fcd571bf6419a8a7d39cbdd999c30",
    "order_count": 2,
    "time": "2020-07-14T09:32:16.678Z",
    "type": "selectCodeCell"
   },
   {
    "code": "df = pd.read_csv(\"lux/data/olympic.csv\")\nfrom lux.vis.Vis import Vis\nview = Vis([\"Height\",\"SportType=Ball\"],df)\nview.get_specs()",
    "id": "e93fcd571bf6419a8a7d39cbdd999c30",
    "order_count": 2,
    "time": "2020-07-14T09:32:17.952Z",
    "type": "executeCodeCell"
   },
   {
    "code": "view",
    "id": "658356472256432a8fcc2f7d6e28183a",
    "order_count": 3,
    "time": "2020-07-14T09:32:17.967Z",
    "type": "selectCodeCell"
   },
   {
    "code": "df = pd.read_csv(\"lux/data/olympic.csv\")\nfrom lux.vis.Vis import Vis\nview = Vis([\"Height\",\"SportType=Ball\"],df)\nview.get_specs()",
    "id": "e93fcd571bf6419a8a7d39cbdd999c30",
    "isPrintLuxDf": false,
    "isPrintPandasDf": false,
    "isPrintView": false,
    "isPrintViewCollection": false,
    "order_count": 2,
    "time": "2020-07-14T09:32:18.014Z",
    "type": "completeCodeCell"
   },
   {
    "code": "view",
    "id": "658356472256432a8fcc2f7d6e28183a",
    "order_count": 3,
    "time": "2020-07-14T09:32:18.241Z",
    "type": "executeCodeCell"
   },
   {
    "code": "def test_view():\n    df = pd.read_csv(\"lux/data/olympic.csv\")\n    from lux.vis.Vis import Vis\n    view_with_year = Vis([\"Height\",\"SportType=Ball\"],df)\n    assert view_with_year.get_specs().attribute==\"Year\"\n\ndef test_view_collection_set_query():\n    df = pd.read_csv(\"lux/data/olympic.csv\")\n    from lux.vis.VisCollection import VisCollection\n    vc = VisCollection([\"Height\",\"SportType=Ice\",\"?\"],df)\n    vc.set_query([\"Height\",\"SportType=Boat\",\"?\"])\n    for v in vc.collection: \n        filter_vspec = list(filter(lambda x: x.channel==\"\",v.spec_lst))[0]\n        assert filter_vspec.value ==\"Boat\"",
    "id": "7adef8c2b6124923a0f97655c6bc7c76",
    "order_count": 4,
    "time": "2020-07-14T09:32:18.262Z",
    "type": "selectCodeCell"
   },
   {
    "code": "view",
    "id": "658356472256432a8fcc2f7d6e28183a",
    "isPrintLuxDf": false,
    "isPrintPandasDf": false,
    "isPrintView": false,
    "isPrintViewCollection": false,
    "order_count": 3,
    "time": "2020-07-14T09:32:18.284Z",
    "type": "completeCodeCell"
   },
   {
    "code": "view",
    "id": "658356472256432a8fcc2f7d6e28183a",
    "order_count": 3,
    "time": "2020-07-14T09:33:07.759Z",
    "type": "selectCodeCell"
   },
   {
    "code": "",
    "id": "fc20673b259649bb96cd370f748cdb89",
    "order_count": 3,
    "time": "2020-07-14T09:33:07.919Z",
    "type": "selectCodeCell"
   },
   {
    "code": "",
    "id": "fc20673b259649bb96cd370f748cdb89",
    "order_count": 3,
    "time": "2020-07-14T09:33:08.323Z",
    "type": "editCodeCell"
   },
   {
    "code": "LuxDataFrame.current_view_to_JSON([self])",
    "id": "fc20673b259649bb96cd370f748cdb89",
    "order_count": 3,
    "time": "2020-07-14T09:33:19.736Z",
    "type": "editCodeCell"
   },
   {
    "code": "LuxDataFrame.current_view_to_JSON([self])",
    "id": "fc20673b259649bb96cd370f748cdb89",
    "order_count": 3,
    "time": "2020-07-14T09:33:20.779Z",
    "type": "selectCodeCell"
   },
   {
    "code": "LuxDataFrame.current_view_to_JSON([self])",
    "id": "fc20673b259649bb96cd370f748cdb89",
    "order_count": null,
    "time": "2020-07-14T09:33:21.135Z",
    "type": "deleteCodeCell"
   },
   {
    "code": "view",
    "id": "658356472256432a8fcc2f7d6e28183a",
    "order_count": 3,
    "time": "2020-07-14T09:33:21.594Z",
    "type": "selectCodeCell"
   },
   {
    "code": "view",
    "id": "658356472256432a8fcc2f7d6e28183a",
    "order_count": 3,
    "time": "2020-07-14T09:33:22.097Z",
    "type": "executeCodeCell"
   },
   {
    "code": "def test_view():\n    df = pd.read_csv(\"lux/data/olympic.csv\")\n    from lux.vis.Vis import Vis\n    view_with_year = Vis([\"Height\",\"SportType=Ball\"],df)\n    assert view_with_year.get_specs().attribute==\"Year\"\n\ndef test_view_collection_set_query():\n    df = pd.read_csv(\"lux/data/olympic.csv\")\n    from lux.vis.VisCollection import VisCollection\n    vc = VisCollection([\"Height\",\"SportType=Ice\",\"?\"],df)\n    vc.set_query([\"Height\",\"SportType=Boat\",\"?\"])\n    for v in vc.collection: \n        filter_vspec = list(filter(lambda x: x.channel==\"\",v.spec_lst))[0]\n        assert filter_vspec.value ==\"Boat\"",
    "id": "7adef8c2b6124923a0f97655c6bc7c76",
    "order_count": 4,
    "time": "2020-07-14T09:33:22.122Z",
    "type": "selectCodeCell"
   },
   {
    "code": "view",
    "id": "658356472256432a8fcc2f7d6e28183a",
    "isPrintLuxDf": false,
    "isPrintPandasDf": false,
    "isPrintView": false,
    "isPrintViewCollection": false,
    "order_count": 3,
    "time": "2020-07-14T09:33:22.145Z",
    "type": "completeCodeCell"
   },
   {
    "code": "df = pd.read_csv(\"lux/data/olympic.csv\")\nfrom lux.vis.Vis import Vis\nview = Vis([\"Height\",\"SportType=Ball\"],df)\nview.get_specs()",
    "id": "e93fcd571bf6419a8a7d39cbdd999c30",
    "order_count": 2,
    "time": "2020-07-14T09:33:24.656Z",
    "type": "selectCodeCell"
   },
   {
    "time": "2020-07-14T09:33:26.227Z",
    "type": "kernelRestart"
   },
   {
    "time": "2020-07-14T09:33:26.351Z",
    "type": "kernelRestart"
   },
   {
    "code": "import pandas as pd\nimport lux",
    "id": "53ac2deab3234be785d747df05424b1d",
    "order_count": 1,
    "time": "2020-07-14T09:33:26.718Z",
    "type": "selectCodeCell"
   },
   {
    "code": "cd ..",
    "id": "03cb8afcf347496f82e47f207e86b1e4",
    "order_count": 0,
    "time": "2020-07-14T09:33:26.869Z",
    "type": "selectCodeCell"
   },
   {
    "code": "cd ..",
    "id": "03cb8afcf347496f82e47f207e86b1e4",
    "order_count": 0,
    "time": "2020-07-14T09:33:27.296Z",
    "type": "executeCodeCell"
   },
   {
    "code": "import pandas as pd\nimport lux",
    "id": "53ac2deab3234be785d747df05424b1d",
    "order_count": 1,
    "time": "2020-07-14T09:33:27.306Z",
    "type": "selectCodeCell"
   },
   {
    "code": "import pandas as pd\nimport lux",
    "id": "53ac2deab3234be785d747df05424b1d",
    "order_count": 1,
    "time": "2020-07-14T09:33:27.440Z",
    "type": "executeCodeCell"
   },
   {
    "code": "df = pd.read_csv(\"lux/data/olympic.csv\")\nfrom lux.vis.Vis import Vis\nview = Vis([\"Height\",\"SportType=Ball\"],df)\nview.get_specs()",
    "id": "e93fcd571bf6419a8a7d39cbdd999c30",
    "order_count": 2,
    "time": "2020-07-14T09:33:27.452Z",
    "type": "selectCodeCell"
   },
   {
    "code": "df = pd.read_csv(\"lux/data/olympic.csv\")\nfrom lux.vis.Vis import Vis\nview = Vis([\"Height\",\"SportType=Ball\"],df)\nview.get_specs()",
    "id": "e93fcd571bf6419a8a7d39cbdd999c30",
    "order_count": 2,
    "time": "2020-07-14T09:33:27.584Z",
    "type": "executeCodeCell"
   },
   {
    "code": "view",
    "id": "658356472256432a8fcc2f7d6e28183a",
    "order_count": 3,
    "time": "2020-07-14T09:33:27.595Z",
    "type": "selectCodeCell"
   },
   {
    "code": "view",
    "id": "658356472256432a8fcc2f7d6e28183a",
    "order_count": 3,
    "time": "2020-07-14T09:33:27.834Z",
    "type": "executeCodeCell"
   },
   {
    "code": "def test_view():\n    df = pd.read_csv(\"lux/data/olympic.csv\")\n    from lux.vis.Vis import Vis\n    view_with_year = Vis([\"Height\",\"SportType=Ball\"],df)\n    assert view_with_year.get_specs().attribute==\"Year\"\n\ndef test_view_collection_set_query():\n    df = pd.read_csv(\"lux/data/olympic.csv\")\n    from lux.vis.VisCollection import VisCollection\n    vc = VisCollection([\"Height\",\"SportType=Ice\",\"?\"],df)\n    vc.set_query([\"Height\",\"SportType=Boat\",\"?\"])\n    for v in vc.collection: \n        filter_vspec = list(filter(lambda x: x.channel==\"\",v.spec_lst))[0]\n        assert filter_vspec.value ==\"Boat\"",
    "id": "7adef8c2b6124923a0f97655c6bc7c76",
    "order_count": 4,
    "time": "2020-07-14T09:33:27.854Z",
    "type": "selectCodeCell"
   },
   {
    "code": "cd ..",
    "id": "03cb8afcf347496f82e47f207e86b1e4",
    "isPrintLuxDf": false,
    "isPrintPandasDf": false,
    "isPrintView": false,
    "isPrintViewCollection": false,
    "order_count": 0,
    "time": "2020-07-14T09:33:27.911Z",
    "type": "completeCodeCell"
   },
   {
    "time": "2020-07-14T09:33:27.914Z",
    "type": "kernelReady"
   },
   {
    "time": "2020-07-14T09:33:27.918Z",
    "type": "kernelReady"
   },
   {
    "code": "import pandas as pd\nimport lux",
    "id": "53ac2deab3234be785d747df05424b1d",
    "isPrintLuxDf": false,
    "isPrintPandasDf": false,
    "isPrintView": false,
    "isPrintViewCollection": false,
    "order_count": 1,
    "time": "2020-07-14T09:33:28.221Z",
    "type": "completeCodeCell"
   },
   {
    "code": "df = pd.read_csv(\"lux/data/olympic.csv\")\nfrom lux.vis.Vis import Vis\nview = Vis([\"Height\",\"SportType=Ball\"],df)\nview.get_specs()",
    "id": "e93fcd571bf6419a8a7d39cbdd999c30",
    "isPrintLuxDf": false,
    "isPrintPandasDf": false,
    "isPrintView": false,
    "isPrintViewCollection": false,
    "order_count": 2,
    "time": "2020-07-14T09:33:28.279Z",
    "type": "completeCodeCell"
   },
   {
    "time": "2020-07-14T09:33:28.284Z",
    "type": "kernelReady"
   },
   {
    "code": "view",
    "id": "658356472256432a8fcc2f7d6e28183a",
    "isPrintLuxDf": false,
    "isPrintPandasDf": false,
    "isPrintView": false,
    "isPrintViewCollection": false,
    "order_count": 3,
    "time": "2020-07-14T09:33:28.337Z",
    "type": "completeCodeCell"
   },
   {
    "code": "view",
    "id": "658356472256432a8fcc2f7d6e28183a",
    "order_count": 3,
    "time": "2020-07-14T09:34:22.110Z",
    "type": "selectCodeCell"
   },
   {
    "time": "2020-07-14T09:34:24.247Z",
    "type": "kernelRestart"
   },
   {
    "time": "2020-07-14T09:34:24.376Z",
    "type": "kernelRestart"
   },
   {
    "code": "df = pd.read_csv(\"lux/data/olympic.csv\")\nfrom lux.vis.Vis import Vis\nview = Vis([\"Height\",\"SportType=Ball\"],df)\nview.get_specs()",
    "id": "e93fcd571bf6419a8a7d39cbdd999c30",
    "order_count": 2,
    "time": "2020-07-14T09:34:24.862Z",
    "type": "selectCodeCell"
   },
   {
    "code": "import pandas as pd\nimport lux",
    "id": "53ac2deab3234be785d747df05424b1d",
    "order_count": 1,
    "time": "2020-07-14T09:34:24.983Z",
    "type": "selectCodeCell"
   },
   {
    "code": "cd ..",
    "id": "03cb8afcf347496f82e47f207e86b1e4",
    "order_count": 0,
    "time": "2020-07-14T09:34:25.118Z",
    "type": "selectCodeCell"
   },
   {
    "code": "cd ..",
    "id": "03cb8afcf347496f82e47f207e86b1e4",
    "order_count": 0,
    "time": "2020-07-14T09:34:25.601Z",
    "type": "executeCodeCell"
   },
   {
    "code": "import pandas as pd\nimport lux",
    "id": "53ac2deab3234be785d747df05424b1d",
    "order_count": 1,
    "time": "2020-07-14T09:34:25.611Z",
    "type": "selectCodeCell"
   },
   {
    "code": "import pandas as pd\nimport lux",
    "id": "53ac2deab3234be785d747df05424b1d",
    "order_count": 1,
    "time": "2020-07-14T09:34:25.761Z",
    "type": "executeCodeCell"
   },
   {
    "code": "df = pd.read_csv(\"lux/data/olympic.csv\")\nfrom lux.vis.Vis import Vis\nview = Vis([\"Height\",\"SportType=Ball\"],df)\nview.get_specs()",
    "id": "e93fcd571bf6419a8a7d39cbdd999c30",
    "order_count": 2,
    "time": "2020-07-14T09:34:25.773Z",
    "type": "selectCodeCell"
   },
   {
    "time": "2020-07-14T09:34:25.791Z",
    "type": "kernelReady"
   },
   {
    "time": "2020-07-14T09:34:25.794Z",
    "type": "kernelReady"
   },
   {
    "code": "cd ..",
    "id": "03cb8afcf347496f82e47f207e86b1e4",
    "isPrintLuxDf": false,
    "isPrintPandasDf": false,
    "isPrintView": false,
    "isPrintViewCollection": false,
    "order_count": 0,
    "time": "2020-07-14T09:34:25.797Z",
    "type": "completeCodeCell"
   },
   {
    "code": "df = pd.read_csv(\"lux/data/olympic.csv\")\nfrom lux.vis.Vis import Vis\nview = Vis([\"Height\",\"SportType=Ball\"],df)\nview.get_specs()",
    "id": "e93fcd571bf6419a8a7d39cbdd999c30",
    "order_count": 2,
    "time": "2020-07-14T09:34:25.896Z",
    "type": "executeCodeCell"
   },
   {
    "code": "view",
    "id": "658356472256432a8fcc2f7d6e28183a",
    "order_count": 3,
    "time": "2020-07-14T09:34:25.906Z",
    "type": "selectCodeCell"
   },
   {
    "code": "view",
    "id": "658356472256432a8fcc2f7d6e28183a",
    "order_count": 3,
    "time": "2020-07-14T09:34:26.041Z",
    "type": "executeCodeCell"
   },
   {
    "code": "def test_view():\n    df = pd.read_csv(\"lux/data/olympic.csv\")\n    from lux.vis.Vis import Vis\n    view_with_year = Vis([\"Height\",\"SportType=Ball\"],df)\n    assert view_with_year.get_specs().attribute==\"Year\"\n\ndef test_view_collection_set_query():\n    df = pd.read_csv(\"lux/data/olympic.csv\")\n    from lux.vis.VisCollection import VisCollection\n    vc = VisCollection([\"Height\",\"SportType=Ice\",\"?\"],df)\n    vc.set_query([\"Height\",\"SportType=Boat\",\"?\"])\n    for v in vc.collection: \n        filter_vspec = list(filter(lambda x: x.channel==\"\",v.spec_lst))[0]\n        assert filter_vspec.value ==\"Boat\"",
    "id": "7adef8c2b6124923a0f97655c6bc7c76",
    "order_count": 4,
    "time": "2020-07-14T09:34:26.058Z",
    "type": "selectCodeCell"
   },
   {
    "code": "import pandas as pd\nimport lux",
    "id": "53ac2deab3234be785d747df05424b1d",
    "isPrintLuxDf": false,
    "isPrintPandasDf": false,
    "isPrintView": false,
    "isPrintViewCollection": false,
    "order_count": 1,
    "time": "2020-07-14T09:34:26.158Z",
    "type": "completeCodeCell"
   },
   {
    "time": "2020-07-14T09:34:26.161Z",
    "type": "kernelReady"
   },
   {
    "code": "df = pd.read_csv(\"lux/data/olympic.csv\")\nfrom lux.vis.Vis import Vis\nview = Vis([\"Height\",\"SportType=Ball\"],df)\nview.get_specs()",
    "id": "e93fcd571bf6419a8a7d39cbdd999c30",
    "isPrintLuxDf": false,
    "isPrintPandasDf": false,
    "isPrintView": false,
    "isPrintViewCollection": false,
    "order_count": 2,
    "time": "2020-07-14T09:34:26.210Z",
    "type": "completeCodeCell"
   },
   {
    "code": "view",
    "id": "658356472256432a8fcc2f7d6e28183a",
    "isPrintLuxDf": false,
    "isPrintPandasDf": false,
    "isPrintView": false,
    "isPrintViewCollection": false,
    "order_count": 3,
    "time": "2020-07-14T09:34:26.262Z",
    "type": "completeCodeCell"
   },
   {
    "code": "view",
    "id": "658356472256432a8fcc2f7d6e28183a",
    "order_count": 3,
    "time": "2020-07-14T09:34:35.989Z",
    "type": "selectCodeCell"
   },
   {
    "time": "2020-07-14T09:34:37.434Z",
    "type": "kernelRestart"
   },
   {
    "code": "df = pd.read_csv(\"lux/data/olympic.csv\")\nfrom lux.vis.Vis import Vis\nview = Vis([\"Height\",\"SportType=Ball\"],df)\nview.get_specs()",
    "id": "e93fcd571bf6419a8a7d39cbdd999c30",
    "order_count": 2,
    "time": "2020-07-14T09:34:37.916Z",
    "type": "selectCodeCell"
   },
   {
    "code": "import pandas as pd\nimport lux",
    "id": "53ac2deab3234be785d747df05424b1d",
    "order_count": 1,
    "time": "2020-07-14T09:34:38.064Z",
    "type": "selectCodeCell"
   },
   {
    "code": "cd ..",
    "id": "03cb8afcf347496f82e47f207e86b1e4",
    "order_count": 0,
    "time": "2020-07-14T09:34:38.190Z",
    "type": "selectCodeCell"
   },
   {
    "time": "2020-07-14T09:34:38.273Z",
    "type": "kernelReady"
   },
   {
    "code": "cd ..",
    "id": "03cb8afcf347496f82e47f207e86b1e4",
    "order_count": 0,
    "time": "2020-07-14T09:34:38.665Z",
    "type": "executeCodeCell"
   },
   {
    "code": "import pandas as pd\nimport lux",
    "id": "53ac2deab3234be785d747df05424b1d",
    "order_count": 1,
    "time": "2020-07-14T09:34:38.675Z",
    "type": "selectCodeCell"
   },
   {
    "code": "cd ..",
    "id": "03cb8afcf347496f82e47f207e86b1e4",
    "isPrintLuxDf": false,
    "isPrintPandasDf": false,
    "isPrintView": false,
    "isPrintViewCollection": false,
    "order_count": 0,
    "time": "2020-07-14T09:34:38.681Z",
    "type": "completeCodeCell"
   },
   {
    "code": "import pandas as pd\nimport lux",
    "id": "53ac2deab3234be785d747df05424b1d",
    "order_count": 1,
    "time": "2020-07-14T09:34:38.808Z",
    "type": "executeCodeCell"
   },
   {
    "code": "df = pd.read_csv(\"lux/data/olympic.csv\")\nfrom lux.vis.Vis import Vis\nview = Vis([\"Height\",\"SportType=Ball\"],df)\nview.get_specs()",
    "id": "e93fcd571bf6419a8a7d39cbdd999c30",
    "order_count": 2,
    "time": "2020-07-14T09:34:38.818Z",
    "type": "selectCodeCell"
   },
   {
    "code": "df = pd.read_csv(\"lux/data/olympic.csv\")\nfrom lux.vis.Vis import Vis\nview = Vis([\"Height\",\"SportType=Ball\"],df)\nview.get_specs()",
    "id": "e93fcd571bf6419a8a7d39cbdd999c30",
    "order_count": 2,
    "time": "2020-07-14T09:34:38.929Z",
    "type": "executeCodeCell"
   },
   {
    "code": "view",
    "id": "658356472256432a8fcc2f7d6e28183a",
    "order_count": 3,
    "time": "2020-07-14T09:34:38.940Z",
    "type": "selectCodeCell"
   },
   {
    "code": "view",
    "id": "658356472256432a8fcc2f7d6e28183a",
    "order_count": 3,
    "time": "2020-07-14T09:34:39.073Z",
    "type": "executeCodeCell"
   },
   {
    "code": "def test_view():\n    df = pd.read_csv(\"lux/data/olympic.csv\")\n    from lux.vis.Vis import Vis\n    view_with_year = Vis([\"Height\",\"SportType=Ball\"],df)\n    assert view_with_year.get_specs().attribute==\"Year\"\n\ndef test_view_collection_set_query():\n    df = pd.read_csv(\"lux/data/olympic.csv\")\n    from lux.vis.VisCollection import VisCollection\n    vc = VisCollection([\"Height\",\"SportType=Ice\",\"?\"],df)\n    vc.set_query([\"Height\",\"SportType=Boat\",\"?\"])\n    for v in vc.collection: \n        filter_vspec = list(filter(lambda x: x.channel==\"\",v.spec_lst))[0]\n        assert filter_vspec.value ==\"Boat\"",
    "id": "7adef8c2b6124923a0f97655c6bc7c76",
    "order_count": 4,
    "time": "2020-07-14T09:34:39.090Z",
    "type": "selectCodeCell"
   },
   {
    "code": "import pandas as pd\nimport lux",
    "id": "53ac2deab3234be785d747df05424b1d",
    "isPrintLuxDf": false,
    "isPrintPandasDf": false,
    "isPrintView": false,
    "isPrintViewCollection": false,
    "order_count": 1,
    "time": "2020-07-14T09:34:39.154Z",
    "type": "completeCodeCell"
   },
   {
    "code": "df = pd.read_csv(\"lux/data/olympic.csv\")\nfrom lux.vis.Vis import Vis\nview = Vis([\"Height\",\"SportType=Ball\"],df)\nview.get_specs()",
    "id": "e93fcd571bf6419a8a7d39cbdd999c30",
    "isPrintLuxDf": false,
    "isPrintPandasDf": false,
    "isPrintView": false,
    "isPrintViewCollection": false,
    "order_count": 2,
    "time": "2020-07-14T09:34:39.217Z",
    "type": "completeCodeCell"
   },
   {
    "code": "view",
    "id": "658356472256432a8fcc2f7d6e28183a",
    "isPrintLuxDf": false,
    "isPrintPandasDf": false,
    "isPrintView": false,
    "isPrintViewCollection": false,
    "order_count": 3,
    "time": "2020-07-14T09:34:39.283Z",
    "type": "completeCodeCell"
   },
   {
    "code": "view",
    "id": "658356472256432a8fcc2f7d6e28183a",
    "order_count": 3,
    "time": "2020-07-14T09:35:01.827Z",
    "type": "selectCodeCell"
   },
   {
    "code": "view",
    "id": "658356472256432a8fcc2f7d6e28183a",
    "order_count": 3,
    "time": "2020-07-14T09:35:01.833Z",
    "type": "editCodeCell"
   },
   {
    "code": "view",
    "id": "658356472256432a8fcc2f7d6e28183a",
    "order_count": 3,
    "time": "2020-07-14T09:35:03.934Z",
    "type": "executeCodeCell"
   },
   {
    "code": "def test_view():\n    df = pd.read_csv(\"lux/data/olympic.csv\")\n    from lux.vis.Vis import Vis\n    view_with_year = Vis([\"Height\",\"SportType=Ball\"],df)\n    assert view_with_year.get_specs().attribute==\"Year\"\n\ndef test_view_collection_set_query():\n    df = pd.read_csv(\"lux/data/olympic.csv\")\n    from lux.vis.VisCollection import VisCollection\n    vc = VisCollection([\"Height\",\"SportType=Ice\",\"?\"],df)\n    vc.set_query([\"Height\",\"SportType=Boat\",\"?\"])\n    for v in vc.collection: \n        filter_vspec = list(filter(lambda x: x.channel==\"\",v.spec_lst))[0]\n        assert filter_vspec.value ==\"Boat\"",
    "id": "7adef8c2b6124923a0f97655c6bc7c76",
    "order_count": 4,
    "time": "2020-07-14T09:35:03.962Z",
    "type": "selectCodeCell"
   },
   {
    "code": "view",
    "id": "658356472256432a8fcc2f7d6e28183a",
    "isPrintLuxDf": false,
    "isPrintPandasDf": false,
    "isPrintView": false,
    "isPrintViewCollection": false,
    "order_count": 3,
    "time": "2020-07-14T09:35:03.981Z",
    "type": "completeCodeCell"
   },
   {
    "code": "view",
    "id": "658356472256432a8fcc2f7d6e28183a",
    "order_count": 3,
    "time": "2020-07-14T09:35:04.443Z",
    "type": "selectCodeCell"
   },
   {
    "code": "view",
    "id": "658356472256432a8fcc2f7d6e28183a",
    "order_count": 3,
    "time": "2020-07-14T09:35:04.644Z",
    "type": "editCodeCell"
   },
   {
    "code": "view.render_VSpec()",
    "id": "658356472256432a8fcc2f7d6e28183a",
    "order_count": 3,
    "time": "2020-07-14T09:35:08.566Z",
    "type": "executeCodeCell"
   },
   {
    "code": "def test_view():\n    df = pd.read_csv(\"lux/data/olympic.csv\")\n    from lux.vis.Vis import Vis\n    view_with_year = Vis([\"Height\",\"SportType=Ball\"],df)\n    assert view_with_year.get_specs().attribute==\"Year\"\n\ndef test_view_collection_set_query():\n    df = pd.read_csv(\"lux/data/olympic.csv\")\n    from lux.vis.VisCollection import VisCollection\n    vc = VisCollection([\"Height\",\"SportType=Ice\",\"?\"],df)\n    vc.set_query([\"Height\",\"SportType=Boat\",\"?\"])\n    for v in vc.collection: \n        filter_vspec = list(filter(lambda x: x.channel==\"\",v.spec_lst))[0]\n        assert filter_vspec.value ==\"Boat\"",
    "id": "7adef8c2b6124923a0f97655c6bc7c76",
    "order_count": 4,
    "time": "2020-07-14T09:35:08.595Z",
    "type": "selectCodeCell"
   },
   {
    "code": "view.render_VSpec()",
    "id": "658356472256432a8fcc2f7d6e28183a",
    "isPrintLuxDf": false,
    "isPrintPandasDf": false,
    "isPrintView": false,
    "isPrintViewCollection": false,
    "order_count": 3,
    "time": "2020-07-14T09:35:08.602Z",
    "type": "completeCodeCell"
   },
   {
    "code": "view.render_VSpec()",
    "id": "658356472256432a8fcc2f7d6e28183a",
    "order_count": 3,
    "time": "2020-07-14T09:35:09.854Z",
    "type": "selectCodeCell"
   },
   {
    "code": "def test_view():\n    df = pd.read_csv(\"lux/data/olympic.csv\")\n    from lux.vis.Vis import Vis\n    view_with_year = Vis([\"Height\",\"SportType=Ball\"],df)\n    assert view_with_year.get_specs().attribute==\"Year\"\n\ndef test_view_collection_set_query():\n    df = pd.read_csv(\"lux/data/olympic.csv\")\n    from lux.vis.VisCollection import VisCollection\n    vc = VisCollection([\"Height\",\"SportType=Ice\",\"?\"],df)\n    vc.set_query([\"Height\",\"SportType=Boat\",\"?\"])\n    for v in vc.collection: \n        filter_vspec = list(filter(lambda x: x.channel==\"\",v.spec_lst))[0]\n        assert filter_vspec.value ==\"Boat\"",
    "id": "7adef8c2b6124923a0f97655c6bc7c76",
    "order_count": 4,
    "time": "2020-07-14T09:36:06.706Z",
    "type": "selectCodeCell"
   },
   {
    "code": "def test_view():\n    df = pd.read_csv(\"lux/data/olympic.csv\")\n    from lux.vis.Vis import Vis\n    view_with_year = Vis([\"Height\",\"SportType=Ball\"],df)\n    assert view_with_year.get_specs().attribute==\"Year\"\n\ndef test_view_collection_set_query():\n    df = pd.read_csv(\"lux/data/olympic.csv\")\n    from lux.vis.VisCollection import VisCollection\n    vc = VisCollection([\"Height\",\"SportType=Ice\",\"?\"],df)\n    vc.set_query([\"Height\",\"SportType=Boat\",\"?\"])\n    for v in vc.collection: \n        filter_vspec = list(filter(lambda x: x.channel==\"\",v.spec_lst))[0]\n        assert filter_vspec.value ==\"Boat\"",
    "id": "7adef8c2b6124923a0f97655c6bc7c76",
    "order_count": 4,
    "time": "2020-07-14T09:36:06.716Z",
    "type": "editCodeCell"
   },
   {
    "code": "view.render_VSpec()",
    "id": "658356472256432a8fcc2f7d6e28183a",
    "order_count": 3,
    "time": "2020-07-14T09:36:08.349Z",
    "type": "selectCodeCell"
   },
   {
    "code": "view.render_VSpec()",
    "id": "658356472256432a8fcc2f7d6e28183a",
    "order_count": 3,
    "time": "2020-07-14T09:36:08.353Z",
    "type": "editCodeCell"
   },
   {
    "code": "view.render_VSpec()",
    "id": "658356472256432a8fcc2f7d6e28183a",
    "order_count": 3,
    "time": "2020-07-14T09:36:08.441Z",
    "type": "selectCodeCell"
   },
   {
    "code": "view.render_VSpec()",
    "id": "658356472256432a8fcc2f7d6e28183a",
    "order_count": 3,
    "time": "2020-07-14T09:36:11.747Z",
    "type": "editCodeCell"
   },
   {
    "code": "view.render_VSpec()",
    "id": "658356472256432a8fcc2f7d6e28183a",
    "order_count": 3,
    "time": "2020-07-14T09:36:14.108Z",
    "type": "editCodeCell"
   },
   {
    "code": "df = pd.read_csv(\"lux/data/olympic.csv\")\nfrom lux.vis.Vis import Vis\nview = Vis([\"Height\",\"SportType=Ball\"],df)\nview.get_specs()",
    "id": "e93fcd571bf6419a8a7d39cbdd999c30",
    "order_count": 2,
    "time": "2020-07-14T09:36:15.563Z",
    "type": "selectCodeCell"
   },
   {
    "time": "2020-07-14T09:36:17.647Z",
    "type": "kernelRestart"
   },
   {
    "time": "2020-07-14T09:36:17.795Z",
    "type": "kernelRestart"
   },
   {
    "code": "import pandas as pd\nimport lux",
    "id": "53ac2deab3234be785d747df05424b1d",
    "order_count": 1,
    "time": "2020-07-14T09:36:18.250Z",
    "type": "selectCodeCell"
   },
   {
    "code": "cd ..",
    "id": "03cb8afcf347496f82e47f207e86b1e4",
    "order_count": 0,
    "time": "2020-07-14T09:36:18.458Z",
    "type": "selectCodeCell"
   },
   {
    "time": "2020-07-14T09:36:19.187Z",
    "type": "kernelReady"
   },
   {
    "time": "2020-07-14T09:36:19.191Z",
    "type": "kernelReady"
   },
   {
    "time": "2020-07-14T09:36:19.202Z",
    "type": "kernelReady"
   },
   {
    "code": "cd ..",
    "id": "03cb8afcf347496f82e47f207e86b1e4",
    "order_count": 0,
    "time": "2020-07-14T09:36:19.494Z",
    "type": "executeCodeCell"
   },
   {
    "code": "import pandas as pd\nimport lux",
    "id": "53ac2deab3234be785d747df05424b1d",
    "order_count": 1,
    "time": "2020-07-14T09:36:19.505Z",
    "type": "selectCodeCell"
   },
   {
    "code": "cd ..",
    "id": "03cb8afcf347496f82e47f207e86b1e4",
    "isPrintLuxDf": false,
    "isPrintPandasDf": false,
    "isPrintView": false,
    "isPrintViewCollection": false,
    "order_count": 0,
    "time": "2020-07-14T09:36:19.512Z",
    "type": "completeCodeCell"
   },
   {
    "code": "import pandas as pd\nimport lux",
    "id": "53ac2deab3234be785d747df05424b1d",
    "order_count": 1,
    "time": "2020-07-14T09:36:19.855Z",
    "type": "executeCodeCell"
   },
   {
    "code": "df = pd.read_csv(\"lux/data/olympic.csv\")\nfrom lux.vis.Vis import Vis\nview = Vis([\"Height\",\"SportType=Ball\"],df)\nview.get_specs()",
    "id": "e93fcd571bf6419a8a7d39cbdd999c30",
    "order_count": 2,
    "time": "2020-07-14T09:36:19.868Z",
    "type": "selectCodeCell"
   },
   {
    "code": "df = pd.read_csv(\"lux/data/olympic.csv\")\nfrom lux.vis.Vis import Vis\nview = Vis([\"Height\",\"SportType=Ball\"],df)\nview.get_specs()",
    "id": "e93fcd571bf6419a8a7d39cbdd999c30",
    "order_count": 2,
    "time": "2020-07-14T09:36:20.115Z",
    "type": "executeCodeCell"
   },
   {
    "code": "view.render_VSpec()",
    "id": "658356472256432a8fcc2f7d6e28183a",
    "order_count": 3,
    "time": "2020-07-14T09:36:20.123Z",
    "type": "selectCodeCell"
   },
   {
    "code": "import pandas as pd\nimport lux",
    "id": "53ac2deab3234be785d747df05424b1d",
    "isPrintLuxDf": false,
    "isPrintPandasDf": false,
    "isPrintView": false,
    "isPrintViewCollection": false,
    "order_count": 1,
    "time": "2020-07-14T09:36:20.189Z",
    "type": "completeCodeCell"
   },
   {
    "code": "df = pd.read_csv(\"lux/data/olympic.csv\")\nfrom lux.vis.Vis import Vis\nview = Vis([\"Height\",\"SportType=Ball\"],df)\nview.get_specs()",
    "id": "e93fcd571bf6419a8a7d39cbdd999c30",
    "isPrintLuxDf": false,
    "isPrintPandasDf": false,
    "isPrintView": false,
    "isPrintViewCollection": false,
    "order_count": 2,
    "time": "2020-07-14T09:36:20.243Z",
    "type": "completeCodeCell"
   },
   {
    "code": "view.render_VSpec()",
    "id": "658356472256432a8fcc2f7d6e28183a",
    "order_count": 3,
    "time": "2020-07-14T09:36:20.749Z",
    "type": "executeCodeCell"
   },
   {
    "code": "def test_view():\n    df = pd.read_csv(\"lux/data/olympic.csv\")\n    from lux.vis.Vis import Vis\n    view_with_year = Vis([\"Height\",\"SportType=Ball\"],df)\n    assert view_with_year.get_specs().attribute==\"Year\"\n\ndef test_view_collection_set_query():\n    df = pd.read_csv(\"lux/data/olympic.csv\")\n    from lux.vis.VisCollection import VisCollection\n    vc = VisCollection([\"Height\",\"SportType=Ice\",\"?\"],df)\n    vc.set_query([\"Height\",\"SportType=Boat\",\"?\"])\n    for v in vc.collection: \n        filter_vspec = list(filter(lambda x: x.channel==\"\",v.spec_lst))[0]\n        assert filter_vspec.value ==\"Boat\"",
    "id": "7adef8c2b6124923a0f97655c6bc7c76",
    "order_count": 4,
    "time": "2020-07-14T09:36:20.769Z",
    "type": "selectCodeCell"
   },
   {
    "code": "view.render_VSpec()",
    "id": "658356472256432a8fcc2f7d6e28183a",
    "isPrintLuxDf": false,
    "isPrintPandasDf": false,
    "isPrintView": false,
    "isPrintViewCollection": false,
    "order_count": 3,
    "time": "2020-07-14T09:36:20.774Z",
    "type": "completeCodeCell"
   },
   {
    "code": "view.render_VSpec()",
    "id": "658356472256432a8fcc2f7d6e28183a",
    "order_count": 3,
    "time": "2020-07-14T09:36:21.985Z",
    "type": "selectCodeCell"
   },
   {
    "code": "view.render_VSpec()",
    "id": "658356472256432a8fcc2f7d6e28183a",
    "order_count": 3,
    "time": "2020-07-14T09:36:22.767Z",
    "type": "editCodeCell"
   },
   {
    "code": "df = pd.read_csv(\"lux/data/olympic.csv\")\nfrom lux.vis.Vis import Vis\nview = Vis([\"Height\",\"SportType=Ball\"],df)\nview.get_specs()",
    "id": "e93fcd571bf6419a8a7d39cbdd999c30",
    "order_count": 2,
    "time": "2020-07-14T09:37:18.464Z",
    "type": "selectCodeCell"
   },
   {
    "time": "2020-07-14T09:37:19.766Z",
    "type": "kernelRestart"
   },
   {
    "time": "2020-07-14T09:37:19.892Z",
    "type": "kernelRestart"
   },
   {
    "code": "import pandas as pd\nimport lux",
    "id": "53ac2deab3234be785d747df05424b1d",
    "order_count": 1,
    "time": "2020-07-14T09:37:20.349Z",
    "type": "selectCodeCell"
   },
   {
    "code": "cd ..",
    "id": "03cb8afcf347496f82e47f207e86b1e4",
    "order_count": 0,
    "time": "2020-07-14T09:37:20.493Z",
    "type": "selectCodeCell"
   },
   {
    "code": "cd ..",
    "id": "03cb8afcf347496f82e47f207e86b1e4",
    "order_count": 0,
    "time": "2020-07-14T09:37:20.909Z",
    "type": "executeCodeCell"
   },
   {
    "code": "import pandas as pd\nimport lux",
    "id": "53ac2deab3234be785d747df05424b1d",
    "order_count": 1,
    "time": "2020-07-14T09:37:20.917Z",
    "type": "selectCodeCell"
   },
   {
    "code": "import pandas as pd\nimport lux",
    "id": "53ac2deab3234be785d747df05424b1d",
    "order_count": 1,
    "time": "2020-07-14T09:37:21.069Z",
    "type": "executeCodeCell"
   },
   {
    "code": "df = pd.read_csv(\"lux/data/olympic.csv\")\nfrom lux.vis.Vis import Vis\nview = Vis([\"Height\",\"SportType=Ball\"],df)\nview.get_specs()",
    "id": "e93fcd571bf6419a8a7d39cbdd999c30",
    "order_count": 2,
    "time": "2020-07-14T09:37:21.080Z",
    "type": "selectCodeCell"
   },
   {
    "code": "df = pd.read_csv(\"lux/data/olympic.csv\")\nfrom lux.vis.Vis import Vis\nview = Vis([\"Height\",\"SportType=Ball\"],df)\nview.get_specs()",
    "id": "e93fcd571bf6419a8a7d39cbdd999c30",
    "order_count": 2,
    "time": "2020-07-14T09:37:21.213Z",
    "type": "executeCodeCell"
   },
   {
    "code": "view.render_VSpec()",
    "id": "658356472256432a8fcc2f7d6e28183a",
    "order_count": 3,
    "time": "2020-07-14T09:37:21.221Z",
    "type": "selectCodeCell"
   },
   {
    "time": "2020-07-14T09:37:21.251Z",
    "type": "kernelReady"
   },
   {
    "time": "2020-07-14T09:37:21.257Z",
    "type": "kernelReady"
   },
   {
    "code": "cd ..",
    "id": "03cb8afcf347496f82e47f207e86b1e4",
    "isPrintLuxDf": false,
    "isPrintPandasDf": false,
    "isPrintView": false,
    "isPrintViewCollection": false,
    "order_count": 0,
    "time": "2020-07-14T09:37:21.260Z",
    "type": "completeCodeCell"
   },
   {
    "code": "view.render_VSpec()",
    "id": "658356472256432a8fcc2f7d6e28183a",
    "order_count": 3,
    "time": "2020-07-14T09:37:21.437Z",
    "type": "executeCodeCell"
   },
   {
    "code": "def test_view():\n    df = pd.read_csv(\"lux/data/olympic.csv\")\n    from lux.vis.Vis import Vis\n    view_with_year = Vis([\"Height\",\"SportType=Ball\"],df)\n    assert view_with_year.get_specs().attribute==\"Year\"\n\ndef test_view_collection_set_query():\n    df = pd.read_csv(\"lux/data/olympic.csv\")\n    from lux.vis.VisCollection import VisCollection\n    vc = VisCollection([\"Height\",\"SportType=Ice\",\"?\"],df)\n    vc.set_query([\"Height\",\"SportType=Boat\",\"?\"])\n    for v in vc.collection: \n        filter_vspec = list(filter(lambda x: x.channel==\"\",v.spec_lst))[0]\n        assert filter_vspec.value ==\"Boat\"",
    "id": "7adef8c2b6124923a0f97655c6bc7c76",
    "order_count": 4,
    "time": "2020-07-14T09:37:21.453Z",
    "type": "selectCodeCell"
   },
   {
    "code": "import pandas as pd\nimport lux",
    "id": "53ac2deab3234be785d747df05424b1d",
    "isPrintLuxDf": false,
    "isPrintPandasDf": false,
    "isPrintView": false,
    "isPrintViewCollection": false,
    "order_count": 1,
    "time": "2020-07-14T09:37:21.614Z",
    "type": "completeCodeCell"
   },
   {
    "time": "2020-07-14T09:37:21.621Z",
    "type": "kernelReady"
   },
   {
    "code": "df = pd.read_csv(\"lux/data/olympic.csv\")\nfrom lux.vis.Vis import Vis\nview = Vis([\"Height\",\"SportType=Ball\"],df)\nview.get_specs()",
    "id": "e93fcd571bf6419a8a7d39cbdd999c30",
    "isPrintLuxDf": false,
    "isPrintPandasDf": false,
    "isPrintView": false,
    "isPrintViewCollection": false,
    "order_count": 2,
    "time": "2020-07-14T09:37:21.691Z",
    "type": "completeCodeCell"
   },
   {
    "code": "view.render_VSpec()",
    "id": "658356472256432a8fcc2f7d6e28183a",
    "isPrintLuxDf": false,
    "isPrintPandasDf": false,
    "isPrintView": false,
    "isPrintViewCollection": false,
    "order_count": 3,
    "time": "2020-07-14T09:37:21.694Z",
    "type": "completeCodeCell"
   },
   {
    "code": "df = pd.read_csv(\"lux/data/olympic.csv\")\nfrom lux.vis.Vis import Vis\nview = Vis([\"Height\",\"SportType=Ball\"],df)\nview.get_specs()",
    "id": "e93fcd571bf6419a8a7d39cbdd999c30",
    "order_count": 2,
    "time": "2020-07-14T09:38:05.463Z",
    "type": "selectCodeCell"
   },
   {
    "code": "df = pd.read_csv(\"lux/data/olympic.csv\")\nfrom lux.vis.Vis import Vis\nview = Vis([\"Height\",\"SportType=Ball\"],df)\nview.get_specs()",
    "id": "e93fcd571bf6419a8a7d39cbdd999c30",
    "order_count": 2,
    "time": "2020-07-14T09:38:05.941Z",
    "type": "selectCodeCell"
   },
   {
    "code": "df = pd.read_csv(\"lux/data/olympic.csv\")\nfrom lux.vis.Vis import Vis\nview = Vis([\"Height\",\"SportType=Ball\"],df)\nview.get_specs()",
    "id": "e93fcd571bf6419a8a7d39cbdd999c30",
    "order_count": 2,
    "time": "2020-07-14T09:38:06.376Z",
    "type": "editCodeCell"
   },
   {
    "code": "df = pd.read_csv(\"lux/data/olympic.csv\")\nfrom lux.vis.Vis import Vis\nview = Vis([\"Height\",\"SportType=Ball\"],df)\nview\nview.get_specs()",
    "id": "e93fcd571bf6419a8a7d39cbdd999c30",
    "order_count": 2,
    "time": "2020-07-14T09:38:13.842Z",
    "type": "executeCodeCell"
   },
   {
    "code": "view.render_VSpec()",
    "id": "658356472256432a8fcc2f7d6e28183a",
    "order_count": 3,
    "time": "2020-07-14T09:38:13.861Z",
    "type": "selectCodeCell"
   },
   {
    "code": "df = pd.read_csv(\"lux/data/olympic.csv\")\nfrom lux.vis.Vis import Vis\nview = Vis([\"Height\",\"SportType=Ball\"],df)\nview\nview.get_specs()",
    "id": "e93fcd571bf6419a8a7d39cbdd999c30",
    "isPrintLuxDf": false,
    "isPrintPandasDf": false,
    "isPrintView": false,
    "isPrintViewCollection": false,
    "order_count": 2,
    "time": "2020-07-14T09:38:13.912Z",
    "type": "completeCodeCell"
   },
   {
    "code": "df = pd.read_csv(\"lux/data/olympic.csv\")\nfrom lux.vis.Vis import Vis\nview = Vis([\"Height\",\"SportType=Ball\"],df)\nview\nview.get_specs()",
    "id": "e93fcd571bf6419a8a7d39cbdd999c30",
    "order_count": 2,
    "time": "2020-07-14T09:38:14.692Z",
    "type": "selectCodeCell"
   },
   {
    "code": "df = pd.read_csv(\"lux/data/olympic.csv\")\nfrom lux.vis.Vis import Vis\nview = Vis([\"Height\",\"SportType=Ball\"],df)\nview\nview.get_specs()",
    "id": "e93fcd571bf6419a8a7d39cbdd999c30",
    "order_count": 2,
    "time": "2020-07-14T09:38:15.104Z",
    "type": "editCodeCell"
   },
   {
    "code": "df = pd.read_csv(\"lux/data/olympic.csv\")\nfrom lux.vis.Vis import Vis\nview = Vis([\"Height\",\"SportType=Ball\"],df)\nview",
    "id": "e93fcd571bf6419a8a7d39cbdd999c30",
    "order_count": 2,
    "time": "2020-07-14T09:38:16.953Z",
    "type": "executeCodeCell"
   },
   {
    "code": "view.render_VSpec()",
    "id": "658356472256432a8fcc2f7d6e28183a",
    "order_count": 3,
    "time": "2020-07-14T09:38:16.972Z",
    "type": "selectCodeCell"
   },
   {
    "code": "df = pd.read_csv(\"lux/data/olympic.csv\")\nfrom lux.vis.Vis import Vis\nview = Vis([\"Height\",\"SportType=Ball\"],df)\nview",
    "id": "e93fcd571bf6419a8a7d39cbdd999c30",
    "isPrintLuxDf": false,
    "isPrintPandasDf": false,
    "isPrintView": false,
    "isPrintViewCollection": false,
    "order_count": 2,
    "time": "2020-07-14T09:38:17.070Z",
    "type": "completeCodeCell"
   },
   {
    "code": "df = pd.read_csv(\"lux/data/olympic.csv\")\nfrom lux.vis.Vis import Vis\nview = Vis([\"Height\",\"SportType=Ball\"],df)\nview",
    "id": "e93fcd571bf6419a8a7d39cbdd999c30",
    "order_count": 2,
    "time": "2020-07-14T09:38:17.959Z",
    "type": "selectCodeCell"
   },
   {
    "code": "df = pd.read_csv(\"lux/data/olympic.csv\")\nfrom lux.vis.Vis import Vis\nview = Vis([\"Height\",\"SportType=Ball\"],df)\nview",
    "id": "e93fcd571bf6419a8a7d39cbdd999c30",
    "order_count": 2,
    "time": "2020-07-14T09:38:18.349Z",
    "type": "editCodeCell"
   },
   {
    "code": "df = pd.read_csv(\"lux/data/olympic.csv\")\nfrom lux.vis.Vis import Vis\nview = Vis([\"Height\",\"SportType=Ball\"],df)",
    "id": "e93fcd571bf6419a8a7d39cbdd999c30",
    "order_count": 2,
    "time": "2020-07-14T09:38:21.153Z",
    "type": "executeCodeCell"
   },
   {
    "code": "view.render_VSpec()",
    "id": "658356472256432a8fcc2f7d6e28183a",
    "order_count": 3,
    "time": "2020-07-14T09:38:21.172Z",
    "type": "selectCodeCell"
   },
   {
    "code": "df = pd.read_csv(\"lux/data/olympic.csv\")\nfrom lux.vis.Vis import Vis\nview = Vis([\"Height\",\"SportType=Ball\"],df)",
    "id": "e93fcd571bf6419a8a7d39cbdd999c30",
    "isPrintLuxDf": false,
    "isPrintPandasDf": false,
    "isPrintView": false,
    "isPrintViewCollection": false,
    "order_count": 2,
    "time": "2020-07-14T09:38:21.262Z",
    "type": "completeCodeCell"
   },
   {
    "code": "df = pd.read_csv(\"lux/data/olympic.csv\")\nfrom lux.vis.Vis import Vis\nview = Vis([\"Height\",\"SportType=Ball\"],df)",
    "id": "e93fcd571bf6419a8a7d39cbdd999c30",
    "order_count": 2,
    "time": "2020-07-14T09:38:27.144Z",
    "type": "selectCodeCell"
   },
   {
    "code": "df = pd.read_csv(\"lux/data/olympic.csv\")\nfrom lux.vis.Vis import Vis\nview = Vis([\"Height\",\"SportType=Ball\"],df)",
    "id": "e93fcd571bf6419a8a7d39cbdd999c30",
    "order_count": 2,
    "time": "2020-07-14T09:38:27.148Z",
    "type": "editCodeCell"
   },
   {
    "code": "df = pd.read_csv(\"lux/data/olympic.csv\")\nfrom lux.vis.Vis import Vis\nvis = Vis([\"Height\",\"SportType=Ball\"],df)\nvis",
    "id": "e93fcd571bf6419a8a7d39cbdd999c30",
    "order_count": 2,
    "time": "2020-07-14T09:38:31.914Z",
    "type": "executeCodeCell"
   },
   {
    "code": "view.render_VSpec()",
    "id": "658356472256432a8fcc2f7d6e28183a",
    "order_count": 3,
    "time": "2020-07-14T09:38:31.933Z",
    "type": "selectCodeCell"
   },
   {
    "code": "df = pd.read_csv(\"lux/data/olympic.csv\")\nfrom lux.vis.Vis import Vis\nvis = Vis([\"Height\",\"SportType=Ball\"],df)\nvis",
    "id": "e93fcd571bf6419a8a7d39cbdd999c30",
    "isPrintLuxDf": false,
    "isPrintPandasDf": false,
    "isPrintView": false,
    "isPrintViewCollection": false,
    "order_count": 2,
    "time": "2020-07-14T09:38:31.999Z",
    "type": "completeCodeCell"
   },
   {
    "code": "df = pd.read_csv(\"lux/data/olympic.csv\")\nfrom lux.vis.Vis import Vis\nvis = Vis([\"Height\",\"SportType=Ball\"],df)\nvis",
    "id": "e93fcd571bf6419a8a7d39cbdd999c30",
    "order_count": 2,
    "time": "2020-07-14T09:38:49.316Z",
    "type": "selectCodeCell"
   },
   {
    "code": "df = pd.read_csv(\"lux/data/olympic.csv\")\nfrom lux.vis.Vis import Vis\nvis = Vis([\"Height\",\"SportType=Ball\"],df)\nvis",
    "id": "e93fcd571bf6419a8a7d39cbdd999c30",
    "order_count": 2,
    "time": "2020-07-14T09:38:49.323Z",
    "type": "editCodeCell"
   },
   {
    "code": "df = pd.read_csv(\"lux/data/olympic.csv\")\nfrom lux.vis.Vis import Vis\nvis = Vis([\"Height\",\"SportType=Ball\"],df)\nvis.mark",
    "id": "e93fcd571bf6419a8a7d39cbdd999c30",
    "order_count": 2,
    "time": "2020-07-14T09:38:51.387Z",
    "type": "executeCodeCell"
   },
   {
    "code": "view.render_VSpec()",
    "id": "658356472256432a8fcc2f7d6e28183a",
    "order_count": 3,
    "time": "2020-07-14T09:38:51.405Z",
    "type": "selectCodeCell"
   },
   {
    "code": "df = pd.read_csv(\"lux/data/olympic.csv\")\nfrom lux.vis.Vis import Vis\nvis = Vis([\"Height\",\"SportType=Ball\"],df)\nvis.mark",
    "id": "e93fcd571bf6419a8a7d39cbdd999c30",
    "isPrintLuxDf": false,
    "isPrintPandasDf": false,
    "isPrintView": false,
    "isPrintViewCollection": false,
    "order_count": 2,
    "time": "2020-07-14T09:38:51.453Z",
    "type": "completeCodeCell"
   },
   {
    "code": "df = pd.read_csv(\"lux/data/olympic.csv\")\nfrom lux.vis.Vis import Vis\nvis = Vis([\"Height\",\"SportType=Ball\"],df)\nvis.mark",
    "id": "e93fcd571bf6419a8a7d39cbdd999c30",
    "order_count": 2,
    "time": "2020-07-14T09:38:52.085Z",
    "type": "selectCodeCell"
   },
   {
    "code": "def test_view():\n    df = pd.read_csv(\"lux/data/olympic.csv\")\n    from lux.vis.Vis import Vis\n    view_with_year = Vis([\"Height\",\"SportType=Ball\"],df)\n    assert view_with_year.get_specs().attribute==\"Year\"\n\ndef test_view_collection_set_query():\n    df = pd.read_csv(\"lux/data/olympic.csv\")\n    from lux.vis.VisCollection import VisCollection\n    vc = VisCollection([\"Height\",\"SportType=Ice\",\"?\"],df)\n    vc.set_query([\"Height\",\"SportType=Boat\",\"?\"])\n    for v in vc.collection: \n        filter_vspec = list(filter(lambda x: x.channel==\"\",v.spec_lst))[0]\n        assert filter_vspec.value ==\"Boat\"",
    "id": "7adef8c2b6124923a0f97655c6bc7c76",
    "order_count": 4,
    "time": "2020-07-14T09:39:21.843Z",
    "type": "selectCodeCell"
   },
   {
    "code": "def test_view():\n    df = pd.read_csv(\"lux/data/olympic.csv\")\n    from lux.vis.Vis import Vis\n    view_with_year = Vis([\"Height\",\"SportType=Ball\"],df)\n    assert view_with_year.get_specs().attribute==\"Year\"\n\ndef test_view_collection_set_query():\n    df = pd.read_csv(\"lux/data/olympic.csv\")\n    from lux.vis.VisCollection import VisCollection\n    vc = VisCollection([\"Height\",\"SportType=Ice\",\"?\"],df)\n    vc.set_query([\"Height\",\"SportType=Boat\",\"?\"])\n    for v in vc.collection: \n        filter_vspec = list(filter(lambda x: x.channel==\"\",v.spec_lst))[0]\n        assert filter_vspec.value ==\"Boat\"",
    "id": "7adef8c2b6124923a0f97655c6bc7c76",
    "order_count": 4,
    "time": "2020-07-14T09:39:21.851Z",
    "type": "editCodeCell"
   },
   {
    "time": "2020-07-14T09:39:23.448Z",
    "type": "kernelRestart"
   },
   {
    "time": "2020-07-14T09:39:23.719Z",
    "type": "kernelRestart"
   },
   {
    "time": "2020-07-14T09:39:24.941Z",
    "type": "kernelReady"
   },
   {
    "time": "2020-07-14T09:39:24.946Z",
    "type": "kernelReady"
   },
   {
    "time": "2020-07-14T09:39:25.057Z",
    "type": "kernelReady"
   },
   {
    "code": "def test_view():\n    df = pd.read_csv(\"lux/data/olympic.csv\")\n    from lux.vis.Vis import Vis\n    view_with_year = Vis([\"Height\",\"SportType=Ball\"],df)\n    assert view_with_year.get_specs().attribute==\"Year\"\n\ndef test_view_collection_set_query():\n    df = pd.read_csv(\"lux/data/olympic.csv\")\n    from lux.vis.VisCollection import VisCollection\n    vc = VisCollection([\"Height\",\"SportType=Ice\",\"?\"],df)\n    vc.set_query([\"Height\",\"SportType=Boat\",\"?\"])\n    for v in vc.collection: \n        filter_vspec = list(filter(lambda x: x.channel==\"\",v.spec_lst))[0]\n        assert filter_vspec.value ==\"Boat\"",
    "id": "7adef8c2b6124923a0f97655c6bc7c76",
    "order_count": 4,
    "time": "2020-07-14T09:39:33.924Z",
    "type": "editCodeCell"
   },
   {
    "code": "cd ..",
    "id": "03cb8afcf347496f82e47f207e86b1e4",
    "order_count": 0,
    "time": "2020-07-14T09:39:34.829Z",
    "type": "selectCodeCell"
   },
   {
    "time": "2020-07-14T09:39:36.224Z",
    "type": "kernelRestart"
   },
   {
    "time": "2020-07-14T09:39:36.311Z",
    "type": "kernelRestart"
   },
   {
    "code": "cd ..",
    "id": "03cb8afcf347496f82e47f207e86b1e4",
    "order_count": 0,
    "time": "2020-07-14T09:39:36.808Z",
    "type": "executeCodeCell"
   },
   {
    "code": "import pandas as pd\nimport lux",
    "id": "53ac2deab3234be785d747df05424b1d",
    "order_count": 1,
    "time": "2020-07-14T09:39:36.818Z",
    "type": "selectCodeCell"
   },
   {
    "code": "import pandas as pd\nimport lux",
    "id": "53ac2deab3234be785d747df05424b1d",
    "order_count": 1,
    "time": "2020-07-14T09:39:36.985Z",
    "type": "executeCodeCell"
   },
   {
    "code": "df = pd.read_csv(\"lux/data/olympic.csv\")\nfrom lux.vis.Vis import Vis\nvis = Vis([\"Height\",\"SportType=Ball\"],df)\nvis.mark",
    "id": "e93fcd571bf6419a8a7d39cbdd999c30",
    "order_count": 2,
    "time": "2020-07-14T09:39:36.998Z",
    "type": "selectCodeCell"
   },
   {
    "code": "df = pd.read_csv(\"lux/data/olympic.csv\")\nfrom lux.vis.Vis import Vis\nvis = Vis([\"Height\",\"SportType=Ball\"],df)\nvis.mark",
    "id": "e93fcd571bf6419a8a7d39cbdd999c30",
    "order_count": 2,
    "time": "2020-07-14T09:39:37.209Z",
    "type": "executeCodeCell"
   },
   {
    "code": "view.render_VSpec()",
    "id": "658356472256432a8fcc2f7d6e28183a",
    "order_count": 3,
    "time": "2020-07-14T09:39:37.219Z",
    "type": "selectCodeCell"
   },
   {
    "code": "view.render_VSpec()",
    "id": "658356472256432a8fcc2f7d6e28183a",
    "order_count": 3,
    "time": "2020-07-14T09:39:37.545Z",
    "type": "executeCodeCell"
   },
   {
    "code": "def test_view():\n    df = pd.read_csv(\"lux/data/olympic.csv\")\n    from lux.vis.Vis import Vis\n    view_with_year = Vis([\"Height\",\"SportType=Ball\"],df)\n    assert view_with_year.get_specs().attribute==\"Year\"\n\ndef test_view_collection_set_query():\n    df = pd.read_csv(\"lux/data/olympic.csv\")\n    from lux.vis.VisCollection import VisCollection\n    vc = VisCollection([\"Height\",\"SportType=Ice\",\"?\"],df)\n    vc.set_query([\"Height\",\"SportType=Boat\",\"?\"])\n    for v in vc.collection: \n        filter_vspec = list(filter(lambda x: x.channel==\"\",v.spec_lst))[0]\n        assert filter_vspec.value ==\"Boat\"",
    "id": "7adef8c2b6124923a0f97655c6bc7c76",
    "order_count": 4,
    "time": "2020-07-14T09:39:37.559Z",
    "type": "selectCodeCell"
   },
   {
    "code": "cd ..",
    "id": "03cb8afcf347496f82e47f207e86b1e4",
    "isPrintLuxDf": false,
    "isPrintPandasDf": false,
    "isPrintView": false,
    "isPrintViewCollection": false,
    "order_count": 0,
    "time": "2020-07-14T09:39:37.606Z",
    "type": "completeCodeCell"
   },
   {
    "code": "import pandas as pd\nimport lux",
    "id": "53ac2deab3234be785d747df05424b1d",
    "isPrintLuxDf": false,
    "isPrintPandasDf": false,
    "isPrintView": false,
    "isPrintViewCollection": false,
    "order_count": 1,
    "time": "2020-07-14T09:39:37.919Z",
    "type": "completeCodeCell"
   },
   {
    "time": "2020-07-14T09:39:37.923Z",
    "type": "kernelReady"
   },
   {
    "time": "2020-07-14T09:39:37.926Z",
    "type": "kernelReady"
   },
   {
    "code": "df = pd.read_csv(\"lux/data/olympic.csv\")\nfrom lux.vis.Vis import Vis\nvis = Vis([\"Height\",\"SportType=Ball\"],df)\nvis.mark",
    "id": "e93fcd571bf6419a8a7d39cbdd999c30",
    "isPrintLuxDf": false,
    "isPrintPandasDf": false,
    "isPrintView": false,
    "isPrintViewCollection": false,
    "order_count": 2,
    "time": "2020-07-14T09:39:37.976Z",
    "type": "completeCodeCell"
   },
   {
    "code": "view.render_VSpec()",
    "id": "658356472256432a8fcc2f7d6e28183a",
    "isPrintLuxDf": false,
    "isPrintPandasDf": false,
    "isPrintView": false,
    "isPrintViewCollection": false,
    "order_count": 3,
    "time": "2020-07-14T09:39:38.068Z",
    "type": "completeCodeCell"
   },
   {
    "time": "2020-07-14T09:39:38.071Z",
    "type": "kernelReady"
   },
   {
    "code": "view.render_VSpec()",
    "id": "658356472256432a8fcc2f7d6e28183a",
    "order_count": 3,
    "time": "2020-07-14T09:39:39.046Z",
    "type": "selectCodeCell"
   },
   {
    "code": "df = pd.read_csv(\"lux/data/olympic.csv\")\nfrom lux.vis.Vis import Vis\nvis = Vis([\"Height\",\"SportType=Ball\"],df)\nvis.mark",
    "id": "e93fcd571bf6419a8a7d39cbdd999c30",
    "order_count": 2,
    "time": "2020-07-14T09:39:39.247Z",
    "type": "selectCodeCell"
   },
   {
    "code": "view.render_VSpec()",
    "id": "658356472256432a8fcc2f7d6e28183a",
    "order_count": 3,
    "time": "2020-07-14T09:39:42.141Z",
    "type": "selectCodeCell"
   },
   {
    "code": "view.render_VSpec()",
    "id": "658356472256432a8fcc2f7d6e28183a",
    "order_count": 3,
    "time": "2020-07-14T09:39:42.502Z",
    "type": "editCodeCell"
   },
   {
    "code": "vis.render_VSpec()",
    "id": "658356472256432a8fcc2f7d6e28183a",
    "order_count": 3,
    "time": "2020-07-14T09:39:44.611Z",
    "type": "executeCodeCell"
   },
   {
    "code": "def test_view():\n    df = pd.read_csv(\"lux/data/olympic.csv\")\n    from lux.vis.Vis import Vis\n    view_with_year = Vis([\"Height\",\"SportType=Ball\"],df)\n    assert view_with_year.get_specs().attribute==\"Year\"\n\ndef test_view_collection_set_query():\n    df = pd.read_csv(\"lux/data/olympic.csv\")\n    from lux.vis.VisCollection import VisCollection\n    vc = VisCollection([\"Height\",\"SportType=Ice\",\"?\"],df)\n    vc.set_query([\"Height\",\"SportType=Boat\",\"?\"])\n    for v in vc.collection: \n        filter_vspec = list(filter(lambda x: x.channel==\"\",v.spec_lst))[0]\n        assert filter_vspec.value ==\"Boat\"",
    "id": "7adef8c2b6124923a0f97655c6bc7c76",
    "order_count": 4,
    "time": "2020-07-14T09:39:44.638Z",
    "type": "selectCodeCell"
   },
   {
    "code": "vis.render_VSpec()",
    "id": "658356472256432a8fcc2f7d6e28183a",
    "isPrintLuxDf": false,
    "isPrintPandasDf": false,
    "isPrintView": false,
    "isPrintViewCollection": false,
    "order_count": 3,
    "time": "2020-07-14T09:39:44.644Z",
    "type": "completeCodeCell"
   },
   {
    "code": "vis.render_VSpec()",
    "id": "658356472256432a8fcc2f7d6e28183a",
    "order_count": 3,
    "time": "2020-07-14T09:39:45.500Z",
    "type": "selectCodeCell"
   },
   {
    "code": "df = pd.read_csv(\"lux/data/olympic.csv\")\nfrom lux.vis.Vis import Vis\nvis = Vis([\"Height\",\"SportType=Ball\"],df)\nvis.mark",
    "id": "e93fcd571bf6419a8a7d39cbdd999c30",
    "order_count": 2,
    "time": "2020-07-14T09:39:45.756Z",
    "type": "selectCodeCell"
   },
   {
    "code": "vis.render_VSpec()",
    "id": "658356472256432a8fcc2f7d6e28183a",
    "order_count": 3,
    "time": "2020-07-14T09:39:46.287Z",
    "type": "selectCodeCell"
   },
   {
    "code": "",
    "id": "db392342ae9140e4bd7373646f9bd724",
    "order_count": 3,
    "time": "2020-07-14T09:39:46.918Z",
    "type": "selectCodeCell"
   },
   {
    "code": "",
    "id": "db392342ae9140e4bd7373646f9bd724",
    "order_count": 3,
    "time": "2020-07-14T09:39:47.004Z",
    "type": "editCodeCell"
   },
   {
    "code": "vis",
    "id": "db392342ae9140e4bd7373646f9bd724",
    "order_count": 3,
    "time": "2020-07-14T09:39:47.812Z",
    "type": "executeCodeCell"
   },
   {
    "code": "vis.render_VSpec()",
    "id": "658356472256432a8fcc2f7d6e28183a",
    "order_count": 4,
    "time": "2020-07-14T09:39:47.831Z",
    "type": "selectCodeCell"
   },
   {
    "code": "vis",
    "id": "db392342ae9140e4bd7373646f9bd724",
    "isPrintLuxDf": false,
    "isPrintPandasDf": false,
    "isPrintView": false,
    "isPrintViewCollection": false,
    "order_count": 3,
    "time": "2020-07-14T09:39:47.885Z",
    "type": "completeCodeCell"
   },
   {
    "code": "vis",
    "id": "db392342ae9140e4bd7373646f9bd724",
    "order_count": 3,
    "time": "2020-07-14T09:39:48.432Z",
    "type": "selectCodeCell"
   },
   {
    "code": "df = pd.read_csv(\"lux/data/olympic.csv\")\nfrom lux.vis.Vis import Vis\nvis = Vis([\"Height\",\"SportType=Ball\"],df)\nvis.mark",
    "id": "e93fcd571bf6419a8a7d39cbdd999c30",
    "order_count": 2,
    "time": "2020-07-14T09:39:48.631Z",
    "type": "selectCodeCell"
   },
   {
    "code": "import pandas as pd\nimport lux",
    "id": "53ac2deab3234be785d747df05424b1d",
    "order_count": 1,
    "time": "2020-07-14T09:39:48.972Z",
    "type": "selectCodeCell"
   },
   {
    "code": "cd ..",
    "id": "03cb8afcf347496f82e47f207e86b1e4",
    "order_count": 0,
    "time": "2020-07-14T09:39:49.315Z",
    "type": "selectCodeCell"
   },
   {
    "time": "2020-07-14T09:39:50.996Z",
    "type": "kernelRestart"
   },
   {
    "time": "2020-07-14T09:39:51.145Z",
    "type": "kernelRestart"
   },
   {
    "time": "2020-07-14T09:39:52.330Z",
    "type": "kernelReady"
   },
   {
    "time": "2020-07-14T09:39:52.343Z",
    "type": "kernelReady"
   },
   {
    "code": "cd ..",
    "id": "03cb8afcf347496f82e47f207e86b1e4",
    "order_count": 0,
    "time": "2020-07-14T09:39:52.516Z",
    "type": "executeCodeCell"
   },
   {
    "code": "import pandas as pd\nimport lux",
    "id": "53ac2deab3234be785d747df05424b1d",
    "order_count": 1,
    "time": "2020-07-14T09:39:52.527Z",
    "type": "selectCodeCell"
   },
   {
    "code": "cd ..",
    "id": "03cb8afcf347496f82e47f207e86b1e4",
    "isPrintLuxDf": false,
    "isPrintPandasDf": false,
    "isPrintView": false,
    "isPrintViewCollection": false,
    "order_count": 0,
    "time": "2020-07-14T09:39:52.534Z",
    "type": "completeCodeCell"
   },
   {
    "code": "import pandas as pd\nimport lux",
    "id": "53ac2deab3234be785d747df05424b1d",
    "order_count": 1,
    "time": "2020-07-14T09:39:52.714Z",
    "type": "executeCodeCell"
   },
   {
    "code": "df = pd.read_csv(\"lux/data/olympic.csv\")\nfrom lux.vis.Vis import Vis\nvis = Vis([\"Height\",\"SportType=Ball\"],df)\nvis.mark",
    "id": "e93fcd571bf6419a8a7d39cbdd999c30",
    "order_count": 2,
    "time": "2020-07-14T09:39:52.727Z",
    "type": "selectCodeCell"
   },
   {
    "code": "df = pd.read_csv(\"lux/data/olympic.csv\")\nfrom lux.vis.Vis import Vis\nvis = Vis([\"Height\",\"SportType=Ball\"],df)\nvis.mark",
    "id": "e93fcd571bf6419a8a7d39cbdd999c30",
    "order_count": 2,
    "time": "2020-07-14T09:39:52.920Z",
    "type": "executeCodeCell"
   },
   {
    "code": "vis",
    "id": "db392342ae9140e4bd7373646f9bd724",
    "order_count": 3,
    "time": "2020-07-14T09:39:52.932Z",
    "type": "selectCodeCell"
   },
   {
    "code": "import pandas as pd\nimport lux",
    "id": "53ac2deab3234be785d747df05424b1d",
    "isPrintLuxDf": false,
    "isPrintPandasDf": false,
    "isPrintView": false,
    "isPrintViewCollection": false,
    "order_count": 1,
    "time": "2020-07-14T09:39:53.055Z",
    "type": "completeCodeCell"
   },
   {
    "code": "df = pd.read_csv(\"lux/data/olympic.csv\")\nfrom lux.vis.Vis import Vis\nvis = Vis([\"Height\",\"SportType=Ball\"],df)\nvis.mark",
    "id": "e93fcd571bf6419a8a7d39cbdd999c30",
    "isPrintLuxDf": false,
    "isPrintPandasDf": false,
    "isPrintView": false,
    "isPrintViewCollection": false,
    "order_count": 2,
    "time": "2020-07-14T09:39:53.111Z",
    "type": "completeCodeCell"
   },
   {
    "code": "vis",
    "id": "db392342ae9140e4bd7373646f9bd724",
    "order_count": 3,
    "time": "2020-07-14T09:39:53.341Z",
    "type": "executeCodeCell"
   },
   {
    "code": "vis.render_VSpec()",
    "id": "658356472256432a8fcc2f7d6e28183a",
    "order_count": 4,
    "time": "2020-07-14T09:39:53.351Z",
    "type": "selectCodeCell"
   },
   {
    "code": "vis",
    "id": "db392342ae9140e4bd7373646f9bd724",
    "isPrintLuxDf": false,
    "isPrintPandasDf": false,
    "isPrintView": false,
    "isPrintViewCollection": false,
    "order_count": 3,
    "time": "2020-07-14T09:39:53.421Z",
    "type": "completeCodeCell"
   },
   {
    "code": "df = pd.read_csv(\"lux/data/olympic.csv\")\nfrom lux.vis.Vis import Vis\nvis = Vis([\"Height\",\"SportType=Ball\"],df)\nvis.mark",
    "id": "e93fcd571bf6419a8a7d39cbdd999c30",
    "order_count": 2,
    "time": "2020-07-14T09:41:54.100Z",
    "type": "selectCodeCell"
   },
   {
    "code": "df = pd.read_csv(\"lux/data/olympic.csv\")\nfrom lux.vis.Vis import Vis\nvis = Vis([\"Height\",\"SportType=Ball\"],df)\nvis.mark",
    "id": "e93fcd571bf6419a8a7d39cbdd999c30",
    "order_count": 2,
    "time": "2020-07-14T09:41:54.625Z",
    "type": "selectCodeCell"
   },
   {
    "code": "df = pd.read_csv(\"lux/data/olympic.csv\")\nfrom lux.vis.Vis import Vis\nvis = Vis([\"Height\",\"SportType=Ball\"],df)\nvis.mark",
    "id": "e93fcd571bf6419a8a7d39cbdd999c30",
    "order_count": 2,
    "time": "2020-07-14T09:41:54.916Z",
    "type": "editCodeCell"
   },
   {
    "code": "df = pd.read_csv(\"lux/data/olympic.csv\")\nfrom lux.vis.Vis import Vis\nvis = Vis([\"Height\",\"SportType=Ball\"],df)\nvis.data",
    "id": "e93fcd571bf6419a8a7d39cbdd999c30",
    "order_count": 2,
    "time": "2020-07-14T09:41:56.791Z",
    "type": "executeCodeCell"
   },
   {
    "code": "vis",
    "id": "db392342ae9140e4bd7373646f9bd724",
    "order_count": 3,
    "time": "2020-07-14T09:41:56.816Z",
    "type": "selectCodeCell"
   },
   {
    "code": "df = pd.read_csv(\"lux/data/olympic.csv\")\nfrom lux.vis.Vis import Vis\nvis = Vis([\"Height\",\"SportType=Ball\"],df)\nvis.data",
    "id": "e93fcd571bf6419a8a7d39cbdd999c30",
    "isPrintLuxDf": false,
    "isPrintPandasDf": true,
    "isPrintView": false,
    "isPrintViewCollection": false,
    "order_count": 2,
    "time": "2020-07-14T09:41:57.894Z",
    "type": "completeCodeCell"
   },
   {
    "code": "df = pd.read_csv(\"lux/data/olympic.csv\")\nfrom lux.vis.Vis import Vis\nvis = Vis([\"Height\",\"SportType=Ball\"],df)\nvis.data",
    "id": "e93fcd571bf6419a8a7d39cbdd999c30",
    "order_count": 2,
    "time": "2020-07-14T09:41:58.920Z",
    "type": "selectCodeCell"
   },
   {
    "param": "",
    "time": "2020-07-14T09:41:58.956Z",
    "type": "initWidget"
   },
   {
    "param": "",
    "time": "2020-07-14T09:41:59.364Z",
    "type": "initWidget"
   },
   {
    "code": "df = pd.read_csv(\"lux/data/olympic.csv\")\nfrom lux.vis.Vis import Vis\nvis = Vis([\"Height\",\"SportType=Ball\"],df)\nvis.data",
    "id": "e93fcd571bf6419a8a7d39cbdd999c30",
    "order_count": 2,
    "time": "2020-07-14T09:42:02.035Z",
    "type": "selectCodeCell"
   },
   {
    "param": "Distribution",
    "time": "2020-07-14T09:42:02.037Z",
    "type": "switchTab"
   },
   {
    "code": "df = pd.read_csv(\"lux/data/olympic.csv\")\nfrom lux.vis.Vis import Vis\nvis = Vis([\"Height\",\"SportType=Ball\"],df)\nvis.data",
    "id": "e93fcd571bf6419a8a7d39cbdd999c30",
    "order_count": 2,
    "time": "2020-07-14T09:42:02.580Z",
    "type": "selectCodeCell"
   },
   {
    "param": "Category",
    "time": "2020-07-14T09:42:02.581Z",
    "type": "switchTab"
   },
   {
    "code": "df = pd.read_csv(\"lux/data/olympic.csv\")\nfrom lux.vis.Vis import Vis\nvis = Vis([\"Height\",\"SportType=Ball\"],df)\nvis.data",
    "id": "e93fcd571bf6419a8a7d39cbdd999c30",
    "order_count": 2,
    "time": "2020-07-14T09:42:03.110Z",
    "type": "selectCodeCell"
   },
   {
    "param": "Temporal",
    "time": "2020-07-14T09:42:03.111Z",
    "type": "switchTab"
   },
   {
    "code": "df = pd.read_csv(\"lux/data/olympic.csv\")\nfrom lux.vis.Vis import Vis\nvis = Vis([\"Height\",\"SportType=Ball\"],df)\nvis.data",
    "id": "e93fcd571bf6419a8a7d39cbdd999c30",
    "order_count": 2,
    "time": "2020-07-14T09:43:25.363Z",
    "type": "selectCodeCell"
   },
   {
    "code": "df = pd.read_csv(\"lux/data/olympic.csv\")\nfrom lux.vis.Vis import Vis\nvis = Vis([\"Height\",\"SportType=Ball\"],df)\nvis.data",
    "id": "e93fcd571bf6419a8a7d39cbdd999c30",
    "order_count": 2,
    "time": "2020-07-14T09:43:26.238Z",
    "type": "editCodeCell"
   },
   {
    "code": "df = pd.read_csv(\"lux/data/olympic.csv\")\nfrom lux.vis.Vis import Vis\nvis = Vis([\"Height\",\"SportType=Ball\"],df)\nvis.data",
    "id": "e93fcd571bf6419a8a7d39cbdd999c30",
    "order_count": 2,
    "time": "2020-07-14T09:43:27.602Z",
    "type": "selectCodeCell"
   },
   {
    "code": "df = pd.read_csv(\"lux/data/olympic.csv\")\nfrom lux.vis.Vis import Vis\nvis = Vis([\"Height\",\"SportType=Ball\"],df)",
    "id": "e93fcd571bf6419a8a7d39cbdd999c30",
    "order_count": 2,
    "time": "2020-07-14T09:43:30.077Z",
    "type": "executeCodeCell"
   },
   {
    "code": "vis",
    "id": "db392342ae9140e4bd7373646f9bd724",
    "order_count": 3,
    "time": "2020-07-14T09:43:30.098Z",
    "type": "selectCodeCell"
   },
   {
    "code": "df = pd.read_csv(\"lux/data/olympic.csv\")\nfrom lux.vis.Vis import Vis\nvis = Vis([\"Height\",\"SportType=Ball\"],df)",
    "id": "e93fcd571bf6419a8a7d39cbdd999c30",
    "isPrintLuxDf": false,
    "isPrintPandasDf": false,
    "isPrintView": false,
    "isPrintViewCollection": false,
    "order_count": 2,
    "time": "2020-07-14T09:43:30.128Z",
    "type": "completeCodeCell"
   },
   {
    "code": "vis",
    "id": "db392342ae9140e4bd7373646f9bd724",
    "order_count": 3,
    "time": "2020-07-14T09:43:31.039Z",
    "type": "executeCodeCell"
   },
   {
    "code": "vis.render_VSpec()",
    "id": "658356472256432a8fcc2f7d6e28183a",
    "order_count": 4,
    "time": "2020-07-14T09:43:31.047Z",
    "type": "selectCodeCell"
   },
   {
    "code": "vis",
    "id": "db392342ae9140e4bd7373646f9bd724",
    "isPrintLuxDf": false,
    "isPrintPandasDf": false,
    "isPrintView": false,
    "isPrintViewCollection": false,
    "order_count": 3,
    "time": "2020-07-14T09:43:31.078Z",
    "type": "completeCodeCell"
   },
   {
    "code": "vis",
    "id": "db392342ae9140e4bd7373646f9bd724",
    "order_count": 3,
    "time": "2020-07-14T09:43:35.646Z",
    "type": "selectCodeCell"
   },
   {
    "code": "vis",
    "id": "db392342ae9140e4bd7373646f9bd724",
    "order_count": 3,
    "time": "2020-07-14T09:43:36.696Z",
    "type": "editCodeCell"
   },
   {
    "code": "vis.code",
    "id": "db392342ae9140e4bd7373646f9bd724",
    "order_count": 3,
    "time": "2020-07-14T09:43:41.579Z",
    "type": "executeCodeCell"
   },
   {
    "code": "vis.render_VSpec()",
    "id": "658356472256432a8fcc2f7d6e28183a",
    "order_count": 4,
    "time": "2020-07-14T09:43:41.597Z",
    "type": "selectCodeCell"
   },
   {
    "code": "vis.code",
    "id": "db392342ae9140e4bd7373646f9bd724",
    "isPrintLuxDf": false,
    "isPrintPandasDf": false,
    "isPrintView": false,
    "isPrintViewCollection": false,
    "order_count": 3,
    "time": "2020-07-14T09:43:41.605Z",
    "type": "completeCodeCell"
   },
   {
    "code": "vis.code",
    "id": "db392342ae9140e4bd7373646f9bd724",
    "order_count": 3,
    "time": "2020-07-14T09:43:42.250Z",
    "type": "selectCodeCell"
   },
   {
    "code": "df = pd.read_csv(\"lux/data/olympic.csv\")\nfrom lux.vis.Vis import Vis\nvis = Vis([\"Height\",\"SportType=Ball\"],df)",
    "id": "e93fcd571bf6419a8a7d39cbdd999c30",
    "order_count": 2,
    "time": "2020-07-14T09:43:51.136Z",
    "type": "selectCodeCell"
   },
   {
    "code": "df = pd.read_csv(\"lux/data/olympic.csv\")\nfrom lux.vis.Vis import Vis\nvis = Vis([\"Height\",\"SportType=Ball\"],df)",
    "id": "e93fcd571bf6419a8a7d39cbdd999c30",
    "order_count": 2,
    "time": "2020-07-14T09:43:51.141Z",
    "type": "editCodeCell"
   },
   {
    "code": "vis.code",
    "id": "db392342ae9140e4bd7373646f9bd724",
    "order_count": 3,
    "time": "2020-07-14T09:43:53.645Z",
    "type": "selectCodeCell"
   },
   {
    "code": "vis.code",
    "id": "db392342ae9140e4bd7373646f9bd724",
    "order_count": 3,
    "time": "2020-07-14T09:43:53.649Z",
    "type": "editCodeCell"
   },
   {
    "code": "vis.set_specs([\"Height\",\"SportType=Ball\"])",
    "id": "db392342ae9140e4bd7373646f9bd724",
    "order_count": 3,
    "time": "2020-07-14T09:43:58.339Z",
    "type": "executeCodeCell"
   },
   {
    "code": "vis.render_VSpec()",
    "id": "658356472256432a8fcc2f7d6e28183a",
    "order_count": 4,
    "time": "2020-07-14T09:43:58.357Z",
    "type": "selectCodeCell"
   },
   {
    "code": "vis.set_specs([\"Height\",\"SportType=Ball\"])",
    "id": "db392342ae9140e4bd7373646f9bd724",
    "isPrintLuxDf": false,
    "isPrintPandasDf": false,
    "isPrintView": false,
    "isPrintViewCollection": false,
    "order_count": 3,
    "time": "2020-07-14T09:43:58.378Z",
    "type": "completeCodeCell"
   },
   {
    "code": "",
    "id": "64ce6e6c182647a1bba503d6ff9db8a9",
    "order_count": 4,
    "time": "2020-07-14T09:43:59.091Z",
    "type": "selectCodeCell"
   },
   {
    "code": "",
    "id": "64ce6e6c182647a1bba503d6ff9db8a9",
    "order_count": 4,
    "time": "2020-07-14T09:43:59.253Z",
    "type": "editCodeCell"
   },
   {
    "code": "vis",
    "id": "64ce6e6c182647a1bba503d6ff9db8a9",
    "order_count": 4,
    "time": "2020-07-14T09:44:00.458Z",
    "type": "executeCodeCell"
   },
   {
    "code": "vis.render_VSpec()",
    "id": "658356472256432a8fcc2f7d6e28183a",
    "order_count": 5,
    "time": "2020-07-14T09:44:00.476Z",
    "type": "selectCodeCell"
   },
   {
    "code": "vis",
    "id": "64ce6e6c182647a1bba503d6ff9db8a9",
    "isPrintLuxDf": false,
    "isPrintPandasDf": false,
    "isPrintView": false,
    "isPrintViewCollection": false,
    "order_count": 4,
    "time": "2020-07-14T09:44:00.509Z",
    "type": "completeCodeCell"
   },
   {
    "code": "vis",
    "id": "64ce6e6c182647a1bba503d6ff9db8a9",
    "order_count": 4,
    "time": "2020-07-14T09:44:22.612Z",
    "type": "selectCodeCell"
   },
   {
    "time": "2020-07-14T09:44:24.024Z",
    "type": "kernelRestart"
   },
   {
    "time": "2020-07-14T09:44:24.167Z",
    "type": "kernelRestart"
   },
   {
    "code": "vis.set_specs([\"Height\",\"SportType=Ball\"])",
    "id": "db392342ae9140e4bd7373646f9bd724",
    "order_count": 3,
    "time": "2020-07-14T09:44:24.528Z",
    "type": "selectCodeCell"
   },
   {
    "code": "df = pd.read_csv(\"lux/data/olympic.csv\")\nfrom lux.vis.Vis import Vis\nvis = Vis([\"Height\",\"SportType=Ball\"],df)",
    "id": "e93fcd571bf6419a8a7d39cbdd999c30",
    "order_count": 2,
    "time": "2020-07-14T09:44:24.736Z",
    "type": "selectCodeCell"
   },
   {
    "code": "import pandas as pd\nimport lux",
    "id": "53ac2deab3234be785d747df05424b1d",
    "order_count": 1,
    "time": "2020-07-14T09:44:25.024Z",
    "type": "selectCodeCell"
   },
   {
    "code": "cd ..",
    "id": "03cb8afcf347496f82e47f207e86b1e4",
    "order_count": 0,
    "time": "2020-07-14T09:44:25.191Z",
    "type": "selectCodeCell"
   },
   {
    "time": "2020-07-14T09:44:25.780Z",
    "type": "kernelReady"
   },
   {
    "time": "2020-07-14T09:44:25.788Z",
    "type": "kernelReady"
   },
   {
    "code": "cd ..",
    "id": "03cb8afcf347496f82e47f207e86b1e4",
    "order_count": 0,
    "time": "2020-07-14T09:44:25.920Z",
    "type": "executeCodeCell"
   },
   {
    "code": "import pandas as pd\nimport lux",
    "id": "53ac2deab3234be785d747df05424b1d",
    "order_count": 1,
    "time": "2020-07-14T09:44:25.930Z",
    "type": "selectCodeCell"
   },
   {
    "code": "cd ..",
    "id": "03cb8afcf347496f82e47f207e86b1e4",
    "isPrintLuxDf": false,
    "isPrintPandasDf": false,
    "isPrintView": false,
    "isPrintViewCollection": false,
    "order_count": 0,
    "time": "2020-07-14T09:44:25.937Z",
    "type": "completeCodeCell"
   },
   {
    "code": "import pandas as pd\nimport lux",
    "id": "53ac2deab3234be785d747df05424b1d",
    "order_count": 1,
    "time": "2020-07-14T09:44:26.115Z",
    "type": "executeCodeCell"
   },
   {
    "code": "df = pd.read_csv(\"lux/data/olympic.csv\")\nfrom lux.vis.Vis import Vis\nvis = Vis([\"Height\",\"SportType=Ball\"],df)",
    "id": "e93fcd571bf6419a8a7d39cbdd999c30",
    "order_count": 2,
    "time": "2020-07-14T09:44:26.129Z",
    "type": "selectCodeCell"
   },
   {
    "code": "df = pd.read_csv(\"lux/data/olympic.csv\")\nfrom lux.vis.Vis import Vis\nvis = Vis([\"Height\",\"SportType=Ball\"],df)",
    "id": "e93fcd571bf6419a8a7d39cbdd999c30",
    "order_count": 2,
    "time": "2020-07-14T09:44:26.312Z",
    "type": "executeCodeCell"
   },
   {
    "code": "vis.set_specs([\"Height\",\"SportType=Ball\"])",
    "id": "db392342ae9140e4bd7373646f9bd724",
    "order_count": 3,
    "time": "2020-07-14T09:44:26.321Z",
    "type": "selectCodeCell"
   },
   {
    "code": "import pandas as pd\nimport lux",
    "id": "53ac2deab3234be785d747df05424b1d",
    "isPrintLuxDf": false,
    "isPrintPandasDf": false,
    "isPrintView": false,
    "isPrintViewCollection": false,
    "order_count": 1,
    "time": "2020-07-14T09:44:26.464Z",
    "type": "completeCodeCell"
   },
   {
    "code": "df = pd.read_csv(\"lux/data/olympic.csv\")\nfrom lux.vis.Vis import Vis\nvis = Vis([\"Height\",\"SportType=Ball\"],df)",
    "id": "e93fcd571bf6419a8a7d39cbdd999c30",
    "isPrintLuxDf": false,
    "isPrintPandasDf": false,
    "isPrintView": false,
    "isPrintViewCollection": false,
    "order_count": 2,
    "time": "2020-07-14T09:44:26.517Z",
    "type": "completeCodeCell"
   },
   {
    "code": "vis.set_specs([\"Height\",\"SportType=Ball\"])",
    "id": "db392342ae9140e4bd7373646f9bd724",
    "order_count": 3,
    "time": "2020-07-14T09:44:26.547Z",
    "type": "executeCodeCell"
   },
   {
    "code": "vis",
    "id": "64ce6e6c182647a1bba503d6ff9db8a9",
    "order_count": 4,
    "time": "2020-07-14T09:44:26.560Z",
    "type": "selectCodeCell"
   },
   {
    "code": "vis.set_specs([\"Height\",\"SportType=Ball\"])",
    "id": "db392342ae9140e4bd7373646f9bd724",
    "isPrintLuxDf": false,
    "isPrintPandasDf": false,
    "isPrintView": false,
    "isPrintViewCollection": false,
    "order_count": 3,
    "time": "2020-07-14T09:44:26.579Z",
    "type": "completeCodeCell"
   },
   {
    "code": "vis",
    "id": "64ce6e6c182647a1bba503d6ff9db8a9",
    "order_count": 4,
    "time": "2020-07-14T09:44:27.014Z",
    "type": "executeCodeCell"
   },
   {
    "code": "vis.render_VSpec()",
    "id": "658356472256432a8fcc2f7d6e28183a",
    "order_count": 5,
    "time": "2020-07-14T09:44:27.024Z",
    "type": "selectCodeCell"
   },
   {
    "code": "vis",
    "id": "64ce6e6c182647a1bba503d6ff9db8a9",
    "isPrintLuxDf": false,
    "isPrintPandasDf": false,
    "isPrintView": false,
    "isPrintViewCollection": false,
    "order_count": 4,
    "time": "2020-07-14T09:44:27.093Z",
    "type": "completeCodeCell"
   },
   {
    "code": "vis",
    "id": "64ce6e6c182647a1bba503d6ff9db8a9",
    "order_count": 4,
    "time": "2020-07-14T09:45:13.057Z",
    "type": "selectCodeCell"
   },
   {
    "time": "2020-07-14T09:45:14.545Z",
    "type": "kernelRestart"
   },
   {
    "time": "2020-07-14T09:45:14.693Z",
    "type": "kernelRestart"
   },
   {
    "code": "vis.set_specs([\"Height\",\"SportType=Ball\"])",
    "id": "db392342ae9140e4bd7373646f9bd724",
    "order_count": 3,
    "time": "2020-07-14T09:45:15.045Z",
    "type": "selectCodeCell"
   },
   {
    "code": "df = pd.read_csv(\"lux/data/olympic.csv\")\nfrom lux.vis.Vis import Vis\nvis = Vis([\"Height\",\"SportType=Ball\"],df)",
    "id": "e93fcd571bf6419a8a7d39cbdd999c30",
    "order_count": 2,
    "time": "2020-07-14T09:45:15.197Z",
    "type": "selectCodeCell"
   },
   {
    "code": "import pandas as pd\nimport lux",
    "id": "53ac2deab3234be785d747df05424b1d",
    "order_count": 1,
    "time": "2020-07-14T09:45:15.343Z",
    "type": "selectCodeCell"
   },
   {
    "code": "cd ..",
    "id": "03cb8afcf347496f82e47f207e86b1e4",
    "order_count": 0,
    "time": "2020-07-14T09:45:15.464Z",
    "type": "selectCodeCell"
   },
   {
    "code": "cd ..",
    "id": "03cb8afcf347496f82e47f207e86b1e4",
    "order_count": 0,
    "time": "2020-07-14T09:45:16.025Z",
    "type": "executeCodeCell"
   },
   {
    "code": "import pandas as pd\nimport lux",
    "id": "53ac2deab3234be785d747df05424b1d",
    "order_count": 1,
    "time": "2020-07-14T09:45:16.035Z",
    "type": "selectCodeCell"
   },
   {
    "code": "import pandas as pd\nimport lux",
    "id": "53ac2deab3234be785d747df05424b1d",
    "order_count": 1,
    "time": "2020-07-14T09:45:16.161Z",
    "type": "executeCodeCell"
   },
   {
    "code": "df = pd.read_csv(\"lux/data/olympic.csv\")\nfrom lux.vis.Vis import Vis\nvis = Vis([\"Height\",\"SportType=Ball\"],df)",
    "id": "e93fcd571bf6419a8a7d39cbdd999c30",
    "order_count": 2,
    "time": "2020-07-14T09:45:16.171Z",
    "type": "selectCodeCell"
   },
   {
    "code": "df = pd.read_csv(\"lux/data/olympic.csv\")\nfrom lux.vis.Vis import Vis\nvis = Vis([\"Height\",\"SportType=Ball\"],df)",
    "id": "e93fcd571bf6419a8a7d39cbdd999c30",
    "order_count": 2,
    "time": "2020-07-14T09:45:16.282Z",
    "type": "executeCodeCell"
   },
   {
    "code": "vis.set_specs([\"Height\",\"SportType=Ball\"])",
    "id": "db392342ae9140e4bd7373646f9bd724",
    "order_count": 3,
    "time": "2020-07-14T09:45:16.294Z",
    "type": "selectCodeCell"
   },
   {
    "code": "vis.set_specs([\"Height\",\"SportType=Ball\"])",
    "id": "db392342ae9140e4bd7373646f9bd724",
    "order_count": 3,
    "time": "2020-07-14T09:45:16.433Z",
    "type": "executeCodeCell"
   },
   {
    "code": "vis",
    "id": "64ce6e6c182647a1bba503d6ff9db8a9",
    "order_count": 4,
    "time": "2020-07-14T09:45:16.447Z",
    "type": "selectCodeCell"
   },
   {
    "code": "vis",
    "id": "64ce6e6c182647a1bba503d6ff9db8a9",
    "order_count": 4,
    "time": "2020-07-14T09:45:16.707Z",
    "type": "executeCodeCell"
   },
   {
    "code": "vis.render_VSpec()",
    "id": "658356472256432a8fcc2f7d6e28183a",
    "order_count": 5,
    "time": "2020-07-14T09:45:16.717Z",
    "type": "selectCodeCell"
   },
   {
    "code": "import pandas as pd\nimport lux",
    "id": "53ac2deab3234be785d747df05424b1d",
    "isPrintLuxDf": false,
    "isPrintPandasDf": false,
    "isPrintView": false,
    "isPrintViewCollection": false,
    "order_count": 1,
    "time": "2020-07-14T09:45:16.840Z",
    "type": "completeCodeCell"
   },
   {
    "time": "2020-07-14T09:45:16.846Z",
    "type": "kernelReady"
   },
   {
    "code": "df = pd.read_csv(\"lux/data/olympic.csv\")\nfrom lux.vis.Vis import Vis\nvis = Vis([\"Height\",\"SportType=Ball\"],df)",
    "id": "e93fcd571bf6419a8a7d39cbdd999c30",
    "isPrintLuxDf": false,
    "isPrintPandasDf": false,
    "isPrintView": false,
    "isPrintViewCollection": false,
    "order_count": 2,
    "time": "2020-07-14T09:45:16.911Z",
    "type": "completeCodeCell"
   },
   {
    "code": "vis.set_specs([\"Height\",\"SportType=Ball\"])",
    "id": "db392342ae9140e4bd7373646f9bd724",
    "isPrintLuxDf": false,
    "isPrintPandasDf": false,
    "isPrintView": false,
    "isPrintViewCollection": false,
    "order_count": 3,
    "time": "2020-07-14T09:45:16.957Z",
    "type": "completeCodeCell"
   },
   {
    "code": "vis",
    "id": "64ce6e6c182647a1bba503d6ff9db8a9",
    "isPrintLuxDf": false,
    "isPrintPandasDf": false,
    "isPrintView": false,
    "isPrintViewCollection": false,
    "order_count": 4,
    "time": "2020-07-14T09:45:17.025Z",
    "type": "completeCodeCell"
   },
   {
    "code": "vis",
    "id": "64ce6e6c182647a1bba503d6ff9db8a9",
    "order_count": 4,
    "time": "2020-07-14T09:45:53.369Z",
    "type": "selectCodeCell"
   },
   {
    "time": "2020-07-14T09:45:54.694Z",
    "type": "kernelRestart"
   },
   {
    "time": "2020-07-14T09:45:54.818Z",
    "type": "kernelRestart"
   },
   {
    "code": "vis.set_specs([\"Height\",\"SportType=Ball\"])",
    "id": "db392342ae9140e4bd7373646f9bd724",
    "order_count": 3,
    "time": "2020-07-14T09:45:55.174Z",
    "type": "selectCodeCell"
   },
   {
    "code": "df = pd.read_csv(\"lux/data/olympic.csv\")\nfrom lux.vis.Vis import Vis\nvis = Vis([\"Height\",\"SportType=Ball\"],df)",
    "id": "e93fcd571bf6419a8a7d39cbdd999c30",
    "order_count": 2,
    "time": "2020-07-14T09:45:55.326Z",
    "type": "selectCodeCell"
   },
   {
    "code": "import pandas as pd\nimport lux",
    "id": "53ac2deab3234be785d747df05424b1d",
    "order_count": 1,
    "time": "2020-07-14T09:45:55.459Z",
    "type": "selectCodeCell"
   },
   {
    "code": "cd ..",
    "id": "03cb8afcf347496f82e47f207e86b1e4",
    "order_count": 0,
    "time": "2020-07-14T09:45:55.588Z",
    "type": "selectCodeCell"
   },
   {
    "code": "cd ..",
    "id": "03cb8afcf347496f82e47f207e86b1e4",
    "order_count": 0,
    "time": "2020-07-14T09:45:55.898Z",
    "type": "executeCodeCell"
   },
   {
    "code": "import pandas as pd\nimport lux",
    "id": "53ac2deab3234be785d747df05424b1d",
    "order_count": 1,
    "time": "2020-07-14T09:45:55.910Z",
    "type": "selectCodeCell"
   },
   {
    "code": "import pandas as pd\nimport lux",
    "id": "53ac2deab3234be785d747df05424b1d",
    "order_count": 1,
    "time": "2020-07-14T09:45:56.042Z",
    "type": "executeCodeCell"
   },
   {
    "code": "df = pd.read_csv(\"lux/data/olympic.csv\")\nfrom lux.vis.Vis import Vis\nvis = Vis([\"Height\",\"SportType=Ball\"],df)",
    "id": "e93fcd571bf6419a8a7d39cbdd999c30",
    "order_count": 2,
    "time": "2020-07-14T09:45:56.052Z",
    "type": "selectCodeCell"
   },
   {
    "code": "df = pd.read_csv(\"lux/data/olympic.csv\")\nfrom lux.vis.Vis import Vis\nvis = Vis([\"Height\",\"SportType=Ball\"],df)",
    "id": "e93fcd571bf6419a8a7d39cbdd999c30",
    "order_count": 2,
    "time": "2020-07-14T09:45:56.170Z",
    "type": "executeCodeCell"
   },
   {
    "code": "vis.set_specs([\"Height\",\"SportType=Ball\"])",
    "id": "db392342ae9140e4bd7373646f9bd724",
    "order_count": 3,
    "time": "2020-07-14T09:45:56.180Z",
    "type": "selectCodeCell"
   },
   {
    "time": "2020-07-14T09:45:56.314Z",
    "type": "kernelReady"
   },
   {
    "code": "vis.set_specs([\"Height\",\"SportType=Ball\"])",
    "id": "db392342ae9140e4bd7373646f9bd724",
    "order_count": 3,
    "time": "2020-07-14T09:45:56.318Z",
    "type": "executeCodeCell"
   },
   {
    "code": "vis",
    "id": "64ce6e6c182647a1bba503d6ff9db8a9",
    "order_count": 4,
    "time": "2020-07-14T09:45:56.334Z",
    "type": "selectCodeCell"
   },
   {
    "time": "2020-07-14T09:45:56.344Z",
    "type": "kernelReady"
   },
   {
    "code": "cd ..",
    "id": "03cb8afcf347496f82e47f207e86b1e4",
    "isPrintLuxDf": false,
    "isPrintPandasDf": false,
    "isPrintView": false,
    "isPrintViewCollection": false,
    "order_count": 0,
    "time": "2020-07-14T09:45:56.349Z",
    "type": "completeCodeCell"
   },
   {
    "code": "cd ..",
    "id": "03cb8afcf347496f82e47f207e86b1e4",
    "isPrintLuxDf": false,
    "isPrintPandasDf": false,
    "isPrintView": false,
    "isPrintViewCollection": false,
    "order_count": 0,
    "time": "2020-07-14T09:45:56.349Z",
    "type": "completeCodeCell"
   },
   {
    "code": "vis",
    "id": "64ce6e6c182647a1bba503d6ff9db8a9",
    "order_count": 4,
    "time": "2020-07-14T09:45:56.667Z",
    "type": "executeCodeCell"
   },
   {
    "code": "vis.render_VSpec()",
    "id": "658356472256432a8fcc2f7d6e28183a",
    "order_count": 5,
    "time": "2020-07-14T09:45:56.677Z",
    "type": "selectCodeCell"
   },
   {
    "code": "import pandas as pd\nimport lux",
    "id": "53ac2deab3234be785d747df05424b1d",
    "isPrintLuxDf": false,
    "isPrintPandasDf": false,
    "isPrintView": false,
    "isPrintViewCollection": false,
    "order_count": 1,
    "time": "2020-07-14T09:45:56.722Z",
    "type": "completeCodeCell"
   },
   {
    "code": "df = pd.read_csv(\"lux/data/olympic.csv\")\nfrom lux.vis.Vis import Vis\nvis = Vis([\"Height\",\"SportType=Ball\"],df)",
    "id": "e93fcd571bf6419a8a7d39cbdd999c30",
    "isPrintLuxDf": false,
    "isPrintPandasDf": false,
    "isPrintView": false,
    "isPrintViewCollection": false,
    "order_count": 2,
    "time": "2020-07-14T09:45:56.788Z",
    "type": "completeCodeCell"
   },
   {
    "time": "2020-07-14T09:45:56.792Z",
    "type": "kernelReady"
   },
   {
    "code": "vis.set_specs([\"Height\",\"SportType=Ball\"])",
    "id": "db392342ae9140e4bd7373646f9bd724",
    "isPrintLuxDf": false,
    "isPrintPandasDf": false,
    "isPrintView": false,
    "isPrintViewCollection": false,
    "order_count": 3,
    "time": "2020-07-14T09:45:56.827Z",
    "type": "completeCodeCell"
   },
   {
    "code": "vis",
    "id": "64ce6e6c182647a1bba503d6ff9db8a9",
    "isPrintLuxDf": false,
    "isPrintPandasDf": false,
    "isPrintView": false,
    "isPrintViewCollection": false,
    "order_count": 4,
    "time": "2020-07-14T09:45:56.895Z",
    "type": "completeCodeCell"
   },
   {
    "time": "2020-07-14T09:46:14.908Z",
    "type": "kernelKilled"
   },
   {
    "time": "2020-07-14T09:46:15.875Z",
    "type": "kernelReady"
   },
   {
    "code": "vis",
    "id": "64ce6e6c182647a1bba503d6ff9db8a9",
    "order_count": 4,
    "time": "2020-07-14T09:46:45.809Z",
    "type": "selectCodeCell"
   },
   {
    "code": "vis",
    "id": "64ce6e6c182647a1bba503d6ff9db8a9",
    "order_count": 4,
    "time": "2020-07-14T09:46:45.815Z",
    "type": "editCodeCell"
   },
   {
    "code": "vis.set_specs([\"Height\",\"SportType=Ball\"])",
    "id": "db392342ae9140e4bd7373646f9bd724",
    "order_count": 3,
    "time": "2020-07-14T09:46:46.208Z",
    "type": "selectCodeCell"
   },
   {
    "time": "2020-07-14T09:46:47.723Z",
    "type": "kernelRestart"
   },
   {
    "time": "2020-07-14T09:46:47.843Z",
    "type": "kernelRestart"
   },
   {
    "code": "df = pd.read_csv(\"lux/data/olympic.csv\")\nfrom lux.vis.Vis import Vis\nvis = Vis([\"Height\",\"SportType=Ball\"],df)",
    "id": "e93fcd571bf6419a8a7d39cbdd999c30",
    "order_count": 2,
    "time": "2020-07-14T09:46:48.285Z",
    "type": "selectCodeCell"
   },
   {
    "code": "import pandas as pd\nimport lux",
    "id": "53ac2deab3234be785d747df05424b1d",
    "order_count": 1,
    "time": "2020-07-14T09:46:48.434Z",
    "type": "selectCodeCell"
   },
   {
    "code": "cd ..",
    "id": "03cb8afcf347496f82e47f207e86b1e4",
    "order_count": 0,
    "time": "2020-07-14T09:46:48.579Z",
    "type": "selectCodeCell"
   },
   {
    "code": "cd ..",
    "id": "03cb8afcf347496f82e47f207e86b1e4",
    "order_count": 0,
    "time": "2020-07-14T09:46:48.988Z",
    "type": "executeCodeCell"
   },
   {
    "code": "import pandas as pd\nimport lux",
    "id": "53ac2deab3234be785d747df05424b1d",
    "order_count": 1,
    "time": "2020-07-14T09:46:48.999Z",
    "type": "selectCodeCell"
   },
   {
    "time": "2020-07-14T09:46:49.102Z",
    "type": "kernelReady"
   },
   {
    "time": "2020-07-14T09:46:49.118Z",
    "type": "kernelReady"
   },
   {
    "code": "import pandas as pd\nimport lux",
    "id": "53ac2deab3234be785d747df05424b1d",
    "order_count": 1,
    "time": "2020-07-14T09:46:49.123Z",
    "type": "executeCodeCell"
   },
   {
    "code": "df = pd.read_csv(\"lux/data/olympic.csv\")\nfrom lux.vis.Vis import Vis\nvis = Vis([\"Height\",\"SportType=Ball\"],df)",
    "id": "e93fcd571bf6419a8a7d39cbdd999c30",
    "order_count": 2,
    "time": "2020-07-14T09:46:49.136Z",
    "type": "selectCodeCell"
   },
   {
    "code": "df = pd.read_csv(\"lux/data/olympic.csv\")\nfrom lux.vis.Vis import Vis\nvis = Vis([\"Height\",\"SportType=Ball\"],df)",
    "id": "e93fcd571bf6419a8a7d39cbdd999c30",
    "order_count": 2,
    "time": "2020-07-14T09:46:49.252Z",
    "type": "executeCodeCell"
   },
   {
    "code": "vis.set_specs([\"Height\",\"SportType=Ball\"])",
    "id": "db392342ae9140e4bd7373646f9bd724",
    "order_count": 3,
    "time": "2020-07-14T09:46:49.260Z",
    "type": "selectCodeCell"
   },
   {
    "code": "vis.set_specs([\"Height\",\"SportType=Ball\"])",
    "id": "db392342ae9140e4bd7373646f9bd724",
    "order_count": 3,
    "time": "2020-07-14T09:46:49.395Z",
    "type": "executeCodeCell"
   },
   {
    "code": "vis",
    "id": "64ce6e6c182647a1bba503d6ff9db8a9",
    "order_count": 4,
    "time": "2020-07-14T09:46:49.406Z",
    "type": "selectCodeCell"
   },
   {
    "code": "import pandas as pd\nimport lux",
    "id": "53ac2deab3234be785d747df05424b1d",
    "isPrintLuxDf": false,
    "isPrintPandasDf": false,
    "isPrintView": false,
    "isPrintViewCollection": false,
    "order_count": 1,
    "time": "2020-07-14T09:46:49.471Z",
    "type": "completeCodeCell"
   },
   {
    "code": "df = pd.read_csv(\"lux/data/olympic.csv\")\nfrom lux.vis.Vis import Vis\nvis = Vis([\"Height\",\"SportType=Ball\"],df)",
    "id": "e93fcd571bf6419a8a7d39cbdd999c30",
    "isPrintLuxDf": false,
    "isPrintPandasDf": false,
    "isPrintView": false,
    "isPrintViewCollection": false,
    "order_count": 2,
    "time": "2020-07-14T09:46:49.522Z",
    "type": "completeCodeCell"
   },
   {
    "code": "vis.set_specs([\"Height\",\"SportType=Ball\"])",
    "id": "db392342ae9140e4bd7373646f9bd724",
    "isPrintLuxDf": false,
    "isPrintPandasDf": false,
    "isPrintView": false,
    "isPrintViewCollection": false,
    "order_count": 3,
    "time": "2020-07-14T09:46:49.549Z",
    "type": "completeCodeCell"
   },
   {
    "code": "vis.set_specs([\"Height\",\"SportType=Ball\"])",
    "id": "db392342ae9140e4bd7373646f9bd724",
    "order_count": 3,
    "time": "2020-07-14T09:46:50.569Z",
    "type": "selectCodeCell"
   },
   {
    "code": "df = pd.read_csv(\"lux/data/olympic.csv\")\nfrom lux.vis.Vis import Vis\nvis = Vis([\"Height\",\"SportType=Ball\"],df)",
    "id": "e93fcd571bf6419a8a7d39cbdd999c30",
    "order_count": 2,
    "time": "2020-07-14T09:47:00.524Z",
    "type": "selectCodeCell"
   },
   {
    "code": "",
    "id": "7c5721291f2a45229608a445ed76b2de",
    "order_count": 3,
    "time": "2020-07-14T09:47:01.783Z",
    "type": "selectCodeCell"
   },
   {
    "code": "",
    "id": "7c5721291f2a45229608a445ed76b2de",
    "order_count": 3,
    "time": "2020-07-14T09:47:02.002Z",
    "type": "editCodeCell"
   },
   {
    "code": "vis",
    "id": "7c5721291f2a45229608a445ed76b2de",
    "order_count": 3,
    "time": "2020-07-14T09:47:02.629Z",
    "type": "executeCodeCell"
   },
   {
    "code": "vis.set_specs([\"Height\",\"SportType=Ball\"])",
    "id": "db392342ae9140e4bd7373646f9bd724",
    "order_count": 4,
    "time": "2020-07-14T09:47:02.652Z",
    "type": "selectCodeCell"
   },
   {
    "code": "vis",
    "id": "7c5721291f2a45229608a445ed76b2de",
    "isPrintLuxDf": false,
    "isPrintPandasDf": false,
    "isPrintView": false,
    "isPrintViewCollection": false,
    "order_count": 3,
    "time": "2020-07-14T09:47:02.694Z",
    "type": "completeCodeCell"
   },
   {
    "code": "vis",
    "id": "7c5721291f2a45229608a445ed76b2de",
    "order_count": 3,
    "time": "2020-07-14T09:47:12.955Z",
    "type": "selectCodeCell"
   },
   {
    "code": "df = pd.read_csv(\"lux/data/olympic.csv\")\nfrom lux.vis.Vis import Vis\nvis = Vis([\"Height\",\"SportType=Ball\"],df)",
    "id": "e93fcd571bf6419a8a7d39cbdd999c30",
    "order_count": 2,
    "time": "2020-07-14T09:47:22.327Z",
    "type": "selectCodeCell"
   },
   {
    "code": "df = pd.read_csv(\"lux/data/olympic.csv\")\nfrom lux.vis.Vis import Vis\nvis = Vis([\"Height\",\"SportType=Ball\"],df)",
    "id": "e93fcd571bf6419a8a7d39cbdd999c30",
    "order_count": 2,
    "time": "2020-07-14T09:47:36.994Z",
    "type": "editCodeCell"
   },
   {
    "code": "df = pd.read_csv(\"lux/data/olympic.csv\")\nfrom lux.vis.Vis import Vis\nvis = Vis([\"Height\",\"SportType=Ball\"],df)",
    "id": "e93fcd571bf6419a8a7d39cbdd999c30",
    "order_count": 2,
    "time": "2020-07-14T09:47:37.068Z",
    "type": "selectCodeCell"
   },
   {
    "code": "df = pd.read_csv(\"lux/data/olympic.csv\")\nfrom lux.vis.Vis import Vis\nvis = Vis([\"Height\",\"SportType=Ball\"],df)",
    "id": "e93fcd571bf6419a8a7d39cbdd999c30",
    "order_count": 2,
    "time": "2020-07-14T09:47:38.388Z",
    "type": "selectCodeCell"
   },
   {
    "code": "vis",
    "id": "7c5721291f2a45229608a445ed76b2de",
    "order_count": 3,
    "time": "2020-07-14T09:47:38.940Z",
    "type": "selectCodeCell"
   },
   {
    "code": "vis",
    "id": "7c5721291f2a45229608a445ed76b2de",
    "order_count": 3,
    "time": "2020-07-14T09:47:38.946Z",
    "type": "editCodeCell"
   },
   {
    "code": "vis",
    "id": "7c5721291f2a45229608a445ed76b2de",
    "order_count": 3,
    "time": "2020-07-14T09:47:39.044Z",
    "type": "selectCodeCell"
   },
   {
    "code": "vis",
    "id": "7c5721291f2a45229608a445ed76b2de",
    "order_count": 3,
    "time": "2020-07-14T09:47:40.127Z",
    "type": "executeCodeCell"
   },
   {
    "code": "vis.set_specs([\"Height\",\"SportType=Ball\"])",
    "id": "db392342ae9140e4bd7373646f9bd724",
    "order_count": 4,
    "time": "2020-07-14T09:47:40.148Z",
    "type": "selectCodeCell"
   },
   {
    "code": "vis",
    "id": "7c5721291f2a45229608a445ed76b2de",
    "isPrintLuxDf": false,
    "isPrintPandasDf": false,
    "isPrintView": false,
    "isPrintViewCollection": false,
    "order_count": 3,
    "time": "2020-07-14T09:47:40.166Z",
    "type": "completeCodeCell"
   },
   {
    "code": "vis",
    "id": "7c5721291f2a45229608a445ed76b2de",
    "order_count": 3,
    "time": "2020-07-14T09:47:41.445Z",
    "type": "selectCodeCell"
   },
   {
    "code": "vis",
    "id": "7c5721291f2a45229608a445ed76b2de",
    "order_count": 3,
    "time": "2020-07-14T09:47:41.451Z",
    "type": "editCodeCell"
   },
   {
    "code": "vis.specLst",
    "id": "7c5721291f2a45229608a445ed76b2de",
    "order_count": 3,
    "time": "2020-07-14T09:47:44.313Z",
    "type": "executeCodeCell"
   },
   {
    "code": "vis.set_specs([\"Height\",\"SportType=Ball\"])",
    "id": "db392342ae9140e4bd7373646f9bd724",
    "order_count": 4,
    "time": "2020-07-14T09:47:44.334Z",
    "type": "selectCodeCell"
   },
   {
    "code": "vis.specLst",
    "id": "7c5721291f2a45229608a445ed76b2de",
    "isPrintLuxDf": false,
    "isPrintPandasDf": false,
    "isPrintView": false,
    "isPrintViewCollection": false,
    "order_count": 3,
    "time": "2020-07-14T09:47:44.429Z",
    "type": "completeCodeCell"
   },
   {
    "time": "2020-07-14T09:50:36.858Z",
    "type": "kernelReady"
   },
   {
    "time": "2020-07-14T10:04:28.086Z",
    "type": "kernelReady"
   },
   {
    "code": "cd ..",
    "id": "e557ef3d69e04b81a465a023ad169e3b",
    "order_count": 0,
    "time": "2020-07-14T10:04:29.697Z",
    "type": "executeCodeCell"
   },
   {
    "code": "import pandas as pd\nimport lux",
    "id": "0f8bd05836a841c697deaeeb8aa9b0fe",
    "order_count": 1,
    "time": "2020-07-14T10:04:29.709Z",
    "type": "selectCodeCell"
   },
   {
    "code": "cd ..",
    "id": "e557ef3d69e04b81a465a023ad169e3b",
    "isPrintLuxDf": false,
    "isPrintPandasDf": false,
    "isPrintView": false,
    "isPrintViewCollection": false,
    "order_count": 0,
    "time": "2020-07-14T10:04:29.715Z",
    "type": "completeCodeCell"
   },
   {
    "time": "2020-07-14T10:04:32.772Z",
    "type": "kernelRestart"
   },
   {
    "time": "2020-07-14T10:04:32.925Z",
    "type": "kernelRestart"
   },
   {
    "code": "cd ..",
    "id": "e557ef3d69e04b81a465a023ad169e3b",
    "order_count": 0,
    "time": "2020-07-14T10:04:33.332Z",
    "type": "selectCodeCell"
   },
   {
    "code": "cd ..",
    "id": "e557ef3d69e04b81a465a023ad169e3b",
    "order_count": 0,
    "time": "2020-07-14T10:04:33.855Z",
    "type": "executeCodeCell"
   },
   {
    "code": "import pandas as pd\nimport lux",
    "id": "0f8bd05836a841c697deaeeb8aa9b0fe",
    "order_count": 1,
    "time": "2020-07-14T10:04:33.865Z",
    "type": "selectCodeCell"
   },
   {
    "code": "import pandas as pd\nimport lux",
    "id": "0f8bd05836a841c697deaeeb8aa9b0fe",
    "order_count": 1,
    "time": "2020-07-14T10:04:34.051Z",
    "type": "executeCodeCell"
   },
   {
    "code": "df = pd.read_csv(\"lux/data/olympic.csv\")\nfrom lux.vis.Vis import Vis\nvis = Vis([\"Height\",\"SportType=Ball\"],df)",
    "id": "9935dffa78a04f748b17102046798106",
    "order_count": 2,
    "time": "2020-07-14T10:04:34.060Z",
    "type": "selectCodeCell"
   },
   {
    "code": "df = pd.read_csv(\"lux/data/olympic.csv\")\nfrom lux.vis.Vis import Vis\nvis = Vis([\"Height\",\"SportType=Ball\"],df)",
    "id": "9935dffa78a04f748b17102046798106",
    "order_count": 2,
    "time": "2020-07-14T10:04:34.323Z",
    "type": "executeCodeCell"
   },
   {
    "code": "vis.specLst",
    "id": "f63c2137aad54dfdbfe766d8c61d0ea5",
    "order_count": 3,
    "time": "2020-07-14T10:04:34.333Z",
    "type": "selectCodeCell"
   },
   {
    "code": "import pandas as pd\nimport lux",
    "id": "0f8bd05836a841c697deaeeb8aa9b0fe",
    "isPrintLuxDf": false,
    "isPrintPandasDf": false,
    "isPrintView": false,
    "isPrintViewCollection": false,
    "order_count": 1,
    "time": "2020-07-14T10:04:34.849Z",
    "type": "completeCodeCell"
   },
   {
    "code": "df = pd.read_csv(\"lux/data/olympic.csv\")\nfrom lux.vis.Vis import Vis\nvis = Vis([\"Height\",\"SportType=Ball\"],df)",
    "id": "9935dffa78a04f748b17102046798106",
    "isPrintLuxDf": false,
    "isPrintPandasDf": false,
    "isPrintView": false,
    "isPrintViewCollection": false,
    "order_count": 2,
    "time": "2020-07-14T10:04:34.907Z",
    "type": "completeCodeCell"
   },
   {
    "time": "2020-07-14T10:04:34.910Z",
    "type": "kernelReady"
   },
   {
    "code": "",
    "id": "d3c084db54ef42d0b9c6f200977c9fc8",
    "order_count": 3,
    "time": "2020-07-14T10:04:35.152Z",
    "type": "selectCodeCell"
   },
   {
    "code": "",
    "id": "d3c084db54ef42d0b9c6f200977c9fc8",
    "order_count": 3,
    "time": "2020-07-14T10:04:35.242Z",
    "type": "editCodeCell"
   },
   {
    "code": "vis",
    "id": "d3c084db54ef42d0b9c6f200977c9fc8",
    "order_count": 3,
    "time": "2020-07-14T10:04:36.030Z",
    "type": "executeCodeCell"
   },
   {
    "code": "vis.specLst",
    "id": "f63c2137aad54dfdbfe766d8c61d0ea5",
    "order_count": 4,
    "time": "2020-07-14T10:04:36.054Z",
    "type": "selectCodeCell"
   },
   {
    "code": "vis",
    "id": "d3c084db54ef42d0b9c6f200977c9fc8",
    "isPrintLuxDf": false,
    "isPrintPandasDf": false,
    "isPrintView": false,
    "isPrintViewCollection": false,
    "order_count": 3,
    "time": "2020-07-14T10:04:36.112Z",
    "type": "completeCodeCell"
   },
   {
    "code": "vis",
    "id": "d3c084db54ef42d0b9c6f200977c9fc8",
    "order_count": 3,
    "time": "2020-07-14T10:04:40.184Z",
    "type": "selectCodeCell"
   },
   {
    "code": "vis",
    "id": "d3c084db54ef42d0b9c6f200977c9fc8",
    "order_count": 3,
    "time": "2020-07-14T10:04:40.586Z",
    "type": "selectCodeCell"
   },
   {
    "code": "vis",
    "id": "d3c084db54ef42d0b9c6f200977c9fc8",
    "order_count": 3,
    "time": "2020-07-14T10:04:41.195Z",
    "type": "selectCodeCell"
   },
   {
    "code": "vis",
    "id": "d3c084db54ef42d0b9c6f200977c9fc8",
    "order_count": 3,
    "time": "2020-07-14T10:04:41.592Z",
    "type": "selectCodeCell"
   },
   {
    "code": "cd ..",
    "id": "e557ef3d69e04b81a465a023ad169e3b",
    "order_count": 0,
    "time": "2020-07-14T10:06:31.818Z",
    "type": "selectCodeCell"
   },
   {
    "code": "cd ..",
    "id": "e557ef3d69e04b81a465a023ad169e3b",
    "order_count": 0,
    "time": "2020-07-14T10:06:31.823Z",
    "type": "editCodeCell"
   },
   {
    "time": "2020-07-14T10:06:33.432Z",
    "type": "kernelRestart"
   },
   {
    "time": "2020-07-14T10:06:33.585Z",
    "type": "kernelRestart"
   },
   {
    "code": "cd ..",
    "id": "e557ef3d69e04b81a465a023ad169e3b",
    "order_count": 0,
    "time": "2020-07-14T10:06:34.161Z",
    "type": "executeCodeCell"
   },
   {
    "code": "import pandas as pd\nimport lux",
    "id": "0f8bd05836a841c697deaeeb8aa9b0fe",
    "order_count": 1,
    "time": "2020-07-14T10:06:34.171Z",
    "type": "selectCodeCell"
   },
   {
    "code": "import pandas as pd\nimport lux",
    "id": "0f8bd05836a841c697deaeeb8aa9b0fe",
    "order_count": 1,
    "time": "2020-07-14T10:06:34.377Z",
    "type": "executeCodeCell"
   },
   {
    "code": "df = pd.read_csv(\"lux/data/olympic.csv\")\nfrom lux.vis.Vis import Vis\nvis = Vis([\"Height\",\"SportType=Ball\"],df)",
    "id": "9935dffa78a04f748b17102046798106",
    "order_count": 2,
    "time": "2020-07-14T10:06:34.387Z",
    "type": "selectCodeCell"
   },
   {
    "code": "df = pd.read_csv(\"lux/data/olympic.csv\")\nfrom lux.vis.Vis import Vis\nvis = Vis([\"Height\",\"SportType=Ball\"],df)",
    "id": "9935dffa78a04f748b17102046798106",
    "order_count": 2,
    "time": "2020-07-14T10:06:34.713Z",
    "type": "executeCodeCell"
   },
   {
    "code": "vis",
    "id": "d3c084db54ef42d0b9c6f200977c9fc8",
    "order_count": 3,
    "time": "2020-07-14T10:06:34.728Z",
    "type": "selectCodeCell"
   },
   {
    "code": "cd ..",
    "id": "e557ef3d69e04b81a465a023ad169e3b",
    "isPrintLuxDf": false,
    "isPrintPandasDf": false,
    "isPrintView": false,
    "isPrintViewCollection": false,
    "order_count": 0,
    "time": "2020-07-14T10:06:35.175Z",
    "type": "completeCodeCell"
   },
   {
    "code": "cd ..",
    "id": "e557ef3d69e04b81a465a023ad169e3b",
    "isPrintLuxDf": false,
    "isPrintPandasDf": false,
    "isPrintView": false,
    "isPrintViewCollection": false,
    "order_count": 0,
    "time": "2020-07-14T10:06:35.175Z",
    "type": "completeCodeCell"
   },
   {
    "code": "import pandas as pd\nimport lux",
    "id": "0f8bd05836a841c697deaeeb8aa9b0fe",
    "isPrintLuxDf": false,
    "isPrintPandasDf": false,
    "isPrintView": false,
    "isPrintViewCollection": false,
    "order_count": 1,
    "time": "2020-07-14T10:06:35.707Z",
    "type": "completeCodeCell"
   },
   {
    "time": "2020-07-14T10:06:35.778Z",
    "type": "kernelReady"
   },
   {
    "code": "df = pd.read_csv(\"lux/data/olympic.csv\")\nfrom lux.vis.Vis import Vis\nvis = Vis([\"Height\",\"SportType=Ball\"],df)",
    "id": "9935dffa78a04f748b17102046798106",
    "order_count": 2,
    "time": "2020-07-14T10:06:37.576Z",
    "type": "selectCodeCell"
   },
   {
    "code": "df = pd.read_csv(\"lux/data/olympic.csv\")\nfrom lux.vis.Vis import Vis\nvis = Vis([\"Height\",\"SportType=Ball\"],df)",
    "id": "9935dffa78a04f748b17102046798106",
    "order_count": 2,
    "time": "2020-07-14T10:06:37.582Z",
    "type": "editCodeCell"
   },
   {
    "code": "df = pd.read_csv(\"lux/data/olympic.csv\")\nfrom lux.vis.Vis import Vis\nvis = Vis([\"Height\",\"SportType=Ball\"],df)",
    "id": "9935dffa78a04f748b17102046798106",
    "order_count": 2,
    "time": "2020-07-14T10:06:37.661Z",
    "type": "selectCodeCell"
   },
   {
    "code": "df = pd.read_csv(\"lux/data/olympic.csv\")\nfrom lux.vis.Vis import Vis\nvis = Vis([\"Height\",\"SportType=Ball\"],df)",
    "id": "9935dffa78a04f748b17102046798106",
    "order_count": 2,
    "time": "2020-07-14T10:06:41.153Z",
    "type": "editCodeCell"
   },
   {
    "code": "cd ..",
    "id": "e557ef3d69e04b81a465a023ad169e3b",
    "order_count": 0,
    "time": "2020-07-14T10:06:41.799Z",
    "type": "selectCodeCell"
   },
   {
    "code": "vis",
    "id": "d3c084db54ef42d0b9c6f200977c9fc8",
    "order_count": 3,
    "time": "2020-07-14T10:06:43.511Z",
    "type": "selectCodeCell"
   },
   {
    "code": "vis",
    "id": "d3c084db54ef42d0b9c6f200977c9fc8",
    "order_count": 3,
    "time": "2020-07-14T10:06:43.518Z",
    "type": "editCodeCell"
   },
   {
    "code": "vis",
    "id": "d3c084db54ef42d0b9c6f200977c9fc8",
    "order_count": 3,
    "time": "2020-07-14T10:06:44.036Z",
    "type": "executeCodeCell"
   },
   {
    "code": "vis.specLst",
    "id": "f63c2137aad54dfdbfe766d8c61d0ea5",
    "order_count": 4,
    "time": "2020-07-14T10:06:44.060Z",
    "type": "selectCodeCell"
   },
   {
    "code": "vis",
    "id": "d3c084db54ef42d0b9c6f200977c9fc8",
    "isPrintLuxDf": false,
    "isPrintPandasDf": false,
    "isPrintView": false,
    "isPrintViewCollection": false,
    "order_count": 3,
    "time": "2020-07-14T10:06:44.127Z",
    "type": "completeCodeCell"
   },
   {
    "code": "cd ..",
    "id": "e557ef3d69e04b81a465a023ad169e3b",
    "order_count": 0,
    "time": "2020-07-14T10:09:38.572Z",
    "type": "selectCodeCell"
   },
   {
    "code": "cd ..",
    "id": "e557ef3d69e04b81a465a023ad169e3b",
    "order_count": 0,
    "time": "2020-07-14T10:09:38.579Z",
    "type": "editCodeCell"
   },
   {
    "code": "cd ..",
    "id": "e557ef3d69e04b81a465a023ad169e3b",
    "order_count": 0,
    "time": "2020-07-14T10:09:38.719Z",
    "type": "selectCodeCell"
   },
   {
    "code": "cd ..",
    "id": "e557ef3d69e04b81a465a023ad169e3b",
    "order_count": 0,
    "time": "2020-07-14T10:09:39.224Z",
    "type": "selectCodeCell"
   },
   {
    "time": "2020-07-14T10:09:40.545Z",
    "type": "kernelRestart"
   },
   {
    "code": "cd ..",
    "id": "e557ef3d69e04b81a465a023ad169e3b",
    "order_count": 0,
    "time": "2020-07-14T10:09:41.247Z",
    "type": "executeCodeCell"
   },
   {
    "code": "import pandas as pd\nimport lux",
    "id": "0f8bd05836a841c697deaeeb8aa9b0fe",
    "order_count": 1,
    "time": "2020-07-14T10:09:41.258Z",
    "type": "selectCodeCell"
   },
   {
    "code": "cd ..",
    "id": "e557ef3d69e04b81a465a023ad169e3b",
    "isPrintLuxDf": false,
    "isPrintPandasDf": false,
    "isPrintView": false,
    "isPrintViewCollection": false,
    "order_count": 0,
    "time": "2020-07-14T10:09:41.604Z",
    "type": "completeCodeCell"
   },
   {
    "time": "2020-07-14T10:09:41.608Z",
    "type": "kernelReady"
   },
   {
    "code": "import pandas as pd\nimport lux",
    "id": "0f8bd05836a841c697deaeeb8aa9b0fe",
    "order_count": 1,
    "time": "2020-07-14T10:09:41.655Z",
    "type": "executeCodeCell"
   },
   {
    "code": "df = pd.read_csv(\"lux/data/olympic.csv\")\nfrom lux.vis.Vis import Vis\nvis = Vis([\"Height\",\"SportType=Ball\"],df)",
    "id": "9935dffa78a04f748b17102046798106",
    "order_count": 2,
    "time": "2020-07-14T10:09:41.668Z",
    "type": "selectCodeCell"
   },
   {
    "code": "import pandas as pd\nimport lux",
    "id": "0f8bd05836a841c697deaeeb8aa9b0fe",
    "isPrintLuxDf": false,
    "isPrintPandasDf": false,
    "isPrintView": false,
    "isPrintViewCollection": false,
    "order_count": 1,
    "time": "2020-07-14T10:09:42.184Z",
    "type": "completeCodeCell"
   },
   {
    "code": "df = pd.read_csv(\"lux/data/olympic.csv\")\nfrom lux.vis.Vis import Vis\nvis = Vis([\"Height\",\"SportType=Ball\"],df)",
    "id": "9935dffa78a04f748b17102046798106",
    "order_count": 2,
    "time": "2020-07-14T10:09:42.276Z",
    "type": "executeCodeCell"
   },
   {
    "code": "vis",
    "id": "d3c084db54ef42d0b9c6f200977c9fc8",
    "order_count": 3,
    "time": "2020-07-14T10:09:42.291Z",
    "type": "selectCodeCell"
   },
   {
    "code": "df = pd.read_csv(\"lux/data/olympic.csv\")\nfrom lux.vis.Vis import Vis\nvis = Vis([\"Height\",\"SportType=Ball\"],df)",
    "id": "9935dffa78a04f748b17102046798106",
    "isPrintLuxDf": false,
    "isPrintPandasDf": false,
    "isPrintView": false,
    "isPrintViewCollection": false,
    "order_count": 2,
    "time": "2020-07-14T10:09:42.442Z",
    "type": "completeCodeCell"
   },
   {
    "code": "df = pd.read_csv(\"lux/data/olympic.csv\")\nfrom lux.vis.Vis import Vis\nvis = Vis([\"Height\",\"SportType=Ball\"],df)",
    "id": "9935dffa78a04f748b17102046798106",
    "isPrintLuxDf": false,
    "isPrintPandasDf": false,
    "isPrintView": false,
    "isPrintViewCollection": false,
    "order_count": 2,
    "time": "2020-07-14T10:09:42.442Z",
    "type": "completeCodeCell"
   },
   {
    "code": "vis",
    "id": "d3c084db54ef42d0b9c6f200977c9fc8",
    "order_count": 3,
    "time": "2020-07-14T10:09:43.105Z",
    "type": "executeCodeCell"
   },
   {
    "code": "vis.specLst",
    "id": "f63c2137aad54dfdbfe766d8c61d0ea5",
    "order_count": 4,
    "time": "2020-07-14T10:09:43.116Z",
    "type": "selectCodeCell"
   },
   {
    "code": "vis",
    "id": "d3c084db54ef42d0b9c6f200977c9fc8",
    "isPrintLuxDf": false,
    "isPrintPandasDf": false,
    "isPrintView": false,
    "isPrintViewCollection": false,
    "order_count": 3,
    "time": "2020-07-14T10:09:43.126Z",
    "type": "completeCodeCell"
   },
   {
    "code": "df = pd.read_csv(\"lux/data/olympic.csv\")\nfrom lux.vis.Vis import Vis\nvis = Vis([\"Height\",\"SportType=Ball\"],df)",
    "id": "9935dffa78a04f748b17102046798106",
    "order_count": 2,
    "time": "2020-07-14T10:09:50.580Z",
    "type": "selectCodeCell"
   },
   {
    "time": "2020-07-14T10:09:51.980Z",
    "type": "kernelRestart"
   },
   {
    "time": "2020-07-14T10:09:52.128Z",
    "type": "kernelRestart"
   },
   {
    "time": "2020-07-14T10:09:53.443Z",
    "type": "kernelReady"
   },
   {
    "code": "cd ..",
    "id": "e557ef3d69e04b81a465a023ad169e3b",
    "order_count": 0,
    "time": "2020-07-14T10:09:53.451Z",
    "type": "selectCodeCell"
   },
   {
    "time": "2020-07-14T10:09:53.468Z",
    "type": "kernelReady"
   },
   {
    "code": "cd ..",
    "id": "e557ef3d69e04b81a465a023ad169e3b",
    "order_count": 0,
    "time": "2020-07-14T10:09:53.753Z",
    "type": "executeCodeCell"
   },
   {
    "code": "import pandas as pd\nimport lux",
    "id": "0f8bd05836a841c697deaeeb8aa9b0fe",
    "order_count": 1,
    "time": "2020-07-14T10:09:53.764Z",
    "type": "selectCodeCell"
   },
   {
    "code": "cd ..",
    "id": "e557ef3d69e04b81a465a023ad169e3b",
    "isPrintLuxDf": false,
    "isPrintPandasDf": false,
    "isPrintView": false,
    "isPrintViewCollection": false,
    "order_count": 0,
    "time": "2020-07-14T10:09:53.770Z",
    "type": "completeCodeCell"
   },
   {
    "code": "import pandas as pd\nimport lux",
    "id": "0f8bd05836a841c697deaeeb8aa9b0fe",
    "order_count": 1,
    "time": "2020-07-14T10:09:53.955Z",
    "type": "executeCodeCell"
   },
   {
    "code": "df = pd.read_csv(\"lux/data/olympic.csv\")\nfrom lux.vis.Vis import Vis\nvis = Vis([\"Height\",\"SportType=Ball\"],df)",
    "id": "9935dffa78a04f748b17102046798106",
    "order_count": 2,
    "time": "2020-07-14T10:09:53.970Z",
    "type": "selectCodeCell"
   },
   {
    "code": "df = pd.read_csv(\"lux/data/olympic.csv\")\nfrom lux.vis.Vis import Vis\nvis = Vis([\"Height\",\"SportType=Ball\"],df)",
    "id": "9935dffa78a04f748b17102046798106",
    "order_count": 2,
    "time": "2020-07-14T10:09:54.106Z",
    "type": "executeCodeCell"
   },
   {
    "code": "vis",
    "id": "d3c084db54ef42d0b9c6f200977c9fc8",
    "order_count": 3,
    "time": "2020-07-14T10:09:54.115Z",
    "type": "selectCodeCell"
   },
   {
    "code": "import pandas as pd\nimport lux",
    "id": "0f8bd05836a841c697deaeeb8aa9b0fe",
    "isPrintLuxDf": false,
    "isPrintPandasDf": false,
    "isPrintView": false,
    "isPrintViewCollection": false,
    "order_count": 1,
    "time": "2020-07-14T10:09:54.299Z",
    "type": "completeCodeCell"
   },
   {
    "code": "df = pd.read_csv(\"lux/data/olympic.csv\")\nfrom lux.vis.Vis import Vis\nvis = Vis([\"Height\",\"SportType=Ball\"],df)",
    "id": "9935dffa78a04f748b17102046798106",
    "isPrintLuxDf": false,
    "isPrintPandasDf": false,
    "isPrintView": false,
    "isPrintViewCollection": false,
    "order_count": 2,
    "time": "2020-07-14T10:09:54.351Z",
    "type": "completeCodeCell"
   },
   {
    "code": "vis",
    "id": "d3c084db54ef42d0b9c6f200977c9fc8",
    "order_count": 3,
    "time": "2020-07-14T10:09:55.044Z",
    "type": "executeCodeCell"
   },
   {
    "code": "vis.specLst",
    "id": "f63c2137aad54dfdbfe766d8c61d0ea5",
    "order_count": 4,
    "time": "2020-07-14T10:09:55.057Z",
    "type": "selectCodeCell"
   },
   {
    "code": "vis",
    "id": "d3c084db54ef42d0b9c6f200977c9fc8",
    "isPrintLuxDf": false,
    "isPrintPandasDf": false,
    "isPrintView": false,
    "isPrintViewCollection": false,
    "order_count": 3,
    "time": "2020-07-14T10:09:55.120Z",
    "type": "completeCodeCell"
   },
   {
    "code": "vis.specLst",
    "id": "f63c2137aad54dfdbfe766d8c61d0ea5",
    "order_count": 4,
    "time": "2020-07-14T10:10:22.063Z",
    "type": "selectCodeCell"
   },
   {
    "time": "2020-07-14T10:16:27.235Z",
    "type": "kernelReady"
   },
   {
    "time": "2020-07-14T10:36:47.572Z",
    "type": "kernelReady"
   },
   {
    "time": "2020-07-14T10:44:54.566Z",
    "type": "kernelReady"
   },
   {
    "time": "2020-07-16T12:14:52.859Z",
    "type": "kernelReady"
   },
   {
    "code": "cd ..",
    "id": "591ae743ad2f4bb2ab54e7b2cfdb6902",
    "order_count": 0,
    "time": "2020-07-16T12:14:53.408Z",
    "type": "editCodeCell"
   },
   {
    "code": "cd ..",
    "id": "591ae743ad2f4bb2ab54e7b2cfdb6902",
    "order_count": 0,
    "time": "2020-07-16T12:14:54.107Z",
    "type": "executeCodeCell"
   },
   {
    "code": "import pandas as pd\nimport lux",
    "id": "27405fce04b84c84be5572c5e43b3339",
    "order_count": 1,
    "time": "2020-07-16T12:14:54.133Z",
    "type": "selectCodeCell"
   },
   {
    "code": "cd ..",
    "id": "591ae743ad2f4bb2ab54e7b2cfdb6902",
    "isPrintLuxDf": false,
    "isPrintPandasDf": false,
    "isPrintView": false,
    "isPrintViewCollection": false,
    "order_count": 0,
    "time": "2020-07-16T12:14:54.143Z",
    "type": "completeCodeCell"
   },
   {
    "code": "import pandas as pd\nimport lux",
    "id": "27405fce04b84c84be5572c5e43b3339",
    "order_count": 1,
    "time": "2020-07-16T12:14:54.411Z",
    "type": "executeCodeCell"
   },
   {
    "code": "df = pd.read_csv(\"lux/data/olympic.csv\")\nfrom lux.vis.Vis import Vis\nvis = Vis([\"Height\",\"SportType=Ball\"],df)",
    "id": "c3782d56ceb5492888b885a5e25b0947",
    "order_count": 2,
    "time": "2020-07-16T12:14:54.425Z",
    "type": "selectCodeCell"
   },
   {
    "code": "df = pd.read_csv(\"lux/data/olympic.csv\")\nfrom lux.vis.Vis import Vis\nvis = Vis([\"Height\",\"SportType=Ball\"],df)",
    "id": "c3782d56ceb5492888b885a5e25b0947",
    "order_count": 2,
    "time": "2020-07-16T12:14:54.615Z",
    "type": "executeCodeCell"
   },
   {
    "code": "vis",
    "id": "b7933a6e38154674bff5ca1519241b3d",
    "order_count": 3,
    "time": "2020-07-16T12:14:54.630Z",
    "type": "selectCodeCell"
   },
   {
    "code": "import pandas as pd\nimport lux",
    "id": "27405fce04b84c84be5572c5e43b3339",
    "isPrintLuxDf": false,
    "isPrintPandasDf": false,
    "isPrintView": false,
    "isPrintViewCollection": false,
    "order_count": 1,
    "time": "2020-07-16T12:14:54.731Z",
    "type": "completeCodeCell"
   },
   {
    "code": "df = pd.read_csv(\"lux/data/olympic.csv\")\nfrom lux.vis.Vis import Vis\nvis = Vis([\"Height\",\"SportType=Ball\"],df)",
    "id": "c3782d56ceb5492888b885a5e25b0947",
    "isPrintLuxDf": false,
    "isPrintPandasDf": false,
    "isPrintView": false,
    "isPrintViewCollection": false,
    "order_count": 2,
    "time": "2020-07-16T12:14:54.784Z",
    "type": "completeCodeCell"
   },
   {
    "code": "vis",
    "id": "b7933a6e38154674bff5ca1519241b3d",
    "order_count": 3,
    "time": "2020-07-16T12:14:55.131Z",
    "type": "executeCodeCell"
   },
   {
    "code": "vis.specLst",
    "id": "9b95354203484c548bbc31a051ea323e",
    "order_count": 4,
    "time": "2020-07-16T12:14:55.142Z",
    "type": "selectCodeCell"
   },
   {
    "code": "vis",
    "id": "b7933a6e38154674bff5ca1519241b3d",
    "isPrintLuxDf": false,
    "isPrintPandasDf": false,
    "isPrintView": false,
    "isPrintViewCollection": false,
    "order_count": 3,
    "time": "2020-07-16T12:14:55.277Z",
    "type": "completeCodeCell"
   },
   {
    "code": "vis",
    "id": "b7933a6e38154674bff5ca1519241b3d",
    "order_count": 3,
    "time": "2020-07-16T12:20:02.724Z",
    "type": "selectCodeCell"
   },
   {
    "code": "vis.specLst",
    "id": "9b95354203484c548bbc31a051ea323e",
    "order_count": 4,
    "time": "2020-07-16T12:20:08.955Z",
    "type": "selectCodeCell"
   },
   {
    "code": "vis.set_specs([\"Height\",\"SportType=Ball\"])",
    "id": "690f3ebc9c074b6689a168af311ee641",
    "order_count": 5,
    "time": "2020-07-16T12:20:09.135Z",
    "type": "selectCodeCell"
   },
   {
    "code": "vis",
    "id": "0e000ddd814b44a98de2e10ad4ae1ad0",
    "order_count": 6,
    "time": "2020-07-16T12:20:09.531Z",
    "type": "selectCodeCell"
   },
   {
    "code": "vis.render_VSpec()",
    "id": "75f43a1de75d457285546a71cc9f4e4f",
    "order_count": 7,
    "time": "2020-07-16T12:20:09.977Z",
    "type": "selectCodeCell"
   },
   {
    "code": "def test_view():\n    df = pd.read_csv(\"lux/data/olympic.csv\")\n    from lux.vis.Vis import Vis\n    view_with_year = Vis([\"Height\",\"SportType=Ball\"],df)\n    assert view_with_year.get_specs().attribute==\"Year\"\n\ndef test_view_collection_set_query():\n    df = pd.read_csv(\"lux/data/olympic.csv\")\n    from lux.vis.VisCollection import VisCollection\n    vc = VisCollection([\"Height\",\"SportType=Ice\",\"?\"],df)\n    vc.set_query([\"Height\",\"SportType=Boat\",\"?\"])\n    for v in vc.collection: \n        filter_vspec = list(filter(lambda x: x.channel==\"\",v.spec_lst))[0]\n        assert filter_vspec.value ==\"Boat\"",
    "id": "474ce8c231884d0b8dfe29831e4281f8",
    "order_count": 8,
    "time": "2020-07-16T12:20:10.584Z",
    "type": "selectCodeCell"
   },
   {
    "code": "test_view()",
    "id": "de8010cfbec64b1c8f495b37fcf92b37",
    "order_count": 9,
    "time": "2020-07-16T12:20:13.362Z",
    "type": "selectCodeCell"
   },
   {
    "code": "",
    "id": "332cef8bcb6a47f599090626f38b768a",
    "order_count": 10,
    "time": "2020-07-16T12:20:13.911Z",
    "type": "selectCodeCell"
   },
   {
    "code": "test_view()",
    "id": "de8010cfbec64b1c8f495b37fcf92b37",
    "order_count": 9,
    "time": "2020-07-16T12:20:14.559Z",
    "type": "selectCodeCell"
   },
   {
    "code": "def test_view():\n    df = pd.read_csv(\"lux/data/olympic.csv\")\n    from lux.vis.Vis import Vis\n    view_with_year = Vis([\"Height\",\"SportType=Ball\"],df)\n    assert view_with_year.get_specs().attribute==\"Year\"\n\ndef test_view_collection_set_query():\n    df = pd.read_csv(\"lux/data/olympic.csv\")\n    from lux.vis.VisCollection import VisCollection\n    vc = VisCollection([\"Height\",\"SportType=Ice\",\"?\"],df)\n    vc.set_query([\"Height\",\"SportType=Boat\",\"?\"])\n    for v in vc.collection: \n        filter_vspec = list(filter(lambda x: x.channel==\"\",v.spec_lst))[0]\n        assert filter_vspec.value ==\"Boat\"",
    "id": "474ce8c231884d0b8dfe29831e4281f8",
    "order_count": 8,
    "time": "2020-07-16T12:20:14.744Z",
    "type": "selectCodeCell"
   },
   {
    "code": "vis.render_VSpec()",
    "id": "75f43a1de75d457285546a71cc9f4e4f",
    "order_count": 7,
    "time": "2020-07-16T12:20:14.912Z",
    "type": "selectCodeCell"
   },
   {
    "code": "vis",
    "id": "0e000ddd814b44a98de2e10ad4ae1ad0",
    "order_count": 6,
    "time": "2020-07-16T12:20:15.091Z",
    "type": "selectCodeCell"
   },
   {
    "code": "vis.set_specs([\"Height\",\"SportType=Ball\"])",
    "id": "690f3ebc9c074b6689a168af311ee641",
    "order_count": 5,
    "time": "2020-07-16T12:20:15.536Z",
    "type": "selectCodeCell"
   },
   {
    "code": "vis.specLst",
    "id": "9b95354203484c548bbc31a051ea323e",
    "order_count": 4,
    "time": "2020-07-16T12:20:15.766Z",
    "type": "selectCodeCell"
   },
   {
    "code": "vis",
    "id": "b7933a6e38154674bff5ca1519241b3d",
    "order_count": 3,
    "time": "2020-07-16T12:20:16.297Z",
    "type": "selectCodeCell"
   },
   {
    "code": "df = pd.read_csv(\"lux/data/olympic.csv\")\nfrom lux.vis.Vis import Vis\nvis = Vis([\"Height\",\"SportType=Ball\"],df)",
    "id": "c3782d56ceb5492888b885a5e25b0947",
    "order_count": 2,
    "time": "2020-07-16T12:20:16.483Z",
    "type": "selectCodeCell"
   },
   {
    "code": "vis",
    "id": "b7933a6e38154674bff5ca1519241b3d",
    "order_count": 3,
    "time": "2020-07-16T12:20:18.106Z",
    "type": "selectCodeCell"
   },
   {
    "code": "vis",
    "id": "b7933a6e38154674bff5ca1519241b3d",
    "order_count": 3,
    "time": "2020-07-16T12:20:18.808Z",
    "type": "executeCodeCell"
   },
   {
    "code": "vis.specLst",
    "id": "9b95354203484c548bbc31a051ea323e",
    "order_count": 4,
    "time": "2020-07-16T12:20:18.819Z",
    "type": "selectCodeCell"
   },
   {
    "code": "vis",
    "id": "b7933a6e38154674bff5ca1519241b3d",
    "isPrintLuxDf": false,
    "isPrintPandasDf": false,
    "isPrintView": false,
    "isPrintViewCollection": false,
    "order_count": 3,
    "time": "2020-07-16T12:20:18.853Z",
    "type": "completeCodeCell"
   },
   {
    "code": "vis",
    "id": "b7933a6e38154674bff5ca1519241b3d",
    "order_count": 3,
    "time": "2020-07-16T12:24:18.234Z",
    "type": "selectCodeCell"
   },
   {
    "code": "vis",
    "id": "b7933a6e38154674bff5ca1519241b3d",
    "order_count": 3,
    "time": "2020-07-16T12:24:18.242Z",
    "type": "editCodeCell"
   },
   {
    "time": "2020-07-16T12:24:20.745Z",
    "type": "kernelRestart"
   },
   {
    "time": "2020-07-16T12:24:20.894Z",
    "type": "kernelRestart"
   },
   {
    "code": "df = pd.read_csv(\"lux/data/olympic.csv\")\nfrom lux.vis.Vis import Vis\nvis = Vis([\"Height\",\"SportType=Ball\"],df)",
    "id": "c3782d56ceb5492888b885a5e25b0947",
    "order_count": 2,
    "time": "2020-07-16T12:24:21.281Z",
    "type": "selectCodeCell"
   },
   {
    "code": "import pandas as pd\nimport lux",
    "id": "27405fce04b84c84be5572c5e43b3339",
    "order_count": 1,
    "time": "2020-07-16T12:24:21.447Z",
    "type": "selectCodeCell"
   },
   {
    "code": "cd ..",
    "id": "591ae743ad2f4bb2ab54e7b2cfdb6902",
    "order_count": 0,
    "time": "2020-07-16T12:24:21.625Z",
    "type": "selectCodeCell"
   },
   {
    "time": "2020-07-16T12:24:22.072Z",
    "type": "kernelReady"
   },
   {
    "time": "2020-07-16T12:24:22.077Z",
    "type": "kernelReady"
   },
   {
    "time": "2020-07-16T12:24:22.079Z",
    "type": "kernelReady"
   },
   {
    "code": "cd ..",
    "id": "591ae743ad2f4bb2ab54e7b2cfdb6902",
    "order_count": 0,
    "time": "2020-07-16T12:24:22.138Z",
    "type": "executeCodeCell"
   },
   {
    "code": "import pandas as pd\nimport lux",
    "id": "27405fce04b84c84be5572c5e43b3339",
    "order_count": 1,
    "time": "2020-07-16T12:24:22.151Z",
    "type": "selectCodeCell"
   },
   {
    "code": "cd ..",
    "id": "591ae743ad2f4bb2ab54e7b2cfdb6902",
    "isPrintLuxDf": false,
    "isPrintPandasDf": false,
    "isPrintView": false,
    "isPrintViewCollection": false,
    "order_count": 0,
    "time": "2020-07-16T12:24:22.162Z",
    "type": "completeCodeCell"
   },
   {
    "time": "2020-07-16T12:24:22.202Z",
    "type": "kernelReady"
   },
   {
    "code": "import pandas as pd\nimport lux",
    "id": "27405fce04b84c84be5572c5e43b3339",
    "order_count": 1,
    "time": "2020-07-16T12:24:22.282Z",
    "type": "executeCodeCell"
   },
   {
    "code": "df = pd.read_csv(\"lux/data/olympic.csv\")\nfrom lux.vis.Vis import Vis\nvis = Vis([\"Height\",\"SportType=Ball\"],df)",
    "id": "c3782d56ceb5492888b885a5e25b0947",
    "order_count": 2,
    "time": "2020-07-16T12:24:22.295Z",
    "type": "selectCodeCell"
   },
   {
    "code": "df = pd.read_csv(\"lux/data/olympic.csv\")\nfrom lux.vis.Vis import Vis\nvis = Vis([\"Height\",\"SportType=Ball\"],df)",
    "id": "c3782d56ceb5492888b885a5e25b0947",
    "order_count": 2,
    "time": "2020-07-16T12:24:22.440Z",
    "type": "executeCodeCell"
   },
   {
    "code": "vis",
    "id": "b7933a6e38154674bff5ca1519241b3d",
    "order_count": 3,
    "time": "2020-07-16T12:24:22.450Z",
    "type": "selectCodeCell"
   },
   {
    "code": "import pandas as pd\nimport lux",
    "id": "27405fce04b84c84be5572c5e43b3339",
    "isPrintLuxDf": false,
    "isPrintPandasDf": false,
    "isPrintView": false,
    "isPrintViewCollection": false,
    "order_count": 1,
    "time": "2020-07-16T12:24:22.603Z",
    "type": "completeCodeCell"
   },
   {
    "code": "df = pd.read_csv(\"lux/data/olympic.csv\")\nfrom lux.vis.Vis import Vis\nvis = Vis([\"Height\",\"SportType=Ball\"],df)",
    "id": "c3782d56ceb5492888b885a5e25b0947",
    "isPrintLuxDf": false,
    "isPrintPandasDf": false,
    "isPrintView": false,
    "isPrintViewCollection": false,
    "order_count": 2,
    "time": "2020-07-16T12:24:22.655Z",
    "type": "completeCodeCell"
   },
   {
    "code": "vis",
    "id": "b7933a6e38154674bff5ca1519241b3d",
    "order_count": 3,
    "time": "2020-07-16T12:24:22.850Z",
    "type": "executeCodeCell"
   },
   {
    "code": "vis.specLst",
    "id": "9b95354203484c548bbc31a051ea323e",
    "order_count": 4,
    "time": "2020-07-16T12:24:22.861Z",
    "type": "selectCodeCell"
   },
   {
    "code": "vis",
    "id": "b7933a6e38154674bff5ca1519241b3d",
    "isPrintLuxDf": false,
    "isPrintPandasDf": false,
    "isPrintView": false,
    "isPrintViewCollection": false,
    "order_count": 3,
    "time": "2020-07-16T12:24:22.921Z",
    "type": "completeCodeCell"
   },
   {
    "code": "df = pd.read_csv(\"lux/data/olympic.csv\")\nfrom lux.vis.Vis import Vis\nvis = Vis([\"Height\",\"SportType=Ball\"],df)",
    "id": "c3782d56ceb5492888b885a5e25b0947",
    "order_count": 2,
    "time": "2020-07-16T12:24:30.715Z",
    "type": "selectCodeCell"
   },
   {
    "code": "df = pd.read_csv(\"lux/data/olympic.csv\")\nfrom lux.vis.Vis import Vis\nvis = Vis([\"Height\",\"SportType=Ball\"],df)",
    "id": "c3782d56ceb5492888b885a5e25b0947",
    "order_count": 2,
    "time": "2020-07-16T12:24:30.721Z",
    "type": "editCodeCell"
   },
   {
    "code": "df = pd.read_csv(\"lux/data/olympic.csv\")\nfrom lux.vis.Vis import Vis\nvis = Vis([\"Height\",\"SportType=Ball\"],df)",
    "id": "c3782d56ceb5492888b885a5e25b0947",
    "order_count": 2,
    "time": "2020-07-16T12:24:41.849Z",
    "type": "editCodeCell"
   },
   {
    "code": "vis",
    "id": "b7933a6e38154674bff5ca1519241b3d",
    "order_count": 3,
    "time": "2020-07-16T12:24:42.163Z",
    "type": "selectCodeCell"
   },
   {
    "time": "2020-07-16T12:24:43.479Z",
    "type": "kernelRestart"
   },
   {
    "time": "2020-07-16T12:24:43.623Z",
    "type": "kernelRestart"
   },
   {
    "code": "df = pd.read_csv(\"lux/data/olympic.csv\")\nfrom lux.vis.Vis import Vis\nvis = Vis([\"Height\",\"SportType=Ball\"],df)",
    "id": "c3782d56ceb5492888b885a5e25b0947",
    "order_count": 2,
    "time": "2020-07-16T12:24:44.107Z",
    "type": "selectCodeCell"
   },
   {
    "code": "import pandas as pd\nimport lux",
    "id": "27405fce04b84c84be5572c5e43b3339",
    "order_count": 1,
    "time": "2020-07-16T12:24:44.245Z",
    "type": "selectCodeCell"
   },
   {
    "code": "cd ..",
    "id": "591ae743ad2f4bb2ab54e7b2cfdb6902",
    "order_count": 0,
    "time": "2020-07-16T12:24:44.398Z",
    "type": "selectCodeCell"
   },
   {
    "time": "2020-07-16T12:24:44.913Z",
    "type": "kernelReady"
   },
   {
    "time": "2020-07-16T12:24:44.918Z",
    "type": "kernelReady"
   },
   {
    "time": "2020-07-16T12:24:44.922Z",
    "type": "kernelReady"
   },
   {
    "code": "cd ..",
    "id": "591ae743ad2f4bb2ab54e7b2cfdb6902",
    "order_count": 0,
    "time": "2020-07-16T12:24:45.103Z",
    "type": "executeCodeCell"
   },
   {
    "code": "import pandas as pd\nimport lux",
    "id": "27405fce04b84c84be5572c5e43b3339",
    "order_count": 1,
    "time": "2020-07-16T12:24:45.115Z",
    "type": "selectCodeCell"
   },
   {
    "code": "cd ..",
    "id": "591ae743ad2f4bb2ab54e7b2cfdb6902",
    "isPrintLuxDf": false,
    "isPrintPandasDf": false,
    "isPrintView": false,
    "isPrintViewCollection": false,
    "order_count": 0,
    "time": "2020-07-16T12:24:45.126Z",
    "type": "completeCodeCell"
   },
   {
    "code": "import pandas as pd\nimport lux",
    "id": "27405fce04b84c84be5572c5e43b3339",
    "order_count": 1,
    "time": "2020-07-16T12:24:45.263Z",
    "type": "executeCodeCell"
   },
   {
    "code": "df = pd.read_csv(\"lux/data/olympic.csv\")\nfrom lux.vis.Vis import Vis\nvis = Vis([\"Height\",\"SportType=Ball\"],df)",
    "id": "c3782d56ceb5492888b885a5e25b0947",
    "order_count": 2,
    "time": "2020-07-16T12:24:45.273Z",
    "type": "selectCodeCell"
   },
   {
    "code": "import pandas as pd\nimport lux",
    "id": "27405fce04b84c84be5572c5e43b3339",
    "isPrintLuxDf": false,
    "isPrintPandasDf": false,
    "isPrintView": false,
    "isPrintViewCollection": false,
    "order_count": 1,
    "time": "2020-07-16T12:24:45.586Z",
    "type": "completeCodeCell"
   },
   {
    "code": "df = pd.read_csv(\"lux/data/olympic.csv\")\nfrom lux.vis.Vis import Vis\nvis = Vis([\"Height\",\"SportType=Ball\"],df)",
    "id": "c3782d56ceb5492888b885a5e25b0947",
    "order_count": 2,
    "time": "2020-07-16T12:24:45.650Z",
    "type": "executeCodeCell"
   },
   {
    "code": "vis",
    "id": "b7933a6e38154674bff5ca1519241b3d",
    "order_count": 3,
    "time": "2020-07-16T12:24:45.664Z",
    "type": "selectCodeCell"
   },
   {
    "code": "df = pd.read_csv(\"lux/data/olympic.csv\")\nfrom lux.vis.Vis import Vis\nvis = Vis([\"Height\",\"SportType=Ball\"],df)",
    "id": "c3782d56ceb5492888b885a5e25b0947",
    "isPrintLuxDf": false,
    "isPrintPandasDf": false,
    "isPrintView": false,
    "isPrintViewCollection": false,
    "order_count": 2,
    "time": "2020-07-16T12:24:45.806Z",
    "type": "completeCodeCell"
   },
   {
    "code": "vis",
    "id": "b7933a6e38154674bff5ca1519241b3d",
    "order_count": 3,
    "time": "2020-07-16T12:24:45.987Z",
    "type": "executeCodeCell"
   },
   {
    "code": "vis.specLst",
    "id": "9b95354203484c548bbc31a051ea323e",
    "order_count": 4,
    "time": "2020-07-16T12:24:46.000Z",
    "type": "selectCodeCell"
   },
   {
    "code": "vis",
    "id": "b7933a6e38154674bff5ca1519241b3d",
    "isPrintLuxDf": false,
    "isPrintPandasDf": false,
    "isPrintView": false,
    "isPrintViewCollection": false,
    "order_count": 3,
    "time": "2020-07-16T12:24:46.009Z",
    "type": "completeCodeCell"
   },
   {
    "code": "import pandas as pd\nimport lux",
    "id": "27405fce04b84c84be5572c5e43b3339",
    "order_count": 1,
    "time": "2020-07-16T12:24:59.654Z",
    "type": "selectCodeCell"
   },
   {
    "code": "import pandas as pd\nimport lux",
    "id": "27405fce04b84c84be5572c5e43b3339",
    "order_count": 1,
    "time": "2020-07-16T12:24:59.658Z",
    "type": "editCodeCell"
   },
   {
    "time": "2020-07-16T12:25:01.230Z",
    "type": "kernelRestart"
   },
   {
    "code": "cd ..",
    "id": "591ae743ad2f4bb2ab54e7b2cfdb6902",
    "order_count": 0,
    "time": "2020-07-16T12:25:01.998Z",
    "type": "selectCodeCell"
   },
   {
    "time": "2020-07-16T12:25:02.059Z",
    "type": "kernelReady"
   },
   {
    "time": "2020-07-16T12:25:02.062Z",
    "type": "kernelReady"
   },
   {
    "code": "cd ..",
    "id": "591ae743ad2f4bb2ab54e7b2cfdb6902",
    "order_count": 0,
    "time": "2020-07-16T12:25:02.464Z",
    "type": "executeCodeCell"
   },
   {
    "code": "import pandas as pd\nimport lux",
    "id": "27405fce04b84c84be5572c5e43b3339",
    "order_count": 1,
    "time": "2020-07-16T12:25:02.476Z",
    "type": "selectCodeCell"
   },
   {
    "code": "cd ..",
    "id": "591ae743ad2f4bb2ab54e7b2cfdb6902",
    "isPrintLuxDf": false,
    "isPrintPandasDf": false,
    "isPrintView": false,
    "isPrintViewCollection": false,
    "order_count": 0,
    "time": "2020-07-16T12:25:02.487Z",
    "type": "completeCodeCell"
   },
   {
    "code": "import pandas as pd\nimport lux",
    "id": "27405fce04b84c84be5572c5e43b3339",
    "order_count": 1,
    "time": "2020-07-16T12:25:02.658Z",
    "type": "executeCodeCell"
   },
   {
    "code": "df = pd.read_csv(\"lux/data/olympic.csv\")\nfrom lux.vis.Vis import Vis\nvis = Vis([\"Height\",\"SportType=Ball\"],df)",
    "id": "c3782d56ceb5492888b885a5e25b0947",
    "order_count": 2,
    "time": "2020-07-16T12:25:02.676Z",
    "type": "selectCodeCell"
   },
   {
    "code": "df = pd.read_csv(\"lux/data/olympic.csv\")\nfrom lux.vis.Vis import Vis\nvis = Vis([\"Height\",\"SportType=Ball\"],df)",
    "id": "c3782d56ceb5492888b885a5e25b0947",
    "order_count": 2,
    "time": "2020-07-16T12:25:02.792Z",
    "type": "executeCodeCell"
   },
   {
    "code": "vis",
    "id": "b7933a6e38154674bff5ca1519241b3d",
    "order_count": 3,
    "time": "2020-07-16T12:25:02.804Z",
    "type": "selectCodeCell"
   },
   {
    "code": "import pandas as pd\nimport lux",
    "id": "27405fce04b84c84be5572c5e43b3339",
    "isPrintLuxDf": false,
    "isPrintPandasDf": false,
    "isPrintView": false,
    "isPrintViewCollection": false,
    "order_count": 1,
    "time": "2020-07-16T12:25:03.057Z",
    "type": "completeCodeCell"
   },
   {
    "code": "df = pd.read_csv(\"lux/data/olympic.csv\")\nfrom lux.vis.Vis import Vis\nvis = Vis([\"Height\",\"SportType=Ball\"],df)",
    "id": "c3782d56ceb5492888b885a5e25b0947",
    "isPrintLuxDf": false,
    "isPrintPandasDf": false,
    "isPrintView": false,
    "isPrintViewCollection": false,
    "order_count": 2,
    "time": "2020-07-16T12:25:03.105Z",
    "type": "completeCodeCell"
   },
   {
    "code": "vis",
    "id": "b7933a6e38154674bff5ca1519241b3d",
    "order_count": 3,
    "time": "2020-07-16T12:25:06.032Z",
    "type": "executeCodeCell"
   },
   {
    "code": "vis.specLst",
    "id": "9b95354203484c548bbc31a051ea323e",
    "order_count": 4,
    "time": "2020-07-16T12:25:06.041Z",
    "type": "selectCodeCell"
   },
   {
    "code": "vis",
    "id": "b7933a6e38154674bff5ca1519241b3d",
    "isPrintLuxDf": false,
    "isPrintPandasDf": false,
    "isPrintView": false,
    "isPrintViewCollection": false,
    "order_count": 3,
    "time": "2020-07-16T12:25:06.103Z",
    "type": "completeCodeCell"
   },
   {
    "time": "2020-07-16T12:28:51.664Z",
    "type": "kernelRestart"
   },
   {
    "time": "2020-07-16T12:28:51.773Z",
    "type": "kernelRestart"
   },
   {
    "code": "vis.specLst",
    "id": "9b95354203484c548bbc31a051ea323e",
    "order_count": 4,
    "time": "2020-07-16T12:28:52.636Z",
    "type": "executeCodeCell"
   },
   {
    "code": "vis.set_specs([\"Height\",\"SportType=Ball\"])",
    "id": "690f3ebc9c074b6689a168af311ee641",
    "order_count": 5,
    "time": "2020-07-16T12:28:52.645Z",
    "type": "selectCodeCell"
   },
   {
    "time": "2020-07-16T12:28:53.134Z",
    "type": "kernelReady"
   },
   {
    "time": "2020-07-16T12:28:53.241Z",
    "type": "kernelReady"
   },
   {
    "code": "vis.specLst",
    "id": "9b95354203484c548bbc31a051ea323e",
    "order_count": 4,
    "time": "2020-07-16T12:28:53.319Z",
    "type": "selectCodeCell"
   },
   {
    "code": "vis",
    "id": "b7933a6e38154674bff5ca1519241b3d",
    "order_count": 3,
    "time": "2020-07-16T12:28:53.493Z",
    "type": "selectCodeCell"
   },
   {
    "code": "df = pd.read_csv(\"lux/data/olympic.csv\")\nfrom lux.vis.Vis import Vis\nvis = Vis([\"Height\",\"SportType=Ball\"],df)",
    "id": "c3782d56ceb5492888b885a5e25b0947",
    "order_count": 2,
    "time": "2020-07-16T12:28:53.652Z",
    "type": "selectCodeCell"
   },
   {
    "code": "import pandas as pd\nimport lux",
    "id": "27405fce04b84c84be5572c5e43b3339",
    "order_count": 1,
    "time": "2020-07-16T12:28:53.800Z",
    "type": "selectCodeCell"
   },
   {
    "code": "cd ..",
    "id": "591ae743ad2f4bb2ab54e7b2cfdb6902",
    "order_count": 0,
    "time": "2020-07-16T12:28:54.063Z",
    "type": "selectCodeCell"
   },
   {
    "code": "cd ..",
    "id": "591ae743ad2f4bb2ab54e7b2cfdb6902",
    "order_count": 0,
    "time": "2020-07-16T12:28:54.511Z",
    "type": "executeCodeCell"
   },
   {
    "code": "import pandas as pd\nimport lux",
    "id": "27405fce04b84c84be5572c5e43b3339",
    "order_count": 1,
    "time": "2020-07-16T12:28:54.523Z",
    "type": "selectCodeCell"
   },
   {
    "code": "cd ..",
    "id": "591ae743ad2f4bb2ab54e7b2cfdb6902",
    "isPrintLuxDf": false,
    "isPrintPandasDf": false,
    "isPrintView": false,
    "isPrintViewCollection": false,
    "order_count": 0,
    "time": "2020-07-16T12:28:54.534Z",
    "type": "completeCodeCell"
   },
   {
    "code": "import pandas as pd\nimport lux",
    "id": "27405fce04b84c84be5572c5e43b3339",
    "order_count": 1,
    "time": "2020-07-16T12:28:54.903Z",
    "type": "executeCodeCell"
   },
   {
    "code": "df = pd.read_csv(\"lux/data/olympic.csv\")\nfrom lux.vis.Vis import Vis\nvis = Vis([\"Height\",\"SportType=Ball\"],df)",
    "id": "c3782d56ceb5492888b885a5e25b0947",
    "order_count": 2,
    "time": "2020-07-16T12:28:54.915Z",
    "type": "selectCodeCell"
   },
   {
    "code": "import pandas as pd\nimport lux",
    "id": "27405fce04b84c84be5572c5e43b3339",
    "isPrintLuxDf": false,
    "isPrintPandasDf": false,
    "isPrintView": false,
    "isPrintViewCollection": false,
    "order_count": 1,
    "time": "2020-07-16T12:28:55.214Z",
    "type": "completeCodeCell"
   },
   {
    "code": "df = pd.read_csv(\"lux/data/olympic.csv\")\nfrom lux.vis.Vis import Vis\nvis = Vis([\"Height\",\"SportType=Ball\"],df)",
    "id": "c3782d56ceb5492888b885a5e25b0947",
    "order_count": 2,
    "time": "2020-07-16T12:28:55.384Z",
    "type": "executeCodeCell"
   },
   {
    "code": "vis",
    "id": "b7933a6e38154674bff5ca1519241b3d",
    "order_count": 3,
    "time": "2020-07-16T12:28:55.399Z",
    "type": "selectCodeCell"
   },
   {
    "code": "df = pd.read_csv(\"lux/data/olympic.csv\")\nfrom lux.vis.Vis import Vis\nvis = Vis([\"Height\",\"SportType=Ball\"],df)",
    "id": "c3782d56ceb5492888b885a5e25b0947",
    "isPrintLuxDf": false,
    "isPrintPandasDf": false,
    "isPrintView": false,
    "isPrintViewCollection": false,
    "order_count": 2,
    "time": "2020-07-16T12:28:55.495Z",
    "type": "completeCodeCell"
   },
   {
    "code": "vis",
    "id": "b7933a6e38154674bff5ca1519241b3d",
    "order_count": 3,
    "time": "2020-07-16T12:28:55.832Z",
    "type": "executeCodeCell"
   },
   {
    "code": "vis.specLst",
    "id": "9b95354203484c548bbc31a051ea323e",
    "order_count": 4,
    "time": "2020-07-16T12:28:55.842Z",
    "type": "selectCodeCell"
   },
   {
    "code": "vis",
    "id": "b7933a6e38154674bff5ca1519241b3d",
    "isPrintLuxDf": false,
    "isPrintPandasDf": false,
    "isPrintView": false,
    "isPrintViewCollection": false,
    "order_count": 3,
    "time": "2020-07-16T12:28:55.851Z",
    "type": "completeCodeCell"
   },
   {
    "code": "vis",
    "id": "b7933a6e38154674bff5ca1519241b3d",
    "order_count": 3,
    "time": "2020-07-16T12:28:56.975Z",
    "type": "selectCodeCell"
   },
   {
    "code": "df = pd.read_csv(\"lux/data/olympic.csv\")\nfrom lux.vis.Vis import Vis\nvis = Vis([\"Height\",\"SportType=Ball\"],df)",
    "id": "c3782d56ceb5492888b885a5e25b0947",
    "order_count": 2,
    "time": "2020-07-16T12:28:57.156Z",
    "type": "selectCodeCell"
   },
   {
    "code": "import pandas as pd\nimport lux",
    "id": "27405fce04b84c84be5572c5e43b3339",
    "order_count": 1,
    "time": "2020-07-16T12:28:57.322Z",
    "type": "selectCodeCell"
   },
   {
    "code": "df = pd.read_csv(\"lux/data/olympic.csv\")\nfrom lux.vis.Vis import Vis\nvis = Vis([\"Height\",\"SportType=Ball\"],df)",
    "id": "c3782d56ceb5492888b885a5e25b0947",
    "order_count": 2,
    "time": "2020-07-16T12:29:09.001Z",
    "type": "selectCodeCell"
   },
   {
    "time": "2020-07-16T12:29:10.291Z",
    "type": "kernelRestart"
   },
   {
    "code": "import pandas as pd\nimport lux",
    "id": "27405fce04b84c84be5572c5e43b3339",
    "order_count": 1,
    "time": "2020-07-16T12:29:10.788Z",
    "type": "selectCodeCell"
   },
   {
    "code": "cd ..",
    "id": "591ae743ad2f4bb2ab54e7b2cfdb6902",
    "order_count": 0,
    "time": "2020-07-16T12:29:10.931Z",
    "type": "selectCodeCell"
   },
   {
    "time": "2020-07-16T12:29:11.091Z",
    "type": "kernelReady"
   },
   {
    "code": "cd ..",
    "id": "591ae743ad2f4bb2ab54e7b2cfdb6902",
    "order_count": 0,
    "time": "2020-07-16T12:29:11.445Z",
    "type": "executeCodeCell"
   },
   {
    "code": "import pandas as pd\nimport lux",
    "id": "27405fce04b84c84be5572c5e43b3339",
    "order_count": 1,
    "time": "2020-07-16T12:29:11.456Z",
    "type": "selectCodeCell"
   },
   {
    "code": "cd ..",
    "id": "591ae743ad2f4bb2ab54e7b2cfdb6902",
    "isPrintLuxDf": false,
    "isPrintPandasDf": false,
    "isPrintView": false,
    "isPrintViewCollection": false,
    "order_count": 0,
    "time": "2020-07-16T12:29:11.464Z",
    "type": "completeCodeCell"
   },
   {
    "code": "import pandas as pd\nimport lux",
    "id": "27405fce04b84c84be5572c5e43b3339",
    "order_count": 1,
    "time": "2020-07-16T12:29:11.613Z",
    "type": "executeCodeCell"
   },
   {
    "code": "df = pd.read_csv(\"lux/data/olympic.csv\")\nfrom lux.vis.Vis import Vis\nvis = Vis([\"Height\",\"SportType=Ball\"],df)",
    "id": "c3782d56ceb5492888b885a5e25b0947",
    "order_count": 2,
    "time": "2020-07-16T12:29:11.626Z",
    "type": "selectCodeCell"
   },
   {
    "code": "df = pd.read_csv(\"lux/data/olympic.csv\")\nfrom lux.vis.Vis import Vis\nvis = Vis([\"Height\",\"SportType=Ball\"],df)",
    "id": "c3782d56ceb5492888b885a5e25b0947",
    "order_count": 2,
    "time": "2020-07-16T12:29:11.750Z",
    "type": "executeCodeCell"
   },
   {
    "code": "vis",
    "id": "b7933a6e38154674bff5ca1519241b3d",
    "order_count": 3,
    "time": "2020-07-16T12:29:11.759Z",
    "type": "selectCodeCell"
   },
   {
    "code": "import pandas as pd\nimport lux",
    "id": "27405fce04b84c84be5572c5e43b3339",
    "isPrintLuxDf": false,
    "isPrintPandasDf": false,
    "isPrintView": false,
    "isPrintViewCollection": false,
    "order_count": 1,
    "time": "2020-07-16T12:29:11.998Z",
    "type": "completeCodeCell"
   },
   {
    "code": "df = pd.read_csv(\"lux/data/olympic.csv\")\nfrom lux.vis.Vis import Vis\nvis = Vis([\"Height\",\"SportType=Ball\"],df)",
    "id": "c3782d56ceb5492888b885a5e25b0947",
    "isPrintLuxDf": false,
    "isPrintPandasDf": false,
    "isPrintView": false,
    "isPrintViewCollection": false,
    "order_count": 2,
    "time": "2020-07-16T12:29:12.188Z",
    "type": "completeCodeCell"
   },
   {
    "time": "2020-07-16T12:38:22.226Z",
    "type": "kernelReady"
   },
   {
    "code": "df = pd.read_csv(\"lux/data/olympic.csv\")\nfrom lux.vis.Vis import Vis\nvis = Vis([\"Height\",\"SportType=Ball\"],df)",
    "id": "c3782d56ceb5492888b885a5e25b0947",
    "order_count": 2,
    "time": "2020-07-16T12:43:55.042Z",
    "type": "selectCodeCell"
   },
   {
    "time": "2020-07-16T12:43:56.436Z",
    "type": "kernelRestart"
   },
   {
    "time": "2020-07-16T12:43:56.565Z",
    "type": "kernelRestart"
   },
   {
    "code": "import pandas as pd\nimport lux",
    "id": "27405fce04b84c84be5572c5e43b3339",
    "order_count": 1,
    "time": "2020-07-16T12:43:57.020Z",
    "type": "selectCodeCell"
   },
   {
    "code": "cd ..",
    "id": "591ae743ad2f4bb2ab54e7b2cfdb6902",
    "order_count": 0,
    "time": "2020-07-16T12:43:57.150Z",
    "type": "selectCodeCell"
   },
   {
    "code": "cd ..",
    "id": "591ae743ad2f4bb2ab54e7b2cfdb6902",
    "order_count": 0,
    "time": "2020-07-16T12:43:57.558Z",
    "type": "executeCodeCell"
   },
   {
    "code": "import pandas as pd\nimport lux",
    "id": "27405fce04b84c84be5572c5e43b3339",
    "order_count": 1,
    "time": "2020-07-16T12:43:57.571Z",
    "type": "selectCodeCell"
   },
   {
    "code": "import pandas as pd\nimport lux",
    "id": "27405fce04b84c84be5572c5e43b3339",
    "order_count": 1,
    "time": "2020-07-16T12:43:57.725Z",
    "type": "executeCodeCell"
   },
   {
    "code": "df = pd.read_csv(\"lux/data/olympic.csv\")\nfrom lux.vis.Vis import Vis\nvis = Vis([\"Height\",\"SportType=Ball\"],df)",
    "id": "c3782d56ceb5492888b885a5e25b0947",
    "order_count": 2,
    "time": "2020-07-16T12:43:57.740Z",
    "type": "selectCodeCell"
   },
   {
    "code": "df = pd.read_csv(\"lux/data/olympic.csv\")\nfrom lux.vis.Vis import Vis\nvis = Vis([\"Height\",\"SportType=Ball\"],df)",
    "id": "c3782d56ceb5492888b885a5e25b0947",
    "order_count": 2,
    "time": "2020-07-16T12:43:57.845Z",
    "type": "executeCodeCell"
   },
   {
    "code": "vis",
    "id": "b7933a6e38154674bff5ca1519241b3d",
    "order_count": 3,
    "time": "2020-07-16T12:43:57.855Z",
    "type": "selectCodeCell"
   },
   {
    "time": "2020-07-16T12:43:58.071Z",
    "type": "kernelReady"
   },
   {
    "time": "2020-07-16T12:43:58.076Z",
    "type": "kernelReady"
   },
   {
    "code": "cd ..",
    "id": "591ae743ad2f4bb2ab54e7b2cfdb6902",
    "isPrintLuxDf": false,
    "isPrintPandasDf": false,
    "isPrintView": false,
    "isPrintViewCollection": false,
    "order_count": 0,
    "time": "2020-07-16T12:43:58.079Z",
    "type": "completeCodeCell"
   },
   {
    "code": "import pandas as pd\nimport lux",
    "id": "27405fce04b84c84be5572c5e43b3339",
    "isPrintLuxDf": false,
    "isPrintPandasDf": false,
    "isPrintView": false,
    "isPrintViewCollection": false,
    "order_count": 1,
    "time": "2020-07-16T12:43:58.388Z",
    "type": "completeCodeCell"
   },
   {
    "code": "df = pd.read_csv(\"lux/data/olympic.csv\")\nfrom lux.vis.Vis import Vis\nvis = Vis([\"Height\",\"SportType=Ball\"],df)",
    "id": "c3782d56ceb5492888b885a5e25b0947",
    "isPrintLuxDf": false,
    "isPrintPandasDf": false,
    "isPrintView": false,
    "isPrintViewCollection": false,
    "order_count": 2,
    "time": "2020-07-16T12:43:58.529Z",
    "type": "completeCodeCell"
   },
   {
    "time": "2020-07-16T12:43:58.531Z",
    "type": "kernelReady"
   },
   {
    "time": "2020-07-16T12:43:58.532Z",
    "type": "kernelReady"
   },
   {
    "code": "df = pd.read_csv(\"lux/data/olympic.csv\")\nfrom lux.vis.Vis import Vis\nvis = Vis([\"Height\",\"SportType=Ball\"],df)",
    "id": "c3782d56ceb5492888b885a5e25b0947",
    "order_count": 2,
    "time": "2020-07-16T12:44:12.945Z",
    "type": "selectCodeCell"
   },
   {
    "time": "2020-07-16T12:44:14.277Z",
    "type": "kernelRestart"
   },
   {
    "time": "2020-07-16T12:44:14.389Z",
    "type": "kernelRestart"
   },
   {
    "time": "2020-07-16T12:44:15.614Z",
    "type": "kernelReady"
   },
   {
    "time": "2020-07-16T12:44:15.628Z",
    "type": "kernelReady"
   },
   {
    "code": "df = pd.read_csv(\"lux/data/olympic.csv\")\nfrom lux.vis.Vis import Vis\nvis = Vis([\"Height\",\"SportType=Ball\"],df)",
    "id": "c3782d56ceb5492888b885a5e25b0947",
    "order_count": 2,
    "time": "2020-07-16T12:44:31.326Z",
    "type": "selectCodeCell"
   },
   {
    "time": "2020-07-16T12:44:34.386Z",
    "type": "kernelRestart"
   },
   {
    "time": "2020-07-16T12:44:34.558Z",
    "type": "kernelRestart"
   },
   {
    "time": "2020-07-16T12:44:34.695Z",
    "type": "kernelRestart"
   },
   {
    "code": "import pandas as pd\nimport lux",
    "id": "27405fce04b84c84be5572c5e43b3339",
    "order_count": 1,
    "time": "2020-07-16T12:44:35.051Z",
    "type": "selectCodeCell"
   },
   {
    "code": "cd ..",
    "id": "591ae743ad2f4bb2ab54e7b2cfdb6902",
    "order_count": 0,
    "time": "2020-07-16T12:44:35.239Z",
    "type": "selectCodeCell"
   },
   {
    "time": "2020-07-16T12:44:36.212Z",
    "type": "kernelReady"
   },
   {
    "time": "2020-07-16T12:44:36.271Z",
    "type": "kernelReady"
   },
   {
    "code": "cd ..",
    "id": "591ae743ad2f4bb2ab54e7b2cfdb6902",
    "order_count": 0,
    "time": "2020-07-16T12:44:36.497Z",
    "type": "executeCodeCell"
   },
   {
    "code": "import pandas as pd\nimport lux",
    "id": "27405fce04b84c84be5572c5e43b3339",
    "order_count": 1,
    "time": "2020-07-16T12:44:36.510Z",
    "type": "selectCodeCell"
   },
   {
    "code": "cd ..",
    "id": "591ae743ad2f4bb2ab54e7b2cfdb6902",
    "isPrintLuxDf": false,
    "isPrintPandasDf": false,
    "isPrintView": false,
    "isPrintViewCollection": false,
    "order_count": 0,
    "time": "2020-07-16T12:44:36.519Z",
    "type": "completeCodeCell"
   },
   {
    "code": "import pandas as pd\nimport lux",
    "id": "27405fce04b84c84be5572c5e43b3339",
    "order_count": 1,
    "time": "2020-07-16T12:44:36.961Z",
    "type": "executeCodeCell"
   },
   {
    "code": "df = pd.read_csv(\"lux/data/olympic.csv\")\nfrom lux.vis.Vis import Vis\nvis = Vis([\"Height\",\"SportType=Ball\"],df)",
    "id": "c3782d56ceb5492888b885a5e25b0947",
    "order_count": 2,
    "time": "2020-07-16T12:44:36.976Z",
    "type": "selectCodeCell"
   },
   {
    "code": "df = pd.read_csv(\"lux/data/olympic.csv\")\nfrom lux.vis.Vis import Vis\nvis = Vis([\"Height\",\"SportType=Ball\"],df)",
    "id": "c3782d56ceb5492888b885a5e25b0947",
    "order_count": 2,
    "time": "2020-07-16T12:44:37.175Z",
    "type": "executeCodeCell"
   },
   {
    "code": "vis",
    "id": "b7933a6e38154674bff5ca1519241b3d",
    "order_count": 3,
    "time": "2020-07-16T12:44:37.184Z",
    "type": "selectCodeCell"
   },
   {
    "code": "import pandas as pd\nimport lux",
    "id": "27405fce04b84c84be5572c5e43b3339",
    "isPrintLuxDf": false,
    "isPrintPandasDf": false,
    "isPrintView": false,
    "isPrintViewCollection": false,
    "order_count": 1,
    "time": "2020-07-16T12:44:37.278Z",
    "type": "completeCodeCell"
   },
   {
    "code": "df = pd.read_csv(\"lux/data/olympic.csv\")\nfrom lux.vis.Vis import Vis\nvis = Vis([\"Height\",\"SportType=Ball\"],df)",
    "id": "c3782d56ceb5492888b885a5e25b0947",
    "isPrintLuxDf": false,
    "isPrintPandasDf": false,
    "isPrintView": false,
    "isPrintViewCollection": false,
    "order_count": 2,
    "time": "2020-07-16T12:44:37.404Z",
    "type": "completeCodeCell"
   },
   {
    "code": "df = pd.read_csv(\"lux/data/olympic.csv\")\nfrom lux.vis.Vis import Vis\nvis = Vis([\"Height\",\"SportType=Ball\"],df)",
    "id": "c3782d56ceb5492888b885a5e25b0947",
    "order_count": 2,
    "time": "2020-07-16T12:44:58.906Z",
    "type": "selectCodeCell"
   },
   {
    "time": "2020-07-16T12:45:00.669Z",
    "type": "kernelRestart"
   },
   {
    "time": "2020-07-16T12:45:01.511Z",
    "type": "kernelReady"
   },
   {
    "time": "2020-07-16T12:45:01.516Z",
    "type": "kernelReady"
   },
   {
    "code": "cd ..",
    "id": "591ae743ad2f4bb2ab54e7b2cfdb6902",
    "order_count": 0,
    "time": "2020-07-16T12:45:02.819Z",
    "type": "selectCodeCell"
   },
   {
    "code": "cd ..",
    "id": "591ae743ad2f4bb2ab54e7b2cfdb6902",
    "order_count": 0,
    "time": "2020-07-16T12:45:03.514Z",
    "type": "executeCodeCell"
   },
   {
    "code": "import pandas as pd\nimport lux",
    "id": "27405fce04b84c84be5572c5e43b3339",
    "order_count": 1,
    "time": "2020-07-16T12:45:03.526Z",
    "type": "selectCodeCell"
   },
   {
    "code": "cd ..",
    "id": "591ae743ad2f4bb2ab54e7b2cfdb6902",
    "isPrintLuxDf": false,
    "isPrintPandasDf": false,
    "isPrintView": false,
    "isPrintViewCollection": false,
    "order_count": 0,
    "time": "2020-07-16T12:45:03.536Z",
    "type": "completeCodeCell"
   },
   {
    "code": "import pandas as pd\nimport lux",
    "id": "27405fce04b84c84be5572c5e43b3339",
    "order_count": 1,
    "time": "2020-07-16T12:45:03.706Z",
    "type": "executeCodeCell"
   },
   {
    "code": "df = pd.read_csv(\"lux/data/olympic.csv\")\nfrom lux.vis.Vis import Vis\nvis = Vis([\"Height\",\"SportType=Ball\"],df)",
    "id": "c3782d56ceb5492888b885a5e25b0947",
    "order_count": 2,
    "time": "2020-07-16T12:45:03.721Z",
    "type": "selectCodeCell"
   },
   {
    "code": "df = pd.read_csv(\"lux/data/olympic.csv\")\nfrom lux.vis.Vis import Vis\nvis = Vis([\"Height\",\"SportType=Ball\"],df)",
    "id": "c3782d56ceb5492888b885a5e25b0947",
    "order_count": 2,
    "time": "2020-07-16T12:45:03.840Z",
    "type": "executeCodeCell"
   },
   {
    "code": "vis",
    "id": "b7933a6e38154674bff5ca1519241b3d",
    "order_count": 3,
    "time": "2020-07-16T12:45:03.847Z",
    "type": "selectCodeCell"
   },
   {
    "code": "import pandas as pd\nimport lux",
    "id": "27405fce04b84c84be5572c5e43b3339",
    "isPrintLuxDf": false,
    "isPrintPandasDf": false,
    "isPrintView": false,
    "isPrintViewCollection": false,
    "order_count": 1,
    "time": "2020-07-16T12:45:04.032Z",
    "type": "completeCodeCell"
   },
   {
    "code": "df = pd.read_csv(\"lux/data/olympic.csv\")\nfrom lux.vis.Vis import Vis\nvis = Vis([\"Height\",\"SportType=Ball\"],df)",
    "id": "c3782d56ceb5492888b885a5e25b0947",
    "isPrintLuxDf": false,
    "isPrintPandasDf": false,
    "isPrintView": false,
    "isPrintViewCollection": false,
    "order_count": 2,
    "time": "2020-07-16T12:45:04.081Z",
    "type": "completeCodeCell"
   },
   {
    "code": "vis",
    "id": "b7933a6e38154674bff5ca1519241b3d",
    "order_count": 3,
    "time": "2020-07-16T12:45:05.922Z",
    "type": "executeCodeCell"
   },
   {
    "code": "vis.specLst",
    "id": "9b95354203484c548bbc31a051ea323e",
    "order_count": 4,
    "time": "2020-07-16T12:45:05.933Z",
    "type": "selectCodeCell"
   },
   {
    "code": "vis",
    "id": "b7933a6e38154674bff5ca1519241b3d",
    "isPrintLuxDf": false,
    "isPrintPandasDf": false,
    "isPrintView": false,
    "isPrintViewCollection": false,
    "order_count": 3,
    "time": "2020-07-16T12:45:05.992Z",
    "type": "completeCodeCell"
   },
   {
    "time": "2020-07-16T12:45:34.626Z",
    "type": "kernelKilled"
   },
   {
    "time": "2020-07-16T12:45:35.554Z",
    "type": "kernelReady"
   },
   {
    "code": "vis",
    "id": "b7933a6e38154674bff5ca1519241b3d",
    "order_count": 3,
    "time": "2020-07-16T12:45:39.440Z",
    "type": "selectCodeCell"
   },
   {
    "code": "vis",
    "id": "b7933a6e38154674bff5ca1519241b3d",
    "order_count": 3,
    "time": "2020-07-16T12:45:46.433Z",
    "type": "selectCodeCell"
   },
   {
    "code": "vis",
    "id": "b7933a6e38154674bff5ca1519241b3d",
    "order_count": 3,
    "time": "2020-07-16T12:45:46.664Z",
    "type": "selectCodeCell"
   },
   {
    "code": "vis",
    "id": "b7933a6e38154674bff5ca1519241b3d",
    "order_count": 3,
    "time": "2020-07-16T12:45:47.776Z",
    "type": "selectCodeCell"
   },
   {
    "code": "vis",
    "id": "b7933a6e38154674bff5ca1519241b3d",
    "order_count": 3,
    "time": "2020-07-16T12:45:47.943Z",
    "type": "selectCodeCell"
   },
   {
    "code": "vis",
    "id": "b7933a6e38154674bff5ca1519241b3d",
    "order_count": 3,
    "time": "2020-07-16T12:45:48.614Z",
    "type": "selectCodeCell"
   },
   {
    "code": "vis",
    "id": "b7933a6e38154674bff5ca1519241b3d",
    "order_count": 3,
    "time": "2020-07-16T12:46:02.681Z",
    "type": "selectCodeCell"
   },
   {
    "code": "vis",
    "id": "b7933a6e38154674bff5ca1519241b3d",
    "order_count": 3,
    "time": "2020-07-16T12:46:03.193Z",
    "type": "selectCodeCell"
   },
   {
    "code": "vis",
    "id": "b7933a6e38154674bff5ca1519241b3d",
    "order_count": 3,
    "time": "2020-07-16T12:46:30.797Z",
    "type": "selectCodeCell"
   },
   {
    "code": "vis",
    "id": "b7933a6e38154674bff5ca1519241b3d",
    "order_count": 3,
    "time": "2020-07-16T12:46:31.189Z",
    "type": "selectCodeCell"
   },
   {
    "time": "2020-07-16T12:46:32.600Z",
    "type": "kernelRestart"
   },
   {
    "time": "2020-07-16T12:46:32.769Z",
    "type": "kernelRestart"
   },
   {
    "code": "df = pd.read_csv(\"lux/data/olympic.csv\")\nfrom lux.vis.Vis import Vis\nvis = Vis([\"Height\",\"SportType=Ball\"],df)",
    "id": "c3782d56ceb5492888b885a5e25b0947",
    "order_count": 2,
    "time": "2020-07-16T12:46:33.175Z",
    "type": "selectCodeCell"
   },
   {
    "code": "import pandas as pd\nimport lux",
    "id": "27405fce04b84c84be5572c5e43b3339",
    "order_count": 1,
    "time": "2020-07-16T12:46:33.332Z",
    "type": "selectCodeCell"
   },
   {
    "code": "cd ..",
    "id": "591ae743ad2f4bb2ab54e7b2cfdb6902",
    "order_count": 0,
    "time": "2020-07-16T12:46:33.483Z",
    "type": "selectCodeCell"
   },
   {
    "time": "2020-07-16T12:46:33.933Z",
    "type": "kernelReady"
   },
   {
    "time": "2020-07-16T12:46:33.935Z",
    "type": "kernelReady"
   },
   {
    "time": "2020-07-16T12:46:33.938Z",
    "type": "kernelReady"
   },
   {
    "code": "cd ..",
    "id": "591ae743ad2f4bb2ab54e7b2cfdb6902",
    "order_count": 0,
    "time": "2020-07-16T12:46:33.995Z",
    "type": "executeCodeCell"
   },
   {
    "code": "import pandas as pd\nimport lux",
    "id": "27405fce04b84c84be5572c5e43b3339",
    "order_count": 1,
    "time": "2020-07-16T12:46:34.007Z",
    "type": "selectCodeCell"
   },
   {
    "code": "cd ..",
    "id": "591ae743ad2f4bb2ab54e7b2cfdb6902",
    "isPrintLuxDf": false,
    "isPrintPandasDf": false,
    "isPrintView": false,
    "isPrintViewCollection": false,
    "order_count": 0,
    "time": "2020-07-16T12:46:34.018Z",
    "type": "completeCodeCell"
   },
   {
    "code": "import pandas as pd\nimport lux",
    "id": "27405fce04b84c84be5572c5e43b3339",
    "order_count": 1,
    "time": "2020-07-16T12:46:34.157Z",
    "type": "executeCodeCell"
   },
   {
    "code": "df = pd.read_csv(\"lux/data/olympic.csv\")\nfrom lux.vis.Vis import Vis\nvis = Vis([\"Height\",\"SportType=Ball\"],df)",
    "id": "c3782d56ceb5492888b885a5e25b0947",
    "order_count": 2,
    "time": "2020-07-16T12:46:34.170Z",
    "type": "selectCodeCell"
   },
   {
    "code": "df = pd.read_csv(\"lux/data/olympic.csv\")\nfrom lux.vis.Vis import Vis\nvis = Vis([\"Height\",\"SportType=Ball\"],df)",
    "id": "c3782d56ceb5492888b885a5e25b0947",
    "order_count": 2,
    "time": "2020-07-16T12:46:34.346Z",
    "type": "executeCodeCell"
   },
   {
    "code": "vis",
    "id": "b7933a6e38154674bff5ca1519241b3d",
    "order_count": 3,
    "time": "2020-07-16T12:46:34.357Z",
    "type": "selectCodeCell"
   },
   {
    "code": "import pandas as pd\nimport lux",
    "id": "27405fce04b84c84be5572c5e43b3339",
    "isPrintLuxDf": false,
    "isPrintPandasDf": false,
    "isPrintView": false,
    "isPrintViewCollection": false,
    "order_count": 1,
    "time": "2020-07-16T12:46:34.478Z",
    "type": "completeCodeCell"
   },
   {
    "code": "df = pd.read_csv(\"lux/data/olympic.csv\")\nfrom lux.vis.Vis import Vis\nvis = Vis([\"Height\",\"SportType=Ball\"],df)",
    "id": "c3782d56ceb5492888b885a5e25b0947",
    "isPrintLuxDf": false,
    "isPrintPandasDf": false,
    "isPrintView": false,
    "isPrintViewCollection": false,
    "order_count": 2,
    "time": "2020-07-16T12:46:34.531Z",
    "type": "completeCodeCell"
   },
   {
    "code": "vis",
    "id": "b7933a6e38154674bff5ca1519241b3d",
    "order_count": 3,
    "time": "2020-07-16T12:46:34.685Z",
    "type": "executeCodeCell"
   },
   {
    "code": "vis.specLst",
    "id": "9b95354203484c548bbc31a051ea323e",
    "order_count": 4,
    "time": "2020-07-16T12:46:34.697Z",
    "type": "selectCodeCell"
   },
   {
    "code": "vis",
    "id": "b7933a6e38154674bff5ca1519241b3d",
    "isPrintLuxDf": false,
    "isPrintPandasDf": false,
    "isPrintView": false,
    "isPrintViewCollection": false,
    "order_count": 3,
    "time": "2020-07-16T12:46:34.755Z",
    "type": "completeCodeCell"
   },
   {
    "code": "df = pd.read_csv(\"lux/data/olympic.csv\")\nfrom lux.vis.Vis import Vis\nvis = Vis([\"Height\",\"SportType=Ball\"],df)",
    "id": "c3782d56ceb5492888b885a5e25b0947",
    "order_count": 2,
    "time": "2020-07-16T12:46:36.593Z",
    "type": "selectCodeCell"
   },
   {
    "code": "df = pd.read_csv(\"lux/data/olympic.csv\")\nfrom lux.vis.Vis import Vis\nvis = Vis([\"Height\",\"SportType=Ball\"],df)",
    "id": "c3782d56ceb5492888b885a5e25b0947",
    "order_count": 2,
    "time": "2020-07-16T12:46:40.184Z",
    "type": "selectCodeCell"
   },
   {
    "time": "2020-07-16T12:46:41.765Z",
    "type": "kernelRestart"
   },
   {
    "time": "2020-07-16T12:46:41.914Z",
    "type": "kernelRestart"
   },
   {
    "code": "import pandas as pd\nimport lux",
    "id": "27405fce04b84c84be5572c5e43b3339",
    "order_count": 1,
    "time": "2020-07-16T12:46:42.432Z",
    "type": "selectCodeCell"
   },
   {
    "code": "cd ..",
    "id": "591ae743ad2f4bb2ab54e7b2cfdb6902",
    "order_count": 0,
    "time": "2020-07-16T12:46:42.644Z",
    "type": "selectCodeCell"
   },
   {
    "code": "cd ..",
    "id": "591ae743ad2f4bb2ab54e7b2cfdb6902",
    "order_count": 0,
    "time": "2020-07-16T12:46:43.189Z",
    "type": "executeCodeCell"
   },
   {
    "code": "import pandas as pd\nimport lux",
    "id": "27405fce04b84c84be5572c5e43b3339",
    "order_count": 1,
    "time": "2020-07-16T12:46:43.201Z",
    "type": "selectCodeCell"
   },
   {
    "time": "2020-07-16T12:46:43.226Z",
    "type": "kernelReady"
   },
   {
    "code": "import pandas as pd\nimport lux",
    "id": "27405fce04b84c84be5572c5e43b3339",
    "order_count": 1,
    "time": "2020-07-16T12:46:43.548Z",
    "type": "executeCodeCell"
   },
   {
    "code": "df = pd.read_csv(\"lux/data/olympic.csv\")\nfrom lux.vis.Vis import Vis\nvis = Vis([\"Height\",\"SportType=Ball\"],df)",
    "id": "c3782d56ceb5492888b885a5e25b0947",
    "order_count": 2,
    "time": "2020-07-16T12:46:43.561Z",
    "type": "selectCodeCell"
   },
   {
    "code": "import pandas as pd\nimport lux",
    "id": "27405fce04b84c84be5572c5e43b3339",
    "isPrintLuxDf": false,
    "isPrintPandasDf": false,
    "isPrintView": false,
    "isPrintViewCollection": false,
    "order_count": 1,
    "time": "2020-07-16T12:46:43.877Z",
    "type": "completeCodeCell"
   },
   {
    "code": "df = pd.read_csv(\"lux/data/olympic.csv\")\nfrom lux.vis.Vis import Vis\nvis = Vis([\"Height\",\"SportType=Ball\"],df)",
    "id": "c3782d56ceb5492888b885a5e25b0947",
    "order_count": 2,
    "time": "2020-07-16T12:46:44.453Z",
    "type": "executeCodeCell"
   },
   {
    "code": "vis",
    "id": "b7933a6e38154674bff5ca1519241b3d",
    "order_count": 3,
    "time": "2020-07-16T12:46:44.469Z",
    "type": "selectCodeCell"
   },
   {
    "code": "df = pd.read_csv(\"lux/data/olympic.csv\")\nfrom lux.vis.Vis import Vis\nvis = Vis([\"Height\",\"SportType=Ball\"],df)",
    "id": "c3782d56ceb5492888b885a5e25b0947",
    "isPrintLuxDf": false,
    "isPrintPandasDf": false,
    "isPrintView": false,
    "isPrintViewCollection": false,
    "order_count": 2,
    "time": "2020-07-16T12:46:44.524Z",
    "type": "completeCodeCell"
   },
   {
    "code": "vis",
    "id": "b7933a6e38154674bff5ca1519241b3d",
    "order_count": 3,
    "time": "2020-07-16T12:46:46.005Z",
    "type": "executeCodeCell"
   },
   {
    "code": "vis.specLst",
    "id": "9b95354203484c548bbc31a051ea323e",
    "order_count": 4,
    "time": "2020-07-16T12:46:46.016Z",
    "type": "selectCodeCell"
   },
   {
    "code": "vis",
    "id": "b7933a6e38154674bff5ca1519241b3d",
    "isPrintLuxDf": false,
    "isPrintPandasDf": false,
    "isPrintView": false,
    "isPrintViewCollection": false,
    "order_count": 3,
    "time": "2020-07-16T12:46:46.082Z",
    "type": "completeCodeCell"
   },
   {
    "code": "vis",
    "id": "b7933a6e38154674bff5ca1519241b3d",
    "order_count": 3,
    "time": "2020-07-16T12:47:12.312Z",
    "type": "selectCodeCell"
   },
   {
    "time": "2020-07-16T12:47:13.769Z",
    "type": "kernelRestart"
   },
   {
    "time": "2020-07-16T12:47:13.914Z",
    "type": "kernelRestart"
   },
   {
    "code": "df = pd.read_csv(\"lux/data/olympic.csv\")\nfrom lux.vis.Vis import Vis\nvis = Vis([\"Height\",\"SportType=Ball\"],df)",
    "id": "c3782d56ceb5492888b885a5e25b0947",
    "order_count": 2,
    "time": "2020-07-16T12:47:14.400Z",
    "type": "selectCodeCell"
   },
   {
    "code": "import pandas as pd\nimport lux",
    "id": "27405fce04b84c84be5572c5e43b3339",
    "order_count": 1,
    "time": "2020-07-16T12:47:14.555Z",
    "type": "selectCodeCell"
   },
   {
    "code": "cd ..",
    "id": "591ae743ad2f4bb2ab54e7b2cfdb6902",
    "order_count": 0,
    "time": "2020-07-16T12:47:14.681Z",
    "type": "selectCodeCell"
   },
   {
    "code": "cd ..",
    "id": "591ae743ad2f4bb2ab54e7b2cfdb6902",
    "order_count": 0,
    "time": "2020-07-16T12:47:15.116Z",
    "type": "executeCodeCell"
   },
   {
    "code": "import pandas as pd\nimport lux",
    "id": "27405fce04b84c84be5572c5e43b3339",
    "order_count": 1,
    "time": "2020-07-16T12:47:15.124Z",
    "type": "selectCodeCell"
   },
   {
    "time": "2020-07-16T12:47:15.233Z",
    "type": "kernelReady"
   },
   {
    "time": "2020-07-16T12:47:15.240Z",
    "type": "kernelReady"
   },
   {
    "code": "cd ..",
    "id": "591ae743ad2f4bb2ab54e7b2cfdb6902",
    "isPrintLuxDf": false,
    "isPrintPandasDf": false,
    "isPrintView": false,
    "isPrintViewCollection": false,
    "order_count": 0,
    "time": "2020-07-16T12:47:15.244Z",
    "type": "completeCodeCell"
   },
   {
    "code": "cd ..",
    "id": "591ae743ad2f4bb2ab54e7b2cfdb6902",
    "isPrintLuxDf": false,
    "isPrintPandasDf": false,
    "isPrintView": false,
    "isPrintViewCollection": false,
    "order_count": 0,
    "time": "2020-07-16T12:47:15.244Z",
    "type": "completeCodeCell"
   },
   {
    "time": "2020-07-16T12:47:15.262Z",
    "type": "kernelReady"
   },
   {
    "code": "import pandas as pd\nimport lux",
    "id": "27405fce04b84c84be5572c5e43b3339",
    "order_count": 1,
    "time": "2020-07-16T12:47:15.292Z",
    "type": "executeCodeCell"
   },
   {
    "code": "df = pd.read_csv(\"lux/data/olympic.csv\")\nfrom lux.vis.Vis import Vis\nvis = Vis([\"Height\",\"SportType=Ball\"],df)",
    "id": "c3782d56ceb5492888b885a5e25b0947",
    "order_count": 2,
    "time": "2020-07-16T12:47:15.307Z",
    "type": "selectCodeCell"
   },
   {
    "code": "df = pd.read_csv(\"lux/data/olympic.csv\")\nfrom lux.vis.Vis import Vis\nvis = Vis([\"Height\",\"SportType=Ball\"],df)",
    "id": "c3782d56ceb5492888b885a5e25b0947",
    "order_count": 2,
    "time": "2020-07-16T12:47:15.435Z",
    "type": "executeCodeCell"
   },
   {
    "code": "vis",
    "id": "b7933a6e38154674bff5ca1519241b3d",
    "order_count": 3,
    "time": "2020-07-16T12:47:15.449Z",
    "type": "selectCodeCell"
   },
   {
    "code": "import pandas as pd\nimport lux",
    "id": "27405fce04b84c84be5572c5e43b3339",
    "isPrintLuxDf": false,
    "isPrintPandasDf": false,
    "isPrintView": false,
    "isPrintViewCollection": false,
    "order_count": 1,
    "time": "2020-07-16T12:47:15.673Z",
    "type": "completeCodeCell"
   },
   {
    "code": "df = pd.read_csv(\"lux/data/olympic.csv\")\nfrom lux.vis.Vis import Vis\nvis = Vis([\"Height\",\"SportType=Ball\"],df)",
    "id": "c3782d56ceb5492888b885a5e25b0947",
    "isPrintLuxDf": false,
    "isPrintPandasDf": false,
    "isPrintView": false,
    "isPrintViewCollection": false,
    "order_count": 2,
    "time": "2020-07-16T12:47:15.729Z",
    "type": "completeCodeCell"
   },
   {
    "time": "2020-07-16T12:47:15.734Z",
    "type": "kernelReady"
   },
   {
    "code": "vis",
    "id": "b7933a6e38154674bff5ca1519241b3d",
    "order_count": 3,
    "time": "2020-07-16T12:47:15.748Z",
    "type": "executeCodeCell"
   },
   {
    "code": "vis.specLst",
    "id": "9b95354203484c548bbc31a051ea323e",
    "order_count": 4,
    "time": "2020-07-16T12:47:15.756Z",
    "type": "selectCodeCell"
   },
   {
    "code": "vis",
    "id": "b7933a6e38154674bff5ca1519241b3d",
    "isPrintLuxDf": false,
    "isPrintPandasDf": false,
    "isPrintView": false,
    "isPrintViewCollection": false,
    "order_count": 3,
    "time": "2020-07-16T12:47:15.805Z",
    "type": "completeCodeCell"
   },
   {
    "code": "vis",
    "id": "b7933a6e38154674bff5ca1519241b3d",
    "order_count": 3,
    "time": "2020-07-16T12:47:50.025Z",
    "type": "selectCodeCell"
   },
   {
    "time": "2020-07-16T12:47:51.352Z",
    "type": "kernelRestart"
   },
   {
    "time": "2020-07-16T12:47:51.532Z",
    "type": "kernelRestart"
   },
   {
    "code": "df = pd.read_csv(\"lux/data/olympic.csv\")\nfrom lux.vis.Vis import Vis\nvis = Vis([\"Height\",\"SportType=Ball\"],df)",
    "id": "c3782d56ceb5492888b885a5e25b0947",
    "order_count": 2,
    "time": "2020-07-16T12:47:52.156Z",
    "type": "selectCodeCell"
   },
   {
    "code": "import pandas as pd\nimport lux",
    "id": "27405fce04b84c84be5572c5e43b3339",
    "order_count": 1,
    "time": "2020-07-16T12:47:52.319Z",
    "type": "selectCodeCell"
   },
   {
    "code": "cd ..",
    "id": "591ae743ad2f4bb2ab54e7b2cfdb6902",
    "order_count": 0,
    "time": "2020-07-16T12:47:52.490Z",
    "type": "selectCodeCell"
   },
   {
    "time": "2020-07-16T12:47:52.784Z",
    "type": "kernelReady"
   },
   {
    "time": "2020-07-16T12:47:52.787Z",
    "type": "kernelReady"
   },
   {
    "time": "2020-07-16T12:47:52.791Z",
    "type": "kernelReady"
   },
   {
    "time": "2020-07-16T12:47:52.796Z",
    "type": "kernelReady"
   },
   {
    "code": "cd ..",
    "id": "591ae743ad2f4bb2ab54e7b2cfdb6902",
    "order_count": 0,
    "time": "2020-07-16T12:47:52.940Z",
    "type": "executeCodeCell"
   },
   {
    "code": "import pandas as pd\nimport lux",
    "id": "27405fce04b84c84be5572c5e43b3339",
    "order_count": 1,
    "time": "2020-07-16T12:47:52.949Z",
    "type": "selectCodeCell"
   },
   {
    "code": "cd ..",
    "id": "591ae743ad2f4bb2ab54e7b2cfdb6902",
    "isPrintLuxDf": false,
    "isPrintPandasDf": false,
    "isPrintView": false,
    "isPrintViewCollection": false,
    "order_count": 0,
    "time": "2020-07-16T12:47:52.959Z",
    "type": "completeCodeCell"
   },
   {
    "code": "import pandas as pd\nimport lux",
    "id": "27405fce04b84c84be5572c5e43b3339",
    "order_count": 1,
    "time": "2020-07-16T12:47:53.103Z",
    "type": "executeCodeCell"
   },
   {
    "code": "df = pd.read_csv(\"lux/data/olympic.csv\")\nfrom lux.vis.Vis import Vis\nvis = Vis([\"Height\",\"SportType=Ball\"],df)",
    "id": "c3782d56ceb5492888b885a5e25b0947",
    "order_count": 2,
    "time": "2020-07-16T12:47:53.116Z",
    "type": "selectCodeCell"
   },
   {
    "code": "df = pd.read_csv(\"lux/data/olympic.csv\")\nfrom lux.vis.Vis import Vis\nvis = Vis([\"Height\",\"SportType=Ball\"],df)",
    "id": "c3782d56ceb5492888b885a5e25b0947",
    "order_count": 2,
    "time": "2020-07-16T12:47:53.309Z",
    "type": "executeCodeCell"
   },
   {
    "code": "vis",
    "id": "b7933a6e38154674bff5ca1519241b3d",
    "order_count": 3,
    "time": "2020-07-16T12:47:53.322Z",
    "type": "selectCodeCell"
   },
   {
    "code": "import pandas as pd\nimport lux",
    "id": "27405fce04b84c84be5572c5e43b3339",
    "isPrintLuxDf": false,
    "isPrintPandasDf": false,
    "isPrintView": false,
    "isPrintViewCollection": false,
    "order_count": 1,
    "time": "2020-07-16T12:47:53.432Z",
    "type": "completeCodeCell"
   },
   {
    "code": "df = pd.read_csv(\"lux/data/olympic.csv\")\nfrom lux.vis.Vis import Vis\nvis = Vis([\"Height\",\"SportType=Ball\"],df)",
    "id": "c3782d56ceb5492888b885a5e25b0947",
    "isPrintLuxDf": false,
    "isPrintPandasDf": false,
    "isPrintView": false,
    "isPrintViewCollection": false,
    "order_count": 2,
    "time": "2020-07-16T12:47:53.484Z",
    "type": "completeCodeCell"
   },
   {
    "code": "vis",
    "id": "b7933a6e38154674bff5ca1519241b3d",
    "order_count": 3,
    "time": "2020-07-16T12:47:53.967Z",
    "type": "executeCodeCell"
   },
   {
    "code": "vis.specLst",
    "id": "9b95354203484c548bbc31a051ea323e",
    "order_count": 4,
    "time": "2020-07-16T12:47:53.979Z",
    "type": "selectCodeCell"
   },
   {
    "code": "vis",
    "id": "b7933a6e38154674bff5ca1519241b3d",
    "isPrintLuxDf": false,
    "isPrintPandasDf": false,
    "isPrintView": false,
    "isPrintViewCollection": false,
    "order_count": 3,
    "time": "2020-07-16T12:47:54.050Z",
    "type": "completeCodeCell"
   },
   {
    "param": "",
    "time": "2020-07-16T12:47:54.061Z",
    "type": "initWidget"
   },
   {
    "code": "vis",
    "id": "b7933a6e38154674bff5ca1519241b3d",
    "order_count": 3,
    "time": "2020-07-16T12:48:05.855Z",
    "type": "selectCodeCell"
   },
   {
    "code": "vis",
    "id": "b7933a6e38154674bff5ca1519241b3d",
    "order_count": 3,
    "time": "2020-07-16T12:48:14.280Z",
    "type": "selectCodeCell"
   },
   {
    "time": "2020-07-16T12:48:15.817Z",
    "type": "kernelRestart"
   },
   {
    "time": "2020-07-16T12:48:15.980Z",
    "type": "kernelRestart"
   },
   {
    "code": "df = pd.read_csv(\"lux/data/olympic.csv\")\nfrom lux.vis.Vis import Vis\nvis = Vis([\"Height\",\"SportType=Ball\"],df)",
    "id": "c3782d56ceb5492888b885a5e25b0947",
    "order_count": 2,
    "time": "2020-07-16T12:48:16.493Z",
    "type": "selectCodeCell"
   },
   {
    "code": "import pandas as pd\nimport lux",
    "id": "27405fce04b84c84be5572c5e43b3339",
    "order_count": 1,
    "time": "2020-07-16T12:48:16.656Z",
    "type": "selectCodeCell"
   },
   {
    "code": "cd ..",
    "id": "591ae743ad2f4bb2ab54e7b2cfdb6902",
    "order_count": 0,
    "time": "2020-07-16T12:48:16.775Z",
    "type": "selectCodeCell"
   },
   {
    "time": "2020-07-16T12:48:17.144Z",
    "type": "kernelReady"
   },
   {
    "time": "2020-07-16T12:48:17.191Z",
    "type": "kernelReady"
   },
   {
    "code": "cd ..",
    "id": "591ae743ad2f4bb2ab54e7b2cfdb6902",
    "order_count": 0,
    "time": "2020-07-16T12:48:17.280Z",
    "type": "executeCodeCell"
   },
   {
    "code": "import pandas as pd\nimport lux",
    "id": "27405fce04b84c84be5572c5e43b3339",
    "order_count": 1,
    "time": "2020-07-16T12:48:17.292Z",
    "type": "selectCodeCell"
   },
   {
    "code": "cd ..",
    "id": "591ae743ad2f4bb2ab54e7b2cfdb6902",
    "isPrintLuxDf": false,
    "isPrintPandasDf": false,
    "isPrintView": false,
    "isPrintViewCollection": false,
    "order_count": 0,
    "time": "2020-07-16T12:48:17.301Z",
    "type": "completeCodeCell"
   },
   {
    "code": "import pandas as pd\nimport lux",
    "id": "27405fce04b84c84be5572c5e43b3339",
    "order_count": 1,
    "time": "2020-07-16T12:48:17.439Z",
    "type": "executeCodeCell"
   },
   {
    "code": "df = pd.read_csv(\"lux/data/olympic.csv\")\nfrom lux.vis.Vis import Vis\nvis = Vis([\"Height\",\"SportType=Ball\"],df)",
    "id": "c3782d56ceb5492888b885a5e25b0947",
    "order_count": 2,
    "time": "2020-07-16T12:48:17.452Z",
    "type": "selectCodeCell"
   },
   {
    "code": "df = pd.read_csv(\"lux/data/olympic.csv\")\nfrom lux.vis.Vis import Vis\nvis = Vis([\"Height\",\"SportType=Ball\"],df)",
    "id": "c3782d56ceb5492888b885a5e25b0947",
    "order_count": 2,
    "time": "2020-07-16T12:48:17.661Z",
    "type": "executeCodeCell"
   },
   {
    "code": "vis",
    "id": "b7933a6e38154674bff5ca1519241b3d",
    "order_count": 3,
    "time": "2020-07-16T12:48:17.671Z",
    "type": "selectCodeCell"
   },
   {
    "code": "import pandas as pd\nimport lux",
    "id": "27405fce04b84c84be5572c5e43b3339",
    "isPrintLuxDf": false,
    "isPrintPandasDf": false,
    "isPrintView": false,
    "isPrintViewCollection": false,
    "order_count": 1,
    "time": "2020-07-16T12:48:17.760Z",
    "type": "completeCodeCell"
   },
   {
    "code": "df = pd.read_csv(\"lux/data/olympic.csv\")\nfrom lux.vis.Vis import Vis\nvis = Vis([\"Height\",\"SportType=Ball\"],df)",
    "id": "c3782d56ceb5492888b885a5e25b0947",
    "isPrintLuxDf": false,
    "isPrintPandasDf": false,
    "isPrintView": false,
    "isPrintViewCollection": false,
    "order_count": 2,
    "time": "2020-07-16T12:48:17.817Z",
    "type": "completeCodeCell"
   },
   {
    "code": "df = pd.read_csv(\"lux/data/olympic.csv\")\nfrom lux.vis.Vis import Vis\nvis = Vis([\"Height\",\"SportType=Ball\"],df)",
    "id": "c3782d56ceb5492888b885a5e25b0947",
    "order_count": 2,
    "time": "2020-07-16T12:48:30.726Z",
    "type": "selectCodeCell"
   },
   {
    "code": "df = pd.read_csv(\"lux/data/olympic.csv\")\nfrom lux.vis.Vis import Vis\nvis = Vis([\"Height\",\"SportType=Ball\"],df)",
    "id": "c3782d56ceb5492888b885a5e25b0947",
    "order_count": 2,
    "time": "2020-07-16T12:48:30.731Z",
    "type": "editCodeCell"
   },
   {
    "code": "df = pd.read_csv(\"lux/data/olympic.csv\")\nfrom lux.vis.Vis import Vis\nvis = Vis([\"Height\",\"SportType=Ball\"],df)",
    "id": "c3782d56ceb5492888b885a5e25b0947",
    "order_count": 2,
    "time": "2020-07-16T12:48:30.792Z",
    "type": "selectCodeCell"
   },
   {
    "time": "2020-07-16T12:48:32.158Z",
    "type": "kernelRestart"
   },
   {
    "time": "2020-07-16T12:48:32.285Z",
    "type": "kernelRestart"
   },
   {
    "code": "import pandas as pd\nimport lux",
    "id": "27405fce04b84c84be5572c5e43b3339",
    "order_count": 1,
    "time": "2020-07-16T12:48:32.646Z",
    "type": "selectCodeCell"
   },
   {
    "code": "cd ..",
    "id": "591ae743ad2f4bb2ab54e7b2cfdb6902",
    "order_count": 0,
    "time": "2020-07-16T12:48:32.756Z",
    "type": "selectCodeCell"
   },
   {
    "code": "cd ..",
    "id": "591ae743ad2f4bb2ab54e7b2cfdb6902",
    "order_count": 0,
    "time": "2020-07-16T12:48:33.206Z",
    "type": "executeCodeCell"
   },
   {
    "code": "import pandas as pd\nimport lux",
    "id": "27405fce04b84c84be5572c5e43b3339",
    "order_count": 1,
    "time": "2020-07-16T12:48:33.218Z",
    "type": "selectCodeCell"
   },
   {
    "code": "import pandas as pd\nimport lux",
    "id": "27405fce04b84c84be5572c5e43b3339",
    "order_count": 1,
    "time": "2020-07-16T12:48:33.341Z",
    "type": "executeCodeCell"
   },
   {
    "code": "df = pd.read_csv(\"lux/data/olympic.csv\")\nfrom lux.vis.Vis import Vis\nvis = Vis([\"Height\",\"SportType=Ball\"],df)",
    "id": "c3782d56ceb5492888b885a5e25b0947",
    "order_count": 2,
    "time": "2020-07-16T12:48:33.351Z",
    "type": "selectCodeCell"
   },
   {
    "code": "df = pd.read_csv(\"lux/data/olympic.csv\")\nfrom lux.vis.Vis import Vis\nvis = Vis([\"Height\",\"SportType=Ball\"],df)",
    "id": "c3782d56ceb5492888b885a5e25b0947",
    "order_count": 2,
    "time": "2020-07-16T12:48:33.477Z",
    "type": "executeCodeCell"
   },
   {
    "code": "vis",
    "id": "b7933a6e38154674bff5ca1519241b3d",
    "order_count": 3,
    "time": "2020-07-16T12:48:33.486Z",
    "type": "selectCodeCell"
   },
   {
    "time": "2020-07-16T12:48:33.526Z",
    "type": "kernelReady"
   },
   {
    "code": "cd ..",
    "id": "591ae743ad2f4bb2ab54e7b2cfdb6902",
    "isPrintLuxDf": false,
    "isPrintPandasDf": false,
    "isPrintView": false,
    "isPrintViewCollection": false,
    "order_count": 0,
    "time": "2020-07-16T12:48:33.528Z",
    "type": "completeCodeCell"
   },
   {
    "code": "vis",
    "id": "b7933a6e38154674bff5ca1519241b3d",
    "order_count": 3,
    "time": "2020-07-16T12:48:33.755Z",
    "type": "executeCodeCell"
   },
   {
    "code": "vis.specLst",
    "id": "9b95354203484c548bbc31a051ea323e",
    "order_count": 4,
    "time": "2020-07-16T12:48:33.765Z",
    "type": "selectCodeCell"
   },
   {
    "code": "import pandas as pd\nimport lux",
    "id": "27405fce04b84c84be5572c5e43b3339",
    "isPrintLuxDf": false,
    "isPrintPandasDf": false,
    "isPrintView": false,
    "isPrintViewCollection": false,
    "order_count": 1,
    "time": "2020-07-16T12:48:33.918Z",
    "type": "completeCodeCell"
   },
   {
    "code": "df = pd.read_csv(\"lux/data/olympic.csv\")\nfrom lux.vis.Vis import Vis\nvis = Vis([\"Height\",\"SportType=Ball\"],df)",
    "id": "c3782d56ceb5492888b885a5e25b0947",
    "isPrintLuxDf": false,
    "isPrintPandasDf": false,
    "isPrintView": false,
    "isPrintViewCollection": false,
    "order_count": 2,
    "time": "2020-07-16T12:48:33.965Z",
    "type": "completeCodeCell"
   },
   {
    "time": "2020-07-16T12:48:33.973Z",
    "type": "kernelReady"
   },
   {
    "code": "vis",
    "id": "b7933a6e38154674bff5ca1519241b3d",
    "isPrintLuxDf": false,
    "isPrintPandasDf": false,
    "isPrintView": false,
    "isPrintViewCollection": false,
    "order_count": 3,
    "time": "2020-07-16T12:48:34.028Z",
    "type": "completeCodeCell"
   },
   {
    "time": "2020-07-16T12:48:34.032Z",
    "type": "kernelReady"
   },
   {
    "param": "",
    "time": "2020-07-16T12:48:34.037Z",
    "type": "initWidget"
   },
   {
    "code": "vis.specLst",
    "id": "9b95354203484c548bbc31a051ea323e",
    "order_count": 4,
    "time": "2020-07-16T12:48:36.976Z",
    "type": "executeCodeCell"
   },
   {
    "code": "vis.set_specs([\"Height\",\"SportType=Ball\"])",
    "id": "690f3ebc9c074b6689a168af311ee641",
    "order_count": 5,
    "time": "2020-07-16T12:48:36.989Z",
    "type": "selectCodeCell"
   },
   {
    "code": "vis.specLst",
    "id": "9b95354203484c548bbc31a051ea323e",
    "isPrintLuxDf": false,
    "isPrintPandasDf": false,
    "isPrintView": false,
    "isPrintViewCollection": false,
    "order_count": 4,
    "time": "2020-07-16T12:48:37.089Z",
    "type": "completeCodeCell"
   },
   {
    "code": "vis.specLst",
    "id": "9b95354203484c548bbc31a051ea323e",
    "isPrintLuxDf": false,
    "isPrintPandasDf": false,
    "isPrintView": false,
    "isPrintViewCollection": false,
    "order_count": 4,
    "time": "2020-07-16T12:48:37.089Z",
    "type": "completeCodeCell"
   },
   {
    "code": "vis.specLst",
    "id": "9b95354203484c548bbc31a051ea323e",
    "order_count": 4,
    "time": "2020-07-16T12:48:38.779Z",
    "type": "selectCodeCell"
   },
   {
    "code": "vis.specLst",
    "id": "9b95354203484c548bbc31a051ea323e",
    "order_count": null,
    "time": "2020-07-16T12:48:39.282Z",
    "type": "deleteCodeCell"
   },
   {
    "code": "vis.set_specs([\"Height\",\"SportType=Ball\"])",
    "id": "690f3ebc9c074b6689a168af311ee641",
    "order_count": 4,
    "time": "2020-07-16T12:48:40.550Z",
    "type": "executeCodeCell"
   },
   {
    "code": "vis",
    "id": "0e000ddd814b44a98de2e10ad4ae1ad0",
    "order_count": 5,
    "time": "2020-07-16T12:48:40.564Z",
    "type": "selectCodeCell"
   },
   {
    "code": "vis.set_specs([\"Height\",\"SportType=Ball\"])",
    "id": "690f3ebc9c074b6689a168af311ee641",
    "isPrintLuxDf": false,
    "isPrintPandasDf": false,
    "isPrintView": false,
    "isPrintViewCollection": false,
    "order_count": 4,
    "time": "2020-07-16T12:48:40.575Z",
    "type": "completeCodeCell"
   },
   {
    "code": "vis",
    "id": "0e000ddd814b44a98de2e10ad4ae1ad0",
    "order_count": 5,
    "time": "2020-07-16T12:48:41.257Z",
    "type": "executeCodeCell"
   },
   {
    "code": "vis.render_VSpec()",
    "id": "75f43a1de75d457285546a71cc9f4e4f",
    "order_count": 6,
    "time": "2020-07-16T12:48:41.268Z",
    "type": "selectCodeCell"
   },
   {
    "code": "vis",
    "id": "0e000ddd814b44a98de2e10ad4ae1ad0",
    "isPrintLuxDf": false,
    "isPrintPandasDf": false,
    "isPrintView": false,
    "isPrintViewCollection": false,
    "order_count": 5,
    "time": "2020-07-16T12:48:41.284Z",
    "type": "completeCodeCell"
   },
   {
    "code": "vis.set_specs([\"Height\",\"SportType=Ball\"])",
    "id": "690f3ebc9c074b6689a168af311ee641",
    "order_count": 4,
    "time": "2020-07-16T12:48:43.937Z",
    "type": "selectCodeCell"
   },
   {
    "code": "vis.set_specs([\"Height\",\"SportType=Ball\"])",
    "id": "690f3ebc9c074b6689a168af311ee641",
    "order_count": 4,
    "time": "2020-07-16T12:48:43.943Z",
    "type": "editCodeCell"
   },
   {
    "code": "vis.set_specs([\"Height\",\"SportType=Ball\"])",
    "id": "690f3ebc9c074b6689a168af311ee641",
    "order_count": 4,
    "time": "2020-07-16T12:48:44.665Z",
    "type": "executeCodeCell"
   },
   {
    "code": "vis",
    "id": "0e000ddd814b44a98de2e10ad4ae1ad0",
    "order_count": 5,
    "time": "2020-07-16T12:48:44.692Z",
    "type": "selectCodeCell"
   },
   {
    "code": "vis.set_specs([\"Height\",\"SportType=Ball\"])",
    "id": "690f3ebc9c074b6689a168af311ee641",
    "isPrintLuxDf": false,
    "isPrintPandasDf": false,
    "isPrintView": false,
    "isPrintViewCollection": false,
    "order_count": 4,
    "time": "2020-07-16T12:48:44.704Z",
    "type": "completeCodeCell"
   },
   {
    "code": "vis",
    "id": "b7933a6e38154674bff5ca1519241b3d",
    "order_count": 3,
    "time": "2020-07-16T12:49:11.149Z",
    "type": "selectCodeCell"
   },
   {
    "time": "2020-07-16T12:52:10.463Z",
    "type": "kernelReady"
   },
   {
    "code": "vis",
    "id": "b7933a6e38154674bff5ca1519241b3d",
    "order_count": 3,
    "time": "2020-07-16T12:59:54.198Z",
    "type": "selectCodeCell"
   },
   {
    "time": "2020-07-16T12:59:55.666Z",
    "type": "kernelRestart"
   },
   {
    "time": "2020-07-16T12:59:55.787Z",
    "type": "kernelRestart"
   },
   {
    "code": "df = pd.read_csv(\"lux/data/olympic.csv\")\nfrom lux.vis.Vis import Vis\nvis = Vis([\"Height\",\"SportType=Ball\"],df)",
    "id": "c3782d56ceb5492888b885a5e25b0947",
    "order_count": 2,
    "time": "2020-07-16T12:59:56.220Z",
    "type": "selectCodeCell"
   },
   {
    "code": "import pandas as pd\nimport lux",
    "id": "27405fce04b84c84be5572c5e43b3339",
    "order_count": 1,
    "time": "2020-07-16T12:59:56.374Z",
    "type": "selectCodeCell"
   },
   {
    "code": "cd ..",
    "id": "591ae743ad2f4bb2ab54e7b2cfdb6902",
    "order_count": 0,
    "time": "2020-07-16T12:59:56.505Z",
    "type": "selectCodeCell"
   },
   {
    "code": "cd ..",
    "id": "591ae743ad2f4bb2ab54e7b2cfdb6902",
    "order_count": 0,
    "time": "2020-07-16T12:59:56.900Z",
    "type": "executeCodeCell"
   },
   {
    "code": "import pandas as pd\nimport lux",
    "id": "27405fce04b84c84be5572c5e43b3339",
    "order_count": 1,
    "time": "2020-07-16T12:59:56.908Z",
    "type": "selectCodeCell"
   },
   {
    "time": "2020-07-16T12:59:57.026Z",
    "type": "kernelReady"
   },
   {
    "time": "2020-07-16T12:59:57.045Z",
    "type": "kernelReady"
   },
   {
    "code": "import pandas as pd\nimport lux",
    "id": "27405fce04b84c84be5572c5e43b3339",
    "order_count": 1,
    "time": "2020-07-16T12:59:57.051Z",
    "type": "executeCodeCell"
   },
   {
    "code": "df = pd.read_csv(\"lux/data/olympic.csv\")\nfrom lux.vis.Vis import Vis\nvis = Vis([\"Height\",\"SportType=Ball\"],df)",
    "id": "c3782d56ceb5492888b885a5e25b0947",
    "order_count": 2,
    "time": "2020-07-16T12:59:57.062Z",
    "type": "selectCodeCell"
   },
   {
    "code": "df = pd.read_csv(\"lux/data/olympic.csv\")\nfrom lux.vis.Vis import Vis\nvis = Vis([\"Height\",\"SportType=Ball\"],df)",
    "id": "c3782d56ceb5492888b885a5e25b0947",
    "order_count": 2,
    "time": "2020-07-16T12:59:57.220Z",
    "type": "executeCodeCell"
   },
   {
    "code": "vis",
    "id": "b7933a6e38154674bff5ca1519241b3d",
    "order_count": 3,
    "time": "2020-07-16T12:59:57.231Z",
    "type": "selectCodeCell"
   },
   {
    "code": "import pandas as pd\nimport lux",
    "id": "27405fce04b84c84be5572c5e43b3339",
    "isPrintLuxDf": false,
    "isPrintPandasDf": false,
    "isPrintView": false,
    "isPrintViewCollection": false,
    "order_count": 1,
    "time": "2020-07-16T12:59:57.455Z",
    "type": "completeCodeCell"
   },
   {
    "code": "df = pd.read_csv(\"lux/data/olympic.csv\")\nfrom lux.vis.Vis import Vis\nvis = Vis([\"Height\",\"SportType=Ball\"],df)",
    "id": "c3782d56ceb5492888b885a5e25b0947",
    "isPrintLuxDf": false,
    "isPrintPandasDf": false,
    "isPrintView": false,
    "isPrintViewCollection": false,
    "order_count": 2,
    "time": "2020-07-16T12:59:57.511Z",
    "type": "completeCodeCell"
   },
   {
    "code": "vis",
    "id": "b7933a6e38154674bff5ca1519241b3d",
    "order_count": 3,
    "time": "2020-07-16T12:59:57.637Z",
    "type": "executeCodeCell"
   },
   {
    "code": "vis.set_specs([\"Height\",\"SportType=Ball\"])",
    "id": "690f3ebc9c074b6689a168af311ee641",
    "order_count": 4,
    "time": "2020-07-16T12:59:57.649Z",
    "type": "selectCodeCell"
   },
   {
    "code": "vis",
    "id": "b7933a6e38154674bff5ca1519241b3d",
    "isPrintLuxDf": false,
    "isPrintPandasDf": false,
    "isPrintView": false,
    "isPrintViewCollection": false,
    "order_count": 3,
    "time": "2020-07-16T12:59:57.703Z",
    "type": "completeCodeCell"
   },
   {
    "param": "",
    "time": "2020-07-16T12:59:57.710Z",
    "type": "initWidget"
   },
   {
    "code": "vis.set_specs([\"Height\",\"SportType=Ball\"])",
    "id": "690f3ebc9c074b6689a168af311ee641",
    "order_count": 4,
    "time": "2020-07-16T12:59:58.670Z",
    "type": "executeCodeCell"
   },
   {
    "code": "vis",
    "id": "0e000ddd814b44a98de2e10ad4ae1ad0",
    "order_count": 5,
    "time": "2020-07-16T12:59:58.686Z",
    "type": "selectCodeCell"
   },
   {
    "code": "vis.set_specs([\"Height\",\"SportType=Ball\"])",
    "id": "690f3ebc9c074b6689a168af311ee641",
    "isPrintLuxDf": false,
    "isPrintPandasDf": false,
    "isPrintView": false,
    "isPrintViewCollection": false,
    "order_count": 4,
    "time": "2020-07-16T12:59:58.710Z",
    "type": "completeCodeCell"
   },
   {
    "code": "vis",
    "id": "0e000ddd814b44a98de2e10ad4ae1ad0",
    "order_count": 5,
    "time": "2020-07-16T13:00:01.544Z",
    "type": "executeCodeCell"
   },
   {
    "code": "vis.render_VSpec()",
    "id": "75f43a1de75d457285546a71cc9f4e4f",
    "order_count": 6,
    "time": "2020-07-16T13:00:01.554Z",
    "type": "selectCodeCell"
   },
   {
    "code": "vis",
    "id": "0e000ddd814b44a98de2e10ad4ae1ad0",
    "isPrintLuxDf": false,
    "isPrintPandasDf": false,
    "isPrintView": false,
    "isPrintViewCollection": false,
    "order_count": 5,
    "time": "2020-07-16T13:00:01.578Z",
    "type": "completeCodeCell"
   },
   {
    "param": "",
    "time": "2020-07-16T13:00:01.586Z",
    "type": "initWidget"
   },
   {
    "code": "vis.set_specs([\"Height\",\"SportType=Ball\"])",
    "id": "690f3ebc9c074b6689a168af311ee641",
    "order_count": 4,
    "time": "2020-07-16T13:00:05.493Z",
    "type": "selectCodeCell"
   },
   {
    "code": "vis.set_specs([\"Height\",\"SportType=Ball\"])",
    "id": "690f3ebc9c074b6689a168af311ee641",
    "order_count": 4,
    "time": "2020-07-16T13:00:05.498Z",
    "type": "editCodeCell"
   },
   {
    "code": "vis.set_specs([\"Height\",\"SportType=Ice\"])",
    "id": "690f3ebc9c074b6689a168af311ee641",
    "order_count": 4,
    "time": "2020-07-16T13:00:07.688Z",
    "type": "executeCodeCell"
   },
   {
    "code": "vis",
    "id": "0e000ddd814b44a98de2e10ad4ae1ad0",
    "order_count": 5,
    "time": "2020-07-16T13:00:07.706Z",
    "type": "selectCodeCell"
   },
   {
    "code": "vis.set_specs([\"Height\",\"SportType=Ice\"])",
    "id": "690f3ebc9c074b6689a168af311ee641",
    "isPrintLuxDf": false,
    "isPrintPandasDf": false,
    "isPrintView": false,
    "isPrintViewCollection": false,
    "order_count": 4,
    "time": "2020-07-16T13:00:07.726Z",
    "type": "completeCodeCell"
   },
   {
    "code": "vis",
    "id": "0e000ddd814b44a98de2e10ad4ae1ad0",
    "order_count": 5,
    "time": "2020-07-16T13:00:07.966Z",
    "type": "executeCodeCell"
   },
   {
    "code": "vis.render_VSpec()",
    "id": "75f43a1de75d457285546a71cc9f4e4f",
    "order_count": 6,
    "time": "2020-07-16T13:00:07.977Z",
    "type": "selectCodeCell"
   },
   {
    "code": "vis",
    "id": "0e000ddd814b44a98de2e10ad4ae1ad0",
    "isPrintLuxDf": false,
    "isPrintPandasDf": false,
    "isPrintView": false,
    "isPrintViewCollection": false,
    "order_count": 5,
    "time": "2020-07-16T13:00:07.998Z",
    "type": "completeCodeCell"
   },
   {
    "param": "",
    "time": "2020-07-16T13:00:08.011Z",
    "type": "initWidget"
   },
   {
    "code": "vis",
    "id": "b7933a6e38154674bff5ca1519241b3d",
    "order_count": 3,
    "time": "2020-07-16T13:00:09.066Z",
    "type": "selectCodeCell"
   },
   {
    "code": "vis",
    "id": "b7933a6e38154674bff5ca1519241b3d",
    "order_count": 3,
    "time": "2020-07-16T13:00:09.840Z",
    "type": "executeCodeCell"
   },
   {
    "code": "vis.set_specs([\"Height\",\"SportType=Ice\"])",
    "id": "690f3ebc9c074b6689a168af311ee641",
    "order_count": 4,
    "time": "2020-07-16T13:00:09.851Z",
    "type": "selectCodeCell"
   },
   {
    "code": "vis",
    "id": "b7933a6e38154674bff5ca1519241b3d",
    "isPrintLuxDf": false,
    "isPrintPandasDf": false,
    "isPrintView": false,
    "isPrintViewCollection": false,
    "order_count": 3,
    "time": "2020-07-16T13:00:09.874Z",
    "type": "completeCodeCell"
   },
   {
    "param": "",
    "time": "2020-07-16T13:00:09.879Z",
    "type": "initWidget"
   },
   {
    "code": "vis.set_specs([\"Height\",\"SportType=Ice\"])",
    "id": "690f3ebc9c074b6689a168af311ee641",
    "order_count": 4,
    "time": "2020-07-16T13:00:10.319Z",
    "type": "executeCodeCell"
   },
   {
    "code": "vis",
    "id": "0e000ddd814b44a98de2e10ad4ae1ad0",
    "order_count": 5,
    "time": "2020-07-16T13:00:10.330Z",
    "type": "selectCodeCell"
   },
   {
    "code": "vis.set_specs([\"Height\",\"SportType=Ice\"])",
    "id": "690f3ebc9c074b6689a168af311ee641",
    "isPrintLuxDf": false,
    "isPrintPandasDf": false,
    "isPrintView": false,
    "isPrintViewCollection": false,
    "order_count": 4,
    "time": "2020-07-16T13:00:10.360Z",
    "type": "completeCodeCell"
   },
   {
    "code": "vis",
    "id": "0e000ddd814b44a98de2e10ad4ae1ad0",
    "order_count": 5,
    "time": "2020-07-16T13:00:11.446Z",
    "type": "executeCodeCell"
   },
   {
    "code": "vis.render_VSpec()",
    "id": "75f43a1de75d457285546a71cc9f4e4f",
    "order_count": 6,
    "time": "2020-07-16T13:00:11.457Z",
    "type": "selectCodeCell"
   },
   {
    "code": "vis",
    "id": "0e000ddd814b44a98de2e10ad4ae1ad0",
    "isPrintLuxDf": false,
    "isPrintPandasDf": false,
    "isPrintView": false,
    "isPrintViewCollection": false,
    "order_count": 5,
    "time": "2020-07-16T13:00:11.482Z",
    "type": "completeCodeCell"
   },
   {
    "param": "",
    "time": "2020-07-16T13:00:11.486Z",
    "type": "initWidget"
   },
   {
    "code": "",
    "id": "a5de00431ace42188fd86deb9a33c787",
    "order_count": 6,
    "time": "2020-07-16T13:00:12.210Z",
    "type": "selectCodeCell"
   },
   {
    "code": "",
    "id": "a5de00431ace42188fd86deb9a33c787",
    "order_count": 6,
    "time": "2020-07-16T13:00:12.339Z",
    "type": "editCodeCell"
   },
   {
    "code": "",
    "id": "59eb8c547a4c44be89efaa023f0fbbe4",
    "order_count": 6,
    "time": "2020-07-16T13:00:24.716Z",
    "type": "selectCodeCell"
   },
   {
    "code": "",
    "id": "59eb8c547a4c44be89efaa023f0fbbe4",
    "order_count": 6,
    "time": "2020-07-16T13:00:24.842Z",
    "type": "editCodeCell"
   },
   {
    "code": "df",
    "id": "59eb8c547a4c44be89efaa023f0fbbe4",
    "order_count": 6,
    "time": "2020-07-16T13:00:25.751Z",
    "type": "executeCodeCell"
   },
   {
    "code": "vis.refresh_source(df[df[\"\"]])",
    "id": "a5de00431ace42188fd86deb9a33c787",
    "order_count": 7,
    "time": "2020-07-16T13:00:25.772Z",
    "type": "selectCodeCell"
   },
   {
    "code": "df",
    "id": "59eb8c547a4c44be89efaa023f0fbbe4",
    "isPrintLuxDf": false,
    "isPrintPandasDf": true,
    "isPrintView": false,
    "isPrintViewCollection": false,
    "order_count": 6,
    "time": "2020-07-16T13:00:26.627Z",
    "type": "completeCodeCell"
   },
   {
    "code": "df",
    "id": "59eb8c547a4c44be89efaa023f0fbbe4",
    "order_count": 6,
    "time": "2020-07-16T13:00:27.662Z",
    "type": "selectCodeCell"
   },
   {
    "param": "",
    "time": "2020-07-16T13:00:27.700Z",
    "type": "initWidget"
   },
   {
    "param": "",
    "time": "2020-07-16T13:00:28.176Z",
    "type": "initWidget"
   },
   {
    "code": "df",
    "id": "59eb8c547a4c44be89efaa023f0fbbe4",
    "order_count": 6,
    "time": "2020-07-16T13:00:29.498Z",
    "type": "selectCodeCell"
   },
   {
    "code": "df",
    "id": "59eb8c547a4c44be89efaa023f0fbbe4",
    "order_count": null,
    "time": "2020-07-16T13:00:30.054Z",
    "type": "deleteCodeCell"
   },
   {
    "code": "vis.refresh_source(df[df[\"\"]])",
    "id": "a5de00431ace42188fd86deb9a33c787",
    "order_count": 6,
    "time": "2020-07-16T13:00:31.358Z",
    "type": "editCodeCell"
   },
   {
    "code": "vis.refresh_source(df[df[\"Sex\"]==\"F\"])",
    "id": "a5de00431ace42188fd86deb9a33c787",
    "order_count": 6,
    "time": "2020-07-16T13:00:39.385Z",
    "type": "executeCodeCell"
   },
   {
    "code": "vis.render_VSpec()",
    "id": "75f43a1de75d457285546a71cc9f4e4f",
    "order_count": 7,
    "time": "2020-07-16T13:00:39.407Z",
    "type": "selectCodeCell"
   },
   {
    "code": "vis.refresh_source(df[df[\"Sex\"]==\"F\"])",
    "id": "a5de00431ace42188fd86deb9a33c787",
    "isPrintLuxDf": false,
    "isPrintPandasDf": false,
    "isPrintView": false,
    "isPrintViewCollection": false,
    "order_count": 6,
    "time": "2020-07-16T13:00:39.437Z",
    "type": "completeCodeCell"
   },
   {
    "code": "vis.refresh_source(df[df[\"Sex\"]==\"F\"])",
    "id": "a5de00431ace42188fd86deb9a33c787",
    "order_count": 6,
    "time": "2020-07-16T13:00:40.137Z",
    "type": "selectCodeCell"
   },
   {
    "code": "vis.refresh_source(df[df[\"Sex\"]==\"F\"])",
    "id": "a5de00431ace42188fd86deb9a33c787",
    "order_count": 6,
    "time": "2020-07-16T13:00:40.786Z",
    "type": "editCodeCell"
   },
   {
    "code": "vis.refresh_source(df[df[\"Sex\"]==\"F\"])\nvis",
    "id": "a5de00431ace42188fd86deb9a33c787",
    "order_count": 6,
    "time": "2020-07-16T13:00:42.568Z",
    "type": "executeCodeCell"
   },
   {
    "code": "vis.render_VSpec()",
    "id": "75f43a1de75d457285546a71cc9f4e4f",
    "order_count": 7,
    "time": "2020-07-16T13:00:42.589Z",
    "type": "selectCodeCell"
   },
   {
    "code": "vis.refresh_source(df[df[\"Sex\"]==\"F\"])\nvis",
    "id": "a5de00431ace42188fd86deb9a33c787",
    "isPrintLuxDf": false,
    "isPrintPandasDf": false,
    "isPrintView": false,
    "isPrintViewCollection": false,
    "order_count": 6,
    "time": "2020-07-16T13:00:42.651Z",
    "type": "completeCodeCell"
   },
   {
    "param": "",
    "time": "2020-07-16T13:00:42.657Z",
    "type": "initWidget"
   },
   {
    "code": "vis.refresh_source(df[df[\"Sex\"]==\"F\"])\nvis",
    "id": "a5de00431ace42188fd86deb9a33c787",
    "order_count": 6,
    "time": "2020-07-16T13:00:45.484Z",
    "type": "selectCodeCell"
   },
   {
    "code": "vis.refresh_source(df[df[\"Sex\"]==\"F\"])\nvis",
    "id": "a5de00431ace42188fd86deb9a33c787",
    "order_count": 6,
    "time": "2020-07-16T13:03:01.752Z",
    "type": "editCodeCell"
   },
   {
    "code": "vis.refresh_source(df[df[\"Sex\"]==\"F\"])\nvis",
    "id": "a5de00431ace42188fd86deb9a33c787",
    "order_count": 6,
    "time": "2020-07-16T13:03:01.852Z",
    "type": "selectCodeCell"
   },
   {
    "code": "vis.refresh_source(df[df[\"Sex\"]==\"F\"])\nvis",
    "id": "a5de00431ace42188fd86deb9a33c787",
    "order_count": 6,
    "time": "2020-07-16T13:03:02.285Z",
    "type": "selectCodeCell"
   },
   {
    "code": "def test_view():\n    df = pd.read_csv(\"lux/data/olympic.csv\")\n    from lux.vis.Vis import Vis\n    view_with_year = Vis([\"Height\",\"SportType=Ball\"],df)\n    assert view_with_year.get_specs().attribute==\"Year\"\n\ndef test_view_collection_set_query():\n    df = pd.read_csv(\"lux/data/olympic.csv\")\n    from lux.vis.VisCollection import VisCollection\n    vc = VisCollection([\"Height\",\"SportType=Ice\",\"?\"],df)\n    vc.set_query([\"Height\",\"SportType=Boat\",\"?\"])\n    for v in vc.collection: \n        filter_vspec = list(filter(lambda x: x.channel==\"\",v.spec_lst))[0]\n        assert filter_vspec.value ==\"Boat\"",
    "id": "474ce8c231884d0b8dfe29831e4281f8",
    "order_count": 8,
    "time": "2020-07-16T13:03:03.990Z",
    "type": "selectCodeCell"
   },
   {
    "code": "def test_view():\n    df = pd.read_csv(\"lux/data/olympic.csv\")\n    from lux.vis.Vis import Vis\n    view_with_year = Vis([\"Height\",\"SportType=Ball\"],df)\n    assert view_with_year.get_specs().attribute==\"Year\"\n\ndef test_view_collection_set_query():\n    df = pd.read_csv(\"lux/data/olympic.csv\")\n    from lux.vis.VisCollection import VisCollection\n    vc = VisCollection([\"Height\",\"SportType=Ice\",\"?\"],df)\n    vc.set_query([\"Height\",\"SportType=Boat\",\"?\"])\n    for v in vc.collection: \n        filter_vspec = list(filter(lambda x: x.channel==\"\",v.spec_lst))[0]\n        assert filter_vspec.value ==\"Boat\"",
    "id": "474ce8c231884d0b8dfe29831e4281f8",
    "order_count": 8,
    "time": "2020-07-16T13:03:03.999Z",
    "type": "editCodeCell"
   },
   {
    "code": "def test_view():\n    df = pd.read_csv(\"lux/data/olympic.csv\")\n    from lux.vis.Vis import Vis\n    view_with_year = Vis([\"Height\",\"SportType=Ball\"],df)\n    assert view_with_year.get_specs().attribute==\"Year\"\n\ndef test_view_collection_set_query():\n    df = pd.read_csv(\"lux/data/olympic.csv\")\n    from lux.vis.VisCollection import VisCollection\n    vc = VisCollection([\"Height\",\"SportType=Ice\",\"?\"],df)\n    vc.set_query([\"Height\",\"SportType=Boat\",\"?\"])\n    for v in vc.collection: \n        filter_vspec = list(filter(lambda x: x.channel==\"\",v.spec_lst))[0]\n        assert filter_vspec.value ==\"Boat\"",
    "id": "474ce8c231884d0b8dfe29831e4281f8",
    "order_count": 8,
    "time": "2020-07-16T13:03:06.093Z",
    "type": "executeCodeCell"
   },
   {
    "code": "test_view()",
    "id": "de8010cfbec64b1c8f495b37fcf92b37",
    "order_count": 9,
    "time": "2020-07-16T13:03:06.115Z",
    "type": "selectCodeCell"
   },
   {
    "code": "def test_view():\n    df = pd.read_csv(\"lux/data/olympic.csv\")\n    from lux.vis.Vis import Vis\n    view_with_year = Vis([\"Height\",\"SportType=Ball\"],df)\n    assert view_with_year.get_specs().attribute==\"Year\"\n\ndef test_view_collection_set_query():\n    df = pd.read_csv(\"lux/data/olympic.csv\")\n    from lux.vis.VisCollection import VisCollection\n    vc = VisCollection([\"Height\",\"SportType=Ice\",\"?\"],df)\n    vc.set_query([\"Height\",\"SportType=Boat\",\"?\"])\n    for v in vc.collection: \n        filter_vspec = list(filter(lambda x: x.channel==\"\",v.spec_lst))[0]\n        assert filter_vspec.value ==\"Boat\"",
    "id": "474ce8c231884d0b8dfe29831e4281f8",
    "isPrintLuxDf": false,
    "isPrintPandasDf": false,
    "isPrintView": false,
    "isPrintViewCollection": false,
    "order_count": 8,
    "time": "2020-07-16T13:03:06.119Z",
    "type": "completeCodeCell"
   },
   {
    "code": "test_view()",
    "id": "de8010cfbec64b1c8f495b37fcf92b37",
    "order_count": 9,
    "time": "2020-07-16T13:03:07.233Z",
    "type": "editCodeCell"
   },
   {
    "code": "test_view()",
    "id": "de8010cfbec64b1c8f495b37fcf92b37",
    "order_count": 9,
    "time": "2020-07-16T13:03:07.613Z",
    "type": "executeCodeCell"
   },
   {
    "code": "",
    "id": "332cef8bcb6a47f599090626f38b768a",
    "order_count": 10,
    "time": "2020-07-16T13:03:07.633Z",
    "type": "selectCodeCell"
   },
   {
    "code": "test_view()",
    "id": "de8010cfbec64b1c8f495b37fcf92b37",
    "isPrintLuxDf": false,
    "isPrintPandasDf": false,
    "isPrintView": false,
    "isPrintViewCollection": false,
    "order_count": 9,
    "time": "2020-07-16T13:03:07.797Z",
    "type": "completeCodeCell"
   },
   {
    "code": "def test_view():\n    df = pd.read_csv(\"lux/data/olympic.csv\")\n    from lux.vis.Vis import Vis\n    view_with_year = Vis([\"Height\",\"SportType=Ball\"],df)\n    assert view_with_year.get_specs().attribute==\"Year\"\n\ndef test_view_collection_set_query():\n    df = pd.read_csv(\"lux/data/olympic.csv\")\n    from lux.vis.VisCollection import VisCollection\n    vc = VisCollection([\"Height\",\"SportType=Ice\",\"?\"],df)\n    vc.set_query([\"Height\",\"SportType=Boat\",\"?\"])\n    for v in vc.collection: \n        filter_vspec = list(filter(lambda x: x.channel==\"\",v.spec_lst))[0]\n        assert filter_vspec.value ==\"Boat\"",
    "id": "474ce8c231884d0b8dfe29831e4281f8",
    "order_count": 8,
    "time": "2020-07-16T13:03:09.167Z",
    "type": "selectCodeCell"
   },
   {
    "code": "def test_view():\n    df = pd.read_csv(\"lux/data/olympic.csv\")\n    from lux.vis.Vis import Vis\n    view_with_year = Vis([\"Height\",\"SportType=Ball\"],df)\n    assert view_with_year.get_specs().attribute==\"Year\"\n\ndef test_view_collection_set_query():\n    df = pd.read_csv(\"lux/data/olympic.csv\")\n    from lux.vis.VisCollection import VisCollection\n    vc = VisCollection([\"Height\",\"SportType=Ice\",\"?\"],df)\n    vc.set_query([\"Height\",\"SportType=Boat\",\"?\"])\n    for v in vc.collection: \n        filter_vspec = list(filter(lambda x: x.channel==\"\",v.spec_lst))[0]\n        assert filter_vspec.value ==\"Boat\"",
    "id": "474ce8c231884d0b8dfe29831e4281f8",
    "order_count": 8,
    "time": "2020-07-16T13:03:09.177Z",
    "type": "editCodeCell"
   },
   {
    "code": "test_view()",
    "id": "de8010cfbec64b1c8f495b37fcf92b37",
    "order_count": 9,
    "time": "2020-07-16T13:03:16.278Z",
    "type": "selectCodeCell"
   },
   {
    "code": "test_view()",
    "id": "de8010cfbec64b1c8f495b37fcf92b37",
    "order_count": 9,
    "time": "2020-07-16T13:03:16.282Z",
    "type": "editCodeCell"
   },
   {
    "code": "def test_view():\n    df = pd.read_csv(\"lux/data/olympic.csv\")\n    from lux.vis.Vis import Vis\n    view_with_year = Vis([\"Height\",\"SportType=Ball\"],df)\n    assert view_with_year.get_specs().attribute==\"Year\"\n\ndef test_view_collection_set_query():\n    df = pd.read_csv(\"lux/data/olympic.csv\")\n    from lux.vis.VisCollection import VisCollection\n    vc = VisCollection([\"Height\",\"SportType=Ice\",\"?\"],df)\n    vc.set_query([\"Height\",\"SportType=Boat\",\"?\"])\n    for v in vc.collection: \n        filter_vspec = list(filter(lambda x: x.channel==\"\",v.spec_lst))[0]\n        assert filter_vspec.value ==\"Boat\"",
    "id": "474ce8c231884d0b8dfe29831e4281f8",
    "order_count": 8,
    "time": "2020-07-16T13:03:22.089Z",
    "type": "selectCodeCell"
   },
   {
    "code": "def test_view():\n    df = pd.read_csv(\"lux/data/olympic.csv\")\n    from lux.vis.Vis import Vis\n    view_with_year = Vis([\"Height\",\"SportType=Ball\"],df)\n    assert view_with_year.get_specs().attribute==\"Year\"\n\ndef test_view_collection_set_query():\n    df = pd.read_csv(\"lux/data/olympic.csv\")\n    from lux.vis.VisCollection import VisCollection\n    vc = VisCollection([\"Height\",\"SportType=Ice\",\"?\"],df)\n    vc.set_query([\"Height\",\"SportType=Boat\",\"?\"])\n    for v in vc.collection: \n        filter_vspec = list(filter(lambda x: x.channel==\"\",v.spec_lst))[0]\n        assert filter_vspec.value ==\"Boat\"",
    "id": "474ce8c231884d0b8dfe29831e4281f8",
    "order_count": 8,
    "time": "2020-07-16T13:03:22.099Z",
    "type": "editCodeCell"
   },
   {
    "code": "test_view()",
    "id": "de8010cfbec64b1c8f495b37fcf92b37",
    "order_count": 9,
    "time": "2020-07-16T13:03:23.723Z",
    "type": "selectCodeCell"
   },
   {
    "code": "test_view()",
    "id": "de8010cfbec64b1c8f495b37fcf92b37",
    "order_count": 9,
    "time": "2020-07-16T13:03:23.728Z",
    "type": "editCodeCell"
   },
   {
    "code": "",
    "id": "1a48108f309b4e4d9b8a8a8f9059903f",
    "order_count": 9,
    "time": "2020-07-16T13:03:24.945Z",
    "type": "selectCodeCell"
   },
   {
    "code": "",
    "id": "1a48108f309b4e4d9b8a8a8f9059903f",
    "order_count": 9,
    "time": "2020-07-16T13:03:25.088Z",
    "type": "editCodeCell"
   },
   {
    "code": "df = pd.read_csv(\"lux/data/olympic.csv\")\nfrom lux.vis.Vis import Vis\nview_with_year = Vis([\"Height\",\"SportType=Ball\"],df)",
    "id": "1a48108f309b4e4d9b8a8a8f9059903f",
    "order_count": 9,
    "time": "2020-07-16T13:03:28.079Z",
    "type": "executeCodeCell"
   },
   {
    "code": "test_view()",
    "id": "de8010cfbec64b1c8f495b37fcf92b37",
    "order_count": 10,
    "time": "2020-07-16T13:03:28.102Z",
    "type": "selectCodeCell"
   },
   {
    "code": "df = pd.read_csv(\"lux/data/olympic.csv\")\nfrom lux.vis.Vis import Vis\nview_with_year = Vis([\"Height\",\"SportType=Ball\"],df)",
    "id": "1a48108f309b4e4d9b8a8a8f9059903f",
    "isPrintLuxDf": false,
    "isPrintPandasDf": false,
    "isPrintView": false,
    "isPrintViewCollection": false,
    "order_count": 9,
    "time": "2020-07-16T13:03:28.140Z",
    "type": "completeCodeCell"
   },
   {
    "code": "",
    "id": "f8fd647a9ea64a0bab1a571a54cc9b82",
    "order_count": 10,
    "time": "2020-07-16T13:03:29.173Z",
    "type": "selectCodeCell"
   },
   {
    "code": "",
    "id": "f8fd647a9ea64a0bab1a571a54cc9b82",
    "order_count": 10,
    "time": "2020-07-16T13:03:29.280Z",
    "type": "editCodeCell"
   },
   {
    "code": "df = pd.read_csv(\"lux/data/olympic.csv\")\nfrom lux.vis.Vis import Vis\nview_with_year = Vis([\"Height\",\"SportType=Ball\"],df)",
    "id": "1a48108f309b4e4d9b8a8a8f9059903f",
    "order_count": 9,
    "time": "2020-07-16T13:03:36.029Z",
    "type": "selectCodeCell"
   },
   {
    "code": "df = pd.read_csv(\"lux/data/olympic.csv\")\nfrom lux.vis.Vis import Vis\nview_with_year = Vis([\"Height\",\"SportType=Ball\"],df)",
    "id": "1a48108f309b4e4d9b8a8a8f9059903f",
    "order_count": 9,
    "time": "2020-07-16T13:03:36.034Z",
    "type": "editCodeCell"
   },
   {
    "code": "df = pd.read_csv(\"lux/data/olympic.csv\")\nfrom lux.vis.Vis import Vis\nvis = Vis([\"Height\",\"SportType=Ball\"],df)",
    "id": "1a48108f309b4e4d9b8a8a8f9059903f",
    "order_count": 9,
    "time": "2020-07-16T13:03:37.846Z",
    "type": "executeCodeCell"
   },
   {
    "code": "view_with_year.get",
    "id": "f8fd647a9ea64a0bab1a571a54cc9b82",
    "order_count": 10,
    "time": "2020-07-16T13:03:37.869Z",
    "type": "selectCodeCell"
   },
   {
    "code": "df = pd.read_csv(\"lux/data/olympic.csv\")\nfrom lux.vis.Vis import Vis\nvis = Vis([\"Height\",\"SportType=Ball\"],df)",
    "id": "1a48108f309b4e4d9b8a8a8f9059903f",
    "isPrintLuxDf": false,
    "isPrintPandasDf": false,
    "isPrintView": false,
    "isPrintViewCollection": false,
    "order_count": 9,
    "time": "2020-07-16T13:03:37.906Z",
    "type": "completeCodeCell"
   },
   {
    "code": "view_with_year.get",
    "id": "f8fd647a9ea64a0bab1a571a54cc9b82",
    "order_count": 10,
    "time": "2020-07-16T13:03:38.190Z",
    "type": "editCodeCell"
   },
   {
    "code": "vis.get_specs()",
    "id": "f8fd647a9ea64a0bab1a571a54cc9b82",
    "order_count": 10,
    "time": "2020-07-16T13:03:46.167Z",
    "type": "executeCodeCell"
   },
   {
    "code": "test_view()",
    "id": "de8010cfbec64b1c8f495b37fcf92b37",
    "order_count": 11,
    "time": "2020-07-16T13:03:46.190Z",
    "type": "selectCodeCell"
   },
   {
    "code": "vis.get_specs()",
    "id": "f8fd647a9ea64a0bab1a571a54cc9b82",
    "isPrintLuxDf": false,
    "isPrintPandasDf": false,
    "isPrintView": false,
    "isPrintViewCollection": false,
    "order_count": 10,
    "time": "2020-07-16T13:03:46.197Z",
    "type": "completeCodeCell"
   },
   {
    "code": "vis.get_specs()",
    "id": "f8fd647a9ea64a0bab1a571a54cc9b82",
    "order_count": 10,
    "time": "2020-07-16T13:03:46.896Z",
    "type": "selectCodeCell"
   },
   {
    "code": "vis.get_specs()",
    "id": "f8fd647a9ea64a0bab1a571a54cc9b82",
    "order_count": 10,
    "time": "2020-07-16T13:03:48.361Z",
    "type": "editCodeCell"
   },
   {
    "code": "vis.get_attr_by_attr_name(\"Height\")",
    "id": "f8fd647a9ea64a0bab1a571a54cc9b82",
    "order_count": 10,
    "time": "2020-07-16T13:04:23.880Z",
    "type": "executeCodeCell"
   },
   {
    "code": "test_view()",
    "id": "de8010cfbec64b1c8f495b37fcf92b37",
    "order_count": 11,
    "time": "2020-07-16T13:04:23.904Z",
    "type": "selectCodeCell"
   },
   {
    "code": "vis.get_attr_by_attr_name(\"Height\")",
    "id": "f8fd647a9ea64a0bab1a571a54cc9b82",
    "isPrintLuxDf": false,
    "isPrintPandasDf": false,
    "isPrintView": false,
    "isPrintViewCollection": false,
    "order_count": 10,
    "time": "2020-07-16T13:04:23.920Z",
    "type": "completeCodeCell"
   },
   {
    "code": "vis.get_attr_by_attr_name(\"Height\")",
    "id": "f8fd647a9ea64a0bab1a571a54cc9b82",
    "order_count": 10,
    "time": "2020-07-16T13:04:24.552Z",
    "type": "selectCodeCell"
   },
   {
    "code": "vis.get_attr_by_attr_name(\"Height\")",
    "id": "f8fd647a9ea64a0bab1a571a54cc9b82",
    "order_count": 10,
    "time": "2020-07-16T13:04:24.776Z",
    "type": "editCodeCell"
   },
   {
    "code": "vis.get_attr_by_attr_name(\"Height\")[0].bin_size",
    "id": "f8fd647a9ea64a0bab1a571a54cc9b82",
    "order_count": 10,
    "time": "2020-07-16T13:04:43.832Z",
    "type": "executeCodeCell"
   },
   {
    "code": "test_view()",
    "id": "de8010cfbec64b1c8f495b37fcf92b37",
    "order_count": 11,
    "time": "2020-07-16T13:04:43.855Z",
    "type": "selectCodeCell"
   },
   {
    "code": "vis.get_attr_by_attr_name(\"Height\")[0].bin_size",
    "id": "f8fd647a9ea64a0bab1a571a54cc9b82",
    "isPrintLuxDf": false,
    "isPrintPandasDf": false,
    "isPrintView": false,
    "isPrintViewCollection": false,
    "order_count": 10,
    "time": "2020-07-16T13:04:43.862Z",
    "type": "completeCodeCell"
   },
   {
    "code": "vis.get_attr_by_attr_name(\"Height\")[0].bin_size",
    "id": "f8fd647a9ea64a0bab1a571a54cc9b82",
    "order_count": 10,
    "time": "2020-07-16T13:04:44.617Z",
    "type": "selectCodeCell"
   },
   {
    "code": "vis.get_attr_by_attr_name(\"Height\")[0].bin_size",
    "id": "f8fd647a9ea64a0bab1a571a54cc9b82",
    "order_count": 10,
    "time": "2020-07-16T13:04:44.859Z",
    "type": "editCodeCell"
   },
   {
    "code": "test_view()",
    "id": "de8010cfbec64b1c8f495b37fcf92b37",
    "order_count": null,
    "time": "2020-07-16T13:04:50.443Z",
    "type": "deleteCodeCell"
   },
   {
    "code": "assert vis.get_attr_by_attr_name(\"Height\")[0].bin_size!=0\n\ntest_view()",
    "id": "f8fd647a9ea64a0bab1a571a54cc9b82",
    "order_count": 10,
    "time": "2020-07-16T13:04:50.780Z",
    "type": "editCodeCell"
   },
   {
    "code": "df = pd.read_csv(\"lux/data/olympic.csv\")\nfrom lux.vis.Vis import Vis\nvis = Vis([\"Height\",\"SportType=Ball\"],df)",
    "id": "1a48108f309b4e4d9b8a8a8f9059903f",
    "order_count": 9,
    "time": "2020-07-16T13:04:51.734Z",
    "type": "editCodeCell"
   },
   {
    "code": "assert vis.get_attr_by_attr_name(\"Height\")[0].bin_size!=0\n\ntest_view()",
    "id": "f8fd647a9ea64a0bab1a571a54cc9b82",
    "order_count": null,
    "time": "2020-07-16T13:04:52.748Z",
    "type": "deleteCodeCell"
   },
   {
    "code": "df = pd.read_csv(\"lux/data/olympic.csv\")\nfrom lux.vis.Vis import Vis\nvis = Vis([\"Height\",\"SportType=Ball\"],df)\n\nassert vis.get_attr_by_attr_name(\"Height\")[0].bin_size!=0\n\ntest_view()",
    "id": "1a48108f309b4e4d9b8a8a8f9059903f",
    "order_count": 9,
    "time": "2020-07-16T13:04:53.061Z",
    "type": "editCodeCell"
   },
   {
    "code": "def test_view():\n    df = pd.read_csv(\"lux/data/olympic.csv\")\n    from lux.vis.Vis import Vis\n    view_with_year = Vis([\"Height\",\"SportType=Ball\"],df)\n    assert view_with_year.get_specs().attribute==\"Year\"\n\ndef test_view_collection_set_query():\n    df = pd.read_csv(\"lux/data/olympic.csv\")\n    from lux.vis.VisCollection import VisCollection\n    vc = VisCollection([\"Height\",\"SportType=Ice\",\"?\"],df)\n    vc.set_query([\"Height\",\"SportType=Boat\",\"?\"])\n    for v in vc.collection: \n        filter_vspec = list(filter(lambda x: x.channel==\"\",v.spec_lst))[0]\n        assert filter_vspec.value ==\"Boat\"",
    "id": "474ce8c231884d0b8dfe29831e4281f8",
    "order_count": 8,
    "time": "2020-07-16T13:04:57.840Z",
    "type": "selectCodeCell"
   },
   {
    "code": "def test_view():\n    df = pd.read_csv(\"lux/data/olympic.csv\")\n    from lux.vis.Vis import Vis\n    view_with_year = Vis([\"Height\",\"SportType=Ball\"],df)\n    assert view_with_year.get_specs().attribute==\"Year\"\n\ndef test_view_collection_set_query():\n    df = pd.read_csv(\"lux/data/olympic.csv\")\n    from lux.vis.VisCollection import VisCollection\n    vc = VisCollection([\"Height\",\"SportType=Ice\",\"?\"],df)\n    vc.set_query([\"Height\",\"SportType=Boat\",\"?\"])\n    for v in vc.collection: \n        filter_vspec = list(filter(lambda x: x.channel==\"\",v.spec_lst))[0]\n        assert filter_vspec.value ==\"Boat\"",
    "id": "474ce8c231884d0b8dfe29831e4281f8",
    "order_count": 8,
    "time": "2020-07-16T13:04:57.849Z",
    "type": "editCodeCell"
   },
   {
    "code": "def test_view():\n    df = pd.read_csv(\"lux/data/olympic.csv\")\n    from lux.vis.Vis import Vis\n    vis = Vis([\"Height\",\"SportType=Ball\"],df)\n    assert vis.get_attr_by_attr_name(\"Height\")[0].bin_size!=0\n    \ndef test_view_collection_set_query():\n    df = pd.read_csv(\"lux/data/olympic.csv\")\n    from lux.vis.VisCollection import VisCollection\n    vc = VisCollection([\"Height\",\"SportType=Ice\",\"?\"],df)\n    vc.set_query([\"Height\",\"SportType=Boat\",\"?\"])\n    for v in vc.collection: \n        filter_vspec = list(filter(lambda x: x.channel==\"\",v.spec_lst))[0]\n        assert filter_vspec.value ==\"Boat\"",
    "id": "474ce8c231884d0b8dfe29831e4281f8",
    "order_count": 8,
    "time": "2020-07-16T13:05:03.369Z",
    "type": "executeCodeCell"
   },
   {
    "code": "\n\ntest_view()",
    "id": "1a48108f309b4e4d9b8a8a8f9059903f",
    "order_count": 9,
    "time": "2020-07-16T13:05:03.391Z",
    "type": "selectCodeCell"
   },
   {
    "code": "def test_view():\n    df = pd.read_csv(\"lux/data/olympic.csv\")\n    from lux.vis.Vis import Vis\n    vis = Vis([\"Height\",\"SportType=Ball\"],df)\n    assert vis.get_attr_by_attr_name(\"Height\")[0].bin_size!=0\n    \ndef test_view_collection_set_query():\n    df = pd.read_csv(\"lux/data/olympic.csv\")\n    from lux.vis.VisCollection import VisCollection\n    vc = VisCollection([\"Height\",\"SportType=Ice\",\"?\"],df)\n    vc.set_query([\"Height\",\"SportType=Boat\",\"?\"])\n    for v in vc.collection: \n        filter_vspec = list(filter(lambda x: x.channel==\"\",v.spec_lst))[0]\n        assert filter_vspec.value ==\"Boat\"",
    "id": "474ce8c231884d0b8dfe29831e4281f8",
    "isPrintLuxDf": false,
    "isPrintPandasDf": false,
    "isPrintView": false,
    "isPrintViewCollection": false,
    "order_count": 8,
    "time": "2020-07-16T13:05:03.396Z",
    "type": "completeCodeCell"
   },
   {
    "code": "\n\ntest_view()",
    "id": "1a48108f309b4e4d9b8a8a8f9059903f",
    "order_count": 9,
    "time": "2020-07-16T13:05:03.673Z",
    "type": "executeCodeCell"
   },
   {
    "code": "",
    "id": "332cef8bcb6a47f599090626f38b768a",
    "order_count": 10,
    "time": "2020-07-16T13:05:03.684Z",
    "type": "selectCodeCell"
   },
   {
    "code": "\n\ntest_view()",
    "id": "1a48108f309b4e4d9b8a8a8f9059903f",
    "isPrintLuxDf": false,
    "isPrintPandasDf": false,
    "isPrintView": false,
    "isPrintViewCollection": false,
    "order_count": 9,
    "time": "2020-07-16T13:05:03.731Z",
    "type": "completeCodeCell"
   },
   {
    "code": "\n\ntest_view()",
    "id": "1a48108f309b4e4d9b8a8a8f9059903f",
    "order_count": 9,
    "time": "2020-07-16T13:05:04.257Z",
    "type": "selectCodeCell"
   },
   {
    "code": "\n\ntest_view()",
    "id": "1a48108f309b4e4d9b8a8a8f9059903f",
    "order_count": 9,
    "time": "2020-07-16T13:05:04.612Z",
    "type": "editCodeCell"
   },
   {
    "code": "",
    "id": "332cef8bcb6a47f599090626f38b768a",
    "order_count": 10,
    "time": "2020-07-16T13:05:08.615Z",
    "type": "selectCodeCell"
   },
   {
    "code": "",
    "id": "332cef8bcb6a47f599090626f38b768a",
    "order_count": 10,
    "time": "2020-07-16T13:05:08.619Z",
    "type": "editCodeCell"
   },
   {
    "code": "df = pd.read_csv(\"lux/data/olympic.csv\")\nfrom lux.vis.Vis import Vis\nvis = Vis([\"Height\",\"SportType=Ball\"],df)\nassert vis.get_attr_by_attr_name(\"Height\")[0].bin_size!=0",
    "id": "332cef8bcb6a47f599090626f38b768a",
    "order_count": 10,
    "time": "2020-07-16T13:05:12.508Z",
    "type": "selectCodeCell"
   },
   {
    "code": "vis",
    "id": "332cef8bcb6a47f599090626f38b768a",
    "order_count": 10,
    "time": "2020-07-16T13:05:14.017Z",
    "type": "executeCodeCell"
   },
   {
    "code": "",
    "id": "c05f83fe0e5d4e839ab7b568c6f1e620",
    "order_count": 11,
    "time": "2020-07-16T13:05:14.058Z",
    "type": "editCodeCell"
   },
   {
    "code": "vis",
    "id": "332cef8bcb6a47f599090626f38b768a",
    "isPrintLuxDf": false,
    "isPrintPandasDf": false,
    "isPrintView": false,
    "isPrintViewCollection": false,
    "order_count": 10,
    "time": "2020-07-16T13:05:14.081Z",
    "type": "completeCodeCell"
   },
   {
    "param": "",
    "time": "2020-07-16T13:05:14.089Z",
    "type": "initWidget"
   },
   {
    "code": "vis",
    "id": "332cef8bcb6a47f599090626f38b768a",
    "order_count": 10,
    "time": "2020-07-16T13:05:16.718Z",
    "type": "selectCodeCell"
   },
   {
    "code": "vis",
    "id": "332cef8bcb6a47f599090626f38b768a",
    "order_count": 10,
    "time": "2020-07-16T13:05:16.723Z",
    "type": "editCodeCell"
   },
   {
    "code": "vis.spec_lst",
    "id": "332cef8bcb6a47f599090626f38b768a",
    "order_count": 10,
    "time": "2020-07-16T13:05:23.648Z",
    "type": "executeCodeCell"
   },
   {
    "code": "",
    "id": "c05f83fe0e5d4e839ab7b568c6f1e620",
    "order_count": 11,
    "time": "2020-07-16T13:05:23.667Z",
    "type": "selectCodeCell"
   },
   {
    "code": "vis.spec_lst",
    "id": "332cef8bcb6a47f599090626f38b768a",
    "isPrintLuxDf": false,
    "isPrintPandasDf": false,
    "isPrintView": false,
    "isPrintViewCollection": false,
    "order_count": 10,
    "time": "2020-07-16T13:05:23.676Z",
    "type": "completeCodeCell"
   },
   {
    "code": "def test_view():\n    df = pd.read_csv(\"lux/data/olympic.csv\")\n    from lux.vis.Vis import Vis\n    vis = Vis([\"Height\",\"SportType=Ball\"],df)\n    assert vis.get_attr_by_attr_name(\"Height\")[0].bin_size!=0\n    \ndef test_view_collection_set_query():\n    df = pd.read_csv(\"lux/data/olympic.csv\")\n    from lux.vis.VisCollection import VisCollection\n    vc = VisCollection([\"Height\",\"SportType=Ice\",\"?\"],df)\n    vc.set_query([\"Height\",\"SportType=Boat\",\"?\"])\n    for v in vc.collection: \n        filter_vspec = list(filter(lambda x: x.channel==\"\",v.spec_lst))[0]\n        assert filter_vspec.value ==\"Boat\"",
    "id": "474ce8c231884d0b8dfe29831e4281f8",
    "order_count": 8,
    "time": "2020-07-16T13:05:27.427Z",
    "type": "selectCodeCell"
   },
   {
    "code": "def test_view():\n    df = pd.read_csv(\"lux/data/olympic.csv\")\n    from lux.vis.Vis import Vis\n    vis = Vis([\"Height\",\"SportType=Ball\"],df)\n    assert vis.get_attr_by_attr_name(\"Height\")[0].bin_size!=0\n    \ndef test_view_collection_set_query():\n    df = pd.read_csv(\"lux/data/olympic.csv\")\n    from lux.vis.VisCollection import VisCollection\n    vc = VisCollection([\"Height\",\"SportType=Ice\",\"?\"],df)\n    vc.set_query([\"Height\",\"SportType=Boat\",\"?\"])\n    for v in vc.collection: \n        filter_vspec = list(filter(lambda x: x.channel==\"\",v.spec_lst))[0]\n        assert filter_vspec.value ==\"Boat\"",
    "id": "474ce8c231884d0b8dfe29831e4281f8",
    "order_count": 8,
    "time": "2020-07-16T13:05:27.438Z",
    "type": "editCodeCell"
   },
   {
    "code": "vis.spec_lst",
    "id": "332cef8bcb6a47f599090626f38b768a",
    "order_count": 10,
    "time": "2020-07-16T13:05:29.152Z",
    "type": "selectCodeCell"
   },
   {
    "code": "vis.spec_lst",
    "id": "332cef8bcb6a47f599090626f38b768a",
    "order_count": 10,
    "time": "2020-07-16T13:05:29.155Z",
    "type": "editCodeCell"
   },
   {
    "code": "vis.get_attr_by_attr_name(\"Height\")[0].bin_size!=0",
    "id": "332cef8bcb6a47f599090626f38b768a",
    "order_count": 10,
    "time": "2020-07-16T13:05:31.541Z",
    "type": "selectCodeCell"
   },
   {
    "code": "vis.get_attr_by_attr_name(\"Record\")[0].bin_size!=0",
    "id": "332cef8bcb6a47f599090626f38b768a",
    "order_count": 10,
    "time": "2020-07-16T13:05:49.245Z",
    "type": "selectCodeCell"
   },
   {
    "code": "vis.get_attr_by_attr_name(\"Record\")[0].aggregation",
    "id": "332cef8bcb6a47f599090626f38b768a",
    "order_count": 10,
    "time": "2020-07-16T13:05:53.946Z",
    "type": "executeCodeCell"
   },
   {
    "code": "",
    "id": "c05f83fe0e5d4e839ab7b568c6f1e620",
    "order_count": 11,
    "time": "2020-07-16T13:05:53.968Z",
    "type": "selectCodeCell"
   },
   {
    "code": "vis.get_attr_by_attr_name(\"Record\")[0].aggregation",
    "id": "332cef8bcb6a47f599090626f38b768a",
    "isPrintLuxDf": false,
    "isPrintPandasDf": false,
    "isPrintView": false,
    "isPrintViewCollection": false,
    "order_count": 10,
    "time": "2020-07-16T13:05:53.975Z",
    "type": "completeCodeCell"
   },
   {
    "code": "vis.get_attr_by_attr_name(\"Record\")[0].aggregation",
    "id": "332cef8bcb6a47f599090626f38b768a",
    "order_count": 10,
    "time": "2020-07-16T13:05:55.889Z",
    "type": "selectCodeCell"
   },
   {
    "code": "vis.get_attr_by_attr_name(\"Record\")[0].aggregation",
    "id": "332cef8bcb6a47f599090626f38b768a",
    "order_count": 10,
    "time": "2020-07-16T13:06:35.423Z",
    "type": "editCodeCell"
   },
   {
    "code": "def test_view():\n    df = pd.read_csv(\"lux/data/olympic.csv\")\n    from lux.vis.Vis import Vis\n    vis = Vis([\"Height\",\"SportType=Ball\"],df)\n    assert vis.get_attr_by_attr_name(\"Height\")[0].bin_size!=0\n    \ndef test_view_collection_set_query():\n    df = pd.read_csv(\"lux/data/olympic.csv\")\n    from lux.vis.VisCollection import VisCollection\n    vc = VisCollection([\"Height\",\"SportType=Ice\",\"?\"],df)\n    vc.set_query([\"Height\",\"SportType=Boat\",\"?\"])\n    for v in vc.collection: \n        filter_vspec = list(filter(lambda x: x.channel==\"\",v.spec_lst))[0]\n        assert filter_vspec.value ==\"Boat\"",
    "id": "474ce8c231884d0b8dfe29831e4281f8",
    "order_count": 8,
    "time": "2020-07-16T13:06:44.495Z",
    "type": "selectCodeCell"
   },
   {
    "code": "def test_view():\n    df = pd.read_csv(\"lux/data/olympic.csv\")\n    from lux.vis.Vis import Vis\n    vis = Vis([\"Height\",\"SportType=Ball\"],df)\n    assert vis.get_attr_by_attr_name(\"Height\")[0].bin_size!=0\n    \ndef test_view_collection_set_query():\n    df = pd.read_csv(\"lux/data/olympic.csv\")\n    from lux.vis.VisCollection import VisCollection\n    vc = VisCollection([\"Height\",\"SportType=Ice\",\"?\"],df)\n    vc.set_query([\"Height\",\"SportType=Boat\",\"?\"])\n    for v in vc.collection: \n        filter_vspec = list(filter(lambda x: x.channel==\"\",v.spec_lst))[0]\n        assert filter_vspec.value ==\"Boat\"",
    "id": "474ce8c231884d0b8dfe29831e4281f8",
    "order_count": 8,
    "time": "2020-07-16T13:06:44.504Z",
    "type": "editCodeCell"
   },
   {
    "code": "def test_view():\n    df = pd.read_csv(\"lux/data/olympic.csv\")\n    from lux.vis.Vis import Vis\n    vis = Vis([\"Height\",\"SportType=Ball\"],df)\n    assert vis.get_attr_by_attr_name(\"Height\")[0].bin_size!=0\n    \ndef test_view_collection_set_query():\n    df = pd.read_csv(\"lux/data/olympic.csv\")\n    from lux.vis.VisCollection import VisCollection\n    vc = VisCollection([\"Height\",\"SportType=Ice\",\"?\"],df)\n    vc.set_query([\"Height\",\"SportType=Boat\",\"?\"])\n    for v in vc.collection: \n        filter_vspec = list(filter(lambda x: x.channel==\"\",v.spec_lst))[0]\n        assert filter_vspec.value ==\"Boat\"",
    "id": "474ce8c231884d0b8dfe29831e4281f8",
    "order_count": 8,
    "time": "2020-07-16T13:06:45.108Z",
    "type": "selectCodeCell"
   },
   {
    "code": "def test_view():\n    df = pd.read_csv(\"lux/data/olympic.csv\")\n    from lux.vis.Vis import Vis\n    vis = Vis([\"Height\",\"SportType=Ball\"],df)\n    assert vis.get_attr_by_attr_name(\"Height\")[0].bin_size!=0\n    \ndef test_view_collection_set_query():\n    df = pd.read_csv(\"lux/data/olympic.csv\")\n    from lux.vis.VisCollection import VisCollection\n    vc = VisCollection([\"Height\",\"SportType=Ice\",\"?\"],df)\n    vc.set_query([\"Height\",\"SportType=Boat\",\"?\"])\n    for v in vc.collection: \n        filter_vspec = list(filter(lambda x: x.channel==\"\",v.spec_lst))[0]\n        assert filter_vspec.value ==\"Boat\"",
    "id": "474ce8c231884d0b8dfe29831e4281f8",
    "order_count": 8,
    "time": "2020-07-16T13:06:45.475Z",
    "type": "selectCodeCell"
   },
   {
    "code": "def test_view():\n    df = pd.read_csv(\"lux/data/olympic.csv\")\n    from lux.vis.Vis import Vis\n    vis = Vis([\"Height\",\"SportType=Ball\"],df)\n    assert vis.get_attr_by_attr_name(\"Height\")[0].bin_size!=0\n    assert vis.get_attr_by_attr_name(\"Record\")[0].aggregation == 'count'\n    \ndef test_view_collection_set_query():\n    df = pd.read_csv(\"lux/data/olympic.csv\")\n    from lux.vis.VisCollection import VisCollection\n    vc = VisCollection([\"Height\",\"SportType=Ice\",\"?\"],df)\n    vc.set_query([\"Height\",\"SportType=Boat\",\"?\"])\n    for v in vc.collection: \n        filter_vspec = list(filter(lambda x: x.channel==\"\",v.spec_lst))[0]\n        assert filter_vspec.value ==\"Boat\"",
    "id": "474ce8c231884d0b8dfe29831e4281f8",
    "order_count": 8,
    "time": "2020-07-16T13:06:49.908Z",
    "type": "executeCodeCell"
   },
   {
    "code": "test_view()",
    "id": "1a48108f309b4e4d9b8a8a8f9059903f",
    "order_count": 9,
    "time": "2020-07-16T13:06:49.930Z",
    "type": "selectCodeCell"
   },
   {
    "code": "def test_view():\n    df = pd.read_csv(\"lux/data/olympic.csv\")\n    from lux.vis.Vis import Vis\n    vis = Vis([\"Height\",\"SportType=Ball\"],df)\n    assert vis.get_attr_by_attr_name(\"Height\")[0].bin_size!=0\n    assert vis.get_attr_by_attr_name(\"Record\")[0].aggregation == 'count'\n    \ndef test_view_collection_set_query():\n    df = pd.read_csv(\"lux/data/olympic.csv\")\n    from lux.vis.VisCollection import VisCollection\n    vc = VisCollection([\"Height\",\"SportType=Ice\",\"?\"],df)\n    vc.set_query([\"Height\",\"SportType=Boat\",\"?\"])\n    for v in vc.collection: \n        filter_vspec = list(filter(lambda x: x.channel==\"\",v.spec_lst))[0]\n        assert filter_vspec.value ==\"Boat\"",
    "id": "474ce8c231884d0b8dfe29831e4281f8",
    "isPrintLuxDf": false,
    "isPrintPandasDf": false,
    "isPrintView": false,
    "isPrintViewCollection": false,
    "order_count": 8,
    "time": "2020-07-16T13:06:49.935Z",
    "type": "completeCodeCell"
   },
   {
    "code": "test_view()",
    "id": "1a48108f309b4e4d9b8a8a8f9059903f",
    "order_count": 9,
    "time": "2020-07-16T13:06:50.868Z",
    "type": "executeCodeCell"
   },
   {
    "code": "",
    "id": "332cef8bcb6a47f599090626f38b768a",
    "order_count": 10,
    "time": "2020-07-16T13:06:50.879Z",
    "type": "selectCodeCell"
   },
   {
    "code": "test_view()",
    "id": "1a48108f309b4e4d9b8a8a8f9059903f",
    "isPrintLuxDf": false,
    "isPrintPandasDf": false,
    "isPrintView": false,
    "isPrintViewCollection": false,
    "order_count": 9,
    "time": "2020-07-16T13:06:50.927Z",
    "type": "completeCodeCell"
   },
   {
    "code": "",
    "id": "332cef8bcb6a47f599090626f38b768a",
    "order_count": null,
    "time": "2020-07-16T13:06:51.532Z",
    "type": "deleteCodeCell"
   },
   {
    "code": "def test_view():\n    df = pd.read_csv(\"lux/data/olympic.csv\")\n    from lux.vis.Vis import Vis\n    vis = Vis([\"Height\",\"SportType=Ball\"],df)\n    assert vis.get_attr_by_attr_name(\"Height\")[0].bin_size!=0\n    assert vis.get_attr_by_attr_name(\"Record\")[0].aggregation == 'count'\n    \ndef test_view_collection_set_query():\n    df = pd.read_csv(\"lux/data/olympic.csv\")\n    from lux.vis.VisCollection import VisCollection\n    vc = VisCollection([\"Height\",\"SportType=Ice\",\"?\"],df)\n    vc.set_query([\"Height\",\"SportType=Boat\",\"?\"])\n    for v in vc.collection: \n        filter_vspec = list(filter(lambda x: x.channel==\"\",v.spec_lst))[0]\n        assert filter_vspec.value ==\"Boat\"",
    "id": "474ce8c231884d0b8dfe29831e4281f8",
    "order_count": 8,
    "time": "2020-07-16T13:06:52.962Z",
    "type": "selectCodeCell"
   },
   {
    "code": "def test_view():\n    df = pd.read_csv(\"lux/data/olympic.csv\")\n    from lux.vis.Vis import Vis\n    vis = Vis([\"Height\",\"SportType=Ball\"],df)\n    assert vis.get_attr_by_attr_name(\"Height\")[0].bin_size!=0\n    assert vis.get_attr_by_attr_name(\"Record\")[0].aggregation == 'count'\n    \ndef test_view_collection_set_query():\n    df = pd.read_csv(\"lux/data/olympic.csv\")\n    from lux.vis.VisCollection import VisCollection\n    vc = VisCollection([\"Height\",\"SportType=Ice\",\"?\"],df)\n    vc.set_query([\"Height\",\"SportType=Boat\",\"?\"])\n    for v in vc.collection: \n        filter_vspec = list(filter(lambda x: x.channel==\"\",v.spec_lst))[0]\n        assert filter_vspec.value ==\"Boat\"",
    "id": "474ce8c231884d0b8dfe29831e4281f8",
    "order_count": 8,
    "time": "2020-07-16T13:06:52.970Z",
    "type": "editCodeCell"
   },
   {
    "code": "def test_vis():\n    df = pd.read_csv(\"lux/data/olympic.csv\")\n    from lux.vis.Vis import Vis\n    vis = Vis([\"Height\",\"SportType=Ball\"],df)\n    assert vis.get_attr_by_attr_name(\"Height\")[0].bin_size!=0\n    assert vis.get_attr_by_attr_name(\"Record\")[0].aggregation == 'count'\n    \ndef test_view_collection_set_query():\n    df = pd.read_csv(\"lux/data/olympic.csv\")\n    from lux.vis.VisCollection import VisCollection\n    vc = VisCollection([\"Height\",\"SportType=Ice\",\"?\"],df)\n    vc.set_query([\"Height\",\"SportType=Boat\",\"?\"])\n    for v in vc.collection: \n        filter_vspec = list(filter(lambda x: x.channel==\"\",v.spec_lst))[0]\n        assert filter_vspec.value ==\"Boat\"",
    "id": "474ce8c231884d0b8dfe29831e4281f8",
    "order_count": 8,
    "time": "2020-07-16T13:06:56.555Z",
    "type": "selectCodeCell"
   },
   {
    "code": "test_view()",
    "id": "1a48108f309b4e4d9b8a8a8f9059903f",
    "order_count": 9,
    "time": "2020-07-16T13:06:58.060Z",
    "type": "selectCodeCell"
   },
   {
    "code": "test_view()",
    "id": "1a48108f309b4e4d9b8a8a8f9059903f",
    "order_count": 9,
    "time": "2020-07-16T13:06:58.064Z",
    "type": "editCodeCell"
   },
   {
    "code": "def test_vis():\n    df = pd.read_csv(\"lux/data/olympic.csv\")\n    from lux.vis.Vis import Vis\n    vis = Vis([\"Height\",\"SportType=Ball\"],df)\n    assert vis.get_attr_by_attr_name(\"Height\")[0].bin_size!=0\n    assert vis.get_attr_by_attr_name(\"Record\")[0].aggregation == 'count'\n    \ndef test_view_collection_set_query():\n    df = pd.read_csv(\"lux/data/olympic.csv\")\n    from lux.vis.VisCollection import VisCollection\n    vc = VisCollection([\"Height\",\"SportType=Ice\",\"?\"],df)\n    vc.set_query([\"Height\",\"SportType=Boat\",\"?\"])\n    for v in vc.collection: \n        filter_vspec = list(filter(lambda x: x.channel==\"\",v.spec_lst))[0]\n        assert filter_vspec.value ==\"Boat\"",
    "id": "474ce8c231884d0b8dfe29831e4281f8",
    "order_count": 8,
    "time": "2020-07-16T13:06:59.349Z",
    "type": "selectCodeCell"
   },
   {
    "code": "def test_vis():\n    df = pd.read_csv(\"lux/data/olympic.csv\")\n    from lux.vis.Vis import Vis\n    vis = Vis([\"Height\",\"SportType=Ball\"],df)\n    assert vis.get_attr_by_attr_name(\"Height\")[0].bin_size!=0\n    assert vis.get_attr_by_attr_name(\"Record\")[0].aggregation == 'count'\n    \ndef test_view_collection_set_query():\n    df = pd.read_csv(\"lux/data/olympic.csv\")\n    from lux.vis.VisCollection import VisCollection\n    vc = VisCollection([\"Height\",\"SportType=Ice\",\"?\"],df)\n    vc.set_query([\"Height\",\"SportType=Boat\",\"?\"])\n    for v in vc.collection: \n        filter_vspec = list(filter(lambda x: x.channel==\"\",v.spec_lst))[0]\n        assert filter_vspec.value ==\"Boat\"",
    "id": "474ce8c231884d0b8dfe29831e4281f8",
    "order_count": 8,
    "time": "2020-07-16T13:06:59.358Z",
    "type": "editCodeCell"
   },
   {
    "code": "def test_vis():\n    df = pd.read_csv(\"lux/data/olympic.csv\")\n    from lux.vis.Vis import Vis\n    vis = Vis([\"Height\",\"SportType=Ball\"],df)\n    assert vis.get_attr_by_attr_name(\"Height\")[0].bin_size!=0\n    assert vis.get_attr_by_attr_name(\"Record\")[0].aggregation == 'count'\n    \ndef test_view_collection_set_query():\n    df = pd.read_csv(\"lux/data/olympic.csv\")\n    from lux.vis.VisCollection import VisCollection\n    vc = VisCollection([\"Height\",\"SportType=Ice\",\"?\"],df)\n    vc.set_query([\"Height\",\"SportType=Boat\",\"?\"])\n    for v in vc.collection: \n        filter_vspec = list(filter(lambda x: x.channel==\"\",v.spec_lst))[0]\n        assert filter_vspec.value ==\"Boat\"",
    "id": "474ce8c231884d0b8dfe29831e4281f8",
    "order_count": 8,
    "time": "2020-07-16T13:07:01.116Z",
    "type": "executeCodeCell"
   },
   {
    "code": "test_vis()",
    "id": "1a48108f309b4e4d9b8a8a8f9059903f",
    "order_count": 9,
    "time": "2020-07-16T13:07:01.138Z",
    "type": "selectCodeCell"
   },
   {
    "code": "def test_vis():\n    df = pd.read_csv(\"lux/data/olympic.csv\")\n    from lux.vis.Vis import Vis\n    vis = Vis([\"Height\",\"SportType=Ball\"],df)\n    assert vis.get_attr_by_attr_name(\"Height\")[0].bin_size!=0\n    assert vis.get_attr_by_attr_name(\"Record\")[0].aggregation == 'count'\n    \ndef test_view_collection_set_query():\n    df = pd.read_csv(\"lux/data/olympic.csv\")\n    from lux.vis.VisCollection import VisCollection\n    vc = VisCollection([\"Height\",\"SportType=Ice\",\"?\"],df)\n    vc.set_query([\"Height\",\"SportType=Boat\",\"?\"])\n    for v in vc.collection: \n        filter_vspec = list(filter(lambda x: x.channel==\"\",v.spec_lst))[0]\n        assert filter_vspec.value ==\"Boat\"",
    "id": "474ce8c231884d0b8dfe29831e4281f8",
    "isPrintLuxDf": false,
    "isPrintPandasDf": false,
    "isPrintView": false,
    "isPrintViewCollection": false,
    "order_count": 8,
    "time": "2020-07-16T13:07:01.142Z",
    "type": "completeCodeCell"
   },
   {
    "code": "test_vis()",
    "id": "1a48108f309b4e4d9b8a8a8f9059903f",
    "order_count": 9,
    "time": "2020-07-16T13:07:01.472Z",
    "type": "executeCodeCell"
   },
   {
    "code": "",
    "id": "c05f83fe0e5d4e839ab7b568c6f1e620",
    "order_count": 10,
    "time": "2020-07-16T13:07:01.481Z",
    "type": "selectCodeCell"
   },
   {
    "code": "test_vis()",
    "id": "1a48108f309b4e4d9b8a8a8f9059903f",
    "isPrintLuxDf": false,
    "isPrintPandasDf": false,
    "isPrintView": false,
    "isPrintViewCollection": false,
    "order_count": 9,
    "time": "2020-07-16T13:07:01.524Z",
    "type": "completeCodeCell"
   },
   {
    "code": "def test_vis():\n    df = pd.read_csv(\"lux/data/olympic.csv\")\n    from lux.vis.Vis import Vis\n    vis = Vis([\"Height\",\"SportType=Ball\"],df)\n    assert vis.get_attr_by_attr_name(\"Height\")[0].bin_size!=0\n    assert vis.get_attr_by_attr_name(\"Record\")[0].aggregation == 'count'\n    \ndef test_view_collection_set_query():\n    df = pd.read_csv(\"lux/data/olympic.csv\")\n    from lux.vis.VisCollection import VisCollection\n    vc = VisCollection([\"Height\",\"SportType=Ice\",\"?\"],df)\n    vc.set_query([\"Height\",\"SportType=Boat\",\"?\"])\n    for v in vc.collection: \n        filter_vspec = list(filter(lambda x: x.channel==\"\",v.spec_lst))[0]\n        assert filter_vspec.value ==\"Boat\"",
    "id": "474ce8c231884d0b8dfe29831e4281f8",
    "order_count": 8,
    "time": "2020-07-16T13:07:04.123Z",
    "type": "selectCodeCell"
   },
   {
    "code": "def test_vis():\n    df = pd.read_csv(\"lux/data/olympic.csv\")\n    from lux.vis.Vis import Vis\n    vis = Vis([\"Height\",\"SportType=Ball\"],df)\n    assert vis.get_attr_by_attr_name(\"Height\")[0].bin_size!=0\n    assert vis.get_attr_by_attr_name(\"Record\")[0].aggregation == 'count'\n    \ndef test_view_collection_set_query():\n    df = pd.read_csv(\"lux/data/olympic.csv\")\n    from lux.vis.VisCollection import VisCollection\n    vc = VisCollection([\"Height\",\"SportType=Ice\",\"?\"],df)\n    vc.set_query([\"Height\",\"SportType=Boat\",\"?\"])\n    for v in vc.collection: \n        filter_vspec = list(filter(lambda x: x.channel==\"\",v.spec_lst))[0]\n        assert filter_vspec.value ==\"Boat\"",
    "id": "474ce8c231884d0b8dfe29831e4281f8",
    "order_count": 8,
    "time": "2020-07-16T13:07:04.132Z",
    "type": "editCodeCell"
   },
   {
    "code": "vis.set_specs([\"Height\",\"SportType=Ice\"])",
    "id": "690f3ebc9c074b6689a168af311ee641",
    "order_count": 4,
    "time": "2020-07-16T13:07:09.578Z",
    "type": "selectCodeCell"
   },
   {
    "code": "vis.set_specs([\"Height\",\"SportType=Ice\"])",
    "id": "690f3ebc9c074b6689a168af311ee641",
    "order_count": 4,
    "time": "2020-07-16T13:07:09.582Z",
    "type": "editCodeCell"
   },
   {
    "code": "def test_vis():\n    df = pd.read_csv(\"lux/data/olympic.csv\")\n    from lux.vis.Vis import Vis\n    vis = Vis([\"Height\",\"SportType=Ball\"],df)\n    assert vis.get_attr_by_attr_name(\"Height\")[0].bin_size!=0\n    assert vis.get_attr_by_attr_name(\"Record\")[0].aggregation == 'count'\n    \ndef test_vis_set_query():\n    df = pd.read_csv(\"lux/data/olympic.csv\")\n    from lux.vis.VisCollection import VisCollection\n    vc = VisCollection([\"Height\",\"SportType=Ice\",\"?\"],df)\n    vc.set_query([\"Height\",\"SportType=Boat\",\"?\"])\n    for v in vc.collection: \n        filter_vspec = list(filter(lambda x: x.channel==\"\",v.spec_lst))[0]\n        assert filter_vspec.value ==\"Boat\"",
    "id": "474ce8c231884d0b8dfe29831e4281f8",
    "order_count": 8,
    "time": "2020-07-16T13:07:13.345Z",
    "type": "selectCodeCell"
   },
   {
    "code": "def test_vis():\n    df = pd.read_csv(\"lux/data/olympic.csv\")\n    from lux.vis.Vis import Vis\n    vis = Vis([\"Height\",\"SportType=Ball\"],df)\n    assert vis.get_attr_by_attr_name(\"Height\")[0].bin_size!=0\n    assert vis.get_attr_by_attr_name(\"Record\")[0].aggregation == 'count'\n    \ndef test_vis_set_query():\n    df = pd.read_csv(\"lux/data/olympic.csv\")\n    from lux.vis.VisCollection import VisCollection\n    vc = VisCollection([\"Height\",\"SportType=Ice\",\"?\"],df)\n    vc.set_query([\"Height\",\"SportType=Boat\",\"?\"])\n    for v in vc.collection: \n        filter_vspec = list(filter(lambda x: x.channel==\"\",v.spec_lst))[0]\n        assert filter_vspec.value ==\"Boat\"",
    "id": "474ce8c231884d0b8dfe29831e4281f8",
    "order_count": 8,
    "time": "2020-07-16T13:07:13.354Z",
    "type": "editCodeCell"
   },
   {
    "code": "df = pd.read_csv(\"lux/data/olympic.csv\")\nfrom lux.vis.Vis import Vis\nvis = Vis([\"Height\",\"SportType=Ball\"],df)",
    "id": "c3782d56ceb5492888b885a5e25b0947",
    "order_count": 2,
    "time": "2020-07-16T13:07:17.878Z",
    "type": "selectCodeCell"
   },
   {
    "code": "df = pd.read_csv(\"lux/data/olympic.csv\")\nfrom lux.vis.Vis import Vis\nvis = Vis([\"Height\",\"SportType=Ball\"],df)",
    "id": "c3782d56ceb5492888b885a5e25b0947",
    "order_count": 2,
    "time": "2020-07-16T13:07:17.883Z",
    "type": "editCodeCell"
   },
   {
    "code": "def test_vis():\n    df = pd.read_csv(\"lux/data/olympic.csv\")\n    from lux.vis.Vis import Vis\n    vis = Vis([\"Height\",\"SportType=Ball\"],df)\n    assert vis.get_attr_by_attr_name(\"Height\")[0].bin_size!=0\n    assert vis.get_attr_by_attr_name(\"Record\")[0].aggregation == 'count'\n    \ndef test_vis_set_query():\n    df = pd.read_csv(\"lux/data/olympic.csv\")\n    from lux.vis.VisCollection import VisCollection\n    vc = VisCollection([\"Height\",\"SportType=Ice\",\"?\"],df)\n    vis.set_specs([\"Height\",\"SportType=Ice\"])\n    for v in vc.collection: \n        filter_vspec = list(filter(lambda x: x.channel==\"\",v.spec_lst))[0]\n        assert filter_vspec.value ==\"Boat\"",
    "id": "474ce8c231884d0b8dfe29831e4281f8",
    "order_count": 8,
    "time": "2020-07-16T13:07:20.208Z",
    "type": "selectCodeCell"
   },
   {
    "code": "def test_vis():\n    df = pd.read_csv(\"lux/data/olympic.csv\")\n    from lux.vis.Vis import Vis\n    vis = Vis([\"Height\",\"SportType=Ball\"],df)\n    assert vis.get_attr_by_attr_name(\"Height\")[0].bin_size!=0\n    assert vis.get_attr_by_attr_name(\"Record\")[0].aggregation == 'count'\n    \ndef test_vis_set_query():\n    df = pd.read_csv(\"lux/data/olympic.csv\")\n    from lux.vis.VisCollection import VisCollection\n    vc = VisCollection([\"Height\",\"SportType=Ice\",\"?\"],df)\n    vis.set_specs([\"Height\",\"SportType=Ice\"])\n    for v in vc.collection: \n        filter_vspec = list(filter(lambda x: x.channel==\"\",v.spec_lst))[0]\n        assert filter_vspec.value ==\"Boat\"",
    "id": "474ce8c231884d0b8dfe29831e4281f8",
    "order_count": 8,
    "time": "2020-07-16T13:07:20.215Z",
    "type": "editCodeCell"
   },
   {
    "code": "def test_vis():\n    df = pd.read_csv(\"lux/data/olympic.csv\")\n    from lux.vis.Vis import Vis\n    vis = Vis([\"Height\",\"SportType=Ball\"],df)\n    assert vis.get_attr_by_attr_name(\"Height\")[0].bin_size!=0\n    assert vis.get_attr_by_attr_name(\"Record\")[0].aggregation == 'count'\n    \ndef test_vis_set_query():\n    df = pd.read_csv(\"lux/data/olympic.csv\")\n    from lux.vis.Vis import Vis\n    vis = Vis([\"Height\",\"SportType=Ball\"],df)\n    vis.set_specs([\"Height\",\"SportType=Ice\"])\n    for v in vc.collection: \n        filter_vspec = list(filter(lambda x: x.channel==\"\",v.spec_lst))[0]\n        assert filter_vspec.value ==\"Boat\"",
    "id": "474ce8c231884d0b8dfe29831e4281f8",
    "order_count": 8,
    "time": "2020-07-16T13:07:29.580Z",
    "type": "selectCodeCell"
   },
   {
    "code": "def test_vis():\n    df = pd.read_csv(\"lux/data/olympic.csv\")\n    from lux.vis.Vis import Vis\n    vis = Vis([\"Height\",\"SportType=Ball\"],df)\n    assert vis.get_attr_by_attr_name(\"Height\")[0].bin_size!=0\n    assert vis.get_attr_by_attr_name(\"Record\")[0].aggregation == 'count'\n    \ndef test_vis_set_query():\n    df = pd.read_csv(\"lux/data/olympic.csv\")\n    from lux.vis.Vis import Vis\n    vis = Vis([\"Height\",\"SportType=Ball\"],df)\n    vis.set_specs([\"Height\",\"SportType=Ice\"])\n    for v in vc.collection: \n        filter_vspec = list(filter(lambda x: x.channel==\"\",v.spec_lst))[0]\n        assert filter_vspec.value ==\"Boat\"",
    "id": "474ce8c231884d0b8dfe29831e4281f8",
    "order_count": 8,
    "time": "2020-07-16T13:07:37.734Z",
    "type": "selectCodeCell"
   },
   {
    "code": "def test_vis():\n    df = pd.read_csv(\"lux/data/olympic.csv\")\n    from lux.vis.Vis import Vis\n    vis = Vis([\"Height\",\"SportType=Ball\"],df)\n    assert vis.get_attr_by_attr_name(\"Height\")[0].bin_size!=0\n    assert vis.get_attr_by_attr_name(\"Record\")[0].aggregation == 'count'\n    \ndef test_vis_set_query():\n    df = pd.read_csv(\"lux/data/olympic.csv\")\n    from lux.vis.Vis import Vis\n    vis = Vis([\"Height\",\"SportType=Ball\"],df)\n    vis.set_specs([\"Height\",\"SportType=Ice\"])\n#     for v in vc.collection: \n#         filter_vspec = list(filter(lambda x: x.channel==\"\",v.spec_lst))[0]\n#         assert filter_vspec.value ==\"Boat\"",
    "id": "474ce8c231884d0b8dfe29831e4281f8",
    "order_count": 8,
    "time": "2020-07-16T13:07:38.774Z",
    "type": "executeCodeCell"
   },
   {
    "code": "test_vis()",
    "id": "1a48108f309b4e4d9b8a8a8f9059903f",
    "order_count": 9,
    "time": "2020-07-16T13:07:38.795Z",
    "type": "selectCodeCell"
   },
   {
    "code": "def test_vis():\n    df = pd.read_csv(\"lux/data/olympic.csv\")\n    from lux.vis.Vis import Vis\n    vis = Vis([\"Height\",\"SportType=Ball\"],df)\n    assert vis.get_attr_by_attr_name(\"Height\")[0].bin_size!=0\n    assert vis.get_attr_by_attr_name(\"Record\")[0].aggregation == 'count'\n    \ndef test_vis_set_query():\n    df = pd.read_csv(\"lux/data/olympic.csv\")\n    from lux.vis.Vis import Vis\n    vis = Vis([\"Height\",\"SportType=Ball\"],df)\n    vis.set_specs([\"Height\",\"SportType=Ice\"])\n#     for v in vc.collection: \n#         filter_vspec = list(filter(lambda x: x.channel==\"\",v.spec_lst))[0]\n#         assert filter_vspec.value ==\"Boat\"",
    "id": "474ce8c231884d0b8dfe29831e4281f8",
    "isPrintLuxDf": false,
    "isPrintPandasDf": false,
    "isPrintView": false,
    "isPrintViewCollection": false,
    "order_count": 8,
    "time": "2020-07-16T13:07:38.800Z",
    "type": "completeCodeCell"
   },
   {
    "code": "def test_vis():\n    df = pd.read_csv(\"lux/data/olympic.csv\")\n    from lux.vis.Vis import Vis\n    vis = Vis([\"Height\",\"SportType=Ball\"],df)\n    assert vis.get_attr_by_attr_name(\"Height\")[0].bin_size!=0\n    assert vis.get_attr_by_attr_name(\"Record\")[0].aggregation == 'count'\n    \ndef test_vis_set_query():\n    df = pd.read_csv(\"lux/data/olympic.csv\")\n    from lux.vis.Vis import Vis\n    vis = Vis([\"Height\",\"SportType=Ball\"],df)\n    vis.set_specs([\"Height\",\"SportType=Ice\"])\n#     for v in vc.collection: \n#         filter_vspec = list(filter(lambda x: x.channel==\"\",v.spec_lst))[0]\n#         assert filter_vspec.value ==\"Boat\"",
    "id": "474ce8c231884d0b8dfe29831e4281f8",
    "order_count": 8,
    "time": "2020-07-16T13:07:42.725Z",
    "type": "selectCodeCell"
   },
   {
    "code": "def test_vis():\n    df = pd.read_csv(\"lux/data/olympic.csv\")\n    from lux.vis.Vis import Vis\n    vis = Vis([\"Height\",\"SportType=Ball\"],df)\n    assert vis.get_attr_by_attr_name(\"Height\")[0].bin_size!=0\n    assert vis.get_attr_by_attr_name(\"Record\")[0].aggregation == 'count'\n    \ndef test_vis_set_query():\n    df = pd.read_csv(\"lux/data/olympic.csv\")\n    from lux.vis.Vis import Vis\n    vis = Vis([\"Height\",\"SportType=Ball\"],df)\n    vis.set_specs([\"Height\",\"SportType=Ice\"])\n#     for v in vc.collection: \n#         filter_vspec = list(filter(lambda x: x.channel==\"\",v.spec_lst))[0]\n#         assert filter_vspec.value ==\"Boat\"",
    "id": "474ce8c231884d0b8dfe29831e4281f8",
    "order_count": 8,
    "time": "2020-07-16T13:07:42.734Z",
    "type": "editCodeCell"
   },
   {
    "code": "",
    "id": "c05f83fe0e5d4e839ab7b568c6f1e620",
    "order_count": 10,
    "time": "2020-07-16T13:07:44.375Z",
    "type": "selectCodeCell"
   },
   {
    "code": "",
    "id": "c05f83fe0e5d4e839ab7b568c6f1e620",
    "order_count": 10,
    "time": "2020-07-16T13:07:44.529Z",
    "type": "editCodeCell"
   },
   {
    "code": "df = pd.read_csv(\"lux/data/olympic.csv\")\nfrom lux.vis.Vis import Vis\nvis = Vis([\"Height\",\"SportType=Ball\"],df)\nvis.set_specs([\"Height\",\"SportType=Ice\"])",
    "id": "c05f83fe0e5d4e839ab7b568c6f1e620",
    "order_count": 10,
    "time": "2020-07-16T13:07:48.995Z",
    "type": "executeCodeCell"
   },
   {
    "code": "",
    "id": "687ba2545dc34723aadf84b8cfc630c8",
    "order_count": 11,
    "time": "2020-07-16T13:07:49.029Z",
    "type": "editCodeCell"
   },
   {
    "code": "df = pd.read_csv(\"lux/data/olympic.csv\")\nfrom lux.vis.Vis import Vis\nvis = Vis([\"Height\",\"SportType=Ball\"],df)\nvis.set_specs([\"Height\",\"SportType=Ice\"])",
    "id": "c05f83fe0e5d4e839ab7b568c6f1e620",
    "isPrintLuxDf": false,
    "isPrintPandasDf": false,
    "isPrintView": false,
    "isPrintViewCollection": false,
    "order_count": 10,
    "time": "2020-07-16T13:07:49.073Z",
    "type": "completeCodeCell"
   },
   {
    "code": "vis",
    "id": "687ba2545dc34723aadf84b8cfc630c8",
    "order_count": 11,
    "time": "2020-07-16T13:07:50.422Z",
    "type": "executeCodeCell"
   },
   {
    "code": "",
    "id": "f74e7736bf03445582a04d307cf75127",
    "order_count": 12,
    "time": "2020-07-16T13:07:50.456Z",
    "type": "editCodeCell"
   },
   {
    "code": "vis",
    "id": "687ba2545dc34723aadf84b8cfc630c8",
    "isPrintLuxDf": false,
    "isPrintPandasDf": false,
    "isPrintView": false,
    "isPrintViewCollection": false,
    "order_count": 11,
    "time": "2020-07-16T13:07:50.490Z",
    "type": "completeCodeCell"
   },
   {
    "param": "",
    "time": "2020-07-16T13:07:50.500Z",
    "type": "initWidget"
   },
   {
    "code": "def test_vis():\n    df = pd.read_csv(\"lux/data/olympic.csv\")\n    from lux.vis.Vis import Vis\n    vis = Vis([\"Height\",\"SportType=Ball\"],df)\n    assert vis.get_attr_by_attr_name(\"Height\")[0].bin_size!=0\n    assert vis.get_attr_by_attr_name(\"Record\")[0].aggregation == 'count'\n    \ndef test_vis_set_query():\n    df = pd.read_csv(\"lux/data/olympic.csv\")\n    from lux.vis.Vis import Vis\n    vis = Vis([\"Height\",\"SportType=Ball\"],df)\n    vis.set_specs([\"Height\",\"SportType=Ice\"])\n#     for v in vc.collection: \n#         filter_vspec = list(filter(lambda x: x.channel==\"\",v.spec_lst))[0]\n#         assert filter_vspec.value ==\"Boat\"",
    "id": "474ce8c231884d0b8dfe29831e4281f8",
    "order_count": 8,
    "time": "2020-07-16T13:08:30.587Z",
    "type": "selectCodeCell"
   },
   {
    "code": "def test_vis():\n    df = pd.read_csv(\"lux/data/olympic.csv\")\n    from lux.vis.Vis import Vis\n    vis = Vis([\"Height\",\"SportType=Ball\"],df)\n    assert vis.get_attr_by_attr_name(\"Height\")[0].bin_size!=0\n    assert vis.get_attr_by_attr_name(\"Record\")[0].aggregation == 'count'\n    \ndef test_vis_set_query():\n    df = pd.read_csv(\"lux/data/olympic.csv\")\n    from lux.vis.Vis import Vis\n    vis = Vis([\"Height\",\"SportType=Ball\"],df)\n    vis.set_specs([\"Height\",\"SportType=Ice\"])\n#     for v in vc.collection: \n#         filter_vspec = list(filter(lambda x: x.channel==\"\",v.spec_lst))[0]\n#         assert filter_vspec.value ==\"Boat\"",
    "id": "474ce8c231884d0b8dfe29831e4281f8",
    "order_count": 8,
    "time": "2020-07-16T13:08:30.596Z",
    "type": "editCodeCell"
   },
   {
    "code": "df = pd.read_csv(\"lux/data/olympic.csv\")\nfrom lux.vis.Vis import Vis\nvis = Vis([\"Height\",\"SportType=Ball\"],df)\nvis.set_specs([\"Height\",\"SportType=Ice\"])",
    "id": "c05f83fe0e5d4e839ab7b568c6f1e620",
    "order_count": 10,
    "time": "2020-07-16T13:08:31.161Z",
    "type": "selectCodeCell"
   },
   {
    "code": "df = pd.read_csv(\"lux/data/olympic.csv\")\nfrom lux.vis.Vis import Vis\nvis = Vis([\"Height\",\"SportType=Ball\"],df)\nvis.set_specs([\"Height\",\"SportType=Ice\"])",
    "id": "c05f83fe0e5d4e839ab7b568c6f1e620",
    "order_count": 10,
    "time": "2020-07-16T13:08:31.167Z",
    "type": "editCodeCell"
   },
   {
    "code": "df = pd.read_csv(\"lux/data/olympic.csv\")\nfrom lux.vis.Vis import Vis\nvis = Vis([\"Height\",\"SportType=Ball\"],df)\nvis.set_specs([\"Height\",\"SportType=Ice\"])",
    "id": "c05f83fe0e5d4e839ab7b568c6f1e620",
    "order_count": 10,
    "time": "2020-07-16T13:08:32.010Z",
    "type": "executeCodeCell"
   },
   {
    "code": "vis",
    "id": "687ba2545dc34723aadf84b8cfc630c8",
    "order_count": 11,
    "time": "2020-07-16T13:08:32.041Z",
    "type": "selectCodeCell"
   },
   {
    "code": "df = pd.read_csv(\"lux/data/olympic.csv\")\nfrom lux.vis.Vis import Vis\nvis = Vis([\"Height\",\"SportType=Ball\"],df)\nvis.set_specs([\"Height\",\"SportType=Ice\"])",
    "id": "c05f83fe0e5d4e839ab7b568c6f1e620",
    "isPrintLuxDf": false,
    "isPrintPandasDf": false,
    "isPrintView": false,
    "isPrintViewCollection": false,
    "order_count": 10,
    "time": "2020-07-16T13:08:32.097Z",
    "type": "completeCodeCell"
   },
   {
    "code": "vis",
    "id": "687ba2545dc34723aadf84b8cfc630c8",
    "order_count": 11,
    "time": "2020-07-16T13:08:33.027Z",
    "type": "executeCodeCell"
   },
   {
    "code": "",
    "id": "f74e7736bf03445582a04d307cf75127",
    "order_count": 12,
    "time": "2020-07-16T13:08:33.037Z",
    "type": "selectCodeCell"
   },
   {
    "code": "vis",
    "id": "687ba2545dc34723aadf84b8cfc630c8",
    "isPrintLuxDf": false,
    "isPrintPandasDf": false,
    "isPrintView": false,
    "isPrintViewCollection": false,
    "order_count": 11,
    "time": "2020-07-16T13:08:33.059Z",
    "type": "completeCodeCell"
   },
   {
    "param": "",
    "time": "2020-07-16T13:08:33.071Z",
    "type": "initWidget"
   },
   {
    "code": "vis",
    "id": "687ba2545dc34723aadf84b8cfc630c8",
    "order_count": 11,
    "time": "2020-07-16T13:08:42.547Z",
    "type": "selectCodeCell"
   },
   {
    "code": "vis",
    "id": "687ba2545dc34723aadf84b8cfc630c8",
    "order_count": 11,
    "time": "2020-07-16T13:08:42.553Z",
    "type": "editCodeCell"
   },
   {
    "code": "vis.spec_lst",
    "id": "687ba2545dc34723aadf84b8cfc630c8",
    "order_count": 11,
    "time": "2020-07-16T13:10:46.156Z",
    "type": "executeCodeCell"
   },
   {
    "code": "",
    "id": "f74e7736bf03445582a04d307cf75127",
    "order_count": 12,
    "time": "2020-07-16T13:10:46.178Z",
    "type": "selectCodeCell"
   },
   {
    "code": "vis.spec_lst",
    "id": "687ba2545dc34723aadf84b8cfc630c8",
    "isPrintLuxDf": false,
    "isPrintPandasDf": false,
    "isPrintView": false,
    "isPrintViewCollection": false,
    "order_count": 11,
    "time": "2020-07-16T13:10:46.195Z",
    "type": "completeCodeCell"
   },
   {
    "code": "vis.spec_lst",
    "id": "687ba2545dc34723aadf84b8cfc630c8",
    "order_count": 11,
    "time": "2020-07-16T13:10:46.779Z",
    "type": "selectCodeCell"
   },
   {
    "code": "vis.spec_lst",
    "id": "687ba2545dc34723aadf84b8cfc630c8",
    "order_count": 11,
    "time": "2020-07-16T13:10:47.138Z",
    "type": "editCodeCell"
   },
   {
    "code": "vis.spec_lst",
    "id": "687ba2545dc34723aadf84b8cfc630c8",
    "order_count": 11,
    "time": "2020-07-16T13:10:51.341Z",
    "type": "selectCodeCell"
   },
   {
    "code": "vis.get_attr_by_attr_name",
    "id": "687ba2545dc34723aadf84b8cfc630c8",
    "order_count": 11,
    "time": "2020-07-16T13:11:10.582Z",
    "type": "editCodeCell"
   },
   {
    "code": "vis.get_attr_by_attr_name",
    "id": "687ba2545dc34723aadf84b8cfc630c8",
    "order_count": 11,
    "time": "2020-07-16T13:11:10.611Z",
    "type": "selectCodeCell"
   },
   {
    "code": "vis.get_attr_by_attr_name",
    "id": "687ba2545dc34723aadf84b8cfc630c8",
    "order_count": 11,
    "time": "2020-07-16T13:11:11.973Z",
    "type": "editCodeCell"
   },
   {
    "code": "vis.get_attr_by_attr_name",
    "id": "687ba2545dc34723aadf84b8cfc630c8",
    "order_count": 11,
    "time": "2020-07-16T13:11:12.050Z",
    "type": "selectCodeCell"
   },
   {
    "code": "vis.get_attr_by_attr_name(\"SportType\")",
    "id": "687ba2545dc34723aadf84b8cfc630c8",
    "order_count": 11,
    "time": "2020-07-16T13:11:15.955Z",
    "type": "executeCodeCell"
   },
   {
    "code": "",
    "id": "f74e7736bf03445582a04d307cf75127",
    "order_count": 12,
    "time": "2020-07-16T13:11:15.976Z",
    "type": "selectCodeCell"
   },
   {
    "code": "vis.get_attr_by_attr_name(\"SportType\")",
    "id": "687ba2545dc34723aadf84b8cfc630c8",
    "isPrintLuxDf": false,
    "isPrintPandasDf": false,
    "isPrintView": false,
    "isPrintViewCollection": false,
    "order_count": 11,
    "time": "2020-07-16T13:11:15.984Z",
    "type": "completeCodeCell"
   },
   {
    "code": "vis.get_attr_by_attr_name(\"SportType\")",
    "id": "687ba2545dc34723aadf84b8cfc630c8",
    "order_count": 11,
    "time": "2020-07-16T13:11:16.543Z",
    "type": "selectCodeCell"
   },
   {
    "code": "vis.get_attr_by_attr_name(\"SportType\")",
    "id": "687ba2545dc34723aadf84b8cfc630c8",
    "order_count": 11,
    "time": "2020-07-16T13:11:16.805Z",
    "type": "editCodeCell"
   },
   {
    "code": "vis.get_attr_by_attr_name(\"SportType\")[0]",
    "id": "687ba2545dc34723aadf84b8cfc630c8",
    "order_count": 11,
    "time": "2020-07-16T13:11:18.636Z",
    "type": "executeCodeCell"
   },
   {
    "code": "",
    "id": "f74e7736bf03445582a04d307cf75127",
    "order_count": 12,
    "time": "2020-07-16T13:11:18.657Z",
    "type": "selectCodeCell"
   },
   {
    "code": "vis.get_attr_by_attr_name(\"SportType\")[0]",
    "id": "687ba2545dc34723aadf84b8cfc630c8",
    "isPrintLuxDf": false,
    "isPrintPandasDf": false,
    "isPrintView": false,
    "isPrintViewCollection": false,
    "order_count": 11,
    "time": "2020-07-16T13:11:18.664Z",
    "type": "completeCodeCell"
   },
   {
    "code": "vis.get_attr_by_attr_name(\"SportType\")[0]",
    "id": "687ba2545dc34723aadf84b8cfc630c8",
    "order_count": 11,
    "time": "2020-07-16T13:11:19.147Z",
    "type": "selectCodeCell"
   },
   {
    "code": "vis.get_attr_by_attr_name(\"SportType\")[0]",
    "id": "687ba2545dc34723aadf84b8cfc630c8",
    "order_count": 11,
    "time": "2020-07-16T13:11:19.430Z",
    "type": "editCodeCell"
   },
   {
    "code": "vis.get_attr_by_attr_name(\"SportType\")[0].value ==\"Ice\"",
    "id": "687ba2545dc34723aadf84b8cfc630c8",
    "order_count": 11,
    "time": "2020-07-16T13:11:24.243Z",
    "type": "executeCodeCell"
   },
   {
    "code": "",
    "id": "f74e7736bf03445582a04d307cf75127",
    "order_count": 12,
    "time": "2020-07-16T13:11:24.264Z",
    "type": "selectCodeCell"
   },
   {
    "code": "vis.get_attr_by_attr_name(\"SportType\")[0].value ==\"Ice\"",
    "id": "687ba2545dc34723aadf84b8cfc630c8",
    "isPrintLuxDf": false,
    "isPrintPandasDf": false,
    "isPrintView": false,
    "isPrintViewCollection": false,
    "order_count": 11,
    "time": "2020-07-16T13:11:24.271Z",
    "type": "completeCodeCell"
   },
   {
    "code": "vis.get_attr_by_attr_name(\"SportType\")[0].value ==\"Ice\"",
    "id": "687ba2545dc34723aadf84b8cfc630c8",
    "order_count": 11,
    "time": "2020-07-16T13:11:24.693Z",
    "type": "selectCodeCell"
   },
   {
    "code": "vis.get_attr_by_attr_name(\"SportType\")[0].value ==\"Ice\"",
    "id": "687ba2545dc34723aadf84b8cfc630c8",
    "order_count": 11,
    "time": "2020-07-16T13:11:24.927Z",
    "type": "editCodeCell"
   },
   {
    "code": "assert vis.get_attr_by_attr_name(\"SportType\")[0].value ==\"Ice\"",
    "id": "687ba2545dc34723aadf84b8cfc630c8",
    "order_count": 11,
    "time": "2020-07-16T13:11:27.762Z",
    "type": "executeCodeCell"
   },
   {
    "code": "",
    "id": "f74e7736bf03445582a04d307cf75127",
    "order_count": 12,
    "time": "2020-07-16T13:11:27.783Z",
    "type": "selectCodeCell"
   },
   {
    "code": "assert vis.get_attr_by_attr_name(\"SportType\")[0].value ==\"Ice\"",
    "id": "687ba2545dc34723aadf84b8cfc630c8",
    "isPrintLuxDf": false,
    "isPrintPandasDf": false,
    "isPrintView": false,
    "isPrintViewCollection": false,
    "order_count": 11,
    "time": "2020-07-16T13:11:27.790Z",
    "type": "completeCodeCell"
   },
   {
    "code": "assert vis.get_attr_by_attr_name(\"SportType\")[0].value ==\"Ice\"",
    "id": "687ba2545dc34723aadf84b8cfc630c8",
    "order_count": 11,
    "time": "2020-07-16T13:11:28.132Z",
    "type": "selectCodeCell"
   },
   {
    "code": "df = pd.read_csv(\"lux/data/olympic.csv\")\nfrom lux.vis.Vis import Vis\nvis = Vis([\"Height\",\"SportType=Ball\"],df)\nvis.set_specs([\"Height\",\"SportType=Ice\"])",
    "id": "c05f83fe0e5d4e839ab7b568c6f1e620",
    "order_count": 10,
    "time": "2020-07-16T13:11:28.751Z",
    "type": "selectCodeCell"
   },
   {
    "code": "assert vis.get_attr_by_attr_name(\"SportType\")[0].value ==\"Ice\"",
    "id": "687ba2545dc34723aadf84b8cfc630c8",
    "order_count": null,
    "time": "2020-07-16T13:11:29.600Z",
    "type": "deleteCodeCell"
   },
   {
    "code": "df = pd.read_csv(\"lux/data/olympic.csv\")\nfrom lux.vis.Vis import Vis\nvis = Vis([\"Height\",\"SportType=Ball\"],df)\nvis.set_specs([\"Height\",\"SportType=Ice\"])\n\nassert vis.get_attr_by_attr_name(\"SportType\")[0].value ==\"Ice\"",
    "id": "c05f83fe0e5d4e839ab7b568c6f1e620",
    "order_count": 10,
    "time": "2020-07-16T13:11:29.911Z",
    "type": "editCodeCell"
   },
   {
    "code": "def test_vis():\n    df = pd.read_csv(\"lux/data/olympic.csv\")\n    from lux.vis.Vis import Vis\n    vis = Vis([\"Height\",\"SportType=Ball\"],df)\n    assert vis.get_attr_by_attr_name(\"Height\")[0].bin_size!=0\n    assert vis.get_attr_by_attr_name(\"Record\")[0].aggregation == 'count'\n    \ndef test_vis_set_query():\n    df = pd.read_csv(\"lux/data/olympic.csv\")\n    from lux.vis.Vis import Vis\n    vis = Vis([\"Height\",\"SportType=Ball\"],df)\n    vis.set_specs([\"Height\",\"SportType=Ice\"])\n#     for v in vc.collection: \n#         filter_vspec = list(filter(lambda x: x.channel==\"\",v.spec_lst))[0]\n#         assert filter_vspec.value ==\"Boat\"",
    "id": "474ce8c231884d0b8dfe29831e4281f8",
    "order_count": 8,
    "time": "2020-07-16T13:11:34.169Z",
    "type": "selectCodeCell"
   },
   {
    "code": "def test_vis():\n    df = pd.read_csv(\"lux/data/olympic.csv\")\n    from lux.vis.Vis import Vis\n    vis = Vis([\"Height\",\"SportType=Ball\"],df)\n    assert vis.get_attr_by_attr_name(\"Height\")[0].bin_size!=0\n    assert vis.get_attr_by_attr_name(\"Record\")[0].aggregation == 'count'\n    \ndef test_vis_set_query():\n    df = pd.read_csv(\"lux/data/olympic.csv\")\n    from lux.vis.Vis import Vis\n    vis = Vis([\"Height\",\"SportType=Ball\"],df)\n    vis.set_specs([\"Height\",\"SportType=Ice\"])\n#     for v in vc.collection: \n#         filter_vspec = list(filter(lambda x: x.channel==\"\",v.spec_lst))[0]\n#         assert filter_vspec.value ==\"Boat\"",
    "id": "474ce8c231884d0b8dfe29831e4281f8",
    "order_count": 8,
    "time": "2020-07-16T13:11:34.178Z",
    "type": "editCodeCell"
   },
   {
    "code": "def test_vis():\n    df = pd.read_csv(\"lux/data/olympic.csv\")\n    from lux.vis.Vis import Vis\n    vis = Vis([\"Height\",\"SportType=Ball\"],df)\n    assert vis.get_attr_by_attr_name(\"Height\")[0].bin_size!=0\n    assert vis.get_attr_by_attr_name(\"Record\")[0].aggregation == 'count'\n    \ndef test_vis_set_query():\n    df = pd.read_csv(\"lux/data/olympic.csv\")\n    from lux.vis.Vis import Vis\n    vis = Vis([\"Height\",\"SportType=Ball\"],df)\n    vis.set_specs([\"Height\",\"SportType=Ice\"])\n    assert vis.get_attr_by_attr_name(\"SportType\")[0].value ==\"Ice\"",
    "id": "474ce8c231884d0b8dfe29831e4281f8",
    "order_count": 8,
    "time": "2020-07-16T13:11:41.341Z",
    "type": "executeCodeCell"
   },
   {
    "code": "test_vis()",
    "id": "1a48108f309b4e4d9b8a8a8f9059903f",
    "order_count": 9,
    "time": "2020-07-16T13:11:41.362Z",
    "type": "selectCodeCell"
   },
   {
    "code": "def test_vis():\n    df = pd.read_csv(\"lux/data/olympic.csv\")\n    from lux.vis.Vis import Vis\n    vis = Vis([\"Height\",\"SportType=Ball\"],df)\n    assert vis.get_attr_by_attr_name(\"Height\")[0].bin_size!=0\n    assert vis.get_attr_by_attr_name(\"Record\")[0].aggregation == 'count'\n    \ndef test_vis_set_query():\n    df = pd.read_csv(\"lux/data/olympic.csv\")\n    from lux.vis.Vis import Vis\n    vis = Vis([\"Height\",\"SportType=Ball\"],df)\n    vis.set_specs([\"Height\",\"SportType=Ice\"])\n    assert vis.get_attr_by_attr_name(\"SportType\")[0].value ==\"Ice\"",
    "id": "474ce8c231884d0b8dfe29831e4281f8",
    "isPrintLuxDf": false,
    "isPrintPandasDf": false,
    "isPrintView": false,
    "isPrintViewCollection": false,
    "order_count": 8,
    "time": "2020-07-16T13:11:41.367Z",
    "type": "completeCodeCell"
   },
   {
    "code": "def test_vis():\n    df = pd.read_csv(\"lux/data/olympic.csv\")\n    from lux.vis.Vis import Vis\n    vis = Vis([\"Height\",\"SportType=Ball\"],df)\n    assert vis.get_attr_by_attr_name(\"Height\")[0].bin_size!=0\n    assert vis.get_attr_by_attr_name(\"Record\")[0].aggregation == 'count'\n    \ndef test_vis_set_query():\n    df = pd.read_csv(\"lux/data/olympic.csv\")\n    from lux.vis.Vis import Vis\n    vis = Vis([\"Height\",\"SportType=Ball\"],df)\n    vis.set_specs([\"Height\",\"SportType=Ice\"])\n    assert vis.get_attr_by_attr_name(\"SportType\")[0].value ==\"Ice\"",
    "id": "474ce8c231884d0b8dfe29831e4281f8",
    "order_count": 8,
    "time": "2020-07-16T13:11:47.261Z",
    "type": "selectCodeCell"
   },
   {
    "code": "def test_vis():\n    df = pd.read_csv(\"lux/data/olympic.csv\")\n    from lux.vis.Vis import Vis\n    vis = Vis([\"Height\",\"SportType=Ball\"],df)\n    assert vis.get_attr_by_attr_name(\"Height\")[0].bin_size!=0\n    assert vis.get_attr_by_attr_name(\"Record\")[0].aggregation == 'count'\n    \ndef test_vis_set_query():\n    df = pd.read_csv(\"lux/data/olympic.csv\")\n    from lux.vis.Vis import Vis\n    vis = Vis([\"Height\",\"SportType=Ball\"],df)\n    vis.set_specs([\"Height\",\"SportType=Ice\"])\n    assert vis.get_attr_by_attr_name(\"SportType\")[0].value ==\"Ice\"",
    "id": "474ce8c231884d0b8dfe29831e4281f8",
    "order_count": 8,
    "time": "2020-07-16T13:11:47.272Z",
    "type": "editCodeCell"
   },
   {
    "code": "def test_vis():\n    df = pd.read_csv(\"lux/data/olympic.csv\")\n    from lux.vis.Vis import Vis\n    vis = Vis([\"Height\",\"SportType=Ball\"],df)\n    assert vis.get_attr_by_attr_name(\"Height\")[0].bin_size!=0\n    assert vis.get_attr_by_attr_name(\"Record\")[0].aggregation == 'count'\n    \ndef test_vis_set_specs():\n    df = pd.read_csv(\"lux/data/olympic.csv\")\n    from lux.vis.Vis import Vis\n    vis = Vis([\"Height\",\"SportType=Ball\"],df)\n    vis.set_specs([\"Height\",\"SportType=Ice\"])\n    assert vis.get_attr_by_attr_name(\"SportType\")[0].value ==\"Ice\"",
    "id": "474ce8c231884d0b8dfe29831e4281f8",
    "order_count": 8,
    "time": "2020-07-16T13:11:49.461Z",
    "type": "executeCodeCell"
   },
   {
    "code": "test_vis()",
    "id": "1a48108f309b4e4d9b8a8a8f9059903f",
    "order_count": 9,
    "time": "2020-07-16T13:11:49.481Z",
    "type": "selectCodeCell"
   },
   {
    "code": "def test_vis():\n    df = pd.read_csv(\"lux/data/olympic.csv\")\n    from lux.vis.Vis import Vis\n    vis = Vis([\"Height\",\"SportType=Ball\"],df)\n    assert vis.get_attr_by_attr_name(\"Height\")[0].bin_size!=0\n    assert vis.get_attr_by_attr_name(\"Record\")[0].aggregation == 'count'\n    \ndef test_vis_set_specs():\n    df = pd.read_csv(\"lux/data/olympic.csv\")\n    from lux.vis.Vis import Vis\n    vis = Vis([\"Height\",\"SportType=Ball\"],df)\n    vis.set_specs([\"Height\",\"SportType=Ice\"])\n    assert vis.get_attr_by_attr_name(\"SportType\")[0].value ==\"Ice\"",
    "id": "474ce8c231884d0b8dfe29831e4281f8",
    "isPrintLuxDf": false,
    "isPrintPandasDf": false,
    "isPrintView": false,
    "isPrintViewCollection": false,
    "order_count": 8,
    "time": "2020-07-16T13:11:49.486Z",
    "type": "completeCodeCell"
   },
   {
    "code": "test_vis()",
    "id": "1a48108f309b4e4d9b8a8a8f9059903f",
    "order_count": 9,
    "time": "2020-07-16T13:11:50.559Z",
    "type": "editCodeCell"
   },
   {
    "code": "test_vis_set_specs()",
    "id": "1a48108f309b4e4d9b8a8a8f9059903f",
    "order_count": 9,
    "time": "2020-07-16T13:11:53.037Z",
    "type": "executeCodeCell"
   },
   {
    "code": "",
    "id": "c05f83fe0e5d4e839ab7b568c6f1e620",
    "order_count": 10,
    "time": "2020-07-16T13:11:53.057Z",
    "type": "selectCodeCell"
   },
   {
    "code": "test_vis_set_specs()",
    "id": "1a48108f309b4e4d9b8a8a8f9059903f",
    "isPrintLuxDf": false,
    "isPrintPandasDf": false,
    "isPrintView": false,
    "isPrintViewCollection": false,
    "order_count": 9,
    "time": "2020-07-16T13:11:53.122Z",
    "type": "completeCodeCell"
   },
   {
    "code": "test_vis_set_specs()",
    "id": "1a48108f309b4e4d9b8a8a8f9059903f",
    "order_count": 9,
    "time": "2020-07-16T13:11:53.709Z",
    "type": "selectCodeCell"
   },
   {
    "code": "def test_vis():\n    df = pd.read_csv(\"lux/data/olympic.csv\")\n    from lux.vis.Vis import Vis\n    vis = Vis([\"Height\",\"SportType=Ball\"],df)\n    assert vis.get_attr_by_attr_name(\"Height\")[0].bin_size!=0\n    assert vis.get_attr_by_attr_name(\"Record\")[0].aggregation == 'count'\n    \ndef test_vis_set_specs():\n    df = pd.read_csv(\"lux/data/olympic.csv\")\n    from lux.vis.Vis import Vis\n    vis = Vis([\"Height\",\"SportType=Ball\"],df)\n    vis.set_specs([\"Height\",\"SportType=Ice\"])\n    assert vis.get_attr_by_attr_name(\"SportType\")[0].value ==\"Ice\"",
    "id": "474ce8c231884d0b8dfe29831e4281f8",
    "order_count": 8,
    "time": "2020-07-16T13:11:53.901Z",
    "type": "selectCodeCell"
   },
   {
    "code": "def test_vis():\n    df = pd.read_csv(\"lux/data/olympic.csv\")\n    from lux.vis.Vis import Vis\n    vis = Vis([\"Height\",\"SportType=Ball\"],df)\n    assert vis.get_attr_by_attr_name(\"Height\")[0].bin_size!=0\n    assert vis.get_attr_by_attr_name(\"Record\")[0].aggregation == 'count'\n    \ndef test_vis_set_specs():\n    df = pd.read_csv(\"lux/data/olympic.csv\")\n    from lux.vis.Vis import Vis\n    vis = Vis([\"Height\",\"SportType=Ball\"],df)\n    vis.set_specs([\"Height\",\"SportType=Ice\"])\n    assert vis.get_attr_by_attr_name(\"SportType\")[0].value ==\"Ice\"",
    "id": "474ce8c231884d0b8dfe29831e4281f8",
    "order_count": 8,
    "time": "2020-07-16T13:11:54.206Z",
    "type": "editCodeCell"
   },
   {
    "code": "",
    "id": "474ce8c231884d0b8dfe29831e4281f8",
    "order_count": 8,
    "time": "2020-07-16T13:12:41.966Z",
    "type": "editCodeCell"
   },
   {
    "code": "vis.render_VSpec()",
    "id": "75f43a1de75d457285546a71cc9f4e4f",
    "order_count": 7,
    "time": "2020-07-16T13:12:42.358Z",
    "type": "selectCodeCell"
   },
   {
    "code": "vis.render_VSpec()",
    "id": "75f43a1de75d457285546a71cc9f4e4f",
    "order_count": 7,
    "time": "2020-07-16T13:12:42.362Z",
    "type": "editCodeCell"
   },
   {
    "code": "vis.render_VSpec()",
    "id": "75f43a1de75d457285546a71cc9f4e4f",
    "order_count": 7,
    "time": "2020-07-16T13:12:45.893Z",
    "type": "editCodeCell"
   },
   {
    "code": "vis.render_VSpec()",
    "id": "75f43a1de75d457285546a71cc9f4e4f",
    "order_count": 7,
    "time": "2020-07-16T13:12:46.355Z",
    "type": "selectCodeCell"
   },
   {
    "code": "vis.render_VSpec()",
    "id": "75f43a1de75d457285546a71cc9f4e4f",
    "order_count": 7,
    "time": "2020-07-16T13:13:20.865Z",
    "type": "editCodeCell"
   },
   {
    "code": "vis.render_VSpec()",
    "id": "75f43a1de75d457285546a71cc9f4e4f",
    "order_count": 7,
    "time": "2020-07-16T13:14:51.856Z",
    "type": "editCodeCell"
   },
   {
    "code": "vis.refresh_source(df[df[\"Sex\"]==\"F\"])\nvis",
    "id": "a5de00431ace42188fd86deb9a33c787",
    "order_count": 6,
    "time": "2020-07-16T13:14:52.941Z",
    "type": "selectCodeCell"
   },
   {
    "code": "vis.refresh_source(df[df[\"Sex\"]==\"F\"])\nvis",
    "id": "a5de00431ace42188fd86deb9a33c787",
    "order_count": 6,
    "time": "2020-07-16T13:19:47.163Z",
    "type": "selectCodeCell"
   },
   {
    "code": "",
    "id": "c05f83fe0e5d4e839ab7b568c6f1e620",
    "order_count": 10,
    "time": "2020-07-16T13:20:42.399Z",
    "type": "selectCodeCell"
   },
   {
    "code": "",
    "id": "c05f83fe0e5d4e839ab7b568c6f1e620",
    "order_count": 10,
    "time": "2020-07-16T13:20:42.404Z",
    "type": "editCodeCell"
   },
   {
    "code": "",
    "id": "c05f83fe0e5d4e839ab7b568c6f1e620",
    "order_count": 10,
    "time": "2020-07-16T13:20:42.492Z",
    "type": "selectCodeCell"
   },
   {
    "code": "df = pd.read_csv(\"lux/data/olympic.csv\")\n    from lux.vis.VisCollection import VisCollection\n    vc = VisCollection([\"Height\",\"SportType=Ball\",\"?\"],df)\n    vis_with_year = list(filter(lambda x: x.get_attr_by_attr_name(\"Year\")!=[],vc))[0]\n    assert vis_with_year.get_attr_by_channel(\"x\")[0].attribute==\"Year\"\n    assert len(vc) == len(df.columns) -1 -1 #remove 1 for vis with same filter attribute and remove 1 vis with for same attribute\n    vc = VisCollection([\"Height\",\"?\"],df)\n    assert len(vc) == len(df.columns) -1 #remove 1 for vis with for same attribute\n",
    "id": "c05f83fe0e5d4e839ab7b568c6f1e620",
    "order_count": 10,
    "time": "2020-07-16T13:21:40.024Z",
    "type": "editCodeCell"
   },
   {
    "code": "vis.render_VSpec()",
    "id": "75f43a1de75d457285546a71cc9f4e4f",
    "order_count": 7,
    "time": "2020-07-16T13:21:40.468Z",
    "type": "selectCodeCell"
   },
   {
    "code": "df = pd.read_csv(\"lux/data/olympic.csv\")\n    from lux.vis.VisCollection import VisCollection\n    vc = VisCollection([\"Height\",\"SportType=Ball\",\"?\"],df)\n    vis_with_year = list(filter(lambda x: x.get_attr_by_attr_name(\"Year\")!=[],vc))[0]\n    assert vis_with_year.get_attr_by_channel(\"x\")[0].attribute==\"Year\"\n    assert len(vc) == len(df.columns) -1 -1 #remove 1 for vis with same filter attribute and remove 1 vis with for same attribute\n    vc = VisCollection([\"Height\",\"?\"],df)\n    assert len(vc) == len(df.columns) -1 #remove 1 for vis with for same attribute\n",
    "id": "c05f83fe0e5d4e839ab7b568c6f1e620",
    "order_count": 10,
    "time": "2020-07-16T13:21:41.852Z",
    "type": "selectCodeCell"
   },
   {
    "code": "df = pd.read_csv(\"lux/data/olympic.csv\")\n    from lux.vis.VisCollection import VisCollection\n    vc = VisCollection([\"Height\",\"SportType=Ball\",\"?\"],df)\n    vis_with_year = list(filter(lambda x: x.get_attr_by_attr_name(\"Year\")!=[],vc))[0]\n    assert vis_with_year.get_attr_by_channel(\"x\")[0].attribute==\"Year\"\n    assert len(vc) == len(df.columns) -1 -1 #remove 1 for vis with same filter attribute and remove 1 vis with for same attribute\n    vc = VisCollection([\"Height\",\"?\"],df)\n    assert len(vc) == len(df.columns) -1 #remove 1 for vis with for same attribute\n",
    "id": "c05f83fe0e5d4e839ab7b568c6f1e620",
    "order_count": 10,
    "time": "2020-07-16T13:21:41.860Z",
    "type": "editCodeCell"
   },
   {
    "time": "2020-07-16T13:21:47.075Z",
    "type": "kernelRestart"
   },
   {
    "time": "2020-07-16T13:21:48.076Z",
    "type": "kernelReady"
   },
   {
    "time": "2020-07-16T13:21:48.082Z",
    "type": "kernelReady"
   },
   {
    "code": "test_vis_set_specs()",
    "id": "1a48108f309b4e4d9b8a8a8f9059903f",
    "order_count": 9,
    "time": "2020-07-16T13:21:48.595Z",
    "type": "selectCodeCell"
   },
   {
    "code": "",
    "id": "474ce8c231884d0b8dfe29831e4281f8",
    "order_count": 8,
    "time": "2020-07-16T13:21:48.833Z",
    "type": "selectCodeCell"
   },
   {
    "code": "vis.render_VSpec()",
    "id": "75f43a1de75d457285546a71cc9f4e4f",
    "order_count": 7,
    "time": "2020-07-16T13:21:49.009Z",
    "type": "selectCodeCell"
   },
   {
    "code": "vis.refresh_source(df[df[\"Sex\"]==\"F\"])\nvis",
    "id": "a5de00431ace42188fd86deb9a33c787",
    "order_count": 6,
    "time": "2020-07-16T13:21:49.169Z",
    "type": "selectCodeCell"
   },
   {
    "code": "vis",
    "id": "0e000ddd814b44a98de2e10ad4ae1ad0",
    "order_count": 5,
    "time": "2020-07-16T13:21:49.320Z",
    "type": "selectCodeCell"
   },
   {
    "code": "vis.set_specs([\"Height\",\"SportType=Ice\"])",
    "id": "690f3ebc9c074b6689a168af311ee641",
    "order_count": 4,
    "time": "2020-07-16T13:21:49.473Z",
    "type": "selectCodeCell"
   },
   {
    "code": "vis",
    "id": "b7933a6e38154674bff5ca1519241b3d",
    "order_count": 3,
    "time": "2020-07-16T13:21:49.615Z",
    "type": "selectCodeCell"
   },
   {
    "code": "df = pd.read_csv(\"lux/data/olympic.csv\")\nfrom lux.vis.Vis import Vis\nvis = Vis([\"Height\",\"SportType=Ball\"],df)",
    "id": "c3782d56ceb5492888b885a5e25b0947",
    "order_count": 2,
    "time": "2020-07-16T13:21:49.803Z",
    "type": "selectCodeCell"
   },
   {
    "code": "import pandas as pd\nimport lux",
    "id": "27405fce04b84c84be5572c5e43b3339",
    "order_count": 1,
    "time": "2020-07-16T13:21:49.961Z",
    "type": "selectCodeCell"
   },
   {
    "code": "cd ..",
    "id": "591ae743ad2f4bb2ab54e7b2cfdb6902",
    "order_count": 0,
    "time": "2020-07-16T13:21:50.120Z",
    "type": "selectCodeCell"
   },
   {
    "code": "cd ..",
    "id": "591ae743ad2f4bb2ab54e7b2cfdb6902",
    "order_count": 0,
    "time": "2020-07-16T13:21:51.004Z",
    "type": "executeCodeCell"
   },
   {
    "code": "import pandas as pd\nimport lux",
    "id": "27405fce04b84c84be5572c5e43b3339",
    "order_count": 1,
    "time": "2020-07-16T13:21:51.015Z",
    "type": "selectCodeCell"
   },
   {
    "code": "cd ..",
    "id": "591ae743ad2f4bb2ab54e7b2cfdb6902",
    "isPrintLuxDf": false,
    "isPrintPandasDf": false,
    "isPrintView": false,
    "isPrintViewCollection": false,
    "order_count": 0,
    "time": "2020-07-16T13:21:51.021Z",
    "type": "completeCodeCell"
   },
   {
    "code": "cd ..",
    "id": "591ae743ad2f4bb2ab54e7b2cfdb6902",
    "isPrintLuxDf": false,
    "isPrintPandasDf": false,
    "isPrintView": false,
    "isPrintViewCollection": false,
    "order_count": 0,
    "time": "2020-07-16T13:21:51.022Z",
    "type": "completeCodeCell"
   },
   {
    "code": "import pandas as pd\nimport lux",
    "id": "27405fce04b84c84be5572c5e43b3339",
    "order_count": 1,
    "time": "2020-07-16T13:21:51.253Z",
    "type": "executeCodeCell"
   },
   {
    "code": "df = pd.read_csv(\"lux/data/olympic.csv\")\nfrom lux.vis.Vis import Vis\nvis = Vis([\"Height\",\"SportType=Ball\"],df)",
    "id": "c3782d56ceb5492888b885a5e25b0947",
    "order_count": 2,
    "time": "2020-07-16T13:21:51.267Z",
    "type": "selectCodeCell"
   },
   {
    "code": "import pandas as pd\nimport lux",
    "id": "27405fce04b84c84be5572c5e43b3339",
    "isPrintLuxDf": false,
    "isPrintPandasDf": false,
    "isPrintView": false,
    "isPrintViewCollection": false,
    "order_count": 1,
    "time": "2020-07-16T13:21:51.569Z",
    "type": "completeCodeCell"
   },
   {
    "code": "df = pd.read_csv(\"lux/data/olympic.csv\")\nfrom lux.vis.Vis import Vis\nvis = Vis([\"Height\",\"SportType=Ball\"],df)",
    "id": "c3782d56ceb5492888b885a5e25b0947",
    "order_count": null,
    "time": "2020-07-16T13:21:51.914Z",
    "type": "deleteCodeCell"
   },
   {
    "code": "vis",
    "id": "b7933a6e38154674bff5ca1519241b3d",
    "order_count": null,
    "time": "2020-07-16T13:21:52.652Z",
    "type": "deleteCodeCell"
   },
   {
    "code": "vis.set_specs([\"Height\",\"SportType=Ice\"])",
    "id": "690f3ebc9c074b6689a168af311ee641",
    "order_count": null,
    "time": "2020-07-16T13:21:53.120Z",
    "type": "deleteCodeCell"
   },
   {
    "code": "vis",
    "id": "0e000ddd814b44a98de2e10ad4ae1ad0",
    "order_count": null,
    "time": "2020-07-16T13:21:53.523Z",
    "type": "deleteCodeCell"
   },
   {
    "code": "vis",
    "id": "c2423420a735408b95e310092eab6ac6",
    "order_count": 5,
    "time": "2020-07-16T13:21:57.636Z",
    "type": "selectCodeCell"
   },
   {
    "code": "vis.set_specs([\"Height\",\"SportType=Ice\"])",
    "id": "be1feb57eaeb411c9bb3fe45fd482667",
    "order_count": 4,
    "time": "2020-07-16T13:21:58.126Z",
    "type": "selectCodeCell"
   },
   {
    "code": "vis",
    "id": "13624185da3b499b8984ee351da5e342",
    "order_count": 3,
    "time": "2020-07-16T13:21:58.326Z",
    "type": "selectCodeCell"
   },
   {
    "code": "df = pd.read_csv(\"lux/data/olympic.csv\")\nfrom lux.vis.Vis import Vis\nvis = Vis([\"Height\",\"SportType=Ball\"],df)",
    "id": "f8728998977d46048738684eaf146992",
    "order_count": 2,
    "time": "2020-07-16T13:21:58.880Z",
    "type": "selectCodeCell"
   },
   {
    "code": "vis",
    "id": "13624185da3b499b8984ee351da5e342",
    "order_count": 3,
    "time": "2020-07-16T13:21:59.103Z",
    "type": "selectCodeCell"
   },
   {
    "code": "vis.set_specs([\"Height\",\"SportType=Ice\"])",
    "id": "be1feb57eaeb411c9bb3fe45fd482667",
    "order_count": 4,
    "time": "2020-07-16T13:21:59.278Z",
    "type": "selectCodeCell"
   },
   {
    "code": "vis",
    "id": "c2423420a735408b95e310092eab6ac6",
    "order_count": 5,
    "time": "2020-07-16T13:21:59.446Z",
    "type": "selectCodeCell"
   },
   {
    "code": "vis.refresh_source(df[df[\"Sex\"]==\"F\"])\nvis",
    "id": "a5de00431ace42188fd86deb9a33c787",
    "order_count": 6,
    "time": "2020-07-16T13:21:59.583Z",
    "type": "selectCodeCell"
   },
   {
    "code": "vis.render_VSpec()",
    "id": "75f43a1de75d457285546a71cc9f4e4f",
    "order_count": 7,
    "time": "2020-07-16T13:21:59.727Z",
    "type": "selectCodeCell"
   },
   {
    "code": "",
    "id": "474ce8c231884d0b8dfe29831e4281f8",
    "order_count": 8,
    "time": "2020-07-16T13:21:59.896Z",
    "type": "selectCodeCell"
   },
   {
    "code": "test_vis_set_specs()",
    "id": "1a48108f309b4e4d9b8a8a8f9059903f",
    "order_count": 9,
    "time": "2020-07-16T13:22:00.022Z",
    "type": "selectCodeCell"
   },
   {
    "code": "df = pd.read_csv(\"lux/data/olympic.csv\")\nfrom lux.vis.VisCollection import VisCollection\nvc = VisCollection([\"Height\",\"SportType=Ball\",\"?\"],df)\nvis_with_year = list(filter(lambda x: x.get_attr_by_attr_name(\"Year\")!=[],vc))[0]\nassert vis_with_year.get_attr_by_channel(\"x\")[0].attribute==\"Year\"\nassert len(vc) == len(df.columns) -1 -1 #remove 1 for vis with same filter attribute and remove 1 vis with for same attribute\nvc = VisCollection([\"Height\",\"?\"],df)\nassert len(vc) == len(df.columns) -1 #remove 1 for vis with for same attribute\n",
    "id": "c05f83fe0e5d4e839ab7b568c6f1e620",
    "order_count": 10,
    "time": "2020-07-16T13:22:00.366Z",
    "type": "selectCodeCell"
   },
   {
    "code": "test_vis_set_specs()",
    "id": "1a48108f309b4e4d9b8a8a8f9059903f",
    "order_count": 9,
    "time": "2020-07-16T13:22:01.390Z",
    "type": "selectCodeCell"
   },
   {
    "code": "",
    "id": "474ce8c231884d0b8dfe29831e4281f8",
    "order_count": 8,
    "time": "2020-07-16T13:22:01.558Z",
    "type": "selectCodeCell"
   },
   {
    "code": "vis.render_VSpec()",
    "id": "75f43a1de75d457285546a71cc9f4e4f",
    "order_count": 7,
    "time": "2020-07-16T13:22:01.708Z",
    "type": "selectCodeCell"
   },
   {
    "code": "vis.render_VSpec()",
    "id": "75f43a1de75d457285546a71cc9f4e4f",
    "order_count": null,
    "time": "2020-07-16T13:22:02.053Z",
    "type": "deleteCodeCell"
   },
   {
    "code": "",
    "id": "474ce8c231884d0b8dfe29831e4281f8",
    "order_count": null,
    "time": "2020-07-16T13:22:02.372Z",
    "type": "deleteCodeCell"
   },
   {
    "code": "test_vis_set_specs()",
    "id": "1a48108f309b4e4d9b8a8a8f9059903f",
    "order_count": null,
    "time": "2020-07-16T13:22:03.181Z",
    "type": "deleteCodeCell"
   },
   {
    "code": "df = pd.read_csv(\"lux/data/olympic.csv\")\nfrom lux.vis.VisCollection import VisCollection\nvc = VisCollection([\"Height\",\"SportType=Ball\",\"?\"],df)\nvis_with_year = list(filter(lambda x: x.get_attr_by_attr_name(\"Year\")!=[],vc))[0]\nassert vis_with_year.get_attr_by_channel(\"x\")[0].attribute==\"Year\"\nassert len(vc) == len(df.columns) -1 -1 #remove 1 for vis with same filter attribute and remove 1 vis with for same attribute\nvc = VisCollection([\"Height\",\"?\"],df)\nassert len(vc) == len(df.columns) -1 #remove 1 for vis with for same attribute\n",
    "id": "c05f83fe0e5d4e839ab7b568c6f1e620",
    "order_count": 7,
    "time": "2020-07-16T13:22:04.109Z",
    "type": "executeCodeCell"
   },
   {
    "code": "",
    "id": "f74e7736bf03445582a04d307cf75127",
    "order_count": 8,
    "time": "2020-07-16T13:22:04.120Z",
    "type": "selectCodeCell"
   },
   {
    "code": "df = pd.read_csv(\"lux/data/olympic.csv\")\nfrom lux.vis.VisCollection import VisCollection\nvc = VisCollection([\"Height\",\"SportType=Ball\",\"?\"],df)\nvis_with_year = list(filter(lambda x: x.get_attr_by_attr_name(\"Year\")!=[],vc))[0]\nassert vis_with_year.get_attr_by_channel(\"x\")[0].attribute==\"Year\"\nassert len(vc) == len(df.columns) -1 -1 #remove 1 for vis with same filter attribute and remove 1 vis with for same attribute\nvc = VisCollection([\"Height\",\"?\"],df)\nassert len(vc) == len(df.columns) -1 #remove 1 for vis with for same attribute\n",
    "id": "c05f83fe0e5d4e839ab7b568c6f1e620",
    "isPrintLuxDf": false,
    "isPrintPandasDf": false,
    "isPrintView": false,
    "isPrintViewCollection": false,
    "order_count": 7,
    "time": "2020-07-16T13:22:04.722Z",
    "type": "completeCodeCell"
   },
   {
    "code": "",
    "id": "f74e7736bf03445582a04d307cf75127",
    "order_count": 8,
    "time": "2020-07-16T13:22:07.936Z",
    "type": "editCodeCell"
   },
   {
    "code": "vc",
    "id": "f74e7736bf03445582a04d307cf75127",
    "order_count": 8,
    "time": "2020-07-16T13:22:08.910Z",
    "type": "executeCodeCell"
   },
   {
    "code": "assert vis.get_attr_by_attr_name(\"SportType\")[0].value ==\"Ice\"",
    "id": "2b3ca17bcf4344c0be6d42dc9315af38",
    "order_count": 9,
    "time": "2020-07-16T13:22:08.931Z",
    "type": "selectCodeCell"
   },
   {
    "code": "vc",
    "id": "f74e7736bf03445582a04d307cf75127",
    "isPrintLuxDf": false,
    "isPrintPandasDf": false,
    "isPrintView": false,
    "isPrintViewCollection": false,
    "order_count": 8,
    "time": "2020-07-16T13:22:09.248Z",
    "type": "completeCodeCell"
   },
   {
    "param": "",
    "time": "2020-07-16T13:22:09.262Z",
    "type": "initWidget"
   },
   {
    "param": "Vis Collection",
    "time": "2020-07-16T13:22:12.477Z",
    "type": "startScroll"
   },
   {
    "param": "Vis Collection",
    "time": "2020-07-16T13:22:12.672Z",
    "type": "stopScroll"
   },
   {
    "param": "Vis Collection",
    "time": "2020-07-16T13:22:13.325Z",
    "type": "startScroll"
   },
   {
    "param": "Vis Collection",
    "time": "2020-07-16T13:22:13.636Z",
    "type": "stopScroll"
   },
   {
    "param": "Vis Collection",
    "time": "2020-07-16T13:22:13.841Z",
    "type": "startScroll"
   },
   {
    "param": "Vis Collection",
    "time": "2020-07-16T13:22:14.154Z",
    "type": "stopScroll"
   },
   {
    "param": "Vis Collection",
    "time": "2020-07-16T13:22:14.392Z",
    "type": "startScroll"
   },
   {
    "param": "Vis Collection",
    "time": "2020-07-16T13:22:14.538Z",
    "type": "stopScroll"
   },
   {
    "param": "Vis Collection",
    "time": "2020-07-16T13:22:15.143Z",
    "type": "startScroll"
   },
   {
    "param": "Vis Collection",
    "time": "2020-07-16T13:22:15.387Z",
    "type": "stopScroll"
   },
   {
    "code": "vc",
    "id": "f74e7736bf03445582a04d307cf75127",
    "order_count": 8,
    "time": "2020-07-16T13:24:14.357Z",
    "type": "selectCodeCell"
   },
   {
    "code": "vc",
    "id": "f74e7736bf03445582a04d307cf75127",
    "order_count": 8,
    "time": "2020-07-16T13:24:20.337Z",
    "type": "selectCodeCell"
   },
   {
    "time": "2020-07-16T13:24:21.684Z",
    "type": "kernelRestart"
   },
   {
    "time": "2020-07-16T13:24:21.812Z",
    "type": "kernelRestart"
   },
   {
    "time": "2020-07-16T13:24:21.957Z",
    "type": "kernelRestart"
   },
   {
    "code": "df = pd.read_csv(\"lux/data/olympic.csv\")\nfrom lux.vis.VisCollection import VisCollection\nvc = VisCollection([\"Height\",\"SportType=Ball\",\"?\"],df)\nvis_with_year = list(filter(lambda x: x.get_attr_by_attr_name(\"Year\")!=[],vc))[0]\nassert vis_with_year.get_attr_by_channel(\"x\")[0].attribute==\"Year\"\nassert len(vc) == len(df.columns) -1 -1 #remove 1 for vis with same filter attribute and remove 1 vis with for same attribute\nvc = VisCollection([\"Height\",\"?\"],df)\nassert len(vc) == len(df.columns) -1 #remove 1 for vis with for same attribute\n",
    "id": "c05f83fe0e5d4e839ab7b568c6f1e620",
    "order_count": 7,
    "time": "2020-07-16T13:24:22.447Z",
    "type": "selectCodeCell"
   },
   {
    "code": "vis.refresh_source(df[df[\"Sex\"]==\"F\"])\nvis",
    "id": "a5de00431ace42188fd86deb9a33c787",
    "order_count": 6,
    "time": "2020-07-16T13:24:22.605Z",
    "type": "selectCodeCell"
   },
   {
    "code": "vis",
    "id": "c2423420a735408b95e310092eab6ac6",
    "order_count": 5,
    "time": "2020-07-16T13:24:22.765Z",
    "type": "selectCodeCell"
   },
   {
    "code": "vis.set_specs([\"Height\",\"SportType=Ice\"])",
    "id": "be1feb57eaeb411c9bb3fe45fd482667",
    "order_count": 4,
    "time": "2020-07-16T13:24:22.924Z",
    "type": "selectCodeCell"
   },
   {
    "code": "vis",
    "id": "13624185da3b499b8984ee351da5e342",
    "order_count": 3,
    "time": "2020-07-16T13:24:23.078Z",
    "type": "selectCodeCell"
   },
   {
    "code": "df = pd.read_csv(\"lux/data/olympic.csv\")\nfrom lux.vis.Vis import Vis\nvis = Vis([\"Height\",\"SportType=Ball\"],df)",
    "id": "f8728998977d46048738684eaf146992",
    "order_count": 2,
    "time": "2020-07-16T13:24:23.224Z",
    "type": "selectCodeCell"
   },
   {
    "code": "import pandas as pd\nimport lux",
    "id": "27405fce04b84c84be5572c5e43b3339",
    "order_count": 1,
    "time": "2020-07-16T13:24:23.386Z",
    "type": "selectCodeCell"
   },
   {
    "code": "cd ..",
    "id": "591ae743ad2f4bb2ab54e7b2cfdb6902",
    "order_count": 0,
    "time": "2020-07-16T13:24:23.528Z",
    "type": "selectCodeCell"
   },
   {
    "time": "2020-07-16T13:24:23.864Z",
    "type": "kernelReady"
   },
   {
    "time": "2020-07-16T13:24:23.917Z",
    "type": "kernelReady"
   },
   {
    "code": "cd ..",
    "id": "591ae743ad2f4bb2ab54e7b2cfdb6902",
    "order_count": 0,
    "time": "2020-07-16T13:24:24.303Z",
    "type": "executeCodeCell"
   },
   {
    "code": "import pandas as pd\nimport lux",
    "id": "27405fce04b84c84be5572c5e43b3339",
    "order_count": 1,
    "time": "2020-07-16T13:24:24.314Z",
    "type": "selectCodeCell"
   },
   {
    "code": "cd ..",
    "id": "591ae743ad2f4bb2ab54e7b2cfdb6902",
    "isPrintLuxDf": false,
    "isPrintPandasDf": false,
    "isPrintView": false,
    "isPrintViewCollection": false,
    "order_count": 0,
    "time": "2020-07-16T13:24:24.322Z",
    "type": "completeCodeCell"
   },
   {
    "code": "import pandas as pd\nimport lux",
    "id": "27405fce04b84c84be5572c5e43b3339",
    "order_count": 1,
    "time": "2020-07-16T13:24:24.518Z",
    "type": "executeCodeCell"
   },
   {
    "code": "df = pd.read_csv(\"lux/data/olympic.csv\")\nfrom lux.vis.Vis import Vis\nvis = Vis([\"Height\",\"SportType=Ball\"],df)",
    "id": "f8728998977d46048738684eaf146992",
    "order_count": 2,
    "time": "2020-07-16T13:24:24.530Z",
    "type": "selectCodeCell"
   },
   {
    "code": "df = pd.read_csv(\"lux/data/olympic.csv\")\nfrom lux.vis.Vis import Vis\nvis = Vis([\"Height\",\"SportType=Ball\"],df)",
    "id": "f8728998977d46048738684eaf146992",
    "order_count": 2,
    "time": "2020-07-16T13:24:24.695Z",
    "type": "executeCodeCell"
   },
   {
    "code": "vis",
    "id": "13624185da3b499b8984ee351da5e342",
    "order_count": 3,
    "time": "2020-07-16T13:24:24.703Z",
    "type": "selectCodeCell"
   },
   {
    "code": "import pandas as pd\nimport lux",
    "id": "27405fce04b84c84be5572c5e43b3339",
    "isPrintLuxDf": false,
    "isPrintPandasDf": false,
    "isPrintView": false,
    "isPrintViewCollection": false,
    "order_count": 1,
    "time": "2020-07-16T13:24:24.834Z",
    "type": "completeCodeCell"
   },
   {
    "code": "df = pd.read_csv(\"lux/data/olympic.csv\")\nfrom lux.vis.Vis import Vis\nvis = Vis([\"Height\",\"SportType=Ball\"],df)",
    "id": "f8728998977d46048738684eaf146992",
    "isPrintLuxDf": false,
    "isPrintPandasDf": false,
    "isPrintView": false,
    "isPrintViewCollection": false,
    "order_count": 2,
    "time": "2020-07-16T13:24:24.879Z",
    "type": "completeCodeCell"
   },
   {
    "code": "vis",
    "id": "13624185da3b499b8984ee351da5e342",
    "order_count": 3,
    "time": "2020-07-16T13:24:24.959Z",
    "type": "executeCodeCell"
   },
   {
    "code": "vis.set_specs([\"Height\",\"SportType=Ice\"])",
    "id": "be1feb57eaeb411c9bb3fe45fd482667",
    "order_count": 4,
    "time": "2020-07-16T13:24:24.968Z",
    "type": "selectCodeCell"
   },
   {
    "code": "vis",
    "id": "13624185da3b499b8984ee351da5e342",
    "isPrintLuxDf": false,
    "isPrintPandasDf": false,
    "isPrintView": false,
    "isPrintViewCollection": false,
    "order_count": 3,
    "time": "2020-07-16T13:24:25.024Z",
    "type": "completeCodeCell"
   },
   {
    "param": "",
    "time": "2020-07-16T13:24:25.037Z",
    "type": "initWidget"
   },
   {
    "code": "vis.set_specs([\"Height\",\"SportType=Ice\"])",
    "id": "be1feb57eaeb411c9bb3fe45fd482667",
    "order_count": 4,
    "time": "2020-07-16T13:24:25.174Z",
    "type": "executeCodeCell"
   },
   {
    "code": "vis",
    "id": "c2423420a735408b95e310092eab6ac6",
    "order_count": 5,
    "time": "2020-07-16T13:24:25.182Z",
    "type": "selectCodeCell"
   },
   {
    "code": "vis.set_specs([\"Height\",\"SportType=Ice\"])",
    "id": "be1feb57eaeb411c9bb3fe45fd482667",
    "isPrintLuxDf": false,
    "isPrintPandasDf": false,
    "isPrintView": false,
    "isPrintViewCollection": false,
    "order_count": 4,
    "time": "2020-07-16T13:24:25.206Z",
    "type": "completeCodeCell"
   },
   {
    "code": "vis",
    "id": "c2423420a735408b95e310092eab6ac6",
    "order_count": 5,
    "time": "2020-07-16T13:24:25.463Z",
    "type": "executeCodeCell"
   },
   {
    "code": "vis.refresh_source(df[df[\"Sex\"]==\"F\"])\nvis",
    "id": "a5de00431ace42188fd86deb9a33c787",
    "order_count": 6,
    "time": "2020-07-16T13:24:25.473Z",
    "type": "selectCodeCell"
   },
   {
    "code": "vis",
    "id": "c2423420a735408b95e310092eab6ac6",
    "isPrintLuxDf": false,
    "isPrintPandasDf": false,
    "isPrintView": false,
    "isPrintViewCollection": false,
    "order_count": 5,
    "time": "2020-07-16T13:24:25.499Z",
    "type": "completeCodeCell"
   },
   {
    "param": "",
    "time": "2020-07-16T13:24:25.501Z",
    "type": "initWidget"
   },
   {
    "code": "vis.refresh_source(df[df[\"Sex\"]==\"F\"])\nvis",
    "id": "a5de00431ace42188fd86deb9a33c787",
    "order_count": 6,
    "time": "2020-07-16T13:24:25.887Z",
    "type": "executeCodeCell"
   },
   {
    "code": "df = pd.read_csv(\"lux/data/olympic.csv\")\nfrom lux.vis.VisCollection import VisCollection\nvc = VisCollection([\"Height\",\"SportType=Ball\",\"?\"],df)\nvis_with_year = list(filter(lambda x: x.get_attr_by_attr_name(\"Year\")!=[],vc))[0]\nassert vis_with_year.get_attr_by_channel(\"x\")[0].attribute==\"Year\"\nassert len(vc) == len(df.columns) -1 -1 #remove 1 for vis with same filter attribute and remove 1 vis with for same attribute\nvc = VisCollection([\"Height\",\"?\"],df)\nassert len(vc) == len(df.columns) -1 #remove 1 for vis with for same attribute\n",
    "id": "c05f83fe0e5d4e839ab7b568c6f1e620",
    "order_count": 7,
    "time": "2020-07-16T13:24:25.902Z",
    "type": "selectCodeCell"
   },
   {
    "code": "vis.refresh_source(df[df[\"Sex\"]==\"F\"])\nvis",
    "id": "a5de00431ace42188fd86deb9a33c787",
    "isPrintLuxDf": false,
    "isPrintPandasDf": false,
    "isPrintView": false,
    "isPrintViewCollection": false,
    "order_count": 6,
    "time": "2020-07-16T13:24:25.951Z",
    "type": "completeCodeCell"
   },
   {
    "param": "",
    "time": "2020-07-16T13:24:25.960Z",
    "type": "initWidget"
   },
   {
    "code": "df = pd.read_csv(\"lux/data/olympic.csv\")\nfrom lux.vis.VisCollection import VisCollection\nvc = VisCollection([\"Height\",\"SportType=Ball\",\"?\"],df)\nvis_with_year = list(filter(lambda x: x.get_attr_by_attr_name(\"Year\")!=[],vc))[0]\nassert vis_with_year.get_attr_by_channel(\"x\")[0].attribute==\"Year\"\nassert len(vc) == len(df.columns) -1 -1 #remove 1 for vis with same filter attribute and remove 1 vis with for same attribute\nvc = VisCollection([\"Height\",\"?\"],df)\nassert len(vc) == len(df.columns) -1 #remove 1 for vis with for same attribute\n",
    "id": "c05f83fe0e5d4e839ab7b568c6f1e620",
    "order_count": 7,
    "time": "2020-07-16T13:24:26.431Z",
    "type": "executeCodeCell"
   },
   {
    "code": "vc",
    "id": "f74e7736bf03445582a04d307cf75127",
    "order_count": 8,
    "time": "2020-07-16T13:24:26.444Z",
    "type": "selectCodeCell"
   },
   {
    "code": "vc",
    "id": "f74e7736bf03445582a04d307cf75127",
    "order_count": 8,
    "time": "2020-07-16T13:24:27.055Z",
    "type": "executeCodeCell"
   },
   {
    "code": "assert vis.get_attr_by_attr_name(\"SportType\")[0].value ==\"Ice\"",
    "id": "2b3ca17bcf4344c0be6d42dc9315af38",
    "order_count": 9,
    "time": "2020-07-16T13:24:27.065Z",
    "type": "selectCodeCell"
   },
   {
    "code": "df = pd.read_csv(\"lux/data/olympic.csv\")\nfrom lux.vis.VisCollection import VisCollection\nvc = VisCollection([\"Height\",\"SportType=Ball\",\"?\"],df)\nvis_with_year = list(filter(lambda x: x.get_attr_by_attr_name(\"Year\")!=[],vc))[0]\nassert vis_with_year.get_attr_by_channel(\"x\")[0].attribute==\"Year\"\nassert len(vc) == len(df.columns) -1 -1 #remove 1 for vis with same filter attribute and remove 1 vis with for same attribute\nvc = VisCollection([\"Height\",\"?\"],df)\nassert len(vc) == len(df.columns) -1 #remove 1 for vis with for same attribute\n",
    "id": "c05f83fe0e5d4e839ab7b568c6f1e620",
    "isPrintLuxDf": false,
    "isPrintPandasDf": false,
    "isPrintView": false,
    "isPrintViewCollection": false,
    "order_count": 7,
    "time": "2020-07-16T13:24:27.110Z",
    "type": "completeCodeCell"
   },
   {
    "param": "",
    "time": "2020-07-16T13:24:27.401Z",
    "type": "initWidget"
   },
   {
    "code": "vc",
    "id": "f74e7736bf03445582a04d307cf75127",
    "isPrintLuxDf": false,
    "isPrintPandasDf": false,
    "isPrintView": false,
    "isPrintViewCollection": false,
    "order_count": 8,
    "time": "2020-07-16T13:24:27.706Z",
    "type": "completeCodeCell"
   },
   {
    "param": "Vis Collection",
    "time": "2020-07-16T13:24:33.408Z",
    "type": "startScroll"
   },
   {
    "param": "Vis Collection",
    "time": "2020-07-16T13:24:33.551Z",
    "type": "stopScroll"
   },
   {
    "param": "Vis Collection",
    "time": "2020-07-16T13:24:34.174Z",
    "type": "startScroll"
   },
   {
    "param": "Vis Collection",
    "time": "2020-07-16T13:24:34.451Z",
    "type": "stopScroll"
   },
   {
    "code": "vc",
    "id": "f74e7736bf03445582a04d307cf75127",
    "order_count": 8,
    "time": "2020-07-16T13:25:34.711Z",
    "type": "selectCodeCell"
   },
   {
    "code": "vc",
    "id": "f74e7736bf03445582a04d307cf75127",
    "order_count": 8,
    "time": "2020-07-16T13:25:35.676Z",
    "type": "editCodeCell"
   },
   {
    "code": "vc[3]",
    "id": "f74e7736bf03445582a04d307cf75127",
    "order_count": 8,
    "time": "2020-07-16T13:25:37.696Z",
    "type": "executeCodeCell"
   },
   {
    "code": "assert vis.get_attr_by_attr_name(\"SportType\")[0].value ==\"Ice\"",
    "id": "2b3ca17bcf4344c0be6d42dc9315af38",
    "order_count": 9,
    "time": "2020-07-16T13:25:37.717Z",
    "type": "selectCodeCell"
   },
   {
    "param": "",
    "time": "2020-07-16T13:25:37.817Z",
    "type": "initWidget"
   },
   {
    "code": "vc[3]",
    "id": "f74e7736bf03445582a04d307cf75127",
    "isPrintLuxDf": false,
    "isPrintPandasDf": false,
    "isPrintView": false,
    "isPrintViewCollection": false,
    "order_count": 8,
    "time": "2020-07-16T13:25:37.898Z",
    "type": "completeCodeCell"
   },
   {
    "code": "vc[3]",
    "id": "f74e7736bf03445582a04d307cf75127",
    "order_count": 8,
    "time": "2020-07-16T13:25:38.404Z",
    "type": "selectCodeCell"
   },
   {
    "code": "vc[3]",
    "id": "f74e7736bf03445582a04d307cf75127",
    "order_count": 8,
    "time": "2020-07-16T13:25:38.688Z",
    "type": "editCodeCell"
   },
   {
    "code": "vc[3].source",
    "id": "f74e7736bf03445582a04d307cf75127",
    "order_count": 8,
    "time": "2020-07-16T13:25:40.764Z",
    "type": "executeCodeCell"
   },
   {
    "code": "assert vis.get_attr_by_attr_name(\"SportType\")[0].value ==\"Ice\"",
    "id": "2b3ca17bcf4344c0be6d42dc9315af38",
    "order_count": 9,
    "time": "2020-07-16T13:25:40.784Z",
    "type": "selectCodeCell"
   },
   {
    "code": "vc[3].source",
    "id": "f74e7736bf03445582a04d307cf75127",
    "isPrintLuxDf": false,
    "isPrintPandasDf": false,
    "isPrintView": false,
    "isPrintViewCollection": false,
    "order_count": 8,
    "time": "2020-07-16T13:25:40.793Z",
    "type": "completeCodeCell"
   },
   {
    "code": "vc[3].source",
    "id": "f74e7736bf03445582a04d307cf75127",
    "order_count": 8,
    "time": "2020-07-16T13:25:41.413Z",
    "type": "selectCodeCell"
   },
   {
    "code": "vc[3].source",
    "id": "f74e7736bf03445582a04d307cf75127",
    "order_count": 8,
    "time": "2020-07-16T13:25:41.661Z",
    "type": "editCodeCell"
   },
   {
    "code": "vc[3].source\nvc[3].data",
    "id": "f74e7736bf03445582a04d307cf75127",
    "order_count": 8,
    "time": "2020-07-16T13:25:46.493Z",
    "type": "executeCodeCell"
   },
   {
    "code": "assert vis.get_attr_by_attr_name(\"SportType\")[0].value ==\"Ice\"",
    "id": "2b3ca17bcf4344c0be6d42dc9315af38",
    "order_count": 9,
    "time": "2020-07-16T13:25:46.514Z",
    "type": "selectCodeCell"
   },
   {
    "code": "vc[3].source\nvc[3].data",
    "id": "f74e7736bf03445582a04d307cf75127",
    "isPrintLuxDf": false,
    "isPrintPandasDf": true,
    "isPrintView": false,
    "isPrintViewCollection": false,
    "order_count": 8,
    "time": "2020-07-16T13:25:46.859Z",
    "type": "completeCodeCell"
   },
   {
    "code": "vc[3].source\nvc[3].data",
    "id": "f74e7736bf03445582a04d307cf75127",
    "order_count": 8,
    "time": "2020-07-16T13:25:50.105Z",
    "type": "selectCodeCell"
   },
   {
    "param": "",
    "time": "2020-07-16T13:25:50.128Z",
    "type": "initWidget"
   },
   {
    "param": "",
    "time": "2020-07-16T13:25:50.224Z",
    "type": "initWidget"
   },
   {
    "code": "vc[3].source\nvc[3].data",
    "id": "f74e7736bf03445582a04d307cf75127",
    "order_count": 8,
    "time": "2020-07-16T13:25:52.115Z",
    "type": "editCodeCell"
   },
   {
    "code": "assert vis.get_attr_by_attr_name(\"SportType\")[0].value ==\"Ice\"",
    "id": "2b3ca17bcf4344c0be6d42dc9315af38",
    "order_count": 9,
    "time": "2020-07-16T13:25:57.843Z",
    "type": "selectCodeCell"
   },
   {
    "code": "assert vis.get_attr_by_attr_name(\"SportType\")[0].value ==\"Ice\"",
    "id": "2b3ca17bcf4344c0be6d42dc9315af38",
    "order_count": 9,
    "time": "2020-07-16T13:25:57.847Z",
    "type": "editCodeCell"
   },
   {
    "code": "assert vis.get_attr_by_attr_name(\"SportType\")[0].value ==\"Ice\"",
    "id": "2b3ca17bcf4344c0be6d42dc9315af38",
    "order_count": 9,
    "time": "2020-07-16T13:26:14.242Z",
    "type": "editCodeCell"
   },
   {
    "code": "vis",
    "id": "13624185da3b499b8984ee351da5e342",
    "order_count": 3,
    "time": "2020-07-16T13:26:14.543Z",
    "type": "selectCodeCell"
   },
   {
    "code": "",
    "id": "855ae479f46548c5b3bca92d6d2e95b8",
    "order_count": 10,
    "time": "2020-07-16T13:31:59.299Z",
    "type": "selectCodeCell"
   },
   {
    "code": "",
    "id": "855ae479f46548c5b3bca92d6d2e95b8",
    "order_count": 10,
    "time": "2020-07-16T13:31:59.305Z",
    "type": "editCodeCell"
   },
   {
    "code": "df = pd.read_csv(\"lux/data/olympic.csv\")\nfrom lux.vis.VisCollection import VisCollection\nvc = VisCollection([\"Height\",\"SportType=Ball\",\"?\"],df)\nvis_with_year = list(filter(lambda x: x.get_attr_by_attr_name(\"Year\")!=[],vc))[0]\nassert vis_with_year.get_attr_by_channel(\"x\")[0].attribute==\"Year\"\nassert len(vc) == len(df.columns) -1 -1 #remove 1 for vis with same filter attribute and remove 1 vis with for same attribute\nvc = VisCollection([\"Height\",\"?\"],df)\nassert len(vc) == len(df.columns) -1 #remove 1 for vis with for same attribute\n",
    "id": "c05f83fe0e5d4e839ab7b568c6f1e620",
    "order_count": 7,
    "time": "2020-07-16T13:32:04.818Z",
    "type": "selectCodeCell"
   },
   {
    "code": "df = pd.read_csv(\"lux/data/olympic.csv\")\nfrom lux.vis.VisCollection import VisCollection\nvc = VisCollection([\"Height\",\"SportType=Ball\",\"?\"],df)\nvis_with_year = list(filter(lambda x: x.get_attr_by_attr_name(\"Year\")!=[],vc))[0]\nassert vis_with_year.get_attr_by_channel(\"x\")[0].attribute==\"Year\"\nassert len(vc) == len(df.columns) -1 -1 #remove 1 for vis with same filter attribute and remove 1 vis with for same attribute\nvc = VisCollection([\"Height\",\"?\"],df)\nassert len(vc) == len(df.columns) -1 #remove 1 for vis with for same attribute\n",
    "id": "c05f83fe0e5d4e839ab7b568c6f1e620",
    "order_count": 7,
    "time": "2020-07-16T13:32:05.160Z",
    "type": "selectCodeCell"
   },
   {
    "code": "vc[3].source\nvc[3].data",
    "id": "f74e7736bf03445582a04d307cf75127",
    "order_count": 8,
    "time": "2020-07-16T13:32:05.383Z",
    "type": "selectCodeCell"
   },
   {
    "code": "vc[3].source\nvc[3].data",
    "id": "f74e7736bf03445582a04d307cf75127",
    "order_count": 8,
    "time": "2020-07-16T13:32:05.388Z",
    "type": "editCodeCell"
   },
   {
    "code": "vc[3].source\nvc[3].data",
    "id": "f74e7736bf03445582a04d307cf75127",
    "order_count": 8,
    "time": "2020-07-16T13:32:05.475Z",
    "type": "selectCodeCell"
   },
   {
    "code": "vc[3].source\nvc[3].data",
    "id": "f74e7736bf03445582a04d307cf75127",
    "order_count": 8,
    "time": "2020-07-16T13:32:05.877Z",
    "type": "selectCodeCell"
   },
   {
    "code": "vc[3].source\nvc[3].data",
    "id": "f74e7736bf03445582a04d307cf75127",
    "order_count": 8,
    "time": "2020-07-16T13:32:06.707Z",
    "type": "selectCodeCell"
   },
   {
    "code": "df = pd.read_csv(\"lux/data/olympic.csv\")\nfrom lux.vis.VisCollection import VisCollection\nvc = VisCollection([\"Height\",\"SportType=Ball\",\"?\"],df)\nvis_with_year = list(filter(lambda x: x.get_attr_by_attr_name(\"Year\")!=[],vc))[0]\nassert vis_with_year.get_attr_by_channel(\"x\")[0].attribute==\"Year\"\nassert len(vc) == len(df.columns) -1 -1 #remove 1 for vis with same filter attribute and remove 1 vis with for same attribute\nvc = VisCollection([\"Height\",\"?\"],df)\nassert len(vc) == len(df.columns) -1 #remove 1 for vis with for same attribute\n",
    "id": "c05f83fe0e5d4e839ab7b568c6f1e620",
    "order_count": 7,
    "time": "2020-07-16T13:32:11.507Z",
    "type": "selectCodeCell"
   },
   {
    "code": "df = pd.read_csv(\"lux/data/olympic.csv\")\nfrom lux.vis.VisCollection import VisCollection\nvc = VisCollection([\"Height\",\"SportType=Ball\",\"?\"],df)\nvis_with_year = list(filter(lambda x: x.get_attr_by_attr_name(\"Year\")!=[],vc))[0]\nassert vis_with_year.get_attr_by_channel(\"x\")[0].attribute==\"Year\"\nassert len(vc) == len(df.columns) -1 -1 #remove 1 for vis with same filter attribute and remove 1 vis with for same attribute\nvc = VisCollection([\"Height\",\"?\"],df)\nassert len(vc) == len(df.columns) -1 #remove 1 for vis with for same attribute\n",
    "id": "c05f83fe0e5d4e839ab7b568c6f1e620",
    "order_count": 7,
    "time": "2020-07-16T13:32:11.515Z",
    "type": "editCodeCell"
   },
   {
    "code": "df = pd.read_csv(\"lux/data/olympic.csv\")\nfrom lux.vis.VisCollection import VisCollection\nvc = VisCollection([\"Height\",\"SportType=Ball\",\"?\"],df)\nvis_with_year = list(filter(lambda x: x.get_attr_by_attr_name(\"Year\")!=[],vc))[0]\nassert vis_with_year.get_attr_by_channel(\"x\")[0].attribute==\"Year\"\nassert len(vc) == len(df.columns) -1 -1 #remove 1 for vis with same filter attribute and remove 1 vis with for same attribute\nvc = VisCollection([\"Height\",\"?\"],df)\nassert len(vc) == len(df.columns) -1 #remove 1 for vis with for same attribute\n",
    "id": "c05f83fe0e5d4e839ab7b568c6f1e620",
    "order_count": 7,
    "time": "2020-07-16T13:32:11.548Z",
    "type": "editCodeCell"
   },
   {
    "code": "df = pd.read_csv(\"lux/data/olympic.csv\")\nfrom lux.vis.VisCollection import VisCollection\nvc = VisCollection([\"Height\",\"SportType=Ball\",\"?\"],df)\nvis_with_year = list(filter(lambda x: x.get_attr_by_attr_name(\"Year\")!=[],vc))[0]\nassert vis_with_year.get_attr_by_channel(\"x\")[0].attribute==\"Year\"\nassert len(vc) == len(df.columns) -1 -1 #remove 1 for vis with same filter attribute and remove 1 vis with for same attribute\nvc = VisCollection([\"Height\",\"?\"],df)\nassert len(vc) == len(df.columns) -1 #remove 1 for vis with for same attribute\n",
    "id": "c05f83fe0e5d4e839ab7b568c6f1e620",
    "order_count": 7,
    "time": "2020-07-16T13:32:12.241Z",
    "type": "selectCodeCell"
   },
   {
    "code": "df = pd.read_csv(\"lux/data/olympic.csv\")\nfrom lux.vis.VisCollection import VisCollection\nvc = VisCollection([\"Height\",\"SportType=Ball\",\"?\"],df)\nvis_with_year = list(filter(lambda x: x.get_attr_by_attr_name(\"Year\")!=[],vc))[0]\nassert vis_with_year.get_attr_by_channel(\"x\")[0].attribute==\"Year\"\nassert len(vc) == len(df.columns) -1 -1 #remove 1 for vis with same filter attribute and remove 1 vis with for same attribute\nvc = VisCollection([\"Height\",\"?\"],df)\nassert len(vc) == len(df.columns) -1 #remove 1 for vis with for same attribute\n",
    "id": "c05f83fe0e5d4e839ab7b568c6f1e620",
    "order_count": 7,
    "time": "2020-07-16T13:32:12.645Z",
    "type": "selectCodeCell"
   },
   {
    "code": "vis",
    "id": "13624185da3b499b8984ee351da5e342",
    "order_count": 3,
    "time": "2020-07-16T13:32:18.376Z",
    "type": "selectCodeCell"
   }
  ],
  "kernelspec": {
   "display_name": "Python 3",
   "language": "python",
   "name": "python3"
  },
  "language_info": {
   "codemirror_mode": {
    "name": "ipython",
    "version": 3
   },
   "file_extension": ".py",
   "mimetype": "text/x-python",
   "name": "python",
   "nbconvert_exporter": "python",
   "pygments_lexer": "ipython3",
   "version": "3.7.7"
  }
 },
 "nbformat": 4,
 "nbformat_minor": 4
}
