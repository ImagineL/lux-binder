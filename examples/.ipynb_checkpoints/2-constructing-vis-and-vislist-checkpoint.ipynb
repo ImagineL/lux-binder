{
 "cells": [
  {
   "cell_type": "code",
   "execution_count": null,
   "metadata": {},
   "outputs": [],
   "source": [
    "cd .."
   ]
  },
  {
   "cell_type": "code",
   "execution_count": null,
   "metadata": {},
   "outputs": [],
   "source": [
    "import pandas as pd\n",
    "import lux\n",
    "\n",
    "df = pd.read_csv(\"lux/data/olympic.csv\")\n",
    "df[\"Year\"] = pd.to_datetime(df[\"Year\"], format='%Y') # change pandas dtype for the column \"Year\" to datetype"
   ]
  },
  {
   "cell_type": "markdown",
   "metadata": {},
   "source": [
    "# Specifying Visualizations"
   ]
  },
  {
   "cell_type": "markdown",
   "metadata": {},
   "source": [
    "Vis objects represents individual visualizations displayed in Lux. Lists of viss are stored as VisList objects. viss can either be automatically generated in Lux or defined by the user.\n"
   ]
  },
  {
   "cell_type": "code",
   "execution_count": null,
   "metadata": {},
   "outputs": [],
   "source": [
    "from lux.vis.Vis import Vis\n",
    "query = [\"Weight\"]\n",
    "vis = Vis(query)"
   ]
  },
  {
   "cell_type": "markdown",
   "metadata": {},
   "source": [
    "To render the visualization, we need to attach the vis to data via the `load` function."
   ]
  },
  {
   "cell_type": "code",
   "execution_count": null,
   "metadata": {},
   "outputs": [],
   "source": [
    "vis = vis.load(df)\n",
    "vis"
   ]
  },
  {
   "cell_type": "markdown",
   "metadata": {},
   "source": [
    "The decoupling of the vis and its associated data is useful for making quick comparisons. \n",
    "We can very easily swap out the vis's data without changing the vis definition, which is useful for comparing differences across different datasets with the same schema. For example, we might be interested in the same Weight distribution but plotted only on the subset of data with female athletes."
   ]
  },
  {
   "cell_type": "code",
   "execution_count": null,
   "metadata": {},
   "outputs": [],
   "source": [
    "fdf = df[df[\"Sex\"]=='F']\n",
    "vis = vis.load(fdf)\n",
    "vis"
   ]
  },
  {
   "cell_type": "markdown",
   "metadata": {},
   "source": [
    "# Specifying Vis Lists"
   ]
  },
  {
   "cell_type": "markdown",
   "metadata": {},
   "source": [
    "There are two different ways to specify lists of visualization in Lux: 1) via Query or 2) via manual Vis construction.\n",
    "\n",
    "First, we see an example of a vis collection created in a similiar procedure as viss through the Query syntax. Here, we create a vis collection of `Weight` with respect to all other attributes."
   ]
  },
  {
   "cell_type": "markdown",
   "metadata": {},
   "source": [
    "Using the Query syntax, we can make use of wildcards:"
   ]
  },
  {
   "cell_type": "code",
   "execution_count": null,
   "metadata": {},
   "outputs": [],
   "source": [
    "from lux.vis.VisList import VisList\n",
    "vc = VisList([\"Weight\",\"?\"])\n",
    "vc = vc.load(df)\n",
    "vc"
   ]
  },
  {
   "cell_type": "markdown",
   "metadata": {},
   "source": [
    "Or specify desired attributes via a list: "
   ]
  },
  {
   "cell_type": "code",
   "execution_count": null,
   "metadata": {
    "scrolled": false
   },
   "outputs": [],
   "source": [
    "vc = VisList([\"Weight\",['Sport','Year','Height','HostRegion','SportType']])\n",
    "vc = vc.load(df)\n",
    "vc"
   ]
  },
  {
   "cell_type": "markdown",
   "metadata": {},
   "source": [
    "Alternatively, vis collections can be manually constructed by individually specifying the content of each vis."
   ]
  },
  {
   "cell_type": "code",
   "execution_count": null,
   "metadata": {},
   "outputs": [],
   "source": [
    "from lux.vis.VisList import VisList\n",
    "\n",
    "vcLst = []\n",
    "for attribute in ['Sport','Year','Height','HostRegion','SportType']: \n",
    "    vis = Vis([lux.Clause(\"Weight\"), lux.Clause(attribute)])\n",
    "    vcLst.append(vis)\n",
    "vc = VisList(vcLst)"
   ]
  },
  {
   "cell_type": "code",
   "execution_count": null,
   "metadata": {},
   "outputs": [],
   "source": [
    "vc = vc.load(df)"
   ]
  },
  {
   "cell_type": "code",
   "execution_count": null,
   "metadata": {},
   "outputs": [],
   "source": [
    "vc"
   ]
  }
 ],
 "metadata": {
  "history": [
   {
    "time": "2020-07-22T07:57:15.318Z",
    "type": "kernelReady"
   },
   {
    "time": "2020-07-22T08:31:29.656Z",
    "type": "kernelReady"
   },
   {
    "code": "# Specifying viss",
    "id": "7beb732dadcc44978ccfc1157a23726f",
    "order_count": 2,
    "time": "2020-07-22T08:31:32.615Z",
    "type": "selectMarkdownCell"
   },
   {
    "code": "# Specifying viss",
    "id": "7beb732dadcc44978ccfc1157a23726f",
    "order_count": 2,
    "time": "2020-07-22T08:31:32.803Z",
    "type": "selectMarkdownCell"
   },
   {
    "code": "# Specifying viss",
    "id": "7beb732dadcc44978ccfc1157a23726f",
    "order_count": 2,
    "time": "2020-07-22T08:31:33.551Z",
    "type": "editMarkdownCell"
   },
   {
    "code": "# Specifying viss",
    "id": "7beb732dadcc44978ccfc1157a23726f",
    "order_count": 2,
    "time": "2020-07-22T08:31:33.959Z",
    "type": "selectMarkdownCell"
   },
   {
    "code": "Vis objects represents individual visualizations displayed in Lux. Lists of viss are stored as VisList objects. viss can either be automatically generated in Lux or defined by the user.\n",
    "id": "a8353b127475432986a519f31b767e58",
    "order_count": 3,
    "time": "2020-07-22T08:31:38.691Z",
    "type": "selectMarkdownCell"
   },
   {
    "code": "# Specifying Vis Collections",
    "id": "0c6ad49c981e4cdd8e247c60e303a1dd",
    "order_count": 9,
    "time": "2020-07-22T08:31:41.126Z",
    "type": "selectMarkdownCell"
   },
   {
    "code": "# Specifying Vis Collections",
    "id": "0c6ad49c981e4cdd8e247c60e303a1dd",
    "order_count": 9,
    "time": "2020-07-22T08:31:41.276Z",
    "type": "selectMarkdownCell"
   },
   {
    "code": "# Specifying Vis Collections",
    "id": "0c6ad49c981e4cdd8e247c60e303a1dd",
    "order_count": 9,
    "time": "2020-07-22T08:31:41.957Z",
    "type": "editMarkdownCell"
   },
   {
    "code": "# Specifying Vis Collections",
    "id": "0c6ad49c981e4cdd8e247c60e303a1dd",
    "order_count": 9,
    "time": "2020-07-22T08:31:42.495Z",
    "type": "selectMarkdownCell"
   },
   {
    "code": "There are two different ways to specify vis collections in Lux: 1) via Query or 2) via manual Vis construction.\n\nFirst, we see an example of a vis collection created in a similiar procedure as viss through the Query syntax. Here, we create a vis collection of `Weight` with respect to all other attributes.",
    "id": "f66167de4c96431fb571baa8f1131a28",
    "order_count": 10,
    "time": "2020-07-22T08:31:47.872Z",
    "type": "selectMarkdownCell"
   },
   {
    "code": "There are two different ways to specify vis collections in Lux: 1) via Query or 2) via manual Vis construction.\n\nFirst, we see an example of a vis collection created in a similiar procedure as viss through the Query syntax. Here, we create a vis collection of `Weight` with respect to all other attributes.",
    "id": "f66167de4c96431fb571baa8f1131a28",
    "order_count": 10,
    "time": "2020-07-22T08:31:49.036Z",
    "type": "selectMarkdownCell"
   },
   {
    "code": "There are two different ways to specify vis collections in Lux: 1) via Query or 2) via manual Vis construction.\n\nFirst, we see an example of a vis collection created in a similiar procedure as viss through the Query syntax. Here, we create a vis collection of `Weight` with respect to all other attributes.",
    "id": "f66167de4c96431fb571baa8f1131a28",
    "order_count": 10,
    "time": "2020-07-22T08:31:49.205Z",
    "type": "selectMarkdownCell"
   },
   {
    "code": "There are two different ways to specify vis collections in Lux: 1) via Query or 2) via manual Vis construction.\n\nFirst, we see an example of a vis collection created in a similiar procedure as viss through the Query syntax. Here, we create a vis collection of `Weight` with respect to all other attributes.",
    "id": "f66167de4c96431fb571baa8f1131a28",
    "order_count": 10,
    "time": "2020-07-22T08:31:50.317Z",
    "type": "editMarkdownCell"
   },
   {
    "code": "There are two different ways to specify vis collections in Lux: 1) via Query or 2) via manual Vis construction.\n\nFirst, we see an example of a vis collection created in a similiar procedure as viss through the Query syntax. Here, we create a vis collection of `Weight` with respect to all other attributes.",
    "id": "f66167de4c96431fb571baa8f1131a28",
    "order_count": 10,
    "time": "2020-07-22T08:31:52.048Z",
    "type": "selectMarkdownCell"
   },
   {
    "code": "Using the Query syntax, we can make use of wildcards:",
    "id": "32586c7ef8d14b3982d51df0933e72a8",
    "order_count": 11,
    "time": "2020-07-22T08:32:03.689Z",
    "type": "selectMarkdownCell"
   },
   {
    "time": "2020-07-22T08:32:49.388Z",
    "type": "kernelRestart"
   },
   {
    "time": "2020-07-22T08:32:50.246Z",
    "type": "kernelReady"
   },
   {
    "time": "2020-07-22T08:32:50.258Z",
    "type": "kernelReady"
   }
  ],
  "kernelspec": {
   "display_name": "Python 3",
   "language": "python",
   "name": "python3"
  },
  "language_info": {
   "codemirror_mode": {
    "name": "ipython",
    "version": 3
   },
   "file_extension": ".py",
   "mimetype": "text/x-python",
   "name": "python",
   "nbconvert_exporter": "python",
   "pygments_lexer": "ipython3",
   "version": "3.7.7"
  }
 },
 "nbformat": 4,
 "nbformat_minor": 4
}
