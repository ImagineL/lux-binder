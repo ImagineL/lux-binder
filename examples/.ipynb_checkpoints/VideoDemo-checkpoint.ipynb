{
 "cells": [
  {
   "cell_type": "code",
   "execution_count": 1,
   "metadata": {},
   "outputs": [
    {
     "name": "stdout",
     "output_type": "stream",
     "text": [
      "/Users/dorislee/Desktop/Research/lux/lux\n"
     ]
    }
   ],
   "source": [
    "cd ../"
   ]
  },
  {
   "cell_type": "code",
   "execution_count": null,
   "metadata": {},
   "outputs": [],
   "source": [
    "import lux\n",
    "import pandas as pd"
   ]
  },
  {
   "cell_type": "code",
   "execution_count": null,
   "metadata": {},
   "outputs": [],
   "source": [
    "df = pd.read_csv(\"lux/data/college.csv\")"
   ]
  },
  {
   "cell_type": "code",
   "execution_count": null,
   "metadata": {},
   "outputs": [],
   "source": [
    "df"
   ]
  }
 ],
 "metadata": {
  "history": [
   {
    "time": "2020-06-30T03:43:41.951Z",
    "type": "kernelReady"
   },
   {
    "code": "cd ../",
    "id": "026dbb2260ac4c0b8cae7756cb8b2460",
    "order_count": 0,
    "time": "2020-06-30T03:43:48.266Z",
    "type": "runCodeCell"
   },
   {
    "id": "026dbb2260ac4c0b8cae7756cb8b2460",
    "isPrintDataFrame": false,
    "time": "2020-06-30T03:43:48.298Z",
    "type": "completion"
   },
   {
    "code": "import pandas as pd\n%load_ext autoreload\n%autoreload 2\nimport lux",
    "id": "e200cfa7633e411a8897fe8e655522e1",
    "order_count": 2,
    "time": "2020-06-30T03:43:48.801Z",
    "type": "runCodeCell"
   },
   {
    "id": "e200cfa7633e411a8897fe8e655522e1",
    "isPrintDataFrame": false,
    "time": "2020-06-30T03:43:49.441Z",
    "type": "completion"
   },
   {
    "code": "df = pd.read_csv(\"lux/data/college.csv\")",
    "id": "20be64d6754c45c59753d7948fd78e9c",
    "order_count": 3,
    "time": "2020-06-30T03:43:49.497Z",
    "type": "runCodeCell"
   },
   {
    "id": "20be64d6754c45c59753d7948fd78e9c",
    "isPrintDataFrame": false,
    "time": "2020-06-30T03:43:49.540Z",
    "type": "completion"
   },
   {
    "code": "df",
    "id": "b1ea764b4f9f4d6b868e5804dd750919",
    "order_count": 4,
    "time": "2020-06-30T03:43:49.858Z",
    "type": "runCodeCell"
   },
   {
    "id": "b1ea764b4f9f4d6b868e5804dd750919",
    "isPrintDataFrame": true,
    "time": "2020-06-30T03:43:51.509Z",
    "type": "completion"
   },
   {
    "execution_count": "",
    "param": "",
    "time": "2020-06-30T03:43:54.020Z",
    "type": "initWidget"
   },
   {
    "execution_count": "",
    "param": "",
    "time": "2020-06-30T03:43:54.740Z",
    "type": "initWidget"
   },
   {
    "execution_count": "",
    "param": "Distribution",
    "time": "2020-06-30T03:44:06.955Z",
    "type": "switchTab"
   },
   {
    "execution_count": "",
    "param": "Category",
    "time": "2020-06-30T03:44:08.739Z",
    "type": "switchTab"
   },
   {
    "execution_count": "",
    "param": "Distribution",
    "time": "2020-06-30T03:44:15.977Z",
    "type": "switchTab"
   },
   {
    "execution_count": "",
    "param": "Correlation",
    "time": "2020-06-30T03:50:42.481Z",
    "type": "switchTab"
   },
   {
    "time": "2020-06-30T03:51:00.123Z",
    "type": "kernelRestart"
   },
   {
    "time": "2020-06-30T03:51:01.128Z",
    "type": "kernelReady"
   },
   {
    "code": "cd ../",
    "id": "026dbb2260ac4c0b8cae7756cb8b2460",
    "order_count": 0,
    "time": "2020-06-30T03:51:01.429Z",
    "type": "runCodeCell"
   },
   {
    "id": "026dbb2260ac4c0b8cae7756cb8b2460",
    "isPrintDataFrame": false,
    "time": "2020-06-30T03:51:01.452Z",
    "type": "completion"
   },
   {
    "time": "2020-06-30T03:52:59.115Z",
    "type": "kernelRestart"
   },
   {
    "time": "2020-06-30T03:53:00.074Z",
    "type": "kernelReady"
   },
   {
    "time": "2020-06-30T03:53:00.089Z",
    "type": "kernelReady"
   },
   {
    "code": "cd ../",
    "id": "026dbb2260ac4c0b8cae7756cb8b2460",
    "order_count": 0,
    "time": "2020-06-30T03:53:00.644Z",
    "type": "runCodeCell"
   },
   {
    "id": "026dbb2260ac4c0b8cae7756cb8b2460",
    "isPrintDataFrame": false,
    "time": "2020-06-30T03:53:00.663Z",
    "type": "completion"
   },
   {
    "code": "import lux",
    "id": "e200cfa7633e411a8897fe8e655522e1",
    "order_count": 2,
    "time": "2020-06-30T03:53:01.052Z",
    "type": "runCodeCell"
   },
   {
    "code": "df = pd.read_csv(\"lux/data/college.csv\")",
    "id": "20be64d6754c45c59753d7948fd78e9c",
    "order_count": 3,
    "time": "2020-06-30T03:53:01.500Z",
    "type": "runCodeCell"
   },
   {
    "id": "e200cfa7633e411a8897fe8e655522e1",
    "isPrintDataFrame": false,
    "time": "2020-06-30T03:53:01.583Z",
    "type": "completion"
   },
   {
    "id": "20be64d6754c45c59753d7948fd78e9c",
    "isPrintDataFrame": false,
    "time": "2020-06-30T03:53:01.690Z",
    "type": "completion"
   },
   {
    "code": "import lux\nimport pandas as pd",
    "id": "e200cfa7633e411a8897fe8e655522e1",
    "order_count": 2,
    "time": "2020-06-30T03:53:04.318Z",
    "type": "runCodeCell"
   },
   {
    "id": "e200cfa7633e411a8897fe8e655522e1",
    "isPrintDataFrame": false,
    "time": "2020-06-30T03:53:04.348Z",
    "type": "completion"
   },
   {
    "code": "df = pd.read_csv(\"lux/data/college.csv\")",
    "id": "20be64d6754c45c59753d7948fd78e9c",
    "order_count": 3,
    "time": "2020-06-30T03:53:04.916Z",
    "type": "runCodeCell"
   },
   {
    "id": "20be64d6754c45c59753d7948fd78e9c",
    "isPrintDataFrame": false,
    "time": "2020-06-30T03:53:04.947Z",
    "type": "completion"
   },
   {
    "code": "df",
    "id": "b1ea764b4f9f4d6b868e5804dd750919",
    "order_count": 4,
    "time": "2020-06-30T03:53:06.330Z",
    "type": "runCodeCell"
   },
   {
    "id": "b1ea764b4f9f4d6b868e5804dd750919",
    "isPrintDataFrame": true,
    "time": "2020-06-30T03:53:08.053Z",
    "type": "completion"
   },
   {
    "execution_count": "",
    "param": "",
    "time": "2020-06-30T03:53:08.997Z",
    "type": "initWidget"
   },
   {
    "execution_count": "",
    "param": "",
    "time": "2020-06-30T03:53:09.610Z",
    "type": "initWidget"
   },
   {
    "time": "2020-06-30T04:05:39.229Z",
    "type": "kernelReady"
   },
   {
    "execution_count": "",
    "param": "Distribution",
    "time": "2020-06-30T04:08:51.994Z",
    "type": "switchTab"
   },
   {
    "execution_count": "",
    "param": "Category",
    "time": "2020-06-30T04:08:53.117Z",
    "type": "switchTab"
   },
   {
    "execution_count": "",
    "param": "Correlation",
    "time": "2020-06-30T04:08:55.251Z",
    "type": "switchTab"
   },
   {
    "time": "2020-06-30T04:11:11.770Z",
    "type": "kernelReady"
   },
   {
    "time": "2020-06-30T07:29:22.277Z",
    "type": "kernelReady"
   },
   {
    "time": "2020-06-30T08:44:13.905Z",
    "type": "kernelReady"
   },
   {
    "time": "2020-06-30T08:52:44.905Z",
    "type": "kernelRestart"
   },
   {
    "time": "2020-06-30T08:52:45.040Z",
    "type": "kernelRestart"
   },
   {
    "time": "2020-06-30T08:52:45.152Z",
    "type": "kernelRestart"
   },
   {
    "code": "cd ../",
    "id": "026dbb2260ac4c0b8cae7756cb8b2460",
    "order_count": 0,
    "time": "2020-06-30T08:52:46.621Z",
    "type": "runCodeCell"
   },
   {
    "code": "import lux\nimport pandas as pd",
    "id": "e200cfa7633e411a8897fe8e655522e1",
    "order_count": 2,
    "time": "2020-06-30T08:52:47.297Z",
    "type": "runCodeCell"
   },
   {
    "id": "026dbb2260ac4c0b8cae7756cb8b2460",
    "isPrintDataFrame": false,
    "time": "2020-06-30T08:52:47.344Z",
    "type": "completion"
   },
   {
    "time": "2020-06-30T08:52:47.349Z",
    "type": "kernelReady"
   },
   {
    "time": "2020-06-30T08:52:47.354Z",
    "type": "kernelReady"
   },
   {
    "id": "e200cfa7633e411a8897fe8e655522e1",
    "isPrintDataFrame": false,
    "time": "2020-06-30T08:52:47.887Z",
    "type": "completion"
   },
   {
    "time": "2020-06-30T08:52:47.891Z",
    "type": "kernelReady"
   },
   {
    "time": "2020-06-30T08:52:47.908Z",
    "type": "kernelReady"
   },
   {
    "code": "df = pd.read_csv(\"lux/data/college.csv\")",
    "id": "20be64d6754c45c59753d7948fd78e9c",
    "order_count": 3,
    "time": "2020-06-30T08:52:48.540Z",
    "type": "runCodeCell"
   },
   {
    "id": "20be64d6754c45c59753d7948fd78e9c",
    "isPrintDataFrame": false,
    "time": "2020-06-30T08:52:48.571Z",
    "type": "completion"
   },
   {
    "code": "df",
    "id": "b1ea764b4f9f4d6b868e5804dd750919",
    "order_count": 5,
    "time": "2020-06-30T08:52:50.162Z",
    "type": "runCodeCell"
   },
   {
    "id": "b1ea764b4f9f4d6b868e5804dd750919",
    "isPrintDataFrame": true,
    "time": "2020-06-30T08:52:51.178Z",
    "type": "completion"
   },
   {
    "execution_count": "",
    "param": "",
    "time": "2020-06-30T08:52:51.997Z",
    "type": "initWidget"
   },
   {
    "execution_count": "",
    "param": "",
    "time": "2020-06-30T08:52:52.212Z",
    "type": "initWidget"
   },
   {
    "execution_count": "",
    "param": "Distribution",
    "time": "2020-06-30T08:53:09.748Z",
    "type": "switchTab"
   },
   {
    "execution_count": "",
    "param": "Distribution",
    "time": "2020-06-30T08:53:09.998Z",
    "type": "switchTab"
   },
   {
    "execution_count": "",
    "param": "Category",
    "time": "2020-06-30T08:53:10.973Z",
    "type": "switchTab"
   },
   {
    "execution_count": "",
    "param": "Correlation",
    "time": "2020-06-30T08:53:11.860Z",
    "type": "switchTab"
   },
   {
    "code": "df",
    "id": "b1ea764b4f9f4d6b868e5804dd750919",
    "order_count": 5,
    "time": "2020-06-30T08:56:58.746Z",
    "type": "runCodeCell"
   },
   {
    "id": "b1ea764b4f9f4d6b868e5804dd750919",
    "isPrintDataFrame": false,
    "time": "2020-06-30T08:56:59.347Z",
    "type": "completion"
   },
   {
    "execution_count": "",
    "param": "",
    "time": "2020-06-30T08:56:59.369Z",
    "type": "initWidget"
   },
   {
    "execution_count": "",
    "param": "",
    "time": "2020-06-30T08:56:59.575Z",
    "type": "initWidget"
   },
   {
    "time": "2020-06-30T08:57:01.869Z",
    "type": "kernelRestart"
   },
   {
    "time": "2020-06-30T08:57:02.019Z",
    "type": "kernelRestart"
   },
   {
    "time": "2020-06-30T08:57:02.166Z",
    "type": "kernelRestart"
   },
   {
    "code": "cd ../",
    "id": "026dbb2260ac4c0b8cae7756cb8b2460",
    "order_count": 0,
    "time": "2020-06-30T08:57:03.702Z",
    "type": "runCodeCell"
   },
   {
    "code": "import lux\nimport pandas as pd",
    "id": "e200cfa7633e411a8897fe8e655522e1",
    "order_count": 2,
    "time": "2020-06-30T08:57:04.028Z",
    "type": "runCodeCell"
   },
   {
    "code": "df = pd.read_csv(\"lux/data/college.csv\")",
    "id": "20be64d6754c45c59753d7948fd78e9c",
    "order_count": 3,
    "time": "2020-06-30T08:57:04.437Z",
    "type": "runCodeCell"
   },
   {
    "id": "e200cfa7633e411a8897fe8e655522e1",
    "isPrintDataFrame": false,
    "time": "2020-06-30T08:57:04.662Z",
    "type": "completion"
   },
   {
    "time": "2020-06-30T08:57:04.670Z",
    "type": "kernelReady"
   },
   {
    "id": "20be64d6754c45c59753d7948fd78e9c",
    "isPrintDataFrame": false,
    "time": "2020-06-30T08:57:04.689Z",
    "type": "completion"
   },
   {
    "time": "2020-06-30T08:57:04.693Z",
    "type": "kernelReady"
   },
   {
    "code": "TODO correlation remove inverses",
    "id": "ff15e06f6c234be28a516ec633a5ab58",
    "order_count": 4,
    "time": "2020-06-30T08:57:05.096Z",
    "type": "runCodeCell"
   },
   {
    "id": "ff15e06f6c234be28a516ec633a5ab58",
    "isPrintDataFrame": false,
    "time": "2020-06-30T08:57:05.118Z",
    "type": "completion"
   },
   {
    "code": "TODO correlation remove inverses",
    "id": "ff15e06f6c234be28a516ec633a5ab58",
    "order_count": null,
    "time": "2020-06-30T08:57:06.472Z",
    "type": "deleteCodeCell"
   },
   {
    "code": "df",
    "id": "b1ea764b4f9f4d6b868e5804dd750919",
    "order_count": 4,
    "time": "2020-06-30T08:57:06.936Z",
    "type": "runCodeCell"
   },
   {
    "id": "b1ea764b4f9f4d6b868e5804dd750919",
    "isPrintDataFrame": true,
    "time": "2020-06-30T08:57:08.412Z",
    "type": "completion"
   },
   {
    "execution_count": "",
    "param": "",
    "time": "2020-06-30T08:57:09.330Z",
    "type": "initWidget"
   },
   {
    "execution_count": "",
    "param": "",
    "time": "2020-06-30T08:57:09.927Z",
    "type": "initWidget"
   },
   {
    "execution_count": "",
    "param": "Distribution",
    "time": "2020-06-30T08:57:14.361Z",
    "type": "switchTab"
   },
   {
    "execution_count": "",
    "param": "Category",
    "time": "2020-06-30T08:57:15.784Z",
    "type": "switchTab"
   },
   {
    "execution_count": "",
    "param": "Correlation",
    "time": "2020-06-30T08:57:17.487Z",
    "type": "switchTab"
   },
   {
    "execution_count": "",
    "param": "",
    "time": "2020-06-30T08:57:32.291Z",
    "type": "initWidget"
   },
   {
    "execution_count": "",
    "param": "",
    "time": "2020-06-30T08:57:32.780Z",
    "type": "initWidget"
   },
   {
    "execution_count": "",
    "param": "Category",
    "time": "2020-06-30T08:59:49.660Z",
    "type": "switchTab"
   },
   {
    "execution_count": "",
    "param": "Distribution",
    "time": "2020-06-30T08:59:50.864Z",
    "type": "switchTab"
   },
   {
    "execution_count": "",
    "param": "Correlation",
    "time": "2020-06-30T08:59:52.323Z",
    "type": "switchTab"
   },
   {
    "execution_count": "",
    "param": "Distribution",
    "time": "2020-06-30T09:00:00.947Z",
    "type": "switchTab"
   },
   {
    "time": "2020-06-30T09:01:32.933Z",
    "type": "kernelRestart"
   },
   {
    "time": "2020-06-30T09:01:33.902Z",
    "type": "kernelReady"
   },
   {
    "time": "2020-06-30T09:01:33.906Z",
    "type": "kernelReady"
   },
   {
    "code": "cd ../",
    "id": "026dbb2260ac4c0b8cae7756cb8b2460",
    "order_count": 0,
    "time": "2020-06-30T09:01:35.430Z",
    "type": "runCodeCell"
   },
   {
    "id": "026dbb2260ac4c0b8cae7756cb8b2460",
    "isPrintDataFrame": false,
    "time": "2020-06-30T09:01:35.446Z",
    "type": "completion"
   },
   {
    "id": "026dbb2260ac4c0b8cae7756cb8b2460",
    "isPrintDataFrame": false,
    "time": "2020-06-30T09:01:35.446Z",
    "type": "completion"
   },
   {
    "code": "import lux\nimport pandas as pd",
    "id": "e200cfa7633e411a8897fe8e655522e1",
    "order_count": 2,
    "time": "2020-06-30T09:01:36.217Z",
    "type": "runCodeCell"
   },
   {
    "code": "df = pd.read_csv(\"lux/data/college.csv\")",
    "id": "20be64d6754c45c59753d7948fd78e9c",
    "order_count": 3,
    "time": "2020-06-30T09:01:36.624Z",
    "type": "runCodeCell"
   },
   {
    "id": "e200cfa7633e411a8897fe8e655522e1",
    "isPrintDataFrame": false,
    "time": "2020-06-30T09:01:36.720Z",
    "type": "completion"
   },
   {
    "id": "20be64d6754c45c59753d7948fd78e9c",
    "isPrintDataFrame": false,
    "time": "2020-06-30T09:01:36.745Z",
    "type": "completion"
   },
   {
    "code": "df",
    "id": "b1ea764b4f9f4d6b868e5804dd750919",
    "order_count": 4,
    "time": "2020-06-30T09:01:37.397Z",
    "type": "runCodeCell"
   },
   {
    "id": "b1ea764b4f9f4d6b868e5804dd750919",
    "isPrintDataFrame": true,
    "time": "2020-06-30T09:01:38.835Z",
    "type": "completion"
   },
   {
    "execution_count": "",
    "param": "",
    "time": "2020-06-30T09:01:41.043Z",
    "type": "initWidget"
   },
   {
    "execution_count": "",
    "param": "",
    "time": "2020-06-30T09:01:41.647Z",
    "type": "initWidget"
   },
   {
    "time": "2020-06-30T09:02:38.916Z",
    "type": "kernelRestart"
   },
   {
    "time": "2020-06-30T09:02:39.713Z",
    "type": "kernelReady"
   },
   {
    "time": "2020-06-30T09:02:39.741Z",
    "type": "kernelReady"
   },
   {
    "code": "cd ../lux/data/",
    "id": "026dbb2260ac4c0b8cae7756cb8b2460",
    "order_count": 0,
    "time": "2020-06-30T09:03:21.507Z",
    "type": "runCodeCell"
   },
   {
    "id": "026dbb2260ac4c0b8cae7756cb8b2460",
    "isPrintDataFrame": false,
    "time": "2020-06-30T09:03:21.534Z",
    "type": "completion"
   },
   {
    "code": "import lux\nimport pandas as pd",
    "id": "e200cfa7633e411a8897fe8e655522e1",
    "order_count": 2,
    "time": "2020-06-30T09:03:48.932Z",
    "type": "runCodeCell"
   },
   {
    "id": "e200cfa7633e411a8897fe8e655522e1",
    "isPrintDataFrame": false,
    "time": "2020-06-30T09:03:49.012Z",
    "type": "completion"
   },
   {
    "code": "cd ../",
    "id": "026dbb2260ac4c0b8cae7756cb8b2460",
    "order_count": 0,
    "time": "2020-06-30T09:03:52.174Z",
    "type": "runCodeCell"
   },
   {
    "id": "026dbb2260ac4c0b8cae7756cb8b2460",
    "isPrintDataFrame": false,
    "time": "2020-06-30T09:03:52.201Z",
    "type": "completion"
   },
   {
    "time": "2020-06-30T09:03:54.147Z",
    "type": "kernelRestart"
   },
   {
    "time": "2020-06-30T09:03:54.839Z",
    "type": "kernelReady"
   },
   {
    "time": "2020-06-30T09:03:54.844Z",
    "type": "kernelReady"
   },
   {
    "code": "cd ../",
    "id": "026dbb2260ac4c0b8cae7756cb8b2460",
    "order_count": 0,
    "time": "2020-06-30T09:03:55.309Z",
    "type": "runCodeCell"
   },
   {
    "id": "026dbb2260ac4c0b8cae7756cb8b2460",
    "isPrintDataFrame": false,
    "time": "2020-06-30T09:03:55.328Z",
    "type": "completion"
   },
   {
    "time": "2020-06-30T09:04:02.670Z",
    "type": "kernelRestart"
   },
   {
    "time": "2020-06-30T09:04:03.311Z",
    "type": "kernelReady"
   },
   {
    "code": "import lux\nimport pandas as pd",
    "id": "e200cfa7633e411a8897fe8e655522e1",
    "order_count": 2,
    "time": "2020-06-30T09:06:28.910Z",
    "type": "runCodeCell"
   },
   {
    "id": "e200cfa7633e411a8897fe8e655522e1",
    "isPrintDataFrame": false,
    "time": "2020-06-30T09:06:28.990Z",
    "type": "completion"
   },
   {
    "code": "df = pd.read_csv(\"college.csv\")",
    "id": "20be64d6754c45c59753d7948fd78e9c",
    "order_count": 3,
    "time": "2020-06-30T09:06:29.229Z",
    "type": "runCodeCell"
   },
   {
    "id": "20be64d6754c45c59753d7948fd78e9c",
    "isPrintDataFrame": false,
    "time": "2020-06-30T09:06:29.247Z",
    "type": "completion"
   },
   {
    "code": "cd ../",
    "id": "026dbb2260ac4c0b8cae7756cb8b2460",
    "order_count": 0,
    "time": "2020-06-30T09:06:31.807Z",
    "type": "runCodeCell"
   },
   {
    "id": "026dbb2260ac4c0b8cae7756cb8b2460",
    "isPrintDataFrame": false,
    "time": "2020-06-30T09:06:31.822Z",
    "type": "completion"
   },
   {
    "code": "import lux\nimport pandas as pd",
    "id": "e200cfa7633e411a8897fe8e655522e1",
    "order_count": 2,
    "time": "2020-06-30T09:06:32.093Z",
    "type": "runCodeCell"
   },
   {
    "code": "df = pd.read_csv(\"college.csv\")",
    "id": "20be64d6754c45c59753d7948fd78e9c",
    "order_count": 3,
    "time": "2020-06-30T09:06:32.412Z",
    "type": "runCodeCell"
   },
   {
    "id": "e200cfa7633e411a8897fe8e655522e1",
    "isPrintDataFrame": false,
    "time": "2020-06-30T09:06:32.616Z",
    "type": "completion"
   },
   {
    "id": "20be64d6754c45c59753d7948fd78e9c",
    "isPrintDataFrame": false,
    "time": "2020-06-30T09:06:32.679Z",
    "type": "completion"
   },
   {
    "code": "df",
    "id": "b1ea764b4f9f4d6b868e5804dd750919",
    "order_count": 4,
    "time": "2020-06-30T09:06:32.799Z",
    "type": "runCodeCell"
   },
   {
    "id": "b1ea764b4f9f4d6b868e5804dd750919",
    "isPrintDataFrame": false,
    "time": "2020-06-30T09:06:32.814Z",
    "type": "completion"
   },
   {
    "time": "2020-06-30T09:06:35.527Z",
    "type": "kernelRestart"
   },
   {
    "time": "2020-06-30T09:06:36.570Z",
    "type": "kernelReady"
   },
   {
    "code": "cd ../",
    "id": "026dbb2260ac4c0b8cae7756cb8b2460",
    "order_count": 0,
    "time": "2020-06-30T09:06:36.774Z",
    "type": "runCodeCell"
   },
   {
    "id": "026dbb2260ac4c0b8cae7756cb8b2460",
    "isPrintDataFrame": false,
    "time": "2020-06-30T09:06:36.793Z",
    "type": "completion"
   },
   {
    "code": "import lux\nimport pandas as pd",
    "id": "e200cfa7633e411a8897fe8e655522e1",
    "order_count": 2,
    "time": "2020-06-30T09:06:37.182Z",
    "type": "runCodeCell"
   },
   {
    "code": "df = pd.read_csv(\"college.csv\")",
    "id": "20be64d6754c45c59753d7948fd78e9c",
    "order_count": 3,
    "time": "2020-06-30T09:06:37.476Z",
    "type": "runCodeCell"
   },
   {
    "id": "e200cfa7633e411a8897fe8e655522e1",
    "isPrintDataFrame": false,
    "time": "2020-06-30T09:06:37.514Z",
    "type": "completion"
   },
   {
    "id": "20be64d6754c45c59753d7948fd78e9c",
    "isPrintDataFrame": false,
    "time": "2020-06-30T09:06:37.623Z",
    "type": "completion"
   },
   {
    "code": "df",
    "id": "b1ea764b4f9f4d6b868e5804dd750919",
    "order_count": 4,
    "time": "2020-06-30T09:06:38.044Z",
    "type": "runCodeCell"
   },
   {
    "id": "b1ea764b4f9f4d6b868e5804dd750919",
    "isPrintDataFrame": false,
    "time": "2020-06-30T09:06:38.063Z",
    "type": "completion"
   },
   {
    "code": "df = pd.read_csv(\"lux/data/college.csv\")",
    "id": "20be64d6754c45c59753d7948fd78e9c",
    "order_count": 3,
    "time": "2020-06-30T09:06:45.408Z",
    "type": "runCodeCell"
   },
   {
    "id": "20be64d6754c45c59753d7948fd78e9c",
    "isPrintDataFrame": false,
    "time": "2020-06-30T09:06:45.438Z",
    "type": "completion"
   },
   {
    "code": "df",
    "id": "b1ea764b4f9f4d6b868e5804dd750919",
    "order_count": 4,
    "time": "2020-06-30T09:06:45.758Z",
    "type": "runCodeCell"
   },
   {
    "id": "b1ea764b4f9f4d6b868e5804dd750919",
    "isPrintDataFrame": true,
    "time": "2020-06-30T09:06:47.271Z",
    "type": "completion"
   },
   {
    "execution_count": "",
    "param": "",
    "time": "2020-06-30T09:06:47.904Z",
    "type": "initWidget"
   },
   {
    "execution_count": "",
    "param": "",
    "time": "2020-06-30T09:06:48.517Z",
    "type": "initWidget"
   },
   {
    "time": "2020-06-30T09:07:09.255Z",
    "type": "kernelRestart"
   },
   {
    "time": "2020-06-30T09:07:10.273Z",
    "type": "kernelReady"
   },
   {
    "time": "2020-06-30T09:07:10.294Z",
    "type": "kernelReady"
   },
   {
    "code": "cd ../",
    "id": "026dbb2260ac4c0b8cae7756cb8b2460",
    "order_count": 0,
    "time": "2020-06-30T09:07:15.583Z",
    "type": "runCodeCell"
   },
   {
    "id": "026dbb2260ac4c0b8cae7756cb8b2460",
    "isPrintDataFrame": false,
    "time": "2020-06-30T09:07:15.607Z",
    "type": "completion"
   },
   {
    "time": "2020-06-30T09:07:48.559Z",
    "type": "kernelReady"
   },
   {
    "code": "This dataset contains a total of 1295 records of American colleges and their properties, collected by the [US Department of Education](https://collegescorecard.ed.gov/data/documentation/).",
    "id": "715733458deb4af386e4fe9237911fbf",
    "order_count": null,
    "time": "2020-06-30T09:07:52.640Z",
    "type": "deleteCodeCell"
   },
   {
    "code": "From the Category tab, we see that there is very few records for Predominant Degree as Certificate. In addition, there are not a lot of colleges with a Private For-Profit funding model.",
    "id": "2c7dd84d0aa847e6b47562c038b4e09a",
    "order_count": null,
    "time": "2020-06-30T09:07:55.339Z",
    "type": "deleteCodeCell"
   },
   {
    "code": "df[df[\"PredominantDegree\"]==\"Certificate\"].toPandas()",
    "id": "e02fab240aa84e2d8dd9f2d1c89dd734",
    "order_count": null,
    "time": "2020-06-30T09:07:55.506Z",
    "type": "deleteCodeCell"
   },
   {
    "code": "There is only a single record for Certificate, we look at the [webpage for programs offered at Cleveland State Community College](http://catalog.clevelandstatecc.edu/content.php?catoid=2&navoid=90) and it looks like there is a large number of associate as well as certificate degrees offered. So we decide that this is more appropriately labelled as \"Associate\" for the `PredominantDegree` field.",
    "id": "57b32d94f2fb460296e5e0ec131b777a",
    "order_count": null,
    "time": "2020-06-30T09:07:55.673Z",
    "type": "deleteCodeCell"
   },
   {
    "code": "df.loc[df[\"PredominantDegree\"]==\"Certificate\",\"PredominantDegree\"] = \"Associate\"",
    "id": "c17147b63a55401ead98421c493078ce",
    "order_count": null,
    "time": "2020-06-30T09:07:55.841Z",
    "type": "deleteCodeCell"
   },
   {
    "code": "Taking a look at the subset of 9 colleges that are Private For-Profit, there isn't really any commonalities across them, so we can just leave the data as is for now.",
    "id": "e772acaf4daa42e78965a83361b8986c",
    "order_count": null,
    "time": "2020-06-30T09:07:56.007Z",
    "type": "deleteCodeCell"
   },
   {
    "code": "df[df[\"FundingModel\"]==\"Private For-Profit\"]",
    "id": "e6c2563f1e3945198fae9782dd9a0012",
    "order_count": null,
    "time": "2020-06-30T09:07:56.175Z",
    "type": "deleteCodeCell"
   },
   {
    "code": "Back to looking at the entire dataset:",
    "id": "65ace18a389e447384a89505929fedec",
    "order_count": null,
    "time": "2020-06-30T09:07:56.342Z",
    "type": "deleteCodeCell"
   },
   {
    "code": "df",
    "id": "b1ae8d408e8846168f718786607c11d9",
    "order_count": null,
    "time": "2020-06-30T09:07:56.510Z",
    "type": "deleteCodeCell"
   },
   {
    "code": "You are interested in picking a college to attend and want to understand the `AverageCost` of attending different colleges and how that relates to other information in the dataset.",
    "id": "15e41d06dcdf4abfa73b50a7248e936c",
    "order_count": null,
    "time": "2020-06-30T09:07:56.676Z",
    "type": "deleteCodeCell"
   },
   {
    "code": "df.setContext([\"AverageCost\"])",
    "id": "1f615939664c4907803d1fb0a02cbca0",
    "order_count": null,
    "time": "2020-06-30T09:07:56.847Z",
    "type": "deleteCodeCell"
   },
   {
    "code": "df",
    "id": "b5594ceb360d4edc844c5f42027c84cc",
    "order_count": null,
    "time": "2020-06-30T09:07:57.015Z",
    "type": "deleteCodeCell"
   },
   {
    "code": "We see that there are a large number of collegs that cost around 20000 per year. We also see that Bachelor degree colleges and colleges in New England and large cities tend to have a higher `AverageCost` than its counterparts.",
    "id": "77395028a72440fda8d36c2bba0564c0",
    "order_count": null,
    "time": "2020-06-30T09:07:57.183Z",
    "type": "deleteCodeCell"
   },
   {
    "code": "We are interested in the trend of `AverageCost` v.s. `SATAverage` since there is a rough upwards relationship above `AverageCost` of $30000, but below that the trend is less clear.",
    "id": "c57e82d79337462b8f37168b37265377",
    "order_count": null,
    "time": "2020-06-30T09:07:57.349Z",
    "type": "deleteCodeCell"
   },
   {
    "code": "df.setContext([\"AverageCost\",\"SATAverage\"])",
    "id": "108dc90e5bb74c1ca180308261b254ea",
    "order_count": null,
    "time": "2020-06-30T09:07:57.909Z",
    "type": "deleteCodeCell"
   },
   {
    "code": "df",
    "id": "78f3b11873b743a285f8246553115b67",
    "order_count": null,
    "time": "2020-06-30T09:07:58.262Z",
    "type": "deleteCodeCell"
   },
   {
    "code": "By adding the `FundingModel`, we see that the cluster of points on the left can clearly be attributed to public colleges, whereas private colleges more or less follow a trend that shows that colleges with higher `SATAverage` tends to have higher `AverageCost`.",
    "id": "414e799d63ea40b88d1a4ff485ae6877",
    "order_count": null,
    "time": "2020-06-30T09:07:58.687Z",
    "type": "deleteCodeCell"
   },
   {
    "code": "",
    "id": "9fdbc6bbf1b442d5967e67bc8771d5fa",
    "order_count": null,
    "time": "2020-06-30T09:07:59.205Z",
    "type": "deleteCodeCell"
   },
   {
    "code": "df = df.drop(columns=[\"ACTMedian\"])\ndf",
    "id": "e3f6b7e44a7a46c399b29f1e6d48fc4b",
    "order_count": null,
    "time": "2020-06-30T09:07:59.782Z",
    "type": "deleteCodeCell"
   },
   {
    "code": "We see that the information about ACTMedian and SATAverage has a very strong correlation. This means that we could probably just keep one of the columns and still get about the same information. So let's drop the ACTMedian column.",
    "id": "6992cd53cd49417d926e5803512840cb",
    "order_count": null,
    "time": "2020-06-30T09:08:00.693Z",
    "type": "deleteCodeCell"
   }
  ],
  "kernelspec": {
   "display_name": "Python 3",
   "language": "python",
   "name": "python3"
  },
  "language_info": {
   "codemirror_mode": {
    "name": "ipython",
    "version": 3
   },
   "file_extension": ".py",
   "mimetype": "text/x-python",
   "name": "python",
   "nbconvert_exporter": "python",
   "pygments_lexer": "ipython3",
   "version": "3.7.7"
  }
 },
 "nbformat": 4,
 "nbformat_minor": 4
}
