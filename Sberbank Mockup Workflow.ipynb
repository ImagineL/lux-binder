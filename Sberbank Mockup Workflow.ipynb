{
 "cells": [
  {
   "cell_type": "code",
   "execution_count": null,
   "metadata": {},
   "outputs": [],
   "source": [
    "import lux\n",
    "import pandas as pd\n",
    "import numpy as np\n",
    "import matplotlib.pyplot as plt\n",
    "import seaborn as sns                               "
   ]
  },
  {
   "cell_type": "markdown",
   "metadata": {},
   "source": [
    "Data downloaded from: https://www.kaggle.com/c/sberbank-russian-housing-market/data\n",
    "\n",
    "Notebook based on: https://github.com/codrut3/Kaggle-notebooks/blob/54373d10aeacc7df6812098aa515fe9a03d30977/Sberbank%20Exploratory%20Data%20Analysis.ipynb"
   ]
  },
  {
   "cell_type": "code",
   "execution_count": null,
   "metadata": {},
   "outputs": [],
   "source": [
    "train = pd.read_csv(\"./data/sberbank-russian-housing-market/train.csv\")"
   ]
  },
  {
   "cell_type": "code",
   "execution_count": null,
   "metadata": {},
   "outputs": [],
   "source": [
    "# Simplified In [6] in original notebook\n",
    "initial_columns1 = train.columns.tolist()\n",
    "\n",
    "train.set_index('id', inplace=True)\n",
    "train.reset_index(inplace=True)\n",
    "train.reset_index(inplace=True)\n",
    "# train = train[initial_columns1]\n",
    "\n",
    "#just work with a subset of columns for now (due to scalability issue)\n",
    "train = train[['id','index','timestamp', 'full_sq', 'kitch_sq','life_sq', 'floor', 'max_floor',\n",
    "       'material', 'build_year', 'num_room','price_doc','product_type']]\n",
    "train = train.dropna() # hack to make sure Filter works\n"
   ]
  },
  {
   "cell_type": "code",
   "execution_count": null,
   "metadata": {
    "scrolled": true
   },
   "outputs": [],
   "source": [
    "# Context: Explicitly specified by user\n",
    "train.setContext([lux.Spec(attribute=\"price_doc\",weight=1,binSize=50), lux.Spec(attribute=\"index\")])"
   ]
  },
  {
   "cell_type": "code",
   "execution_count": null,
   "metadata": {},
   "outputs": [],
   "source": [
    "# In[8] in original notebook\n",
    "plt.figure(figsize=(8,6))\n",
    "plt.scatter(range(train.shape[0]), np.sort(train.price_doc.values))\n",
    "plt.xlabel('index', fontsize=12)\n",
    "plt.ylabel('price', fontsize=12)\n",
    "plt.show()"
   ]
  },
  {
   "cell_type": "code",
   "execution_count": null,
   "metadata": {},
   "outputs": [],
   "source": [
    "# Context: Explicitly specified by user\n",
    "train.setContext([lux.Spec(attribute=\"price_doc\",weight=1)])\n",
    "train"
   ]
  },
  {
   "cell_type": "code",
   "execution_count": null,
   "metadata": {},
   "outputs": [],
   "source": [
    "# Context: Explicitly specified by user\n",
    "train.setContext([lux.Spec(attribute=\"price_doc\",weight=1,binSize=50)])"
   ]
  },
  {
   "cell_type": "code",
   "execution_count": null,
   "metadata": {},
   "outputs": [],
   "source": [
    "# In [14] in original notebook\n",
    "train.loc[train.build_year == 4965, 'build_year'] = 1965\n",
    "train.loc[train.build_year == 20052009, 'build_year'] = 2007\n",
    "train.loc[train.build_year == 215, 'build_year'] = 2015\n",
    "train.loc[train.build_year == 71, 'build_year'] = 1971\n",
    "train.loc[train.build_year == 1691, 'build_year'] = 1961\n"
   ]
  },
  {
   "cell_type": "code",
   "execution_count": null,
   "metadata": {},
   "outputs": [],
   "source": [
    "# Context: Implicitly inferred based on In [14]\n",
    "train.setContext([lux.Spec(attribute=\"price_doc\",weight=1,binSize=50),\n",
    "                  lux.Spec(attribute=\"build_year\",weight=0.5)])\n",
    "train"
   ]
  },
  {
   "cell_type": "code",
   "execution_count": null,
   "metadata": {},
   "outputs": [],
   "source": [
    "# In[15] in original notebook\n",
    "train[train.kitch_sq >= 1000]\n",
    "# In [16] in original notebook\n",
    "# train.loc[train.id == 13120, 'build_year'] = train.loc[train.id == 13120, 'kitch_sq']\n",
    "train.loc[train.kitch_sq >= 1000, 'kitch_sq'] = np.NaN"
   ]
  },
  {
   "cell_type": "code",
   "execution_count": null,
   "metadata": {},
   "outputs": [],
   "source": [
    "# Context: Implicitly inferred based on In [15]\n",
    "train.setContext([lux.Spec(attribute=\"price_doc\",weight=1,binSize=50),\n",
    "                  lux.Spec(attribute=\"kitch_sq\",weight=0.4),\n",
    "                  lux.Spec(attribute=\"build_year\",weight=0.5)])"
   ]
  },
  {
   "cell_type": "code",
   "execution_count": null,
   "metadata": {},
   "outputs": [],
   "source": [
    "# In [17] in original notebook\n",
    "plt.hist(train.build_year, bins=50, range=(1900, 2018))\n",
    "plt.xlabel('xlabel')\n",
    "plt.ylabel('count')\n",
    "plt.show()"
   ]
  },
  {
   "cell_type": "code",
   "execution_count": null,
   "metadata": {},
   "outputs": [],
   "source": [
    "# Context: Explicitly specified by user, e.g. increasing weight of build_year and decreasing weights for the rest\n",
    "train.setContext([lux.Spec(attribute=\"price_doc\",weight=0.2),\n",
    "                  lux.Spec(attribute=\"kitch_sq\",weight=0.4),\n",
    "                  lux.Spec(attribute=\"build_year\",weight=1,binSize=50)])"
   ]
  },
  {
   "cell_type": "code",
   "execution_count": null,
   "metadata": {},
   "outputs": [],
   "source": [
    "# In [18] in original notebook\n",
    "train[train.life_sq >= 300]\n",
    "# In [20] in original notebook\n",
    "pos = (train.life_sq >= 100.0) & (train.life_sq > train.full_sq) & (train.id != 22788)\n",
    "train.loc[pos, 'life_sq'] = train.loc[pos, 'life_sq']/10.0\n",
    "train.loc[train.id == 13549, 'life_sq'] = 74.78 # fix special entry\n",
    "# In [21] in original notebook\n",
    "train.loc[train.full_sq == 5326, 'full_sq'] /= 100.0\n",
    "\n",
    "pos = (train.full_sq >= 250.0) & (train.full_sq >= train.life_sq * 10)\n",
    "train.loc[pos, 'full_sq'] = train.loc[pos, 'full_sq'] / 10.0\n",
    "pos = (train.full_sq >= 250.0) & (train.full_sq >= train.life_sq) & (train.id != 18528)\n",
    "train.loc[pos, 'full_sq'] /= 10.0\n",
    "train.loc[pos, 'life_sq'] /= 10.0"
   ]
  },
  {
   "cell_type": "code",
   "execution_count": null,
   "metadata": {},
   "outputs": [],
   "source": [
    "# Context: Implicitly inferred full_sq and life_sq\n",
    "train.setContext([lux.Spec(attribute=\"price_doc\",weight=1), \n",
    "                  lux.Spec(attribute=\"kitch_sq\",weight=0.2),\n",
    "                 lux.Spec(attribute='full_sq',weight=0.7),\n",
    "                 lux.Spec(attribute='life_sq',weight=0.7)])"
   ]
  },
  {
   "cell_type": "code",
   "execution_count": null,
   "metadata": {},
   "outputs": [],
   "source": [
    "# In [22] in original notebook\n",
    "fig, (ax1, ax2) = plt.subplots(1, 2, sharey=True, figsize=(16, 6))\n",
    "ax1 = sns.regplot(train.full_sq, train.price_doc, ax = ax1)\n",
    "ax1.set_ylabel('Price')\n",
    "ax1.set_xlabel('Total Sq-meters')\n",
    "ax1.set_title('Relation of price to total squares')\n",
    "ax2 = sns.regplot(train.life_sq, train.price_doc, ax = ax2)\n",
    "ax2.set_xlabel('Living Sq-meters')\n",
    "ax2.set_ylabel('Price')\n",
    "ax2.set_title('Relation of price to living squares')\n",
    "plt.show()"
   ]
  },
  {
   "cell_type": "code",
   "execution_count": null,
   "metadata": {
    "scrolled": true
   },
   "outputs": [],
   "source": [
    "# In [22] in original notebook\n",
    "print('Minimum number of living rooms:', train.num_room.min())\n",
    "print('Maximum number of living rooms:', train.num_room.max())"
   ]
  },
  {
   "cell_type": "code",
   "execution_count": null,
   "metadata": {},
   "outputs": [],
   "source": [
    "# In [25-29] in original notebook, various inspect + replace based on num_room\n",
    "train[train.num_room == 19]\n",
    "\n",
    "train.loc[train.id == 11624, 'num_room'] = 1.0\n",
    "\n",
    "train[train.num_room >= 15]\n",
    "\n",
    "train.loc[train.id == 26716, 'num_room'] = 2.0\n",
    "\n",
    "# train.ix[[17764, 29172]]\n",
    "# train.ix[[17764, 29172], \"num_room\"] = np.NaN"
   ]
  },
  {
   "cell_type": "code",
   "execution_count": null,
   "metadata": {},
   "outputs": [],
   "source": [
    "# Context: Implicitly inferred num_room\n",
    "train.setContext([lux.Spec(attribute=\"num_room\",weight=0.4), \n",
    "                 lux.Spec(attribute=\"price_doc\",weight=1), \n",
    "                 lux.Spec(attribute=\"kitch_sq\",weight=0.2),\n",
    "                 lux.Spec(attribute='full_sq',weight=0.7),\n",
    "                 lux.Spec(attribute='life_sq',weight=0.7)])"
   ]
  },
  {
   "cell_type": "code",
   "execution_count": null,
   "metadata": {},
   "outputs": [],
   "source": [
    "# In[30] in original notebook\n",
    "plt.hist(train.num_room, bins = 15, range=(0,15), histtype='bar')\n",
    "plt.xlabel('Rooms')\n",
    "plt.ylabel('Flats')\n",
    "plt.show()"
   ]
  },
  {
   "cell_type": "code",
   "execution_count": null,
   "metadata": {},
   "outputs": [],
   "source": [
    "# Context: Explicitly specify num_room\n",
    "train.setContext([lux.Spec(attribute=\"num_room\",weight=1), \n",
    "                 lux.Spec(attribute=\"price_doc\",weight=0.8), \n",
    "                 lux.Spec(attribute=\"kitch_sq\",weight=0.2),\n",
    "                 lux.Spec(attribute='full_sq',weight=0.7),\n",
    "                 lux.Spec(attribute='life_sq',weight=0.7)])"
   ]
  },
  {
   "cell_type": "code",
   "execution_count": null,
   "metadata": {},
   "outputs": [],
   "source": [
    "train.product_type.unique()"
   ]
  },
  {
   "cell_type": "code",
   "execution_count": null,
   "metadata": {},
   "outputs": [],
   "source": [
    "# Context: Implicitly infer num_room\n",
    "train.setContext([lux.Spec(attribute=\"num_room\",weight=1),\n",
    "                 lux.Spec(attribute=\"product_type\",weight=0.8),\n",
    "                 lux.Spec(attribute=\"price_doc\",weight=0.8), \n",
    "                 lux.Spec(attribute=\"kitch_sq\",weight=0.2),\n",
    "                 lux.Spec(attribute='full_sq',weight=0.7),\n",
    "                 lux.Spec(attribute='life_sq',weight=0.7)])"
   ]
  },
  {
   "cell_type": "code",
   "execution_count": null,
   "metadata": {},
   "outputs": [],
   "source": [
    "fig, (ax1, ax2) = plt.subplots(1, 2, sharey=True)\n",
    "sns.kdeplot(train[train.product_type == 'Investment'].price_doc, ax = ax1)\n",
    "sns.kdeplot(train[train.product_type == 'OwnerOccupier'].price_doc, ax = ax2)\n",
    "ax1.set_title('Investment')\n",
    "ax2.set_title('OwnerOccupier')\n",
    "plt.show()"
   ]
  },
  {
   "cell_type": "code",
   "execution_count": null,
   "metadata": {},
   "outputs": [],
   "source": [
    "# Context: Implicitly infer num_room\n",
    "train.setContext([lux.Spec(attribute=\"num_room\",weight=0.8),\n",
    "                 lux.Spec(attribute=\"product_type\",weight=1),\n",
    "                 lux.Spec(attribute=\"price_doc\",weight=0.8), \n",
    "                 lux.Spec(attribute=\"kitch_sq\",weight=0.2),\n",
    "                 lux.Spec(attribute='full_sq',weight=0.7),\n",
    "                 lux.Spec(attribute='life_sq',weight=0.7)])"
   ]
  },
  {
   "cell_type": "code",
   "execution_count": null,
   "metadata": {},
   "outputs": [],
   "source": []
  }
 ],
 "metadata": {
  "kernelspec": {
   "display_name": "Python 3",
   "language": "python",
   "name": "python3"
  },
  "language_info": {
   "codemirror_mode": {
    "name": "ipython",
    "version": 3
   },
   "file_extension": ".py",
   "mimetype": "text/x-python",
   "name": "python",
   "nbconvert_exporter": "python",
   "pygments_lexer": "ipython3",
   "version": "3.7.5"
  }
 },
 "nbformat": 4,
 "nbformat_minor": 2
}