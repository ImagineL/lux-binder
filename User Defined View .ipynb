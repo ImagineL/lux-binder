{
 "cells": [
  {
   "cell_type": "code",
   "execution_count": 1,
   "metadata": {},
   "outputs": [
    {
     "name": "stdout",
     "output_type": "stream",
     "text": [
      "/Users/dorislee/Desktop/Research/lux/lux\n"
     ]
    }
   ],
   "source": [
    "cd .."
   ]
  },
  {
   "cell_type": "code",
   "execution_count": 2,
   "metadata": {},
   "outputs": [],
   "source": [
    "import pandas as pd\n",
    "import lux\n",
    "\n",
    "df = pd.read_csv(\"lux/data/olympic.csv\")\n",
    "df[\"Year\"] = pd.to_datetime(df[\"Year\"], format='%Y') # change pandas dtype for the column \"Year\" to datetype"
   ]
  },
  {
   "cell_type": "markdown",
   "metadata": {},
   "source": [
    "# Specifying Views"
   ]
  },
  {
   "cell_type": "markdown",
   "metadata": {},
   "source": [
    "View objects represents individual visualizations displayed in Lux. Lists of views are stored as ViewCollection objects. Views can either be automatically generated in Lux or defined by the user.\n"
   ]
  },
  {
   "cell_type": "code",
   "execution_count": 3,
   "metadata": {},
   "outputs": [],
   "source": [
    "from lux.view.View import View\n",
    "query = [\"Weight\"]\n",
    "view = View(query)"
   ]
  },
  {
   "cell_type": "markdown",
   "metadata": {},
   "source": [
    "To render the visualization, we need to attach the view to data via the `load` function."
   ]
  },
  {
   "cell_type": "code",
   "execution_count": 4,
   "metadata": {},
   "outputs": [
    {
     "data": {
      "application/vnd.jupyter.widget-view+json": {
       "model_id": "bb227b69f5164cfcabc3675daab01f60",
       "version_major": 2,
       "version_minor": 0
      },
      "text/plain": [
       "LuxWidget(current_view={'config': {'view': {'continuousWidth': 400, 'continuousHeight': 300}}, 'data': {'name'…"
      ]
     },
     "metadata": {},
     "output_type": "display_data"
    },
    {
     "data": {
      "text/plain": [
       "<View  (x: BIN(Weight), y: COUNT(Record)) mark: histogram, score: 0.0 >"
      ]
     },
     "execution_count": 4,
     "metadata": {},
     "output_type": "execute_result"
    }
   ],
   "source": [
    "view = view.load(df)\n",
    "view"
   ]
  },
  {
   "cell_type": "markdown",
   "metadata": {},
   "source": [
    "The decoupling of the view and its associated data is useful for making quick comparisons. \n",
    "We can very easily swap out the view's data without changing the view definition, which is useful for comparing differences across different datasets with the same schema. For example, we might be interested in the same Weight distribution but plotted only on the subset of data with female athletes."
   ]
  },
  {
   "cell_type": "code",
   "execution_count": 5,
   "metadata": {},
   "outputs": [
    {
     "data": {
      "application/vnd.jupyter.widget-view+json": {
       "model_id": "84798ace285345f29163afeeee4dfde4",
       "version_major": 2,
       "version_minor": 0
      },
      "text/plain": [
       "LuxWidget(current_view={'config': {'view': {'continuousWidth': 400, 'continuousHeight': 300}}, 'data': {'name'…"
      ]
     },
     "metadata": {},
     "output_type": "display_data"
    },
    {
     "data": {
      "text/plain": [
       "<View  (x: BIN(Weight), y: COUNT(Record)) mark: histogram, score: 0.0 >"
      ]
     },
     "execution_count": 5,
     "metadata": {},
     "output_type": "execute_result"
    }
   ],
   "source": [
    "fdf = df[df[\"Sex\"]=='F']\n",
    "view = view.load(fdf)\n",
    "view"
   ]
  },
  {
   "cell_type": "markdown",
   "metadata": {},
   "source": [
    "# Specifying View Collections"
   ]
  },
  {
   "cell_type": "markdown",
   "metadata": {},
   "source": [
    "There are two different ways to specify view collections in Lux: 1) via Query or 2) via manual View construction.\n",
    "\n",
    "First, we see an example of a view collection created in a similiar procedure as views through the Query syntax. Here, we create a view collection of `Weight` with respect to all other attributes."
   ]
  },
  {
   "cell_type": "markdown",
   "metadata": {},
   "source": [
    "Using the Query syntax, we can make use of wildcards:"
   ]
  },
  {
   "cell_type": "code",
   "execution_count": 6,
   "metadata": {},
   "outputs": [
    {
     "data": {
      "application/vnd.jupyter.widget-view+json": {
       "model_id": "cbe6845efcaa441c9c23ffd31f38480a",
       "version_major": 2,
       "version_minor": 0
      },
      "text/plain": [
       "LuxWidget(recommendations=[{'action': 'View Collection', 'description': 'Shows a view collection defined by th…"
      ]
     },
     "metadata": {},
     "output_type": "display_data"
    },
    {
     "data": {
      "text/plain": [
       "[<View  (x: MEAN(Weight), y: HostCity      ) mark: bar    , score: 0.00 >,\n",
       " <View  (x: MEAN(Weight), y: MedalType     ) mark: bar    , score: 0.00 >,\n",
       " <View  (x: MEAN(Weight), y: HostRegion    ) mark: bar    , score: 0.00 >,\n",
       " <View  (x: MEAN(Weight), y: SportType     ) mark: bar    , score: 0.00 >,\n",
       " <View  (x: MEAN(Weight), y: AthleteCountry) mark: bar    , score: 0.00 >,\n",
       " <View  (x: MEAN(Weight), y: Sport         ) mark: bar    , score: 0.00 >,\n",
       " <View  (x: Weight      , y: Height        ) mark: scatter, score: 0.00 >,\n",
       " <View  (x: Weight      , y: Age           ) mark: scatter, score: 0.00 >,\n",
       " <View  (x: MEAN(Weight), y: AthleteRegion ) mark: bar    , score: 0.00 >,\n",
       " <View  (x: MEAN(Weight), y: Season        ) mark: bar    , score: 0.00 >,\n",
       " <View  (x: Year        , y: MEAN(Weight)  ) mark: line   , score: 0.00 >,\n",
       " <View  (x: MEAN(Weight), y: Sex           ) mark: bar    , score: 0.00 >]"
      ]
     },
     "execution_count": 6,
     "metadata": {},
     "output_type": "execute_result"
    }
   ],
   "source": [
    "from lux.view.ViewCollection import ViewCollection\n",
    "vc = ViewCollection([\"Weight\",\"?\"])\n",
    "vc = vc.load(df)\n",
    "vc"
   ]
  },
  {
   "cell_type": "markdown",
   "metadata": {},
   "source": [
    "Or specify desired attributes via a list: "
   ]
  },
  {
   "cell_type": "code",
   "execution_count": 7,
   "metadata": {
    "scrolled": false
   },
   "outputs": [
    {
     "data": {
      "application/vnd.jupyter.widget-view+json": {
       "model_id": "c3096e48f5db4ad09ece5ba3662d91ce",
       "version_major": 2,
       "version_minor": 0
      },
      "text/plain": [
       "LuxWidget(recommendations=[{'action': 'View Collection', 'description': 'Shows a view collection defined by th…"
      ]
     },
     "metadata": {},
     "output_type": "display_data"
    },
    {
     "data": {
      "text/plain": [
       "[<View  (x: MEAN(Weight), y: Sport       ) mark: bar    , score: 0.00 >,\n",
       " <View  (x: Year        , y: MEAN(Weight)) mark: line   , score: 0.00 >,\n",
       " <View  (x: Weight      , y: Height      ) mark: scatter, score: 0.00 >,\n",
       " <View  (x: MEAN(Weight), y: HostRegion  ) mark: bar    , score: 0.00 >,\n",
       " <View  (x: MEAN(Weight), y: SportType   ) mark: bar    , score: 0.00 >]"
      ]
     },
     "execution_count": 7,
     "metadata": {},
     "output_type": "execute_result"
    }
   ],
   "source": [
    "vc = ViewCollection([\"Weight\",['Sport','Year','Height','HostRegion','SportType']])\n",
    "vc = vc.load(df)\n",
    "vc"
   ]
  },
  {
   "cell_type": "markdown",
   "metadata": {},
   "source": [
    "Alternatively, view collections can be manually constructed by individually specifying the content of each view."
   ]
  },
  {
   "cell_type": "code",
   "execution_count": 8,
   "metadata": {},
   "outputs": [],
   "source": [
    "from lux.view.ViewCollection import ViewCollection\n",
    "\n",
    "vcLst = []\n",
    "for attribute in ['Sport','Year','Height','HostRegion','SportType']: \n",
    "    view = View([lux.Spec(\"Weight\"), lux.Spec(attribute)])\n",
    "    vcLst.append(view)\n",
    "vc = ViewCollection(vcLst)"
   ]
  },
  {
   "cell_type": "code",
   "execution_count": 9,
   "metadata": {},
   "outputs": [],
   "source": [
    "vc = vc.load(df)"
   ]
  },
  {
   "cell_type": "code",
   "execution_count": 10,
   "metadata": {},
   "outputs": [
    {
     "data": {
      "application/vnd.jupyter.widget-view+json": {
       "model_id": "ab02ffa094414986a27be0290fe601c0",
       "version_major": 2,
       "version_minor": 0
      },
      "text/plain": [
       "LuxWidget(recommendations=[{'action': 'View Collection', 'description': 'Shows a view collection defined by th…"
      ]
     },
     "metadata": {},
     "output_type": "display_data"
    },
    {
     "data": {
      "text/plain": [
       "[<View  (x: MEAN(Weight), y: Sport       ) mark: bar    , score: 0.00 >,\n",
       " <View  (x: Year        , y: MEAN(Weight)) mark: line   , score: 0.00 >,\n",
       " <View  (x: Weight      , y: Height      ) mark: scatter, score: 0.00 >,\n",
       " <View  (x: MEAN(Weight), y: HostRegion  ) mark: bar    , score: 0.00 >,\n",
       " <View  (x: MEAN(Weight), y: SportType   ) mark: bar    , score: 0.00 >]"
      ]
     },
     "execution_count": 10,
     "metadata": {},
     "output_type": "execute_result"
    }
   ],
   "source": [
    "vc"
   ]
  }
 ],
 "metadata": {
  "kernelspec": {
   "display_name": "Python 3",
   "language": "python",
   "name": "python3"
  },
  "language_info": {
   "codemirror_mode": {
    "name": "ipython",
    "version": 3
   },
   "file_extension": ".py",
   "mimetype": "text/x-python",
   "name": "python",
   "nbconvert_exporter": "python",
   "pygments_lexer": "ipython3",
   "version": "3.7.7"
  }
 },
 "nbformat": 4,
 "nbformat_minor": 4
}
