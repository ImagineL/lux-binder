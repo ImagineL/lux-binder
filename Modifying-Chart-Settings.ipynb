{
 "cells": [
  {
   "cell_type": "code",
   "execution_count": null,
   "metadata": {},
   "outputs": [],
   "source": [
    "cd .."
   ]
  },
  {
   "cell_type": "code",
   "execution_count": null,
   "metadata": {},
   "outputs": [],
   "source": [
    "import pandas as pd\n",
    "import lux"
   ]
  },
  {
   "cell_type": "markdown",
   "metadata": {},
   "source": [
    "In Lux, we can change the chart aesthetics by inputting custom plot settings to `setPlotConfig`."
   ]
  },
  {
   "cell_type": "markdown",
   "metadata": {},
   "source": [
    "### Example #1 : Changing Color and Title of all charts"
   ]
  },
  {
   "cell_type": "code",
   "execution_count": null,
   "metadata": {
    "scrolled": true
   },
   "outputs": [],
   "source": [
    "df = pd.read_csv(\"lux/data/car.csv\")\n",
    "df[\"Year\"] = pd.to_datetime(df[\"Year\"], format='%Y') # change pandas dtype for the column \"Year\" to datetype\n",
    "df.head().toPandas()"
   ]
  },
  {
   "cell_type": "markdown",
   "metadata": {},
   "source": [
    "Here, we load in the Cars dataset as usual and the visualizations are in its default settings."
   ]
  },
  {
   "cell_type": "code",
   "execution_count": null,
   "metadata": {},
   "outputs": [],
   "source": [
    "df"
   ]
  },
  {
   "cell_type": "markdown",
   "metadata": {},
   "source": [
    "Let's say that we wanted to change all the marks of the charts to green and add a custom title."
   ]
  },
  {
   "cell_type": "code",
   "execution_count": null,
   "metadata": {},
   "outputs": [],
   "source": [
    "def changeColorAddTitle(chart):\n",
    "    chart = chart.configure_mark(color=\"green\") # change mark color to green\n",
    "    chart.title = \"Custom Title\" # add title to chart\n",
    "    return chart"
   ]
  },
  {
   "cell_type": "markdown",
   "metadata": {},
   "source": [
    "We input this function, which takes an AltairChart as input and output and performs some chart modifications."
   ]
  },
  {
   "cell_type": "code",
   "execution_count": null,
   "metadata": {},
   "outputs": [],
   "source": [
    "df.setPlotConfig(changeColorAddTitle)"
   ]
  },
  {
   "cell_type": "markdown",
   "metadata": {},
   "source": [
    "We now see that the displayed visualizations adopts these new imported settings."
   ]
  },
  {
   "cell_type": "code",
   "execution_count": null,
   "metadata": {},
   "outputs": [],
   "source": [
    "df"
   ]
  },
  {
   "cell_type": "markdown",
   "metadata": {},
   "source": [
    "Click on the visualization for `Displacement` v.s. `Weight` and export it. \n",
    "\n",
    "We see that the exported chart now contain code with these additional plot settings."
   ]
  },
  {
   "cell_type": "code",
   "execution_count": null,
   "metadata": {},
   "outputs": [],
   "source": [
    "view = df.getExported()[0]\n",
    "print (view.toAltair())"
   ]
  },
  {
   "cell_type": "code",
   "execution_count": null,
   "metadata": {},
   "outputs": [],
   "source": [
    "import altair as alt\n",
    "\n",
    "chart = alt.Chart(df).mark_circle().encode(\n",
    "    x=alt.X('Displacement',scale=alt.Scale(domain=(68.0, 455.0)),type='quantitative'),\n",
    "    y=alt.Y('Weight',scale=alt.Scale(domain=(1613, 5140)),type='quantitative')\n",
    ")\n",
    "chart = chart.configure_mark(tooltip=alt.TooltipContent('encoding')) # Setting tooltip as non-null\n",
    "chart = chart.interactive() # Enable Zooming and Panning\n",
    "chart = chart.configure_mark(color=\"green\") # change mark color to green\n",
    "chart.title = \"Custom Title\" # add title to chart\n",
    "chart"
   ]
  },
  {
   "cell_type": "markdown",
   "metadata": {},
   "source": [
    "### Example #2: Changing Selected Chart Setting"
   ]
  },
  {
   "cell_type": "markdown",
   "metadata": {},
   "source": [
    "We load in the olympic dataset and see that the recommended visualization is cluttered with many datapoints."
   ]
  },
  {
   "cell_type": "code",
   "execution_count": null,
   "metadata": {},
   "outputs": [],
   "source": [
    "df = pd.read_csv(\"lux/data/olympic.csv\")\n",
    "df[\"Year\"] = pd.to_datetime(df[\"Year\"], format='%Y') # change pandas dtype for the column \"Year\" to datetype\n",
    "df"
   ]
  },
  {
   "cell_type": "markdown",
   "metadata": {},
   "source": [
    "We want to decrease the opacity of scatterplots, but keep the opacity for the other types of visualization as default."
   ]
  },
  {
   "cell_type": "code",
   "execution_count": null,
   "metadata": {},
   "outputs": [],
   "source": [
    "def changeOpacityScatterOnly(chart):\n",
    "    if chart.mark=='circle':\n",
    "        chart = chart.configure_mark(opacity=0.1) # lower opacity\n",
    "    return chart"
   ]
  },
  {
   "cell_type": "code",
   "execution_count": null,
   "metadata": {},
   "outputs": [],
   "source": [
    "df.setPlotConfig(changeOpacityScatterOnly)\n",
    "df"
   ]
  },
  {
   "cell_type": "markdown",
   "metadata": {},
   "source": [
    "We are able to modify the scatterplot setting, without changing the settings for the other chart types."
   ]
  }
 ],
 "metadata": {
  "history": [
   {
    "time": "2020-06-29T23:07:53.170Z",
    "type": "kernelReady"
   },
   {
    "code": "cd ..",
    "id": "47ac4edf9ff54b2ab5cc7dccbeebb945",
    "order_count": 0,
    "time": "2020-06-29T23:07:57.267Z",
    "type": "runCodeCell"
   },
   {
    "id": "47ac4edf9ff54b2ab5cc7dccbeebb945",
    "isPrintDataFrame": false,
    "time": "2020-06-29T23:07:57.302Z",
    "type": "completion"
   },
   {
    "code": "import pandas as pd\nimport lux",
    "id": "72ba72bb31bf433e891e3ef73f278acf",
    "order_count": 1,
    "time": "2020-06-29T23:07:57.521Z",
    "type": "runCodeCell"
   },
   {
    "id": "72ba72bb31bf433e891e3ef73f278acf",
    "isPrintDataFrame": false,
    "time": "2020-06-29T23:07:57.885Z",
    "type": "completion"
   },
   {
    "code": "df = pd.read_csv(\"lux/data/car.csv\")\ndf[\"Year\"] = pd.to_datetime(df[\"Year\"], format='%Y') # change pandas dtype for the column \"Year\" to datetype\ndf.head().toPandas()",
    "id": "c3052b5a471945c085d551b6dba8d433",
    "order_count": 4,
    "time": "2020-06-29T23:07:58.290Z",
    "type": "runCodeCell"
   },
   {
    "id": "c3052b5a471945c085d551b6dba8d433",
    "isPrintDataFrame": true,
    "time": "2020-06-29T23:07:58.349Z",
    "type": "completion"
   },
   {
    "code": "df",
    "id": "12501637b722496d8932ba13c2aeb2d8",
    "order_count": 6,
    "time": "2020-06-29T23:07:59.213Z",
    "type": "runCodeCell"
   },
   {
    "id": "12501637b722496d8932ba13c2aeb2d8",
    "isPrintDataFrame": true,
    "time": "2020-06-29T23:08:00.118Z",
    "type": "completion"
   },
   {
    "execution_count": "",
    "param": "",
    "time": "2020-06-29T23:08:02.532Z",
    "type": "initWidget"
   },
   {
    "execution_count": "",
    "param": "",
    "time": "2020-06-29T23:08:02.988Z",
    "type": "initWidget"
   },
   {
    "code": "def changeColorAddTitle(chart):\n    chart = chart.configure_mark(color=\"green\") # change mark color to green\n    chart.title = \"Custom Title\" # add title to chart\n    return chart",
    "id": "fc38013d2b054aabac90e8fed224a41e",
    "order_count": 8,
    "time": "2020-06-29T23:08:06.955Z",
    "type": "runCodeCell"
   },
   {
    "id": "fc38013d2b054aabac90e8fed224a41e",
    "isPrintDataFrame": false,
    "time": "2020-06-29T23:08:06.982Z",
    "type": "completion"
   },
   {
    "code": "df.setPlotConfig(changeColorAddTitle)",
    "id": "818e1eea4c3c422e800fd809e251a0ef",
    "order_count": 10,
    "time": "2020-06-29T23:08:10.538Z",
    "type": "runCodeCell"
   },
   {
    "id": "818e1eea4c3c422e800fd809e251a0ef",
    "isPrintDataFrame": false,
    "time": "2020-06-29T23:08:10.568Z",
    "type": "completion"
   },
   {
    "code": "df",
    "id": "7cad5dc8d8694a2f825d23eb339118e8",
    "order_count": 12,
    "time": "2020-06-29T23:08:12.034Z",
    "type": "runCodeCell"
   },
   {
    "id": "7cad5dc8d8694a2f825d23eb339118e8",
    "isPrintDataFrame": false,
    "time": "2020-06-29T23:08:12.653Z",
    "type": "completion"
   },
   {
    "execution_count": "",
    "param": "",
    "time": "2020-06-29T23:08:12.666Z",
    "type": "initWidget"
   },
   {
    "execution_count": "",
    "param": "",
    "time": "2020-06-29T23:08:12.991Z",
    "type": "initWidget"
   },
   {
    "code": "df.setContext([\"MilesPerGal\"])\ndf",
    "id": "1e504c8267c54d508ff458deb442c811",
    "order_count": 13,
    "time": "2020-06-29T23:09:39.469Z",
    "type": "runCodeCell"
   },
   {
    "id": "1e504c8267c54d508ff458deb442c811",
    "isPrintDataFrame": false,
    "time": "2020-06-29T23:09:40.356Z",
    "type": "completion"
   },
   {
    "execution_count": "",
    "param": "",
    "time": "2020-06-29T23:09:40.371Z",
    "type": "initWidget"
   },
   {
    "execution_count": "",
    "param": "",
    "time": "2020-06-29T23:09:40.638Z",
    "type": "initWidget"
   },
   {
    "code": "df.setContext([\"MilesPerGal\",\"?\"])\ndf",
    "id": "1e504c8267c54d508ff458deb442c811",
    "order_count": 13,
    "time": "2020-06-29T23:09:53.270Z",
    "type": "runCodeCell"
   },
   {
    "id": "1e504c8267c54d508ff458deb442c811",
    "isPrintDataFrame": false,
    "time": "2020-06-29T23:09:53.690Z",
    "type": "completion"
   },
   {
    "execution_count": "",
    "param": "",
    "time": "2020-06-29T23:09:53.706Z",
    "type": "initWidget"
   },
   {
    "execution_count": "",
    "param": "",
    "time": "2020-06-29T23:09:53.796Z",
    "type": "initWidget"
   },
   {
    "code": "df.clearPlotConfig()",
    "id": "d8cadc4e573b47f98cc1095c5092c000",
    "order_count": 13,
    "time": "2020-06-29T23:10:41.404Z",
    "type": "runCodeCell"
   },
   {
    "id": "d8cadc4e573b47f98cc1095c5092c000",
    "isPrintDataFrame": false,
    "time": "2020-06-29T23:10:41.449Z",
    "type": "completion"
   },
   {
    "code": "df.setContext([\"MilesPerGal\",\"?\"])\ndf",
    "id": "1e504c8267c54d508ff458deb442c811",
    "order_count": 14,
    "time": "2020-06-29T23:10:41.967Z",
    "type": "runCodeCell"
   },
   {
    "id": "1e504c8267c54d508ff458deb442c811",
    "isPrintDataFrame": false,
    "time": "2020-06-29T23:10:42.279Z",
    "type": "completion"
   },
   {
    "execution_count": "",
    "param": "",
    "time": "2020-06-29T23:10:42.287Z",
    "type": "initWidget"
   },
   {
    "execution_count": "",
    "param": "",
    "time": "2020-06-29T23:10:42.408Z",
    "type": "initWidget"
   },
   {
    "code": "",
    "id": "db8ff2a66fbf4a448f3163f5c899d048",
    "order_count": null,
    "time": "2020-06-29T23:11:08.229Z",
    "type": "deleteCodeCell"
   },
   {
    "execution_count": "",
    "param": 0,
    "time": "2020-06-29T23:11:08.871Z",
    "type": "clickVis"
   },
   {
    "execution_count": "",
    "param": 2,
    "time": "2020-06-29T23:11:10.761Z",
    "type": "clickVis"
   },
   {
    "execution_count": "",
    "param": 3,
    "time": "2020-06-29T23:11:11.520Z",
    "type": "clickVis"
   },
   {
    "execution_count": "",
    "param": {
     "View Collection": [
      0,
      2,
      3
     ]
    },
    "time": "2020-06-29T23:11:12.482Z",
    "type": "exportBtnClick"
   },
   {
    "code": "viewc = df.getExported()",
    "id": "101856a62f2b484bbc11330047b2f2ed",
    "order_count": 16,
    "time": "2020-06-29T23:11:22.807Z",
    "type": "runCodeCell"
   },
   {
    "id": "101856a62f2b484bbc11330047b2f2ed",
    "isPrintDataFrame": false,
    "time": "2020-06-29T23:11:22.848Z",
    "type": "completion"
   },
   {
    "code": "viewc",
    "id": "1c9dbed44e704a71a350b4a0da4bb902",
    "order_count": 17,
    "time": "2020-06-29T23:11:25.031Z",
    "type": "runCodeCell"
   },
   {
    "id": "1c9dbed44e704a71a350b4a0da4bb902",
    "isPrintDataFrame": false,
    "time": "2020-06-29T23:11:25.132Z",
    "type": "completion"
   },
   {
    "execution_count": "",
    "param": "",
    "time": "2020-06-29T23:11:25.141Z",
    "type": "initWidget"
   },
   {
    "code": "view = df.getExported()[0]\nprint (view.toAltair())",
    "id": "cae4827d461542c9863e6665e69488a2",
    "order_count": 18,
    "time": "2020-06-29T23:11:30.134Z",
    "type": "runCodeCell"
   },
   {
    "id": "cae4827d461542c9863e6665e69488a2",
    "isPrintDataFrame": false,
    "time": "2020-06-29T23:11:30.196Z",
    "type": "completion"
   },
   {
    "code": "view = df.getExported()[0]",
    "id": "27b25881e98a449785c70dc9537f7bdf",
    "order_count": 18,
    "time": "2020-06-29T23:11:41.497Z",
    "type": "runCodeCell"
   },
   {
    "id": "27b25881e98a449785c70dc9537f7bdf",
    "isPrintDataFrame": false,
    "time": "2020-06-29T23:11:41.545Z",
    "type": "completion"
   },
   {
    "code": "df.setContextAsView(view)",
    "id": "a28831cdfc3549419013211034271359",
    "order_count": 19,
    "time": "2020-06-29T23:11:48.174Z",
    "type": "runCodeCell"
   },
   {
    "id": "a28831cdfc3549419013211034271359",
    "isPrintDataFrame": false,
    "time": "2020-06-29T23:11:48.218Z",
    "type": "completion"
   },
   {
    "code": "df",
    "id": "3b13f829b332413da7c897adee37233c",
    "order_count": 20,
    "time": "2020-06-29T23:11:50.588Z",
    "type": "runCodeCell"
   },
   {
    "id": "3b13f829b332413da7c897adee37233c",
    "isPrintDataFrame": false,
    "time": "2020-06-29T23:11:51.507Z",
    "type": "completion"
   },
   {
    "execution_count": "",
    "param": "",
    "time": "2020-06-29T23:11:51.529Z",
    "type": "initWidget"
   },
   {
    "execution_count": "",
    "param": "",
    "time": "2020-06-29T23:11:51.913Z",
    "type": "initWidget"
   },
   {
    "execution_count": "",
    "param": "Filter",
    "time": "2020-06-29T23:12:22.360Z",
    "type": "switchTab"
   },
   {
    "execution_count": "",
    "param": "Generalize",
    "time": "2020-06-29T23:12:23.648Z",
    "type": "switchTab"
   },
   {
    "execution_count": "",
    "param": "Enhance",
    "time": "2020-06-29T23:12:25.441Z",
    "type": "switchTab"
   },
   {
    "time": "2020-06-29T23:23:14.008Z",
    "type": "kernelReady"
   },
   {
    "time": "2020-06-30T00:00:07.576Z",
    "type": "kernelReady"
   },
   {
    "time": "2020-06-30T00:46:47.380Z",
    "type": "kernelReady"
   },
   {
    "time": "2020-06-30T01:07:18.570Z",
    "type": "kernelReady"
   },
   {
    "time": "2020-06-30T04:05:38.331Z",
    "type": "kernelReady"
   },
   {
    "time": "2020-06-30T04:11:11.696Z",
    "type": "kernelReady"
   },
   {
    "time": "2020-06-30T07:29:21.641Z",
    "type": "kernelReady"
   },
   {
    "time": "2020-06-30T08:44:13.919Z",
    "type": "kernelReady"
   },
   {
    "time": "2020-06-30T11:13:42.630Z",
    "type": "kernelReady"
   },
   {
    "time": "2020-06-30T11:40:16.387Z",
    "type": "kernelReady"
   },
   {
    "time": "2020-06-30T11:58:18.278Z",
    "type": "kernelReady"
   },
   {
    "time": "2020-06-30T12:06:44.366Z",
    "type": "kernelReady"
   },
   {
    "time": "2020-06-30T12:09:42.040Z",
    "type": "kernelReady"
   },
   {
    "time": "2020-06-30T13:01:04.882Z",
    "type": "kernelReady"
   },
   {
    "time": "2020-06-30T13:01:11.158Z",
    "type": "kernelReady"
   },
   {
    "time": "2020-06-30T13:01:23.925Z",
    "type": "kernelReady"
   },
   {
    "time": "2020-06-30T13:01:27.839Z",
    "type": "kernelReady"
   },
   {
    "time": "2020-06-30T13:13:17.470Z",
    "type": "kernelReady"
   },
   {
    "time": "2020-06-30T13:34:15.113Z",
    "type": "kernelReady"
   },
   {
    "time": "2020-06-30T16:34:29.947Z",
    "type": "kernelReady"
   },
   {
    "time": "2020-06-30T17:42:17.924Z",
    "type": "kernelReady"
   },
   {
    "time": "2020-06-30T22:38:25.506Z",
    "type": "kernelReady"
   },
   {
    "time": "2020-07-01T00:48:36.706Z",
    "type": "kernelReady"
   },
   {
    "time": "2020-07-01T01:20:23.059Z",
    "type": "kernelReady"
   },
   {
    "time": "2020-07-01T01:41:33.902Z",
    "type": "kernelReady"
   },
   {
    "time": "2020-07-01T03:47:19.701Z",
    "type": "kernelReady"
   },
   {
    "time": "2020-07-01T04:56:11.085Z",
    "type": "kernelReady"
   },
   {
    "time": "2020-07-01T05:10:09.073Z",
    "type": "kernelReady"
   },
   {
    "time": "2020-07-01T05:29:52.717Z",
    "type": "kernelReady"
   },
   {
    "time": "2020-07-01T05:57:00.296Z",
    "type": "kernelReady"
   },
   {
    "time": "2020-07-01T07:12:21.416Z",
    "type": "kernelReady"
   },
   {
    "time": "2020-07-01T07:38:38.926Z",
    "type": "kernelReady"
   },
   {
    "time": "2020-07-01T08:09:58.908Z",
    "type": "kernelReady"
   },
   {
    "execution_count": "",
    "param": "",
    "time": "2020-07-01T08:09:59.703Z",
    "type": "initWidget"
   },
   {
    "code": "cd ..",
    "id": "6037aa6e1d5046ea89c33018b725b1a4",
    "order_count": 0,
    "time": "2020-07-01T08:10:00.117Z",
    "type": "runCodeCell"
   },
   {
    "execution_count": "",
    "param": "",
    "time": "2020-07-01T08:10:00.157Z",
    "type": "initWidget"
   },
   {
    "execution_count": "",
    "param": "",
    "time": "2020-07-01T08:10:00.439Z",
    "type": "initWidget"
   },
   {
    "execution_count": "",
    "param": "",
    "time": "2020-07-01T08:10:00.692Z",
    "type": "initWidget"
   },
   {
    "execution_count": "",
    "param": "",
    "time": "2020-07-01T08:10:00.784Z",
    "type": "initWidget"
   },
   {
    "execution_count": "",
    "param": "",
    "time": "2020-07-01T08:10:00.872Z",
    "type": "initWidget"
   },
   {
    "execution_count": "",
    "param": "",
    "time": "2020-07-01T08:10:01.174Z",
    "type": "initWidget"
   },
   {
    "execution_count": "",
    "param": "",
    "time": "2020-07-01T08:10:01.220Z",
    "type": "initWidget"
   },
   {
    "execution_count": "",
    "param": "",
    "time": "2020-07-01T08:10:01.486Z",
    "type": "initWidget"
   },
   {
    "execution_count": "",
    "param": "",
    "time": "2020-07-01T08:10:01.713Z",
    "type": "initWidget"
   },
   {
    "execution_count": "",
    "param": "",
    "time": "2020-07-01T08:10:01.806Z",
    "type": "initWidget"
   },
   {
    "code": "import pandas as pd\nimport lux",
    "id": "133eff65fc8e4ea09d897eaa57f2816b",
    "order_count": 1,
    "time": "2020-07-01T08:10:02.066Z",
    "type": "runCodeCell"
   },
   {
    "id": "6037aa6e1d5046ea89c33018b725b1a4",
    "isPrintDataFrame": false,
    "time": "2020-07-01T08:10:02.092Z",
    "type": "completion"
   },
   {
    "id": "133eff65fc8e4ea09d897eaa57f2816b",
    "isPrintDataFrame": false,
    "time": "2020-07-01T08:10:02.113Z",
    "type": "completion"
   },
   {
    "code": "df = pd.read_csv(\"lux/data/car.csv\")\ndf[\"Year\"] = pd.to_datetime(df[\"Year\"], format='%Y') # change pandas dtype for the column \"Year\" to datetype\ndf.head().toPandas()",
    "id": "00bfe80935254629866d8a6d6fab910f",
    "order_count": 4,
    "time": "2020-07-01T08:10:03.081Z",
    "type": "runCodeCell"
   },
   {
    "id": "00bfe80935254629866d8a6d6fab910f",
    "isPrintDataFrame": false,
    "time": "2020-07-01T08:10:03.357Z",
    "type": "completion"
   },
   {
    "time": "2020-07-01T08:10:06.095Z",
    "type": "kernelRestart"
   },
   {
    "time": "2020-07-01T08:10:06.228Z",
    "type": "kernelRestart"
   },
   {
    "time": "2020-07-01T08:10:06.364Z",
    "type": "kernelRestart"
   },
   {
    "code": "cd ..",
    "id": "6037aa6e1d5046ea89c33018b725b1a4",
    "order_count": 0,
    "time": "2020-07-01T08:10:08.073Z",
    "type": "runCodeCell"
   },
   {
    "code": "import pandas as pd\nimport lux",
    "id": "133eff65fc8e4ea09d897eaa57f2816b",
    "order_count": 1,
    "time": "2020-07-01T08:10:08.278Z",
    "type": "runCodeCell"
   },
   {
    "code": "df = pd.read_csv(\"lux/data/car.csv\")\ndf[\"Year\"] = pd.to_datetime(df[\"Year\"], format='%Y') # change pandas dtype for the column \"Year\" to datetype\ndf.head().toPandas()",
    "id": "00bfe80935254629866d8a6d6fab910f",
    "order_count": 4,
    "time": "2020-07-01T08:10:09.253Z",
    "type": "runCodeCell"
   },
   {
    "id": "00bfe80935254629866d8a6d6fab910f",
    "isPrintDataFrame": true,
    "time": "2020-07-01T08:10:10.206Z",
    "type": "completion"
   },
   {
    "time": "2020-07-01T08:10:10.223Z",
    "type": "kernelReady"
   },
   {
    "code": "df",
    "id": "e3efb7fe8e524b42adeed6483fd9bcaf",
    "order_count": 6,
    "time": "2020-07-01T08:10:13.492Z",
    "type": "runCodeCell"
   },
   {
    "id": "e3efb7fe8e524b42adeed6483fd9bcaf",
    "isPrintDataFrame": true,
    "time": "2020-07-01T08:10:14.369Z",
    "type": "completion"
   },
   {
    "execution_count": "",
    "param": "",
    "time": "2020-07-01T08:10:15.795Z",
    "type": "initWidget"
   },
   {
    "execution_count": "",
    "param": "",
    "time": "2020-07-01T08:10:16.033Z",
    "type": "initWidget"
   },
   {
    "code": "def changeColorAddTitle(chart):\n    chart = chart.configure_mark(color=\"green\") # change mark color to green\n    chart.title = \"Custom Title\" # add title to chart\n    return chart",
    "id": "934aaed5c5f248b48e24012c87350060",
    "order_count": 8,
    "time": "2020-07-01T08:10:26.235Z",
    "type": "runCodeCell"
   },
   {
    "id": "934aaed5c5f248b48e24012c87350060",
    "isPrintDataFrame": false,
    "time": "2020-07-01T08:10:26.277Z",
    "type": "completion"
   },
   {
    "code": "df.setPlotConfig(changeColorAddTitle)",
    "id": "1c288310507f4f8f8942e5ec4aea369e",
    "order_count": 10,
    "time": "2020-07-01T08:10:28.000Z",
    "type": "runCodeCell"
   },
   {
    "id": "1c288310507f4f8f8942e5ec4aea369e",
    "isPrintDataFrame": false,
    "time": "2020-07-01T08:10:28.016Z",
    "type": "completion"
   },
   {
    "code": "df",
    "id": "6110bfc672484ea1b1fd505fd2e84bef",
    "order_count": 12,
    "time": "2020-07-01T08:10:28.933Z",
    "type": "runCodeCell"
   },
   {
    "id": "6110bfc672484ea1b1fd505fd2e84bef",
    "isPrintDataFrame": false,
    "time": "2020-07-01T08:10:29.375Z",
    "type": "completion"
   },
   {
    "execution_count": "",
    "param": "",
    "time": "2020-07-01T08:10:29.385Z",
    "type": "initWidget"
   },
   {
    "execution_count": "",
    "param": "",
    "time": "2020-07-01T08:10:29.560Z",
    "type": "initWidget"
   },
   {
    "code": "df.setContext([\"Displacement\"])",
    "id": "46a1efa0e4f34ee984ecfec3e171366b",
    "order_count": 13,
    "time": "2020-07-01T08:10:46.536Z",
    "type": "runCodeCell"
   },
   {
    "id": "46a1efa0e4f34ee984ecfec3e171366b",
    "isPrintDataFrame": false,
    "time": "2020-07-01T08:10:46.582Z",
    "type": "completion"
   },
   {
    "code": "df",
    "id": "8a5f34000d084ac88a6bd6adf587e8ed",
    "order_count": 14,
    "time": "2020-07-01T08:10:48.068Z",
    "type": "runCodeCell"
   },
   {
    "id": "8a5f34000d084ac88a6bd6adf587e8ed",
    "isPrintDataFrame": false,
    "time": "2020-07-01T08:10:48.782Z",
    "type": "completion"
   },
   {
    "execution_count": "",
    "param": "",
    "time": "2020-07-01T08:10:48.797Z",
    "type": "initWidget"
   },
   {
    "execution_count": "",
    "param": "",
    "time": "2020-07-01T08:10:49.061Z",
    "type": "initWidget"
   },
   {
    "code": "df.viewCollection",
    "id": "8a5f34000d084ac88a6bd6adf587e8ed",
    "order_count": 14,
    "time": "2020-07-01T08:11:03.175Z",
    "type": "runCodeCell"
   },
   {
    "id": "8a5f34000d084ac88a6bd6adf587e8ed",
    "isPrintDataFrame": false,
    "time": "2020-07-01T08:11:03.238Z",
    "type": "completion"
   },
   {
    "execution_count": "",
    "param": "",
    "time": "2020-07-01T08:11:03.252Z",
    "type": "initWidget"
   },
   {
    "code": "df.setContext([\"Displacement\"])",
    "id": "46a1efa0e4f34ee984ecfec3e171366b",
    "order_count": 13,
    "time": "2020-07-01T08:11:59.072Z",
    "type": "runCodeCell"
   },
   {
    "id": "46a1efa0e4f34ee984ecfec3e171366b",
    "isPrintDataFrame": false,
    "time": "2020-07-01T08:11:59.113Z",
    "type": "completion"
   },
   {
    "code": "df.viewCollection",
    "id": "8a5f34000d084ac88a6bd6adf587e8ed",
    "order_count": 14,
    "time": "2020-07-01T08:11:59.319Z",
    "type": "runCodeCell"
   },
   {
    "id": "8a5f34000d084ac88a6bd6adf587e8ed",
    "isPrintDataFrame": false,
    "time": "2020-07-01T08:11:59.352Z",
    "type": "completion"
   },
   {
    "code": "df.viewCollection",
    "id": "8a5f34000d084ac88a6bd6adf587e8ed",
    "order_count": 14,
    "time": "2020-07-01T08:12:12.917Z",
    "type": "runCodeCell"
   },
   {
    "id": "8a5f34000d084ac88a6bd6adf587e8ed",
    "isPrintDataFrame": false,
    "time": "2020-07-01T08:12:12.953Z",
    "type": "completion"
   },
   {
    "time": "2020-07-01T08:12:15.667Z",
    "type": "kernelRestart"
   },
   {
    "time": "2020-07-01T08:12:17.544Z",
    "type": "kernelReady"
   },
   {
    "code": "cd ..",
    "id": "6037aa6e1d5046ea89c33018b725b1a4",
    "order_count": 0,
    "time": "2020-07-01T08:12:18.486Z",
    "type": "runCodeCell"
   },
   {
    "id": "6037aa6e1d5046ea89c33018b725b1a4",
    "isPrintDataFrame": false,
    "time": "2020-07-01T08:12:18.509Z",
    "type": "completion"
   },
   {
    "id": "6037aa6e1d5046ea89c33018b725b1a4",
    "isPrintDataFrame": false,
    "time": "2020-07-01T08:12:18.509Z",
    "type": "completion"
   },
   {
    "code": "import pandas as pd\nimport lux",
    "id": "133eff65fc8e4ea09d897eaa57f2816b",
    "order_count": 1,
    "time": "2020-07-01T08:12:18.638Z",
    "type": "runCodeCell"
   },
   {
    "id": "133eff65fc8e4ea09d897eaa57f2816b",
    "isPrintDataFrame": false,
    "time": "2020-07-01T08:12:18.971Z",
    "type": "completion"
   },
   {
    "id": "133eff65fc8e4ea09d897eaa57f2816b",
    "isPrintDataFrame": false,
    "time": "2020-07-01T08:12:18.971Z",
    "type": "completion"
   },
   {
    "code": "df = pd.read_csv(\"lux/data/car.csv\")\ndf[\"Year\"] = pd.to_datetime(df[\"Year\"], format='%Y') # change pandas dtype for the column \"Year\" to datetype\ndf.head().toPandas()",
    "id": "00bfe80935254629866d8a6d6fab910f",
    "order_count": 4,
    "time": "2020-07-01T08:12:19.311Z",
    "type": "runCodeCell"
   },
   {
    "id": "00bfe80935254629866d8a6d6fab910f",
    "isPrintDataFrame": true,
    "time": "2020-07-01T08:12:19.364Z",
    "type": "completion"
   },
   {
    "code": "df",
    "id": "e3efb7fe8e524b42adeed6483fd9bcaf",
    "order_count": 6,
    "time": "2020-07-01T08:12:19.944Z",
    "type": "runCodeCell"
   },
   {
    "id": "e3efb7fe8e524b42adeed6483fd9bcaf",
    "isPrintDataFrame": true,
    "time": "2020-07-01T08:12:20.642Z",
    "type": "completion"
   },
   {
    "code": "def changeColorAddTitle(chart):\n    chart = chart.configure_mark(color=\"green\") # change mark color to green\n    chart.title = \"Custom Title\" # add title to chart\n    return chart",
    "id": "934aaed5c5f248b48e24012c87350060",
    "order_count": 8,
    "time": "2020-07-01T08:12:21.063Z",
    "type": "runCodeCell"
   },
   {
    "id": "934aaed5c5f248b48e24012c87350060",
    "isPrintDataFrame": false,
    "time": "2020-07-01T08:12:21.080Z",
    "type": "completion"
   },
   {
    "code": "df.setPlotConfig(changeColorAddTitle)",
    "id": "1c288310507f4f8f8942e5ec4aea369e",
    "order_count": 10,
    "time": "2020-07-01T08:12:22.151Z",
    "type": "runCodeCell"
   },
   {
    "id": "1c288310507f4f8f8942e5ec4aea369e",
    "isPrintDataFrame": false,
    "time": "2020-07-01T08:12:22.167Z",
    "type": "completion"
   },
   {
    "code": "df",
    "id": "6110bfc672484ea1b1fd505fd2e84bef",
    "order_count": 12,
    "time": "2020-07-01T08:12:23.152Z",
    "type": "runCodeCell"
   },
   {
    "id": "6110bfc672484ea1b1fd505fd2e84bef",
    "isPrintDataFrame": false,
    "time": "2020-07-01T08:12:23.183Z",
    "type": "completion"
   },
   {
    "code": "df",
    "id": "6110bfc672484ea1b1fd505fd2e84bef",
    "order_count": 12,
    "time": "2020-07-01T08:13:16.558Z",
    "type": "runCodeCell"
   },
   {
    "id": "6110bfc672484ea1b1fd505fd2e84bef",
    "isPrintDataFrame": false,
    "time": "2020-07-01T08:13:16.591Z",
    "type": "completion"
   },
   {
    "time": "2020-07-01T08:13:18.316Z",
    "type": "kernelRestart"
   },
   {
    "time": "2020-07-01T08:13:19.123Z",
    "type": "kernelReady"
   },
   {
    "code": "cd ..",
    "id": "6037aa6e1d5046ea89c33018b725b1a4",
    "order_count": 0,
    "time": "2020-07-01T08:13:21.103Z",
    "type": "runCodeCell"
   },
   {
    "id": "6037aa6e1d5046ea89c33018b725b1a4",
    "isPrintDataFrame": false,
    "time": "2020-07-01T08:13:21.130Z",
    "type": "completion"
   },
   {
    "code": "import pandas as pd\nimport lux",
    "id": "133eff65fc8e4ea09d897eaa57f2816b",
    "order_count": 1,
    "time": "2020-07-01T08:13:21.239Z",
    "type": "runCodeCell"
   },
   {
    "id": "133eff65fc8e4ea09d897eaa57f2816b",
    "isPrintDataFrame": false,
    "time": "2020-07-01T08:13:21.573Z",
    "type": "completion"
   },
   {
    "code": "df = pd.read_csv(\"lux/data/car.csv\")\ndf[\"Year\"] = pd.to_datetime(df[\"Year\"], format='%Y') # change pandas dtype for the column \"Year\" to datetype\ndf.head().toPandas()",
    "id": "00bfe80935254629866d8a6d6fab910f",
    "order_count": 4,
    "time": "2020-07-01T08:13:21.688Z",
    "type": "runCodeCell"
   },
   {
    "id": "00bfe80935254629866d8a6d6fab910f",
    "isPrintDataFrame": true,
    "time": "2020-07-01T08:13:21.737Z",
    "type": "completion"
   },
   {
    "code": "df",
    "id": "e3efb7fe8e524b42adeed6483fd9bcaf",
    "order_count": 6,
    "time": "2020-07-01T08:13:22.320Z",
    "type": "runCodeCell"
   },
   {
    "id": "e3efb7fe8e524b42adeed6483fd9bcaf",
    "isPrintDataFrame": true,
    "time": "2020-07-01T08:13:22.982Z",
    "type": "completion"
   },
   {
    "execution_count": "",
    "param": "",
    "time": "2020-07-01T08:13:23.896Z",
    "type": "initWidget"
   },
   {
    "execution_count": "",
    "param": "",
    "time": "2020-07-01T08:13:24.132Z",
    "type": "initWidget"
   },
   {
    "code": "def changeColorAddTitle(chart):\n    chart = chart.configure_mark(color=\"green\") # change mark color to green\n    chart.title = \"Custom Title\" # add title to chart\n    return chart",
    "id": "934aaed5c5f248b48e24012c87350060",
    "order_count": 8,
    "time": "2020-07-01T08:13:27.071Z",
    "type": "runCodeCell"
   },
   {
    "id": "934aaed5c5f248b48e24012c87350060",
    "isPrintDataFrame": false,
    "time": "2020-07-01T08:13:27.112Z",
    "type": "completion"
   },
   {
    "code": "df.setPlotConfig(changeColorAddTitle)",
    "id": "1c288310507f4f8f8942e5ec4aea369e",
    "order_count": 10,
    "time": "2020-07-01T08:13:27.400Z",
    "type": "runCodeCell"
   },
   {
    "id": "1c288310507f4f8f8942e5ec4aea369e",
    "isPrintDataFrame": false,
    "time": "2020-07-01T08:13:27.414Z",
    "type": "completion"
   },
   {
    "code": "df",
    "id": "6110bfc672484ea1b1fd505fd2e84bef",
    "order_count": 12,
    "time": "2020-07-01T08:13:28.416Z",
    "type": "runCodeCell"
   },
   {
    "id": "6110bfc672484ea1b1fd505fd2e84bef",
    "isPrintDataFrame": false,
    "time": "2020-07-01T08:13:28.829Z",
    "type": "completion"
   },
   {
    "execution_count": "",
    "param": "",
    "time": "2020-07-01T08:13:28.839Z",
    "type": "initWidget"
   },
   {
    "execution_count": "",
    "param": "",
    "time": "2020-07-01T08:13:28.989Z",
    "type": "initWidget"
   },
   {
    "code": "df.setContext([\"Displacement\"])",
    "id": "46a1efa0e4f34ee984ecfec3e171366b",
    "order_count": 13,
    "time": "2020-07-01T08:13:29.849Z",
    "type": "runCodeCell"
   },
   {
    "id": "46a1efa0e4f34ee984ecfec3e171366b",
    "isPrintDataFrame": false,
    "time": "2020-07-01T08:13:29.878Z",
    "type": "completion"
   },
   {
    "code": "df.viewCollection",
    "id": "8a5f34000d084ac88a6bd6adf587e8ed",
    "order_count": 14,
    "time": "2020-07-01T08:13:30.262Z",
    "type": "runCodeCell"
   },
   {
    "id": "8a5f34000d084ac88a6bd6adf587e8ed",
    "isPrintDataFrame": false,
    "time": "2020-07-01T08:13:30.297Z",
    "type": "completion"
   },
   {
    "code": "df.setContext([\"Displacement\"])\ndf",
    "id": "46a1efa0e4f34ee984ecfec3e171366b",
    "order_count": 13,
    "time": "2020-07-01T08:13:37.793Z",
    "type": "runCodeCell"
   },
   {
    "id": "46a1efa0e4f34ee984ecfec3e171366b",
    "isPrintDataFrame": false,
    "time": "2020-07-01T08:13:38.529Z",
    "type": "completion"
   },
   {
    "execution_count": "",
    "param": "",
    "time": "2020-07-01T08:13:38.539Z",
    "type": "initWidget"
   },
   {
    "execution_count": "",
    "param": "",
    "time": "2020-07-01T08:13:38.703Z",
    "type": "initWidget"
   },
   {
    "code": "df.viewCollection",
    "id": "8a5f34000d084ac88a6bd6adf587e8ed",
    "order_count": 14,
    "time": "2020-07-01T08:13:42.905Z",
    "type": "runCodeCell"
   },
   {
    "id": "8a5f34000d084ac88a6bd6adf587e8ed",
    "isPrintDataFrame": false,
    "time": "2020-07-01T08:13:42.964Z",
    "type": "completion"
   },
   {
    "execution_count": "",
    "param": "",
    "time": "2020-07-01T08:13:42.974Z",
    "type": "initWidget"
   },
   {
    "code": "df.viewCollection",
    "id": "8a5f34000d084ac88a6bd6adf587e8ed",
    "order_count": null,
    "time": "2020-07-01T08:13:46.088Z",
    "type": "deleteCodeCell"
   },
   {
    "code": "df.clearPlotConfig()",
    "id": "337b4806ec95416d8590eae6db0a5860",
    "order_count": 14,
    "time": "2020-07-01T08:13:58.113Z",
    "type": "runCodeCell"
   },
   {
    "id": "337b4806ec95416d8590eae6db0a5860",
    "isPrintDataFrame": false,
    "time": "2020-07-01T08:13:58.163Z",
    "type": "completion"
   },
   {
    "code": "df.setContext([\"MilesPerGal\",\"?\"])\ndf",
    "id": "0472d4e94aaa4e468e2d15d3346f6e4d",
    "order_count": 15,
    "time": "2020-07-01T08:13:58.317Z",
    "type": "runCodeCell"
   },
   {
    "execution_count": "",
    "param": "",
    "time": "2020-07-01T08:13:58.601Z",
    "type": "initWidget"
   },
   {
    "id": "0472d4e94aaa4e468e2d15d3346f6e4d",
    "isPrintDataFrame": false,
    "time": "2020-07-01T08:13:58.676Z",
    "type": "completion"
   },
   {
    "execution_count": "",
    "param": "",
    "time": "2020-07-01T08:13:58.685Z",
    "type": "initWidget"
   },
   {
    "code": "viewc = df.getExported()",
    "id": "0c158280d7ff41a4bf981a30435f3d05",
    "order_count": 17,
    "time": "2020-07-01T08:13:59.593Z",
    "type": "runCodeCell"
   },
   {
    "id": "0c158280d7ff41a4bf981a30435f3d05",
    "isPrintDataFrame": false,
    "time": "2020-07-01T08:13:59.617Z",
    "type": "completion"
   },
   {
    "code": "viewc",
    "id": "30277cdd88f14d659ecc0b187321cfa8",
    "order_count": 18,
    "time": "2020-07-01T08:14:00.073Z",
    "type": "runCodeCell"
   },
   {
    "id": "30277cdd88f14d659ecc0b187321cfa8",
    "isPrintDataFrame": false,
    "time": "2020-07-01T08:14:00.096Z",
    "type": "completion"
   },
   {
    "code": "view = df.getExported()[0]",
    "id": "3317e0eb7a2d4b1a93897ea3303888ab",
    "order_count": 19,
    "time": "2020-07-01T08:14:00.576Z",
    "type": "runCodeCell"
   },
   {
    "id": "3317e0eb7a2d4b1a93897ea3303888ab",
    "isPrintDataFrame": false,
    "time": "2020-07-01T08:14:00.715Z",
    "type": "completion"
   },
   {
    "code": "df.clearPlotConfig()",
    "id": "337b4806ec95416d8590eae6db0a5860",
    "order_count": null,
    "time": "2020-07-01T08:14:43.455Z",
    "type": "deleteCodeCell"
   },
   {
    "code": "df.setContext([\"MilesPerGal\",\"?\"])\ndf",
    "id": "0472d4e94aaa4e468e2d15d3346f6e4d",
    "order_count": null,
    "time": "2020-07-01T08:14:44.218Z",
    "type": "deleteCodeCell"
   },
   {
    "execution_count": "",
    "param": 0,
    "time": "2020-07-01T08:14:47.461Z",
    "type": "clickVis"
   },
   {
    "execution_count": "",
    "param": {
     "Enhance": [
      0
     ]
    },
    "time": "2020-07-01T08:14:50.115Z",
    "type": "exportBtnClick"
   },
   {
    "code": "viewc = df.getExported()",
    "id": "0c158280d7ff41a4bf981a30435f3d05",
    "order_count": 15,
    "time": "2020-07-01T08:14:51.713Z",
    "type": "runCodeCell"
   },
   {
    "id": "0c158280d7ff41a4bf981a30435f3d05",
    "isPrintDataFrame": false,
    "time": "2020-07-01T08:14:51.736Z",
    "type": "completion"
   },
   {
    "code": "viewc",
    "id": "30277cdd88f14d659ecc0b187321cfa8",
    "order_count": 16,
    "time": "2020-07-01T08:14:52.482Z",
    "type": "runCodeCell"
   },
   {
    "id": "30277cdd88f14d659ecc0b187321cfa8",
    "isPrintDataFrame": false,
    "time": "2020-07-01T08:14:52.505Z",
    "type": "completion"
   },
   {
    "code": "view = df.getExported()[0]",
    "id": "3317e0eb7a2d4b1a93897ea3303888ab",
    "order_count": 17,
    "time": "2020-07-01T08:14:54.704Z",
    "type": "runCodeCell"
   },
   {
    "id": "3317e0eb7a2d4b1a93897ea3303888ab",
    "isPrintDataFrame": false,
    "time": "2020-07-01T08:14:54.727Z",
    "type": "completion"
   },
   {
    "code": "df.setContext([\"Displacement\"])\ndf",
    "id": "46a1efa0e4f34ee984ecfec3e171366b",
    "order_count": 13,
    "time": "2020-07-01T08:14:56.738Z",
    "type": "runCodeCell"
   },
   {
    "id": "46a1efa0e4f34ee984ecfec3e171366b",
    "isPrintDataFrame": false,
    "time": "2020-07-01T08:14:57.419Z",
    "type": "completion"
   },
   {
    "execution_count": "",
    "param": "",
    "time": "2020-07-01T08:14:57.432Z",
    "type": "initWidget"
   },
   {
    "execution_count": "",
    "param": "",
    "time": "2020-07-01T08:14:57.570Z",
    "type": "initWidget"
   },
   {
    "code": "df.setPlotConfig(changeColorAddTitle)",
    "id": "1c288310507f4f8f8942e5ec4aea369e",
    "order_count": 10,
    "time": "2020-07-01T08:15:02.424Z",
    "type": "runCodeCell"
   },
   {
    "id": "1c288310507f4f8f8942e5ec4aea369e",
    "isPrintDataFrame": false,
    "time": "2020-07-01T08:15:02.461Z",
    "type": "completion"
   },
   {
    "code": "df",
    "id": "6110bfc672484ea1b1fd505fd2e84bef",
    "order_count": 12,
    "time": "2020-07-01T08:15:03.195Z",
    "type": "runCodeCell"
   },
   {
    "id": "6110bfc672484ea1b1fd505fd2e84bef",
    "isPrintDataFrame": false,
    "time": "2020-07-01T08:15:03.865Z",
    "type": "completion"
   },
   {
    "execution_count": "",
    "param": "",
    "time": "2020-07-01T08:15:03.877Z",
    "type": "initWidget"
   },
   {
    "execution_count": "",
    "param": "",
    "time": "2020-07-01T08:15:04.009Z",
    "type": "initWidget"
   },
   {
    "code": "df.setContext([\"Displacement\"])\ndf",
    "id": "46a1efa0e4f34ee984ecfec3e171366b",
    "order_count": null,
    "time": "2020-07-01T08:15:05.367Z",
    "type": "deleteCodeCell"
   },
   {
    "execution_count": "",
    "param": 0,
    "time": "2020-07-01T08:15:07.763Z",
    "type": "clickVis"
   },
   {
    "execution_count": "",
    "param": {
     "Enhance": [
      0
     ]
    },
    "time": "2020-07-01T08:15:09.156Z",
    "type": "exportBtnClick"
   },
   {
    "code": "viewc = df.getExported()",
    "id": "0c158280d7ff41a4bf981a30435f3d05",
    "order_count": 14,
    "time": "2020-07-01T08:15:13.098Z",
    "type": "runCodeCell"
   },
   {
    "id": "0c158280d7ff41a4bf981a30435f3d05",
    "isPrintDataFrame": false,
    "time": "2020-07-01T08:15:13.116Z",
    "type": "completion"
   },
   {
    "code": "viewc",
    "id": "30277cdd88f14d659ecc0b187321cfa8",
    "order_count": 15,
    "time": "2020-07-01T08:15:13.290Z",
    "type": "runCodeCell"
   },
   {
    "id": "30277cdd88f14d659ecc0b187321cfa8",
    "isPrintDataFrame": false,
    "time": "2020-07-01T08:15:13.336Z",
    "type": "completion"
   },
   {
    "execution_count": "",
    "param": "",
    "time": "2020-07-01T08:15:13.348Z",
    "type": "initWidget"
   },
   {
    "code": "viewc",
    "id": "30277cdd88f14d659ecc0b187321cfa8",
    "order_count": null,
    "time": "2020-07-01T08:15:17.354Z",
    "type": "deleteCodeCell"
   },
   {
    "code": "viewc = df.getExported()",
    "id": "0c158280d7ff41a4bf981a30435f3d05",
    "order_count": null,
    "time": "2020-07-01T08:15:19.721Z",
    "type": "deleteCodeCell"
   },
   {
    "code": "view = df.getExported()[0]",
    "id": "3317e0eb7a2d4b1a93897ea3303888ab",
    "order_count": 14,
    "time": "2020-07-01T08:15:20.274Z",
    "type": "runCodeCell"
   },
   {
    "id": "3317e0eb7a2d4b1a93897ea3303888ab",
    "isPrintDataFrame": false,
    "time": "2020-07-01T08:15:20.295Z",
    "type": "completion"
   },
   {
    "code": "view = df.getExported()[0]",
    "id": "3317e0eb7a2d4b1a93897ea3303888ab",
    "order_count": null,
    "time": "2020-07-01T08:15:29.480Z",
    "type": "deleteCodeCell"
   },
   {
    "code": "df.setContextAsView(view)",
    "id": "529252a4b5514192ade6b3ee53f25e2f",
    "order_count": null,
    "time": "2020-07-01T08:15:31.316Z",
    "type": "deleteCodeCell"
   },
   {
    "code": "df",
    "id": "02d21c0d88b04ef8b04e499a111e1037",
    "order_count": null,
    "time": "2020-07-01T08:15:32.139Z",
    "type": "deleteCodeCell"
   },
   {
    "code": "view = df.getExported()[0]\nprint (view.toAltair())",
    "id": "ee6239e6e7564b1d82b14196bf187354",
    "order_count": 14,
    "time": "2020-07-01T08:15:33.395Z",
    "type": "runCodeCell"
   },
   {
    "id": "ee6239e6e7564b1d82b14196bf187354",
    "isPrintDataFrame": false,
    "time": "2020-07-01T08:15:33.434Z",
    "type": "completion"
   },
   {
    "code": "import altair as alt\n\nchart = alt.Chart(df).mark_circle().encode(\n    x=alt.X('Displacement',scale=alt.Scale(domain=(68.0, 455.0)),type='quantitative'),\n    y=alt.Y('Weight',scale=alt.Scale(domain=(1613, 5140)),type='quantitative')\n)\nchart = chart.configure_mark(tooltip=alt.TooltipContent('encoding')) # Setting tooltip as non-null\nchart = chart.interactive() # Enable Zooming and Panning\nchart = chart.configure_mark(color=\"green\") # change mark color to green\nchart.title = \"Custom Title\" # add title to chart\nchart",
    "id": "d9c99152ea454c839b3af0ac1df7e5f7",
    "order_count": 15,
    "time": "2020-07-01T08:15:43.644Z",
    "type": "runCodeCell"
   },
   {
    "id": "d9c99152ea454c839b3af0ac1df7e5f7",
    "isPrintDataFrame": false,
    "time": "2020-07-01T08:15:43.763Z",
    "type": "completion"
   },
   {
    "code": "df = pd.read_csv(\"lux/data/olympic.csv\")\ndf[\"Year\"] = pd.to_datetime(df[\"Year\"], format='%Y') # change pandas dtype for the column \"Year\" to datetype\ndf",
    "id": "2133d6bf991f4b468383c779abf69933",
    "order_count": 18,
    "time": "2020-07-01T08:15:46.130Z",
    "type": "runCodeCell"
   },
   {
    "id": "2133d6bf991f4b468383c779abf69933",
    "isPrintDataFrame": true,
    "time": "2020-07-01T08:15:46.768Z",
    "type": "completion"
   },
   {
    "code": "def changeOpacityScatterOnly(chart):\n    if chart.mark=='circle':\n        chart = chart.configure_mark(opacity=0.1) # lower opacity\n    return chart",
    "id": "6a3e58ae9a1c4f3a9120ee2db9380716",
    "order_count": 20,
    "time": "2020-07-01T08:15:48.636Z",
    "type": "runCodeCell"
   },
   {
    "id": "6a3e58ae9a1c4f3a9120ee2db9380716",
    "isPrintDataFrame": false,
    "time": "2020-07-01T08:15:48.656Z",
    "type": "completion"
   },
   {
    "code": "df.setPlotConfig(changeOpacityScatterOnly)\ndf",
    "id": "3a2a5f416e5e4f0481b269903329d8f6",
    "order_count": 21,
    "time": "2020-07-01T08:15:49.226Z",
    "type": "runCodeCell"
   },
   {
    "id": "3a2a5f416e5e4f0481b269903329d8f6",
    "isPrintDataFrame": true,
    "time": "2020-07-01T08:15:49.852Z",
    "type": "completion"
   },
   {
    "execution_count": "",
    "param": "",
    "time": "2020-07-01T08:15:51.014Z",
    "type": "initWidget"
   },
   {
    "execution_count": "",
    "param": "",
    "time": "2020-07-01T08:15:51.353Z",
    "type": "initWidget"
   },
   {
    "time": "2020-07-01T08:17:22.492Z",
    "type": "kernelRestart"
   },
   {
    "time": "2020-07-01T08:17:23.271Z",
    "type": "kernelReady"
   },
   {
    "code": "cd ..",
    "id": "6037aa6e1d5046ea89c33018b725b1a4",
    "order_count": 0,
    "time": "2020-07-01T08:17:26.181Z",
    "type": "runCodeCell"
   },
   {
    "id": "6037aa6e1d5046ea89c33018b725b1a4",
    "isPrintDataFrame": false,
    "time": "2020-07-01T08:17:26.208Z",
    "type": "completion"
   },
   {
    "code": "import pandas as pd\nimport lux",
    "id": "133eff65fc8e4ea09d897eaa57f2816b",
    "order_count": 1,
    "time": "2020-07-01T08:17:26.549Z",
    "type": "runCodeCell"
   },
   {
    "id": "133eff65fc8e4ea09d897eaa57f2816b",
    "isPrintDataFrame": false,
    "time": "2020-07-01T08:17:26.877Z",
    "type": "completion"
   },
   {
    "code": "df = pd.read_csv(\"lux/data/car.csv\")\ndf[\"Year\"] = pd.to_datetime(df[\"Year\"], format='%Y') # change pandas dtype for the column \"Year\" to datetype\ndf.head().toPandas()",
    "id": "00bfe80935254629866d8a6d6fab910f",
    "order_count": 4,
    "time": "2020-07-01T08:17:27.029Z",
    "type": "runCodeCell"
   },
   {
    "id": "00bfe80935254629866d8a6d6fab910f",
    "isPrintDataFrame": true,
    "time": "2020-07-01T08:17:27.076Z",
    "type": "completion"
   },
   {
    "code": "df",
    "id": "e3efb7fe8e524b42adeed6483fd9bcaf",
    "order_count": 6,
    "time": "2020-07-01T08:17:27.347Z",
    "type": "runCodeCell"
   },
   {
    "code": "def changeColorAddTitle(chart):\n    chart = chart.configure_mark(color=\"green\") # change mark color to green\n    chart.title = \"Custom Title\" # add title to chart\n    return chart",
    "id": "934aaed5c5f248b48e24012c87350060",
    "order_count": 8,
    "time": "2020-07-01T08:17:27.610Z",
    "type": "runCodeCell"
   },
   {
    "id": "e3efb7fe8e524b42adeed6483fd9bcaf",
    "isPrintDataFrame": true,
    "time": "2020-07-01T08:17:28.048Z",
    "type": "completion"
   },
   {
    "id": "934aaed5c5f248b48e24012c87350060",
    "isPrintDataFrame": false,
    "time": "2020-07-01T08:17:28.049Z",
    "type": "completion"
   },
   {
    "code": "df.setPlotConfig(changeColorAddTitle)",
    "id": "1c288310507f4f8f8942e5ec4aea369e",
    "order_count": 10,
    "time": "2020-07-01T08:17:28.147Z",
    "type": "runCodeCell"
   },
   {
    "id": "1c288310507f4f8f8942e5ec4aea369e",
    "isPrintDataFrame": false,
    "time": "2020-07-01T08:17:28.161Z",
    "type": "completion"
   },
   {
    "code": "df",
    "id": "6110bfc672484ea1b1fd505fd2e84bef",
    "order_count": 12,
    "time": "2020-07-01T08:17:29.147Z",
    "type": "runCodeCell"
   },
   {
    "code": "view = df.getExported()[0]\nprint (view.toAltair())",
    "id": "ee6239e6e7564b1d82b14196bf187354",
    "order_count": 14,
    "time": "2020-07-01T08:17:29.573Z",
    "type": "runCodeCell"
   },
   {
    "id": "6110bfc672484ea1b1fd505fd2e84bef",
    "isPrintDataFrame": true,
    "time": "2020-07-01T08:17:29.603Z",
    "type": "completion"
   },
   {
    "id": "ee6239e6e7564b1d82b14196bf187354",
    "isPrintDataFrame": false,
    "time": "2020-07-01T08:17:29.702Z",
    "type": "completion"
   },
   {
    "code": "import altair as alt\n\nchart = alt.Chart(df).mark_circle().encode(\n    x=alt.X('Displacement',scale=alt.Scale(domain=(68.0, 455.0)),type='quantitative'),\n    y=alt.Y('Weight',scale=alt.Scale(domain=(1613, 5140)),type='quantitative')\n)\nchart = chart.configure_mark(tooltip=alt.TooltipContent('encoding')) # Setting tooltip as non-null\nchart = chart.interactive() # Enable Zooming and Panning\nchart = chart.configure_mark(color=\"green\") # change mark color to green\nchart.title = \"Custom Title\" # add title to chart\nchart",
    "id": "d9c99152ea454c839b3af0ac1df7e5f7",
    "order_count": 15,
    "time": "2020-07-01T08:17:30.038Z",
    "type": "runCodeCell"
   },
   {
    "id": "d9c99152ea454c839b3af0ac1df7e5f7",
    "isPrintDataFrame": false,
    "time": "2020-07-01T08:17:30.146Z",
    "type": "completion"
   },
   {
    "execution_count": "",
    "param": "",
    "time": "2020-07-01T08:17:35.138Z",
    "type": "initWidget"
   },
   {
    "execution_count": "",
    "param": "",
    "time": "2020-07-01T08:17:35.382Z",
    "type": "initWidget"
   },
   {
    "execution_count": "",
    "param": 0,
    "time": "2020-07-01T08:17:41.839Z",
    "type": "clickVis"
   },
   {
    "execution_count": "",
    "param": {
     "Correlation": [
      0
     ]
    },
    "time": "2020-07-01T08:17:43.823Z",
    "type": "exportBtnClick"
   },
   {
    "code": "view = df.getExported()[0]\nprint (view.toAltair())",
    "id": "ee6239e6e7564b1d82b14196bf187354",
    "order_count": 14,
    "time": "2020-07-01T08:17:48.807Z",
    "type": "runCodeCell"
   },
   {
    "id": "ee6239e6e7564b1d82b14196bf187354",
    "isPrintDataFrame": false,
    "time": "2020-07-01T08:17:48.856Z",
    "type": "completion"
   },
   {
    "code": "import altair as alt\n\nchart = alt.Chart(df).mark_circle().encode(\n    x=alt.X('Displacement',scale=alt.Scale(domain=(68.0, 455.0)),type='quantitative'),\n    y=alt.Y('Weight',scale=alt.Scale(domain=(1613, 5140)),type='quantitative')\n)\nchart = chart.configure_mark(tooltip=alt.TooltipContent('encoding')) # Setting tooltip as non-null\nchart = chart.interactive() # Enable Zooming and Panning\nchart = chart.configure_mark(color=\"green\") # change mark color to green\nchart.title = \"Custom Title\" # add title to chart\nchart",
    "id": "d9c99152ea454c839b3af0ac1df7e5f7",
    "order_count": 15,
    "time": "2020-07-01T08:17:49.413Z",
    "type": "runCodeCell"
   },
   {
    "id": "d9c99152ea454c839b3af0ac1df7e5f7",
    "isPrintDataFrame": false,
    "time": "2020-07-01T08:17:49.521Z",
    "type": "completion"
   },
   {
    "code": "df = pd.read_csv(\"lux/data/olympic.csv\")\ndf[\"Year\"] = pd.to_datetime(df[\"Year\"], format='%Y') # change pandas dtype for the column \"Year\" to datetype\ndf",
    "id": "2133d6bf991f4b468383c779abf69933",
    "order_count": 18,
    "time": "2020-07-01T08:17:50.806Z",
    "type": "runCodeCell"
   },
   {
    "code": "def changeOpacityScatterOnly(chart):\n    if chart.mark=='circle':\n        chart = chart.configure_mark(opacity=0.1) # lower opacity\n    return chart",
    "id": "6a3e58ae9a1c4f3a9120ee2db9380716",
    "order_count": 20,
    "time": "2020-07-01T08:17:51.131Z",
    "type": "runCodeCell"
   },
   {
    "code": "df.setPlotConfig(changeOpacityScatterOnly)\ndf",
    "id": "3a2a5f416e5e4f0481b269903329d8f6",
    "order_count": 21,
    "time": "2020-07-01T08:17:51.275Z",
    "type": "runCodeCell"
   },
   {
    "id": "2133d6bf991f4b468383c779abf69933",
    "isPrintDataFrame": true,
    "time": "2020-07-01T08:17:51.500Z",
    "type": "completion"
   },
   {
    "id": "6a3e58ae9a1c4f3a9120ee2db9380716",
    "isPrintDataFrame": false,
    "time": "2020-07-01T08:17:51.508Z",
    "type": "completion"
   },
   {
    "id": "3a2a5f416e5e4f0481b269903329d8f6",
    "isPrintDataFrame": true,
    "time": "2020-07-01T08:17:52.126Z",
    "type": "completion"
   },
   {
    "code": "",
    "id": "3c81e3221be1426fb8e7152f1e52a6e1",
    "order_count": null,
    "time": "2020-07-01T08:17:54.175Z",
    "type": "deleteCodeCell"
   },
   {
    "code": "",
    "id": "2ce0c7ae3cad44a489e0f6fabbfacfd5",
    "order_count": null,
    "time": "2020-07-01T08:17:54.517Z",
    "type": "deleteCodeCell"
   },
   {
    "time": "2020-07-01T08:18:11.070Z",
    "type": "kernelRestart"
   },
   {
    "time": "2020-07-01T08:18:11.864Z",
    "type": "kernelReady"
   }
  ],
  "kernelspec": {
   "display_name": "Python 3",
   "language": "python",
   "name": "python3"
  },
  "language_info": {
   "codemirror_mode": {
    "name": "ipython",
    "version": 3
   },
   "file_extension": ".py",
   "mimetype": "text/x-python",
   "name": "python",
   "nbconvert_exporter": "python",
   "pygments_lexer": "ipython3",
   "version": "3.7.7"
  }
 },
 "nbformat": 4,
 "nbformat_minor": 4
}
