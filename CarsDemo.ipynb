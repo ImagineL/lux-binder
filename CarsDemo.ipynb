{
 "cells": [
  {
   "cell_type": "code",
   "execution_count": 1,
   "metadata": {},
   "outputs": [
    {
     "name": "stdout",
     "output_type": "stream",
     "text": [
      "/Users/jaredzhao/Development/lux\n"
     ]
    }
   ],
   "source": [
    "cd .."
   ]
  },
  {
   "cell_type": "code",
   "execution_count": 13,
   "metadata": {},
   "outputs": [
    {
     "name": "stdout",
     "output_type": "stream",
     "text": [
      "/Users/jaredzhao/opt/anaconda3/envs/lux7/bin/pip\r\n"
     ]
    }
   ],
   "source": [
    "!which pip"
   ]
  },
  {
   "cell_type": "code",
   "execution_count": 14,
   "metadata": {},
   "outputs": [
    {
     "name": "stdout",
     "output_type": "stream",
     "text": [
      "Collecting git+https://github.com/lux-org/lux\n",
      "  Cloning https://github.com/lux-org/lux to /private/var/folders/z2/9910nfpd3qz0_g3xk4y68c400000gn/T/pip-req-build-xbi4ekb3\n",
      "  Running command git clone -q https://github.com/lux-org/lux /private/var/folders/z2/9910nfpd3qz0_g3xk4y68c400000gn/T/pip-req-build-xbi4ekb3\n",
      "Requirement already satisfied (use --upgrade to upgrade): lux-api==0.1.2 from git+https://github.com/lux-org/lux in /Users/jaredzhao/opt/anaconda3/envs/lux7/lib/python3.7/site-packages\n",
      "Requirement already satisfied: pandas in /Users/jaredzhao/opt/anaconda3/envs/lux7/lib/python3.7/site-packages (from lux-api==0.1.2) (1.0.5)\n",
      "Requirement already satisfied: altair in /Users/jaredzhao/.local/lib/python3.7/site-packages (from lux-api==0.1.2) (4.0.1)\n",
      "Requirement already satisfied: numpy>=1.13.3 in /Users/jaredzhao/opt/anaconda3/envs/lux7/lib/python3.7/site-packages (from pandas->lux-api==0.1.2) (1.19.0)\n",
      "Requirement already satisfied: pytz>=2017.2 in /Users/jaredzhao/opt/anaconda3/envs/lux7/lib/python3.7/site-packages (from pandas->lux-api==0.1.2) (2020.1)\n",
      "Requirement already satisfied: python-dateutil>=2.6.1 in /Users/jaredzhao/opt/anaconda3/envs/lux7/lib/python3.7/site-packages (from pandas->lux-api==0.1.2) (2.8.1)\n",
      "Requirement already satisfied: entrypoints in /Users/jaredzhao/opt/anaconda3/envs/lux7/lib/python3.7/site-packages (from altair->lux-api==0.1.2) (0.3)\n",
      "Requirement already satisfied: toolz in /Users/jaredzhao/opt/anaconda3/envs/lux7/lib/python3.7/site-packages (from altair->lux-api==0.1.2) (0.10.0)\n",
      "Requirement already satisfied: jsonschema in /Users/jaredzhao/opt/anaconda3/envs/lux7/lib/python3.7/site-packages (from altair->lux-api==0.1.2) (3.2.0)\n",
      "Requirement already satisfied: jinja2 in /Users/jaredzhao/opt/anaconda3/envs/lux7/lib/python3.7/site-packages (from altair->lux-api==0.1.2) (2.11.2)\n",
      "Requirement already satisfied: six>=1.5 in /Users/jaredzhao/opt/anaconda3/envs/lux7/lib/python3.7/site-packages (from python-dateutil>=2.6.1->pandas->lux-api==0.1.2) (1.15.0)\n",
      "Requirement already satisfied: importlib-metadata; python_version < \"3.8\" in /Users/jaredzhao/opt/anaconda3/envs/lux7/lib/python3.7/site-packages (from jsonschema->altair->lux-api==0.1.2) (1.7.0)\n",
      "Requirement already satisfied: setuptools in /Users/jaredzhao/opt/anaconda3/envs/lux7/lib/python3.7/site-packages (from jsonschema->altair->lux-api==0.1.2) (47.3.1.post20200622)\n",
      "Requirement already satisfied: attrs>=17.4.0 in /Users/jaredzhao/opt/anaconda3/envs/lux7/lib/python3.7/site-packages (from jsonschema->altair->lux-api==0.1.2) (19.3.0)\n",
      "Requirement already satisfied: pyrsistent>=0.14.0 in /Users/jaredzhao/opt/anaconda3/envs/lux7/lib/python3.7/site-packages (from jsonschema->altair->lux-api==0.1.2) (0.16.0)\n",
      "Requirement already satisfied: MarkupSafe>=0.23 in /Users/jaredzhao/opt/anaconda3/envs/lux7/lib/python3.7/site-packages (from jinja2->altair->lux-api==0.1.2) (1.1.1)\n",
      "Requirement already satisfied: zipp>=0.5 in /Users/jaredzhao/opt/anaconda3/envs/lux7/lib/python3.7/site-packages (from importlib-metadata; python_version < \"3.8\"->jsonschema->altair->lux-api==0.1.2) (3.1.0)\n",
      "Building wheels for collected packages: lux-api\n",
      "  Building wheel for lux-api (setup.py) ... \u001b[?25ldone\n",
      "\u001b[?25h  Created wheel for lux-api: filename=lux_api-0.1.2-py3-none-any.whl size=60375 sha256=80c173e14e20348c116982a64b809084cc3efb35037c0b93092a7811a7f64933\n",
      "  Stored in directory: /private/var/folders/z2/9910nfpd3qz0_g3xk4y68c400000gn/T/pip-ephem-wheel-cache-nz407nhm/wheels/1a/9f/1c/b36b60556e732428ad7fb0d453d81396f1cf00d255a55367f7\n",
      "Successfully built lux-api\n"
     ]
    }
   ],
   "source": [
    "!python3 -m pip install git+https://github.com/lux-org/lux"
   ]
  },
  {
   "cell_type": "code",
   "execution_count": 3,
   "metadata": {},
   "outputs": [
    {
     "name": "stdout",
     "output_type": "stream",
     "text": [
      "Requirement already satisfied: altair in /Users/jaredzhao/.local/lib/python3.7/site-packages (4.0.1)\n",
      "Requirement already satisfied: pandas in /Users/jaredzhao/opt/anaconda3/envs/lux7/lib/python3.7/site-packages (from altair) (1.0.5)\n",
      "Requirement already satisfied: numpy in /Users/jaredzhao/opt/anaconda3/envs/lux7/lib/python3.7/site-packages (from altair) (1.19.0)\n",
      "Requirement already satisfied: jsonschema in /Users/jaredzhao/opt/anaconda3/envs/lux7/lib/python3.7/site-packages (from altair) (3.2.0)\n",
      "Requirement already satisfied: toolz in /Users/jaredzhao/opt/anaconda3/envs/lux7/lib/python3.7/site-packages (from altair) (0.10.0)\n",
      "Requirement already satisfied: jinja2 in /Users/jaredzhao/opt/anaconda3/envs/lux7/lib/python3.7/site-packages (from altair) (2.11.2)\n",
      "Requirement already satisfied: entrypoints in /Users/jaredzhao/opt/anaconda3/envs/lux7/lib/python3.7/site-packages (from altair) (0.3)\n",
      "Requirement already satisfied: pytz>=2017.2 in /Users/jaredzhao/opt/anaconda3/envs/lux7/lib/python3.7/site-packages (from pandas->altair) (2020.1)\n",
      "Requirement already satisfied: python-dateutil>=2.6.1 in /Users/jaredzhao/opt/anaconda3/envs/lux7/lib/python3.7/site-packages (from pandas->altair) (2.8.1)\n",
      "Requirement already satisfied: attrs>=17.4.0 in /Users/jaredzhao/opt/anaconda3/envs/lux7/lib/python3.7/site-packages (from jsonschema->altair) (19.3.0)\n",
      "Requirement already satisfied: pyrsistent>=0.14.0 in /Users/jaredzhao/opt/anaconda3/envs/lux7/lib/python3.7/site-packages (from jsonschema->altair) (0.16.0)\n",
      "Requirement already satisfied: importlib-metadata; python_version < \"3.8\" in /Users/jaredzhao/opt/anaconda3/envs/lux7/lib/python3.7/site-packages (from jsonschema->altair) (1.7.0)\n",
      "Requirement already satisfied: six>=1.11.0 in /Users/jaredzhao/opt/anaconda3/envs/lux7/lib/python3.7/site-packages (from jsonschema->altair) (1.15.0)\n",
      "Requirement already satisfied: setuptools in /Users/jaredzhao/opt/anaconda3/envs/lux7/lib/python3.7/site-packages (from jsonschema->altair) (47.3.1.post20200622)\n",
      "Requirement already satisfied: MarkupSafe>=0.23 in /Users/jaredzhao/opt/anaconda3/envs/lux7/lib/python3.7/site-packages (from jinja2->altair) (1.1.1)\n",
      "Requirement already satisfied: zipp>=0.5 in /Users/jaredzhao/opt/anaconda3/envs/lux7/lib/python3.7/site-packages (from importlib-metadata; python_version < \"3.8\"->jsonschema->altair) (3.1.0)\n"
     ]
    }
   ],
   "source": [
    "!python3 -m pip install altair"
   ]
  },
  {
   "cell_type": "code",
   "execution_count": 4,
   "metadata": {},
   "outputs": [
    {
     "ename": "ModuleNotFoundError",
     "evalue": "No module named 'altair'",
     "output_type": "error",
     "traceback": [
      "\u001b[0;31m---------------------------------------------------------------------------\u001b[0m",
      "\u001b[0;31mModuleNotFoundError\u001b[0m                       Traceback (most recent call last)",
      "\u001b[0;32m<ipython-input-4-a960ccaa0ff4>\u001b[0m in \u001b[0;36m<module>\u001b[0;34m\u001b[0m\n\u001b[1;32m      1\u001b[0m \u001b[0;32mimport\u001b[0m \u001b[0mpandas\u001b[0m \u001b[0;32mas\u001b[0m \u001b[0mpd\u001b[0m\u001b[0;34m\u001b[0m\u001b[0;34m\u001b[0m\u001b[0m\n\u001b[0;32m----> 2\u001b[0;31m \u001b[0;32mimport\u001b[0m \u001b[0mlux\u001b[0m\u001b[0;34m\u001b[0m\u001b[0;34m\u001b[0m\u001b[0m\n\u001b[0m",
      "\u001b[0;32m~/Development/lux/lux/__init__.py\u001b[0m in \u001b[0;36m<module>\u001b[0;34m\u001b[0m\n\u001b[1;32m      1\u001b[0m \u001b[0;31m# Register the commonly used modules (similar to how pandas does it: https://github.com/pandas-dev/pandas/blob/master/pandas/__init__.py)\u001b[0m\u001b[0;34m\u001b[0m\u001b[0;34m\u001b[0m\u001b[0;34m\u001b[0m\u001b[0m\n\u001b[1;32m      2\u001b[0m \u001b[0;32mfrom\u001b[0m \u001b[0mlux\u001b[0m\u001b[0;34m.\u001b[0m\u001b[0mcontext\u001b[0m\u001b[0;34m.\u001b[0m\u001b[0mSpec\u001b[0m \u001b[0;32mimport\u001b[0m \u001b[0mSpec\u001b[0m\u001b[0;34m\u001b[0m\u001b[0;34m\u001b[0m\u001b[0m\n\u001b[0;32m----> 3\u001b[0;31m \u001b[0;32mfrom\u001b[0m \u001b[0mlux\u001b[0m\u001b[0;34m.\u001b[0m\u001b[0mluxDataFrame\u001b[0m\u001b[0;34m.\u001b[0m\u001b[0mLuxDataframe\u001b[0m \u001b[0;32mimport\u001b[0m \u001b[0mLuxDataFrame\u001b[0m\u001b[0;34m\u001b[0m\u001b[0;34m\u001b[0m\u001b[0m\n\u001b[0m",
      "\u001b[0;32m~/Development/lux/lux/luxDataFrame/__init__.py\u001b[0m in \u001b[0;36m<module>\u001b[0;34m\u001b[0m\n\u001b[1;32m      1\u001b[0m \u001b[0;32mimport\u001b[0m \u001b[0mpandas\u001b[0m \u001b[0;32mas\u001b[0m \u001b[0mpd\u001b[0m\u001b[0;34m\u001b[0m\u001b[0;34m\u001b[0m\u001b[0m\n\u001b[0;32m----> 2\u001b[0;31m \u001b[0;32mfrom\u001b[0m \u001b[0;34m.\u001b[0m\u001b[0mLuxDataframe\u001b[0m \u001b[0;32mimport\u001b[0m \u001b[0mLuxDataFrame\u001b[0m\u001b[0;34m\u001b[0m\u001b[0;34m\u001b[0m\u001b[0m\n\u001b[0m\u001b[1;32m      3\u001b[0m \u001b[0;32mglobal\u001b[0m \u001b[0moriginalDF\u001b[0m\u001b[0;34m;\u001b[0m\u001b[0;34m\u001b[0m\u001b[0;34m\u001b[0m\u001b[0m\n\u001b[1;32m      4\u001b[0m \u001b[0;31m# Keep variable scope of original pandas df\u001b[0m\u001b[0;34m\u001b[0m\u001b[0;34m\u001b[0m\u001b[0;34m\u001b[0m\u001b[0m\n\u001b[1;32m      5\u001b[0m \u001b[0moriginalDF\u001b[0m \u001b[0;34m=\u001b[0m \u001b[0mpd\u001b[0m\u001b[0;34m.\u001b[0m\u001b[0mcore\u001b[0m\u001b[0;34m.\u001b[0m\u001b[0mframe\u001b[0m\u001b[0;34m.\u001b[0m\u001b[0mDataFrame\u001b[0m\u001b[0;34m\u001b[0m\u001b[0;34m\u001b[0m\u001b[0m\n",
      "\u001b[0;32m~/Development/lux/lux/luxDataFrame/LuxDataframe.py\u001b[0m in \u001b[0;36m<module>\u001b[0;34m\u001b[0m\n\u001b[1;32m      2\u001b[0m \u001b[0;32mfrom\u001b[0m \u001b[0mlux\u001b[0m\u001b[0;34m.\u001b[0m\u001b[0mcontext\u001b[0m\u001b[0;34m.\u001b[0m\u001b[0mSpec\u001b[0m \u001b[0;32mimport\u001b[0m \u001b[0mSpec\u001b[0m\u001b[0;34m\u001b[0m\u001b[0;34m\u001b[0m\u001b[0m\n\u001b[1;32m      3\u001b[0m \u001b[0;32mfrom\u001b[0m \u001b[0mlux\u001b[0m\u001b[0;34m.\u001b[0m\u001b[0mview\u001b[0m\u001b[0;34m.\u001b[0m\u001b[0mView\u001b[0m \u001b[0;32mimport\u001b[0m \u001b[0mView\u001b[0m\u001b[0;34m\u001b[0m\u001b[0;34m\u001b[0m\u001b[0m\n\u001b[0;32m----> 4\u001b[0;31m \u001b[0;32mfrom\u001b[0m \u001b[0mlux\u001b[0m\u001b[0;34m.\u001b[0m\u001b[0mview\u001b[0m\u001b[0;34m.\u001b[0m\u001b[0mViewCollection\u001b[0m \u001b[0;32mimport\u001b[0m \u001b[0mViewCollection\u001b[0m\u001b[0;34m\u001b[0m\u001b[0;34m\u001b[0m\u001b[0m\n\u001b[0m\u001b[1;32m      5\u001b[0m \u001b[0;32mfrom\u001b[0m \u001b[0mlux\u001b[0m\u001b[0;34m.\u001b[0m\u001b[0mutils\u001b[0m\u001b[0;34m.\u001b[0m\u001b[0mutils\u001b[0m \u001b[0;32mimport\u001b[0m \u001b[0mcheckImportLuxWidget\u001b[0m\u001b[0;34m\u001b[0m\u001b[0;34m\u001b[0m\u001b[0m\n\u001b[1;32m      6\u001b[0m \u001b[0;31m#import for benchmarking\u001b[0m\u001b[0;34m\u001b[0m\u001b[0;34m\u001b[0m\u001b[0;34m\u001b[0m\u001b[0m\n",
      "\u001b[0;32m~/Development/lux/lux/view/ViewCollection.py\u001b[0m in \u001b[0;36m<module>\u001b[0;34m\u001b[0m\n\u001b[1;32m      1\u001b[0m \u001b[0;32mfrom\u001b[0m \u001b[0m__future__\u001b[0m \u001b[0;32mimport\u001b[0m \u001b[0mannotations\u001b[0m\u001b[0;34m\u001b[0m\u001b[0;34m\u001b[0m\u001b[0m\n\u001b[0;32m----> 2\u001b[0;31m \u001b[0;32mfrom\u001b[0m \u001b[0mlux\u001b[0m\u001b[0;34m.\u001b[0m\u001b[0mvizLib\u001b[0m\u001b[0;34m.\u001b[0m\u001b[0maltair\u001b[0m\u001b[0;34m.\u001b[0m\u001b[0mAltairRenderer\u001b[0m \u001b[0;32mimport\u001b[0m \u001b[0mAltairRenderer\u001b[0m\u001b[0;34m\u001b[0m\u001b[0;34m\u001b[0m\u001b[0m\n\u001b[0m\u001b[1;32m      3\u001b[0m \u001b[0;32mfrom\u001b[0m \u001b[0mlux\u001b[0m\u001b[0;34m.\u001b[0m\u001b[0mutils\u001b[0m\u001b[0;34m.\u001b[0m\u001b[0mutils\u001b[0m \u001b[0;32mimport\u001b[0m \u001b[0mcheckImportLuxWidget\u001b[0m\u001b[0;34m\u001b[0m\u001b[0;34m\u001b[0m\u001b[0m\n\u001b[1;32m      4\u001b[0m \u001b[0;32mfrom\u001b[0m \u001b[0mtyping\u001b[0m \u001b[0;32mimport\u001b[0m \u001b[0mList\u001b[0m\u001b[0;34m,\u001b[0m \u001b[0mUnion\u001b[0m\u001b[0;34m,\u001b[0m \u001b[0mCallable\u001b[0m\u001b[0;34m,\u001b[0m \u001b[0mDict\u001b[0m\u001b[0;34m\u001b[0m\u001b[0;34m\u001b[0m\u001b[0m\n\u001b[1;32m      5\u001b[0m \u001b[0;32mfrom\u001b[0m \u001b[0mlux\u001b[0m\u001b[0;34m.\u001b[0m\u001b[0mview\u001b[0m\u001b[0;34m.\u001b[0m\u001b[0mView\u001b[0m \u001b[0;32mimport\u001b[0m \u001b[0mView\u001b[0m\u001b[0;34m\u001b[0m\u001b[0;34m\u001b[0m\u001b[0m\n",
      "\u001b[0;32m~/Development/lux/lux/vizLib/altair/AltairRenderer.py\u001b[0m in \u001b[0;36m<module>\u001b[0;34m\u001b[0m\n\u001b[1;32m      2\u001b[0m \u001b[0;32mimport\u001b[0m \u001b[0mpandas\u001b[0m \u001b[0;32mas\u001b[0m \u001b[0mpd\u001b[0m\u001b[0;34m\u001b[0m\u001b[0;34m\u001b[0m\u001b[0m\n\u001b[1;32m      3\u001b[0m \u001b[0;32mfrom\u001b[0m \u001b[0mtyping\u001b[0m \u001b[0;32mimport\u001b[0m \u001b[0mCallable\u001b[0m\u001b[0;34m\u001b[0m\u001b[0;34m\u001b[0m\u001b[0m\n\u001b[0;32m----> 4\u001b[0;31m \u001b[0;32mfrom\u001b[0m \u001b[0mlux\u001b[0m\u001b[0;34m.\u001b[0m\u001b[0mvizLib\u001b[0m\u001b[0;34m.\u001b[0m\u001b[0maltair\u001b[0m\u001b[0;34m.\u001b[0m\u001b[0mBarChart\u001b[0m \u001b[0;32mimport\u001b[0m \u001b[0mBarChart\u001b[0m\u001b[0;34m\u001b[0m\u001b[0;34m\u001b[0m\u001b[0m\n\u001b[0m\u001b[1;32m      5\u001b[0m \u001b[0;32mfrom\u001b[0m \u001b[0mlux\u001b[0m\u001b[0;34m.\u001b[0m\u001b[0mvizLib\u001b[0m\u001b[0;34m.\u001b[0m\u001b[0maltair\u001b[0m\u001b[0;34m.\u001b[0m\u001b[0mScatterChart\u001b[0m \u001b[0;32mimport\u001b[0m \u001b[0mScatterChart\u001b[0m\u001b[0;34m\u001b[0m\u001b[0;34m\u001b[0m\u001b[0m\n\u001b[1;32m      6\u001b[0m \u001b[0;32mfrom\u001b[0m \u001b[0mlux\u001b[0m\u001b[0;34m.\u001b[0m\u001b[0mvizLib\u001b[0m\u001b[0;34m.\u001b[0m\u001b[0maltair\u001b[0m\u001b[0;34m.\u001b[0m\u001b[0mLineChart\u001b[0m \u001b[0;32mimport\u001b[0m \u001b[0mLineChart\u001b[0m\u001b[0;34m\u001b[0m\u001b[0;34m\u001b[0m\u001b[0m\n",
      "\u001b[0;32m~/Development/lux/lux/vizLib/altair/BarChart.py\u001b[0m in \u001b[0;36m<module>\u001b[0;34m\u001b[0m\n\u001b[0;32m----> 1\u001b[0;31m \u001b[0;32mfrom\u001b[0m \u001b[0mlux\u001b[0m\u001b[0;34m.\u001b[0m\u001b[0mvizLib\u001b[0m\u001b[0;34m.\u001b[0m\u001b[0maltair\u001b[0m\u001b[0;34m.\u001b[0m\u001b[0mAltairChart\u001b[0m \u001b[0;32mimport\u001b[0m \u001b[0mAltairChart\u001b[0m\u001b[0;34m\u001b[0m\u001b[0;34m\u001b[0m\u001b[0m\n\u001b[0m\u001b[1;32m      2\u001b[0m \u001b[0;32mimport\u001b[0m \u001b[0maltair\u001b[0m \u001b[0;32mas\u001b[0m \u001b[0malt\u001b[0m\u001b[0;34m\u001b[0m\u001b[0;34m\u001b[0m\u001b[0m\n\u001b[1;32m      3\u001b[0m \u001b[0malt\u001b[0m\u001b[0;34m.\u001b[0m\u001b[0mdata_transformers\u001b[0m\u001b[0;34m.\u001b[0m\u001b[0mdisable_max_rows\u001b[0m\u001b[0;34m(\u001b[0m\u001b[0;34m)\u001b[0m\u001b[0;34m\u001b[0m\u001b[0;34m\u001b[0m\u001b[0m\n\u001b[1;32m      4\u001b[0m \u001b[0;32mclass\u001b[0m \u001b[0mBarChart\u001b[0m\u001b[0;34m(\u001b[0m\u001b[0mAltairChart\u001b[0m\u001b[0;34m)\u001b[0m\u001b[0;34m:\u001b[0m\u001b[0;34m\u001b[0m\u001b[0;34m\u001b[0m\u001b[0m\n\u001b[1;32m      5\u001b[0m \t\"\"\"\n",
      "\u001b[0;32m~/Development/lux/lux/vizLib/altair/AltairChart.py\u001b[0m in \u001b[0;36m<module>\u001b[0;34m\u001b[0m\n\u001b[1;32m      1\u001b[0m \u001b[0;32mimport\u001b[0m \u001b[0mpandas\u001b[0m \u001b[0;32mas\u001b[0m \u001b[0mpd\u001b[0m\u001b[0;34m\u001b[0m\u001b[0;34m\u001b[0m\u001b[0m\n\u001b[0;32m----> 2\u001b[0;31m \u001b[0;32mimport\u001b[0m \u001b[0maltair\u001b[0m \u001b[0;32mas\u001b[0m \u001b[0malt\u001b[0m\u001b[0;34m\u001b[0m\u001b[0;34m\u001b[0m\u001b[0m\n\u001b[0m\u001b[1;32m      3\u001b[0m \u001b[0;32mclass\u001b[0m \u001b[0mAltairChart\u001b[0m\u001b[0;34m:\u001b[0m\u001b[0;34m\u001b[0m\u001b[0;34m\u001b[0m\u001b[0m\n\u001b[1;32m      4\u001b[0m \t\"\"\"\n\u001b[1;32m      5\u001b[0m         \u001b[0mAltairChart\u001b[0m \u001b[0;32mis\u001b[0m \u001b[0ma\u001b[0m \u001b[0mrepresentation\u001b[0m \u001b[0mof\u001b[0m \u001b[0ma\u001b[0m \u001b[0mchart\u001b[0m\u001b[0;34m.\u001b[0m\u001b[0;34m\u001b[0m\u001b[0;34m\u001b[0m\u001b[0m\n",
      "\u001b[0;31mModuleNotFoundError\u001b[0m: No module named 'altair'"
     ]
    }
   ],
   "source": [
    "import pandas as pd\n",
    "import lux"
   ]
  },
  {
   "cell_type": "markdown",
   "metadata": {},
   "source": [
    "Load in a dataset of 392 different cars from 1970-1982:"
   ]
  },
  {
   "cell_type": "code",
   "execution_count": null,
   "metadata": {},
   "outputs": [],
   "source": [
    "df = pd.read_csv(\"lux/data/car.csv\")\n",
    "# df.setExecutorType(\"Pandas\")\n",
    "df[\"Year\"] = pd.to_datetime(df[\"Year\"], format='%Y') # change pandas dtype for the column \"Year\" to datetype\n",
    "df.head().toPandas()"
   ]
  },
  {
   "cell_type": "code",
   "execution_count": null,
   "metadata": {
    "scrolled": false
   },
   "outputs": [],
   "source": [
    "df"
   ]
  },
  {
   "cell_type": "markdown",
   "metadata": {},
   "source": [
    "Intuitively, we expect cars with more horsepower means higher acceleration, but we are actually seeing the opposite of that trend.\n",
    "Let's learn more about whether there are additional factors that is affecting this relationship."
   ]
  },
  {
   "cell_type": "code",
   "execution_count": null,
   "metadata": {},
   "outputs": [],
   "source": [
    "df.setContext([lux.Spec(attribute = \"Acceleration\"),lux.Spec(attribute = \"Horsepower\")])\n",
    "df"
   ]
  },
  {
   "cell_type": "markdown",
   "metadata": {},
   "source": [
    "In the cell above, the Enhance shows that for all the added quantitative variables (shown as gradients of color), except MilesPerGal, the trend for the value is higher on the upper-left end, and value decreases towards the bottom-right."
   ]
  },
  {
   "cell_type": "markdown",
   "metadata": {},
   "source": [
    "Let's look at what the MilesPerGal is like for different Cylinder cars."
   ]
  },
  {
   "cell_type": "code",
   "execution_count": null,
   "metadata": {},
   "outputs": [],
   "source": [
    "df.setContext([lux.Spec(attribute = \"Cylinders\"), lux.Spec(attribute = \"MilesPerGal\")])\n",
    "df"
   ]
  },
  {
   "cell_type": "code",
   "execution_count": null,
   "metadata": {},
   "outputs": [],
   "source": [
    "df.setContext([lux.Spec(attribute = \"Origin\")])\n",
    "df"
   ]
  },
  {
   "cell_type": "markdown",
   "metadata": {},
   "source": [
    "The Count distribution shows that there is not a lot of cars with 3 and 5 cylinders, so let's clean the data up to remove those."
   ]
  },
  {
   "cell_type": "code",
   "execution_count": null,
   "metadata": {},
   "outputs": [],
   "source": [
    "df[df[\"Cylinders\"]==3].toPandas()"
   ]
  },
  {
   "cell_type": "code",
   "execution_count": null,
   "metadata": {},
   "outputs": [],
   "source": [
    "df[df[\"Cylinders\"]==5].toPandas()\n"
   ]
  },
  {
   "cell_type": "code",
   "execution_count": null,
   "metadata": {},
   "outputs": [],
   "source": [
    "newdf = df[(df[\"Cylinders\"]!=3) & (df[\"Cylinders\"]!=5)]\n",
    "newdf"
   ]
  },
  {
   "cell_type": "code",
   "execution_count": null,
   "metadata": {},
   "outputs": [],
   "source": []
  },
  {
   "cell_type": "code",
   "execution_count": null,
   "metadata": {},
   "outputs": [],
   "source": []
  }
 ],
 "metadata": {
  "kernelspec": {
   "display_name": "Python 3",
   "language": "python",
   "name": "python3"
  },
  "language_info": {
   "codemirror_mode": {
    "name": "ipython",
    "version": 3
   },
   "file_extension": ".py",
   "mimetype": "text/x-python",
   "name": "python",
   "nbconvert_exporter": "python",
   "pygments_lexer": "ipython3",
   "version": "3.7.7"
  }
 },
 "nbformat": 4,
 "nbformat_minor": 4
}
